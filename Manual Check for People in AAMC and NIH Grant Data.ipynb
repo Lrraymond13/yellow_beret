{
 "cells": [
  {
   "cell_type": "code",
   "execution_count": null,
   "metadata": {
    "collapsed": false
   },
   "outputs": [],
   "source": [
    "import numpy as np\n",
    "import pandas as pd\n",
    "import os"
   ]
  },
  {
   "cell_type": "code",
   "execution_count": null,
   "metadata": {
    "collapsed": false
   },
   "outputs": [],
   "source": [
    "from dev import AAMC_DATA_DIR, APP_DATA_DIR, GRANT_DATA_DIR"
   ]
  },
  {
   "cell_type": "code",
   "execution_count": null,
   "metadata": {
    "collapsed": false
   },
   "outputs": [],
   "source": [
    "# import NIH grant and stars data\n",
    "grant_data = pd.read_stata(os.path.join(GRANT_DATA_DIR, 'grant_data.dta'))\n",
    "stars_data = pd.read_stata(os.path.join(GRANT_DATA_DIR, 'stars_data.dta'))\n",
    "grant_data.columns = map(lambda x: x.lower(), grant_data.columns)\n",
    "stars_data.columns = map(lambda x: x.lower(), stars_data.columns)"
   ]
  },
  {
   "cell_type": "code",
   "execution_count": null,
   "metadata": {
    "collapsed": false
   },
   "outputs": [],
   "source": [
    "# import aamc data file\n",
    "aamc = pd.read_csv(os.path.join(AAMC_DATA_DIR, 'aamc_deduped_raw.csv'))"
   ]
  },
  {
   "cell_type": "code",
   "execution_count": null,
   "metadata": {
    "collapsed": false
   },
   "outputs": [],
   "source": [
    "lname = 'Thames'\n",
    "mname = 'D.'\n",
    "fname = 'Marcus'\n",
    "aamc_lname = lname.upper()\n",
    "aamc_fname = fname.upper()"
   ]
  },
  {
   "cell_type": "code",
   "execution_count": null,
   "metadata": {
    "collapsed": false
   },
   "outputs": [],
   "source": [
    "# check for aamc data for people\n",
    "aamc.loc[(aamc.clean_last_name==aamc_lname)]\n",
    "# aamc.loc[(aamc.clean_last_name==aamc_lname) & (aamc.clean_first_name==aamc_fname)]"
   ]
  },
  {
   "cell_type": "code",
   "execution_count": null,
   "metadata": {
    "collapsed": false
   },
   "outputs": [],
   "source": [
    "stars_data.loc[stars_data['last']==lname]"
   ]
  },
  {
   "cell_type": "code",
   "execution_count": null,
   "metadata": {
    "collapsed": false
   },
   "outputs": [],
   "source": [
    "grant_data.loc[(grant_data['last']==lname) & (grant_data['first']==fname), 'fullname'].unique()\n",
    "# grant_data.loc[(grant_data['last']==lname), 'fullname'].unique()"
   ]
  },
  {
   "cell_type": "code",
   "execution_count": null,
   "metadata": {
    "collapsed": false,
    "scrolled": false
   },
   "outputs": [],
   "source": [
    "# grant_data.loc[(grant_data['last']==lname) & (grant_data['first']==fname) & (grant_data['middle']==mname),:]\n",
    "grant_data.loc[(grant_data['last']==lname) & (grant_data['first']==fname),:]\n",
    "# grant_data.loc[(grant_data['last']==lname),:]"
   ]
  },
  {
   "cell_type": "code",
   "execution_count": null,
   "metadata": {
    "collapsed": false
   },
   "outputs": [],
   "source": []
  }
 ],
 "metadata": {
  "kernelspec": {
   "display_name": "Python 2",
   "language": "python",
   "name": "python2"
  },
  "language_info": {
   "codemirror_mode": {
    "name": "ipython",
    "version": 2
   },
   "file_extension": ".py",
   "mimetype": "text/x-python",
   "name": "python",
   "nbconvert_exporter": "python",
   "pygments_lexer": "ipython2",
   "version": "2.7.12"
  }
 },
 "nbformat": 4,
 "nbformat_minor": 1
}
