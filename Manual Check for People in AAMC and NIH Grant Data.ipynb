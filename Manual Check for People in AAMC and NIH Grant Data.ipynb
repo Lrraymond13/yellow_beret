{
 "cells": [
  {
   "cell_type": "code",
   "execution_count": 1,
   "metadata": {
    "collapsed": true
   },
   "outputs": [],
   "source": [
    "import numpy as np\n",
    "import pandas as pd\n",
    "import os"
   ]
  },
  {
   "cell_type": "code",
   "execution_count": 2,
   "metadata": {
    "collapsed": true
   },
   "outputs": [],
   "source": [
    "from dev import AAMC_DATA_DIR, APP_DATA_DIR, GRANT_DATA_DIR"
   ]
  },
  {
   "cell_type": "code",
   "execution_count": 3,
   "metadata": {
    "collapsed": false
   },
   "outputs": [],
   "source": [
    "# import NIH grant and stars data\n",
    "grant_data = pd.read_stata(os.path.join(GRANT_DATA_DIR, 'grant_data.dta'))\n",
    "stars_data = pd.read_stata(os.path.join(GRANT_DATA_DIR, 'stars_data.dta'))\n",
    "grant_data.columns = map(lambda x: x.lower(), grant_data.columns)\n",
    "stars_data.columns = map(lambda x: x.lower(), stars_data.columns)"
   ]
  },
  {
   "cell_type": "code",
   "execution_count": 4,
   "metadata": {
    "collapsed": true
   },
   "outputs": [],
   "source": [
    "# import aamc data file\n",
    "aamc = pd.read_csv(os.path.join(AAMC_DATA_DIR, 'aamc_deduped_raw.csv'))"
   ]
  },
  {
   "cell_type": "code",
   "execution_count": 25,
   "metadata": {
    "collapsed": false
   },
   "outputs": [],
   "source": [
    "lname = 'Thames'\n",
    "mname = 'D.'\n",
    "fname = 'Marcus'\n",
    "aamc_lname = lname.upper()\n",
    "aamc_fname = fname.upper()"
   ]
  },
  {
   "cell_type": "code",
   "execution_count": 26,
   "metadata": {
    "collapsed": false
   },
   "outputs": [
    {
     "data": {
      "text/html": [
       "<div>\n",
       "<table border=\"1\" class=\"dataframe\">\n",
       "  <thead>\n",
       "    <tr style=\"text-align: right;\">\n",
       "      <th></th>\n",
       "      <th>Unnamed: 0</th>\n",
       "      <th>aamc_id</th>\n",
       "      <th>aamc_id_2</th>\n",
       "      <th>birth_country_cd</th>\n",
       "      <th>birth_country_desc</th>\n",
       "      <th>birth_dt</th>\n",
       "      <th>birth_state_cd</th>\n",
       "      <th>clean_first_name</th>\n",
       "      <th>clean_last_name</th>\n",
       "      <th>clean_middle_initial</th>\n",
       "      <th>...</th>\n",
       "      <th>degree_country_1</th>\n",
       "      <th>degree_inst_1_desc</th>\n",
       "      <th>degree_type</th>\n",
       "      <th>degree_year_1</th>\n",
       "      <th>fname</th>\n",
       "      <th>ident_cat_desc</th>\n",
       "      <th>lname</th>\n",
       "      <th>mname</th>\n",
       "      <th>suffix_cd</th>\n",
       "      <th>yobb</th>\n",
       "    </tr>\n",
       "  </thead>\n",
       "  <tbody>\n",
       "    <tr>\n",
       "      <th>36456</th>\n",
       "      <td>2436</td>\n",
       "      <td>10813472</td>\n",
       "      <td>NaN</td>\n",
       "      <td>NaN</td>\n",
       "      <td>NaN</td>\n",
       "      <td>09/25/1944</td>\n",
       "      <td>NaN</td>\n",
       "      <td>MARC</td>\n",
       "      <td>THAMES</td>\n",
       "      <td>NaN</td>\n",
       "      <td>...</td>\n",
       "      <td>NaN</td>\n",
       "      <td>NaN</td>\n",
       "      <td>MD</td>\n",
       "      <td>1962.0</td>\n",
       "      <td>Marc</td>\n",
       "      <td>WHITE</td>\n",
       "      <td>Thames</td>\n",
       "      <td>NaN</td>\n",
       "      <td>NaN</td>\n",
       "      <td>1944.0</td>\n",
       "    </tr>\n",
       "  </tbody>\n",
       "</table>\n",
       "<p>1 rows × 21 columns</p>\n",
       "</div>"
      ],
      "text/plain": [
       "       Unnamed: 0   aamc_id  aamc_id_2 birth_country_cd birth_country_desc  \\\n",
       "36456        2436  10813472        NaN              NaN                NaN   \n",
       "\n",
       "         birth_dt birth_state_cd clean_first_name clean_last_name  \\\n",
       "36456  09/25/1944            NaN             MARC          THAMES   \n",
       "\n",
       "      clean_middle_initial   ...   degree_country_1 degree_inst_1_desc  \\\n",
       "36456                  NaN   ...                NaN                NaN   \n",
       "\n",
       "      degree_type degree_year_1  fname ident_cat_desc   lname mname suffix_cd  \\\n",
       "36456          MD        1962.0   Marc          WHITE  Thames   NaN       NaN   \n",
       "\n",
       "         yobb  \n",
       "36456  1944.0  \n",
       "\n",
       "[1 rows x 21 columns]"
      ]
     },
     "execution_count": 26,
     "metadata": {},
     "output_type": "execute_result"
    }
   ],
   "source": [
    "# check for aamc data for people\n",
    "aamc.loc[(aamc.clean_last_name==aamc_lname)]\n",
    "# aamc.loc[(aamc.clean_last_name==aamc_lname) & (aamc.clean_first_name==aamc_fname)]"
   ]
  },
  {
   "cell_type": "code",
   "execution_count": 21,
   "metadata": {
    "collapsed": false
   },
   "outputs": [
    {
     "data": {
      "text/html": [
       "<div>\n",
       "<table border=\"1\" class=\"dataframe\">\n",
       "  <thead>\n",
       "    <tr style=\"text-align: right;\">\n",
       "      <th></th>\n",
       "      <th>newsetnb</th>\n",
       "      <th>fullname</th>\n",
       "      <th>first</th>\n",
       "      <th>middle</th>\n",
       "      <th>last</th>\n",
       "      <th>suffix</th>\n",
       "      <th>star_yob</th>\n",
       "      <th>star_yod</th>\n",
       "      <th>deg</th>\n",
       "      <th>mdyear</th>\n",
       "      <th>phdyear</th>\n",
       "      <th>exit</th>\n",
       "      <th>main_dept</th>\n",
       "    </tr>\n",
       "  </thead>\n",
       "  <tbody>\n",
       "  </tbody>\n",
       "</table>\n",
       "</div>"
      ],
      "text/plain": [
       "Empty DataFrame\n",
       "Columns: [newsetnb, fullname, first, middle, last, suffix, star_yob, star_yod, deg, mdyear, phdyear, exit, main_dept]\n",
       "Index: []"
      ]
     },
     "execution_count": 21,
     "metadata": {},
     "output_type": "execute_result"
    }
   ],
   "source": [
    "stars_data.loc[stars_data['last']==lname]"
   ]
  },
  {
   "cell_type": "code",
   "execution_count": 22,
   "metadata": {
    "collapsed": false
   },
   "outputs": [
    {
     "data": {
      "text/plain": [
       "array([], dtype=object)"
      ]
     },
     "execution_count": 22,
     "metadata": {},
     "output_type": "execute_result"
    }
   ],
   "source": [
    "grant_data.loc[(grant_data['last']==lname) & (grant_data['first']==fname), 'fullname'].unique()\n",
    "# grant_data.loc[(grant_data['last']==lname), 'fullname'].unique()"
   ]
  },
  {
   "cell_type": "code",
   "execution_count": 24,
   "metadata": {
    "collapsed": false,
    "scrolled": true
   },
   "outputs": [
    {
     "data": {
      "text/html": [
       "<div>\n",
       "<table border=\"1\" class=\"dataframe\">\n",
       "  <thead>\n",
       "    <tr style=\"text-align: right;\">\n",
       "      <th></th>\n",
       "      <th>newsetnb</th>\n",
       "      <th>year</th>\n",
       "      <th>fullname</th>\n",
       "      <th>type</th>\n",
       "      <th>first</th>\n",
       "      <th>middle</th>\n",
       "      <th>last</th>\n",
       "      <th>suffix</th>\n",
       "      <th>activity</th>\n",
       "      <th>ptitle</th>\n",
       "      <th>...</th>\n",
       "      <th>apptype</th>\n",
       "      <th>grantno</th>\n",
       "      <th>deptname</th>\n",
       "      <th>ipfcode</th>\n",
       "      <th>deg1</th>\n",
       "      <th>deg2</th>\n",
       "      <th>deg_cgaf</th>\n",
       "      <th>mdyear</th>\n",
       "      <th>phdyear</th>\n",
       "      <th>hphdyear</th>\n",
       "    </tr>\n",
       "  </thead>\n",
       "  <tbody>\n",
       "  </tbody>\n",
       "</table>\n",
       "<p>0 rows × 21 columns</p>\n",
       "</div>"
      ],
      "text/plain": [
       "Empty DataFrame\n",
       "Columns: [newsetnb, year, fullname, type, first, middle, last, suffix, activity, ptitle, ic, apptype, grantno, deptname, ipfcode, deg1, deg2, deg_cgaf, mdyear, phdyear, hphdyear]\n",
       "Index: []\n",
       "\n",
       "[0 rows x 21 columns]"
      ]
     },
     "execution_count": 24,
     "metadata": {},
     "output_type": "execute_result"
    }
   ],
   "source": [
    "# grant_data.loc[(grant_data['last']==lname) & (grant_data['first']==fname) & (grant_data['middle']==mname),:]\n",
    "grant_data.loc[(grant_data['last']==lname) & (grant_data['first']==fname),:]\n",
    "# grant_data.loc[(grant_data['last']==lname),:]"
   ]
  },
  {
   "cell_type": "code",
   "execution_count": null,
   "metadata": {
    "collapsed": true
   },
   "outputs": [],
   "source": []
  }
 ],
 "metadata": {
  "kernelspec": {
   "display_name": "Python 2",
   "language": "python",
   "name": "python2"
  },
  "language_info": {
   "codemirror_mode": {
    "name": "ipython",
    "version": 2
   },
   "file_extension": ".py",
   "mimetype": "text/x-python",
   "name": "python",
   "nbconvert_exporter": "python",
   "pygments_lexer": "ipython2",
   "version": "2.7.12"
  }
 },
 "nbformat": 4,
 "nbformat_minor": 1
}
