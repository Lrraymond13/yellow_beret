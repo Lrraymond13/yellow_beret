{
 "cells": [
  {
   "cell_type": "code",
   "execution_count": 1,
   "metadata": {
    "collapsed": true
   },
   "outputs": [],
   "source": [
    "# a place to keep track of all corrections for each person accumulated through manual searches\n",
    "# also merges in spreadsheet 'control_group_corrections.xlsx' with list of people who should not\n",
    "# be in the control group and their imputed eod year"
   ]
  },
  {
   "cell_type": "code",
   "execution_count": 13,
   "metadata": {
    "collapsed": true
   },
   "outputs": [],
   "source": [
    "import pandas as pd\n",
    "import numpy as np\n",
    "import os\n",
    "import funcy\n",
    "\n",
    "from dev import CORRECTIONS_DIR, APP_DATA_DIR, NAME_COLS"
   ]
  },
  {
   "cell_type": "code",
   "execution_count": 53,
   "metadata": {
    "collapsed": true
   },
   "outputs": [],
   "source": [
    "# relevant filenames\n",
    "dataset_filename = 'NIH_AAMC_index_cards_grant_standardized.csv'\n",
    "control_corrections_filename = 'control_group_corrections.xlsx'"
   ]
  },
  {
   "cell_type": "code",
   "execution_count": 54,
   "metadata": {
    "collapsed": false
   },
   "outputs": [
    {
     "name": "stderr",
     "output_type": "stream",
     "text": [
      "/home/lraymond/MIT/Azoulay_2016/yellow_berets/yb/local/lib/python2.7/site-packages/IPython/core/interactiveshell.py:2717: DtypeWarning: Columns (7,37,39,40,41,43,44,50,61,62,64,101,102) have mixed types. Specify dtype option on import or set low_memory=False.\n",
      "  interactivity=interactivity, compiler=compiler, result=result)\n"
     ]
    }
   ],
   "source": [
    "dataset_df = pd.read_csv(os.path.join(APP_DATA_DIR, dataset_filename))\n",
    "corrections_df = pd.read_excel(os.path.join(CORRECTIONS_DIR, control_corrections_filename))"
   ]
  },
  {
   "cell_type": "code",
   "execution_count": 55,
   "metadata": {
    "collapsed": false
   },
   "outputs": [],
   "source": [
    "# get rid of excel blank lines\n",
    "corrections_df = corrections_df[~pd.isnull(corrections_df['first_name'])]"
   ]
  },
  {
   "cell_type": "code",
   "execution_count": 63,
   "metadata": {
    "collapsed": true
   },
   "outputs": [],
   "source": [
    "corrections_df = corrections_df.rename(columns={\n",
    "        'first_name': 'clean_first_name',\n",
    "        'middle_name': 'clean_middle_name',\n",
    "        'last_name': 'clean_last_name'})"
   ]
  },
  {
   "cell_type": "code",
   "execution_count": 64,
   "metadata": {
    "collapsed": false
   },
   "outputs": [
    {
     "data": {
      "text/html": [
       "<div>\n",
       "<table border=\"1\" class=\"dataframe\">\n",
       "  <thead>\n",
       "    <tr style=\"text-align: right;\">\n",
       "      <th></th>\n",
       "      <th>clean_first_name</th>\n",
       "      <th>clean_middle_name</th>\n",
       "      <th>clean_last_name</th>\n",
       "      <th>application_year</th>\n",
       "      <th>directory_year</th>\n",
       "      <th>internship_year</th>\n",
       "      <th>residency_year</th>\n",
       "      <th>confirmed_NIH</th>\n",
       "      <th>imputed_directory_match</th>\n",
       "      <th>imputed_eod_year</th>\n",
       "    </tr>\n",
       "  </thead>\n",
       "  <tbody>\n",
       "    <tr>\n",
       "      <th>0</th>\n",
       "      <td>BRETT</td>\n",
       "      <td>JOHN</td>\n",
       "      <td>GERSTENHABER</td>\n",
       "      <td>1971</td>\n",
       "      <td>1973</td>\n",
       "      <td>1971-1972</td>\n",
       "      <td>1972-1973</td>\n",
       "      <td>LIKELY</td>\n",
       "      <td>1</td>\n",
       "      <td>1973.0</td>\n",
       "    </tr>\n",
       "    <tr>\n",
       "      <th>1</th>\n",
       "      <td>PETER</td>\n",
       "      <td>LLOYD</td>\n",
       "      <td>GROSS</td>\n",
       "      <td>1970</td>\n",
       "      <td>1971-1972</td>\n",
       "      <td>1970-1971</td>\n",
       "      <td>1975</td>\n",
       "      <td>LIKELY</td>\n",
       "      <td>1</td>\n",
       "      <td>1971.0</td>\n",
       "    </tr>\n",
       "    <tr>\n",
       "      <th>2</th>\n",
       "      <td>ROBERT</td>\n",
       "      <td>STEPHEN</td>\n",
       "      <td>KATZ</td>\n",
       "      <td>1970</td>\n",
       "      <td>1972-1973</td>\n",
       "      <td>1970-1971</td>\n",
       "      <td>1971-1972</td>\n",
       "      <td>LIKELY</td>\n",
       "      <td>1</td>\n",
       "      <td>1972.0</td>\n",
       "    </tr>\n",
       "    <tr>\n",
       "      <th>3</th>\n",
       "      <td>BARRY</td>\n",
       "      <td>JOSHUA</td>\n",
       "      <td>KEMLER</td>\n",
       "      <td>1972</td>\n",
       "      <td>1975</td>\n",
       "      <td>1972</td>\n",
       "      <td>1973</td>\n",
       "      <td>LIKELY</td>\n",
       "      <td>1</td>\n",
       "      <td>1975.0</td>\n",
       "    </tr>\n",
       "    <tr>\n",
       "      <th>4</th>\n",
       "      <td>ROBERT</td>\n",
       "      <td>EDWARD</td>\n",
       "      <td>GERHARDT</td>\n",
       "      <td>1970</td>\n",
       "      <td>1971-1972</td>\n",
       "      <td>1970-1971</td>\n",
       "      <td>1971-1972</td>\n",
       "      <td>NO</td>\n",
       "      <td>0</td>\n",
       "      <td>NaN</td>\n",
       "    </tr>\n",
       "  </tbody>\n",
       "</table>\n",
       "</div>"
      ],
      "text/plain": [
       "  clean_first_name clean_middle_name clean_last_name application_year  \\\n",
       "0            BRETT              JOHN    GERSTENHABER             1971   \n",
       "1            PETER             LLOYD           GROSS             1970   \n",
       "2           ROBERT           STEPHEN            KATZ             1970   \n",
       "3            BARRY            JOSHUA          KEMLER             1972   \n",
       "4           ROBERT            EDWARD        GERHARDT             1970   \n",
       "\n",
       "  directory_year internship_year residency_year confirmed_NIH  \\\n",
       "0           1973       1971-1972      1972-1973        LIKELY   \n",
       "1      1971-1972       1970-1971           1975        LIKELY   \n",
       "2      1972-1973       1970-1971      1971-1972        LIKELY   \n",
       "3           1975            1972           1973        LIKELY   \n",
       "4      1971-1972       1970-1971      1971-1972            NO   \n",
       "\n",
       "   imputed_directory_match  imputed_eod_year  \n",
       "0                        1            1973.0  \n",
       "1                        1            1971.0  \n",
       "2                        1            1972.0  \n",
       "3                        1            1975.0  \n",
       "4                        0               NaN  "
      ]
     },
     "execution_count": 64,
     "metadata": {},
     "output_type": "execute_result"
    }
   ],
   "source": [
    "corrections_df.head()"
   ]
  },
  {
   "cell_type": "code",
   "execution_count": 66,
   "metadata": {
    "collapsed": false
   },
   "outputs": [
    {
     "name": "stdout",
     "output_type": "stream",
     "text": [
      "(33, 10)\n",
      "(4106, 151)\n"
     ]
    }
   ],
   "source": [
    "print corrections_df.shape\n",
    "dataset_df2 = pd.merge(\n",
    "    left=dataset_df, right=corrections_df[\n",
    "        NAME_COLS+['imputed_directory_match', 'imputed_eod_year']],\n",
    "        on=NAME_COLS, how='left')\n",
    "print dataset_df2.shape"
   ]
  },
  {
   "cell_type": "code",
   "execution_count": 68,
   "metadata": {
    "collapsed": false
   },
   "outputs": [],
   "source": [
    "missing = corrections_df.loc[~corrections_df['clean_last_name'].isin(dataset_df2['clean_last_name'])]"
   ]
  },
  {
   "cell_type": "code",
   "execution_count": 69,
   "metadata": {
    "collapsed": false
   },
   "outputs": [
    {
     "data": {
      "text/html": [
       "<div>\n",
       "<table border=\"1\" class=\"dataframe\">\n",
       "  <thead>\n",
       "    <tr style=\"text-align: right;\">\n",
       "      <th></th>\n",
       "      <th>clean_first_name</th>\n",
       "      <th>clean_middle_name</th>\n",
       "      <th>clean_last_name</th>\n",
       "      <th>application_year</th>\n",
       "      <th>directory_year</th>\n",
       "      <th>internship_year</th>\n",
       "      <th>residency_year</th>\n",
       "      <th>confirmed_NIH</th>\n",
       "      <th>imputed_directory_match</th>\n",
       "      <th>imputed_eod_year</th>\n",
       "    </tr>\n",
       "  </thead>\n",
       "  <tbody>\n",
       "  </tbody>\n",
       "</table>\n",
       "</div>"
      ],
      "text/plain": [
       "Empty DataFrame\n",
       "Columns: [clean_first_name, clean_middle_name, clean_last_name, application_year, directory_year, internship_year, residency_year, confirmed_NIH, imputed_directory_match, imputed_eod_year]\n",
       "Index: []"
      ]
     },
     "execution_count": 69,
     "metadata": {},
     "output_type": "execute_result"
    }
   ],
   "source": [
    "missing.head()"
   ]
  },
  {
   "cell_type": "code",
   "execution_count": 70,
   "metadata": {
    "collapsed": false
   },
   "outputs": [],
   "source": [
    "# for all people now excluded from the control, change control variable to 0 and update their eod year\n",
    "imputed_treatment_mask = dataset_df2['imputed_directory_match']==1\n",
    "dataset_df2.loc[imputed_treatment_mask, 'control_flag'] = 0\n",
    "dataset_df2.loc[imputed_treatment_mask, 'eod_year'] =  dataset_df2.loc[imputed_treatment_mask, 'imputed_eod_year']\n"
   ]
  },
  {
   "cell_type": "code",
   "execution_count": 74,
   "metadata": {
    "collapsed": true
   },
   "outputs": [],
   "source": [
    "# other corrections"
   ]
  },
  {
   "cell_type": "code",
   "execution_count": null,
   "metadata": {
    "collapsed": true
   },
   "outputs": [],
   "source": [
    "# Brooks J Crawford should be J Brooks Crawford\n"
   ]
  }
 ],
 "metadata": {
  "kernelspec": {
   "display_name": "Python 2",
   "language": "python",
   "name": "python2"
  },
  "language_info": {
   "codemirror_mode": {
    "name": "ipython",
    "version": 2
   },
   "file_extension": ".py",
   "mimetype": "text/x-python",
   "name": "python",
   "nbconvert_exporter": "python",
   "pygments_lexer": "ipython2",
   "version": "2.7.12"
  }
 },
 "nbformat": 4,
 "nbformat_minor": 1
}
