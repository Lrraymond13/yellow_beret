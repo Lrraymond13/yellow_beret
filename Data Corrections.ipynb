{
 "cells": [
  {
   "cell_type": "code",
   "execution_count": null,
   "metadata": {
    "collapsed": false
   },
   "outputs": [],
   "source": [
    "# a place to keep track of all corrections for each person accumulated through manual searches\n",
    "# also merges in spreadsheet 'control_group_corrections.xlsx' with list of people who should not\n",
    "# be in the control group and their imputed eod year"
   ]
  },
  {
   "cell_type": "code",
   "execution_count": null,
   "metadata": {
    "collapsed": false
   },
   "outputs": [],
   "source": [
    "import pandas as pd\n",
    "import numpy as np\n",
    "import os\n",
    "import funcy\n",
    "\n",
    "from dev import CORRECTIONS_DIR, APP_DATA_DIR, NAME_COLS"
   ]
  },
  {
   "cell_type": "code",
   "execution_count": null,
   "metadata": {
    "collapsed": false
   },
   "outputs": [],
   "source": [
    "# relevant filenames\n",
    "dataset_filename = 'NIH_AAMC_index_cards_grant_standardized.csv'\n",
    "control_corrections_filename = 'control_group_corrections.xlsx'"
   ]
  },
  {
   "cell_type": "code",
   "execution_count": null,
   "metadata": {
    "collapsed": false
   },
   "outputs": [],
   "source": [
    "dataset_df = pd.read_csv(os.path.join(APP_DATA_DIR, dataset_filename))\n",
    "corrections_df = pd.read_excel(os.path.join(CORRECTIONS_DIR, control_corrections_filename))"
   ]
  },
  {
   "cell_type": "code",
   "execution_count": null,
   "metadata": {
    "collapsed": false
   },
   "outputs": [],
   "source": [
    "# get rid of excel blank lines\n",
    "corrections_df = corrections_df[~pd.isnull(corrections_df['first_name'])]"
   ]
  },
  {
   "cell_type": "code",
   "execution_count": null,
   "metadata": {
    "collapsed": false
   },
   "outputs": [],
   "source": [
    "corrections_df = corrections_df.rename(columns={\n",
    "        'first_name': 'clean_first_name',\n",
    "        'middle_name': 'clean_middle_name',\n",
    "        'last_name': 'clean_last_name'})"
   ]
  },
  {
   "cell_type": "code",
   "execution_count": null,
   "metadata": {
    "collapsed": false
   },
   "outputs": [],
   "source": [
    "print corrections_df.shape\n",
    "dataset_df2 = pd.merge(\n",
    "    left=dataset_df, right=corrections_df[\n",
    "        NAME_COLS+['imputed_directory_match', 'imputed_eod_year']],\n",
    "        on=NAME_COLS, how='left')\n",
    "print dataset_df2.shape"
   ]
  },
  {
   "cell_type": "code",
   "execution_count": null,
   "metadata": {
    "collapsed": false
   },
   "outputs": [],
   "source": [
    "missing = corrections_df.loc[~corrections_df['clean_last_name'].isin(dataset_df2['clean_last_name'])]\n",
    "print missing.shape"
   ]
  },
  {
   "cell_type": "code",
   "execution_count": null,
   "metadata": {
    "collapsed": false
   },
   "outputs": [],
   "source": [
    "# for all people now excluded from the control, change control variable to 0 and update their eod year\n",
    "imputed_treatment_mask = dataset_df2['imputed_directory_match']==1\n",
    "dataset_df2.loc[imputed_treatment_mask, 'control_flag'] = 0\n",
    "dataset_df2.loc[imputed_treatment_mask, 'eod_year'] =  dataset_df2.loc[imputed_treatment_mask, 'imputed_eod_year']\n"
   ]
  },
  {
   "cell_type": "code",
   "execution_count": null,
   "metadata": {
    "collapsed": false
   },
   "outputs": [],
   "source": [
    "# other corrections\n",
    "# replace nonsensical year grad values\n",
    "dataset_df2.medschool_year_grad.replace({15232: 1972, 11969: 1969}, inplace=True)"
   ]
  },
  {
   "cell_type": "code",
   "execution_count": null,
   "metadata": {
    "collapsed": false
   },
   "outputs": [],
   "source": [
    "def consolidate_row()"
   ]
  },
  {
   "cell_type": "code",
   "execution_count": null,
   "metadata": {
    "collapsed": false
   },
   "outputs": [],
   "source": [
    "def choose_nonnull(array):\n",
    "    nonnulls = array[~pd.isnull(array)]\n",
    "    if nonnulls.shape[0] == 0:\n",
    "        return np.nan\n",
    "    return nonnulls[0]"
   ]
  },
  {
   "cell_type": "code",
   "execution_count": null,
   "metadata": {
    "collapsed": false
   },
   "outputs": [],
   "source": [
    "def consolidate_rows(uuids_to_merge):\n",
    "    # consolidate rows that are really the same person\n",
    "    v = choose_nonnull(uuids_to_merge.values)\n",
    "    return np.array([v]*len(uuids_to_merge.values))"
   ]
  },
  {
   "cell_type": "code",
   "execution_count": null,
   "metadata": {
    "collapsed": false
   },
   "outputs": [],
   "source": [
    "consolidate_rows(df['dno'])"
   ]
  },
  {
   "cell_type": "code",
   "execution_count": null,
   "metadata": {
    "collapsed": false
   },
   "outputs": [],
   "source": [
    "df = dataset_df2.loc[dataset_df2.clean_last_name=='CRAWFORD']"
   ]
  },
  {
   "cell_type": "code",
   "execution_count": null,
   "metadata": {
    "collapsed": false
   },
   "outputs": [],
   "source": [
    "dataset_df2.loc[dataset_df2.clean_last_name=='CRAWFORD'].apply(consolidate_rows, axis=0)"
   ]
  },
  {
   "cell_type": "code",
   "execution_count": null,
   "metadata": {
    "collapsed": false
   },
   "outputs": [],
   "source": [
    "a[~np.isnan(a)].shape"
   ]
  },
  {
   "cell_type": "code",
   "execution_count": null,
   "metadata": {
    "collapsed": false
   },
   "outputs": [],
   "source": [
    "# Brooks J Crawford should be J Brooks Crawford\n",
    "# Claude J Bennett should be J. Claude Bennett\n",
    "# need to write a fnc that consolidates two columns\n"
   ]
  }
 ],
 "metadata": {
  "kernelspec": {
   "display_name": "Python 2",
   "language": "python",
   "name": "python2"
  },
  "language_info": {
   "codemirror_mode": {
    "name": "ipython",
    "version": 2
   },
   "file_extension": ".py",
   "mimetype": "text/x-python",
   "name": "python",
   "nbconvert_exporter": "python",
   "pygments_lexer": "ipython2",
   "version": "2.7.10"
  }
 },
 "nbformat": 4,
 "nbformat_minor": 1
}
