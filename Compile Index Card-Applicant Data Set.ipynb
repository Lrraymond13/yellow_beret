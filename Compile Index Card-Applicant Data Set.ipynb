{
 "cells": [
  {
   "cell_type": "code",
   "execution_count": 1,
   "metadata": {
    "collapsed": true
   },
   "outputs": [],
   "source": [
    "import difflib\n",
    "import itertools\n",
    "import pandas as pd\n",
    "from collections import Counter\n",
    "import numpy as np\n",
    "import string\n",
    "import funcy\n",
    "import re\n",
    "import os\n",
    "import uuid\n",
    "import math"
   ]
  },
  {
   "cell_type": "code",
   "execution_count": 2,
   "metadata": {
    "collapsed": false
   },
   "outputs": [
    {
     "name": "stdout",
     "output_type": "stream",
     "text": [
      "~/Dropbox (MIT)/yellowberets/lindsey/intermediate_data/applicants_data/raw_card_data\n"
     ]
    }
   ],
   "source": [
    "APP_DATA_DIR = '~/Dropbox (MIT)/yellowberets/lindsey/intermediate_data/applicants_data'\n",
    "ATT_DATA_DIR = '~/Dropbox (MIT)/yellowberets/lindsey/intermediate_data/attendees_data'\n",
    "RAW_ATT_DATA_DIR = '~/Dropbox (MIT)/yellowberets/lindsey/intermediate_data/attendees_data/raw_NIH_data'\n",
    "CARD_DATA_DIR = '~/Dropbox (MIT)/yellowberets/lindsey/intermediate_data/applicants_data/raw_card_data'\n",
    "SUM_STAT_DIR = '~/Dropbox (MIT)/yellowberets/lindsey/intermediate_data/summary stats/raw'\n",
    "print CARD_DATA_DIR\n",
    "\n",
    "r1_file = 'App card info spreadsheet_delaney.xlsx'\n",
    "r2_file = 'App card info spreadsheet SavedDJH2.xlsx'\n",
    "r3_file = 'App card_last484 (1).xlsx'\n",
    "\n",
    "\n",
    "CLEAN_NAMES = ['clean_first_name', 'clean_middle_name', 'clean_last_name']\n",
    "NAMES = ['first_name', 'middle_name', 'last_name']\n",
    "PERSONAL_INFO = [\n",
    "    'clean_first_name', 'clean_last_name', 'clean_middle_name',\n",
    "    'date_of_birth', 'medical_school', 'clean_college_trans']\n",
    "\n",
    "AWARDS_KEYWORDS = ['HONORS', 'AWARD', 'HONOR', 'SOCIETY', 'SCHOLAR', 'AOA', 'PME', 'FNHS', 'ODK']"
   ]
  },
  {
   "cell_type": "code",
   "execution_count": 3,
   "metadata": {
    "collapsed": false
   },
   "outputs": [
    {
     "name": "stdout",
     "output_type": "stream",
     "text": [
      "Extra r1 columns\n",
      "set([u'Sixth', u'Internship Hospital 1', u'Fifth', u'Internship Year(s)'])\n",
      "Extra r2 columns\n",
      "set([u'Intership Year(s)', u'Intership Hospital 1'])\n"
     ]
    }
   ],
   "source": [
    "r1 = pd.read_excel(os.path.join(CARD_DATA_DIR, r1_file), skiprows=1)\n",
    "r2 = pd.read_excel(os.path.join(CARD_DATA_DIR, r2_file), skiprows=1)\n",
    "r3 = pd.read_excel(os.path.join(CARD_DATA_DIR, r3_file), skiprows=1)\n",
    "\n",
    "r1_2 = r1.drop([c for c in r1.columns if c.startswith('Unnamed:')], axis=1)\n",
    "r2_2 = r2.drop([c for c in r2.columns if c.startswith('Unnamed:')], axis=1)\n",
    "r3_2 = r3.drop([c for c in r3.columns if c.startswith('Unnamed:')], axis=1)\n",
    "\n",
    "del r1, r2, r3\n",
    "\n",
    "# check differing columns\n",
    "print 'Extra r1 columns'\n",
    "print set(r1_2.columns) - set(r2_2.columns)\n",
    "print 'Extra r2 columns'\n",
    "print set(r2_2.columns) - set(r1_2.columns)"
   ]
  },
  {
   "cell_type": "code",
   "execution_count": 4,
   "metadata": {
    "collapsed": true
   },
   "outputs": [],
   "source": [
    "r1_2.dropna(how='all', subset=['Sixth', 'Fifth']).loc[:, ['First', 'Second', 'Third', 'Fourth', 'Sixth', 'Fifth']]\n",
    "# only 16 rows aren't totally blank for the columns fifth and sixth, and these columns are blank for all other honor societies\n",
    "r1_2['First'] = r1_2.loc[(~r1_2['Fifth'].isnull()), 'Fifth']\n",
    "\n",
    "# fill in any info from sixth (only 1 row with info)\n",
    "r1_2['Second'] = r1_2.loc[(~r1_2['Sixth'].isnull()), 'Sixth']\n",
    "\n",
    "# drop fifth and sixth columns\n",
    "r1_2.drop(['Fifth', 'Sixth'], axis=1, inplace=True)\n",
    "\n",
    "# some duplicate column names exist, find them\n",
    "sorted(r1_2.columns)\n",
    "# rename second column first_name\n",
    "# rename 1st year graduated undergrad_graduated and second med_graduated\n",
    "col_rename_dict = {\n",
    "    'First': 'first_name', 'Last': 'last_name', 'Middle': 'middle_name',\n",
    "    'First.1': 'honor_societies_first', 'Second': 'honor_societies_second', \n",
    "    'Third': 'honor_societies_third', 'Fourth': 'honor_societies_fourth',\n",
    "    'Year Graduated': 'undergrad_year_grad', 'Year Graduated.1': 'medschool_year_grad'\n",
    "}\n",
    "r1_2.rename(columns=col_rename_dict, inplace=True)\n",
    "r2_2.rename(columns=col_rename_dict, inplace=True)\n",
    "r3_2.rename(columns=col_rename_dict, inplace=True)\n",
    "# note that in data set r2 internship is spelled intership, correcting\n",
    "r1_2.rename(\n",
    "    columns={'Internship Year(s)': 'internship year(s)', 'Internship Hospital 1': 'internship hospital 1'}, inplace=True)\n",
    "r2_2.rename(\n",
    "    columns={'Intership Year(s)': 'internship year(s)', 'Intership Hospital 1': 'internship hospital 1'}, inplace=True)\n",
    "r3_2.rename(\n",
    "    columns={'Internship Year(s)': 'internship year(s)', 'Internship Hospital 1': 'internship hospital 1'}, inplace=True)\n",
    "# add reviewer column\n",
    "r1_2['reviewer'] = 1\n",
    "r2_2['reviewer'] = 2\n",
    "r3_2['reviewer'] = 3"
   ]
  },
  {
   "cell_type": "code",
   "execution_count": 5,
   "metadata": {
    "collapsed": false
   },
   "outputs": [
    {
     "data": {
      "text/plain": [
       "(7788, 63)"
      ]
     },
     "execution_count": 5,
     "metadata": {},
     "output_type": "execute_result"
    }
   ],
   "source": [
    "# append the 2 data sets on top of each other, adding an indicator which reviewer they come from\n",
    "all_appcards = pd.concat([r1_2, r2_2, r3_2], axis=0)\n",
    "\n",
    "all_appcards2 = all_appcards.dropna(subset=['first_name', 'last_name'], axis=0, how='all')\n",
    "\n",
    "all_appcards2.shape"
   ]
  },
  {
   "cell_type": "code",
   "execution_count": 6,
   "metadata": {
    "collapsed": false
   },
   "outputs": [
    {
     "name": "stdout",
     "output_type": "stream",
     "text": [
      "True\n"
     ]
    }
   ],
   "source": [
    "# verify the lengths of pieces all up to len of new data set\n",
    "print(r1_2.shape[0] + r2_2.shape[0] + r3_2.shape[0] == all_appcards.shape[0])"
   ]
  },
  {
   "cell_type": "code",
   "execution_count": 7,
   "metadata": {
    "collapsed": false
   },
   "outputs": [
    {
     "name": "stdout",
     "output_type": "stream",
     "text": [
      "[('last_name', 1), (u'citizenship', 1), (u'pharm_ra', 1), (u'teaching', 1), (u'cc', 1), (u'ca', 1), (u'nhi', 1), ('honor_societies_fourth', 1), (u'niamdd', 1), ('reviewer', 1), (u'dbs', 1), (u'research', 1), (u'ic', 1), (u'fifth', 1), (u'nimh', 1), (u'city', 1), ('first_name', 1), (u'nigms', 1), ('honor_societies_third', 1), (u'nei', 1), (u'state', 1), (u'oir', 1), (u'niaid', 1), (u'date_of_birth', 1), (u'ra', 1), (u'clinical', 1), (u'rejection_date', 1), (u'pi', 1), (u'nichhd', 1), (u'niamd', 1), (u'zip_code', 1), (u'cord', 1), (u'nichd', 1), ('undergrad_year_grad', 1), (u'sixth', 1), ('medschool_year_grad', 1), (u'rejected', 1), (u'nci', 1), (u'niehs', 1), (u'residency_hospital', 1), (u'address', 1), ('middle_name', 1), (u'application_date', 1), (u'ninds', 1), (u\"daniel's_comments\", 1), (u'nidr', 1), (u'sa', 1), (u'undergraduate_school', 1), (u'age', 1), (u'residency_type', 1), ('honor_societies_first', 1), (u'medical_school', 1), (u'nhli', 1), (u'nindb', 1), (u'associate_program_entered', 1), (u'withdrawal', 1), ('internship_year(s)', 1), (u'residency_year(s)', 1), (u'bob', 1), (u'year_accepted', 1), (u'other', 1), ('internship_hospital_1', 1), ('honor_societies_second', 1)]\n"
     ]
    }
   ],
   "source": [
    "# change all variable names to lowercase and insert _ instead of spaces\n",
    "def to_lower(str_var):\n",
    "    # lowercase, remove extraneous spaces, join with '_'\n",
    "    lower = str_var.lower()\n",
    "    return '_'.join(filter(None, lower.split(' ')))\n",
    "\n",
    "# apply column name cleaning fnc\n",
    "all_appcards2.columns = map(to_lower, all_appcards2.columns)\n",
    "\n",
    "# find and delete duplicate columns\n",
    "count = Counter(all_appcards2.columns)\n",
    "print count.most_common()"
   ]
  },
  {
   "cell_type": "code",
   "execution_count": 8,
   "metadata": {
    "collapsed": true
   },
   "outputs": [],
   "source": [
    "all_appcards3 = all_appcards2.reset_index(drop=True)"
   ]
  },
  {
   "cell_type": "code",
   "execution_count": 9,
   "metadata": {
    "collapsed": false
   },
   "outputs": [],
   "source": [
    "all_appcards4 = all_appcards3.reset_index(drop=False).rename(columns={'index': 'raw_uuid'})"
   ]
  },
  {
   "cell_type": "code",
   "execution_count": 10,
   "metadata": {
    "collapsed": false
   },
   "outputs": [],
   "source": [
    "# add an id column to save raw data set\n",
    "str_cols = [c for c in all_appcards2.columns if all_appcards4.dtypes[c]!='float64']"
   ]
  },
  {
   "cell_type": "code",
   "execution_count": 11,
   "metadata": {
    "collapsed": true
   },
   "outputs": [],
   "source": [
    "def convert_to_str(row_val):\n",
    "    if pd.isnull(row_val):\n",
    "        return np.nan\n",
    "    try:\n",
    "        return str(row_val)\n",
    "    except UnicodeEncodeError:\n",
    "        return row_val.encode('ascii', 'ignore')"
   ]
  },
  {
   "cell_type": "code",
   "execution_count": 12,
   "metadata": {
    "collapsed": true
   },
   "outputs": [],
   "source": [
    "def get_year(x):\n",
    "    if pd.isnull(x):\n",
    "        return np.nan\n",
    "    try:\n",
    "        return pd.to_datetime(x).year\n",
    "    except ValueError:\n",
    "        print x\n",
    "    "
   ]
  },
  {
   "cell_type": "code",
   "execution_count": 13,
   "metadata": {
    "collapsed": false
   },
   "outputs": [
    {
     "name": "stdout",
     "output_type": "stream",
     "text": [
      "3/31971\n",
      "41/8/1966\n"
     ]
    }
   ],
   "source": [
    "all_appcards4['application_year'] = all_appcards4.application_date.apply(get_year)"
   ]
  },
  {
   "cell_type": "code",
   "execution_count": 14,
   "metadata": {
    "collapsed": false
   },
   "outputs": [
    {
     "data": {
      "text/html": [
       "<div>\n",
       "<table border=\"1\" class=\"dataframe\">\n",
       "  <thead>\n",
       "    <tr style=\"text-align: right;\">\n",
       "      <th></th>\n",
       "      <th>last_name</th>\n",
       "      <th>first_name</th>\n",
       "      <th>medical_school</th>\n",
       "    </tr>\n",
       "  </thead>\n",
       "  <tbody>\n",
       "    <tr>\n",
       "      <th>53</th>\n",
       "      <td>Aron</td>\n",
       "      <td>NaN</td>\n",
       "      <td>New York University School of Medicine</td>\n",
       "    </tr>\n",
       "    <tr>\n",
       "      <th>3760</th>\n",
       "      <td>Aron</td>\n",
       "      <td>Ber</td>\n",
       "      <td>New York University School of Medicine</td>\n",
       "    </tr>\n",
       "  </tbody>\n",
       "</table>\n",
       "</div>"
      ],
      "text/plain": [
       "     last_name first_name                          medical_school\n",
       "53        Aron        NaN  New York University School of Medicine\n",
       "3760      Aron        Ber  New York University School of Medicine"
      ]
     },
     "execution_count": 14,
     "metadata": {},
     "output_type": "execute_result"
    }
   ],
   "source": [
    "all_appcards4.loc[all_appcards4.last_name=='Aron', ['last_name', 'first_name', 'medical_school']]"
   ]
  },
  {
   "cell_type": "code",
   "execution_count": 15,
   "metadata": {
    "collapsed": false
   },
   "outputs": [
    {
     "data": {
      "text/plain": [
       "array([ 1959.,  1960.,  1961.,  1962.,  1963.,  1964.,  1965.,  1966.,\n",
       "        1967.,  1968.,  1969.,  1970.,  1971.,  1972.,  1973.,  1974.,\n",
       "        1975.,  1957.,  1958.,  1940.,  1932.,  1941.,  2022.,    nan,\n",
       "        2016.])"
      ]
     },
     "execution_count": 15,
     "metadata": {},
     "output_type": "execute_result"
    }
   ],
   "source": [
    "all_appcards4.application_year.unique()"
   ]
  },
  {
   "cell_type": "code",
   "execution_count": 16,
   "metadata": {
    "collapsed": false
   },
   "outputs": [
    {
     "data": {
      "text/plain": [
       "1    3704\n",
       "2    3600\n",
       "3     484\n",
       "Name: reviewer, dtype: int64"
      ]
     },
     "execution_count": 16,
     "metadata": {},
     "output_type": "execute_result"
    }
   ],
   "source": [
    "all_appcards4.reviewer.value_counts()"
   ]
  },
  {
   "cell_type": "code",
   "execution_count": 17,
   "metadata": {
    "collapsed": false
   },
   "outputs": [],
   "source": [
    "# convert unicode issues to string\n",
    "all_appcards4.loc[:, str_cols] = all_appcards4[str_cols].applymap(convert_to_str)\n",
    "\n",
    "all_appcards4.to_csv(os.path.join(CARD_DATA_DIR, 'raw_applicant_card_data.csv'))"
   ]
  }
 ],
 "metadata": {
  "kernelspec": {
   "display_name": "Python 2",
   "language": "python",
   "name": "python2"
  },
  "language_info": {
   "codemirror_mode": {
    "name": "ipython",
    "version": 2
   },
   "file_extension": ".py",
   "mimetype": "text/x-python",
   "name": "python",
   "nbconvert_exporter": "python",
   "pygments_lexer": "ipython2",
   "version": "2.7.12"
  }
 },
 "nbformat": 4,
 "nbformat_minor": 0
}
