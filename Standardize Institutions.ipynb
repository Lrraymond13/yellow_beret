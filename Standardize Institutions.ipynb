{
 "cells": [
  {
   "cell_type": "code",
   "execution_count": 1,
   "metadata": {
    "collapsed": false
   },
   "outputs": [],
   "source": [
    "from collections import Counter\n",
    "import funcy\n",
    "from fuzzywuzzy import fuzz\n",
    "import numpy as np \n",
    "import pandas as pd \n",
    "import os\n",
    "\n",
    "from data_cleaning_functions import (trans_remov_punc, standardize_whitespace, remove_punc, remove_suffix_from_last_name,\n",
    "                                     clean_names, has_award, has_suffix, get_suffix, replace_last_name, \n",
    "                                     is_year_range, str_sim, clean_med_school, clean_std_college_name, long_form_date, \n",
    "                                    correct_mispellings)\n",
    "\n",
    "from dev import (\n",
    "    APP_DATA_DIR, SUM_STAT_DIR, ATT_DATA_DIR, CARD_DATA_DIR, CORRECTIONS_DIR, AWARDS_KEYWORDS, NAME_COLS, RAW_NAME_COLS, \n",
    "    RAW_CARD_ID, RAW_INDEX_IDS, PERSON_APPLICATION_ID, PERSON_ID, NIH_ID, FEMALE_FIRST_NAMES,\n",
    "    PICKLE_DIR, STD_DIR)\n",
    "\n",
    "from merging_functions import *\n",
    "\n",
    "OUTPUT_CSV = False \n",
    "\n",
    "\n",
    "# load autoreload extension\n",
    "%load_ext autoreload\n",
    "%autoreload 2"
   ]
  },
  {
   "cell_type": "code",
   "execution_count": 2,
   "metadata": {
    "collapsed": false
   },
   "outputs": [],
   "source": [
    "apps = pd.read_csv(os.path.join(APP_DATA_DIR, 'aamc_apps_nih.csv'))"
   ]
  },
  {
   "cell_type": "code",
   "execution_count": 3,
   "metadata": {
    "collapsed": false
   },
   "outputs": [],
   "source": [
    "# sorted(apps.columns)"
   ]
  },
  {
   "cell_type": "code",
   "execution_count": 4,
   "metadata": {
    "collapsed": false
   },
   "outputs": [
    {
     "data": {
      "text/html": [
       "<div>\n",
       "<table border=\"1\" class=\"dataframe\">\n",
       "  <thead>\n",
       "    <tr style=\"text-align: right;\">\n",
       "      <th></th>\n",
       "      <th>original_medical_school</th>\n",
       "      <th>med_school</th>\n",
       "      <th>medical_school</th>\n",
       "      <th>degree_inst_1_desc</th>\n",
       "    </tr>\n",
       "  </thead>\n",
       "  <tbody>\n",
       "  </tbody>\n",
       "</table>\n",
       "</div>"
      ],
      "text/plain": [
       "Empty DataFrame\n",
       "Columns: [original_medical_school, med_school, medical_school, degree_inst_1_desc]\n",
       "Index: []"
      ]
     },
     "execution_count": 4,
     "metadata": {},
     "output_type": "execute_result"
    }
   ],
   "source": [
    "inst = pd.read_csv(os.path.join(STD_DIR, 'institutions.csv'))\n",
    "\n",
    "inst['inst'] = inst.Institution.apply(clean_names)\n",
    "\n",
    "apps['original_medical_school'] = apps.original_medical_school.apply(clean_names)\n",
    "\n",
    "apps.loc[apps['medical_school']=='ILLINOIS', ['original_medical_school', 'med_school', 'medical_school', 'degree_inst_1_desc']]"
   ]
  },
  {
   "cell_type": "code",
   "execution_count": 5,
   "metadata": {
    "collapsed": false
   },
   "outputs": [],
   "source": [
    "# apps.loc[apps.medical_school=='SUNY', ['med_school', 'medical_school', 'degree_inst_1_desc']]"
   ]
  },
  {
   "cell_type": "code",
   "execution_count": 6,
   "metadata": {
    "collapsed": false
   },
   "outputs": [
    {
     "name": "stdout",
     "output_type": "stream",
     "text": [
      "CALIFORNIA INSTITUTE OF TECHNOLOGY\n",
      "CITY OF HOPE BECKMAN RESEARCH INSTITUTE\n",
      "CLEVELAND CLINIC\n",
      "COLD SPRING HARBOR LABORATORY\n",
      "FOX CHASE CANCER CENTER\n",
      "HENRY FORD HEALTH SCIENCE CENTER\n",
      "MAYO MEDICAL SCHOOL\n",
      "MOREHOUSE SCHOOL OF MEDICINE\n",
      "NIH\n",
      "PRINCETON UNIVERSITY\n",
      "ROCKEFELLER UNIVERSITY\n",
      "SALK INSTITUTE FOR BIOLOGICAL STUDIES\n",
      "SCRIPPS RESEARCH INSTITUTE\n",
      "TEXAS A M UNIVERSITY HEALTH SCIENCE CENTER COLLEGE OF MEDICINE\n",
      "TEXAS TECH UNIVERSITY HEALTH SCIENCES CENTER SCHOOL OF MEDICINE\n",
      "UNIFORMED SERVICES UNIVERSITY OF THE HEALTH SCIENCES\n",
      "UNIVERSITY OF SOUTH DAKOTA SCHOOL OF MEDICINE\n",
      "nan\n"
     ]
    },
    {
     "name": "stderr",
     "output_type": "stream",
     "text": [
      "/home/lraymond/MIT/Azoulay_2016/yellow_berets/yb/local/lib/python2.7/site-packages/pandas/core/ops.py:683: UnicodeWarning: Unicode equal comparison failed to convert both arguments to Unicode - interpreting them as being unequal\n",
      "  result = lib.scalar_compare(x, y, op)\n"
     ]
    }
   ],
   "source": [
    "inst2 = inst.drop('Institution', axis=1).rename(columns={'aamc_id': 'institution_aamc_id'})\n",
    "inst2['medical_school'] = inst2.inst.apply(clean_med_school)\n"
   ]
  },
  {
   "cell_type": "code",
   "execution_count": 7,
   "metadata": {
    "collapsed": false
   },
   "outputs": [],
   "source": [
    "# apps.loc[apps['medical_school']!=apps['original_medical_school'], ['medical_school', 'original_medical_school']]"
   ]
  },
  {
   "cell_type": "code",
   "execution_count": 8,
   "metadata": {
    "collapsed": false
   },
   "outputs": [],
   "source": [
    "possible_matches = pd.merge(\n",
    "    left=apps[['original_medical_school', 'medical_school']].dropna().drop_duplicates('original_medical_school'), \n",
    "    right=inst2, on=['medical_school'], how='inner')"
   ]
  },
  {
   "cell_type": "code",
   "execution_count": 9,
   "metadata": {
    "collapsed": false
   },
   "outputs": [],
   "source": [
    "others = apps.loc[~apps['medical_school'].isin(\n",
    "        possible_matches['medical_school']), ['medical_school', 'original_medical_school']].dropna().drop_duplicates()\n",
    "\n",
    "possible_matches2 = pd.concat([possible_matches, others], axis=0)"
   ]
  },
  {
   "cell_type": "code",
   "execution_count": 10,
   "metadata": {
    "collapsed": false
   },
   "outputs": [],
   "source": [
    "possible_matches2.to_csv(os.path.join(CORRECTIONS_DIR, 'institution_manual_matches_raw.csv'))"
   ]
  },
  {
   "cell_type": "code",
   "execution_count": 11,
   "metadata": {
    "collapsed": true
   },
   "outputs": [],
   "source": [
    "mm = pd.read_csv(os.path.join(CORRECTIONS_DIR, 'institution_manual_matches.csv')).drop_duplicates()\n",
    "mm['inst'] = mm.inst.apply(clean_names)"
   ]
  },
  {
   "cell_type": "code",
   "execution_count": 12,
   "metadata": {
    "collapsed": false
   },
   "outputs": [
    {
     "name": "stdout",
     "output_type": "stream",
     "text": [
      "(3615, 122)\n",
      "(3612, 123)\n"
     ]
    }
   ],
   "source": [
    "apps1 = pd.merge(left=apps, right=mm, on='medical_school', how='left').drop_duplicates(PERSON_ID)\n",
    "apps1['inst'] = apps1.inst.apply(clean_names)\n",
    "print apps.shape\n",
    "print apps1.shape"
   ]
  },
  {
   "cell_type": "code",
   "execution_count": 13,
   "metadata": {
    "collapsed": false
   },
   "outputs": [
    {
     "name": "stdout",
     "output_type": "stream",
     "text": [
      "(3612, 124)\n",
      "(3612, 123)\n",
      "(3615, 122)\n"
     ]
    }
   ],
   "source": [
    "apps2 = pd.merge(left=apps1, right=inst2[['inst', 'institution_aamc_id']], on=['inst'], how='left').drop_duplicates(PERSON_ID)\n",
    "print apps2.shape\n",
    "print apps1.shape\n",
    "print apps.shape"
   ]
  },
  {
   "cell_type": "code",
   "execution_count": 14,
   "metadata": {
    "collapsed": false
   },
   "outputs": [],
   "source": [
    "apps2 = apps2.sort_values(['clean_last_name', 'clean_first_name'])\n",
    "# a2.loc[a2.duplicated(\n",
    "#         ['clean_last_name', 'clean_first_name'], keep=False), [\n",
    "#             'residency_hospital', 'original_medical_school','inst', 'year_grad', 'application_year', PERSON_ID]+NAME_COLS]"
   ]
  },
  {
   "cell_type": "code",
   "execution_count": 15,
   "metadata": {
    "collapsed": true
   },
   "outputs": [],
   "source": [
    "deps = pd.read_csv(os.path.join(STD_DIR, 'departments.csv'))"
   ]
  },
  {
   "cell_type": "code",
   "execution_count": 16,
   "metadata": {
    "collapsed": false
   },
   "outputs": [],
   "source": [
    "deps['department'] = deps['Department'].apply(clean_names)\n",
    "deps['sub_department'] = deps['Sub-department'].apply(clean_names)\n",
    "apps2['residency'] = apps2['residency'].apply(clean_names)"
   ]
  },
  {
   "cell_type": "code",
   "execution_count": 17,
   "metadata": {
    "collapsed": true
   },
   "outputs": [],
   "source": [
    "deps1 = deps.drop(['Department', 'Sub-department'], axis=1)\n",
    "deps1.loc[pd.isnull(deps1.sub_department), 'sub_department'] = deps1.department\n",
    "apps2['sub_department'] = apps2['residency']"
   ]
  },
  {
   "cell_type": "code",
   "execution_count": 18,
   "metadata": {
    "collapsed": false
   },
   "outputs": [],
   "source": [
    "deps2 = df_get_closest_matches(deps1, apps2[['residency', 'sub_department']].dropna().drop_duplicates(), 'sub_department')\n",
    "deps3 = deps2.reset_index(drop=False).rename(columns={'index': 'sub_department'})"
   ]
  },
  {
   "cell_type": "code",
   "execution_count": 19,
   "metadata": {
    "collapsed": false
   },
   "outputs": [],
   "source": [
    "deps3['sim'] = deps3.apply(lambda x: str_sim(x, 'residency', 'sub_department'), axis=1)\n",
    "deps4 = deps3[deps3['sim'] > .6]"
   ]
  },
  {
   "cell_type": "code",
   "execution_count": 20,
   "metadata": {
    "collapsed": false
   },
   "outputs": [],
   "source": [
    "res = apps2['residency'].dropna().drop_duplicates()\n",
    "deps5 = pd.concat([deps4, res[~res.isin(deps4['residency'])]], axis=0)"
   ]
  },
  {
   "cell_type": "code",
   "execution_count": 21,
   "metadata": {
    "collapsed": false
   },
   "outputs": [],
   "source": [
    "deps5.to_csv(os.path.join(CORRECTIONS_DIR, 'residency_departments_raw.csv'))"
   ]
  },
  {
   "cell_type": "code",
   "execution_count": 22,
   "metadata": {
    "collapsed": true
   },
   "outputs": [],
   "source": [
    "maps = pd.read_csv(os.path.join(CORRECTIONS_DIR, 'residency_departments.csv'))"
   ]
  },
  {
   "cell_type": "code",
   "execution_count": 23,
   "metadata": {
    "collapsed": false
   },
   "outputs": [],
   "source": [
    "maps.loc[\n",
    "    pd.isnull(maps['sub_department']), 'sub_department'] =  maps.loc[pd.isnull(maps['sub_department']), 'department']"
   ]
  },
  {
   "cell_type": "code",
   "execution_count": 24,
   "metadata": {
    "collapsed": false
   },
   "outputs": [],
   "source": [
    "apps3 = pd.merge(left=apps2.drop('sub_department', axis=1), right=maps, on='residency', how='left').drop_duplicates(PERSON_ID)"
   ]
  },
  {
   "cell_type": "code",
   "execution_count": 25,
   "metadata": {
    "collapsed": false
   },
   "outputs": [
    {
     "name": "stderr",
     "output_type": "stream",
     "text": [
      "/home/lraymond/MIT/Azoulay_2016/yellow_berets/yb/local/lib/python2.7/site-packages/numpy/lib/nanfunctions.py:227: RuntimeWarning: All-NaN axis encountered\n",
      "  warnings.warn(\"All-NaN axis encountered\", RuntimeWarning)\n",
      "/home/lraymond/MIT/Azoulay_2016/yellow_berets/yb/local/lib/python2.7/site-packages/numpy/lib/nanfunctions.py:326: RuntimeWarning: All-NaN slice encountered\n",
      "  warnings.warn(\"All-NaN slice encountered\", RuntimeWarning)\n"
     ]
    }
   ],
   "source": [
    "apps3['application_year_min'] = apps3[\n",
    "    ['application_year', 'application_year_1', 'application_year_2', 'application_year_3']].apply(lambda x: np.nanmin(x.values), axis=1)\n",
    "apps3['application_year_max'] = apps3[\n",
    "    ['application_year', 'application_year_1', 'application_year_2', 'application_year_3']].apply(lambda x: np.nanmax(x.values), axis=1)"
   ]
  },
  {
   "cell_type": "code",
   "execution_count": 26,
   "metadata": {
    "collapsed": false
   },
   "outputs": [],
   "source": [
    "mask = ~pd.isnull(apps3.age) & ~pd.isnull(apps3.application_year_min) & pd.isnull(apps3.yobb)\n",
    "apps3.loc[mask, 'yobb'] = apps3.loc[mask, ['application_year_min', 'age']].apply(lambda x: x['application_year_min'] - x['age'], axis=1)"
   ]
  },
  {
   "cell_type": "code",
   "execution_count": 27,
   "metadata": {
    "collapsed": false
   },
   "outputs": [],
   "source": [
    "# consolidate college columns\n",
    "# apps4[['clean_college', 'undergraduate_school']]\n",
    "mask = pd.isnull(apps3['medschool_year_grad']) & ~pd.isnull(apps3['degree_year_1'])\n",
    "apps3.loc[mask, 'medschool_year_grad'] = apps3.loc[mask, 'degree_year_1']\n",
    "mask = pd.isnull(apps3['medschool_year_grad']) & ~pd.isnull(apps3['year_grad'])\n",
    "apps3.loc[mask, 'medschool_year_grad'] = apps3.loc[mask, 'year_grad']"
   ]
  },
  {
   "cell_type": "code",
   "execution_count": 28,
   "metadata": {
    "collapsed": false
   },
   "outputs": [],
   "source": [
    "mask = pd.isnull(apps3['clean_suffix']) & ~pd.isnull(apps3['suffix_cd'])\n",
    "apps3.loc[mask, 'clean_suffix']= apps3.loc[mask, 'suffix_cd']"
   ]
  },
  {
   "cell_type": "code",
   "execution_count": 29,
   "metadata": {
    "collapsed": true
   },
   "outputs": [],
   "source": [
    "apps3['residency_1'] = apps3[['residency_dates', 'residency_year(s)']].apply(consolidate_col, axis=1)\n",
    "apps3['internship_1'] = apps3[['internship_dates', 'internship_year(s)']].apply(consolidate_col, axis=1)\n",
    "\n",
    "def parse_dt(str_date, start=True):\n",
    "    if pd.isnull(str_date):\n",
    "        return np.nan\n",
    "    dts = str_date.split('-')\n",
    "    if len(dts) == 1 or start:\n",
    "        return dts[0]\n",
    "    return dts[1]\n",
    "    \n",
    "\n",
    "apps3['residency_start'] = apps3['residency_1'].apply(parse_dt)\n",
    "apps3['internship_start'] = apps3['internship_1'].apply(parse_dt)\n",
    "apps3['residency_end'] = apps3['residency_1'].apply(funcy.rpartial(parse_dt, False))\n",
    "apps3['internship_end'] = apps3['internship_1'].apply(funcy.rpartial(parse_dt, False))\n"
   ]
  },
  {
   "cell_type": "code",
   "execution_count": 30,
   "metadata": {
    "collapsed": true
   },
   "outputs": [],
   "source": [
    "apps3['residency_hospital'] = apps3['residency_hospital'].apply(clean_names)\n",
    "apps3['internship_hospital'] = apps3['internship_hospital'].apply(clean_names)"
   ]
  },
  {
   "cell_type": "code",
   "execution_count": 31,
   "metadata": {
    "collapsed": false
   },
   "outputs": [
    {
     "data": {
      "text/html": [
       "<div>\n",
       "<table border=\"1\" class=\"dataframe\">\n",
       "  <thead>\n",
       "    <tr style=\"text-align: right;\">\n",
       "      <th></th>\n",
       "      <th>clean_first_name</th>\n",
       "      <th>clean_middle_name</th>\n",
       "      <th>clean_last_name</th>\n",
       "      <th>medical_school</th>\n",
       "      <th>mname</th>\n",
       "      <th>middle_name</th>\n",
       "      <th>first_name</th>\n",
       "      <th>fname</th>\n",
       "    </tr>\n",
       "  </thead>\n",
       "  <tbody>\n",
       "    <tr>\n",
       "      <th>294</th>\n",
       "      <td>KENNETH</td>\n",
       "      <td>KENNETH</td>\n",
       "      <td>BLAYLOCK</td>\n",
       "      <td>MEDICAL COLLEGE OF VIRGINIA</td>\n",
       "      <td>NaN</td>\n",
       "      <td>Kenneth</td>\n",
       "      <td>Kenneth</td>\n",
       "      <td>NaN</td>\n",
       "    </tr>\n",
       "    <tr>\n",
       "      <th>509</th>\n",
       "      <td>HOWARD</td>\n",
       "      <td>HOWARD</td>\n",
       "      <td>CEDAR</td>\n",
       "      <td>OHIO STATE UNIVERSITY COLLEGE OF MEDICINE AND ...</td>\n",
       "      <td>NaN</td>\n",
       "      <td>Howard</td>\n",
       "      <td>Howard</td>\n",
       "      <td>NaN</td>\n",
       "    </tr>\n",
       "    <tr>\n",
       "      <th>551</th>\n",
       "      <td>DOUGLAS</td>\n",
       "      <td>DOUGLAS</td>\n",
       "      <td>CLARK</td>\n",
       "      <td>UNIVERSITY OF NORTH CAROLINA AT CHAPEL HILL SC...</td>\n",
       "      <td>NaN</td>\n",
       "      <td>Douglas</td>\n",
       "      <td>Douglas</td>\n",
       "      <td>NaN</td>\n",
       "    </tr>\n",
       "    <tr>\n",
       "      <th>880</th>\n",
       "      <td>MYRON</td>\n",
       "      <td>MYRON</td>\n",
       "      <td>FALCHUK</td>\n",
       "      <td>HARVARD MEDICAL SCHOOL</td>\n",
       "      <td>NaN</td>\n",
       "      <td>Myron</td>\n",
       "      <td>Myron</td>\n",
       "      <td>NaN</td>\n",
       "    </tr>\n",
       "    <tr>\n",
       "      <th>916</th>\n",
       "      <td>FREDERICK</td>\n",
       "      <td>FREDERICK</td>\n",
       "      <td>FENSTER</td>\n",
       "      <td>HARVARD MEDICAL SCHOOL</td>\n",
       "      <td>NaN</td>\n",
       "      <td>Frederick</td>\n",
       "      <td>Frederick</td>\n",
       "      <td>NaN</td>\n",
       "    </tr>\n",
       "    <tr>\n",
       "      <th>1469</th>\n",
       "      <td>ALLAN</td>\n",
       "      <td>ALLAN</td>\n",
       "      <td>HOBSON</td>\n",
       "      <td>HARVARD MEDICAL SCHOOL</td>\n",
       "      <td>NaN</td>\n",
       "      <td>Allan</td>\n",
       "      <td>Allan</td>\n",
       "      <td>NaN</td>\n",
       "    </tr>\n",
       "    <tr>\n",
       "      <th>2027</th>\n",
       "      <td>HERBERT</td>\n",
       "      <td>HERBERT</td>\n",
       "      <td>LUBOWITZ</td>\n",
       "      <td>WASHINGTON UNIVERSITY SCHOOL OF MEDICINE</td>\n",
       "      <td>NaN</td>\n",
       "      <td>NaN</td>\n",
       "      <td>Herbert</td>\n",
       "      <td>NaN</td>\n",
       "    </tr>\n",
       "    <tr>\n",
       "      <th>2330</th>\n",
       "      <td>FREDERIC</td>\n",
       "      <td>FREDERIC</td>\n",
       "      <td>MUSHINSKI</td>\n",
       "      <td>HARVARD MEDICAL SCHOOL</td>\n",
       "      <td>NaN</td>\n",
       "      <td>Frederic</td>\n",
       "      <td>Jos</td>\n",
       "      <td>NaN</td>\n",
       "    </tr>\n",
       "    <tr>\n",
       "      <th>2685</th>\n",
       "      <td>LAWRENCE</td>\n",
       "      <td>LAWRENCE</td>\n",
       "      <td>REINER</td>\n",
       "      <td>BAYLOR COLLEGE OF MEDICINE</td>\n",
       "      <td>NaN</td>\n",
       "      <td>Lawrence</td>\n",
       "      <td>Lawrence</td>\n",
       "      <td>NaN</td>\n",
       "    </tr>\n",
       "    <tr>\n",
       "      <th>2819</th>\n",
       "      <td>RICHARD</td>\n",
       "      <td>RICHARD</td>\n",
       "      <td>ROVNER</td>\n",
       "      <td>SUNY UPSTATE MEDICAL UNIVERSITY AT SYRACUSE</td>\n",
       "      <td>NaN</td>\n",
       "      <td>NaN</td>\n",
       "      <td>Richard</td>\n",
       "      <td>NaN</td>\n",
       "    </tr>\n",
       "    <tr>\n",
       "      <th>3005</th>\n",
       "      <td>DANIEL</td>\n",
       "      <td>DANIEL</td>\n",
       "      <td>SHERMAN</td>\n",
       "      <td>JOHNS HOPKINS UNIVERSITY SCHOOL OF MEDICINE</td>\n",
       "      <td>NaN</td>\n",
       "      <td>Adam</td>\n",
       "      <td>Daniel</td>\n",
       "      <td>NaN</td>\n",
       "    </tr>\n",
       "    <tr>\n",
       "      <th>3007</th>\n",
       "      <td>STANLEY</td>\n",
       "      <td>STANLEY</td>\n",
       "      <td>SHERWIN</td>\n",
       "      <td>ALBERT EINSTEIN COLLEGE OF MEDICINE</td>\n",
       "      <td>Stanley</td>\n",
       "      <td>Stanley</td>\n",
       "      <td>Robert</td>\n",
       "      <td>Robert</td>\n",
       "    </tr>\n",
       "    <tr>\n",
       "      <th>3228</th>\n",
       "      <td>WILLIAM</td>\n",
       "      <td>WILLIAM</td>\n",
       "      <td>SULLIVAN</td>\n",
       "      <td>UNIVERSITY OF KANSAS SCHOOL OF MEDICINE</td>\n",
       "      <td>NaN</td>\n",
       "      <td>William</td>\n",
       "      <td>Peter</td>\n",
       "      <td>NaN</td>\n",
       "    </tr>\n",
       "  </tbody>\n",
       "</table>\n",
       "</div>"
      ],
      "text/plain": [
       "     clean_first_name clean_middle_name clean_last_name  \\\n",
       "294           KENNETH           KENNETH        BLAYLOCK   \n",
       "509            HOWARD            HOWARD           CEDAR   \n",
       "551           DOUGLAS           DOUGLAS           CLARK   \n",
       "880             MYRON             MYRON         FALCHUK   \n",
       "916         FREDERICK         FREDERICK         FENSTER   \n",
       "1469            ALLAN             ALLAN          HOBSON   \n",
       "2027          HERBERT           HERBERT        LUBOWITZ   \n",
       "2330         FREDERIC          FREDERIC       MUSHINSKI   \n",
       "2685         LAWRENCE          LAWRENCE          REINER   \n",
       "2819          RICHARD           RICHARD          ROVNER   \n",
       "3005           DANIEL            DANIEL         SHERMAN   \n",
       "3007          STANLEY           STANLEY         SHERWIN   \n",
       "3228          WILLIAM           WILLIAM        SULLIVAN   \n",
       "\n",
       "                                         medical_school    mname middle_name  \\\n",
       "294                         MEDICAL COLLEGE OF VIRGINIA      NaN     Kenneth   \n",
       "509   OHIO STATE UNIVERSITY COLLEGE OF MEDICINE AND ...      NaN      Howard   \n",
       "551   UNIVERSITY OF NORTH CAROLINA AT CHAPEL HILL SC...      NaN     Douglas   \n",
       "880                              HARVARD MEDICAL SCHOOL      NaN       Myron   \n",
       "916                              HARVARD MEDICAL SCHOOL      NaN   Frederick   \n",
       "1469                             HARVARD MEDICAL SCHOOL      NaN       Allan   \n",
       "2027           WASHINGTON UNIVERSITY SCHOOL OF MEDICINE      NaN         NaN   \n",
       "2330                             HARVARD MEDICAL SCHOOL      NaN    Frederic   \n",
       "2685                         BAYLOR COLLEGE OF MEDICINE      NaN    Lawrence   \n",
       "2819        SUNY UPSTATE MEDICAL UNIVERSITY AT SYRACUSE      NaN         NaN   \n",
       "3005        JOHNS HOPKINS UNIVERSITY SCHOOL OF MEDICINE      NaN        Adam   \n",
       "3007                ALBERT EINSTEIN COLLEGE OF MEDICINE  Stanley     Stanley   \n",
       "3228            UNIVERSITY OF KANSAS SCHOOL OF MEDICINE      NaN     William   \n",
       "\n",
       "     first_name   fname  \n",
       "294     Kenneth     NaN  \n",
       "509      Howard     NaN  \n",
       "551     Douglas     NaN  \n",
       "880       Myron     NaN  \n",
       "916   Frederick     NaN  \n",
       "1469      Allan     NaN  \n",
       "2027    Herbert     NaN  \n",
       "2330        Jos     NaN  \n",
       "2685   Lawrence     NaN  \n",
       "2819    Richard     NaN  \n",
       "3005     Daniel     NaN  \n",
       "3007     Robert  Robert  \n",
       "3228      Peter     NaN  "
      ]
     },
     "execution_count": 31,
     "metadata": {},
     "output_type": "execute_result"
    }
   ],
   "source": [
    "apps3.loc[apps3['clean_first_name'] == apps3['clean_middle_name'], NAME_COLS+['medical_school','mname', 'middle_name', 'first_name', 'fname']]"
   ]
  },
  {
   "cell_type": "code",
   "execution_count": 32,
   "metadata": {
    "collapsed": true
   },
   "outputs": [],
   "source": [
    "apps3.loc[\n",
    "    pd.isnull(\n",
    "        apps3.clean_last_name), 'clean_last_name'] = apps3.loc[pd.isnull(apps3.clean_last_name), 'last_name'].apply(clean_names)"
   ]
  },
  {
   "cell_type": "code",
   "execution_count": 33,
   "metadata": {
    "collapsed": true
   },
   "outputs": [],
   "source": [
    "apps4 = apps3.drop(\n",
    "    ['Unnamed: 0', 'birth_country_desc', 'data_source', 'is_match', \n",
    "     'last_name_counts', 'reviewer', 'source', 'ssn', 'age', \n",
    "     'lname', 'fname', 'mname', 'undergraduate_school', 'year_grad', 'degree_year_1', \n",
    "        'suffix_cd', 'residency_dates', 'residency_year(s)', 'internship_dates', 'internship_year(s)', \n",
    "        'internship_1', 'residency_1'], axis=1).rename(\n",
    "        columns={'yobb': 'birth_year', 'ident_cat_desc': 'race'})"
   ]
  },
  {
   "cell_type": "code",
   "execution_count": 34,
   "metadata": {
    "collapsed": false
   },
   "outputs": [],
   "source": [
    "# read in hospital ipf codes\n",
    "hos = pd.read_excel(os.path.join(STD_DIR, 'hospital_ipfcodes.xlsx'))"
   ]
  },
  {
   "cell_type": "code",
   "execution_count": 35,
   "metadata": {
    "collapsed": true
   },
   "outputs": [],
   "source": [
    "hos2 = hos.sort_values('org_name').drop_duplicates('org_name').rename(columns={'org_name': 'hospital'})"
   ]
  },
  {
   "cell_type": "code",
   "execution_count": 36,
   "metadata": {
    "collapsed": false
   },
   "outputs": [
    {
     "name": "stderr",
     "output_type": "stream",
     "text": [
      "/home/lraymond/MIT/Azoulay_2016/yellow_berets/yb/lib/python2.7/site-packages/ipykernel/__main__.py:5: SettingWithCopyWarning: \n",
      "A value is trying to be set on a copy of a slice from a DataFrame.\n",
      "Try using .loc[row_indexer,col_indexer] = value instead\n",
      "\n",
      "See the caveats in the documentation: http://pandas.pydata.org/pandas-docs/stable/indexing.html#indexing-view-versus-copy\n"
     ]
    }
   ],
   "source": [
    "orgs = pd.DataFrame(\n",
    "    np.concatenate(\n",
    "        [apps4.residency_hospital.dropna().unique(), apps4.internship_hospital.dropna().unique()], axis=0), columns=['hospital'])\n",
    "orgs2 = orgs.drop_duplicates()\n",
    "orgs2['index_card_hospital'] = orgs2['hospital']"
   ]
  },
  {
   "cell_type": "code",
   "execution_count": 37,
   "metadata": {
    "collapsed": false
   },
   "outputs": [],
   "source": [
    "matches = df_get_closest_matches(orgs2, hos2[['hospital', 'ipfcode', 'org_index_name']], 'hospital')"
   ]
  },
  {
   "cell_type": "code",
   "execution_count": 38,
   "metadata": {
    "collapsed": true
   },
   "outputs": [],
   "source": [
    "matches['sim'] = matches[['org_index_name', 'index_card_hospital']].apply(get_name_str_sim, axis=1)"
   ]
  },
  {
   "cell_type": "code",
   "execution_count": 39,
   "metadata": {
    "collapsed": false
   },
   "outputs": [],
   "source": [
    "matches2 = matches.reset_index(\n",
    "    drop=False).rename(columns={'index': 'hospital'}).sort_values(\n",
    "        ['hospital', 'sim'], ascending=False).drop_duplicates(['hospital', 'ipfcode']).dropna()"
   ]
  },
  {
   "cell_type": "code",
   "execution_count": 40,
   "metadata": {
    "collapsed": false
   },
   "outputs": [],
   "source": [
    "matches3 = matches2[matches2.sim>95]"
   ]
  },
  {
   "cell_type": "code",
   "execution_count": 41,
   "metadata": {
    "collapsed": false
   },
   "outputs": [
    {
     "name": "stdout",
     "output_type": "stream",
     "text": [
      "(273, 5)\n"
     ]
    }
   ],
   "source": [
    "print matches3.shape\n",
    "# matches3.head()"
   ]
  },
  {
   "cell_type": "code",
   "execution_count": 42,
   "metadata": {
    "collapsed": false
   },
   "outputs": [
    {
     "data": {
      "text/plain": [
       "(820, 2)"
      ]
     },
     "execution_count": 42,
     "metadata": {},
     "output_type": "execute_result"
    }
   ],
   "source": [
    "# not matched\n",
    "nm = orgs2[~orgs2.hospital.isin(matches3.index_card_hospital)]\n",
    "nm.shape"
   ]
  },
  {
   "cell_type": "code",
   "execution_count": 43,
   "metadata": {
    "collapsed": true
   },
   "outputs": [],
   "source": [
    "# do a cartesian merge between remaining nonmatched hospitals, calculate string sim"
   ]
  },
  {
   "cell_type": "code",
   "execution_count": 44,
   "metadata": {
    "collapsed": false
   },
   "outputs": [
    {
     "name": "stderr",
     "output_type": "stream",
     "text": [
      "/home/lraymond/MIT/Azoulay_2016/yellow_berets/yb/lib/python2.7/site-packages/ipykernel/__main__.py:1: SettingWithCopyWarning: \n",
      "A value is trying to be set on a copy of a slice from a DataFrame.\n",
      "Try using .loc[row_indexer,col_indexer] = value instead\n",
      "\n",
      "See the caveats in the documentation: http://pandas.pydata.org/pandas-docs/stable/indexing.html#indexing-view-versus-copy\n",
      "  if __name__ == '__main__':\n"
     ]
    }
   ],
   "source": [
    "nm['key'] = 0\n",
    "hos2['key'] = 0"
   ]
  },
  {
   "cell_type": "code",
   "execution_count": 45,
   "metadata": {
    "collapsed": false
   },
   "outputs": [],
   "source": [
    "cart_product = pd.merge(left=nm, right=hos2[['hospital', 'ipfcode', 'org_index_name', 'key']], how='left', on='key')"
   ]
  },
  {
   "cell_type": "code",
   "execution_count": 46,
   "metadata": {
    "collapsed": false
   },
   "outputs": [
    {
     "name": "stdout",
     "output_type": "stream",
     "text": [
      "(2919200, 6)\n"
     ]
    }
   ],
   "source": [
    "print cart_product.shape"
   ]
  },
  {
   "cell_type": "code",
   "execution_count": 47,
   "metadata": {
    "collapsed": false
   },
   "outputs": [],
   "source": [
    "# sort cartesian product by hospital, calculate string sim\n",
    "cart_product['sim'] = cart_product[['hospital_x', 'hospital_y']].apply(get_name_str_sim, axis=1)"
   ]
  },
  {
   "cell_type": "code",
   "execution_count": 48,
   "metadata": {
    "collapsed": true
   },
   "outputs": [],
   "source": [
    "cp2 = cart_product.sort_values(['hospital_x', 'sim'], ascending=False).drop_duplicates(['hospital_x'], keep='first')"
   ]
  },
  {
   "cell_type": "code",
   "execution_count": 49,
   "metadata": {
    "collapsed": false
   },
   "outputs": [],
   "source": [
    "cp2.to_csv(os.path.join(CORRECTIONS_DIR, 'hospitals_corrections_raw.csv'))"
   ]
  },
  {
   "cell_type": "code",
   "execution_count": 50,
   "metadata": {
    "collapsed": false
   },
   "outputs": [
    {
     "data": {
      "text/html": [
       "<div>\n",
       "<table border=\"1\" class=\"dataframe\">\n",
       "  <thead>\n",
       "    <tr style=\"text-align: right;\">\n",
       "      <th></th>\n",
       "      <th>hospital_x</th>\n",
       "      <th>index_card_hospital</th>\n",
       "      <th>key</th>\n",
       "      <th>hospital_y</th>\n",
       "      <th>ipfcode</th>\n",
       "      <th>org_index_name</th>\n",
       "      <th>sim</th>\n",
       "    </tr>\n",
       "  </thead>\n",
       "  <tbody>\n",
       "    <tr>\n",
       "      <th>2881948</th>\n",
       "      <td>YORK HOSPITAL YORK PENNSYLVANIA</td>\n",
       "      <td>YORK HOSPITAL YORK PENNSYLVANIA</td>\n",
       "      <td>0</td>\n",
       "      <td>NEW YORK HOSPITAL</td>\n",
       "      <td>7554403</td>\n",
       "      <td>NEW YORK-PRESBYTERIAN HEALTHCARE--NEW YORK-PRE...</td>\n",
       "      <td>76</td>\n",
       "    </tr>\n",
       "    <tr>\n",
       "      <th>1945668</th>\n",
       "      <td>YORK HOSPITAL</td>\n",
       "      <td>YORK HOSPITAL</td>\n",
       "      <td>0</td>\n",
       "      <td>NEW YORK HOSPITAL</td>\n",
       "      <td>7554403</td>\n",
       "      <td>NEW YORK-PRESBYTERIAN HEALTHCARE--NEW YORK-PRE...</td>\n",
       "      <td>100</td>\n",
       "    </tr>\n",
       "    <tr>\n",
       "      <th>922029</th>\n",
       "      <td>YALE UNIVERSITY SCHOOL OF MEDICINE</td>\n",
       "      <td>YALE UNIVERSITY SCHOOL OF MEDICINE</td>\n",
       "      <td>0</td>\n",
       "      <td>YALE UNIVERSITY</td>\n",
       "      <td>9420201</td>\n",
       "      <td>YALE UNIVERSITY</td>\n",
       "      <td>100</td>\n",
       "    </tr>\n",
       "    <tr>\n",
       "      <th>1516549</th>\n",
       "      <td>YALE UNIVERSITY GRACE NEW HAVEN COMMUNITY</td>\n",
       "      <td>YALE UNIVERSITY GRACE NEW HAVEN COMMUNITY</td>\n",
       "      <td>0</td>\n",
       "      <td>YALE UNIVERSITY</td>\n",
       "      <td>9420201</td>\n",
       "      <td>YALE UNIVERSITY</td>\n",
       "      <td>100</td>\n",
       "    </tr>\n",
       "    <tr>\n",
       "      <th>170015</th>\n",
       "      <td>YALE NEW HAVEN MEDICAL CENTER TEMPLE UNIVERSIT...</td>\n",
       "      <td>YALE NEW HAVEN MEDICAL CENTER TEMPLE UNIVERSIT...</td>\n",
       "      <td>0</td>\n",
       "      <td>TEMPLE UNIVERSITY</td>\n",
       "      <td>8240301</td>\n",
       "      <td>TEMPLE UNIVERSITY</td>\n",
       "      <td>100</td>\n",
       "    </tr>\n",
       "  </tbody>\n",
       "</table>\n",
       "</div>"
      ],
      "text/plain": [
       "                                                hospital_x  \\\n",
       "2881948                    YORK HOSPITAL YORK PENNSYLVANIA   \n",
       "1945668                                      YORK HOSPITAL   \n",
       "922029                  YALE UNIVERSITY SCHOOL OF MEDICINE   \n",
       "1516549          YALE UNIVERSITY GRACE NEW HAVEN COMMUNITY   \n",
       "170015   YALE NEW HAVEN MEDICAL CENTER TEMPLE UNIVERSIT...   \n",
       "\n",
       "                                       index_card_hospital  key  \\\n",
       "2881948                    YORK HOSPITAL YORK PENNSYLVANIA    0   \n",
       "1945668                                      YORK HOSPITAL    0   \n",
       "922029                  YALE UNIVERSITY SCHOOL OF MEDICINE    0   \n",
       "1516549          YALE UNIVERSITY GRACE NEW HAVEN COMMUNITY    0   \n",
       "170015   YALE NEW HAVEN MEDICAL CENTER TEMPLE UNIVERSIT...    0   \n",
       "\n",
       "                hospital_y  ipfcode  \\\n",
       "2881948  NEW YORK HOSPITAL  7554403   \n",
       "1945668  NEW YORK HOSPITAL  7554403   \n",
       "922029     YALE UNIVERSITY  9420201   \n",
       "1516549    YALE UNIVERSITY  9420201   \n",
       "170015   TEMPLE UNIVERSITY  8240301   \n",
       "\n",
       "                                            org_index_name  sim  \n",
       "2881948  NEW YORK-PRESBYTERIAN HEALTHCARE--NEW YORK-PRE...   76  \n",
       "1945668  NEW YORK-PRESBYTERIAN HEALTHCARE--NEW YORK-PRE...  100  \n",
       "922029                                     YALE UNIVERSITY  100  \n",
       "1516549                                    YALE UNIVERSITY  100  \n",
       "170015                                   TEMPLE UNIVERSITY  100  "
      ]
     },
     "execution_count": 50,
     "metadata": {},
     "output_type": "execute_result"
    }
   ],
   "source": [
    "cp2.head()"
   ]
  },
  {
   "cell_type": "code",
   "execution_count": 51,
   "metadata": {
    "collapsed": false,
    "scrolled": true
   },
   "outputs": [],
   "source": [
    "residency_info = pd.read_csv(os.path.join(CORRECTIONS_DIR, 'hospital_corrections.csv'))\n"
   ]
  },
  {
   "cell_type": "code",
   "execution_count": 52,
   "metadata": {
    "collapsed": false
   },
   "outputs": [],
   "source": [
    "hospitals = pd.concat([matches3, residency_info], axis=0)\n",
    "hospitals['ipf_hospital'] = hospitals['hospital']\n",
    "hospitals2 = hospitals[['ipf_hospital', 'ipfcode']]"
   ]
  },
  {
   "cell_type": "code",
   "execution_count": 53,
   "metadata": {
    "collapsed": false
   },
   "outputs": [
    {
     "name": "stdout",
     "output_type": "stream",
     "text": [
      "(3793, 112)\n",
      "(3612, 110)\n"
     ]
    }
   ],
   "source": [
    "apps5 = pd.merge(left=apps4, right=hospitals2, left_on='residency_hospital', right_on='ipf_hospital', how='left')\n",
    "print apps5.shape\n",
    "print apps4.shape"
   ]
  },
  {
   "cell_type": "code",
   "execution_count": 54,
   "metadata": {
    "collapsed": true
   },
   "outputs": [],
   "source": [
    "apps5['sim'] = apps5[['residency_hospital', 'ipf_hospital']].apply(get_name_str_sim, axis=1)"
   ]
  },
  {
   "cell_type": "code",
   "execution_count": 55,
   "metadata": {
    "collapsed": false
   },
   "outputs": [],
   "source": [
    "# apps5.loc[apps5.duplicated([PERSON_ID], keep=False), NAME_COLS+['residency_hospital', 'ipf_hospital']]"
   ]
  },
  {
   "cell_type": "code",
   "execution_count": 56,
   "metadata": {
    "collapsed": false
   },
   "outputs": [],
   "source": [
    "apps5= apps5.sort_values([PERSON_ID, 'sim'], ascending=False).drop_duplicates(PERSON_ID)\n",
    "apps6 = apps5.rename(columns={'ipf_hospital': 'residency_hospital_std', 'ipfcode': 'residency_hospital_ipfcode'})"
   ]
  },
  {
   "cell_type": "code",
   "execution_count": 57,
   "metadata": {
    "collapsed": true
   },
   "outputs": [],
   "source": [
    "apps7 = pd.merge(left=apps6, right=hospitals2, left_on='internship_hospital', right_on='ipf_hospital', how='left')"
   ]
  },
  {
   "cell_type": "code",
   "execution_count": 58,
   "metadata": {
    "collapsed": false
   },
   "outputs": [],
   "source": [
    "apps7['sim'] = apps7[['internship_hospital', 'ipf_hospital']].apply(get_name_str_sim, axis=1)\n",
    "apps7= apps7.sort_values([PERSON_ID, 'sim'], ascending=False).drop_duplicates(PERSON_ID)"
   ]
  },
  {
   "cell_type": "code",
   "execution_count": 59,
   "metadata": {
    "collapsed": true
   },
   "outputs": [],
   "source": [
    "apps8 = apps7.rename(columns={'ipf_hospital': 'internship_hospital_std', 'ipfcode': 'internship_hospital_ipfcode'})"
   ]
  },
  {
   "cell_type": "code",
   "execution_count": 60,
   "metadata": {
    "collapsed": false
   },
   "outputs": [
    {
     "name": "stdout",
     "output_type": "stream",
     "text": [
      "(3612, 113)\n",
      "(3612, 115)\n"
     ]
    }
   ],
   "source": [
    "print apps5.shape\n",
    "print apps8.shape"
   ]
  },
  {
   "cell_type": "code",
   "execution_count": 61,
   "metadata": {
    "collapsed": true
   },
   "outputs": [],
   "source": [
    "apps8.to_csv(os.path.join(APP_DATA_DIR, 'NIH_AAMC_index_cards_standardized.csv'))"
   ]
  },
  {
   "cell_type": "code",
   "execution_count": null,
   "metadata": {
    "collapsed": true
   },
   "outputs": [],
   "source": []
  }
 ],
 "metadata": {
  "kernelspec": {
   "display_name": "Python 2",
   "language": "python",
   "name": "python2"
  },
  "language_info": {
   "codemirror_mode": {
    "name": "ipython",
    "version": 2
   },
   "file_extension": ".py",
   "mimetype": "text/x-python",
   "name": "python",
   "nbconvert_exporter": "python",
   "pygments_lexer": "ipython2",
   "version": "2.7.12"
  }
 },
 "nbformat": 4,
 "nbformat_minor": 1
}
