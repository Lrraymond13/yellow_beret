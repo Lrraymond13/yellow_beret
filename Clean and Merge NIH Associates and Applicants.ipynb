{
 "cells": [
  {
   "cell_type": "code",
   "execution_count": 1,
   "metadata": {
    "collapsed": false,
    "scrolled": false
   },
   "outputs": [
    {
     "name": "stderr",
     "output_type": "stream",
     "text": [
      "ERROR:root:Line magic function `%install_ext` not found.\n"
     ]
    }
   ],
   "source": [
    "%install_ext https://raw.github.com/cpcloud/ipython-autotime/master/autotime.py\n",
    "%load_ext autotime"
   ]
  },
  {
   "cell_type": "code",
   "execution_count": 2,
   "metadata": {
    "collapsed": false,
    "scrolled": false
   },
   "outputs": [
    {
     "name": "stdout",
     "output_type": "stream",
     "text": [
      "time: 229 ms\n"
     ]
    }
   ],
   "source": [
    "# read in known applicant files, dedupe and try to merge with applicants file\n",
    "from collections import Counter\n",
    "import difflib\n",
    "import uuid\n",
    "import itertools\n",
    "import pandas as pd\n",
    "import numpy as np\n",
    "import string\n",
    "import funcy\n",
    "import re\n",
    "import os\n",
    "\n",
    "from data_cleaning_functions import (trans_remov_punc, standardize_whitespace, remove_punc, remove_suffix_from_last_name,\n",
    "                                     clean_names, has_award, has_suffix, get_suffix, replace_last_name, \n",
    "                                     is_year_range, str_sim, clean_med_school, clean_std_college_name, long_form_date, \n",
    "                                    correct_mispellings, is_foreign_med_school, clean_med_school)\n",
    "\n",
    "from dev import (\n",
    "    APP_DATA_DIR, SUM_STAT_DIR, ATT_DATA_DIR, CARD_DATA_DIR, CORRECTIONS_DIR, AWARDS_KEYWORDS, NAME_COLS, RAW_NAME_COLS, \n",
    "    RAW_CARD_ID, RAW_INDEX_IDS, PERSON_APPLICATION_ID, PERSON_ID, NIH_ID, FEMALE_FIRST_NAMES, PICKLE_DIR)\n",
    "from merging_functions import *\n",
    "\n",
    "OUTPUT_CSV = False \n",
    "\n",
    "PERSONAL_INFO = [\n",
    "    'clean_first_name', 'clean_last_name', 'clean_middle_name',\n",
    "    'date_of_birth', 'medical_school', 'clean_college_trans']\n"
   ]
  },
  {
   "cell_type": "code",
   "execution_count": 3,
   "metadata": {
    "collapsed": false,
    "scrolled": false
   },
   "outputs": [
    {
     "name": "stdout",
     "output_type": "stream",
     "text": [
      "time: 34.8 ms\n"
     ]
    }
   ],
   "source": [
    "# id column that links back to raw applicant data file\n",
    "RAW_CARD_ID = 'raw_uuid'\n",
    "\n",
    "# column where the raw id information is stored\n",
    "RAW_INDEX_IDS = 'raw_card_ids'\n",
    "\n",
    "# try to get one id per unique applicant in the dataset\n",
    "PERSON_ID = 'person_uuid'\n",
    "# id per deduped application-person - if someone applied multiple times, they will have multiple ids\n",
    "PERSON_APPLICATION_ID = 'person_app_uuid' \n",
    "NIH_ID = 'dno'\n",
    "\n",
    "APPLICANT_SUFFIX = '_ap'\n",
    "ATTENDEE_SUFFIX = '_at'\n",
    "\n",
    "%load_ext autoreload\n",
    "%autoreload 2\n",
    "\n",
    "%reload_ext autoreload"
   ]
  },
  {
   "cell_type": "code",
   "execution_count": 4,
   "metadata": {
    "collapsed": false,
    "scrolled": false
   },
   "outputs": [
    {
     "name": "stdout",
     "output_type": "stream",
     "text": [
      "time: 12.8 ms\n"
     ]
    }
   ],
   "source": [
    "apps_filename = 'index_cards_deduped_fuzzy.csv'\n",
    "# apps_filename = 'person_application_date_wide.csv'\n",
    "\n",
    "NIH_filename = 'unique_attendees.csv'\n",
    "# NIH_filename = 'NIH_attendee_deduped_raw.csv'"
   ]
  },
  {
   "cell_type": "code",
   "execution_count": 5,
   "metadata": {
    "collapsed": false,
    "scrolled": false
   },
   "outputs": [
    {
     "name": "stdout",
     "output_type": "stream",
     "text": [
      "time: 34.5 ms\n"
     ]
    }
   ],
   "source": [
    "NAME_COLS = ['clean_first_name', 'clean_middle_name', 'clean_last_name'] \n",
    "\n",
    "MED_TRAINING_COLS = ['res_dates', 'intern_dates', 'residency_hospital', 'internship_hospital', 'medical_school', 'residency']\n"
   ]
  },
  {
   "cell_type": "code",
   "execution_count": 6,
   "metadata": {
    "collapsed": false,
    "scrolled": false
   },
   "outputs": [
    {
     "name": "stdout",
     "output_type": "stream",
     "text": [
      "time: 75.3 ms\n"
     ]
    }
   ],
   "source": [
    "# import NIH raw data set\n",
    "NIH_raw = pd.read_csv(os.path.join(ATT_DATA_DIR, NIH_filename)).drop_duplicates('dno')"
   ]
  },
  {
   "cell_type": "code",
   "execution_count": 7,
   "metadata": {
    "collapsed": false,
    "scrolled": false
   },
   "outputs": [
    {
     "name": "stdout",
     "output_type": "stream",
     "text": [
      "time: 12.5 ms\n"
     ]
    }
   ],
   "source": [
    "# drop from the data set all people with eod years > 1980\n",
    "# NIH = NIH_raw.loc[NIH_raw.eod_year<1980, :] \n",
    "NIH = NIH_raw\n",
    "del NIH['medical_school']"
   ]
  },
  {
   "cell_type": "code",
   "execution_count": 8,
   "metadata": {
    "collapsed": false
   },
   "outputs": [
    {
     "name": "stdout",
     "output_type": "stream",
     "text": [
      "UNIVERSITY OF ATHENS MEDICAL SCHOOL IN ATHENS GREECE\n",
      "UNIVERSITY OF SAINT ANTOINE SCHOOL OF MEDICINE PARIS FRANCE\n",
      "time: 3.5 s\n"
     ]
    }
   ],
   "source": [
    "NIH['clean_medical_school'] = NIH.med_school.str.upper().apply(clean_med_school)"
   ]
  },
  {
   "cell_type": "code",
   "execution_count": 9,
   "metadata": {
    "collapsed": false
   },
   "outputs": [
    {
     "data": {
      "text/html": [
       "<div>\n",
       "<table border=\"1\" class=\"dataframe\">\n",
       "  <thead>\n",
       "    <tr style=\"text-align: right;\">\n",
       "      <th></th>\n",
       "      <th>clean_first_name</th>\n",
       "      <th>clean_middle_name</th>\n",
       "      <th>clean_last_name</th>\n",
       "      <th>med_school</th>\n",
       "      <th>clean_medical_school</th>\n",
       "    </tr>\n",
       "  </thead>\n",
       "  <tbody>\n",
       "    <tr>\n",
       "      <th>176</th>\n",
       "      <td>ARNOLD</td>\n",
       "      <td>GLENN</td>\n",
       "      <td>LEVY</td>\n",
       "      <td>The George Washington University</td>\n",
       "      <td>GEORGE WASHINGTON UNIVERSITY SCHOOL OF MEDICINE</td>\n",
       "    </tr>\n",
       "    <tr>\n",
       "      <th>201</th>\n",
       "      <td>ARTHUR</td>\n",
       "      <td>LOUIS</td>\n",
       "      <td>LEVY</td>\n",
       "      <td>Albert Einstein College of Medicine</td>\n",
       "      <td>ALBERT EINSTEIN COLLEGE OF MEDICINE OF YESHIVA...</td>\n",
       "    </tr>\n",
       "    <tr>\n",
       "      <th>291</th>\n",
       "      <td>BERNARD</td>\n",
       "      <td>S</td>\n",
       "      <td>LEVY</td>\n",
       "      <td>Duke University School of Medicine</td>\n",
       "      <td>DUKE MEDICAL SCHOOL</td>\n",
       "    </tr>\n",
       "    <tr>\n",
       "      <th>1578</th>\n",
       "      <td>JAY</td>\n",
       "      <td>A</td>\n",
       "      <td>LEVY</td>\n",
       "      <td>College of Physicians and Surgeons</td>\n",
       "      <td>COLUMBIA UNIVERSITY COLLEGE OF PHYSICIANS AND ...</td>\n",
       "    </tr>\n",
       "    <tr>\n",
       "      <th>3176</th>\n",
       "      <td>ROBERT</td>\n",
       "      <td>ISAAC</td>\n",
       "      <td>LEVY</td>\n",
       "      <td>Yale</td>\n",
       "      <td>YALE UNIVERSITY SCHOOL OF MEDICINE</td>\n",
       "    </tr>\n",
       "    <tr>\n",
       "      <th>3370</th>\n",
       "      <td>RONALD</td>\n",
       "      <td>ISAAC</td>\n",
       "      <td>LEVY</td>\n",
       "      <td>Yale</td>\n",
       "      <td>YALE UNIVERSITY SCHOOL OF MEDICINE</td>\n",
       "    </tr>\n",
       "    <tr>\n",
       "      <th>3642</th>\n",
       "      <td>STUART</td>\n",
       "      <td>BLANK</td>\n",
       "      <td>LEVY</td>\n",
       "      <td>University of Pennsylvania, School Of Medicine</td>\n",
       "      <td>UNIVERSITY OF PENNSYLVANIA SCHOOL OF MEDICINE</td>\n",
       "    </tr>\n",
       "  </tbody>\n",
       "</table>\n",
       "</div>"
      ],
      "text/plain": [
       "     clean_first_name clean_middle_name clean_last_name  \\\n",
       "176            ARNOLD             GLENN            LEVY   \n",
       "201            ARTHUR             LOUIS            LEVY   \n",
       "291           BERNARD                 S            LEVY   \n",
       "1578              JAY                 A            LEVY   \n",
       "3176           ROBERT             ISAAC            LEVY   \n",
       "3370           RONALD             ISAAC            LEVY   \n",
       "3642           STUART             BLANK            LEVY   \n",
       "\n",
       "                                          med_school  \\\n",
       "176                 The George Washington University   \n",
       "201              Albert Einstein College of Medicine   \n",
       "291               Duke University School of Medicine   \n",
       "1578              College of Physicians and Surgeons   \n",
       "3176                                            Yale   \n",
       "3370                                            Yale   \n",
       "3642  University of Pennsylvania, School Of Medicine   \n",
       "\n",
       "                                   clean_medical_school  \n",
       "176     GEORGE WASHINGTON UNIVERSITY SCHOOL OF MEDICINE  \n",
       "201   ALBERT EINSTEIN COLLEGE OF MEDICINE OF YESHIVA...  \n",
       "291                                 DUKE MEDICAL SCHOOL  \n",
       "1578  COLUMBIA UNIVERSITY COLLEGE OF PHYSICIANS AND ...  \n",
       "3176                 YALE UNIVERSITY SCHOOL OF MEDICINE  \n",
       "3370                 YALE UNIVERSITY SCHOOL OF MEDICINE  \n",
       "3642      UNIVERSITY OF PENNSYLVANIA SCHOOL OF MEDICINE  "
      ]
     },
     "execution_count": 9,
     "metadata": {},
     "output_type": "execute_result"
    },
    {
     "name": "stdout",
     "output_type": "stream",
     "text": [
      "time: 31.8 ms\n"
     ]
    }
   ],
   "source": [
    "NIH.loc[NIH.clean_last_name=='LEVY', NAME_COLS+['med_school', 'clean_medical_school']]"
   ]
  },
  {
   "cell_type": "code",
   "execution_count": 10,
   "metadata": {
    "collapsed": false,
    "scrolled": false
   },
   "outputs": [
    {
     "name": "stdout",
     "output_type": "stream",
     "text": [
      "time: 113 ms\n"
     ]
    }
   ],
   "source": [
    "# import cleaned, deduped applicant data set in wide form (multiple app dates as columns)\n",
    "apps = pd.read_csv(os.path.join(APP_DATA_DIR, apps_filename))\n"
   ]
  },
  {
   "cell_type": "code",
   "execution_count": 11,
   "metadata": {
    "collapsed": false
   },
   "outputs": [
    {
     "data": {
      "text/html": [
       "<div>\n",
       "<table border=\"1\" class=\"dataframe\">\n",
       "  <thead>\n",
       "    <tr style=\"text-align: right;\">\n",
       "      <th></th>\n",
       "      <th>clean_first_name</th>\n",
       "      <th>clean_middle_name</th>\n",
       "      <th>clean_last_name</th>\n",
       "      <th>year_accepted</th>\n",
       "      <th>application_date</th>\n",
       "    </tr>\n",
       "  </thead>\n",
       "  <tbody>\n",
       "    <tr>\n",
       "      <th>282</th>\n",
       "      <td>BARRY</td>\n",
       "      <td>SPENCER</td>\n",
       "      <td>COLLER</td>\n",
       "      <td>1972.0</td>\n",
       "      <td>2016-04-11</td>\n",
       "    </tr>\n",
       "    <tr>\n",
       "      <th>620</th>\n",
       "      <td>DAVID</td>\n",
       "      <td>CAMERON</td>\n",
       "      <td>MCCHURE</td>\n",
       "      <td>NaN</td>\n",
       "      <td>1972-02-07</td>\n",
       "    </tr>\n",
       "    <tr>\n",
       "      <th>1998</th>\n",
       "      <td>JOSEPH</td>\n",
       "      <td>GEORGE</td>\n",
       "      <td>PERPICH</td>\n",
       "      <td>1968</td>\n",
       "      <td>1941-07-22</td>\n",
       "    </tr>\n",
       "  </tbody>\n",
       "</table>\n",
       "</div>"
      ],
      "text/plain": [
       "     clean_first_name clean_middle_name clean_last_name year_accepted  \\\n",
       "282             BARRY           SPENCER          COLLER        1972.0   \n",
       "620             DAVID           CAMERON         MCCHURE           NaN   \n",
       "1998           JOSEPH            GEORGE         PERPICH          1968   \n",
       "\n",
       "     application_date  \n",
       "282        2016-04-11  \n",
       "620        1972-02-07  \n",
       "1998       1941-07-22  "
      ]
     },
     "execution_count": 11,
     "metadata": {},
     "output_type": "execute_result"
    },
    {
     "name": "stdout",
     "output_type": "stream",
     "text": [
      "time: 26.6 ms\n"
     ]
    }
   ],
   "source": [
    "apps.loc[pd.isnull(apps.application_year), NAME_COLS+['year_accepted', 'application_date']]"
   ]
  },
  {
   "cell_type": "code",
   "execution_count": 12,
   "metadata": {
    "collapsed": false
   },
   "outputs": [
    {
     "name": "stdout",
     "output_type": "stream",
     "text": [
      "time: 28.9 ms\n"
     ]
    }
   ],
   "source": [
    "apps.loc[apps.clean_first_name=='HOWARD UNIVERSITY COLLEGE OF MEDICINE', 'clean_first_name'] = 'HOWARD'\n",
    "apps.loc[apps.clean_middle_name=='HOWARD UNIVERSITY COLLEGE OF MEDICINE', 'clean_middle_name'] = 'HOWARD'\n",
    "apps.loc[apps.clean_first_name=='STANFORD UNIVERSITY', 'clean_first_name'] = 'STANFORD'\n",
    "\n",
    "NIH.loc[NIH.clean_first_name=='HOWARD UNIVERSITY COLLEGE OF MEDICINE', 'clean_first_name']\n",
    "NIH.loc[NIH.clean_first_name=='STANFORD UNIVERSITY', 'clean_first_name'] = 'STANFORD'\n",
    "\n",
    "apps.loc[apps.clean_last_name=='HARRIN', NAME_COLS+['medical_school', 'application_year']]\n",
    "apps.loc[apps.clean_last_name=='MCCLURE MCCHURE', 'clean_last_name'] = 'MCCLURE'\n",
    "apps.loc[apps.clean_last_name=='MCCHURE', 'clean_last_name'] = 'MCCLURE'\n",
    "apps.loc[apps.clean_last_name=='MCCLURE', 'application_year'] = 1972"
   ]
  },
  {
   "cell_type": "code",
   "execution_count": 13,
   "metadata": {
    "collapsed": false
   },
   "outputs": [
    {
     "name": "stdout",
     "output_type": "stream",
     "text": [
      "time: 21.5 ms\n"
     ]
    }
   ],
   "source": [
    "apps.loc[apps.clean_last_name=='COLLER', 'application_year'] = 1972\n",
    "\n",
    "apps.loc[apps.clean_last_name=='PERPICH', 'application_year'] = 1967\n",
    "apps.loc[apps.clean_last_name=='PERPICH', 'clean_first_name'] = 'JOSEPH'\n",
    "\n",
    "apps = apps.loc[~(apps.clean_last_name=='MCCHURE')]"
   ]
  },
  {
   "cell_type": "code",
   "execution_count": 14,
   "metadata": {
    "collapsed": false
   },
   "outputs": [
    {
     "data": {
      "text/plain": [
       "1948    1968.0\n",
       "Name: eod_year, dtype: float64"
      ]
     },
     "execution_count": 14,
     "metadata": {},
     "output_type": "execute_result"
    },
    {
     "name": "stdout",
     "output_type": "stream",
     "text": [
      "time: 21.9 ms\n"
     ]
    }
   ],
   "source": [
    "NIH.loc[NIH.clean_last_name=='PERPICH', 'eod_year']"
   ]
  },
  {
   "cell_type": "code",
   "execution_count": 15,
   "metadata": {
    "collapsed": false,
    "scrolled": false
   },
   "outputs": [
    {
     "name": "stdout",
     "output_type": "stream",
     "text": [
      "\"Open\"\n",
      "Str. Medicine\n",
      "Medicine\n",
      "time: 60.6 ms\n"
     ]
    }
   ],
   "source": [
    "apps.loc[:, 'res_dates'] = apps['residency_year(s)'].apply(long_form_date)\n",
    "\n",
    "apps.loc[:, 'intern_dates'] = apps['internship_year(s)'].apply(long_form_date)"
   ]
  },
  {
   "cell_type": "code",
   "execution_count": 16,
   "metadata": {
    "collapsed": false,
    "scrolled": false
   },
   "outputs": [
    {
     "name": "stdout",
     "output_type": "stream",
     "text": [
      "time: 16.6 ms\n"
     ]
    }
   ],
   "source": [
    "NIH = NIH.rename(columns={'res_dtes':'res_dates', 'intern_dte':'intern_dates', 'intern_hos': 'internship_hospital', \n",
    "                         'res_hosp':'residency_hospital', 'clean_medical_school': 'medical_school'})\n",
    "# sorted(NIH.columns)"
   ]
  },
  {
   "cell_type": "code",
   "execution_count": 17,
   "metadata": {
    "collapsed": false,
    "scrolled": false
   },
   "outputs": [
    {
     "name": "stdout",
     "output_type": "stream",
     "text": [
      "time: 189 ms\n"
     ]
    }
   ],
   "source": [
    "apps2 = apps.rename(\n",
    "    columns={'residency_type': 'residency', 'internship_hospital_1': 'internship_hospital'})\n",
    "\n",
    "string_med_cols = ['medical_school', 'residency_hospital', 'internship_hospital', 'residency']\n",
    "\n",
    "# apply string cleaning function to each of the string medical info columns\n",
    "apps2.loc[:, string_med_cols] = apps2[string_med_cols].applymap(clean_names)"
   ]
  },
  {
   "cell_type": "code",
   "execution_count": 18,
   "metadata": {
    "collapsed": false,
    "scrolled": false
   },
   "outputs": [
    {
     "name": "stdout",
     "output_type": "stream",
     "text": [
      "time: 75.9 ms\n"
     ]
    }
   ],
   "source": [
    "to_remove = ['TERRECE', 'FRED', 'LAURENCE',\n",
    "             'CUONO', 'DEFRENZE', 'JEFFERY', 'FINKLEMAN', 'SHERRAD', 'ANSCHNETZ', 'MARC', 'JENSON', 'KASTI', \n",
    "            'ADELBERT', 'RITCHARD', 'MANSFORD', 'DEFRENZO', 'DROBIN', 'HAMES', 'KREUZ', 'JERROLD', 'MANEUSI',\n",
    "            'UNGARO']\n",
    "to_replace = ['TERRENCE', 'FREDERICK', 'LAWRENCE',\n",
    "              'CUOMO', 'DEFRONZO', 'JEFFREY', 'FINKELMAN', 'SHERRARD', 'ANSCHUETZ', 'MARCUS', 'JENSEN', 'KASTL',\n",
    "              'ALBERT', 'RITCHARD', 'MANIFORD', 'DEFRONZO', 'DROBIS', 'JAMES', 'KRUEZ', 'JERROD', 'MANCUSI',\n",
    "              'UNGARO']\n",
    "\n",
    "correct_name_mispellings_fnc = funcy.rpartial(correct_mispellings, to_remove, to_replace)\n",
    "\n",
    "apps2.loc[:, 'clean_last_name'] = apps2.clean_last_name.apply(correct_name_mispellings_fnc)\n",
    "apps2.loc[:, 'clean_first_name'] = apps2.clean_first_name.apply(correct_name_mispellings_fnc)"
   ]
  },
  {
   "cell_type": "code",
   "execution_count": 19,
   "metadata": {
    "collapsed": false
   },
   "outputs": [
    {
     "name": "stdout",
     "output_type": "stream",
     "text": [
      "time: 13.9 ms\n"
     ]
    }
   ],
   "source": [
    "# function to go in and correct some of the name mispellings in both data sets\n",
    "# MUTATING FUNCTION\n",
    "def change_names(df, selection_type, selection_value, to_change_type, to_change_values):\n",
    "    for t, v in zip(to_change_type, to_change_values):\n",
    "        print t, v\n",
    "        sel = df.loc[df[selection_type]==selection_value, t]\n",
    "        print sel.shape[0]\n",
    "        if sel.shape[0] > 1:\n",
    "            print \"WARNING\"\n",
    "        df.loc[df[selection_type]==selection_value, t] = v"
   ]
  },
  {
   "cell_type": "code",
   "execution_count": 20,
   "metadata": {
    "collapsed": false
   },
   "outputs": [
    {
     "name": "stdout",
     "output_type": "stream",
     "text": [
      "clean_first_name BRUCE\n",
      "1\n",
      "clean_middle_name WILCOX\n",
      "1\n",
      "clean_first_name MARC\n",
      "1\n",
      "clean_middle_name I\n",
      "1\n",
      "clean_first_name SIDNEY\n",
      "1\n",
      "clean_middle_name CHARLES\n",
      "1\n",
      "medical_school WAKE_FOREST\n",
      "1\n",
      "clean_first_name MICHAEL\n",
      "1\n",
      "clean_middle_name RAY\n",
      "1\n",
      "clean_first_name STANLEY\n",
      "1\n",
      "clean_middle_name WILLETS\n",
      "1\n",
      "medical_school ROCHESTER\n",
      "1\n",
      "time: 97.6 ms\n"
     ]
    }
   ],
   "source": [
    "\n",
    "apps2.loc[(apps2.clean_last_name=='LIBOW') & (apps2.clean_middle_name=='S'), 'clean_first_name'] = 'LESLIE'\n",
    "\n",
    "change_names(\n",
    "    apps2, 'clean_last_name', 'CHESEBRO', ['clean_first_name', 'clean_middle_name'], ['BRUCE', 'WILCOX'])\n",
    "change_names(\n",
    "    apps2, 'clean_last_name', 'GALANTER', ['clean_first_name', 'clean_middle_name'], ['MARC', 'I'])\n",
    "change_names(\n",
    "    apps2, 'clean_last_name', 'BEAN', ['clean_first_name', 'clean_middle_name', 'medical_school'], ['SIDNEY', 'CHARLES', 'WAKE_FOREST'])\n",
    "change_names(\n",
    "    apps2, 'clean_last_name', 'BOYD', ['clean_first_name', 'clean_middle_name'], ['MICHAEL', 'RAY'])\n",
    "change_names(\n",
    "    apps2, 'clean_last_name', 'CHAPMAN', \n",
    "    ['clean_first_name', 'clean_middle_name', 'medical_school'], ['STANLEY', 'WILLETS', 'ROCHESTER'])"
   ]
  },
  {
   "cell_type": "code",
   "execution_count": 21,
   "metadata": {
    "collapsed": false,
    "scrolled": false
   },
   "outputs": [
    {
     "name": "stdout",
     "output_type": "stream",
     "text": [
      "clean_first_name DAVID\n",
      "1\n",
      "clean_first_name ROBERT\n",
      "0\n",
      "clean_middle_name D\n",
      "0\n",
      "clean_first_name ROBERT\n",
      "1\n",
      "clean_middle_name ADRIAN\n",
      "1\n",
      "clean_first_name JOHN\n",
      "0\n",
      "clean_middle_name WILLIS\n",
      "0\n",
      "clean_first_name HARRY\n",
      "1\n",
      "clean_middle_name LOUIS\n",
      "1\n",
      "clean_first_name FRANCIS\n",
      "1\n",
      "clean_middle_name JOHN\n",
      "1\n",
      "clean_first_name DAVID\n",
      "1\n",
      "clean_middle_name GENE\n",
      "1\n",
      "clean_last_name KLAEVEMAN\n",
      "0\n",
      "clean_last_name MATTHEW\n",
      "0\n",
      "time: 102 ms\n"
     ]
    }
   ],
   "source": [
    "change_names(apps2, 'clean_last_name', 'DANFORTH', ['clean_first_name'], ['DAVID'])\n",
    "change_names(apps2, 'clean_last_name', 'HUNT', ['clean_first_name', 'clean_middle_name'], ['ROBERT', 'D'])\n",
    "change_names(apps2, 'clean_last_name', 'KARK', ['clean_first_name', 'clean_middle_name'], ['ROBERT', 'ADRIAN'])\n",
    "change_names(apps2, 'clean_last_name', 'KEBABIAN', ['clean_first_name', 'clean_middle_name'], ['JOHN', 'WILLIS'])\n",
    "change_names(apps2, 'clean_last_name', 'KNOPF', ['clean_first_name', 'clean_middle_name'], ['HARRY', 'LOUIS'])\n",
    "change_names(apps2, 'clean_last_name', 'KROLIKOWSKI', ['clean_first_name', 'clean_middle_name'], ['FRANCIS', 'JOHN'])\n",
    "change_names(apps2, 'clean_last_name', 'KASTL', ['clean_first_name', 'clean_middle_name'], ['DAVID', 'GENE'])\n",
    "change_names(apps2, 'clean_last_name', 'KLAVEMAN', ['clean_last_name'], ['KLAEVEMAN'])\n",
    "change_names(apps2, 'clean_last_name', 'MATHEW', ['clean_last_name'], ['MATTHEW'])\n",
    "\n",
    "apps2.loc[apps2.clean_last_name=='CHESEBRO', ['clean_first_name']] = 'BRUCE'\n",
    "apps2.loc[apps2.clean_last_name=='CHESEBRO', ['clean_middle_name']] = 'WILCOX'\n",
    "apps2.loc[(apps2.clean_last_name=='HEALY') & (apps2.medical_school=='USC KECK SCHOOL OF MEDICINE'), ['clean_first_name']] = 'MARK'\n",
    "apps2.loc[(apps2.clean_last_name=='HEALY') & (apps2.medical_school=='USC KECK SCHOOL OF MEDICINE'), ['clean_middle_name']] = 'H'\n",
    "\n",
    "apps2.loc[apps2.clean_last_name=='LENN', 'clean_first_name'] = 'NICHOLAS'\n",
    "apps2.loc[apps2.clean_last_name=='BRESLOW', 'clean_first_name'] = 'JAN'\n",
    "apps2.loc[apps2.clean_last_name=='BRESLOW', 'clean_middle_name'] = 'LESLIE'\n",
    "\n",
    "apps2.loc[(apps2.clean_last_name=='NADLER') & (pd.isnull(apps2.clean_first_name)), 'clean_first_name'] = 'LEE'\n",
    "apps2.loc[(apps2.clean_last_name=='NADLER') & (apps2.clean_first_name=='LEE'), 'clean_middle_name'] = 'MARSHALL'\n",
    "apps2.loc[(pd.isnull(apps2.clean_first_name)) & (apps2.clean_last_name=='ROSEN'), 'clean_first_name'] = 'HENRY'\n",
    "\n",
    "apps2.loc[(apps2.clean_last_name=='NEELON'), 'clean_first_name'] = 'FRANCIS'\n",
    "apps2.loc[(apps2.clean_last_name=='NEELON') , 'clean_middle_name'] = 'ALBERT'\n",
    "\n",
    "apps2.loc[(apps2.clean_last_name=='NICHOLAS') , 'clean_first_name'] = 'JOHN'"
   ]
  },
  {
   "cell_type": "code",
   "execution_count": 22,
   "metadata": {
    "collapsed": false,
    "scrolled": false
   },
   "outputs": [
    {
     "name": "stdout",
     "output_type": "stream",
     "text": [
      "time: 38.8 ms\n"
     ]
    }
   ],
   "source": [
    "# there are a bunch of duplicates in apps, where application year is the same, but first name is missing\n",
    "name_dups = apps2.loc[\n",
    "    apps2.duplicated(\n",
    "        ['clean_last_name', 'medical_school', 'application_year'], keep=False), NAME_COLS+[PERSON_ID, 'medical_school', 'application_year']]"
   ]
  },
  {
   "cell_type": "code",
   "execution_count": 23,
   "metadata": {
    "collapsed": false,
    "scrolled": false
   },
   "outputs": [
    {
     "name": "stdout",
     "output_type": "stream",
     "text": [
      "time: 78.2 ms\n"
     ]
    }
   ],
   "source": [
    "to_delete_ids = name_dups.loc[(pd.isnull(name_dups.clean_middle_name)) & (pd.isnull(name_dups.clean_first_name))\n",
    "                             & pd.isnull(name_dups.medical_school), PERSON_ID]"
   ]
  },
  {
   "cell_type": "code",
   "execution_count": 24,
   "metadata": {
    "collapsed": false,
    "scrolled": false
   },
   "outputs": [
    {
     "name": "stdout",
     "output_type": "stream",
     "text": [
      "time: 73.1 ms\n"
     ]
    }
   ],
   "source": [
    "apps4 = apps2.loc[~apps2[PERSON_ID].isin(to_delete_ids), :].sort_values(\n",
    "    NAME_COLS+['medical_school'], ascending=False).drop_duplicates(NAME_COLS+['medical_school'])"
   ]
  },
  {
   "cell_type": "code",
   "execution_count": 25,
   "metadata": {
    "collapsed": false,
    "scrolled": false
   },
   "outputs": [
    {
     "name": "stdout",
     "output_type": "stream",
     "text": [
      "(4115, 86)\n",
      "(4116, 86)\n",
      "time: 52 ms\n"
     ]
    }
   ],
   "source": [
    "print apps4.shape\n",
    "print apps2.shape"
   ]
  },
  {
   "cell_type": "code",
   "execution_count": 26,
   "metadata": {
    "collapsed": false,
    "scrolled": false
   },
   "outputs": [
    {
     "name": "stdout",
     "output_type": "stream",
     "text": [
      "time: 46 ms\n"
     ]
    }
   ],
   "source": [
    "NIH.loc[(NIH.clean_last_name=='ALEXANDER') & (NIH.clean_first_name=='JOHN'), 'clean_middle_name'] = 'CHARLES'"
   ]
  },
  {
   "cell_type": "code",
   "execution_count": 27,
   "metadata": {
    "collapsed": false,
    "scrolled": false
   },
   "outputs": [
    {
     "name": "stdout",
     "output_type": "stream",
     "text": [
      "time: 28.7 ms\n"
     ]
    }
   ],
   "source": [
    "NIH.loc[(NIH.clean_last_name=='LEBOWITZ') & (NIH.clean_first_name=='EDWARD ARTHUR'),'clean_middle_name'] = 'ARTHUR'\n",
    "NIH.loc[(NIH.clean_last_name=='LEBOWITZ') & (NIH.clean_first_name=='EDWARD ARTHUR'),'clean_first_name'] = 'EDWARD'\n",
    "NIH.loc[(\n",
    "        NIH.clean_last_name=='LEBOWITZ') & (\n",
    "            NIH.clean_first_name=='EDWARD'), 'medical_school'] = 'ALBERT EINSTEIN COLLEGE OF MEDICINE OF YESHIVA'"
   ]
  },
  {
   "cell_type": "code",
   "execution_count": 28,
   "metadata": {
    "collapsed": false
   },
   "outputs": [
    {
     "name": "stdout",
     "output_type": "stream",
     "text": [
      "time: 58.7 ms\n"
     ]
    }
   ],
   "source": [
    "NIH = NIH.loc[NIH.clean_first_name!='GERALDINE']"
   ]
  },
  {
   "cell_type": "code",
   "execution_count": 29,
   "metadata": {
    "collapsed": false,
    "scrolled": false
   },
   "outputs": [
    {
     "name": "stdout",
     "output_type": "stream",
     "text": [
      "time: 158 ms\n"
     ]
    }
   ],
   "source": [
    "# read in manual matches\n",
    "man = pd.read_excel(os.path.join(CORRECTIONS_DIR, 'manual_dno_matches.xlsx'), index=False).rename(columns={'medical_school': 'dno_medical_school'})\n",
    "man['medical_school'] = man.dno_medical_school.apply(clean_med_school)"
   ]
  },
  {
   "cell_type": "code",
   "execution_count": 30,
   "metadata": {
    "collapsed": false,
    "scrolled": false
   },
   "outputs": [
    {
     "name": "stdout",
     "output_type": "stream",
     "text": [
      "(112, 92)\n"
     ]
    },
    {
     "data": {
      "text/html": [
       "<div>\n",
       "<table border=\"1\" class=\"dataframe\">\n",
       "  <thead>\n",
       "    <tr style=\"text-align: right;\">\n",
       "      <th></th>\n",
       "      <th>clean_first_name</th>\n",
       "      <th>clean_middle_name</th>\n",
       "      <th>clean_last_name</th>\n",
       "      <th>dno</th>\n",
       "      <th>medical_school_x</th>\n",
       "      <th>medical_school_y</th>\n",
       "      <th>sim</th>\n",
       "    </tr>\n",
       "  </thead>\n",
       "  <tbody>\n",
       "  </tbody>\n",
       "</table>\n",
       "</div>"
      ],
      "text/plain": [
       "Empty DataFrame\n",
       "Columns: [clean_first_name, clean_middle_name, clean_last_name, dno, medical_school_x, medical_school_y, sim]\n",
       "Index: []"
      ]
     },
     "execution_count": 30,
     "metadata": {},
     "output_type": "execute_result"
    },
    {
     "name": "stdout",
     "output_type": "stream",
     "text": [
      "time: 49.8 ms\n"
     ]
    }
   ],
   "source": [
    "t = pd.merge(left=apps4, right=man, on=['clean_last_name', 'clean_middle_name'], how='inner', suffixes=['_x', '_y'])\n",
    "print t.shape\n",
    "\n",
    "t['sim'] = t[['medical_school_x', 'medical_school_y']].apply(get_name_str_sim, axis=1)\n",
    "\n",
    "t['clean_first_name'] = t['clean_first_name_y']\n",
    "\n",
    "t_1 = t.sort_values(['dno', 'sim'], ascending=False).drop_duplicates(['dno'], keep='first')\n",
    "\n",
    "# t[NAME_COLS+['dno', 'medical_school_x', 'medical_school_y', 'sim']]\n",
    "t_1.loc[t_1.duplicated('dno', keep=False), NAME_COLS+['dno', 'medical_school_x', 'medical_school_y', 'sim']]"
   ]
  },
  {
   "cell_type": "code",
   "execution_count": 31,
   "metadata": {
    "collapsed": false
   },
   "outputs": [
    {
     "data": {
      "text/html": [
       "<div>\n",
       "<table border=\"1\" class=\"dataframe\">\n",
       "  <thead>\n",
       "    <tr style=\"text-align: right;\">\n",
       "      <th></th>\n",
       "      <th>clean_first_name</th>\n",
       "      <th>clean_middle_name</th>\n",
       "      <th>clean_last_name</th>\n",
       "      <th>medical_school</th>\n",
       "    </tr>\n",
       "  </thead>\n",
       "  <tbody>\n",
       "    <tr>\n",
       "      <th>1316</th>\n",
       "      <td>HARVEY</td>\n",
       "      <td>JOEL</td>\n",
       "      <td>COHEN</td>\n",
       "      <td>DUKE MEDICAL SCHOOL</td>\n",
       "    </tr>\n",
       "    <tr>\n",
       "      <th>1315</th>\n",
       "      <td>HARVEY</td>\n",
       "      <td>JAY</td>\n",
       "      <td>COHEN</td>\n",
       "      <td>SUNY DOWNSTATE MEDICAL CENTER COLLEGE OF MEDICINE</td>\n",
       "    </tr>\n",
       "  </tbody>\n",
       "</table>\n",
       "</div>"
      ],
      "text/plain": [
       "     clean_first_name clean_middle_name clean_last_name  \\\n",
       "1316           HARVEY              JOEL           COHEN   \n",
       "1315           HARVEY               JAY           COHEN   \n",
       "\n",
       "                                         medical_school  \n",
       "1316                                DUKE MEDICAL SCHOOL  \n",
       "1315  SUNY DOWNSTATE MEDICAL CENTER COLLEGE OF MEDICINE  "
      ]
     },
     "execution_count": 31,
     "metadata": {},
     "output_type": "execute_result"
    },
    {
     "name": "stdout",
     "output_type": "stream",
     "text": [
      "time: 25.9 ms\n"
     ]
    }
   ],
   "source": [
    "apps4.loc[(apps4.clean_last_name=='COHEN') & (apps4.clean_first_name=='HARVEY'), NAME_COLS+['medical_school']]"
   ]
  },
  {
   "cell_type": "code",
   "execution_count": 32,
   "metadata": {
    "collapsed": false
   },
   "outputs": [
    {
     "data": {
      "text/html": [
       "<div>\n",
       "<table border=\"1\" class=\"dataframe\">\n",
       "  <thead>\n",
       "    <tr style=\"text-align: right;\">\n",
       "      <th></th>\n",
       "      <th>clean_first_name</th>\n",
       "      <th>clean_middle_name</th>\n",
       "      <th>clean_last_name</th>\n",
       "      <th>first_name</th>\n",
       "      <th>sim</th>\n",
       "    </tr>\n",
       "  </thead>\n",
       "  <tbody>\n",
       "    <tr>\n",
       "      <th>16</th>\n",
       "      <td>HARVEY</td>\n",
       "      <td>JAY</td>\n",
       "      <td>COHEN</td>\n",
       "      <td>Ronald</td>\n",
       "      <td>58.0</td>\n",
       "    </tr>\n",
       "    <tr>\n",
       "      <th>17</th>\n",
       "      <td>HARVEY</td>\n",
       "      <td>JAY</td>\n",
       "      <td>COHEN</td>\n",
       "      <td>Harvey</td>\n",
       "      <td>100.0</td>\n",
       "    </tr>\n",
       "    <tr>\n",
       "      <th>18</th>\n",
       "      <td>HARVEY</td>\n",
       "      <td>JAY</td>\n",
       "      <td>COHEN</td>\n",
       "      <td>Donald</td>\n",
       "      <td>65.0</td>\n",
       "    </tr>\n",
       "    <tr>\n",
       "      <th>53</th>\n",
       "      <td>MAX</td>\n",
       "      <td>HARRY</td>\n",
       "      <td>COHEN</td>\n",
       "      <td>Max</td>\n",
       "      <td>100.0</td>\n",
       "    </tr>\n",
       "    <tr>\n",
       "      <th>74</th>\n",
       "      <td>JEROLD</td>\n",
       "      <td>ARNOLD</td>\n",
       "      <td>COHEN</td>\n",
       "      <td>Jerold</td>\n",
       "      <td>100.0</td>\n",
       "    </tr>\n",
       "  </tbody>\n",
       "</table>\n",
       "</div>"
      ],
      "text/plain": [
       "   clean_first_name clean_middle_name clean_last_name first_name    sim\n",
       "16           HARVEY               JAY           COHEN     Ronald   58.0\n",
       "17           HARVEY               JAY           COHEN     Harvey  100.0\n",
       "18           HARVEY               JAY           COHEN     Donald   65.0\n",
       "53              MAX             HARRY           COHEN        Max  100.0\n",
       "74           JEROLD            ARNOLD           COHEN     Jerold  100.0"
      ]
     },
     "execution_count": 32,
     "metadata": {},
     "output_type": "execute_result"
    },
    {
     "name": "stdout",
     "output_type": "stream",
     "text": [
      "time: 61.1 ms\n"
     ]
    }
   ],
   "source": [
    "t.loc[t.clean_last_name=='COHEN', NAME_COLS+['first_name', 'sim']]"
   ]
  },
  {
   "cell_type": "code",
   "execution_count": 33,
   "metadata": {
    "collapsed": false
   },
   "outputs": [
    {
     "data": {
      "text/html": [
       "<div>\n",
       "<table border=\"1\" class=\"dataframe\">\n",
       "  <thead>\n",
       "    <tr style=\"text-align: right;\">\n",
       "      <th></th>\n",
       "      <th>clean_first_name</th>\n",
       "      <th>clean_middle_name</th>\n",
       "      <th>clean_last_name</th>\n",
       "      <th>first_name</th>\n",
       "      <th>medical_school</th>\n",
       "    </tr>\n",
       "  </thead>\n",
       "  <tbody>\n",
       "    <tr>\n",
       "      <th>3657</th>\n",
       "      <td>STEPHEN</td>\n",
       "      <td>USHER</td>\n",
       "      <td>COHEN</td>\n",
       "      <td>Stephen</td>\n",
       "      <td>UNIVERSITY OF CHICAGO</td>\n",
       "    </tr>\n",
       "    <tr>\n",
       "      <th>3645</th>\n",
       "      <td>STEPHEN</td>\n",
       "      <td>MORRIS</td>\n",
       "      <td>COHEN</td>\n",
       "      <td>Stephen</td>\n",
       "      <td>JOHNS HOPKINS UNIVERSITY SCHOOL OF MEDICINE</td>\n",
       "    </tr>\n",
       "    <tr>\n",
       "      <th>3591</th>\n",
       "      <td>STEPHEN</td>\n",
       "      <td>ALAN</td>\n",
       "      <td>COHEN</td>\n",
       "      <td>Stephen</td>\n",
       "      <td>GEORGETOWN UNIVERSITY SCHOOL OF MEDICINE</td>\n",
       "    </tr>\n",
       "    <tr>\n",
       "      <th>3580</th>\n",
       "      <td>STANLEY</td>\n",
       "      <td>N</td>\n",
       "      <td>COHEN</td>\n",
       "      <td>Stanley</td>\n",
       "      <td>UNIVERSITY OF PENNSYLVANIA SCHOOL OF MEDICINE</td>\n",
       "    </tr>\n",
       "    <tr>\n",
       "      <th>3438</th>\n",
       "      <td>RONALD</td>\n",
       "      <td>JAY</td>\n",
       "      <td>COHEN</td>\n",
       "      <td>Ronald</td>\n",
       "      <td>JOHNS HOPKINS UNIVERSITY SCHOOL OF MEDICINE</td>\n",
       "    </tr>\n",
       "    <tr>\n",
       "      <th>3218</th>\n",
       "      <td>ROBERT</td>\n",
       "      <td>HOWARD</td>\n",
       "      <td>COHEN</td>\n",
       "      <td>Robert</td>\n",
       "      <td>NEW YORK UNIVERSITY COLLEGE OF MEDICINE</td>\n",
       "    </tr>\n",
       "    <tr>\n",
       "      <th>2873</th>\n",
       "      <td>PHILIP</td>\n",
       "      <td>LAWRENCE</td>\n",
       "      <td>COHEN</td>\n",
       "      <td>Philip</td>\n",
       "      <td>YALE UNIVERSITY SCHOOL OF MEDICINE</td>\n",
       "    </tr>\n",
       "    <tr>\n",
       "      <th>2888</th>\n",
       "      <td>PHILIP</td>\n",
       "      <td>NaN</td>\n",
       "      <td>COHEN</td>\n",
       "      <td>Philip</td>\n",
       "      <td>HARVARD MEDICAL SCHOOL</td>\n",
       "    </tr>\n",
       "    <tr>\n",
       "      <th>2459</th>\n",
       "      <td>MAX</td>\n",
       "      <td>HARRY</td>\n",
       "      <td>COHEN</td>\n",
       "      <td>Max</td>\n",
       "      <td>HARVARD MEDICAL SCHOOL</td>\n",
       "    </tr>\n",
       "    <tr>\n",
       "      <th>2411</th>\n",
       "      <td>MARTIN</td>\n",
       "      <td>H</td>\n",
       "      <td>COHEN</td>\n",
       "      <td>Martin</td>\n",
       "      <td>NEW YORK UNIVERSITY COLLEGE OF MEDICINE</td>\n",
       "    </tr>\n",
       "    <tr>\n",
       "      <th>2186</th>\n",
       "      <td>LAWRENCE</td>\n",
       "      <td>FRANKLIN</td>\n",
       "      <td>COHEN</td>\n",
       "      <td>Lawrence</td>\n",
       "      <td>DUKE MEDICAL SCHOOL</td>\n",
       "    </tr>\n",
       "    <tr>\n",
       "      <th>2149</th>\n",
       "      <td>LARRY</td>\n",
       "      <td>S</td>\n",
       "      <td>COHEN</td>\n",
       "      <td>Larry</td>\n",
       "      <td>JEFFERSON MEDICAL COLLEGE OF THOMAS JEFFERSON ...</td>\n",
       "    </tr>\n",
       "    <tr>\n",
       "      <th>2097</th>\n",
       "      <td>KENNETH</td>\n",
       "      <td>LEROY</td>\n",
       "      <td>COHEN</td>\n",
       "      <td>Kenneth</td>\n",
       "      <td>NEW YORK UNIVERSITY COLLEGE OF MEDICINE</td>\n",
       "    </tr>\n",
       "    <tr>\n",
       "      <th>2046</th>\n",
       "      <td>JULES</td>\n",
       "      <td>NaN</td>\n",
       "      <td>COHEN</td>\n",
       "      <td>Jules</td>\n",
       "      <td>UNIVERSITY OF ROCHESTER SCHOOL OF MEDICINE</td>\n",
       "    </tr>\n",
       "    <tr>\n",
       "      <th>1685</th>\n",
       "      <td>JEROLD</td>\n",
       "      <td>ARNOLD</td>\n",
       "      <td>COHEN</td>\n",
       "      <td>Jerold</td>\n",
       "      <td>TUFTS UNIVERSITY SCHOOL OF MEDICINE</td>\n",
       "    </tr>\n",
       "    <tr>\n",
       "      <th>1674</th>\n",
       "      <td>JEFFREY</td>\n",
       "      <td>R</td>\n",
       "      <td>COHEN</td>\n",
       "      <td>Jeffrey</td>\n",
       "      <td>ALBERT EINSTEIN COLLEGE OF MEDICINE OF YESHIVA...</td>\n",
       "    </tr>\n",
       "    <tr>\n",
       "      <th>1549</th>\n",
       "      <td>JAMES</td>\n",
       "      <td>MORDECAI</td>\n",
       "      <td>COHEN</td>\n",
       "      <td>James</td>\n",
       "      <td>NaN</td>\n",
       "    </tr>\n",
       "    <tr>\n",
       "      <th>1375</th>\n",
       "      <td>HOWARD</td>\n",
       "      <td>ARTHUR</td>\n",
       "      <td>COHEN</td>\n",
       "      <td>Howard</td>\n",
       "      <td>NEW YORK UNIVERSITY COLLEGE OF MEDICINE</td>\n",
       "    </tr>\n",
       "    <tr>\n",
       "      <th>1316</th>\n",
       "      <td>HARVEY</td>\n",
       "      <td>JOEL</td>\n",
       "      <td>COHEN</td>\n",
       "      <td>Harvey</td>\n",
       "      <td>DUKE MEDICAL SCHOOL</td>\n",
       "    </tr>\n",
       "    <tr>\n",
       "      <th>1315</th>\n",
       "      <td>HARVEY</td>\n",
       "      <td>JAY</td>\n",
       "      <td>COHEN</td>\n",
       "      <td>Harvey</td>\n",
       "      <td>SUNY DOWNSTATE MEDICAL CENTER COLLEGE OF MEDICINE</td>\n",
       "    </tr>\n",
       "    <tr>\n",
       "      <th>1150</th>\n",
       "      <td>GEORGE</td>\n",
       "      <td>L</td>\n",
       "      <td>COHEN</td>\n",
       "      <td>George</td>\n",
       "      <td>NEW YORK UNIVERSITY COLLEGE OF MEDICINE</td>\n",
       "    </tr>\n",
       "    <tr>\n",
       "      <th>922</th>\n",
       "      <td>EDWARD</td>\n",
       "      <td>NaN</td>\n",
       "      <td>COHEN</td>\n",
       "      <td>Edward</td>\n",
       "      <td>WASHINGTON UNIVERSITY SCHOOL OF MEDICINE</td>\n",
       "    </tr>\n",
       "    <tr>\n",
       "      <th>807</th>\n",
       "      <td>DONALD</td>\n",
       "      <td>JAY</td>\n",
       "      <td>COHEN</td>\n",
       "      <td>Donald</td>\n",
       "      <td>YALE UNIVERSITY SCHOOL OF MEDICINE</td>\n",
       "    </tr>\n",
       "    <tr>\n",
       "      <th>300</th>\n",
       "      <td>BENJAMIN</td>\n",
       "      <td>E</td>\n",
       "      <td>COHEN</td>\n",
       "      <td>Benjamin</td>\n",
       "      <td>HARVARD MEDICAL SCHOOL</td>\n",
       "    </tr>\n",
       "    <tr>\n",
       "      <th>197</th>\n",
       "      <td>ARNOLD</td>\n",
       "      <td>W</td>\n",
       "      <td>COHEN</td>\n",
       "      <td>Arnold</td>\n",
       "      <td>JOAN SANFORD I WEILL MEDICAL COLLEGE CORNELL U...</td>\n",
       "    </tr>\n",
       "    <tr>\n",
       "      <th>136</th>\n",
       "      <td>ALLEN</td>\n",
       "      <td>STEPHEN</td>\n",
       "      <td>COHEN</td>\n",
       "      <td>Allen</td>\n",
       "      <td>NEW YORK UNIVERSITY COLLEGE OF MEDICINE</td>\n",
       "    </tr>\n",
       "    <tr>\n",
       "      <th>107</th>\n",
       "      <td>ALFRED</td>\n",
       "      <td>MARTIN</td>\n",
       "      <td>COHEN</td>\n",
       "      <td>Alfred</td>\n",
       "      <td>JOHNS HOPKINS UNIVERSITY SCHOOL OF MEDICINE</td>\n",
       "    </tr>\n",
       "  </tbody>\n",
       "</table>\n",
       "</div>"
      ],
      "text/plain": [
       "     clean_first_name clean_middle_name clean_last_name first_name  \\\n",
       "3657          STEPHEN             USHER           COHEN    Stephen   \n",
       "3645          STEPHEN            MORRIS           COHEN    Stephen   \n",
       "3591          STEPHEN              ALAN           COHEN    Stephen   \n",
       "3580          STANLEY                 N           COHEN    Stanley   \n",
       "3438           RONALD               JAY           COHEN     Ronald   \n",
       "3218           ROBERT            HOWARD           COHEN     Robert   \n",
       "2873           PHILIP          LAWRENCE           COHEN     Philip   \n",
       "2888           PHILIP               NaN           COHEN     Philip   \n",
       "2459              MAX             HARRY           COHEN        Max   \n",
       "2411           MARTIN                 H           COHEN     Martin   \n",
       "2186         LAWRENCE          FRANKLIN           COHEN   Lawrence   \n",
       "2149            LARRY                 S           COHEN      Larry   \n",
       "2097          KENNETH             LEROY           COHEN    Kenneth   \n",
       "2046            JULES               NaN           COHEN      Jules   \n",
       "1685           JEROLD            ARNOLD           COHEN     Jerold   \n",
       "1674          JEFFREY                 R           COHEN    Jeffrey   \n",
       "1549            JAMES          MORDECAI           COHEN      James   \n",
       "1375           HOWARD            ARTHUR           COHEN     Howard   \n",
       "1316           HARVEY              JOEL           COHEN     Harvey   \n",
       "1315           HARVEY               JAY           COHEN     Harvey   \n",
       "1150           GEORGE                 L           COHEN    George    \n",
       "922            EDWARD               NaN           COHEN     Edward   \n",
       "807            DONALD               JAY           COHEN     Donald   \n",
       "300          BENJAMIN                 E           COHEN   Benjamin   \n",
       "197            ARNOLD                 W           COHEN     Arnold   \n",
       "136             ALLEN           STEPHEN           COHEN      Allen   \n",
       "107            ALFRED            MARTIN           COHEN     Alfred   \n",
       "\n",
       "                                         medical_school  \n",
       "3657                              UNIVERSITY OF CHICAGO  \n",
       "3645        JOHNS HOPKINS UNIVERSITY SCHOOL OF MEDICINE  \n",
       "3591           GEORGETOWN UNIVERSITY SCHOOL OF MEDICINE  \n",
       "3580      UNIVERSITY OF PENNSYLVANIA SCHOOL OF MEDICINE  \n",
       "3438        JOHNS HOPKINS UNIVERSITY SCHOOL OF MEDICINE  \n",
       "3218            NEW YORK UNIVERSITY COLLEGE OF MEDICINE  \n",
       "2873                 YALE UNIVERSITY SCHOOL OF MEDICINE  \n",
       "2888                             HARVARD MEDICAL SCHOOL  \n",
       "2459                             HARVARD MEDICAL SCHOOL  \n",
       "2411            NEW YORK UNIVERSITY COLLEGE OF MEDICINE  \n",
       "2186                                DUKE MEDICAL SCHOOL  \n",
       "2149  JEFFERSON MEDICAL COLLEGE OF THOMAS JEFFERSON ...  \n",
       "2097            NEW YORK UNIVERSITY COLLEGE OF MEDICINE  \n",
       "2046         UNIVERSITY OF ROCHESTER SCHOOL OF MEDICINE  \n",
       "1685                TUFTS UNIVERSITY SCHOOL OF MEDICINE  \n",
       "1674  ALBERT EINSTEIN COLLEGE OF MEDICINE OF YESHIVA...  \n",
       "1549                                                NaN  \n",
       "1375            NEW YORK UNIVERSITY COLLEGE OF MEDICINE  \n",
       "1316                                DUKE MEDICAL SCHOOL  \n",
       "1315  SUNY DOWNSTATE MEDICAL CENTER COLLEGE OF MEDICINE  \n",
       "1150            NEW YORK UNIVERSITY COLLEGE OF MEDICINE  \n",
       "922            WASHINGTON UNIVERSITY SCHOOL OF MEDICINE  \n",
       "807                  YALE UNIVERSITY SCHOOL OF MEDICINE  \n",
       "300                              HARVARD MEDICAL SCHOOL  \n",
       "197   JOAN SANFORD I WEILL MEDICAL COLLEGE CORNELL U...  \n",
       "136             NEW YORK UNIVERSITY COLLEGE OF MEDICINE  \n",
       "107         JOHNS HOPKINS UNIVERSITY SCHOOL OF MEDICINE  "
      ]
     },
     "execution_count": 33,
     "metadata": {},
     "output_type": "execute_result"
    },
    {
     "name": "stdout",
     "output_type": "stream",
     "text": [
      "time: 72.2 ms\n"
     ]
    }
   ],
   "source": [
    "apps4.loc[apps4.clean_last_name=='COHEN', NAME_COLS+['first_name', 'medical_school']]"
   ]
  },
  {
   "cell_type": "code",
   "execution_count": 34,
   "metadata": {
    "collapsed": false,
    "scrolled": false
   },
   "outputs": [
    {
     "data": {
      "text/plain": [
       "(0, 8)"
      ]
     },
     "execution_count": 34,
     "metadata": {},
     "output_type": "execute_result"
    },
    {
     "name": "stdout",
     "output_type": "stream",
     "text": [
      "time: 38.2 ms\n"
     ]
    }
   ],
   "source": [
    "um = man[~man.dno.isin(t_1.dno)]\n",
    "\n",
    "um.shape"
   ]
  },
  {
   "cell_type": "code",
   "execution_count": 35,
   "metadata": {
    "collapsed": false,
    "scrolled": true
   },
   "outputs": [
    {
     "data": {
      "text/html": [
       "<div>\n",
       "<table border=\"1\" class=\"dataframe\">\n",
       "  <thead>\n",
       "    <tr style=\"text-align: right;\">\n",
       "      <th></th>\n",
       "      <th>dno</th>\n",
       "      <th>clean_first_name</th>\n",
       "      <th>clean_middle_name</th>\n",
       "      <th>clean_last_name</th>\n",
       "      <th>application_year_min</th>\n",
       "      <th>application_year_max</th>\n",
       "      <th>dno_medical_school</th>\n",
       "      <th>medical_school</th>\n",
       "    </tr>\n",
       "  </thead>\n",
       "  <tbody>\n",
       "  </tbody>\n",
       "</table>\n",
       "</div>"
      ],
      "text/plain": [
       "Empty DataFrame\n",
       "Columns: [dno, clean_first_name, clean_middle_name, clean_last_name, application_year_min, application_year_max, dno_medical_school, medical_school]\n",
       "Index: []"
      ]
     },
     "execution_count": 35,
     "metadata": {},
     "output_type": "execute_result"
    },
    {
     "name": "stdout",
     "output_type": "stream",
     "text": [
      "time: 61.4 ms\n"
     ]
    }
   ],
   "source": [
    "um"
   ]
  },
  {
   "cell_type": "code",
   "execution_count": 36,
   "metadata": {
    "collapsed": false,
    "scrolled": false
   },
   "outputs": [
    {
     "name": "stdout",
     "output_type": "stream",
     "text": [
      "time: 50.7 ms\n"
     ]
    }
   ],
   "source": [
    "# t2 = pd.merge(left=apps4, right=um, on=['clean_last_name', 'clean_first_name'], how='inner', suffixes=['_x', '_y'])\n",
    "# print t2.shape\n",
    "# print um.shape\n",
    "\n",
    "# t2['sim'] = t2[['medical_school_x', 'medical_school_y']].apply(get_name_str_sim, axis=1)\n",
    "\n",
    "# t2['clean_middle_name'] = t2['clean_middle_name_y']\n",
    "\n",
    "# t2_1 = t2.sort_values(['dno', 'sim'], ascending=False).drop_duplicates(['dno'], keep='first')\n",
    "# t2_1.shape"
   ]
  },
  {
   "cell_type": "code",
   "execution_count": 37,
   "metadata": {
    "collapsed": false,
    "scrolled": false
   },
   "outputs": [
    {
     "name": "stdout",
     "output_type": "stream",
     "text": [
      "time: 61 ms\n"
     ]
    }
   ],
   "source": [
    "t3 = t_1[NAME_COLS+['dno', PERSON_ID]]\n",
    "# t3 = pd.concat([t2_1[NAME_COLS+['dno', PERSON_ID]], t_1[NAME_COLS+['dno', PERSON_ID]]], axis=0)"
   ]
  },
  {
   "cell_type": "code",
   "execution_count": 38,
   "metadata": {
    "collapsed": false,
    "scrolled": false
   },
   "outputs": [
    {
     "name": "stdout",
     "output_type": "stream",
     "text": [
      "(4115, 90)\n",
      "(103, 5)\n",
      "(104, 8)\n",
      "time: 78.7 ms\n"
     ]
    }
   ],
   "source": [
    "man_dno = pd.merge(left=apps4, right=t3, on=PERSON_ID, how='left', suffixes=['_x', '_y'])\n",
    "print man_dno.shape\n",
    "print t3.shape\n",
    "print man.shape"
   ]
  },
  {
   "cell_type": "code",
   "execution_count": 39,
   "metadata": {
    "collapsed": false,
    "scrolled": false
   },
   "outputs": [
    {
     "name": "stdout",
     "output_type": "stream",
     "text": [
      "time: 55.5 ms\n"
     ]
    }
   ],
   "source": [
    "mask = ~pd.isnull(man_dno.clean_last_name_y)\n",
    "man_dno = man_dno.rename(columns={'clean_last_name_x': 'clean_last_name', 'clean_first_name_x': 'clean_first_name', \n",
    "                       'clean_middle_name_x': 'clean_middle_name'})\n",
    "mask = ~pd.isnull(man_dno.clean_last_name_y)\n",
    "man_dno.loc[mask, 'clean_last_name'] = man_dno.loc[mask, 'clean_last_name_y']\n",
    "mask = ~pd.isnull(man_dno.clean_first_name_y)\n",
    "man_dno.loc[mask, 'clean_first_name'] = man_dno.loc[mask, 'clean_first_name_y']\n",
    "mask = ~pd.isnull(man_dno.clean_middle_name_y)\n",
    "man_dno.loc[mask, 'clean_middle_name'] = man_dno.loc[mask, 'clean_middle_name_y']"
   ]
  },
  {
   "cell_type": "code",
   "execution_count": 40,
   "metadata": {
    "collapsed": false,
    "scrolled": false
   },
   "outputs": [
    {
     "name": "stdout",
     "output_type": "stream",
     "text": [
      "time: 50.6 ms\n"
     ]
    }
   ],
   "source": [
    "apps5 = man_dno.loc[pd.isnull(man_dno['dno']), :].drop(['dno', 'clean_middle_name_y', 'clean_first_name_y', 'clean_last_name_y'], axis=1) \n",
    "has_dno = man_dno.loc[~pd.isnull(man_dno['dno']), NAME_COLS+['dno', 'person_uuid']] \n",
    "# apps5 = man_dno.drop(['dno', 'clean_middle_name_y', 'clean_first_name_y', 'clean_last_name_y'], axis=1) "
   ]
  },
  {
   "cell_type": "code",
   "execution_count": 41,
   "metadata": {
    "collapsed": false,
    "scrolled": false
   },
   "outputs": [
    {
     "name": "stdout",
     "output_type": "stream",
     "text": [
      "time: 156 ms\n"
     ]
    }
   ],
   "source": [
    "# mark femalse\n",
    "NIH['is_female'] = 0\n",
    "female_mask = (NIH.clean_first_name.isin(FEMALE_FIRST_NAMES))  \n",
    "NIH.loc[female_mask, 'is_female'] = 1\n",
    "\n",
    "\n",
    "apps5['is_female'] = 0\n",
    "female_mask = (apps5.clean_first_name.isin(FEMALE_FIRST_NAMES))  \n",
    "apps5.loc[female_mask, 'is_female'] = 1"
   ]
  },
  {
   "cell_type": "code",
   "execution_count": 42,
   "metadata": {
    "collapsed": false,
    "scrolled": false
   },
   "outputs": [
    {
     "name": "stdout",
     "output_type": "stream",
     "text": [
      "time: 14.9 ms\n"
     ]
    }
   ],
   "source": [
    "def get_first_letter(str_var):\n",
    "    if pd.isnull(str_var) or str_var=='':\n",
    "        return np.nan\n",
    "    return str_var[0]"
   ]
  },
  {
   "cell_type": "code",
   "execution_count": 43,
   "metadata": {
    "collapsed": false,
    "scrolled": false
   },
   "outputs": [
    {
     "name": "stdout",
     "output_type": "stream",
     "text": [
      "time: 65.3 ms\n"
     ]
    }
   ],
   "source": [
    "NIH['clean_first_initial'] = NIH.clean_first_name.apply(get_first_letter)\n",
    "NIH['clean_middle_initial'] = NIH.clean_middle_name.apply(get_first_letter)"
   ]
  },
  {
   "cell_type": "code",
   "execution_count": 44,
   "metadata": {
    "collapsed": false,
    "scrolled": false
   },
   "outputs": [
    {
     "name": "stdout",
     "output_type": "stream",
     "text": [
      "(4045, 33)\n",
      "(4012, 86)\n",
      "time: 56.9 ms\n"
     ]
    }
   ],
   "source": [
    "print NIH.shape\n",
    "print  apps5.shape"
   ]
  },
  {
   "cell_type": "code",
   "execution_count": 45,
   "metadata": {
    "collapsed": false,
    "scrolled": false
   },
   "outputs": [
    {
     "name": "stdout",
     "output_type": "stream",
     "text": [
      "time: 46.9 ms\n"
     ]
    }
   ],
   "source": [
    "# After cleaning apps2 to match cleaning in Clean NIH Applicant notebook, we try to start merging\n",
    "sims_cols = ['medical_school_sim', 'clean_middle_name_sim', 'clean_first_name_sim']"
   ]
  },
  {
   "cell_type": "code",
   "execution_count": 46,
   "metadata": {
    "collapsed": false,
    "scrolled": false
   },
   "outputs": [
    {
     "name": "stdout",
     "output_type": "stream",
     "text": [
      "(4045, 119)\n",
      "time: 5min 35s\n"
     ]
    }
   ],
   "source": [
    "NIH['fuzzy_merge_col'] = NIH[\n",
    "    ['clean_first_name', 'clean_middle_name', 'clean_last_name']].apply(create_str_merge, axis=1)\n",
    "apps5['fuzzy_merge_col'] = apps5[\n",
    "    ['clean_first_name', 'clean_middle_name', 'clean_last_name']].apply(create_str_merge, axis=1)\n",
    "match1 = df_get_closest_matches(apps5, NIH, 'fuzzy_merge_col', suffixes=['_x', '_y']) \n",
    "print match1.shape"
   ]
  },
  {
   "cell_type": "code",
   "execution_count": 47,
   "metadata": {
    "collapsed": false,
    "scrolled": false
   },
   "outputs": [
    {
     "name": "stdout",
     "output_type": "stream",
     "text": [
      "time: 24.4 ms\n"
     ]
    }
   ],
   "source": [
    "# add last name counter to each\n",
    "app_counter = Counter(apps4.clean_last_name.values)\n",
    "NIH_counter = Counter(NIH.clean_last_name.values)\n",
    "match1['last_name_counts_x'] = match1.clean_last_name_x.apply(lambda x: app_counter[x])\n",
    "match1['last_name_counts_y'] = match1.clean_last_name_y.apply(lambda x: NIH_counter[x])\n"
   ]
  },
  {
   "cell_type": "code",
   "execution_count": 48,
   "metadata": {
    "collapsed": false,
    "scrolled": false
   },
   "outputs": [
    {
     "name": "stdout",
     "output_type": "stream",
     "text": [
      "time: 2.75 s\n"
     ]
    }
   ],
   "source": [
    "def check_match(row):\n",
    "    # address and application year match\n",
    "    app_eod_year_diff = abs(row['application_year'] - row['eod_year'])\n",
    "    if row['clean_last_name_sim'] < 90 or app_eod_year_diff > 8:\n",
    "        return 0\n",
    "    if not pd.isnull(row['medical_school_sim']) and row['medical_school_sim'] < 90:\n",
    "        # drop people with no medical school similarity\n",
    "        return 0\n",
    "    if not pd.isnull(row['clean_first_name_sim']) and row['clean_first_name_sim'] < 80:\n",
    "        return 0\n",
    "    # the first and middle name seem to be mixed up in index card data set\n",
    "    mixed_sim1 =  get_name_str_sim(row[['clean_middle_name_x', 'clean_first_name_y']])\n",
    "    mixed_sim2 =  get_name_str_sim(row[['clean_middle_name_y', 'clean_first_name_x']])\n",
    "    mix_sim = max(mixed_sim1, mixed_sim2)\n",
    "    if pd.isnull(mix_sim):\n",
    "        mix_sim = 0\n",
    "    if (mix_sim > 90) and row['medical_school_sim'] > 90:\n",
    "        return 1\n",
    "    if row['last_name_counts_x'] < 2 and row['last_name_counts_y'] < 2:\n",
    "        return 1\n",
    "    if (mix_sim > 90) and pd.isnull(row['medical_school_sim']) and (app_eod_year_diff < 5):\n",
    "        return 1\n",
    "    # if matching application year and med schools match\n",
    "    if (app_eod_year_diff < 5) and row['medical_school_sim'] > 80:\n",
    "        return 1\n",
    "    # first and middle names match or first\n",
    "    if (app_eod_year_diff < 5) and row['clean_first_name_sim'] > 80:\n",
    "        return 1\n",
    "    return 0\n",
    "\n",
    "\n",
    "feature_dict = {\n",
    "    'clean_first_name': get_name_str_sim,\n",
    "    'clean_middle_name': get_name_str_sim,\n",
    "    'clean_last_name': get_name_str_sim,\n",
    "    'medical_school': get_name_str_sim,\n",
    "}\n",
    "\n",
    "match2 = add_similarity_features(match1, feature_dict, check_match, suffixes=['_x', '_y'])"
   ]
  },
  {
   "cell_type": "code",
   "execution_count": 49,
   "metadata": {
    "collapsed": false,
    "scrolled": false
   },
   "outputs": [
    {
     "name": "stdout",
     "output_type": "stream",
     "text": [
      "time: 10.6 ms\n"
     ]
    }
   ],
   "source": [
    "# match2.loc[(match2.is_match==2), sims_cols+['is_match', 'clean_first_name_x', 'clean_first_name_y',\n",
    "#                         'clean_last_name_x', 'clean_last_name_y','medical_school_x', 'medical_school_y', PERSON_ID, NIH_ID]]"
   ]
  },
  {
   "cell_type": "code",
   "execution_count": 50,
   "metadata": {
    "collapsed": false,
    "scrolled": false
   },
   "outputs": [
    {
     "name": "stdout",
     "output_type": "stream",
     "text": [
      "(2435, 126)\n",
      "time: 86.7 ms\n"
     ]
    }
   ],
   "source": [
    "# select out people who match and make sure each person id and dno only 1x in data set\n",
    "match3 = match2[match2.is_match==1].sort_values(['clean_last_name_x']+sims_cols, ascending=False).dropna(\n",
    "    axis=0, subset=[RAW_CARD_ID])\n",
    "print match3.shape"
   ]
  },
  {
   "cell_type": "code",
   "execution_count": 51,
   "metadata": {
    "collapsed": false,
    "scrolled": false
   },
   "outputs": [
    {
     "name": "stdout",
     "output_type": "stream",
     "text": [
      "time: 39.4 ms\n"
     ]
    }
   ],
   "source": [
    "def filter_one_match_per_group(df, dedupe_col, sim_cols):\n",
    "    # to merge cols should be a dict the names of the extra cols to merge in\n",
    "    # values should be col names to rename\n",
    "    # sim cols should be name of the columns to use as features\n",
    "    # sim mask should be mask that accounts as actual mask\n",
    "    # dedupe col is name of col to dedupe on\n",
    "\n",
    "    def count_matches(id_list_arr):\n",
    "        # for each id, make sure matched on 1x in data set\n",
    "        # should be applied with rolling apply so takes in a dataframe and must return single value\n",
    "        # unpack already matched ids from string\n",
    "        current_id1 = id_list_arr[-1]\n",
    "        other_matches = id_list_arr[:-1]\n",
    "        is_dup = np.any(other_matches[:] == current_id1)\n",
    "        if is_dup:\n",
    "            return True\n",
    "        return False\n",
    "\n",
    "    # for each uuid, check for duplicates and choose best match based on sim cols\n",
    "    # order of the sim cols should be with most important first\n",
    "    dup_flag = '{}_duplicate'.format(dedupe_col)\n",
    "    df[dup_flag] = 0\n",
    "    df.loc[:, dup_flag] = df[\n",
    "        dedupe_col].expanding(center=False, min_periods=0).apply(func=count_matches)\n",
    "\n",
    "    df_matches = df[df['is_match'] == 1].sort_values([dedupe_col] + sim_cols, ascending=False)\n",
    "    return df_matches.drop_duplicates([dedupe_col], keep='first')\n"
   ]
  },
  {
   "cell_type": "code",
   "execution_count": 52,
   "metadata": {
    "collapsed": false,
    "scrolled": false
   },
   "outputs": [
    {
     "name": "stdout",
     "output_type": "stream",
     "text": [
      "(2428, 127)\n",
      "time: 138 ms\n"
     ]
    }
   ],
   "source": [
    "match4 = filter_one_match_per_group(match3, 'raw_uuid', sims_cols)\n",
    "print match4.shape"
   ]
  },
  {
   "cell_type": "code",
   "execution_count": 53,
   "metadata": {
    "collapsed": false,
    "scrolled": false
   },
   "outputs": [
    {
     "name": "stdout",
     "output_type": "stream",
     "text": [
      "(2428, 128)\n",
      "time: 86.3 ms\n"
     ]
    }
   ],
   "source": [
    "match5 = filter_one_match_per_group(match4, NIH_ID, sims_cols)\n",
    "print match5.shape"
   ]
  },
  {
   "cell_type": "code",
   "execution_count": 54,
   "metadata": {
    "collapsed": false,
    "scrolled": false
   },
   "outputs": [
    {
     "name": "stdout",
     "output_type": "stream",
     "text": [
      "(1583, 87)\n",
      "(1617, 34)\n",
      "time: 29.3 ms\n"
     ]
    }
   ],
   "source": [
    "# get nonmatched NIH people and not matched applicants \n",
    "nm_apps = get_nonmatched(apps5, id_colname=RAW_CARD_ID, matched_ids=match5[RAW_CARD_ID].dropna().values)\n",
    "nm_NIH = get_nonmatched(NIH, id_colname=NIH_ID, matched_ids=match5[NIH_ID].dropna().values)"
   ]
  },
  {
   "cell_type": "code",
   "execution_count": 55,
   "metadata": {
    "collapsed": false,
    "scrolled": false
   },
   "outputs": [
    {
     "name": "stdout",
     "output_type": "stream",
     "text": [
      "(2811, 119)\n",
      "time: 13.9 s\n"
     ]
    }
   ],
   "source": [
    "# do another round of matching just on last name\n",
    "nm_match1 = df_get_closest_matches(nm_apps, nm_NIH, 'clean_last_name', suffixes=['_x', '_y']) \n",
    "print nm_match1.shape\n"
   ]
  },
  {
   "cell_type": "code",
   "execution_count": 56,
   "metadata": {
    "collapsed": false,
    "scrolled": false
   },
   "outputs": [
    {
     "name": "stdout",
     "output_type": "stream",
     "text": [
      "time: 24.6 ms\n"
     ]
    }
   ],
   "source": [
    "def check_match(row):\n",
    "    app_eod_year_diff = abs(row['application_year'] - row['eod_year'])\n",
    "    if app_eod_year_diff > 8:\n",
    "        return 0\n",
    "    \n",
    "    if not pd.isnull(row['medical_school_sim']) and row['medical_school_sim'] < 80:\n",
    "        return 0\n",
    "    # the first and middle name seem to be mixed up in index card data set\n",
    "    mixed_sim1 =  get_name_str_sim(row[['clean_middle_name_x', 'clean_first_name_y']])\n",
    "    mixed_sim2 =  get_name_str_sim(row[['clean_middle_name_y', 'clean_first_name_x']])\n",
    "    \n",
    "    max_name_sim = max(row['clean_first_name_sim'], row['medical_school_sim'], row['clean_middle_name_sim'])\n",
    "    if max_name_sim < 80:\n",
    "        return 0\n",
    "    mix_sim = max(mixed_sim1, mixed_sim2)\n",
    "    if pd.isnull(mix_sim):\n",
    "        mix_sim = 0\n",
    "    if (mix_sim > 90) and row['medical_school_sim'] > 90:\n",
    "        return 1\n",
    "    if (mix_sim > 90) and pd.isnull(row['medical_school_sim']) and (app_eod_year_diff < 6):\n",
    "        return 1\n",
    "    if not pd.isnull(row['clean_first_name_sim']) and row['clean_first_name_sim'] < 70:\n",
    "        return 0\n",
    "    # if matching application year and med schools match\n",
    "    if (app_eod_year_diff < 6) and row['medical_school_sim'] > 90:\n",
    "        return 1\n",
    "    # first and middle names match or first\n",
    "    if (app_eod_year_diff < 6) and row['clean_first_name_sim'] > 90:\n",
    "        return 1\n",
    "    # first and middle names match or first\n",
    "    if (app_eod_year_diff < 6) and row['clean_middle_name_sim'] > 90:\n",
    "        return 1\n",
    "    return 0"
   ]
  },
  {
   "cell_type": "code",
   "execution_count": 57,
   "metadata": {
    "collapsed": false,
    "scrolled": false
   },
   "outputs": [
    {
     "name": "stdout",
     "output_type": "stream",
     "text": [
      "time: 756 ms\n"
     ]
    }
   ],
   "source": [
    "nm_feature_dict = {\n",
    "    'clean_first_name': get_name_str_sim,\n",
    "    'clean_middle_name': get_name_str_sim,\n",
    "    'medical_school': get_name_str_sim,\n",
    "}\n",
    "\n",
    "nm_match2 = add_similarity_features(nm_match1, nm_feature_dict, check_match, suffixes=['_x', '_y'])\n"
   ]
  },
  {
   "cell_type": "code",
   "execution_count": 58,
   "metadata": {
    "collapsed": false,
    "scrolled": false
   },
   "outputs": [
    {
     "name": "stdout",
     "output_type": "stream",
     "text": [
      "time: 15.9 ms\n"
     ]
    }
   ],
   "source": [
    "nm_match3 = nm_match2.loc[(nm_match2.is_match==1) & (nm_match2.index!='MORTON'), :].reset_index(\n",
    "    drop=False).rename(columns={'index': 'clean_last_name'})"
   ]
  },
  {
   "cell_type": "code",
   "execution_count": 59,
   "metadata": {
    "collapsed": false
   },
   "outputs": [
    {
     "name": "stdout",
     "output_type": "stream",
     "text": [
      "(105, 124)\n",
      "time: 11.1 ms\n"
     ]
    }
   ],
   "source": [
    "print nm_match3.shape"
   ]
  },
  {
   "cell_type": "code",
   "execution_count": 60,
   "metadata": {
    "collapsed": false,
    "scrolled": false
   },
   "outputs": [
    {
     "name": "stdout",
     "output_type": "stream",
     "text": [
      "time: 26.1 ms\n"
     ]
    }
   ],
   "source": [
    "# merge the manual people with dno with the dno data set and append to the matches list\n",
    "man_dno2 = man_dno.loc[~pd.isnull(man_dno['dno']), :].drop(['clean_first_name_y', 'clean_middle_name_y',\n",
    "                                                            'clean_last_name_y'], axis=1)\n",
    "man_dno2.loc[:, 'dno'] = man_dno2.dno.astype(int)\n",
    "NIH.loc[:, 'dno'] = NIH.dno.astype(int)"
   ]
  },
  {
   "cell_type": "code",
   "execution_count": 61,
   "metadata": {
    "collapsed": false
   },
   "outputs": [
    {
     "data": {
      "text/html": [
       "<div>\n",
       "<table border=\"1\" class=\"dataframe\">\n",
       "  <thead>\n",
       "    <tr style=\"text-align: right;\">\n",
       "      <th></th>\n",
       "      <th>clean_first_name</th>\n",
       "      <th>clean_middle_name</th>\n",
       "      <th>clean_last_name</th>\n",
       "      <th>first_name</th>\n",
       "    </tr>\n",
       "  </thead>\n",
       "  <tbody>\n",
       "    <tr>\n",
       "      <th>1613</th>\n",
       "      <td>MAX</td>\n",
       "      <td>HARRY</td>\n",
       "      <td>COHEN</td>\n",
       "      <td>Max</td>\n",
       "    </tr>\n",
       "    <tr>\n",
       "      <th>2388</th>\n",
       "      <td>JEROLD</td>\n",
       "      <td>ARNOLD</td>\n",
       "      <td>COHEN</td>\n",
       "      <td>Jerold</td>\n",
       "    </tr>\n",
       "    <tr>\n",
       "      <th>2752</th>\n",
       "      <td>HARVEY</td>\n",
       "      <td>JAY</td>\n",
       "      <td>COHEN</td>\n",
       "      <td>Harvey</td>\n",
       "    </tr>\n",
       "  </tbody>\n",
       "</table>\n",
       "</div>"
      ],
      "text/plain": [
       "     clean_first_name clean_middle_name clean_last_name first_name\n",
       "1613              MAX             HARRY           COHEN        Max\n",
       "2388           JEROLD            ARNOLD           COHEN     Jerold\n",
       "2752           HARVEY               JAY           COHEN     Harvey"
      ]
     },
     "execution_count": 61,
     "metadata": {},
     "output_type": "execute_result"
    },
    {
     "name": "stdout",
     "output_type": "stream",
     "text": [
      "time: 27.5 ms\n"
     ]
    }
   ],
   "source": [
    "man_dno2.loc[man_dno2.clean_last_name=='COHEN', NAME_COLS+['first_name']]"
   ]
  },
  {
   "cell_type": "code",
   "execution_count": 62,
   "metadata": {
    "collapsed": false,
    "scrolled": false
   },
   "outputs": [
    {
     "name": "stdout",
     "output_type": "stream",
     "text": [
      "(103, 87)\n",
      "(103, 120)\n",
      "time: 28.3 ms\n"
     ]
    }
   ],
   "source": [
    "print man_dno2.shape\n",
    "man_dno_merge = pd.merge(left=man_dno2, right=NIH, on='dno', how='inner')\n",
    "print man_dno_merge.shape"
   ]
  },
  {
   "cell_type": "code",
   "execution_count": 63,
   "metadata": {
    "collapsed": false
   },
   "outputs": [
    {
     "data": {
      "text/html": [
       "<div>\n",
       "<table border=\"1\" class=\"dataframe\">\n",
       "  <thead>\n",
       "    <tr style=\"text-align: right;\">\n",
       "      <th></th>\n",
       "      <th>clean_first_name</th>\n",
       "      <th>clean_middle_name</th>\n",
       "      <th>clean_last_name</th>\n",
       "      <th>dno</th>\n",
       "    </tr>\n",
       "  </thead>\n",
       "  <tbody>\n",
       "  </tbody>\n",
       "</table>\n",
       "</div>"
      ],
      "text/plain": [
       "Empty DataFrame\n",
       "Columns: [clean_first_name, clean_middle_name, clean_last_name, dno]\n",
       "Index: []"
      ]
     },
     "execution_count": 63,
     "metadata": {},
     "output_type": "execute_result"
    },
    {
     "name": "stdout",
     "output_type": "stream",
     "text": [
      "time: 57 ms\n"
     ]
    }
   ],
   "source": [
    "# stewart and sherwin have eod years outside range\n",
    "man_dno2.loc[~man_dno.dno.isin(man_dno_merge.dno), NAME_COLS+['dno']]"
   ]
  },
  {
   "cell_type": "code",
   "execution_count": 64,
   "metadata": {
    "collapsed": false,
    "scrolled": false
   },
   "outputs": [
    {
     "name": "stdout",
     "output_type": "stream",
     "text": [
      "time: 15.2 ms\n"
     ]
    }
   ],
   "source": [
    "man_dno_merge2 = man_dno_merge.rename(columns={'clean_first_name_x': 'clean_first_name2', \n",
    "                                               'clean_middle_name_x': 'clean_middle_name2',\n",
    "                             'clean_last_name_x': 'clean_last_name2'})\n"
   ]
  },
  {
   "cell_type": "code",
   "execution_count": 65,
   "metadata": {
    "collapsed": false
   },
   "outputs": [
    {
     "data": {
      "text/html": [
       "<div>\n",
       "<table border=\"1\" class=\"dataframe\">\n",
       "  <thead>\n",
       "    <tr style=\"text-align: right;\">\n",
       "      <th></th>\n",
       "      <th>clean_first_name</th>\n",
       "      <th>clean_middle_name</th>\n",
       "      <th>clean_last_name</th>\n",
       "      <th>first_name</th>\n",
       "    </tr>\n",
       "  </thead>\n",
       "  <tbody>\n",
       "    <tr>\n",
       "      <th>46</th>\n",
       "      <td>NaN</td>\n",
       "      <td>NaN</td>\n",
       "      <td>NaN</td>\n",
       "      <td>Max</td>\n",
       "    </tr>\n",
       "    <tr>\n",
       "      <th>64</th>\n",
       "      <td>NaN</td>\n",
       "      <td>NaN</td>\n",
       "      <td>NaN</td>\n",
       "      <td>Jerold</td>\n",
       "    </tr>\n",
       "    <tr>\n",
       "      <th>77</th>\n",
       "      <td>NaN</td>\n",
       "      <td>NaN</td>\n",
       "      <td>NaN</td>\n",
       "      <td>Harvey</td>\n",
       "    </tr>\n",
       "  </tbody>\n",
       "</table>\n",
       "</div>"
      ],
      "text/plain": [
       "    clean_first_name  clean_middle_name  clean_last_name first_name\n",
       "46               NaN                NaN              NaN        Max\n",
       "64               NaN                NaN              NaN     Jerold\n",
       "77               NaN                NaN              NaN     Harvey"
      ]
     },
     "execution_count": 65,
     "metadata": {},
     "output_type": "execute_result"
    },
    {
     "name": "stdout",
     "output_type": "stream",
     "text": [
      "time: 29.6 ms\n"
     ]
    }
   ],
   "source": [
    "man_dno_merge2.loc[man_dno_merge2.clean_last_name_y=='COHEN', NAME_COLS+['first_name']]"
   ]
  },
  {
   "cell_type": "code",
   "execution_count": 66,
   "metadata": {
    "collapsed": false,
    "scrolled": false
   },
   "outputs": [
    {
     "name": "stdout",
     "output_type": "stream",
     "text": [
      "(0, 87)\n",
      "time: 53.2 ms\n"
     ]
    }
   ],
   "source": [
    "fails = man_dno2.loc[~man_dno2.dno.isin(man_dno_merge.dno), :]\n",
    "print fails.shape"
   ]
  },
  {
   "cell_type": "code",
   "execution_count": 67,
   "metadata": {
    "collapsed": false,
    "scrolled": false
   },
   "outputs": [
    {
     "name": "stdout",
     "output_type": "stream",
     "text": [
      "time: 80.5 ms\n"
     ]
    }
   ],
   "source": [
    "# append matches together\n",
    "match6 = pd.concat([nm_match3, match5, man_dno_merge2], axis=0)"
   ]
  },
  {
   "cell_type": "code",
   "execution_count": 68,
   "metadata": {
    "collapsed": false,
    "scrolled": false
   },
   "outputs": [
    {
     "name": "stdout",
     "output_type": "stream",
     "text": [
      "(1479, 87)\n",
      "(1411, 34)\n",
      "time: 21 ms\n"
     ]
    }
   ],
   "source": [
    "# get nonmatched NIH people and not matched applicants \n",
    "nm_apps2 = get_nonmatched(apps5, id_colname=RAW_CARD_ID, matched_ids=match6[RAW_CARD_ID].dropna().values)\n",
    "nm_NIH2 = get_nonmatched(NIH, id_colname=NIH_ID, matched_ids=match6[NIH_ID].dropna().values)"
   ]
  },
  {
   "cell_type": "code",
   "execution_count": 69,
   "metadata": {
    "collapsed": false,
    "scrolled": false
   },
   "outputs": [
    {
     "name": "stdout",
     "output_type": "stream",
     "text": [
      "(149, 5)\n",
      "time: 16.8 ms\n"
     ]
    }
   ],
   "source": [
    "nm_NIH3 = nm_NIH2.loc[\n",
    "    (nm_NIH2.eod_year< 1976) & (\n",
    "        nm_NIH2.eod_year>1963), NAME_COLS+['medical_school', 'eod_year']].sort_values('clean_last_name')\n",
    "print nm_NIH3.shape"
   ]
  },
  {
   "cell_type": "code",
   "execution_count": 70,
   "metadata": {
    "collapsed": false,
    "scrolled": false
   },
   "outputs": [
    {
     "name": "stdout",
     "output_type": "stream",
     "text": [
      "time: 25.7 ms\n"
     ]
    }
   ],
   "source": [
    "apps_match = nm_apps2.loc[nm_apps2.clean_last_name.isin(nm_NIH3.clean_last_name.values)]\n",
    "test_merge = pd.merge(left=nm_NIH3, right=apps_match, on='clean_last_name', how='inner').sort_values('clean_last_name')\n",
    "test_merge = test_merge[sorted(test_merge.columns)]\n",
    "if OUTPUT_CSV:\n",
    "    test_merge.to_csv(os.path.join(CORRECTIONS_DIR, 'test_merge_missing_NIH.csv'), index=False)"
   ]
  },
  {
   "cell_type": "code",
   "execution_count": 71,
   "metadata": {
    "collapsed": false,
    "scrolled": false
   },
   "outputs": [
    {
     "name": "stdout",
     "output_type": "stream",
     "text": [
      "time: 25.3 ms\n"
     ]
    }
   ],
   "source": [
    "match6.loc[pd.isnull(match6.clean_last_name), 'clean_last_name'] =  match6.loc[\n",
    "    pd.isnull(match6.clean_last_name), 'clean_last_name_x']\n",
    "to_drop = [c for c in match6.columns if c.endswith('_sim') or '_counts' in c]\n",
    "match7= match6.drop(to_drop+[\n",
    "        'dup_flag', 'eod_year_diff', 'fuzzy_merge_col_x', 'fuzzy_merge_col_y', 'unknown',\n",
    "        'Unnamed: 0', 'raw_uuid_duplicate', 'dno_duplicate', 'count_missing',\n",
    "                'clean_last_name_x', 'clean_last_name_y', 'is_match'], axis=1)"
   ]
  },
  {
   "cell_type": "code",
   "execution_count": 72,
   "metadata": {
    "collapsed": false,
    "scrolled": false
   },
   "outputs": [
    {
     "name": "stdout",
     "output_type": "stream",
     "text": [
      "['citizenship', 'clean_first_initial', 'clean_first_name', 'clean_middle_initial', 'clean_middle_name', 'clean_suffix', 'intern_dates', 'internship_hospital', 'is_female', 'medical_school', 'res_dates', 'residency_hospital', 'residency']\n",
      "time: 13.3 s\n"
     ]
    }
   ],
   "source": [
    "# consolidate columns in match6\n",
    "match7a = consolidate_merge_cols(match7, ['_x', '_y'], [])"
   ]
  },
  {
   "cell_type": "code",
   "execution_count": 73,
   "metadata": {
    "collapsed": false,
    "scrolled": false
   },
   "outputs": [
    {
     "name": "stdout",
     "output_type": "stream",
     "text": [
      "time: 19.7 ms\n"
     ]
    }
   ],
   "source": [
    "mask = ~pd.isnull(match7a.clean_first_name2)\n",
    "match7a.loc[mask, 'clean_first_name'] = match7a.loc[mask, 'clean_first_name2']\n",
    "\n",
    "mask = ~pd.isnull(match7a.clean_last_name2)\n",
    "match7a.loc[mask, 'clean_last_name'] = match7a.loc[mask, 'clean_last_name2']\n",
    "\n",
    "mask = ~pd.isnull(match7a.clean_middle_name2)\n",
    "match7a.loc[mask, 'clean_middle_name'] = match7a.loc[mask, 'clean_middle_name2']"
   ]
  },
  {
   "cell_type": "code",
   "execution_count": 74,
   "metadata": {
    "collapsed": false,
    "scrolled": false
   },
   "outputs": [
    {
     "name": "stdout",
     "output_type": "stream",
     "text": [
      "(4219, 104)\n",
      "time: 61.6 ms\n"
     ]
    }
   ],
   "source": [
    "match8 = pd.concat([\n",
    "        man_dno[~pd.isnull(man_dno['dno'])], match7a, apps4.loc[\n",
    "            ~apps4[PERSON_ID].isin(match7a[PERSON_ID].values),:]], axis=0).drop(['clean_first_name2', \n",
    "                                                                                'clean_middle_name2', \n",
    "                                                                                'clean_last_name2'], axis=1)\n",
    "print match8.shape"
   ]
  },
  {
   "cell_type": "code",
   "execution_count": 75,
   "metadata": {
    "collapsed": false,
    "scrolled": false
   },
   "outputs": [
    {
     "data": {
      "text/html": [
       "<div>\n",
       "<table border=\"1\" class=\"dataframe\">\n",
       "  <thead>\n",
       "    <tr style=\"text-align: right;\">\n",
       "      <th></th>\n",
       "      <th>date_of_birth</th>\n",
       "      <th>dob</th>\n",
       "    </tr>\n",
       "  </thead>\n",
       "  <tbody>\n",
       "  </tbody>\n",
       "</table>\n",
       "</div>"
      ],
      "text/plain": [
       "Empty DataFrame\n",
       "Columns: [date_of_birth, dob]\n",
       "Index: []"
      ]
     },
     "execution_count": 75,
     "metadata": {},
     "output_type": "execute_result"
    },
    {
     "name": "stdout",
     "output_type": "stream",
     "text": [
      "time: 23.2 ms\n"
     ]
    }
   ],
   "source": [
    "# replace date of birth with dob whenever date of birth missing and dob is not\n",
    "match8.loc[\n",
    "    (pd.isnull(match8['date_of_birth'])) & (~pd.isnull(match8['dob'])), 'date_of_birth'] = match8.loc[\n",
    "        (pd.isnull(match8['date_of_birth'])) & (~pd.isnull(match8['dob'])), 'dob']\n",
    "\n",
    "\n",
    "c1 = 'date_of_birth'\n",
    "c2 = 'dob'\n",
    "match8.loc[(pd.isnull(match8[c1])) & (~pd.isnull(match8[c2])), [c1, c2]]"
   ]
  },
  {
   "cell_type": "code",
   "execution_count": 76,
   "metadata": {
    "collapsed": false,
    "scrolled": false
   },
   "outputs": [
    {
     "name": "stdout",
     "output_type": "stream",
     "text": [
      "time: 17.7 ms\n"
     ]
    }
   ],
   "source": [
    "match8.loc[(match8.clean_last_name=='KNOWLER') & (match8.clean_first_name=='JAN'), 'dno'] = 1922\n",
    "match8.loc[\n",
    "    (match8.clean_last_name== 'E ROSS HARVARD') & (match8.clean_first_name=='MICHAEL'), 'clean_last_name'] = 'ROSS'\n"
   ]
  },
  {
   "cell_type": "code",
   "execution_count": 77,
   "metadata": {
    "collapsed": false,
    "scrolled": false
   },
   "outputs": [
    {
     "name": "stdout",
     "output_type": "stream",
     "text": [
      "(4219, 104)\n",
      "(4115, 103)\n",
      "time: 44.2 ms\n"
     ]
    }
   ],
   "source": [
    "match9 = match8.drop(['dob'], axis=1).reset_index(drop=True).sort_values(\n",
    "    NAME_COLS+['dno']).drop_duplicates(NAME_COLS+['dno']).drop_duplicates(NAME_COLS+[PERSON_ID])\n",
    "# print sorted(match9.columns)\n",
    "print match8.shape\n",
    "print match9.shape"
   ]
  },
  {
   "cell_type": "code",
   "execution_count": 78,
   "metadata": {
    "collapsed": false
   },
   "outputs": [
    {
     "name": "stdout",
     "output_type": "stream",
     "text": [
      "time: 20.2 ms\n"
     ]
    }
   ],
   "source": [
    "# check for dno duplicates \n",
    "dups_dno = match9.loc[(~pd.isnull(match9.dno)) & (\n",
    "        match9.duplicated('dno', keep=False)), NAME_COLS+['dno', PERSON_ID, 'medical_school']]\n",
    "\n",
    "dups_merge = pd.merge(\n",
    "    left=dups_dno, right=NIH.loc[NIH.dno.isin(dups_dno.dno), NAME_COLS+['dno', 'medical_school']], on=['dno'], how='left')\n"
   ]
  },
  {
   "cell_type": "code",
   "execution_count": 79,
   "metadata": {
    "collapsed": false
   },
   "outputs": [
    {
     "name": "stdout",
     "output_type": "stream",
     "text": [
      "time: 12.4 ms\n"
     ]
    }
   ],
   "source": [
    "def get_sim_score(row):\n",
    "    sim_cols = NAME_COLS + ['medical_school']\n",
    "    sims = []\n",
    "    for col in sim_cols:\n",
    "        sim_1 = get_name_str_sim(row[['{}_x'.format(col), '{}_y'.format(col)]])\n",
    "        sims.append(sim_1)\n",
    "    return np.mean(sims)"
   ]
  },
  {
   "cell_type": "code",
   "execution_count": 80,
   "metadata": {
    "collapsed": false
   },
   "outputs": [
    {
     "name": "stdout",
     "output_type": "stream",
     "text": [
      "time: 25.9 ms\n"
     ]
    }
   ],
   "source": [
    "dups_merge['sim'] = dups_merge.apply(get_sim_score, axis=1)"
   ]
  },
  {
   "cell_type": "code",
   "execution_count": 81,
   "metadata": {
    "collapsed": false
   },
   "outputs": [
    {
     "name": "stdout",
     "output_type": "stream",
     "text": [
      "time: 16.1 ms\n"
     ]
    }
   ],
   "source": [
    "dups_merge = dups_merge.sort_values(['dno', 'sim'], ascending=False).rename(columns={'dno':'old_dno'})\n",
    "dups_merge['dno'] = 0 "
   ]
  },
  {
   "cell_type": "code",
   "execution_count": 82,
   "metadata": {
    "collapsed": false
   },
   "outputs": [
    {
     "name": "stdout",
     "output_type": "stream",
     "text": [
      "2\n",
      "time: 15.5 ms\n"
     ]
    }
   ],
   "source": [
    "best_match = dups_merge.groupby('old_dno').first().person_uuid.values\n",
    "print len(best_match)"
   ]
  },
  {
   "cell_type": "code",
   "execution_count": 83,
   "metadata": {
    "collapsed": false
   },
   "outputs": [
    {
     "name": "stdout",
     "output_type": "stream",
     "text": [
      "2\n",
      "time: 81.5 ms\n"
     ]
    }
   ],
   "source": [
    "mask = (dups_merge.sim > 94) & (dups_merge.person_uuid.isin(best_match))\n",
    "print sum(mask)\n",
    "dups_merge.loc[mask, 'dno'] = dups_merge[mask]['old_dno']\n",
    "# match9.loc[(~pd.isnull(match9.clean_first_name_y)), ['clean_first_name', 'clean_first_name_y']]"
   ]
  },
  {
   "cell_type": "code",
   "execution_count": 84,
   "metadata": {
    "collapsed": false
   },
   "outputs": [
    {
     "name": "stdout",
     "output_type": "stream",
     "text": [
      "time: 57.8 ms\n"
     ]
    }
   ],
   "source": [
    "# dups_merge.loc[dups_merge.dno==dups_merge.old_dno]"
   ]
  },
  {
   "cell_type": "code",
   "execution_count": 85,
   "metadata": {
    "collapsed": false
   },
   "outputs": [
    {
     "data": {
      "text/html": [
       "<div>\n",
       "<table border=\"1\" class=\"dataframe\">\n",
       "  <thead>\n",
       "    <tr style=\"text-align: right;\">\n",
       "      <th></th>\n",
       "      <th>clean_first_name</th>\n",
       "      <th>clean_middle_name</th>\n",
       "      <th>clean_last_name</th>\n",
       "      <th>dno</th>\n",
       "      <th>person_uuid</th>\n",
       "    </tr>\n",
       "  </thead>\n",
       "  <tbody>\n",
       "  </tbody>\n",
       "</table>\n",
       "</div>"
      ],
      "text/plain": [
       "Empty DataFrame\n",
       "Columns: [clean_first_name, clean_middle_name, clean_last_name, dno, person_uuid]\n",
       "Index: []"
      ]
     },
     "execution_count": 85,
     "metadata": {},
     "output_type": "execute_result"
    },
    {
     "name": "stdout",
     "output_type": "stream",
     "text": [
      "time: 89.2 ms\n"
     ]
    }
   ],
   "source": [
    "# reset duplicates to null\n",
    "match9.loc[match9.person_uuid.isin(dups_merge.loc[dups_merge['dno']==0, PERSON_ID]), 'dno'] = np.nan\n",
    "\n",
    "match9.loc[match9.person_uuid==35, NAME_COLS+[PERSON_ID, 'dno']]\n",
    "\n",
    "match9.loc[(match9.duplicated('dno', keep=False) & (~pd.isnull(match9.dno))), NAME_COLS+['dno', PERSON_ID]]"
   ]
  },
  {
   "cell_type": "code",
   "execution_count": 86,
   "metadata": {
    "collapsed": false
   },
   "outputs": [
    {
     "data": {
      "text/html": [
       "<div>\n",
       "<table border=\"1\" class=\"dataframe\">\n",
       "  <thead>\n",
       "    <tr style=\"text-align: right;\">\n",
       "      <th></th>\n",
       "      <th>clean_first_name</th>\n",
       "      <th>clean_middle_name</th>\n",
       "      <th>clean_last_name</th>\n",
       "      <th>first_name</th>\n",
       "      <th>middle_name</th>\n",
       "      <th>last_name</th>\n",
       "      <th>med_school</th>\n",
       "      <th>original_medical_school</th>\n",
       "    </tr>\n",
       "  </thead>\n",
       "  <tbody>\n",
       "    <tr>\n",
       "      <th>2605</th>\n",
       "      <td>ALBERT</td>\n",
       "      <td>LELAND</td>\n",
       "      <td>ALBRIGHT</td>\n",
       "      <td>Adelbert</td>\n",
       "      <td>Leland</td>\n",
       "      <td>Albright, Jr.</td>\n",
       "      <td>Louisiana State University School of Medicine</td>\n",
       "      <td>Louisiana State University School of Medicine ...</td>\n",
       "    </tr>\n",
       "    <tr>\n",
       "      <th>825</th>\n",
       "      <td>ARTHUR</td>\n",
       "      <td>P</td>\n",
       "      <td>RICHARDSON</td>\n",
       "      <td>Arthur</td>\n",
       "      <td>P.</td>\n",
       "      <td>Richardson, Jr.</td>\n",
       "      <td>University of Florida</td>\n",
       "      <td>University of Florida College of Medicine</td>\n",
       "    </tr>\n",
       "    <tr>\n",
       "      <th>95</th>\n",
       "      <td>ASHLEY</td>\n",
       "      <td>THOMSON</td>\n",
       "      <td>HAASE</td>\n",
       "      <td>Ashley</td>\n",
       "      <td>Thomson</td>\n",
       "      <td>Haase</td>\n",
       "      <td>NaN</td>\n",
       "      <td>Columbia University College of Physicians and ...</td>\n",
       "    </tr>\n",
       "    <tr>\n",
       "      <th>4087</th>\n",
       "      <td>BENJAMIN</td>\n",
       "      <td>DARYLL</td>\n",
       "      <td>CAHAN</td>\n",
       "      <td>Leslie</td>\n",
       "      <td>Daryll</td>\n",
       "      <td>Cahan</td>\n",
       "      <td>NaN</td>\n",
       "      <td>UCLA School of Medicine</td>\n",
       "    </tr>\n",
       "    <tr>\n",
       "      <th>4083</th>\n",
       "      <td>BERNARD</td>\n",
       "      <td>S</td>\n",
       "      <td>ARON</td>\n",
       "      <td>Ber</td>\n",
       "      <td>NaN</td>\n",
       "      <td>Aron</td>\n",
       "      <td>NaN</td>\n",
       "      <td>New York University School of Medicine</td>\n",
       "    </tr>\n",
       "    <tr>\n",
       "      <th>4049</th>\n",
       "      <td>CATHERINE</td>\n",
       "      <td>E</td>\n",
       "      <td>CLEMENTS</td>\n",
       "      <td>Janice</td>\n",
       "      <td>E.</td>\n",
       "      <td>Clements</td>\n",
       "      <td>NaN</td>\n",
       "      <td>University of Maryland School of Medicine</td>\n",
       "    </tr>\n",
       "    <tr>\n",
       "      <th>2541</th>\n",
       "      <td>CHARLES</td>\n",
       "      <td>MILLER</td>\n",
       "      <td>BAGLEY</td>\n",
       "      <td>Charles</td>\n",
       "      <td>Miller</td>\n",
       "      <td>Bagley, Jr.</td>\n",
       "      <td>Harvard Medical School</td>\n",
       "      <td>Harvard Medical School</td>\n",
       "    </tr>\n",
       "    <tr>\n",
       "      <th>3924</th>\n",
       "      <td>DEAN</td>\n",
       "      <td>T</td>\n",
       "      <td>MASON</td>\n",
       "      <td>Dean</td>\n",
       "      <td>T.</td>\n",
       "      <td>Mason</td>\n",
       "      <td>NaN</td>\n",
       "      <td>Duke University School of Medicine</td>\n",
       "    </tr>\n",
       "    <tr>\n",
       "      <th>1629</th>\n",
       "      <td>ELBERT</td>\n",
       "      <td>CARMACK</td>\n",
       "      <td>HOLMES</td>\n",
       "      <td>E</td>\n",
       "      <td>Carmack</td>\n",
       "      <td>Holmes</td>\n",
       "      <td>University of North Carolina</td>\n",
       "      <td>University of North Carolina at Chapel Hill Sc...</td>\n",
       "    </tr>\n",
       "    <tr>\n",
       "      <th>1418</th>\n",
       "      <td>FRANCIS</td>\n",
       "      <td>JOHN</td>\n",
       "      <td>KROLIKOWSKI</td>\n",
       "      <td>Fraocis /Francis</td>\n",
       "      <td>John</td>\n",
       "      <td>Krolikowski</td>\n",
       "      <td>Tufts</td>\n",
       "      <td>Tufts University School of Medicine</td>\n",
       "    </tr>\n",
       "    <tr>\n",
       "      <th>167</th>\n",
       "      <td>FREDERIC</td>\n",
       "      <td>FREDERIC</td>\n",
       "      <td>MUSHINSKI</td>\n",
       "      <td>Jos</td>\n",
       "      <td>Frederic</td>\n",
       "      <td>Mushinski</td>\n",
       "      <td>Harvard Medical School</td>\n",
       "      <td>Harvard Medical School</td>\n",
       "    </tr>\n",
       "    <tr>\n",
       "      <th>1882</th>\n",
       "      <td>FREDERICK</td>\n",
       "      <td>A</td>\n",
       "      <td>GILL</td>\n",
       "      <td>Fred</td>\n",
       "      <td>A.</td>\n",
       "      <td>Gill</td>\n",
       "      <td>Northwestern University Medical School</td>\n",
       "      <td>Northwestern University Medical School</td>\n",
       "    </tr>\n",
       "    <tr>\n",
       "      <th>3819</th>\n",
       "      <td>FREDERICK</td>\n",
       "      <td>ALBERT</td>\n",
       "      <td>METTLER</td>\n",
       "      <td>Fred</td>\n",
       "      <td>Albert</td>\n",
       "      <td>Mettler, Jr.</td>\n",
       "      <td>NaN</td>\n",
       "      <td>Jefferson Medical College of Thomas Jefferson ...</td>\n",
       "    </tr>\n",
       "    <tr>\n",
       "      <th>2249</th>\n",
       "      <td>FREDERICK</td>\n",
       "      <td>C</td>\n",
       "      <td>CHU</td>\n",
       "      <td>Fred</td>\n",
       "      <td>C.</td>\n",
       "      <td>Chu</td>\n",
       "      <td>Cornell University</td>\n",
       "      <td>Joan &amp; Sanford I. Weill Medical College Cornel...</td>\n",
       "    </tr>\n",
       "    <tr>\n",
       "      <th>1989</th>\n",
       "      <td>FREDERICK</td>\n",
       "      <td>D</td>\n",
       "      <td>FINKELMAN</td>\n",
       "      <td>Fred</td>\n",
       "      <td>D.</td>\n",
       "      <td>Finkelman</td>\n",
       "      <td>Yale University School of Medicine</td>\n",
       "      <td>Yale University School of Medicine</td>\n",
       "    </tr>\n",
       "    <tr>\n",
       "      <th>3816</th>\n",
       "      <td>FREDERICK</td>\n",
       "      <td>DAVID</td>\n",
       "      <td>LUBLIN</td>\n",
       "      <td>Fred</td>\n",
       "      <td>David</td>\n",
       "      <td>Lublin</td>\n",
       "      <td>NaN</td>\n",
       "      <td>Jefferson Medical College of Thomas Jefferson ...</td>\n",
       "    </tr>\n",
       "    <tr>\n",
       "      <th>3815</th>\n",
       "      <td>FREDERICK</td>\n",
       "      <td>EDWARD</td>\n",
       "      <td>KARCH</td>\n",
       "      <td>Fred</td>\n",
       "      <td>Edward</td>\n",
       "      <td>Karch</td>\n",
       "      <td>NaN</td>\n",
       "      <td>University of Rochester School of Medicine and...</td>\n",
       "    </tr>\n",
       "    <tr>\n",
       "      <th>3814</th>\n",
       "      <td>FREDERICK</td>\n",
       "      <td>HARVEY</td>\n",
       "      <td>HOCHBERG</td>\n",
       "      <td>Fred</td>\n",
       "      <td>Harvey</td>\n",
       "      <td>Hochberg</td>\n",
       "      <td>NaN</td>\n",
       "      <td>Case Western Reserve University School of Medi...</td>\n",
       "    </tr>\n",
       "    <tr>\n",
       "      <th>901</th>\n",
       "      <td>FREDERICK</td>\n",
       "      <td>IRWIN</td>\n",
       "      <td>POLSKY</td>\n",
       "      <td>Fred</td>\n",
       "      <td>Irwin</td>\n",
       "      <td>Polsky</td>\n",
       "      <td>University of Texas Southwestern</td>\n",
       "      <td>University of Texas Southwestern Medical Cente...</td>\n",
       "    </tr>\n",
       "    <tr>\n",
       "      <th>698</th>\n",
       "      <td>FREDERICK</td>\n",
       "      <td>JAY</td>\n",
       "      <td>SCHIFFMAN</td>\n",
       "      <td>Fred</td>\n",
       "      <td>Jay</td>\n",
       "      <td>Schiffman</td>\n",
       "      <td>New York University School of Medicine</td>\n",
       "      <td>New York University School of Medicine</td>\n",
       "    </tr>\n",
       "    <tr>\n",
       "      <th>3809</th>\n",
       "      <td>FREDERICK</td>\n",
       "      <td>LOWELL</td>\n",
       "      <td>RASP</td>\n",
       "      <td>Fred</td>\n",
       "      <td>Lowell</td>\n",
       "      <td>Rasp.</td>\n",
       "      <td>NaN</td>\n",
       "      <td>Indiana University School of Medicine</td>\n",
       "    </tr>\n",
       "    <tr>\n",
       "      <th>780</th>\n",
       "      <td>FREDERICK</td>\n",
       "      <td>M</td>\n",
       "      <td>ROSENBLOOM</td>\n",
       "      <td>Fredrick</td>\n",
       "      <td>M.</td>\n",
       "      <td>Rosenbloom</td>\n",
       "      <td>Johns Hopkins Medical School</td>\n",
       "      <td>Johns Hopkins University School of Medicine</td>\n",
       "    </tr>\n",
       "    <tr>\n",
       "      <th>253</th>\n",
       "      <td>FREDERICK</td>\n",
       "      <td>S</td>\n",
       "      <td>WRIGHT</td>\n",
       "      <td>Fred</td>\n",
       "      <td>S</td>\n",
       "      <td>Wright</td>\n",
       "      <td>NaN</td>\n",
       "      <td>NaN</td>\n",
       "    </tr>\n",
       "    <tr>\n",
       "      <th>1526</th>\n",
       "      <td>FREDERICK</td>\n",
       "      <td>STUART</td>\n",
       "      <td>KANTOR</td>\n",
       "      <td>Fred</td>\n",
       "      <td>S.</td>\n",
       "      <td>Kantor</td>\n",
       "      <td>NaN</td>\n",
       "      <td>NaN</td>\n",
       "    </tr>\n",
       "    <tr>\n",
       "      <th>1914</th>\n",
       "      <td>FREDERICK</td>\n",
       "      <td>NaN</td>\n",
       "      <td>GARFINKEL</td>\n",
       "      <td>Fred</td>\n",
       "      <td>NaN</td>\n",
       "      <td>Garfinkel</td>\n",
       "      <td>Mt. Sinai School of Medicine</td>\n",
       "      <td>Mount Sinai School of Medicine of New York Uni...</td>\n",
       "    </tr>\n",
       "    <tr>\n",
       "      <th>1664</th>\n",
       "      <td>GEOFFREY</td>\n",
       "      <td>PETER</td>\n",
       "      <td>HERZIG</td>\n",
       "      <td>Herzig</td>\n",
       "      <td>Geoffrey</td>\n",
       "      <td>Herzig</td>\n",
       "      <td>Western Reserve University School of Medicine</td>\n",
       "      <td>Case Western Reserve University School of Medi...</td>\n",
       "    </tr>\n",
       "    <tr>\n",
       "      <th>2228</th>\n",
       "      <td>GEORGE</td>\n",
       "      <td>L</td>\n",
       "      <td>COHEN</td>\n",
       "      <td>George</td>\n",
       "      <td>L.</td>\n",
       "      <td>Cohen</td>\n",
       "      <td>New York University</td>\n",
       "      <td>New York University School of Medicine</td>\n",
       "    </tr>\n",
       "    <tr>\n",
       "      <th>122</th>\n",
       "      <td>GEORGE</td>\n",
       "      <td>ROBERT</td>\n",
       "      <td>DELONG</td>\n",
       "      <td>G</td>\n",
       "      <td>Robert</td>\n",
       "      <td>Delong</td>\n",
       "      <td>Harvard</td>\n",
       "      <td>Harvard Medical School</td>\n",
       "    </tr>\n",
       "    <tr>\n",
       "      <th>945</th>\n",
       "      <td>GEORGES</td>\n",
       "      <td>NaN</td>\n",
       "      <td>PETER</td>\n",
       "      <td>George</td>\n",
       "      <td>NaN</td>\n",
       "      <td>Peter</td>\n",
       "      <td>Harvard</td>\n",
       "      <td>Harvard Medical School</td>\n",
       "    </tr>\n",
       "    <tr>\n",
       "      <th>1249</th>\n",
       "      <td>GERALD</td>\n",
       "      <td>LAWRENCE</td>\n",
       "      <td>MACKLER</td>\n",
       "      <td>Gerald</td>\n",
       "      <td>Lawrence</td>\n",
       "      <td>Mackler</td>\n",
       "      <td>Columbia University</td>\n",
       "      <td>Columbia University College of Physicians and ...</td>\n",
       "    </tr>\n",
       "    <tr>\n",
       "      <th>...</th>\n",
       "      <td>...</td>\n",
       "      <td>...</td>\n",
       "      <td>...</td>\n",
       "      <td>...</td>\n",
       "      <td>...</td>\n",
       "      <td>...</td>\n",
       "      <td>...</td>\n",
       "      <td>...</td>\n",
       "    </tr>\n",
       "    <tr>\n",
       "      <th>3194</th>\n",
       "      <td>NORMAN</td>\n",
       "      <td>A</td>\n",
       "      <td>CUMMINGS</td>\n",
       "      <td>Norman A</td>\n",
       "      <td>A.</td>\n",
       "      <td>Cummings</td>\n",
       "      <td>NaN</td>\n",
       "      <td>SUNY Buffalo School of Medicine &amp; Biomedical S...</td>\n",
       "    </tr>\n",
       "    <tr>\n",
       "      <th>1459</th>\n",
       "      <td>PAUL</td>\n",
       "      <td>DON</td>\n",
       "      <td>KLITE</td>\n",
       "      <td>Paul</td>\n",
       "      <td>Don</td>\n",
       "      <td>Klite</td>\n",
       "      <td>Duke University School of Medicine</td>\n",
       "      <td>Duke University School of Medicine</td>\n",
       "    </tr>\n",
       "    <tr>\n",
       "      <th>242</th>\n",
       "      <td>PHILIP R</td>\n",
       "      <td>R</td>\n",
       "      <td>YARNELL</td>\n",
       "      <td>Philip</td>\n",
       "      <td>R</td>\n",
       "      <td>Yarnell</td>\n",
       "      <td>The New York University School of Medicine</td>\n",
       "      <td>New York University School of Medicine</td>\n",
       "    </tr>\n",
       "    <tr>\n",
       "      <th>917</th>\n",
       "      <td>PHILLIP</td>\n",
       "      <td>A</td>\n",
       "      <td>PIZZO</td>\n",
       "      <td>Philip</td>\n",
       "      <td>A.</td>\n",
       "      <td>Pizzo</td>\n",
       "      <td>NaN</td>\n",
       "      <td>NaN</td>\n",
       "    </tr>\n",
       "    <tr>\n",
       "      <th>952</th>\n",
       "      <td>PHILLIP</td>\n",
       "      <td>O KEEFE</td>\n",
       "      <td>PERIMAN</td>\n",
       "      <td>Philip</td>\n",
       "      <td>O'Keefe</td>\n",
       "      <td>Periman</td>\n",
       "      <td>Washington University School of Medicine</td>\n",
       "      <td>Washington University School of Medicine</td>\n",
       "    </tr>\n",
       "    <tr>\n",
       "      <th>1240</th>\n",
       "      <td>PHILLIP</td>\n",
       "      <td>W</td>\n",
       "      <td>MAJERUS</td>\n",
       "      <td>Philip</td>\n",
       "      <td>W.</td>\n",
       "      <td>Majerus</td>\n",
       "      <td>Washington University</td>\n",
       "      <td>Washington University School of Medicine</td>\n",
       "    </tr>\n",
       "    <tr>\n",
       "      <th>1938</th>\n",
       "      <td>PHILLIP</td>\n",
       "      <td>NaN</td>\n",
       "      <td>FROST</td>\n",
       "      <td>Philip</td>\n",
       "      <td>NaN</td>\n",
       "      <td>Frost</td>\n",
       "      <td>Albert Einstein College of Medicine</td>\n",
       "      <td>Albert Einstein College of Medicine of Yeshiva...</td>\n",
       "    </tr>\n",
       "    <tr>\n",
       "      <th>727</th>\n",
       "      <td>RICHARD</td>\n",
       "      <td>J</td>\n",
       "      <td>SAMAHA</td>\n",
       "      <td>Richard</td>\n",
       "      <td>J.</td>\n",
       "      <td>Samaha Jr.</td>\n",
       "      <td>Boston University School of Medicine</td>\n",
       "      <td>Boston University School of Medicine</td>\n",
       "    </tr>\n",
       "    <tr>\n",
       "      <th>1797</th>\n",
       "      <td>RICHARD</td>\n",
       "      <td>NaN</td>\n",
       "      <td>GREEN</td>\n",
       "      <td>Rechard</td>\n",
       "      <td>NaN</td>\n",
       "      <td>Green</td>\n",
       "      <td>John Hopkins</td>\n",
       "      <td>Johns Hopkins University School of Medicine</td>\n",
       "    </tr>\n",
       "    <tr>\n",
       "      <th>1519</th>\n",
       "      <td>ROBERT</td>\n",
       "      <td>ADRIAN PIETER</td>\n",
       "      <td>KARK</td>\n",
       "      <td>Robert Adriaan</td>\n",
       "      <td>Pieter</td>\n",
       "      <td>Kark</td>\n",
       "      <td>Harvard Medical School</td>\n",
       "      <td>Harvard Medical School</td>\n",
       "    </tr>\n",
       "    <tr>\n",
       "      <th>1920</th>\n",
       "      <td>ROBERT</td>\n",
       "      <td>C</td>\n",
       "      <td>GALLO</td>\n",
       "      <td>Jefferson Student Research Society</td>\n",
       "      <td>C.</td>\n",
       "      <td>Gallo</td>\n",
       "      <td>Jefferson Medical College</td>\n",
       "      <td>Jefferson Medical College of Thomas Jefferson ...</td>\n",
       "    </tr>\n",
       "    <tr>\n",
       "      <th>1357</th>\n",
       "      <td>ROBERT</td>\n",
       "      <td>JOSEPH</td>\n",
       "      <td>LEFKOWITZ</td>\n",
       "      <td>Robert</td>\n",
       "      <td>Joseph</td>\n",
       "      <td>Lefkowitz</td>\n",
       "      <td>Columbia University College of Phys. &amp; Surgeons</td>\n",
       "      <td>Columbia University College of Physicians and ...</td>\n",
       "    </tr>\n",
       "    <tr>\n",
       "      <th>2961</th>\n",
       "      <td>ROBT</td>\n",
       "      <td>ALLAN</td>\n",
       "      <td>RIZZA</td>\n",
       "      <td>Robt.</td>\n",
       "      <td>Allan</td>\n",
       "      <td>Rizza</td>\n",
       "      <td>NaN</td>\n",
       "      <td>University of Florida College of Medicine</td>\n",
       "    </tr>\n",
       "    <tr>\n",
       "      <th>2949</th>\n",
       "      <td>RONALD</td>\n",
       "      <td>BART</td>\n",
       "      <td>LEPOFF</td>\n",
       "      <td>Ronald</td>\n",
       "      <td>Bart</td>\n",
       "      <td>Lepoff</td>\n",
       "      <td>NaN</td>\n",
       "      <td>University of Rochester School of Medicine and...</td>\n",
       "    </tr>\n",
       "    <tr>\n",
       "      <th>2188</th>\n",
       "      <td>RONALD</td>\n",
       "      <td>MICHAEL</td>\n",
       "      <td>COSTELL</td>\n",
       "      <td>Ronald</td>\n",
       "      <td>Michael</td>\n",
       "      <td>Costell</td>\n",
       "      <td>Stanford University</td>\n",
       "      <td>Stanford University School of Medicine</td>\n",
       "    </tr>\n",
       "    <tr>\n",
       "      <th>1822</th>\n",
       "      <td>SPENCER JR</td>\n",
       "      <td>NaN</td>\n",
       "      <td>GORDON</td>\n",
       "      <td>Spencer</td>\n",
       "      <td>NaN</td>\n",
       "      <td>Gordon, Jr.</td>\n",
       "      <td>Harvard</td>\n",
       "      <td>Harvard Medical School</td>\n",
       "    </tr>\n",
       "    <tr>\n",
       "      <th>1063</th>\n",
       "      <td>STANLEY</td>\n",
       "      <td>G</td>\n",
       "      <td>NATHENSON</td>\n",
       "      <td>Stnaley</td>\n",
       "      <td>G.</td>\n",
       "      <td>Nathenson</td>\n",
       "      <td>Washington University School of Medicine, St. ...</td>\n",
       "      <td>Washington University School of Medicine</td>\n",
       "    </tr>\n",
       "    <tr>\n",
       "      <th>190</th>\n",
       "      <td>STANLEY</td>\n",
       "      <td>STANLEY</td>\n",
       "      <td>SHERWIN</td>\n",
       "      <td>Robert</td>\n",
       "      <td>Stanley</td>\n",
       "      <td>Sherwin</td>\n",
       "      <td>Albert Einstein College of Medicine</td>\n",
       "      <td>Albert Einstein College of Medicine of Yeshiva...</td>\n",
       "    </tr>\n",
       "    <tr>\n",
       "      <th>1764</th>\n",
       "      <td>STEPHEN</td>\n",
       "      <td>J</td>\n",
       "      <td>GUGGENHEIM</td>\n",
       "      <td>Stephen</td>\n",
       "      <td>J.</td>\n",
       "      <td>Guggenheim</td>\n",
       "      <td>Harvard Medical</td>\n",
       "      <td>Harvard Medical School</td>\n",
       "    </tr>\n",
       "    <tr>\n",
       "      <th>282</th>\n",
       "      <td>STEPHEN</td>\n",
       "      <td>J</td>\n",
       "      <td>WINTERS</td>\n",
       "      <td>S</td>\n",
       "      <td>J</td>\n",
       "      <td>Winters</td>\n",
       "      <td>NaN</td>\n",
       "      <td>NaN</td>\n",
       "    </tr>\n",
       "    <tr>\n",
       "      <th>2063</th>\n",
       "      <td>T</td>\n",
       "      <td>DAVID</td>\n",
       "      <td>ELDER</td>\n",
       "      <td>T.</td>\n",
       "      <td>David</td>\n",
       "      <td>Elder</td>\n",
       "      <td>Duke</td>\n",
       "      <td>Duke University School of Medicine</td>\n",
       "    </tr>\n",
       "    <tr>\n",
       "      <th>2838</th>\n",
       "      <td>T M</td>\n",
       "      <td>SIMMONS</td>\n",
       "      <td>PATTERSON</td>\n",
       "      <td>T.M.</td>\n",
       "      <td>Simmons</td>\n",
       "      <td>Patterson</td>\n",
       "      <td>NaN</td>\n",
       "      <td>University of Pennsylvania School of Medicine</td>\n",
       "    </tr>\n",
       "    <tr>\n",
       "      <th>2814</th>\n",
       "      <td>THOMAS</td>\n",
       "      <td>JOSEPH</td>\n",
       "      <td>LAWLEY</td>\n",
       "      <td>Pfizer Award</td>\n",
       "      <td>Joseph</td>\n",
       "      <td>Lawley</td>\n",
       "      <td>NaN</td>\n",
       "      <td>SUNY Buffalo School of Medicine &amp; Biomedical S...</td>\n",
       "    </tr>\n",
       "    <tr>\n",
       "      <th>2425</th>\n",
       "      <td>THOMAS</td>\n",
       "      <td>JOSEPH JOHN</td>\n",
       "      <td>BLANCK</td>\n",
       "      <td>Thomas</td>\n",
       "      <td>Joseph John</td>\n",
       "      <td>Blanck</td>\n",
       "      <td>University of Penn. School of Medicine</td>\n",
       "      <td>University of Pennsylvania School of Medicine</td>\n",
       "    </tr>\n",
       "    <tr>\n",
       "      <th>2793</th>\n",
       "      <td>W</td>\n",
       "      <td>STEVES</td>\n",
       "      <td>RING</td>\n",
       "      <td>1</td>\n",
       "      <td>Steves</td>\n",
       "      <td>Ring, Jr.</td>\n",
       "      <td>NaN</td>\n",
       "      <td>Harvard Medical School</td>\n",
       "    </tr>\n",
       "    <tr>\n",
       "      <th>2388</th>\n",
       "      <td>WILLIAM</td>\n",
       "      <td>D</td>\n",
       "      <td>BRADEN</td>\n",
       "      <td>William</td>\n",
       "      <td>NaN</td>\n",
       "      <td>Braden III</td>\n",
       "      <td>Harvard</td>\n",
       "      <td>Harvard Medical School</td>\n",
       "    </tr>\n",
       "    <tr>\n",
       "      <th>2424</th>\n",
       "      <td>WILLIAM</td>\n",
       "      <td>FREDERICK</td>\n",
       "      <td>BLANK</td>\n",
       "      <td>William</td>\n",
       "      <td>Frederick</td>\n",
       "      <td>Blank, Jr.</td>\n",
       "      <td>Washington University</td>\n",
       "      <td>Washington University School of Medicine</td>\n",
       "    </tr>\n",
       "    <tr>\n",
       "      <th>1985</th>\n",
       "      <td>WILLIAM</td>\n",
       "      <td>GUY</td>\n",
       "      <td>FISCUS</td>\n",
       "      <td>William</td>\n",
       "      <td>Guy</td>\n",
       "      <td>Fiscus</td>\n",
       "      <td>Baylor</td>\n",
       "      <td>Baylor College of Medicine</td>\n",
       "    </tr>\n",
       "    <tr>\n",
       "      <th>4</th>\n",
       "      <td>WILLIAM</td>\n",
       "      <td>HOWARD</td>\n",
       "      <td>WILLIAMS</td>\n",
       "      <td>Willis</td>\n",
       "      <td>Howard</td>\n",
       "      <td>Williams</td>\n",
       "      <td>NaN</td>\n",
       "      <td>University of North Carolina at Chapel Hill Sc...</td>\n",
       "    </tr>\n",
       "    <tr>\n",
       "      <th>2350</th>\n",
       "      <td>WILLIAM</td>\n",
       "      <td>VIRGIL</td>\n",
       "      <td>BROWN</td>\n",
       "      <td>Virgil</td>\n",
       "      <td>Virgil</td>\n",
       "      <td>Brown</td>\n",
       "      <td>Yale University</td>\n",
       "      <td>Yale University School of Medicine</td>\n",
       "    </tr>\n",
       "  </tbody>\n",
       "</table>\n",
       "<p>111 rows × 8 columns</p>\n",
       "</div>"
      ],
      "text/plain": [
       "     clean_first_name clean_middle_name clean_last_name  \\\n",
       "2605           ALBERT            LELAND        ALBRIGHT   \n",
       "825            ARTHUR                 P      RICHARDSON   \n",
       "95             ASHLEY           THOMSON           HAASE   \n",
       "4087         BENJAMIN            DARYLL           CAHAN   \n",
       "4083          BERNARD                 S            ARON   \n",
       "4049        CATHERINE                 E        CLEMENTS   \n",
       "2541          CHARLES            MILLER          BAGLEY   \n",
       "3924             DEAN                 T           MASON   \n",
       "1629           ELBERT           CARMACK          HOLMES   \n",
       "1418          FRANCIS              JOHN     KROLIKOWSKI   \n",
       "167          FREDERIC          FREDERIC       MUSHINSKI   \n",
       "1882        FREDERICK                 A            GILL   \n",
       "3819        FREDERICK            ALBERT         METTLER   \n",
       "2249        FREDERICK                 C             CHU   \n",
       "1989        FREDERICK                 D       FINKELMAN   \n",
       "3816        FREDERICK             DAVID          LUBLIN   \n",
       "3815        FREDERICK            EDWARD           KARCH   \n",
       "3814        FREDERICK            HARVEY        HOCHBERG   \n",
       "901         FREDERICK             IRWIN          POLSKY   \n",
       "698         FREDERICK               JAY       SCHIFFMAN   \n",
       "3809        FREDERICK            LOWELL            RASP   \n",
       "780         FREDERICK                 M      ROSENBLOOM   \n",
       "253         FREDERICK                 S          WRIGHT   \n",
       "1526        FREDERICK            STUART          KANTOR   \n",
       "1914        FREDERICK               NaN       GARFINKEL   \n",
       "1664         GEOFFREY             PETER          HERZIG   \n",
       "2228           GEORGE                 L           COHEN   \n",
       "122            GEORGE            ROBERT          DELONG   \n",
       "945           GEORGES               NaN           PETER   \n",
       "1249           GERALD          LAWRENCE         MACKLER   \n",
       "...               ...               ...             ...   \n",
       "3194           NORMAN                 A        CUMMINGS   \n",
       "1459             PAUL               DON           KLITE   \n",
       "242          PHILIP R                 R         YARNELL   \n",
       "917           PHILLIP                 A           PIZZO   \n",
       "952           PHILLIP           O KEEFE         PERIMAN   \n",
       "1240          PHILLIP                 W         MAJERUS   \n",
       "1938          PHILLIP               NaN           FROST   \n",
       "727           RICHARD                 J          SAMAHA   \n",
       "1797          RICHARD               NaN           GREEN   \n",
       "1519           ROBERT     ADRIAN PIETER            KARK   \n",
       "1920           ROBERT                 C           GALLO   \n",
       "1357           ROBERT            JOSEPH       LEFKOWITZ   \n",
       "2961             ROBT             ALLAN           RIZZA   \n",
       "2949           RONALD              BART          LEPOFF   \n",
       "2188           RONALD           MICHAEL         COSTELL   \n",
       "1822       SPENCER JR               NaN          GORDON   \n",
       "1063          STANLEY                 G       NATHENSON   \n",
       "190           STANLEY           STANLEY         SHERWIN   \n",
       "1764          STEPHEN                 J      GUGGENHEIM   \n",
       "282           STEPHEN                 J         WINTERS   \n",
       "2063                T             DAVID           ELDER   \n",
       "2838              T M           SIMMONS       PATTERSON   \n",
       "2814           THOMAS            JOSEPH          LAWLEY   \n",
       "2425           THOMAS       JOSEPH JOHN          BLANCK   \n",
       "2793                W            STEVES            RING   \n",
       "2388          WILLIAM                 D          BRADEN   \n",
       "2424          WILLIAM         FREDERICK           BLANK   \n",
       "1985          WILLIAM               GUY          FISCUS   \n",
       "4             WILLIAM            HOWARD        WILLIAMS   \n",
       "2350          WILLIAM            VIRGIL           BROWN   \n",
       "\n",
       "                              first_name  middle_name        last_name  \\\n",
       "2605                            Adelbert       Leland    Albright, Jr.   \n",
       "825                              Arthur            P.  Richardson, Jr.   \n",
       "95                               Ashley       Thomson            Haase   \n",
       "4087                              Leslie       Daryll            Cahan   \n",
       "4083                                 Ber          NaN             Aron   \n",
       "4049                              Janice           E.         Clements   \n",
       "2541                            Charles        Miller      Bagley, Jr.   \n",
       "3924                               Dean            T.            Mason   \n",
       "1629                                   E      Carmack           Holmes   \n",
       "1418                    Fraocis /Francis         John      Krolikowski   \n",
       "167                                  Jos     Frederic        Mushinski   \n",
       "1882                                Fred           A.             Gill   \n",
       "3819                               Fred        Albert     Mettler, Jr.   \n",
       "2249                                Fred           C.              Chu   \n",
       "1989                                Fred           D.        Finkelman   \n",
       "3816                                Fred        David           Lublin   \n",
       "3815                                Fred       Edward            Karch   \n",
       "3814                                Fred       Harvey         Hochberg   \n",
       "901                                 Fred        Irwin           Polsky   \n",
       "698                                 Fred          Jay        Schiffman   \n",
       "3809                                Fred       Lowell            Rasp.   \n",
       "780                             Fredrick           M.       Rosenbloom   \n",
       "253                                 Fred            S           Wright   \n",
       "1526                                Fred           S.           Kantor   \n",
       "1914                                Fred          NaN        Garfinkel   \n",
       "1664                              Herzig     Geoffrey           Herzig   \n",
       "2228                             George            L.            Cohen   \n",
       "122                                    G       Robert           Delong   \n",
       "945                               George          NaN            Peter   \n",
       "1249                             Gerald      Lawrence          Mackler   \n",
       "...                                  ...          ...              ...   \n",
       "3194                            Norman A           A.         Cummings   \n",
       "1459                               Paul           Don            Klite   \n",
       "242                               Philip            R          Yarnell   \n",
       "917                               Philip           A.            Pizzo   \n",
       "952                               Philip      O'Keefe          Periman   \n",
       "1240                              Philip           W.          Majerus   \n",
       "1938                              Philip          NaN            Frost   \n",
       "727                             Richard            J.       Samaha Jr.   \n",
       "1797                             Rechard          NaN            Green   \n",
       "1519                      Robert Adriaan       Pieter             Kark   \n",
       "1920  Jefferson Student Research Society           C.            Gallo   \n",
       "1357                             Robert        Joseph        Lefkowitz   \n",
       "2961                               Robt.        Allan            Rizza   \n",
       "2949                             Ronald          Bart           Lepoff   \n",
       "2188                             Ronald       Michael          Costell   \n",
       "1822                             Spencer          NaN      Gordon, Jr.   \n",
       "1063                             Stnaley           G.        Nathenson   \n",
       "190                               Robert      Stanley          Sherwin   \n",
       "1764                            Stephen            J.       Guggenheim   \n",
       "282                                    S            J          Winters   \n",
       "2063                                  T.        David            Elder   \n",
       "2838                                T.M.      Simmons        Patterson   \n",
       "2814                        Pfizer Award       Joseph           Lawley   \n",
       "2425                             Thomas   Joseph John           Blanck   \n",
       "2793                                   1       Steves        Ring, Jr.   \n",
       "2388                            William           NaN       Braden III   \n",
       "2424                            William     Frederick       Blank, Jr.   \n",
       "1985                            William           Guy           Fiscus   \n",
       "4                                 Willis       Howard         Williams   \n",
       "2350                              Virgil       Virgil            Brown   \n",
       "\n",
       "                                             med_school  \\\n",
       "2605      Louisiana State University School of Medicine   \n",
       "825                               University of Florida   \n",
       "95                                                  NaN   \n",
       "4087                                                NaN   \n",
       "4083                                                NaN   \n",
       "4049                                                NaN   \n",
       "2541                             Harvard Medical School   \n",
       "3924                                                NaN   \n",
       "1629                       University of North Carolina   \n",
       "1418                                              Tufts   \n",
       "167                              Harvard Medical School   \n",
       "1882             Northwestern University Medical School   \n",
       "3819                                                NaN   \n",
       "2249                                 Cornell University   \n",
       "1989                 Yale University School of Medicine   \n",
       "3816                                                NaN   \n",
       "3815                                                NaN   \n",
       "3814                                                NaN   \n",
       "901                    University of Texas Southwestern   \n",
       "698              New York University School of Medicine   \n",
       "3809                                                NaN   \n",
       "780                        Johns Hopkins Medical School   \n",
       "253                                                 NaN   \n",
       "1526                                                NaN   \n",
       "1914                       Mt. Sinai School of Medicine   \n",
       "1664      Western Reserve University School of Medicine   \n",
       "2228                                New York University   \n",
       "122                                             Harvard   \n",
       "945                                             Harvard   \n",
       "1249                                Columbia University   \n",
       "...                                                 ...   \n",
       "3194                                                NaN   \n",
       "1459                 Duke University School of Medicine   \n",
       "242          The New York University School of Medicine   \n",
       "917                                                 NaN   \n",
       "952            Washington University School of Medicine   \n",
       "1240                              Washington University   \n",
       "1938                Albert Einstein College of Medicine   \n",
       "727                Boston University School of Medicine   \n",
       "1797                                       John Hopkins   \n",
       "1519                             Harvard Medical School   \n",
       "1920                          Jefferson Medical College   \n",
       "1357    Columbia University College of Phys. & Surgeons   \n",
       "2961                                                NaN   \n",
       "2949                                                NaN   \n",
       "2188                                Stanford University   \n",
       "1822                                            Harvard   \n",
       "1063  Washington University School of Medicine, St. ...   \n",
       "190                 Albert Einstein College of Medicine   \n",
       "1764                                    Harvard Medical   \n",
       "282                                                 NaN   \n",
       "2063                                               Duke   \n",
       "2838                                                NaN   \n",
       "2814                                                NaN   \n",
       "2425             University of Penn. School of Medicine   \n",
       "2793                                                NaN   \n",
       "2388                                            Harvard   \n",
       "2424                              Washington University   \n",
       "1985                                             Baylor   \n",
       "4                                                   NaN   \n",
       "2350                                    Yale University   \n",
       "\n",
       "                                original_medical_school  \n",
       "2605  Louisiana State University School of Medicine ...  \n",
       "825           University of Florida College of Medicine  \n",
       "95    Columbia University College of Physicians and ...  \n",
       "4087                            UCLA School of Medicine  \n",
       "4083             New York University School of Medicine  \n",
       "4049          University of Maryland School of Medicine  \n",
       "2541                             Harvard Medical School  \n",
       "3924                 Duke University School of Medicine  \n",
       "1629  University of North Carolina at Chapel Hill Sc...  \n",
       "1418                Tufts University School of Medicine  \n",
       "167                              Harvard Medical School  \n",
       "1882             Northwestern University Medical School  \n",
       "3819  Jefferson Medical College of Thomas Jefferson ...  \n",
       "2249  Joan & Sanford I. Weill Medical College Cornel...  \n",
       "1989                 Yale University School of Medicine  \n",
       "3816  Jefferson Medical College of Thomas Jefferson ...  \n",
       "3815  University of Rochester School of Medicine and...  \n",
       "3814  Case Western Reserve University School of Medi...  \n",
       "901   University of Texas Southwestern Medical Cente...  \n",
       "698              New York University School of Medicine  \n",
       "3809              Indiana University School of Medicine  \n",
       "780         Johns Hopkins University School of Medicine  \n",
       "253                                                 NaN  \n",
       "1526                                                NaN  \n",
       "1914  Mount Sinai School of Medicine of New York Uni...  \n",
       "1664  Case Western Reserve University School of Medi...  \n",
       "2228             New York University School of Medicine  \n",
       "122                              Harvard Medical School  \n",
       "945                              Harvard Medical School  \n",
       "1249  Columbia University College of Physicians and ...  \n",
       "...                                                 ...  \n",
       "3194  SUNY Buffalo School of Medicine & Biomedical S...  \n",
       "1459                 Duke University School of Medicine  \n",
       "242              New York University School of Medicine  \n",
       "917                                                 NaN  \n",
       "952            Washington University School of Medicine  \n",
       "1240           Washington University School of Medicine  \n",
       "1938  Albert Einstein College of Medicine of Yeshiva...  \n",
       "727                Boston University School of Medicine  \n",
       "1797        Johns Hopkins University School of Medicine  \n",
       "1519                             Harvard Medical School  \n",
       "1920  Jefferson Medical College of Thomas Jefferson ...  \n",
       "1357  Columbia University College of Physicians and ...  \n",
       "2961          University of Florida College of Medicine  \n",
       "2949  University of Rochester School of Medicine and...  \n",
       "2188             Stanford University School of Medicine  \n",
       "1822                             Harvard Medical School  \n",
       "1063           Washington University School of Medicine  \n",
       "190   Albert Einstein College of Medicine of Yeshiva...  \n",
       "1764                             Harvard Medical School  \n",
       "282                                                 NaN  \n",
       "2063                 Duke University School of Medicine  \n",
       "2838      University of Pennsylvania School of Medicine  \n",
       "2814  SUNY Buffalo School of Medicine & Biomedical S...  \n",
       "2425      University of Pennsylvania School of Medicine  \n",
       "2793                             Harvard Medical School  \n",
       "2388                             Harvard Medical School  \n",
       "2424           Washington University School of Medicine  \n",
       "1985                         Baylor College of Medicine  \n",
       "4     University of North Carolina at Chapel Hill Sc...  \n",
       "2350                 Yale University School of Medicine  \n",
       "\n",
       "[111 rows x 8 columns]"
      ]
     },
     "execution_count": 86,
     "metadata": {},
     "output_type": "execute_result"
    },
    {
     "name": "stdout",
     "output_type": "stream",
     "text": [
      "time: 85.2 ms\n"
     ]
    }
   ],
   "source": [
    "# need to check we haven't created amy frankenstein matches\n",
    "# ie. people who shouldn't really match together\n",
    "# get a\n",
    "match9.loc[(~pd.isnull(match9.first_name) & (\n",
    "    match9.clean_first_name!=match9.first_name.str.upper())), NAME_COLS+['first_name', 'middle_name', 'last_name', 'med_school', 'original_medical_school']]"
   ]
  },
  {
   "cell_type": "code",
   "execution_count": 87,
   "metadata": {
    "collapsed": false
   },
   "outputs": [
    {
     "data": {
      "text/plain": [
       "count    4115.000000\n",
       "mean        0.008991\n",
       "std         0.094408\n",
       "min         0.000000\n",
       "25%         0.000000\n",
       "50%         0.000000\n",
       "75%         0.000000\n",
       "max         1.000000\n",
       "Name: is_female, dtype: float64"
      ]
     },
     "execution_count": 87,
     "metadata": {},
     "output_type": "execute_result"
    },
    {
     "name": "stdout",
     "output_type": "stream",
     "text": [
      "time: 16.1 ms\n"
     ]
    }
   ],
   "source": [
    "match9.is_female.describe()"
   ]
  },
  {
   "cell_type": "code",
   "execution_count": 88,
   "metadata": {
    "collapsed": false,
    "scrolled": true
   },
   "outputs": [
    {
     "name": "stdout",
     "output_type": "stream",
     "text": [
      "time: 2.56 s\n"
     ]
    }
   ],
   "source": [
    "# add an international applicant flag\n",
    "# also drop anyone missing first, middle names and med school\n",
    "match9['is_foreign'] = 0\n",
    "match9.loc[:, 'is_foreign'] = match9.medical_school.apply(is_foreign_med_school)"
   ]
  },
  {
   "cell_type": "code",
   "execution_count": 89,
   "metadata": {
    "collapsed": false
   },
   "outputs": [
    {
     "data": {
      "text/plain": [
       "count    4115.000000\n",
       "mean        0.001944\n",
       "std         0.044055\n",
       "min         0.000000\n",
       "25%         0.000000\n",
       "50%         0.000000\n",
       "75%         0.000000\n",
       "max         1.000000\n",
       "Name: is_foreign, dtype: float64"
      ]
     },
     "execution_count": 89,
     "metadata": {},
     "output_type": "execute_result"
    },
    {
     "name": "stdout",
     "output_type": "stream",
     "text": [
      "time: 15 ms\n"
     ]
    }
   ],
   "source": [
    "match9.is_foreign.describe()"
   ]
  },
  {
   "cell_type": "code",
   "execution_count": 90,
   "metadata": {
    "collapsed": false,
    "scrolled": false
   },
   "outputs": [
    {
     "name": "stdout",
     "output_type": "stream",
     "text": [
      "time: 18.1 ms\n"
     ]
    }
   ],
   "source": [
    "match9['control_flag'] = 0\n",
    "match9.loc[pd.isnull(match9.dno) & pd.isnull(match9.year_accepted), 'control_flag'] = 1"
   ]
  },
  {
   "cell_type": "code",
   "execution_count": 91,
   "metadata": {
    "collapsed": false
   },
   "outputs": [
    {
     "name": "stdout",
     "output_type": "stream",
     "text": [
      "time: 13.4 ms\n"
     ]
    }
   ],
   "source": [
    "match9.loc[pd.isnull(match9.application_year), 'application_year'] = match9.loc[\n",
    "    pd.isnull(match9.application_year), 'application_year_1']"
   ]
  },
  {
   "cell_type": "code",
   "execution_count": 92,
   "metadata": {
    "collapsed": false
   },
   "outputs": [
    {
     "name": "stdout",
     "output_type": "stream",
     "text": [
      "time: 1.65 s\n"
     ]
    }
   ],
   "source": [
    "def total_number_applications(app_years):\n",
    "    unique_apps_years = app_years.dropna().unique()\n",
    "    return unique_apps_years.shape[0]\n",
    "\n",
    "match9['number_applications'] = match9[\n",
    "    ['application_year', 'application_year_1', 'application_year_2', 'application_year_3']].apply(\n",
    "        total_number_applications, axis=1)"
   ]
  },
  {
   "cell_type": "code",
   "execution_count": 93,
   "metadata": {
    "collapsed": false
   },
   "outputs": [
    {
     "name": "stdout",
     "output_type": "stream",
     "text": [
      "time: 11.8 ms\n"
     ]
    }
   ],
   "source": [
    "def applications_max_min(app_years, fnc):\n",
    "    unique_apps_years = app_years.dropna().unique()\n",
    "    if unique_apps_years.shape[0] == 0:\n",
    "        print app_years\n",
    "        return np.nan\n",
    "    return fnc(unique_apps_years)"
   ]
  },
  {
   "cell_type": "code",
   "execution_count": 94,
   "metadata": {
    "collapsed": false
   },
   "outputs": [
    {
     "name": "stdout",
     "output_type": "stream",
     "text": [
      "time: 1.56 s\n"
     ]
    }
   ],
   "source": [
    "match9['application_year_max'] = match9[\n",
    "    ['application_year', 'application_year_1', 'application_year_2', 'application_year_3']].apply(\n",
    "        funcy.rpartial(applications_max_min, max), axis=1)\n"
   ]
  },
  {
   "cell_type": "code",
   "execution_count": 95,
   "metadata": {
    "collapsed": false
   },
   "outputs": [
    {
     "name": "stdout",
     "output_type": "stream",
     "text": [
      "time: 1.57 s\n"
     ]
    }
   ],
   "source": [
    "match9['application_year_min'] = match9[\n",
    "    ['application_year', 'application_year_1', 'application_year_2', 'application_year_3']].apply(\n",
    "        funcy.rpartial(applications_max_min, min), axis=1)\n"
   ]
  },
  {
   "cell_type": "code",
   "execution_count": 96,
   "metadata": {
    "collapsed": false
   },
   "outputs": [
    {
     "name": "stdout",
     "output_type": "stream",
     "text": [
      "time: 17.4 ms\n"
     ]
    }
   ],
   "source": [
    "match9['time_period_flag'] = 0\n",
    "match9.loc[(match9.application_year_max>1964) & (match9.application_year_max<1976), 'time_period_flag'] = 1"
   ]
  },
  {
   "cell_type": "code",
   "execution_count": 97,
   "metadata": {
    "collapsed": false
   },
   "outputs": [
    {
     "name": "stdout",
     "output_type": "stream",
     "text": [
      "time: 46.7 ms\n"
     ]
    }
   ],
   "source": [
    "# match9A.loc[(match9A.clean_last_name=='MCCHURE') & (pd.isnull(match9A.clean_first_name))]]\n",
    "match9.loc[match9.clean_last_name=='MCCLURE MCCHURE', 'clean_last_name'] = 'MCCLURE'\n",
    "match9.loc[match9.clean_last_name=='PERPICH', 'application_year'] = 1967\n",
    "match9.loc[match9.clean_last_name=='PERPICH', 'application_year_min'] = 1967\n",
    "match9.loc[match9.clean_last_name=='PERPICH', 'application_year_max'] = 1967\n",
    "mathch9 = match9[match9.clean_last_name!='BRADEN R']\n",
    "match9_1 = match9[~((match9.clean_last_name=='BULKEY') & (match9.clean_first_name=='GREGORY'))]\n",
    "match9_2 = match9_1[~((match9_1.clean_last_name=='KNOWLER') & (match9_1.clean_first_name=='JAN'))]\n",
    "match9_3 = match9_2[~((match9_2.clean_last_name=='COLLIN') & (match9_2.clean_first_name=='ROBERT'))]\n",
    "match9_4 = match9_3[~((match9_3.clean_last_name=='BULLARD') & (match9_3.clean_first_name=='BRIAN'))]\n",
    "# CHESEBRE, COLDBERG, Robert Collin, DIEZMAN, GLASSROBTH, HUGH HAYWOOD, Bart Kentover, jan knowler, robert jeffery kramer\n",
    "# SAIRAI, william sullivan"
   ]
  },
  {
   "cell_type": "code",
   "execution_count": 98,
   "metadata": {
    "collapsed": false
   },
   "outputs": [
    {
     "name": "stdout",
     "output_type": "stream",
     "text": [
      "time: 105 ms\n"
     ]
    },
    {
     "name": "stderr",
     "output_type": "stream",
     "text": [
      "/home/lraymond/MIT/Azoulay_2016/yellow_berets/yb/local/lib/python2.7/site-packages/pandas/core/indexing.py:465: SettingWithCopyWarning: \n",
      "A value is trying to be set on a copy of a slice from a DataFrame.\n",
      "Try using .loc[row_indexer,col_indexer] = value instead\n",
      "\n",
      "See the caveats in the documentation: http://pandas.pydata.org/pandas-docs/stable/indexing.html#indexing-view-versus-copy\n",
      "  self.obj[item] = s\n"
     ]
    }
   ],
   "source": [
    "# fix some \n",
    "match9_4.loc[(\n",
    "        match9_4.clean_first_name=='WILLIAM') & (match9_4.clean_middle_name=='WILLIAM') & \n",
    "             (match9_4.clean_last_name=='SULLIVAN'), 'clean_middle_name'] = np.nan\n",
    "\n",
    "match9_4.loc[match9_4.clean_middle_name=='JEFFERY', 'clean_middle_name'] = 'JEFFREY'\n",
    "match9_4.loc[match9_4.clean_last_name=='GLASSROBTH', 'clean_last_name'] = 'GLASSROTH'"
   ]
  },
  {
   "cell_type": "code",
   "execution_count": 124,
   "metadata": {
    "collapsed": false
   },
   "outputs": [
    {
     "name": "stdout",
     "output_type": "stream",
     "text": [
      "time: 386 ms\n"
     ]
    }
   ],
   "source": [
    "# name corrections\n",
    "match9_4.loc[((match9_4.clean_first_name=='ALBERT') & (match9_4.first_name=='Adelbert')), 'clean_first_name'] = 'ADELBERT'\n",
    "match9_4.loc[((match9_4.clean_first_name=='BENJAMIN') & (match9_4.clean_last_name=='CAHAN')), 'clean_first_name'] = 'LESLIE'\n",
    "match9_4.loc[((match9_4.clean_first_name=='GEORGES')), 'clean_first_name'] = 'GEORGE'\n",
    "match9_4.loc[((match9_4.clean_first_name=='JACKS')), 'clean_first_name'] = 'JACK'\n",
    "match9_4.loc[((match9_4.clean_first_name=='HAVERY')), 'clean_first_name'] = 'HARVEY'\n",
    "match9_4.loc[((match9_4.clean_first_name=='LAWRENCE') & (match9_4.first_name=='Laurence')), 'clean_first_name'] = 'LAURENCE'\n",
    "match9_4.loc[((match9_4.clean_first_name=='PHILLIP') & (match9_4.first_name=='Philip')), 'clean_first_name'] = 'PHILIP'\n",
    "match9_4.loc[((match9_4.clean_first_name=='FREDERIC') & (match9_4.clean_last_name=='MUSHINSKI')), 'clean_middle_name'] = 'COSTEP'\n",
    "# name corrections\n",
    "match9_4.loc[((match9_4.clean_first_name=='ALBERT') & (match9_4.first_name=='Adelbert')), 'clean_first_name'] = 'ADELBERT'\n",
    "match9_4.loc[((match9_4.clean_first_name=='BENJAMIN') & (match9_4.clean_last_name=='CAHAN')), 'clean_first_name'] = 'LESLIE'\n",
    "match9_4.loc[((match9_4.clean_first_name=='GEORGES')), 'clean_first_name'] = 'GEORGE'\n",
    "match9_4.loc[((match9_4.clean_first_name=='JACKS')), 'clean_first_name'] = 'JACK'\n",
    "match9_4.loc[((match9_4.clean_first_name=='HAVERY')), 'clean_first_name'] = 'HARVEY'\n",
    "match9_4.loc[((match9_4.clean_first_name=='LAWRENCE') & (match9_4.first_name=='Laurence')), 'clean_first_name'] = 'LAURENCE'\n",
    "match9_4.loc[((match9_4.clean_first_name=='PHILLIP') & (match9_4.first_name=='Philip')), 'clean_first_name'] = 'PHILIP'\n",
    "match9_4.loc[((match9_4.clean_first_name=='FREDERIC') & (match9_4.clean_last_name=='MUSHINSKI')), 'clean_middle_name'] = 'COSTEP'\n"
   ]
  },
  {
   "cell_type": "code",
   "execution_count": 125,
   "metadata": {
    "collapsed": false
   },
   "outputs": [
    {
     "data": {
      "text/html": [
       "<div>\n",
       "<table border=\"1\" class=\"dataframe\">\n",
       "  <thead>\n",
       "    <tr style=\"text-align: right;\">\n",
       "      <th></th>\n",
       "      <th>clean_first_name</th>\n",
       "      <th>clean_middle_name</th>\n",
       "      <th>clean_last_name</th>\n",
       "      <th>medical_school</th>\n",
       "    </tr>\n",
       "  </thead>\n",
       "  <tbody>\n",
       "    <tr>\n",
       "      <th>2388</th>\n",
       "      <td>WILLIAM</td>\n",
       "      <td>D</td>\n",
       "      <td>BRADEN</td>\n",
       "      <td>HARVARD MEDICAL SCHOOL</td>\n",
       "    </tr>\n",
       "    <tr>\n",
       "      <th>2333</th>\n",
       "      <td>BERNADINE</td>\n",
       "      <td>HEALY</td>\n",
       "      <td>BULKLEY</td>\n",
       "      <td>HARVARD MEDICAL SCHOOL</td>\n",
       "    </tr>\n",
       "    <tr>\n",
       "      <th>2332</th>\n",
       "      <td>GREGORY</td>\n",
       "      <td>BARTLETT</td>\n",
       "      <td>BULKLEY</td>\n",
       "      <td>HARVARD MEDICAL SCHOOL</td>\n",
       "    </tr>\n",
       "    <tr>\n",
       "      <th>117</th>\n",
       "      <td>JAMES</td>\n",
       "      <td>E</td>\n",
       "      <td>COLDBERG</td>\n",
       "      <td>HARVARD MEDICAL SCHOOL</td>\n",
       "    </tr>\n",
       "    <tr>\n",
       "      <th>2212</th>\n",
       "      <td>ROBERT</td>\n",
       "      <td>CHAPLIN</td>\n",
       "      <td>COLLINS</td>\n",
       "      <td>JOAN &amp; SANFORD I. WEILL MEDICAL COLLEGE CORNEL...</td>\n",
       "    </tr>\n",
       "    <tr>\n",
       "      <th>2211</th>\n",
       "      <td>STEVEN</td>\n",
       "      <td>HAMES</td>\n",
       "      <td>COLLINS</td>\n",
       "      <td>COLUMBIA UNIVERSITY COLLEGE OF PHYSICIANS AND ...</td>\n",
       "    </tr>\n",
       "    <tr>\n",
       "      <th>123</th>\n",
       "      <td>DALE</td>\n",
       "      <td>E</td>\n",
       "      <td>DIETZMAN</td>\n",
       "      <td>UNIVERSITY OF VERMONT COLLEGE OF MEDICINE</td>\n",
       "    </tr>\n",
       "    <tr>\n",
       "      <th>3605</th>\n",
       "      <td>JEFFREY</td>\n",
       "      <td>LEONARD</td>\n",
       "      <td>GLASSROTH</td>\n",
       "      <td>UNIVERSITY OF CINCINNATI COLLEGE OF MEDICINE</td>\n",
       "    </tr>\n",
       "    <tr>\n",
       "      <th>1699</th>\n",
       "      <td>HUGH</td>\n",
       "      <td>R</td>\n",
       "      <td>HAYWARD</td>\n",
       "      <td>UNIVERSITY OF ROCHESTER SCHOOL OF MEDICINE</td>\n",
       "    </tr>\n",
       "    <tr>\n",
       "      <th>4092</th>\n",
       "      <td>BART</td>\n",
       "      <td>PETER</td>\n",
       "      <td>KENTOVER</td>\n",
       "      <td>JOAN SANFORD I WEILL MEDICAL COLLEGE CORNELL U...</td>\n",
       "    </tr>\n",
       "    <tr>\n",
       "      <th>1453</th>\n",
       "      <td>WILLIAM</td>\n",
       "      <td>CLAYTON</td>\n",
       "      <td>KNOWLER</td>\n",
       "      <td>HARVARD MEDICAL SCHOOL</td>\n",
       "    </tr>\n",
       "    <tr>\n",
       "      <th>150</th>\n",
       "      <td>JAN</td>\n",
       "      <td>O</td>\n",
       "      <td>KOEHLER</td>\n",
       "      <td>PENNSYLVANIA STATE UNIVERSITY COLLEGE OF MEDICINE</td>\n",
       "    </tr>\n",
       "    <tr>\n",
       "      <th>1429</th>\n",
       "      <td>RICHARD</td>\n",
       "      <td>NaN</td>\n",
       "      <td>KRAMER</td>\n",
       "      <td>DUKE MEDICAL SCHOOL</td>\n",
       "    </tr>\n",
       "    <tr>\n",
       "      <th>1430</th>\n",
       "      <td>KARL</td>\n",
       "      <td>JULES</td>\n",
       "      <td>KRAMER</td>\n",
       "      <td>JOHNS HOPKINS UNIVERSITY SCHOOL OF MEDICINE</td>\n",
       "    </tr>\n",
       "    <tr>\n",
       "      <th>19</th>\n",
       "      <td>ROBERT</td>\n",
       "      <td>JEFFREY</td>\n",
       "      <td>KRAMER</td>\n",
       "      <td>HARVARD MEDICAL SCHOOL</td>\n",
       "    </tr>\n",
       "    <tr>\n",
       "      <th>3022</th>\n",
       "      <td>ROBERT</td>\n",
       "      <td>DAVID</td>\n",
       "      <td>KRAMER</td>\n",
       "      <td>UNIVERSITY OF WISCONSIN MEDICAL SCHOOL</td>\n",
       "    </tr>\n",
       "    <tr>\n",
       "      <th>1431</th>\n",
       "      <td>BARNETT</td>\n",
       "      <td>SHELDON</td>\n",
       "      <td>KRAMER</td>\n",
       "      <td>UNIVERSITY OF MARYLAND SCHOOL OF MEDICINE</td>\n",
       "    </tr>\n",
       "    <tr>\n",
       "      <th>3967</th>\n",
       "      <td>DAVID</td>\n",
       "      <td>CAMERON</td>\n",
       "      <td>MCCLURE</td>\n",
       "      <td>WEST VIRGINIA UNIVERSITY SCHOOL OF MEDICINE</td>\n",
       "    </tr>\n",
       "    <tr>\n",
       "      <th>949</th>\n",
       "      <td>JOSEPH</td>\n",
       "      <td>GEORGE</td>\n",
       "      <td>PERPICH</td>\n",
       "      <td>UNIVERSITY OF MINNESOTA MEDICAL SCHOOL DULUTH</td>\n",
       "    </tr>\n",
       "    <tr>\n",
       "      <th>718</th>\n",
       "      <td>REIN</td>\n",
       "      <td>NaN</td>\n",
       "      <td>SARAL</td>\n",
       "      <td>JOHNS HOPKINS UNIVERSITY SCHOOL OF MEDICINE</td>\n",
       "    </tr>\n",
       "    <tr>\n",
       "      <th>4173</th>\n",
       "      <td>ALBERT</td>\n",
       "      <td>LEO</td>\n",
       "      <td>SULLIVAN</td>\n",
       "      <td>SUNY BUFFALO SCHOOL OF MEDICINE BIOMEDICAL SCI...</td>\n",
       "    </tr>\n",
       "    <tr>\n",
       "      <th>63</th>\n",
       "      <td>JOHN</td>\n",
       "      <td>LEWIS</td>\n",
       "      <td>SULLIVAN</td>\n",
       "      <td>SUNY UPSTATE MEDICAL UNIVERSITY AT SYRACUSE</td>\n",
       "    </tr>\n",
       "    <tr>\n",
       "      <th>492</th>\n",
       "      <td>JAMES</td>\n",
       "      <td>N</td>\n",
       "      <td>SULLIVAN</td>\n",
       "      <td>VANDERBILT UNIVERSITY SCHOOL OF MEDICINE</td>\n",
       "    </tr>\n",
       "    <tr>\n",
       "      <th>3136</th>\n",
       "      <td>PETER</td>\n",
       "      <td>WILLIAM</td>\n",
       "      <td>SULLIVAN</td>\n",
       "      <td>UCSF SCHOOL OF MEDICINE</td>\n",
       "    </tr>\n",
       "    <tr>\n",
       "      <th>0</th>\n",
       "      <td>WILLIAM</td>\n",
       "      <td>ROSS</td>\n",
       "      <td>SULLIVAN</td>\n",
       "      <td>UNIVERSITY OF PENNSYLVANIA SCHOOL OF MEDICINE</td>\n",
       "    </tr>\n",
       "  </tbody>\n",
       "</table>\n",
       "</div>"
      ],
      "text/plain": [
       "     clean_first_name clean_middle_name clean_last_name  \\\n",
       "2388          WILLIAM                 D          BRADEN   \n",
       "2333        BERNADINE             HEALY         BULKLEY   \n",
       "2332          GREGORY          BARTLETT         BULKLEY   \n",
       "117             JAMES                 E        COLDBERG   \n",
       "2212           ROBERT           CHAPLIN         COLLINS   \n",
       "2211           STEVEN             HAMES         COLLINS   \n",
       "123              DALE                 E        DIETZMAN   \n",
       "3605          JEFFREY           LEONARD       GLASSROTH   \n",
       "1699             HUGH                 R         HAYWARD   \n",
       "4092             BART             PETER        KENTOVER   \n",
       "1453          WILLIAM           CLAYTON         KNOWLER   \n",
       "150               JAN                 O         KOEHLER   \n",
       "1429          RICHARD               NaN          KRAMER   \n",
       "1430             KARL             JULES          KRAMER   \n",
       "19             ROBERT           JEFFREY          KRAMER   \n",
       "3022           ROBERT             DAVID          KRAMER   \n",
       "1431          BARNETT           SHELDON          KRAMER   \n",
       "3967            DAVID           CAMERON         MCCLURE   \n",
       "949            JOSEPH            GEORGE         PERPICH   \n",
       "718              REIN               NaN           SARAL   \n",
       "4173           ALBERT               LEO        SULLIVAN   \n",
       "63               JOHN             LEWIS        SULLIVAN   \n",
       "492             JAMES                 N        SULLIVAN   \n",
       "3136            PETER           WILLIAM        SULLIVAN   \n",
       "0             WILLIAM              ROSS        SULLIVAN   \n",
       "\n",
       "                                         medical_school  \n",
       "2388                             HARVARD MEDICAL SCHOOL  \n",
       "2333                             HARVARD MEDICAL SCHOOL  \n",
       "2332                             HARVARD MEDICAL SCHOOL  \n",
       "117                              HARVARD MEDICAL SCHOOL  \n",
       "2212  JOAN & SANFORD I. WEILL MEDICAL COLLEGE CORNEL...  \n",
       "2211  COLUMBIA UNIVERSITY COLLEGE OF PHYSICIANS AND ...  \n",
       "123           UNIVERSITY OF VERMONT COLLEGE OF MEDICINE  \n",
       "3605       UNIVERSITY OF CINCINNATI COLLEGE OF MEDICINE  \n",
       "1699         UNIVERSITY OF ROCHESTER SCHOOL OF MEDICINE  \n",
       "4092  JOAN SANFORD I WEILL MEDICAL COLLEGE CORNELL U...  \n",
       "1453                             HARVARD MEDICAL SCHOOL  \n",
       "150   PENNSYLVANIA STATE UNIVERSITY COLLEGE OF MEDICINE  \n",
       "1429                                DUKE MEDICAL SCHOOL  \n",
       "1430        JOHNS HOPKINS UNIVERSITY SCHOOL OF MEDICINE  \n",
       "19                               HARVARD MEDICAL SCHOOL  \n",
       "3022             UNIVERSITY OF WISCONSIN MEDICAL SCHOOL  \n",
       "1431          UNIVERSITY OF MARYLAND SCHOOL OF MEDICINE  \n",
       "3967        WEST VIRGINIA UNIVERSITY SCHOOL OF MEDICINE  \n",
       "949       UNIVERSITY OF MINNESOTA MEDICAL SCHOOL DULUTH  \n",
       "718         JOHNS HOPKINS UNIVERSITY SCHOOL OF MEDICINE  \n",
       "4173  SUNY BUFFALO SCHOOL OF MEDICINE BIOMEDICAL SCI...  \n",
       "63          SUNY UPSTATE MEDICAL UNIVERSITY AT SYRACUSE  \n",
       "492            VANDERBILT UNIVERSITY SCHOOL OF MEDICINE  \n",
       "3136                            UCSF SCHOOL OF MEDICINE  \n",
       "0         UNIVERSITY OF PENNSYLVANIA SCHOOL OF MEDICINE  "
      ]
     },
     "execution_count": 125,
     "metadata": {},
     "output_type": "execute_result"
    },
    {
     "name": "stdout",
     "output_type": "stream",
     "text": [
      "time: 59.3 ms\n"
     ]
    }
   ],
   "source": [
    "test = ['PERPICH',  'BRADEN', 'BRADEN R', 'BULKEY', 'BULKLEY', \n",
    "       'CHESEBRE', 'COLDBERG', 'COLLIN', 'DIEZMAN', 'DIETZMAN', 'GLASSROBTH', \n",
    "        'GLASSROTH', 'HAYWARD', 'HAYWOOD', 'MCCLURE MCCHURE', 'MCCLURE', 'MCCHURE',\n",
    "       'KETOVER', 'KENTOVER', 'KNOWLER', 'KRAMER', 'SARAI', 'SARAL', 'SARAL', 'SULLIVAN', 'COLLINS', \n",
    "       'KOEHLER']\n",
    "match9_4.loc[match9_4.clean_last_name.isin(test), NAME_COLS+['medical_school']].sort_values('clean_last_name')"
   ]
  },
  {
   "cell_type": "code",
   "execution_count": 126,
   "metadata": {
    "collapsed": false
   },
   "outputs": [
    {
     "name": "stdout",
     "output_type": "stream",
     "text": [
      "(4111, 109)\n",
      "(4109, 109)\n",
      "(4108, 109)\n",
      "time: 55 ms\n"
     ]
    }
   ],
   "source": [
    "# delete people missing first and middle names\n",
    "print match9_4.shape\n",
    "match9A = match9_4.loc[~((pd.isnull(match9_4.clean_first_name) & pd.isnull(match9_4.clean_middle_name))), :]\n",
    "match9A2 = match9A.loc[~(\n",
    "        (match9A.medical_school=='UNIVERSITY OF MINNESOTA MEDICAL SCHOOL DULUTH') & (\n",
    "            match9A.clean_last_name=='PERPICH')), :]\n",
    "match9A3 = match9A2.loc[~((pd.isnull(match9A2.clean_first_name) & (match9A2.clean_last_name=='MCCHURE'))), :]\n",
    "match9A4 = match9A3.loc[~(\n",
    "        (match9A3.clean_first_name==match9A3.clean_middle_name) & (match9A3.clean_last_name=='BROWER')), :]\n",
    "match9B = match9A4.loc[~pd.isnull(match9A4.application_year_min), :]\n",
    "print match9A.shape\n",
    "print match9B.shape"
   ]
  },
  {
   "cell_type": "code",
   "execution_count": 127,
   "metadata": {
    "collapsed": false
   },
   "outputs": [
    {
     "data": {
      "text/html": [
       "<div>\n",
       "<table border=\"1\" class=\"dataframe\">\n",
       "  <thead>\n",
       "    <tr style=\"text-align: right;\">\n",
       "      <th></th>\n",
       "      <th>clean_first_name</th>\n",
       "      <th>clean_middle_name</th>\n",
       "      <th>clean_last_name</th>\n",
       "      <th>application_year_min</th>\n",
       "      <th>medical_school</th>\n",
       "      <th>application_year</th>\n",
       "    </tr>\n",
       "  </thead>\n",
       "  <tbody>\n",
       "  </tbody>\n",
       "</table>\n",
       "</div>"
      ],
      "text/plain": [
       "Empty DataFrame\n",
       "Columns: [clean_first_name, clean_middle_name, clean_last_name, application_year_min, medical_school, application_year]\n",
       "Index: []"
      ]
     },
     "execution_count": 127,
     "metadata": {},
     "output_type": "execute_result"
    },
    {
     "name": "stdout",
     "output_type": "stream",
     "text": [
      "time: 39.6 ms\n"
     ]
    }
   ],
   "source": [
    "match9A2.loc[pd.isnull(match9A2.application_year_min), NAME_COLS+['application_year_min', 'medical_school', 'application_year']]\n",
    "match9B.loc[match9B.clean_last_name=='PERPICH', NAME_COLS+['application_year_min', 'medical_school', 'application_year']]"
   ]
  },
  {
   "cell_type": "code",
   "execution_count": 128,
   "metadata": {
    "collapsed": false
   },
   "outputs": [
    {
     "name": "stdout",
     "output_type": "stream",
     "text": [
      "time: 35.6 ms\n"
     ]
    }
   ],
   "source": [
    "mask = match9B.clean_first_name.apply(has_suffix)\n",
    "match9B.loc[mask, 'clean_suffix'] = match9B.loc[mask, 'clean_first_name'].apply(get_suffix)\n",
    "\n",
    "match9B.loc[mask, 'clean_first_name'] = 'SPENCER'"
   ]
  },
  {
   "cell_type": "code",
   "execution_count": 129,
   "metadata": {
    "collapsed": false
   },
   "outputs": [
    {
     "data": {
      "text/html": [
       "<div>\n",
       "<table border=\"1\" class=\"dataframe\">\n",
       "  <thead>\n",
       "    <tr style=\"text-align: right;\">\n",
       "      <th></th>\n",
       "      <th>clean_first_name</th>\n",
       "      <th>clean_middle_name</th>\n",
       "      <th>clean_last_name</th>\n",
       "      <th>medical_school</th>\n",
       "      <th>person_uuid</th>\n",
       "      <th>address</th>\n",
       "    </tr>\n",
       "  </thead>\n",
       "  <tbody>\n",
       "  </tbody>\n",
       "</table>\n",
       "</div>"
      ],
      "text/plain": [
       "Empty DataFrame\n",
       "Columns: [clean_first_name, clean_middle_name, clean_last_name, medical_school, person_uuid, address]\n",
       "Index: []"
      ]
     },
     "execution_count": 129,
     "metadata": {},
     "output_type": "execute_result"
    },
    {
     "name": "stdout",
     "output_type": "stream",
     "text": [
      "time: 17.9 ms\n"
     ]
    }
   ],
   "source": [
    "# check for person id duplicates\n",
    "dups_mask = match9B.duplicated(PERSON_ID, keep=False)\n",
    "match9B.loc[dups_mask, NAME_COLS+['medical_school', PERSON_ID, 'address']]"
   ]
  },
  {
   "cell_type": "code",
   "execution_count": 130,
   "metadata": {
    "collapsed": false
   },
   "outputs": [
    {
     "data": {
      "text/plain": [
       "4152.0"
      ]
     },
     "execution_count": 130,
     "metadata": {},
     "output_type": "execute_result"
    },
    {
     "name": "stdout",
     "output_type": "stream",
     "text": [
      "time: 13.8 ms\n"
     ]
    }
   ],
   "source": [
    "import hashlib\n",
    "from random import randint\n",
    "max(match9B.person_uuid.values)"
   ]
  },
  {
   "cell_type": "code",
   "execution_count": 131,
   "metadata": {
    "collapsed": false
   },
   "outputs": [
    {
     "name": "stdout",
     "output_type": "stream",
     "text": [
      "4152.0\n",
      "time: 27.3 ms\n"
     ]
    }
   ],
   "source": [
    "max_id = max(match9B.person_uuid.values)\n",
    "print max_id\n",
    "dups_mask = match9B.duplicated(PERSON_ID, keep=False)\n",
    "dups = match9B.ix[dups_mask, NAME_COLS+[PERSON_ID, 'medical_school', 'address']]\n",
    "dups['new_id'] = dups.person_uuid.apply(lambda x: max_id+randint(10, 1000))"
   ]
  },
  {
   "cell_type": "code",
   "execution_count": 132,
   "metadata": {
    "collapsed": false
   },
   "outputs": [
    {
     "data": {
      "text/html": [
       "<div>\n",
       "<table border=\"1\" class=\"dataframe\">\n",
       "  <thead>\n",
       "    <tr style=\"text-align: right;\">\n",
       "      <th></th>\n",
       "      <th>clean_first_name</th>\n",
       "      <th>clean_middle_name</th>\n",
       "      <th>clean_last_name</th>\n",
       "      <th>person_uuid</th>\n",
       "      <th>dno</th>\n",
       "    </tr>\n",
       "  </thead>\n",
       "  <tbody>\n",
       "  </tbody>\n",
       "</table>\n",
       "</div>"
      ],
      "text/plain": [
       "Empty DataFrame\n",
       "Columns: [clean_first_name, clean_middle_name, clean_last_name, person_uuid, dno]\n",
       "Index: []"
      ]
     },
     "execution_count": 132,
     "metadata": {},
     "output_type": "execute_result"
    },
    {
     "name": "stdout",
     "output_type": "stream",
     "text": [
      "time: 24.4 ms\n"
     ]
    }
   ],
   "source": [
    "match9B.loc[match9B.duplicated(PERSON_ID, keep=False), NAME_COLS+[PERSON_ID, 'dno']]\n"
   ]
  },
  {
   "cell_type": "code",
   "execution_count": 133,
   "metadata": {
    "collapsed": false
   },
   "outputs": [
    {
     "name": "stdout",
     "output_type": "stream",
     "text": [
      "time: 45.7 ms\n"
     ]
    }
   ],
   "source": [
    "match9C = pd.merge(left=match9B, right=dups, on=NAME_COLS+['medical_school', 'address', PERSON_ID], how='left')"
   ]
  },
  {
   "cell_type": "code",
   "execution_count": 134,
   "metadata": {
    "collapsed": false
   },
   "outputs": [
    {
     "name": "stdout",
     "output_type": "stream",
     "text": [
      "time: 17.3 ms\n"
     ]
    }
   ],
   "source": [
    "mask = ~pd.isnull(match9C.new_id)"
   ]
  },
  {
   "cell_type": "code",
   "execution_count": 135,
   "metadata": {
    "collapsed": false
   },
   "outputs": [
    {
     "data": {
      "text/html": [
       "<div>\n",
       "<table border=\"1\" class=\"dataframe\">\n",
       "  <thead>\n",
       "    <tr style=\"text-align: right;\">\n",
       "      <th></th>\n",
       "      <th>clean_first_name</th>\n",
       "      <th>clean_middle_name</th>\n",
       "      <th>clean_last_name</th>\n",
       "      <th>person_uuid</th>\n",
       "      <th>new_id</th>\n",
       "    </tr>\n",
       "  </thead>\n",
       "  <tbody>\n",
       "    <tr>\n",
       "      <th>3813</th>\n",
       "      <td>THOMAS</td>\n",
       "      <td>E</td>\n",
       "      <td>HOFFMAN</td>\n",
       "      <td>3800.0</td>\n",
       "      <td>NaN</td>\n",
       "    </tr>\n",
       "  </tbody>\n",
       "</table>\n",
       "</div>"
      ],
      "text/plain": [
       "     clean_first_name clean_middle_name clean_last_name  person_uuid  new_id\n",
       "3813           THOMAS                 E         HOFFMAN       3800.0     NaN"
      ]
     },
     "execution_count": 135,
     "metadata": {},
     "output_type": "execute_result"
    },
    {
     "name": "stdout",
     "output_type": "stream",
     "text": [
      "time: 27.5 ms\n"
     ]
    }
   ],
   "source": [
    "match9C.loc[match9C.person_uuid==3800,NAME_COLS+[PERSON_ID, 'new_id']]"
   ]
  },
  {
   "cell_type": "code",
   "execution_count": 136,
   "metadata": {
    "collapsed": false
   },
   "outputs": [
    {
     "name": "stdout",
     "output_type": "stream",
     "text": [
      "time: 24.3 ms\n"
     ]
    }
   ],
   "source": [
    "match9C.loc[mask, PERSON_ID] = match9C[mask]['new_id'] "
   ]
  },
  {
   "cell_type": "code",
   "execution_count": 137,
   "metadata": {
    "collapsed": false
   },
   "outputs": [
    {
     "name": "stdout",
     "output_type": "stream",
     "text": [
      "time: 11.8 ms\n"
     ]
    }
   ],
   "source": [
    "del match9C['new_id']"
   ]
  },
  {
   "cell_type": "code",
   "execution_count": 138,
   "metadata": {
    "collapsed": false
   },
   "outputs": [
    {
     "data": {
      "text/html": [
       "<div>\n",
       "<table border=\"1\" class=\"dataframe\">\n",
       "  <thead>\n",
       "    <tr style=\"text-align: right;\">\n",
       "      <th></th>\n",
       "      <th>clean_first_name</th>\n",
       "      <th>clean_middle_name</th>\n",
       "      <th>clean_last_name</th>\n",
       "      <th>medical_school</th>\n",
       "      <th>person_uuid</th>\n",
       "      <th>address</th>\n",
       "    </tr>\n",
       "  </thead>\n",
       "  <tbody>\n",
       "  </tbody>\n",
       "</table>\n",
       "</div>"
      ],
      "text/plain": [
       "Empty DataFrame\n",
       "Columns: [clean_first_name, clean_middle_name, clean_last_name, medical_school, person_uuid, address]\n",
       "Index: []"
      ]
     },
     "execution_count": 138,
     "metadata": {},
     "output_type": "execute_result"
    },
    {
     "name": "stdout",
     "output_type": "stream",
     "text": [
      "time: 19.7 ms\n"
     ]
    }
   ],
   "source": [
    "dups_mask = match9C.duplicated(PERSON_ID, keep=False)\n",
    "match9C.loc[dups_mask, NAME_COLS+['medical_school', PERSON_ID, 'address']]"
   ]
  },
  {
   "cell_type": "code",
   "execution_count": 139,
   "metadata": {
    "collapsed": false,
    "scrolled": false
   },
   "outputs": [
    {
     "name": "stdout",
     "output_type": "stream",
     "text": [
      "time: 1.13 s\n"
     ]
    }
   ],
   "source": [
    "match9C.rename(columns={'res_dates': 'residency_dates', 'intern_dates': 'internship_dates', \n",
    "                      'clean_college_trans': 'clean_college'}, inplace=True)\n",
    "\n",
    "IMPORTANT_COLS = [NIH_ID, PERSON_ID, 'application_year_min', 'application_year_max', 'eod_year',\n",
    "                  'clean_first_name', 'clean_middle_name', \n",
    "                 'clean_last_name', 'control_flag', 'time_period_flag', 'year_accepted',\n",
    "                  'rejected', 'rejection_date', 'clean_college', 'medical_school',\n",
    "                'residency_dates', 'internship_dates', 'is_female', 'is_foreign', 'number_applications']\n",
    "\n",
    "other_cols = sorted([i for i in match9C.columns if i not in IMPORTANT_COLS])\n",
    "\n",
    "# order columns so important ones are \n",
    "match10 = match9C[IMPORTANT_COLS+other_cols].sort_values(['clean_last_name', 'clean_first_name', 'application_year_max']).drop(\n",
    "    ['clean_first_name_y', 'clean_middle_name_y', 'clean_last_name_y'], axis=1)\n",
    "\n",
    "match11 = match10.dropna(subset=[PERSON_ID], axis=0).sort_values(['clean_last_name', 'clean_first_name'])\n",
    "\n",
    "mask = (pd.isnull(match11.eod_year) & ~pd.isnull(match11.dno))\n",
    "\n",
    "match11['is_female'] = 0\n",
    "\n",
    "match11.loc[match11.clean_first_name.isin(FEMALE_FIRST_NAMES), 'is_female'] = 1\n",
    "\n",
    "match11.loc[mask, 'eod_year'] = match11[mask].dno.apply(lambda x: NIH.loc[NIH.dno==x, 'eod_year'].values[0])\n",
    "# wide_apps5.to_pickle(os.path.join(APP_DATA_DIR, 'all_apps_plus_NIH_info.p'))\n",
    "match11.to_csv(os.path.join(APP_DATA_DIR, 'fuzzy_all_apps_plus_NIH_info.csv'), index=False)"
   ]
  },
  {
   "cell_type": "code",
   "execution_count": 140,
   "metadata": {
    "collapsed": false,
    "scrolled": false
   },
   "outputs": [
    {
     "data": {
      "text/html": [
       "<div>\n",
       "<table border=\"1\" class=\"dataframe\">\n",
       "  <thead>\n",
       "    <tr style=\"text-align: right;\">\n",
       "      <th></th>\n",
       "      <th>clean_first_name</th>\n",
       "      <th>clean_middle_name</th>\n",
       "      <th>clean_last_name</th>\n",
       "      <th>person_uuid</th>\n",
       "      <th>medical_school</th>\n",
       "      <th>application_year</th>\n",
       "      <th>dno</th>\n",
       "      <th>residency</th>\n",
       "      <th>residency_hospital</th>\n",
       "      <th>internship_hospital</th>\n",
       "      <th>residency_dates</th>\n",
       "    </tr>\n",
       "  </thead>\n",
       "  <tbody>\n",
       "    <tr>\n",
       "      <th>4208</th>\n",
       "      <td>NaN</td>\n",
       "      <td>SHELOR</td>\n",
       "      <td>HARRIN</td>\n",
       "      <td>4121.0</td>\n",
       "      <td>JOAN SANFORD I WEILL MEDICAL COLLEGE CORNELL U...</td>\n",
       "      <td>1970.0</td>\n",
       "      <td>NaN</td>\n",
       "      <td>OPHTHALMOLOGY</td>\n",
       "      <td>JOHNS HOPKINS HEALTH SYSTEM</td>\n",
       "      <td>UNIVERSITY OF WASHINGTON</td>\n",
       "      <td>NaN</td>\n",
       "    </tr>\n",
       "  </tbody>\n",
       "</table>\n",
       "</div>"
      ],
      "text/plain": [
       "     clean_first_name clean_middle_name clean_last_name  person_uuid  \\\n",
       "4208              NaN            SHELOR          HARRIN       4121.0   \n",
       "\n",
       "                                         medical_school  application_year  \\\n",
       "4208  JOAN SANFORD I WEILL MEDICAL COLLEGE CORNELL U...            1970.0   \n",
       "\n",
       "      dno      residency           residency_hospital  \\\n",
       "4208  NaN  OPHTHALMOLOGY  JOHNS HOPKINS HEALTH SYSTEM   \n",
       "\n",
       "           internship_hospital  residency_dates  \n",
       "4208  UNIVERSITY OF WASHINGTON              NaN  "
      ]
     },
     "execution_count": 140,
     "metadata": {},
     "output_type": "execute_result"
    },
    {
     "name": "stdout",
     "output_type": "stream",
     "text": [
      "time: 29.6 ms\n"
     ]
    }
   ],
   "source": [
    "match9A.loc[match9A.clean_last_name.isin(['HARRIN']), NAME_COLS+[PERSON_ID, 'medical_school', 'application_year', 'dno', 'residency','residency_hospital',\n",
    "                                                            'internship_hospital', 'residency_dates']]"
   ]
  },
  {
   "cell_type": "code",
   "execution_count": 141,
   "metadata": {
    "collapsed": false
   },
   "outputs": [
    {
     "name": "stdout",
     "output_type": "stream",
     "text": [
      "time: 11.7 ms\n"
     ]
    }
   ],
   "source": [
    "# NIH.loc[NIH.dno.isin(dups_dno.dno), NAME_COLS+['dno']]"
   ]
  },
  {
   "cell_type": "code",
   "execution_count": 142,
   "metadata": {
    "collapsed": false
   },
   "outputs": [
    {
     "name": "stdout",
     "output_type": "stream",
     "text": [
      "(0, 6)\n"
     ]
    },
    {
     "data": {
      "text/html": [
       "<div>\n",
       "<table border=\"1\" class=\"dataframe\">\n",
       "  <thead>\n",
       "    <tr style=\"text-align: right;\">\n",
       "      <th></th>\n",
       "      <th>clean_first_name_x</th>\n",
       "      <th>clean_middle_name_x</th>\n",
       "      <th>clean_last_name_x</th>\n",
       "      <th>person_uuid</th>\n",
       "      <th>medical_school_x</th>\n",
       "      <th>clean_first_name_y</th>\n",
       "      <th>clean_middle_name_y</th>\n",
       "      <th>clean_last_name_y</th>\n",
       "      <th>dno</th>\n",
       "      <th>medical_school_y</th>\n",
       "    </tr>\n",
       "  </thead>\n",
       "  <tbody>\n",
       "  </tbody>\n",
       "</table>\n",
       "</div>"
      ],
      "text/plain": [
       "Empty DataFrame\n",
       "Columns: [clean_first_name_x, clean_middle_name_x, clean_last_name_x, person_uuid, medical_school_x, clean_first_name_y, clean_middle_name_y, clean_last_name_y, dno, medical_school_y]\n",
       "Index: []"
      ]
     },
     "execution_count": 142,
     "metadata": {},
     "output_type": "execute_result"
    },
    {
     "name": "stdout",
     "output_type": "stream",
     "text": [
      "time: 33.9 ms\n"
     ]
    }
   ],
   "source": [
    "dups_dno = match11.loc[(~pd.isnull(match11.dno)) & (match11.duplicated('dno', keep=False)), NAME_COLS+['dno', PERSON_ID, 'medical_school']]\n",
    "print dups_dno.shape\n",
    "dups_merge = pd.merge(\n",
    "    left=dups_dno, right=NIH.loc[NIH.dno.isin(dups_dno.dno), NAME_COLS+['dno', 'medical_school']], on=['dno'], how='left')\n",
    "\n",
    "dups_merge"
   ]
  },
  {
   "cell_type": "code",
   "execution_count": 143,
   "metadata": {
    "collapsed": false
   },
   "outputs": [
    {
     "data": {
      "text/html": [
       "<div>\n",
       "<table border=\"1\" class=\"dataframe\">\n",
       "  <thead>\n",
       "    <tr style=\"text-align: right;\">\n",
       "      <th></th>\n",
       "      <th>clean_first_name</th>\n",
       "      <th>clean_middle_name</th>\n",
       "      <th>clean_last_name</th>\n",
       "    </tr>\n",
       "  </thead>\n",
       "  <tbody>\n",
       "  </tbody>\n",
       "</table>\n",
       "</div>"
      ],
      "text/plain": [
       "Empty DataFrame\n",
       "Columns: [clean_first_name, clean_middle_name, clean_last_name]\n",
       "Index: []"
      ]
     },
     "execution_count": 143,
     "metadata": {},
     "output_type": "execute_result"
    },
    {
     "name": "stdout",
     "output_type": "stream",
     "text": [
      "time: 23.1 ms\n"
     ]
    }
   ],
   "source": [
    "# check for uuid dups\n",
    "match11.loc[match11.duplicated(PERSON_ID, keep=False), NAME_COLS]"
   ]
  },
  {
   "cell_type": "code",
   "execution_count": null,
   "metadata": {
    "collapsed": true
   },
   "outputs": [],
   "source": []
  },
  {
   "cell_type": "code",
   "execution_count": null,
   "metadata": {
    "collapsed": true
   },
   "outputs": [],
   "source": []
  }
 ],
 "metadata": {
  "kernelspec": {
   "display_name": "Python 2",
   "language": "python",
   "name": "python2"
  },
  "language_info": {
   "codemirror_mode": {
    "name": "ipython",
    "version": 2
   },
   "file_extension": ".py",
   "mimetype": "text/x-python",
   "name": "python",
   "nbconvert_exporter": "python",
   "pygments_lexer": "ipython2",
   "version": "2.7.12"
  }
 },
 "nbformat": 4,
 "nbformat_minor": 0
}
