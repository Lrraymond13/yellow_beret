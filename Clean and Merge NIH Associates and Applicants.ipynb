{
 "cells": [
  {
   "cell_type": "code",
   "execution_count": 1,
   "metadata": {
    "collapsed": false,
    "scrolled": true
   },
   "outputs": [
    {
     "name": "stderr",
     "output_type": "stream",
     "text": [
      "ERROR:root:Line magic function `%install_ext` not found.\n"
     ]
    }
   ],
   "source": [
    "%install_ext https://raw.github.com/cpcloud/ipython-autotime/master/autotime.py\n",
    "%load_ext autotime"
   ]
  },
  {
   "cell_type": "code",
   "execution_count": 2,
   "metadata": {
    "collapsed": false,
    "scrolled": true
   },
   "outputs": [
    {
     "name": "stdout",
     "output_type": "stream",
     "text": [
      "time: 316 ms\n"
     ]
    }
   ],
   "source": [
    "# read in known applicant files, dedupe and try to merge with applicants file\n",
    "from collections import Counter\n",
    "import difflib\n",
    "import uuid\n",
    "import itertools\n",
    "import pandas as pd\n",
    "import numpy as np\n",
    "import string\n",
    "import funcy\n",
    "import re\n",
    "import os\n",
    "\n",
    "from data_cleaning_functions import (trans_remov_punc, standardize_whitespace, remove_punc, remove_suffix_from_last_name,\n",
    "                                     clean_names, has_award, has_suffix, get_suffix, replace_last_name, \n",
    "                                     is_year_range, str_sim, clean_med_school, clean_std_college_name, long_form_date, \n",
    "                                    correct_mispellings)\n",
    "\n",
    "from dev import (\n",
    "    APP_DATA_DIR, SUM_STAT_DIR, ATT_DATA_DIR, CARD_DATA_DIR, CORRECTIONS_DIR, AWARDS_KEYWORDS, NAME_COLS, RAW_NAME_COLS, \n",
    "    RAW_CARD_ID, RAW_INDEX_IDS, PERSON_APPLICATION_ID, PERSON_ID, NIH_ID, FEMALE_FIRST_NAMES, FEMALE_MIDDLE_NAMES, \n",
    "    PICKLE_DIR)\n",
    "from merging_functions import *\n",
    "\n",
    "OUTPUT_CSV = False \n",
    "\n",
    "PERSONAL_INFO = [\n",
    "    'clean_first_name', 'clean_last_name', 'clean_middle_name',\n",
    "    'date_of_birth', 'medical_school', 'clean_college_trans']\n"
   ]
  },
  {
   "cell_type": "code",
   "execution_count": 3,
   "metadata": {
    "collapsed": false,
    "scrolled": true
   },
   "outputs": [
    {
     "name": "stdout",
     "output_type": "stream",
     "text": [
      "time: 51.3 ms\n"
     ]
    }
   ],
   "source": [
    "# id column that links back to raw applicant data file\n",
    "RAW_CARD_ID = 'raw_uuid'\n",
    "\n",
    "# column where the raw id information is stored\n",
    "RAW_INDEX_IDS = 'raw_card_ids'\n",
    "\n",
    "# try to get one id per unique applicant in the dataset\n",
    "PERSON_ID = 'person_uuid'\n",
    "# id per deduped application-person - if someone applied multiple times, they will have multiple ids\n",
    "PERSON_APPLICATION_ID = 'person_app_uuid' \n",
    "NIH_ID = 'dno'\n",
    "\n",
    "APPLICANT_SUFFIX = '_ap'\n",
    "ATTENDEE_SUFFIX = '_at'\n",
    "\n",
    "%load_ext autoreload\n",
    "%autoreload 2\n",
    "\n",
    "%reload_ext autoreload"
   ]
  },
  {
   "cell_type": "code",
   "execution_count": 4,
   "metadata": {
    "collapsed": false,
    "scrolled": true
   },
   "outputs": [
    {
     "name": "stdout",
     "output_type": "stream",
     "text": [
      "time: 20.4 ms\n"
     ]
    }
   ],
   "source": [
    "apps_filename = 'index_cards_deduped_fuzzy.csv'\n",
    "# apps_filename = 'person_application_date_wide.csv'\n",
    "\n",
    "NIH_filename = 'unique_attendees.csv'\n",
    "# NIH_filename = 'NIH_attendee_deduped_raw.csv'"
   ]
  },
  {
   "cell_type": "code",
   "execution_count": 5,
   "metadata": {
    "collapsed": false,
    "scrolled": true
   },
   "outputs": [
    {
     "name": "stdout",
     "output_type": "stream",
     "text": [
      "time: 20.5 ms\n"
     ]
    }
   ],
   "source": [
    "NAME_COLS = ['clean_middle_name', 'clean_last_name', 'clean_first_name']\n",
    "\n",
    "MED_TRAINING_COLS = ['res_dates', 'intern_dates', 'residency_hospital', 'internship_hospital', 'medical_school', 'residency']\n"
   ]
  },
  {
   "cell_type": "code",
   "execution_count": 6,
   "metadata": {
    "collapsed": false,
    "scrolled": true
   },
   "outputs": [
    {
     "name": "stdout",
     "output_type": "stream",
     "text": [
      "time: 39.3 ms\n"
     ]
    }
   ],
   "source": [
    "# import NIH raw data set\n",
    "NIH_raw = pd.read_csv(os.path.join(ATT_DATA_DIR, NIH_filename)).drop_duplicates('dno')"
   ]
  },
  {
   "cell_type": "code",
   "execution_count": 7,
   "metadata": {
    "collapsed": false,
    "scrolled": true
   },
   "outputs": [
    {
     "data": {
      "text/plain": [
       "['Unnamed: 0',\n",
       " 'application_year_max',\n",
       " 'application_year_min',\n",
       " 'citizenship',\n",
       " 'clean_first_initial',\n",
       " 'clean_first_name',\n",
       " 'clean_last_name',\n",
       " 'clean_medical_school',\n",
       " 'clean_middle_initial',\n",
       " 'clean_middle_name',\n",
       " 'clean_suffix',\n",
       " 'count_missing',\n",
       " 'data_source',\n",
       " 'dno',\n",
       " 'dno_medical_school',\n",
       " 'dob',\n",
       " 'dup_flag',\n",
       " 'duplicate_dno',\n",
       " 'eod_year',\n",
       " 'eod_year_diff',\n",
       " 'generation',\n",
       " 'institute',\n",
       " 'intern_dte',\n",
       " 'intern_hos',\n",
       " 'lab_brch',\n",
       " 'med_school',\n",
       " 'medical_school',\n",
       " 'program',\n",
       " 'res_dtes',\n",
       " 'res_hosp',\n",
       " 'residency',\n",
       " 'source',\n",
       " 'ssn',\n",
       " 'supervisor',\n",
       " 'unknown',\n",
       " 'year_grad']"
      ]
     },
     "execution_count": 7,
     "metadata": {},
     "output_type": "execute_result"
    },
    {
     "name": "stdout",
     "output_type": "stream",
     "text": [
      "time: 20.3 ms\n"
     ]
    }
   ],
   "source": [
    "sorted(NIH_raw.columns)"
   ]
  },
  {
   "cell_type": "code",
   "execution_count": 9,
   "metadata": {
    "collapsed": false,
    "scrolled": true
   },
   "outputs": [
    {
     "name": "stdout",
     "output_type": "stream",
     "text": [
      "time: 17.8 ms\n"
     ]
    }
   ],
   "source": [
    "# drop from the data set all people with eod years > 1980\n",
    "# NIH = NIH_raw.loc[NIH_raw.eod_year<1980, :] \n",
    "NIH = NIH_raw\n",
    "del NIH['medical_school']"
   ]
  },
  {
   "cell_type": "code",
   "execution_count": 10,
   "metadata": {
    "collapsed": false,
    "scrolled": true
   },
   "outputs": [
    {
     "name": "stdout",
     "output_type": "stream",
     "text": [
      "time: 93.3 ms\n"
     ]
    }
   ],
   "source": [
    "# import cleaned, deduped applicant data set in wide form (multiple app dates as columns)\n",
    "apps = pd.read_csv(os.path.join(APP_DATA_DIR, apps_filename))\n"
   ]
  },
  {
   "cell_type": "code",
   "execution_count": 11,
   "metadata": {
    "collapsed": false,
    "scrolled": true
   },
   "outputs": [
    {
     "name": "stdout",
     "output_type": "stream",
     "text": [
      "\"Open\"\n",
      "Str. Medicine\n",
      "Medicine\n",
      "time: 64.9 ms\n"
     ]
    }
   ],
   "source": [
    "apps.loc[:, 'res_dates'] = apps['residency_year(s)'].apply(long_form_date)\n",
    "\n",
    "apps.loc[:, 'intern_dates'] = apps['internship_year(s)'].apply(long_form_date)"
   ]
  },
  {
   "cell_type": "code",
   "execution_count": 12,
   "metadata": {
    "collapsed": false,
    "scrolled": true
   },
   "outputs": [
    {
     "name": "stdout",
     "output_type": "stream",
     "text": [
      "time: 33.2 ms\n"
     ]
    }
   ],
   "source": [
    "apps2 = apps.rename(\n",
    "    columns={'residency_type': 'residency', 'internship_hospital_1': 'internship_hospital'})"
   ]
  },
  {
   "cell_type": "code",
   "execution_count": 13,
   "metadata": {
    "collapsed": false,
    "scrolled": true
   },
   "outputs": [
    {
     "name": "stdout",
     "output_type": "stream",
     "text": [
      "time: 32.9 ms\n"
     ]
    }
   ],
   "source": [
    "NIH = NIH.rename(columns={'res_dtes':'res_dates', 'intern_dte':'intern_dates', 'intern_hos': 'internship_hospital', \n",
    "                         'res_hosp':'residency_hospital', 'clean_medical_school': 'medical_school'})\n",
    "# sorted(NIH.columns)"
   ]
  },
  {
   "cell_type": "code",
   "execution_count": 14,
   "metadata": {
    "collapsed": false,
    "scrolled": true
   },
   "outputs": [
    {
     "data": {
      "text/plain": [
       "1013    623.0\n",
       "Name: dno, dtype: float64"
      ]
     },
     "execution_count": 14,
     "metadata": {},
     "output_type": "execute_result"
    },
    {
     "name": "stdout",
     "output_type": "stream",
     "text": [
      "time: 64.3 ms\n"
     ]
    }
   ],
   "source": [
    "NIH.loc[NIH.clean_last_name=='CHISARI', 'dno']"
   ]
  },
  {
   "cell_type": "code",
   "execution_count": 15,
   "metadata": {
    "collapsed": false,
    "scrolled": true
   },
   "outputs": [
    {
     "name": "stdout",
     "output_type": "stream",
     "text": [
      "time: 191 ms\n"
     ]
    }
   ],
   "source": [
    "string_med_cols = ['medical_school', 'residency_hospital', 'internship_hospital', 'residency']\n",
    "\n",
    "# apply string cleaning function to each of the string medical info columns\n",
    "apps2.loc[:, string_med_cols] = apps2[string_med_cols].applymap(clean_names)"
   ]
  },
  {
   "cell_type": "code",
   "execution_count": 44,
   "metadata": {
    "collapsed": false
   },
   "outputs": [
    {
     "data": {
      "text/plain": [
       "array(['HARVARD MEDICAL SCHOOL', 'UNIVERSITY OF MIAMI SCHOOL OF MEDICINE',\n",
       "       'NEW YORK UNIVERSITY COLLEGE OF MEDICINE',\n",
       "       'UNIVERSITY OF LOUISVILLE SCHOOL OF MEDICINE',\n",
       "       'USC KECK SCHOOL OF MEDICINE',\n",
       "       'UNIVERSITY OF SOUTH CAROLINA SCHOOL OF MEDICINE',\n",
       "       'GEORGETOWN UNIVERSITY SCHOOL OF MEDICINE',\n",
       "       'ALBERT EINSTEIN COLLEGE OF MEDICINE OF YESHIVA UNIVERSITY',\n",
       "       'COLUMBIA UNIVERSITY COLLEGE OF PHYSICIANS AND SURGEONS',\n",
       "       'LOUISIANA STATE UNIVERSITY SCHOOL OF MEDICINE IN NEW ORLEANS',\n",
       "       'UCSF SCHOOL OF MEDICINE', 'UNIVERSITY OF MICHIGAN MEDICAL SCHOOL',\n",
       "       'UNIVERSITY OF KANSAS SCHOOL OF MEDICINE',\n",
       "       'WASHINGTON UNIVERSITY SCHOOL OF MEDICINE',\n",
       "       'UNIVERSITY OF TEXAS HEALTH SCIENCES CENTER AT HOUSTON',\n",
       "       'VANDERBILT UNIVERSITY SCHOOL OF MEDICINE',\n",
       "       'TUFTS UNIVERSITY SCHOOL OF MEDICINE', 'DUKE MEDICAL SCHOOL',\n",
       "       'UNIVERSITY OF VIRGINIA SCHOOL OF MEDICINE',\n",
       "       'UMDNJ NEW JERSEY MEDICAL SCHOOL',\n",
       "       'UNIVERSITY OF PITTSBURGH SCHOOL OF MEDICINE',\n",
       "       'BOSTON UNIVERSITY SCHOOL OF MEDICINE',\n",
       "       'UNIVERSITY OF WASHINGTON SCHOOL OF MEDICINE',\n",
       "       'ALBANY MEDICAL COLLEGE', 'UNIVERSITY OF CHICAGO',\n",
       "       'JOHNS HOPKINS UNIVERSITY SCHOOL OF MEDICINE',\n",
       "       'UNIVERSITY OF ILLINOIS COLLEGE OF MEDICINE',\n",
       "       'SUNY BUFFALO SCHOOL OF MEDICINE BIOMEDICAL SCIENCES',\n",
       "       'UNIVERSITY OF IOWA COLLEGE OF MEDICINE',\n",
       "       'OHIO STATE UNIVERSITY COLLEGE OF MEDICINE AND PUBLIC HEALTH',\n",
       "       'UNIVERSITY OF ROCHESTER SCHOOL OF MEDICINE',\n",
       "       'UCLA SCHOOL OF MEDICINE', 'YALE UNIVERSITY SCHOOL OF MEDICINE',\n",
       "       'SUNY DOWNSTATE MEDICAL CENTER COLLEGE OF MEDICINE',\n",
       "       'UNIVERSITY OF OKLAHOMA COLLEGE OF MEDICINE',\n",
       "       'UNIVERSITY OF CINCINNATI COLLEGE OF MEDICINE',\n",
       "       'JOAN SANFORD I WEILL MEDICAL COLLEGE CORNELL UNIVERSITY',\n",
       "       'UNIVERSITY OF NORTH DAKOTA SCHOOL OF MEDICINE AND HEALTH SCIENCES',\n",
       "       'UNIVERSITY OF PENNSYLVANIA SCHOOL OF MEDICINE',\n",
       "       'JEFFERSON MEDICAL COLLEGE OF THOMAS JEFFERSON UNIVERSITY',\n",
       "       'CASE WESTERN RESERVE UNIVERSITY SCHOOL OF MEDICINE',\n",
       "       'SUNY UPSTATE MEDICAL UNIVERSITY AT SYRACUSE',\n",
       "       'STANFORD UNIVERSITY', 'UNIVERSITY OF KENTUCKY COLLEGE OF MEDICINE',\n",
       "       'NORTHWESTERN UNIVERSITY MEDICAL SCHOOL',\n",
       "       'UNIVERSITY OF MARYLAND SCHOOL OF MEDICINE',\n",
       "       'UNIVERSITY OF NEW MEXICO SCHOOL OF MEDICINE',\n",
       "       'UNIVERSITY OF COLORADO HEALTH SCIENCES CENTER SCHOOL OF MEDICINE DENVER',\n",
       "       'UNIVERSITY OF UTAH SCHOOL OF MEDICINE',\n",
       "       'GEORGE WASHINGTON UNIVERSITY SCHOOL OF MEDICINE',\n",
       "       'UNIVERSITY OF VERMONT COLLEGE OF MEDICINE',\n",
       "       'UNIVERSITY OF FLORIDA COLLEGE OF MEDICINE',\n",
       "       'INDIANA UNIVERSITY SCHOOL OF MEDICINE',\n",
       "       'EMORY UNIVERSITY SCHOOL OF MEDICINE',\n",
       "       'MEDICAL COLLEGE OF WISCONSIN', 'BAYLOR COLLEGE OF MEDICINE',\n",
       "       'VERMONT',\n",
       "       'UNIVERSITY OF NORTH CAROLINA AT CHAPEL HILL SCHOOL OF MEDICINE',\n",
       "       'TEMPLE UNIVERSITY SCHOOL OF MEDICINE',\n",
       "       'UNIVERSITY OF MISSISSIPPI SCHOOL OF MEDICINE', 'NORTHWESTERN',\n",
       "       'HOWARD UNIVERSITY COLLEGE OF MEDICINE',\n",
       "       'PENNSYLVANIA STATE UNIVERSITY COLLEGE OF MEDICINE',\n",
       "       'UCSD SCHOOL OF MEDICINE',\n",
       "       'UNIVERSITY OF ALABAMA SCHOOL OF MEDICINE',\n",
       "       'WEST VIRGINIA UNIVERSITY SCHOOL OF MEDICINE',\n",
       "       'NEW YORK MEDICAL COLLEGE',\n",
       "       'UNIVERSITY OF MINNESOTA MEDICAL SCHOOL TWIN CITIES',\n",
       "       'TULANE UNIVERSITY SCHOOL OF MEDICINE',\n",
       "       'UC IRVINE COLLEGE OF MEDICINE',\n",
       "       'WAKE FOREST UNIVERSITY SCHOOL OF MEDICINE',\n",
       "       'HAHNEMANN SCHOOL OF MEDICINE',\n",
       "       'OREGON HEALTH SCIENCES UNIVERSITY SCHOOL OF MEDICINE',\n",
       "       'UNIVERSITY OF ARKANSAS SCHOOL OF MEDICINE',\n",
       "       'SAINT LOUIS UNIVERSITY SCHOOL OF MEDICINE',\n",
       "       'MEDICAL COLLEGE OF VIRGINIA',\n",
       "       'UNIVERSITY OF TENNESSEE HEALTH SCIENCE CENTER COLLEGE OF MEDICINE',\n",
       "       'MOUNT SINAI SCHOOL OF MEDICINE OF NEW YORK UNIVERSITY',\n",
       "       'UNIVERSITY OF UTAH',\n",
       "       'MICHIGAN STATE UNIVERSITY COLLEGE OF HUMAN MEDICINE',\n",
       "       'MEDICAL COLLEGE OF OHIO', 'COLUMBIA',\n",
       "       'LOMA LINDA UNIVERSITY SCHOOL OF MEDICINE', 'UNC', 'HARVARD',\n",
       "       'MEDICAL COLLEGE OF GEORGIA SCHOOL OF MEDICINE', 'NYU',\n",
       "       'WAYNE STATE UNIVERSITY SCHOOL OF MEDICINE', 'IOWA',\n",
       "       'LOUISIANA STATE UNIVERSITY SCHOOL OF MEDICINE IN SHREVEPORT',\n",
       "       'DUKE', 'UNIVERSITY OF CONNECTICUT SCHOOL OF MEDICINE',\n",
       "       'UNIVERSITY OF MINNESOTA MEDICAL SCHOOL DULUTH', 'BAYLOR',\n",
       "       'CINCINNATI COLLEGE OF MEDICINE', 'CREIGHTON', 'LOYOLA', 'VIRGINIA',\n",
       "       'LOYOLA UNIVERSITY CHICAGO STRITCH SCHOOL OF MEDICINE',\n",
       "       'UNIVERSITY OF ALABAMA',\n",
       "       'UNIVERSITY OF ARIZONA COLLEGE OF MEDICINE', 'MINNESOTA', 'YALE',\n",
       "       'UC DAVIS SCHOOL OF MEDICINE',\n",
       "       'UNIVERSITY OF NEBRASKA COLLEGE OF MEDICINE',\n",
       "       'ALBERT EINSTEIN COLLEGE OF MEDICINE OF YESHIVA',\n",
       "       'UNIVERISTY OF PENNSLYVANIA', 'GEORGETOWN', 'PITTSBURGH',\n",
       "       'PENNSLYVANIA', 'CORNELL', 'UNIVERSITY OF TEXAS GALVESTON',\n",
       "       'MEHARRY MEDICAL COLLEGE', 'BOSTON UNIVERSITY', 'JOHNS HOPKINS',\n",
       "       'TUFTS', 'ROCHESTER', 'MCGILL', 'DARTMOUTH MEDICAL SCHOOL',\n",
       "       'UNIVERSITY OF VIRGINIA', 'UNIVERSITY OF CINCINNATI', 'COLORADO',\n",
       "       'VANDERBILT', 'CASE WESTERN', 'SUNY', 'QUEENS UNIVERSITY'], dtype=object)"
      ]
     },
     "execution_count": 44,
     "metadata": {},
     "output_type": "execute_result"
    },
    {
     "name": "stdout",
     "output_type": "stream",
     "text": [
      "time: 22 ms\n"
     ]
    }
   ],
   "source": [
    "apps2.medical_school.dropna().unique()"
   ]
  },
  {
   "cell_type": "code",
   "execution_count": 43,
   "metadata": {
    "collapsed": false
   },
   "outputs": [
    {
     "data": {
      "text/plain": [
       "['address',\n",
       " 'age',\n",
       " 'application_date',\n",
       " 'application_year',\n",
       " 'application_year_1',\n",
       " 'application_year_2',\n",
       " 'application_year_3',\n",
       " 'associate_program_entered',\n",
       " 'bob',\n",
       " 'ca',\n",
       " 'cc',\n",
       " 'citizenship',\n",
       " 'city',\n",
       " 'clean_college_trans',\n",
       " 'clean_first_initial',\n",
       " 'clean_first_name',\n",
       " 'clean_last_name',\n",
       " 'clean_middle_initial',\n",
       " 'clean_middle_name',\n",
       " 'clean_suffix',\n",
       " 'clinical',\n",
       " 'cord',\n",
       " 'date_of_birth',\n",
       " 'dbs',\n",
       " 'fifth',\n",
       " 'first_name',\n",
       " 'fuzzy_merge_col',\n",
       " 'honor_societies_first',\n",
       " 'honor_societies_fourth',\n",
       " 'honor_societies_second',\n",
       " 'honor_societies_third',\n",
       " 'ic',\n",
       " 'index',\n",
       " 'intern_dates',\n",
       " 'internship_hospital',\n",
       " 'internship_year(s)',\n",
       " 'is_female',\n",
       " 'is_match',\n",
       " 'last_name',\n",
       " 'last_name_counts',\n",
       " 'medical_school',\n",
       " 'medschool_year_grad',\n",
       " 'middle_name',\n",
       " 'nci',\n",
       " 'nei',\n",
       " 'nhi',\n",
       " 'nhli',\n",
       " 'niaid',\n",
       " 'niamd',\n",
       " 'niamdd',\n",
       " 'nichd',\n",
       " 'nichhd',\n",
       " 'nidr',\n",
       " 'niehs',\n",
       " 'nigms',\n",
       " 'nimh',\n",
       " 'nindb',\n",
       " 'ninds',\n",
       " 'oir',\n",
       " 'original_medical_school',\n",
       " 'other',\n",
       " 'person_uuid',\n",
       " 'pharm_ra',\n",
       " 'pi',\n",
       " 'ra',\n",
       " 'raw_uuid',\n",
       " 'raw_uuid_1',\n",
       " 'raw_uuid_2',\n",
       " 'raw_uuid_3',\n",
       " 'raw_uuid_4',\n",
       " 'raw_uuid_5',\n",
       " 'rejected',\n",
       " 'rejection_date',\n",
       " 'res_dates',\n",
       " 'research',\n",
       " 'residency',\n",
       " 'residency_hospital',\n",
       " 'residency_year(s)',\n",
       " 'reviewer',\n",
       " 'sa',\n",
       " 'sixth',\n",
       " 'state',\n",
       " 'teaching',\n",
       " 'undergrad_year_grad',\n",
       " 'undergraduate_school',\n",
       " 'withdrawal',\n",
       " 'year_accepted',\n",
       " 'zip_code']"
      ]
     },
     "execution_count": 43,
     "metadata": {},
     "output_type": "execute_result"
    },
    {
     "name": "stdout",
     "output_type": "stream",
     "text": [
      "time: 21.1 ms\n"
     ]
    }
   ],
   "source": [
    "sorted(apps2.columns)"
   ]
  },
  {
   "cell_type": "code",
   "execution_count": 16,
   "metadata": {
    "collapsed": false,
    "scrolled": true
   },
   "outputs": [
    {
     "name": "stdout",
     "output_type": "stream",
     "text": [
      "time: 77.7 ms\n"
     ]
    }
   ],
   "source": [
    "to_remove = ['TERRECE', 'FRED', 'LAURENCE',\n",
    "             'CUONO', 'DEFRENZE', 'JEFFERY', 'FINKLEMAN', 'SHERRAD', 'ANSCHNETZ', 'MARC', 'JENSON', 'KASTI', \n",
    "            'ADELBERT', 'RITCHARD', 'MANSFORD', 'DEFRENZO', 'DROBIN', 'HAMES', 'KREUZ', 'JERROLD', 'MANEUSI',\n",
    "            'UNGARO']\n",
    "to_replace = ['TERRENCE', 'FREDERICK', 'LAWRENCE',\n",
    "              'CUOMO', 'DEFRONZO', 'JEFFREY', 'FINKELMAN', 'SHERRARD', 'ANSCHUETZ', 'MARCUS', 'JENSEN', 'KASTL',\n",
    "              'ALBERT', 'RITCHARD', 'MANIFORD', 'DEFRONZO', 'DROBIS', 'JAMES', 'KRUEZ', 'JERROD', 'MANCUSI',\n",
    "              'UNGARO']\n",
    "\n",
    "correct_name_mispellings_fnc = funcy.rpartial(correct_mispellings, to_remove, to_replace)\n",
    "\n",
    "apps2.loc[:, 'clean_last_name'] = apps2.clean_last_name.apply(correct_name_mispellings_fnc)\n",
    "apps2.loc[:, 'clean_first_name'] = apps2.clean_first_name.apply(correct_name_mispellings_fnc)"
   ]
  },
  {
   "cell_type": "code",
   "execution_count": 17,
   "metadata": {
    "collapsed": false,
    "scrolled": true
   },
   "outputs": [
    {
     "name": "stdout",
     "output_type": "stream",
     "text": [
      "time: 18.4 ms\n"
     ]
    }
   ],
   "source": [
    "# there are a bunch of duplicates in apps, where application year is the same, but first name is missing\n",
    "name_dups = apps2.loc[\n",
    "    apps2.duplicated(\n",
    "        ['clean_last_name', 'medical_school', 'application_year'], keep=False), NAME_COLS+MED_TRAINING_COLS]"
   ]
  },
  {
   "cell_type": "code",
   "execution_count": 18,
   "metadata": {
    "collapsed": false,
    "scrolled": true
   },
   "outputs": [
    {
     "name": "stdout",
     "output_type": "stream",
     "text": [
      "time: 13.6 ms\n"
     ]
    }
   ],
   "source": [
    "# name_dups.sort_values(['clean_last_name'])"
   ]
  },
  {
   "cell_type": "code",
   "execution_count": 19,
   "metadata": {
    "collapsed": false,
    "scrolled": true
   },
   "outputs": [
    {
     "name": "stdout",
     "output_type": "stream",
     "text": [
      "time: 34.7 ms\n"
     ]
    }
   ],
   "source": [
    "apps3 = apps2.sort_values(['clean_last_name', 'clean_first_name']).drop_duplicates(\n",
    "    ['clean_last_name', 'medical_school', 'application_year'])"
   ]
  },
  {
   "cell_type": "code",
   "execution_count": 20,
   "metadata": {
    "collapsed": false,
    "scrolled": true
   },
   "outputs": [
    {
     "name": "stdout",
     "output_type": "stream",
     "text": [
      "time: 19.5 ms\n"
     ]
    }
   ],
   "source": [
    "# there are also some duplicates on middle and last name, but first is missing on one of the dups, \n",
    "# so we need to drop these\n",
    "dups_mask = apps3.duplicated(['clean_last_name', 'clean_middle_name', 'application_year'], keep=False)"
   ]
  },
  {
   "cell_type": "code",
   "execution_count": 21,
   "metadata": {
    "collapsed": false,
    "scrolled": true
   },
   "outputs": [
    {
     "name": "stdout",
     "output_type": "stream",
     "text": [
      "time: 18.9 ms\n"
     ]
    }
   ],
   "source": [
    "apps4 = apps3.loc[((~dups_mask) | ((dups_mask) & (~pd.isnull(apps3.clean_first_name)))), :]"
   ]
  },
  {
   "cell_type": "code",
   "execution_count": 22,
   "metadata": {
    "collapsed": false,
    "scrolled": true
   },
   "outputs": [
    {
     "name": "stdout",
     "output_type": "stream",
     "text": [
      "(4111, 88)\n",
      "(4118, 88)\n",
      "time: 13.9 ms\n"
     ]
    }
   ],
   "source": [
    "print apps4.shape\n",
    "print apps3.shape"
   ]
  },
  {
   "cell_type": "code",
   "execution_count": 23,
   "metadata": {
    "collapsed": false,
    "scrolled": true
   },
   "outputs": [
    {
     "data": {
      "text/html": [
       "<div>\n",
       "<table border=\"1\" class=\"dataframe\">\n",
       "  <thead>\n",
       "    <tr style=\"text-align: right;\">\n",
       "      <th></th>\n",
       "      <th>clean_middle_name</th>\n",
       "      <th>clean_last_name</th>\n",
       "      <th>clean_first_name</th>\n",
       "    </tr>\n",
       "  </thead>\n",
       "  <tbody>\n",
       "    <tr>\n",
       "      <th>59</th>\n",
       "      <td>OTTO</td>\n",
       "      <td>HAAKENSTAD</td>\n",
       "      <td>ALAN</td>\n",
       "    </tr>\n",
       "  </tbody>\n",
       "</table>\n",
       "</div>"
      ],
      "text/plain": [
       "   clean_middle_name clean_last_name clean_first_name\n",
       "59              OTTO      HAAKENSTAD             ALAN"
      ]
     },
     "execution_count": 23,
     "metadata": {},
     "output_type": "execute_result"
    },
    {
     "name": "stdout",
     "output_type": "stream",
     "text": [
      "time: 21.8 ms\n"
     ]
    }
   ],
   "source": [
    "apps4.loc[apps4.clean_last_name=='HAAKENSTAD', NAME_COLS]"
   ]
  },
  {
   "cell_type": "code",
   "execution_count": 24,
   "metadata": {
    "collapsed": false,
    "scrolled": true
   },
   "outputs": [
    {
     "data": {
      "text/html": [
       "<div>\n",
       "<table border=\"1\" class=\"dataframe\">\n",
       "  <thead>\n",
       "    <tr style=\"text-align: right;\">\n",
       "      <th></th>\n",
       "      <th>clean_middle_name</th>\n",
       "      <th>clean_last_name</th>\n",
       "      <th>clean_first_name</th>\n",
       "      <th>clean_medical_school</th>\n",
       "      <th>address</th>\n",
       "      <th>city</th>\n",
       "    </tr>\n",
       "  </thead>\n",
       "  <tbody>\n",
       "    <tr>\n",
       "      <th>59</th>\n",
       "      <td>OTTO</td>\n",
       "      <td>HAAKENSTAD</td>\n",
       "      <td>ALAN</td>\n",
       "      <td>NaN</td>\n",
       "      <td>1718 7th Street South</td>\n",
       "      <td>South Fargo</td>\n",
       "    </tr>\n",
       "  </tbody>\n",
       "</table>\n",
       "</div>"
      ],
      "text/plain": [
       "   clean_middle_name clean_last_name clean_first_name  clean_medical_school  \\\n",
       "59              OTTO      HAAKENSTAD             ALAN                   NaN   \n",
       "\n",
       "                  address         city  \n",
       "59  1718 7th Street South  South Fargo  "
      ]
     },
     "execution_count": 24,
     "metadata": {},
     "output_type": "execute_result"
    },
    {
     "name": "stdout",
     "output_type": "stream",
     "text": [
      "time: 23.5 ms\n"
     ]
    }
   ],
   "source": [
    "apps3.loc[apps3.clean_last_name=='HAAKENSTAD', NAME_COLS+['clean_medical_school', 'address', 'city']]"
   ]
  },
  {
   "cell_type": "code",
   "execution_count": 25,
   "metadata": {
    "collapsed": false,
    "scrolled": true
   },
   "outputs": [
    {
     "name": "stdout",
     "output_type": "stream",
     "text": [
      "time: 27.5 ms\n"
     ]
    }
   ],
   "source": [
    "# function to go in and correct some of the name mispellings in both data sets\n",
    "# MUTATING FUNCTION\n",
    "def change_names(df, selection_type, selection_value, to_change_type, to_change_values):\n",
    "    for t, v in zip(to_change_type, to_change_values):\n",
    "        print t, v\n",
    "        df.loc[df[selection_type]==selection_value, t] = v"
   ]
  },
  {
   "cell_type": "code",
   "execution_count": 26,
   "metadata": {
    "collapsed": false,
    "scrolled": true
   },
   "outputs": [
    {
     "name": "stdout",
     "output_type": "stream",
     "text": [
      "time: 749 ms\n"
     ]
    }
   ],
   "source": [
    "%%capture\n",
    "change_names(\n",
    "    apps4, 'clean_last_name', 'CHESEBRO', ['clean_first_name', 'clean_middle_name'], ['BRUCE', 'WILCOX'])\n",
    "change_names(\n",
    "    apps4, 'clean_last_name', 'GALANTER', ['clean_first_name', 'clean_middle_name'], ['MARC', 'I'])\n",
    "change_names(\n",
    "    apps4, 'clean_last_name', 'BEAN', ['clean_first_name', 'clean_middle_name', 'medical_school'], ['SIDNEY', 'CHARLES', 'WAKE_FOREST'])\n",
    "change_names(\n",
    "    apps4, 'clean_last_name', 'EILER', ['clean_first_name', 'clean_middle_name'], ['DONALD', 'MARTIN'])\n",
    "change_names(\n",
    "    apps4, 'clean_last_name', 'FALCHUK', ['clean_first_name', 'clean_middle_name'], ['DONALD', 'MARTIN'])\n",
    "change_names(\n",
    "    apps4, 'clean_last_name', 'BOYD', ['clean_first_name', 'clean_middle_name'], ['MICHAEL', 'RAY'])\n",
    "change_names(\n",
    "    apps4, 'clean_last_name', 'CHAPMAN', \n",
    "    ['clean_first_name', 'clean_middle_name', 'medical_school'], ['STANLEY', 'WILLETS', 'ROCHESTER'])\n",
    "change_names(apps4, 'clean_last_name', 'DANFORTH', ['clean_first_name'], ['DAVID'])\n",
    "change_names(apps4, 'clean_last_name', 'HUNT', ['clean_first_name', 'clean_middle_name'], ['ROBERT', 'D'])\n",
    "change_names(apps4, 'clean_last_name', 'KARK', ['clean_first_name', 'clean_middle_name'], ['ROBERT', 'ADRIAN'])\n",
    "change_names(apps4, 'clean_last_name', 'KEBABIAN', ['clean_first_name', 'clean_middle_name'], ['JOHN', 'WILLIS'])\n",
    "change_names(apps4, 'clean_last_name', 'KNOPF', ['clean_first_name', 'clean_middle_name'], ['HARRY', 'LOUIS'])\n",
    "change_names(apps4, 'clean_last_name', 'KROLIKOWSKI', ['clean_first_name', 'clean_middle_name'], ['FRANCIS', 'JOHN'])\n",
    "change_names(apps4, 'clean_last_name', 'KASTL', ['clean_first_name', 'clean_middle_name'], ['DAVID', 'GENE'])\n",
    "change_names(apps4, 'clean_first_name', 'JAN', ['clean_last_name'], ['KNOWLER'])\n",
    "change_names(apps4, 'clean_last_name', 'KLAVEMAN', ['clean_last_name'], ['KLAEVEMAN'])\n",
    "change_names(apps4, 'clean_last_name', 'MATHEW', ['clean_last_name'], ['MATTHEW'])\n",
    "\n",
    "apps4.loc[apps4.clean_last_name=='CHESEBRO', ['clean_first_name']] = 'BRUCE'\n",
    "apps4.loc[apps4.clean_last_name=='CHESEBRO', ['clean_middle_name']] = 'WILCOX'\n",
    "apps4.loc[(apps4.clean_last_name=='HEALY') & (apps4.medical_school=='USC KECK'), ['clean_first_name']] = 'MARK'\n",
    "apps4.loc[(apps4.clean_last_name=='HEALY') & (apps4.medical_school=='USC KECK'), ['clean_middle_name']] = 'H'"
   ]
  },
  {
   "cell_type": "code",
   "execution_count": 27,
   "metadata": {
    "collapsed": false,
    "scrolled": true
   },
   "outputs": [
    {
     "name": "stdout",
     "output_type": "stream",
     "text": [
      "time: 80.9 ms\n"
     ]
    }
   ],
   "source": [
    "apps4.loc[apps4.clean_last_name=='LENN', 'clean_first_name'] = 'NICHOLAS'\n",
    "apps4.loc[apps4.clean_last_name=='BRESLOW', 'clean_first_name'] = 'JAN'\n",
    "apps4.loc[apps4.clean_last_name=='BRESLOW', 'clean_middle_name'] = 'LESLIE'"
   ]
  },
  {
   "cell_type": "code",
   "execution_count": 28,
   "metadata": {
    "collapsed": false,
    "scrolled": true
   },
   "outputs": [
    {
     "name": "stdout",
     "output_type": "stream",
     "text": [
      "time: 102 ms\n"
     ]
    }
   ],
   "source": [
    "apps4.loc[(apps4.clean_last_name=='NADLER') & (pd.isnull(apps4.clean_first_name)), 'clean_first_name'] = 'LEE'\n",
    "apps4.loc[(apps4.clean_last_name=='NADLER') & (apps4.clean_first_name=='LEE'), 'clean_middle_name'] = 'MARSHALL'\n",
    "apps4.loc[(pd.isnull(apps4.clean_first_name)) & (apps4.clean_last_name=='ROSEN'), 'clean_first_name'] = 'HENRY'"
   ]
  },
  {
   "cell_type": "code",
   "execution_count": 29,
   "metadata": {
    "collapsed": false,
    "scrolled": true
   },
   "outputs": [
    {
     "name": "stdout",
     "output_type": "stream",
     "text": [
      "time: 76.4 ms\n"
     ]
    }
   ],
   "source": [
    "apps4.loc[(apps4.clean_last_name=='NEELON'), 'clean_first_name'] = 'FRANCIS'\n",
    "apps4.loc[(apps4.clean_last_name=='NEELON') , 'clean_middle_name'] = 'ALBERT'"
   ]
  },
  {
   "cell_type": "code",
   "execution_count": 30,
   "metadata": {
    "collapsed": false,
    "scrolled": true
   },
   "outputs": [
    {
     "data": {
      "text/plain": [
       "1880    JOHN\n",
       "Name: clean_first_name, dtype: object"
      ]
     },
     "execution_count": 30,
     "metadata": {},
     "output_type": "execute_result"
    },
    {
     "name": "stdout",
     "output_type": "stream",
     "text": [
      "time: 26.2 ms\n"
     ]
    }
   ],
   "source": [
    "apps4.loc[(apps4.clean_last_name=='NICHOLAS') , 'clean_first_name']\n"
   ]
  },
  {
   "cell_type": "code",
   "execution_count": 31,
   "metadata": {
    "collapsed": false,
    "scrolled": true
   },
   "outputs": [
    {
     "name": "stdout",
     "output_type": "stream",
     "text": [
      "time: 14.9 ms\n"
     ]
    }
   ],
   "source": [
    "NIH.loc[(NIH.clean_last_name=='ALEXANDER') & (NIH.clean_first_name=='JOHN'), 'clean_middle_name'] = 'CHARLES'"
   ]
  },
  {
   "cell_type": "code",
   "execution_count": 32,
   "metadata": {
    "collapsed": false,
    "scrolled": true
   },
   "outputs": [
    {
     "name": "stdout",
     "output_type": "stream",
     "text": [
      "time: 23.9 ms\n"
     ]
    }
   ],
   "source": [
    "NIH.loc[(NIH.clean_last_name=='LEBOWITZ') & (NIH.clean_first_name=='EDWARD ARTHUR'),'clean_middle_name'] = 'ARTHUR'\n",
    "NIH.loc[(NIH.clean_last_name=='LEBOWITZ') & (NIH.clean_first_name=='EDWARD ARTHUR'),'clean_first_name'] = 'EDWARD'\n",
    "NIH.loc[(\n",
    "        NIH.clean_last_name=='LEBOWITZ') & (\n",
    "            NIH.clean_first_name=='EDWARD'), 'medical_school'] = 'ALBERT EINSTEIN COLLEGE OF MEDICINE OF YESHIVA'"
   ]
  },
  {
   "cell_type": "code",
   "execution_count": 33,
   "metadata": {
    "collapsed": false,
    "scrolled": true
   },
   "outputs": [
    {
     "data": {
      "text/html": [
       "<div>\n",
       "<table border=\"1\" class=\"dataframe\">\n",
       "  <thead>\n",
       "    <tr style=\"text-align: right;\">\n",
       "      <th></th>\n",
       "      <th>clean_middle_name</th>\n",
       "      <th>clean_last_name</th>\n",
       "      <th>clean_first_name</th>\n",
       "      <th>dno</th>\n",
       "    </tr>\n",
       "  </thead>\n",
       "  <tbody>\n",
       "    <tr>\n",
       "      <th>1013</th>\n",
       "      <td>VINCENT</td>\n",
       "      <td>CHISARI</td>\n",
       "      <td>FRANCIS</td>\n",
       "      <td>623.0</td>\n",
       "    </tr>\n",
       "  </tbody>\n",
       "</table>\n",
       "</div>"
      ],
      "text/plain": [
       "     clean_middle_name clean_last_name clean_first_name    dno\n",
       "1013           VINCENT         CHISARI          FRANCIS  623.0"
      ]
     },
     "execution_count": 33,
     "metadata": {},
     "output_type": "execute_result"
    },
    {
     "name": "stdout",
     "output_type": "stream",
     "text": [
      "time: 29.4 ms\n"
     ]
    }
   ],
   "source": [
    "NIH.loc[(NIH.clean_last_name=='CHISARI'), NAME_COLS+['dno']]"
   ]
  },
  {
   "cell_type": "code",
   "execution_count": 34,
   "metadata": {
    "collapsed": false,
    "scrolled": true
   },
   "outputs": [
    {
     "name": "stdout",
     "output_type": "stream",
     "text": [
      "WASHINGTON\n",
      "WASHINGTON\n",
      "time: 50.9 ms\n"
     ]
    }
   ],
   "source": [
    "# read in manual matches\n",
    "man = pd.read_excel(os.path.join(CORRECTIONS_DIR, 'manual_dno_matches.xlsx'), index=False).rename(columns={'medical_school': 'dno_medical_school'})\n",
    "man['medical_school'] = man.dno_medical_school.apply(clean_med_school)"
   ]
  },
  {
   "cell_type": "code",
   "execution_count": 35,
   "metadata": {
    "collapsed": false,
    "scrolled": true
   },
   "outputs": [
    {
     "data": {
      "text/html": [
       "<div>\n",
       "<table border=\"1\" class=\"dataframe\">\n",
       "  <thead>\n",
       "    <tr style=\"text-align: right;\">\n",
       "      <th></th>\n",
       "      <th>clean_middle_name</th>\n",
       "      <th>clean_last_name</th>\n",
       "      <th>clean_first_name</th>\n",
       "    </tr>\n",
       "  </thead>\n",
       "  <tbody>\n",
       "    <tr>\n",
       "      <th>979</th>\n",
       "      <td>ALBERT</td>\n",
       "      <td>NEELON</td>\n",
       "      <td>FRANCIS</td>\n",
       "    </tr>\n",
       "  </tbody>\n",
       "</table>\n",
       "</div>"
      ],
      "text/plain": [
       "    clean_middle_name clean_last_name clean_first_name\n",
       "979            ALBERT          NEELON          FRANCIS"
      ]
     },
     "execution_count": 35,
     "metadata": {},
     "output_type": "execute_result"
    },
    {
     "name": "stdout",
     "output_type": "stream",
     "text": [
      "time: 29.3 ms\n"
     ]
    }
   ],
   "source": [
    "apps4.loc[apps4.clean_last_name=='NEELON', NAME_COLS]"
   ]
  },
  {
   "cell_type": "code",
   "execution_count": 36,
   "metadata": {
    "collapsed": false,
    "scrolled": true
   },
   "outputs": [
    {
     "data": {
      "text/plain": [
       "(104, 94)"
      ]
     },
     "execution_count": 36,
     "metadata": {},
     "output_type": "execute_result"
    },
    {
     "name": "stdout",
     "output_type": "stream",
     "text": [
      "time: 50.1 ms\n"
     ]
    }
   ],
   "source": [
    "t = pd.merge(left=apps4, right=man, on=['clean_last_name', 'clean_middle_name'], how='inner', suffixes=['_x', '_y'])\n",
    "t.shape"
   ]
  },
  {
   "cell_type": "code",
   "execution_count": 37,
   "metadata": {
    "collapsed": false,
    "scrolled": true
   },
   "outputs": [
    {
     "name": "stdout",
     "output_type": "stream",
     "text": [
      "time: 33.1 ms\n"
     ]
    }
   ],
   "source": [
    "t['sim'] = t[['medical_school_x', 'medical_school_y']].apply(get_name_str_sim, axis=1)\n",
    "\n",
    "t['clean_first_name'] = t['clean_first_name_y']\n",
    "\n",
    "t_1 = t.sort_values(['dno', 'sim'], ascending=False).drop_duplicates(['dno'], keep='first')"
   ]
  },
  {
   "cell_type": "code",
   "execution_count": 38,
   "metadata": {
    "collapsed": false,
    "scrolled": true
   },
   "outputs": [
    {
     "data": {
      "text/html": [
       "<div>\n",
       "<table border=\"1\" class=\"dataframe\">\n",
       "  <thead>\n",
       "    <tr style=\"text-align: right;\">\n",
       "      <th></th>\n",
       "      <th>clean_middle_name</th>\n",
       "      <th>clean_last_name</th>\n",
       "      <th>clean_first_name</th>\n",
       "      <th>dno</th>\n",
       "      <th>medical_school_x</th>\n",
       "      <th>medical_school_y</th>\n",
       "      <th>sim</th>\n",
       "    </tr>\n",
       "  </thead>\n",
       "  <tbody>\n",
       "  </tbody>\n",
       "</table>\n",
       "</div>"
      ],
      "text/plain": [
       "Empty DataFrame\n",
       "Columns: [clean_middle_name, clean_last_name, clean_first_name, dno, medical_school_x, medical_school_y, sim]\n",
       "Index: []"
      ]
     },
     "execution_count": 38,
     "metadata": {},
     "output_type": "execute_result"
    },
    {
     "name": "stdout",
     "output_type": "stream",
     "text": [
      "time: 37.9 ms\n"
     ]
    }
   ],
   "source": [
    "# t[NAME_COLS+['dno', 'medical_school_x', 'medical_school_y', 'sim']]\n",
    "t_1.loc[t_1.duplicated('dno', keep=False), NAME_COLS+['dno', 'medical_school_x', 'medical_school_y', 'sim']]"
   ]
  },
  {
   "cell_type": "code",
   "execution_count": 42,
   "metadata": {
    "collapsed": false
   },
   "outputs": [
    {
     "data": {
      "text/html": [
       "<div>\n",
       "<table border=\"1\" class=\"dataframe\">\n",
       "  <thead>\n",
       "    <tr style=\"text-align: right;\">\n",
       "      <th></th>\n",
       "      <th>clean_middle_name</th>\n",
       "      <th>clean_last_name</th>\n",
       "      <th>clean_first_name</th>\n",
       "      <th>clean_medical_school</th>\n",
       "    </tr>\n",
       "  </thead>\n",
       "  <tbody>\n",
       "    <tr>\n",
       "      <th>2249</th>\n",
       "      <td>I</td>\n",
       "      <td>BEHRENS</td>\n",
       "      <td>MANFRED</td>\n",
       "      <td>NaN</td>\n",
       "    </tr>\n",
       "    <tr>\n",
       "      <th>2557</th>\n",
       "      <td>M</td>\n",
       "      <td>BEHRENS</td>\n",
       "      <td>MYLES</td>\n",
       "      <td>NaN</td>\n",
       "    </tr>\n",
       "  </tbody>\n",
       "</table>\n",
       "</div>"
      ],
      "text/plain": [
       "     clean_middle_name clean_last_name clean_first_name  clean_medical_school\n",
       "2249                 I         BEHRENS          MANFRED                   NaN\n",
       "2557                 M         BEHRENS            MYLES                   NaN"
      ]
     },
     "execution_count": 42,
     "metadata": {},
     "output_type": "execute_result"
    },
    {
     "name": "stdout",
     "output_type": "stream",
     "text": [
      "time: 21.8 ms\n"
     ]
    }
   ],
   "source": [
    "apps4.loc[apps4.clean_last_name=='BEHRENS', NAME_COLS+['clean_medical_school']]"
   ]
  },
  {
   "cell_type": "code",
   "execution_count": 39,
   "metadata": {
    "collapsed": false,
    "scrolled": true
   },
   "outputs": [
    {
     "data": {
      "text/plain": [
       "(9, 8)"
      ]
     },
     "execution_count": 39,
     "metadata": {},
     "output_type": "execute_result"
    },
    {
     "name": "stdout",
     "output_type": "stream",
     "text": [
      "time: 26 ms\n"
     ]
    }
   ],
   "source": [
    "um = man[~man.dno.isin(t_1.dno)]\n",
    "\n",
    "um.shape"
   ]
  },
  {
   "cell_type": "code",
   "execution_count": 40,
   "metadata": {
    "collapsed": false,
    "scrolled": false
   },
   "outputs": [
    {
     "data": {
      "text/html": [
       "<div>\n",
       "<table border=\"1\" class=\"dataframe\">\n",
       "  <thead>\n",
       "    <tr style=\"text-align: right;\">\n",
       "      <th></th>\n",
       "      <th>dno</th>\n",
       "      <th>clean_first_name</th>\n",
       "      <th>clean_middle_name</th>\n",
       "      <th>clean_last_name</th>\n",
       "      <th>application_year_min</th>\n",
       "      <th>application_year_max</th>\n",
       "      <th>dno_medical_school</th>\n",
       "      <th>medical_school</th>\n",
       "    </tr>\n",
       "  </thead>\n",
       "  <tbody>\n",
       "    <tr>\n",
       "      <th>1</th>\n",
       "      <td>224</td>\n",
       "      <td>MYLES</td>\n",
       "      <td>MICHAEL</td>\n",
       "      <td>BEHRENS</td>\n",
       "      <td>1962</td>\n",
       "      <td>1962</td>\n",
       "      <td>COLUMBIA UNIVERSITY COLLEGE OF PHYSICIANS AND ...</td>\n",
       "      <td>COLUMBIA UNIVERSITY COLLEGE OF PHYSICIANS AND ...</td>\n",
       "    </tr>\n",
       "    <tr>\n",
       "      <th>9</th>\n",
       "      <td>427</td>\n",
       "      <td>JAN</td>\n",
       "      <td>LESLIE</td>\n",
       "      <td>BRESLOW</td>\n",
       "      <td>1968</td>\n",
       "      <td>1968</td>\n",
       "      <td>HARVARD MEDICAL SCHOOL</td>\n",
       "      <td>HARVARD MEDICAL SCHOOL</td>\n",
       "    </tr>\n",
       "    <tr>\n",
       "      <th>15</th>\n",
       "      <td>645</td>\n",
       "      <td>RICHARD</td>\n",
       "      <td>AUGUST</td>\n",
       "      <td>CLARK</td>\n",
       "      <td>1971</td>\n",
       "      <td>1971</td>\n",
       "      <td>UNIVERSITY OF ROCHESTER SCHOOL OF MEDICINE AND...</td>\n",
       "      <td>UNIVERSITY OF ROCHESTER SCHOOL OF MEDICINE</td>\n",
       "    </tr>\n",
       "    <tr>\n",
       "      <th>26</th>\n",
       "      <td>1163</td>\n",
       "      <td>BERNARD</td>\n",
       "      <td>LEONARD</td>\n",
       "      <td>FRANKEL</td>\n",
       "      <td>1967</td>\n",
       "      <td>1967</td>\n",
       "      <td>ALBERT EINSTEIN COLLEGE OF MEDICINE</td>\n",
       "      <td>ALBERT EINSTEIN COLLEGE OF MEDICINE OF YESHIVA...</td>\n",
       "    </tr>\n",
       "    <tr>\n",
       "      <th>31</th>\n",
       "      <td>1393</td>\n",
       "      <td>SHELDON</td>\n",
       "      <td>HERSH</td>\n",
       "      <td>GOTTLIEB</td>\n",
       "      <td>1971</td>\n",
       "      <td>1971</td>\n",
       "      <td>MEDICAL COLLEGE OF WISCONSIN</td>\n",
       "      <td>MEDICAL COLLEGE OF WISCONSIN</td>\n",
       "    </tr>\n",
       "    <tr>\n",
       "      <th>48</th>\n",
       "      <td>2210</td>\n",
       "      <td>ROBERT</td>\n",
       "      <td>ISAAC</td>\n",
       "      <td>LEVY</td>\n",
       "      <td>1961</td>\n",
       "      <td>1961</td>\n",
       "      <td>YALE SCHOOL OF MEDICINE</td>\n",
       "      <td>YALE UNIVERSITY SCHOOL OF MEDICINE</td>\n",
       "    </tr>\n",
       "    <tr>\n",
       "      <th>67</th>\n",
       "      <td>2766</td>\n",
       "      <td>JAN</td>\n",
       "      <td>MARK</td>\n",
       "      <td>ORENSTEIN</td>\n",
       "      <td>1971</td>\n",
       "      <td>1971</td>\n",
       "      <td>STATE UNIVERSITY OF NEW YORK DOWNSTATE MEDICAL...</td>\n",
       "      <td>SUNY DOWNSTATE MEDICAL CENTER COLLEGE OF MEDICINE</td>\n",
       "    </tr>\n",
       "    <tr>\n",
       "      <th>74</th>\n",
       "      <td>3313</td>\n",
       "      <td>ANDREW</td>\n",
       "      <td>B</td>\n",
       "      <td>SCHWARTZ</td>\n",
       "      <td>1969</td>\n",
       "      <td>1969</td>\n",
       "      <td>YALE</td>\n",
       "      <td>YALE UNIVERSITY SCHOOL OF MEDICINE</td>\n",
       "    </tr>\n",
       "    <tr>\n",
       "      <th>99</th>\n",
       "      <td>4031</td>\n",
       "      <td>MITCHEL</td>\n",
       "      <td>LEONE</td>\n",
       "      <td>WOLF</td>\n",
       "      <td>1968</td>\n",
       "      <td>1968</td>\n",
       "      <td>ALBERT EINSTEIN COLLEGE OF MEDICINE</td>\n",
       "      <td>ALBERT EINSTEIN COLLEGE OF MEDICINE OF YESHIVA...</td>\n",
       "    </tr>\n",
       "  </tbody>\n",
       "</table>\n",
       "</div>"
      ],
      "text/plain": [
       "     dno clean_first_name clean_middle_name clean_last_name  \\\n",
       "1    224            MYLES           MICHAEL         BEHRENS   \n",
       "9    427              JAN            LESLIE         BRESLOW   \n",
       "15   645          RICHARD            AUGUST           CLARK   \n",
       "26  1163          BERNARD           LEONARD         FRANKEL   \n",
       "31  1393          SHELDON             HERSH        GOTTLIEB   \n",
       "48  2210           ROBERT             ISAAC            LEVY   \n",
       "67  2766              JAN              MARK       ORENSTEIN   \n",
       "74  3313           ANDREW                 B        SCHWARTZ   \n",
       "99  4031          MITCHEL             LEONE            WOLF   \n",
       "\n",
       "    application_year_min  application_year_max  \\\n",
       "1                   1962                  1962   \n",
       "9                   1968                  1968   \n",
       "15                  1971                  1971   \n",
       "26                  1967                  1967   \n",
       "31                  1971                  1971   \n",
       "48                  1961                  1961   \n",
       "67                  1971                  1971   \n",
       "74                  1969                  1969   \n",
       "99                  1968                  1968   \n",
       "\n",
       "                                   dno_medical_school  \\\n",
       "1   COLUMBIA UNIVERSITY COLLEGE OF PHYSICIANS AND ...   \n",
       "9                              HARVARD MEDICAL SCHOOL   \n",
       "15  UNIVERSITY OF ROCHESTER SCHOOL OF MEDICINE AND...   \n",
       "26                ALBERT EINSTEIN COLLEGE OF MEDICINE   \n",
       "31                       MEDICAL COLLEGE OF WISCONSIN   \n",
       "48                            YALE SCHOOL OF MEDICINE   \n",
       "67  STATE UNIVERSITY OF NEW YORK DOWNSTATE MEDICAL...   \n",
       "74                                               YALE   \n",
       "99                ALBERT EINSTEIN COLLEGE OF MEDICINE   \n",
       "\n",
       "                                       medical_school  \n",
       "1   COLUMBIA UNIVERSITY COLLEGE OF PHYSICIANS AND ...  \n",
       "9                              HARVARD MEDICAL SCHOOL  \n",
       "15         UNIVERSITY OF ROCHESTER SCHOOL OF MEDICINE  \n",
       "26  ALBERT EINSTEIN COLLEGE OF MEDICINE OF YESHIVA...  \n",
       "31                       MEDICAL COLLEGE OF WISCONSIN  \n",
       "48                 YALE UNIVERSITY SCHOOL OF MEDICINE  \n",
       "67  SUNY DOWNSTATE MEDICAL CENTER COLLEGE OF MEDICINE  \n",
       "74                 YALE UNIVERSITY SCHOOL OF MEDICINE  \n",
       "99  ALBERT EINSTEIN COLLEGE OF MEDICINE OF YESHIVA...  "
      ]
     },
     "execution_count": 40,
     "metadata": {},
     "output_type": "execute_result"
    },
    {
     "name": "stdout",
     "output_type": "stream",
     "text": [
      "time: 37.5 ms\n"
     ]
    }
   ],
   "source": [
    "um"
   ]
  },
  {
   "cell_type": "code",
   "execution_count": null,
   "metadata": {
    "collapsed": false,
    "scrolled": true
   },
   "outputs": [],
   "source": [
    "apps2.loc[apps2.clean_last_name=='CHISARI', NAME_COLS]"
   ]
  },
  {
   "cell_type": "code",
   "execution_count": null,
   "metadata": {
    "collapsed": false,
    "scrolled": true
   },
   "outputs": [],
   "source": [
    "t2 = pd.merge(left=apps4, right=um, on=['clean_last_name', 'clean_first_name'], how='inner', suffixes=['_x', '_y'])\n",
    "t2.shape\n",
    "\n",
    "# t2['sim'] = t2[['medical_school_x', 'medical_school_y']].apply(get_name_str_sim, axis=1)\n",
    "\n",
    "# t2['clean_middle_name'] = t2['clean_middle_name_y']\n",
    "\n",
    "# t2_1 = t2.sort_values(['dno', 'sim'], ascending=False).drop_duplicates(['dno'], keep='first')\n",
    "# t2_1.shape"
   ]
  },
  {
   "cell_type": "code",
   "execution_count": null,
   "metadata": {
    "collapsed": false,
    "scrolled": true
   },
   "outputs": [],
   "source": [
    "t3 = t_1[NAME_COLS+['dno', PERSON_ID]]\n",
    "# t3 = pd.concat([t2_1[NAME_COLS+['dno', PERSON_ID]], t_1[NAME_COLS+['dno', PERSON_ID]]], axis=0)"
   ]
  },
  {
   "cell_type": "code",
   "execution_count": null,
   "metadata": {
    "collapsed": false,
    "scrolled": true
   },
   "outputs": [],
   "source": [
    "man_dno = pd.merge(left=apps4, right=t3, on=PERSON_ID, how='left', suffixes=['_x', '_y'])\n",
    "print man_dno.shape\n",
    "print t3.shape\n",
    "print man.shape"
   ]
  },
  {
   "cell_type": "code",
   "execution_count": null,
   "metadata": {
    "collapsed": false,
    "scrolled": true
   },
   "outputs": [],
   "source": [
    "mask = ~pd.isnull(man_dno.clean_last_name_y)\n",
    "man_dno = man_dno.rename(columns={'clean_last_name_x': 'clean_last_name', 'clean_first_name_x': 'clean_first_name', \n",
    "                       'clean_middle_name_x': 'clean_middle_name'})\n",
    "mask = ~pd.isnull(man_dno.clean_last_name_y)\n",
    "man_dno.loc[mask, 'clean_last_name'] = man_dno.loc[mask, 'clean_last_name_y']\n",
    "mask = ~pd.isnull(man_dno.clean_first_name_y)\n",
    "man_dno.loc[mask, 'clean_first_name'] = man_dno.loc[mask, 'clean_first_name_y']\n",
    "mask = ~pd.isnull(man_dno.clean_middle_name_y)\n",
    "man_dno.loc[mask, 'clean_middle_name'] = man_dno.loc[mask, 'clean_middle_name_y']"
   ]
  },
  {
   "cell_type": "code",
   "execution_count": null,
   "metadata": {
    "collapsed": false,
    "scrolled": true
   },
   "outputs": [],
   "source": [
    "apps5 = man_dno.loc[pd.isnull(man_dno['dno']), :].drop(['dno', 'clean_middle_name_y', 'clean_first_name_y', 'clean_last_name_y'], axis=1) "
   ]
  },
  {
   "cell_type": "code",
   "execution_count": null,
   "metadata": {
    "collapsed": false,
    "scrolled": true
   },
   "outputs": [],
   "source": [
    "# remove females from data set\n",
    "female_mask = (NIH.clean_first_name.isin(FEMALE_FIRST_NAMES)| NIH.clean_middle_name.isin(FEMALE_MIDDLE_NAMES))  \n",
    "NIH = NIH.loc[~female_mask, :]\n",
    "\n",
    "female_mask = (apps5.clean_first_name.isin(FEMALE_FIRST_NAMES)| apps5.clean_middle_name.isin(FEMALE_MIDDLE_NAMES))  \n",
    "apps5 = apps5.loc[~female_mask, :]"
   ]
  },
  {
   "cell_type": "code",
   "execution_count": null,
   "metadata": {
    "collapsed": false,
    "scrolled": true
   },
   "outputs": [],
   "source": [
    "def get_first_letter(str_var):\n",
    "    if pd.isnull(str_var) or str_var=='':\n",
    "        return np.nan\n",
    "    return str_var[0]"
   ]
  },
  {
   "cell_type": "code",
   "execution_count": null,
   "metadata": {
    "collapsed": false,
    "scrolled": true
   },
   "outputs": [],
   "source": [
    "NIH['clean_first_initial'] = NIH.clean_first_name.apply(get_first_letter)\n",
    "NIH['clean_middle_initial'] = NIH.clean_middle_name.apply(get_first_letter)"
   ]
  },
  {
   "cell_type": "code",
   "execution_count": null,
   "metadata": {
    "collapsed": false,
    "scrolled": true
   },
   "outputs": [],
   "source": [
    "print NIH.shape\n",
    "print  apps5.shape"
   ]
  },
  {
   "cell_type": "code",
   "execution_count": null,
   "metadata": {
    "collapsed": false,
    "scrolled": true
   },
   "outputs": [],
   "source": [
    "# After cleaning apps2 to match cleaning in Clean NIH Applicant notebook, we try to start merging\n",
    "sims_cols = ['medical_school_sim', 'clean_middle_name_sim', 'clean_first_name_sim']"
   ]
  },
  {
   "cell_type": "code",
   "execution_count": null,
   "metadata": {
    "collapsed": false,
    "scrolled": true
   },
   "outputs": [],
   "source": [
    "NIH['fuzzy_merge_col'] = NIH[\n",
    "    ['clean_first_name', 'clean_middle_name', 'clean_last_name']].apply(create_str_merge, axis=1)\n",
    "apps5['fuzzy_merge_col'] = apps5[\n",
    "    ['clean_first_name', 'clean_middle_name', 'clean_last_name']].apply(create_str_merge, axis=1)\n",
    "match1 = df_get_closest_matches(apps5, NIH, 'fuzzy_merge_col', suffixes=['_x', '_y']) \n",
    "print match1.shape"
   ]
  },
  {
   "cell_type": "code",
   "execution_count": null,
   "metadata": {
    "collapsed": false,
    "scrolled": true
   },
   "outputs": [],
   "source": [
    "# add last name counter to each\n",
    "app_counter = Counter(apps4.clean_last_name.values)\n",
    "NIH_counter = Counter(NIH.clean_last_name.values)\n",
    "match1['last_name_counts_x'] = match1.clean_last_name_x.apply(lambda x: app_counter[x])\n",
    "match1['last_name_counts_y'] = match1.clean_last_name_y.apply(lambda x: NIH_counter[x])\n"
   ]
  },
  {
   "cell_type": "code",
   "execution_count": null,
   "metadata": {
    "collapsed": false,
    "scrolled": true
   },
   "outputs": [],
   "source": [
    "def check_match(row):\n",
    "    # address and application year match\n",
    "    app_eod_year_diff = abs(row['application_year'] - row['eod_year'])\n",
    "    if row['clean_last_name_sim'] < 60 or app_eod_year_diff > 8:\n",
    "        return 0\n",
    "    \n",
    "    # the first and middle name seem to be mixed up in index card data set\n",
    "    mixed_sim1 =  get_name_str_sim(row[['clean_middle_name_x', 'clean_first_name_y']])\n",
    "    mixed_sim2 =  get_name_str_sim(row[['clean_middle_name_y', 'clean_first_name_x']])\n",
    "    \n",
    "    mix_sim = max(mixed_sim1, mixed_sim2)\n",
    "    if pd.isnull(mix_sim):\n",
    "        mix_sim = 0\n",
    "    if (mix_sim > 90) and row['medical_school_sim'] > 80:\n",
    "        return 1\n",
    "    if row['last_name_counts_x'] < 2 and row['last_name_counts_y'] < 2:\n",
    "        return 1\n",
    "    if (mix_sim > 90) and pd.isnull(row['medical_school_sim']) and (app_eod_year_diff < 5):\n",
    "        return 1\n",
    "    if not pd.isnull(row['clean_first_name_sim']) and row['clean_first_name_sim'] < 50:\n",
    "        return 0\n",
    "    # if matching application year and med schools match\n",
    "    if (app_eod_year_diff < 5) and row['medical_school_sim'] > 80:\n",
    "        return 1\n",
    "    # first and middle names match or first\n",
    "    if (app_eod_year_diff < 5) and row['clean_first_name_sim'] > 80:\n",
    "        return 1\n",
    "    return 0\n",
    "\n",
    "\n",
    "feature_dict = {\n",
    "    'clean_first_name': get_name_str_sim,\n",
    "    'clean_middle_name': get_name_str_sim,\n",
    "    'clean_last_name': get_name_str_sim,\n",
    "    'medical_school': get_name_str_sim,\n",
    "}\n",
    "\n",
    "match2 = add_similarity_features(match1, feature_dict, check_match, suffixes=['_x', '_y'])"
   ]
  },
  {
   "cell_type": "code",
   "execution_count": null,
   "metadata": {
    "collapsed": false,
    "scrolled": true
   },
   "outputs": [],
   "source": [
    "# match2.loc[(match2.is_match==2), sims_cols+['is_match', 'clean_first_name_x', 'clean_first_name_y',\n",
    "#                         'clean_last_name_x', 'clean_last_name_y','medical_school_x', 'medical_school_y', PERSON_ID, NIH_ID]]"
   ]
  },
  {
   "cell_type": "code",
   "execution_count": null,
   "metadata": {
    "collapsed": false,
    "scrolled": true
   },
   "outputs": [],
   "source": [
    "# select out people who match and make sure each person id and dno only 1x in data set\n",
    "match3 = match2[match2.is_match==1].sort_values(['clean_last_name_x']+sims_cols, ascending=False).dropna(\n",
    "    axis=0, subset=[RAW_CARD_ID])\n",
    "print match3.shape"
   ]
  },
  {
   "cell_type": "code",
   "execution_count": null,
   "metadata": {
    "collapsed": false,
    "scrolled": true
   },
   "outputs": [],
   "source": [
    "# match2[match2.clean_last_name_x=='ADLER']\n",
    "NIH[NIH.clean_last_name=='ADLER']"
   ]
  },
  {
   "cell_type": "code",
   "execution_count": null,
   "metadata": {
    "collapsed": false,
    "scrolled": true
   },
   "outputs": [],
   "source": [
    "def filter_one_match_per_group(df, dedupe_col, sim_cols):\n",
    "    # to merge cols should be a dict the names of the extra cols to merge in\n",
    "    # values should be col names to rename\n",
    "    # sim cols should be name of the columns to use as features\n",
    "    # sim mask should be mask that accounts as actual mask\n",
    "    # dedupe col is name of col to dedupe on\n",
    "\n",
    "    def count_matches(id_list_arr):\n",
    "        # for each id, make sure matched on 1x in data set\n",
    "        # should be applied with rolling apply so takes in a dataframe and must return single value\n",
    "        # unpack already matched ids from string\n",
    "        current_id1 = id_list_arr[-1]\n",
    "        other_matches = id_list_arr[:-1]\n",
    "        is_dup = np.any(other_matches[:] == current_id1)\n",
    "        if is_dup:\n",
    "            return True\n",
    "        return False\n",
    "\n",
    "    # for each uuid, check for duplicates and choose best match based on sim cols\n",
    "    # order of the sim cols should be with most important first\n",
    "    dup_flag = '{}_duplicate'.format(dedupe_col)\n",
    "    df[dup_flag] = 0\n",
    "    df.loc[:, dup_flag] = df[\n",
    "        dedupe_col].expanding(center=False, min_periods=0).apply(func=count_matches)\n",
    "\n",
    "    df_matches = df[df['is_match'] == 1].sort_values([dedupe_col] + sim_cols, ascending=False)\n",
    "    return df_matches.drop_duplicates([dedupe_col], keep='first')\n"
   ]
  },
  {
   "cell_type": "code",
   "execution_count": null,
   "metadata": {
    "collapsed": false,
    "scrolled": true
   },
   "outputs": [],
   "source": [
    "match4 = filter_one_match_per_group(match3, 'raw_uuid', sims_cols)\n",
    "print match4.shape"
   ]
  },
  {
   "cell_type": "code",
   "execution_count": null,
   "metadata": {
    "collapsed": false,
    "scrolled": true
   },
   "outputs": [],
   "source": [
    "match5 = filter_one_match_per_group(match4, NIH_ID, sims_cols)\n",
    "print match5.shape"
   ]
  },
  {
   "cell_type": "code",
   "execution_count": null,
   "metadata": {
    "collapsed": false,
    "scrolled": true
   },
   "outputs": [],
   "source": [
    "# get nonmatched NIH people and not matched applicants \n",
    "nm_apps = get_nonmatched(apps5, id_colname=RAW_CARD_ID, matched_ids=match5[RAW_CARD_ID].dropna().values)\n",
    "nm_NIH = get_nonmatched(NIH, id_colname=NIH_ID, matched_ids=match5[NIH_ID].dropna().values)"
   ]
  },
  {
   "cell_type": "code",
   "execution_count": null,
   "metadata": {
    "collapsed": false,
    "scrolled": true
   },
   "outputs": [],
   "source": [
    "# do another round of matching just on last name\n",
    "nm_match1 = df_get_closest_matches(nm_apps, nm_NIH, 'clean_last_name', suffixes=['_x', '_y']) \n",
    "print nm_match1.shape\n"
   ]
  },
  {
   "cell_type": "code",
   "execution_count": null,
   "metadata": {
    "collapsed": false,
    "scrolled": true
   },
   "outputs": [],
   "source": [
    "def check_match(row):\n",
    "    app_eod_year_diff = abs(row['application_year'] - row['eod_year'])\n",
    "    if app_eod_year_diff > 8:\n",
    "        return 0\n",
    "    \n",
    "    # the first and middle name seem to be mixed up in index card data set\n",
    "    mixed_sim1 =  get_name_str_sim(row[['clean_middle_name_x', 'clean_first_name_y']])\n",
    "    mixed_sim2 =  get_name_str_sim(row[['clean_middle_name_y', 'clean_first_name_x']])\n",
    "    \n",
    "    max_name_sim = max(row['clean_first_name_sim'], row['medical_school_sim'], row['clean_middle_name_sim'])\n",
    "    if max_name_sim < 60:\n",
    "        return 0\n",
    "    mix_sim = max(mixed_sim1, mixed_sim2)\n",
    "    if pd.isnull(mix_sim):\n",
    "        mix_sim = 0\n",
    "    if (mix_sim > 90) and row['medical_school_sim'] > 60:\n",
    "        return 1\n",
    "    if (mix_sim > 90) and pd.isnull(row['medical_school_sim']) and (app_eod_year_diff < 6):\n",
    "        return 1\n",
    "    if not pd.isnull(row['clean_first_name_sim']) and row['clean_first_name_sim'] < 40:\n",
    "        return 0\n",
    "    # if matching application year and med schools match\n",
    "    if (app_eod_year_diff < 6) and row['medical_school_sim'] > 80:\n",
    "        return 1\n",
    "    if not pd.isnull(row['medical_school_sim']) and row['medical_school_sim'] < 40:\n",
    "        return 0\n",
    "    # first and middle names match or first\n",
    "    if (app_eod_year_diff < 6) and row['clean_first_name_sim'] > 80:\n",
    "        return 1\n",
    "    # first and middle names match or first\n",
    "    if (app_eod_year_diff < 6) and row['clean_middle_name_sim'] > 80:\n",
    "        return 1\n",
    "    return 0"
   ]
  },
  {
   "cell_type": "code",
   "execution_count": null,
   "metadata": {
    "collapsed": false,
    "scrolled": true
   },
   "outputs": [],
   "source": [
    "nm_feature_dict = {\n",
    "    'clean_first_name': get_name_str_sim,\n",
    "    'clean_middle_name': get_name_str_sim,\n",
    "    'medical_school': get_name_str_sim,\n",
    "}\n",
    "\n",
    "nm_match2 = add_similarity_features(nm_match1, nm_feature_dict, check_match, suffixes=['_x', '_y'])\n"
   ]
  },
  {
   "cell_type": "code",
   "execution_count": null,
   "metadata": {
    "collapsed": false,
    "scrolled": true
   },
   "outputs": [],
   "source": [
    "nm_match3 = nm_match2.loc[(nm_match2.is_match==1) & (nm_match2.index!='MORTON'), :].reset_index(\n",
    "    drop=False).rename(columns={'index': 'clean_last_name'})"
   ]
  },
  {
   "cell_type": "code",
   "execution_count": null,
   "metadata": {
    "collapsed": false,
    "scrolled": true
   },
   "outputs": [],
   "source": [
    "# merge the manual people with dno with the dno data set and append to the matches list\n",
    "man_dno2 = man_dno.loc[~pd.isnull(man_dno['dno']), :].drop(['clean_first_name_y', 'clean_middle_name_y',\n",
    "                                                            'clean_last_name_y'], axis=1)\n",
    "man_dno2.loc[:, 'dno'] = man_dno2.dno.astype(int)\n",
    "NIH.loc[:, 'dno'] = NIH.dno.astype(int)"
   ]
  },
  {
   "cell_type": "code",
   "execution_count": null,
   "metadata": {
    "collapsed": false,
    "scrolled": true
   },
   "outputs": [],
   "source": [
    "print man_dno2.shape\n",
    "man_dno_merge = pd.merge(left=man_dno2, right=NIH, on='dno', how='inner')\n",
    "print man_dno_merge.shape"
   ]
  },
  {
   "cell_type": "code",
   "execution_count": null,
   "metadata": {
    "collapsed": false,
    "scrolled": true
   },
   "outputs": [],
   "source": [
    "man_dno_merge2 = man_dno_merge.rename(columns={'clean_first_name_x': 'clean_first_name2', \n",
    "                                               'clean_middle_name_x': 'clean_middle_name2',\n",
    "                             'clean_last_name_x': 'clean_last_name2'})\n"
   ]
  },
  {
   "cell_type": "code",
   "execution_count": null,
   "metadata": {
    "collapsed": false,
    "scrolled": true
   },
   "outputs": [],
   "source": [
    "fails = man_dno2.loc[~man_dno2.dno.isin(man_dno_merge.dno), :]\n",
    "print fails.shape"
   ]
  },
  {
   "cell_type": "code",
   "execution_count": null,
   "metadata": {
    "collapsed": false,
    "scrolled": true
   },
   "outputs": [],
   "source": [
    "# append matches together\n",
    "match6 = pd.concat([nm_match3, match5, man_dno_merge2], axis=0)"
   ]
  },
  {
   "cell_type": "code",
   "execution_count": null,
   "metadata": {
    "collapsed": false,
    "scrolled": true
   },
   "outputs": [],
   "source": [
    "# get nonmatched NIH people and not matched applicants \n",
    "nm_apps2 = get_nonmatched(apps5, id_colname=RAW_CARD_ID, matched_ids=match6[RAW_CARD_ID].dropna().values)\n",
    "nm_NIH2 = get_nonmatched(NIH, id_colname=NIH_ID, matched_ids=match6[NIH_ID].dropna().values)"
   ]
  },
  {
   "cell_type": "code",
   "execution_count": null,
   "metadata": {
    "collapsed": false,
    "scrolled": true
   },
   "outputs": [],
   "source": [
    "nm_NIH3 = nm_NIH2.loc[\n",
    "    (nm_NIH2.eod_year< 1976) & (\n",
    "        nm_NIH2.eod_year>1963), NAME_COLS+['medical_school', 'eod_year']].sort_values('clean_last_name')\n",
    "print nm_NIH3.shape"
   ]
  },
  {
   "cell_type": "code",
   "execution_count": null,
   "metadata": {
    "collapsed": false,
    "scrolled": true
   },
   "outputs": [],
   "source": [
    "apps_match = nm_apps2.loc[nm_apps2.clean_last_name.isin(nm_NIH3.clean_last_name.values)]\n",
    "test_merge = pd.merge(left=nm_NIH3, right=apps_match, on='clean_last_name', how='inner').sort_values('clean_last_name')\n",
    "test_merge = test_merge[sorted(test_merge.columns)]\n",
    "if OUTPUT_CSV:\n",
    "    test_merge.to_csv(os.path.join(CORRECTIONS_DIR, 'test_merge_missing_NIH.csv'), index=False)"
   ]
  },
  {
   "cell_type": "code",
   "execution_count": null,
   "metadata": {
    "collapsed": false,
    "scrolled": true
   },
   "outputs": [],
   "source": [
    "# test_merge[['clean_first_name_x', 'clean_first_name_y', 'clean_middle_name_x', 'clean_middle_name_y']]"
   ]
  },
  {
   "cell_type": "code",
   "execution_count": null,
   "metadata": {
    "collapsed": false,
    "scrolled": true
   },
   "outputs": [],
   "source": [
    "match6.loc[pd.isnull(match6.clean_last_name), 'clean_last_name'] =  match6.loc[\n",
    "    pd.isnull(match6.clean_last_name), 'clean_last_name_x']\n",
    "to_drop = [c for c in match6.columns if c.endswith('_sim') or '_counts' in c]\n",
    "match7= match6.drop(to_drop+[\n",
    "        'dup_flag', 'eod_year_diff', 'fuzzy_merge_col_x', 'fuzzy_merge_col_y', 'unknown',\n",
    "        'Unnamed: 0', 'raw_uuid_duplicate', 'dno_duplicate', 'count_missing',\n",
    "                'clean_last_name_x', 'clean_last_name_y', 'is_match'], axis=1)"
   ]
  },
  {
   "cell_type": "code",
   "execution_count": null,
   "metadata": {
    "collapsed": false,
    "scrolled": true
   },
   "outputs": [],
   "source": [
    "# consolidate columns in match6\n",
    "match7a = consolidate_merge_cols(match7, ['_x', '_y'], [])"
   ]
  },
  {
   "cell_type": "code",
   "execution_count": null,
   "metadata": {
    "collapsed": false,
    "scrolled": true
   },
   "outputs": [],
   "source": [
    "mask = ~pd.isnull(match7a.clean_first_name2)\n",
    "match7a.loc[mask, 'clean_first_name'] = match7a.loc[mask, 'clean_first_name2']\n",
    "\n",
    "mask = ~pd.isnull(match7a.clean_last_name2)\n",
    "match7a.loc[mask, 'clean_last_name'] = match7a.loc[mask, 'clean_last_name2']\n",
    "\n",
    "mask = ~pd.isnull(match7a.clean_middle_name2)\n",
    "match7a.loc[mask, 'clean_middle_name'] = match7a.loc[mask, 'clean_middle_name2']"
   ]
  },
  {
   "cell_type": "code",
   "execution_count": null,
   "metadata": {
    "collapsed": false,
    "scrolled": true
   },
   "outputs": [],
   "source": [
    "match8 = pd.concat([\n",
    "        man_dno[~pd.isnull(man_dno['dno'])], match7a, apps4.loc[\n",
    "            ~apps4[PERSON_ID].isin(match7a[PERSON_ID].values),:]], axis=0).drop(['clean_first_name2', \n",
    "                                                                                'clean_middle_name2', \n",
    "                                                                                'clean_last_name2'], axis=1)\n",
    "print sorted(match8.columns)\n",
    "print match8.shape"
   ]
  },
  {
   "cell_type": "code",
   "execution_count": null,
   "metadata": {
    "collapsed": false,
    "scrolled": true
   },
   "outputs": [],
   "source": [
    "# replace date of birth with dob whenever date of birth missing and dob is not\n",
    "match8.loc[\n",
    "    (pd.isnull(match8['date_of_birth'])) & (~pd.isnull(match8['dob'])), 'date_of_birth'] = match8.loc[\n",
    "        (pd.isnull(match8['date_of_birth'])) & (~pd.isnull(match8['dob'])), 'dob']\n",
    "\n",
    "\n",
    "c1 = 'date_of_birth'\n",
    "c2 = 'dob'\n",
    "match8.loc[(pd.isnull(match8[c1])) & (~pd.isnull(match8[c2])), [c1, c2]]"
   ]
  },
  {
   "cell_type": "code",
   "execution_count": null,
   "metadata": {
    "collapsed": false,
    "scrolled": true
   },
   "outputs": [],
   "source": [
    "match8.loc[(match8.clean_last_name=='KNOWLER') & (match8.clean_first_name=='JAN'), 'dno'] = 1922\n",
    "match8.loc[\n",
    "    (match8.clean_last_name== 'E ROSS HARVARD') & (match8.clean_first_name=='MICHAEL'), 'clean_last_name'] = 'ROSS'\n"
   ]
  },
  {
   "cell_type": "code",
   "execution_count": null,
   "metadata": {
    "collapsed": false,
    "scrolled": true
   },
   "outputs": [],
   "source": [
    "match9 = match8.drop(['dob'], axis=1).reset_index(drop=True).sort_values(\n",
    "    NAME_COLS+['dno']).drop_duplicates(NAME_COLS+['dno']).drop_duplicates(NAME_COLS+[PERSON_ID])\n",
    "# print sorted(match9.columns)\n",
    "print match8.shape\n",
    "print match9.shape"
   ]
  },
  {
   "cell_type": "code",
   "execution_count": null,
   "metadata": {
    "collapsed": false,
    "scrolled": true
   },
   "outputs": [],
   "source": [
    "match9.original_medical_school.dropna().unique()"
   ]
  },
  {
   "cell_type": "code",
   "execution_count": null,
   "metadata": {
    "collapsed": false,
    "scrolled": false
   },
   "outputs": [],
   "source": [
    "match9.loc[match9.medical_school=='WASHINGTON', NAME_COLS+['dno_medical_school', 'original_medical_school', 'medical_school', 'clean_medical_school']]"
   ]
  },
  {
   "cell_type": "code",
   "execution_count": null,
   "metadata": {
    "collapsed": false,
    "scrolled": true
   },
   "outputs": [],
   "source": [
    "# create a clean (standardized medical school column and remove people with international med schools)\n",
    "match9['medical_school'] = match9['dno_medical_school']\n",
    "mask = pd.isnull(match9.medical_school)\n",
    "match9.loc[mask, 'medical_school'] = match9.loc[mask, 'original_medical_school']\n",
    "\n",
    "\n",
    "match9['clean_medical_school'] = match9.medical_school.apply(clean_med_school)"
   ]
  },
  {
   "cell_type": "code",
   "execution_count": null,
   "metadata": {
    "collapsed": false
   },
   "outputs": [],
   "source": [
    "match9.loc[match9.original_medical_school.apply(lambda x: False if pd.isnull(x) else 'Toledo' in x), :]\n",
    "\n"
   ]
  },
  {
   "cell_type": "code",
   "execution_count": null,
   "metadata": {
    "collapsed": false,
    "scrolled": true
   },
   "outputs": [],
   "source": [
    "match9.loc[match9.original_medical_school == '', ['medical_school', 'dno_medical_school', 'original_medical_school']]"
   ]
  },
  {
   "cell_type": "code",
   "execution_count": null,
   "metadata": {
    "collapsed": false,
    "scrolled": true
   },
   "outputs": [],
   "source": [
    "# drop people who went to international medical schools\n",
    "from dev import INTERNATIONAL_MED_SCHOOLS\n",
    "\n",
    "def is_international(med_str, lst_itl_schools):\n",
    "    "
   ]
  },
  {
   "cell_type": "code",
   "execution_count": null,
   "metadata": {
    "collapsed": false,
    "scrolled": true
   },
   "outputs": [],
   "source": [
    "match9['control_flag'] = 0\n",
    "match9.loc[pd.isnull(match9.dno) & pd.isnull(match9.year_accepted), 'control_flag'] = 1"
   ]
  },
  {
   "cell_type": "code",
   "execution_count": null,
   "metadata": {
    "collapsed": false,
    "scrolled": true
   },
   "outputs": [],
   "source": [
    "match9.rename(columns={'res_dates': 'residency_dates', 'intern_dates': 'internship_dates', \n",
    "                      'clean_college_trans': 'clean_college'}, inplace=True)\n",
    "\n",
    "IMPORTANT_COLS = [NIH_ID, PERSON_ID, 'application_year', 'eod_year', 'application_date', 'clean_first_name', 'clean_middle_name', \n",
    "                 'clean_last_name', 'control_flag', 'year_accepted', 'rejected', 'rejection_date', 'clean_college', 'medical_school',\n",
    "                'residency_dates', 'internship_dates']\n",
    "\n",
    "other_cols = sorted([i for i in match9.columns if i not in IMPORTANT_COLS])\n",
    "\n",
    "# order columns so important ones are \n",
    "match10 = match9[IMPORTANT_COLS+other_cols].sort_values(['clean_last_name', 'application_year'])\n",
    "\n",
    "match11 = match10.dropna(subset=[PERSON_ID], axis=0).sort_values(['clean_last_name', 'clean_first_name'])\n",
    "\n",
    "# wide_apps5.to_pickle(os.path.join(APP_DATA_DIR, 'all_apps_plus_NIH_info.p'))\n",
    "match11.to_csv(os.path.join(APP_DATA_DIR, 'fuzzy_all_apps_plus_NIH_info.csv'), index=False)\n",
    "\n",
    "wide_apps_v = match11.loc[(match11.application_year>1960) & (match11.application_year<1976), :].sort_values(\n",
    "    ['clean_last_name', 'application_date'])\n",
    "\n",
    "wide_apps_v.to_pickle(os.path.join(PICKLE_DIR, 'fuzzy_all_apps_plus_NIH_info_vietnam.p'))\n",
    "\n",
    "wide_apps_v.to_csv(os.path.join(APP_DATA_DIR, 'fuzzy_all_apps_plus_NIH_info_vietnam.csv'), index=False)"
   ]
  },
  {
   "cell_type": "code",
   "execution_count": null,
   "metadata": {
    "collapsed": false,
    "scrolled": true
   },
   "outputs": [],
   "source": [
    "ln = 'RING'\n",
    "wide_apps_v.loc[wide_apps_v.clean_last_name==ln, NAME_COLS+[PERSON_ID, 'medical_school', 'application_year', 'dno', 'residency','residency_hospital',\n",
    "                                                            'internship_hospital', 'residency_dates']]"
   ]
  },
  {
   "cell_type": "code",
   "execution_count": null,
   "metadata": {
    "collapsed": false,
    "scrolled": true
   },
   "outputs": [],
   "source": [
    "wide_apps_v.loc[wide_apps_v.clean_last_name=='KRUGMAN', NAME_COLS+['dno', PERSON_ID]]"
   ]
  },
  {
   "cell_type": "code",
   "execution_count": null,
   "metadata": {
    "collapsed": false,
    "scrolled": true
   },
   "outputs": [],
   "source": [
    "wide_apps_v.loc[pd.isnull(wide_apps_v.clean_first_name), NAME_COLS+['dno', 'medical_school', 'application_year']].to_csv('extras.csv')"
   ]
  },
  {
   "cell_type": "code",
   "execution_count": null,
   "metadata": {
    "collapsed": false,
    "scrolled": true
   },
   "outputs": [],
   "source": [
    "apps5.loc[apps5.clean_last_name=='PRZYBYLA', NAME_COLS+['medical_school', PERSON_ID]]"
   ]
  },
  {
   "cell_type": "code",
   "execution_count": null,
   "metadata": {
    "collapsed": true,
    "scrolled": true
   },
   "outputs": [],
   "source": []
  }
 ],
 "metadata": {
  "kernelspec": {
   "display_name": "Python 2",
   "language": "python",
   "name": "python2"
  },
  "language_info": {
   "codemirror_mode": {
    "name": "ipython",
    "version": 2
   },
   "file_extension": ".py",
   "mimetype": "text/x-python",
   "name": "python",
   "nbconvert_exporter": "python",
   "pygments_lexer": "ipython2",
   "version": "2.7.12"
  }
 },
 "nbformat": 4,
 "nbformat_minor": 0
}
