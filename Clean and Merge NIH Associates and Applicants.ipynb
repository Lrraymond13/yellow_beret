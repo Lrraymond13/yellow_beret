{
 "cells": [
  {
   "cell_type": "code",
   "execution_count": 1,
   "metadata": {
    "collapsed": false,
    "scrolled": false
   },
   "outputs": [
    {
     "name": "stderr",
     "output_type": "stream",
     "text": [
      "ERROR:root:Line magic function `%install_ext` not found.\n"
     ]
    }
   ],
   "source": [
    "%install_ext https://raw.github.com/cpcloud/ipython-autotime/master/autotime.py\n",
    "%load_ext autotime"
   ]
  },
  {
   "cell_type": "code",
   "execution_count": 2,
   "metadata": {
    "collapsed": false,
    "scrolled": false
   },
   "outputs": [
    {
     "name": "stdout",
     "output_type": "stream",
     "text": [
      "time: 239 ms\n"
     ]
    }
   ],
   "source": [
    "# read in known applicant files, dedupe and try to merge with applicants file\n",
    "from collections import Counter\n",
    "import difflib\n",
    "import uuid\n",
    "import itertools\n",
    "import pandas as pd\n",
    "import numpy as np\n",
    "import string\n",
    "import funcy\n",
    "import re\n",
    "import os\n",
    "\n",
    "from data_cleaning_functions import (trans_remov_punc, standardize_whitespace, remove_punc, remove_suffix_from_last_name,\n",
    "                                     clean_names, has_award, has_suffix, get_suffix, replace_last_name, \n",
    "                                     is_year_range, str_sim, clean_med_school, clean_std_college_name, long_form_date, \n",
    "                                    correct_mispellings, is_foreign_med_school)\n",
    "\n",
    "from dev import (\n",
    "    APP_DATA_DIR, SUM_STAT_DIR, ATT_DATA_DIR, CARD_DATA_DIR, CORRECTIONS_DIR, AWARDS_KEYWORDS, NAME_COLS, RAW_NAME_COLS, \n",
    "    RAW_CARD_ID, RAW_INDEX_IDS, PERSON_APPLICATION_ID, PERSON_ID, NIH_ID, FEMALE_FIRST_NAMES, FEMALE_MIDDLE_NAMES, \n",
    "    PICKLE_DIR)\n",
    "from merging_functions import *\n",
    "\n",
    "OUTPUT_CSV = False \n",
    "\n",
    "PERSONAL_INFO = [\n",
    "    'clean_first_name', 'clean_last_name', 'clean_middle_name',\n",
    "    'date_of_birth', 'medical_school', 'clean_college_trans']\n"
   ]
  },
  {
   "cell_type": "code",
   "execution_count": 3,
   "metadata": {
    "collapsed": false,
    "scrolled": false
   },
   "outputs": [
    {
     "name": "stdout",
     "output_type": "stream",
     "text": [
      "time: 38.1 ms\n"
     ]
    }
   ],
   "source": [
    "# id column that links back to raw applicant data file\n",
    "RAW_CARD_ID = 'raw_uuid'\n",
    "\n",
    "# column where the raw id information is stored\n",
    "RAW_INDEX_IDS = 'raw_card_ids'\n",
    "\n",
    "# try to get one id per unique applicant in the dataset\n",
    "PERSON_ID = 'person_uuid'\n",
    "# id per deduped application-person - if someone applied multiple times, they will have multiple ids\n",
    "PERSON_APPLICATION_ID = 'person_app_uuid' \n",
    "NIH_ID = 'dno'\n",
    "\n",
    "APPLICANT_SUFFIX = '_ap'\n",
    "ATTENDEE_SUFFIX = '_at'\n",
    "\n",
    "%load_ext autoreload\n",
    "%autoreload 2\n",
    "\n",
    "%reload_ext autoreload"
   ]
  },
  {
   "cell_type": "code",
   "execution_count": 4,
   "metadata": {
    "collapsed": false,
    "scrolled": false
   },
   "outputs": [
    {
     "name": "stdout",
     "output_type": "stream",
     "text": [
      "time: 11 ms\n"
     ]
    }
   ],
   "source": [
    "apps_filename = 'index_cards_deduped_fuzzy.csv'\n",
    "# apps_filename = 'person_application_date_wide.csv'\n",
    "\n",
    "NIH_filename = 'unique_attendees.csv'\n",
    "# NIH_filename = 'NIH_attendee_deduped_raw.csv'"
   ]
  },
  {
   "cell_type": "code",
   "execution_count": 5,
   "metadata": {
    "collapsed": false,
    "scrolled": false
   },
   "outputs": [
    {
     "name": "stdout",
     "output_type": "stream",
     "text": [
      "time: 11 ms\n"
     ]
    }
   ],
   "source": [
    "NAME_COLS = ['clean_middle_name', 'clean_last_name', 'clean_first_name']\n",
    "\n",
    "MED_TRAINING_COLS = ['res_dates', 'intern_dates', 'residency_hospital', 'internship_hospital', 'medical_school', 'residency']\n"
   ]
  },
  {
   "cell_type": "code",
   "execution_count": 6,
   "metadata": {
    "collapsed": false,
    "scrolled": false
   },
   "outputs": [
    {
     "data": {
      "text/plain": [
       "['Unnamed: 0',\n",
       " 'citizenship',\n",
       " 'clean_first_initial',\n",
       " 'clean_first_name',\n",
       " 'clean_last_name',\n",
       " 'clean_medical_school',\n",
       " 'clean_middle_initial',\n",
       " 'clean_middle_name',\n",
       " 'clean_suffix',\n",
       " 'count_missing',\n",
       " 'data_source',\n",
       " 'dno',\n",
       " 'dob',\n",
       " 'dup_flag',\n",
       " 'duplicate_dno',\n",
       " 'eod_year',\n",
       " 'eod_year_diff',\n",
       " 'generation',\n",
       " 'institute',\n",
       " 'intern_dte',\n",
       " 'intern_hos',\n",
       " 'lab_brch',\n",
       " 'med_school',\n",
       " 'medical_school',\n",
       " 'program',\n",
       " 'res_dtes',\n",
       " 'res_hosp',\n",
       " 'residency',\n",
       " 'source',\n",
       " 'ssn',\n",
       " 'supervisor',\n",
       " 'unknown',\n",
       " 'year_grad']"
      ]
     },
     "execution_count": 6,
     "metadata": {},
     "output_type": "execute_result"
    },
    {
     "name": "stdout",
     "output_type": "stream",
     "text": [
      "time: 46.4 ms\n"
     ]
    }
   ],
   "source": [
    "# import NIH raw data set\n",
    "NIH_raw = pd.read_csv(os.path.join(ATT_DATA_DIR, NIH_filename)).drop_duplicates('dno')\n",
    "sorted(NIH_raw.columns)"
   ]
  },
  {
   "cell_type": "code",
   "execution_count": 7,
   "metadata": {
    "collapsed": false,
    "scrolled": false
   },
   "outputs": [
    {
     "name": "stdout",
     "output_type": "stream",
     "text": [
      "time: 12.6 ms\n"
     ]
    }
   ],
   "source": [
    "# drop from the data set all people with eod years > 1980\n",
    "# NIH = NIH_raw.loc[NIH_raw.eod_year<1980, :] \n",
    "NIH = NIH_raw\n",
    "del NIH['medical_school']"
   ]
  },
  {
   "cell_type": "code",
   "execution_count": 8,
   "metadata": {
    "collapsed": false,
    "scrolled": false
   },
   "outputs": [
    {
     "name": "stdout",
     "output_type": "stream",
     "text": [
      "time: 64.1 ms\n"
     ]
    }
   ],
   "source": [
    "# import cleaned, deduped applicant data set in wide form (multiple app dates as columns)\n",
    "apps = pd.read_csv(os.path.join(APP_DATA_DIR, apps_filename))\n"
   ]
  },
  {
   "cell_type": "code",
   "execution_count": 9,
   "metadata": {
    "collapsed": false
   },
   "outputs": [
    {
     "data": {
      "text/html": [
       "<div>\n",
       "<table border=\"1\" class=\"dataframe\">\n",
       "  <thead>\n",
       "    <tr style=\"text-align: right;\">\n",
       "      <th></th>\n",
       "      <th>clean_middle_name</th>\n",
       "      <th>clean_last_name</th>\n",
       "      <th>clean_first_name</th>\n",
       "      <th>medical_school</th>\n",
       "      <th>application_year</th>\n",
       "    </tr>\n",
       "  </thead>\n",
       "  <tbody>\n",
       "    <tr>\n",
       "      <th>2638</th>\n",
       "      <td>DAVID</td>\n",
       "      <td>BURNBAUM</td>\n",
       "      <td>MITCHELL</td>\n",
       "      <td>UNIVERSITY OF VIRGINIA SCHOOL OF MEDICINE</td>\n",
       "      <td>1972.0</td>\n",
       "    </tr>\n",
       "  </tbody>\n",
       "</table>\n",
       "</div>"
      ],
      "text/plain": [
       "     clean_middle_name clean_last_name clean_first_name  \\\n",
       "2638             DAVID        BURNBAUM         MITCHELL   \n",
       "\n",
       "                                 medical_school  application_year  \n",
       "2638  UNIVERSITY OF VIRGINIA SCHOOL OF MEDICINE            1972.0  "
      ]
     },
     "execution_count": 9,
     "metadata": {},
     "output_type": "execute_result"
    },
    {
     "name": "stdout",
     "output_type": "stream",
     "text": [
      "time: 24.9 ms\n"
     ]
    }
   ],
   "source": [
    "apps.loc[apps.clean_last_name=='BURNBAUM', NAME_COLS+['medical_school', 'application_year']]"
   ]
  },
  {
   "cell_type": "code",
   "execution_count": 10,
   "metadata": {
    "collapsed": false,
    "scrolled": false
   },
   "outputs": [
    {
     "name": "stdout",
     "output_type": "stream",
     "text": [
      "\"Open\"\n",
      "Str. Medicine\n",
      "Medicine\n",
      "time: 68.8 ms\n"
     ]
    }
   ],
   "source": [
    "apps.loc[:, 'res_dates'] = apps['residency_year(s)'].apply(long_form_date)\n",
    "\n",
    "apps.loc[:, 'intern_dates'] = apps['internship_year(s)'].apply(long_form_date)"
   ]
  },
  {
   "cell_type": "code",
   "execution_count": 11,
   "metadata": {
    "collapsed": false,
    "scrolled": false
   },
   "outputs": [
    {
     "name": "stdout",
     "output_type": "stream",
     "text": [
      "time: 13.9 ms\n"
     ]
    }
   ],
   "source": [
    "NIH = NIH.rename(columns={'res_dtes':'res_dates', 'intern_dte':'intern_dates', 'intern_hos': 'internship_hospital', \n",
    "                         'res_hosp':'residency_hospital', 'clean_medical_school': 'medical_school'})\n",
    "# sorted(NIH.columns)"
   ]
  },
  {
   "cell_type": "code",
   "execution_count": 12,
   "metadata": {
    "collapsed": false,
    "scrolled": false
   },
   "outputs": [
    {
     "name": "stdout",
     "output_type": "stream",
     "text": [
      "time: 169 ms\n"
     ]
    }
   ],
   "source": [
    "apps2 = apps.rename(\n",
    "    columns={'residency_type': 'residency', 'internship_hospital_1': 'internship_hospital'})\n",
    "\n",
    "string_med_cols = ['medical_school', 'residency_hospital', 'internship_hospital', 'residency']\n",
    "\n",
    "# apply string cleaning function to each of the string medical info columns\n",
    "apps2.loc[:, string_med_cols] = apps2[string_med_cols].applymap(clean_names)"
   ]
  },
  {
   "cell_type": "code",
   "execution_count": 13,
   "metadata": {
    "collapsed": false,
    "scrolled": false
   },
   "outputs": [
    {
     "name": "stdout",
     "output_type": "stream",
     "text": [
      "time: 71.9 ms\n"
     ]
    }
   ],
   "source": [
    "to_remove = ['TERRECE', 'FRED', 'LAURENCE',\n",
    "             'CUONO', 'DEFRENZE', 'JEFFERY', 'FINKLEMAN', 'SHERRAD', 'ANSCHNETZ', 'MARC', 'JENSON', 'KASTI', \n",
    "            'ADELBERT', 'RITCHARD', 'MANSFORD', 'DEFRENZO', 'DROBIN', 'HAMES', 'KREUZ', 'JERROLD', 'MANEUSI',\n",
    "            'UNGARO']\n",
    "to_replace = ['TERRENCE', 'FREDERICK', 'LAWRENCE',\n",
    "              'CUOMO', 'DEFRONZO', 'JEFFREY', 'FINKELMAN', 'SHERRARD', 'ANSCHUETZ', 'MARCUS', 'JENSEN', 'KASTL',\n",
    "              'ALBERT', 'RITCHARD', 'MANIFORD', 'DEFRONZO', 'DROBIS', 'JAMES', 'KRUEZ', 'JERROD', 'MANCUSI',\n",
    "              'UNGARO']\n",
    "\n",
    "correct_name_mispellings_fnc = funcy.rpartial(correct_mispellings, to_remove, to_replace)\n",
    "\n",
    "apps2.loc[:, 'clean_last_name'] = apps2.clean_last_name.apply(correct_name_mispellings_fnc)\n",
    "apps2.loc[:, 'clean_first_name'] = apps2.clean_first_name.apply(correct_name_mispellings_fnc)"
   ]
  },
  {
   "cell_type": "code",
   "execution_count": 14,
   "metadata": {
    "collapsed": false
   },
   "outputs": [
    {
     "data": {
      "text/html": [
       "<div>\n",
       "<table border=\"1\" class=\"dataframe\">\n",
       "  <thead>\n",
       "    <tr style=\"text-align: right;\">\n",
       "      <th></th>\n",
       "      <th>person_uuid</th>\n",
       "      <th>address</th>\n",
       "      <th>age</th>\n",
       "      <th>application_date</th>\n",
       "      <th>application_year</th>\n",
       "      <th>application_year_1</th>\n",
       "      <th>application_year_2</th>\n",
       "      <th>application_year_3</th>\n",
       "      <th>associate_program_entered</th>\n",
       "      <th>bob</th>\n",
       "      <th>...</th>\n",
       "      <th>state</th>\n",
       "      <th>teaching</th>\n",
       "      <th>undergrad_year_grad</th>\n",
       "      <th>undergraduate_school</th>\n",
       "      <th>withdrawal</th>\n",
       "      <th>year_accepted</th>\n",
       "      <th>zip_code</th>\n",
       "      <th>to_drop</th>\n",
       "      <th>res_dates</th>\n",
       "      <th>intern_dates</th>\n",
       "    </tr>\n",
       "  </thead>\n",
       "  <tbody>\n",
       "    <tr>\n",
       "      <th>1621</th>\n",
       "      <td>1619</td>\n",
       "      <td>612 Avenue K</td>\n",
       "      <td>NaN</td>\n",
       "      <td>1968-03-21</td>\n",
       "      <td>1968.0</td>\n",
       "      <td>NaN</td>\n",
       "      <td>NaN</td>\n",
       "      <td>NaN</td>\n",
       "      <td>NaN</td>\n",
       "      <td>0.0</td>\n",
       "      <td>...</td>\n",
       "      <td>New York</td>\n",
       "      <td>1.0</td>\n",
       "      <td>NaN</td>\n",
       "      <td>NaN</td>\n",
       "      <td>-9.0</td>\n",
       "      <td>1970.0</td>\n",
       "      <td>NaN</td>\n",
       "      <td>False</td>\n",
       "      <td>1969-1970</td>\n",
       "      <td>1968-1969</td>\n",
       "    </tr>\n",
       "  </tbody>\n",
       "</table>\n",
       "<p>1 rows × 85 columns</p>\n",
       "</div>"
      ],
      "text/plain": [
       "      person_uuid       address  age application_date  application_year  \\\n",
       "1621         1619  612 Avenue K  NaN       1968-03-21            1968.0   \n",
       "\n",
       "      application_year_1  application_year_2  application_year_3  \\\n",
       "1621                 NaN                 NaN                 NaN   \n",
       "\n",
       "     associate_program_entered  bob     ...          state  teaching  \\\n",
       "1621                       NaN  0.0     ...       New York       1.0   \n",
       "\n",
       "     undergrad_year_grad undergraduate_school withdrawal year_accepted  \\\n",
       "1621                 NaN                  NaN       -9.0        1970.0   \n",
       "\n",
       "     zip_code to_drop  res_dates intern_dates  \n",
       "1621      NaN   False  1969-1970    1968-1969  \n",
       "\n",
       "[1 rows x 85 columns]"
      ]
     },
     "execution_count": 14,
     "metadata": {},
     "output_type": "execute_result"
    },
    {
     "name": "stdout",
     "output_type": "stream",
     "text": [
      "time: 44.1 ms\n"
     ]
    }
   ],
   "source": [
    "apps2.loc[apps2.clean_last_name=='BRESLOW']"
   ]
  },
  {
   "cell_type": "code",
   "execution_count": 15,
   "metadata": {
    "collapsed": false
   },
   "outputs": [
    {
     "name": "stdout",
     "output_type": "stream",
     "text": [
      "time: 15.3 ms\n"
     ]
    }
   ],
   "source": [
    "# function to go in and correct some of the name mispellings in both data sets\n",
    "# MUTATING FUNCTION\n",
    "def change_names(df, selection_type, selection_value, to_change_type, to_change_values):\n",
    "    for t, v in zip(to_change_type, to_change_values):\n",
    "        print t, v\n",
    "        sel = df.loc[df[selection_type]==selection_value, t]\n",
    "        print sel.shape[0]\n",
    "        if sel.shape[0] > 1:\n",
    "            print \"WARNING\"\n",
    "        df.loc[df[selection_type]==selection_value, t] = v"
   ]
  },
  {
   "cell_type": "code",
   "execution_count": 16,
   "metadata": {
    "collapsed": false
   },
   "outputs": [
    {
     "name": "stdout",
     "output_type": "stream",
     "text": [
      "clean_first_name BRUCE\n",
      "1\n",
      "clean_middle_name WILCOX\n",
      "1\n",
      "clean_first_name MARC\n",
      "1\n",
      "clean_middle_name I\n",
      "1\n",
      "clean_first_name SIDNEY\n",
      "1\n",
      "clean_middle_name CHARLES\n",
      "1\n",
      "medical_school WAKE_FOREST\n",
      "1\n",
      "clean_first_name MICHAEL\n",
      "1\n",
      "clean_middle_name RAY\n",
      "1\n",
      "clean_first_name STANLEY\n",
      "1\n",
      "clean_middle_name WILLETS\n",
      "1\n",
      "medical_school ROCHESTER\n",
      "1\n",
      "time: 38.9 ms\n"
     ]
    }
   ],
   "source": [
    "\n",
    "apps2.loc[(apps2.clean_last_name=='LIBOW') & (apps2.clean_middle_name=='S'), 'clean_first_name'] = 'LESLIE'\n",
    "\n",
    "change_names(\n",
    "    apps2, 'clean_last_name', 'CHESEBRO', ['clean_first_name', 'clean_middle_name'], ['BRUCE', 'WILCOX'])\n",
    "change_names(\n",
    "    apps2, 'clean_last_name', 'GALANTER', ['clean_first_name', 'clean_middle_name'], ['MARC', 'I'])\n",
    "change_names(\n",
    "    apps2, 'clean_last_name', 'BEAN', ['clean_first_name', 'clean_middle_name', 'medical_school'], ['SIDNEY', 'CHARLES', 'WAKE_FOREST'])\n",
    "change_names(\n",
    "    apps2, 'clean_last_name', 'BOYD', ['clean_first_name', 'clean_middle_name'], ['MICHAEL', 'RAY'])\n",
    "change_names(\n",
    "    apps2, 'clean_last_name', 'CHAPMAN', \n",
    "    ['clean_first_name', 'clean_middle_name', 'medical_school'], ['STANLEY', 'WILLETS', 'ROCHESTER'])"
   ]
  },
  {
   "cell_type": "code",
   "execution_count": 17,
   "metadata": {
    "collapsed": false
   },
   "outputs": [
    {
     "data": {
      "text/html": [
       "<div>\n",
       "<table border=\"1\" class=\"dataframe\">\n",
       "  <thead>\n",
       "    <tr style=\"text-align: right;\">\n",
       "      <th></th>\n",
       "      <th>person_uuid</th>\n",
       "      <th>address</th>\n",
       "      <th>age</th>\n",
       "      <th>application_date</th>\n",
       "      <th>application_year</th>\n",
       "      <th>application_year_1</th>\n",
       "      <th>application_year_2</th>\n",
       "      <th>application_year_3</th>\n",
       "      <th>associate_program_entered</th>\n",
       "      <th>bob</th>\n",
       "      <th>...</th>\n",
       "      <th>state</th>\n",
       "      <th>teaching</th>\n",
       "      <th>undergrad_year_grad</th>\n",
       "      <th>undergraduate_school</th>\n",
       "      <th>withdrawal</th>\n",
       "      <th>year_accepted</th>\n",
       "      <th>zip_code</th>\n",
       "      <th>to_drop</th>\n",
       "      <th>res_dates</th>\n",
       "      <th>intern_dates</th>\n",
       "    </tr>\n",
       "  </thead>\n",
       "  <tbody>\n",
       "    <tr>\n",
       "      <th>3452</th>\n",
       "      <td>3452</td>\n",
       "      <td>1248-42nd Avenue</td>\n",
       "      <td>NaN</td>\n",
       "      <td>1971-04-03</td>\n",
       "      <td>1971.0</td>\n",
       "      <td>NaN</td>\n",
       "      <td>NaN</td>\n",
       "      <td>NaN</td>\n",
       "      <td>NaN</td>\n",
       "      <td>0.0</td>\n",
       "      <td>...</td>\n",
       "      <td>California</td>\n",
       "      <td>1.0</td>\n",
       "      <td>NaN</td>\n",
       "      <td>NaN</td>\n",
       "      <td>-9.0</td>\n",
       "      <td>NaN</td>\n",
       "      <td>95822.0</td>\n",
       "      <td>False</td>\n",
       "      <td>NaN</td>\n",
       "      <td>1971</td>\n",
       "    </tr>\n",
       "  </tbody>\n",
       "</table>\n",
       "<p>1 rows × 85 columns</p>\n",
       "</div>"
      ],
      "text/plain": [
       "      person_uuid           address  age application_date  application_year  \\\n",
       "3452         3452  1248-42nd Avenue  NaN       1971-04-03            1971.0   \n",
       "\n",
       "      application_year_1  application_year_2  application_year_3  \\\n",
       "3452                 NaN                 NaN                 NaN   \n",
       "\n",
       "     associate_program_entered  bob     ...            state  teaching  \\\n",
       "3452                       NaN  0.0     ...       California       1.0   \n",
       "\n",
       "     undergrad_year_grad undergraduate_school withdrawal year_accepted  \\\n",
       "3452                 NaN                  NaN       -9.0           NaN   \n",
       "\n",
       "     zip_code to_drop res_dates intern_dates  \n",
       "3452  95822.0   False       NaN         1971  \n",
       "\n",
       "[1 rows x 85 columns]"
      ]
     },
     "execution_count": 17,
     "metadata": {},
     "output_type": "execute_result"
    },
    {
     "name": "stdout",
     "output_type": "stream",
     "text": [
      "time: 38.9 ms\n"
     ]
    }
   ],
   "source": [
    "apps2.loc[apps2.clean_last_name=='JAN', ]"
   ]
  },
  {
   "cell_type": "code",
   "execution_count": 18,
   "metadata": {
    "collapsed": false,
    "scrolled": false
   },
   "outputs": [
    {
     "name": "stdout",
     "output_type": "stream",
     "text": [
      "clean_first_name DAVID\n",
      "1\n",
      "clean_first_name ROBERT\n",
      "0\n",
      "clean_middle_name D\n",
      "0\n",
      "clean_first_name ROBERT\n",
      "1\n",
      "clean_middle_name ADRIAN\n",
      "1\n",
      "clean_first_name JOHN\n",
      "1\n",
      "clean_middle_name WILLIS\n",
      "1\n",
      "clean_first_name HARRY\n",
      "1\n",
      "clean_middle_name LOUIS\n",
      "1\n",
      "clean_first_name FRANCIS\n",
      "1\n",
      "clean_middle_name JOHN\n",
      "1\n",
      "clean_first_name DAVID\n",
      "1\n",
      "clean_middle_name GENE\n",
      "1\n",
      "clean_last_name KLAEVEMAN\n",
      "0\n",
      "clean_last_name MATTHEW\n",
      "0\n",
      "time: 78.5 ms\n"
     ]
    }
   ],
   "source": [
    "change_names(apps2, 'clean_last_name', 'DANFORTH', ['clean_first_name'], ['DAVID'])\n",
    "change_names(apps2, 'clean_last_name', 'HUNT', ['clean_first_name', 'clean_middle_name'], ['ROBERT', 'D'])\n",
    "change_names(apps2, 'clean_last_name', 'KARK', ['clean_first_name', 'clean_middle_name'], ['ROBERT', 'ADRIAN'])\n",
    "change_names(apps2, 'clean_last_name', 'KEBABIAN', ['clean_first_name', 'clean_middle_name'], ['JOHN', 'WILLIS'])\n",
    "change_names(apps2, 'clean_last_name', 'KNOPF', ['clean_first_name', 'clean_middle_name'], ['HARRY', 'LOUIS'])\n",
    "change_names(apps2, 'clean_last_name', 'KROLIKOWSKI', ['clean_first_name', 'clean_middle_name'], ['FRANCIS', 'JOHN'])\n",
    "change_names(apps2, 'clean_last_name', 'KASTL', ['clean_first_name', 'clean_middle_name'], ['DAVID', 'GENE'])\n",
    "change_names(apps2, 'clean_last_name', 'KLAVEMAN', ['clean_last_name'], ['KLAEVEMAN'])\n",
    "change_names(apps2, 'clean_last_name', 'MATHEW', ['clean_last_name'], ['MATTHEW'])\n",
    "\n",
    "apps2.loc[apps2.clean_last_name=='CHESEBRO', ['clean_first_name']] = 'BRUCE'\n",
    "apps2.loc[apps2.clean_last_name=='CHESEBRO', ['clean_middle_name']] = 'WILCOX'\n",
    "apps2.loc[(apps2.clean_last_name=='HEALY') & (apps2.medical_school=='USC KECK SCHOOL OF MEDICINE'), ['clean_first_name']] = 'MARK'\n",
    "apps2.loc[(apps2.clean_last_name=='HEALY') & (apps2.medical_school=='USC KECK SCHOOL OF MEDICINE'), ['clean_middle_name']] = 'H'\n",
    "\n",
    "apps2.loc[apps2.clean_last_name=='LENN', 'clean_first_name'] = 'NICHOLAS'\n",
    "apps2.loc[apps2.clean_last_name=='BRESLOW', 'clean_first_name'] = 'JAN'\n",
    "apps2.loc[apps2.clean_last_name=='BRESLOW', 'clean_middle_name'] = 'LESLIE'\n",
    "\n",
    "apps2.loc[(apps2.clean_last_name=='NADLER') & (pd.isnull(apps2.clean_first_name)), 'clean_first_name'] = 'LEE'\n",
    "apps2.loc[(apps2.clean_last_name=='NADLER') & (apps2.clean_first_name=='LEE'), 'clean_middle_name'] = 'MARSHALL'\n",
    "apps2.loc[(pd.isnull(apps2.clean_first_name)) & (apps2.clean_last_name=='ROSEN'), 'clean_first_name'] = 'HENRY'\n",
    "\n",
    "apps2.loc[(apps2.clean_last_name=='NEELON'), 'clean_first_name'] = 'FRANCIS'\n",
    "apps2.loc[(apps2.clean_last_name=='NEELON') , 'clean_middle_name'] = 'ALBERT'\n",
    "\n",
    "apps2.loc[(apps2.clean_last_name=='NICHOLAS') , 'clean_first_name'] = 'JOHN'"
   ]
  },
  {
   "cell_type": "code",
   "execution_count": 19,
   "metadata": {
    "collapsed": false,
    "scrolled": false
   },
   "outputs": [
    {
     "name": "stdout",
     "output_type": "stream",
     "text": [
      "time: 15.5 ms\n"
     ]
    }
   ],
   "source": [
    "# there are a bunch of duplicates in apps, where application year is the same, but first name is missing\n",
    "name_dups = apps2.loc[\n",
    "    apps2.duplicated(\n",
    "        ['clean_last_name', 'medical_school', 'application_year'], keep=False), NAME_COLS+[PERSON_ID, 'medical_school', 'application_year']]"
   ]
  },
  {
   "cell_type": "code",
   "execution_count": 20,
   "metadata": {
    "collapsed": false,
    "scrolled": false
   },
   "outputs": [
    {
     "name": "stdout",
     "output_type": "stream",
     "text": [
      "time: 14.2 ms\n"
     ]
    }
   ],
   "source": [
    "to_delete_ids = name_dups.loc[(pd.isnull(name_dups.clean_middle_name)) & (pd.isnull(name_dups.clean_first_name))\n",
    "                             & pd.isnull(name_dups.medical_school), PERSON_ID]"
   ]
  },
  {
   "cell_type": "code",
   "execution_count": 21,
   "metadata": {
    "collapsed": false,
    "scrolled": false
   },
   "outputs": [
    {
     "name": "stdout",
     "output_type": "stream",
     "text": [
      "time: 31.8 ms\n"
     ]
    }
   ],
   "source": [
    "apps4 = apps2.loc[~apps2[PERSON_ID].isin(to_delete_ids), :].sort_values(\n",
    "    NAME_COLS+['medical_school'], ascending=False).drop_duplicates(NAME_COLS+['medical_school'])"
   ]
  },
  {
   "cell_type": "code",
   "execution_count": 22,
   "metadata": {
    "collapsed": false,
    "scrolled": false
   },
   "outputs": [
    {
     "name": "stdout",
     "output_type": "stream",
     "text": [
      "(4159, 85)\n",
      "(4168, 85)\n",
      "time: 10.8 ms\n"
     ]
    }
   ],
   "source": [
    "print apps4.shape\n",
    "print apps2.shape"
   ]
  },
  {
   "cell_type": "code",
   "execution_count": 23,
   "metadata": {
    "collapsed": false,
    "scrolled": false
   },
   "outputs": [
    {
     "name": "stdout",
     "output_type": "stream",
     "text": [
      "time: 14.1 ms\n"
     ]
    }
   ],
   "source": [
    "NIH.loc[(NIH.clean_last_name=='ALEXANDER') & (NIH.clean_first_name=='JOHN'), 'clean_middle_name'] = 'CHARLES'"
   ]
  },
  {
   "cell_type": "code",
   "execution_count": 24,
   "metadata": {
    "collapsed": false,
    "scrolled": false
   },
   "outputs": [
    {
     "name": "stdout",
     "output_type": "stream",
     "text": [
      "time: 19.7 ms\n"
     ]
    }
   ],
   "source": [
    "NIH.loc[(NIH.clean_last_name=='LEBOWITZ') & (NIH.clean_first_name=='EDWARD ARTHUR'),'clean_middle_name'] = 'ARTHUR'\n",
    "NIH.loc[(NIH.clean_last_name=='LEBOWITZ') & (NIH.clean_first_name=='EDWARD ARTHUR'),'clean_first_name'] = 'EDWARD'\n",
    "NIH.loc[(\n",
    "        NIH.clean_last_name=='LEBOWITZ') & (\n",
    "            NIH.clean_first_name=='EDWARD'), 'medical_school'] = 'ALBERT EINSTEIN COLLEGE OF MEDICINE OF YESHIVA'"
   ]
  },
  {
   "cell_type": "code",
   "execution_count": 25,
   "metadata": {
    "collapsed": false
   },
   "outputs": [
    {
     "name": "stdout",
     "output_type": "stream",
     "text": [
      "time: 14 ms\n"
     ]
    }
   ],
   "source": [
    "NIH = NIH.loc[NIH.clean_first_name!='GERALDINE']"
   ]
  },
  {
   "cell_type": "code",
   "execution_count": 26,
   "metadata": {
    "collapsed": false,
    "scrolled": false
   },
   "outputs": [
    {
     "name": "stdout",
     "output_type": "stream",
     "text": [
      "time: 115 ms\n"
     ]
    }
   ],
   "source": [
    "# read in manual matches\n",
    "man = pd.read_excel(os.path.join(CORRECTIONS_DIR, 'manual_dno_matches.xlsx'), index=False).rename(columns={'medical_school': 'dno_medical_school'})\n",
    "man['medical_school'] = man.dno_medical_school.apply(clean_med_school)"
   ]
  },
  {
   "cell_type": "code",
   "execution_count": 27,
   "metadata": {
    "collapsed": false,
    "scrolled": false
   },
   "outputs": [
    {
     "data": {
      "text/html": [
       "<div>\n",
       "<table border=\"1\" class=\"dataframe\">\n",
       "  <thead>\n",
       "    <tr style=\"text-align: right;\">\n",
       "      <th></th>\n",
       "      <th>clean_middle_name</th>\n",
       "      <th>clean_last_name</th>\n",
       "      <th>clean_first_name</th>\n",
       "      <th>dno</th>\n",
       "      <th>medical_school_x</th>\n",
       "      <th>medical_school_y</th>\n",
       "      <th>sim</th>\n",
       "    </tr>\n",
       "  </thead>\n",
       "  <tbody>\n",
       "  </tbody>\n",
       "</table>\n",
       "</div>"
      ],
      "text/plain": [
       "Empty DataFrame\n",
       "Columns: [clean_middle_name, clean_last_name, clean_first_name, dno, medical_school_x, medical_school_y, sim]\n",
       "Index: []"
      ]
     },
     "execution_count": 27,
     "metadata": {},
     "output_type": "execute_result"
    },
    {
     "name": "stdout",
     "output_type": "stream",
     "text": [
      "time: 46.5 ms\n"
     ]
    }
   ],
   "source": [
    "t = pd.merge(left=apps4, right=man, on=['clean_last_name', 'clean_middle_name'], how='inner', suffixes=['_x', '_y'])\n",
    "t.shape\n",
    "\n",
    "t['sim'] = t[['medical_school_x', 'medical_school_y']].apply(get_name_str_sim, axis=1)\n",
    "\n",
    "t['clean_first_name'] = t['clean_first_name_y']\n",
    "\n",
    "t_1 = t.sort_values(['dno', 'sim'], ascending=False).drop_duplicates(['dno'], keep='first')\n",
    "\n",
    "# t[NAME_COLS+['dno', 'medical_school_x', 'medical_school_y', 'sim']]\n",
    "t_1.loc[t_1.duplicated('dno', keep=False), NAME_COLS+['dno', 'medical_school_x', 'medical_school_y', 'sim']]"
   ]
  },
  {
   "cell_type": "code",
   "execution_count": 28,
   "metadata": {
    "collapsed": false
   },
   "outputs": [
    {
     "data": {
      "text/html": [
       "<div>\n",
       "<table border=\"1\" class=\"dataframe\">\n",
       "  <thead>\n",
       "    <tr style=\"text-align: right;\">\n",
       "      <th></th>\n",
       "      <th>clean_middle_name</th>\n",
       "      <th>clean_last_name</th>\n",
       "      <th>clean_first_name</th>\n",
       "      <th>application_year</th>\n",
       "    </tr>\n",
       "  </thead>\n",
       "  <tbody>\n",
       "    <tr>\n",
       "      <th>1621</th>\n",
       "      <td>LESLIE</td>\n",
       "      <td>BRESLOW</td>\n",
       "      <td>JAN</td>\n",
       "      <td>1968.0</td>\n",
       "    </tr>\n",
       "  </tbody>\n",
       "</table>\n",
       "</div>"
      ],
      "text/plain": [
       "     clean_middle_name clean_last_name clean_first_name  application_year\n",
       "1621            LESLIE         BRESLOW              JAN            1968.0"
      ]
     },
     "execution_count": 28,
     "metadata": {},
     "output_type": "execute_result"
    },
    {
     "name": "stdout",
     "output_type": "stream",
     "text": [
      "time: 26 ms\n"
     ]
    }
   ],
   "source": [
    "apps4.loc[apps4.clean_last_name=='BRESLOW', NAME_COLS+['application_year']]"
   ]
  },
  {
   "cell_type": "code",
   "execution_count": 29,
   "metadata": {
    "collapsed": false,
    "scrolled": false
   },
   "outputs": [
    {
     "data": {
      "text/plain": [
       "(0, 8)"
      ]
     },
     "execution_count": 29,
     "metadata": {},
     "output_type": "execute_result"
    },
    {
     "name": "stdout",
     "output_type": "stream",
     "text": [
      "time: 15.1 ms\n"
     ]
    }
   ],
   "source": [
    "um = man[~man.dno.isin(t_1.dno)]\n",
    "\n",
    "um.shape"
   ]
  },
  {
   "cell_type": "code",
   "execution_count": 30,
   "metadata": {
    "collapsed": false,
    "scrolled": true
   },
   "outputs": [
    {
     "data": {
      "text/html": [
       "<div>\n",
       "<table border=\"1\" class=\"dataframe\">\n",
       "  <thead>\n",
       "    <tr style=\"text-align: right;\">\n",
       "      <th></th>\n",
       "      <th>dno</th>\n",
       "      <th>clean_first_name</th>\n",
       "      <th>clean_middle_name</th>\n",
       "      <th>clean_last_name</th>\n",
       "      <th>application_year_min</th>\n",
       "      <th>application_year_max</th>\n",
       "      <th>dno_medical_school</th>\n",
       "      <th>medical_school</th>\n",
       "    </tr>\n",
       "  </thead>\n",
       "  <tbody>\n",
       "  </tbody>\n",
       "</table>\n",
       "</div>"
      ],
      "text/plain": [
       "Empty DataFrame\n",
       "Columns: [dno, clean_first_name, clean_middle_name, clean_last_name, application_year_min, application_year_max, dno_medical_school, medical_school]\n",
       "Index: []"
      ]
     },
     "execution_count": 30,
     "metadata": {},
     "output_type": "execute_result"
    },
    {
     "name": "stdout",
     "output_type": "stream",
     "text": [
      "time: 16.9 ms\n"
     ]
    }
   ],
   "source": [
    "um"
   ]
  },
  {
   "cell_type": "code",
   "execution_count": 31,
   "metadata": {
    "collapsed": false,
    "scrolled": false
   },
   "outputs": [
    {
     "name": "stdout",
     "output_type": "stream",
     "text": [
      "time: 11.1 ms\n"
     ]
    }
   ],
   "source": [
    "# t2 = pd.merge(left=apps4, right=um, on=['clean_last_name', 'clean_first_name'], how='inner', suffixes=['_x', '_y'])\n",
    "# print t2.shape\n",
    "# print um.shape\n",
    "\n",
    "# t2['sim'] = t2[['medical_school_x', 'medical_school_y']].apply(get_name_str_sim, axis=1)\n",
    "\n",
    "# t2['clean_middle_name'] = t2['clean_middle_name_y']\n",
    "\n",
    "# t2_1 = t2.sort_values(['dno', 'sim'], ascending=False).drop_duplicates(['dno'], keep='first')\n",
    "# t2_1.shape"
   ]
  },
  {
   "cell_type": "code",
   "execution_count": 32,
   "metadata": {
    "collapsed": false,
    "scrolled": false
   },
   "outputs": [
    {
     "name": "stdout",
     "output_type": "stream",
     "text": [
      "time: 12.5 ms\n"
     ]
    }
   ],
   "source": [
    "t3 = t_1[NAME_COLS+['dno', PERSON_ID]]\n",
    "# t3 = pd.concat([t2_1[NAME_COLS+['dno', PERSON_ID]], t_1[NAME_COLS+['dno', PERSON_ID]]], axis=0)"
   ]
  },
  {
   "cell_type": "code",
   "execution_count": 33,
   "metadata": {
    "collapsed": false,
    "scrolled": false
   },
   "outputs": [
    {
     "name": "stdout",
     "output_type": "stream",
     "text": [
      "(4159, 89)\n",
      "(103, 5)\n",
      "(104, 8)\n",
      "time: 27.6 ms\n"
     ]
    }
   ],
   "source": [
    "man_dno = pd.merge(left=apps4, right=t3, on=PERSON_ID, how='left', suffixes=['_x', '_y'])\n",
    "print man_dno.shape\n",
    "print t3.shape\n",
    "print man.shape"
   ]
  },
  {
   "cell_type": "code",
   "execution_count": 34,
   "metadata": {
    "collapsed": false,
    "scrolled": false
   },
   "outputs": [
    {
     "name": "stdout",
     "output_type": "stream",
     "text": [
      "time: 32.7 ms\n"
     ]
    }
   ],
   "source": [
    "mask = ~pd.isnull(man_dno.clean_last_name_y)\n",
    "man_dno = man_dno.rename(columns={'clean_last_name_x': 'clean_last_name', 'clean_first_name_x': 'clean_first_name', \n",
    "                       'clean_middle_name_x': 'clean_middle_name'})\n",
    "mask = ~pd.isnull(man_dno.clean_last_name_y)\n",
    "man_dno.loc[mask, 'clean_last_name'] = man_dno.loc[mask, 'clean_last_name_y']\n",
    "mask = ~pd.isnull(man_dno.clean_first_name_y)\n",
    "man_dno.loc[mask, 'clean_first_name'] = man_dno.loc[mask, 'clean_first_name_y']\n",
    "mask = ~pd.isnull(man_dno.clean_middle_name_y)\n",
    "man_dno.loc[mask, 'clean_middle_name'] = man_dno.loc[mask, 'clean_middle_name_y']"
   ]
  },
  {
   "cell_type": "code",
   "execution_count": 35,
   "metadata": {
    "collapsed": false,
    "scrolled": false
   },
   "outputs": [
    {
     "name": "stdout",
     "output_type": "stream",
     "text": [
      "time: 19.1 ms\n"
     ]
    }
   ],
   "source": [
    "apps5 = man_dno.loc[pd.isnull(man_dno['dno']), :].drop(['dno', 'clean_middle_name_y', 'clean_first_name_y', 'clean_last_name_y'], axis=1) "
   ]
  },
  {
   "cell_type": "code",
   "execution_count": 36,
   "metadata": {
    "collapsed": false,
    "scrolled": false
   },
   "outputs": [
    {
     "name": "stdout",
     "output_type": "stream",
     "text": [
      "time: 38.9 ms\n"
     ]
    }
   ],
   "source": [
    "# remove females from data set\n",
    "female_mask = (NIH.clean_first_name.isin(FEMALE_FIRST_NAMES))  \n",
    "NIH.loc[female_mask, 'is_female'] = 1\n",
    "\n",
    "\n",
    "female_mask = (apps5.clean_first_name.isin(FEMALE_FIRST_NAMES))  \n",
    "apps5.loc[female_mask, 'is_female'] = 1"
   ]
  },
  {
   "cell_type": "code",
   "execution_count": 37,
   "metadata": {
    "collapsed": false,
    "scrolled": false
   },
   "outputs": [
    {
     "name": "stdout",
     "output_type": "stream",
     "text": [
      "time: 11.3 ms\n"
     ]
    }
   ],
   "source": [
    "def get_first_letter(str_var):\n",
    "    if pd.isnull(str_var) or str_var=='':\n",
    "        return np.nan\n",
    "    return str_var[0]"
   ]
  },
  {
   "cell_type": "code",
   "execution_count": 38,
   "metadata": {
    "collapsed": false,
    "scrolled": false
   },
   "outputs": [
    {
     "name": "stdout",
     "output_type": "stream",
     "text": [
      "time: 17.4 ms\n"
     ]
    }
   ],
   "source": [
    "NIH['clean_first_initial'] = NIH.clean_first_name.apply(get_first_letter)\n",
    "NIH['clean_middle_initial'] = NIH.clean_middle_name.apply(get_first_letter)"
   ]
  },
  {
   "cell_type": "code",
   "execution_count": 39,
   "metadata": {
    "collapsed": false,
    "scrolled": false
   },
   "outputs": [
    {
     "name": "stdout",
     "output_type": "stream",
     "text": [
      "(4012, 33)\n",
      "(4056, 85)\n",
      "time: 10.9 ms\n"
     ]
    }
   ],
   "source": [
    "print NIH.shape\n",
    "print  apps5.shape"
   ]
  },
  {
   "cell_type": "code",
   "execution_count": 40,
   "metadata": {
    "collapsed": false,
    "scrolled": false
   },
   "outputs": [
    {
     "name": "stdout",
     "output_type": "stream",
     "text": [
      "time: 10.5 ms\n"
     ]
    }
   ],
   "source": [
    "# After cleaning apps2 to match cleaning in Clean NIH Applicant notebook, we try to start merging\n",
    "sims_cols = ['medical_school_sim', 'clean_middle_name_sim', 'clean_first_name_sim']"
   ]
  },
  {
   "cell_type": "code",
   "execution_count": 41,
   "metadata": {
    "collapsed": false,
    "scrolled": false
   },
   "outputs": [
    {
     "name": "stdout",
     "output_type": "stream",
     "text": [
      "(4012, 118)\n",
      "time: 5min 37s\n"
     ]
    }
   ],
   "source": [
    "NIH['fuzzy_merge_col'] = NIH[\n",
    "    ['clean_first_name', 'clean_middle_name', 'clean_last_name']].apply(create_str_merge, axis=1)\n",
    "apps5['fuzzy_merge_col'] = apps5[\n",
    "    ['clean_first_name', 'clean_middle_name', 'clean_last_name']].apply(create_str_merge, axis=1)\n",
    "match1 = df_get_closest_matches(apps5, NIH, 'fuzzy_merge_col', suffixes=['_x', '_y']) \n",
    "print match1.shape"
   ]
  },
  {
   "cell_type": "code",
   "execution_count": 42,
   "metadata": {
    "collapsed": false,
    "scrolled": false
   },
   "outputs": [
    {
     "name": "stdout",
     "output_type": "stream",
     "text": [
      "time: 27.8 ms\n"
     ]
    }
   ],
   "source": [
    "# add last name counter to each\n",
    "app_counter = Counter(apps4.clean_last_name.values)\n",
    "NIH_counter = Counter(NIH.clean_last_name.values)\n",
    "match1['last_name_counts_x'] = match1.clean_last_name_x.apply(lambda x: app_counter[x])\n",
    "match1['last_name_counts_y'] = match1.clean_last_name_y.apply(lambda x: NIH_counter[x])\n"
   ]
  },
  {
   "cell_type": "code",
   "execution_count": 43,
   "metadata": {
    "collapsed": false,
    "scrolled": false
   },
   "outputs": [
    {
     "name": "stdout",
     "output_type": "stream",
     "text": [
      "time: 2.85 s\n"
     ]
    }
   ],
   "source": [
    "def check_match(row):\n",
    "    # address and application year match\n",
    "    app_eod_year_diff = abs(row['application_year'] - row['eod_year'])\n",
    "    if row['clean_last_name_sim'] < 60 or app_eod_year_diff > 8:\n",
    "        return 0\n",
    "    \n",
    "    # the first and middle name seem to be mixed up in index card data set\n",
    "    mixed_sim1 =  get_name_str_sim(row[['clean_middle_name_x', 'clean_first_name_y']])\n",
    "    mixed_sim2 =  get_name_str_sim(row[['clean_middle_name_y', 'clean_first_name_x']])\n",
    "    \n",
    "    mix_sim = max(mixed_sim1, mixed_sim2)\n",
    "    if pd.isnull(mix_sim):\n",
    "        mix_sim = 0\n",
    "    if (mix_sim > 90) and row['medical_school_sim'] > 80:\n",
    "        return 1\n",
    "    if row['last_name_counts_x'] < 2 and row['last_name_counts_y'] < 2:\n",
    "        return 1\n",
    "    if (mix_sim > 90) and pd.isnull(row['medical_school_sim']) and (app_eod_year_diff < 5):\n",
    "        return 1\n",
    "    if not pd.isnull(row['clean_first_name_sim']) and row['clean_first_name_sim'] < 50:\n",
    "        return 0\n",
    "    # if matching application year and med schools match\n",
    "    if (app_eod_year_diff < 5) and row['medical_school_sim'] > 80:\n",
    "        return 1\n",
    "    # first and middle names match or first\n",
    "    if (app_eod_year_diff < 5) and row['clean_first_name_sim'] > 80:\n",
    "        return 1\n",
    "    return 0\n",
    "\n",
    "\n",
    "feature_dict = {\n",
    "    'clean_first_name': get_name_str_sim,\n",
    "    'clean_middle_name': get_name_str_sim,\n",
    "    'clean_last_name': get_name_str_sim,\n",
    "    'medical_school': get_name_str_sim,\n",
    "}\n",
    "\n",
    "match2 = add_similarity_features(match1, feature_dict, check_match, suffixes=['_x', '_y'])"
   ]
  },
  {
   "cell_type": "code",
   "execution_count": 44,
   "metadata": {
    "collapsed": false,
    "scrolled": false
   },
   "outputs": [
    {
     "name": "stdout",
     "output_type": "stream",
     "text": [
      "time: 11 ms\n"
     ]
    }
   ],
   "source": [
    "# match2.loc[(match2.is_match==2), sims_cols+['is_match', 'clean_first_name_x', 'clean_first_name_y',\n",
    "#                         'clean_last_name_x', 'clean_last_name_y','medical_school_x', 'medical_school_y', PERSON_ID, NIH_ID]]"
   ]
  },
  {
   "cell_type": "code",
   "execution_count": 45,
   "metadata": {
    "collapsed": false,
    "scrolled": false
   },
   "outputs": [
    {
     "name": "stdout",
     "output_type": "stream",
     "text": [
      "(2671, 125)\n",
      "time: 28.1 ms\n"
     ]
    }
   ],
   "source": [
    "# select out people who match and make sure each person id and dno only 1x in data set\n",
    "match3 = match2[match2.is_match==1].sort_values(['clean_last_name_x']+sims_cols, ascending=False).dropna(\n",
    "    axis=0, subset=[RAW_CARD_ID])\n",
    "print match3.shape"
   ]
  },
  {
   "cell_type": "code",
   "execution_count": 46,
   "metadata": {
    "collapsed": false,
    "scrolled": false
   },
   "outputs": [
    {
     "data": {
      "text/html": [
       "<div>\n",
       "<table border=\"1\" class=\"dataframe\">\n",
       "  <thead>\n",
       "    <tr style=\"text-align: right;\">\n",
       "      <th></th>\n",
       "      <th>Unnamed: 0</th>\n",
       "      <th>citizenship</th>\n",
       "      <th>clean_first_initial</th>\n",
       "      <th>clean_first_name</th>\n",
       "      <th>clean_last_name</th>\n",
       "      <th>medical_school</th>\n",
       "      <th>clean_middle_initial</th>\n",
       "      <th>clean_middle_name</th>\n",
       "      <th>clean_suffix</th>\n",
       "      <th>count_missing</th>\n",
       "      <th>...</th>\n",
       "      <th>res_dates</th>\n",
       "      <th>residency_hospital</th>\n",
       "      <th>residency</th>\n",
       "      <th>source</th>\n",
       "      <th>ssn</th>\n",
       "      <th>supervisor</th>\n",
       "      <th>unknown</th>\n",
       "      <th>year_grad</th>\n",
       "      <th>is_female</th>\n",
       "      <th>fuzzy_merge_col</th>\n",
       "    </tr>\n",
       "  </thead>\n",
       "  <tbody>\n",
       "    <tr>\n",
       "      <th>2926</th>\n",
       "      <td>0</td>\n",
       "      <td>NaN</td>\n",
       "      <td>R</td>\n",
       "      <td>RICHARD</td>\n",
       "      <td>ADLER</td>\n",
       "      <td>VANDERBILT UNIVERSITY SCHOOL OF MEDICINE</td>\n",
       "      <td>D</td>\n",
       "      <td>DAVID</td>\n",
       "      <td>NaN</td>\n",
       "      <td>1.0</td>\n",
       "      <td>...</td>\n",
       "      <td>1970-1971</td>\n",
       "      <td>Johns Hopkins Hospital</td>\n",
       "      <td>Pediatrics</td>\n",
       "      <td>NIH EDUCATION</td>\n",
       "      <td>NaN</td>\n",
       "      <td>Whedon</td>\n",
       "      <td>NaN</td>\n",
       "      <td>1969.0</td>\n",
       "      <td>NaN</td>\n",
       "      <td>RICHARD DAVID ADLER</td>\n",
       "    </tr>\n",
       "    <tr>\n",
       "      <th>3027</th>\n",
       "      <td>2173</td>\n",
       "      <td>NaN</td>\n",
       "      <td>R</td>\n",
       "      <td>RICHARD</td>\n",
       "      <td>ADLER</td>\n",
       "      <td>VANDERBILT UNIVERSITY SCHOOL OF MEDICINE</td>\n",
       "      <td>NaN</td>\n",
       "      <td>NaN</td>\n",
       "      <td>NaN</td>\n",
       "      <td>1.0</td>\n",
       "      <td>...</td>\n",
       "      <td>1960-1961</td>\n",
       "      <td>Johns Hopkins Hospital</td>\n",
       "      <td>Pediatrics</td>\n",
       "      <td>NIH EDUCATION</td>\n",
       "      <td>NaN</td>\n",
       "      <td>NaN</td>\n",
       "      <td>NaN</td>\n",
       "      <td>1959.0</td>\n",
       "      <td>NaN</td>\n",
       "      <td>RICHARD ADLER</td>\n",
       "    </tr>\n",
       "    <tr>\n",
       "      <th>3628</th>\n",
       "      <td>1969</td>\n",
       "      <td>NaN</td>\n",
       "      <td>S</td>\n",
       "      <td>STUART</td>\n",
       "      <td>ADLER</td>\n",
       "      <td>JOHNS HOPKINS UNIVERSITY SCHOOL OF MEDICINE</td>\n",
       "      <td>P</td>\n",
       "      <td>PHILLIP</td>\n",
       "      <td>NaN</td>\n",
       "      <td>2.0</td>\n",
       "      <td>...</td>\n",
       "      <td>NaN</td>\n",
       "      <td>NaN</td>\n",
       "      <td>NaN</td>\n",
       "      <td>NIH EDUCATION</td>\n",
       "      <td>NaN</td>\n",
       "      <td>NaN</td>\n",
       "      <td>NaN</td>\n",
       "      <td>1971.0</td>\n",
       "      <td>NaN</td>\n",
       "      <td>STUART PHILLIP ADLER</td>\n",
       "    </tr>\n",
       "  </tbody>\n",
       "</table>\n",
       "<p>3 rows × 34 columns</p>\n",
       "</div>"
      ],
      "text/plain": [
       "      Unnamed: 0  citizenship clean_first_initial clean_first_name  \\\n",
       "2926           0          NaN                   R          RICHARD   \n",
       "3027        2173          NaN                   R          RICHARD   \n",
       "3628        1969          NaN                   S           STUART   \n",
       "\n",
       "     clean_last_name                               medical_school  \\\n",
       "2926           ADLER     VANDERBILT UNIVERSITY SCHOOL OF MEDICINE   \n",
       "3027           ADLER     VANDERBILT UNIVERSITY SCHOOL OF MEDICINE   \n",
       "3628           ADLER  JOHNS HOPKINS UNIVERSITY SCHOOL OF MEDICINE   \n",
       "\n",
       "     clean_middle_initial clean_middle_name clean_suffix  count_missing  \\\n",
       "2926                    D             DAVID          NaN            1.0   \n",
       "3027                  NaN               NaN          NaN            1.0   \n",
       "3628                    P           PHILLIP          NaN            2.0   \n",
       "\n",
       "              ...           res_dates      residency_hospital   residency  \\\n",
       "2926          ...           1970-1971  Johns Hopkins Hospital  Pediatrics   \n",
       "3027          ...           1960-1961  Johns Hopkins Hospital  Pediatrics   \n",
       "3628          ...                 NaN                     NaN         NaN   \n",
       "\n",
       "             source ssn  supervisor  unknown  year_grad is_female  \\\n",
       "2926  NIH EDUCATION NaN      Whedon      NaN     1969.0       NaN   \n",
       "3027  NIH EDUCATION NaN         NaN      NaN     1959.0       NaN   \n",
       "3628  NIH EDUCATION NaN         NaN      NaN     1971.0       NaN   \n",
       "\n",
       "           fuzzy_merge_col  \n",
       "2926   RICHARD DAVID ADLER  \n",
       "3027         RICHARD ADLER  \n",
       "3628  STUART PHILLIP ADLER  \n",
       "\n",
       "[3 rows x 34 columns]"
      ]
     },
     "execution_count": 46,
     "metadata": {},
     "output_type": "execute_result"
    },
    {
     "name": "stdout",
     "output_type": "stream",
     "text": [
      "time: 53.1 ms\n"
     ]
    }
   ],
   "source": [
    "# match2[match2.clean_last_name_x=='ADLER']\n",
    "NIH[NIH.clean_last_name=='ADLER']"
   ]
  },
  {
   "cell_type": "code",
   "execution_count": 47,
   "metadata": {
    "collapsed": false,
    "scrolled": false
   },
   "outputs": [
    {
     "name": "stdout",
     "output_type": "stream",
     "text": [
      "time: 17.1 ms\n"
     ]
    }
   ],
   "source": [
    "def filter_one_match_per_group(df, dedupe_col, sim_cols):\n",
    "    # to merge cols should be a dict the names of the extra cols to merge in\n",
    "    # values should be col names to rename\n",
    "    # sim cols should be name of the columns to use as features\n",
    "    # sim mask should be mask that accounts as actual mask\n",
    "    # dedupe col is name of col to dedupe on\n",
    "\n",
    "    def count_matches(id_list_arr):\n",
    "        # for each id, make sure matched on 1x in data set\n",
    "        # should be applied with rolling apply so takes in a dataframe and must return single value\n",
    "        # unpack already matched ids from string\n",
    "        current_id1 = id_list_arr[-1]\n",
    "        other_matches = id_list_arr[:-1]\n",
    "        is_dup = np.any(other_matches[:] == current_id1)\n",
    "        if is_dup:\n",
    "            return True\n",
    "        return False\n",
    "\n",
    "    # for each uuid, check for duplicates and choose best match based on sim cols\n",
    "    # order of the sim cols should be with most important first\n",
    "    dup_flag = '{}_duplicate'.format(dedupe_col)\n",
    "    df[dup_flag] = 0\n",
    "    df.loc[:, dup_flag] = df[\n",
    "        dedupe_col].expanding(center=False, min_periods=0).apply(func=count_matches)\n",
    "\n",
    "    df_matches = df[df['is_match'] == 1].sort_values([dedupe_col] + sim_cols, ascending=False)\n",
    "    return df_matches.drop_duplicates([dedupe_col], keep='first')\n"
   ]
  },
  {
   "cell_type": "code",
   "execution_count": 48,
   "metadata": {
    "collapsed": false,
    "scrolled": false
   },
   "outputs": [
    {
     "name": "stdout",
     "output_type": "stream",
     "text": [
      "(2632, 126)\n",
      "time: 77.5 ms\n"
     ]
    }
   ],
   "source": [
    "match4 = filter_one_match_per_group(match3, 'raw_uuid', sims_cols)\n",
    "print match4.shape"
   ]
  },
  {
   "cell_type": "code",
   "execution_count": 49,
   "metadata": {
    "collapsed": false,
    "scrolled": false
   },
   "outputs": [
    {
     "name": "stdout",
     "output_type": "stream",
     "text": [
      "(2632, 127)\n",
      "time: 82 ms\n"
     ]
    }
   ],
   "source": [
    "match5 = filter_one_match_per_group(match4, NIH_ID, sims_cols)\n",
    "print match5.shape"
   ]
  },
  {
   "cell_type": "code",
   "execution_count": 50,
   "metadata": {
    "collapsed": false,
    "scrolled": false
   },
   "outputs": [
    {
     "name": "stdout",
     "output_type": "stream",
     "text": [
      "(1420, 86)\n",
      "(1380, 34)\n",
      "time: 18.6 ms\n"
     ]
    }
   ],
   "source": [
    "# get nonmatched NIH people and not matched applicants \n",
    "nm_apps = get_nonmatched(apps5, id_colname=RAW_CARD_ID, matched_ids=match5[RAW_CARD_ID].dropna().values)\n",
    "nm_NIH = get_nonmatched(NIH, id_colname=NIH_ID, matched_ids=match5[NIH_ID].dropna().values)"
   ]
  },
  {
   "cell_type": "code",
   "execution_count": 51,
   "metadata": {
    "collapsed": false,
    "scrolled": false
   },
   "outputs": [
    {
     "name": "stdout",
     "output_type": "stream",
     "text": [
      "(2298, 118)\n",
      "time: 10.6 s\n"
     ]
    }
   ],
   "source": [
    "# do another round of matching just on last name\n",
    "nm_match1 = df_get_closest_matches(nm_apps, nm_NIH, 'clean_last_name', suffixes=['_x', '_y']) \n",
    "print nm_match1.shape\n"
   ]
  },
  {
   "cell_type": "code",
   "execution_count": 52,
   "metadata": {
    "collapsed": false,
    "scrolled": false
   },
   "outputs": [
    {
     "name": "stdout",
     "output_type": "stream",
     "text": [
      "time: 23.9 ms\n"
     ]
    }
   ],
   "source": [
    "def check_match(row):\n",
    "    app_eod_year_diff = abs(row['application_year'] - row['eod_year'])\n",
    "    if app_eod_year_diff > 8:\n",
    "        return 0\n",
    "    \n",
    "    # the first and middle name seem to be mixed up in index card data set\n",
    "    mixed_sim1 =  get_name_str_sim(row[['clean_middle_name_x', 'clean_first_name_y']])\n",
    "    mixed_sim2 =  get_name_str_sim(row[['clean_middle_name_y', 'clean_first_name_x']])\n",
    "    \n",
    "    max_name_sim = max(row['clean_first_name_sim'], row['medical_school_sim'], row['clean_middle_name_sim'])\n",
    "    if max_name_sim < 60:\n",
    "        return 0\n",
    "    mix_sim = max(mixed_sim1, mixed_sim2)\n",
    "    if pd.isnull(mix_sim):\n",
    "        mix_sim = 0\n",
    "    if (mix_sim > 90) and row['medical_school_sim'] > 60:\n",
    "        return 1\n",
    "    if (mix_sim > 90) and pd.isnull(row['medical_school_sim']) and (app_eod_year_diff < 6):\n",
    "        return 1\n",
    "    if not pd.isnull(row['clean_first_name_sim']) and row['clean_first_name_sim'] < 40:\n",
    "        return 0\n",
    "    # if matching application year and med schools match\n",
    "    if (app_eod_year_diff < 6) and row['medical_school_sim'] > 80:\n",
    "        return 1\n",
    "    if not pd.isnull(row['medical_school_sim']) and row['medical_school_sim'] < 40:\n",
    "        return 0\n",
    "    # first and middle names match or first\n",
    "    if (app_eod_year_diff < 6) and row['clean_first_name_sim'] > 80:\n",
    "        return 1\n",
    "    # first and middle names match or first\n",
    "    if (app_eod_year_diff < 6) and row['clean_middle_name_sim'] > 80:\n",
    "        return 1\n",
    "    return 0"
   ]
  },
  {
   "cell_type": "code",
   "execution_count": 53,
   "metadata": {
    "collapsed": false,
    "scrolled": false
   },
   "outputs": [
    {
     "name": "stdout",
     "output_type": "stream",
     "text": [
      "time: 908 ms\n"
     ]
    }
   ],
   "source": [
    "nm_feature_dict = {\n",
    "    'clean_first_name': get_name_str_sim,\n",
    "    'clean_middle_name': get_name_str_sim,\n",
    "    'medical_school': get_name_str_sim,\n",
    "}\n",
    "\n",
    "nm_match2 = add_similarity_features(nm_match1, nm_feature_dict, check_match, suffixes=['_x', '_y'])\n"
   ]
  },
  {
   "cell_type": "code",
   "execution_count": 54,
   "metadata": {
    "collapsed": false,
    "scrolled": false
   },
   "outputs": [
    {
     "name": "stdout",
     "output_type": "stream",
     "text": [
      "time: 15.6 ms\n"
     ]
    }
   ],
   "source": [
    "nm_match3 = nm_match2.loc[(nm_match2.is_match==1) & (nm_match2.index!='MORTON'), :].reset_index(\n",
    "    drop=False).rename(columns={'index': 'clean_last_name'})"
   ]
  },
  {
   "cell_type": "code",
   "execution_count": 55,
   "metadata": {
    "collapsed": false,
    "scrolled": false
   },
   "outputs": [
    {
     "name": "stdout",
     "output_type": "stream",
     "text": [
      "time: 17.5 ms\n"
     ]
    }
   ],
   "source": [
    "# merge the manual people with dno with the dno data set and append to the matches list\n",
    "man_dno2 = man_dno.loc[~pd.isnull(man_dno['dno']), :].drop(['clean_first_name_y', 'clean_middle_name_y',\n",
    "                                                            'clean_last_name_y'], axis=1)\n",
    "man_dno2.loc[:, 'dno'] = man_dno2.dno.astype(int)\n",
    "NIH.loc[:, 'dno'] = NIH.dno.astype(int)"
   ]
  },
  {
   "cell_type": "code",
   "execution_count": 56,
   "metadata": {
    "collapsed": false,
    "scrolled": false
   },
   "outputs": [
    {
     "name": "stdout",
     "output_type": "stream",
     "text": [
      "(103, 86)\n",
      "(100, 119)\n",
      "time: 26.3 ms\n"
     ]
    }
   ],
   "source": [
    "print man_dno2.shape\n",
    "man_dno_merge = pd.merge(left=man_dno2, right=NIH, on='dno', how='inner')\n",
    "print man_dno_merge.shape"
   ]
  },
  {
   "cell_type": "code",
   "execution_count": 57,
   "metadata": {
    "collapsed": false,
    "scrolled": false
   },
   "outputs": [
    {
     "name": "stdout",
     "output_type": "stream",
     "text": [
      "time: 13.8 ms\n"
     ]
    }
   ],
   "source": [
    "man_dno_merge2 = man_dno_merge.rename(columns={'clean_first_name_x': 'clean_first_name2', \n",
    "                                               'clean_middle_name_x': 'clean_middle_name2',\n",
    "                             'clean_last_name_x': 'clean_last_name2'})\n"
   ]
  },
  {
   "cell_type": "code",
   "execution_count": 58,
   "metadata": {
    "collapsed": false,
    "scrolled": false
   },
   "outputs": [
    {
     "name": "stdout",
     "output_type": "stream",
     "text": [
      "(3, 86)\n",
      "time: 14.1 ms\n"
     ]
    }
   ],
   "source": [
    "fails = man_dno2.loc[~man_dno2.dno.isin(man_dno_merge.dno), :]\n",
    "print fails.shape"
   ]
  },
  {
   "cell_type": "code",
   "execution_count": 59,
   "metadata": {
    "collapsed": false,
    "scrolled": false
   },
   "outputs": [
    {
     "name": "stdout",
     "output_type": "stream",
     "text": [
      "time: 45.9 ms\n"
     ]
    }
   ],
   "source": [
    "# append matches together\n",
    "match6 = pd.concat([nm_match3, match5, man_dno_merge2], axis=0)"
   ]
  },
  {
   "cell_type": "code",
   "execution_count": 60,
   "metadata": {
    "collapsed": false,
    "scrolled": false
   },
   "outputs": [
    {
     "name": "stdout",
     "output_type": "stream",
     "text": [
      "(1358, 86)\n",
      "(1241, 34)\n",
      "time: 19.5 ms\n"
     ]
    }
   ],
   "source": [
    "# get nonmatched NIH people and not matched applicants \n",
    "nm_apps2 = get_nonmatched(apps5, id_colname=RAW_CARD_ID, matched_ids=match6[RAW_CARD_ID].dropna().values)\n",
    "nm_NIH2 = get_nonmatched(NIH, id_colname=NIH_ID, matched_ids=match6[NIH_ID].dropna().values)"
   ]
  },
  {
   "cell_type": "code",
   "execution_count": 61,
   "metadata": {
    "collapsed": false,
    "scrolled": false
   },
   "outputs": [
    {
     "name": "stdout",
     "output_type": "stream",
     "text": [
      "(28, 5)\n",
      "time: 16.3 ms\n"
     ]
    }
   ],
   "source": [
    "nm_NIH3 = nm_NIH2.loc[\n",
    "    (nm_NIH2.eod_year< 1976) & (\n",
    "        nm_NIH2.eod_year>1963), NAME_COLS+['medical_school', 'eod_year']].sort_values('clean_last_name')\n",
    "print nm_NIH3.shape"
   ]
  },
  {
   "cell_type": "code",
   "execution_count": 62,
   "metadata": {
    "collapsed": false,
    "scrolled": false
   },
   "outputs": [
    {
     "name": "stdout",
     "output_type": "stream",
     "text": [
      "time: 25.6 ms\n"
     ]
    }
   ],
   "source": [
    "apps_match = nm_apps2.loc[nm_apps2.clean_last_name.isin(nm_NIH3.clean_last_name.values)]\n",
    "test_merge = pd.merge(left=nm_NIH3, right=apps_match, on='clean_last_name', how='inner').sort_values('clean_last_name')\n",
    "test_merge = test_merge[sorted(test_merge.columns)]\n",
    "if OUTPUT_CSV:\n",
    "    test_merge.to_csv(os.path.join(CORRECTIONS_DIR, 'test_merge_missing_NIH.csv'), index=False)"
   ]
  },
  {
   "cell_type": "code",
   "execution_count": 63,
   "metadata": {
    "collapsed": false,
    "scrolled": false
   },
   "outputs": [
    {
     "name": "stdout",
     "output_type": "stream",
     "text": [
      "time: 10.6 ms\n"
     ]
    }
   ],
   "source": [
    "# test_merge[['clean_first_name_x', 'clean_first_name_y', 'clean_middle_name_x', 'clean_middle_name_y']]"
   ]
  },
  {
   "cell_type": "code",
   "execution_count": 64,
   "metadata": {
    "collapsed": false,
    "scrolled": false
   },
   "outputs": [
    {
     "name": "stdout",
     "output_type": "stream",
     "text": [
      "time: 25.2 ms\n"
     ]
    }
   ],
   "source": [
    "match6.loc[pd.isnull(match6.clean_last_name), 'clean_last_name'] =  match6.loc[\n",
    "    pd.isnull(match6.clean_last_name), 'clean_last_name_x']\n",
    "to_drop = [c for c in match6.columns if c.endswith('_sim') or '_counts' in c]\n",
    "match7= match6.drop(to_drop+[\n",
    "        'dup_flag', 'eod_year_diff', 'fuzzy_merge_col_x', 'fuzzy_merge_col_y', 'unknown',\n",
    "        'Unnamed: 0', 'raw_uuid_duplicate', 'dno_duplicate', 'count_missing',\n",
    "                'clean_last_name_x', 'clean_last_name_y', 'is_match'], axis=1)"
   ]
  },
  {
   "cell_type": "code",
   "execution_count": 65,
   "metadata": {
    "collapsed": false,
    "scrolled": false
   },
   "outputs": [
    {
     "name": "stdout",
     "output_type": "stream",
     "text": [
      "['citizenship', 'clean_first_initial', 'clean_first_name', 'clean_middle_initial', 'clean_middle_name', 'clean_suffix', 'intern_dates', 'internship_hospital', 'is_female', 'medical_school', 'res_dates', 'residency_hospital', 'residency']\n",
      "time: 13.9 s\n"
     ]
    }
   ],
   "source": [
    "# consolidate columns in match6\n",
    "match7a = consolidate_merge_cols(match7, ['_x', '_y'], [])"
   ]
  },
  {
   "cell_type": "code",
   "execution_count": 66,
   "metadata": {
    "collapsed": false,
    "scrolled": false
   },
   "outputs": [
    {
     "name": "stdout",
     "output_type": "stream",
     "text": [
      "time: 19.7 ms\n"
     ]
    }
   ],
   "source": [
    "mask = ~pd.isnull(match7a.clean_first_name2)\n",
    "match7a.loc[mask, 'clean_first_name'] = match7a.loc[mask, 'clean_first_name2']\n",
    "\n",
    "mask = ~pd.isnull(match7a.clean_last_name2)\n",
    "match7a.loc[mask, 'clean_last_name'] = match7a.loc[mask, 'clean_last_name2']\n",
    "\n",
    "mask = ~pd.isnull(match7a.clean_middle_name2)\n",
    "match7a.loc[mask, 'clean_middle_name'] = match7a.loc[mask, 'clean_middle_name2']"
   ]
  },
  {
   "cell_type": "code",
   "execution_count": 67,
   "metadata": {
    "collapsed": false,
    "scrolled": false
   },
   "outputs": [
    {
     "name": "stdout",
     "output_type": "stream",
     "text": [
      "['address', 'age', 'application_date', 'application_year', 'application_year_1', 'application_year_2', 'application_year_3', 'associate_program_entered', 'bob', 'ca', 'cc', 'citizenship', 'city', 'clean_college_trans', 'clean_first_initial', 'clean_first_name', 'clean_first_name_y', 'clean_last_name', 'clean_last_name_y', 'clean_middle_initial', 'clean_middle_name', 'clean_middle_name_y', 'clean_suffix', 'clinical', 'cord', 'data_source', 'date_of_birth', 'dbs', u'dno', 'dob', 'duplicate_dno', 'eod_year', 'fifth', 'first_name', 'fuzzy_merge_col', 'generation', 'honor_societies_first', 'honor_societies_fourth', 'honor_societies_second', 'honor_societies_third', 'ic', 'institute', 'intern_dates', 'internship_hospital', 'internship_year(s)', 'is_female', 'lab_brch', 'last_name', 'med_school', 'medical_school', 'medschool_year_grad', 'middle_name', 'nci', 'nei', 'nhi', 'nhli', 'niaid', 'niamd', 'niamdd', 'nichd', 'nichhd', 'nidr', 'niehs', 'nigms', 'nimh', 'nindb', 'ninds', 'oir', 'original_medical_school', 'other', 'person_uuid', 'pharm_ra', 'pi', 'program', 'ra', 'raw_uuid', 'raw_uuid_1', 'raw_uuid_2', 'raw_uuid_3', 'raw_uuid_4', 'raw_uuid_5', 'rejected', 'rejection_date', 'res_dates', 'research', 'residency', 'residency_hospital', 'residency_year(s)', 'reviewer', 'sa', 'sixth', 'source', 'ssn', 'state', 'supervisor', 'teaching', 'to_drop', 'undergrad_year_grad', 'undergraduate_school', 'withdrawal', 'year_accepted', 'year_grad', 'zip_code']\n",
      "(4270, 103)\n",
      "time: 58.8 ms\n"
     ]
    }
   ],
   "source": [
    "match8 = pd.concat([\n",
    "        man_dno[~pd.isnull(man_dno['dno'])], match7a, apps4.loc[\n",
    "            ~apps4[PERSON_ID].isin(match7a[PERSON_ID].values),:]], axis=0).drop(['clean_first_name2', \n",
    "                                                                                'clean_middle_name2', \n",
    "                                                                                'clean_last_name2'], axis=1)\n",
    "print sorted(match8.columns)\n",
    "print match8.shape"
   ]
  },
  {
   "cell_type": "code",
   "execution_count": 68,
   "metadata": {
    "collapsed": false,
    "scrolled": false
   },
   "outputs": [
    {
     "data": {
      "text/html": [
       "<div>\n",
       "<table border=\"1\" class=\"dataframe\">\n",
       "  <thead>\n",
       "    <tr style=\"text-align: right;\">\n",
       "      <th></th>\n",
       "      <th>date_of_birth</th>\n",
       "      <th>dob</th>\n",
       "    </tr>\n",
       "  </thead>\n",
       "  <tbody>\n",
       "  </tbody>\n",
       "</table>\n",
       "</div>"
      ],
      "text/plain": [
       "Empty DataFrame\n",
       "Columns: [date_of_birth, dob]\n",
       "Index: []"
      ]
     },
     "execution_count": 68,
     "metadata": {},
     "output_type": "execute_result"
    },
    {
     "name": "stdout",
     "output_type": "stream",
     "text": [
      "time: 23.1 ms\n"
     ]
    }
   ],
   "source": [
    "# replace date of birth with dob whenever date of birth missing and dob is not\n",
    "match8.loc[\n",
    "    (pd.isnull(match8['date_of_birth'])) & (~pd.isnull(match8['dob'])), 'date_of_birth'] = match8.loc[\n",
    "        (pd.isnull(match8['date_of_birth'])) & (~pd.isnull(match8['dob'])), 'dob']\n",
    "\n",
    "\n",
    "c1 = 'date_of_birth'\n",
    "c2 = 'dob'\n",
    "match8.loc[(pd.isnull(match8[c1])) & (~pd.isnull(match8[c2])), [c1, c2]]"
   ]
  },
  {
   "cell_type": "code",
   "execution_count": 69,
   "metadata": {
    "collapsed": false,
    "scrolled": false
   },
   "outputs": [
    {
     "name": "stdout",
     "output_type": "stream",
     "text": [
      "time: 16.8 ms\n"
     ]
    }
   ],
   "source": [
    "match8.loc[(match8.clean_last_name=='KNOWLER') & (match8.clean_first_name=='JAN'), 'dno'] = 1922\n",
    "match8.loc[\n",
    "    (match8.clean_last_name== 'E ROSS HARVARD') & (match8.clean_first_name=='MICHAEL'), 'clean_last_name'] = 'ROSS'\n"
   ]
  },
  {
   "cell_type": "code",
   "execution_count": 70,
   "metadata": {
    "collapsed": false,
    "scrolled": false
   },
   "outputs": [
    {
     "name": "stdout",
     "output_type": "stream",
     "text": [
      "(4270, 103)\n",
      "(4159, 102)\n",
      "time: 44 ms\n"
     ]
    }
   ],
   "source": [
    "match9 = match8.drop(['dob'], axis=1).reset_index(drop=True).sort_values(\n",
    "    NAME_COLS+['dno']).drop_duplicates(NAME_COLS+['dno']).drop_duplicates(NAME_COLS+[PERSON_ID])\n",
    "# print sorted(match9.columns)\n",
    "print match8.shape\n",
    "print match9.shape"
   ]
  },
  {
   "cell_type": "code",
   "execution_count": 71,
   "metadata": {
    "collapsed": false
   },
   "outputs": [
    {
     "name": "stdout",
     "output_type": "stream",
     "text": [
      "time: 14.9 ms\n"
     ]
    }
   ],
   "source": [
    "# match9.loc[(~pd.isnull(match9.clean_first_name_y)), ['clean_first_name', 'clean_first_name_y']]"
   ]
  },
  {
   "cell_type": "code",
   "execution_count": 72,
   "metadata": {
    "collapsed": false
   },
   "outputs": [
    {
     "name": "stderr",
     "output_type": "stream",
     "text": [
      "/home/lraymond/MIT/Azoulay_2016/yellow_berets/yb/local/lib/python2.7/site-packages/numpy/lib/function_base.py:3834: RuntimeWarning: Invalid value encountered in percentile\n",
      "  RuntimeWarning)\n"
     ]
    },
    {
     "data": {
      "text/plain": [
       "count    4153.000000\n",
       "mean        0.016614\n",
       "std         0.127837\n",
       "min         0.000000\n",
       "25%              NaN\n",
       "50%              NaN\n",
       "75%              NaN\n",
       "max         1.000000\n",
       "Name: is_female, dtype: float64"
      ]
     },
     "execution_count": 72,
     "metadata": {},
     "output_type": "execute_result"
    },
    {
     "name": "stdout",
     "output_type": "stream",
     "text": [
      "time: 60.2 ms\n"
     ]
    }
   ],
   "source": [
    "match9.is_female.describe()"
   ]
  },
  {
   "cell_type": "code",
   "execution_count": 73,
   "metadata": {
    "collapsed": false,
    "scrolled": true
   },
   "outputs": [
    {
     "name": "stdout",
     "output_type": "stream",
     "text": [
      "time: 2.57 s\n"
     ]
    }
   ],
   "source": [
    "# add an international applicant flag\n",
    "# also drop anyone missing first, middle names and med school\n",
    "match9['is_foreign'] = 0\n",
    "match9.loc[:, 'is_foreign'] = match9.medical_school.apply(is_foreign_med_school)"
   ]
  },
  {
   "cell_type": "code",
   "execution_count": 74,
   "metadata": {
    "collapsed": false
   },
   "outputs": [
    {
     "data": {
      "text/plain": [
       "count    4158.000000\n",
       "mean        0.002165\n",
       "std         0.046479\n",
       "min         0.000000\n",
       "25%              NaN\n",
       "50%              NaN\n",
       "75%              NaN\n",
       "max         1.000000\n",
       "Name: is_foreign, dtype: float64"
      ]
     },
     "execution_count": 74,
     "metadata": {},
     "output_type": "execute_result"
    },
    {
     "name": "stdout",
     "output_type": "stream",
     "text": [
      "time: 14.9 ms\n"
     ]
    }
   ],
   "source": [
    "match9.is_foreign.describe()"
   ]
  },
  {
   "cell_type": "code",
   "execution_count": 75,
   "metadata": {
    "collapsed": false,
    "scrolled": false
   },
   "outputs": [
    {
     "name": "stdout",
     "output_type": "stream",
     "text": [
      "time: 17.9 ms\n"
     ]
    }
   ],
   "source": [
    "match9['control_flag'] = 0\n",
    "match9.loc[pd.isnull(match9.dno) & pd.isnull(match9.year_accepted), 'control_flag'] = 1"
   ]
  },
  {
   "cell_type": "code",
   "execution_count": 76,
   "metadata": {
    "collapsed": false
   },
   "outputs": [
    {
     "name": "stdout",
     "output_type": "stream",
     "text": [
      "time: 13.3 ms\n"
     ]
    }
   ],
   "source": [
    "match9.loc[pd.isnull(match9.application_year), 'application_year'] = match9.loc[\n",
    "    pd.isnull(match9.application_year), 'application_year_1']"
   ]
  },
  {
   "cell_type": "code",
   "execution_count": 77,
   "metadata": {
    "collapsed": false
   },
   "outputs": [
    {
     "name": "stdout",
     "output_type": "stream",
     "text": [
      "time: 1.53 s\n"
     ]
    }
   ],
   "source": [
    "def total_number_applications(app_years):\n",
    "    unique_apps_years = app_years.dropna().unique()\n",
    "    return unique_apps_years.shape[0]\n",
    "\n",
    "match9['number_applications'] = match9[\n",
    "    ['application_year', 'application_year_1', 'application_year_2', 'application_year_3']].apply(\n",
    "        total_number_applications, axis=1)"
   ]
  },
  {
   "cell_type": "code",
   "execution_count": 78,
   "metadata": {
    "collapsed": false
   },
   "outputs": [
    {
     "name": "stdout",
     "output_type": "stream",
     "text": [
      "time: 11.4 ms\n"
     ]
    }
   ],
   "source": [
    "def applications_max_min(app_years, fnc):\n",
    "    unique_apps_years = app_years.dropna().unique()\n",
    "    if unique_apps_years.shape[0] == 0:\n",
    "        print app_years\n",
    "        return np.nan\n",
    "    return fnc(unique_apps_years)"
   ]
  },
  {
   "cell_type": "code",
   "execution_count": 79,
   "metadata": {
    "collapsed": false
   },
   "outputs": [
    {
     "name": "stdout",
     "output_type": "stream",
     "text": [
      "application_year     NaN\n",
      "application_year_1   NaN\n",
      "application_year_2   NaN\n",
      "application_year_3   NaN\n",
      "Name: 3962, dtype: float64\n",
      "application_year     NaN\n",
      "application_year_1   NaN\n",
      "application_year_2   NaN\n",
      "application_year_3   NaN\n",
      "Name: 3730, dtype: float64\n",
      "application_year     NaN\n",
      "application_year_1   NaN\n",
      "application_year_2   NaN\n",
      "application_year_3   NaN\n",
      "Name: 3731, dtype: float64\n",
      "time: 1.54 s\n"
     ]
    }
   ],
   "source": [
    "match9['application_year_max'] = match9[\n",
    "    ['application_year', 'application_year_1', 'application_year_2', 'application_year_3']].apply(\n",
    "        funcy.rpartial(applications_max_min, max), axis=1)\n"
   ]
  },
  {
   "cell_type": "code",
   "execution_count": 80,
   "metadata": {
    "collapsed": false
   },
   "outputs": [
    {
     "name": "stdout",
     "output_type": "stream",
     "text": [
      "application_year     NaN\n",
      "application_year_1   NaN\n",
      "application_year_2   NaN\n",
      "application_year_3   NaN\n",
      "Name: 3962, dtype: float64\n",
      "application_year     NaN\n",
      "application_year_1   NaN\n",
      "application_year_2   NaN\n",
      "application_year_3   NaN\n",
      "Name: 3730, dtype: float64\n",
      "application_year     NaN\n",
      "application_year_1   NaN\n",
      "application_year_2   NaN\n",
      "application_year_3   NaN\n",
      "Name: 3731, dtype: float64\n",
      "time: 1.56 s\n"
     ]
    }
   ],
   "source": [
    "match9['application_year_min'] = match9[\n",
    "    ['application_year', 'application_year_1', 'application_year_2', 'application_year_3']].apply(\n",
    "        funcy.rpartial(applications_max_min, min), axis=1)\n"
   ]
  },
  {
   "cell_type": "code",
   "execution_count": 81,
   "metadata": {
    "collapsed": false
   },
   "outputs": [
    {
     "name": "stdout",
     "output_type": "stream",
     "text": [
      "time: 17.7 ms\n"
     ]
    }
   ],
   "source": [
    "match9['time_period_flag'] = 0\n",
    "match9.loc[(match9.application_year_max>1964) & (match9.application_year_max<1976), 'time_period_flag'] = 1"
   ]
  },
  {
   "cell_type": "code",
   "execution_count": 82,
   "metadata": {
    "collapsed": false
   },
   "outputs": [
    {
     "name": "stdout",
     "output_type": "stream",
     "text": [
      "(4159, 108)\n",
      "(3617, 108)\n",
      "time: 17.3 ms\n"
     ]
    }
   ],
   "source": [
    "# delete people missing first and middle names\n",
    "print match9.shape\n",
    "match9A = match9.loc[(~pd.isnull(match9.clean_first_name) & ~pd.isnull(match9.clean_middle_name)), :]\n",
    "print match9A.shape"
   ]
  },
  {
   "cell_type": "code",
   "execution_count": 83,
   "metadata": {
    "collapsed": false,
    "scrolled": false
   },
   "outputs": [
    {
     "name": "stderr",
     "output_type": "stream",
     "text": [
      "/home/lraymond/MIT/Azoulay_2016/yellow_berets/yb/local/lib/python2.7/site-packages/pandas/core/frame.py:2754: SettingWithCopyWarning: \n",
      "A value is trying to be set on a copy of a slice from a DataFrame\n",
      "\n",
      "See the caveats in the documentation: http://pandas.pydata.org/pandas-docs/stable/indexing.html#indexing-view-versus-copy\n",
      "  **kwargs)\n"
     ]
    },
    {
     "name": "stdout",
     "output_type": "stream",
     "text": [
      "time: 348 ms\n"
     ]
    }
   ],
   "source": [
    "match9A.rename(columns={'res_dates': 'residency_dates', 'intern_dates': 'internship_dates', \n",
    "                      'clean_college_trans': 'clean_college'}, inplace=True)\n",
    "\n",
    "IMPORTANT_COLS = [NIH_ID, PERSON_ID, 'application_year_min', 'application_year_max', 'eod_year',\n",
    "                  'clean_first_name', 'clean_middle_name', \n",
    "                 'clean_last_name', 'control_flag', 'time_period_flag', 'year_accepted', 'rejected', 'rejection_date', 'clean_college', 'medical_school',\n",
    "                'residency_dates', 'internship_dates', 'is_female', 'is_foreign', 'number_applications']\n",
    "\n",
    "other_cols = sorted([i for i in match9A.columns if i not in IMPORTANT_COLS])\n",
    "\n",
    "# order columns so important ones are \n",
    "match10 = match9A[IMPORTANT_COLS+other_cols].sort_values(['clean_last_name', 'clean_first_name', 'application_year_max']).drop(\n",
    "    ['clean_first_name_y', 'clean_middle_name_y', 'clean_last_name_y'], axis=1)\n",
    "\n",
    "match11 = match10.dropna(subset=[PERSON_ID], axis=0).sort_values(['clean_last_name', 'clean_first_name'])\n",
    "\n",
    "# wide_apps5.to_pickle(os.path.join(APP_DATA_DIR, 'all_apps_plus_NIH_info.p'))\n",
    "match11.to_csv(os.path.join(APP_DATA_DIR, 'fuzzy_all_apps_plus_NIH_info.csv'), index=False)"
   ]
  },
  {
   "cell_type": "code",
   "execution_count": 84,
   "metadata": {
    "collapsed": false,
    "scrolled": false
   },
   "outputs": [
    {
     "data": {
      "text/html": [
       "<div>\n",
       "<table border=\"1\" class=\"dataframe\">\n",
       "  <thead>\n",
       "    <tr style=\"text-align: right;\">\n",
       "      <th></th>\n",
       "      <th>clean_middle_name</th>\n",
       "      <th>clean_last_name</th>\n",
       "      <th>clean_first_name</th>\n",
       "      <th>person_uuid</th>\n",
       "      <th>medical_school</th>\n",
       "      <th>application_year</th>\n",
       "      <th>dno</th>\n",
       "      <th>residency</th>\n",
       "      <th>residency_hospital</th>\n",
       "      <th>internship_hospital</th>\n",
       "      <th>residency_dates</th>\n",
       "    </tr>\n",
       "  </thead>\n",
       "  <tbody>\n",
       "    <tr>\n",
       "      <th>1182</th>\n",
       "      <td>EDGAR</td>\n",
       "      <td>MILLER</td>\n",
       "      <td>A</td>\n",
       "      <td>0.0</td>\n",
       "      <td>UNIVERSITY OF MIAMI SCHOOL OF MEDICINE</td>\n",
       "      <td>1969.0</td>\n",
       "      <td>2539.0</td>\n",
       "      <td>DERMATOLOGY</td>\n",
       "      <td>UNIVERSITY OF MIAMI</td>\n",
       "      <td>UNIVERSITY OF MIAMI</td>\n",
       "      <td>1970-1971</td>\n",
       "    </tr>\n",
       "    <tr>\n",
       "      <th>3295</th>\n",
       "      <td>MICHAEL</td>\n",
       "      <td>MILLER</td>\n",
       "      <td>ALAN</td>\n",
       "      <td>54.0</td>\n",
       "      <td>ALBANY MEDICAL COLLEGE</td>\n",
       "      <td>1970.0</td>\n",
       "      <td>NaN</td>\n",
       "      <td>NaN</td>\n",
       "      <td>NaN</td>\n",
       "      <td>MOUNT SINAI MEDICAL CENTER</td>\n",
       "      <td>NaN</td>\n",
       "    </tr>\n",
       "    <tr>\n",
       "      <th>1181</th>\n",
       "      <td>LEWIS</td>\n",
       "      <td>MILLER</td>\n",
       "      <td>ALEXANDER</td>\n",
       "      <td>91.0</td>\n",
       "      <td>WASHINGTON UNIVERSITY SCHOOL OF MEDICINE</td>\n",
       "      <td>1970.0</td>\n",
       "      <td>2540.0</td>\n",
       "      <td>Dermatology</td>\n",
       "      <td>NaN</td>\n",
       "      <td>JEWISH HOSPITAL OF SAINT LOUIS</td>\n",
       "      <td>1970-1971</td>\n",
       "    </tr>\n",
       "    <tr>\n",
       "      <th>1180</th>\n",
       "      <td>PHILIP</td>\n",
       "      <td>MILLER</td>\n",
       "      <td>DAVID</td>\n",
       "      <td>703.0</td>\n",
       "      <td>UNIVERSITY OF PITTSBURGH SCHOOL OF MEDICINE</td>\n",
       "      <td>1969.0</td>\n",
       "      <td>2541.0</td>\n",
       "      <td>MEDICINE</td>\n",
       "      <td>GEORGETOWN UNIVERSITY</td>\n",
       "      <td>GEORGETOWN UNIVERSITY</td>\n",
       "      <td>1970</td>\n",
       "    </tr>\n",
       "    <tr>\n",
       "      <th>20</th>\n",
       "      <td>MAX</td>\n",
       "      <td>MILLER</td>\n",
       "      <td>DONALD</td>\n",
       "      <td>823.0</td>\n",
       "      <td>DUKE MEDICAL SCHOOL</td>\n",
       "      <td>1973.0</td>\n",
       "      <td>2542.0</td>\n",
       "      <td>MEDICINE</td>\n",
       "      <td>PETER BENT BRIGHAM HOSPITAL</td>\n",
       "      <td>PETER BENT BRIGHAM HOSPITAL</td>\n",
       "      <td>1974-1975</td>\n",
       "    </tr>\n",
       "    <tr>\n",
       "      <th>1179</th>\n",
       "      <td>J</td>\n",
       "      <td>MILLER</td>\n",
       "      <td>EDWARD</td>\n",
       "      <td>899.0</td>\n",
       "      <td>NaN</td>\n",
       "      <td>1966.0</td>\n",
       "      <td>2543.0</td>\n",
       "      <td>NaN</td>\n",
       "      <td>NaN</td>\n",
       "      <td>NaN</td>\n",
       "      <td>NaN</td>\n",
       "    </tr>\n",
       "    <tr>\n",
       "      <th>2984</th>\n",
       "      <td>TOBIAS</td>\n",
       "      <td>MILLER</td>\n",
       "      <td>FRANK</td>\n",
       "      <td>1046.0</td>\n",
       "      <td>YALE UNIVERSITY SCHOOL OF MEDICINE</td>\n",
       "      <td>1971.0</td>\n",
       "      <td>NaN</td>\n",
       "      <td>NaN</td>\n",
       "      <td>NaN</td>\n",
       "      <td>MOUNT ZION HOSPITAL AND MEDICAL CENTER</td>\n",
       "      <td>NaN</td>\n",
       "    </tr>\n",
       "    <tr>\n",
       "      <th>1177</th>\n",
       "      <td>F</td>\n",
       "      <td>MILLER</td>\n",
       "      <td>GEORGE</td>\n",
       "      <td>1147.0</td>\n",
       "      <td>GEORGE WASHINGTON UNIVERSITY SCHOOL OF MEDICINE</td>\n",
       "      <td>1958.0</td>\n",
       "      <td>2546.0</td>\n",
       "      <td>NaN</td>\n",
       "      <td>NaN</td>\n",
       "      <td>Duke University Hospital</td>\n",
       "      <td>NaN</td>\n",
       "    </tr>\n",
       "    <tr>\n",
       "      <th>83</th>\n",
       "      <td>BAYLESS</td>\n",
       "      <td>MILLER</td>\n",
       "      <td>HALBERT</td>\n",
       "      <td>1269.0</td>\n",
       "      <td>UNIVERSITY OF TENNESSEE HEALTH SCIENCE CENTER ...</td>\n",
       "      <td>1967.0</td>\n",
       "      <td>2548.0</td>\n",
       "      <td>PSYCHIATRY</td>\n",
       "      <td>MASSACHUSETTS MENTAL HEALTH CENTER</td>\n",
       "      <td>STANFORD UNIVERSITY HOSPITAL</td>\n",
       "      <td>1968-1969</td>\n",
       "    </tr>\n",
       "    <tr>\n",
       "      <th>1176</th>\n",
       "      <td>ISAAC</td>\n",
       "      <td>MILLER</td>\n",
       "      <td>HENRY</td>\n",
       "      <td>1349.0</td>\n",
       "      <td>UCSD SCHOOL OF MEDICINE</td>\n",
       "      <td>1974.0</td>\n",
       "      <td>2549.0</td>\n",
       "      <td>MEDICINE</td>\n",
       "      <td>BETH ISRAEL DEACONESS MEDICAL CENTER</td>\n",
       "      <td>BETH ISRAEL DEACONESS MEDICAL CENTER</td>\n",
       "      <td>1976-1977</td>\n",
       "    </tr>\n",
       "    <tr>\n",
       "      <th>3722</th>\n",
       "      <td>GLENN</td>\n",
       "      <td>MILLER</td>\n",
       "      <td>HOWARD</td>\n",
       "      <td>1393.0</td>\n",
       "      <td>UNIVERSITY OF ALABAMA SCHOOL OF MEDICINE</td>\n",
       "      <td>1972.0</td>\n",
       "      <td>NaN</td>\n",
       "      <td>NaN</td>\n",
       "      <td>NaN</td>\n",
       "      <td>NaN</td>\n",
       "      <td>NaN</td>\n",
       "    </tr>\n",
       "    <tr>\n",
       "      <th>148</th>\n",
       "      <td>MAX</td>\n",
       "      <td>MILLER</td>\n",
       "      <td>HOWARD</td>\n",
       "      <td>1380.0</td>\n",
       "      <td>HAHNEMANN SCHOOL OF MEDICINE</td>\n",
       "      <td>1975.0</td>\n",
       "      <td>2542.0</td>\n",
       "      <td>INTERNAL MEDICINE</td>\n",
       "      <td>HAHNEMANN UNIVERSITY</td>\n",
       "      <td>HAHNEMANN UNIVERSITY</td>\n",
       "      <td>1975-1977</td>\n",
       "    </tr>\n",
       "    <tr>\n",
       "      <th>1175</th>\n",
       "      <td>R</td>\n",
       "      <td>MILLER</td>\n",
       "      <td>JAMES</td>\n",
       "      <td>1575.0</td>\n",
       "      <td>NEW YORK UNIVERSITY COLLEGE OF MEDICINE</td>\n",
       "      <td>1964.0</td>\n",
       "      <td>2550.0</td>\n",
       "      <td>MEDICINE</td>\n",
       "      <td>BELLEVUE HOSPITAL CENTER NYC</td>\n",
       "      <td>BELLEVUE HOSPITAL CENTER NYC</td>\n",
       "      <td>1965-1966</td>\n",
       "    </tr>\n",
       "    <tr>\n",
       "      <th>2976</th>\n",
       "      <td>VICTOR</td>\n",
       "      <td>MILLER</td>\n",
       "      <td>JAMES</td>\n",
       "      <td>1595.0</td>\n",
       "      <td>YALE UNIVERSITY SCHOOL OF MEDICINE</td>\n",
       "      <td>1967.0</td>\n",
       "      <td>NaN</td>\n",
       "      <td>MEDICINE</td>\n",
       "      <td>BARNES HOSPITAL</td>\n",
       "      <td>BARNES HOSPITAL</td>\n",
       "      <td>1968-1969</td>\n",
       "    </tr>\n",
       "    <tr>\n",
       "      <th>3435</th>\n",
       "      <td>LEIGH</td>\n",
       "      <td>MILLER</td>\n",
       "      <td>JEFFREY</td>\n",
       "      <td>1671.0</td>\n",
       "      <td>TEMPLE UNIVERSITY SCHOOL OF MEDICINE</td>\n",
       "      <td>1970.0</td>\n",
       "      <td>NaN</td>\n",
       "      <td>NaN</td>\n",
       "      <td>NaN</td>\n",
       "      <td>BUFFALO GENERAL HOSP BUFFALO NY</td>\n",
       "      <td>NaN</td>\n",
       "    </tr>\n",
       "    <tr>\n",
       "      <th>3873</th>\n",
       "      <td>DAVID</td>\n",
       "      <td>MILLER</td>\n",
       "      <td>JEFFREY</td>\n",
       "      <td>1662.0</td>\n",
       "      <td>NEW YORK UNIVERSITY COLLEGE OF MEDICINE</td>\n",
       "      <td>1971.0</td>\n",
       "      <td>NaN</td>\n",
       "      <td>NaN</td>\n",
       "      <td>NaN</td>\n",
       "      <td>ALBERT EINSTEIN COL OF MED YESHIVA UNIV</td>\n",
       "      <td>NaN</td>\n",
       "    </tr>\n",
       "    <tr>\n",
       "      <th>3397</th>\n",
       "      <td>LOUIS</td>\n",
       "      <td>MILLER</td>\n",
       "      <td>JONATHAN</td>\n",
       "      <td>1974.0</td>\n",
       "      <td>UNIVERSITY OF CONNECTICUT SCHOOL OF MEDICINE</td>\n",
       "      <td>1974.0</td>\n",
       "      <td>NaN</td>\n",
       "      <td>NaN</td>\n",
       "      <td>NaN</td>\n",
       "      <td>NaN</td>\n",
       "      <td>NaN</td>\n",
       "    </tr>\n",
       "    <tr>\n",
       "      <th>75</th>\n",
       "      <td>D</td>\n",
       "      <td>MILLER</td>\n",
       "      <td>JORDAN</td>\n",
       "      <td>1985.0</td>\n",
       "      <td>COLUMBIA UNIVERSITY COLLEGE OF PHYSICIANS AND ...</td>\n",
       "      <td>1966.0</td>\n",
       "      <td>2554.0</td>\n",
       "      <td>ANESTHESIOLOGY</td>\n",
       "      <td>PRESBYTERIAN HOSPITAL AND MEDICAL CENTER</td>\n",
       "      <td>MOUNT SINAI SCHOOL OF MEDICINE OF NYU</td>\n",
       "      <td>1967-1970</td>\n",
       "    </tr>\n",
       "    <tr>\n",
       "      <th>3798</th>\n",
       "      <td>ELLIOTT</td>\n",
       "      <td>MILLER</td>\n",
       "      <td>MARVIN</td>\n",
       "      <td>2450.0</td>\n",
       "      <td>YALE UNIVERSITY SCHOOL OF MEDICINE</td>\n",
       "      <td>1972.0</td>\n",
       "      <td>NaN</td>\n",
       "      <td>NaN</td>\n",
       "      <td>NaN</td>\n",
       "      <td>NaN</td>\n",
       "      <td>NaN</td>\n",
       "    </tr>\n",
       "    <tr>\n",
       "      <th>1174</th>\n",
       "      <td>EARL</td>\n",
       "      <td>MILLER</td>\n",
       "      <td>RICHARD</td>\n",
       "      <td>3009.0</td>\n",
       "      <td>UNIVERSITY OF MICHIGAN MEDICAL SCHOOL</td>\n",
       "      <td>1966.0</td>\n",
       "      <td>2558.0</td>\n",
       "      <td>MEDICINE</td>\n",
       "      <td>ALBERT EINSTEIN COL OF MED YESHIVA UNIV</td>\n",
       "      <td>ALBERT EINSTEIN COL OF MED YESHIVA UNIV</td>\n",
       "      <td>1967-1968</td>\n",
       "    </tr>\n",
       "    <tr>\n",
       "      <th>3056</th>\n",
       "      <td>STANLEY</td>\n",
       "      <td>MILLER</td>\n",
       "      <td>SAM</td>\n",
       "      <td>3511.0</td>\n",
       "      <td>JOAN SANFORD I WEILL MEDICAL COLLEGE CORNELL U...</td>\n",
       "      <td>1971.0</td>\n",
       "      <td>NaN</td>\n",
       "      <td>MEDICINE</td>\n",
       "      <td>MAYO CLINIC ROCHESTER</td>\n",
       "      <td>MAYO CLINIC ROCHESTER</td>\n",
       "      <td>1972-1973</td>\n",
       "    </tr>\n",
       "    <tr>\n",
       "      <th>29</th>\n",
       "      <td>LUTHER</td>\n",
       "      <td>MILLER</td>\n",
       "      <td>WALTER</td>\n",
       "      <td>3918.0</td>\n",
       "      <td>DUKE MEDICAL SCHOOL</td>\n",
       "      <td>1970.0</td>\n",
       "      <td>2559.0</td>\n",
       "      <td>PEDIATRICS</td>\n",
       "      <td>MASSACHUSETTS GENERAL HOSPITAL</td>\n",
       "      <td>MASSACHUSETTS GENERAL HOSPITAL</td>\n",
       "      <td>1971-1972</td>\n",
       "    </tr>\n",
       "    <tr>\n",
       "      <th>1173</th>\n",
       "      <td>V</td>\n",
       "      <td>MILLER</td>\n",
       "      <td>WILLIAM</td>\n",
       "      <td>4051.0</td>\n",
       "      <td>UNIVERSITY OF MISSOURI-COLUMBIA SCHOOL OF MEDI...</td>\n",
       "      <td>1966.0</td>\n",
       "      <td>2560.0</td>\n",
       "      <td>NaN</td>\n",
       "      <td>NaN</td>\n",
       "      <td>Strong Memorial Hospital</td>\n",
       "      <td>NaN</td>\n",
       "    </tr>\n",
       "    <tr>\n",
       "      <th>1172</th>\n",
       "      <td>IAN</td>\n",
       "      <td>MILLER</td>\n",
       "      <td>ZACHARY</td>\n",
       "      <td>4091.0</td>\n",
       "      <td>COLUMBIA UNIVERSITY COLLEGE OF PHYSICIANS AND ...</td>\n",
       "      <td>1971.0</td>\n",
       "      <td>2561.0</td>\n",
       "      <td>PEDIATRICS</td>\n",
       "      <td>Stanford University Medical Center</td>\n",
       "      <td>Stanford University Medical Center</td>\n",
       "      <td>1972-1973</td>\n",
       "    </tr>\n",
       "  </tbody>\n",
       "</table>\n",
       "</div>"
      ],
      "text/plain": [
       "     clean_middle_name clean_last_name clean_first_name  person_uuid  \\\n",
       "1182             EDGAR          MILLER                A          0.0   \n",
       "3295           MICHAEL          MILLER             ALAN         54.0   \n",
       "1181             LEWIS          MILLER        ALEXANDER         91.0   \n",
       "1180            PHILIP          MILLER            DAVID        703.0   \n",
       "20                 MAX          MILLER           DONALD        823.0   \n",
       "1179                 J          MILLER           EDWARD        899.0   \n",
       "2984            TOBIAS          MILLER            FRANK       1046.0   \n",
       "1177                 F          MILLER           GEORGE       1147.0   \n",
       "83             BAYLESS          MILLER          HALBERT       1269.0   \n",
       "1176             ISAAC          MILLER            HENRY       1349.0   \n",
       "3722             GLENN          MILLER           HOWARD       1393.0   \n",
       "148                MAX          MILLER           HOWARD       1380.0   \n",
       "1175                 R          MILLER            JAMES       1575.0   \n",
       "2976            VICTOR          MILLER            JAMES       1595.0   \n",
       "3435             LEIGH          MILLER          JEFFREY       1671.0   \n",
       "3873             DAVID          MILLER          JEFFREY       1662.0   \n",
       "3397             LOUIS          MILLER         JONATHAN       1974.0   \n",
       "75                   D          MILLER           JORDAN       1985.0   \n",
       "3798           ELLIOTT          MILLER           MARVIN       2450.0   \n",
       "1174              EARL          MILLER          RICHARD       3009.0   \n",
       "3056           STANLEY          MILLER              SAM       3511.0   \n",
       "29              LUTHER          MILLER           WALTER       3918.0   \n",
       "1173                 V          MILLER          WILLIAM       4051.0   \n",
       "1172               IAN          MILLER          ZACHARY       4091.0   \n",
       "\n",
       "                                         medical_school  application_year  \\\n",
       "1182             UNIVERSITY OF MIAMI SCHOOL OF MEDICINE            1969.0   \n",
       "3295                             ALBANY MEDICAL COLLEGE            1970.0   \n",
       "1181           WASHINGTON UNIVERSITY SCHOOL OF MEDICINE            1970.0   \n",
       "1180        UNIVERSITY OF PITTSBURGH SCHOOL OF MEDICINE            1969.0   \n",
       "20                                  DUKE MEDICAL SCHOOL            1973.0   \n",
       "1179                                                NaN            1966.0   \n",
       "2984                 YALE UNIVERSITY SCHOOL OF MEDICINE            1971.0   \n",
       "1177    GEORGE WASHINGTON UNIVERSITY SCHOOL OF MEDICINE            1958.0   \n",
       "83    UNIVERSITY OF TENNESSEE HEALTH SCIENCE CENTER ...            1967.0   \n",
       "1176                            UCSD SCHOOL OF MEDICINE            1974.0   \n",
       "3722           UNIVERSITY OF ALABAMA SCHOOL OF MEDICINE            1972.0   \n",
       "148                        HAHNEMANN SCHOOL OF MEDICINE            1975.0   \n",
       "1175            NEW YORK UNIVERSITY COLLEGE OF MEDICINE            1964.0   \n",
       "2976                 YALE UNIVERSITY SCHOOL OF MEDICINE            1967.0   \n",
       "3435               TEMPLE UNIVERSITY SCHOOL OF MEDICINE            1970.0   \n",
       "3873            NEW YORK UNIVERSITY COLLEGE OF MEDICINE            1971.0   \n",
       "3397       UNIVERSITY OF CONNECTICUT SCHOOL OF MEDICINE            1974.0   \n",
       "75    COLUMBIA UNIVERSITY COLLEGE OF PHYSICIANS AND ...            1966.0   \n",
       "3798                 YALE UNIVERSITY SCHOOL OF MEDICINE            1972.0   \n",
       "1174              UNIVERSITY OF MICHIGAN MEDICAL SCHOOL            1966.0   \n",
       "3056  JOAN SANFORD I WEILL MEDICAL COLLEGE CORNELL U...            1971.0   \n",
       "29                                  DUKE MEDICAL SCHOOL            1970.0   \n",
       "1173  UNIVERSITY OF MISSOURI-COLUMBIA SCHOOL OF MEDI...            1966.0   \n",
       "1172  COLUMBIA UNIVERSITY COLLEGE OF PHYSICIANS AND ...            1971.0   \n",
       "\n",
       "         dno          residency                        residency_hospital  \\\n",
       "1182  2539.0        DERMATOLOGY                       UNIVERSITY OF MIAMI   \n",
       "3295     NaN                NaN                                       NaN   \n",
       "1181  2540.0        Dermatology                                       NaN   \n",
       "1180  2541.0           MEDICINE                     GEORGETOWN UNIVERSITY   \n",
       "20    2542.0           MEDICINE               PETER BENT BRIGHAM HOSPITAL   \n",
       "1179  2543.0                NaN                                       NaN   \n",
       "2984     NaN                NaN                                       NaN   \n",
       "1177  2546.0                NaN                                       NaN   \n",
       "83    2548.0         PSYCHIATRY        MASSACHUSETTS MENTAL HEALTH CENTER   \n",
       "1176  2549.0           MEDICINE      BETH ISRAEL DEACONESS MEDICAL CENTER   \n",
       "3722     NaN                NaN                                       NaN   \n",
       "148   2542.0  INTERNAL MEDICINE                      HAHNEMANN UNIVERSITY   \n",
       "1175  2550.0           MEDICINE              BELLEVUE HOSPITAL CENTER NYC   \n",
       "2976     NaN           MEDICINE                           BARNES HOSPITAL   \n",
       "3435     NaN                NaN                                       NaN   \n",
       "3873     NaN                NaN                                       NaN   \n",
       "3397     NaN                NaN                                       NaN   \n",
       "75    2554.0     ANESTHESIOLOGY  PRESBYTERIAN HOSPITAL AND MEDICAL CENTER   \n",
       "3798     NaN                NaN                                       NaN   \n",
       "1174  2558.0           MEDICINE   ALBERT EINSTEIN COL OF MED YESHIVA UNIV   \n",
       "3056     NaN           MEDICINE                     MAYO CLINIC ROCHESTER   \n",
       "29    2559.0         PEDIATRICS            MASSACHUSETTS GENERAL HOSPITAL   \n",
       "1173  2560.0                NaN                                       NaN   \n",
       "1172  2561.0         PEDIATRICS        Stanford University Medical Center   \n",
       "\n",
       "                          internship_hospital residency_dates  \n",
       "1182                      UNIVERSITY OF MIAMI       1970-1971  \n",
       "3295               MOUNT SINAI MEDICAL CENTER             NaN  \n",
       "1181           JEWISH HOSPITAL OF SAINT LOUIS       1970-1971  \n",
       "1180                    GEORGETOWN UNIVERSITY            1970  \n",
       "20                PETER BENT BRIGHAM HOSPITAL       1974-1975  \n",
       "1179                                      NaN             NaN  \n",
       "2984   MOUNT ZION HOSPITAL AND MEDICAL CENTER             NaN  \n",
       "1177                 Duke University Hospital             NaN  \n",
       "83               STANFORD UNIVERSITY HOSPITAL       1968-1969  \n",
       "1176     BETH ISRAEL DEACONESS MEDICAL CENTER       1976-1977  \n",
       "3722                                      NaN             NaN  \n",
       "148                      HAHNEMANN UNIVERSITY       1975-1977  \n",
       "1175             BELLEVUE HOSPITAL CENTER NYC       1965-1966  \n",
       "2976                          BARNES HOSPITAL       1968-1969  \n",
       "3435          BUFFALO GENERAL HOSP BUFFALO NY             NaN  \n",
       "3873  ALBERT EINSTEIN COL OF MED YESHIVA UNIV             NaN  \n",
       "3397                                      NaN             NaN  \n",
       "75      MOUNT SINAI SCHOOL OF MEDICINE OF NYU       1967-1970  \n",
       "3798                                      NaN             NaN  \n",
       "1174  ALBERT EINSTEIN COL OF MED YESHIVA UNIV       1967-1968  \n",
       "3056                    MAYO CLINIC ROCHESTER       1972-1973  \n",
       "29             MASSACHUSETTS GENERAL HOSPITAL       1971-1972  \n",
       "1173                 Strong Memorial Hospital             NaN  \n",
       "1172       Stanford University Medical Center       1972-1973  "
      ]
     },
     "execution_count": 84,
     "metadata": {},
     "output_type": "execute_result"
    },
    {
     "name": "stdout",
     "output_type": "stream",
     "text": [
      "time: 53.5 ms\n"
     ]
    }
   ],
   "source": [
    "ln = 'RING'\n",
    "match11.loc[match11.clean_last_name=='MILLER', NAME_COLS+[PERSON_ID, 'medical_school', 'application_year', 'dno', 'residency','residency_hospital',\n",
    "                                                            'internship_hospital', 'residency_dates']]"
   ]
  },
  {
   "cell_type": "code",
   "execution_count": 85,
   "metadata": {
    "collapsed": false,
    "scrolled": false
   },
   "outputs": [
    {
     "ename": "NameError",
     "evalue": "name 'wide_apps_v' is not defined",
     "output_type": "error",
     "traceback": [
      "\u001b[0;31m---------------------------------------------------------------------------\u001b[0m",
      "\u001b[0;31mNameError\u001b[0m                                 Traceback (most recent call last)",
      "\u001b[0;32m<ipython-input-85-37cafd10f0e9>\u001b[0m in \u001b[0;36m<module>\u001b[0;34m()\u001b[0m\n\u001b[0;32m----> 1\u001b[0;31m \u001b[0mwide_apps_v\u001b[0m\u001b[0;34m.\u001b[0m\u001b[0mloc\u001b[0m\u001b[0;34m[\u001b[0m\u001b[0mwide_apps_v\u001b[0m\u001b[0;34m.\u001b[0m\u001b[0mclean_last_name\u001b[0m\u001b[0;34m==\u001b[0m\u001b[0;34m'KRUGMAN'\u001b[0m\u001b[0;34m,\u001b[0m \u001b[0mNAME_COLS\u001b[0m\u001b[0;34m+\u001b[0m\u001b[0;34m[\u001b[0m\u001b[0;34m'dno'\u001b[0m\u001b[0;34m,\u001b[0m \u001b[0mPERSON_ID\u001b[0m\u001b[0;34m]\u001b[0m\u001b[0;34m]\u001b[0m\u001b[0;34m\u001b[0m\u001b[0m\n\u001b[0m",
      "\u001b[0;31mNameError\u001b[0m: name 'wide_apps_v' is not defined"
     ]
    },
    {
     "name": "stdout",
     "output_type": "stream",
     "text": [
      "time: 97.5 ms\n"
     ]
    }
   ],
   "source": [
    "wide_apps_v.loc[wide_apps_v.clean_last_name=='KRUGMAN', NAME_COLS+['dno', PERSON_ID]]"
   ]
  },
  {
   "cell_type": "code",
   "execution_count": null,
   "metadata": {
    "collapsed": false,
    "scrolled": false
   },
   "outputs": [],
   "source": [
    "wide_apps_v.loc[pd.isnull(wide_apps_v.clean_first_name), NAME_COLS+['dno', 'medical_school', 'application_year']].to_csv('extras.csv')"
   ]
  },
  {
   "cell_type": "code",
   "execution_count": null,
   "metadata": {
    "collapsed": false,
    "scrolled": false
   },
   "outputs": [],
   "source": [
    "apps5.loc[apps5.clean_last_name=='PRZYBYLA', NAME_COLS+['medical_school', PERSON_ID]]"
   ]
  },
  {
   "cell_type": "code",
   "execution_count": null,
   "metadata": {
    "collapsed": true,
    "scrolled": false
   },
   "outputs": [],
   "source": []
  }
 ],
 "metadata": {
  "kernelspec": {
   "display_name": "Python 2",
   "language": "python",
   "name": "python2"
  },
  "language_info": {
   "codemirror_mode": {
    "name": "ipython",
    "version": 2
   },
   "file_extension": ".py",
   "mimetype": "text/x-python",
   "name": "python",
   "nbconvert_exporter": "python",
   "pygments_lexer": "ipython2",
   "version": "2.7.12"
  }
 },
 "nbformat": 4,
 "nbformat_minor": 0
}
