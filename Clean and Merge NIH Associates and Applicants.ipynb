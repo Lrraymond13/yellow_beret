{
 "cells": [
  {
   "cell_type": "code",
   "execution_count": 392,
   "metadata": {
    "collapsed": true
   },
   "outputs": [],
   "source": [
    "# read in known applicant files, dedupe and try to merge with applicants file\n",
    "from collections import Counter\n",
    "import difflib\n",
    "import uuid\n",
    "import itertools\n",
    "import pandas as pd\n",
    "import numpy as np\n",
    "import string\n",
    "import funcy\n",
    "import re\n",
    "import os\n",
    "\n",
    "APP_DATA_DIR = os.path.abspath('Data/applicant_data')\n",
    "ATT_DATA_DIR = os.path.abspath('Data/attendees_data')\n",
    "CARD_DATA_DIR = os.path.abspath('Data/applicant_data/raw_card_data')\n",
    "\n",
    "# from data_cleaning_functions import (trans_remov_punc, standardize_whitespace, remove_punc, remove_suffix_from_last_name,\n",
    "#                                      clean_names, has_award, has_suffix, get_suffix, replace_last_name,  \n",
    "#                                      is_year_range, str_sim, clean_med_school, clean_std_college_name)\n",
    "from data_cleaning_functions import correct_mispellings, long_form_date, clean_names, clean_med_school"
   ]
  },
  {
   "cell_type": "code",
   "execution_count": 393,
   "metadata": {
    "collapsed": false
   },
   "outputs": [
    {
     "name": "stdout",
     "output_type": "stream",
     "text": [
      "The autoreload extension is already loaded. To reload it, use:\n",
      "  %reload_ext autoreload\n"
     ]
    }
   ],
   "source": [
    "# id column that links back to raw applicant data file\n",
    "RAW_CARD_ID = 'raw_uuid'\n",
    "\n",
    "# column where the raw id information is stored\n",
    "RAW_INDEX_IDS = 'raw_card_ids'\n",
    "\n",
    "# try to get one id per unique applicant in the dataset\n",
    "PERSON_ID = 'person_uuid'\n",
    "# id per deduped application-person - if someone applied multiple times, they will have multiple ids\n",
    "PERSON_APPLICATION_ID = 'person_app_uuid' \n",
    "NIH_ID = 'dno'\n",
    "\n",
    "APPLICANT_SUFFIX = '_ap'\n",
    "ATTENDEE_SUFFIX = '_at'\n",
    "\n",
    "%load_ext autoreload\n",
    "%autoreload 2\n",
    "\n",
    "%reload_ext autoreload"
   ]
  },
  {
   "cell_type": "code",
   "execution_count": 394,
   "metadata": {
    "collapsed": true
   },
   "outputs": [],
   "source": [
    "NAME_COLS = ['clean_middle_name', 'clean_last_name', 'clean_first_name']\n",
    "\n",
    "MED_TRAINING_COLS = ['res_dates', 'intern_dates', 'residency_hospital', 'internship_hospital', 'medical_school', 'residency']\n"
   ]
  },
  {
   "cell_type": "code",
   "execution_count": 568,
   "metadata": {
    "collapsed": true
   },
   "outputs": [],
   "source": [
    "# import NIH raw data set\n",
    "NIH_raw = pd.read_csv(os.path.join(ATT_DATA_DIR, 'NIH_attendee_deduped_raw.csv'))"
   ]
  },
  {
   "cell_type": "code",
   "execution_count": 576,
   "metadata": {
    "collapsed": true
   },
   "outputs": [],
   "source": [
    "# drop from the data set all people with eod years > 1980\n",
    "NIH = NIH_raw.loc[NIH_raw.eod_year<1980, :] "
   ]
  },
  {
   "cell_type": "code",
   "execution_count": 577,
   "metadata": {
    "collapsed": true
   },
   "outputs": [],
   "source": [
    "# import cleaned, deduped applicant data set in wide form (multiple app dates as columns)\n",
    "apps = pd.read_pickle(os.path.join(APP_DATA_DIR, 'person_application_date_wide.p'))"
   ]
  },
  {
   "cell_type": "code",
   "execution_count": 578,
   "metadata": {
    "collapsed": false
   },
   "outputs": [
    {
     "name": "stdout",
     "output_type": "stream",
     "text": [
      "Str. Medicine\n",
      "Medicine\n"
     ]
    }
   ],
   "source": [
    "apps.loc[:, 'res_dates'] = apps['residency_year(s)'].apply(long_form_date)\n",
    "\n",
    "apps.loc[:, 'intern_dates'] = apps['internship_year(s)'].apply(long_form_date)"
   ]
  },
  {
   "cell_type": "code",
   "execution_count": 579,
   "metadata": {
    "collapsed": true
   },
   "outputs": [],
   "source": [
    "apps2 = apps.rename(\n",
    "    columns={'residency_type': 'residency', 'internship_hospital_1': 'internship_hospital'})"
   ]
  },
  {
   "cell_type": "code",
   "execution_count": 580,
   "metadata": {
    "collapsed": false
   },
   "outputs": [],
   "source": [
    "string_med_cols = ['medical_school', 'residency_hospital', 'internship_hospital', 'residency']\n",
    "\n",
    "# apply string cleaning function to each of the string medical info columns\n",
    "apps2.loc[:, string_med_cols] = apps2[string_med_cols].applymap(clean_names)"
   ]
  },
  {
   "cell_type": "code",
   "execution_count": 581,
   "metadata": {
    "collapsed": true
   },
   "outputs": [],
   "source": [
    "to_remove = ['TERRECE', 'FRED', 'LAURENCE',\n",
    "             'CUONO', 'DEFRENZE', 'JEFFERY', 'FINKLEMAN', 'SHERRAD', 'ANSCHNETZ', 'MARC', 'JENSON', 'KASTI', \n",
    "            'ADELBERT', 'RITCHARD', 'MANSFORD', 'DEFRENZO', 'DROBIN', 'HAMES', 'KREUZ', 'JERROLD', 'MANEUSI',\n",
    "            'UNGARO']\n",
    "to_replace = ['TERRENCE', 'FREDERICK', 'LAWRENCE',\n",
    "              'CUOMO', 'DEFRONZO', 'JEFFREY', 'FINKELMAN', 'SHERRARD', 'ANSCHUETZ', 'MARCUS', 'JENSEN', 'KASTL',\n",
    "              'ALBERT', 'RITCHARD', 'MANIFORD', 'DEFRONZO', 'DROBIS', 'JAMES', 'KRUEZ', 'JERROD', 'MANCUSI',\n",
    "              'UNGARO']\n",
    "\n",
    "correct_name_mispellings_fnc = funcy.rpartial(correct_mispellings, to_remove, to_replace)\n",
    "\n",
    "apps2.loc[:, 'clean_last_name'] = apps2.clean_last_name.apply(correct_name_mispellings_fnc)\n",
    "apps2.loc[:, 'clean_first_name'] = apps2.clean_first_name.apply(correct_name_mispellings_fnc)\n",
    "apps2.loc[:, 'clean_medical_school'] = apps2['medical_school']"
   ]
  },
  {
   "cell_type": "code",
   "execution_count": 582,
   "metadata": {
    "collapsed": true
   },
   "outputs": [],
   "source": [
    "# there are a bunch of duplicates in apps, where application year is the same, but first name is missing\n",
    "name_dups = apps2.loc[\n",
    "    apps2.duplicated(\n",
    "        ['clean_last_name', 'clean_medical_school', 'application_year'], keep=False), NAME_COLS+MED_TRAINING_COLS]"
   ]
  },
  {
   "cell_type": "code",
   "execution_count": 583,
   "metadata": {
    "collapsed": false
   },
   "outputs": [],
   "source": [
    "apps3 = apps2.sort_values(['clean_last_name', 'clean_first_name']).drop_duplicates(\n",
    "    ['clean_last_name', 'clean_medical_school', 'application_year'])"
   ]
  },
  {
   "cell_type": "code",
   "execution_count": 584,
   "metadata": {
    "collapsed": false
   },
   "outputs": [],
   "source": [
    "# there are also some duplicates on middle and last name, but first is missing on one of the dups, \n",
    "# so we need to drop these\n",
    "dups_mask = apps3.duplicated(['clean_last_name', 'clean_middle_name', 'application_year'], keep=False)"
   ]
  },
  {
   "cell_type": "code",
   "execution_count": 585,
   "metadata": {
    "collapsed": false
   },
   "outputs": [],
   "source": [
    "apps4 = apps3.loc[((~dups_mask) | ((dups_mask) & (~pd.isnull(apps3.clean_first_name)))), :]"
   ]
  },
  {
   "cell_type": "code",
   "execution_count": 586,
   "metadata": {
    "collapsed": false
   },
   "outputs": [
    {
     "name": "stdout",
     "output_type": "stream",
     "text": [
      "(4218, 76)\n",
      "(4238, 76)\n"
     ]
    }
   ],
   "source": [
    "print apps4.shape\n",
    "print apps3.shape"
   ]
  },
  {
   "cell_type": "code",
   "execution_count": 587,
   "metadata": {
    "collapsed": false
   },
   "outputs": [
    {
     "data": {
      "text/html": [
       "<div>\n",
       "<table border=\"1\" class=\"dataframe\">\n",
       "  <thead>\n",
       "    <tr style=\"text-align: right;\">\n",
       "      <th></th>\n",
       "      <th>clean_middle_name</th>\n",
       "      <th>clean_last_name</th>\n",
       "      <th>clean_first_name</th>\n",
       "    </tr>\n",
       "  </thead>\n",
       "  <tbody>\n",
       "    <tr>\n",
       "      <th>352</th>\n",
       "      <td>OTTO</td>\n",
       "      <td>HAAKENSTAD</td>\n",
       "      <td>ALAN</td>\n",
       "    </tr>\n",
       "  </tbody>\n",
       "</table>\n",
       "</div>"
      ],
      "text/plain": [
       "    clean_middle_name clean_last_name clean_first_name\n",
       "352              OTTO      HAAKENSTAD             ALAN"
      ]
     },
     "execution_count": 587,
     "metadata": {},
     "output_type": "execute_result"
    }
   ],
   "source": [
    "apps4.loc[apps4.clean_last_name=='HAAKENSTAD', NAME_COLS]"
   ]
  },
  {
   "cell_type": "code",
   "execution_count": 588,
   "metadata": {
    "collapsed": false
   },
   "outputs": [
    {
     "data": {
      "text/html": [
       "<div>\n",
       "<table border=\"1\" class=\"dataframe\">\n",
       "  <thead>\n",
       "    <tr style=\"text-align: right;\">\n",
       "      <th></th>\n",
       "      <th>clean_middle_name</th>\n",
       "      <th>clean_last_name</th>\n",
       "      <th>clean_first_name</th>\n",
       "      <th>clean_medical_school</th>\n",
       "      <th>address</th>\n",
       "      <th>city</th>\n",
       "    </tr>\n",
       "  </thead>\n",
       "  <tbody>\n",
       "    <tr>\n",
       "      <th>352</th>\n",
       "      <td>OTTO</td>\n",
       "      <td>HAAKENSTAD</td>\n",
       "      <td>ALAN</td>\n",
       "      <td>NORTH</td>\n",
       "      <td>1718 7th Street</td>\n",
       "      <td>South Fargo</td>\n",
       "    </tr>\n",
       "    <tr>\n",
       "      <th>1617</th>\n",
       "      <td>OTTO</td>\n",
       "      <td>HAAKENSTAD</td>\n",
       "      <td>NaN</td>\n",
       "      <td>PENNSYLVANIA</td>\n",
       "      <td>1718 7th Street South</td>\n",
       "      <td>Fargo</td>\n",
       "    </tr>\n",
       "  </tbody>\n",
       "</table>\n",
       "</div>"
      ],
      "text/plain": [
       "     clean_middle_name clean_last_name clean_first_name clean_medical_school  \\\n",
       "352               OTTO      HAAKENSTAD             ALAN                NORTH   \n",
       "1617              OTTO      HAAKENSTAD              NaN         PENNSYLVANIA   \n",
       "\n",
       "                    address         city  \n",
       "352         1718 7th Street  South Fargo  \n",
       "1617  1718 7th Street South        Fargo  "
      ]
     },
     "execution_count": 588,
     "metadata": {},
     "output_type": "execute_result"
    }
   ],
   "source": [
    "apps3.loc[apps2.clean_last_name=='HAAKENSTAD', NAME_COLS+['clean_medical_school', 'address', 'city']]"
   ]
  },
  {
   "cell_type": "code",
   "execution_count": 589,
   "metadata": {
    "collapsed": true
   },
   "outputs": [],
   "source": [
    "# function to go in and correct some of the name mispellings in both data sets\n",
    "# MUTATING FUNCTION\n",
    "def change_names(df, selection_type, selection_value, to_change_type, to_change_values):\n",
    "    for t, v in zip(to_change_type, to_change_values):\n",
    "        print t, v\n",
    "        df.loc[df[selection_type]==selection_value, t] = v"
   ]
  },
  {
   "cell_type": "code",
   "execution_count": 590,
   "metadata": {
    "collapsed": false
   },
   "outputs": [],
   "source": [
    "%%capture\n",
    "change_names(\n",
    "    apps2, 'clean_last_name', 'CHESEBRO', ['clean_first_name', 'clean_middle_name'], ['BRUCE', 'WILCOX'])\n",
    "change_names(\n",
    "    apps2, 'clean_last_name', 'GALANTER', ['clean_first_name', 'clean_middle_name'], ['MARC', 'I'])\n",
    "change_names(\n",
    "    apps2, 'clean_last_name', 'BEAN', ['clean_first_name', 'clean_middle_name', 'clean_medical_school'], ['SIDNEY', 'CHARLES', 'WAKE_FOREST'])\n",
    "change_names(\n",
    "    apps2, 'clean_last_name', 'EILER', ['clean_first_name', 'clean_middle_name'], ['DONALD', 'MARTIN'])\n",
    "change_names(\n",
    "    apps2, 'clean_last_name', 'FALCHUK', ['clean_first_name', 'clean_middle_name'], ['DONALD', 'MARTIN'])\n",
    "change_names(\n",
    "    apps2, 'clean_last_name', 'BOYD', ['clean_first_name', 'clean_middle_name'], ['MICHAEL', 'RAY'])\n",
    "change_names(\n",
    "    apps2, 'clean_last_name', 'CHAPMAN', \n",
    "    ['clean_first_name', 'clean_middle_name', 'clean_medical_school'], ['STANLEY', 'WILLETS', 'ROCHESTER'])\n",
    "change_names(apps2, 'clean_last_name', 'DANFORTH', ['clean_first_name'], ['DAVID'])\n",
    "change_names(apps2, 'clean_last_name', 'HUNT', ['clean_first_name', 'clean_middle_name'], ['ROBERT', 'D'])\n",
    "change_names(apps2, 'clean_last_name', 'KARK', ['clean_first_name', 'clean_middle_name'], ['ROBERT', 'ADRIAN'])\n",
    "change_names(apps2, 'clean_last_name', 'KEBABIAN', ['clean_first_name', 'clean_middle_name'], ['JOHN', 'WILLIS'])\n",
    "change_names(apps2, 'clean_last_name', 'KNOPF', ['clean_first_name', 'clean_middle_name'], ['HARRY', 'LOUIS'])\n",
    "change_names(apps2, 'clean_last_name', 'KROLIKOWSKI', ['clean_first_name', 'clean_middle_name'], ['FRANCIS', 'JOHN'])\n",
    "change_names(apps2, 'clean_last_name', 'KASTL', ['clean_first_name', 'clean_middle_name'], ['DAVID', 'GENE'])\n",
    "change_names(apps2, 'clean_first_name', 'JAN', ['clean_last_name'], ['KNOWLER'])\n",
    "change_names(apps2, 'clean_last_name', 'KLAVEMAN', ['clean_last_name'], ['KLAEVEMAN'])\n",
    "change_names(apps2, 'clean_last_name', 'MATHEW', ['clean_last_name'], ['MATTHEW'])\n",
    "\n",
    "apps2.loc[apps2.clean_last_name=='CHESEBRO', ['clean_first_name']] = 'BRUCE'\n",
    "apps2.loc[apps2.clean_last_name=='CHESEBRO', ['clean_middle_name']] = 'WILCOX'"
   ]
  },
  {
   "cell_type": "code",
   "execution_count": 591,
   "metadata": {
    "collapsed": false
   },
   "outputs": [
    {
     "name": "stdout",
     "output_type": "stream",
     "text": [
      "(3025, 29)\n",
      "(4218, 76)\n"
     ]
    }
   ],
   "source": [
    "print NIH.shape\n",
    "print  apps4.shape"
   ]
  },
  {
   "cell_type": "code",
   "execution_count": 592,
   "metadata": {
    "collapsed": false
   },
   "outputs": [],
   "source": [
    "# resave apps 4 data set as deduped apps\n",
    "apps4.sort_values('clean_last_name').to_csv(\n",
    "    os.path.join(APP_DATA_DIR, 'person_application_date_wide_deduped.csv'), index=False)"
   ]
  },
  {
   "cell_type": "code",
   "execution_count": 685,
   "metadata": {
    "collapsed": false
   },
   "outputs": [],
   "source": [
    "apps4.application_year.value_counts().to_csv(os.path.join(APP_DATA_DIR, 'unique_apps_application_year_counts.csv'))\n",
    "NIH.eod_year.value_counts().to_csv(os.path.join(ATT_DATA_DIR, 'unique_att_eod_year_counts.csv'))"
   ]
  },
  {
   "cell_type": "code",
   "execution_count": 594,
   "metadata": {
    "collapsed": true
   },
   "outputs": [],
   "source": [
    "# After cleaning apps2 to match cleaning in Clean NIH Applicant notebook, we try to start merging"
   ]
  },
  {
   "cell_type": "code",
   "execution_count": 595,
   "metadata": {
    "ExecuteTime": {
     "end_time": "2016-09-06T19:21:07.034308",
     "start_time": "2016-09-06T19:21:06.971859"
    },
    "collapsed": false
   },
   "outputs": [],
   "source": [
    "exact_name_matches = pd.merge(left=NIH, right=apps4, left_on=['clean_first_name', 'clean_middle_name', 'clean_last_name'], right_on=[\n",
    "        'clean_first_name', 'clean_middle_name', 'clean_last_name'], how='inner', suffixes=[ATTENDEE_SUFFIX, APPLICANT_SUFFIX])"
   ]
  },
  {
   "cell_type": "code",
   "execution_count": 596,
   "metadata": {
    "ExecuteTime": {
     "end_time": "2016-09-06T19:21:08.504317",
     "start_time": "2016-09-06T19:21:08.450571"
    },
    "collapsed": false
   },
   "outputs": [],
   "source": [
    "not_matched_apps = apps4.loc[~apps4[PERSON_ID].isin(exact_name_matches[PERSON_ID]), :]\n",
    "not_matched_attendees = NIH.loc[~NIH[NIH_ID].isin(exact_name_matches[NIH_ID]), :]\n",
    "\n",
    "first_last_matches = pd.merge(left=not_matched_attendees, right=not_matched_apps, left_on=['clean_first_name', 'clean_last_name'], right_on=[\n",
    "        'clean_first_name', 'clean_last_name'], how='inner', suffixes=[ATTENDEE_SUFFIX, APPLICANT_SUFFIX])"
   ]
  },
  {
   "cell_type": "code",
   "execution_count": 597,
   "metadata": {
    "collapsed": false
   },
   "outputs": [
    {
     "name": "stdout",
     "output_type": "stream",
     "text": [
      "(106, 103)\n",
      "(2392, 76)\n",
      "(1247, 29)\n",
      "(1794, 102)\n"
     ]
    }
   ],
   "source": [
    "print first_last_matches.shape\n",
    "print not_matched_apps.shape\n",
    "print not_matched_attendees.shape\n",
    "print exact_name_matches.shape"
   ]
  },
  {
   "cell_type": "code",
   "execution_count": 598,
   "metadata": {
    "ExecuteTime": {
     "end_time": "2016-09-06T19:21:03.543055",
     "start_time": "2016-09-06T19:21:03.522386"
    },
    "collapsed": false
   },
   "outputs": [],
   "source": [
    "# create counter objects for each data set that count the number of times the last name occurs in either data set\n",
    "attendees_counter = Counter(NIH.clean_last_name)\n",
    "apps_counter = Counter(apps4.clean_last_name)"
   ]
  },
  {
   "cell_type": "code",
   "execution_count": 599,
   "metadata": {
    "ExecuteTime": {
     "end_time": "2016-09-06T19:21:09.207976",
     "start_time": "2016-09-06T19:21:09.186009"
    },
    "collapsed": true
   },
   "outputs": [],
   "source": [
    "# for the first and last matches, where the last name only occurs 1x in each data set, set confidence flag to 1\n",
    "first_last_matches.loc[:, 'last_name_counts'] = first_last_matches.clean_last_name.apply(\n",
    "    lambda x: apps_counter[x] + attendees_counter[x])"
   ]
  },
  {
   "cell_type": "code",
   "execution_count": 600,
   "metadata": {
    "ExecuteTime": {
     "end_time": "2016-09-06T19:21:10.672587",
     "start_time": "2016-09-06T19:21:10.654753"
    },
    "collapsed": true
   },
   "outputs": [],
   "source": [
    "def define_med_school_junk(seq_elem):\n",
    "    # difflib sequence matcher first element can take a fnc that inputs a\n",
    "    # sequence element and returns True if it should be considered Junk\n",
    "    return seq_elem in ['SCHOOL OF MEDICINE', 'UNIVERSITY OF', 'MEDICAL COLLEGE OF',\n",
    "                        'MEDICAL', 'SCHOOL', 'UNIVERSITY', 'COLLEGE', 'OF', 'THE', 'MEDICINE', 'CENTER', 'DENTISTRY']"
   ]
  },
  {
   "cell_type": "code",
   "execution_count": 601,
   "metadata": {
    "ExecuteTime": {
     "end_time": "2016-09-06T19:21:11.248311",
     "start_time": "2016-09-06T19:21:11.229684"
    },
    "collapsed": true
   },
   "outputs": [],
   "source": [
    "def str_sim_fnc(row, index1, index2, junk_fnc=None):\n",
    "    s1 = row[index1]\n",
    "    s2 = row[index2]\n",
    "    has_null = any(map(lambda x: pd.isnull(x), [s1, s2]))\n",
    "    if has_null:\n",
    "        return np.nan\n",
    "    if s1 in s2 or s2 in s1:\n",
    "        return 1\n",
    "    return difflib.SequenceMatcher(\n",
    "        junk_fnc, s1, s2).ratio()"
   ]
  },
  {
   "cell_type": "code",
   "execution_count": 602,
   "metadata": {
    "ExecuteTime": {
     "end_time": "2016-09-06T19:21:12.510223",
     "start_time": "2016-09-06T19:21:12.492043"
    },
    "collapsed": false,
    "scrolled": true
   },
   "outputs": [],
   "source": [
    "get_str_sim = funcy.rpartial(str_sim_fnc, 'clean_medical_school_ap', 'clean_medical_school_at', define_med_school_junk)"
   ]
  },
  {
   "cell_type": "code",
   "execution_count": 603,
   "metadata": {
    "ExecuteTime": {
     "end_time": "2016-09-06T19:21:12.951777",
     "start_time": "2016-09-06T19:21:12.900320"
    },
    "collapsed": false
   },
   "outputs": [],
   "source": [
    "first_last_matches.loc[:, 'med_school_sim'] = first_last_matches.apply(get_str_sim, axis=1)"
   ]
  },
  {
   "cell_type": "code",
   "execution_count": 604,
   "metadata": {
    "collapsed": false
   },
   "outputs": [
    {
     "data": {
      "text/plain": [
       "count    91.000000\n",
       "mean      0.859064\n",
       "std       0.310438\n",
       "min       0.000000\n",
       "25%            NaN\n",
       "50%            NaN\n",
       "75%            NaN\n",
       "max       1.000000\n",
       "Name: med_school_sim, dtype: float64"
      ]
     },
     "execution_count": 604,
     "metadata": {},
     "output_type": "execute_result"
    }
   ],
   "source": [
    "first_last_matches.med_school_sim.describe()"
   ]
  },
  {
   "cell_type": "code",
   "execution_count": 605,
   "metadata": {
    "ExecuteTime": {
     "end_time": "2016-09-06T19:21:12.951777",
     "start_time": "2016-09-06T19:21:12.900320"
    },
    "collapsed": false
   },
   "outputs": [],
   "source": [
    "exact_name_matches.loc[:, 'med_school_sim'] = exact_name_matches.apply(get_str_sim, axis=1)"
   ]
  },
  {
   "cell_type": "code",
   "execution_count": 606,
   "metadata": {
    "collapsed": false
   },
   "outputs": [
    {
     "data": {
      "text/plain": [
       "count    1634.000000\n",
       "mean        0.944874\n",
       "std         0.193802\n",
       "min         0.000000\n",
       "25%              NaN\n",
       "50%              NaN\n",
       "75%              NaN\n",
       "max         1.000000\n",
       "Name: med_school_sim, dtype: float64"
      ]
     },
     "execution_count": 606,
     "metadata": {},
     "output_type": "execute_result"
    }
   ],
   "source": [
    "exact_name_matches.med_school_sim.describe()"
   ]
  },
  {
   "cell_type": "code",
   "execution_count": 607,
   "metadata": {
    "collapsed": false
   },
   "outputs": [],
   "source": [
    "# exact_name_matches[['clean_medical_school{}'.format(APPLICANT_SUFFIX), 'clean_medical_school{}'.format(ATTENDEE_SUFFIX), \n",
    "#                     'medical_school{}'.format(APPLICANT_SUFFIX), 'med_school_sim', 'medical_school_at']]"
   ]
  },
  {
   "cell_type": "code",
   "execution_count": 608,
   "metadata": {
    "ExecuteTime": {
     "end_time": "2016-09-06T19:21:14.585089",
     "start_time": "2016-09-06T19:21:14.556080"
    },
    "collapsed": true
   },
   "outputs": [],
   "source": [
    "def get_years(dt_str):\n",
    "    # return int date strings\n",
    "    try:\n",
    "        single_year = (dt_str.find('-') == -1)\n",
    "        if single_year:\n",
    "            return [dt_str]\n",
    "        return dt_str.split('-')\n",
    "    except ValueError as e:\n",
    "        print dt_str\n",
    "        return np.nan\n",
    "\n",
    "def get_dts_sim(row, index1, index2):\n",
    "    dt1 = row[index1]\n",
    "    dt2 = row[index2]\n",
    "    has_null = any(map(lambda x: pd.isnull(x), [dt1, dt2]))\n",
    "    if has_null:\n",
    "        return np.nan\n",
    "    dates_tup1 = get_years(dt1)\n",
    "    dates_tup2 = get_years(dt2)\n",
    "    # if dates match exactly, return 1\n",
    "    unique_dts = set(funcy.concat(dates_tup1, dates_tup2))\n",
    "    return (len(unique_dts) < (len(dates_tup1) + len(dates_tup2)))"
   ]
  },
  {
   "cell_type": "code",
   "execution_count": 609,
   "metadata": {
    "ExecuteTime": {
     "end_time": "2016-09-06T19:21:16.013562",
     "start_time": "2016-09-06T19:21:15.996819"
    },
    "collapsed": true
   },
   "outputs": [],
   "source": [
    "get_intern_dts_sim = funcy.rpartial(get_dts_sim, \n",
    "                                    'intern_dates{}'.format(APPLICANT_SUFFIX), \n",
    "                                    'intern_dates{}'.format(ATTENDEE_SUFFIX))"
   ]
  },
  {
   "cell_type": "code",
   "execution_count": 610,
   "metadata": {
    "ExecuteTime": {
     "end_time": "2016-09-06T19:21:16.414299",
     "start_time": "2016-09-06T19:21:16.379256"
    },
    "collapsed": false
   },
   "outputs": [],
   "source": [
    "first_last_matches.loc[:, 'internship_sim'] = first_last_matches.apply(get_intern_dts_sim, axis=1)"
   ]
  },
  {
   "cell_type": "code",
   "execution_count": 611,
   "metadata": {
    "ExecuteTime": {
     "end_time": "2016-09-06T19:21:16.735763",
     "start_time": "2016-09-06T19:21:16.700189"
    },
    "collapsed": false
   },
   "outputs": [],
   "source": [
    "# drop all first and last name matches where the med school sim < .6 \n",
    "# for people where only 1 instance of last name in each data set, say they match\n",
    "first_last_matches.loc[(first_last_matches['last_name_counts'] < 3), 'match_score'] = 1\n",
    "\n",
    "# first_last_matches.loc[((first_last_matches['last_name_counts'] < 3) & (\n",
    "#             pd.isnull(first_last_matches['med_school_sim'])) & (first_last_matches['internship_sim']==True)), 'match_score'] = 1\n",
    "\n",
    "first_last_matches.loc[((first_last_matches['last_name_counts'] > 2) & (\n",
    "            first_last_matches['med_school_sim'] > .5) & (first_last_matches['internship_sim']==True)), 'match_score'] = 1\n",
    "\n",
    "first_last_matches.loc[((first_last_matches['last_name_counts'] > 2) & (\n",
    "            first_last_matches['med_school_sim'] > .5) & (pd.isnull(first_last_matches['internship_sim']))), 'match_score'] = 1"
   ]
  },
  {
   "cell_type": "code",
   "execution_count": 612,
   "metadata": {
    "collapsed": true
   },
   "outputs": [],
   "source": [
    "first_last_matches.loc[((first_last_matches['last_name_counts'] > 1) & (\n",
    "            first_last_matches['med_school_sim'] < .5) & (first_last_matches['internship_sim']!=True)), 'match_score'] = 0\n"
   ]
  },
  {
   "cell_type": "code",
   "execution_count": 613,
   "metadata": {
    "ExecuteTime": {
     "end_time": "2016-09-06T19:21:18.509174",
     "start_time": "2016-09-06T19:21:18.481151"
    },
    "collapsed": false
   },
   "outputs": [],
   "source": [
    "first_last_matches.loc[pd.isnull(first_last_matches.match_score), 'match_score'] = 0"
   ]
  },
  {
   "cell_type": "code",
   "execution_count": 614,
   "metadata": {
    "collapsed": true
   },
   "outputs": [],
   "source": [
    "exact_name_matches.loc[:, 'match_score'] = 1"
   ]
  },
  {
   "cell_type": "code",
   "execution_count": 615,
   "metadata": {
    "collapsed": true
   },
   "outputs": [],
   "source": [
    "def reconcile_app_attendee_col(row, col_name, suffix_priority=None):\n",
    "    # given two columns, reconcile between the app and attendee data set\n",
    "    # if both values are present, take values in order of the suffix priority list\n",
    "    if not suffix_priority:\n",
    "        suffix_priority = [ATTENDEE_SUFFIX, APPLICANT_SUFFIX]\n",
    "    s1 = row['{}{}'.format(col_name, suffix_priority[0])]\n",
    "    s2 = row['{}{}'.format(col_name, suffix_priority[1])]\n",
    "    non_nulls = funcy.remove(lambda x: pd.isnull(x), [s1, s2])\n",
    "    if not non_nulls:\n",
    "        return np.nan\n",
    "    return non_nulls[0] \n",
    "    "
   ]
  },
  {
   "cell_type": "code",
   "execution_count": 616,
   "metadata": {
    "collapsed": false
   },
   "outputs": [],
   "source": [
    "first_last_matches.loc[:, 'clean_middle_name'] = first_last_matches.apply(\n",
    "    funcy.rpartial(reconcile_app_attendee_col, 'clean_middle_name', [ATTENDEE_SUFFIX, APPLICANT_SUFFIX]), axis=1)\n",
    "\n",
    "first_last_matches2 = first_last_matches.drop(\n",
    "    ['clean_middle_name{}'.format(\n",
    "            x) for x in [ATTENDEE_SUFFIX, APPLICANT_SUFFIX]]+['internship_sim', 'last_name_counts'], axis=1)"
   ]
  },
  {
   "cell_type": "code",
   "execution_count": 617,
   "metadata": {
    "collapsed": false
   },
   "outputs": [
    {
     "data": {
      "text/plain": [
       "True"
      ]
     },
     "execution_count": 617,
     "metadata": {},
     "output_type": "execute_result"
    }
   ],
   "source": [
    "len(sorted(first_last_matches2.columns))==len(sorted(exact_name_matches.columns))"
   ]
  },
  {
   "cell_type": "code",
   "execution_count": 618,
   "metadata": {
    "collapsed": false
   },
   "outputs": [],
   "source": [
    "# bunch of matches on last name only\n",
    "# Note that the case where count occurs 2x in one data set and not the other is ok, because nothing to merge on\n",
    "\n",
    "apps4.loc[:, 'last_name_counts'] = apps4.clean_last_name.apply(\n",
    "    lambda x: apps_counter[x] + attendees_counter[x])\n",
    "\n",
    "NIH.loc[:, 'last_name_counts'] = NIH.clean_last_name.apply(\n",
    "    lambda x: apps_counter[x] + attendees_counter[x])"
   ]
  },
  {
   "cell_type": "code",
   "execution_count": 619,
   "metadata": {
    "ExecuteTime": {
     "end_time": "2016-09-06T20:57:55.847779",
     "start_time": "2016-09-06T20:57:55.808298"
    },
    "collapsed": false
   },
   "outputs": [],
   "source": [
    "# drop all people without a good match score\n",
    "# for non matches, do visual check, look at years 67-75, create a score of reliability they are control\n",
    "full_matches = pd.concat([first_last_matches2.loc[first_last_matches.match_score==1, :], exact_name_matches], axis=0)\n",
    "# if application date year after eod year, drop\n",
    "# if double match and application date shows up 1x, drop"
   ]
  },
  {
   "cell_type": "code",
   "execution_count": 620,
   "metadata": {
    "collapsed": true
   },
   "outputs": [],
   "source": [
    "full_matches.loc[:, 'match_score'] = 1"
   ]
  },
  {
   "cell_type": "code",
   "execution_count": 621,
   "metadata": {
    "collapsed": false
   },
   "outputs": [
    {
     "data": {
      "text/plain": [
       "(1167, 30)"
      ]
     },
     "execution_count": 621,
     "metadata": {},
     "output_type": "execute_result"
    }
   ],
   "source": [
    "# non matches\n",
    "not_matched_apps = apps4.loc[~apps2[PERSON_ID].isin(full_matches[PERSON_ID]), :]\n",
    "not_matched_attendees = NIH.loc[~NIH[NIH_ID].isin(full_matches[NIH_ID]), :]\n",
    "\n",
    "NIH.shape\n",
    "\n",
    "not_matched_attendees.shape"
   ]
  },
  {
   "cell_type": "code",
   "execution_count": 622,
   "metadata": {
    "collapsed": false
   },
   "outputs": [
    {
     "name": "stdout",
     "output_type": "stream",
     "text": [
      "(1000, 30)\n"
     ]
    }
   ],
   "source": [
    "print not_matched_attendees.loc[not_matched_attendees.last_name_counts< 3, :].shape\n",
    "\n",
    "# there are a bunch of attendees who were not able to match on first and last name\n",
    "# for last name, if one instance in data set, try match\n",
    "last_matches = pd.merge(left=not_matched_apps.loc[not_matched_apps.last_name_counts<3, :],\n",
    "                    right=not_matched_attendees.loc[not_matched_attendees.last_name_counts < 3, :],\n",
    "                        left_on='clean_last_name', right_on='clean_last_name', how='inner', suffixes=[\n",
    "        APPLICANT_SUFFIX, ATTENDEE_SUFFIX])\n",
    "\n",
    "last_matches.loc[:, 'med_school_sim'] = last_matches.apply(get_str_sim, axis=1)\n",
    "last_matches.loc['match_score', :] = 1"
   ]
  },
  {
   "cell_type": "code",
   "execution_count": 623,
   "metadata": {
    "collapsed": true
   },
   "outputs": [],
   "source": [
    "# need to reconcile the first and middle names on the last name matches data set\n",
    "last_matches.loc[:, 'clean_middle_name'] = last_matches.apply(\n",
    "    funcy.rpartial(reconcile_app_attendee_col, 'clean_middle_name', [ATTENDEE_SUFFIX, APPLICANT_SUFFIX]), axis=1)\n",
    "\n",
    "last_matches.loc[:, 'clean_first_name'] = last_matches.apply(\n",
    "    funcy.rpartial(reconcile_app_attendee_col, 'clean_first_name', [ATTENDEE_SUFFIX, APPLICANT_SUFFIX]), axis=1)\n",
    "\n",
    "last_matches2 = last_matches.drop(\n",
    "    ['clean_{}_name{}'.format(\n",
    "            a, b) for b in [ATTENDEE_SUFFIX, APPLICANT_SUFFIX] for a in ['first', 'middle']], axis=1)\n"
   ]
  },
  {
   "cell_type": "code",
   "execution_count": 624,
   "metadata": {
    "collapsed": false,
    "scrolled": true
   },
   "outputs": [],
   "source": [
    "# read in manual match crosswalk\n",
    "m_matches = pd.read_excel(os.path.join(ATT_DATA_DIR, 'not_matched_attendees_manual_matches.xlsx')).dropna(subset=['merge_{}'.format(PERSON_ID)], axis=0)"
   ]
  },
  {
   "cell_type": "code",
   "execution_count": 625,
   "metadata": {
    "collapsed": false
   },
   "outputs": [],
   "source": [
    "# in this file, the clean_first_name, clean_middle name-- clean_medical_school are from the NIH data set(also dno)\n",
    "# there is 'merge_clean_first_name--clean_last_name' which is from the applicant data set\n",
    "# use these as merge values, because although merge person uuid exists, better to merge on names\n",
    "# if data set is recreated merge person uuid will change"
   ]
  },
  {
   "cell_type": "code",
   "execution_count": 626,
   "metadata": {
    "collapsed": true
   },
   "outputs": [],
   "source": [
    "# after merging into the applicant info, I want to overwrite the clean_name column from the atttendee data set\n",
    "# it was wrong most of the time\n",
    "# also drop the _merge columns except for is_female"
   ]
  },
  {
   "cell_type": "code",
   "execution_count": 627,
   "metadata": {
    "collapsed": false
   },
   "outputs": [],
   "source": [
    "manual_app_df = pd.merge(left=m_matches, right=apps4, left_on=[\n",
    "        'merge_clean_first_name', 'merge_clean_middle_name', 'merge_clean_last_name', 'merge_application_year'], \n",
    "                        right_on=[\n",
    "        'clean_first_name', 'clean_middle_name', 'clean_last_name', 'application_year'],\n",
    "                        how='inner', suffixes=[ATTENDEE_SUFFIX, APPLICANT_SUFFIX])"
   ]
  },
  {
   "cell_type": "code",
   "execution_count": 628,
   "metadata": {
    "collapsed": false
   },
   "outputs": [],
   "source": [
    "# replace clean med school values with that from applicant data set - it is more standardized\n",
    "manual_app_df.loc[:, 'clean_medical_school'] = manual_app_df.apply(\n",
    "    funcy.rpartial(reconcile_app_attendee_col, 'clean_medical_school', [APPLICANT_SUFFIX, ATTENDEE_SUFFIX]), axis=1)"
   ]
  },
  {
   "cell_type": "code",
   "execution_count": 629,
   "metadata": {
    "collapsed": true
   },
   "outputs": [],
   "source": [
    "manual_app3 = pd.merge(\n",
    "    left=manual_app_df, right=NIH, left_on=['clean_first_name_at', 'clean_middle_name_at', 'clean_last_name_at'],\n",
    "    right_on=['clean_first_name', 'clean_middle_name', 'clean_last_name'], how='inner')\n",
    "# manual_app3 = pd.merge(\n",
    "#     left=manual_app2, right=NIH, on=['dno'], how='inner')"
   ]
  },
  {
   "cell_type": "code",
   "execution_count": 630,
   "metadata": {
    "collapsed": true
   },
   "outputs": [],
   "source": [
    "# replace name with info from attendees data set\n",
    "manual_app3.loc[:, 'clean_first_name'] = manual_app3.apply(\n",
    "    funcy.rpartial(reconcile_app_attendee_col, 'clean_first_name', [ATTENDEE_SUFFIX, APPLICANT_SUFFIX]), axis=1)\n",
    "manual_app3.loc[:, 'clean_middle_name'] = manual_app3.apply(\n",
    "    funcy.rpartial(reconcile_app_attendee_col, 'clean_middle_name', [ATTENDEE_SUFFIX, APPLICANT_SUFFIX]), axis=1)\n",
    "manual_app3.loc[:, 'clean_last_name'] = manual_app3.apply(\n",
    "    funcy.rpartial(reconcile_app_attendee_col, 'clean_last_name', [ATTENDEE_SUFFIX, APPLICANT_SUFFIX]), axis=1)"
   ]
  },
  {
   "cell_type": "code",
   "execution_count": 631,
   "metadata": {
    "collapsed": false
   },
   "outputs": [],
   "source": [
    "# manual_app3[['clean_last_name', 'clean_last_name_ap', 'clean_last_name_at']]\n",
    "\n",
    "# sorted(manual_app3.columns)\n",
    "\n",
    "# sorted(manual_app3.columns)"
   ]
  },
  {
   "cell_type": "code",
   "execution_count": 632,
   "metadata": {
    "collapsed": false
   },
   "outputs": [
    {
     "name": "stdout",
     "output_type": "stream",
     "text": [
      "[u'clean_first_name_at', u'clean_middle_name_at', u'clean_last_name_at', u'clean_medical_school_at', u'merge_person_uuid', u'merge_application_year', u'merge_clean_first_name', u'merge_clean_middle_name', u'merge_clean_last_name', 'clean_first_name_ap', 'clean_middle_name_ap', 'clean_last_name_ap', 'clean_medical_school_ap']\n"
     ]
    }
   ],
   "source": [
    "# drop _ap and _at and merge_ columns\n",
    "to_drop_cols = [c for c in manual_app3.columns if \n",
    "                    c.endswith(APPLICANT_SUFFIX) or c.endswith(ATTENDEE_SUFFIX) or c.startswith('merge_')]\n",
    "print to_drop_cols"
   ]
  },
  {
   "cell_type": "code",
   "execution_count": 633,
   "metadata": {
    "collapsed": false
   },
   "outputs": [],
   "source": [
    "manual_app4 = manual_app3.drop(to_drop_cols+['last_name_counts_x', 'last_name_counts_y'], axis=1)"
   ]
  },
  {
   "cell_type": "code",
   "execution_count": 634,
   "metadata": {
    "collapsed": true
   },
   "outputs": [],
   "source": [
    "# take medical school from the applicant data set\n",
    "manual_app4.loc[:, 'clean_medical_school'] = manual_app4.apply(\n",
    "    funcy.rpartial(reconcile_app_attendee_col, 'clean_medical_school', ['_x', '_y']), axis=1)"
   ]
  },
  {
   "cell_type": "code",
   "execution_count": 635,
   "metadata": {
    "collapsed": true
   },
   "outputs": [],
   "source": [
    "manual_app4a = manual_app4.drop(['clean_medical_school_x', 'clean_medical_school_y'], axis=1)"
   ]
  },
  {
   "cell_type": "code",
   "execution_count": 636,
   "metadata": {
    "collapsed": false
   },
   "outputs": [
    {
     "name": "stdout",
     "output_type": "stream",
     "text": [
      "[u'dno', u'eod_year', 'citizenship', 'medical_school', 'residency_hospital', 'residency', 'internship_hospital', 'res_dates', 'intern_dates']\n"
     ]
    }
   ],
   "source": [
    "# reconcile the x and y columns, giving priority to info in the NIH data set _y\n",
    "cols_to_reconcile = [c.split('_x')[0] for c in manual_app4a.columns if c.endswith('_x')]\n",
    "print cols_to_reconcile"
   ]
  },
  {
   "cell_type": "code",
   "execution_count": 637,
   "metadata": {
    "collapsed": false
   },
   "outputs": [],
   "source": [
    "for c in cols_to_reconcile:\n",
    "    manual_app4a.loc[:, c] = manual_app4a.apply(\n",
    "        funcy.rpartial(reconcile_app_attendee_col, c, ['_y', '_x']), axis=1)"
   ]
  },
  {
   "cell_type": "code",
   "execution_count": 638,
   "metadata": {
    "collapsed": false
   },
   "outputs": [
    {
     "name": "stdout",
     "output_type": "stream",
     "text": [
      "['dno_x', 'dno_y', 'eod_year_x', 'eod_year_y', 'citizenship_x', 'citizenship_y', 'medical_school_x', 'medical_school_y', 'residency_hospital_x', 'residency_hospital_y', 'residency_x', 'residency_y', 'internship_hospital_x', 'internship_hospital_y', 'res_dates_x', 'res_dates_y', 'intern_dates_x', 'intern_dates_y']\n"
     ]
    }
   ],
   "source": [
    "cols_to_drop = funcy.flatten(('{}_x'.format(c), '{}_y'.format(c)) for c in cols_to_reconcile)\n",
    "print cols_to_drop"
   ]
  },
  {
   "cell_type": "code",
   "execution_count": 639,
   "metadata": {
    "collapsed": false
   },
   "outputs": [],
   "source": [
    "manual_app5 = manual_app4a.drop(cols_to_drop, axis=1)\n",
    "# sorted(manual_app5.columns)"
   ]
  },
  {
   "cell_type": "code",
   "execution_count": 640,
   "metadata": {
    "collapsed": false
   },
   "outputs": [
    {
     "data": {
      "text/plain": [
       "{'citizenship_ap',\n",
       " 'citizenship_at',\n",
       " 'clean_medical_school_ap',\n",
       " 'clean_medical_school_at',\n",
       " 'intern_dates_ap',\n",
       " 'intern_dates_at',\n",
       " 'internship_hospital_ap',\n",
       " 'internship_hospital_at',\n",
       " 'match_score',\n",
       " 'med_school_sim',\n",
       " 'medical_school_ap',\n",
       " 'medical_school_at',\n",
       " 'res_dates_ap',\n",
       " 'res_dates_at',\n",
       " 'residency_ap',\n",
       " 'residency_at',\n",
       " 'residency_hospital_ap',\n",
       " 'residency_hospital_at'}"
      ]
     },
     "execution_count": 640,
     "metadata": {},
     "output_type": "execute_result"
    }
   ],
   "source": [
    "# check columns of all matches match\n",
    "# set(full_matches.columns).difference(set(last_matches2.columns))\n",
    "set(full_matches.columns).difference(set(manual_app5.columns))"
   ]
  },
  {
   "cell_type": "code",
   "execution_count": 641,
   "metadata": {
    "collapsed": false
   },
   "outputs": [
    {
     "name": "stdout",
     "output_type": "stream",
     "text": [
      "(2652, 106)\n"
     ]
    }
   ],
   "source": [
    "# before adding manual matches, must reconcile columns\n",
    "full_matches2 = pd.concat([full_matches, last_matches2], axis=0)\n",
    "print full_matches2.shape"
   ]
  },
  {
   "cell_type": "code",
   "execution_count": 642,
   "metadata": {
    "collapsed": false
   },
   "outputs": [
    {
     "name": "stdout",
     "output_type": "stream",
     "text": [
      "['citizenship', 'clean_medical_school', 'intern_dates', 'internship_hospital', 'last_name_counts', 'medical_school', 'res_dates', 'residency', 'residency_hospital']\n",
      "['citizenship_ap', 'citizenship_at', 'clean_medical_school_ap', 'clean_medical_school_at', 'intern_dates_ap', 'intern_dates_at', 'internship_hospital_ap', 'internship_hospital_at', 'last_name_counts_ap', 'last_name_counts_at', 'medical_school_ap', 'medical_school_at', 'res_dates_ap', 'res_dates_at', 'residency_ap', 'residency_at', 'residency_hospital_ap', 'residency_hospital_at']\n"
     ]
    }
   ],
   "source": [
    "cols_to_reconcile = [c.split(APPLICANT_SUFFIX)[0] for c in full_matches2.columns if c.endswith(APPLICANT_SUFFIX)]\n",
    "print cols_to_reconcile\n",
    "\n",
    "for c in cols_to_reconcile:\n",
    "    full_matches2.loc[:, c] = full_matches2.apply(\n",
    "        funcy.rpartial(reconcile_app_attendee_col, c, [ATTENDEE_SUFFIX, APPLICANT_SUFFIX]), axis=1)\n",
    "\n",
    "cols_to_drop = funcy.flatten(('{}{}'.format(c, APPLICANT_SUFFIX), '{}{}'.format(c, ATTENDEE_SUFFIX)) for c in cols_to_reconcile)\n",
    "print cols_to_drop"
   ]
  },
  {
   "cell_type": "code",
   "execution_count": 643,
   "metadata": {
    "collapsed": false
   },
   "outputs": [],
   "source": [
    "full_matches3 = full_matches2.drop(cols_to_drop, axis=1)"
   ]
  },
  {
   "cell_type": "code",
   "execution_count": 644,
   "metadata": {
    "collapsed": false
   },
   "outputs": [
    {
     "name": "stdout",
     "output_type": "stream",
     "text": [
      "(2652, 97)\n",
      "(140, 96)\n",
      "(2792, 99)\n"
     ]
    }
   ],
   "source": [
    "# now append the manual and programmatic matches\n",
    "full_matches4 = pd.concat([full_matches3, manual_app5], axis=0).sort_values(['clean_last_name', 'application_year'])\n",
    "print full_matches3.shape\n",
    "print manual_app5.shape\n",
    "print full_matches4.shape"
   ]
  },
  {
   "cell_type": "code",
   "execution_count": 645,
   "metadata": {
    "collapsed": false
   },
   "outputs": [
    {
     "name": "stdout",
     "output_type": "stream",
     "text": [
      "(2792,)\n",
      "(2792,)\n"
     ]
    }
   ],
   "source": [
    "print full_matches4.clean_last_name.dropna().shape\n",
    "print full_matches4.clean_first_name.dropna().shape"
   ]
  },
  {
   "cell_type": "code",
   "execution_count": 646,
   "metadata": {
    "collapsed": false
   },
   "outputs": [
    {
     "data": {
      "text/html": [
       "<div>\n",
       "<table border=\"1\" class=\"dataframe\">\n",
       "  <thead>\n",
       "    <tr style=\"text-align: right;\">\n",
       "      <th></th>\n",
       "      <th>person_uuid</th>\n",
       "      <th>dno</th>\n",
       "    </tr>\n",
       "  </thead>\n",
       "  <tbody>\n",
       "  </tbody>\n",
       "</table>\n",
       "</div>"
      ],
      "text/plain": [
       "Empty DataFrame\n",
       "Columns: [person_uuid, dno]\n",
       "Index: []"
      ]
     },
     "execution_count": 646,
     "metadata": {},
     "output_type": "execute_result"
    }
   ],
   "source": [
    "full_matches4.loc[pd.isnull(full_matches4.clean_last_name), [PERSON_ID, NIH_ID]]"
   ]
  },
  {
   "cell_type": "code",
   "execution_count": 647,
   "metadata": {
    "collapsed": false
   },
   "outputs": [],
   "source": [
    "# full_matches4.loc[full_matches4.duplicated(['clean_last_name', 'clean_first_name'], keep=False),NAME_COLS] \n",
    "\n",
    "# sorted(full_matches4.columns)"
   ]
  },
  {
   "cell_type": "code",
   "execution_count": 648,
   "metadata": {
    "collapsed": false
   },
   "outputs": [
    {
     "name": "stdout",
     "output_type": "stream",
     "text": [
      "(2746, 99)\n"
     ]
    }
   ],
   "source": [
    "# there are about 127 entries that have duplicates in data set because they applied 2x\n",
    "# drop them\n",
    "full_matches5 = full_matches4.drop_duplicates(['clean_last_name', 'dno'])\n",
    "print full_matches5.shape"
   ]
  },
  {
   "cell_type": "code",
   "execution_count": 649,
   "metadata": {
    "collapsed": false
   },
   "outputs": [
    {
     "name": "stdout",
     "output_type": "stream",
     "text": [
      "(2742, 99)\n"
     ]
    }
   ],
   "source": [
    "# there are about 50 entries that have duplicates in data set because they appear 2x in NIH data set\n",
    "# drop these\n",
    "full_matches6 = full_matches5.drop_duplicates(['clean_last_name', 'clean_first_name', 'clean_middle_name'])\n",
    "print full_matches6.shape"
   ]
  },
  {
   "cell_type": "code",
   "execution_count": 650,
   "metadata": {
    "collapsed": false
   },
   "outputs": [
    {
     "name": "stdout",
     "output_type": "stream",
     "text": [
      "(2738, 99)\n"
     ]
    }
   ],
   "source": [
    "# there are about 20 entries that have duplicates in data set because they appear 2x in NIH data set with diff dno\n",
    "# there also don't have a middle name so don't show up in data set\n",
    "full_matches7 = full_matches6.drop_duplicates(['clean_last_name', 'clean_first_name', 'eod_year'])\n",
    "print full_matches7.shape"
   ]
  },
  {
   "cell_type": "code",
   "execution_count": 651,
   "metadata": {
    "collapsed": false
   },
   "outputs": [
    {
     "name": "stdout",
     "output_type": "stream",
     "text": [
      "(0, 7)\n"
     ]
    }
   ],
   "source": [
    "# there are about 127 rows where applicant date and person are the same, drop these\n",
    "full_matches_dups = full_matches7.loc[\n",
    "    full_matches7.duplicated(['clean_last_name', 'clean_medical_school', 'application_year'], keep=False), ['dno', 'application_year', 'application_date_2', 'eod_year', 'rejection_date', 'clean_first_name', 'clean_last_name']]\n",
    "print full_matches_dups.shape"
   ]
  },
  {
   "cell_type": "code",
   "execution_count": 652,
   "metadata": {
    "collapsed": false
   },
   "outputs": [
    {
     "data": {
      "text/plain": [
       "(2738, 99)"
      ]
     },
     "execution_count": 652,
     "metadata": {},
     "output_type": "execute_result"
    }
   ],
   "source": [
    "full_matches7.shape"
   ]
  },
  {
   "cell_type": "code",
   "execution_count": 653,
   "metadata": {
    "collapsed": false
   },
   "outputs": [],
   "source": [
    "full_matches8 = full_matches7.set_index(PERSON_ID, drop=False).sort_values(['clean_last_name', 'application_year'])"
   ]
  },
  {
   "cell_type": "code",
   "execution_count": 654,
   "metadata": {
    "collapsed": false
   },
   "outputs": [],
   "source": [
    "full_matches8.to_pickle(os.path.join(ATT_DATA_DIR, 'full_matches.p'))\n",
    "full_matches8.to_csv(os.path.join(ATT_DATA_DIR, 'full_matches.csv'))"
   ]
  },
  {
   "cell_type": "code",
   "execution_count": 655,
   "metadata": {
    "collapsed": true
   },
   "outputs": [],
   "source": [
    "apps5 = apps4.set_index(PERSON_ID, drop=False)"
   ]
  },
  {
   "cell_type": "code",
   "execution_count": 656,
   "metadata": {
    "collapsed": true
   },
   "outputs": [],
   "source": [
    "# now, drop instances where person uuid is missing\n",
    "missing_uuid = apps5.loc[pd.isnull(apps5[PERSON_ID]), :]"
   ]
  },
  {
   "cell_type": "code",
   "execution_count": 657,
   "metadata": {
    "collapsed": false
   },
   "outputs": [],
   "source": [
    "missing_uuid.sort_values('clean_last_name').to_csv(os.path.join(APP_DATA_DIR, 'missing_uuid_for_sanity_check.csv'))"
   ]
  },
  {
   "cell_type": "code",
   "execution_count": 658,
   "metadata": {
    "collapsed": false
   },
   "outputs": [
    {
     "name": "stdout",
     "output_type": "stream",
     "text": [
      "(4218, 77)\n",
      "(4218, 77)\n"
     ]
    }
   ],
   "source": [
    "apps6 = apps5.loc[~pd.isnull(apps5[PERSON_ID]), :]\n",
    "print apps6.shape\n",
    "print apps5.shape"
   ]
  },
  {
   "cell_type": "code",
   "execution_count": 659,
   "metadata": {
    "collapsed": false
   },
   "outputs": [
    {
     "name": "stdout",
     "output_type": "stream",
     "text": [
      "(221, 77)\n"
     ]
    }
   ],
   "source": [
    "multiple_apps = apps6.loc[~pd.isnull(apps6.application_date_2), :].sort_values([PERSON_ID, 'application_date_2'])\n",
    "print multiple_apps.shape"
   ]
  },
  {
   "cell_type": "code",
   "execution_count": 660,
   "metadata": {
    "collapsed": true
   },
   "outputs": [],
   "source": [
    "multiple_apps.loc[:, 'application_year_2'] = multiple_apps.application_date_2.apply(lambda x: x.year)"
   ]
  },
  {
   "cell_type": "code",
   "execution_count": 661,
   "metadata": {
    "collapsed": true
   },
   "outputs": [],
   "source": [
    "# then, for the people who are in the data set twice, drop rows where application year == application date\n",
    "apps7 = pd.concat([apps6.loc[pd.isnull(apps6.application_date_2), :], multiple_apps.loc[\n",
    "            multiple_apps.application_year != multiple_apps.application_year_2, :]])"
   ]
  },
  {
   "cell_type": "code",
   "execution_count": 662,
   "metadata": {
    "collapsed": false
   },
   "outputs": [
    {
     "name": "stdout",
     "output_type": "stream",
     "text": [
      "(4108, 78)\n",
      "(4106, 78)\n"
     ]
    }
   ],
   "source": [
    "# there are 2 people in here who applied 3x so still duplicated\n",
    "# drop them (doesn't matter which row to drop)\n",
    "apps8 = apps7.sort_values(['clean_last_name', 'application_year']).drop_duplicates(PERSON_ID)\n",
    "print apps7.shape\n",
    "print apps8.shape"
   ]
  },
  {
   "cell_type": "code",
   "execution_count": 663,
   "metadata": {
    "collapsed": false
   },
   "outputs": [
    {
     "data": {
      "text/html": [
       "<div>\n",
       "<table border=\"1\" class=\"dataframe\">\n",
       "  <thead>\n",
       "    <tr style=\"text-align: right;\">\n",
       "      <th></th>\n",
       "      <th>clean_last_name</th>\n",
       "      <th>clean_medical_school</th>\n",
       "      <th>application_date</th>\n",
       "      <th>application_year</th>\n",
       "      <th>application_date_2</th>\n",
       "      <th>application_date_3</th>\n",
       "    </tr>\n",
       "    <tr>\n",
       "      <th>person_uuid</th>\n",
       "      <th></th>\n",
       "      <th></th>\n",
       "      <th></th>\n",
       "      <th></th>\n",
       "      <th></th>\n",
       "      <th></th>\n",
       "    </tr>\n",
       "  </thead>\n",
       "  <tbody>\n",
       "    <tr>\n",
       "      <th>61fc6b4c-1364-46b9-97ce-3d37c5751bf0</th>\n",
       "      <td>BORNSTEIN</td>\n",
       "      <td>NYU</td>\n",
       "      <td>1961-05-08</td>\n",
       "      <td>1961</td>\n",
       "      <td>1960-06-29</td>\n",
       "      <td>1959-06-18</td>\n",
       "    </tr>\n",
       "    <tr>\n",
       "      <th>61fc6b4c-1364-46b9-97ce-3d37c5751bf0</th>\n",
       "      <td>BORNSTEIN</td>\n",
       "      <td>NYU</td>\n",
       "      <td>1959-06-18</td>\n",
       "      <td>1959</td>\n",
       "      <td>1960-06-29</td>\n",
       "      <td>1959-06-18</td>\n",
       "    </tr>\n",
       "    <tr>\n",
       "      <th>da65a59f-f3e0-43da-8ee3-0d2bd177bc12</th>\n",
       "      <td>DEPPERMAN</td>\n",
       "      <td>PENNSYLVANIA</td>\n",
       "      <td>1969-03-20</td>\n",
       "      <td>1969</td>\n",
       "      <td>1970-02-10</td>\n",
       "      <td>1969-03-20</td>\n",
       "    </tr>\n",
       "    <tr>\n",
       "      <th>da65a59f-f3e0-43da-8ee3-0d2bd177bc12</th>\n",
       "      <td>DEPPERMAN</td>\n",
       "      <td>PENNSYLVANIA</td>\n",
       "      <td>1971-03-26</td>\n",
       "      <td>1971</td>\n",
       "      <td>1970-02-10</td>\n",
       "      <td>1969-03-20</td>\n",
       "    </tr>\n",
       "  </tbody>\n",
       "</table>\n",
       "</div>"
      ],
      "text/plain": [
       "                                     clean_last_name clean_medical_school  \\\n",
       "person_uuid                                                                 \n",
       "61fc6b4c-1364-46b9-97ce-3d37c5751bf0       BORNSTEIN                  NYU   \n",
       "61fc6b4c-1364-46b9-97ce-3d37c5751bf0       BORNSTEIN                  NYU   \n",
       "da65a59f-f3e0-43da-8ee3-0d2bd177bc12       DEPPERMAN         PENNSYLVANIA   \n",
       "da65a59f-f3e0-43da-8ee3-0d2bd177bc12       DEPPERMAN         PENNSYLVANIA   \n",
       "\n",
       "                                     application_date  application_year  \\\n",
       "person_uuid                                                               \n",
       "61fc6b4c-1364-46b9-97ce-3d37c5751bf0       1961-05-08              1961   \n",
       "61fc6b4c-1364-46b9-97ce-3d37c5751bf0       1959-06-18              1959   \n",
       "da65a59f-f3e0-43da-8ee3-0d2bd177bc12       1969-03-20              1969   \n",
       "da65a59f-f3e0-43da-8ee3-0d2bd177bc12       1971-03-26              1971   \n",
       "\n",
       "                                     application_date_2 application_date_3  \n",
       "person_uuid                                                                 \n",
       "61fc6b4c-1364-46b9-97ce-3d37c5751bf0         1960-06-29         1959-06-18  \n",
       "61fc6b4c-1364-46b9-97ce-3d37c5751bf0         1960-06-29         1959-06-18  \n",
       "da65a59f-f3e0-43da-8ee3-0d2bd177bc12         1970-02-10         1969-03-20  \n",
       "da65a59f-f3e0-43da-8ee3-0d2bd177bc12         1970-02-10         1969-03-20  "
      ]
     },
     "execution_count": 663,
     "metadata": {},
     "output_type": "execute_result"
    }
   ],
   "source": [
    "apps7.loc[apps7.duplicated(PERSON_ID, keep=False), ['clean_last_name', 'clean_medical_school', 'application_date', 'application_year', 'application_date_2', 'application_date_3']]"
   ]
  },
  {
   "cell_type": "code",
   "execution_count": 664,
   "metadata": {
    "collapsed": false
   },
   "outputs": [
    {
     "data": {
      "text/html": [
       "<div>\n",
       "<table border=\"1\" class=\"dataframe\">\n",
       "  <thead>\n",
       "    <tr style=\"text-align: right;\">\n",
       "      <th></th>\n",
       "      <th>address</th>\n",
       "      <th>age</th>\n",
       "      <th>application_date</th>\n",
       "      <th>application_date_2</th>\n",
       "      <th>application_date_3</th>\n",
       "      <th>application_year</th>\n",
       "      <th>application_year_2</th>\n",
       "      <th>associate_program_entered</th>\n",
       "      <th>bob</th>\n",
       "      <th>ca</th>\n",
       "      <th>...</th>\n",
       "      <th>residency_year(s)</th>\n",
       "      <th>reviewer</th>\n",
       "      <th>sa</th>\n",
       "      <th>state</th>\n",
       "      <th>teaching</th>\n",
       "      <th>undergrad_year_grad</th>\n",
       "      <th>undergraduate_school</th>\n",
       "      <th>withdrawal</th>\n",
       "      <th>year_accepted</th>\n",
       "      <th>zip_code</th>\n",
       "    </tr>\n",
       "    <tr>\n",
       "      <th>person_uuid</th>\n",
       "      <th></th>\n",
       "      <th></th>\n",
       "      <th></th>\n",
       "      <th></th>\n",
       "      <th></th>\n",
       "      <th></th>\n",
       "      <th></th>\n",
       "      <th></th>\n",
       "      <th></th>\n",
       "      <th></th>\n",
       "      <th></th>\n",
       "      <th></th>\n",
       "      <th></th>\n",
       "      <th></th>\n",
       "      <th></th>\n",
       "      <th></th>\n",
       "      <th></th>\n",
       "      <th></th>\n",
       "      <th></th>\n",
       "      <th></th>\n",
       "      <th></th>\n",
       "    </tr>\n",
       "  </thead>\n",
       "  <tbody>\n",
       "    <tr>\n",
       "      <th>61fc6b4c-1364-46b9-97ce-3d37c5751bf0</th>\n",
       "      <td>74 Asylum Street</td>\n",
       "      <td>NaN</td>\n",
       "      <td>1959-06-18</td>\n",
       "      <td>1960-06-29</td>\n",
       "      <td>1959-06-18</td>\n",
       "      <td>1959</td>\n",
       "      <td>1960.0</td>\n",
       "      <td>NaN</td>\n",
       "      <td>NaN</td>\n",
       "      <td>NaN</td>\n",
       "      <td>...</td>\n",
       "      <td>NaN</td>\n",
       "      <td>1</td>\n",
       "      <td>NaN</td>\n",
       "      <td>Connecticut</td>\n",
       "      <td>NaN</td>\n",
       "      <td>NaN</td>\n",
       "      <td>NaN</td>\n",
       "      <td>0.0</td>\n",
       "      <td>NaN</td>\n",
       "      <td>NaN</td>\n",
       "    </tr>\n",
       "  </tbody>\n",
       "</table>\n",
       "<p>1 rows × 78 columns</p>\n",
       "</div>"
      ],
      "text/plain": [
       "                                               address  age application_date  \\\n",
       "person_uuid                                                                    \n",
       "61fc6b4c-1364-46b9-97ce-3d37c5751bf0  74 Asylum Street  NaN       1959-06-18   \n",
       "\n",
       "                                     application_date_2 application_date_3  \\\n",
       "person_uuid                                                                  \n",
       "61fc6b4c-1364-46b9-97ce-3d37c5751bf0         1960-06-29         1959-06-18   \n",
       "\n",
       "                                      application_year  application_year_2  \\\n",
       "person_uuid                                                                  \n",
       "61fc6b4c-1364-46b9-97ce-3d37c5751bf0              1959              1960.0   \n",
       "\n",
       "                                     associate_program_entered  bob  ca  \\\n",
       "person_uuid                                                               \n",
       "61fc6b4c-1364-46b9-97ce-3d37c5751bf0                       NaN  NaN NaN   \n",
       "\n",
       "                                        ...     residency_year(s) reviewer  \\\n",
       "person_uuid                             ...                                  \n",
       "61fc6b4c-1364-46b9-97ce-3d37c5751bf0    ...                   NaN        1   \n",
       "\n",
       "                                      sa        state teaching  \\\n",
       "person_uuid                                                      \n",
       "61fc6b4c-1364-46b9-97ce-3d37c5751bf0 NaN  Connecticut      NaN   \n",
       "\n",
       "                                     undergrad_year_grad undergraduate_school  \\\n",
       "person_uuid                                                                     \n",
       "61fc6b4c-1364-46b9-97ce-3d37c5751bf0                 NaN                  NaN   \n",
       "\n",
       "                                     withdrawal year_accepted  zip_code  \n",
       "person_uuid                                                              \n",
       "61fc6b4c-1364-46b9-97ce-3d37c5751bf0        0.0           NaN       NaN  \n",
       "\n",
       "[1 rows x 78 columns]"
      ]
     },
     "execution_count": 664,
     "metadata": {},
     "output_type": "execute_result"
    }
   ],
   "source": [
    "apps8.loc[apps8.clean_last_name=='BORNSTEIN', :]"
   ]
  },
  {
   "cell_type": "code",
   "execution_count": 665,
   "metadata": {
    "collapsed": false
   },
   "outputs": [],
   "source": [
    "# in full matches, there are 2 people who show, drop them\n",
    "# full_matches8.loc[full_matches8.duplicated(PERSON_ID, keep=False), :]\n",
    "full_matches9 = full_matches8.sort_values([PERSON_ID] + NAME_COLS).drop_duplicates(PERSON_ID)"
   ]
  },
  {
   "cell_type": "code",
   "execution_count": 666,
   "metadata": {
    "collapsed": false
   },
   "outputs": [
    {
     "data": {
      "text/html": [
       "<div>\n",
       "<table border=\"1\" class=\"dataframe\">\n",
       "  <thead>\n",
       "    <tr style=\"text-align: right;\">\n",
       "      <th></th>\n",
       "      <th>dno</th>\n",
       "      <th>application_date</th>\n",
       "    </tr>\n",
       "    <tr>\n",
       "      <th>person_uuid</th>\n",
       "      <th></th>\n",
       "      <th></th>\n",
       "    </tr>\n",
       "  </thead>\n",
       "  <tbody>\n",
       "    <tr>\n",
       "      <th>40b80987-33e2-4278-b660-4315a4a851f7</th>\n",
       "      <td>4068.0</td>\n",
       "      <td>1965-05-11</td>\n",
       "    </tr>\n",
       "    <tr>\n",
       "      <th>40b80987-33e2-4278-b660-4315a4a851f7</th>\n",
       "      <td>4076.0</td>\n",
       "      <td>1965-05-11</td>\n",
       "    </tr>\n",
       "  </tbody>\n",
       "</table>\n",
       "</div>"
      ],
      "text/plain": [
       "                                         dno application_date\n",
       "person_uuid                                                  \n",
       "40b80987-33e2-4278-b660-4315a4a851f7  4068.0       1965-05-11\n",
       "40b80987-33e2-4278-b660-4315a4a851f7  4076.0       1965-05-11"
      ]
     },
     "execution_count": 666,
     "metadata": {},
     "output_type": "execute_result"
    }
   ],
   "source": [
    "full_matches8.loc[full_matches8[PERSON_ID]=='40b80987-33e2-4278-b660-4315a4a851f7', ['dno', 'application_date']]"
   ]
  },
  {
   "cell_type": "code",
   "execution_count": 667,
   "metadata": {
    "collapsed": false
   },
   "outputs": [
    {
     "name": "stdout",
     "output_type": "stream",
     "text": [
      "(4107, 100)\n",
      "(2736, 99)\n",
      "(4106, 78)\n"
     ]
    }
   ],
   "source": [
    "wide_apps = full_matches9.combine_first(apps8)\n",
    "print wide_apps.shape\n",
    "print full_matches9.shape\n",
    "print apps8.shape"
   ]
  },
  {
   "cell_type": "code",
   "execution_count": 668,
   "metadata": {
    "collapsed": false
   },
   "outputs": [
    {
     "data": {
      "text/html": [
       "<div>\n",
       "<table border=\"1\" class=\"dataframe\">\n",
       "  <thead>\n",
       "    <tr style=\"text-align: right;\">\n",
       "      <th></th>\n",
       "      <th>clean_middle_name</th>\n",
       "      <th>clean_last_name</th>\n",
       "      <th>clean_first_name</th>\n",
       "    </tr>\n",
       "    <tr>\n",
       "      <th>person_uuid</th>\n",
       "      <th></th>\n",
       "      <th></th>\n",
       "      <th></th>\n",
       "    </tr>\n",
       "  </thead>\n",
       "  <tbody>\n",
       "    <tr>\n",
       "      <th>1</th>\n",
       "      <td>1</td>\n",
       "      <td>1</td>\n",
       "      <td>1</td>\n",
       "    </tr>\n",
       "  </tbody>\n",
       "</table>\n",
       "</div>"
      ],
      "text/plain": [
       "            clean_middle_name clean_last_name clean_first_name\n",
       "person_uuid                                                   \n",
       "1                           1               1                1"
      ]
     },
     "execution_count": 668,
     "metadata": {},
     "output_type": "execute_result"
    }
   ],
   "source": [
    "wide_apps.loc[~wide_apps[PERSON_ID].isin(apps8[PERSON_ID]), NAME_COLS]"
   ]
  },
  {
   "cell_type": "code",
   "execution_count": 536,
   "metadata": {
    "collapsed": false
   },
   "outputs": [
    {
     "data": {
      "text/html": [
       "<div>\n",
       "<table border=\"1\" class=\"dataframe\">\n",
       "  <thead>\n",
       "    <tr style=\"text-align: right;\">\n",
       "      <th></th>\n",
       "      <th>Unnamed: 0</th>\n",
       "      <th>address</th>\n",
       "      <th>age</th>\n",
       "      <th>application_date</th>\n",
       "      <th>application_date_2</th>\n",
       "      <th>application_date_3</th>\n",
       "      <th>application_year</th>\n",
       "      <th>application_year_2</th>\n",
       "      <th>associate_program_entered</th>\n",
       "      <th>bob</th>\n",
       "      <th>...</th>\n",
       "      <th>suffix</th>\n",
       "      <th>supervisor</th>\n",
       "      <th>teaching</th>\n",
       "      <th>undergrad_year_grad</th>\n",
       "      <th>undergraduate_school</th>\n",
       "      <th>unknown</th>\n",
       "      <th>withdrawal</th>\n",
       "      <th>year_accepted</th>\n",
       "      <th>year_grad</th>\n",
       "      <th>zip_code</th>\n",
       "    </tr>\n",
       "    <tr>\n",
       "      <th>person_uuid</th>\n",
       "      <th></th>\n",
       "      <th></th>\n",
       "      <th></th>\n",
       "      <th></th>\n",
       "      <th></th>\n",
       "      <th></th>\n",
       "      <th></th>\n",
       "      <th></th>\n",
       "      <th></th>\n",
       "      <th></th>\n",
       "      <th></th>\n",
       "      <th></th>\n",
       "      <th></th>\n",
       "      <th></th>\n",
       "      <th></th>\n",
       "      <th></th>\n",
       "      <th></th>\n",
       "      <th></th>\n",
       "      <th></th>\n",
       "      <th></th>\n",
       "      <th></th>\n",
       "    </tr>\n",
       "  </thead>\n",
       "  <tbody>\n",
       "  </tbody>\n",
       "</table>\n",
       "<p>0 rows × 100 columns</p>\n",
       "</div>"
      ],
      "text/plain": [
       "Empty DataFrame\n",
       "Columns: [Unnamed: 0, address, age, application_date, application_date_2, application_date_3, application_year, application_year_2, associate_program_entered, bob, ca, cc, citizenship, city, clean_college_trans, clean_first_name, clean_last_name, clean_medical_school, clean_middle_name, clean_suffix, clinical, cord, data_source, date_of_birth, dbs, dno, dob, eod_year, first_name, firstname, flag_missing_app_date, flag_not_matched_manual, flag_rejected, generation, honor_societies_first, honor_societies_fourth, honor_societies_second, honor_societies_third, ic, institute, intern_dates, internship_hospital, internship_year(s), is_female, lab_brch, last_name, last_name_counts, lastname, match_score, med_school_sim, medical_school, medschool_year_grad, middle_name, middlename, nci, nei, nhi, nhli, niaid, niamd, niamdd, nichd, nichhd, nidr, niehs, nigms, nimh, nindb, ninds, not_matched, oir, person_app_uuid, person_uuid, pharm_ra, pi, program, ra, raw_uuid, rejected, rejection_date, res_dates, research, residency, residency_hospital, residency_year(s), reviewer, sa, source, ssn, state, suffix, supervisor, teaching, undergrad_year_grad, undergraduate_school, unknown, withdrawal, year_accepted, year_grad, zip_code]\n",
       "Index: []\n",
       "\n",
       "[0 rows x 100 columns]"
      ]
     },
     "execution_count": 536,
     "metadata": {},
     "output_type": "execute_result"
    }
   ],
   "source": [
    "wide_apps.loc[wide_apps.duplicated(PERSON_ID, keep=False), :]"
   ]
  },
  {
   "cell_type": "code",
   "execution_count": 669,
   "metadata": {
    "collapsed": false
   },
   "outputs": [],
   "source": [
    "# sorted(wide_apps.columns)"
   ]
  },
  {
   "cell_type": "code",
   "execution_count": 670,
   "metadata": {
    "collapsed": false
   },
   "outputs": [],
   "source": [
    "wide_apps2 = wide_apps.drop(['Unnamed: 0', 'firstname', 'lastname', 'middlename',  'med_school_sim', 'match_score', \n",
    "                'unknown', 'internship_year(s)', 'residency_year(s)', 'first_name', 'last_name', 'middle_name', \n",
    "                        'undergraduate_school', 'year_grad' ], axis=1)"
   ]
  },
  {
   "cell_type": "code",
   "execution_count": 671,
   "metadata": {
    "collapsed": false
   },
   "outputs": [],
   "source": [
    "wide_apps2.rename(columns={'clean_college_trans': 'clean_college'}, inplace=True)"
   ]
  },
  {
   "cell_type": "code",
   "execution_count": 672,
   "metadata": {
    "collapsed": true
   },
   "outputs": [],
   "source": [
    "# consolidate dob and date_of_birth, undergraduate_school and clean_college, intern_dates and internship_year(s)\n",
    "# res_dates and residency_year(s)\n",
    "# year_grad"
   ]
  },
  {
   "cell_type": "code",
   "execution_count": 673,
   "metadata": {
    "collapsed": false
   },
   "outputs": [],
   "source": [
    "# replace date of birth with dob whenever date of birth missing and dob is not\n",
    "wide_apps2.loc[\n",
    "    (pd.isnull(wide_apps2['date_of_birth'])) & (~pd.isnull(wide_apps2['dob'])), 'date_of_birth'] = wide_apps2.loc[\n",
    "        (pd.isnull(wide_apps2['date_of_birth'])) & (~pd.isnull(wide_apps2['dob'])), 'dob']\n"
   ]
  },
  {
   "cell_type": "code",
   "execution_count": 674,
   "metadata": {
    "collapsed": false
   },
   "outputs": [
    {
     "data": {
      "text/html": [
       "<div>\n",
       "<table border=\"1\" class=\"dataframe\">\n",
       "  <thead>\n",
       "    <tr style=\"text-align: right;\">\n",
       "      <th></th>\n",
       "      <th>date_of_birth</th>\n",
       "      <th>dob</th>\n",
       "    </tr>\n",
       "    <tr>\n",
       "      <th>person_uuid</th>\n",
       "      <th></th>\n",
       "      <th></th>\n",
       "    </tr>\n",
       "  </thead>\n",
       "  <tbody>\n",
       "  </tbody>\n",
       "</table>\n",
       "</div>"
      ],
      "text/plain": [
       "Empty DataFrame\n",
       "Columns: [date_of_birth, dob]\n",
       "Index: []"
      ]
     },
     "execution_count": 674,
     "metadata": {},
     "output_type": "execute_result"
    }
   ],
   "source": [
    "c1 = 'date_of_birth'\n",
    "c2 = 'dob'\n",
    "wide_apps2.loc[(pd.isnull(wide_apps2[c1])) & (~pd.isnull(wide_apps2[c2])), [c1, c2]]"
   ]
  },
  {
   "cell_type": "code",
   "execution_count": 675,
   "metadata": {
    "collapsed": false
   },
   "outputs": [],
   "source": [
    "# delete them\n",
    "wide_apps3 = wide_apps2.drop(['dob'], axis=1)"
   ]
  },
  {
   "cell_type": "code",
   "execution_count": 676,
   "metadata": {
    "collapsed": true
   },
   "outputs": [],
   "source": [
    "wide_apps3.rename(columns={'res_dates': 'residency_dates', 'intern_dates': 'internship_dates'}, inplace=True)"
   ]
  },
  {
   "cell_type": "code",
   "execution_count": 677,
   "metadata": {
    "collapsed": true
   },
   "outputs": [],
   "source": [
    "IMPORTANT_COLS = [NIH_ID, PERSON_ID, 'application_year', 'eod_year', 'application_date', 'clean_first_name', 'clean_middle_name', \n",
    "                 'clean_last_name', 'year_accepted', 'rejected', 'rejection_date', 'clean_college', 'clean_medical_school',\n",
    "                'residency_dates', 'internship_dates', 'application_date_2', 'application_year_2', 'application_date_3']"
   ]
  },
  {
   "cell_type": "code",
   "execution_count": 678,
   "metadata": {
    "collapsed": true
   },
   "outputs": [],
   "source": [
    "other_cols = sorted([i for i in wide_apps3.columns if i not in IMPORTANT_COLS])"
   ]
  },
  {
   "cell_type": "code",
   "execution_count": 679,
   "metadata": {
    "collapsed": false
   },
   "outputs": [],
   "source": [
    "# order columns so important ones are \n",
    "wide_apps4 = wide_apps3[IMPORTANT_COLS+other_cols].sort_values(['clean_last_name', 'application_year'])"
   ]
  },
  {
   "cell_type": "code",
   "execution_count": 680,
   "metadata": {
    "collapsed": false
   },
   "outputs": [],
   "source": [
    "wide_apps5 = wide_apps4.dropna(subset=[PERSON_ID], axis=0).sort_values(['clean_last_name', 'clean_first_name'])"
   ]
  },
  {
   "cell_type": "code",
   "execution_count": 681,
   "metadata": {
    "collapsed": true
   },
   "outputs": [],
   "source": [
    "wide_apps5.to_pickle(os.path.join(APP_DATA_DIR, 'all_apps_plus_NIH_info.p'))\n",
    "wide_apps5.to_csv(os.path.join(APP_DATA_DIR, 'all_apps_plus_NIH_info.csv'), index=False)"
   ]
  },
  {
   "cell_type": "code",
   "execution_count": 682,
   "metadata": {
    "collapsed": true
   },
   "outputs": [],
   "source": [
    "wide_apps_v = wide_apps5.loc[(wide_apps5.application_year>1960) & (wide_apps5.application_year<1976), :].sort_values(\n",
    "    ['clean_last_name', 'application_date'])"
   ]
  },
  {
   "cell_type": "code",
   "execution_count": 683,
   "metadata": {
    "collapsed": true
   },
   "outputs": [],
   "source": [
    "wide_apps_v.to_pickle(os.path.join(APP_DATA_DIR, 'all_apps_plus_NIH_info_vietnam.p'))\n",
    "\n",
    "wide_apps_v.to_csv(os.path.join(APP_DATA_DIR, 'all_apps_plus_NIH_info_vietnam.csv'))"
   ]
  },
  {
   "cell_type": "code",
   "execution_count": 684,
   "metadata": {
    "collapsed": false
   },
   "outputs": [
    {
     "data": {
      "text/html": [
       "<div>\n",
       "<table border=\"1\" class=\"dataframe\">\n",
       "  <thead>\n",
       "    <tr style=\"text-align: right;\">\n",
       "      <th></th>\n",
       "      <th>clean_middle_name</th>\n",
       "      <th>clean_last_name</th>\n",
       "      <th>clean_first_name</th>\n",
       "      <th>application_year</th>\n",
       "      <th>eod_year</th>\n",
       "      <th>clean_medical_school</th>\n",
       "      <th>residency_dates</th>\n",
       "    </tr>\n",
       "    <tr>\n",
       "      <th>person_uuid</th>\n",
       "      <th></th>\n",
       "      <th></th>\n",
       "      <th></th>\n",
       "      <th></th>\n",
       "      <th></th>\n",
       "      <th></th>\n",
       "      <th></th>\n",
       "    </tr>\n",
       "  </thead>\n",
       "  <tbody>\n",
       "  </tbody>\n",
       "</table>\n",
       "</div>"
      ],
      "text/plain": [
       "Empty DataFrame\n",
       "Columns: [clean_middle_name, clean_last_name, clean_first_name, application_year, eod_year, clean_medical_school, residency_dates]\n",
       "Index: []"
      ]
     },
     "execution_count": 684,
     "metadata": {},
     "output_type": "execute_result"
    }
   ],
   "source": [
    "wide_apps_v.loc[wide_apps_v.eod_year> 1980, NAME_COLS+['application_year', 'eod_year', 'clean_medical_school', 'residency_dates']]"
   ]
  },
  {
   "cell_type": "code",
   "execution_count": 564,
   "metadata": {
    "collapsed": false
   },
   "outputs": [
    {
     "data": {
      "text/html": [
       "<div>\n",
       "<table border=\"1\" class=\"dataframe\">\n",
       "  <thead>\n",
       "    <tr style=\"text-align: right;\">\n",
       "      <th></th>\n",
       "      <th>clean_middle_name</th>\n",
       "      <th>clean_last_name</th>\n",
       "      <th>clean_first_name</th>\n",
       "      <th>clean_medical_school</th>\n",
       "      <th>res_dates</th>\n",
       "    </tr>\n",
       "  </thead>\n",
       "  <tbody>\n",
       "    <tr>\n",
       "      <th>3929</th>\n",
       "      <td>RICHARD</td>\n",
       "      <td>WILLIAMSON</td>\n",
       "      <td>PETER</td>\n",
       "      <td>BOSTON</td>\n",
       "      <td>1988-1989</td>\n",
       "    </tr>\n",
       "  </tbody>\n",
       "</table>\n",
       "</div>"
      ],
      "text/plain": [
       "     clean_middle_name clean_last_name clean_first_name clean_medical_school  \\\n",
       "3929           RICHARD      WILLIAMSON            PETER               BOSTON   \n",
       "\n",
       "      res_dates  \n",
       "3929  1988-1989  "
      ]
     },
     "execution_count": 564,
     "metadata": {},
     "output_type": "execute_result"
    }
   ],
   "source": [
    "NIH.loc[NIH.clean_last_name=='WILLIAMSON', NAME_COLS+['clean_medical_school', 'res_dates']]"
   ]
  },
  {
   "cell_type": "code",
   "execution_count": 561,
   "metadata": {
    "collapsed": false
   },
   "outputs": [
    {
     "data": {
      "text/html": [
       "<div>\n",
       "<table border=\"1\" class=\"dataframe\">\n",
       "  <thead>\n",
       "    <tr style=\"text-align: right;\">\n",
       "      <th></th>\n",
       "      <th>person_app_uuid</th>\n",
       "      <th>address</th>\n",
       "      <th>age</th>\n",
       "      <th>application_date</th>\n",
       "      <th>associate_program_entered</th>\n",
       "      <th>bob</th>\n",
       "      <th>ca</th>\n",
       "      <th>cc</th>\n",
       "      <th>cord</th>\n",
       "      <th>citizenship</th>\n",
       "      <th>...</th>\n",
       "      <th>application_year</th>\n",
       "      <th>person_uuid</th>\n",
       "      <th>not_matched</th>\n",
       "      <th>flag_rejected</th>\n",
       "      <th>application_date_2</th>\n",
       "      <th>application_date_3</th>\n",
       "      <th>res_dates</th>\n",
       "      <th>intern_dates</th>\n",
       "      <th>clean_medical_school</th>\n",
       "      <th>last_name_counts</th>\n",
       "    </tr>\n",
       "    <tr>\n",
       "      <th>person_uuid</th>\n",
       "      <th></th>\n",
       "      <th></th>\n",
       "      <th></th>\n",
       "      <th></th>\n",
       "      <th></th>\n",
       "      <th></th>\n",
       "      <th></th>\n",
       "      <th></th>\n",
       "      <th></th>\n",
       "      <th></th>\n",
       "      <th></th>\n",
       "      <th></th>\n",
       "      <th></th>\n",
       "      <th></th>\n",
       "      <th></th>\n",
       "      <th></th>\n",
       "      <th></th>\n",
       "      <th></th>\n",
       "      <th></th>\n",
       "      <th></th>\n",
       "      <th></th>\n",
       "    </tr>\n",
       "  </thead>\n",
       "  <tbody>\n",
       "    <tr>\n",
       "      <th>f9292a55-0ce4-44a0-a8f4-68731d499b3a</th>\n",
       "      <td>926</td>\n",
       "      <td>3503 Herb Lane</td>\n",
       "      <td>NaN</td>\n",
       "      <td>1970-03-08</td>\n",
       "      <td>NaN</td>\n",
       "      <td>0.0</td>\n",
       "      <td>1.0</td>\n",
       "      <td>1.0</td>\n",
       "      <td>NaN</td>\n",
       "      <td>NaN</td>\n",
       "      <td>...</td>\n",
       "      <td>1970</td>\n",
       "      <td>f9292a55-0ce4-44a0-a8f4-68731d499b3a</td>\n",
       "      <td>NaN</td>\n",
       "      <td>0</td>\n",
       "      <td>NaT</td>\n",
       "      <td>NaT</td>\n",
       "      <td>1970-1971</td>\n",
       "      <td>1969-1970</td>\n",
       "      <td>VANDERBILT</td>\n",
       "      <td>2</td>\n",
       "    </tr>\n",
       "  </tbody>\n",
       "</table>\n",
       "<p>1 rows × 77 columns</p>\n",
       "</div>"
      ],
      "text/plain": [
       "                                      person_app_uuid         address  age  \\\n",
       "person_uuid                                                                  \n",
       "f9292a55-0ce4-44a0-a8f4-68731d499b3a              926  3503 Herb Lane  NaN   \n",
       "\n",
       "                                     application_date  \\\n",
       "person_uuid                                             \n",
       "f9292a55-0ce4-44a0-a8f4-68731d499b3a       1970-03-08   \n",
       "\n",
       "                                     associate_program_entered  bob   ca   cc  \\\n",
       "person_uuid                                                                     \n",
       "f9292a55-0ce4-44a0-a8f4-68731d499b3a                       NaN  0.0  1.0  1.0   \n",
       "\n",
       "                                      cord citizenship        ...         \\\n",
       "person_uuid                                                   ...          \n",
       "f9292a55-0ce4-44a0-a8f4-68731d499b3a   NaN         NaN        ...          \n",
       "\n",
       "                                     application_year  \\\n",
       "person_uuid                                             \n",
       "f9292a55-0ce4-44a0-a8f4-68731d499b3a             1970   \n",
       "\n",
       "                                                               person_uuid  \\\n",
       "person_uuid                                                                  \n",
       "f9292a55-0ce4-44a0-a8f4-68731d499b3a  f9292a55-0ce4-44a0-a8f4-68731d499b3a   \n",
       "\n",
       "                                      not_matched flag_rejected  \\\n",
       "person_uuid                                                       \n",
       "f9292a55-0ce4-44a0-a8f4-68731d499b3a          NaN             0   \n",
       "\n",
       "                                     application_date_2 application_date_3  \\\n",
       "person_uuid                                                                  \n",
       "f9292a55-0ce4-44a0-a8f4-68731d499b3a                NaT                NaT   \n",
       "\n",
       "                                      res_dates  intern_dates  \\\n",
       "person_uuid                                                     \n",
       "f9292a55-0ce4-44a0-a8f4-68731d499b3a  1970-1971     1969-1970   \n",
       "\n",
       "                                      clean_medical_school  last_name_counts  \n",
       "person_uuid                                                                   \n",
       "f9292a55-0ce4-44a0-a8f4-68731d499b3a            VANDERBILT                 2  \n",
       "\n",
       "[1 rows x 77 columns]"
      ]
     },
     "execution_count": 561,
     "metadata": {},
     "output_type": "execute_result"
    }
   ],
   "source": [
    "apps6.loc[apps6.clean_last_name=='WILLIAMSON', :]"
   ]
  },
  {
   "cell_type": "code",
   "execution_count": 686,
   "metadata": {
    "collapsed": false
   },
   "outputs": [
    {
     "data": {
      "text/plain": [
       "1973.0    217\n",
       "1972.0    211\n",
       "1970.0    204\n",
       "1968.0    199\n",
       "1971.0    198\n",
       "1969.0    190\n",
       "1967.0    188\n",
       "1974.0    184\n",
       "1966.0    174\n",
       "1965.0    149\n",
       "1975.0    133\n",
       "1964.0    123\n",
       "1963.0    118\n",
       "1976.0     97\n",
       "1977.0     57\n",
       "1962.0     40\n",
       "1961.0     17\n",
       "1978.0     13\n",
       "1979.0      4\n",
       "1960.0      2\n",
       "Name: eod_year, dtype: int64"
      ]
     },
     "execution_count": 686,
     "metadata": {},
     "output_type": "execute_result"
    }
   ],
   "source": [
    "wide_apps_v.eod_year.value_counts()"
   ]
  },
  {
   "cell_type": "code",
   "execution_count": 691,
   "metadata": {
    "collapsed": false
   },
   "outputs": [
    {
     "data": {
      "text/plain": [
       "(290, 30)"
      ]
     },
     "execution_count": 691,
     "metadata": {},
     "output_type": "execute_result"
    }
   ],
   "source": [
    "# note that this really overestimates people who are not matches\n",
    "# some of people are not matched it is because their dno is a duplicate of someone already matches\n",
    "not_matched_apps = apps6.loc[~apps6[PERSON_ID].isin(wide_apps5[PERSON_ID]), :]\n",
    "not_matched_attendees = NIH.loc[~NIH[NIH_ID].isin(wide_apps5[NIH_ID]), :]\n",
    "\n",
    "\n",
    "not_matched_attendees.shape"
   ]
  },
  {
   "cell_type": "code",
   "execution_count": 697,
   "metadata": {
    "collapsed": false
   },
   "outputs": [],
   "source": [
    "# check for people with a big discrepancy between eod date and application_year\n",
    "eod_year_diff = wide_apps_v.loc[\n",
    "    (~pd.isnull(wide_apps_v.dno)&(wide_apps_v.eod_year-wide_apps.application_year>3)), IMPORTANT_COLS]\n",
    "eod_year_diff.to_csv(os.path.join(APP_DATA_DIR, 'matches_eod_year_diff_gt3.csv'), index=False)"
   ]
  },
  {
   "cell_type": "code",
   "execution_count": 700,
   "metadata": {
    "collapsed": false
   },
   "outputs": [],
   "source": [
    "year_counts_df = pd.concat([wide_apps_v.application_year.value_counts(), \n",
    "           wide_apps_v.loc[~pd.isnull(wide_apps.dno), 'application_year'].value_counts(), \n",
    "           wide_apps_v.loc[pd.isnull(wide_apps.dno), 'application_year'].value_counts(), \n",
    "          ], axis=1)"
   ]
  },
  {
   "cell_type": "code",
   "execution_count": 701,
   "metadata": {
    "collapsed": true
   },
   "outputs": [],
   "source": [
    "year_counts_df.columns = ['total', 'matched', 'not_matched']"
   ]
  },
  {
   "cell_type": "code",
   "execution_count": 702,
   "metadata": {
    "collapsed": true
   },
   "outputs": [],
   "source": [
    "year_counts_df.to_csv(os.path.join(ATT_DATA_DIR, 'data_counts.csv'))"
   ]
  },
  {
   "cell_type": "code",
   "execution_count": 692,
   "metadata": {
    "collapsed": true
   },
   "outputs": [],
   "source": [
    "not_matched_attendees_vietnam = not_matched_attendees.loc[(not_matched_attendees.eod_year<1976) & (not_matched_attendees.eod_year>1960), :].sort_values('clean_last_name')"
   ]
  },
  {
   "cell_type": "code",
   "execution_count": 693,
   "metadata": {
    "collapsed": false
   },
   "outputs": [
    {
     "data": {
      "text/plain": [
       "(51, 30)"
      ]
     },
     "execution_count": 693,
     "metadata": {},
     "output_type": "execute_result"
    }
   ],
   "source": [
    "not_matched_attendees_vietnam.shape"
   ]
  },
  {
   "cell_type": "code",
   "execution_count": 695,
   "metadata": {
    "ExecuteTime": {
     "end_time": "2016-09-06T21:38:00.442444",
     "start_time": "2016-09-06T21:38:00.417704"
    },
    "collapsed": false
   },
   "outputs": [],
   "source": [
    "not_matched_attendees_vietnam.sort_values(['clean_last_name', 'clean_first_name']).to_csv(\n",
    "    os.path.join(ATT_DATA_DIR, 'not_matched_attendees.csv'), index=False)"
   ]
  },
  {
   "cell_type": "code",
   "execution_count": 694,
   "metadata": {
    "collapsed": false
   },
   "outputs": [
    {
     "data": {
      "text/html": [
       "<div>\n",
       "<table border=\"1\" class=\"dataframe\">\n",
       "  <thead>\n",
       "    <tr style=\"text-align: right;\">\n",
       "      <th></th>\n",
       "      <th>clean_middle_name</th>\n",
       "      <th>clean_last_name</th>\n",
       "      <th>clean_first_name</th>\n",
       "      <th>res_dates</th>\n",
       "      <th>intern_dates</th>\n",
       "      <th>residency_hospital</th>\n",
       "      <th>internship_hospital</th>\n",
       "      <th>medical_school</th>\n",
       "      <th>residency</th>\n",
       "    </tr>\n",
       "  </thead>\n",
       "  <tbody>\n",
       "    <tr>\n",
       "      <th>28</th>\n",
       "      <td>PHILLIP</td>\n",
       "      <td>ADLER</td>\n",
       "      <td>STUART</td>\n",
       "      <td>NaN</td>\n",
       "      <td>1971-1972</td>\n",
       "      <td>NaN</td>\n",
       "      <td>JOHNS HOPKINS HOSPITAL</td>\n",
       "      <td>JOHNS HOPKINS UNIVERSITY SCHOOL OF MEDICINE</td>\n",
       "      <td>NaN</td>\n",
       "    </tr>\n",
       "    <tr>\n",
       "      <th>88</th>\n",
       "      <td>DOUGLAS</td>\n",
       "      <td>ANDREWS</td>\n",
       "      <td>ALAN</td>\n",
       "      <td>NaN</td>\n",
       "      <td>NaN</td>\n",
       "      <td>NaN</td>\n",
       "      <td>NaN</td>\n",
       "      <td>UNIVERSITY OF VIRGINIA</td>\n",
       "      <td>DERMATOLOGY</td>\n",
       "    </tr>\n",
       "    <tr>\n",
       "      <th>239</th>\n",
       "      <td>CLAUDE</td>\n",
       "      <td>BENNETT</td>\n",
       "      <td>J</td>\n",
       "      <td>1959-1960</td>\n",
       "      <td>1958-1959</td>\n",
       "      <td>UNIVERSITY HOSPITAL BIRMINGHAM ALABAMA</td>\n",
       "      <td>UNIVERSITY HOSPITAL BIRMINGHAM ALABAMA</td>\n",
       "      <td>HARVARD</td>\n",
       "      <td>MEDICINE</td>\n",
       "    </tr>\n",
       "    <tr>\n",
       "      <th>248</th>\n",
       "      <td>J</td>\n",
       "      <td>BENTXEL</td>\n",
       "      <td>CARL</td>\n",
       "      <td>1959-1961</td>\n",
       "      <td>1958-1959</td>\n",
       "      <td>PRESBYTERIAN N Y</td>\n",
       "      <td>PRESBYTERIAN N Y</td>\n",
       "      <td>MEDICAL COLLEGE OF ALABAMA</td>\n",
       "      <td>NaN</td>\n",
       "    </tr>\n",
       "    <tr>\n",
       "      <th>333</th>\n",
       "      <td>KENNETH</td>\n",
       "      <td>BLAYLOCK</td>\n",
       "      <td>W</td>\n",
       "      <td>1960-1961</td>\n",
       "      <td>1958-1959</td>\n",
       "      <td>DUKE HOSPITAL</td>\n",
       "      <td>DUKE HOSPITAL</td>\n",
       "      <td>MEDICAL COLLEGE OF VA</td>\n",
       "      <td>MEDICINE</td>\n",
       "    </tr>\n",
       "    <tr>\n",
       "      <th>456</th>\n",
       "      <td>W</td>\n",
       "      <td>BROWN</td>\n",
       "      <td>JOHN</td>\n",
       "      <td>NaN</td>\n",
       "      <td>NaN</td>\n",
       "      <td>NaN</td>\n",
       "      <td>UNIVERSITY OF MICHIGAN AFFILIATED</td>\n",
       "      <td>INDIANA UNIVERSITY</td>\n",
       "      <td>NaN</td>\n",
       "    </tr>\n",
       "    <tr>\n",
       "      <th>459</th>\n",
       "      <td>C</td>\n",
       "      <td>BROWN</td>\n",
       "      <td>NEIL</td>\n",
       "      <td>NaN</td>\n",
       "      <td>1961-1962</td>\n",
       "      <td>NaN</td>\n",
       "      <td>DUKE</td>\n",
       "      <td>ALBANY</td>\n",
       "      <td>NaN</td>\n",
       "    </tr>\n",
       "    <tr>\n",
       "      <th>642</th>\n",
       "      <td>JOHN</td>\n",
       "      <td>CLARK</td>\n",
       "      <td>ROBERT</td>\n",
       "      <td>1968-1969</td>\n",
       "      <td>1967-1968</td>\n",
       "      <td>BOSTON CITY HARVARD IV</td>\n",
       "      <td>BOSTON CITY HARVARD IV</td>\n",
       "      <td>WASHINGTON UNIVERSITY</td>\n",
       "      <td>MEDICINE</td>\n",
       "    </tr>\n",
       "    <tr>\n",
       "      <th>643</th>\n",
       "      <td>DOUGLAS</td>\n",
       "      <td>CLARK</td>\n",
       "      <td>W</td>\n",
       "      <td>1959-1961</td>\n",
       "      <td>NaN</td>\n",
       "      <td>UNIVERSITY OF VIRGINIA</td>\n",
       "      <td>NaN</td>\n",
       "      <td>NaN</td>\n",
       "      <td>SURGERY</td>\n",
       "    </tr>\n",
       "    <tr>\n",
       "      <th>663</th>\n",
       "      <td>LEROY</td>\n",
       "      <td>COHEN</td>\n",
       "      <td>KENNETH</td>\n",
       "      <td>1972-1973</td>\n",
       "      <td>1971-1972</td>\n",
       "      <td>YALE NEW HAVEN MEDICAL CENTER</td>\n",
       "      <td>YALE NEW HAVEN MEDICAL CENTER</td>\n",
       "      <td>NEW YORK UNIVERSITY SCHOOL OF MEDICINE</td>\n",
       "      <td>ST MEDICINE</td>\n",
       "    </tr>\n",
       "    <tr>\n",
       "      <th>672</th>\n",
       "      <td>JAY</td>\n",
       "      <td>COHEN</td>\n",
       "      <td>RONALD</td>\n",
       "      <td>1973-1974</td>\n",
       "      <td>1972-1973</td>\n",
       "      <td>JOHNS HOPKINS</td>\n",
       "      <td>NaN</td>\n",
       "      <td>JOHNS HOPKINS</td>\n",
       "      <td>NEUROSURGERY</td>\n",
       "    </tr>\n",
       "    <tr>\n",
       "      <th>710</th>\n",
       "      <td>LOWE</td>\n",
       "      <td>COOK</td>\n",
       "      <td>JAMES</td>\n",
       "      <td>1973-1975</td>\n",
       "      <td>1972-1973</td>\n",
       "      <td>UNIVERSITY OF UTAH AFFILIATED HOSPITALS</td>\n",
       "      <td>UNIVERSITY OF UTAH AFFILIATED HOSPITALS</td>\n",
       "      <td>BAYLOR COLLEGE OF MEDICINE</td>\n",
       "      <td>INTERNAL MEDICINE</td>\n",
       "    </tr>\n",
       "    <tr>\n",
       "      <th>791</th>\n",
       "      <td>H</td>\n",
       "      <td>DANOVITCH</td>\n",
       "      <td>STUART</td>\n",
       "      <td>1961-1966</td>\n",
       "      <td>1960-1961</td>\n",
       "      <td>GEORGETOWN WASHINGTON DC</td>\n",
       "      <td>DUKE</td>\n",
       "      <td>NORTHWESTERN MEDICAL SCHOOL</td>\n",
       "      <td>MEDICINE</td>\n",
       "    </tr>\n",
       "    <tr>\n",
       "      <th>807</th>\n",
       "      <td>BOWES</td>\n",
       "      <td>DAVIS</td>\n",
       "      <td>PAMELA</td>\n",
       "      <td>1974-1975</td>\n",
       "      <td>1973-1974</td>\n",
       "      <td>DUKE HOSPITAL</td>\n",
       "      <td>DUKE HOSPITAL</td>\n",
       "      <td>DUKE U</td>\n",
       "      <td>MEDICINE</td>\n",
       "    </tr>\n",
       "    <tr>\n",
       "      <th>877</th>\n",
       "      <td>CURTIS</td>\n",
       "      <td>DOHAN</td>\n",
       "      <td>F</td>\n",
       "      <td>1962-1963</td>\n",
       "      <td>1961-1962</td>\n",
       "      <td>MEDICINE BELLEVUE</td>\n",
       "      <td>MEDICINE BELLEVUE</td>\n",
       "      <td>HARVARD</td>\n",
       "      <td>MEDICINE</td>\n",
       "    </tr>\n",
       "    <tr>\n",
       "      <th>979</th>\n",
       "      <td>NaN</td>\n",
       "      <td>ENGLEMAN</td>\n",
       "      <td>KARL</td>\n",
       "      <td>1960-1961</td>\n",
       "      <td>1959-1960</td>\n",
       "      <td>MASSACHUSETTS GENERAL HOSPITAL</td>\n",
       "      <td>MASSACHUSETTS GENERAL HOSPITAL</td>\n",
       "      <td>HARVARD MEDICAL SCHOOL</td>\n",
       "      <td>MEDICINE</td>\n",
       "    </tr>\n",
       "    <tr>\n",
       "      <th>994</th>\n",
       "      <td>O</td>\n",
       "      <td>ERNST</td>\n",
       "      <td>DOUGLAS</td>\n",
       "      <td>NaN</td>\n",
       "      <td>NaN</td>\n",
       "      <td>NaN</td>\n",
       "      <td>NaN</td>\n",
       "      <td>NaN</td>\n",
       "      <td>NaN</td>\n",
       "    </tr>\n",
       "    <tr>\n",
       "      <th>1014</th>\n",
       "      <td>MARTIN</td>\n",
       "      <td>FALCHUK</td>\n",
       "      <td>DONALD</td>\n",
       "      <td>1967-1968</td>\n",
       "      <td>1966-1967</td>\n",
       "      <td>PETER BENT BRIGHAM BOSTON MASSACHUSETTS</td>\n",
       "      <td>DARTMOUTH MEDICAL SCHOOL</td>\n",
       "      <td>HARVARD MEDICAL SCHOOL</td>\n",
       "      <td>MEDICINE</td>\n",
       "    </tr>\n",
       "    <tr>\n",
       "      <th>1015</th>\n",
       "      <td>MARTIN</td>\n",
       "      <td>FALCHUK</td>\n",
       "      <td>DONALD</td>\n",
       "      <td>1968-1969</td>\n",
       "      <td>1967-1968</td>\n",
       "      <td>PETER BENT BRIGHAM BOSTON MASSACHUSETTS</td>\n",
       "      <td>PETER BENT BRIGHAM BOSTON MASSACHUSETTS</td>\n",
       "      <td>HARVARD MEDICAL</td>\n",
       "      <td>MEDICINE</td>\n",
       "    </tr>\n",
       "    <tr>\n",
       "      <th>1250</th>\n",
       "      <td>S</td>\n",
       "      <td>GILBERT</td>\n",
       "      <td>WILLIAM</td>\n",
       "      <td>NaN</td>\n",
       "      <td>1961-1962</td>\n",
       "      <td>BARNES HOSPITAL</td>\n",
       "      <td>NORTH CAROLINA MEMORIAL HOSPITAL</td>\n",
       "      <td>ALBERT EINSTEIN COLLEGE OF MEDICINE</td>\n",
       "      <td>OPHTHALMOLOGY</td>\n",
       "    </tr>\n",
       "    <tr>\n",
       "      <th>1343</th>\n",
       "      <td>ROBERT</td>\n",
       "      <td>GORDON</td>\n",
       "      <td>NORMAN</td>\n",
       "      <td>NaN</td>\n",
       "      <td>1971-1972</td>\n",
       "      <td>UNIVERSITY HOSPITALS OF CLEVELAND</td>\n",
       "      <td>UNIVERSITY HOSPITALS OF CLEVELAND</td>\n",
       "      <td>CASE WESTERN RESERVE U SCHOOL OF MED</td>\n",
       "      <td>INTERNAL MEDICINE</td>\n",
       "    </tr>\n",
       "    <tr>\n",
       "      <th>1517</th>\n",
       "      <td>LYNN</td>\n",
       "      <td>HAUGER</td>\n",
       "      <td>RICHARD</td>\n",
       "      <td>NaN</td>\n",
       "      <td>NaN</td>\n",
       "      <td>COLUMBIA UNIVERSITY</td>\n",
       "      <td>UNIVERSITY OF CHICAGO</td>\n",
       "      <td>UNIVERSITY OF PITTSBURGH</td>\n",
       "      <td>PSYCHIATRY</td>\n",
       "    </tr>\n",
       "    <tr>\n",
       "      <th>1528</th>\n",
       "      <td>H</td>\n",
       "      <td>HEALY</td>\n",
       "      <td>MARK</td>\n",
       "      <td>1968-1969</td>\n",
       "      <td>1967-1968</td>\n",
       "      <td>CHILDREN S HOSPITAL OF LOS ANGELES</td>\n",
       "      <td>CHILDREN S HOSPITAL OF LOS ANGELES</td>\n",
       "      <td>UNIVERSITY OF SOUTHERN CALIFORNIA SCHOOL OF ME...</td>\n",
       "      <td>PEDIATRICS</td>\n",
       "    </tr>\n",
       "    <tr>\n",
       "      <th>1605</th>\n",
       "      <td>A</td>\n",
       "      <td>HOFER</td>\n",
       "      <td>MYRON</td>\n",
       "      <td>1959-1960</td>\n",
       "      <td>1958-1959</td>\n",
       "      <td>MASSACHUSETTS GENERAL HOSPITAL</td>\n",
       "      <td>MASSACHUSETTS GENERAL HOSPITAL</td>\n",
       "      <td>HARVARD MEDICAL SCHOOL</td>\n",
       "      <td>NaN</td>\n",
       "    </tr>\n",
       "    <tr>\n",
       "      <th>1704</th>\n",
       "      <td>MORRIS</td>\n",
       "      <td>IRA</td>\n",
       "      <td>ALAN</td>\n",
       "      <td>NaN</td>\n",
       "      <td>1967-1968</td>\n",
       "      <td>NaN</td>\n",
       "      <td>RHODE ISLAND HOSPITAL</td>\n",
       "      <td>HARVARD MEDICAL SCHOOL</td>\n",
       "      <td>NaN</td>\n",
       "    </tr>\n",
       "    <tr>\n",
       "      <th>1772</th>\n",
       "      <td>WILLIAM</td>\n",
       "      <td>JONES</td>\n",
       "      <td>OLIVER</td>\n",
       "      <td>NaN</td>\n",
       "      <td>NaN</td>\n",
       "      <td>NaN</td>\n",
       "      <td>DUKE UNIVERSITY HOSPITAL DURHAM NORTH CAROLINA</td>\n",
       "      <td>UNIVERSITY OF OKLAHOMA</td>\n",
       "      <td>MEDICINE</td>\n",
       "    </tr>\n",
       "    <tr>\n",
       "      <th>1796</th>\n",
       "      <td>P</td>\n",
       "      <td>KAMPINE</td>\n",
       "      <td>JOHN</td>\n",
       "      <td>1962-1964</td>\n",
       "      <td>1961-1962</td>\n",
       "      <td>MARQUETTE UNIVERSITY U S P H S</td>\n",
       "      <td>MILWAUKEE CO GENERAL</td>\n",
       "      <td>MARQUETTE UNIVERSITY SCHOOL OF MEDICINE</td>\n",
       "      <td>PHYSIOLOGY</td>\n",
       "    </tr>\n",
       "    <tr>\n",
       "      <th>1798</th>\n",
       "      <td>ALOYSIUS</td>\n",
       "      <td>KANE</td>\n",
       "      <td>MICHAEL</td>\n",
       "      <td>1969-1970</td>\n",
       "      <td>1968-1969</td>\n",
       "      <td>BOSTON CITY HOSPITAL II AND IV MEDICAL SERVICE</td>\n",
       "      <td>BOSTON CITY HOSPITAL II AND IV MEDICAL SERVICE</td>\n",
       "      <td>BOSTON UNIVERSITY MEDICAL SCHOOL</td>\n",
       "      <td>MEDICINE</td>\n",
       "    </tr>\n",
       "    <tr>\n",
       "      <th>2077</th>\n",
       "      <td>GELB</td>\n",
       "      <td>LAWRENCE</td>\n",
       "      <td>D</td>\n",
       "      <td>1968-1969</td>\n",
       "      <td>1967-1968</td>\n",
       "      <td>MASSACHUSETTS GENERAL BOSTON</td>\n",
       "      <td>MASSACHUSETTS GENERAL BOSTON</td>\n",
       "      <td>HARVARD UNIVERSITY OF MICHIGAN</td>\n",
       "      <td>INTERNAL MEDICINE</td>\n",
       "    </tr>\n",
       "    <tr>\n",
       "      <th>2174</th>\n",
       "      <td>JEFFREY</td>\n",
       "      <td>LEWIS</td>\n",
       "      <td>RANDALL</td>\n",
       "      <td>1970-1971</td>\n",
       "      <td>1969-1970</td>\n",
       "      <td>BETH ISRAEL BOSTON</td>\n",
       "      <td>BETH ISRAEL BOSTON</td>\n",
       "      <td>HARVARD MEDICAL SCHOOL</td>\n",
       "      <td>SURGERY</td>\n",
       "    </tr>\n",
       "    <tr>\n",
       "      <th>2363</th>\n",
       "      <td>JAI</td>\n",
       "      <td>MARTON</td>\n",
       "      <td>LAWRENCE</td>\n",
       "      <td>NaN</td>\n",
       "      <td>NaN</td>\n",
       "      <td>UNIVERSITY OF CALIFORNIA MEDICAL CENTER SAN FR...</td>\n",
       "      <td>LA CO HARBOR GENERAL HOSPITAL</td>\n",
       "      <td>ALBERT EINSTEIN COLLEGE OF MEDICINE</td>\n",
       "      <td>NEURO SURGERY</td>\n",
       "    </tr>\n",
       "    <tr>\n",
       "      <th>2459</th>\n",
       "      <td>NaN</td>\n",
       "      <td>MERRIFIELD</td>\n",
       "      <td>JOHN</td>\n",
       "      <td>NaN</td>\n",
       "      <td>NaN</td>\n",
       "      <td>MASSACHUSETTS MENTAL HEALTH CENTER</td>\n",
       "      <td>NaN</td>\n",
       "      <td>HOWARD UNIVERSITY</td>\n",
       "      <td>PSYCHIATRY</td>\n",
       "    </tr>\n",
       "    <tr>\n",
       "      <th>2476</th>\n",
       "      <td>I</td>\n",
       "      <td>MICHAEL</td>\n",
       "      <td>PAUL</td>\n",
       "      <td>1967-1968</td>\n",
       "      <td>NaN</td>\n",
       "      <td>UNIVERSITY OF CALIFORNIA AT LA</td>\n",
       "      <td>WADSWORTH GENERAL HOSPITAL LOS ANGELES CALIFORNIA</td>\n",
       "      <td>UCLA</td>\n",
       "      <td>NEUROPSYCHIATRIC INSTITUTE</td>\n",
       "    </tr>\n",
       "    <tr>\n",
       "      <th>2503</th>\n",
       "      <td>VICTOR</td>\n",
       "      <td>MILLER</td>\n",
       "      <td>JAMES</td>\n",
       "      <td>1968-1969</td>\n",
       "      <td>1967-1968</td>\n",
       "      <td>BARNES HOSPITAL ST LOUIS</td>\n",
       "      <td>BARNES HOSPITAL ST LOUIS</td>\n",
       "      <td>YALE MEDICAL SCHOOL</td>\n",
       "      <td>MEDICINE</td>\n",
       "    </tr>\n",
       "    <tr>\n",
       "      <th>2617</th>\n",
       "      <td>FRANCIS</td>\n",
       "      <td>NATHAN</td>\n",
       "      <td>CARL</td>\n",
       "      <td>1973-1974</td>\n",
       "      <td>NaN</td>\n",
       "      <td>MASSACHUSETTS GENERAL HOSPITAL</td>\n",
       "      <td>NaN</td>\n",
       "      <td>HARVARD MEDICAL SCHOOL</td>\n",
       "      <td>MEDICINE</td>\n",
       "    </tr>\n",
       "    <tr>\n",
       "      <th>2619</th>\n",
       "      <td>G</td>\n",
       "      <td>NATHENSON</td>\n",
       "      <td>STANLEY</td>\n",
       "      <td>1960-1961</td>\n",
       "      <td>1959-1960</td>\n",
       "      <td>BARNES</td>\n",
       "      <td>BARNES HOSPITAL</td>\n",
       "      <td>WASHINGTON UNIVERSITY SCHOOL OF MEDICINE ST ME...</td>\n",
       "      <td>PHARMACOLOGY</td>\n",
       "    </tr>\n",
       "    <tr>\n",
       "      <th>2625</th>\n",
       "      <td>SHERWIN</td>\n",
       "      <td>NEIDORF</td>\n",
       "      <td>BARRY</td>\n",
       "      <td>1966-1967</td>\n",
       "      <td>1965-1966</td>\n",
       "      <td>NaN</td>\n",
       "      <td>NEW ENGLAND MEDICAL CENTER HOSPITALS</td>\n",
       "      <td>TUFTS UNIVERSITY SCHOOL OF MEDICINE</td>\n",
       "      <td>INTERNAL MEDICINE</td>\n",
       "    </tr>\n",
       "    <tr>\n",
       "      <th>2719</th>\n",
       "      <td>HOLLAND</td>\n",
       "      <td>ORKIN</td>\n",
       "      <td>STUART</td>\n",
       "      <td>NaN</td>\n",
       "      <td>NaN</td>\n",
       "      <td>NaN</td>\n",
       "      <td>UNKNOWN AS YET</td>\n",
       "      <td>HARVARD</td>\n",
       "      <td>MEDICINE</td>\n",
       "    </tr>\n",
       "    <tr>\n",
       "      <th>2762</th>\n",
       "      <td>NaN</td>\n",
       "      <td>PARVER</td>\n",
       "      <td>MITCHELL</td>\n",
       "      <td>1971-1974</td>\n",
       "      <td>NaN</td>\n",
       "      <td>CALIFORNIA UNIVERSITY SAN FRANCISCO</td>\n",
       "      <td>WADSWORTH VETERANS HOSPITAL UCLA</td>\n",
       "      <td>ALBERT EINSTEIN COLLEGE OF MEDICINE</td>\n",
       "      <td>RADIOLOGY</td>\n",
       "    </tr>\n",
       "    <tr>\n",
       "      <th>2797</th>\n",
       "      <td>GEORGE</td>\n",
       "      <td>PERPICH</td>\n",
       "      <td>JOSEPH</td>\n",
       "      <td>1967-1968</td>\n",
       "      <td>1966-1967</td>\n",
       "      <td>MASSACHUSETTS GENERAL HOSPITAL BOSTON</td>\n",
       "      <td>UNIVERSITY OF MINN HOSPITAL MINN MINN</td>\n",
       "      <td>UNIVERSITY OF MINNESOTA MEDICAL SCHOOL MINN MINN</td>\n",
       "      <td>PSYCHIATRY</td>\n",
       "    </tr>\n",
       "    <tr>\n",
       "      <th>2845</th>\n",
       "      <td>NaN</td>\n",
       "      <td>PKOKOP</td>\n",
       "      <td>JAMES</td>\n",
       "      <td>NaN</td>\n",
       "      <td>NaN</td>\n",
       "      <td>NaN</td>\n",
       "      <td>NaN</td>\n",
       "      <td>NaN</td>\n",
       "      <td>NaN</td>\n",
       "    </tr>\n",
       "    <tr>\n",
       "      <th>2874</th>\n",
       "      <td>H</td>\n",
       "      <td>PORTER</td>\n",
       "      <td>GEROGE</td>\n",
       "      <td>1959-1961</td>\n",
       "      <td>1958-1959</td>\n",
       "      <td>BARNES HOSPITAL ST LOUIS MISSOURI</td>\n",
       "      <td>DUKE UNIVERSITY HOSPITAL</td>\n",
       "      <td>DUKE UNIVERSITY SCHOOL OF MEDICINE</td>\n",
       "      <td>ASS RES MEDICINE</td>\n",
       "    </tr>\n",
       "    <tr>\n",
       "      <th>2891</th>\n",
       "      <td>NaN</td>\n",
       "      <td>PRETLOW</td>\n",
       "      <td>THOMAS</td>\n",
       "      <td>NaN</td>\n",
       "      <td>NaN</td>\n",
       "      <td>NaN</td>\n",
       "      <td>NaN</td>\n",
       "      <td>NaN</td>\n",
       "      <td>NaN</td>\n",
       "    </tr>\n",
       "    <tr>\n",
       "      <th>2925</th>\n",
       "      <td>W</td>\n",
       "      <td>RAMMOHAN</td>\n",
       "      <td>KOTTIL</td>\n",
       "      <td>NaN</td>\n",
       "      <td>NaN</td>\n",
       "      <td>OHIO STATE UNIVERSITY HOSPITAL COLUMBUS OHIO</td>\n",
       "      <td>COOK COUNTY HOSPITALS CHICAGO ILLINOIS</td>\n",
       "      <td>MADRA MEDICAL COLLEGE MADRAS INDIA</td>\n",
       "      <td>MEDICINE NEUROLOGY</td>\n",
       "    </tr>\n",
       "    <tr>\n",
       "      <th>3105</th>\n",
       "      <td>THOMAS</td>\n",
       "      <td>ROTH</td>\n",
       "      <td>WALTON</td>\n",
       "      <td>1966-1969</td>\n",
       "      <td>1965-1966</td>\n",
       "      <td>STANFORD MEDICAL CENTER PALO ALTO</td>\n",
       "      <td>NORTH CAROLINA MEMORIAL HOSPITAL CHAPEL HILL</td>\n",
       "      <td>NEW YORK UNIVERSITY SCHOOL OF MEDICINE</td>\n",
       "      <td>PSYCHIATRY</td>\n",
       "    </tr>\n",
       "    <tr>\n",
       "      <th>3225</th>\n",
       "      <td>F</td>\n",
       "      <td>SCHLOSSMAN</td>\n",
       "      <td>STUART</td>\n",
       "      <td>1959-1960</td>\n",
       "      <td>1958-1959</td>\n",
       "      <td>BELLEVUE</td>\n",
       "      <td>BELLEVUE</td>\n",
       "      <td>NEW YORK UNIVERSITY COLLEGE OF MEDICINE</td>\n",
       "      <td>MEDICAL</td>\n",
       "    </tr>\n",
       "    <tr>\n",
       "      <th>3646</th>\n",
       "      <td>NaN</td>\n",
       "      <td>THIER</td>\n",
       "      <td>SAMUEL</td>\n",
       "      <td>1961-1962</td>\n",
       "      <td>1960-1961</td>\n",
       "      <td>MASSACHUSETTS GENERAL HOSPITAL BOSTON MASSACHU...</td>\n",
       "      <td>MASSACHUSETTS GENERAL HOSPITAL BOSTON MASSACHU...</td>\n",
       "      <td>S U N Y COLLEGE OF MEDICINE SYRACUSE NY</td>\n",
       "      <td>MEDICINE</td>\n",
       "    </tr>\n",
       "    <tr>\n",
       "      <th>3743</th>\n",
       "      <td>A</td>\n",
       "      <td>VERN</td>\n",
       "      <td>BORIS</td>\n",
       "      <td>NaN</td>\n",
       "      <td>NaN</td>\n",
       "      <td>NaN</td>\n",
       "      <td>NaN</td>\n",
       "      <td>NaN</td>\n",
       "      <td>NaN</td>\n",
       "    </tr>\n",
       "    <tr>\n",
       "      <th>3937</th>\n",
       "      <td>N</td>\n",
       "      <td>WILSON</td>\n",
       "      <td>GOLDER</td>\n",
       "      <td>NaN</td>\n",
       "      <td>NaN</td>\n",
       "      <td>NaN</td>\n",
       "      <td>NaN</td>\n",
       "      <td>NaN</td>\n",
       "      <td>NaN</td>\n",
       "    </tr>\n",
       "    <tr>\n",
       "      <th>4003</th>\n",
       "      <td>NaN</td>\n",
       "      <td>YANAGIHARA</td>\n",
       "      <td>RICHARD</td>\n",
       "      <td>1973-1974</td>\n",
       "      <td>1972-1973</td>\n",
       "      <td>UNIVERISTY OF COLORADO MEDICAL CENTER</td>\n",
       "      <td>UNIVERSITY OF COLORADO MEDICAL CENTER</td>\n",
       "      <td>UNIVERSITY OF CINCINNATI</td>\n",
       "      <td>PEDIATRICS</td>\n",
       "    </tr>\n",
       "    <tr>\n",
       "      <th>4009</th>\n",
       "      <td>ALLEN</td>\n",
       "      <td>YARDLEY</td>\n",
       "      <td>RICHARD</td>\n",
       "      <td>1966-1967</td>\n",
       "      <td>1965-1966</td>\n",
       "      <td>THE NEW YORK HOSPITAL</td>\n",
       "      <td>THE NEW YORK HOSPITAL CORNELL MEDICAL CENTER</td>\n",
       "      <td>UNIVERSITY OF CALIFORNIA</td>\n",
       "      <td>INTERNAL MEDICINE</td>\n",
       "    </tr>\n",
       "  </tbody>\n",
       "</table>\n",
       "</div>"
      ],
      "text/plain": [
       "     clean_middle_name clean_last_name clean_first_name  res_dates  \\\n",
       "28             PHILLIP           ADLER           STUART        NaN   \n",
       "88             DOUGLAS         ANDREWS             ALAN        NaN   \n",
       "239             CLAUDE         BENNETT                J  1959-1960   \n",
       "248                  J         BENTXEL             CARL  1959-1961   \n",
       "333            KENNETH        BLAYLOCK                W  1960-1961   \n",
       "456                  W           BROWN             JOHN        NaN   \n",
       "459                  C           BROWN             NEIL        NaN   \n",
       "642               JOHN           CLARK           ROBERT  1968-1969   \n",
       "643            DOUGLAS           CLARK                W  1959-1961   \n",
       "663              LEROY           COHEN          KENNETH  1972-1973   \n",
       "672                JAY           COHEN           RONALD  1973-1974   \n",
       "710               LOWE            COOK            JAMES  1973-1975   \n",
       "791                  H       DANOVITCH           STUART  1961-1966   \n",
       "807              BOWES           DAVIS           PAMELA  1974-1975   \n",
       "877             CURTIS           DOHAN                F  1962-1963   \n",
       "979                NaN        ENGLEMAN             KARL  1960-1961   \n",
       "994                  O           ERNST          DOUGLAS        NaN   \n",
       "1014            MARTIN         FALCHUK           DONALD  1967-1968   \n",
       "1015            MARTIN         FALCHUK           DONALD  1968-1969   \n",
       "1250                 S         GILBERT          WILLIAM        NaN   \n",
       "1343            ROBERT          GORDON           NORMAN        NaN   \n",
       "1517              LYNN          HAUGER          RICHARD        NaN   \n",
       "1528                 H           HEALY             MARK  1968-1969   \n",
       "1605                 A           HOFER            MYRON  1959-1960   \n",
       "1704            MORRIS             IRA             ALAN        NaN   \n",
       "1772           WILLIAM           JONES           OLIVER        NaN   \n",
       "1796                 P         KAMPINE             JOHN  1962-1964   \n",
       "1798          ALOYSIUS            KANE          MICHAEL  1969-1970   \n",
       "2077              GELB        LAWRENCE                D  1968-1969   \n",
       "2174           JEFFREY           LEWIS          RANDALL  1970-1971   \n",
       "2363               JAI          MARTON         LAWRENCE        NaN   \n",
       "2459               NaN      MERRIFIELD             JOHN        NaN   \n",
       "2476                 I         MICHAEL             PAUL  1967-1968   \n",
       "2503            VICTOR          MILLER            JAMES  1968-1969   \n",
       "2617           FRANCIS          NATHAN             CARL  1973-1974   \n",
       "2619                 G       NATHENSON          STANLEY  1960-1961   \n",
       "2625           SHERWIN         NEIDORF            BARRY  1966-1967   \n",
       "2719           HOLLAND           ORKIN           STUART        NaN   \n",
       "2762               NaN          PARVER         MITCHELL  1971-1974   \n",
       "2797            GEORGE         PERPICH           JOSEPH  1967-1968   \n",
       "2845               NaN          PKOKOP            JAMES        NaN   \n",
       "2874                 H          PORTER           GEROGE  1959-1961   \n",
       "2891               NaN         PRETLOW           THOMAS        NaN   \n",
       "2925                 W        RAMMOHAN           KOTTIL        NaN   \n",
       "3105            THOMAS            ROTH           WALTON  1966-1969   \n",
       "3225                 F      SCHLOSSMAN           STUART  1959-1960   \n",
       "3646               NaN           THIER           SAMUEL  1961-1962   \n",
       "3743                 A            VERN            BORIS        NaN   \n",
       "3937                 N          WILSON           GOLDER        NaN   \n",
       "4003               NaN      YANAGIHARA          RICHARD  1973-1974   \n",
       "4009             ALLEN         YARDLEY          RICHARD  1966-1967   \n",
       "\n",
       "     intern_dates                                 residency_hospital  \\\n",
       "28      1971-1972                                                NaN   \n",
       "88            NaN                                                NaN   \n",
       "239     1958-1959             UNIVERSITY HOSPITAL BIRMINGHAM ALABAMA   \n",
       "248     1958-1959                                   PRESBYTERIAN N Y   \n",
       "333     1958-1959                                      DUKE HOSPITAL   \n",
       "456           NaN                                                NaN   \n",
       "459     1961-1962                                                NaN   \n",
       "642     1967-1968                             BOSTON CITY HARVARD IV   \n",
       "643           NaN                             UNIVERSITY OF VIRGINIA   \n",
       "663     1971-1972                      YALE NEW HAVEN MEDICAL CENTER   \n",
       "672     1972-1973                                      JOHNS HOPKINS   \n",
       "710     1972-1973            UNIVERSITY OF UTAH AFFILIATED HOSPITALS   \n",
       "791     1960-1961                           GEORGETOWN WASHINGTON DC   \n",
       "807     1973-1974                                      DUKE HOSPITAL   \n",
       "877     1961-1962                                  MEDICINE BELLEVUE   \n",
       "979     1959-1960                     MASSACHUSETTS GENERAL HOSPITAL   \n",
       "994           NaN                                                NaN   \n",
       "1014    1966-1967            PETER BENT BRIGHAM BOSTON MASSACHUSETTS   \n",
       "1015    1967-1968            PETER BENT BRIGHAM BOSTON MASSACHUSETTS   \n",
       "1250    1961-1962                                    BARNES HOSPITAL   \n",
       "1343    1971-1972                  UNIVERSITY HOSPITALS OF CLEVELAND   \n",
       "1517          NaN                                COLUMBIA UNIVERSITY   \n",
       "1528    1967-1968                 CHILDREN S HOSPITAL OF LOS ANGELES   \n",
       "1605    1958-1959                     MASSACHUSETTS GENERAL HOSPITAL   \n",
       "1704    1967-1968                                                NaN   \n",
       "1772          NaN                                                NaN   \n",
       "1796    1961-1962                     MARQUETTE UNIVERSITY U S P H S   \n",
       "1798    1968-1969     BOSTON CITY HOSPITAL II AND IV MEDICAL SERVICE   \n",
       "2077    1967-1968                       MASSACHUSETTS GENERAL BOSTON   \n",
       "2174    1969-1970                                 BETH ISRAEL BOSTON   \n",
       "2363          NaN  UNIVERSITY OF CALIFORNIA MEDICAL CENTER SAN FR...   \n",
       "2459          NaN                 MASSACHUSETTS MENTAL HEALTH CENTER   \n",
       "2476          NaN                     UNIVERSITY OF CALIFORNIA AT LA   \n",
       "2503    1967-1968                           BARNES HOSPITAL ST LOUIS   \n",
       "2617          NaN                     MASSACHUSETTS GENERAL HOSPITAL   \n",
       "2619    1959-1960                                             BARNES   \n",
       "2625    1965-1966                                                NaN   \n",
       "2719          NaN                                                NaN   \n",
       "2762          NaN                CALIFORNIA UNIVERSITY SAN FRANCISCO   \n",
       "2797    1966-1967              MASSACHUSETTS GENERAL HOSPITAL BOSTON   \n",
       "2845          NaN                                                NaN   \n",
       "2874    1958-1959                  BARNES HOSPITAL ST LOUIS MISSOURI   \n",
       "2891          NaN                                                NaN   \n",
       "2925          NaN       OHIO STATE UNIVERSITY HOSPITAL COLUMBUS OHIO   \n",
       "3105    1965-1966                  STANFORD MEDICAL CENTER PALO ALTO   \n",
       "3225    1958-1959                                           BELLEVUE   \n",
       "3646    1960-1961  MASSACHUSETTS GENERAL HOSPITAL BOSTON MASSACHU...   \n",
       "3743          NaN                                                NaN   \n",
       "3937          NaN                                                NaN   \n",
       "4003    1972-1973              UNIVERISTY OF COLORADO MEDICAL CENTER   \n",
       "4009    1965-1966                              THE NEW YORK HOSPITAL   \n",
       "\n",
       "                                    internship_hospital  \\\n",
       "28                               JOHNS HOPKINS HOSPITAL   \n",
       "88                                                  NaN   \n",
       "239              UNIVERSITY HOSPITAL BIRMINGHAM ALABAMA   \n",
       "248                                    PRESBYTERIAN N Y   \n",
       "333                                       DUKE HOSPITAL   \n",
       "456                   UNIVERSITY OF MICHIGAN AFFILIATED   \n",
       "459                                                DUKE   \n",
       "642                              BOSTON CITY HARVARD IV   \n",
       "643                                                 NaN   \n",
       "663                       YALE NEW HAVEN MEDICAL CENTER   \n",
       "672                                                 NaN   \n",
       "710             UNIVERSITY OF UTAH AFFILIATED HOSPITALS   \n",
       "791                                                DUKE   \n",
       "807                                       DUKE HOSPITAL   \n",
       "877                                   MEDICINE BELLEVUE   \n",
       "979                      MASSACHUSETTS GENERAL HOSPITAL   \n",
       "994                                                 NaN   \n",
       "1014                           DARTMOUTH MEDICAL SCHOOL   \n",
       "1015            PETER BENT BRIGHAM BOSTON MASSACHUSETTS   \n",
       "1250                   NORTH CAROLINA MEMORIAL HOSPITAL   \n",
       "1343                  UNIVERSITY HOSPITALS OF CLEVELAND   \n",
       "1517                              UNIVERSITY OF CHICAGO   \n",
       "1528                 CHILDREN S HOSPITAL OF LOS ANGELES   \n",
       "1605                     MASSACHUSETTS GENERAL HOSPITAL   \n",
       "1704                              RHODE ISLAND HOSPITAL   \n",
       "1772     DUKE UNIVERSITY HOSPITAL DURHAM NORTH CAROLINA   \n",
       "1796                               MILWAUKEE CO GENERAL   \n",
       "1798     BOSTON CITY HOSPITAL II AND IV MEDICAL SERVICE   \n",
       "2077                       MASSACHUSETTS GENERAL BOSTON   \n",
       "2174                                 BETH ISRAEL BOSTON   \n",
       "2363                      LA CO HARBOR GENERAL HOSPITAL   \n",
       "2459                                                NaN   \n",
       "2476  WADSWORTH GENERAL HOSPITAL LOS ANGELES CALIFORNIA   \n",
       "2503                           BARNES HOSPITAL ST LOUIS   \n",
       "2617                                                NaN   \n",
       "2619                                    BARNES HOSPITAL   \n",
       "2625               NEW ENGLAND MEDICAL CENTER HOSPITALS   \n",
       "2719                                     UNKNOWN AS YET   \n",
       "2762                   WADSWORTH VETERANS HOSPITAL UCLA   \n",
       "2797              UNIVERSITY OF MINN HOSPITAL MINN MINN   \n",
       "2845                                                NaN   \n",
       "2874                           DUKE UNIVERSITY HOSPITAL   \n",
       "2891                                                NaN   \n",
       "2925             COOK COUNTY HOSPITALS CHICAGO ILLINOIS   \n",
       "3105       NORTH CAROLINA MEMORIAL HOSPITAL CHAPEL HILL   \n",
       "3225                                           BELLEVUE   \n",
       "3646  MASSACHUSETTS GENERAL HOSPITAL BOSTON MASSACHU...   \n",
       "3743                                                NaN   \n",
       "3937                                                NaN   \n",
       "4003              UNIVERSITY OF COLORADO MEDICAL CENTER   \n",
       "4009       THE NEW YORK HOSPITAL CORNELL MEDICAL CENTER   \n",
       "\n",
       "                                         medical_school  \\\n",
       "28          JOHNS HOPKINS UNIVERSITY SCHOOL OF MEDICINE   \n",
       "88                               UNIVERSITY OF VIRGINIA   \n",
       "239                                             HARVARD   \n",
       "248                          MEDICAL COLLEGE OF ALABAMA   \n",
       "333                               MEDICAL COLLEGE OF VA   \n",
       "456                                  INDIANA UNIVERSITY   \n",
       "459                                              ALBANY   \n",
       "642                               WASHINGTON UNIVERSITY   \n",
       "643                                                 NaN   \n",
       "663              NEW YORK UNIVERSITY SCHOOL OF MEDICINE   \n",
       "672                                       JOHNS HOPKINS   \n",
       "710                          BAYLOR COLLEGE OF MEDICINE   \n",
       "791                         NORTHWESTERN MEDICAL SCHOOL   \n",
       "807                                              DUKE U   \n",
       "877                                             HARVARD   \n",
       "979                              HARVARD MEDICAL SCHOOL   \n",
       "994                                                 NaN   \n",
       "1014                             HARVARD MEDICAL SCHOOL   \n",
       "1015                                    HARVARD MEDICAL   \n",
       "1250                ALBERT EINSTEIN COLLEGE OF MEDICINE   \n",
       "1343               CASE WESTERN RESERVE U SCHOOL OF MED   \n",
       "1517                           UNIVERSITY OF PITTSBURGH   \n",
       "1528  UNIVERSITY OF SOUTHERN CALIFORNIA SCHOOL OF ME...   \n",
       "1605                             HARVARD MEDICAL SCHOOL   \n",
       "1704                             HARVARD MEDICAL SCHOOL   \n",
       "1772                             UNIVERSITY OF OKLAHOMA   \n",
       "1796            MARQUETTE UNIVERSITY SCHOOL OF MEDICINE   \n",
       "1798                   BOSTON UNIVERSITY MEDICAL SCHOOL   \n",
       "2077                     HARVARD UNIVERSITY OF MICHIGAN   \n",
       "2174                             HARVARD MEDICAL SCHOOL   \n",
       "2363                ALBERT EINSTEIN COLLEGE OF MEDICINE   \n",
       "2459                                  HOWARD UNIVERSITY   \n",
       "2476                                               UCLA   \n",
       "2503                                YALE MEDICAL SCHOOL   \n",
       "2617                             HARVARD MEDICAL SCHOOL   \n",
       "2619  WASHINGTON UNIVERSITY SCHOOL OF MEDICINE ST ME...   \n",
       "2625                TUFTS UNIVERSITY SCHOOL OF MEDICINE   \n",
       "2719                                            HARVARD   \n",
       "2762                ALBERT EINSTEIN COLLEGE OF MEDICINE   \n",
       "2797   UNIVERSITY OF MINNESOTA MEDICAL SCHOOL MINN MINN   \n",
       "2845                                                NaN   \n",
       "2874                 DUKE UNIVERSITY SCHOOL OF MEDICINE   \n",
       "2891                                                NaN   \n",
       "2925                 MADRA MEDICAL COLLEGE MADRAS INDIA   \n",
       "3105             NEW YORK UNIVERSITY SCHOOL OF MEDICINE   \n",
       "3225            NEW YORK UNIVERSITY COLLEGE OF MEDICINE   \n",
       "3646            S U N Y COLLEGE OF MEDICINE SYRACUSE NY   \n",
       "3743                                                NaN   \n",
       "3937                                                NaN   \n",
       "4003                           UNIVERSITY OF CINCINNATI   \n",
       "4009                           UNIVERSITY OF CALIFORNIA   \n",
       "\n",
       "                       residency  \n",
       "28                           NaN  \n",
       "88                   DERMATOLOGY  \n",
       "239                     MEDICINE  \n",
       "248                          NaN  \n",
       "333                     MEDICINE  \n",
       "456                          NaN  \n",
       "459                          NaN  \n",
       "642                     MEDICINE  \n",
       "643                      SURGERY  \n",
       "663                  ST MEDICINE  \n",
       "672                 NEUROSURGERY  \n",
       "710            INTERNAL MEDICINE  \n",
       "791                     MEDICINE  \n",
       "807                     MEDICINE  \n",
       "877                     MEDICINE  \n",
       "979                     MEDICINE  \n",
       "994                          NaN  \n",
       "1014                    MEDICINE  \n",
       "1015                    MEDICINE  \n",
       "1250               OPHTHALMOLOGY  \n",
       "1343           INTERNAL MEDICINE  \n",
       "1517                  PSYCHIATRY  \n",
       "1528                  PEDIATRICS  \n",
       "1605                         NaN  \n",
       "1704                         NaN  \n",
       "1772                    MEDICINE  \n",
       "1796                  PHYSIOLOGY  \n",
       "1798                    MEDICINE  \n",
       "2077           INTERNAL MEDICINE  \n",
       "2174                     SURGERY  \n",
       "2363               NEURO SURGERY  \n",
       "2459                  PSYCHIATRY  \n",
       "2476  NEUROPSYCHIATRIC INSTITUTE  \n",
       "2503                    MEDICINE  \n",
       "2617                    MEDICINE  \n",
       "2619                PHARMACOLOGY  \n",
       "2625           INTERNAL MEDICINE  \n",
       "2719                    MEDICINE  \n",
       "2762                   RADIOLOGY  \n",
       "2797                  PSYCHIATRY  \n",
       "2845                         NaN  \n",
       "2874            ASS RES MEDICINE  \n",
       "2891                         NaN  \n",
       "2925          MEDICINE NEUROLOGY  \n",
       "3105                  PSYCHIATRY  \n",
       "3225                     MEDICAL  \n",
       "3646                    MEDICINE  \n",
       "3743                         NaN  \n",
       "3937                         NaN  \n",
       "4003                  PEDIATRICS  \n",
       "4009           INTERNAL MEDICINE  "
      ]
     },
     "execution_count": 694,
     "metadata": {},
     "output_type": "execute_result"
    }
   ],
   "source": [
    "not_matched_attendees_vietnam.loc[:, NAME_COLS+MED_TRAINING_COLS]"
   ]
  },
  {
   "cell_type": "code",
   "execution_count": null,
   "metadata": {
    "ExecuteTime": {
     "end_time": "2016-09-06T20:59:38.757257",
     "start_time": "2016-09-06T20:59:38.669227"
    },
    "collapsed": false
   },
   "outputs": [],
   "source": [
    "not_matched_attendees.eod_year.value_counts().to_csv(os.path.join(ATT_DATA_DIR, 'not_matched_attendees.csv'))"
   ]
  },
  {
   "cell_type": "code",
   "execution_count": null,
   "metadata": {
    "collapsed": false
   },
   "outputs": [],
   "source": [
    "first_last_matches.loc[first_last_matches['clean_last_name']=='LARSON', ['medical_school_x', 'medical_school_y']]"
   ]
  }
 ],
 "metadata": {
  "kernelspec": {
   "display_name": "Python 2",
   "language": "python",
   "name": "python2"
  },
  "language_info": {
   "codemirror_mode": {
    "name": "ipython",
    "version": 2
   },
   "file_extension": ".py",
   "mimetype": "text/x-python",
   "name": "python",
   "nbconvert_exporter": "python",
   "pygments_lexer": "ipython2",
   "version": "2.7.12"
  }
 },
 "nbformat": 4,
 "nbformat_minor": 0
}
