{
 "cells": [
  {
   "cell_type": "code",
   "execution_count": 1,
   "metadata": {
    "collapsed": false,
    "scrolled": false
   },
   "outputs": [
    {
     "name": "stderr",
     "output_type": "stream",
     "text": [
      "ERROR:root:Line magic function `%install_ext` not found.\n"
     ]
    }
   ],
   "source": [
    "%install_ext https://raw.github.com/cpcloud/ipython-autotime/master/autotime.py\n",
    "%load_ext autotime"
   ]
  },
  {
   "cell_type": "code",
   "execution_count": 2,
   "metadata": {
    "collapsed": false,
    "scrolled": false
   },
   "outputs": [
    {
     "name": "stdout",
     "output_type": "stream",
     "text": [
      "time: 219 ms\n"
     ]
    }
   ],
   "source": [
    "# read in known applicant files, dedupe and try to merge with applicants file\n",
    "from collections import Counter\n",
    "import difflib\n",
    "import uuid\n",
    "import itertools\n",
    "import pandas as pd\n",
    "import numpy as np\n",
    "import string\n",
    "import funcy\n",
    "import re\n",
    "import os\n",
    "\n",
    "from data_cleaning_functions import (trans_remov_punc, standardize_whitespace, remove_punc, remove_suffix_from_last_name,\n",
    "                                     clean_names, has_award, has_suffix, get_suffix, replace_last_name, \n",
    "                                     is_year_range, str_sim, clean_med_school, clean_std_college_name, long_form_date, \n",
    "                                    correct_mispellings, is_foreign_med_school, clean_med_school)\n",
    "\n",
    "from dev import (\n",
    "    APP_DATA_DIR, SUM_STAT_DIR, ATT_DATA_DIR, CARD_DATA_DIR, CORRECTIONS_DIR, AWARDS_KEYWORDS, NAME_COLS, RAW_NAME_COLS, \n",
    "    RAW_CARD_ID, RAW_INDEX_IDS, PERSON_APPLICATION_ID, PERSON_ID, NIH_ID, FEMALE_FIRST_NAMES, PICKLE_DIR)\n",
    "from merging_functions import *\n",
    "\n",
    "OUTPUT_CSV = False \n",
    "\n",
    "PERSONAL_INFO = [\n",
    "    'clean_first_name', 'clean_last_name', 'clean_middle_name',\n",
    "    'date_of_birth', 'medical_school', 'clean_college_trans']\n"
   ]
  },
  {
   "cell_type": "code",
   "execution_count": 3,
   "metadata": {
    "collapsed": false,
    "scrolled": false
   },
   "outputs": [
    {
     "name": "stdout",
     "output_type": "stream",
     "text": [
      "time: 34.1 ms\n"
     ]
    }
   ],
   "source": [
    "# id column that links back to raw applicant data file\n",
    "RAW_CARD_ID = 'raw_uuid'\n",
    "\n",
    "# column where the raw id information is stored\n",
    "RAW_INDEX_IDS = 'raw_card_ids'\n",
    "\n",
    "# try to get one id per unique applicant in the dataset\n",
    "PERSON_ID = 'person_uuid'\n",
    "# id per deduped application-person - if someone applied multiple times, they will have multiple ids\n",
    "PERSON_APPLICATION_ID = 'person_app_uuid' \n",
    "NIH_ID = 'dno'\n",
    "\n",
    "APPLICANT_SUFFIX = '_ap'\n",
    "ATTENDEE_SUFFIX = '_at'\n",
    "\n",
    "%load_ext autoreload\n",
    "%autoreload 2\n",
    "\n",
    "%reload_ext autoreload"
   ]
  },
  {
   "cell_type": "code",
   "execution_count": 4,
   "metadata": {
    "collapsed": false,
    "scrolled": false
   },
   "outputs": [
    {
     "name": "stdout",
     "output_type": "stream",
     "text": [
      "time: 12.5 ms\n"
     ]
    }
   ],
   "source": [
    "apps_filename = 'index_cards_deduped_fuzzy.csv'\n",
    "# apps_filename = 'person_application_date_wide.csv'\n",
    "\n",
    "NIH_filename = 'unique_attendees.csv'\n",
    "# NIH_filename = 'NIH_attendee_deduped_raw.csv'"
   ]
  },
  {
   "cell_type": "code",
   "execution_count": 5,
   "metadata": {
    "collapsed": false,
    "scrolled": false
   },
   "outputs": [
    {
     "name": "stdout",
     "output_type": "stream",
     "text": [
      "time: 14.6 ms\n"
     ]
    }
   ],
   "source": [
    "NAME_COLS = ['clean_first_name', 'clean_middle_name', 'clean_last_name'] \n",
    "\n",
    "MED_TRAINING_COLS = ['res_dates', 'intern_dates', 'residency_hospital', 'internship_hospital', 'medical_school', 'residency']\n"
   ]
  },
  {
   "cell_type": "code",
   "execution_count": 6,
   "metadata": {
    "collapsed": false,
    "scrolled": false
   },
   "outputs": [
    {
     "name": "stdout",
     "output_type": "stream",
     "text": [
      "time: 42.8 ms\n"
     ]
    }
   ],
   "source": [
    "# import NIH raw data set\n",
    "NIH_raw = pd.read_csv(os.path.join(ATT_DATA_DIR, NIH_filename)).drop_duplicates('dno')"
   ]
  },
  {
   "cell_type": "code",
   "execution_count": 7,
   "metadata": {
    "collapsed": false,
    "scrolled": false
   },
   "outputs": [
    {
     "name": "stdout",
     "output_type": "stream",
     "text": [
      "time: 13.4 ms\n"
     ]
    }
   ],
   "source": [
    "# drop from the data set all people with eod years > 1980\n",
    "# NIH = NIH_raw.loc[NIH_raw.eod_year<1980, :] \n",
    "NIH = NIH_raw\n",
    "del NIH['medical_school']"
   ]
  },
  {
   "cell_type": "code",
   "execution_count": 8,
   "metadata": {
    "collapsed": false
   },
   "outputs": [
    {
     "name": "stdout",
     "output_type": "stream",
     "text": [
      "UNIVERSITY OF ATHENS MEDICAL SCHOOL IN ATHENS GREECE\n",
      "UNIVERSITY OF SAINT ANTOINE SCHOOL OF MEDICINE PARIS FRANCE\n",
      "time: 3.86 s\n"
     ]
    }
   ],
   "source": [
    "NIH['clean_medical_school'] = NIH.med_school.str.upper().str.strip().apply(clean_med_school)"
   ]
  },
  {
   "cell_type": "code",
   "execution_count": 9,
   "metadata": {
    "collapsed": false,
    "scrolled": false
   },
   "outputs": [
    {
     "name": "stdout",
     "output_type": "stream",
     "text": [
      "time: 2.94 s\n"
     ]
    }
   ],
   "source": [
    "# import cleaned, deduped applicant data set in wide form (multiple app dates as columns)\n",
    "apps = pd.read_csv(os.path.join(APP_DATA_DIR, apps_filename))\n",
    "apps['medical_school'] = apps.original_medical_school.str.upper().str.strip().apply(clean_med_school)"
   ]
  },
  {
   "cell_type": "code",
   "execution_count": 10,
   "metadata": {
    "collapsed": false
   },
   "outputs": [
    {
     "name": "stdout",
     "output_type": "stream",
     "text": [
      "time: 24.8 ms\n"
     ]
    }
   ],
   "source": [
    "apps.loc[apps.clean_first_name=='HOWARD UNIVERSITY COLLEGE OF MEDICINE', 'clean_first_name'] = 'HOWARD'\n",
    "apps.loc[apps.clean_middle_name=='HOWARD UNIVERSITY COLLEGE OF MEDICINE', 'clean_middle_name'] = 'HOWARD'\n",
    "apps.loc[apps.clean_first_name=='STANFORD UNIVERSITY', 'clean_first_name'] = 'STANFORD'\n",
    "\n",
    "NIH.loc[NIH.clean_first_name=='HOWARD UNIVERSITY COLLEGE OF MEDICINE', 'clean_first_name']\n",
    "NIH.loc[NIH.clean_first_name=='STANFORD UNIVERSITY', 'clean_first_name'] = 'STANFORD'\n",
    "\n",
    "apps.loc[apps.clean_last_name=='MCCLURE MCCHURE', ['clean_last_name', 'last_name']] = ['MCCLURE', 'MCCLURE']\n",
    "apps.loc[apps.clean_last_name=='MCCHURE', ['clean_last_name', 'last_name']] = ['MCCLURE', 'MCCLURE']\n",
    "apps.loc[apps.clean_last_name=='MCCLURE', 'application_year'] = 1972"
   ]
  },
  {
   "cell_type": "code",
   "execution_count": 11,
   "metadata": {
    "collapsed": false
   },
   "outputs": [
    {
     "name": "stdout",
     "output_type": "stream",
     "text": [
      "time: 83.6 ms\n"
     ]
    }
   ],
   "source": [
    "NIH.loc[NIH.clean_last_name=='YARNELL', ['clean_first_name', 'clean_middle_name']] = ['PHILIP', 'R']\n",
    "NIH.loc[NIH.clean_last_name=='YARNELL', ['NIH_first_name', 'NIH_middle_name']] = ['PHILIP', 'R']\n",
    "\n",
    "# need to correct some mispelled first names\n",
    "apps.loc[apps.clean_first_name=='WILEY', ['clean_first_name', 'first_name']] = ['WYLIE', 'WYLIE']\n",
    "apps.loc[apps.clean_first_name=='ANCELO', ['clean_first_name', 'first_name']]= ['ANGELO', 'ANGELO']\n",
    "apps.loc[apps.clean_first_name=='DOHN', ['clean_first_name', 'first_name']] = ['JOHN', 'JOHN']\n",
    "apps.loc[apps.clean_first_name=='MERION', ['clean_first_name', 'first_name']] = ['MERTON', 'MERTON']\n",
    "apps.loc[apps.clean_first_name=='NAHVM', ['clean_first_name', 'first_name']] = ['NAHUM', 'NAHUM']\n",
    "apps.loc[apps.clean_last_name=='PERPICH', ['clean_first_name', 'first_name']] = ['JOSEPH', 'JOSEPH']\n",
    "\n",
    "# replace MORTON's first name which is mistakenly John\n",
    "apps.loc[\n",
    "    apps.clean_last_name=='MORTON', 'clean_first_name'] = apps[\n",
    "        apps.clean_last_name=='MORTON']['first_name'].apply(lambda x: x.upper().strip())"
   ]
  },
  {
   "cell_type": "code",
   "execution_count": 12,
   "metadata": {
    "collapsed": false
   },
   "outputs": [
    {
     "data": {
      "text/html": [
       "<div>\n",
       "<table border=\"1\" class=\"dataframe\">\n",
       "  <thead>\n",
       "    <tr style=\"text-align: right;\">\n",
       "      <th></th>\n",
       "      <th>clean_first_name</th>\n",
       "      <th>clean_middle_name</th>\n",
       "      <th>clean_last_name</th>\n",
       "      <th>first_name</th>\n",
       "    </tr>\n",
       "  </thead>\n",
       "  <tbody>\n",
       "    <tr>\n",
       "      <th>1824</th>\n",
       "      <td>DONALD</td>\n",
       "      <td>L</td>\n",
       "      <td>MORTON</td>\n",
       "      <td>Donald</td>\n",
       "    </tr>\n",
       "    <tr>\n",
       "      <th>1858</th>\n",
       "      <td>ROBERT</td>\n",
       "      <td>OLIVER</td>\n",
       "      <td>MORTON</td>\n",
       "      <td>Robert</td>\n",
       "    </tr>\n",
       "  </tbody>\n",
       "</table>\n",
       "</div>"
      ],
      "text/plain": [
       "     clean_first_name clean_middle_name clean_last_name first_name\n",
       "1824           DONALD                 L          MORTON     Donald\n",
       "1858           ROBERT            OLIVER          MORTON     Robert"
      ]
     },
     "execution_count": 12,
     "metadata": {},
     "output_type": "execute_result"
    },
    {
     "name": "stdout",
     "output_type": "stream",
     "text": [
      "time: 31 ms\n"
     ]
    }
   ],
   "source": [
    "apps.loc[apps.clean_last_name=='MORTON', NAME_COLS+['first_name']]"
   ]
  },
  {
   "cell_type": "code",
   "execution_count": 13,
   "metadata": {
    "collapsed": false
   },
   "outputs": [
    {
     "name": "stdout",
     "output_type": "stream",
     "text": [
      "time: 15.6 ms\n"
     ]
    }
   ],
   "source": [
    "apps.loc[apps.clean_last_name=='COLLER', 'application_year'] = 1972\n",
    "\n",
    "apps.loc[apps.clean_last_name=='PERPICH', 'application_year'] = 1967"
   ]
  },
  {
   "cell_type": "code",
   "execution_count": 14,
   "metadata": {
    "collapsed": false,
    "scrolled": false
   },
   "outputs": [
    {
     "name": "stdout",
     "output_type": "stream",
     "text": [
      "\"Open\"\n",
      "Str. Medicine\n",
      "Medicine\n",
      "time: 63.6 ms\n"
     ]
    }
   ],
   "source": [
    "apps.loc[:, 'res_dates'] = apps['residency_year(s)'].apply(long_form_date)\n",
    "\n",
    "apps.loc[:, 'intern_dates'] = apps['internship_year(s)'].apply(long_form_date)"
   ]
  },
  {
   "cell_type": "code",
   "execution_count": 15,
   "metadata": {
    "collapsed": false,
    "scrolled": false
   },
   "outputs": [
    {
     "name": "stdout",
     "output_type": "stream",
     "text": [
      "time: 15.8 ms\n"
     ]
    }
   ],
   "source": [
    "NIH = NIH.rename(columns={'res_dtes':'res_dates', 'intern_dte':'intern_dates', 'intern_hos': 'internship_hospital', \n",
    "                         'res_hosp':'residency_hospital', 'clean_medical_school': 'medical_school'})\n",
    "# sorted(NIH.columns)"
   ]
  },
  {
   "cell_type": "code",
   "execution_count": 16,
   "metadata": {
    "collapsed": false,
    "scrolled": false
   },
   "outputs": [
    {
     "name": "stdout",
     "output_type": "stream",
     "text": [
      "time: 186 ms\n"
     ]
    }
   ],
   "source": [
    "apps2 = apps.rename(\n",
    "    columns={'residency_type': 'residency', 'internship_hospital_1': 'internship_hospital'})\n",
    "\n",
    "string_med_cols = ['medical_school', 'residency_hospital', 'internship_hospital', 'residency']\n",
    "\n",
    "# apply string cleaning function to each of the string medical info columns\n",
    "apps2.loc[:, string_med_cols] = apps2[string_med_cols].applymap(clean_names)"
   ]
  },
  {
   "cell_type": "code",
   "execution_count": 17,
   "metadata": {
    "collapsed": false,
    "scrolled": false
   },
   "outputs": [
    {
     "name": "stdout",
     "output_type": "stream",
     "text": [
      "time: 78.3 ms\n"
     ]
    }
   ],
   "source": [
    "to_remove = ['TERRECE', 'FRED', 'LAURENCE',\n",
    "             'CUONO', 'DEFRENZE', 'JEFFERY', 'FINKLEMAN', 'SHERRAD', 'ANSCHNETZ', 'MARC', 'JENSON', 'KASTI', \n",
    "            'ADELBERT', 'RITCHARD', 'MANSFORD', 'DEFRENZO', 'DROBIN', 'HAMES', 'KREUZ', 'JERROLD', 'MANEUSI',\n",
    "            'UNGARO']\n",
    "to_replace = ['TERRENCE', 'FREDERICK', 'LAWRENCE',\n",
    "              'CUOMO', 'DEFRONZO', 'JEFFREY', 'FINKELMAN', 'SHERRARD', 'ANSCHUETZ', 'MARCUS', 'JENSEN', 'KASTL',\n",
    "              'ALBERT', 'RITCHARD', 'MANIFORD', 'DEFRONZO', 'DROBIS', 'JAMES', 'KRUEZ', 'JERROD', 'MANCUSI',\n",
    "              'UNGARO']\n",
    "\n",
    "correct_name_mispellings_fnc = funcy.rpartial(correct_mispellings, to_remove, to_replace)\n",
    "\n",
    "apps2.loc[:, 'clean_last_name'] = apps2.clean_last_name.apply(correct_name_mispellings_fnc)\n",
    "apps2.loc[:, 'clean_first_name'] = apps2.clean_first_name.apply(correct_name_mispellings_fnc)"
   ]
  },
  {
   "cell_type": "code",
   "execution_count": 18,
   "metadata": {
    "collapsed": false
   },
   "outputs": [
    {
     "name": "stdout",
     "output_type": "stream",
     "text": [
      "time: 13.3 ms\n"
     ]
    }
   ],
   "source": [
    "# function to go in and correct some of the name mispellings in both data sets\n",
    "# MUTATING FUNCTION\n",
    "def change_names(df, selection_type, selection_value, to_change_type, to_change_values):\n",
    "    for t, v in zip(to_change_type, to_change_values):\n",
    "        print t, v\n",
    "        sel = df.loc[df[selection_type]==selection_value, t]\n",
    "        print sel.shape[0]\n",
    "        if sel.shape[0] > 1:\n",
    "            print \"WARNING\"\n",
    "        df.loc[df[selection_type]==selection_value, t] = v"
   ]
  },
  {
   "cell_type": "code",
   "execution_count": 19,
   "metadata": {
    "collapsed": false,
    "scrolled": true
   },
   "outputs": [
    {
     "name": "stdout",
     "output_type": "stream",
     "text": [
      "clean_first_name BRUCE\n",
      "1\n",
      "clean_middle_name WILCOX\n",
      "1\n",
      "clean_first_name MARC\n",
      "1\n",
      "clean_middle_name I\n",
      "1\n",
      "clean_first_name SIDNEY\n",
      "1\n",
      "clean_middle_name CHARLES\n",
      "1\n",
      "medical_school WAKE_FOREST\n",
      "1\n",
      "clean_first_name MICHAEL\n",
      "1\n",
      "clean_middle_name RAY\n",
      "1\n",
      "clean_first_name STANLEY\n",
      "1\n",
      "clean_middle_name WILLETS\n",
      "1\n",
      "medical_school ROCHESTER\n",
      "1\n",
      "time: 37.8 ms\n"
     ]
    }
   ],
   "source": [
    "\n",
    "apps2.loc[(apps2.clean_last_name=='LIBOW') & (apps2.clean_middle_name=='S'), 'clean_first_name'] = 'LESLIE'\n",
    "\n",
    "change_names(\n",
    "    apps2, 'clean_last_name', 'CHESEBRO', ['clean_first_name', 'clean_middle_name'], ['BRUCE', 'WILCOX'])\n",
    "change_names(\n",
    "    apps2, 'clean_last_name', 'GALANTER', ['clean_first_name', 'clean_middle_name'], ['MARC', 'I'])\n",
    "change_names(\n",
    "    apps2, 'clean_last_name', 'BEAN', ['clean_first_name', 'clean_middle_name', 'medical_school'], ['SIDNEY', 'CHARLES', 'WAKE_FOREST'])\n",
    "change_names(\n",
    "    apps2, 'clean_last_name', 'BOYD', ['clean_first_name', 'clean_middle_name'], ['MICHAEL', 'RAY'])\n",
    "change_names(\n",
    "    apps2, 'clean_last_name', 'CHAPMAN', \n",
    "    ['clean_first_name', 'clean_middle_name', 'medical_school'], ['STANLEY', 'WILLETS', 'ROCHESTER'])"
   ]
  },
  {
   "cell_type": "code",
   "execution_count": 20,
   "metadata": {
    "collapsed": false
   },
   "outputs": [
    {
     "name": "stdout",
     "output_type": "stream",
     "text": [
      "clean_first_name DAVID\n",
      "1\n",
      "first_name DAVID\n",
      "1\n",
      "clean_first_name ROBERT\n",
      "0\n",
      "clean_middle_name D\n",
      "0\n",
      "first_name ROBERT\n",
      "0\n",
      "middle_name D\n",
      "0\n",
      "clean_first_name ROBERT\n",
      "1\n",
      "clean_middle_name ADRIAN\n",
      "1\n",
      "first_name ROBERT\n",
      "1\n",
      "middle_name ADRIAN\n",
      "1\n",
      "clean_first_name JOHN\n",
      "0\n",
      "clean_middle_name WILLIS\n",
      "0\n",
      "first_name JOHN\n",
      "0\n",
      "middle_name WILLIS\n",
      "0\n",
      "clean_first_name HARRY\n",
      "1\n",
      "clean_middle_name LOUIS\n",
      "1\n",
      "first_name HARRY\n",
      "1\n",
      "middle_name LOUIS\n",
      "1\n",
      "clean_first_name FRANCIS\n",
      "1\n",
      "clean_middle_name JOHN\n",
      "1\n",
      "first_name FRANCIS\n",
      "1\n",
      "middle_name JOHN\n",
      "1\n",
      "clean_first_name DAVID\n",
      "1\n",
      "clean_middle_name GENE\n",
      "1\n",
      "first_name DAVID\n",
      "1\n",
      "middle_name GENE\n",
      "1\n",
      "clean_last_name KLAEVEMAN\n",
      "0\n",
      "last_name KLAEVEMAN\n",
      "0\n",
      "clean_last_name MATTHEW\n",
      "0\n",
      "last_name MATTHEW\n",
      "0\n",
      "time: 102 ms\n"
     ]
    }
   ],
   "source": [
    "change_names(apps2, 'clean_last_name', 'DANFORTH', ['clean_first_name', 'first_name'], ['DAVID', 'DAVID'])\n",
    "change_names(\n",
    "    apps2, 'clean_last_name', 'HUNT', [\n",
    "        'clean_first_name', 'clean_middle_name', 'first_name', 'middle_name'], ['ROBERT', 'D', 'ROBERT', 'D'])\n",
    "change_names(\n",
    "    apps2, 'clean_last_name', 'KARK', [\n",
    "        'clean_first_name', 'clean_middle_name', 'first_name', 'middle_name'], ['ROBERT', 'ADRIAN', 'ROBERT', 'ADRIAN'])\n",
    "change_names(\n",
    "    apps2, 'clean_last_name', 'KEBABIAN', [\n",
    "        'clean_first_name', 'clean_middle_name','first_name', 'middle_name'], ['JOHN', 'WILLIS', 'JOHN', 'WILLIS'])\n",
    "change_names(\n",
    "    apps2, 'clean_last_name', 'KNOPF', [\n",
    "        'clean_first_name', 'clean_middle_name', 'first_name', 'middle_name'], ['HARRY', 'LOUIS', 'HARRY', 'LOUIS'])\n",
    "change_names(\n",
    "    apps2, 'clean_last_name', 'KROLIKOWSKI', [\n",
    "        'clean_first_name', 'clean_middle_name', 'first_name', 'middle_name'], ['FRANCIS', 'JOHN', 'FRANCIS', 'JOHN'])\n",
    "change_names(\n",
    "    apps2, 'clean_last_name', 'KASTL', [\n",
    "        'clean_first_name', 'clean_middle_name', 'first_name', 'middle_name'], ['DAVID', 'GENE', 'DAVID', 'GENE'])\n",
    "change_names(\n",
    "    apps2, 'clean_last_name', 'KLAVEMAN', ['clean_last_name', 'last_name'], ['KLAEVEMAN', 'KLAEVEMAN'])\n",
    "change_names(\n",
    "    apps2, 'clean_last_name', 'MATHEW', ['clean_last_name', 'last_name'], ['MATTHEW', 'MATTHEW'])\n",
    "\n",
    "apps2.loc[apps2.clean_last_name=='CHESEBRO', ['clean_first_name', 'first_name']] = ['BRUCE', 'BRUCE']\n",
    "apps2.loc[apps2.clean_last_name=='CHESEBRO', ['clean_middle_name', 'middle_name']] = ['WILCOX', 'WILCOX']\n",
    "apps2.loc[\n",
    "    (apps2.clean_last_name=='HEALY') & (\n",
    "        apps2.medical_school=='USC KECK SCHOOL OF MEDICINE'), ['clean_first_name', 'first_name']] = ['MARK', 'MARK']\n",
    "apps2.loc[\n",
    "    (apps2.clean_last_name=='HEALY') & (\n",
    "        apps2.medical_school=='USC KECK SCHOOL OF MEDICINE'), ['clean_middle_name', 'middle_name']] = ['H', 'H']\n",
    "\n",
    "apps2.loc[apps2.clean_last_name=='LENN', ['clean_first_name', 'first_name']] = ['NICHOLAS', 'NICHOLAS']\n",
    "apps2.loc[\n",
    "        apps2.clean_last_name=='BRESLOW', [\n",
    "            'clean_first_name', 'first_name', 'clean_middle_name', 'middle_name']] = ['JAN', 'JAN', 'LESLIE', 'LESLE']\n",
    "\n",
    "apps2.loc[\n",
    "        (apps2.clean_last_name=='NADLER') & (\n",
    "            pd.isnull(apps2.clean_first_name)), [\n",
    "                'clean_first_name', 'first_name', 'clean_middle_name', 'middle_name']] = ['LEE', 'LEE', 'MARSHALL', 'MARSHALL']\n",
    "apps2.loc[\n",
    "        (pd.isnull(apps2.clean_first_name)) & (\n",
    "            apps2.clean_last_name=='ROSEN'), ['clean_first_name', 'first_name']] = ['HENRY', 'HENRY']\n",
    "\n",
    "apps2.loc[\n",
    "        (apps2.clean_last_name=='NEELON'), [\n",
    "            'first_name', 'clean_first_name', 'clean_middle_name', 'middle_name']] = ['FRANCIS', 'FRANCIS', 'ALBERT', 'ALBERT']\n",
    "\n",
    "apps2.loc[(apps2.clean_last_name=='NICHOLAS') , ['first_name', 'clean_first_name']] = ['JOHN', 'JOHN']"
   ]
  },
  {
   "cell_type": "code",
   "execution_count": 21,
   "metadata": {
    "collapsed": false,
    "scrolled": false
   },
   "outputs": [
    {
     "name": "stdout",
     "output_type": "stream",
     "text": [
      "time: 31.1 ms\n"
     ]
    }
   ],
   "source": [
    "apps2.loc[(apps2.clean_last_name=='KEBIAN') , 'clean_last_name'] = 'KEBABIAN'\n",
    "apps2.loc[(apps2.clean_last_name=='KEBABIAN') , 'last_name'] = 'KEBABIAN'\n",
    "apps2.loc[((apps2.clean_last_name=='FENSTER')&(apps2.clean_first_name=='FREDERICK')) , 'clean_first_name'] = 'L'\n",
    "apps2.loc[((apps2.clean_last_name=='FENSTER')&(apps2.clean_first_name=='L')) , 'first_name'] = 'L'\n",
    "apps2.loc[\n",
    "    ((apps2.clean_last_name=='ALFORD')&(\n",
    "            apps2.clean_first_name=='ROBERT')) , ['middle_name', 'clean_middle_name']] = ['H', 'H']\n",
    "apps2.loc[((apps2.clean_last_name=='KASHIMA')&(apps2.clean_first_name=='HASKINS')) , 'clean_middle_name'] = 'K'\n",
    "apps2.loc[((apps2.clean_last_name=='KASHIMA')&(apps2.clean_first_name=='HASKINS')) , 'middle_name'] = 'K'\n",
    "apps2.loc[((apps2.clean_middle_name=='SAMMUEL')) , 'clean_middle_name'] = 'SAMUEL'\n",
    "apps2.loc[\n",
    "    ((apps2.clean_last_name=='MANEUSI UNQARO')) , ['last_name', 'clean_last_name']] = ['MANEUSI UNGARO', 'MANEUSI UNGARO']"
   ]
  },
  {
   "cell_type": "code",
   "execution_count": 22,
   "metadata": {
    "collapsed": false,
    "scrolled": false
   },
   "outputs": [
    {
     "name": "stdout",
     "output_type": "stream",
     "text": [
      "time: 25.2 ms\n"
     ]
    }
   ],
   "source": [
    "NIH.loc[\n",
    "    (NIH.clean_last_name=='ALEXANDER') & (\n",
    "        NIH.clean_first_name=='JOHN'), ['NIH_middle_name', 'clean_middle_name']] = ['CHARLES', 'CHARLES']\n",
    "\n",
    "NIH.loc[\n",
    "    (NIH.clean_last_name=='LEBOWITZ') & (\n",
    "        NIH.clean_first_name=='EDWARD ARTHUR'), [\n",
    "            'clean_first_name', 'NIH_first_name', 'clean_middle_name', 'NIH_middle_name']] = ['EDWARD', 'EDWARD', 'ARTHUR', 'ARTHUR']\n",
    "NIH.loc[(\n",
    "        NIH.clean_last_name=='LEBOWITZ') & (\n",
    "            NIH.clean_first_name=='EDWARD'), 'medical_school'] = 'ALBERT EINSTEIN COLLEGE OF MEDICINE OF YESHIVA'\n",
    "\n",
    "NIH = NIH.loc[NIH.clean_first_name!='GERALDINE']"
   ]
  },
  {
   "cell_type": "code",
   "execution_count": 23,
   "metadata": {
    "collapsed": false,
    "scrolled": false
   },
   "outputs": [
    {
     "name": "stdout",
     "output_type": "stream",
     "text": [
      "time: 16.5 ms\n"
     ]
    }
   ],
   "source": [
    "# there are a bunch of duplicates in apps, where application year is the same, but first name is missing\n",
    "name_dups = apps2.loc[\n",
    "    apps2.duplicated(\n",
    "        ['clean_last_name', 'medical_school', 'application_year'], keep=False), NAME_COLS+[PERSON_ID, 'medical_school', 'application_year']]"
   ]
  },
  {
   "cell_type": "code",
   "execution_count": 24,
   "metadata": {
    "collapsed": false,
    "scrolled": false
   },
   "outputs": [
    {
     "name": "stdout",
     "output_type": "stream",
     "text": [
      "time: 14.1 ms\n"
     ]
    }
   ],
   "source": [
    "to_delete_ids = name_dups.loc[(pd.isnull(name_dups.clean_middle_name)) & (pd.isnull(name_dups.clean_first_name))\n",
    "                             & pd.isnull(name_dups.medical_school), PERSON_ID]"
   ]
  },
  {
   "cell_type": "code",
   "execution_count": 25,
   "metadata": {
    "collapsed": false,
    "scrolled": false
   },
   "outputs": [
    {
     "name": "stdout",
     "output_type": "stream",
     "text": [
      "time: 31.7 ms\n"
     ]
    }
   ],
   "source": [
    "apps4 = apps2.loc[~apps2[PERSON_ID].isin(to_delete_ids), :].sort_values(\n",
    "    NAME_COLS+['medical_school'], ascending=False).drop_duplicates(NAME_COLS+['medical_school'])"
   ]
  },
  {
   "cell_type": "code",
   "execution_count": 26,
   "metadata": {
    "collapsed": false,
    "scrolled": false
   },
   "outputs": [
    {
     "name": "stdout",
     "output_type": "stream",
     "text": [
      "(4116, 86)\n",
      "(4117, 86)\n",
      "time: 12.8 ms\n"
     ]
    }
   ],
   "source": [
    "print apps4.shape\n",
    "print apps2.shape"
   ]
  },
  {
   "cell_type": "code",
   "execution_count": 27,
   "metadata": {
    "collapsed": false,
    "scrolled": false
   },
   "outputs": [
    {
     "name": "stdout",
     "output_type": "stream",
     "text": [
      "time: 115 ms\n"
     ]
    }
   ],
   "source": [
    "# read in manual matches\n",
    "man = pd.read_excel(os.path.join(CORRECTIONS_DIR, 'manual_dno_matches.xlsx'), index=False).rename(columns={'medical_school': 'dno_medical_school'})\n",
    "man['medical_school'] = man.dno_medical_school.apply(clean_med_school)"
   ]
  },
  {
   "cell_type": "code",
   "execution_count": 28,
   "metadata": {
    "collapsed": false,
    "scrolled": false
   },
   "outputs": [
    {
     "name": "stdout",
     "output_type": "stream",
     "text": [
      "(112, 92)\n"
     ]
    },
    {
     "data": {
      "text/html": [
       "<div>\n",
       "<table border=\"1\" class=\"dataframe\">\n",
       "  <thead>\n",
       "    <tr style=\"text-align: right;\">\n",
       "      <th></th>\n",
       "      <th>clean_first_name</th>\n",
       "      <th>clean_middle_name</th>\n",
       "      <th>clean_last_name</th>\n",
       "      <th>dno</th>\n",
       "      <th>medical_school_x</th>\n",
       "      <th>medical_school_y</th>\n",
       "      <th>sim</th>\n",
       "    </tr>\n",
       "  </thead>\n",
       "  <tbody>\n",
       "  </tbody>\n",
       "</table>\n",
       "</div>"
      ],
      "text/plain": [
       "Empty DataFrame\n",
       "Columns: [clean_first_name, clean_middle_name, clean_last_name, dno, medical_school_x, medical_school_y, sim]\n",
       "Index: []"
      ]
     },
     "execution_count": 28,
     "metadata": {},
     "output_type": "execute_result"
    },
    {
     "name": "stdout",
     "output_type": "stream",
     "text": [
      "time: 44 ms\n"
     ]
    }
   ],
   "source": [
    "t = pd.merge(left=apps4, right=man, on=['clean_last_name', 'clean_middle_name'], how='inner', suffixes=['_x', '_y'])\n",
    "print t.shape\n",
    "\n",
    "t['sim'] = t[['medical_school_x', 'medical_school_y']].apply(get_name_str_sim, axis=1)\n",
    "\n",
    "t['clean_first_name'] = t['clean_first_name_y']\n",
    "\n",
    "t_1 = t.sort_values(['dno', 'sim'], ascending=False).drop_duplicates(['dno'], keep='first')\n",
    "\n",
    "# t[NAME_COLS+['dno', 'medical_school_x', 'medical_school_y', 'sim']]\n",
    "t_1.loc[t_1.duplicated('dno', keep=False), NAME_COLS+['dno', 'medical_school_x', 'medical_school_y', 'sim']]"
   ]
  },
  {
   "cell_type": "code",
   "execution_count": 29,
   "metadata": {
    "collapsed": false
   },
   "outputs": [
    {
     "data": {
      "text/html": [
       "<div>\n",
       "<table border=\"1\" class=\"dataframe\">\n",
       "  <thead>\n",
       "    <tr style=\"text-align: right;\">\n",
       "      <th></th>\n",
       "      <th>clean_first_name</th>\n",
       "      <th>clean_middle_name</th>\n",
       "      <th>clean_last_name</th>\n",
       "      <th>medical_school</th>\n",
       "    </tr>\n",
       "  </thead>\n",
       "  <tbody>\n",
       "    <tr>\n",
       "      <th>1316</th>\n",
       "      <td>HARVEY</td>\n",
       "      <td>JOEL</td>\n",
       "      <td>COHEN</td>\n",
       "      <td>DUKE MEDICAL SCHOOL</td>\n",
       "    </tr>\n",
       "    <tr>\n",
       "      <th>1315</th>\n",
       "      <td>HARVEY</td>\n",
       "      <td>JAY</td>\n",
       "      <td>COHEN</td>\n",
       "      <td>SUNY DOWNSTATE MEDICAL CENTER COLLEGE OF MEDICINE</td>\n",
       "    </tr>\n",
       "  </tbody>\n",
       "</table>\n",
       "</div>"
      ],
      "text/plain": [
       "     clean_first_name clean_middle_name clean_last_name  \\\n",
       "1316           HARVEY              JOEL           COHEN   \n",
       "1315           HARVEY               JAY           COHEN   \n",
       "\n",
       "                                         medical_school  \n",
       "1316                                DUKE MEDICAL SCHOOL  \n",
       "1315  SUNY DOWNSTATE MEDICAL CENTER COLLEGE OF MEDICINE  "
      ]
     },
     "execution_count": 29,
     "metadata": {},
     "output_type": "execute_result"
    },
    {
     "name": "stdout",
     "output_type": "stream",
     "text": [
      "time: 23.6 ms\n"
     ]
    }
   ],
   "source": [
    "apps4.loc[(apps4.clean_last_name=='COHEN') & (apps4.clean_first_name=='HARVEY'), NAME_COLS+['medical_school']]"
   ]
  },
  {
   "cell_type": "code",
   "execution_count": 30,
   "metadata": {
    "collapsed": false
   },
   "outputs": [
    {
     "data": {
      "text/html": [
       "<div>\n",
       "<table border=\"1\" class=\"dataframe\">\n",
       "  <thead>\n",
       "    <tr style=\"text-align: right;\">\n",
       "      <th></th>\n",
       "      <th>clean_first_name</th>\n",
       "      <th>clean_middle_name</th>\n",
       "      <th>clean_last_name</th>\n",
       "      <th>first_name</th>\n",
       "      <th>sim</th>\n",
       "    </tr>\n",
       "  </thead>\n",
       "  <tbody>\n",
       "    <tr>\n",
       "      <th>16</th>\n",
       "      <td>HARVEY</td>\n",
       "      <td>JAY</td>\n",
       "      <td>COHEN</td>\n",
       "      <td>Ronald</td>\n",
       "      <td>58.0</td>\n",
       "    </tr>\n",
       "    <tr>\n",
       "      <th>17</th>\n",
       "      <td>HARVEY</td>\n",
       "      <td>JAY</td>\n",
       "      <td>COHEN</td>\n",
       "      <td>Harvey</td>\n",
       "      <td>100.0</td>\n",
       "    </tr>\n",
       "    <tr>\n",
       "      <th>18</th>\n",
       "      <td>HARVEY</td>\n",
       "      <td>JAY</td>\n",
       "      <td>COHEN</td>\n",
       "      <td>Donald</td>\n",
       "      <td>65.0</td>\n",
       "    </tr>\n",
       "    <tr>\n",
       "      <th>53</th>\n",
       "      <td>MAX</td>\n",
       "      <td>HARRY</td>\n",
       "      <td>COHEN</td>\n",
       "      <td>Max</td>\n",
       "      <td>100.0</td>\n",
       "    </tr>\n",
       "    <tr>\n",
       "      <th>74</th>\n",
       "      <td>JEROLD</td>\n",
       "      <td>ARNOLD</td>\n",
       "      <td>COHEN</td>\n",
       "      <td>Jerold</td>\n",
       "      <td>100.0</td>\n",
       "    </tr>\n",
       "  </tbody>\n",
       "</table>\n",
       "</div>"
      ],
      "text/plain": [
       "   clean_first_name clean_middle_name clean_last_name first_name    sim\n",
       "16           HARVEY               JAY           COHEN     Ronald   58.0\n",
       "17           HARVEY               JAY           COHEN     Harvey  100.0\n",
       "18           HARVEY               JAY           COHEN     Donald   65.0\n",
       "53              MAX             HARRY           COHEN        Max  100.0\n",
       "74           JEROLD            ARNOLD           COHEN     Jerold  100.0"
      ]
     },
     "execution_count": 30,
     "metadata": {},
     "output_type": "execute_result"
    },
    {
     "name": "stdout",
     "output_type": "stream",
     "text": [
      "time: 31 ms\n"
     ]
    }
   ],
   "source": [
    "t.loc[t.clean_last_name=='COHEN', NAME_COLS+['first_name', 'sim']]"
   ]
  },
  {
   "cell_type": "code",
   "execution_count": 31,
   "metadata": {
    "collapsed": false,
    "scrolled": false
   },
   "outputs": [
    {
     "data": {
      "text/plain": [
       "(0, 8)"
      ]
     },
     "execution_count": 31,
     "metadata": {},
     "output_type": "execute_result"
    },
    {
     "name": "stdout",
     "output_type": "stream",
     "text": [
      "time: 16 ms\n"
     ]
    }
   ],
   "source": [
    "um = man[~man.dno.isin(t_1.dno)]\n",
    "\n",
    "um.shape"
   ]
  },
  {
   "cell_type": "code",
   "execution_count": 32,
   "metadata": {
    "collapsed": false,
    "scrolled": true
   },
   "outputs": [
    {
     "data": {
      "text/html": [
       "<div>\n",
       "<table border=\"1\" class=\"dataframe\">\n",
       "  <thead>\n",
       "    <tr style=\"text-align: right;\">\n",
       "      <th></th>\n",
       "      <th>dno</th>\n",
       "      <th>clean_first_name</th>\n",
       "      <th>clean_middle_name</th>\n",
       "      <th>clean_last_name</th>\n",
       "      <th>application_year_min</th>\n",
       "      <th>application_year_max</th>\n",
       "      <th>dno_medical_school</th>\n",
       "      <th>medical_school</th>\n",
       "    </tr>\n",
       "  </thead>\n",
       "  <tbody>\n",
       "  </tbody>\n",
       "</table>\n",
       "</div>"
      ],
      "text/plain": [
       "Empty DataFrame\n",
       "Columns: [dno, clean_first_name, clean_middle_name, clean_last_name, application_year_min, application_year_max, dno_medical_school, medical_school]\n",
       "Index: []"
      ]
     },
     "execution_count": 32,
     "metadata": {},
     "output_type": "execute_result"
    },
    {
     "name": "stdout",
     "output_type": "stream",
     "text": [
      "time: 21.4 ms\n"
     ]
    }
   ],
   "source": [
    "um"
   ]
  },
  {
   "cell_type": "code",
   "execution_count": 33,
   "metadata": {
    "collapsed": false,
    "scrolled": false
   },
   "outputs": [
    {
     "name": "stdout",
     "output_type": "stream",
     "text": [
      "time: 11.7 ms\n"
     ]
    }
   ],
   "source": [
    "# t2 = pd.merge(left=apps4, right=um, on=['clean_last_name', 'clean_first_name'], how='inner', suffixes=['_x', '_y'])\n",
    "# print t2.shape\n",
    "# print um.shape\n",
    "\n",
    "# t2['sim'] = t2[['medical_school_x', 'medical_school_y']].apply(get_name_str_sim, axis=1)\n",
    "\n",
    "# t2['clean_middle_name'] = t2['clean_middle_name_y']\n",
    "\n",
    "# t2_1 = t2.sort_values(['dno', 'sim'], ascending=False).drop_duplicates(['dno'], keep='first')\n",
    "# t2_1.shape"
   ]
  },
  {
   "cell_type": "code",
   "execution_count": 34,
   "metadata": {
    "collapsed": false,
    "scrolled": false
   },
   "outputs": [
    {
     "name": "stdout",
     "output_type": "stream",
     "text": [
      "time: 12.3 ms\n"
     ]
    }
   ],
   "source": [
    "t3 = t_1[NAME_COLS+['dno', PERSON_ID]]\n",
    "# t3 = pd.concat([t2_1[NAME_COLS+['dno', PERSON_ID]], t_1[NAME_COLS+['dno', PERSON_ID]]], axis=0)"
   ]
  },
  {
   "cell_type": "code",
   "execution_count": 35,
   "metadata": {
    "collapsed": false,
    "scrolled": false
   },
   "outputs": [
    {
     "name": "stdout",
     "output_type": "stream",
     "text": [
      "(4117, 90)\n",
      "(103, 5)\n",
      "(104, 8)\n",
      "time: 28.8 ms\n"
     ]
    }
   ],
   "source": [
    "man_dno = pd.merge(left=apps4, right=t3, on=PERSON_ID, how='left', suffixes=['_x', '_y'])\n",
    "print man_dno.shape\n",
    "print t3.shape\n",
    "print man.shape"
   ]
  },
  {
   "cell_type": "code",
   "execution_count": 36,
   "metadata": {
    "collapsed": false,
    "scrolled": false
   },
   "outputs": [
    {
     "name": "stdout",
     "output_type": "stream",
     "text": [
      "time: 30.4 ms\n"
     ]
    }
   ],
   "source": [
    "mask = ~pd.isnull(man_dno.clean_last_name_y)\n",
    "man_dno = man_dno.rename(columns={'clean_last_name_x': 'clean_last_name', 'clean_first_name_x': 'clean_first_name', \n",
    "                       'clean_middle_name_x': 'clean_middle_name'})\n",
    "mask = ~pd.isnull(man_dno.clean_last_name_y)\n",
    "man_dno.loc[mask, 'clean_last_name'] = man_dno.loc[mask, 'clean_last_name_y']\n",
    "mask = ~pd.isnull(man_dno.clean_first_name_y)\n",
    "man_dno.loc[mask, 'clean_first_name'] = man_dno.loc[mask, 'clean_first_name_y']\n",
    "mask = ~pd.isnull(man_dno.clean_middle_name_y)\n",
    "man_dno.loc[mask, 'clean_middle_name'] = man_dno.loc[mask, 'clean_middle_name_y']"
   ]
  },
  {
   "cell_type": "code",
   "execution_count": 37,
   "metadata": {
    "collapsed": false,
    "scrolled": false
   },
   "outputs": [
    {
     "name": "stdout",
     "output_type": "stream",
     "text": [
      "time: 23 ms\n"
     ]
    }
   ],
   "source": [
    "apps5 = man_dno.loc[pd.isnull(man_dno['dno']), :].drop(['dno', 'clean_middle_name_y', 'clean_first_name_y', 'clean_last_name_y'], axis=1) \n",
    "has_dno = man_dno.loc[~pd.isnull(man_dno['dno']), NAME_COLS+['dno', 'person_uuid']] \n",
    "# apps5 = man_dno.drop(['dno', 'clean_middle_name_y', 'clean_first_name_y', 'clean_last_name_y'], axis=1) "
   ]
  },
  {
   "cell_type": "code",
   "execution_count": 38,
   "metadata": {
    "collapsed": false,
    "scrolled": false
   },
   "outputs": [
    {
     "name": "stdout",
     "output_type": "stream",
     "text": [
      "time: 38 ms\n"
     ]
    }
   ],
   "source": [
    "# mark femalse\n",
    "NIH['is_female'] = 0\n",
    "female_mask = (NIH.clean_first_name.isin(FEMALE_FIRST_NAMES))  \n",
    "NIH.loc[female_mask, 'is_female'] = 1\n",
    "\n",
    "\n",
    "apps5['is_female'] = 0\n",
    "female_mask = (apps5.clean_first_name.isin(FEMALE_FIRST_NAMES))  \n",
    "apps5.loc[female_mask, 'is_female'] = 1\n"
   ]
  },
  {
   "cell_type": "code",
   "execution_count": 39,
   "metadata": {
    "collapsed": false
   },
   "outputs": [
    {
     "data": {
      "text/html": [
       "<div>\n",
       "<table border=\"1\" class=\"dataframe\">\n",
       "  <thead>\n",
       "    <tr style=\"text-align: right;\">\n",
       "      <th></th>\n",
       "      <th>clean_first_name</th>\n",
       "      <th>clean_middle_name</th>\n",
       "      <th>clean_last_name</th>\n",
       "    </tr>\n",
       "  </thead>\n",
       "  <tbody>\n",
       "    <tr>\n",
       "      <th>2032</th>\n",
       "      <td>JULES</td>\n",
       "      <td>NaN</td>\n",
       "      <td>COHEN</td>\n",
       "    </tr>\n",
       "  </tbody>\n",
       "</table>\n",
       "</div>"
      ],
      "text/plain": [
       "     clean_first_name clean_middle_name clean_last_name\n",
       "2032            JULES               NaN           COHEN"
      ]
     },
     "execution_count": 39,
     "metadata": {},
     "output_type": "execute_result"
    },
    {
     "name": "stdout",
     "output_type": "stream",
     "text": [
      "time: 20.4 ms\n"
     ]
    }
   ],
   "source": [
    "NIH.loc[NIH.clean_first_name=='ASHLEY', NAME_COLS]\n",
    "apps5.loc[apps5.clean_first_name=='JULES', NAME_COLS]"
   ]
  },
  {
   "cell_type": "code",
   "execution_count": 40,
   "metadata": {
    "collapsed": false,
    "scrolled": false
   },
   "outputs": [
    {
     "name": "stdout",
     "output_type": "stream",
     "text": [
      "time: 12.5 ms\n"
     ]
    }
   ],
   "source": [
    "def get_first_letter(str_var):\n",
    "    if pd.isnull(str_var) or str_var=='':\n",
    "        return np.nan\n",
    "    return str_var[0]"
   ]
  },
  {
   "cell_type": "code",
   "execution_count": 41,
   "metadata": {
    "collapsed": false,
    "scrolled": false
   },
   "outputs": [
    {
     "name": "stdout",
     "output_type": "stream",
     "text": [
      "time: 18.4 ms\n"
     ]
    }
   ],
   "source": [
    "NIH['clean_first_initial'] = NIH.clean_first_name.apply(get_first_letter)\n",
    "NIH['clean_middle_initial'] = NIH.clean_middle_name.apply(get_first_letter)"
   ]
  },
  {
   "cell_type": "code",
   "execution_count": 42,
   "metadata": {
    "collapsed": false,
    "scrolled": false
   },
   "outputs": [
    {
     "name": "stdout",
     "output_type": "stream",
     "text": [
      "(4045, 36)\n",
      "(4014, 86)\n",
      "time: 12.3 ms\n"
     ]
    }
   ],
   "source": [
    "print NIH.shape\n",
    "print  apps5.shape"
   ]
  },
  {
   "cell_type": "code",
   "execution_count": 43,
   "metadata": {
    "collapsed": false,
    "scrolled": false
   },
   "outputs": [
    {
     "name": "stdout",
     "output_type": "stream",
     "text": [
      "time: 12.2 ms\n"
     ]
    }
   ],
   "source": [
    "# After cleaning apps2 to match cleaning in Clean NIH Applicant notebook, we try to start merging\n",
    "sims_cols = ['medical_school_sim', 'clean_middle_name_sim', 'clean_first_name_sim']"
   ]
  },
  {
   "cell_type": "code",
   "execution_count": 44,
   "metadata": {
    "collapsed": false,
    "scrolled": false
   },
   "outputs": [
    {
     "name": "stdout",
     "output_type": "stream",
     "text": [
      "(4045, 122)\n",
      "time: 6min 6s\n"
     ]
    }
   ],
   "source": [
    "NIH['fuzzy_merge_col'] = NIH[\n",
    "    ['clean_first_name', 'clean_middle_name', 'clean_last_name']].apply(create_str_merge, axis=1)\n",
    "apps5['fuzzy_merge_col'] = apps5[\n",
    "    ['clean_first_name', 'clean_middle_name', 'clean_last_name']].apply(create_str_merge, axis=1)\n",
    "match1 = df_get_closest_matches(apps5, NIH, 'fuzzy_merge_col', suffixes=['_x', '_y']) \n",
    "print match1.shape"
   ]
  },
  {
   "cell_type": "code",
   "execution_count": 45,
   "metadata": {
    "collapsed": false,
    "scrolled": false
   },
   "outputs": [
    {
     "name": "stdout",
     "output_type": "stream",
     "text": [
      "time: 22.1 ms\n"
     ]
    }
   ],
   "source": [
    "# add last name counter to each\n",
    "app_counter = Counter(apps4.clean_last_name.values)\n",
    "NIH_counter = Counter(NIH.clean_last_name.values)\n",
    "match1['last_name_counts_x'] = match1.clean_last_name_x.apply(lambda x: app_counter[x])\n",
    "match1['last_name_counts_y'] = match1.clean_last_name_y.apply(lambda x: NIH_counter[x])\n"
   ]
  },
  {
   "cell_type": "code",
   "execution_count": 46,
   "metadata": {
    "collapsed": false,
    "scrolled": false
   },
   "outputs": [
    {
     "name": "stdout",
     "output_type": "stream",
     "text": [
      "time: 2.84 s\n"
     ]
    }
   ],
   "source": [
    "def check_match(row):\n",
    "    # address and application year match\n",
    "    app_eod_year_diff = abs(row['application_year'] - row['eod_year'])\n",
    "    if row['is_female_x'] != row['is_female_y']:\n",
    "        return 0\n",
    "    if row['clean_last_name_sim'] < 90 or app_eod_year_diff > 8:\n",
    "        return 0\n",
    "    if not pd.isnull(row['medical_school_sim']) and row['medical_school_sim'] < 90:\n",
    "        # drop people with no medical school similarity\n",
    "        return 0\n",
    "    if not pd.isnull(row['clean_first_name_sim']) and row['clean_first_name_sim'] < 80:\n",
    "        return 0\n",
    "    # the first and middle name seem to be mixed up in index card data set\n",
    "    mixed_sim1 =  get_name_str_sim(row[['clean_middle_name_x', 'clean_first_name_y']])\n",
    "    mixed_sim2 =  get_name_str_sim(row[['clean_middle_name_y', 'clean_first_name_x']])\n",
    "    mix_sim = max(mixed_sim1, mixed_sim2)\n",
    "    if pd.isnull(mix_sim):\n",
    "        mix_sim = 0\n",
    "    if (mix_sim > 90) and row['medical_school_sim'] > 90:\n",
    "        return 1\n",
    "    if row['last_name_counts_x'] < 2 and row['last_name_counts_y'] < 2:\n",
    "        return 1\n",
    "    if (mix_sim > 90) and pd.isnull(row['medical_school_sim']) and (app_eod_year_diff < 5):\n",
    "        return 1\n",
    "    # if matching application year and med schools match\n",
    "    if (app_eod_year_diff < 5) and row['medical_school_sim'] > 80:\n",
    "        return 1\n",
    "    # first and middle names match or first\n",
    "    if (app_eod_year_diff < 5) and row['clean_first_name_sim'] > 80:\n",
    "        return 1\n",
    "    return 0\n",
    "\n",
    "\n",
    "feature_dict = {\n",
    "    'clean_first_name': get_name_str_sim,\n",
    "    'clean_middle_name': get_name_str_sim,\n",
    "    'clean_last_name': get_name_str_sim,\n",
    "    'medical_school': get_name_str_sim,\n",
    "}\n",
    "\n",
    "match2 = add_similarity_features(match1, feature_dict, check_match, suffixes=['_x', '_y'])"
   ]
  },
  {
   "cell_type": "code",
   "execution_count": 47,
   "metadata": {
    "collapsed": false,
    "scrolled": false
   },
   "outputs": [
    {
     "name": "stdout",
     "output_type": "stream",
     "text": [
      "(2493, 129)\n",
      "time: 28.5 ms\n"
     ]
    }
   ],
   "source": [
    "# select out people who match and make sure each person id and dno only 1x in data set\n",
    "match3 = match2[match2.is_match==1].sort_values(['clean_last_name_x']+sims_cols, ascending=False).dropna(\n",
    "    axis=0, subset=[RAW_CARD_ID])\n",
    "print match3.shape"
   ]
  },
  {
   "cell_type": "code",
   "execution_count": 48,
   "metadata": {
    "collapsed": false,
    "scrolled": false
   },
   "outputs": [
    {
     "name": "stdout",
     "output_type": "stream",
     "text": [
      "time: 18 ms\n"
     ]
    }
   ],
   "source": [
    "def filter_one_match_per_group(df, dedupe_col, sim_cols):\n",
    "    # to merge cols should be a dict the names of the extra cols to merge in\n",
    "    # values should be col names to rename\n",
    "    # sim cols should be name of the columns to use as features\n",
    "    # sim mask should be mask that accounts as actual mask\n",
    "    # dedupe col is name of col to dedupe on\n",
    "\n",
    "    def count_matches(id_list_arr):\n",
    "        # for each id, make sure matched on 1x in data set\n",
    "        # should be applied with rolling apply so takes in a dataframe and must return single value\n",
    "        # unpack already matched ids from string\n",
    "        current_id1 = id_list_arr[-1]\n",
    "        other_matches = id_list_arr[:-1]\n",
    "        is_dup = np.any(other_matches[:] == current_id1)\n",
    "        if is_dup:\n",
    "            return True\n",
    "        return False\n",
    "\n",
    "    # for each uuid, check for duplicates and choose best match based on sim cols\n",
    "    # order of the sim cols should be with most important first\n",
    "    dup_flag = '{}_duplicate'.format(dedupe_col)\n",
    "    df[dup_flag] = 0\n",
    "    df.loc[:, dup_flag] = df[\n",
    "        dedupe_col].expanding(center=False, min_periods=0).apply(func=count_matches)\n",
    "\n",
    "    df_matches = df[df['is_match'] == 1].sort_values([dedupe_col] + sim_cols, ascending=False)\n",
    "    return df_matches.drop_duplicates([dedupe_col], keep='first')\n"
   ]
  },
  {
   "cell_type": "code",
   "execution_count": 49,
   "metadata": {
    "collapsed": false,
    "scrolled": false
   },
   "outputs": [
    {
     "name": "stdout",
     "output_type": "stream",
     "text": [
      "(2486, 130)\n",
      "time: 63.7 ms\n"
     ]
    }
   ],
   "source": [
    "match4 = filter_one_match_per_group(match3, 'raw_uuid', sims_cols)\n",
    "print match4.shape"
   ]
  },
  {
   "cell_type": "code",
   "execution_count": 50,
   "metadata": {
    "collapsed": false,
    "scrolled": false
   },
   "outputs": [
    {
     "name": "stdout",
     "output_type": "stream",
     "text": [
      "(2486, 131)\n",
      "time: 84.2 ms\n"
     ]
    }
   ],
   "source": [
    "match5 = filter_one_match_per_group(match4, NIH_ID, sims_cols)\n",
    "print match5.shape"
   ]
  },
  {
   "cell_type": "code",
   "execution_count": 51,
   "metadata": {
    "collapsed": false
   },
   "outputs": [
    {
     "data": {
      "text/html": [
       "<div>\n",
       "<table border=\"1\" class=\"dataframe\">\n",
       "  <thead>\n",
       "    <tr style=\"text-align: right;\">\n",
       "      <th></th>\n",
       "      <th>medical_school_y</th>\n",
       "      <th>medical_school_x</th>\n",
       "    </tr>\n",
       "  </thead>\n",
       "  <tbody>\n",
       "    <tr>\n",
       "      <th>WILLIAM BRADEN</th>\n",
       "      <td>HARVARD MEDICAL SCHOOL</td>\n",
       "      <td>HARVARD MEDICAL SCHOOL</td>\n",
       "    </tr>\n",
       "  </tbody>\n",
       "</table>\n",
       "</div>"
      ],
      "text/plain": [
       "                      medical_school_y        medical_school_x\n",
       "WILLIAM BRADEN  HARVARD MEDICAL SCHOOL  HARVARD MEDICAL SCHOOL"
      ]
     },
     "execution_count": 51,
     "metadata": {},
     "output_type": "execute_result"
    },
    {
     "name": "stdout",
     "output_type": "stream",
     "text": [
      "time: 21 ms\n"
     ]
    }
   ],
   "source": [
    "match5.loc[match5.clean_last_name_x=='BRADEN', ['medical_school_y', 'medical_school_x']]"
   ]
  },
  {
   "cell_type": "code",
   "execution_count": 52,
   "metadata": {
    "collapsed": false,
    "scrolled": false
   },
   "outputs": [
    {
     "name": "stdout",
     "output_type": "stream",
     "text": [
      "(1526, 87)\n",
      "(1559, 37)\n",
      "time: 20.8 ms\n"
     ]
    }
   ],
   "source": [
    "# get nonmatched NIH people and not matched applicants \n",
    "nm_apps = get_nonmatched(apps5, id_colname=RAW_CARD_ID, matched_ids=match5[RAW_CARD_ID].dropna().values)\n",
    "nm_NIH = get_nonmatched(NIH, id_colname=NIH_ID, matched_ids=match5[NIH_ID].dropna().values)"
   ]
  },
  {
   "cell_type": "code",
   "execution_count": 53,
   "metadata": {
    "collapsed": false,
    "scrolled": false
   },
   "outputs": [
    {
     "name": "stdout",
     "output_type": "stream",
     "text": [
      "(2721, 122)\n",
      "time: 13.7 s\n"
     ]
    }
   ],
   "source": [
    "# do another round of matching just on last name\n",
    "nm_match1 = df_get_closest_matches(nm_apps, nm_NIH, 'clean_last_name', suffixes=['_x', '_y']) \n",
    "print nm_match1.shape\n"
   ]
  },
  {
   "cell_type": "code",
   "execution_count": 54,
   "metadata": {
    "collapsed": false,
    "scrolled": false
   },
   "outputs": [
    {
     "name": "stdout",
     "output_type": "stream",
     "text": [
      "time: 26.3 ms\n"
     ]
    }
   ],
   "source": [
    "def check_match(row):\n",
    "    app_eod_year_diff = abs(row['application_year'] - row['eod_year'])\n",
    "    if app_eod_year_diff > 8:\n",
    "        return 0\n",
    "    if row['is_female_x'] != row['is_female_y']:\n",
    "        return 0\n",
    "    if not pd.isnull(row['medical_school_sim']) and row['medical_school_sim'] < 80:\n",
    "        return 0\n",
    "    # the first and middle name seem to be mixed up in index card data set\n",
    "    mixed_sim1 =  get_name_str_sim(row[['clean_middle_name_x', 'clean_first_name_y']])\n",
    "    mixed_sim2 =  get_name_str_sim(row[['clean_middle_name_y', 'clean_first_name_x']])\n",
    "    \n",
    "    max_name_sim = max(row['clean_first_name_sim'], row['medical_school_sim'], row['clean_middle_name_sim'])\n",
    "    if max_name_sim < 80:\n",
    "        return 0\n",
    "    mix_sim = max(mixed_sim1, mixed_sim2)\n",
    "    if pd.isnull(mix_sim):\n",
    "        mix_sim = 0\n",
    "    if (mix_sim > 90) and row['medical_school_sim'] > 90:\n",
    "        return 1\n",
    "    if (mix_sim > 90) and pd.isnull(row['medical_school_sim']) and (app_eod_year_diff < 6):\n",
    "        return 1\n",
    "    if not pd.isnull(row['clean_first_name_sim']) and row['clean_first_name_sim'] < 70:\n",
    "        return 0\n",
    "    # if matching application year and med schools match\n",
    "    if (app_eod_year_diff < 6) and row['medical_school_sim'] > 90:\n",
    "        return 1\n",
    "    # first and middle names match or first\n",
    "    if (app_eod_year_diff < 6) and row['clean_first_name_sim'] > 90:\n",
    "        return 1\n",
    "    # first and middle names match or first\n",
    "    if (app_eod_year_diff < 6) and row['clean_middle_name_sim'] > 90:\n",
    "        return 1\n",
    "    return 0"
   ]
  },
  {
   "cell_type": "code",
   "execution_count": 55,
   "metadata": {
    "collapsed": false,
    "scrolled": false
   },
   "outputs": [
    {
     "name": "stdout",
     "output_type": "stream",
     "text": [
      "time: 650 ms\n"
     ]
    }
   ],
   "source": [
    "nm_feature_dict = {\n",
    "    'clean_first_name': get_name_str_sim,\n",
    "    'clean_middle_name': get_name_str_sim,\n",
    "    'medical_school': get_name_str_sim,\n",
    "}\n",
    "\n",
    "nm_match2 = add_similarity_features(nm_match1, nm_feature_dict, check_match, suffixes=['_x', '_y'])\n"
   ]
  },
  {
   "cell_type": "code",
   "execution_count": 56,
   "metadata": {
    "collapsed": false,
    "scrolled": false
   },
   "outputs": [
    {
     "name": "stdout",
     "output_type": "stream",
     "text": [
      "time: 16.3 ms\n"
     ]
    }
   ],
   "source": [
    "nm_match3 = nm_match2.loc[(nm_match2.is_match==1) & (nm_match2.index!='MORTON'), :].reset_index(\n",
    "    drop=False).rename(columns={'index': 'clean_last_name'})"
   ]
  },
  {
   "cell_type": "code",
   "execution_count": 57,
   "metadata": {
    "collapsed": false
   },
   "outputs": [
    {
     "name": "stdout",
     "output_type": "stream",
     "text": [
      "(87, 127)\n",
      "time: 11.7 ms\n"
     ]
    }
   ],
   "source": [
    "print nm_match3.shape"
   ]
  },
  {
   "cell_type": "code",
   "execution_count": 58,
   "metadata": {
    "collapsed": false,
    "scrolled": false
   },
   "outputs": [
    {
     "name": "stdout",
     "output_type": "stream",
     "text": [
      "time: 19.3 ms\n"
     ]
    }
   ],
   "source": [
    "# merge the manual people with dno with the dno data set and append to the matches list\n",
    "man_dno2 = man_dno.loc[~pd.isnull(man_dno['dno']), :].drop(['clean_first_name_y', 'clean_middle_name_y',\n",
    "                                                            'clean_last_name_y'], axis=1)\n",
    "man_dno2.loc[:, 'dno'] = man_dno2.dno.astype(int)\n",
    "NIH.loc[:, 'dno'] = NIH.dno.astype(int)"
   ]
  },
  {
   "cell_type": "code",
   "execution_count": 59,
   "metadata": {
    "collapsed": false
   },
   "outputs": [
    {
     "data": {
      "text/html": [
       "<div>\n",
       "<table border=\"1\" class=\"dataframe\">\n",
       "  <thead>\n",
       "    <tr style=\"text-align: right;\">\n",
       "      <th></th>\n",
       "      <th>clean_first_name</th>\n",
       "      <th>clean_middle_name</th>\n",
       "      <th>clean_last_name</th>\n",
       "      <th>first_name</th>\n",
       "    </tr>\n",
       "  </thead>\n",
       "  <tbody>\n",
       "    <tr>\n",
       "      <th>1614</th>\n",
       "      <td>MAX</td>\n",
       "      <td>HARRY</td>\n",
       "      <td>COHEN</td>\n",
       "      <td>Max</td>\n",
       "    </tr>\n",
       "    <tr>\n",
       "      <th>2390</th>\n",
       "      <td>JEROLD</td>\n",
       "      <td>ARNOLD</td>\n",
       "      <td>COHEN</td>\n",
       "      <td>Jerold</td>\n",
       "    </tr>\n",
       "    <tr>\n",
       "      <th>2754</th>\n",
       "      <td>HARVEY</td>\n",
       "      <td>JAY</td>\n",
       "      <td>COHEN</td>\n",
       "      <td>Harvey</td>\n",
       "    </tr>\n",
       "  </tbody>\n",
       "</table>\n",
       "</div>"
      ],
      "text/plain": [
       "     clean_first_name clean_middle_name clean_last_name first_name\n",
       "1614              MAX             HARRY           COHEN        Max\n",
       "2390           JEROLD            ARNOLD           COHEN     Jerold\n",
       "2754           HARVEY               JAY           COHEN     Harvey"
      ]
     },
     "execution_count": 59,
     "metadata": {},
     "output_type": "execute_result"
    },
    {
     "name": "stdout",
     "output_type": "stream",
     "text": [
      "time: 24.4 ms\n"
     ]
    }
   ],
   "source": [
    "man_dno2.loc[man_dno2.clean_last_name=='COHEN', NAME_COLS+['first_name']]"
   ]
  },
  {
   "cell_type": "code",
   "execution_count": 60,
   "metadata": {
    "collapsed": false,
    "scrolled": false
   },
   "outputs": [
    {
     "name": "stdout",
     "output_type": "stream",
     "text": [
      "(103, 87)\n",
      "(103, 123)\n",
      "time: 27.8 ms\n"
     ]
    }
   ],
   "source": [
    "print man_dno2.shape\n",
    "man_dno_merge = pd.merge(left=man_dno2, right=NIH, on='dno', how='inner')\n",
    "print man_dno_merge.shape"
   ]
  },
  {
   "cell_type": "code",
   "execution_count": 61,
   "metadata": {
    "collapsed": false
   },
   "outputs": [
    {
     "data": {
      "text/html": [
       "<div>\n",
       "<table border=\"1\" class=\"dataframe\">\n",
       "  <thead>\n",
       "    <tr style=\"text-align: right;\">\n",
       "      <th></th>\n",
       "      <th>clean_first_name</th>\n",
       "      <th>clean_middle_name</th>\n",
       "      <th>clean_last_name</th>\n",
       "      <th>dno</th>\n",
       "    </tr>\n",
       "  </thead>\n",
       "  <tbody>\n",
       "  </tbody>\n",
       "</table>\n",
       "</div>"
      ],
      "text/plain": [
       "Empty DataFrame\n",
       "Columns: [clean_first_name, clean_middle_name, clean_last_name, dno]\n",
       "Index: []"
      ]
     },
     "execution_count": 61,
     "metadata": {},
     "output_type": "execute_result"
    },
    {
     "name": "stdout",
     "output_type": "stream",
     "text": [
      "time: 21.4 ms\n"
     ]
    }
   ],
   "source": [
    "# stewart and sherwin have eod years outside range\n",
    "man_dno2.loc[~man_dno.dno.isin(man_dno_merge.dno), NAME_COLS+['dno']]"
   ]
  },
  {
   "cell_type": "code",
   "execution_count": 62,
   "metadata": {
    "collapsed": false,
    "scrolled": false
   },
   "outputs": [
    {
     "name": "stdout",
     "output_type": "stream",
     "text": [
      "time: 15.3 ms\n"
     ]
    }
   ],
   "source": [
    "man_dno_merge2 = man_dno_merge.rename(columns={'clean_first_name_x': 'clean_first_name2', \n",
    "                                               'clean_middle_name_x': 'clean_middle_name2',\n",
    "                             'clean_last_name_x': 'clean_last_name2'})\n"
   ]
  },
  {
   "cell_type": "code",
   "execution_count": 63,
   "metadata": {
    "collapsed": false
   },
   "outputs": [
    {
     "data": {
      "text/html": [
       "<div>\n",
       "<table border=\"1\" class=\"dataframe\">\n",
       "  <thead>\n",
       "    <tr style=\"text-align: right;\">\n",
       "      <th></th>\n",
       "      <th>clean_first_name</th>\n",
       "      <th>clean_middle_name</th>\n",
       "      <th>clean_last_name</th>\n",
       "      <th>first_name</th>\n",
       "    </tr>\n",
       "  </thead>\n",
       "  <tbody>\n",
       "    <tr>\n",
       "      <th>46</th>\n",
       "      <td>NaN</td>\n",
       "      <td>NaN</td>\n",
       "      <td>NaN</td>\n",
       "      <td>Max</td>\n",
       "    </tr>\n",
       "    <tr>\n",
       "      <th>64</th>\n",
       "      <td>NaN</td>\n",
       "      <td>NaN</td>\n",
       "      <td>NaN</td>\n",
       "      <td>Jerold</td>\n",
       "    </tr>\n",
       "    <tr>\n",
       "      <th>77</th>\n",
       "      <td>NaN</td>\n",
       "      <td>NaN</td>\n",
       "      <td>NaN</td>\n",
       "      <td>Harvey</td>\n",
       "    </tr>\n",
       "  </tbody>\n",
       "</table>\n",
       "</div>"
      ],
      "text/plain": [
       "    clean_first_name  clean_middle_name  clean_last_name first_name\n",
       "46               NaN                NaN              NaN        Max\n",
       "64               NaN                NaN              NaN     Jerold\n",
       "77               NaN                NaN              NaN     Harvey"
      ]
     },
     "execution_count": 63,
     "metadata": {},
     "output_type": "execute_result"
    },
    {
     "name": "stdout",
     "output_type": "stream",
     "text": [
      "time: 27.7 ms\n"
     ]
    }
   ],
   "source": [
    "man_dno_merge2.loc[man_dno_merge2.clean_last_name_y=='COHEN', NAME_COLS+['first_name']]"
   ]
  },
  {
   "cell_type": "code",
   "execution_count": 64,
   "metadata": {
    "collapsed": false,
    "scrolled": false
   },
   "outputs": [
    {
     "name": "stdout",
     "output_type": "stream",
     "text": [
      "(0, 87)\n",
      "time: 13.8 ms\n"
     ]
    }
   ],
   "source": [
    "fails = man_dno2.loc[~man_dno2.dno.isin(man_dno_merge.dno), :]\n",
    "print fails.shape"
   ]
  },
  {
   "cell_type": "code",
   "execution_count": 65,
   "metadata": {
    "collapsed": false,
    "scrolled": false
   },
   "outputs": [
    {
     "name": "stdout",
     "output_type": "stream",
     "text": [
      "time: 55.1 ms\n"
     ]
    }
   ],
   "source": [
    "# append matches together\n",
    "match6 = pd.concat([nm_match3, match5, man_dno_merge2], axis=0)"
   ]
  },
  {
   "cell_type": "code",
   "execution_count": 66,
   "metadata": {
    "collapsed": false,
    "scrolled": false
   },
   "outputs": [
    {
     "name": "stdout",
     "output_type": "stream",
     "text": [
      "(1440, 87)\n",
      "(1373, 37)\n",
      "time: 20 ms\n"
     ]
    }
   ],
   "source": [
    "# get nonmatched NIH people and not matched applicants \n",
    "nm_apps2 = get_nonmatched(apps5, id_colname=RAW_CARD_ID, matched_ids=match6[RAW_CARD_ID].dropna().values)\n",
    "nm_NIH2 = get_nonmatched(NIH, id_colname=NIH_ID, matched_ids=match6[NIH_ID].dropna().values)"
   ]
  },
  {
   "cell_type": "code",
   "execution_count": 67,
   "metadata": {
    "collapsed": false,
    "scrolled": false
   },
   "outputs": [
    {
     "name": "stdout",
     "output_type": "stream",
     "text": [
      "(109, 5)\n",
      "time: 16.5 ms\n"
     ]
    }
   ],
   "source": [
    "nm_NIH3 = nm_NIH2.loc[\n",
    "    (nm_NIH2.eod_year< 1976) & (\n",
    "        nm_NIH2.eod_year>1963), NAME_COLS+['medical_school', 'eod_year']].sort_values('clean_last_name')\n",
    "print nm_NIH3.shape"
   ]
  },
  {
   "cell_type": "code",
   "execution_count": 68,
   "metadata": {
    "collapsed": false,
    "scrolled": false
   },
   "outputs": [
    {
     "name": "stdout",
     "output_type": "stream",
     "text": [
      "time: 28.8 ms\n"
     ]
    }
   ],
   "source": [
    "apps_match = nm_apps2.loc[nm_apps2.clean_last_name.isin(nm_NIH3.clean_last_name.values)]\n",
    "test_merge = pd.merge(left=nm_NIH3, right=apps_match, on='clean_last_name', how='inner').sort_values('clean_last_name')\n",
    "test_merge = test_merge[sorted(test_merge.columns)]\n",
    "if OUTPUT_CSV:\n",
    "    test_merge.to_csv(os.path.join(CORRECTIONS_DIR, 'test_merge_missing_NIH.csv'), index=False)"
   ]
  },
  {
   "cell_type": "code",
   "execution_count": 69,
   "metadata": {
    "collapsed": false,
    "scrolled": false
   },
   "outputs": [
    {
     "name": "stdout",
     "output_type": "stream",
     "text": [
      "time: 29.9 ms\n"
     ]
    }
   ],
   "source": [
    "match6.loc[pd.isnull(match6.clean_last_name), 'clean_last_name'] =  match6.loc[\n",
    "    pd.isnull(match6.clean_last_name), 'clean_last_name_x']\n",
    "to_drop = [c for c in match6.columns if c.endswith('_sim') or '_counts' in c]\n",
    "match7= match6.drop(to_drop+[\n",
    "        'dup_flag', 'eod_year_diff', 'fuzzy_merge_col_x', 'fuzzy_merge_col_y', 'unknown',\n",
    "        'Unnamed: 0', 'raw_uuid_duplicate', 'dno_duplicate', 'count_missing',\n",
    "                'clean_last_name_x', 'clean_last_name_y', 'is_match'], axis=1)"
   ]
  },
  {
   "cell_type": "code",
   "execution_count": 70,
   "metadata": {
    "collapsed": false,
    "scrolled": false
   },
   "outputs": [
    {
     "name": "stdout",
     "output_type": "stream",
     "text": [
      "['citizenship', 'clean_first_initial', 'clean_first_name', 'clean_middle_initial', 'clean_middle_name', 'clean_suffix', 'intern_dates', 'internship_hospital', 'is_female', 'medical_school', 'res_dates', 'residency_hospital', 'residency']\n",
      "time: 14 s\n"
     ]
    }
   ],
   "source": [
    "# consolidate columns in match6\n",
    "match7a = consolidate_merge_cols(match7, ['_x', '_y'], [])"
   ]
  },
  {
   "cell_type": "code",
   "execution_count": 71,
   "metadata": {
    "collapsed": false
   },
   "outputs": [
    {
     "data": {
      "text/plain": [
       "['NIH_first_name',\n",
       " 'NIH_last_name',\n",
       " 'NIH_middle_name',\n",
       " 'address',\n",
       " 'age',\n",
       " 'application_date',\n",
       " 'application_year',\n",
       " 'application_year_1',\n",
       " 'application_year_2',\n",
       " 'application_year_3',\n",
       " 'associate_program_entered',\n",
       " 'bob',\n",
       " 'ca',\n",
       " 'cc',\n",
       " 'citizenship',\n",
       " 'city',\n",
       " 'clean_college_trans',\n",
       " 'clean_first_initial',\n",
       " 'clean_first_name',\n",
       " 'clean_first_name2',\n",
       " 'clean_last_name',\n",
       " 'clean_last_name2',\n",
       " 'clean_middle_initial',\n",
       " 'clean_middle_name',\n",
       " 'clean_middle_name2',\n",
       " 'clean_suffix',\n",
       " 'clinical',\n",
       " 'cord',\n",
       " 'counts',\n",
       " 'data_source',\n",
       " 'date_of_birth',\n",
       " 'dbs',\n",
       " u'dno',\n",
       " 'dob',\n",
       " 'duplicate_dno',\n",
       " 'eod_year',\n",
       " 'fifth',\n",
       " 'first_name',\n",
       " 'fuzzy_merge_col',\n",
       " 'generation',\n",
       " 'honor_societies_first',\n",
       " 'honor_societies_fourth',\n",
       " 'honor_societies_second',\n",
       " 'honor_societies_third',\n",
       " 'ic',\n",
       " 'institute',\n",
       " 'intern_dates',\n",
       " 'internship_hospital',\n",
       " 'internship_year(s)',\n",
       " 'is_female',\n",
       " 'lab_brch',\n",
       " 'last_name',\n",
       " 'med_school',\n",
       " 'medical_school',\n",
       " 'medschool_year_grad',\n",
       " 'middle_name',\n",
       " 'nci',\n",
       " 'nei',\n",
       " 'nhi',\n",
       " 'nhli',\n",
       " 'niaid',\n",
       " 'niamd',\n",
       " 'niamdd',\n",
       " 'nichd',\n",
       " 'nichhd',\n",
       " 'nidr',\n",
       " 'niehs',\n",
       " 'nigms',\n",
       " 'nimh',\n",
       " 'nindb',\n",
       " 'ninds',\n",
       " 'oir',\n",
       " 'original_medical_school',\n",
       " 'other',\n",
       " 'person_uuid',\n",
       " 'pharm_ra',\n",
       " 'pi',\n",
       " 'program',\n",
       " 'ra',\n",
       " 'raw_uuid',\n",
       " 'raw_uuid_1',\n",
       " 'raw_uuid_2',\n",
       " 'raw_uuid_3',\n",
       " 'raw_uuid_4',\n",
       " 'raw_uuid_5',\n",
       " 'rejected',\n",
       " 'rejection_date',\n",
       " 'res_dates',\n",
       " 'research',\n",
       " 'residency',\n",
       " 'residency_hospital',\n",
       " 'residency_year(s)',\n",
       " 'reviewer',\n",
       " 'sa',\n",
       " 'sixth',\n",
       " 'source',\n",
       " 'ssn',\n",
       " 'state',\n",
       " 'supervisor',\n",
       " 'teaching',\n",
       " 'to_drop',\n",
       " 'undergrad_year_grad',\n",
       " 'undergraduate_school',\n",
       " 'withdrawal',\n",
       " 'year_accepted',\n",
       " 'year_grad',\n",
       " 'zip_code']"
      ]
     },
     "execution_count": 71,
     "metadata": {},
     "output_type": "execute_result"
    },
    {
     "name": "stdout",
     "output_type": "stream",
     "text": [
      "time: 18.3 ms\n"
     ]
    }
   ],
   "source": [
    "sorted(match7a.columns)"
   ]
  },
  {
   "cell_type": "code",
   "execution_count": 72,
   "metadata": {
    "collapsed": false
   },
   "outputs": [
    {
     "data": {
      "text/html": [
       "<div>\n",
       "<table border=\"1\" class=\"dataframe\">\n",
       "  <thead>\n",
       "    <tr style=\"text-align: right;\">\n",
       "      <th></th>\n",
       "      <th>clean_first_name</th>\n",
       "      <th>clean_middle_name</th>\n",
       "      <th>clean_last_name</th>\n",
       "      <th>med_school</th>\n",
       "      <th>medical_school</th>\n",
       "      <th>original_medical_school</th>\n",
       "    </tr>\n",
       "  </thead>\n",
       "  <tbody>\n",
       "    <tr>\n",
       "      <th>0</th>\n",
       "      <td>ERNEST</td>\n",
       "      <td>NaN</td>\n",
       "      <td>BARBOSA</td>\n",
       "      <td>UC San Diego, CA</td>\n",
       "      <td>UCSD SCHOOL OF MEDICINE</td>\n",
       "      <td>UCSD School of Medicine</td>\n",
       "    </tr>\n",
       "    <tr>\n",
       "      <th>2</th>\n",
       "      <td>HARVEY</td>\n",
       "      <td>WILLIAM</td>\n",
       "      <td>BENDER</td>\n",
       "      <td>NaN</td>\n",
       "      <td>NaN</td>\n",
       "      <td>NaN</td>\n",
       "    </tr>\n",
       "    <tr>\n",
       "      <th>3</th>\n",
       "      <td>CARL</td>\n",
       "      <td>J</td>\n",
       "      <td>BENTZEL</td>\n",
       "      <td>Medical College of Alabama</td>\n",
       "      <td>UNIVERSITY OF ALABAMA SCHOOL OF MEDICINE</td>\n",
       "      <td>University of Alabama School of Medicine</td>\n",
       "    </tr>\n",
       "    <tr>\n",
       "      <th>4</th>\n",
       "      <td>ROBERT</td>\n",
       "      <td>MICHAEL</td>\n",
       "      <td>BLAESE</td>\n",
       "      <td>University of Minnesota</td>\n",
       "      <td>UNIVERSITY OF MINNESOTA MEDICAL SCHOOL TWIN CI...</td>\n",
       "      <td>University of Minnesota Medical School - Twin ...</td>\n",
       "    </tr>\n",
       "    <tr>\n",
       "      <th>6</th>\n",
       "      <td>KENNETH</td>\n",
       "      <td>KENNETH</td>\n",
       "      <td>BLAYLOCK</td>\n",
       "      <td>Medical College of Va.</td>\n",
       "      <td>MEDICAL COLLEGE OF VIRGINIA</td>\n",
       "      <td>Medical College of Virginia</td>\n",
       "    </tr>\n",
       "    <tr>\n",
       "      <th>7</th>\n",
       "      <td>RICHARD</td>\n",
       "      <td>H</td>\n",
       "      <td>BLUM</td>\n",
       "      <td>State University of New York at Buffalo School...</td>\n",
       "      <td>SUNY BUFFALO SCHOOL OF MEDICINE &amp; BIOMEDICAL S...</td>\n",
       "      <td>SUNY Buffalo School of Medicine &amp; Biomedical S...</td>\n",
       "    </tr>\n",
       "    <tr>\n",
       "      <th>8</th>\n",
       "      <td>ROBERT</td>\n",
       "      <td>O</td>\n",
       "      <td>BONOW</td>\n",
       "      <td>University of Pennsylvania</td>\n",
       "      <td>UNIVERSITY OF PENNSYLVANIA SCHOOL OF MEDICINE</td>\n",
       "      <td>University of Pennsylvania School of Medicine</td>\n",
       "    </tr>\n",
       "    <tr>\n",
       "      <th>10</th>\n",
       "      <td>JAMES</td>\n",
       "      <td>EDWARD</td>\n",
       "      <td>BOURDEAU</td>\n",
       "      <td>Northwestern University</td>\n",
       "      <td>NORTHWESTERN UNIVERSITY MEDICAL SCHOOL</td>\n",
       "      <td>Northwestern University Medical School</td>\n",
       "    </tr>\n",
       "    <tr>\n",
       "      <th>11</th>\n",
       "      <td>FRANK</td>\n",
       "      <td>LOGAN</td>\n",
       "      <td>BROWN</td>\n",
       "      <td>Yale</td>\n",
       "      <td>WASHINGTON UNIVERSITY SCHOOL OF MEDICINE</td>\n",
       "      <td>Washington University School of Medicine</td>\n",
       "    </tr>\n",
       "    <tr>\n",
       "      <th>12</th>\n",
       "      <td>JAMES</td>\n",
       "      <td>KINGSBURY</td>\n",
       "      <td>BROWN</td>\n",
       "      <td>Indiana University</td>\n",
       "      <td>JOHNS HOPKINS UNIVERSITY SCHOOL OF MEDICINE</td>\n",
       "      <td>Johns Hopkins University School of Medicine</td>\n",
       "    </tr>\n",
       "    <tr>\n",
       "      <th>13</th>\n",
       "      <td>JAMES</td>\n",
       "      <td>KINGSBURY</td>\n",
       "      <td>BROWN</td>\n",
       "      <td>Yale University</td>\n",
       "      <td>JOHNS HOPKINS UNIVERSITY SCHOOL OF MEDICINE</td>\n",
       "      <td>Johns Hopkins University School of Medicine</td>\n",
       "    </tr>\n",
       "    <tr>\n",
       "      <th>15</th>\n",
       "      <td>WILLIAM</td>\n",
       "      <td>JOHN</td>\n",
       "      <td>COLLIS</td>\n",
       "      <td>University of Louisville</td>\n",
       "      <td>UNIVERSITY OF LOUISVILLE SCHOOL OF MEDICINE</td>\n",
       "      <td>University of Louisville School of Medicine</td>\n",
       "    </tr>\n",
       "    <tr>\n",
       "      <th>16</th>\n",
       "      <td>RONALD</td>\n",
       "      <td>ALLAN</td>\n",
       "      <td>CYRULINK</td>\n",
       "      <td>Albert Einstein College of Medicine</td>\n",
       "      <td>ALBERT EINSTEIN COLLEGE OF MEDICINE OF YESHIVA...</td>\n",
       "      <td>Albert Einstein College of Medicine of Yeshiva...</td>\n",
       "    </tr>\n",
       "    <tr>\n",
       "      <th>17</th>\n",
       "      <td>GEORGE</td>\n",
       "      <td>ROBERT</td>\n",
       "      <td>DELONG</td>\n",
       "      <td>Harvard</td>\n",
       "      <td>HARVARD MEDICAL SCHOOL</td>\n",
       "      <td>Harvard Medical School</td>\n",
       "    </tr>\n",
       "    <tr>\n",
       "      <th>18</th>\n",
       "      <td>DALE</td>\n",
       "      <td>E</td>\n",
       "      <td>DIETZMAN</td>\n",
       "      <td>University of Vermont Medical Center</td>\n",
       "      <td>UNIVERSITY OF VERMONT COLLEGE OF MEDICINE</td>\n",
       "      <td>Baylor College of Medicine</td>\n",
       "    </tr>\n",
       "    <tr>\n",
       "      <th>20</th>\n",
       "      <td>FREDERICK</td>\n",
       "      <td>A</td>\n",
       "      <td>FLATOW</td>\n",
       "      <td>Cornell</td>\n",
       "      <td>JOAN &amp; SANFORD I. WEILL MEDICAL COLLEGE CORNEL...</td>\n",
       "      <td>Joan &amp; Sanford I. Weill Medical College Cornel...</td>\n",
       "    </tr>\n",
       "    <tr>\n",
       "      <th>22</th>\n",
       "      <td>WILLIAM</td>\n",
       "      <td>ARTHUR</td>\n",
       "      <td>GAY</td>\n",
       "      <td>NaN</td>\n",
       "      <td>NaN</td>\n",
       "      <td>NaN</td>\n",
       "    </tr>\n",
       "    <tr>\n",
       "      <th>23</th>\n",
       "      <td>JOHN</td>\n",
       "      <td>WESLEY</td>\n",
       "      <td>GRIFFIN</td>\n",
       "      <td>Stanford Medical School</td>\n",
       "      <td>STANFORD UNIVERSITY</td>\n",
       "      <td>Stanford University School of Medicine</td>\n",
       "    </tr>\n",
       "    <tr>\n",
       "      <th>24</th>\n",
       "      <td>ALAN</td>\n",
       "      <td>OTTO</td>\n",
       "      <td>HAAKENSTAD</td>\n",
       "      <td>University of Pennsylvania</td>\n",
       "      <td>UNIVERSITY OF NORTH DAKOTA SCHOOL OF MEDICINE ...</td>\n",
       "      <td>University of North Dakota School of Medicine ...</td>\n",
       "    </tr>\n",
       "    <tr>\n",
       "      <th>25</th>\n",
       "      <td>MAX</td>\n",
       "      <td>IRA</td>\n",
       "      <td>HAMBURGER</td>\n",
       "      <td>Albert Einstein College of Medicine</td>\n",
       "      <td>ALBERT EINSTEIN COLLEGE OF MEDICINE OF YESHIVA...</td>\n",
       "      <td>Albert Einstein College of Medicine of Yeshiva...</td>\n",
       "    </tr>\n",
       "    <tr>\n",
       "      <th>26</th>\n",
       "      <td>KENNETH</td>\n",
       "      <td>M</td>\n",
       "      <td>HOUSE</td>\n",
       "      <td>U.S.C. School of Medicine, Los Angeles</td>\n",
       "      <td>USC KECK SCHOOL OF MEDICINE</td>\n",
       "      <td>USC Keck School of Medicine</td>\n",
       "    </tr>\n",
       "    <tr>\n",
       "      <th>27</th>\n",
       "      <td>ROBERT</td>\n",
       "      <td>NaN</td>\n",
       "      <td>HUSE</td>\n",
       "      <td>Loma Linda, Los Angeles, California</td>\n",
       "      <td>LOMA LINDA UNIVERSITY SCHOOL OF MEDICINE</td>\n",
       "      <td>Loma Linda University School of Medicine</td>\n",
       "    </tr>\n",
       "    <tr>\n",
       "      <th>28</th>\n",
       "      <td>NEWTON</td>\n",
       "      <td>NaN</td>\n",
       "      <td>HYSLOP</td>\n",
       "      <td>Harvard</td>\n",
       "      <td>HARVARD MEDICAL SCHOOL</td>\n",
       "      <td>Harvard Medical School</td>\n",
       "    </tr>\n",
       "    <tr>\n",
       "      <th>29</th>\n",
       "      <td>SAMUEL</td>\n",
       "      <td>BURT</td>\n",
       "      <td>ITSCOITZ</td>\n",
       "      <td>George Washington University</td>\n",
       "      <td>GEORGE WASHINGTON UNIVERSITY SCHOOL OF MEDICINE</td>\n",
       "      <td>George Washington University School of Medicine</td>\n",
       "    </tr>\n",
       "    <tr>\n",
       "      <th>30</th>\n",
       "      <td>DAVID</td>\n",
       "      <td>S</td>\n",
       "      <td>JANKOWSKY</td>\n",
       "      <td>University of California at San Francisco</td>\n",
       "      <td>UCSF SCHOOL OF MEDICINE</td>\n",
       "      <td>UCSF School of Medicine</td>\n",
       "    </tr>\n",
       "    <tr>\n",
       "      <th>31</th>\n",
       "      <td>PETER</td>\n",
       "      <td>B</td>\n",
       "      <td>KANE</td>\n",
       "      <td>University of Pennsylvania</td>\n",
       "      <td>UNIVERSITY OF PENNSYLVANIA SCHOOL OF MEDICINE</td>\n",
       "      <td>University of Pennsylvania School of Medicine</td>\n",
       "    </tr>\n",
       "    <tr>\n",
       "      <th>32</th>\n",
       "      <td>HARRY</td>\n",
       "      <td>ROBERT DR</td>\n",
       "      <td>KEISER</td>\n",
       "      <td>Northwestern University</td>\n",
       "      <td>NORTHWESTERN UNIVERSITY MEDICAL SCHOOL</td>\n",
       "      <td>Northwestern University Medical School</td>\n",
       "    </tr>\n",
       "    <tr>\n",
       "      <th>34</th>\n",
       "      <td>THEO</td>\n",
       "      <td>N</td>\n",
       "      <td>KIRKLAND</td>\n",
       "      <td>University of ALA School of Medicine</td>\n",
       "      <td>UNIVERSITY OF ALABAMA SCHOOL OF MEDICINE</td>\n",
       "      <td>University of Alabama School of Medicine</td>\n",
       "    </tr>\n",
       "    <tr>\n",
       "      <th>35</th>\n",
       "      <td>HAYDEN</td>\n",
       "      <td>LESTER</td>\n",
       "      <td>KLAEVEMAN</td>\n",
       "      <td>University of Texas Southwestern Medical</td>\n",
       "      <td>UNIVERSITY OF TEXAS SOUTHWESTERN MEDICAL CENTE...</td>\n",
       "      <td>University of Texas Southwestern Medical Cente...</td>\n",
       "    </tr>\n",
       "    <tr>\n",
       "      <th>38</th>\n",
       "      <td>STUART</td>\n",
       "      <td>NaN</td>\n",
       "      <td>KORNFIELD</td>\n",
       "      <td>Washington University</td>\n",
       "      <td>WASHINGTON UNIVERSITY SCHOOL OF MEDICINE</td>\n",
       "      <td>Washington University School of Medicine</td>\n",
       "    </tr>\n",
       "    <tr>\n",
       "      <th>...</th>\n",
       "      <td>...</td>\n",
       "      <td>...</td>\n",
       "      <td>...</td>\n",
       "      <td>...</td>\n",
       "      <td>...</td>\n",
       "      <td>...</td>\n",
       "    </tr>\n",
       "    <tr>\n",
       "      <th>64</th>\n",
       "      <td>JEROLD</td>\n",
       "      <td>ARNOLD</td>\n",
       "      <td>NaN</td>\n",
       "      <td>Tufts</td>\n",
       "      <td>TUFTS UNIVERSITY SCHOOL OF MEDICINE</td>\n",
       "      <td>Tufts University School of Medicine</td>\n",
       "    </tr>\n",
       "    <tr>\n",
       "      <th>65</th>\n",
       "      <td>JEFFREY</td>\n",
       "      <td>N</td>\n",
       "      <td>NaN</td>\n",
       "      <td>NYU School of Medicine</td>\n",
       "      <td>NEW YORK UNIVERSITY COLLEGE OF MEDICINE</td>\n",
       "      <td>New York University School of Medicine</td>\n",
       "    </tr>\n",
       "    <tr>\n",
       "      <th>66</th>\n",
       "      <td>JAY</td>\n",
       "      <td>DAVID</td>\n",
       "      <td>NaN</td>\n",
       "      <td>Duke University School of Medicine</td>\n",
       "      <td>DUKE MEDICAL SCHOOL</td>\n",
       "      <td>Duke University School of Medicine</td>\n",
       "    </tr>\n",
       "    <tr>\n",
       "      <th>68</th>\n",
       "      <td>JAN</td>\n",
       "      <td>MARK</td>\n",
       "      <td>NaN</td>\n",
       "      <td>Downstate Medical Center Brooklyn; New York</td>\n",
       "      <td>SUNY DOWNSTATE MEDICAL CENTER COLLEGE OF MEDICINE</td>\n",
       "      <td>SUNY Downstate Medical Center College of Medicine</td>\n",
       "    </tr>\n",
       "    <tr>\n",
       "      <th>70</th>\n",
       "      <td>JAMES</td>\n",
       "      <td>JOSEPH</td>\n",
       "      <td>NaN</td>\n",
       "      <td>University of Pennsylvania</td>\n",
       "      <td>UNIVERSITY OF PENNSYLVANIA SCHOOL OF MEDICINE</td>\n",
       "      <td>University of Pennsylvania School of Medicine</td>\n",
       "    </tr>\n",
       "    <tr>\n",
       "      <th>72</th>\n",
       "      <td>JAMES</td>\n",
       "      <td>EDWARD</td>\n",
       "      <td>NaN</td>\n",
       "      <td>Indiana University</td>\n",
       "      <td>INDIANA UNIVERSITY SCHOOL OF MEDICINE</td>\n",
       "      <td>Yale University School of Medicine</td>\n",
       "    </tr>\n",
       "    <tr>\n",
       "      <th>73</th>\n",
       "      <td>JAMES</td>\n",
       "      <td>C</td>\n",
       "      <td>NaN</td>\n",
       "      <td>NaN</td>\n",
       "      <td>NaN</td>\n",
       "      <td>NaN</td>\n",
       "    </tr>\n",
       "    <tr>\n",
       "      <th>74</th>\n",
       "      <td>JAMES</td>\n",
       "      <td>ARTHUR</td>\n",
       "      <td>NaN</td>\n",
       "      <td>Ohio State University</td>\n",
       "      <td>OHIO STATE UNIVERSITY COLLEGE OF MEDICINE AND ...</td>\n",
       "      <td>Ohio State University College of Medicine and ...</td>\n",
       "    </tr>\n",
       "    <tr>\n",
       "      <th>75</th>\n",
       "      <td>HOWARD</td>\n",
       "      <td>MAURICE</td>\n",
       "      <td>NaN</td>\n",
       "      <td>New York University School of Medicine; New York</td>\n",
       "      <td>NEW YORK UNIVERSITY COLLEGE OF MEDICINE</td>\n",
       "      <td>New York University School of Medicine</td>\n",
       "    </tr>\n",
       "    <tr>\n",
       "      <th>77</th>\n",
       "      <td>HARVEY</td>\n",
       "      <td>JAY</td>\n",
       "      <td>NaN</td>\n",
       "      <td>SUNY Downstate</td>\n",
       "      <td>SUNY DOWNSTATE MEDICAL CENTER COLLEGE OF MEDICINE</td>\n",
       "      <td>SUNY Downstate Medical Center College of Medicine</td>\n",
       "    </tr>\n",
       "    <tr>\n",
       "      <th>78</th>\n",
       "      <td>HALBERT</td>\n",
       "      <td>BAYLESS</td>\n",
       "      <td>NaN</td>\n",
       "      <td>Yale University</td>\n",
       "      <td>YALE UNIVERSITY SCHOOL OF MEDICINE</td>\n",
       "      <td>Yale University School of Medicine</td>\n",
       "    </tr>\n",
       "    <tr>\n",
       "      <th>80</th>\n",
       "      <td>GARY</td>\n",
       "      <td>MURRAY</td>\n",
       "      <td>NaN</td>\n",
       "      <td>University of Pittsburgh</td>\n",
       "      <td>UNIVERSITY OF PITTSBURGH SCHOOL OF MEDICINE</td>\n",
       "      <td>University of Pittsburgh School of Medicine</td>\n",
       "    </tr>\n",
       "    <tr>\n",
       "      <th>81</th>\n",
       "      <td>FRANCIS</td>\n",
       "      <td>WILLIAM</td>\n",
       "      <td>NaN</td>\n",
       "      <td>Cornell University Medical College</td>\n",
       "      <td>JOAN &amp; SANFORD I. WEILL MEDICAL COLLEGE CORNEL...</td>\n",
       "      <td>Joan &amp; Sanford I. Weill Medical College Cornel...</td>\n",
       "    </tr>\n",
       "    <tr>\n",
       "      <th>82</th>\n",
       "      <td>FRANCIS</td>\n",
       "      <td>VINCENT</td>\n",
       "      <td>NaN</td>\n",
       "      <td>Cornell University Medical College</td>\n",
       "      <td>JOAN &amp; SANFORD I. WEILL MEDICAL COLLEGE CORNEL...</td>\n",
       "      <td>Joan &amp; Sanford I. Weill Medical College Cornel...</td>\n",
       "    </tr>\n",
       "    <tr>\n",
       "      <th>84</th>\n",
       "      <td>ERIC</td>\n",
       "      <td>JOEL</td>\n",
       "      <td>NaN</td>\n",
       "      <td>Harvard</td>\n",
       "      <td>HARVARD MEDICAL SCHOOL</td>\n",
       "      <td>Harvard Medical School</td>\n",
       "    </tr>\n",
       "    <tr>\n",
       "      <th>85</th>\n",
       "      <td>DONALD</td>\n",
       "      <td>P</td>\n",
       "      <td>NaN</td>\n",
       "      <td>Cornell University</td>\n",
       "      <td>JOAN &amp; SANFORD I. WEILL MEDICAL COLLEGE CORNEL...</td>\n",
       "      <td>Joan &amp; Sanford I. Weill Medical College Cornel...</td>\n",
       "    </tr>\n",
       "    <tr>\n",
       "      <th>87</th>\n",
       "      <td>DONALD</td>\n",
       "      <td>BUTCHER</td>\n",
       "      <td>NaN</td>\n",
       "      <td>University of Southern California</td>\n",
       "      <td>USC KECK SCHOOL OF MEDICINE</td>\n",
       "      <td>USC Keck School of Medicine</td>\n",
       "    </tr>\n",
       "    <tr>\n",
       "      <th>88</th>\n",
       "      <td>D W</td>\n",
       "      <td>NaN</td>\n",
       "      <td>NaN</td>\n",
       "      <td>Duke University</td>\n",
       "      <td>DUKE MEDICAL SCHOOL</td>\n",
       "      <td>Duke University School of Medicine</td>\n",
       "    </tr>\n",
       "    <tr>\n",
       "      <th>89</th>\n",
       "      <td>DAVID</td>\n",
       "      <td>W</td>\n",
       "      <td>NaN</td>\n",
       "      <td>University of Vermont</td>\n",
       "      <td>UNIVERSITY OF VERMONT COLLEGE OF MEDICINE</td>\n",
       "      <td>University of Vermont College of Medicine</td>\n",
       "    </tr>\n",
       "    <tr>\n",
       "      <th>90</th>\n",
       "      <td>DAVID</td>\n",
       "      <td>L</td>\n",
       "      <td>NaN</td>\n",
       "      <td>University of Illinois Medical School</td>\n",
       "      <td>UNIVERSITY OF ILLINOIS COLLEGE OF MEDICINE</td>\n",
       "      <td>University of Illinois College of Medicine</td>\n",
       "    </tr>\n",
       "    <tr>\n",
       "      <th>91</th>\n",
       "      <td>DAVID</td>\n",
       "      <td>H</td>\n",
       "      <td>NaN</td>\n",
       "      <td>Yale University</td>\n",
       "      <td>YALE UNIVERSITY SCHOOL OF MEDICINE</td>\n",
       "      <td>Yale University School of Medicine</td>\n",
       "    </tr>\n",
       "    <tr>\n",
       "      <th>92</th>\n",
       "      <td>DAVID</td>\n",
       "      <td>GREGORY</td>\n",
       "      <td>NaN</td>\n",
       "      <td>Harvard University</td>\n",
       "      <td>HARVARD MEDICAL SCHOOL</td>\n",
       "      <td>Harvard Medical School</td>\n",
       "    </tr>\n",
       "    <tr>\n",
       "      <th>94</th>\n",
       "      <td>BERNARD</td>\n",
       "      <td>LEONARD</td>\n",
       "      <td>NaN</td>\n",
       "      <td>Albert Einstein College of Medicine</td>\n",
       "      <td>ALBERT EINSTEIN COLLEGE OF MEDICINE OF YESHIVA...</td>\n",
       "      <td>Albert Einstein College of Medicine of Yeshiva...</td>\n",
       "    </tr>\n",
       "    <tr>\n",
       "      <th>95</th>\n",
       "      <td>ASHLEY</td>\n",
       "      <td>THOMSON</td>\n",
       "      <td>NaN</td>\n",
       "      <td>Columbia College of Physicians and Surgeons</td>\n",
       "      <td>COLUMBIA UNIVERSITY COLLEGE OF PHYSICIANS AND ...</td>\n",
       "      <td>Columbia University College of Physicians and ...</td>\n",
       "    </tr>\n",
       "    <tr>\n",
       "      <th>96</th>\n",
       "      <td>ARTHUR</td>\n",
       "      <td>LOUIS</td>\n",
       "      <td>NaN</td>\n",
       "      <td>Albert Einstein College of Medicine</td>\n",
       "      <td>ALBERT EINSTEIN COLLEGE OF MEDICINE OF YESHIVA...</td>\n",
       "      <td>Albert Einstein College of Medicine of Yeshiva...</td>\n",
       "    </tr>\n",
       "    <tr>\n",
       "      <th>97</th>\n",
       "      <td>ANNE</td>\n",
       "      <td>NaN</td>\n",
       "      <td>NaN</td>\n",
       "      <td>Yale Medical School</td>\n",
       "      <td>YALE UNIVERSITY SCHOOL OF MEDICINE</td>\n",
       "      <td>Yale University School of Medicine</td>\n",
       "    </tr>\n",
       "    <tr>\n",
       "      <th>98</th>\n",
       "      <td>ANDREW</td>\n",
       "      <td>B</td>\n",
       "      <td>NaN</td>\n",
       "      <td>Yale School of Medicine</td>\n",
       "      <td>YALE UNIVERSITY SCHOOL OF MEDICINE</td>\n",
       "      <td>Yale University School of Medicine</td>\n",
       "    </tr>\n",
       "    <tr>\n",
       "      <th>99</th>\n",
       "      <td>ARNOLD</td>\n",
       "      <td>L</td>\n",
       "      <td>NaN</td>\n",
       "      <td>University of Missouri</td>\n",
       "      <td>UNIVERSITY OF MISSOURI-COLUMBIA SCHOOL OF MEDI...</td>\n",
       "      <td>University of Pennsylvania School of Medicine</td>\n",
       "    </tr>\n",
       "    <tr>\n",
       "      <th>100</th>\n",
       "      <td>ALLAN</td>\n",
       "      <td>L</td>\n",
       "      <td>NaN</td>\n",
       "      <td>University of Pennsylvania</td>\n",
       "      <td>UNIVERSITY OF PENNSYLVANIA SCHOOL OF MEDICINE</td>\n",
       "      <td>University of Pennsylvania School of Medicine</td>\n",
       "    </tr>\n",
       "    <tr>\n",
       "      <th>102</th>\n",
       "      <td>ALAN</td>\n",
       "      <td>MARC</td>\n",
       "      <td>NaN</td>\n",
       "      <td>Yale University; Brown University</td>\n",
       "      <td>YALE UNIVERSITY SCHOOL OF MEDICINE</td>\n",
       "      <td>Yale University School of Medicine</td>\n",
       "    </tr>\n",
       "  </tbody>\n",
       "</table>\n",
       "<p>2066 rows × 6 columns</p>\n",
       "</div>"
      ],
      "text/plain": [
       "    clean_first_name clean_middle_name clean_last_name  \\\n",
       "0             ERNEST               NaN         BARBOSA   \n",
       "2             HARVEY           WILLIAM          BENDER   \n",
       "3               CARL                 J         BENTZEL   \n",
       "4             ROBERT           MICHAEL          BLAESE   \n",
       "6            KENNETH           KENNETH        BLAYLOCK   \n",
       "7            RICHARD                 H            BLUM   \n",
       "8             ROBERT                 O           BONOW   \n",
       "10             JAMES            EDWARD        BOURDEAU   \n",
       "11             FRANK             LOGAN           BROWN   \n",
       "12             JAMES         KINGSBURY           BROWN   \n",
       "13             JAMES         KINGSBURY           BROWN   \n",
       "15           WILLIAM              JOHN          COLLIS   \n",
       "16            RONALD             ALLAN        CYRULINK   \n",
       "17            GEORGE            ROBERT          DELONG   \n",
       "18              DALE                 E        DIETZMAN   \n",
       "20         FREDERICK                 A          FLATOW   \n",
       "22           WILLIAM            ARTHUR             GAY   \n",
       "23              JOHN            WESLEY         GRIFFIN   \n",
       "24              ALAN              OTTO      HAAKENSTAD   \n",
       "25               MAX               IRA       HAMBURGER   \n",
       "26           KENNETH                 M           HOUSE   \n",
       "27            ROBERT               NaN            HUSE   \n",
       "28            NEWTON               NaN          HYSLOP   \n",
       "29            SAMUEL              BURT        ITSCOITZ   \n",
       "30             DAVID                 S       JANKOWSKY   \n",
       "31             PETER                 B            KANE   \n",
       "32             HARRY         ROBERT DR          KEISER   \n",
       "34              THEO                 N        KIRKLAND   \n",
       "35            HAYDEN            LESTER       KLAEVEMAN   \n",
       "38            STUART               NaN       KORNFIELD   \n",
       "..               ...               ...             ...   \n",
       "64            JEROLD            ARNOLD             NaN   \n",
       "65           JEFFREY                 N             NaN   \n",
       "66               JAY             DAVID             NaN   \n",
       "68               JAN              MARK             NaN   \n",
       "70             JAMES            JOSEPH             NaN   \n",
       "72             JAMES            EDWARD             NaN   \n",
       "73             JAMES                 C             NaN   \n",
       "74             JAMES            ARTHUR             NaN   \n",
       "75            HOWARD           MAURICE             NaN   \n",
       "77            HARVEY               JAY             NaN   \n",
       "78           HALBERT           BAYLESS             NaN   \n",
       "80              GARY            MURRAY             NaN   \n",
       "81           FRANCIS           WILLIAM             NaN   \n",
       "82           FRANCIS           VINCENT             NaN   \n",
       "84              ERIC              JOEL             NaN   \n",
       "85            DONALD                 P             NaN   \n",
       "87            DONALD           BUTCHER             NaN   \n",
       "88               D W               NaN             NaN   \n",
       "89             DAVID                 W             NaN   \n",
       "90             DAVID                 L             NaN   \n",
       "91             DAVID                 H             NaN   \n",
       "92             DAVID           GREGORY             NaN   \n",
       "94           BERNARD           LEONARD             NaN   \n",
       "95            ASHLEY           THOMSON             NaN   \n",
       "96            ARTHUR             LOUIS             NaN   \n",
       "97              ANNE               NaN             NaN   \n",
       "98            ANDREW                 B             NaN   \n",
       "99            ARNOLD                 L             NaN   \n",
       "100            ALLAN                 L             NaN   \n",
       "102             ALAN              MARC             NaN   \n",
       "\n",
       "                                            med_school  \\\n",
       "0                                     UC San Diego, CA   \n",
       "2                                                  NaN   \n",
       "3                           Medical College of Alabama   \n",
       "4                              University of Minnesota   \n",
       "6                               Medical College of Va.   \n",
       "7    State University of New York at Buffalo School...   \n",
       "8                           University of Pennsylvania   \n",
       "10                             Northwestern University   \n",
       "11                                                Yale   \n",
       "12                                  Indiana University   \n",
       "13                                     Yale University   \n",
       "15                            University of Louisville   \n",
       "16                 Albert Einstein College of Medicine   \n",
       "17                                             Harvard   \n",
       "18                University of Vermont Medical Center   \n",
       "20                                             Cornell   \n",
       "22                                                 NaN   \n",
       "23                             Stanford Medical School   \n",
       "24                          University of Pennsylvania   \n",
       "25                 Albert Einstein College of Medicine   \n",
       "26              U.S.C. School of Medicine, Los Angeles   \n",
       "27                 Loma Linda, Los Angeles, California   \n",
       "28                                             Harvard   \n",
       "29                        George Washington University   \n",
       "30           University of California at San Francisco   \n",
       "31                          University of Pennsylvania   \n",
       "32                             Northwestern University   \n",
       "34                University of ALA School of Medicine   \n",
       "35            University of Texas Southwestern Medical   \n",
       "38                               Washington University   \n",
       "..                                                 ...   \n",
       "64                                               Tufts   \n",
       "65                              NYU School of Medicine   \n",
       "66                  Duke University School of Medicine   \n",
       "68         Downstate Medical Center Brooklyn; New York   \n",
       "70                          University of Pennsylvania   \n",
       "72                                  Indiana University   \n",
       "73                                                 NaN   \n",
       "74                               Ohio State University   \n",
       "75    New York University School of Medicine; New York   \n",
       "77                                      SUNY Downstate   \n",
       "78                                     Yale University   \n",
       "80                            University of Pittsburgh   \n",
       "81                  Cornell University Medical College   \n",
       "82                  Cornell University Medical College   \n",
       "84                                             Harvard   \n",
       "85                                  Cornell University   \n",
       "87                   University of Southern California   \n",
       "88                                     Duke University   \n",
       "89                               University of Vermont   \n",
       "90               University of Illinois Medical School   \n",
       "91                                     Yale University   \n",
       "92                                  Harvard University   \n",
       "94                 Albert Einstein College of Medicine   \n",
       "95         Columbia College of Physicians and Surgeons   \n",
       "96                 Albert Einstein College of Medicine   \n",
       "97                                 Yale Medical School   \n",
       "98                             Yale School of Medicine   \n",
       "99                              University of Missouri   \n",
       "100                         University of Pennsylvania   \n",
       "102                  Yale University; Brown University   \n",
       "\n",
       "                                        medical_school  \\\n",
       "0                              UCSD SCHOOL OF MEDICINE   \n",
       "2                                                  NaN   \n",
       "3             UNIVERSITY OF ALABAMA SCHOOL OF MEDICINE   \n",
       "4    UNIVERSITY OF MINNESOTA MEDICAL SCHOOL TWIN CI...   \n",
       "6                          MEDICAL COLLEGE OF VIRGINIA   \n",
       "7    SUNY BUFFALO SCHOOL OF MEDICINE & BIOMEDICAL S...   \n",
       "8        UNIVERSITY OF PENNSYLVANIA SCHOOL OF MEDICINE   \n",
       "10              NORTHWESTERN UNIVERSITY MEDICAL SCHOOL   \n",
       "11            WASHINGTON UNIVERSITY SCHOOL OF MEDICINE   \n",
       "12         JOHNS HOPKINS UNIVERSITY SCHOOL OF MEDICINE   \n",
       "13         JOHNS HOPKINS UNIVERSITY SCHOOL OF MEDICINE   \n",
       "15         UNIVERSITY OF LOUISVILLE SCHOOL OF MEDICINE   \n",
       "16   ALBERT EINSTEIN COLLEGE OF MEDICINE OF YESHIVA...   \n",
       "17                              HARVARD MEDICAL SCHOOL   \n",
       "18           UNIVERSITY OF VERMONT COLLEGE OF MEDICINE   \n",
       "20   JOAN & SANFORD I. WEILL MEDICAL COLLEGE CORNEL...   \n",
       "22                                                 NaN   \n",
       "23                                 STANFORD UNIVERSITY   \n",
       "24   UNIVERSITY OF NORTH DAKOTA SCHOOL OF MEDICINE ...   \n",
       "25   ALBERT EINSTEIN COLLEGE OF MEDICINE OF YESHIVA...   \n",
       "26                         USC KECK SCHOOL OF MEDICINE   \n",
       "27            LOMA LINDA UNIVERSITY SCHOOL OF MEDICINE   \n",
       "28                              HARVARD MEDICAL SCHOOL   \n",
       "29     GEORGE WASHINGTON UNIVERSITY SCHOOL OF MEDICINE   \n",
       "30                             UCSF SCHOOL OF MEDICINE   \n",
       "31       UNIVERSITY OF PENNSYLVANIA SCHOOL OF MEDICINE   \n",
       "32              NORTHWESTERN UNIVERSITY MEDICAL SCHOOL   \n",
       "34            UNIVERSITY OF ALABAMA SCHOOL OF MEDICINE   \n",
       "35   UNIVERSITY OF TEXAS SOUTHWESTERN MEDICAL CENTE...   \n",
       "38            WASHINGTON UNIVERSITY SCHOOL OF MEDICINE   \n",
       "..                                                 ...   \n",
       "64                 TUFTS UNIVERSITY SCHOOL OF MEDICINE   \n",
       "65             NEW YORK UNIVERSITY COLLEGE OF MEDICINE   \n",
       "66                                 DUKE MEDICAL SCHOOL   \n",
       "68   SUNY DOWNSTATE MEDICAL CENTER COLLEGE OF MEDICINE   \n",
       "70       UNIVERSITY OF PENNSYLVANIA SCHOOL OF MEDICINE   \n",
       "72               INDIANA UNIVERSITY SCHOOL OF MEDICINE   \n",
       "73                                                 NaN   \n",
       "74   OHIO STATE UNIVERSITY COLLEGE OF MEDICINE AND ...   \n",
       "75             NEW YORK UNIVERSITY COLLEGE OF MEDICINE   \n",
       "77   SUNY DOWNSTATE MEDICAL CENTER COLLEGE OF MEDICINE   \n",
       "78                  YALE UNIVERSITY SCHOOL OF MEDICINE   \n",
       "80         UNIVERSITY OF PITTSBURGH SCHOOL OF MEDICINE   \n",
       "81   JOAN & SANFORD I. WEILL MEDICAL COLLEGE CORNEL...   \n",
       "82   JOAN & SANFORD I. WEILL MEDICAL COLLEGE CORNEL...   \n",
       "84                              HARVARD MEDICAL SCHOOL   \n",
       "85   JOAN & SANFORD I. WEILL MEDICAL COLLEGE CORNEL...   \n",
       "87                         USC KECK SCHOOL OF MEDICINE   \n",
       "88                                 DUKE MEDICAL SCHOOL   \n",
       "89           UNIVERSITY OF VERMONT COLLEGE OF MEDICINE   \n",
       "90          UNIVERSITY OF ILLINOIS COLLEGE OF MEDICINE   \n",
       "91                  YALE UNIVERSITY SCHOOL OF MEDICINE   \n",
       "92                              HARVARD MEDICAL SCHOOL   \n",
       "94   ALBERT EINSTEIN COLLEGE OF MEDICINE OF YESHIVA...   \n",
       "95   COLUMBIA UNIVERSITY COLLEGE OF PHYSICIANS AND ...   \n",
       "96   ALBERT EINSTEIN COLLEGE OF MEDICINE OF YESHIVA...   \n",
       "97                  YALE UNIVERSITY SCHOOL OF MEDICINE   \n",
       "98                  YALE UNIVERSITY SCHOOL OF MEDICINE   \n",
       "99   UNIVERSITY OF MISSOURI-COLUMBIA SCHOOL OF MEDI...   \n",
       "100      UNIVERSITY OF PENNSYLVANIA SCHOOL OF MEDICINE   \n",
       "102                 YALE UNIVERSITY SCHOOL OF MEDICINE   \n",
       "\n",
       "                               original_medical_school  \n",
       "0                              UCSD School of Medicine  \n",
       "2                                                  NaN  \n",
       "3             University of Alabama School of Medicine  \n",
       "4    University of Minnesota Medical School - Twin ...  \n",
       "6                          Medical College of Virginia  \n",
       "7    SUNY Buffalo School of Medicine & Biomedical S...  \n",
       "8        University of Pennsylvania School of Medicine  \n",
       "10              Northwestern University Medical School  \n",
       "11            Washington University School of Medicine  \n",
       "12         Johns Hopkins University School of Medicine  \n",
       "13         Johns Hopkins University School of Medicine  \n",
       "15         University of Louisville School of Medicine  \n",
       "16   Albert Einstein College of Medicine of Yeshiva...  \n",
       "17                              Harvard Medical School  \n",
       "18                          Baylor College of Medicine  \n",
       "20   Joan & Sanford I. Weill Medical College Cornel...  \n",
       "22                                                 NaN  \n",
       "23              Stanford University School of Medicine  \n",
       "24   University of North Dakota School of Medicine ...  \n",
       "25   Albert Einstein College of Medicine of Yeshiva...  \n",
       "26                         USC Keck School of Medicine  \n",
       "27            Loma Linda University School of Medicine  \n",
       "28                              Harvard Medical School  \n",
       "29     George Washington University School of Medicine  \n",
       "30                             UCSF School of Medicine  \n",
       "31       University of Pennsylvania School of Medicine  \n",
       "32              Northwestern University Medical School  \n",
       "34            University of Alabama School of Medicine  \n",
       "35   University of Texas Southwestern Medical Cente...  \n",
       "38            Washington University School of Medicine  \n",
       "..                                                 ...  \n",
       "64                 Tufts University School of Medicine  \n",
       "65              New York University School of Medicine  \n",
       "66                  Duke University School of Medicine  \n",
       "68   SUNY Downstate Medical Center College of Medicine  \n",
       "70       University of Pennsylvania School of Medicine  \n",
       "72                  Yale University School of Medicine  \n",
       "73                                                 NaN  \n",
       "74   Ohio State University College of Medicine and ...  \n",
       "75              New York University School of Medicine  \n",
       "77   SUNY Downstate Medical Center College of Medicine  \n",
       "78                  Yale University School of Medicine  \n",
       "80         University of Pittsburgh School of Medicine  \n",
       "81   Joan & Sanford I. Weill Medical College Cornel...  \n",
       "82   Joan & Sanford I. Weill Medical College Cornel...  \n",
       "84                              Harvard Medical School  \n",
       "85   Joan & Sanford I. Weill Medical College Cornel...  \n",
       "87                         USC Keck School of Medicine  \n",
       "88                  Duke University School of Medicine  \n",
       "89           University of Vermont College of Medicine  \n",
       "90          University of Illinois College of Medicine  \n",
       "91                  Yale University School of Medicine  \n",
       "92                              Harvard Medical School  \n",
       "94   Albert Einstein College of Medicine of Yeshiva...  \n",
       "95   Columbia University College of Physicians and ...  \n",
       "96   Albert Einstein College of Medicine of Yeshiva...  \n",
       "97                  Yale University School of Medicine  \n",
       "98                  Yale University School of Medicine  \n",
       "99       University of Pennsylvania School of Medicine  \n",
       "100      University of Pennsylvania School of Medicine  \n",
       "102                 Yale University School of Medicine  \n",
       "\n",
       "[2066 rows x 6 columns]"
      ]
     },
     "execution_count": 72,
     "metadata": {},
     "output_type": "execute_result"
    },
    {
     "name": "stdout",
     "output_type": "stream",
     "text": [
      "time: 82 ms\n"
     ]
    }
   ],
   "source": [
    "match7a.loc[match7a.med_school.str.upper()!=match7a.medical_school, NAME_COLS+['med_school', 'medical_school', 'original_medical_school']]"
   ]
  },
  {
   "cell_type": "code",
   "execution_count": 73,
   "metadata": {
    "collapsed": false
   },
   "outputs": [
    {
     "data": {
      "text/html": [
       "<div>\n",
       "<table border=\"1\" class=\"dataframe\">\n",
       "  <thead>\n",
       "    <tr style=\"text-align: right;\">\n",
       "      <th></th>\n",
       "      <th>clean_first_name</th>\n",
       "      <th>clean_middle_name</th>\n",
       "      <th>clean_last_name</th>\n",
       "    </tr>\n",
       "  </thead>\n",
       "  <tbody>\n",
       "    <tr>\n",
       "      <th>1824</th>\n",
       "      <td>DONALD</td>\n",
       "      <td>L</td>\n",
       "      <td>MORTON</td>\n",
       "    </tr>\n",
       "    <tr>\n",
       "      <th>1858</th>\n",
       "      <td>ROBERT</td>\n",
       "      <td>OLIVER</td>\n",
       "      <td>MORTON</td>\n",
       "    </tr>\n",
       "  </tbody>\n",
       "</table>\n",
       "</div>"
      ],
      "text/plain": [
       "     clean_first_name clean_middle_name clean_last_name\n",
       "1824           DONALD                 L          MORTON\n",
       "1858           ROBERT            OLIVER          MORTON"
      ]
     },
     "execution_count": 73,
     "metadata": {},
     "output_type": "execute_result"
    },
    {
     "name": "stdout",
     "output_type": "stream",
     "text": [
      "time: 21.5 ms\n"
     ]
    }
   ],
   "source": [
    "apps.loc[apps.clean_last_name=='MORTON', NAME_COLS]"
   ]
  },
  {
   "cell_type": "code",
   "execution_count": 74,
   "metadata": {
    "collapsed": false,
    "scrolled": false
   },
   "outputs": [
    {
     "name": "stdout",
     "output_type": "stream",
     "text": [
      "time: 20.7 ms\n"
     ]
    }
   ],
   "source": [
    "mask = ~pd.isnull(match7a.clean_first_name2)\n",
    "match7a.loc[mask, 'clean_first_name'] = match7a.loc[mask, 'clean_first_name2']\n",
    "\n",
    "mask = ~pd.isnull(match7a.clean_last_name2)\n",
    "match7a.loc[mask, 'clean_last_name'] = match7a.loc[mask, 'clean_last_name2']\n",
    "\n",
    "mask = ~pd.isnull(match7a.clean_middle_name2)\n",
    "match7a.loc[mask, 'clean_middle_name'] = match7a.loc[mask, 'clean_middle_name2']"
   ]
  },
  {
   "cell_type": "code",
   "execution_count": 75,
   "metadata": {
    "collapsed": false,
    "scrolled": false
   },
   "outputs": [
    {
     "name": "stdout",
     "output_type": "stream",
     "text": [
      "(4221, 107)\n",
      "time: 61.2 ms\n"
     ]
    }
   ],
   "source": [
    "match8 = pd.concat([\n",
    "        man_dno[~pd.isnull(man_dno['dno'])], match7a, apps4.loc[\n",
    "            ~apps4[PERSON_ID].isin(match7a[PERSON_ID].values),:]], axis=0).drop(['clean_first_name2', \n",
    "                                                                                'clean_middle_name2', \n",
    "                                                                                'clean_last_name2'], axis=1)\n",
    "print match8.shape"
   ]
  },
  {
   "cell_type": "code",
   "execution_count": 76,
   "metadata": {
    "collapsed": false,
    "scrolled": false
   },
   "outputs": [
    {
     "data": {
      "text/html": [
       "<div>\n",
       "<table border=\"1\" class=\"dataframe\">\n",
       "  <thead>\n",
       "    <tr style=\"text-align: right;\">\n",
       "      <th></th>\n",
       "      <th>date_of_birth</th>\n",
       "      <th>dob</th>\n",
       "    </tr>\n",
       "  </thead>\n",
       "  <tbody>\n",
       "  </tbody>\n",
       "</table>\n",
       "</div>"
      ],
      "text/plain": [
       "Empty DataFrame\n",
       "Columns: [date_of_birth, dob]\n",
       "Index: []"
      ]
     },
     "execution_count": 76,
     "metadata": {},
     "output_type": "execute_result"
    },
    {
     "name": "stdout",
     "output_type": "stream",
     "text": [
      "time: 24.2 ms\n"
     ]
    }
   ],
   "source": [
    "# replace date of birth with dob whenever date of birth missing and dob is not\n",
    "match8.loc[\n",
    "    (pd.isnull(match8['date_of_birth'])) & (~pd.isnull(match8['dob'])), 'date_of_birth'] = match8.loc[\n",
    "        (pd.isnull(match8['date_of_birth'])) & (~pd.isnull(match8['dob'])), 'dob']\n",
    "\n",
    "\n",
    "c1 = 'date_of_birth'\n",
    "c2 = 'dob'\n",
    "match8.loc[(pd.isnull(match8[c1])) & (~pd.isnull(match8[c2])), [c1, c2]]"
   ]
  },
  {
   "cell_type": "code",
   "execution_count": 77,
   "metadata": {
    "collapsed": false,
    "scrolled": false
   },
   "outputs": [
    {
     "name": "stdout",
     "output_type": "stream",
     "text": [
      "time: 18.5 ms\n"
     ]
    }
   ],
   "source": [
    "match8.loc[(match8.clean_last_name=='KNOWLER') & (match8.clean_first_name=='JAN'), 'dno'] = 1922\n",
    "match8.loc[\n",
    "    (match8.clean_last_name== 'E ROSS HARVARD') & (match8.clean_first_name=='MICHAEL'), 'clean_last_name'] = 'ROSS'\n"
   ]
  },
  {
   "cell_type": "code",
   "execution_count": 78,
   "metadata": {
    "collapsed": false,
    "scrolled": false
   },
   "outputs": [
    {
     "name": "stdout",
     "output_type": "stream",
     "text": [
      "(4221, 107)\n",
      "(4115, 106)\n",
      "time: 46.2 ms\n"
     ]
    }
   ],
   "source": [
    "match9 = match8.drop(['dob'], axis=1).reset_index(drop=True).sort_values(\n",
    "    NAME_COLS+['dno']).drop_duplicates(NAME_COLS+['dno']).drop_duplicates(NAME_COLS+[PERSON_ID])\n",
    "# print sorted(match9.columns)\n",
    "print match8.shape\n",
    "print match9.shape"
   ]
  },
  {
   "cell_type": "code",
   "execution_count": 79,
   "metadata": {
    "collapsed": false
   },
   "outputs": [
    {
     "name": "stdout",
     "output_type": "stream",
     "text": [
      "time: 20.8 ms\n"
     ]
    }
   ],
   "source": [
    "# check for dno duplicates \n",
    "dups_dno = match9.loc[(~pd.isnull(match9.dno)) & (\n",
    "        match9.duplicated('dno', keep=False)), NAME_COLS+['dno', PERSON_ID, 'medical_school']]\n",
    "\n",
    "dups_merge = pd.merge(\n",
    "    left=dups_dno, right=NIH.loc[NIH.dno.isin(dups_dno.dno), NAME_COLS+['dno', 'medical_school']], on=['dno'], how='left')\n"
   ]
  },
  {
   "cell_type": "code",
   "execution_count": 80,
   "metadata": {
    "collapsed": false
   },
   "outputs": [
    {
     "name": "stdout",
     "output_type": "stream",
     "text": [
      "time: 12.9 ms\n"
     ]
    }
   ],
   "source": [
    "def get_sim_score(row):\n",
    "    sim_cols = NAME_COLS + ['medical_school']\n",
    "    sims = []\n",
    "    for col in sim_cols:\n",
    "        sim_1 = get_name_str_sim(row[['{}_x'.format(col), '{}_y'.format(col)]])\n",
    "        sims.append(sim_1)\n",
    "    return np.mean(sims)"
   ]
  },
  {
   "cell_type": "code",
   "execution_count": 81,
   "metadata": {
    "collapsed": false
   },
   "outputs": [
    {
     "name": "stdout",
     "output_type": "stream",
     "text": [
      "time: 24.8 ms\n"
     ]
    }
   ],
   "source": [
    "dups_merge['sim'] = dups_merge.apply(get_sim_score, axis=1)"
   ]
  },
  {
   "cell_type": "code",
   "execution_count": 82,
   "metadata": {
    "collapsed": false
   },
   "outputs": [
    {
     "name": "stdout",
     "output_type": "stream",
     "text": [
      "time: 15.7 ms\n"
     ]
    }
   ],
   "source": [
    "dups_merge = dups_merge.sort_values(['dno', 'sim'], ascending=False).rename(columns={'dno':'old_dno'})\n",
    "dups_merge['dno'] = 0 "
   ]
  },
  {
   "cell_type": "code",
   "execution_count": 83,
   "metadata": {
    "collapsed": false
   },
   "outputs": [
    {
     "name": "stdout",
     "output_type": "stream",
     "text": [
      "2\n",
      "time: 18.5 ms\n"
     ]
    }
   ],
   "source": [
    "best_match = dups_merge.groupby('old_dno').first().person_uuid.values\n",
    "print len(best_match)"
   ]
  },
  {
   "cell_type": "code",
   "execution_count": 84,
   "metadata": {
    "collapsed": false
   },
   "outputs": [
    {
     "name": "stdout",
     "output_type": "stream",
     "text": [
      "2\n",
      "time: 17.3 ms\n"
     ]
    }
   ],
   "source": [
    "mask = (dups_merge.sim > 94) & (dups_merge.person_uuid.isin(best_match))\n",
    "print sum(mask)\n",
    "dups_merge.loc[mask, 'dno'] = dups_merge[mask]['old_dno']\n",
    "# match9.loc[(~pd.isnull(match9.clean_first_name_y)), ['clean_first_name', 'clean_first_name_y']]"
   ]
  },
  {
   "cell_type": "code",
   "execution_count": 85,
   "metadata": {
    "collapsed": false
   },
   "outputs": [
    {
     "name": "stdout",
     "output_type": "stream",
     "text": [
      "time: 11.7 ms\n"
     ]
    }
   ],
   "source": [
    "# dups_merge.loc[dups_merge.dno==dups_merge.old_dno]"
   ]
  },
  {
   "cell_type": "code",
   "execution_count": 86,
   "metadata": {
    "collapsed": false
   },
   "outputs": [
    {
     "data": {
      "text/html": [
       "<div>\n",
       "<table border=\"1\" class=\"dataframe\">\n",
       "  <thead>\n",
       "    <tr style=\"text-align: right;\">\n",
       "      <th></th>\n",
       "      <th>clean_first_name</th>\n",
       "      <th>clean_middle_name</th>\n",
       "      <th>clean_last_name</th>\n",
       "      <th>dno</th>\n",
       "      <th>person_uuid</th>\n",
       "    </tr>\n",
       "  </thead>\n",
       "  <tbody>\n",
       "  </tbody>\n",
       "</table>\n",
       "</div>"
      ],
      "text/plain": [
       "Empty DataFrame\n",
       "Columns: [clean_first_name, clean_middle_name, clean_last_name, dno, person_uuid]\n",
       "Index: []"
      ]
     },
     "execution_count": 86,
     "metadata": {},
     "output_type": "execute_result"
    },
    {
     "name": "stdout",
     "output_type": "stream",
     "text": [
      "time: 49.6 ms\n"
     ]
    }
   ],
   "source": [
    "# reset duplicates to null\n",
    "match9.loc[match9.person_uuid.isin(dups_merge.loc[dups_merge['dno']==0, PERSON_ID]), 'dno'] = np.nan\n",
    "\n",
    "match9.loc[match9.person_uuid==35, NAME_COLS+[PERSON_ID, 'dno']]\n",
    "\n",
    "match9.loc[(match9.duplicated('dno', keep=False) & (~pd.isnull(match9.dno))), NAME_COLS+['dno', PERSON_ID]]"
   ]
  },
  {
   "cell_type": "code",
   "execution_count": 87,
   "metadata": {
    "collapsed": false
   },
   "outputs": [
    {
     "data": {
      "text/html": [
       "<div>\n",
       "<table border=\"1\" class=\"dataframe\">\n",
       "  <thead>\n",
       "    <tr style=\"text-align: right;\">\n",
       "      <th></th>\n",
       "      <th>clean_first_name</th>\n",
       "      <th>clean_middle_name</th>\n",
       "      <th>clean_last_name</th>\n",
       "      <th>first_name</th>\n",
       "      <th>middle_name</th>\n",
       "      <th>last_name</th>\n",
       "      <th>med_school</th>\n",
       "      <th>original_medical_school</th>\n",
       "      <th>NIH_first_name</th>\n",
       "      <th>NIH_middle_name</th>\n",
       "      <th>NIH_last_name</th>\n",
       "    </tr>\n",
       "  </thead>\n",
       "  <tbody>\n",
       "    <tr>\n",
       "      <th>2644</th>\n",
       "      <td>ALBERT</td>\n",
       "      <td>LELAND</td>\n",
       "      <td>ALBRIGHT</td>\n",
       "      <td>Adelbert</td>\n",
       "      <td>Leland</td>\n",
       "      <td>Albright, Jr.</td>\n",
       "      <td>Louisiana State University School of Medicine</td>\n",
       "      <td>Louisiana State University School of Medicine ...</td>\n",
       "      <td>ALBERT</td>\n",
       "      <td>LELAND</td>\n",
       "      <td>ALBRIGHT</td>\n",
       "    </tr>\n",
       "    <tr>\n",
       "      <th>99</th>\n",
       "      <td>ARNOLD</td>\n",
       "      <td>L</td>\n",
       "      <td>SMITH</td>\n",
       "      <td>Allan</td>\n",
       "      <td>L.</td>\n",
       "      <td>Smith</td>\n",
       "      <td>NaN</td>\n",
       "      <td>University of Pennsylvania School of Medicine</td>\n",
       "      <td>NaN</td>\n",
       "      <td>NaN</td>\n",
       "      <td>NaN</td>\n",
       "    </tr>\n",
       "    <tr>\n",
       "      <th>825</th>\n",
       "      <td>ARTHUR</td>\n",
       "      <td>P</td>\n",
       "      <td>RICHARDSON</td>\n",
       "      <td>Arthur</td>\n",
       "      <td>P.</td>\n",
       "      <td>Richardson, Jr.</td>\n",
       "      <td>University of Florida</td>\n",
       "      <td>University of Florida College of Medicine</td>\n",
       "      <td>ARTHUR</td>\n",
       "      <td>P</td>\n",
       "      <td>RICHARDSON</td>\n",
       "    </tr>\n",
       "    <tr>\n",
       "      <th>95</th>\n",
       "      <td>ASHLEY</td>\n",
       "      <td>THOMSON</td>\n",
       "      <td>HAASE</td>\n",
       "      <td>Ashley</td>\n",
       "      <td>Thomson</td>\n",
       "      <td>Haase</td>\n",
       "      <td>NaN</td>\n",
       "      <td>Columbia University College of Physicians and ...</td>\n",
       "      <td>NaN</td>\n",
       "      <td>NaN</td>\n",
       "      <td>NaN</td>\n",
       "    </tr>\n",
       "    <tr>\n",
       "      <th>4087</th>\n",
       "      <td>BERNARD</td>\n",
       "      <td>S</td>\n",
       "      <td>ARON</td>\n",
       "      <td>Ber</td>\n",
       "      <td>NaN</td>\n",
       "      <td>Aron</td>\n",
       "      <td>NaN</td>\n",
       "      <td>New York University School of Medicine</td>\n",
       "      <td>NaN</td>\n",
       "      <td>NaN</td>\n",
       "      <td>NaN</td>\n",
       "    </tr>\n",
       "    <tr>\n",
       "      <th>4056</th>\n",
       "      <td>CATHERINE</td>\n",
       "      <td>E</td>\n",
       "      <td>CLEMENTS</td>\n",
       "      <td>Janice</td>\n",
       "      <td>E.</td>\n",
       "      <td>Clements</td>\n",
       "      <td>NaN</td>\n",
       "      <td>University of Maryland School of Medicine</td>\n",
       "      <td>NaN</td>\n",
       "      <td>NaN</td>\n",
       "      <td>NaN</td>\n",
       "    </tr>\n",
       "    <tr>\n",
       "      <th>2579</th>\n",
       "      <td>CHARLES</td>\n",
       "      <td>MILLER</td>\n",
       "      <td>BAGLEY</td>\n",
       "      <td>Charles</td>\n",
       "      <td>Miller</td>\n",
       "      <td>Bagley, Jr.</td>\n",
       "      <td>Harvard Medical School</td>\n",
       "      <td>Harvard Medical School</td>\n",
       "      <td>CHARLES</td>\n",
       "      <td>MILLER</td>\n",
       "      <td>BAGLEY</td>\n",
       "    </tr>\n",
       "    <tr>\n",
       "      <th>3934</th>\n",
       "      <td>DEAN</td>\n",
       "      <td>T</td>\n",
       "      <td>MASON</td>\n",
       "      <td>Dean</td>\n",
       "      <td>T.</td>\n",
       "      <td>Mason</td>\n",
       "      <td>NaN</td>\n",
       "      <td>Duke University School of Medicine</td>\n",
       "      <td>NaN</td>\n",
       "      <td>NaN</td>\n",
       "      <td>NaN</td>\n",
       "    </tr>\n",
       "    <tr>\n",
       "      <th>1649</th>\n",
       "      <td>ELBERT</td>\n",
       "      <td>CARMACK</td>\n",
       "      <td>HOLMES</td>\n",
       "      <td>E</td>\n",
       "      <td>Carmack</td>\n",
       "      <td>Holmes</td>\n",
       "      <td>University of North Carolina</td>\n",
       "      <td>University of North Carolina at Chapel Hill Sc...</td>\n",
       "      <td>ELBERT</td>\n",
       "      <td>CARMACK</td>\n",
       "      <td>HOLMES</td>\n",
       "    </tr>\n",
       "    <tr>\n",
       "      <th>154</th>\n",
       "      <td>FREDERIC</td>\n",
       "      <td>FREDERIC</td>\n",
       "      <td>MUSHINSKI</td>\n",
       "      <td>Jos</td>\n",
       "      <td>Frederic</td>\n",
       "      <td>Mushinski</td>\n",
       "      <td>Harvard Medical School</td>\n",
       "      <td>Harvard Medical School</td>\n",
       "      <td>FREDERIC</td>\n",
       "      <td>COSTEP</td>\n",
       "      <td>MUSHINSKI</td>\n",
       "    </tr>\n",
       "    <tr>\n",
       "      <th>1906</th>\n",
       "      <td>FREDERICK</td>\n",
       "      <td>A</td>\n",
       "      <td>GILL</td>\n",
       "      <td>Fred</td>\n",
       "      <td>A.</td>\n",
       "      <td>Gill</td>\n",
       "      <td>Northwestern University Medical School</td>\n",
       "      <td>Northwestern University Medical School</td>\n",
       "      <td>FREDERICK</td>\n",
       "      <td>A</td>\n",
       "      <td>GILL</td>\n",
       "    </tr>\n",
       "    <tr>\n",
       "      <th>3830</th>\n",
       "      <td>FREDERICK</td>\n",
       "      <td>ALBERT</td>\n",
       "      <td>METTLER</td>\n",
       "      <td>Fred</td>\n",
       "      <td>Albert</td>\n",
       "      <td>Mettler, Jr.</td>\n",
       "      <td>NaN</td>\n",
       "      <td>Jefferson Medical College of Thomas Jefferson ...</td>\n",
       "      <td>NaN</td>\n",
       "      <td>NaN</td>\n",
       "      <td>NaN</td>\n",
       "    </tr>\n",
       "    <tr>\n",
       "      <th>2285</th>\n",
       "      <td>FREDERICK</td>\n",
       "      <td>C</td>\n",
       "      <td>CHU</td>\n",
       "      <td>Fred</td>\n",
       "      <td>C.</td>\n",
       "      <td>Chu</td>\n",
       "      <td>Cornell University</td>\n",
       "      <td>Joan &amp; Sanford I. Weill Medical College Cornel...</td>\n",
       "      <td>FREDERICK</td>\n",
       "      <td>C</td>\n",
       "      <td>CHU</td>\n",
       "    </tr>\n",
       "    <tr>\n",
       "      <th>2014</th>\n",
       "      <td>FREDERICK</td>\n",
       "      <td>D</td>\n",
       "      <td>FINKELMAN</td>\n",
       "      <td>Fred</td>\n",
       "      <td>D.</td>\n",
       "      <td>Finkelman</td>\n",
       "      <td>Yale University School of Medicine</td>\n",
       "      <td>Yale University School of Medicine</td>\n",
       "      <td>FREDERICK</td>\n",
       "      <td>D</td>\n",
       "      <td>FINKELMAN</td>\n",
       "    </tr>\n",
       "    <tr>\n",
       "      <th>3827</th>\n",
       "      <td>FREDERICK</td>\n",
       "      <td>DAVID</td>\n",
       "      <td>LUBLIN</td>\n",
       "      <td>Fred</td>\n",
       "      <td>David</td>\n",
       "      <td>Lublin</td>\n",
       "      <td>NaN</td>\n",
       "      <td>Jefferson Medical College of Thomas Jefferson ...</td>\n",
       "      <td>NaN</td>\n",
       "      <td>NaN</td>\n",
       "      <td>NaN</td>\n",
       "    </tr>\n",
       "    <tr>\n",
       "      <th>3826</th>\n",
       "      <td>FREDERICK</td>\n",
       "      <td>EDWARD</td>\n",
       "      <td>KARCH</td>\n",
       "      <td>Fred</td>\n",
       "      <td>Edward</td>\n",
       "      <td>Karch</td>\n",
       "      <td>NaN</td>\n",
       "      <td>University of Rochester School of Medicine and...</td>\n",
       "      <td>NaN</td>\n",
       "      <td>NaN</td>\n",
       "      <td>NaN</td>\n",
       "    </tr>\n",
       "    <tr>\n",
       "      <th>3825</th>\n",
       "      <td>FREDERICK</td>\n",
       "      <td>HARVEY</td>\n",
       "      <td>HOCHBERG</td>\n",
       "      <td>Fred</td>\n",
       "      <td>Harvey</td>\n",
       "      <td>Hochberg</td>\n",
       "      <td>NaN</td>\n",
       "      <td>Case Western Reserve University School of Medi...</td>\n",
       "      <td>NaN</td>\n",
       "      <td>NaN</td>\n",
       "      <td>NaN</td>\n",
       "    </tr>\n",
       "    <tr>\n",
       "      <th>904</th>\n",
       "      <td>FREDERICK</td>\n",
       "      <td>IRWIN</td>\n",
       "      <td>POLSKY</td>\n",
       "      <td>Fred</td>\n",
       "      <td>Irwin</td>\n",
       "      <td>Polsky</td>\n",
       "      <td>University of Texas Southwestern</td>\n",
       "      <td>University of Texas Southwestern Medical Cente...</td>\n",
       "      <td>FREDERICK</td>\n",
       "      <td>INWIN</td>\n",
       "      <td>POLSKY</td>\n",
       "    </tr>\n",
       "    <tr>\n",
       "      <th>695</th>\n",
       "      <td>FREDERICK</td>\n",
       "      <td>JAY</td>\n",
       "      <td>SCHIFFMAN</td>\n",
       "      <td>Fred</td>\n",
       "      <td>Jay</td>\n",
       "      <td>Schiffman</td>\n",
       "      <td>New York University School of Medicine</td>\n",
       "      <td>New York University School of Medicine</td>\n",
       "      <td>FREDERICK</td>\n",
       "      <td>JAY</td>\n",
       "      <td>SCHIFFMAN</td>\n",
       "    </tr>\n",
       "    <tr>\n",
       "      <th>3820</th>\n",
       "      <td>FREDERICK</td>\n",
       "      <td>LOWELL</td>\n",
       "      <td>RASP</td>\n",
       "      <td>Fred</td>\n",
       "      <td>Lowell</td>\n",
       "      <td>Rasp.</td>\n",
       "      <td>NaN</td>\n",
       "      <td>Indiana University School of Medicine</td>\n",
       "      <td>NaN</td>\n",
       "      <td>NaN</td>\n",
       "      <td>NaN</td>\n",
       "    </tr>\n",
       "    <tr>\n",
       "      <th>779</th>\n",
       "      <td>FREDERICK</td>\n",
       "      <td>M</td>\n",
       "      <td>ROSENBLOOM</td>\n",
       "      <td>Fredrick</td>\n",
       "      <td>M.</td>\n",
       "      <td>Rosenbloom</td>\n",
       "      <td>Johns Hopkins Medical School</td>\n",
       "      <td>Johns Hopkins University School of Medicine</td>\n",
       "      <td>FREDERICK</td>\n",
       "      <td>NaN</td>\n",
       "      <td>ROSENBLOOM</td>\n",
       "    </tr>\n",
       "    <tr>\n",
       "      <th>238</th>\n",
       "      <td>FREDERICK</td>\n",
       "      <td>S</td>\n",
       "      <td>WRIGHT</td>\n",
       "      <td>Fred</td>\n",
       "      <td>S</td>\n",
       "      <td>Wright</td>\n",
       "      <td>NaN</td>\n",
       "      <td>NaN</td>\n",
       "      <td>FREDERICK</td>\n",
       "      <td>S</td>\n",
       "      <td>WRIGHT</td>\n",
       "    </tr>\n",
       "    <tr>\n",
       "      <th>1546</th>\n",
       "      <td>FREDERICK</td>\n",
       "      <td>STUART</td>\n",
       "      <td>KANTOR</td>\n",
       "      <td>Fred</td>\n",
       "      <td>S.</td>\n",
       "      <td>Kantor</td>\n",
       "      <td>NaN</td>\n",
       "      <td>NaN</td>\n",
       "      <td>FREDERICK</td>\n",
       "      <td>S</td>\n",
       "      <td>KANTOR</td>\n",
       "    </tr>\n",
       "    <tr>\n",
       "      <th>1939</th>\n",
       "      <td>FREDERICK</td>\n",
       "      <td>NaN</td>\n",
       "      <td>GARFINKEL</td>\n",
       "      <td>Fred</td>\n",
       "      <td>NaN</td>\n",
       "      <td>Garfinkel</td>\n",
       "      <td>Mt. Sinai School of Medicine</td>\n",
       "      <td>Mount Sinai School of Medicine of New York Uni...</td>\n",
       "      <td>FREDERICK</td>\n",
       "      <td>NaN</td>\n",
       "      <td>GARFINKEL</td>\n",
       "    </tr>\n",
       "    <tr>\n",
       "      <th>1684</th>\n",
       "      <td>GEOFFREY</td>\n",
       "      <td>PETER</td>\n",
       "      <td>HERZIG</td>\n",
       "      <td>Herzig</td>\n",
       "      <td>Geoffrey</td>\n",
       "      <td>Herzig</td>\n",
       "      <td>Western Reserve University School of Medicine</td>\n",
       "      <td>Case Western Reserve University School of Medi...</td>\n",
       "      <td>GEOFFREY</td>\n",
       "      <td>P</td>\n",
       "      <td>HERZIG</td>\n",
       "    </tr>\n",
       "    <tr>\n",
       "      <th>2264</th>\n",
       "      <td>GEORGE</td>\n",
       "      <td>L</td>\n",
       "      <td>COHEN</td>\n",
       "      <td>George</td>\n",
       "      <td>L.</td>\n",
       "      <td>Cohen</td>\n",
       "      <td>New York University</td>\n",
       "      <td>New York University School of Medicine</td>\n",
       "      <td>GEORGE</td>\n",
       "      <td>L</td>\n",
       "      <td>COHEN</td>\n",
       "    </tr>\n",
       "    <tr>\n",
       "      <th>120</th>\n",
       "      <td>GEORGE</td>\n",
       "      <td>ROBERT</td>\n",
       "      <td>DELONG</td>\n",
       "      <td>G</td>\n",
       "      <td>Robert</td>\n",
       "      <td>Delong</td>\n",
       "      <td>Harvard</td>\n",
       "      <td>Harvard Medical School</td>\n",
       "      <td>ROBERT</td>\n",
       "      <td>G</td>\n",
       "      <td>DELONG</td>\n",
       "    </tr>\n",
       "    <tr>\n",
       "      <th>948</th>\n",
       "      <td>GEORGES</td>\n",
       "      <td>NaN</td>\n",
       "      <td>PETER</td>\n",
       "      <td>George</td>\n",
       "      <td>NaN</td>\n",
       "      <td>Peter</td>\n",
       "      <td>Harvard</td>\n",
       "      <td>Harvard Medical School</td>\n",
       "      <td>GEORGES</td>\n",
       "      <td>NaN</td>\n",
       "      <td>PETER</td>\n",
       "    </tr>\n",
       "    <tr>\n",
       "      <th>1259</th>\n",
       "      <td>GERALD</td>\n",
       "      <td>LAWRENCE</td>\n",
       "      <td>MACKLER</td>\n",
       "      <td>Gerald</td>\n",
       "      <td>Lawrence</td>\n",
       "      <td>Mackler</td>\n",
       "      <td>Columbia University</td>\n",
       "      <td>Columbia University College of Physicians and ...</td>\n",
       "      <td>GERALD</td>\n",
       "      <td>LAWRENCE</td>\n",
       "      <td>MACKLER</td>\n",
       "    </tr>\n",
       "    <tr>\n",
       "      <th>2565</th>\n",
       "      <td>H</td>\n",
       "      <td>DAVID</td>\n",
       "      <td>BANTA</td>\n",
       "      <td>AOA</td>\n",
       "      <td>David</td>\n",
       "      <td>Banta</td>\n",
       "      <td>Duke University School of Medicine</td>\n",
       "      <td>Duke University School of Medicine</td>\n",
       "      <td>H</td>\n",
       "      <td>DAVID</td>\n",
       "      <td>BANTA</td>\n",
       "    </tr>\n",
       "    <tr>\n",
       "      <th>...</th>\n",
       "      <td>...</td>\n",
       "      <td>...</td>\n",
       "      <td>...</td>\n",
       "      <td>...</td>\n",
       "      <td>...</td>\n",
       "      <td>...</td>\n",
       "      <td>...</td>\n",
       "      <td>...</td>\n",
       "      <td>...</td>\n",
       "      <td>...</td>\n",
       "      <td>...</td>\n",
       "    </tr>\n",
       "    <tr>\n",
       "      <th>164</th>\n",
       "      <td>MARSHALL</td>\n",
       "      <td>LAWRENCE</td>\n",
       "      <td>REINER</td>\n",
       "      <td>Lawrence</td>\n",
       "      <td>Lawrence</td>\n",
       "      <td>Reiner, Jr.</td>\n",
       "      <td>Baylor University College of Medicine</td>\n",
       "      <td>Baylor College of Medicine</td>\n",
       "      <td>LAWRENCE</td>\n",
       "      <td>NaN</td>\n",
       "      <td>REINER</td>\n",
       "    </tr>\n",
       "    <tr>\n",
       "      <th>524</th>\n",
       "      <td>NEAL</td>\n",
       "      <td>H</td>\n",
       "      <td>STEIGBIGEL</td>\n",
       "      <td>Neal</td>\n",
       "      <td>H.</td>\n",
       "      <td>Steigbigel</td>\n",
       "      <td>Harvard Medical School</td>\n",
       "      <td>Harvard Medical School</td>\n",
       "      <td>NEAL</td>\n",
       "      <td>H</td>\n",
       "      <td>STEIGBIGEL</td>\n",
       "    </tr>\n",
       "    <tr>\n",
       "      <th>3217</th>\n",
       "      <td>NORMAN</td>\n",
       "      <td>A</td>\n",
       "      <td>CUMMINGS</td>\n",
       "      <td>Norman A</td>\n",
       "      <td>A.</td>\n",
       "      <td>Cummings</td>\n",
       "      <td>NaN</td>\n",
       "      <td>SUNY Buffalo School of Medicine &amp; Biomedical S...</td>\n",
       "      <td>NaN</td>\n",
       "      <td>NaN</td>\n",
       "      <td>NaN</td>\n",
       "    </tr>\n",
       "    <tr>\n",
       "      <th>1476</th>\n",
       "      <td>PAUL</td>\n",
       "      <td>DON</td>\n",
       "      <td>KLITE</td>\n",
       "      <td>Paul</td>\n",
       "      <td>Don</td>\n",
       "      <td>Klite</td>\n",
       "      <td>Duke University School of Medicine</td>\n",
       "      <td>Duke University School of Medicine</td>\n",
       "      <td>PAUL</td>\n",
       "      <td>DON</td>\n",
       "      <td>KLITE</td>\n",
       "    </tr>\n",
       "    <tr>\n",
       "      <th>920</th>\n",
       "      <td>PHILLIP</td>\n",
       "      <td>A</td>\n",
       "      <td>PIZZO</td>\n",
       "      <td>Philip</td>\n",
       "      <td>A.</td>\n",
       "      <td>Pizzo</td>\n",
       "      <td>NaN</td>\n",
       "      <td>NaN</td>\n",
       "      <td>PHILLIP</td>\n",
       "      <td>A</td>\n",
       "      <td>PIZZO</td>\n",
       "    </tr>\n",
       "    <tr>\n",
       "      <th>955</th>\n",
       "      <td>PHILLIP</td>\n",
       "      <td>O KEEFE</td>\n",
       "      <td>PERIMAN</td>\n",
       "      <td>Philip</td>\n",
       "      <td>O'Keefe</td>\n",
       "      <td>Periman</td>\n",
       "      <td>Washington University School of Medicine</td>\n",
       "      <td>Washington University School of Medicine</td>\n",
       "      <td>PHILLIP</td>\n",
       "      <td>O KEEFE</td>\n",
       "      <td>PERIMAN</td>\n",
       "    </tr>\n",
       "    <tr>\n",
       "      <th>1250</th>\n",
       "      <td>PHILLIP</td>\n",
       "      <td>W</td>\n",
       "      <td>MAJERUS</td>\n",
       "      <td>Philip</td>\n",
       "      <td>W.</td>\n",
       "      <td>Majerus</td>\n",
       "      <td>Washington University</td>\n",
       "      <td>Washington University School of Medicine</td>\n",
       "      <td>PHILLIP</td>\n",
       "      <td>W</td>\n",
       "      <td>MAJERUS</td>\n",
       "    </tr>\n",
       "    <tr>\n",
       "      <th>1963</th>\n",
       "      <td>PHILLIP</td>\n",
       "      <td>NaN</td>\n",
       "      <td>FROST</td>\n",
       "      <td>Philip</td>\n",
       "      <td>NaN</td>\n",
       "      <td>Frost</td>\n",
       "      <td>Albert Einstein College of Medicine</td>\n",
       "      <td>Albert Einstein College of Medicine of Yeshiva...</td>\n",
       "      <td>PHILLIP</td>\n",
       "      <td>NaN</td>\n",
       "      <td>FROST</td>\n",
       "    </tr>\n",
       "    <tr>\n",
       "      <th>724</th>\n",
       "      <td>RICHARD</td>\n",
       "      <td>J</td>\n",
       "      <td>SAMAHA</td>\n",
       "      <td>Richard</td>\n",
       "      <td>J.</td>\n",
       "      <td>Samaha Jr.</td>\n",
       "      <td>Boston University School of Medicine</td>\n",
       "      <td>Boston University School of Medicine</td>\n",
       "      <td>RICHARD</td>\n",
       "      <td>J</td>\n",
       "      <td>SAMAHA</td>\n",
       "    </tr>\n",
       "    <tr>\n",
       "      <th>1819</th>\n",
       "      <td>RICHARD</td>\n",
       "      <td>NaN</td>\n",
       "      <td>GREEN</td>\n",
       "      <td>Rechard</td>\n",
       "      <td>NaN</td>\n",
       "      <td>Green</td>\n",
       "      <td>John Hopkins</td>\n",
       "      <td>Johns Hopkins University School of Medicine</td>\n",
       "      <td>RICHARD</td>\n",
       "      <td>NaN</td>\n",
       "      <td>GREEN</td>\n",
       "    </tr>\n",
       "    <tr>\n",
       "      <th>1945</th>\n",
       "      <td>ROBERT</td>\n",
       "      <td>C</td>\n",
       "      <td>GALLO</td>\n",
       "      <td>Jefferson Student Research Society</td>\n",
       "      <td>C.</td>\n",
       "      <td>Gallo</td>\n",
       "      <td>Jefferson Medical College</td>\n",
       "      <td>Jefferson Medical College of Thomas Jefferson ...</td>\n",
       "      <td>ROBERT</td>\n",
       "      <td>C</td>\n",
       "      <td>GALLO</td>\n",
       "    </tr>\n",
       "    <tr>\n",
       "      <th>1371</th>\n",
       "      <td>ROBERT</td>\n",
       "      <td>JOSEPH</td>\n",
       "      <td>LEFKOWITZ</td>\n",
       "      <td>Robert</td>\n",
       "      <td>Joseph</td>\n",
       "      <td>Lefkowitz</td>\n",
       "      <td>Columbia University College of Phys. &amp; Surgeons</td>\n",
       "      <td>Columbia University College of Physicians and ...</td>\n",
       "      <td>ROBERT</td>\n",
       "      <td>JOSEPH</td>\n",
       "      <td>LEFKOWITZ</td>\n",
       "    </tr>\n",
       "    <tr>\n",
       "      <th>2995</th>\n",
       "      <td>ROBT</td>\n",
       "      <td>ALLAN</td>\n",
       "      <td>RIZZA</td>\n",
       "      <td>Robt.</td>\n",
       "      <td>Allan</td>\n",
       "      <td>Rizza</td>\n",
       "      <td>NaN</td>\n",
       "      <td>University of Florida College of Medicine</td>\n",
       "      <td>NaN</td>\n",
       "      <td>NaN</td>\n",
       "      <td>NaN</td>\n",
       "    </tr>\n",
       "    <tr>\n",
       "      <th>2985</th>\n",
       "      <td>RONALD</td>\n",
       "      <td>BART</td>\n",
       "      <td>LEPOFF</td>\n",
       "      <td>Ronald</td>\n",
       "      <td>Bart</td>\n",
       "      <td>Lepoff</td>\n",
       "      <td>NaN</td>\n",
       "      <td>University of Rochester School of Medicine and...</td>\n",
       "      <td>NaN</td>\n",
       "      <td>NaN</td>\n",
       "      <td>NaN</td>\n",
       "    </tr>\n",
       "    <tr>\n",
       "      <th>2223</th>\n",
       "      <td>RONALD</td>\n",
       "      <td>MICHAEL</td>\n",
       "      <td>COSTELL</td>\n",
       "      <td>Ronald</td>\n",
       "      <td>Michael</td>\n",
       "      <td>Costell</td>\n",
       "      <td>Stanford University</td>\n",
       "      <td>Stanford University School of Medicine</td>\n",
       "      <td>RONALD</td>\n",
       "      <td>MICHAEL</td>\n",
       "      <td>COSTELL</td>\n",
       "    </tr>\n",
       "    <tr>\n",
       "      <th>1843</th>\n",
       "      <td>SPENCER JR</td>\n",
       "      <td>NaN</td>\n",
       "      <td>GORDON</td>\n",
       "      <td>Spencer</td>\n",
       "      <td>NaN</td>\n",
       "      <td>Gordon, Jr.</td>\n",
       "      <td>Harvard</td>\n",
       "      <td>Harvard Medical School</td>\n",
       "      <td>SPENCER JR</td>\n",
       "      <td>NaN</td>\n",
       "      <td>GORDON</td>\n",
       "    </tr>\n",
       "    <tr>\n",
       "      <th>1066</th>\n",
       "      <td>STANLEY</td>\n",
       "      <td>G</td>\n",
       "      <td>NATHENSON</td>\n",
       "      <td>Stnaley</td>\n",
       "      <td>G.</td>\n",
       "      <td>Nathenson</td>\n",
       "      <td>Washington University School of Medicine, St. ...</td>\n",
       "      <td>Washington University School of Medicine</td>\n",
       "      <td>STANLEY</td>\n",
       "      <td>G</td>\n",
       "      <td>NATHENSON</td>\n",
       "    </tr>\n",
       "    <tr>\n",
       "      <th>175</th>\n",
       "      <td>STANLEY</td>\n",
       "      <td>STANLEY</td>\n",
       "      <td>SHERWIN</td>\n",
       "      <td>Robert</td>\n",
       "      <td>Stanley</td>\n",
       "      <td>Sherwin</td>\n",
       "      <td>Albert Einstein College of Medicine</td>\n",
       "      <td>Albert Einstein College of Medicine of Yeshiva...</td>\n",
       "      <td>STANLEY</td>\n",
       "      <td>SHERWIN</td>\n",
       "      <td>SHERWIN</td>\n",
       "    </tr>\n",
       "    <tr>\n",
       "      <th>1785</th>\n",
       "      <td>STEPHEN</td>\n",
       "      <td>J</td>\n",
       "      <td>GUGGENHEIM</td>\n",
       "      <td>Stephen</td>\n",
       "      <td>J.</td>\n",
       "      <td>Guggenheim</td>\n",
       "      <td>Harvard Medical</td>\n",
       "      <td>Harvard Medical School</td>\n",
       "      <td>STEPHEN</td>\n",
       "      <td>J</td>\n",
       "      <td>GUGGENHEIM</td>\n",
       "    </tr>\n",
       "    <tr>\n",
       "      <th>268</th>\n",
       "      <td>STEPHEN</td>\n",
       "      <td>J</td>\n",
       "      <td>WINTERS</td>\n",
       "      <td>S</td>\n",
       "      <td>J</td>\n",
       "      <td>Winters</td>\n",
       "      <td>NaN</td>\n",
       "      <td>NaN</td>\n",
       "      <td>STEPHEN</td>\n",
       "      <td>J</td>\n",
       "      <td>WINTERS</td>\n",
       "    </tr>\n",
       "    <tr>\n",
       "      <th>2091</th>\n",
       "      <td>T</td>\n",
       "      <td>DAVID</td>\n",
       "      <td>ELDER</td>\n",
       "      <td>T.</td>\n",
       "      <td>David</td>\n",
       "      <td>Elder</td>\n",
       "      <td>Duke</td>\n",
       "      <td>Duke University School of Medicine</td>\n",
       "      <td>T</td>\n",
       "      <td>DAVID</td>\n",
       "      <td>ELDER</td>\n",
       "    </tr>\n",
       "    <tr>\n",
       "      <th>2874</th>\n",
       "      <td>T M</td>\n",
       "      <td>SIMMONS</td>\n",
       "      <td>PATTERSON</td>\n",
       "      <td>T.M.</td>\n",
       "      <td>Simmons</td>\n",
       "      <td>Patterson</td>\n",
       "      <td>NaN</td>\n",
       "      <td>University of Pennsylvania School of Medicine</td>\n",
       "      <td>NaN</td>\n",
       "      <td>NaN</td>\n",
       "      <td>NaN</td>\n",
       "    </tr>\n",
       "    <tr>\n",
       "      <th>2849</th>\n",
       "      <td>THOMAS</td>\n",
       "      <td>JOSEPH</td>\n",
       "      <td>LAWLEY</td>\n",
       "      <td>Pfizer Award</td>\n",
       "      <td>Joseph</td>\n",
       "      <td>Lawley</td>\n",
       "      <td>NaN</td>\n",
       "      <td>SUNY Buffalo School of Medicine &amp; Biomedical S...</td>\n",
       "      <td>NaN</td>\n",
       "      <td>NaN</td>\n",
       "      <td>NaN</td>\n",
       "    </tr>\n",
       "    <tr>\n",
       "      <th>2463</th>\n",
       "      <td>THOMAS</td>\n",
       "      <td>JOSEPH JOHN</td>\n",
       "      <td>BLANCK</td>\n",
       "      <td>Thomas</td>\n",
       "      <td>Joseph John</td>\n",
       "      <td>Blanck</td>\n",
       "      <td>University of Penn. School of Medicine</td>\n",
       "      <td>University of Pennsylvania School of Medicine</td>\n",
       "      <td>THOMAS</td>\n",
       "      <td>JOSEPH JOHN</td>\n",
       "      <td>BLANCK</td>\n",
       "    </tr>\n",
       "    <tr>\n",
       "      <th>2830</th>\n",
       "      <td>W</td>\n",
       "      <td>STEVES</td>\n",
       "      <td>RING</td>\n",
       "      <td>1</td>\n",
       "      <td>Steves</td>\n",
       "      <td>Ring, Jr.</td>\n",
       "      <td>NaN</td>\n",
       "      <td>Harvard Medical School</td>\n",
       "      <td>NaN</td>\n",
       "      <td>NaN</td>\n",
       "      <td>NaN</td>\n",
       "    </tr>\n",
       "    <tr>\n",
       "      <th>2426</th>\n",
       "      <td>WILLIAM</td>\n",
       "      <td>D</td>\n",
       "      <td>BRADEN</td>\n",
       "      <td>William</td>\n",
       "      <td>NaN</td>\n",
       "      <td>Braden III</td>\n",
       "      <td>Harvard</td>\n",
       "      <td>Harvard Medical School</td>\n",
       "      <td>WILLIAM</td>\n",
       "      <td>D</td>\n",
       "      <td>BRADEN</td>\n",
       "    </tr>\n",
       "    <tr>\n",
       "      <th>2462</th>\n",
       "      <td>WILLIAM</td>\n",
       "      <td>FREDERICK</td>\n",
       "      <td>BLANK</td>\n",
       "      <td>William</td>\n",
       "      <td>Frederick</td>\n",
       "      <td>Blank, Jr.</td>\n",
       "      <td>Washington University</td>\n",
       "      <td>Washington University School of Medicine</td>\n",
       "      <td>WILLIAM</td>\n",
       "      <td>FREDERICK</td>\n",
       "      <td>BLANK</td>\n",
       "    </tr>\n",
       "    <tr>\n",
       "      <th>2010</th>\n",
       "      <td>WILLIAM</td>\n",
       "      <td>GUY</td>\n",
       "      <td>FISCUS</td>\n",
       "      <td>William</td>\n",
       "      <td>Guy</td>\n",
       "      <td>Fiscus</td>\n",
       "      <td>Baylor</td>\n",
       "      <td>Baylor College of Medicine</td>\n",
       "      <td>WILLIAM</td>\n",
       "      <td>GUY</td>\n",
       "      <td>FISCUS</td>\n",
       "    </tr>\n",
       "    <tr>\n",
       "      <th>4</th>\n",
       "      <td>WILLIAM</td>\n",
       "      <td>HOWARD</td>\n",
       "      <td>WILLIAMS</td>\n",
       "      <td>Willis</td>\n",
       "      <td>Howard</td>\n",
       "      <td>Williams</td>\n",
       "      <td>NaN</td>\n",
       "      <td>University of North Carolina at Chapel Hill Sc...</td>\n",
       "      <td>NaN</td>\n",
       "      <td>NaN</td>\n",
       "      <td>NaN</td>\n",
       "    </tr>\n",
       "    <tr>\n",
       "      <th>2387</th>\n",
       "      <td>WILLIAM</td>\n",
       "      <td>VIRGIL</td>\n",
       "      <td>BROWN</td>\n",
       "      <td>Virgil</td>\n",
       "      <td>Virgil</td>\n",
       "      <td>Brown</td>\n",
       "      <td>Yale University</td>\n",
       "      <td>Yale University School of Medicine</td>\n",
       "      <td>W</td>\n",
       "      <td>VIRGIL</td>\n",
       "      <td>BROWN</td>\n",
       "    </tr>\n",
       "  </tbody>\n",
       "</table>\n",
       "<p>105 rows × 11 columns</p>\n",
       "</div>"
      ],
      "text/plain": [
       "     clean_first_name clean_middle_name clean_last_name  \\\n",
       "2644           ALBERT            LELAND        ALBRIGHT   \n",
       "99             ARNOLD                 L           SMITH   \n",
       "825            ARTHUR                 P      RICHARDSON   \n",
       "95             ASHLEY           THOMSON           HAASE   \n",
       "4087          BERNARD                 S            ARON   \n",
       "4056        CATHERINE                 E        CLEMENTS   \n",
       "2579          CHARLES            MILLER          BAGLEY   \n",
       "3934             DEAN                 T           MASON   \n",
       "1649           ELBERT           CARMACK          HOLMES   \n",
       "154          FREDERIC          FREDERIC       MUSHINSKI   \n",
       "1906        FREDERICK                 A            GILL   \n",
       "3830        FREDERICK            ALBERT         METTLER   \n",
       "2285        FREDERICK                 C             CHU   \n",
       "2014        FREDERICK                 D       FINKELMAN   \n",
       "3827        FREDERICK             DAVID          LUBLIN   \n",
       "3826        FREDERICK            EDWARD           KARCH   \n",
       "3825        FREDERICK            HARVEY        HOCHBERG   \n",
       "904         FREDERICK             IRWIN          POLSKY   \n",
       "695         FREDERICK               JAY       SCHIFFMAN   \n",
       "3820        FREDERICK            LOWELL            RASP   \n",
       "779         FREDERICK                 M      ROSENBLOOM   \n",
       "238         FREDERICK                 S          WRIGHT   \n",
       "1546        FREDERICK            STUART          KANTOR   \n",
       "1939        FREDERICK               NaN       GARFINKEL   \n",
       "1684         GEOFFREY             PETER          HERZIG   \n",
       "2264           GEORGE                 L           COHEN   \n",
       "120            GEORGE            ROBERT          DELONG   \n",
       "948           GEORGES               NaN           PETER   \n",
       "1259           GERALD          LAWRENCE         MACKLER   \n",
       "2565                H             DAVID           BANTA   \n",
       "...               ...               ...             ...   \n",
       "164          MARSHALL          LAWRENCE          REINER   \n",
       "524              NEAL                 H      STEIGBIGEL   \n",
       "3217           NORMAN                 A        CUMMINGS   \n",
       "1476             PAUL               DON           KLITE   \n",
       "920           PHILLIP                 A           PIZZO   \n",
       "955           PHILLIP           O KEEFE         PERIMAN   \n",
       "1250          PHILLIP                 W         MAJERUS   \n",
       "1963          PHILLIP               NaN           FROST   \n",
       "724           RICHARD                 J          SAMAHA   \n",
       "1819          RICHARD               NaN           GREEN   \n",
       "1945           ROBERT                 C           GALLO   \n",
       "1371           ROBERT            JOSEPH       LEFKOWITZ   \n",
       "2995             ROBT             ALLAN           RIZZA   \n",
       "2985           RONALD              BART          LEPOFF   \n",
       "2223           RONALD           MICHAEL         COSTELL   \n",
       "1843       SPENCER JR               NaN          GORDON   \n",
       "1066          STANLEY                 G       NATHENSON   \n",
       "175           STANLEY           STANLEY         SHERWIN   \n",
       "1785          STEPHEN                 J      GUGGENHEIM   \n",
       "268           STEPHEN                 J         WINTERS   \n",
       "2091                T             DAVID           ELDER   \n",
       "2874              T M           SIMMONS       PATTERSON   \n",
       "2849           THOMAS            JOSEPH          LAWLEY   \n",
       "2463           THOMAS       JOSEPH JOHN          BLANCK   \n",
       "2830                W            STEVES            RING   \n",
       "2426          WILLIAM                 D          BRADEN   \n",
       "2462          WILLIAM         FREDERICK           BLANK   \n",
       "2010          WILLIAM               GUY          FISCUS   \n",
       "4             WILLIAM            HOWARD        WILLIAMS   \n",
       "2387          WILLIAM            VIRGIL           BROWN   \n",
       "\n",
       "                              first_name  middle_name        last_name  \\\n",
       "2644                            Adelbert       Leland    Albright, Jr.   \n",
       "99                                 Allan           L.            Smith   \n",
       "825                              Arthur            P.  Richardson, Jr.   \n",
       "95                               Ashley       Thomson            Haase   \n",
       "4087                                 Ber          NaN             Aron   \n",
       "4056                              Janice           E.         Clements   \n",
       "2579                            Charles        Miller      Bagley, Jr.   \n",
       "3934                               Dean            T.            Mason   \n",
       "1649                                   E      Carmack           Holmes   \n",
       "154                                  Jos     Frederic        Mushinski   \n",
       "1906                                Fred           A.             Gill   \n",
       "3830                               Fred        Albert     Mettler, Jr.   \n",
       "2285                                Fred           C.              Chu   \n",
       "2014                                Fred           D.        Finkelman   \n",
       "3827                                Fred        David           Lublin   \n",
       "3826                                Fred       Edward            Karch   \n",
       "3825                                Fred       Harvey         Hochberg   \n",
       "904                                 Fred        Irwin           Polsky   \n",
       "695                                 Fred          Jay        Schiffman   \n",
       "3820                                Fred       Lowell            Rasp.   \n",
       "779                             Fredrick           M.       Rosenbloom   \n",
       "238                                 Fred            S           Wright   \n",
       "1546                                Fred           S.           Kantor   \n",
       "1939                                Fred          NaN        Garfinkel   \n",
       "1684                              Herzig     Geoffrey           Herzig   \n",
       "2264                             George            L.            Cohen   \n",
       "120                                    G       Robert           Delong   \n",
       "948                               George          NaN            Peter   \n",
       "1259                             Gerald      Lawrence          Mackler   \n",
       "2565                                 AOA        David            Banta   \n",
       "...                                  ...          ...              ...   \n",
       "164                             Lawrence     Lawrence      Reiner, Jr.   \n",
       "524                                Neal            H.       Steigbigel   \n",
       "3217                            Norman A           A.         Cummings   \n",
       "1476                               Paul           Don            Klite   \n",
       "920                               Philip           A.            Pizzo   \n",
       "955                               Philip      O'Keefe          Periman   \n",
       "1250                              Philip           W.          Majerus   \n",
       "1963                              Philip          NaN            Frost   \n",
       "724                             Richard            J.       Samaha Jr.   \n",
       "1819                             Rechard          NaN            Green   \n",
       "1945  Jefferson Student Research Society           C.            Gallo   \n",
       "1371                             Robert        Joseph        Lefkowitz   \n",
       "2995                               Robt.        Allan            Rizza   \n",
       "2985                             Ronald          Bart           Lepoff   \n",
       "2223                             Ronald       Michael          Costell   \n",
       "1843                             Spencer          NaN      Gordon, Jr.   \n",
       "1066                             Stnaley           G.        Nathenson   \n",
       "175                               Robert      Stanley          Sherwin   \n",
       "1785                            Stephen            J.       Guggenheim   \n",
       "268                                    S            J          Winters   \n",
       "2091                                  T.        David            Elder   \n",
       "2874                                T.M.      Simmons        Patterson   \n",
       "2849                        Pfizer Award       Joseph           Lawley   \n",
       "2463                             Thomas   Joseph John           Blanck   \n",
       "2830                                   1       Steves        Ring, Jr.   \n",
       "2426                            William           NaN       Braden III   \n",
       "2462                            William     Frederick       Blank, Jr.   \n",
       "2010                            William           Guy           Fiscus   \n",
       "4                                 Willis       Howard         Williams   \n",
       "2387                              Virgil       Virgil            Brown   \n",
       "\n",
       "                                             med_school  \\\n",
       "2644      Louisiana State University School of Medicine   \n",
       "99                                                  NaN   \n",
       "825                               University of Florida   \n",
       "95                                                  NaN   \n",
       "4087                                                NaN   \n",
       "4056                                                NaN   \n",
       "2579                             Harvard Medical School   \n",
       "3934                                                NaN   \n",
       "1649                       University of North Carolina   \n",
       "154                              Harvard Medical School   \n",
       "1906             Northwestern University Medical School   \n",
       "3830                                                NaN   \n",
       "2285                                 Cornell University   \n",
       "2014                 Yale University School of Medicine   \n",
       "3827                                                NaN   \n",
       "3826                                                NaN   \n",
       "3825                                                NaN   \n",
       "904                    University of Texas Southwestern   \n",
       "695              New York University School of Medicine   \n",
       "3820                                                NaN   \n",
       "779                        Johns Hopkins Medical School   \n",
       "238                                                 NaN   \n",
       "1546                                                NaN   \n",
       "1939                       Mt. Sinai School of Medicine   \n",
       "1684      Western Reserve University School of Medicine   \n",
       "2264                                New York University   \n",
       "120                                             Harvard   \n",
       "948                                             Harvard   \n",
       "1259                                Columbia University   \n",
       "2565                 Duke University School of Medicine   \n",
       "...                                                 ...   \n",
       "164               Baylor University College of Medicine   \n",
       "524                              Harvard Medical School   \n",
       "3217                                                NaN   \n",
       "1476                 Duke University School of Medicine   \n",
       "920                                                 NaN   \n",
       "955            Washington University School of Medicine   \n",
       "1250                              Washington University   \n",
       "1963                Albert Einstein College of Medicine   \n",
       "724                Boston University School of Medicine   \n",
       "1819                                       John Hopkins   \n",
       "1945                          Jefferson Medical College   \n",
       "1371    Columbia University College of Phys. & Surgeons   \n",
       "2995                                                NaN   \n",
       "2985                                                NaN   \n",
       "2223                                Stanford University   \n",
       "1843                                            Harvard   \n",
       "1066  Washington University School of Medicine, St. ...   \n",
       "175                 Albert Einstein College of Medicine   \n",
       "1785                                    Harvard Medical   \n",
       "268                                                 NaN   \n",
       "2091                                               Duke   \n",
       "2874                                                NaN   \n",
       "2849                                                NaN   \n",
       "2463             University of Penn. School of Medicine   \n",
       "2830                                                NaN   \n",
       "2426                                            Harvard   \n",
       "2462                              Washington University   \n",
       "2010                                             Baylor   \n",
       "4                                                   NaN   \n",
       "2387                                    Yale University   \n",
       "\n",
       "                                original_medical_school NIH_first_name  \\\n",
       "2644  Louisiana State University School of Medicine ...         ALBERT   \n",
       "99        University of Pennsylvania School of Medicine            NaN   \n",
       "825           University of Florida College of Medicine         ARTHUR   \n",
       "95    Columbia University College of Physicians and ...            NaN   \n",
       "4087             New York University School of Medicine            NaN   \n",
       "4056          University of Maryland School of Medicine            NaN   \n",
       "2579                             Harvard Medical School        CHARLES   \n",
       "3934                 Duke University School of Medicine            NaN   \n",
       "1649  University of North Carolina at Chapel Hill Sc...         ELBERT   \n",
       "154                              Harvard Medical School       FREDERIC   \n",
       "1906             Northwestern University Medical School      FREDERICK   \n",
       "3830  Jefferson Medical College of Thomas Jefferson ...            NaN   \n",
       "2285  Joan & Sanford I. Weill Medical College Cornel...      FREDERICK   \n",
       "2014                 Yale University School of Medicine      FREDERICK   \n",
       "3827  Jefferson Medical College of Thomas Jefferson ...            NaN   \n",
       "3826  University of Rochester School of Medicine and...            NaN   \n",
       "3825  Case Western Reserve University School of Medi...            NaN   \n",
       "904   University of Texas Southwestern Medical Cente...      FREDERICK   \n",
       "695              New York University School of Medicine      FREDERICK   \n",
       "3820              Indiana University School of Medicine            NaN   \n",
       "779         Johns Hopkins University School of Medicine      FREDERICK   \n",
       "238                                                 NaN      FREDERICK   \n",
       "1546                                                NaN      FREDERICK   \n",
       "1939  Mount Sinai School of Medicine of New York Uni...      FREDERICK   \n",
       "1684  Case Western Reserve University School of Medi...       GEOFFREY   \n",
       "2264             New York University School of Medicine         GEORGE   \n",
       "120                              Harvard Medical School         ROBERT   \n",
       "948                              Harvard Medical School        GEORGES   \n",
       "1259  Columbia University College of Physicians and ...         GERALD   \n",
       "2565                 Duke University School of Medicine              H   \n",
       "...                                                 ...            ...   \n",
       "164                          Baylor College of Medicine       LAWRENCE   \n",
       "524                              Harvard Medical School           NEAL   \n",
       "3217  SUNY Buffalo School of Medicine & Biomedical S...            NaN   \n",
       "1476                 Duke University School of Medicine           PAUL   \n",
       "920                                                 NaN        PHILLIP   \n",
       "955            Washington University School of Medicine        PHILLIP   \n",
       "1250           Washington University School of Medicine        PHILLIP   \n",
       "1963  Albert Einstein College of Medicine of Yeshiva...        PHILLIP   \n",
       "724                Boston University School of Medicine        RICHARD   \n",
       "1819        Johns Hopkins University School of Medicine        RICHARD   \n",
       "1945  Jefferson Medical College of Thomas Jefferson ...         ROBERT   \n",
       "1371  Columbia University College of Physicians and ...         ROBERT   \n",
       "2995          University of Florida College of Medicine            NaN   \n",
       "2985  University of Rochester School of Medicine and...            NaN   \n",
       "2223             Stanford University School of Medicine         RONALD   \n",
       "1843                             Harvard Medical School     SPENCER JR   \n",
       "1066           Washington University School of Medicine        STANLEY   \n",
       "175   Albert Einstein College of Medicine of Yeshiva...        STANLEY   \n",
       "1785                             Harvard Medical School        STEPHEN   \n",
       "268                                                 NaN        STEPHEN   \n",
       "2091                 Duke University School of Medicine              T   \n",
       "2874      University of Pennsylvania School of Medicine            NaN   \n",
       "2849  SUNY Buffalo School of Medicine & Biomedical S...            NaN   \n",
       "2463      University of Pennsylvania School of Medicine         THOMAS   \n",
       "2830                             Harvard Medical School            NaN   \n",
       "2426                             Harvard Medical School        WILLIAM   \n",
       "2462           Washington University School of Medicine        WILLIAM   \n",
       "2010                         Baylor College of Medicine        WILLIAM   \n",
       "4     University of North Carolina at Chapel Hill Sc...            NaN   \n",
       "2387                 Yale University School of Medicine              W   \n",
       "\n",
       "     NIH_middle_name NIH_last_name  \n",
       "2644          LELAND      ALBRIGHT  \n",
       "99               NaN           NaN  \n",
       "825                P    RICHARDSON  \n",
       "95               NaN           NaN  \n",
       "4087             NaN           NaN  \n",
       "4056             NaN           NaN  \n",
       "2579          MILLER        BAGLEY  \n",
       "3934             NaN           NaN  \n",
       "1649         CARMACK        HOLMES  \n",
       "154           COSTEP     MUSHINSKI  \n",
       "1906               A          GILL  \n",
       "3830             NaN           NaN  \n",
       "2285               C           CHU  \n",
       "2014               D     FINKELMAN  \n",
       "3827             NaN           NaN  \n",
       "3826             NaN           NaN  \n",
       "3825             NaN           NaN  \n",
       "904            INWIN        POLSKY  \n",
       "695              JAY     SCHIFFMAN  \n",
       "3820             NaN           NaN  \n",
       "779              NaN    ROSENBLOOM  \n",
       "238                S        WRIGHT  \n",
       "1546               S        KANTOR  \n",
       "1939             NaN     GARFINKEL  \n",
       "1684               P        HERZIG  \n",
       "2264               L         COHEN  \n",
       "120                G        DELONG  \n",
       "948              NaN         PETER  \n",
       "1259        LAWRENCE       MACKLER  \n",
       "2565           DAVID         BANTA  \n",
       "...              ...           ...  \n",
       "164              NaN        REINER  \n",
       "524                H    STEIGBIGEL  \n",
       "3217             NaN           NaN  \n",
       "1476             DON         KLITE  \n",
       "920                A         PIZZO  \n",
       "955          O KEEFE       PERIMAN  \n",
       "1250               W       MAJERUS  \n",
       "1963             NaN         FROST  \n",
       "724                J        SAMAHA  \n",
       "1819             NaN         GREEN  \n",
       "1945               C         GALLO  \n",
       "1371          JOSEPH     LEFKOWITZ  \n",
       "2995             NaN           NaN  \n",
       "2985             NaN           NaN  \n",
       "2223         MICHAEL       COSTELL  \n",
       "1843             NaN        GORDON  \n",
       "1066               G     NATHENSON  \n",
       "175          SHERWIN       SHERWIN  \n",
       "1785               J    GUGGENHEIM  \n",
       "268                J       WINTERS  \n",
       "2091           DAVID         ELDER  \n",
       "2874             NaN           NaN  \n",
       "2849             NaN           NaN  \n",
       "2463     JOSEPH JOHN        BLANCK  \n",
       "2830             NaN           NaN  \n",
       "2426               D        BRADEN  \n",
       "2462       FREDERICK         BLANK  \n",
       "2010             GUY        FISCUS  \n",
       "4                NaN           NaN  \n",
       "2387          VIRGIL         BROWN  \n",
       "\n",
       "[105 rows x 11 columns]"
      ]
     },
     "execution_count": 87,
     "metadata": {},
     "output_type": "execute_result"
    },
    {
     "name": "stdout",
     "output_type": "stream",
     "text": [
      "time: 109 ms\n"
     ]
    }
   ],
   "source": [
    "# need to check we haven't created amy frankenstein matches\n",
    "# ie. people who shouldn't really match together\n",
    "# get a\n",
    "match9.loc[(~pd.isnull(match9.first_name) & (\n",
    "    match9.clean_first_name!=match9.first_name.str.upper())), NAME_COLS+['first_name', 'middle_name', 'last_name', 'med_school', 'original_medical_school',\n",
    "                                                                        'NIH_first_name', 'NIH_middle_name', 'NIH_last_name']]"
   ]
  },
  {
   "cell_type": "code",
   "execution_count": 88,
   "metadata": {
    "collapsed": false
   },
   "outputs": [
    {
     "name": "stderr",
     "output_type": "stream",
     "text": [
      "/home/lraymond/MIT/Azoulay_2016/yellow_berets/yb/local/lib/python2.7/site-packages/numpy/lib/function_base.py:3834: RuntimeWarning: Invalid value encountered in percentile\n",
      "  RuntimeWarning)\n"
     ]
    },
    {
     "data": {
      "text/plain": [
       "count    4113.000000\n",
       "mean        0.008753\n",
       "std         0.093157\n",
       "min         0.000000\n",
       "25%              NaN\n",
       "50%              NaN\n",
       "75%              NaN\n",
       "max         1.000000\n",
       "Name: is_female, dtype: float64"
      ]
     },
     "execution_count": 88,
     "metadata": {},
     "output_type": "execute_result"
    },
    {
     "name": "stdout",
     "output_type": "stream",
     "text": [
      "time: 45 ms\n"
     ]
    }
   ],
   "source": [
    "match9.is_female.describe()"
   ]
  },
  {
   "cell_type": "code",
   "execution_count": 89,
   "metadata": {
    "collapsed": false,
    "scrolled": true
   },
   "outputs": [
    {
     "name": "stdout",
     "output_type": "stream",
     "text": [
      "time: 2.97 s\n"
     ]
    }
   ],
   "source": [
    "# add an international applicant flag\n",
    "# also drop anyone missing first, middle names and med school\n",
    "match9['is_foreign'] = 0\n",
    "match9.loc[:, 'is_foreign'] = match9.medical_school.apply(is_foreign_med_school)"
   ]
  },
  {
   "cell_type": "code",
   "execution_count": 90,
   "metadata": {
    "collapsed": false
   },
   "outputs": [
    {
     "data": {
      "text/plain": [
       "count    4115.000000\n",
       "mean        0.017983\n",
       "std         0.132906\n",
       "min         0.000000\n",
       "25%         0.000000\n",
       "50%         0.000000\n",
       "75%         0.000000\n",
       "max         1.000000\n",
       "Name: is_foreign, dtype: float64"
      ]
     },
     "execution_count": 90,
     "metadata": {},
     "output_type": "execute_result"
    },
    {
     "name": "stdout",
     "output_type": "stream",
     "text": [
      "time: 17 ms\n"
     ]
    }
   ],
   "source": [
    "match9.is_foreign.describe()"
   ]
  },
  {
   "cell_type": "code",
   "execution_count": 91,
   "metadata": {
    "collapsed": false,
    "scrolled": false
   },
   "outputs": [
    {
     "name": "stdout",
     "output_type": "stream",
     "text": [
      "time: 19.6 ms\n"
     ]
    }
   ],
   "source": [
    "match9['control_flag'] = 0\n",
    "match9.loc[pd.isnull(match9.dno) & pd.isnull(match9.year_accepted), 'control_flag'] = 1"
   ]
  },
  {
   "cell_type": "code",
   "execution_count": 92,
   "metadata": {
    "collapsed": false
   },
   "outputs": [
    {
     "name": "stdout",
     "output_type": "stream",
     "text": [
      "time: 14.3 ms\n"
     ]
    }
   ],
   "source": [
    "match9.loc[pd.isnull(match9.application_year), 'application_year'] = match9.loc[\n",
    "    pd.isnull(match9.application_year), 'application_year_1']"
   ]
  },
  {
   "cell_type": "code",
   "execution_count": 93,
   "metadata": {
    "collapsed": false
   },
   "outputs": [
    {
     "name": "stdout",
     "output_type": "stream",
     "text": [
      "time: 1.59 s\n"
     ]
    }
   ],
   "source": [
    "def total_number_applications(app_years):\n",
    "    unique_apps_years = app_years.dropna().unique()\n",
    "    return unique_apps_years.shape[0]\n",
    "\n",
    "match9['number_applications'] = match9[\n",
    "    ['application_year', 'application_year_1', 'application_year_2', 'application_year_3']].apply(\n",
    "        total_number_applications, axis=1)"
   ]
  },
  {
   "cell_type": "code",
   "execution_count": 94,
   "metadata": {
    "collapsed": false
   },
   "outputs": [
    {
     "name": "stdout",
     "output_type": "stream",
     "text": [
      "time: 12.5 ms\n"
     ]
    }
   ],
   "source": [
    "def applications_max_min(app_years, fnc):\n",
    "    unique_apps_years = app_years.dropna().unique()\n",
    "    if unique_apps_years.shape[0] == 0:\n",
    "        print app_years\n",
    "        return np.nan\n",
    "    return fnc(unique_apps_years)"
   ]
  },
  {
   "cell_type": "code",
   "execution_count": 95,
   "metadata": {
    "collapsed": false
   },
   "outputs": [
    {
     "name": "stdout",
     "output_type": "stream",
     "text": [
      "time: 1.6 s\n"
     ]
    }
   ],
   "source": [
    "match9['application_year_max'] = match9[\n",
    "    ['application_year', 'application_year_1', 'application_year_2', 'application_year_3']].apply(\n",
    "        funcy.rpartial(applications_max_min, max), axis=1)\n"
   ]
  },
  {
   "cell_type": "code",
   "execution_count": 96,
   "metadata": {
    "collapsed": false
   },
   "outputs": [
    {
     "name": "stdout",
     "output_type": "stream",
     "text": [
      "time: 1.6 s\n"
     ]
    }
   ],
   "source": [
    "match9['application_year_min'] = match9[\n",
    "    ['application_year', 'application_year_1', 'application_year_2', 'application_year_3']].apply(\n",
    "        funcy.rpartial(applications_max_min, min), axis=1)\n"
   ]
  },
  {
   "cell_type": "code",
   "execution_count": 97,
   "metadata": {
    "collapsed": false
   },
   "outputs": [
    {
     "name": "stdout",
     "output_type": "stream",
     "text": [
      "time: 20.7 ms\n"
     ]
    }
   ],
   "source": [
    "match9['time_period_flag'] = 0\n",
    "match9.loc[(match9.application_year_max>1964) & (match9.application_year_max<1976), 'time_period_flag'] = 1"
   ]
  },
  {
   "cell_type": "code",
   "execution_count": 98,
   "metadata": {
    "collapsed": false
   },
   "outputs": [
    {
     "name": "stdout",
     "output_type": "stream",
     "text": [
      "time: 49.1 ms\n"
     ]
    }
   ],
   "source": [
    "# match9A.loc[(match9A.clean_last_name=='MCCHURE') & (pd.isnull(match9A.clean_first_name))]]\n",
    "match9.loc[match9.clean_last_name=='MCCLURE MCCHURE', 'clean_last_name'] = 'MCCLURE'\n",
    "match9.loc[match9.clean_last_name=='PERPICH', 'application_year'] = 1967\n",
    "match9.loc[match9.clean_last_name=='PERPICH', 'application_year_min'] = 1967\n",
    "match9.loc[match9.clean_last_name=='PERPICH', 'application_year_max'] = 1967\n",
    "mathch9 = match9[match9.clean_last_name!='BRADEN R']\n",
    "match9_1 = match9[~((match9.clean_last_name=='BULKEY') & (match9.clean_first_name=='GREGORY'))]\n",
    "match9_2 = match9_1[~((match9_1.clean_last_name=='KNOWLER') & (match9_1.clean_first_name=='JAN'))]\n",
    "match9_3 = match9_2[~((match9_2.clean_last_name=='COLLIN') & (match9_2.clean_first_name=='ROBERT'))]\n",
    "match9_4 = match9_3[~((match9_3.clean_last_name=='BULLARD') & (match9_3.clean_first_name=='BRIAN'))]\n",
    "# CHESEBRE, COLDBERG, Robert Collin, DIEZMAN, GLASSROBTH, HUGH HAYWOOD, Bart Kentover, jan knowler, robert jeffery kramer\n",
    "# SAIRAI, william sullivan"
   ]
  },
  {
   "cell_type": "code",
   "execution_count": 99,
   "metadata": {
    "collapsed": false
   },
   "outputs": [
    {
     "name": "stdout",
     "output_type": "stream",
     "text": [
      "time: 79.4 ms\n"
     ]
    },
    {
     "name": "stderr",
     "output_type": "stream",
     "text": [
      "/home/lraymond/MIT/Azoulay_2016/yellow_berets/yb/local/lib/python2.7/site-packages/pandas/core/indexing.py:465: SettingWithCopyWarning: \n",
      "A value is trying to be set on a copy of a slice from a DataFrame.\n",
      "Try using .loc[row_indexer,col_indexer] = value instead\n",
      "\n",
      "See the caveats in the documentation: http://pandas.pydata.org/pandas-docs/stable/indexing.html#indexing-view-versus-copy\n",
      "  self.obj[item] = s\n"
     ]
    }
   ],
   "source": [
    "# fix some \n",
    "match9_4.loc[(\n",
    "        match9_4.clean_first_name=='WILLIAM') & (match9_4.clean_middle_name=='WILLIAM') & \n",
    "             (match9_4.clean_last_name=='SULLIVAN'), 'clean_middle_name'] = np.nan\n",
    "\n",
    "match9_4.loc[match9_4.clean_middle_name=='JEFFERY', 'clean_middle_name'] = 'JEFFREY'\n",
    "match9_4.loc[match9_4.clean_last_name=='GLASSROBTH', 'clean_last_name'] = 'GLASSROTH'"
   ]
  },
  {
   "cell_type": "code",
   "execution_count": 100,
   "metadata": {
    "collapsed": false
   },
   "outputs": [
    {
     "name": "stdout",
     "output_type": "stream",
     "text": [
      "time: 370 ms\n"
     ]
    }
   ],
   "source": [
    "# name corrections\n",
    "match9_4.loc[((match9_4.clean_first_name=='ALBERT') & (match9_4.first_name=='Adelbert')), 'clean_first_name'] = 'ADELBERT'\n",
    "match9_4.loc[((match9_4.clean_first_name=='BENJAMIN') & (match9_4.clean_last_name=='CAHAN')), 'clean_first_name'] = 'LESLIE'\n",
    "match9_4.loc[((match9_4.clean_first_name=='GEORGES')), 'clean_first_name'] = 'GEORGE'\n",
    "match9_4.loc[((match9_4.clean_first_name=='JACKS')), 'clean_first_name'] = 'JACK'\n",
    "match9_4.loc[((match9_4.clean_first_name=='HAVERY')), 'clean_first_name'] = 'HARVEY'\n",
    "match9_4.loc[((match9_4.clean_first_name=='LAWRENCE') & (match9_4.first_name=='Laurence')), 'clean_first_name'] = 'LAURENCE'\n",
    "match9_4.loc[((match9_4.clean_first_name=='PHILLIP') & (match9_4.first_name=='Philip')), 'clean_first_name'] = 'PHILIP'\n",
    "match9_4.loc[((match9_4.clean_first_name=='FREDERIC') & (match9_4.clean_last_name=='MUSHINSKI')), 'clean_middle_name'] = 'COSTEP'\n",
    "# name corrections\n",
    "match9_4.loc[((match9_4.clean_first_name=='ALBERT') & (match9_4.first_name=='Adelbert')), 'clean_first_name'] = 'ADELBERT'\n",
    "match9_4.loc[((match9_4.clean_first_name=='BENJAMIN') & (match9_4.clean_last_name=='CAHAN')), 'clean_first_name'] = 'LESLIE'\n",
    "match9_4.loc[((match9_4.clean_first_name=='GEORGES')), 'clean_first_name'] = 'GEORGE'\n",
    "match9_4.loc[((match9_4.clean_first_name=='JACKS')), 'clean_first_name'] = 'JACK'\n",
    "match9_4.loc[((match9_4.clean_first_name=='HAVERY')), 'clean_first_name'] = 'HARVEY'\n",
    "match9_4.loc[((match9_4.clean_first_name=='LAWRENCE') & (match9_4.first_name=='Laurence')), 'clean_first_name'] = 'LAURENCE'\n",
    "match9_4.loc[((match9_4.clean_first_name=='PHILLIP') & (match9_4.first_name=='Philip')), 'clean_first_name'] = 'PHILIP'\n",
    "match9_4.loc[((match9_4.clean_first_name=='FREDERIC') & (match9_4.clean_last_name=='MUSHINSKI')), 'clean_middle_name'] = 'COSTEP'\n",
    "match9_4.loc[((match9_4.clean_first_name=='STANLEY') & (match9_4.clean_last_name=='SHERWIN')), 'clean_first_name'] = 'ROBERT'\n"
   ]
  },
  {
   "cell_type": "code",
   "execution_count": 101,
   "metadata": {
    "collapsed": false
   },
   "outputs": [
    {
     "data": {
      "text/html": [
       "<div>\n",
       "<table border=\"1\" class=\"dataframe\">\n",
       "  <thead>\n",
       "    <tr style=\"text-align: right;\">\n",
       "      <th></th>\n",
       "      <th>clean_first_name</th>\n",
       "      <th>clean_middle_name</th>\n",
       "      <th>clean_last_name</th>\n",
       "      <th>medical_school</th>\n",
       "    </tr>\n",
       "  </thead>\n",
       "  <tbody>\n",
       "    <tr>\n",
       "      <th>2426</th>\n",
       "      <td>WILLIAM</td>\n",
       "      <td>D</td>\n",
       "      <td>BRADEN</td>\n",
       "      <td>HARVARD MEDICAL SCHOOL</td>\n",
       "    </tr>\n",
       "    <tr>\n",
       "      <th>2370</th>\n",
       "      <td>BERNADINE</td>\n",
       "      <td>HEALY</td>\n",
       "      <td>BULKLEY</td>\n",
       "      <td>HARVARD MEDICAL SCHOOL</td>\n",
       "    </tr>\n",
       "    <tr>\n",
       "      <th>2369</th>\n",
       "      <td>GREGORY</td>\n",
       "      <td>BARTLETT</td>\n",
       "      <td>BULKLEY</td>\n",
       "      <td>HARVARD MEDICAL SCHOOL</td>\n",
       "    </tr>\n",
       "    <tr>\n",
       "      <th>117</th>\n",
       "      <td>JAMES</td>\n",
       "      <td>E</td>\n",
       "      <td>COLDBERG</td>\n",
       "      <td>HARVARD MEDICAL SCHOOL</td>\n",
       "    </tr>\n",
       "    <tr>\n",
       "      <th>2247</th>\n",
       "      <td>ROBERT</td>\n",
       "      <td>CHAPLIN</td>\n",
       "      <td>COLLINS</td>\n",
       "      <td>JOAN &amp; SANFORD I. WEILL MEDICAL COLLEGE CORNEL...</td>\n",
       "    </tr>\n",
       "    <tr>\n",
       "      <th>2246</th>\n",
       "      <td>STEVEN</td>\n",
       "      <td>HAMES</td>\n",
       "      <td>COLLINS</td>\n",
       "      <td>COLUMBIA UNIVERSITY COLLEGE OF PHYSICIANS AND ...</td>\n",
       "    </tr>\n",
       "    <tr>\n",
       "      <th>121</th>\n",
       "      <td>DALE</td>\n",
       "      <td>E</td>\n",
       "      <td>DIETZMAN</td>\n",
       "      <td>UNIVERSITY OF VERMONT COLLEGE OF MEDICINE</td>\n",
       "    </tr>\n",
       "    <tr>\n",
       "      <th>3618</th>\n",
       "      <td>JEFFREY</td>\n",
       "      <td>LEONARD</td>\n",
       "      <td>GLASSROTH</td>\n",
       "      <td>UNIVERSITY OF CINCINNATI COLLEGE OF MEDICINE</td>\n",
       "    </tr>\n",
       "    <tr>\n",
       "      <th>1718</th>\n",
       "      <td>HUGH</td>\n",
       "      <td>R</td>\n",
       "      <td>HAYWARD</td>\n",
       "      <td>UNIVERSITY OF ROCHESTER SCHOOL OF MEDICINE</td>\n",
       "    </tr>\n",
       "    <tr>\n",
       "      <th>4096</th>\n",
       "      <td>BART</td>\n",
       "      <td>PETER</td>\n",
       "      <td>KENTOVER</td>\n",
       "      <td>JOAN SANFORD I WEILL MEDICAL COLLEGE CORNELL U...</td>\n",
       "    </tr>\n",
       "    <tr>\n",
       "      <th>1470</th>\n",
       "      <td>WILLIAM</td>\n",
       "      <td>CLAYTON</td>\n",
       "      <td>KNOWLER</td>\n",
       "      <td>HARVARD MEDICAL SCHOOL</td>\n",
       "    </tr>\n",
       "    <tr>\n",
       "      <th>140</th>\n",
       "      <td>JAN</td>\n",
       "      <td>O</td>\n",
       "      <td>KOEHLER</td>\n",
       "      <td>PENNSYLVANIA STATE UNIVERSITY COLLEGE OF MEDICINE</td>\n",
       "    </tr>\n",
       "    <tr>\n",
       "      <th>1446</th>\n",
       "      <td>RICHARD</td>\n",
       "      <td>NaN</td>\n",
       "      <td>KRAMER</td>\n",
       "      <td>DUKE MEDICAL SCHOOL</td>\n",
       "    </tr>\n",
       "    <tr>\n",
       "      <th>1447</th>\n",
       "      <td>KARL</td>\n",
       "      <td>JULES</td>\n",
       "      <td>KRAMER</td>\n",
       "      <td>JOHNS HOPKINS UNIVERSITY SCHOOL OF MEDICINE</td>\n",
       "    </tr>\n",
       "    <tr>\n",
       "      <th>19</th>\n",
       "      <td>ROBERT</td>\n",
       "      <td>JEFFREY</td>\n",
       "      <td>KRAMER</td>\n",
       "      <td>HARVARD MEDICAL SCHOOL</td>\n",
       "    </tr>\n",
       "    <tr>\n",
       "      <th>3053</th>\n",
       "      <td>ROBERT</td>\n",
       "      <td>DAVID</td>\n",
       "      <td>KRAMER</td>\n",
       "      <td>UNIVERSITY OF WISCONSIN MEDICAL SCHOOL</td>\n",
       "    </tr>\n",
       "    <tr>\n",
       "      <th>1448</th>\n",
       "      <td>BARNETT</td>\n",
       "      <td>SHELDON</td>\n",
       "      <td>KRAMER</td>\n",
       "      <td>UNIVERSITY OF MARYLAND SCHOOL OF MEDICINE</td>\n",
       "    </tr>\n",
       "    <tr>\n",
       "      <th>3976</th>\n",
       "      <td>DAVID</td>\n",
       "      <td>CAMERON</td>\n",
       "      <td>MCCLURE</td>\n",
       "      <td>WEST VIRGINIA UNIVERSITY SCHOOL OF MEDICINE</td>\n",
       "    </tr>\n",
       "    <tr>\n",
       "      <th>952</th>\n",
       "      <td>JOSEPH</td>\n",
       "      <td>GEORGE</td>\n",
       "      <td>PERPICH</td>\n",
       "      <td>UNIVERSITY OF MINNESOTA MEDICAL SCHOOL DULUTH</td>\n",
       "    </tr>\n",
       "    <tr>\n",
       "      <th>715</th>\n",
       "      <td>REIN</td>\n",
       "      <td>NaN</td>\n",
       "      <td>SARAL</td>\n",
       "      <td>JOHNS HOPKINS UNIVERSITY SCHOOL OF MEDICINE</td>\n",
       "    </tr>\n",
       "    <tr>\n",
       "      <th>484</th>\n",
       "      <td>ALBERT</td>\n",
       "      <td>LEO</td>\n",
       "      <td>SULLIVAN</td>\n",
       "      <td>SUNY BUFFALO SCHOOL OF MEDICINE &amp; BIOMEDICAL S...</td>\n",
       "    </tr>\n",
       "    <tr>\n",
       "      <th>63</th>\n",
       "      <td>JOHN</td>\n",
       "      <td>LEWIS</td>\n",
       "      <td>SULLIVAN</td>\n",
       "      <td>SUNY UPSTATE MEDICAL UNIVERSITY AT SYRACUSE</td>\n",
       "    </tr>\n",
       "    <tr>\n",
       "      <th>483</th>\n",
       "      <td>JAMES</td>\n",
       "      <td>N</td>\n",
       "      <td>SULLIVAN</td>\n",
       "      <td>VANDERBILT UNIVERSITY SCHOOL OF MEDICINE</td>\n",
       "    </tr>\n",
       "    <tr>\n",
       "      <th>3159</th>\n",
       "      <td>PETER</td>\n",
       "      <td>WILLIAM</td>\n",
       "      <td>SULLIVAN</td>\n",
       "      <td>UCSF SCHOOL OF MEDICINE</td>\n",
       "    </tr>\n",
       "    <tr>\n",
       "      <th>0</th>\n",
       "      <td>WILLIAM</td>\n",
       "      <td>ROSS</td>\n",
       "      <td>SULLIVAN</td>\n",
       "      <td>UNIVERSITY OF PENNSYLVANIA SCHOOL OF MEDICINE</td>\n",
       "    </tr>\n",
       "  </tbody>\n",
       "</table>\n",
       "</div>"
      ],
      "text/plain": [
       "     clean_first_name clean_middle_name clean_last_name  \\\n",
       "2426          WILLIAM                 D          BRADEN   \n",
       "2370        BERNADINE             HEALY         BULKLEY   \n",
       "2369          GREGORY          BARTLETT         BULKLEY   \n",
       "117             JAMES                 E        COLDBERG   \n",
       "2247           ROBERT           CHAPLIN         COLLINS   \n",
       "2246           STEVEN             HAMES         COLLINS   \n",
       "121              DALE                 E        DIETZMAN   \n",
       "3618          JEFFREY           LEONARD       GLASSROTH   \n",
       "1718             HUGH                 R         HAYWARD   \n",
       "4096             BART             PETER        KENTOVER   \n",
       "1470          WILLIAM           CLAYTON         KNOWLER   \n",
       "140               JAN                 O         KOEHLER   \n",
       "1446          RICHARD               NaN          KRAMER   \n",
       "1447             KARL             JULES          KRAMER   \n",
       "19             ROBERT           JEFFREY          KRAMER   \n",
       "3053           ROBERT             DAVID          KRAMER   \n",
       "1448          BARNETT           SHELDON          KRAMER   \n",
       "3976            DAVID           CAMERON         MCCLURE   \n",
       "952            JOSEPH            GEORGE         PERPICH   \n",
       "715              REIN               NaN           SARAL   \n",
       "484            ALBERT               LEO        SULLIVAN   \n",
       "63               JOHN             LEWIS        SULLIVAN   \n",
       "483             JAMES                 N        SULLIVAN   \n",
       "3159            PETER           WILLIAM        SULLIVAN   \n",
       "0             WILLIAM              ROSS        SULLIVAN   \n",
       "\n",
       "                                         medical_school  \n",
       "2426                             HARVARD MEDICAL SCHOOL  \n",
       "2370                             HARVARD MEDICAL SCHOOL  \n",
       "2369                             HARVARD MEDICAL SCHOOL  \n",
       "117                              HARVARD MEDICAL SCHOOL  \n",
       "2247  JOAN & SANFORD I. WEILL MEDICAL COLLEGE CORNEL...  \n",
       "2246  COLUMBIA UNIVERSITY COLLEGE OF PHYSICIANS AND ...  \n",
       "121           UNIVERSITY OF VERMONT COLLEGE OF MEDICINE  \n",
       "3618       UNIVERSITY OF CINCINNATI COLLEGE OF MEDICINE  \n",
       "1718         UNIVERSITY OF ROCHESTER SCHOOL OF MEDICINE  \n",
       "4096  JOAN SANFORD I WEILL MEDICAL COLLEGE CORNELL U...  \n",
       "1470                             HARVARD MEDICAL SCHOOL  \n",
       "140   PENNSYLVANIA STATE UNIVERSITY COLLEGE OF MEDICINE  \n",
       "1446                                DUKE MEDICAL SCHOOL  \n",
       "1447        JOHNS HOPKINS UNIVERSITY SCHOOL OF MEDICINE  \n",
       "19                               HARVARD MEDICAL SCHOOL  \n",
       "3053             UNIVERSITY OF WISCONSIN MEDICAL SCHOOL  \n",
       "1448          UNIVERSITY OF MARYLAND SCHOOL OF MEDICINE  \n",
       "3976        WEST VIRGINIA UNIVERSITY SCHOOL OF MEDICINE  \n",
       "952       UNIVERSITY OF MINNESOTA MEDICAL SCHOOL DULUTH  \n",
       "715         JOHNS HOPKINS UNIVERSITY SCHOOL OF MEDICINE  \n",
       "484   SUNY BUFFALO SCHOOL OF MEDICINE & BIOMEDICAL S...  \n",
       "63          SUNY UPSTATE MEDICAL UNIVERSITY AT SYRACUSE  \n",
       "483            VANDERBILT UNIVERSITY SCHOOL OF MEDICINE  \n",
       "3159                            UCSF SCHOOL OF MEDICINE  \n",
       "0         UNIVERSITY OF PENNSYLVANIA SCHOOL OF MEDICINE  "
      ]
     },
     "execution_count": 101,
     "metadata": {},
     "output_type": "execute_result"
    },
    {
     "name": "stdout",
     "output_type": "stream",
     "text": [
      "time: 39 ms\n"
     ]
    }
   ],
   "source": [
    "test = ['PERPICH',  'BRADEN', 'BRADEN R', 'BULKEY', 'BULKLEY', \n",
    "       'CHESEBRE', 'COLDBERG', 'COLLIN', 'DIEZMAN', 'DIETZMAN', 'GLASSROBTH', \n",
    "        'GLASSROTH', 'HAYWARD', 'HAYWOOD', 'MCCLURE MCCHURE', 'MCCLURE', 'MCCHURE',\n",
    "       'KETOVER', 'KENTOVER', 'KNOWLER', 'KRAMER', 'SARAI', 'SARAL', 'SARAL', 'SULLIVAN', 'COLLINS', \n",
    "       'KOEHLER']\n",
    "match9_4.loc[match9_4.clean_last_name.isin(test), NAME_COLS+['medical_school']].sort_values('clean_last_name')"
   ]
  },
  {
   "cell_type": "code",
   "execution_count": 126,
   "metadata": {
    "collapsed": false
   },
   "outputs": [
    {
     "name": "stdout",
     "output_type": "stream",
     "text": [
      "(4111, 112)\n",
      "(4107, 112)\n",
      "(4106, 112)\n",
      "time: 53.7 ms\n"
     ]
    }
   ],
   "source": [
    "# delete people missing first and middle names\n",
    "print match9_4.shape\n",
    "match9A = match9_4.loc[~((pd.isnull(match9_4.clean_first_name) & pd.isnull(match9_4.clean_middle_name))), :]\n",
    "match9A2 = match9A.loc[~(\n",
    "        (match9A.medical_school=='UNIVERSITY OF MINNESOTA MEDICAL SCHOOL DULUTH') & (\n",
    "            match9A.clean_last_name=='PERPICH')), :]\n",
    "match9A3 = match9A2.loc[~((pd.isnull(match9A2.clean_first_name) & (match9A2.clean_last_name=='MCCHURE'))), :]\n",
    "match9A4 = match9A3.loc[~(\n",
    "        (match9A3.clean_first_name==match9A3.clean_middle_name) & (match9A3.clean_last_name=='BROWER')), :]\n",
    "match9B = match9A4.loc[~pd.isnull(match9A4.application_year_min), :]\n",
    "print match9A.shape\n",
    "print match9B.shape"
   ]
  },
  {
   "cell_type": "code",
   "execution_count": 127,
   "metadata": {
    "collapsed": false
   },
   "outputs": [
    {
     "data": {
      "text/html": [
       "<div>\n",
       "<table border=\"1\" class=\"dataframe\">\n",
       "  <thead>\n",
       "    <tr style=\"text-align: right;\">\n",
       "      <th></th>\n",
       "      <th>clean_first_name</th>\n",
       "      <th>clean_middle_name</th>\n",
       "      <th>clean_last_name</th>\n",
       "      <th>application_year_min</th>\n",
       "      <th>medical_school</th>\n",
       "      <th>application_year</th>\n",
       "    </tr>\n",
       "  </thead>\n",
       "  <tbody>\n",
       "  </tbody>\n",
       "</table>\n",
       "</div>"
      ],
      "text/plain": [
       "Empty DataFrame\n",
       "Columns: [clean_first_name, clean_middle_name, clean_last_name, application_year_min, medical_school, application_year]\n",
       "Index: []"
      ]
     },
     "execution_count": 127,
     "metadata": {},
     "output_type": "execute_result"
    },
    {
     "name": "stdout",
     "output_type": "stream",
     "text": [
      "time: 31 ms\n"
     ]
    }
   ],
   "source": [
    "match9A2.loc[pd.isnull(match9A2.application_year_min), NAME_COLS+['application_year_min', 'medical_school', 'application_year']]\n",
    "match9B.loc[match9B.clean_last_name=='PERPICH', NAME_COLS+['application_year_min', 'medical_school', 'application_year']]"
   ]
  },
  {
   "cell_type": "code",
   "execution_count": 128,
   "metadata": {
    "collapsed": false
   },
   "outputs": [
    {
     "name": "stdout",
     "output_type": "stream",
     "text": [
      "time: 50.4 ms\n"
     ]
    }
   ],
   "source": [
    "mask = match9B.clean_first_name.apply(has_suffix)\n",
    "match9B.loc[mask, 'clean_suffix'] = match9B.loc[mask, 'clean_first_name'].apply(get_suffix)\n",
    "\n",
    "match9B.loc[mask, 'clean_first_name'] = 'SPENCER'"
   ]
  },
  {
   "cell_type": "code",
   "execution_count": 129,
   "metadata": {
    "collapsed": false
   },
   "outputs": [
    {
     "data": {
      "text/html": [
       "<div>\n",
       "<table border=\"1\" class=\"dataframe\">\n",
       "  <thead>\n",
       "    <tr style=\"text-align: right;\">\n",
       "      <th></th>\n",
       "      <th>clean_first_name</th>\n",
       "      <th>clean_middle_name</th>\n",
       "      <th>clean_last_name</th>\n",
       "      <th>medical_school</th>\n",
       "      <th>person_uuid</th>\n",
       "      <th>address</th>\n",
       "    </tr>\n",
       "  </thead>\n",
       "  <tbody>\n",
       "    <tr>\n",
       "      <th>100</th>\n",
       "      <td>ALLAN</td>\n",
       "      <td>L</td>\n",
       "      <td>SMITH</td>\n",
       "      <td>UNIVERSITY OF PENNSYLVANIA SCHOOL OF MEDICINE</td>\n",
       "      <td>119.0</td>\n",
       "      <td>4408 Pine Street</td>\n",
       "    </tr>\n",
       "    <tr>\n",
       "      <th>99</th>\n",
       "      <td>ARNOLD</td>\n",
       "      <td>L</td>\n",
       "      <td>SMITH</td>\n",
       "      <td>UNIVERSITY OF PENNSYLVANIA SCHOOL OF MEDICINE</td>\n",
       "      <td>119.0</td>\n",
       "      <td>4408 Pine Street</td>\n",
       "    </tr>\n",
       "  </tbody>\n",
       "</table>\n",
       "</div>"
      ],
      "text/plain": [
       "    clean_first_name clean_middle_name clean_last_name  \\\n",
       "100            ALLAN                 L           SMITH   \n",
       "99            ARNOLD                 L           SMITH   \n",
       "\n",
       "                                    medical_school  person_uuid  \\\n",
       "100  UNIVERSITY OF PENNSYLVANIA SCHOOL OF MEDICINE        119.0   \n",
       "99   UNIVERSITY OF PENNSYLVANIA SCHOOL OF MEDICINE        119.0   \n",
       "\n",
       "              address  \n",
       "100  4408 Pine Street  \n",
       "99   4408 Pine Street  "
      ]
     },
     "execution_count": 129,
     "metadata": {},
     "output_type": "execute_result"
    },
    {
     "name": "stdout",
     "output_type": "stream",
     "text": [
      "time: 43.7 ms\n"
     ]
    }
   ],
   "source": [
    "# check for person id duplicates\n",
    "dups_mask = match9B.duplicated(PERSON_ID, keep=False)\n",
    "match9B.loc[dups_mask, NAME_COLS+['medical_school', PERSON_ID, 'address']]"
   ]
  },
  {
   "cell_type": "code",
   "execution_count": 130,
   "metadata": {
    "collapsed": false
   },
   "outputs": [
    {
     "data": {
      "text/plain": [
       "4151.0"
      ]
     },
     "execution_count": 130,
     "metadata": {},
     "output_type": "execute_result"
    },
    {
     "name": "stdout",
     "output_type": "stream",
     "text": [
      "time: 26.3 ms\n"
     ]
    }
   ],
   "source": [
    "import hashlib\n",
    "from random import randint\n",
    "max(match9B.person_uuid.values)"
   ]
  },
  {
   "cell_type": "code",
   "execution_count": 131,
   "metadata": {
    "collapsed": false
   },
   "outputs": [
    {
     "name": "stdout",
     "output_type": "stream",
     "text": [
      "4151.0\n",
      "time: 22.6 ms\n"
     ]
    }
   ],
   "source": [
    "max_id = max(match9B.person_uuid.values)\n",
    "print max_id\n",
    "dups_mask = match9B.duplicated(PERSON_ID, keep=False)\n",
    "dups = match9B.ix[dups_mask, NAME_COLS+[PERSON_ID, 'medical_school', 'address']]\n",
    "dups['new_id'] = dups.person_uuid.apply(lambda x: max_id+randint(10, 1000))"
   ]
  },
  {
   "cell_type": "code",
   "execution_count": 132,
   "metadata": {
    "collapsed": false
   },
   "outputs": [
    {
     "data": {
      "text/html": [
       "<div>\n",
       "<table border=\"1\" class=\"dataframe\">\n",
       "  <thead>\n",
       "    <tr style=\"text-align: right;\">\n",
       "      <th></th>\n",
       "      <th>clean_first_name</th>\n",
       "      <th>clean_middle_name</th>\n",
       "      <th>clean_last_name</th>\n",
       "      <th>NIH_first_name</th>\n",
       "    </tr>\n",
       "  </thead>\n",
       "  <tbody>\n",
       "    <tr>\n",
       "      <th>92</th>\n",
       "      <td>ALLAN</td>\n",
       "      <td>L</td>\n",
       "      <td>SMITH</td>\n",
       "      <td>ALLAN</td>\n",
       "    </tr>\n",
       "  </tbody>\n",
       "</table>\n",
       "</div>"
      ],
      "text/plain": [
       "   clean_first_name clean_middle_name clean_last_name NIH_first_name\n",
       "92            ALLAN                 L           SMITH          ALLAN"
      ]
     },
     "execution_count": 132,
     "metadata": {},
     "output_type": "execute_result"
    },
    {
     "name": "stdout",
     "output_type": "stream",
     "text": [
      "time: 31.6 ms\n"
     ]
    }
   ],
   "source": [
    "NIH.loc[NIH.dno==3482, NAME_COLS+['NIH_first_name']]"
   ]
  },
  {
   "cell_type": "code",
   "execution_count": 133,
   "metadata": {
    "collapsed": false
   },
   "outputs": [
    {
     "data": {
      "text/html": [
       "<div>\n",
       "<table border=\"1\" class=\"dataframe\">\n",
       "  <thead>\n",
       "    <tr style=\"text-align: right;\">\n",
       "      <th></th>\n",
       "      <th>clean_first_name</th>\n",
       "      <th>clean_middle_name</th>\n",
       "      <th>clean_last_name</th>\n",
       "      <th>person_uuid</th>\n",
       "      <th>dno</th>\n",
       "      <th>first_name</th>\n",
       "      <th>NIH_first_name</th>\n",
       "      <th>NIH_last_name</th>\n",
       "    </tr>\n",
       "  </thead>\n",
       "  <tbody>\n",
       "    <tr>\n",
       "      <th>100</th>\n",
       "      <td>ALLAN</td>\n",
       "      <td>L</td>\n",
       "      <td>SMITH</td>\n",
       "      <td>119.0</td>\n",
       "      <td>3482.0</td>\n",
       "      <td>Allan</td>\n",
       "      <td>NaN</td>\n",
       "      <td>NaN</td>\n",
       "    </tr>\n",
       "    <tr>\n",
       "      <th>99</th>\n",
       "      <td>ARNOLD</td>\n",
       "      <td>L</td>\n",
       "      <td>SMITH</td>\n",
       "      <td>119.0</td>\n",
       "      <td>3484.0</td>\n",
       "      <td>Allan</td>\n",
       "      <td>NaN</td>\n",
       "      <td>NaN</td>\n",
       "    </tr>\n",
       "  </tbody>\n",
       "</table>\n",
       "</div>"
      ],
      "text/plain": [
       "    clean_first_name clean_middle_name clean_last_name  person_uuid     dno  \\\n",
       "100            ALLAN                 L           SMITH        119.0  3482.0   \n",
       "99            ARNOLD                 L           SMITH        119.0  3484.0   \n",
       "\n",
       "    first_name NIH_first_name NIH_last_name  \n",
       "100      Allan            NaN           NaN  \n",
       "99       Allan            NaN           NaN  "
      ]
     },
     "execution_count": 133,
     "metadata": {},
     "output_type": "execute_result"
    },
    {
     "name": "stdout",
     "output_type": "stream",
     "text": [
      "time: 35.2 ms\n"
     ]
    }
   ],
   "source": [
    "match9B.loc[match9B.duplicated(PERSON_ID, keep=False), NAME_COLS+[PERSON_ID, 'dno', 'first_name', 'NIH_first_name', 'NIH_last_name']]\n"
   ]
  },
  {
   "cell_type": "code",
   "execution_count": 134,
   "metadata": {
    "collapsed": false
   },
   "outputs": [
    {
     "name": "stdout",
     "output_type": "stream",
     "text": [
      "time: 93.9 ms\n"
     ]
    }
   ],
   "source": [
    "missing_NIH_names_mask = (pd.isnull(match9B.NIH_first_name) & (~pd.isnull(match9B.dno)))\n",
    "match9B.loc[missing_NIH_names_mask, 'NIH_first_name'] = match9B[missing_NIH_names_mask]['dno'].apply(\n",
    "    lambda x: NIH.get_value(NIH.loc[NIH.dno==x].index[0], 'NIH_first_name'))"
   ]
  },
  {
   "cell_type": "code",
   "execution_count": 135,
   "metadata": {
    "collapsed": false
   },
   "outputs": [
    {
     "name": "stdout",
     "output_type": "stream",
     "text": [
      "time: 50.8 ms\n"
     ]
    }
   ],
   "source": [
    "match9C = pd.merge(left=match9B, right=dups, on=NAME_COLS+['medical_school', 'address', PERSON_ID], how='left')"
   ]
  },
  {
   "cell_type": "code",
   "execution_count": 136,
   "metadata": {
    "collapsed": false
   },
   "outputs": [
    {
     "data": {
      "text/plain": [
       "530    BAYLOR COLLEGE OF MEDICINE\n",
       "Name: medical_school, dtype: object"
      ]
     },
     "execution_count": 136,
     "metadata": {},
     "output_type": "execute_result"
    },
    {
     "name": "stdout",
     "output_type": "stream",
     "text": [
      "time: 40.3 ms\n"
     ]
    }
   ],
   "source": [
    "# need to correct Dale Dietzman's medical school\n",
    "match9C.loc[((match9C.clean_last_name=='DIETZMAN') & (match9C.clean_first_name=='DALE')), 'medical_school'] = 'BAYLOR COLLEGE OF MEDICINE'\n",
    "match9C.loc[((match9C.clean_last_name=='DIETZMAN') & (match9C.clean_first_name=='DALE')), 'medical_school']"
   ]
  },
  {
   "cell_type": "code",
   "execution_count": 137,
   "metadata": {
    "collapsed": false
   },
   "outputs": [
    {
     "data": {
      "text/html": [
       "<div>\n",
       "<table border=\"1\" class=\"dataframe\">\n",
       "  <thead>\n",
       "    <tr style=\"text-align: right;\">\n",
       "      <th></th>\n",
       "      <th>clean_first_name</th>\n",
       "      <th>clean_middle_name</th>\n",
       "      <th>clean_last_name</th>\n",
       "      <th>medical_school</th>\n",
       "      <th>person_uuid</th>\n",
       "      <th>address</th>\n",
       "    </tr>\n",
       "  </thead>\n",
       "  <tbody>\n",
       "  </tbody>\n",
       "</table>\n",
       "</div>"
      ],
      "text/plain": [
       "Empty DataFrame\n",
       "Columns: [clean_first_name, clean_middle_name, clean_last_name, medical_school, person_uuid, address]\n",
       "Index: []"
      ]
     },
     "execution_count": 137,
     "metadata": {},
     "output_type": "execute_result"
    },
    {
     "name": "stdout",
     "output_type": "stream",
     "text": [
      "time: 36.2 ms\n"
     ]
    }
   ],
   "source": [
    "mask = ~pd.isnull(match9C.new_id)\n",
    "\n",
    "match9C.loc[match9C.person_uuid==3800,NAME_COLS+[PERSON_ID, 'new_id']]\n",
    "\n",
    "match9C.loc[mask, PERSON_ID] = match9C[mask]['new_id'] \n",
    "\n",
    "del match9C['new_id']\n",
    "\n",
    "dups_mask = match9C.duplicated(PERSON_ID, keep=False)\n",
    "match9C.loc[dups_mask, NAME_COLS+['medical_school', PERSON_ID, 'address']]"
   ]
  },
  {
   "cell_type": "code",
   "execution_count": 138,
   "metadata": {
    "collapsed": false,
    "scrolled": false
   },
   "outputs": [
    {
     "name": "stdout",
     "output_type": "stream",
     "text": [
      "time: 540 ms\n"
     ]
    }
   ],
   "source": [
    "match9C.rename(columns={'res_dates': 'residency_dates_NIH', 'intern_dates': 'internship_dates_NIH', \n",
    "                        'residency_year(s)': 'residency_dates', 'internship_year(s)': 'internship_dates',\n",
    "                      'clean_college_trans': 'clean_college', 'med_school': 'NIH_medical_school'}, inplace=True)\n",
    "\n",
    "IMPORTANT_COLS = [NIH_ID, PERSON_ID, 'application_year_min', 'application_year_max', 'eod_year',\n",
    "                  'clean_first_name', 'clean_middle_name', \n",
    "                 'clean_last_name', 'control_flag', 'time_period_flag', 'year_accepted',\n",
    "                  'rejected', 'rejection_date', 'clean_college', 'medical_school',\n",
    "                'residency_dates', 'residency_dates_NIH', 'internship_dates', 'internship_dates_NIH',\n",
    "                  'is_female', 'is_foreign', 'number_applications', \n",
    "                 'NIH_first_name', 'NIH_middle_name', 'NIH_last_name', 'NIH_medical_school']\n",
    "\n",
    "other_cols = sorted([i for i in match9C.columns if i not in IMPORTANT_COLS])\n",
    "\n",
    "# order columns so important ones are \n",
    "match10 = match9C[IMPORTANT_COLS+other_cols].sort_values(['clean_last_name', 'clean_first_name', 'application_year_max']).drop(\n",
    "    ['clean_first_name_y', 'clean_middle_name_y', 'clean_last_name_y'], axis=1)\n",
    "\n",
    "match11 = match10.dropna(subset=[PERSON_ID], axis=0).sort_values(['clean_last_name', 'clean_first_name'])\n",
    "\n",
    "mask = (pd.isnull(match11.eod_year) & ~pd.isnull(match11.dno))\n",
    "\n",
    "match11['is_female'] = 0\n",
    "\n",
    "match11.loc[match11.clean_first_name.isin(FEMALE_FIRST_NAMES), 'is_female'] = 1\n",
    "\n",
    "match11.loc[mask, 'eod_year'] = match11[mask].dno.apply(lambda x: NIH.loc[NIH.dno==x, 'eod_year'].values[0])\n",
    "# wide_apps5.to_pickle(os.path.join(APP_DATA_DIR, 'all_apps_plus_NIH_info.p'))\n",
    "match11.to_csv(os.path.join(APP_DATA_DIR, 'fuzzy_all_apps_plus_NIH_info.csv'), index=False)"
   ]
  },
  {
   "cell_type": "code",
   "execution_count": 139,
   "metadata": {
    "collapsed": false,
    "scrolled": false
   },
   "outputs": [
    {
     "data": {
      "text/html": [
       "<div>\n",
       "<table border=\"1\" class=\"dataframe\">\n",
       "  <thead>\n",
       "    <tr style=\"text-align: right;\">\n",
       "      <th></th>\n",
       "      <th>clean_first_name</th>\n",
       "      <th>clean_middle_name</th>\n",
       "      <th>clean_last_name</th>\n",
       "      <th>person_uuid</th>\n",
       "      <th>medical_school</th>\n",
       "      <th>application_year</th>\n",
       "      <th>dno</th>\n",
       "      <th>residency</th>\n",
       "      <th>residency_hospital</th>\n",
       "      <th>internship_hospital</th>\n",
       "      <th>residency_dates</th>\n",
       "    </tr>\n",
       "  </thead>\n",
       "  <tbody>\n",
       "    <tr>\n",
       "      <th>4207</th>\n",
       "      <td>NaN</td>\n",
       "      <td>SHELOR</td>\n",
       "      <td>HARRIN</td>\n",
       "      <td>4122.0</td>\n",
       "      <td>JOAN SANFORD I WEILL MEDICAL COLLEGE CORNELL U...</td>\n",
       "      <td>1970.0</td>\n",
       "      <td>NaN</td>\n",
       "      <td>OPHTHALMOLOGY</td>\n",
       "      <td>JOHNS HOPKINS HEALTH SYSTEM</td>\n",
       "      <td>UNIVERSITY OF WASHINGTON</td>\n",
       "      <td>NaN</td>\n",
       "    </tr>\n",
       "  </tbody>\n",
       "</table>\n",
       "</div>"
      ],
      "text/plain": [
       "     clean_first_name clean_middle_name clean_last_name  person_uuid  \\\n",
       "4207              NaN            SHELOR          HARRIN       4122.0   \n",
       "\n",
       "                                         medical_school  application_year  \\\n",
       "4207  JOAN SANFORD I WEILL MEDICAL COLLEGE CORNELL U...            1970.0   \n",
       "\n",
       "      dno      residency           residency_hospital  \\\n",
       "4207  NaN  OPHTHALMOLOGY  JOHNS HOPKINS HEALTH SYSTEM   \n",
       "\n",
       "           internship_hospital  residency_dates  \n",
       "4207  UNIVERSITY OF WASHINGTON              NaN  "
      ]
     },
     "execution_count": 139,
     "metadata": {},
     "output_type": "execute_result"
    },
    {
     "name": "stdout",
     "output_type": "stream",
     "text": [
      "time: 39.4 ms\n"
     ]
    }
   ],
   "source": [
    "match9A.loc[match9A.clean_last_name.isin(['HARRIN']), NAME_COLS+[PERSON_ID, 'medical_school', 'application_year', 'dno', 'residency','residency_hospital',\n",
    "                                                            'internship_hospital', 'residency_dates']]"
   ]
  },
  {
   "cell_type": "code",
   "execution_count": 140,
   "metadata": {
    "collapsed": false
   },
   "outputs": [
    {
     "name": "stdout",
     "output_type": "stream",
     "text": [
      "(0, 6)\n"
     ]
    },
    {
     "data": {
      "text/html": [
       "<div>\n",
       "<table border=\"1\" class=\"dataframe\">\n",
       "  <thead>\n",
       "    <tr style=\"text-align: right;\">\n",
       "      <th></th>\n",
       "      <th>clean_first_name_x</th>\n",
       "      <th>clean_middle_name_x</th>\n",
       "      <th>clean_last_name_x</th>\n",
       "      <th>person_uuid</th>\n",
       "      <th>medical_school_x</th>\n",
       "      <th>clean_first_name_y</th>\n",
       "      <th>clean_middle_name_y</th>\n",
       "      <th>clean_last_name_y</th>\n",
       "      <th>dno</th>\n",
       "      <th>medical_school_y</th>\n",
       "    </tr>\n",
       "  </thead>\n",
       "  <tbody>\n",
       "  </tbody>\n",
       "</table>\n",
       "</div>"
      ],
      "text/plain": [
       "Empty DataFrame\n",
       "Columns: [clean_first_name_x, clean_middle_name_x, clean_last_name_x, person_uuid, medical_school_x, clean_first_name_y, clean_middle_name_y, clean_last_name_y, dno, medical_school_y]\n",
       "Index: []"
      ]
     },
     "execution_count": 140,
     "metadata": {},
     "output_type": "execute_result"
    },
    {
     "name": "stdout",
     "output_type": "stream",
     "text": [
      "time: 38.1 ms\n"
     ]
    }
   ],
   "source": [
    "dups_dno = match11.loc[(~pd.isnull(match11.dno)) & (match11.duplicated('dno', keep=False)), NAME_COLS+['dno', PERSON_ID, 'medical_school']]\n",
    "print dups_dno.shape\n",
    "dups_merge = pd.merge(\n",
    "    left=dups_dno, right=NIH.loc[NIH.dno.isin(dups_dno.dno), NAME_COLS+['dno', 'medical_school']], on=['dno'], how='left')\n",
    "\n",
    "dups_merge"
   ]
  },
  {
   "cell_type": "code",
   "execution_count": 141,
   "metadata": {
    "collapsed": false
   },
   "outputs": [
    {
     "data": {
      "text/html": [
       "<div>\n",
       "<table border=\"1\" class=\"dataframe\">\n",
       "  <thead>\n",
       "    <tr style=\"text-align: right;\">\n",
       "      <th></th>\n",
       "      <th>clean_first_name</th>\n",
       "      <th>clean_middle_name</th>\n",
       "      <th>clean_last_name</th>\n",
       "    </tr>\n",
       "  </thead>\n",
       "  <tbody>\n",
       "  </tbody>\n",
       "</table>\n",
       "</div>"
      ],
      "text/plain": [
       "Empty DataFrame\n",
       "Columns: [clean_first_name, clean_middle_name, clean_last_name]\n",
       "Index: []"
      ]
     },
     "execution_count": 141,
     "metadata": {},
     "output_type": "execute_result"
    },
    {
     "name": "stdout",
     "output_type": "stream",
     "text": [
      "time: 27.8 ms\n"
     ]
    }
   ],
   "source": [
    "# check for uuid dups\n",
    "match11.loc[match11.duplicated(PERSON_ID, keep=False), NAME_COLS]"
   ]
  },
  {
   "cell_type": "code",
   "execution_count": null,
   "metadata": {
    "collapsed": true
   },
   "outputs": [],
   "source": []
  },
  {
   "cell_type": "code",
   "execution_count": null,
   "metadata": {
    "collapsed": true
   },
   "outputs": [],
   "source": []
  }
 ],
 "metadata": {
  "kernelspec": {
   "display_name": "Python 2",
   "language": "python",
   "name": "python2"
  },
  "language_info": {
   "codemirror_mode": {
    "name": "ipython",
    "version": 2
   },
   "file_extension": ".py",
   "mimetype": "text/x-python",
   "name": "python",
   "nbconvert_exporter": "python",
   "pygments_lexer": "ipython2",
   "version": "2.7.12"
  }
 },
 "nbformat": 4,
 "nbformat_minor": 0
}
