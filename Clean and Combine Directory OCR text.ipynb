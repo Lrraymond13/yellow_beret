{
 "cells": [
  {
   "cell_type": "code",
   "execution_count": 88,
   "metadata": {
    "collapsed": false
   },
   "outputs": [
    {
     "name": "stdout",
     "output_type": "stream",
     "text": [
      "time: 3.57 ms\n"
     ]
    }
   ],
   "source": [
    "# clean and combine OCR text data in excel\n",
    "import os\n",
    "import numpy as np\n",
    "import pandas as pd\n",
    "from fuzzywuzzy import fuzz\n",
    "\n",
    "from dev import SUFFIXES\n",
    "from data_cleaning_functions import remove_punc, clean_names\n",
    "\n",
    "\n",
    "OCR_DIR = '/home/lraymond/Dropbox (MIT)/Christine/OCR'\n",
    "FILE_FORMAT = '{year}_excel.xlsx'\n",
    "YEAR_RANGE = (1966, 1977)\n",
    "OCR_SUFFIXES = ['OR' ]"
   ]
  },
  {
   "cell_type": "code",
   "execution_count": 17,
   "metadata": {
    "collapsed": false
   },
   "outputs": [
    {
     "name": "stdout",
     "output_type": "stream",
     "text": [
      "The autoreload extension is already loaded. To reload it, use:\n",
      "  %reload_ext autoreload\n",
      "The autotime extension is already loaded. To reload it, use:\n",
      "  %reload_ext autotime\n",
      "time: 2.66 ms\n"
     ]
    }
   ],
   "source": [
    "%load_ext autoreload\n",
    "%autoreload 2\n",
    "\n",
    "%load_ext autotime"
   ]
  },
  {
   "cell_type": "code",
   "execution_count": 24,
   "metadata": {
    "collapsed": false
   },
   "outputs": [
    {
     "name": "stdout",
     "output_type": "stream",
     "text": [
      "[u'Sheet1', u'Sheet2', u'Sheet3', u'Sheet4', u'Sheet5', u'Sheet6', u'Sheet7', u'Sheet8', u'Sheet9', u'Sheet10', u'Sheet11', u'Sheet12', u'Sheet13', u'Sheet14', u'Sheet15', u'Sheet16', u'Sheet17', u'Sheet18', u'Sheet19', u'Sheet20', u'Sheet21', u'Sheet22', u'Sheet23', u'Sheet24', u'Sheet25', u'Sheet26', u'Sheet27', u'Sheet28', u'Sheet29', u'Sheet30', u'Sheet31', u'Sheet32', u'Sheet33', u'Sheet34', u'Sheet35', u'Sheet36', u'Sheet37', u'Sheet38', u'Sheet39', u'Sheet40', u'Sheet41', u'Sheet42', u'Sheet43', u'Sheet44', u'Sheet45', u'Sheet46', u'Sheet47', u'Sheet48', u'Sheet49', u'Sheet50', u'Sheet51', u'Sheet52', u'Sheet53', u'Sheet54', u'Sheet55', u'Sheet56', u'Sheet57', u'Sheet58', u'Sheet59', u'Sheet60', u'Sheet61', u'Sheet62', u'Sheet63', u'Sheet64', u'Sheet65', u'Sheet66', u'Sheet67', u'Sheet68', u'Sheet69', u'Sheet70', u'Sheet71', u'Sheet72', u'Sheet73', u'Sheet74', u'Sheet75', u'Sheet76', u'Sheet77', u'Sheet78', u'Sheet79', u'Sheet80', u'Sheet81', u'Sheet82', u'Sheet83', u'Sheet84', u'Sheet85', u'Sheet86', u'Sheet87', u'Sheet88', u'Sheet89', u'Sheet90', u'Sheet91', u'Sheet92', u'Sheet93', u'Sheet94', u'Sheet95', u'Sheet96', u'Sheet97', u'Sheet98', u'Sheet99', u'Sheet100', u'Sheet101', u'Sheet102', u'Sheet103', u'Sheet104', u'Sheet105', u'Sheet106', u'Sheet107', u'Sheet108', u'Sheet109', u'Sheet110', u'Sheet111', u'Sheet112', u'Sheet113', u'Sheet114', u'Sheet115', u'Sheet116', u'Sheet117', u'Sheet118', u'Sheet119', u'Sheet120', u'Sheet121', u'Sheet122', u'Sheet123', u'Sheet124', u'Sheet125', u'Sheet126', u'Sheet127', u'Sheet128', u'Sheet129', u'Sheet130', u'Sheet131', u'Sheet132', u'Sheet133', u'Sheet134', u'Sheet135', u'Sheet136', u'Sheet137', u'Sheet138', u'Sheet139', u'Sheet140', u'Sheet141', u'Sheet142']\n",
      "time: 544 ms\n"
     ]
    }
   ],
   "source": [
    "year=1966\n",
    "\n",
    "# create a file object from excel file\n",
    "f1 = pd.ExcelFile(os.path.join(OCR_DIR, FILE_FORMAT.format(year=str(year))))\n",
    "sheet_names = [f for f in f1.sheet_names if f.startswith('Sheet')]\n",
    "print sheet_names"
   ]
  },
  {
   "cell_type": "code",
   "execution_count": 34,
   "metadata": {
    "collapsed": false
   },
   "outputs": [
    {
     "name": "stdout",
     "output_type": "stream",
     "text": [
      "time: 3.74 ms\n"
     ]
    }
   ],
   "source": [
    "s1 = f1.parse(sheet_names[0], header=None, names=['NAME'])\n",
    "\n"
   ]
  },
  {
   "cell_type": "code",
   "execution_count": 37,
   "metadata": {
    "collapsed": false
   },
   "outputs": [
    {
     "name": "stdout",
     "output_type": "stream",
     "text": [
      "time: 2.41 ms\n"
     ]
    }
   ],
   "source": [
    "# first row has multiple names in the first row, need to parse\n",
    "\n",
    "def has_multiple_names(row):\n",
    "    # check if new lines present in row\n",
    "    # this could indicate multiple names in the same row\n",
    "    lst_names = row['NAME'].split('\\n')\n",
    "    return len(lst_names) > 1\n",
    "    "
   ]
  },
  {
   "cell_type": "code",
   "execution_count": null,
   "metadata": {
    "collapsed": true
   },
   "outputs": [],
   "source": [
    "# pair word with previous word\n",
    "# check check with first last name\n",
    "# first, check breaks for 1 letter words or suffixes (first suffixes, then 1 letter words)\n",
    "# if similarity is low, continue to next word"
   ]
  },
  {
   "cell_type": "code",
   "execution_count": 87,
   "metadata": {
    "collapsed": false
   },
   "outputs": [
    {
     "name": "stdout",
     "output_type": "stream",
     "text": [
      "time: 13.9 ms\n"
     ]
    }
   ],
   "source": [
    "def is_last_name(last_str, first_last_name):\n",
    "    print 'last name %s' % last_str\n",
    "    print 'first last name %s' % first_last_name\n",
    "    ratio = fuzz.ratio(first_last_name[:4], last_str[:4])\n",
    "    print ratio\n",
    "    if len(last_str) < 3:\n",
    "        print last_str\n",
    "    if ratio > 60 and first_last_name[0]==last_str[0]:\n",
    "        return True\n",
    "    return False\n",
    "\n",
    "def is_one_name(name_str):\n",
    "    wrds = mapl(lambda x: x.upper(), name_str.split(' '))\n",
    "    if len(wrds) < 4 and len(wrds[-1]) == 1:\n",
    "        return True\n",
    "    last_wrd = remove_punc(wrds[-1].strip())\n",
    "    if last_wrd in SUFFIXES+OCR_SUFFIXES:\n",
    "        return True\n",
    "    return False\n",
    "\n",
    "def parse_multi_names(row):\n",
    "    # parse multiple names from a row\n",
    "    sep_names = []\n",
    "    first_pass = row['NAME'].split('\\n')\n",
    "    return pd.DataFrame({'NAME': first_pass})\n",
    "   \n",
    "def correct_ocr_issues(raw_str):\n",
    "    # strip spaces and punctuation\n",
    "    COMMON_PROBLEMS = {'OR': 'DR', '8': 'B'}\n",
    "    new_str = clean_names(raw_str.strip())\n",
    "    for problem, correction in COMMON_PROBLEMS.iterkeys():\n",
    "        if problem in new_str:\n",
    "            new_str = new_str.replace(correction)\n",
    "    return new_str \n",
    "    \n",
    "    "
   ]
  },
  {
   "cell_type": "code",
   "execution_count": 69,
   "metadata": {
    "collapsed": false
   },
   "outputs": [
    {
     "name": "stdout",
     "output_type": "stream",
     "text": [
      "time: 7.62 ms\n"
     ]
    }
   ],
   "source": [
    "multi_name_mask = s1.apply(has_multiple_names, axis=1)\n",
    "\n",
    "new_names = s1[multi_name_mask].apply(parse_multi_names, axis=1)"
   ]
  },
  {
   "cell_type": "code",
   "execution_count": 76,
   "metadata": {
    "collapsed": false
   },
   "outputs": [
    {
     "name": "stdout",
     "output_type": "stream",
     "text": [
      "time: 1.23 ms\n"
     ]
    }
   ],
   "source": [
    "test_names = 'AARONSON CHERYL AARONSON MAY R AARHUS ROBERT T ABBAMONTE PATRICIA A'"
   ]
  },
  {
   "cell_type": "code",
   "execution_count": 48,
   "metadata": {
    "collapsed": false
   },
   "outputs": [
    {
     "data": {
      "text/html": [
       "<div>\n",
       "<table border=\"1\" class=\"dataframe\">\n",
       "  <thead>\n",
       "    <tr style=\"text-align: right;\">\n",
       "      <th></th>\n",
       "      <th>0</th>\n",
       "    </tr>\n",
       "  </thead>\n",
       "  <tbody>\n",
       "    <tr>\n",
       "      <th>0</th>\n",
       "      <td>AABEL JUDITH A</td>\n",
       "    </tr>\n",
       "    <tr>\n",
       "      <th>1</th>\n",
       "      <td>AANDAHL  VIRGINIA</td>\n",
       "    </tr>\n",
       "    <tr>\n",
       "      <th>2</th>\n",
       "      <td>AARONSON CHERYL AARONSON MAY R AARHUS ROBERT T...</td>\n",
       "    </tr>\n",
       "    <tr>\n",
       "      <th>3</th>\n",
       "      <td>ABBATICCHIO  TONI  A</td>\n",
       "    </tr>\n",
       "  </tbody>\n",
       "</table>\n",
       "</div>"
      ],
      "text/plain": [
       "                                                   0\n",
       "0                                     AABEL JUDITH A\n",
       "1                                  AANDAHL  VIRGINIA\n",
       "2  AARONSON CHERYL AARONSON MAY R AARHUS ROBERT T...\n",
       "3                               ABBATICCHIO  TONI  A"
      ]
     },
     "execution_count": 48,
     "metadata": {},
     "output_type": "execute_result"
    },
    {
     "name": "stdout",
     "output_type": "stream",
     "text": [
      "time: 9.86 ms\n"
     ]
    }
   ],
   "source": [
    "pd.DataFrame(new_names.values[0])"
   ]
  },
  {
   "cell_type": "code",
   "execution_count": null,
   "metadata": {
    "collapsed": true
   },
   "outputs": [],
   "source": []
  }
 ],
 "metadata": {
  "kernelspec": {
   "display_name": "Python 2",
   "language": "python",
   "name": "python2"
  },
  "language_info": {
   "codemirror_mode": {
    "name": "ipython",
    "version": 2
   },
   "file_extension": ".py",
   "mimetype": "text/x-python",
   "name": "python",
   "nbconvert_exporter": "python",
   "pygments_lexer": "ipython2",
   "version": "2.7.12"
  }
 },
 "nbformat": 4,
 "nbformat_minor": 1
}
