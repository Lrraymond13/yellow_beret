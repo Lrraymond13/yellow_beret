{
 "cells": [
  {
   "cell_type": "code",
   "execution_count": 143,
   "metadata": {
    "ExecuteTime": {
     "end_time": "2016-08-30T18:14:50.576232",
     "start_time": "2016-08-30T18:14:49.836022"
    },
    "collapsed": true
   },
   "outputs": [],
   "source": [
    "import difflib\n",
    "import itertools\n",
    "import pandas as pd\n",
    "import numpy as np\n",
    "import string\n",
    "import funcy\n",
    "import re\n",
    "import os"
   ]
  },
  {
   "cell_type": "code",
   "execution_count": 88,
   "metadata": {
    "ExecuteTime": {
     "end_time": "2016-08-30T18:14:50.610811",
     "start_time": "2016-08-30T18:14:50.579012"
    },
    "collapsed": false,
    "scrolled": true
   },
   "outputs": [
    {
     "name": "stdout",
     "output_type": "stream",
     "text": [
      "/home/lraymond/MIT/Azoulay_2016/yellow_berets/yellow_beret/Data/raw_card_data\n"
     ]
    }
   ],
   "source": [
    "CARD_DATA_DIR = os.path.abspath('Data/raw_card_data')\n",
    "print CARD_DATA_DIR\n",
    "r1_file = 'delaney_card_info.csv'\n",
    "r2_file = 'R3_card_info.csv'\n",
    "r3_file = 'non_double_entered_card_info.csv'\n"
   ]
  },
  {
   "cell_type": "code",
   "execution_count": 89,
   "metadata": {
    "collapsed": true
   },
   "outputs": [],
   "source": [
    "CLEAN_NAMES = ['clean_first_name', 'clean_middle_name', 'clean_last_name']\n",
    "NAMES = ['first_name', 'middle_name', 'last_name']\n",
    "PERSONAL_INFO = [\n",
    "    'clean_first_name', 'clean_last_name', 'clean_middle_name',\n",
    "    'date_of_birth', 'medical_school', 'clean_college_trans']\n",
    "\n",
    "AWARDS_KEYWORDS = ['HONORS', 'AWARD', 'HONOR', 'SOCIETY', 'SCHOLAR', 'AOA', 'PME', 'FNHS', 'ODK']"
   ]
  },
  {
   "cell_type": "code",
   "execution_count": 90,
   "metadata": {
    "ExecuteTime": {
     "end_time": "2016-08-30T18:14:51.198560",
     "start_time": "2016-08-30T18:14:51.060577"
    },
    "collapsed": false
   },
   "outputs": [],
   "source": [
    "r1 = pd.read_csv(os.path.join(CARD_DATA_DIR, r1_file), skiprows=1)\n",
    "r2 = pd.read_csv(os.path.join(CARD_DATA_DIR, r2_file), skiprows=1)\n",
    "r3 = pd.read_csv(os.path.join(CARD_DATA_DIR, r3_file), skiprows=1)"
   ]
  },
  {
   "cell_type": "code",
   "execution_count": 91,
   "metadata": {
    "ExecuteTime": {
     "end_time": "2016-08-30T18:14:51.646606",
     "start_time": "2016-08-30T18:14:51.627234"
    },
    "collapsed": false
   },
   "outputs": [
    {
     "name": "stdout",
     "output_type": "stream",
     "text": [
      "Extra r1 columns\n",
      "set(['Sixth', 'Unnamed: 61', 'Internship Hospital 1', 'Fifth', 'Internship Year(s)'])\n",
      "Extra r2 columns\n",
      "set(['Intership Year(s)', 'Unnamed: 59', 'Intership Hospital 1'])\n"
     ]
    }
   ],
   "source": [
    "# check differing columns\n",
    "print 'Extra r1 columns'\n",
    "print set(r1.columns) - set(r2.columns)\n",
    "print 'Extra r2 columns'\n",
    "print set(r2.columns) - set(r1.columns)\n"
   ]
  },
  {
   "cell_type": "code",
   "execution_count": 92,
   "metadata": {
    "ExecuteTime": {
     "end_time": "2016-08-30T18:14:52.169139",
     "start_time": "2016-08-30T18:14:52.145425"
    },
    "collapsed": false
   },
   "outputs": [],
   "source": [
    "r1.dropna(how='all', subset=['Sixth', 'Fifth']).loc[:, ['First', 'Second', 'Third', 'Fourth', 'Sixth', 'Fifth']]\n",
    "# only 16 rows aren't totally blank for the columns fifth and sixth, and these columns are blank for all other honor societies\n",
    "r1['First'] = r1.loc[(~r1['Fifth'].isnull()), 'Fifth']"
   ]
  },
  {
   "cell_type": "code",
   "execution_count": 93,
   "metadata": {
    "ExecuteTime": {
     "end_time": "2016-08-30T18:14:53.573563",
     "start_time": "2016-08-30T18:14:53.553329"
    },
    "collapsed": false
   },
   "outputs": [],
   "source": [
    "# fill in any info from sixth (only 1 row with info)\n",
    "r1['Second'] = r1.loc[(~r1['Sixth'].isnull()), 'Sixth']"
   ]
  },
  {
   "cell_type": "code",
   "execution_count": 94,
   "metadata": {
    "ExecuteTime": {
     "end_time": "2016-08-30T18:14:53.959855",
     "start_time": "2016-08-30T18:14:53.939935"
    },
    "collapsed": true
   },
   "outputs": [],
   "source": [
    "# drop fifth and sixth columns\n",
    "r1.drop(['Fifth', 'Sixth'], axis=1, inplace=True)"
   ]
  },
  {
   "cell_type": "code",
   "execution_count": 95,
   "metadata": {
    "ExecuteTime": {
     "end_time": "2016-08-30T18:14:54.970089",
     "start_time": "2016-08-30T18:14:54.937010"
    },
    "collapsed": false
   },
   "outputs": [],
   "source": [
    "# some duplicate column names exist, find them\n",
    "sorted(r1.columns)\n",
    "# rename second column first_name\n",
    "# rename 1st year graduated undergrad_graduated and second med_graduated\n",
    "col_rename_dict = {\n",
    "    'First': 'first_name', 'Last': 'last_name', 'Middle': 'middle_name',\n",
    "    'First.1': 'honor_societies_first', 'Second': 'honor_societies_second', \n",
    "    'Third': 'honor_societies_third', 'Fourth': 'honor_societies_fourth',\n",
    "    'Year Graduated': 'undergrad_year_grad', 'Year Graduated.1': 'medschool_year_grad'\n",
    "}\n",
    "r1.rename(columns=col_rename_dict, inplace=True)\n",
    "r2.rename(columns=col_rename_dict, inplace=True)\n",
    "r3.rename(columns=col_rename_dict, inplace=True)\n",
    "# note that in data set r2 internship is spelled intership, correcting\n",
    "r2.rename(\n",
    "    columns={'Intership Year(s)': 'internship year(s)', 'Intership Hospital 1': 'internship hospital 1'}, inplace=True)\n",
    "# add reviewer column\n",
    "r1['reviewer'] = 1\n",
    "r2['reviewer'] = 2\n",
    "r3['reviewer'] = 3"
   ]
  },
  {
   "cell_type": "code",
   "execution_count": 96,
   "metadata": {
    "ExecuteTime": {
     "end_time": "2016-08-30T18:14:55.723294",
     "start_time": "2016-08-30T18:14:55.669779"
    },
    "collapsed": false
   },
   "outputs": [],
   "source": [
    "# append the 2 data sets on top of each other, adding an indicator which reviewer they come from\n",
    "all_appcards = pd.concat([r1, r2, r3], axis=0)\n"
   ]
  },
  {
   "cell_type": "code",
   "execution_count": 97,
   "metadata": {
    "ExecuteTime": {
     "end_time": "2016-08-30T18:14:57.029060",
     "start_time": "2016-08-30T18:14:57.011218"
    },
    "collapsed": false
   },
   "outputs": [
    {
     "name": "stdout",
     "output_type": "stream",
     "text": [
      "True\n"
     ]
    }
   ],
   "source": [
    "# verify the lengths of pieces all up to len of new data set\n",
    "print(r1.shape[0] + r2.shape[0] + r3.shape[0] == all_appcards.shape[0])"
   ]
  },
  {
   "cell_type": "code",
   "execution_count": 98,
   "metadata": {
    "ExecuteTime": {
     "end_time": "2016-08-30T18:14:57.462264",
     "start_time": "2016-08-30T18:14:57.442994"
    },
    "collapsed": true
   },
   "outputs": [],
   "source": [
    "# change all variable names to lowercase and insert _ instead of spaces\n",
    "def to_lower(str_var):\n",
    "    # lowercase, remove extraneous spaces, join with '_'\n",
    "    lower = str_var.lower()\n",
    "    return '_'.join(filter(None, lower.split(' ')))"
   ]
  },
  {
   "cell_type": "code",
   "execution_count": 99,
   "metadata": {
    "ExecuteTime": {
     "end_time": "2016-08-30T18:14:57.980875",
     "start_time": "2016-08-30T18:14:57.963496"
    },
    "collapsed": false
   },
   "outputs": [],
   "source": [
    "# apply column name cleaning fnc\n",
    "all_appcards.columns = map(to_lower, all_appcards.columns)"
   ]
  },
  {
   "cell_type": "code",
   "execution_count": 100,
   "metadata": {
    "ExecuteTime": {
     "end_time": "2016-08-30T18:15:30.271854",
     "start_time": "2016-08-30T18:15:30.239881"
    },
    "collapsed": true
   },
   "outputs": [],
   "source": [
    "# drop all rows with first, last name NA\n",
    "all_app_short = all_appcards.dropna(subset=['first_name', 'last_name'], how='all')"
   ]
  },
  {
   "cell_type": "code",
   "execution_count": 101,
   "metadata": {
    "ExecuteTime": {
     "end_time": "2016-08-30T18:15:31.652931",
     "start_time": "2016-08-30T18:15:31.634480"
    },
    "collapsed": true
   },
   "outputs": [],
   "source": [
    "def id_poorlyfmtdates(str_date):\n",
    "    try:\n",
    "        dt = pd.to_datetime(str_date, format='%m/%d/%Y')\n",
    "        return True\n",
    "    except (ValueError, AssertionError):\n",
    "        return False"
   ]
  },
  {
   "cell_type": "code",
   "execution_count": 102,
   "metadata": {
    "ExecuteTime": {
     "end_time": "2016-08-30T18:15:34.791869",
     "start_time": "2016-08-30T18:15:33.058130"
    },
    "collapsed": false
   },
   "outputs": [],
   "source": [
    "mask = all_app_short.application_date.apply(id_poorlyfmtdates)"
   ]
  },
  {
   "cell_type": "code",
   "execution_count": 103,
   "metadata": {
    "ExecuteTime": {
     "end_time": "2016-08-30T18:15:34.892380",
     "start_time": "2016-08-30T18:15:34.796597"
    },
    "collapsed": false
   },
   "outputs": [
    {
     "data": {
      "text/html": [
       "<div>\n",
       "<table border=\"1\" class=\"dataframe\">\n",
       "  <thead>\n",
       "    <tr style=\"text-align: right;\">\n",
       "      <th></th>\n",
       "      <th>address</th>\n",
       "      <th>age</th>\n",
       "      <th>application_date</th>\n",
       "      <th>associate_program_entered</th>\n",
       "      <th>bob</th>\n",
       "      <th>ca</th>\n",
       "      <th>cc</th>\n",
       "      <th>cord</th>\n",
       "      <th>citizenship</th>\n",
       "      <th>city</th>\n",
       "      <th>...</th>\n",
       "      <th>honor_societies_fourth</th>\n",
       "      <th>honor_societies_second</th>\n",
       "      <th>honor_societies_third</th>\n",
       "      <th>internship_hospital_1</th>\n",
       "      <th>internship_year(s)</th>\n",
       "      <th>last_name</th>\n",
       "      <th>medschool_year_grad</th>\n",
       "      <th>middle_name</th>\n",
       "      <th>reviewer</th>\n",
       "      <th>undergrad_year_grad</th>\n",
       "    </tr>\n",
       "  </thead>\n",
       "  <tbody>\n",
       "    <tr>\n",
       "      <th>681</th>\n",
       "      <td>158 Fox Meadow Rd.</td>\n",
       "      <td>NaN</td>\n",
       "      <td>3/31971</td>\n",
       "      <td>NaN</td>\n",
       "      <td>0.0</td>\n",
       "      <td>1</td>\n",
       "      <td>0.0</td>\n",
       "      <td>NaN</td>\n",
       "      <td>NaN</td>\n",
       "      <td>Scarsdale</td>\n",
       "      <td>...</td>\n",
       "      <td>PBK</td>\n",
       "      <td>AOA</td>\n",
       "      <td>Sigma XI</td>\n",
       "      <td>UNIVERSITY OF CALIFORNIA SAN FRANCISCO</td>\n",
       "      <td>1971-72</td>\n",
       "      <td>Clyman</td>\n",
       "      <td>1971</td>\n",
       "      <td>Ian</td>\n",
       "      <td>2</td>\n",
       "      <td>NaN</td>\n",
       "    </tr>\n",
       "    <tr>\n",
       "      <th>3317</th>\n",
       "      <td>600 Ford Ave.</td>\n",
       "      <td>NaN</td>\n",
       "      <td>41/8/1966</td>\n",
       "      <td>RA</td>\n",
       "      <td>0.0</td>\n",
       "      <td>1</td>\n",
       "      <td>0.0</td>\n",
       "      <td>1.0</td>\n",
       "      <td>US</td>\n",
       "      <td>Kingston</td>\n",
       "      <td>...</td>\n",
       "      <td>NaN</td>\n",
       "      <td>PBK</td>\n",
       "      <td>NaN</td>\n",
       "      <td>H LEE MOFFITT CANCER CTR &amp; RES INSTITUTE</td>\n",
       "      <td>1966-67</td>\n",
       "      <td>Siegel</td>\n",
       "      <td>1966</td>\n",
       "      <td>Charles</td>\n",
       "      <td>2</td>\n",
       "      <td>NaN</td>\n",
       "    </tr>\n",
       "  </tbody>\n",
       "</table>\n",
       "<p>2 rows × 67 columns</p>\n",
       "</div>"
      ],
      "text/plain": [
       "                 address  age application_date associate_program_entered  bob  \\\n",
       "681   158 Fox Meadow Rd.  NaN          3/31971                       NaN  0.0   \n",
       "3317       600 Ford Ave.  NaN        41/8/1966                        RA  0.0   \n",
       "\n",
       "     ca   cc  cord citizenship       city         ...           \\\n",
       "681   1  0.0   NaN         NaN  Scarsdale         ...            \n",
       "3317  1  0.0   1.0          US   Kingston         ...            \n",
       "\n",
       "      honor_societies_fourth  honor_societies_second honor_societies_third  \\\n",
       "681                      PBK                     AOA              Sigma XI   \n",
       "3317                     NaN                     PBK                   NaN   \n",
       "\n",
       "                         internship_hospital_1  internship_year(s) last_name  \\\n",
       "681     UNIVERSITY OF CALIFORNIA SAN FRANCISCO             1971-72    Clyman   \n",
       "3317  H LEE MOFFITT CANCER CTR & RES INSTITUTE             1966-67    Siegel   \n",
       "\n",
       "     medschool_year_grad middle_name reviewer  undergrad_year_grad  \n",
       "681                 1971         Ian        2                  NaN  \n",
       "3317                1966     Charles        2                  NaN  \n",
       "\n",
       "[2 rows x 67 columns]"
      ]
     },
     "execution_count": 103,
     "metadata": {},
     "output_type": "execute_result"
    }
   ],
   "source": [
    "all_app_short.loc[~mask, :]"
   ]
  },
  {
   "cell_type": "code",
   "execution_count": 104,
   "metadata": {
    "ExecuteTime": {
     "end_time": "2016-08-30T18:15:35.453109",
     "start_time": "2016-08-30T18:15:35.369894"
    },
    "collapsed": false
   },
   "outputs": [],
   "source": [
    "# change '3/31971 to 3/3/1971\n",
    "# change 41/8/1966 to 4/8/1966 \n",
    "all_app_short.loc[all_app_short.application_date=='3/31971', 'application_date'] = '3/3/1971'\n",
    "all_app_short.loc[all_app_short.application_date=='41/8/1966', 'application_date'] = '4/8/1966'"
   ]
  },
  {
   "cell_type": "code",
   "execution_count": 105,
   "metadata": {
    "ExecuteTime": {
     "end_time": "2016-08-30T18:15:38.565778",
     "start_time": "2016-08-30T18:15:37.176844"
    },
    "collapsed": false
   },
   "outputs": [],
   "source": [
    "# convert application date to date object\n",
    "all_app_short.loc[:, 'application_date_dt'] = all_app_short.loc[:, 'application_date'].apply(lambda x: pd.to_datetime(x, format='%m/%d/%Y'))"
   ]
  },
  {
   "cell_type": "code",
   "execution_count": 106,
   "metadata": {
    "ExecuteTime": {
     "end_time": "2016-08-30T18:15:51.353540",
     "start_time": "2016-08-30T18:15:50.239275"
    },
    "collapsed": false
   },
   "outputs": [],
   "source": [
    "# do the same date check for birth date columns\n",
    "bdate_mask = all_app_short.date_of_birth.apply(id_poorlyfmtdates)\n",
    "all_app_short.loc[~bdate_mask, ['first_name', 'last_name', 'date_of_birth']]\n",
    "all_app_short.loc[(\n",
    "        all_app_short.last_name=='Cook') & \n",
    "                  (all_app_short.middle_name=='James') & \n",
    "                  (all_app_short.first_name.isnull()), 'date_of_birth'] = '1/27/1940'"
   ]
  },
  {
   "cell_type": "code",
   "execution_count": 107,
   "metadata": {
    "ExecuteTime": {
     "end_time": "2016-08-30T18:15:51.373635",
     "start_time": "2016-08-30T18:15:51.356357"
    },
    "collapsed": false
   },
   "outputs": [],
   "source": [
    "# all_app_short.loc[all_app_short.last_name=='Cook', ['first_name', 'last_name', 'middle_name', 'address', 'age', 'date_of_birth']]"
   ]
  },
  {
   "cell_type": "code",
   "execution_count": 108,
   "metadata": {
    "ExecuteTime": {
     "end_time": "2016-08-30T18:15:52.448712",
     "start_time": "2016-08-30T18:15:52.409164"
    },
    "collapsed": true
   },
   "outputs": [],
   "source": [
    "# apply a basic string cleaning function to the names- removing all punctuation, changing to all uppercase\n",
    "\n",
    "def trans_remov_punc(to_change, change_to):\n",
    "    # removes specified punctuation using string maketrans (very fast, C lookups)\n",
    "    #returns partially evaluated fnc\n",
    "    trantab = string.maketrans(to_change, change_to)\n",
    "    return funcy.func_partial(lambda x: x.translate(trantab))\n",
    "\n",
    "\n",
    "def standardize_whitespace(pub_str):\n",
    "    return ' '.join(filter(None, pub_str.split(' ')))\n",
    "\n",
    "\n",
    "def remove_punc(pub_str):\n",
    "    # function to remove punctuation\n",
    "    nonelst = ' '*len(string.punctuation)\n",
    "    fn = trans_remov_punc(string.punctuation, nonelst)\n",
    "    new_str = fn(pub_str)\n",
    "    # standardize spaces\n",
    "    return standardize_whitespace(new_str)\n",
    "\n",
    "\n",
    "def clean_names(name):\n",
    "    # if name is missing, return null\n",
    "    if pd.isnull(name):\n",
    "        return np.nan\n",
    "    # uppercase \n",
    "    try:\n",
    "        upp = name.upper()\n",
    "        return remove_punc(upp)\n",
    "    except AttributeError:\n",
    "        # this should catch any other weird issues, like floats, unicode etc\n",
    "        print name\n",
    "        return None\n"
   ]
  },
  {
   "cell_type": "code",
   "execution_count": 109,
   "metadata": {
    "ExecuteTime": {
     "end_time": "2016-08-30T18:15:53.918864",
     "start_time": "2016-08-30T18:15:53.508404"
    },
    "collapsed": false
   },
   "outputs": [],
   "source": [
    "for n in NAMES:\n",
    "    all_app_short.loc[:, 'clean_{}'.format(n)] = all_app_short.loc[:, n].apply(clean_names)"
   ]
  },
  {
   "cell_type": "code",
   "execution_count": 110,
   "metadata": {
    "collapsed": true
   },
   "outputs": [],
   "source": [
    "# pull off suffix in some last names into seperate column\n",
    "def has_suffix(raw_last_name):\n",
    "    # a boolean fnc to identify which rows may have a suffix\n",
    "    last_lst = raw_last_name.split(' ')\n",
    "    if len(last_lst) == 1:\n",
    "        # if no white spaces in last name, only 1 word, so no suffix\n",
    "        return False\n",
    "    suffixes = ['JR', 'SR', 'I', 'II', 'III', 'IV', 'V', 'VI']\n",
    "    # want to differentiate between suffix (JR, SR, I, II, III, IV, V) between last names with multiple parts (ex. st john)\n",
    "    # check if last word in list\n",
    "    return (last_lst[-1] in suffixes)"
   ]
  },
  {
   "cell_type": "code",
   "execution_count": 111,
   "metadata": {
    "collapsed": true
   },
   "outputs": [],
   "source": [
    "def get_suffix(clean_last_name):\n",
    "    # this assumes the fnc will only be applied to rows id as those with a suffix\n",
    "    return clean_last_name.split(' ')[-1]"
   ]
  },
  {
   "cell_type": "code",
   "execution_count": 112,
   "metadata": {
    "collapsed": false
   },
   "outputs": [],
   "source": [
    "def remove_suffix_from_last_name(last_name_raw):\n",
    "    non_suffix = last_name_raw.split(' ')[:-1]\n",
    "    return ' '.join(non_suffix)"
   ]
  },
  {
   "cell_type": "code",
   "execution_count": 113,
   "metadata": {
    "collapsed": false
   },
   "outputs": [],
   "source": [
    "suffix_mask = all_app_short.clean_last_name.apply(has_suffix)\n",
    "# all_app_short.loc[suffix_mask, ['clean_last_name', 'clean_first_name', 'clean_middle_name']]"
   ]
  },
  {
   "cell_type": "code",
   "execution_count": 114,
   "metadata": {
    "collapsed": false
   },
   "outputs": [],
   "source": [
    "# for those last names that seem to have a suffix, pull into seperate column and keep everything last word of last name\n",
    "all_app_short.loc[suffix_mask, 'clean_suffix'] = all_app_short.loc[suffix_mask, 'clean_last_name'].apply(get_suffix)\n",
    "all_app_short.loc[suffix_mask, 'clean_last_name'] = all_app_short.loc[suffix_mask, 'clean_last_name'].apply(remove_suffix_from_last_name)"
   ]
  },
  {
   "cell_type": "code",
   "execution_count": 115,
   "metadata": {
    "collapsed": true
   },
   "outputs": [],
   "source": [
    "# some first names also contain some honors such as 'Pfizer Award' or 'Honor Society'\n",
    "# these should be pulled into the honors and awards columns\n",
    "def has_award(raw_name):\n",
    "    # if the first name has honor or award it it, return True\n",
    "    if pd.isnull(raw_name):\n",
    "        return False\n",
    "    return any(map(lambda x: x in raw_name, AWARDS_KEYWORDS))"
   ]
  },
  {
   "cell_type": "code",
   "execution_count": 116,
   "metadata": {
    "collapsed": false
   },
   "outputs": [
    {
     "name": "stdout",
     "output_type": "stream",
     "text": [
      "['honor_societies_first', 'honor_societies_fourth', 'honor_societies_second', 'honor_societies_third']\n"
     ]
    }
   ],
   "source": [
    "# get a list of all the med school honors columns\n",
    "honors_columns = [c for c in all_app_short.columns if 'honor' in c]\n",
    "print honors_columns\n",
    "\n",
    "has_award_mask = all_app_short['clean_first_name'].apply(has_award)\n",
    "\n",
    "all_app_short.loc[has_award_mask, 'extra_honor'] = all_app_short.loc[has_award_mask, 'clean_first_name']"
   ]
  },
  {
   "cell_type": "code",
   "execution_count": 117,
   "metadata": {
    "collapsed": false
   },
   "outputs": [
    {
     "data": {
      "text/html": [
       "<div>\n",
       "<table border=\"1\" class=\"dataframe\">\n",
       "  <thead>\n",
       "    <tr style=\"text-align: right;\">\n",
       "      <th></th>\n",
       "      <th>honor_societies_first</th>\n",
       "      <th>honor_societies_fourth</th>\n",
       "      <th>honor_societies_second</th>\n",
       "      <th>honor_societies_third</th>\n",
       "    </tr>\n",
       "  </thead>\n",
       "  <tbody>\n",
       "  </tbody>\n",
       "</table>\n",
       "</div>"
      ],
      "text/plain": [
       "Empty DataFrame\n",
       "Columns: [honor_societies_first, honor_societies_fourth, honor_societies_second, honor_societies_third]\n",
       "Index: []"
      ]
     },
     "execution_count": 117,
     "metadata": {},
     "output_type": "execute_result"
    }
   ],
   "source": [
    "# create column mask for each row where one of the honors columns is blank\n",
    "for hc in honors_columns:\n",
    "    hc_mask = (has_award_mask) & (pd.isnull(all_app_short[hc]))\n",
    "    all_app_short.loc[hc_mask, hc] = all_app_short.loc[hc_mask, 'extra_honor']\n",
    "# check for any columns that already have full honors and cant be filled\n",
    "all_app_short.loc[hc_mask, honors_columns].dropna(how='any')"
   ]
  },
  {
   "cell_type": "code",
   "execution_count": 118,
   "metadata": {
    "collapsed": false
   },
   "outputs": [],
   "source": [
    "# drop extra honor columns\n",
    "all_app_short2 = all_app_short.drop('extra_honor', axis=1)"
   ]
  },
  {
   "cell_type": "code",
   "execution_count": 119,
   "metadata": {
    "collapsed": true
   },
   "outputs": [],
   "source": [
    "# replace those honors first names with np.nan\n",
    "all_app_short2.loc[hc_mask, 'clean_first_name'] = np.nan"
   ]
  },
  {
   "cell_type": "code",
   "execution_count": 146,
   "metadata": {
    "collapsed": false
   },
   "outputs": [],
   "source": [
    "m = re.search(r'\\d{4}-\\d{2,4}', '1972-74')"
   ]
  },
  {
   "cell_type": "code",
   "execution_count": 149,
   "metadata": {
    "collapsed": true
   },
   "outputs": [],
   "source": [
    "def is_year_range(med_school_str):\n",
    "    # check if a year range coded into the med school columns 1972-73\n",
    "    if pd.isnull(med_school_str):\n",
    "        return False\n",
    "    if re.search(r'\\d{4}-\\d{2,4}', med_school_str) is not None:\n",
    "        return True"
   ]
  },
  {
   "cell_type": "code",
   "execution_count": 151,
   "metadata": {
    "collapsed": false
   },
   "outputs": [
    {
     "data": {
      "text/plain": [
       "1.0"
      ]
     },
     "execution_count": 151,
     "metadata": {},
     "output_type": "execute_result"
    }
   ],
   "source": [
    "difflib.SequenceMatcher(None, 'QUICKLY', 'QUICKLY').ratio()"
   ]
  },
  {
   "cell_type": "code",
   "execution_count": 162,
   "metadata": {
    "collapsed": true
   },
   "outputs": [],
   "source": [
    "def str_sim(row):\n",
    "    med_school = row['medical_school']\n",
    "    last = row['clean_last_name']\n",
    "    if pd.isnull(med_school) and pd.isnull(last):\n",
    "        return 0\n",
    "    if isinstance(med_school, float):\n",
    "        return 0\n",
    "    upp_med_school = clean_names(med_school)\n",
    "    res = difflib.SequenceMatcher(None, last, upp_med_school).ratio()\n",
    "    return res"
   ]
  },
  {
   "cell_type": "code",
   "execution_count": 163,
   "metadata": {
    "collapsed": false
   },
   "outputs": [],
   "source": [
    "# for those columns where med school is equal to last name or med_school is a year range, delete\n",
    "all_app_short2.loc[:, 'school_name_sim'] = all_app_short2.loc[:, ['clean_last_name', 'medical_school']].apply(str_sim, axis=1)"
   ]
  },
  {
   "cell_type": "code",
   "execution_count": 167,
   "metadata": {
    "collapsed": false
   },
   "outputs": [
    {
     "data": {
      "text/html": [
       "<div>\n",
       "<table border=\"1\" class=\"dataframe\">\n",
       "  <thead>\n",
       "    <tr style=\"text-align: right;\">\n",
       "      <th></th>\n",
       "      <th>address</th>\n",
       "      <th>age</th>\n",
       "      <th>application_date</th>\n",
       "      <th>associate_program_entered</th>\n",
       "      <th>bob</th>\n",
       "      <th>ca</th>\n",
       "      <th>cc</th>\n",
       "      <th>cord</th>\n",
       "      <th>citizenship</th>\n",
       "      <th>city</th>\n",
       "      <th>...</th>\n",
       "      <th>medschool_year_grad</th>\n",
       "      <th>middle_name</th>\n",
       "      <th>reviewer</th>\n",
       "      <th>undergrad_year_grad</th>\n",
       "      <th>application_date_dt</th>\n",
       "      <th>clean_first_name</th>\n",
       "      <th>clean_middle_name</th>\n",
       "      <th>clean_last_name</th>\n",
       "      <th>clean_suffix</th>\n",
       "      <th>school_name_sim</th>\n",
       "    </tr>\n",
       "  </thead>\n",
       "  <tbody>\n",
       "  </tbody>\n",
       "</table>\n",
       "<p>0 rows × 73 columns</p>\n",
       "</div>"
      ],
      "text/plain": [
       "Empty DataFrame\n",
       "Columns: [address, age, application_date, associate_program_entered, bob, ca, cc, cord, citizenship, city, clinical, dbs, daniel's_comments, date_of_birth, fifth, ic, internship_hospital_1, internship_year(s), medical_school, nci, nei, nhi, nhli, niaid, niamd, niamdd, nichd, nichhd, nidr, niehs, nigms, nimh, nindb, ninds, oir, other, pi, pharm_ra, ra, rejected, rejection_date, research, residency_hospital, residency_type, residency_year(s), sa, sixth, state, teaching, undergraduate_school, unnamed:_59, unnamed:_61, withdrawal, year_accepted, zip_code, first_name, honor_societies_first, honor_societies_fourth, honor_societies_second, honor_societies_third, internship_hospital_1, internship_year(s), last_name, medschool_year_grad, middle_name, reviewer, undergrad_year_grad, application_date_dt, clean_first_name, clean_middle_name, clean_last_name, clean_suffix, school_name_sim]\n",
       "Index: []\n",
       "\n",
       "[0 rows x 73 columns]"
      ]
     },
     "execution_count": 167,
     "metadata": {},
     "output_type": "execute_result"
    }
   ],
   "source": [
    "all_app_short2.loc[all_app_short2.school_name_sim > .6, :]"
   ]
  },
  {
   "cell_type": "code",
   "execution_count": 165,
   "metadata": {
    "collapsed": false
   },
   "outputs": [
    {
     "data": {
      "text/html": [
       "<div>\n",
       "<table border=\"1\" class=\"dataframe\">\n",
       "  <thead>\n",
       "    <tr style=\"text-align: right;\">\n",
       "      <th></th>\n",
       "      <th>clean_last_name</th>\n",
       "      <th>medical_school</th>\n",
       "      <th>school_name_sim</th>\n",
       "    </tr>\n",
       "  </thead>\n",
       "  <tbody>\n",
       "    <tr>\n",
       "      <th>1237</th>\n",
       "      <td>GRIBBLE</td>\n",
       "      <td>Stanford University School of Medicine</td>\n",
       "      <td>0.177778</td>\n",
       "    </tr>\n",
       "    <tr>\n",
       "      <th>1238</th>\n",
       "      <td>GRIBBLE</td>\n",
       "      <td>Stanford University School of Medicine</td>\n",
       "      <td>0.177778</td>\n",
       "    </tr>\n",
       "    <tr>\n",
       "      <th>1203</th>\n",
       "      <td>GRIBBLE</td>\n",
       "      <td>Stanford University School of Medicine</td>\n",
       "      <td>0.177778</td>\n",
       "    </tr>\n",
       "  </tbody>\n",
       "</table>\n",
       "</div>"
      ],
      "text/plain": [
       "     clean_last_name                          medical_school  school_name_sim\n",
       "1237         GRIBBLE  Stanford University School of Medicine         0.177778\n",
       "1238         GRIBBLE  Stanford University School of Medicine         0.177778\n",
       "1203         GRIBBLE  Stanford University School of Medicine         0.177778"
      ]
     },
     "execution_count": 165,
     "metadata": {},
     "output_type": "execute_result"
    }
   ],
   "source": [
    "all_app_short2.loc[all_app_short2.clean_last_name=='GRIBBLE', ['clean_last_name', 'medical_school', 'school_name_sim']]"
   ]
  },
  {
   "cell_type": "code",
   "execution_count": 48,
   "metadata": {
    "ExecuteTime": {
     "end_time": "2016-08-30T18:15:54.813498",
     "start_time": "2016-08-30T18:15:54.796444"
    },
    "collapsed": false
   },
   "outputs": [],
   "source": [
    "# look at all the unique med school\n",
    "# sorted(all_app_short.medical_school.unique())"
   ]
  },
  {
   "cell_type": "code",
   "execution_count": 168,
   "metadata": {
    "ExecuteTime": {
     "end_time": "2016-08-30T18:15:55.593600",
     "start_time": "2016-08-30T18:15:55.485782"
    },
    "collapsed": true
   },
   "outputs": [],
   "source": [
    "all_app_short2.loc[:, 'clean_college'] = all_app_short2.undergraduate_school.apply(clean_names)"
   ]
  },
  {
   "cell_type": "code",
   "execution_count": 169,
   "metadata": {
    "ExecuteTime": {
     "end_time": "2016-08-30T18:15:56.856141",
     "start_time": "2016-08-30T18:15:56.807289"
    },
    "collapsed": true
   },
   "outputs": [],
   "source": [
    "# college name standardization fnc\n",
    "def clean_std_college_name(college_raw):\n",
    "# need to change 'college to university' unless Boston college or BU remove ANDS, AT, THE expand UCLA to UCAL, UC Davis etc.\n",
    "# remove mispellings 'collge', UNIVERWSITY, MASSACHUSSETTS \n",
    "# RENSSELAER UNIVERSITY and RENSSELAER POLYTECHNICAL INSTITUTE to RENSSELAER POLYTECHNIC INSTITUTE\n",
    "# JOHN HOPKINS UNIVERSITY to JOHNS\n",
    "# HOLY CROSS COLLEGE to HOLY CROSS\n",
    "# FRANKLIN MARSHALL COLLEGE' to FRANKLIN MARSHALL\n",
    "# DE PAUW to DEPAUW\n",
    "# ASBURY ASHBURY \n",
    "# DREXEL INSTITUTE OF TECHNOLOGY to DREXEL UNIVERSITY\n",
    "# A B BROWN UNIVERSITY to Brown\n",
    "# DARTMOUTH MEDICAL SCHOOL to Dartmouth\n",
    "# remove random 1961 at the end of strings, (anything after university unless univ is the first word)\n",
    "    if pd.isnull(college_raw):\n",
    "        return np.nan\n",
    "    # if AT or AND or THE, remove\n",
    "    to_remove = [\n",
    "        ' AND ', ' AT ', 'THE ', ' COLLGE', 'UNIVERISTY', 'UNIVERWSITY', 'MASSACHUSSETTS', 'JOHN ', 'DE PAUW', 'ASBURY', \n",
    "    'DREXEL INSTITUTE OF TECHNOLOGY', 'A B BROWN UNIVERSITY', 'DARTMOUTH MEDICAL SCHOOL', 'RENSSELAER UNIVERSITY', \n",
    "    'RENSSELAER POLYTECHNICAL INSTITUTE', ' STE', 'COLLEGE OF HOLY CROSS', 'HOLLY CROSS', 'JOHNSS ',  'BERKLEY',\n",
    "    'UC ', 'PITTSBURRGH', 'WESLYN', 'WILLAMS', 'GEORGIA TECH', 'NEW YORK UNIVERSITY UNIV', \n",
    "    'UNIVERSITY OF MICHIGAN IS A', 'OHIO', 'STATE UNIVERSITY OF NEW YORK AT BUFFALO']\n",
    "    to_replace = [\n",
    "        ' ', ' ', ' ', ' COLLEGE', 'UNIVERSITY', 'UNIVERSITY', 'MASSACHUSETTS', 'JOHNS ', 'DEPAUW', 'ASHBURY',\n",
    "        'DREXEL UNIVERSITY', 'BROWN UNIVERSITY', 'DARTMOUTH', 'RENSSELAER POLYTECHNIC INSTITUTE', \n",
    "        'RENSSELAER POLYTECHNIC INSTITUTE', ' STATE', 'HOLY CROSS', 'HOLY CROSS', 'JOHNS ', \n",
    "        ' BERKELEY', 'UNIVERSITY OF CALIFORNIA ', 'PITTSBURGH', 'WESLEYAN', 'WILLIAMS', \n",
    "        'GEORGIA INSTITUTE OF TECHNOLOGY', 'NEW YORK', 'UNIVERSITY OF MICHIGAN', 'OHIO STATE', 'SUNY BUFFALO']\n",
    "    word_pairs = zip(to_remove, to_replace)\n",
    "    # list of words to replace\n",
    "    words_in_str = filter(lambda (x, y): x in college_raw, word_pairs)\n",
    "    trans_word = college_raw\n",
    "    for to_remove_wrd, to_replace_wrd in words_in_str:\n",
    "        trans_word = trans_word.replace(to_remove_wrd, to_replace_wrd)\n",
    "        \n",
    "    # after replacing the mispellings and removing and/at, remove everything after college/university\n",
    "    if 'BOSTON' in trans_word:\n",
    "        # then this string is BC or BU, so just return string\n",
    "        return trans_word\n",
    "    if trans_word.find('UNIVESITY ') == 0:\n",
    "        return trans_word\n",
    "    split_wrd = ' UNIVERSITY'\n",
    "    if 'COLLEGE' in trans_word:\n",
    "        split_wrd = ' COLLEGE'\n",
    "    base_word = trans_word.split(split_wrd)[0]\n",
    "    return standardize_whitespace(base_word)\n",
    "    "
   ]
  },
  {
   "cell_type": "code",
   "execution_count": 170,
   "metadata": {
    "ExecuteTime": {
     "end_time": "2016-08-30T18:15:58.474904",
     "start_time": "2016-08-30T18:15:58.351195"
    },
    "collapsed": false
   },
   "outputs": [],
   "source": [
    "# make college mispelling and different reference translation table\n",
    "all_app_short2.loc[:, 'clean_college_trans'] = all_app_short2.clean_college.apply(clean_std_college_name)"
   ]
  },
  {
   "cell_type": "code",
   "execution_count": 171,
   "metadata": {
    "ExecuteTime": {
     "end_time": "2016-08-30T18:16:13.814481",
     "start_time": "2016-08-30T18:16:13.730411"
    },
    "collapsed": false
   },
   "outputs": [],
   "source": [
    "# need to convert undergrad_year_grad and med_school_grad to numbers to maintain consistence\n",
    "all_app_short2.loc[:, ['undergrad_year_grad', 'medschool_year_grad']] = all_app_short2.loc[:, ['undergrad_year_grad', 'medschool_year_grad']].apply(\n",
    "    lambda x: pd.to_numeric(x, errors='coerce'))"
   ]
  },
  {
   "cell_type": "code",
   "execution_count": 172,
   "metadata": {
    "ExecuteTime": {
     "end_time": "2016-08-30T18:16:15.418449",
     "start_time": "2016-08-30T18:16:15.374145"
    },
    "collapsed": false
   },
   "outputs": [],
   "source": [
    "# now, sort by names, med school, undergrad school, \n",
    "all_app_shorted = all_app_short2.sort_values(by=PERSONAL_INFO)"
   ]
  },
  {
   "cell_type": "code",
   "execution_count": 173,
   "metadata": {
    "ExecuteTime": {
     "end_time": "2016-08-30T18:16:16.244143",
     "start_time": "2016-08-30T18:16:16.224352"
    },
    "collapsed": false
   },
   "outputs": [],
   "source": [
    "all_app_grouped = all_app_shorted.groupby(['clean_last_name', 'application_date_dt'])"
   ]
  },
  {
   "cell_type": "code",
   "execution_count": 174,
   "metadata": {
    "ExecuteTime": {
     "end_time": "2016-08-30T18:16:31.556848",
     "start_time": "2016-08-30T18:16:31.294196"
    },
    "collapsed": false
   },
   "outputs": [],
   "source": [
    "# convert ca column to float62\n",
    "all_app_shorted.loc[:, 'ca'] = all_app_shorted.loc[:, 'ca'].apply(lambda x: pd.to_numeric(x, errors='coerce'))"
   ]
  },
  {
   "cell_type": "code",
   "execution_count": 175,
   "metadata": {
    "ExecuteTime": {
     "end_time": "2016-08-31T11:15:01.583695",
     "start_time": "2016-08-31T11:15:01.480566"
    },
    "collapsed": false
   },
   "outputs": [],
   "source": [
    "def sorting_fnc(v):\n",
    "    # if string entry, sort by length, otherwise return value\n",
    "    if isinstance(v, str):\n",
    "        return len(v)\n",
    "    return v\n",
    "\n",
    "def consolidate_holes(df_col):\n",
    "    # for each dataframe of info on one person/application year pair, consolidate info\n",
    "    # drop null values, get unique and take longest by string length or first numeric value\n",
    "    # all dataframes are coming in with reviewer 2 on top, who seems to be more accurate\n",
    "    # so take that answer if possible\n",
    "    lst_vals = list(df_col.dropna().unique())\n",
    "    if len(lst_vals) == 0:\n",
    "        return np.nan\n",
    "    if isinstance(lst_vals[0], str):\n",
    "        lst_vals = sorted(lst_vals, key=sorting_fnc, reverse=True)\n",
    "    return lst_vals[0]\n",
    "\n",
    "def stringify_personal_info(df_row):\n",
    "    # accepts a series, returns a list object\n",
    "    val_series = df_row[['clean_first_name', 'clean_middle_name', \n",
    "                        'clean_last_name', 'clean_college_trans', 'medical_school', 'date_of_birth']]\n",
    "    str_vals = [str(v) for v in val_series]\n",
    "    return '_'.join(str_vals)\n",
    "\n",
    "\n",
    "def add_sanity_check_row(df, vals=None):\n",
    "    if vals is None:\n",
    "        df.loc[:, 'sanity_check'] = np.nan\n",
    "    else:\n",
    "        df.loc[:, 'sanity_check'] = vals\n",
    "    return df\n",
    "\n",
    "\n",
    "def format_consolidated_data(df):\n",
    "    # applies consolidate fnc to dataframe, converts it into a df that can be merged\n",
    "    # sort df so reviewer 2 is on top\n",
    "    df_sort = df.sort_values(by=['reviewer'], ascending=False)\n",
    "    vals = map(lambda x: stringify_personal_info(df_sort.loc[x, :]), df_sort.index)\n",
    "    d2_series = df_sort.apply(consolidate_holes)\n",
    "    df_trans = pd.DataFrame(d2_series).T\n",
    "    # create a column that compares string values in another column\n",
    "    sanity_checks = '\\n'.join(vals)\n",
    "    return add_sanity_check_row(df_trans, sanity_checks)"
   ]
  },
  {
   "cell_type": "code",
   "execution_count": 177,
   "metadata": {
    "collapsed": false
   },
   "outputs": [
    {
     "data": {
      "text/html": [
       "<div>\n",
       "<table border=\"1\" class=\"dataframe\">\n",
       "  <thead>\n",
       "    <tr style=\"text-align: right;\">\n",
       "      <th></th>\n",
       "      <th>medical_school</th>\n",
       "    </tr>\n",
       "  </thead>\n",
       "  <tbody>\n",
       "    <tr>\n",
       "      <th>1685</th>\n",
       "      <td>Indiana University School of Medicine</td>\n",
       "    </tr>\n",
       "    <tr>\n",
       "      <th>1709</th>\n",
       "      <td>Indiana University School of Medicine</td>\n",
       "    </tr>\n",
       "  </tbody>\n",
       "</table>\n",
       "</div>"
      ],
      "text/plain": [
       "                             medical_school\n",
       "1685  Indiana University School of Medicine\n",
       "1709  Indiana University School of Medicine"
      ]
     },
     "execution_count": 177,
     "metadata": {},
     "output_type": "execute_result"
    }
   ],
   "source": [
    "all_app_short2.loc[all_app_short2.clean_last_name=='HASELBY', ['medical_school']]"
   ]
  },
  {
   "cell_type": "code",
   "execution_count": 178,
   "metadata": {
    "ExecuteTime": {
     "end_time": "2016-08-31T11:15:57.034916",
     "start_time": "2016-08-31T11:15:56.817345"
    },
    "collapsed": false
   },
   "outputs": [],
   "source": [
    "def consolidate_candidate(candidate_df):\n",
    "    # for each dataframe, with a common last name and application date, seperate into unique candidate pairs\n",
    "    # easiest case, if 2 rows, 1 from reviewer 1 and 2, then consolidate\n",
    "    df_len = candidate_df.shape[0]\n",
    "    if df_len < 2:\n",
    "        # if only 1 row in data group, return row\n",
    "        return add_sanity_check_row(candidate_df)\n",
    "    unique_first_names = candidate_df['clean_first_name'].dropna().unique()\n",
    "    unique_undergrad = candidate_df['undergrad_year_grad'].dropna().unique()\n",
    "    unique_college = candidate_df['clean_college_trans'].dropna().unique()\n",
    "    if (len(unique_first_names) < 2 and len(unique_undergrad) < 2) or (len(unique_first_names) < 2 and len(unique_college) < 2):\n",
    "        # if unique first names < 2 and < 2 diff years of undergrad OR \n",
    "        # unique first names < 2 and <2 unique college names\n",
    "        # most likely this is the same person\n",
    "        res = format_consolidated_data(candidate_df)\n",
    "        return res\n",
    "    # otherwise there are more than 1 person to combine\n",
    "    if len(unique_first_names) >= 2:\n",
    "        # if there are 2 or more different first names, try to group by first and last name\n",
    "        # and then analyze each group seperately\n",
    "        print candidate_df['clean_last_name']\n",
    "        print candidate_df['application_date']\n",
    "        new_grped = candidate_df.groupby(['clean_first_name', 'clean_last_name'])\n",
    "        print 'group by first name'\n",
    "        res = map(lambda (x, y): format_consolidated_data(y), new_grped)\n",
    "        res2 = pd.concat(res)\n",
    "        return res2 \n",
    "    if len(unique_college) >= 2:\n",
    "        # if two different colleges, try to group by last name and college name\n",
    "        print 'group by college name'\n",
    "        print candidate_df\n",
    "        new_grped = candidate_df.groupby(['clean_first_name', 'clean_college_trans'])\n",
    "        res = map(lambda (x, y): format_consolidated_data(y), new_grped)\n",
    "        res2 = pd.concat(res)\n",
    "        return res2 \n",
    "    # otherise this is an edge case\n",
    "    # otherwise, although the person doesn't match on unique first and undergrad years, they are still most likely one \n",
    "    # person\n",
    "    print candidate_df\n",
    "    print 'Hitting a bad edge case'\n",
    "    raise AttributeError('Hitting a Bad Edge Case')\n",
    "    return None"
   ]
  },
  {
   "cell_type": "code",
   "execution_count": 179,
   "metadata": {
    "ExecuteTime": {
     "end_time": "2016-08-31T11:21:07.209429",
     "start_time": "2016-08-31T11:16:03.802173"
    },
    "collapsed": false
   },
   "outputs": [
    {
     "name": "stdout",
     "output_type": "stream",
     "text": [
      "105    ANDERSON\n",
      "106    ANDERSON\n",
      "104    ANDERSON\n",
      "105    ANDERSON\n",
      "Name: clean_last_name, dtype: object\n",
      "105    6/10/1971\n",
      "106    6/10/1971\n",
      "104    6/10/1971\n",
      "105    6/10/1971\n",
      "Name: application_date, dtype: object\n",
      "group by first name\n",
      "206    BANTA\n",
      "203    BANTA\n",
      "Name: clean_last_name, dtype: object\n",
      "206    3/19/1963\n",
      "203    3/19/1963\n",
      "Name: application_date, dtype: object\n",
      "group by first name\n",
      "247    BLASS\n",
      "251    BLASS\n",
      "Name: clean_last_name, dtype: object\n",
      "247    4/13/1965\n",
      "251    4/13/1965\n",
      "Name: application_date, dtype: object\n",
      "group by first name\n",
      "297    BRENSIKE\n",
      "293    BRENSIKE\n",
      "Name: clean_last_name, dtype: object\n",
      "297    3/23/1967\n",
      "293    3/23/1967\n",
      "Name: application_date, dtype: object\n",
      "group by first name\n",
      "729    COHEN\n",
      "713    COHEN\n",
      "Name: clean_last_name, dtype: object\n",
      "729    1/25/1972\n",
      "713    1/25/1972\n",
      "Name: application_date, dtype: object\n",
      "group by first name\n",
      "820    DICKLER\n",
      "800    DICKLER\n",
      "Name: clean_last_name, dtype: object\n",
      "820    3/18/1968\n",
      "800    3/18/1968\n",
      "Name: application_date, dtype: object\n",
      "group by first name\n",
      "752    DRACHMAN\n",
      "753    DRACHMAN\n",
      "772    DRACHMAN\n",
      "771    DRACHMAN\n",
      "Name: clean_last_name, dtype: object\n",
      "752    11/1/1958\n",
      "753    11/1/1958\n",
      "772    11/1/1958\n",
      "771    11/1/1958\n",
      "Name: application_date, dtype: object\n",
      "group by first name\n",
      "1214    GALLO\n",
      "1179    GALLO\n",
      "Name: clean_last_name, dtype: object\n",
      "1214    6/3/1963\n",
      "1179    6/3/1963\n",
      "Name: application_date, dtype: object\n",
      "group by first name\n",
      "1344    GARDNER\n",
      "1345    GARDNER\n",
      "1380    GARDNER\n",
      "1381    GARDNER\n",
      "Name: clean_last_name, dtype: object\n",
      "1344    4/1/1971\n",
      "1345    4/1/1971\n",
      "1380    4/1/1971\n",
      "1381    4/1/1971\n",
      "Name: application_date, dtype: object\n",
      "group by first name\n",
      "1214    GOLDSTEIN\n",
      "1215    GOLDSTEIN\n",
      "1250    GOLDSTEIN\n",
      "1249    GOLDSTEIN\n",
      "Name: clean_last_name, dtype: object\n",
      "1214    1/1/1965\n",
      "1215    1/1/1965\n",
      "1250    1/1/1965\n",
      "1249    1/1/1965\n",
      "Name: application_date, dtype: object\n",
      "group by first name\n",
      "group by college name\n",
      "               address  age application_date associate_program_entered  bob  \\\n",
      "1639     17 Laurel St.  NaN        2/28/1971                       NaN  0.0   \n",
      "1683  17 Laurel Street  NaN        2/28/1971                       NaN  0.0   \n",
      "\n",
      "       ca   cc  cord citizenship     city         ...           reviewer  \\\n",
      "1639  0.0  0.0   NaN         NaN  Whitman         ...                  2   \n",
      "1683  NaN  0.0   NaN         NaN  Whitman         ...                  1   \n",
      "\n",
      "      undergrad_year_grad application_date_dt clean_first_name  \\\n",
      "1639               1969.0          1971-02-28        COURTLAND   \n",
      "1683               1966.0          1971-02-28              NaN   \n",
      "\n",
      "      clean_middle_name clean_last_name clean_suffix school_name_sim  \\\n",
      "1639           LAWRENCE          HARLOW           JR        0.142857   \n",
      "1683           LAWRENCE          HARLOW           JR        0.142857   \n",
      "\n",
      "                     clean_college  clean_college_trans  \n",
      "1639      DARTMOUTH MEDICAL SCHOOL            DARTMOUTH  \n",
      "1683  BRIDGEWATER STATE UNIVERSITY    BRIDGEWATER STATE  \n",
      "\n",
      "[2 rows x 75 columns]\n",
      "1938    KAHN\n",
      "1894    KAHN\n",
      "Name: clean_last_name, dtype: object\n",
      "1938    3/30/1968\n",
      "1894    3/30/1968\n",
      "Name: application_date, dtype: object\n",
      "group by first name\n",
      "1972    KLEIN\n",
      "1975    KLEIN\n",
      "2026    KLEIN\n",
      "2023    KLEIN\n",
      "Name: clean_last_name, dtype: object\n",
      "1972    4/1/1971\n",
      "1975    4/1/1971\n",
      "2026    4/1/1971\n",
      "2023    4/1/1971\n",
      "Name: application_date, dtype: object\n",
      "group by first name\n",
      "2294    LAWLEY\n",
      "2233    LAWLEY\n",
      "Name: clean_last_name, dtype: object\n",
      "2294    2/8/1972\n",
      "2233    2/8/1972\n",
      "Name: application_date, dtype: object\n",
      "group by first name\n",
      "2399    MILLER\n",
      "2400    MILLER\n",
      "2462    MILLER\n",
      "2461    MILLER\n",
      "Name: clean_last_name, dtype: object\n",
      "2399    4/5/1967\n",
      "2400    4/5/1967\n",
      "2462    4/5/1967\n",
      "2461    4/5/1967\n",
      "Name: application_date, dtype: object\n",
      "group by first name\n",
      "2764    OREN\n",
      "2696    OREN\n",
      "Name: clean_last_name, dtype: object\n",
      "2764    2/14/1966\n",
      "2696    2/14/1966\n",
      "Name: application_date, dtype: object\n",
      "group by first name\n",
      "2879    PETERLIN\n",
      "2957    PETERLIN\n",
      "Name: clean_last_name, dtype: object\n",
      "2879    2/7/1972\n",
      "2957    2/7/1972\n",
      "Name: application_date, dtype: object\n",
      "group by first name\n",
      "2987    REYNOLDS\n",
      "3068    REYNOLDS\n",
      "Name: clean_last_name, dtype: object\n",
      "2987    5/6/1965\n",
      "3068    5/6/1965\n",
      "Name: application_date, dtype: object\n",
      "group by first name\n",
      "2967    RICHTER\n",
      "3048    RICHTER\n",
      "Name: clean_last_name, dtype: object\n",
      "2967    6/13/1963\n",
      "3048    6/13/1963\n",
      "Name: application_date, dtype: object\n",
      "group by first name\n",
      "3078    RIDDICK\n",
      "2997    RIDDICK\n",
      "Name: clean_last_name, dtype: object\n",
      "3078    3/25/1966\n",
      "2997    3/25/1966\n",
      "Name: application_date, dtype: object\n",
      "group by first name\n",
      "3090    ROBINSON\n",
      "3091    ROBINSON\n",
      "3175    ROBINSON\n",
      "3176    ROBINSON\n",
      "Name: clean_last_name, dtype: object\n",
      "3090    4/1/1971\n",
      "3091    4/1/1971\n",
      "3175    4/1/1971\n",
      "3176    4/1/1971\n",
      "Name: application_date, dtype: object\n",
      "group by first name\n",
      "2991    ROTH\n",
      "2992    ROTH\n",
      "3073    ROTH\n",
      "3072    ROTH\n",
      "Name: clean_last_name, dtype: object\n",
      "2991    5/3/1965\n",
      "2992    5/3/1965\n",
      "3073    5/3/1965\n",
      "3072    5/3/1965\n",
      "Name: application_date, dtype: object\n",
      "group by first name\n",
      "group by college name\n",
      "           address  age application_date associate_program_entered  bob   ca  \\\n",
      "3329      Box 637   NaN        4/21/1967                        CA  0.0  1.0   \n",
      "3415  P.O. Box 673  NaN        4/21/1967                        CA  0.0  1.0   \n",
      "\n",
      "       cc  cord citizenship       city         ...           reviewer  \\\n",
      "3329  0.0   1.0         NaN  Woodridge         ...                  2   \n",
      "3415  0.0   1.0         NaN  Woodridge         ...                  1   \n",
      "\n",
      "      undergrad_year_grad application_date_dt clean_first_name  \\\n",
      "3329               1963.0          1967-04-21          MICHAEL   \n",
      "3415               1961.0          1967-04-21              NaN   \n",
      "\n",
      "      clean_middle_name clean_last_name clean_suffix school_name_sim  \\\n",
      "3329              HENRY           SACKS          NaN        0.093023   \n",
      "3415              HENRY           SACKS          NaN        0.093023   \n",
      "\n",
      "          clean_college  clean_college_trans  \n",
      "3329  OXFORD UNIVERSITY               OXFORD  \n",
      "3415   WILLIAMS COLLEGE             WILLIAMS  \n",
      "\n",
      "[2 rows x 75 columns]\n",
      "3334    SCHOENBERG\n",
      "3420    SCHOENBERG\n",
      "Name: clean_last_name, dtype: object\n",
      "3334    4/4/1967\n",
      "3420    4/4/1967\n",
      "Name: application_date, dtype: object\n",
      "group by first name\n",
      "409    SIROTA\n",
      "408    SIROTA\n",
      "Name: clean_last_name, dtype: object\n",
      "409    1/17/1976\n",
      "408    1/17/1976\n",
      "Name: application_date, dtype: object\n",
      "group by first name\n",
      "3272    SMITH\n",
      "3273    SMITH\n",
      "3357    SMITH\n",
      "3358    SMITH\n",
      "Name: clean_last_name, dtype: object\n",
      "3272    3/15/1964\n",
      "3273    3/15/1964\n",
      "3357    3/15/1964\n",
      "3358    3/15/1964\n",
      "Name: application_date, dtype: object\n",
      "group by first name\n",
      "3435    SMITHERMAN\n",
      "3349    SMITHERMAN\n",
      "Name: clean_last_name, dtype: object\n",
      "3435    4/1/1967\n",
      "3349    4/1/1967\n",
      "Name: application_date, dtype: object\n",
      "group by first name\n",
      "2    WOLFF\n",
      "3    WOLFF\n",
      "Name: clean_last_name, dtype: object\n",
      "2    11/2/1962\n",
      "3    11/2/1962\n",
      "Name: application_date, dtype: object\n",
      "group by first name\n"
     ]
    }
   ],
   "source": [
    "combined_rows = map(lambda (x, y): consolidate_candidate(y), all_app_grouped) "
   ]
  },
  {
   "cell_type": "code",
   "execution_count": 180,
   "metadata": {
    "ExecuteTime": {
     "end_time": "2016-08-31T11:23:46.495910",
     "start_time": "2016-08-31T11:23:29.485419"
    },
    "collapsed": false
   },
   "outputs": [],
   "source": [
    "unique_apps_df = pd.concat(combined_rows)\n",
    "# combined_rows[1]\n",
    "# [c for c in combined_rows if c.shape[1]!=74]"
   ]
  },
  {
   "cell_type": "code",
   "execution_count": 181,
   "metadata": {
    "ExecuteTime": {
     "end_time": "2016-08-31T11:23:53.070231",
     "start_time": "2016-08-31T11:23:52.992567"
    },
    "collapsed": false
   },
   "outputs": [],
   "source": [
    "# sort columns\n",
    "unique_apps_df.sort_index(axis=1, inplace=True)\n",
    "# order columns and sort values\n",
    "unique_apps_df.sort_values(by=['clean_last_name', 'application_date'], axis=0, inplace=True)\n"
   ]
  },
  {
   "cell_type": "code",
   "execution_count": 188,
   "metadata": {
    "collapsed": false
   },
   "outputs": [
    {
     "data": {
      "text/html": [
       "<div>\n",
       "<table border=\"1\" class=\"dataframe\">\n",
       "  <thead>\n",
       "    <tr style=\"text-align: right;\">\n",
       "      <th></th>\n",
       "      <th>clean_first_name</th>\n",
       "      <th>clean_last_name</th>\n",
       "      <th>clean_middle_name</th>\n",
       "      <th>date_of_birth</th>\n",
       "      <th>medical_school</th>\n",
       "      <th>clean_college_trans</th>\n",
       "      <th>application_date</th>\n",
       "    </tr>\n",
       "  </thead>\n",
       "  <tbody>\n",
       "    <tr>\n",
       "      <th>0</th>\n",
       "      <td>GEORGE</td>\n",
       "      <td>HUMPHREY</td>\n",
       "      <td>BENNETT</td>\n",
       "      <td>NaN</td>\n",
       "      <td>University of Chicago Pritzker School of Medicine</td>\n",
       "      <td>NaN</td>\n",
       "      <td>7/24/1962</td>\n",
       "    </tr>\n",
       "    <tr>\n",
       "      <th>1534</th>\n",
       "      <td>NaN</td>\n",
       "      <td>HUMPHREY</td>\n",
       "      <td>NaN</td>\n",
       "      <td>NaN</td>\n",
       "      <td>University of Chicago Pritzker School of Medicine</td>\n",
       "      <td>NaN</td>\n",
       "      <td>8/24/1961</td>\n",
       "    </tr>\n",
       "  </tbody>\n",
       "</table>\n",
       "</div>"
      ],
      "text/plain": [
       "     clean_first_name clean_last_name clean_middle_name date_of_birth  \\\n",
       "0              GEORGE        HUMPHREY           BENNETT           NaN   \n",
       "1534              NaN        HUMPHREY               NaN           NaN   \n",
       "\n",
       "                                         medical_school clean_college_trans  \\\n",
       "0     University of Chicago Pritzker School of Medicine                 NaN   \n",
       "1534  University of Chicago Pritzker School of Medicine                 NaN   \n",
       "\n",
       "     application_date  \n",
       "0           7/24/1962  \n",
       "1534        8/24/1961  "
      ]
     },
     "execution_count": 188,
     "metadata": {},
     "output_type": "execute_result"
    }
   ],
   "source": [
    "unique_apps_df.loc[unique_apps_df.clean_last_name=='HUMPHREY', PERSONAL_INFO+['application_date']]"
   ]
  },
  {
   "cell_type": "code",
   "execution_count": null,
   "metadata": {
    "collapsed": true
   },
   "outputs": [],
   "source": [
    "MISPELLINGS = {'clean_last_name': {'HOMCY': 'HOMEY', 'DROBIS': 'DROBIN', 'DEFRONZO':' DEFRENZO'}}"
   ]
  },
  {
   "cell_type": "code",
   "execution_count": null,
   "metadata": {
    "collapsed": true
   },
   "outputs": [],
   "source": [
    "# create uuid for each person"
   ]
  },
  {
   "cell_type": "code",
   "execution_count": 62,
   "metadata": {
    "ExecuteTime": {
     "end_time": "2016-08-31T11:23:54.687171",
     "start_time": "2016-08-31T11:23:54.604580"
    },
    "collapsed": false
   },
   "outputs": [
    {
     "data": {
      "text/html": [
       "<div>\n",
       "<table border=\"1\" class=\"dataframe\">\n",
       "  <thead>\n",
       "    <tr style=\"text-align: right;\">\n",
       "      <th></th>\n",
       "      <th>address</th>\n",
       "      <th>age</th>\n",
       "      <th>application_date</th>\n",
       "      <th>application_date_dt</th>\n",
       "      <th>associate_program_entered</th>\n",
       "      <th>bob</th>\n",
       "      <th>ca</th>\n",
       "      <th>cc</th>\n",
       "      <th>citizenship</th>\n",
       "      <th>city</th>\n",
       "      <th>...</th>\n",
       "      <th>sixth</th>\n",
       "      <th>state</th>\n",
       "      <th>teaching</th>\n",
       "      <th>undergrad_year_grad</th>\n",
       "      <th>undergraduate_school</th>\n",
       "      <th>unnamed:_59</th>\n",
       "      <th>unnamed:_61</th>\n",
       "      <th>withdrawal</th>\n",
       "      <th>year_accepted</th>\n",
       "      <th>zip_code</th>\n",
       "    </tr>\n",
       "  </thead>\n",
       "  <tbody>\n",
       "    <tr>\n",
       "      <th>0</th>\n",
       "      <td>154 Beach 142nd Street</td>\n",
       "      <td>NaN</td>\n",
       "      <td>4/8/1970</td>\n",
       "      <td>1970-04-08 00:00:00</td>\n",
       "      <td>CA</td>\n",
       "      <td>0</td>\n",
       "      <td>1</td>\n",
       "      <td>1</td>\n",
       "      <td>NaN</td>\n",
       "      <td>Neponsit</td>\n",
       "      <td>...</td>\n",
       "      <td>NaN</td>\n",
       "      <td>New York</td>\n",
       "      <td>1</td>\n",
       "      <td>NaN</td>\n",
       "      <td>NaN</td>\n",
       "      <td>NaN</td>\n",
       "      <td>1</td>\n",
       "      <td>-9</td>\n",
       "      <td>1972</td>\n",
       "      <td>11694</td>\n",
       "    </tr>\n",
       "    <tr>\n",
       "      <th>0</th>\n",
       "      <td>6 Val Mar Place</td>\n",
       "      <td>NaN</td>\n",
       "      <td>5/17/1966</td>\n",
       "      <td>1966-05-17 00:00:00</td>\n",
       "      <td>NaN</td>\n",
       "      <td>0</td>\n",
       "      <td>1</td>\n",
       "      <td>0</td>\n",
       "      <td>US</td>\n",
       "      <td>San Carlos</td>\n",
       "      <td>...</td>\n",
       "      <td>NaN</td>\n",
       "      <td>California</td>\n",
       "      <td>1</td>\n",
       "      <td>NaN</td>\n",
       "      <td>NaN</td>\n",
       "      <td>NaN</td>\n",
       "      <td>1</td>\n",
       "      <td>-9</td>\n",
       "      <td>1967</td>\n",
       "      <td>NaN</td>\n",
       "    </tr>\n",
       "    <tr>\n",
       "      <th>33</th>\n",
       "      <td>University of Washington</td>\n",
       "      <td>NaN</td>\n",
       "      <td>1/1/1965</td>\n",
       "      <td>1965-01-01 00:00:00</td>\n",
       "      <td>RA</td>\n",
       "      <td>NaN</td>\n",
       "      <td>NaN</td>\n",
       "      <td>NaN</td>\n",
       "      <td>NaN</td>\n",
       "      <td>Seattle</td>\n",
       "      <td>...</td>\n",
       "      <td>NaN</td>\n",
       "      <td>Washington</td>\n",
       "      <td>NaN</td>\n",
       "      <td>NaN</td>\n",
       "      <td>NaN</td>\n",
       "      <td>NaN</td>\n",
       "      <td>2</td>\n",
       "      <td>-9</td>\n",
       "      <td>1965</td>\n",
       "      <td>NaN</td>\n",
       "    </tr>\n",
       "    <tr>\n",
       "      <th>0</th>\n",
       "      <td>67 Frederick Place</td>\n",
       "      <td>NaN</td>\n",
       "      <td>4/8/1971</td>\n",
       "      <td>1971-04-08 00:00:00</td>\n",
       "      <td>NaN</td>\n",
       "      <td>0</td>\n",
       "      <td>1</td>\n",
       "      <td>0</td>\n",
       "      <td>NaN</td>\n",
       "      <td>Mt. Vernon</td>\n",
       "      <td>...</td>\n",
       "      <td>NaN</td>\n",
       "      <td>New York</td>\n",
       "      <td>1</td>\n",
       "      <td>NaN</td>\n",
       "      <td>NaN</td>\n",
       "      <td>NaN</td>\n",
       "      <td>1</td>\n",
       "      <td>0</td>\n",
       "      <td>NaN</td>\n",
       "      <td>NaN</td>\n",
       "    </tr>\n",
       "    <tr>\n",
       "      <th>0</th>\n",
       "      <td>2280 Loring Place</td>\n",
       "      <td>NaN</td>\n",
       "      <td>4/10/1962</td>\n",
       "      <td>1962-04-10 00:00:00</td>\n",
       "      <td>NaN</td>\n",
       "      <td>0</td>\n",
       "      <td>0</td>\n",
       "      <td>0</td>\n",
       "      <td>US</td>\n",
       "      <td>New York 68</td>\n",
       "      <td>...</td>\n",
       "      <td>NaN</td>\n",
       "      <td>New York</td>\n",
       "      <td>0</td>\n",
       "      <td>NaN</td>\n",
       "      <td>NaN</td>\n",
       "      <td>NaN</td>\n",
       "      <td>2</td>\n",
       "      <td>-9</td>\n",
       "      <td>1964</td>\n",
       "      <td>NaN</td>\n",
       "    </tr>\n",
       "  </tbody>\n",
       "</table>\n",
       "<p>5 rows × 75 columns</p>\n",
       "</div>"
      ],
      "text/plain": [
       "                     address  age application_date  application_date_dt  \\\n",
       "0     154 Beach 142nd Street  NaN         4/8/1970  1970-04-08 00:00:00   \n",
       "0            6 Val Mar Place  NaN        5/17/1966  1966-05-17 00:00:00   \n",
       "33  University of Washington  NaN         1/1/1965  1965-01-01 00:00:00   \n",
       "0         67 Frederick Place  NaN         4/8/1971  1971-04-08 00:00:00   \n",
       "0          2280 Loring Place  NaN        4/10/1962  1962-04-10 00:00:00   \n",
       "\n",
       "   associate_program_entered  bob   ca   cc citizenship         city   ...     \\\n",
       "0                         CA    0    1    1         NaN     Neponsit   ...      \n",
       "0                        NaN    0    1    0          US   San Carlos   ...      \n",
       "33                        RA  NaN  NaN  NaN         NaN      Seattle   ...      \n",
       "0                        NaN    0    1    0         NaN   Mt. Vernon   ...      \n",
       "0                        NaN    0    0    0          US  New York 68   ...      \n",
       "\n",
       "   sixth       state teaching undergrad_year_grad undergraduate_school  \\\n",
       "0    NaN    New York        1                 NaN                  NaN   \n",
       "0    NaN  California        1                 NaN                  NaN   \n",
       "33   NaN  Washington      NaN                 NaN                  NaN   \n",
       "0    NaN    New York        1                 NaN                  NaN   \n",
       "0    NaN    New York        0                 NaN                  NaN   \n",
       "\n",
       "   unnamed:_59 unnamed:_61 withdrawal year_accepted zip_code  \n",
       "0          NaN           1         -9          1972    11694  \n",
       "0          NaN           1         -9          1967      NaN  \n",
       "33         NaN           2         -9          1965      NaN  \n",
       "0          NaN           1          0           NaN      NaN  \n",
       "0          NaN           2         -9          1964      NaN  \n",
       "\n",
       "[5 rows x 75 columns]"
      ]
     },
     "execution_count": 62,
     "metadata": {},
     "output_type": "execute_result"
    }
   ],
   "source": [
    "unique_apps_df.head()"
   ]
  },
  {
   "cell_type": "code",
   "execution_count": 63,
   "metadata": {
    "ExecuteTime": {
     "end_time": "2016-08-31T11:23:58.672473",
     "start_time": "2016-08-31T11:23:58.080080"
    },
    "collapsed": false
   },
   "outputs": [],
   "source": [
    "# read to csv\n",
    "unique_apps_df.to_csv(os.path.join(CARD_DATA_DIR, 'deduped_applicants.csv'))\n",
    "unique_apps_df.to_pickle(os.path.join(CARD_DATA_DIR, 'deduped_applicants.p'))"
   ]
  },
  {
   "cell_type": "code",
   "execution_count": null,
   "metadata": {
    "ExecuteTime": {
     "end_time": "2016-08-30T17:56:11.253905",
     "start_time": "2016-08-30T17:56:09.972997"
    },
    "collapsed": true
   },
   "outputs": [],
   "source": [
    "g1 = list(all_app_grouped)[0][1]"
   ]
  },
  {
   "cell_type": "code",
   "execution_count": null,
   "metadata": {
    "ExecuteTime": {
     "end_time": "2016-08-31T11:11:37.557929",
     "start_time": "2016-08-31T11:11:37.380274"
    },
    "collapsed": false
   },
   "outputs": [],
   "source": [
    "\n",
    "g1 = all_app_grouped.get_group(('HARLOW JR', '1971-02-28'))\n",
    "g2 = all_app_grouped.get_group(('ALEXANDER', '1969-04-08'))\n",
    "g3 = all_app_grouped.get_group(('DRACHMAN', '1958-11-01'))\n",
    "g4 = all_app_grouped.get_group(('SACKS', '4/21/1967'))\n",
    "g5 = all_app_grouped.get_group(('ZIVIN', '4/4/1975'))"
   ]
  },
  {
   "cell_type": "code",
   "execution_count": null,
   "metadata": {
    "ExecuteTime": {
     "end_time": "2016-08-31T11:11:42.742022",
     "start_time": "2016-08-31T11:11:42.669628"
    },
    "collapsed": false
   },
   "outputs": [],
   "source": [
    "g5"
   ]
  },
  {
   "cell_type": "code",
   "execution_count": null,
   "metadata": {
    "ExecuteTime": {
     "end_time": "2016-08-31T10:44:40.782541",
     "start_time": "2016-08-31T10:44:40.540192"
    },
    "collapsed": false
   },
   "outputs": [],
   "source": [
    "out = consolidate_candidate(g1)\n",
    "out"
   ]
  },
  {
   "cell_type": "code",
   "execution_count": null,
   "metadata": {
    "collapsed": true
   },
   "outputs": [],
   "source": []
  }
 ],
 "metadata": {
  "kernelspec": {
   "display_name": "Python 2",
   "language": "python",
   "name": "python2"
  },
  "language_info": {
   "codemirror_mode": {
    "name": "ipython",
    "version": 2
   },
   "file_extension": ".py",
   "mimetype": "text/x-python",
   "name": "python",
   "nbconvert_exporter": "python",
   "pygments_lexer": "ipython2",
   "version": "2.7.12"
  }
 },
 "nbformat": 4,
 "nbformat_minor": 0
}
