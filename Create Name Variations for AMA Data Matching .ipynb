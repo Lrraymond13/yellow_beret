{
 "cells": [
  {
   "cell_type": "code",
   "execution_count": 54,
   "metadata": {
    "collapsed": false
   },
   "outputs": [
    {
     "name": "stderr",
     "output_type": "stream",
     "text": [
      "ERROR:root:Line magic function `%install_ext` not found.\n"
     ]
    },
    {
     "name": "stdout",
     "output_type": "stream",
     "text": [
      "The autotime extension is already loaded. To reload it, use:\n",
      "  %reload_ext autotime\n",
      "time: 4.8 ms\n"
     ]
    }
   ],
   "source": [
    "%install_ext https://raw.github.com/cpcloud/ipython-autotime/master/autotime.py\n",
    "%load_ext autotime"
   ]
  },
  {
   "cell_type": "code",
   "execution_count": 55,
   "metadata": {
    "collapsed": false
   },
   "outputs": [
    {
     "name": "stdout",
     "output_type": "stream",
     "text": [
      "time: 5.56 ms\n"
     ]
    }
   ],
   "source": [
    "from collections import Counter\n",
    "import difflib\n",
    "import uuid\n",
    "import itertools\n",
    "import pandas as pd\n",
    "import numpy as np\n",
    "import string\n",
    "import funcy\n",
    "import re\n",
    "import os\n",
    "\n",
    "\n",
    "from dev import APP_DATA_DIR, NAME_COLS, PERSON_ID, NIH_ID, FEMALE_FIRST_NAMES, PICKLE_DIR\n",
    "\n",
    "from data_cleaning_functions import has_suffix, remove_suffix_from_last_name "
   ]
  },
  {
   "cell_type": "code",
   "execution_count": 56,
   "metadata": {
    "collapsed": false
   },
   "outputs": [
    {
     "name": "stdout",
     "output_type": "stream",
     "text": [
      "time: 3.28 ms\n"
     ]
    }
   ],
   "source": [
    "filename = 'fuzzy_all_apps_plus_NIH_info.csv'"
   ]
  },
  {
   "cell_type": "code",
   "execution_count": 57,
   "metadata": {
    "collapsed": false
   },
   "outputs": [
    {
     "name": "stdout",
     "output_type": "stream",
     "text": [
      "time: 65 ms\n"
     ]
    }
   ],
   "source": [
    "apps = pd.read_csv(os.path.join(APP_DATA_DIR, filename))"
   ]
  },
  {
   "cell_type": "code",
   "execution_count": 58,
   "metadata": {
    "collapsed": false
   },
   "outputs": [
    {
     "name": "stdout",
     "output_type": "stream",
     "text": [
      "time: 13.2 ms\n"
     ]
    }
   ],
   "source": [
    "# for two people whom I manually added names for, fill in first and middle and last names\n",
    "mask = pd.isnull(apps.last_name)\n",
    "apps.loc[mask, 'last_name'] = apps[mask].clean_last_name.apply(lambda x: x.title())\n",
    "mask = pd.isnull(apps.middle_name)\n",
    "apps.loc[mask, 'middle_name'] = apps[mask].clean_middle_name.apply(lambda x: np.nan if pd.isnull(x) else x.title())\n",
    "mask = pd.isnull(apps.first_name)\n",
    "apps.loc[mask, 'first_name'] = apps[mask].clean_first_name.apply(lambda x: np.nan if pd.isnull(x) else x.title())"
   ]
  },
  {
   "cell_type": "code",
   "execution_count": 59,
   "metadata": {
    "collapsed": false
   },
   "outputs": [
    {
     "name": "stdout",
     "output_type": "stream",
     "text": [
      "time: 17.4 ms\n"
     ]
    }
   ],
   "source": [
    "# generate a file with first initial of first name, and last name\n",
    "# also generate a row with middle initial, and last name\n",
    "# check for last names with spaces in them, mc last names, last names with an apostrophe\n",
    "apps['first_initial'] = apps.clean_first_name.apply(lambda x: np.nan if pd.isnull(x) else str(x[0]))\n",
    "apps['middle_initial'] = apps.clean_middle_name.apply(lambda x: np.nan if pd.isnull(x) else str(x[0]))\n",
    "apps['clean_last_name2'] = apps.last_name.apply(lambda x: np.nan if pd.isnull(x) else x.upper().strip())\n",
    "apps['clean_last_name3'] = np.nan"
   ]
  },
  {
   "cell_type": "code",
   "execution_count": 60,
   "metadata": {
    "collapsed": false
   },
   "outputs": [
    {
     "name": "stdout",
     "output_type": "stream",
     "text": [
      "time: 6.15 ms\n"
     ]
    }
   ],
   "source": [
    "def find_space_in_name(raw_str):\n",
    "    # finds strings with spaces in them\n",
    "    if pd.isnull(raw_str):\n",
    "        return False\n",
    "    str_list = raw_str.split(' ')\n",
    "    return len(str_list) >= 2"
   ]
  },
  {
   "cell_type": "code",
   "execution_count": 61,
   "metadata": {
    "collapsed": false
   },
   "outputs": [
    {
     "name": "stdout",
     "output_type": "stream",
     "text": [
      "time: 23.4 ms\n"
     ]
    }
   ],
   "source": [
    "# for last names with a space in them, create version with and without space\n",
    "odd_last_name = apps.clean_last_name.apply(find_space_in_name)\n",
    "\n",
    "apps.loc[odd_last_name, 'clean_last_name3'] = apps[\n",
    "    odd_last_name]['clean_last_name'].apply(lambda x: ''.join(x.split(' ')).strip())\n",
    "\n",
    "apps.loc[apps.clean_last_name==apps.clean_last_name2, 'clean_last_name2'] = np.nan\n",
    "\n",
    "mask = (pd.isnull(apps.clean_last_name2)) & ~(pd.isnull(apps.clean_last_name3))\n",
    "apps.loc[mask, 'clean_last_name2'] = apps[mask]['clean_last_name3']\n",
    "\n",
    "apps.loc[mask, 'clean_last_name3'] = np.nan"
   ]
  },
  {
   "cell_type": "code",
   "execution_count": 62,
   "metadata": {
    "collapsed": false
   },
   "outputs": [
    {
     "name": "stdout",
     "output_type": "stream",
     "text": [
      "time: 9.71 ms\n"
     ]
    }
   ],
   "source": [
    "suff_mask = apps.clean_last_name2.apply(has_suffix)"
   ]
  },
  {
   "cell_type": "code",
   "execution_count": 63,
   "metadata": {
    "collapsed": false
   },
   "outputs": [
    {
     "name": "stdout",
     "output_type": "stream",
     "text": [
      "time: 6.99 ms\n"
     ]
    }
   ],
   "source": [
    "# remove suffixes from their last name\n",
    "# also remove any commas from the last name\n",
    "apps.loc[suff_mask, 'clean_last_name2'] = apps[suff_mask]['clean_last_name2'].apply(remove_suffix_from_last_name)"
   ]
  },
  {
   "cell_type": "code",
   "execution_count": 64,
   "metadata": {
    "collapsed": false
   },
   "outputs": [
    {
     "name": "stdout",
     "output_type": "stream",
     "text": [
      "time: 3.99 ms\n"
     ]
    }
   ],
   "source": [
    "def strip_commas(raw_str):\n",
    "    if pd.isnull(raw_str):\n",
    "        return np.nan\n",
    "    punc = ('.', ',')\n",
    "    return ''.join([x for x in raw_str if x not in punc])"
   ]
  },
  {
   "cell_type": "code",
   "execution_count": 65,
   "metadata": {
    "collapsed": false
   },
   "outputs": [
    {
     "name": "stdout",
     "output_type": "stream",
     "text": [
      "time: 11.7 ms\n"
     ]
    }
   ],
   "source": [
    "apps['clean_last_name2'] = apps['clean_last_name2'].apply(strip_commas)"
   ]
  },
  {
   "cell_type": "code",
   "execution_count": 66,
   "metadata": {
    "collapsed": false
   },
   "outputs": [
    {
     "name": "stdout",
     "output_type": "stream",
     "text": [
      "time: 4.54 ms\n"
     ]
    }
   ],
   "source": [
    "def make_hash_str(row):\n",
    "    strs = row[['first_name', 'last_name', 'middle_name', 'address', 'original_medical_school']].values\n",
    "    \n",
    "    str_val = ''.join(map(str, strs))\n",
    "    return uuid.uuid5(uuid.NAMESPACE_DNS, str_val)"
   ]
  },
  {
   "cell_type": "code",
   "execution_count": 67,
   "metadata": {
    "collapsed": false
   },
   "outputs": [
    {
     "name": "stdout",
     "output_type": "stream",
     "text": [
      "time: 1.8 s\n"
     ]
    }
   ],
   "source": [
    "apps['hash_id'] = apps.apply(make_hash_str, axis=1)"
   ]
  },
  {
   "cell_type": "code",
   "execution_count": 68,
   "metadata": {
    "collapsed": false
   },
   "outputs": [
    {
     "data": {
      "text/html": [
       "<div>\n",
       "<table border=\"1\" class=\"dataframe\">\n",
       "  <thead>\n",
       "    <tr style=\"text-align: right;\">\n",
       "      <th></th>\n",
       "      <th>clean_first_name</th>\n",
       "      <th>clean_middle_name</th>\n",
       "      <th>clean_last_name</th>\n",
       "    </tr>\n",
       "  </thead>\n",
       "  <tbody>\n",
       "  </tbody>\n",
       "</table>\n",
       "</div>"
      ],
      "text/plain": [
       "Empty DataFrame\n",
       "Columns: [clean_first_name, clean_middle_name, clean_last_name]\n",
       "Index: []"
      ]
     },
     "execution_count": 68,
     "metadata": {},
     "output_type": "execute_result"
    },
    {
     "name": "stdout",
     "output_type": "stream",
     "text": [
      "time: 30.5 ms\n"
     ]
    }
   ],
   "source": [
    "apps.loc[apps.duplicated('hash_id', keep=False), NAME_COLS]"
   ]
  },
  {
   "cell_type": "code",
   "execution_count": 69,
   "metadata": {
    "collapsed": false,
    "scrolled": true
   },
   "outputs": [
    {
     "name": "stdout",
     "output_type": "stream",
     "text": [
      "time: 28.8 ms\n"
     ]
    }
   ],
   "source": [
    "apps['first_name2'] = apps.first_name.apply(lambda x: np.nan if pd.isnull(x) else x.upper().strip())\n",
    "apps['middle_name2'] = apps.middle_name.apply(lambda x: np.nan if pd.isnull(x) else x.upper().strip())\n"
   ]
  },
  {
   "cell_type": "code",
   "execution_count": 70,
   "metadata": {
    "collapsed": false
   },
   "outputs": [
    {
     "data": {
      "text/html": [
       "<div>\n",
       "<table border=\"1\" class=\"dataframe\">\n",
       "  <thead>\n",
       "    <tr style=\"text-align: right;\">\n",
       "      <th></th>\n",
       "      <th>clean_first_name</th>\n",
       "      <th>clean_middle_name</th>\n",
       "      <th>clean_last_name</th>\n",
       "      <th>dno</th>\n",
       "      <th>address</th>\n",
       "      <th>original_medical_school</th>\n",
       "      <th>med_school</th>\n",
       "      <th>hash_str</th>\n",
       "      <th>first_name</th>\n",
       "      <th>middle_name</th>\n",
       "      <th>last_name</th>\n",
       "    </tr>\n",
       "  </thead>\n",
       "  <tbody>\n",
       "  </tbody>\n",
       "</table>\n",
       "</div>"
      ],
      "text/plain": [
       "Empty DataFrame\n",
       "Columns: [clean_first_name, clean_middle_name, clean_last_name, dno, address, original_medical_school, med_school, hash_str, first_name, middle_name, last_name]\n",
       "Index: []"
      ]
     },
     "execution_count": 70,
     "metadata": {},
     "output_type": "execute_result"
    },
    {
     "name": "stdout",
     "output_type": "stream",
     "text": [
      "time: 40.9 ms\n"
     ]
    }
   ],
   "source": [
    "apps.loc[apps.duplicated('hash_id', keep=False), NAME_COLS+[\n",
    "        'dno', 'address', 'original_medical_school', 'med_school', 'hash_str', 'first_name', 'middle_name', 'last_name']]"
   ]
  },
  {
   "cell_type": "code",
   "execution_count": 71,
   "metadata": {
    "collapsed": false
   },
   "outputs": [
    {
     "name": "stdout",
     "output_type": "stream",
     "text": [
      "time: 7.36 ms\n"
     ]
    }
   ],
   "source": [
    "n2 = apps.loc[~(pd.isnull(apps.clean_last_name2)), :]\n",
    "n3 = apps.loc[~(pd.isnull(apps.clean_last_name3)), :]"
   ]
  },
  {
   "cell_type": "code",
   "execution_count": 72,
   "metadata": {
    "collapsed": false
   },
   "outputs": [
    {
     "name": "stdout",
     "output_type": "stream",
     "text": [
      "time: 115 ms\n"
     ]
    }
   ],
   "source": [
    "# concat all the rows together\n",
    "all_versions = pd.concat([apps, n2, n3], axis=0).sort_values(['hash_id']+NAME_COLS)"
   ]
  },
  {
   "cell_type": "code",
   "execution_count": 73,
   "metadata": {
    "collapsed": false
   },
   "outputs": [
    {
     "name": "stdout",
     "output_type": "stream",
     "text": [
      "time: 1.52 s\n"
     ]
    }
   ],
   "source": [
    "# to csv \n",
    "all_versions.to_csv(os.path.join(APP_DATA_DIR, 'multi_name_versions_AMA_match.csv'))"
   ]
  }
 ],
 "metadata": {
  "kernelspec": {
   "display_name": "Python 2",
   "language": "python",
   "name": "python2"
  },
  "language_info": {
   "codemirror_mode": {
    "name": "ipython",
    "version": 2
   },
   "file_extension": ".py",
   "mimetype": "text/x-python",
   "name": "python",
   "nbconvert_exporter": "python",
   "pygments_lexer": "ipython2",
   "version": "2.7.12"
  }
 },
 "nbformat": 4,
 "nbformat_minor": 1
}
