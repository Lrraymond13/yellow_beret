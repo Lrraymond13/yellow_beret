{
 "cells": [
  {
   "cell_type": "code",
   "execution_count": 54,
   "metadata": {
    "collapsed": false
   },
   "outputs": [
    {
     "name": "stderr",
     "output_type": "stream",
     "text": [
      "ERROR:root:Line magic function `%install_ext` not found.\n"
     ]
    },
    {
     "name": "stdout",
     "output_type": "stream",
     "text": [
      "The autotime extension is already loaded. To reload it, use:\n",
      "  %reload_ext autotime\n",
      "time: 4.8 ms\n"
     ]
    }
   ],
   "source": [
    "%install_ext https://raw.github.com/cpcloud/ipython-autotime/master/autotime.py\n",
    "%load_ext autotime"
   ]
  },
  {
   "cell_type": "code",
   "execution_count": 55,
   "metadata": {
    "collapsed": false
   },
   "outputs": [
    {
     "name": "stdout",
     "output_type": "stream",
     "text": [
      "time: 5.56 ms\n"
     ]
    }
   ],
   "source": [
    "from collections import Counter\n",
    "import difflib\n",
    "import uuid\n",
    "import itertools\n",
    "import pandas as pd\n",
    "import numpy as np\n",
    "import string\n",
    "import funcy\n",
    "import re\n",
    "import os\n",
    "\n",
    "\n",
    "from dev import APP_DATA_DIR, NAME_COLS, PERSON_ID, NIH_ID, FEMALE_FIRST_NAMES, PICKLE_DIR\n",
    "\n",
    "from data_cleaning_functions import has_suffix, remove_suffix_from_last_name "
   ]
  },
  {
   "cell_type": "code",
   "execution_count": 80,
   "metadata": {
    "collapsed": false
   },
   "outputs": [
    {
     "name": "stdout",
     "output_type": "stream",
     "text": [
      "time: 1.7 ms\n"
     ]
    }
   ],
   "source": [
    "filename = 'fuzzy_all_apps_plus_NIH_info.csv'"
   ]
  },
  {
   "cell_type": "code",
   "execution_count": 93,
   "metadata": {
    "collapsed": false
   },
   "outputs": [
    {
     "name": "stdout",
     "output_type": "stream",
     "text": [
      "time: 77.2 ms\n"
     ]
    }
   ],
   "source": [
    "apps = pd.read_csv(os.path.join(APP_DATA_DIR, filename))"
   ]
  },
  {
   "cell_type": "code",
   "execution_count": 94,
   "metadata": {
    "collapsed": false
   },
   "outputs": [
    {
     "name": "stdout",
     "output_type": "stream",
     "text": [
      "time: 23.4 ms\n"
     ]
    }
   ],
   "source": [
    "# for two people whom I manually added names for, fill in first and middle and last names\n",
    "mask = pd.isnull(apps.last_name)\n",
    "apps.loc[mask, 'last_name'] = apps[mask].clean_last_name.apply(lambda x: x.title())\n",
    "mask = pd.isnull(apps.middle_name)\n",
    "apps.loc[mask, 'middle_name'] = apps[mask].clean_middle_name.apply(lambda x: np.nan if pd.isnull(x) else x.title())\n",
    "mask = pd.isnull(apps.first_name)\n",
    "apps.loc[mask, 'first_name'] = apps[mask].clean_first_name.apply(lambda x: np.nan if pd.isnull(x) else x.title())"
   ]
  },
  {
   "cell_type": "code",
   "execution_count": 95,
   "metadata": {
    "collapsed": false
   },
   "outputs": [
    {
     "name": "stdout",
     "output_type": "stream",
     "text": [
      "time: 34.6 ms\n"
     ]
    }
   ],
   "source": [
    "# generate a file with first initial of first name, and last name\n",
    "# also generate a row with middle initial, and last name\n",
    "# check for last names with spaces in them, mc last names, last names with an apostrophe\n",
    "apps['first_initial'] = apps.clean_first_name.apply(lambda x: np.nan if pd.isnull(x) else str(x[0]))\n",
    "apps['middle_initial'] = apps.clean_middle_name.apply(lambda x: np.nan if pd.isnull(x) else str(x[0]))\n",
    "apps['clean_last_name2'] = apps.last_name.apply(lambda x: np.nan if pd.isnull(x) else x.upper().strip())\n",
    "apps['clean_last_name3'] = np.nan"
   ]
  },
  {
   "cell_type": "code",
   "execution_count": 96,
   "metadata": {
    "collapsed": false
   },
   "outputs": [
    {
     "name": "stdout",
     "output_type": "stream",
     "text": [
      "time: 31.6 ms\n"
     ]
    }
   ],
   "source": [
    "suff_mask = apps.clean_last_name.apply(has_suffix)\n",
    "\n",
    "# remove suffixes from their last name\n",
    "# also remove any commas from the last name\n",
    "apps.loc[suff_mask, 'clean_last_name2'] = apps[suff_mask]['clean_last_name2'].apply(remove_suffix_from_last_name)"
   ]
  },
  {
   "cell_type": "code",
   "execution_count": 97,
   "metadata": {
    "collapsed": false
   },
   "outputs": [
    {
     "name": "stdout",
     "output_type": "stream",
     "text": [
      "time: 29 ms\n"
     ]
    }
   ],
   "source": [
    "def strip_commas(raw_str):\n",
    "    if pd.isnull(raw_str):\n",
    "        return np.nan\n",
    "    punc = ('.', ',')\n",
    "    return ''.join([x for x in raw_str if x not in punc])\n",
    "\n",
    "apps['clean_last_name2'] = apps['clean_last_name2'].apply(strip_commas)"
   ]
  },
  {
   "cell_type": "code",
   "execution_count": 92,
   "metadata": {
    "collapsed": false
   },
   "outputs": [
    {
     "name": "stdout",
     "output_type": "stream",
     "text": [
      "time: 23.9 ms\n"
     ]
    }
   ],
   "source": [
    "suff_mask = apps.clean_last_name.apply(has_suffix)\n",
    "\n",
    "# remove suffixes from their last name\n",
    "# also remove any commas from the last name\n",
    "apps.loc[suff_mask, 'clean_last_name2'] = apps[suff_mask]['clean_last_name2'].apply(remove_suffix_from_last_name)"
   ]
  },
  {
   "cell_type": "code",
   "execution_count": 98,
   "metadata": {
    "collapsed": false
   },
   "outputs": [
    {
     "name": "stdout",
     "output_type": "stream",
     "text": [
      "time: 7.38 ms\n"
     ]
    }
   ],
   "source": [
    "def find_space_in_name(raw_str):\n",
    "    # finds strings with spaces in them\n",
    "    if pd.isnull(raw_str):\n",
    "        return False\n",
    "    str_list = raw_str.split(' ')\n",
    "    return len(str_list) >= 2"
   ]
  },
  {
   "cell_type": "code",
   "execution_count": 99,
   "metadata": {
    "collapsed": false
   },
   "outputs": [
    {
     "name": "stdout",
     "output_type": "stream",
     "text": [
      "time: 37 ms\n"
     ]
    }
   ],
   "source": [
    "# for last names with a space in them, create version with and without space\n",
    "odd_last_name = apps.clean_last_name.apply(find_space_in_name)\n",
    "\n",
    "apps.loc[odd_last_name, 'clean_last_name3'] = apps[\n",
    "    odd_last_name]['clean_last_name'].apply(lambda x: ''.join(x.split(' ')).strip())\n",
    "\n",
    "apps.loc[apps.clean_last_name==apps.clean_last_name2, 'clean_last_name2'] = np.nan\n",
    "\n",
    "mask = (pd.isnull(apps.clean_last_name2)) & ~(pd.isnull(apps.clean_last_name3))\n",
    "apps.loc[mask, 'clean_last_name2'] = apps[mask]['clean_last_name3']\n",
    "\n",
    "apps.loc[mask, 'clean_last_name3'] = np.nan\n",
    "apps.loc[apps.clean_last_name==apps.clean_last_name2, 'clean_last_name2'] = np.nan"
   ]
  },
  {
   "cell_type": "code",
   "execution_count": 100,
   "metadata": {
    "collapsed": false
   },
   "outputs": [
    {
     "name": "stdout",
     "output_type": "stream",
     "text": [
      "time: 4.28 ms\n"
     ]
    }
   ],
   "source": [
    "def make_hash_str(row):\n",
    "    strs = row[['first_name', 'last_name', 'middle_name', 'address', 'original_medical_school']].values\n",
    "    \n",
    "    str_val = ''.join(map(str, strs))\n",
    "    return uuid.uuid5(uuid.NAMESPACE_DNS, str_val)"
   ]
  },
  {
   "cell_type": "code",
   "execution_count": 101,
   "metadata": {
    "collapsed": false
   },
   "outputs": [
    {
     "name": "stdout",
     "output_type": "stream",
     "text": [
      "time: 1.71 s\n"
     ]
    }
   ],
   "source": [
    "apps['hash_id'] = apps.apply(make_hash_str, axis=1)"
   ]
  },
  {
   "cell_type": "code",
   "execution_count": 102,
   "metadata": {
    "collapsed": false
   },
   "outputs": [
    {
     "data": {
      "text/html": [
       "<div>\n",
       "<table border=\"1\" class=\"dataframe\">\n",
       "  <thead>\n",
       "    <tr style=\"text-align: right;\">\n",
       "      <th></th>\n",
       "      <th>clean_first_name</th>\n",
       "      <th>clean_middle_name</th>\n",
       "      <th>clean_last_name</th>\n",
       "    </tr>\n",
       "  </thead>\n",
       "  <tbody>\n",
       "  </tbody>\n",
       "</table>\n",
       "</div>"
      ],
      "text/plain": [
       "Empty DataFrame\n",
       "Columns: [clean_first_name, clean_middle_name, clean_last_name]\n",
       "Index: []"
      ]
     },
     "execution_count": 102,
     "metadata": {},
     "output_type": "execute_result"
    },
    {
     "name": "stdout",
     "output_type": "stream",
     "text": [
      "time: 16.6 ms\n"
     ]
    }
   ],
   "source": [
    "apps.loc[apps.duplicated('hash_id', keep=False), NAME_COLS]"
   ]
  },
  {
   "cell_type": "code",
   "execution_count": 123,
   "metadata": {
    "collapsed": false,
    "scrolled": true
   },
   "outputs": [
    {
     "name": "stdout",
     "output_type": "stream",
     "text": [
      "time: 31.7 ms\n"
     ]
    }
   ],
   "source": [
    "apps['first_name2'] = apps.first_name.apply(lambda x: np.nan if pd.isnull(x) else x.upper().strip())\n",
    "apps['first_initial2'] = apps.first_name2.apply(lambda x: np.nan if pd.isnull(x) else x[0])\n",
    "apps['middle_name2'] = apps.middle_name.apply(lambda x: np.nan if pd.isnull(x) else x.upper().strip())\n",
    "apps['middle_initial2'] = apps.middle_name2.apply(lambda x: np.nan if pd.isnull(x) else x[0])\n",
    "apps.loc[apps.first_initial==apps.first_initial2, 'first_initial2'] = np.nan\n",
    "mask = (pd.isnull(apps.middle_initial) & ~pd.isnull(apps.middle_initial2))\n",
    "apps.loc[mask, 'middle_initial'] = apps[mask]['middle_initial2']\n",
    "apps.loc[apps.middle_initial==apps.middle_initial2, 'middle_initial2'] = np.nan\n",
    "apps.loc[apps.middle_initial.isin(['1', '*']), 'middle_initial'] = np.nan\n",
    "apps.loc[apps.middle_initial2.isin(['1', '*']), 'middle_initial2'] = np.nan"
   ]
  },
  {
   "cell_type": "code",
   "execution_count": 124,
   "metadata": {
    "collapsed": false
   },
   "outputs": [
    {
     "data": {
      "text/html": [
       "<div>\n",
       "<table border=\"1\" class=\"dataframe\">\n",
       "  <thead>\n",
       "    <tr style=\"text-align: right;\">\n",
       "      <th></th>\n",
       "      <th>clean_first_name</th>\n",
       "      <th>clean_middle_name</th>\n",
       "      <th>clean_last_name</th>\n",
       "      <th>dno</th>\n",
       "      <th>address</th>\n",
       "      <th>original_medical_school</th>\n",
       "      <th>med_school</th>\n",
       "      <th>hash_str</th>\n",
       "      <th>first_name</th>\n",
       "      <th>middle_name</th>\n",
       "      <th>last_name</th>\n",
       "    </tr>\n",
       "  </thead>\n",
       "  <tbody>\n",
       "  </tbody>\n",
       "</table>\n",
       "</div>"
      ],
      "text/plain": [
       "Empty DataFrame\n",
       "Columns: [clean_first_name, clean_middle_name, clean_last_name, dno, address, original_medical_school, med_school, hash_str, first_name, middle_name, last_name]\n",
       "Index: []"
      ]
     },
     "execution_count": 124,
     "metadata": {},
     "output_type": "execute_result"
    },
    {
     "name": "stdout",
     "output_type": "stream",
     "text": [
      "time: 23.4 ms\n"
     ]
    }
   ],
   "source": [
    "apps.loc[apps.duplicated('hash_id', keep=False), NAME_COLS+[\n",
    "        'dno', 'address', 'original_medical_school', 'med_school', 'hash_str', 'first_name', 'middle_name', 'last_name']]"
   ]
  },
  {
   "cell_type": "code",
   "execution_count": 136,
   "metadata": {
    "collapsed": false
   },
   "outputs": [
    {
     "name": "stdout",
     "output_type": "stream",
     "text": [
      "time: 7.31 ms\n"
     ]
    }
   ],
   "source": [
    "# all first initials are from first name data entry errors\n",
    "n1_ = apps.loc[~pd.isnull(apps.first_initial2)]\n",
    "n1 = apps.loc[~pd.isnull(apps.middle_initial2),]"
   ]
  },
  {
   "cell_type": "code",
   "execution_count": 137,
   "metadata": {
    "collapsed": false
   },
   "outputs": [
    {
     "name": "stdout",
     "output_type": "stream",
     "text": [
      "time: 35.3 ms\n"
     ]
    },
    {
     "name": "stderr",
     "output_type": "stream",
     "text": [
      "/home/lraymond/MIT/Azoulay_2016/yellow_berets/yb/local/lib/python2.7/site-packages/pandas/core/indexing.py:465: SettingWithCopyWarning: \n",
      "A value is trying to be set on a copy of a slice from a DataFrame.\n",
      "Try using .loc[row_indexer,col_indexer] = value instead\n",
      "\n",
      "See the caveats in the documentation: http://pandas.pydata.org/pandas-docs/stable/indexing.html#indexing-view-versus-copy\n",
      "  self.obj[item] = s\n"
     ]
    }
   ],
   "source": [
    "n1.loc[:, 'middle_initial'] = n1['middle_initial2']\n",
    "del n1['middle_initial2']"
   ]
  },
  {
   "cell_type": "code",
   "execution_count": 147,
   "metadata": {
    "collapsed": false
   },
   "outputs": [
    {
     "name": "stdout",
     "output_type": "stream",
     "text": [
      "time: 49.9 ms\n"
     ]
    }
   ],
   "source": [
    "n2 = apps.loc[~(pd.isnull(apps.clean_last_name2)), :]\n",
    "n2.loc[:, 'clean_last_name'] = n2['clean_last_name2']\n",
    "del n2['clean_last_name2']\n",
    "n3 = apps.loc[~(pd.isnull(apps.clean_last_name3)), :]\n",
    "n3.loc[:, 'clean_last_name'] = n3['clean_last_name2']\n",
    "del n3['clean_last_name3']\n"
   ]
  },
  {
   "cell_type": "code",
   "execution_count": 148,
   "metadata": {
    "collapsed": false
   },
   "outputs": [
    {
     "name": "stdout",
     "output_type": "stream",
     "text": [
      "time: 2.79 ms\n"
     ]
    }
   ],
   "source": [
    "cols = [\n",
    "    'first_name', 'middle_name', 'last_name', 'dno', 'hash_id', 'person_uuid', 'first_initial', \n",
    "    'middle_initial', 'clean_last_name', 'medical_school', 'application_year_min', 'application_year_max'\n",
    "] + NAME_COLS"
   ]
  },
  {
   "cell_type": "code",
   "execution_count": 149,
   "metadata": {
    "collapsed": false
   },
   "outputs": [
    {
     "name": "stdout",
     "output_type": "stream",
     "text": [
      "time: 109 ms\n"
     ]
    }
   ],
   "source": [
    "# concat all the rows together\n",
    "all_versions = pd.concat([apps, n1, n2, n3], axis=0).sort_values(NAME_COLS+['hash_id'])"
   ]
  },
  {
   "cell_type": "code",
   "execution_count": 150,
   "metadata": {
    "collapsed": false
   },
   "outputs": [
    {
     "name": "stdout",
     "output_type": "stream",
     "text": [
      "time: 635 ms\n"
     ]
    }
   ],
   "source": [
    "# to csv \n",
    "all_versions[cols].to_csv(os.path.join(APP_DATA_DIR, 'multi_name_versions_AMA_match.csv'), index=False)"
   ]
  },
  {
   "cell_type": "code",
   "execution_count": null,
   "metadata": {
    "collapsed": true
   },
   "outputs": [],
   "source": []
  }
 ],
 "metadata": {
  "kernelspec": {
   "display_name": "Python 2",
   "language": "python",
   "name": "python2"
  },
  "language_info": {
   "codemirror_mode": {
    "name": "ipython",
    "version": 2
   },
   "file_extension": ".py",
   "mimetype": "text/x-python",
   "name": "python",
   "nbconvert_exporter": "python",
   "pygments_lexer": "ipython2",
   "version": "2.7.12"
  }
 },
 "nbformat": 4,
 "nbformat_minor": 1
}
