{
 "cells": [
  {
   "cell_type": "code",
   "execution_count": 66,
   "metadata": {
    "collapsed": true
   },
   "outputs": [],
   "source": [
    "# read in known applicant files, dedupe and try to merge with applicants file\n",
    "from collections import Counter\n",
    "import difflib\n",
    "import uuid\n",
    "import itertools\n",
    "import pandas as pd\n",
    "import numpy as np\n",
    "import string\n",
    "import funcy\n",
    "import re\n",
    "import os"
   ]
  },
  {
   "cell_type": "code",
   "execution_count": 2,
   "metadata": {
    "collapsed": false
   },
   "outputs": [
    {
     "name": "stdout",
     "output_type": "stream",
     "text": [
      "/home/lraymond/MIT/Azoulay_2016/yellow_berets/yellow_beret/Data/applicant_data\n"
     ]
    }
   ],
   "source": [
    "ASSOC_DATA_DIR = os.path.abspath('Data/applicant_data')\n",
    "CARD_DATA_DIR = os.path.abspath('Data/raw_card_data')\n",
    "\n",
    "print ASSOC_DATA_DIR\n",
    "r1_file = '1964-1973 associates.XLS'\n",
    "r2_file = 'Associates alpha by institute.XLS'\n",
    "r3_file = 'Associates data.XLS'\n",
    "r4_file = 'NIMH Associates Complete.XLS'\n",
    "r5_file = 'NINDB Associates alpha by year.xls'\n",
    "filenames = [r1_file, r2_file, r3_file, r4_file, r5_file]"
   ]
  },
  {
   "cell_type": "code",
   "execution_count": 3,
   "metadata": {
    "collapsed": false
   },
   "outputs": [
    {
     "name": "stdout",
     "output_type": "stream",
     "text": [
      "WARNING *** OLE2 inconsistency: SSCS size is 0 but SSAT size is non-zero\n",
      "WARNING *** OLE2 inconsistency: SSCS size is 0 but SSAT size is non-zero\n"
     ]
    }
   ],
   "source": [
    "file_df = map(lambda x: pd.read_excel(os.path.join(ASSOC_DATA_DIR, x)), filenames)"
   ]
  },
  {
   "cell_type": "code",
   "execution_count": 4,
   "metadata": {
    "collapsed": true
   },
   "outputs": [],
   "source": [
    "file_4_columns = [\n",
    "    'dno', 'source', 'unknown', 'lastname', 'first_middle', 'institute', 'lab_brch', \n",
    "    'program', 'supervisor', 'eod_year', 'med_school', 'year_grad', 'intern_hos', 'intern_dte',\n",
    "       'res_hosp', 'residency', 'res_dtes'\n",
    "]"
   ]
  },
  {
   "cell_type": "code",
   "execution_count": 5,
   "metadata": {
    "collapsed": false
   },
   "outputs": [],
   "source": [
    "file_df[2].rename(columns={'lname':'lastname', 'fname': 'first_middle'}, inplace=True)\n",
    "file_df[1].rename(columns={'lname':'lastname', 'fname': 'first_middle'}, inplace=True)"
   ]
  },
  {
   "cell_type": "code",
   "execution_count": 6,
   "metadata": {
    "collapsed": false
   },
   "outputs": [],
   "source": [
    "file_df[4].columns = file_4_columns\n",
    "# for each files in the list, add a column to track source\n",
    "for name, f in zip(filenames, file_df):\n",
    "    f.loc[:, 'data_source'] = name\n",
    "concat_df = pd.concat(file_df)"
   ]
  },
  {
   "cell_type": "code",
   "execution_count": 7,
   "metadata": {
    "collapsed": false
   },
   "outputs": [
    {
     "name": "stdout",
     "output_type": "stream",
     "text": [
      "True\n"
     ]
    }
   ],
   "source": [
    "print sum(map(lambda x: x.shape[0], file_df)) == concat_df.shape[0]"
   ]
  },
  {
   "cell_type": "code",
   "execution_count": 8,
   "metadata": {
    "collapsed": false
   },
   "outputs": [],
   "source": [
    "# apply a basic string cleaning function to the names- removing all punctuation, changing to all uppercase\n",
    "\n",
    "def trans_remov_punc(to_change, change_to):\n",
    "    # removes specified punctuation using string maketrans (very fast, C lookups)\n",
    "    #returns partially evaluated fnc\n",
    "    trantab = string.maketrans(to_change, change_to)\n",
    "    return funcy.func_partial(lambda x: x.translate(trantab))\n",
    "\n",
    "\n",
    "def standardize_whitespace(pub_str):\n",
    "    return ' '.join(filter(None, pub_str.split(' ')))\n",
    "\n",
    "\n",
    "def remove_punc(pub_str):\n",
    "    # function to remove punctuation\n",
    "    nonelst = ' '*len(string.punctuation)\n",
    "    fn = trans_remov_punc(string.punctuation, nonelst)\n",
    "    pub_str2 = str(pub_str)\n",
    "    new_str = fn(pub_str2)\n",
    "    # standardize spaces\n",
    "    return standardize_whitespace(new_str)\n",
    "\n",
    "\n",
    "def clean_names(name):\n",
    "    # if name is missing, return null\n",
    "    if pd.isnull(name):\n",
    "        return np.nan\n",
    "    # uppercase \n",
    "    upp = name.upper()\n",
    "    return remove_punc(upp)\n",
    "\n",
    "    # pull off suffix in some last names into seperate column\n",
    "def has_suffix(raw_last_name):\n",
    "    # a boolean fnc to identify which rows may have a suffix\n",
    "    last_lst = raw_last_name.split(' ')\n",
    "    if len(last_lst) == 1:\n",
    "        # if no white spaces in last name, only 1 word, so no suffix\n",
    "        return False\n",
    "    suffixes = ['JR', 'SR', 'I', 'II', 'III', 'IV', 'V', 'VI']\n",
    "    # want to differentiate between suffix (JR, SR, I, II, III, IV, V) between last names with multiple parts (ex. st john)\n",
    "    # check if last word in list\n",
    "    return (last_lst[-1] in suffixes)"
   ]
  },
  {
   "cell_type": "code",
   "execution_count": 9,
   "metadata": {
    "collapsed": true
   },
   "outputs": [],
   "source": [
    "# college name standardization fnc\n",
    "def clean_std_college_name(college_raw):\n",
    "# need to change 'college to university' unless Boston college or BU remove ANDS, AT, THE expand UCLA to UCAL, UC Davis etc.\n",
    "# remove mispellings 'collge', UNIVERWSITY, MASSACHUSSETTS \n",
    "# RENSSELAER UNIVERSITY and RENSSELAER POLYTECHNICAL INSTITUTE to RENSSELAER POLYTECHNIC INSTITUTE\n",
    "# JOHN HOPKINS UNIVERSITY to JOHNS\n",
    "# HOLY CROSS COLLEGE to HOLY CROSS\n",
    "# FRANKLIN MARSHALL COLLEGE' to FRANKLIN MARSHALL\n",
    "# DE PAUW to DEPAUW\n",
    "# ASBURY ASHBURY \n",
    "# DREXEL INSTITUTE OF TECHNOLOGY to DREXEL UNIVERSITY\n",
    "# A B BROWN UNIVERSITY to Brown\n",
    "# DARTMOUTH MEDICAL SCHOOL to Dartmouth\n",
    "# remove random 1961 at the end of strings, (anything after university unless univ is the first word)\n",
    "    if pd.isnull(college_raw):\n",
    "        return np.nan\n",
    "    # if AT or AND or THE, remove\n",
    "    to_remove = [\n",
    "        ' AND ', ' AT ', 'THE ', ' COLLGE', 'UNIVERISTY', 'UNIVERWSITY', 'MASSACHUSSETTS', 'JOHN ', 'DE PAUW', 'ASBURY', \n",
    "    'DREXEL INSTITUTE OF TECHNOLOGY', 'A B BROWN UNIVERSITY', 'DARTMOUTH MEDICAL SCHOOL', 'RENSSELAER UNIVERSITY', \n",
    "    'RENSSELAER POLYTECHNICAL INSTITUTE', ' STE', 'COLLEGE OF HOLY CROSS', 'HOLLY CROSS', 'JOHNSS ',  'BERKLEY',\n",
    "    'UC ', 'PITTSBURRGH', 'WESLYN', 'WILLAMS', 'GEORGIA TECH', 'NEW YORK UNIVERSITY UNIV', \n",
    "    'UNIVERSITY OF MICHIGAN IS A', 'OHIO', 'STATE UNIVERSITY OF NEW YORK AT BUFFALO']\n",
    "    to_replace = [\n",
    "        ' ', ' ', ' ', ' COLLEGE', 'UNIVERSITY', 'UNIVERSITY', 'MASSACHUSETTS', 'JOHNS ', 'DEPAUW', 'ASHBURY',\n",
    "        'DREXEL UNIVERSITY', 'BROWN UNIVERSITY', 'DARTMOUTH', 'RENSSELAER POLYTECHNIC INSTITUTE', \n",
    "        'RENSSELAER POLYTECHNIC INSTITUTE', ' STATE', 'HOLY CROSS', 'HOLY CROSS', 'JOHNS ', \n",
    "        ' BERKELEY', 'UNIVERSITY OF CALIFORNIA ', 'PITTSBURGH', 'WESLEYAN', 'WILLIAMS', \n",
    "        'GEORGIA INSTITUTE OF TECHNOLOGY', 'NEW YORK', 'UNIVERSITY OF MICHIGAN', 'OHIO STATE', 'SUNY BUFFALO']\n",
    "    word_pairs = zip(to_remove, to_replace)\n",
    "    # list of words to replace\n",
    "    words_in_str = filter(lambda (x, y): x in college_raw, word_pairs)\n",
    "    trans_word = college_raw\n",
    "    for to_remove_wrd, to_replace_wrd in words_in_str:\n",
    "        trans_word = trans_word.replace(to_remove_wrd, to_replace_wrd)\n",
    "        \n",
    "    # after replacing the mispellings and removing and/at, remove everything after college/university\n",
    "    if 'BOSTON' in trans_word:\n",
    "        # then this string is BC or BU, so just return string\n",
    "        return trans_word\n",
    "    if trans_word.find('UNIVESITY ') == 0:\n",
    "        return trans_word\n",
    "    split_wrd = ' UNIVERSITY'\n",
    "    if 'COLLEGE' in trans_word:\n",
    "        split_wrd = ' COLLEGE'\n",
    "    base_word = trans_word.split(split_wrd)[0]\n",
    "    return standardize_whitespace(base_word)"
   ]
  },
  {
   "cell_type": "code",
   "execution_count": 10,
   "metadata": {
    "collapsed": true
   },
   "outputs": [],
   "source": [
    "def strip_first_middle(raw_str):\n",
    "    # looks like first middle coded as first middle or first, middle or event first, middle initial suffix\n",
    "    if pd.isnull(raw_str):\n",
    "        return pd.Series({'firstname2': np.nan, 'middlename2': np.nan, 'suffix': np.nan})\n",
    "    split_space = raw_str.split(' ') \n",
    "    find_per = raw_str.find('.')\n",
    "    find_comma = raw_str.find(',')\n",
    "    \n",
    "    if len(split_space) == 1 and find_per == -1 and find_comma == -1:\n",
    "        # just a one word sequence with first name\n",
    "        return pd.Series({'firstname2': raw_str, 'middlename2': np.nan, 'suffix': np.nan})\n",
    "    clean_str = remove_punc(raw_str)\n",
    "    lst_clean_str = clean_str.split(' ')\n",
    "    middle = lst_clean_str[1] if len(lst_clean_str) > 1 else np.nan\n",
    "    suffix = lst_clean_str[2] if len(lst_clean_str) > 2 else np.nan\n",
    "    return pd.Series({'firstname2': lst_clean_str[0], 'middlename2': middle, 'suffix': suffix})"
   ]
  },
  {
   "cell_type": "code",
   "execution_count": 11,
   "metadata": {
    "collapsed": false
   },
   "outputs": [],
   "source": [
    "# now we have all the associates, sep first middle into first and middle name, then sort and check \n",
    "# to see if we have any duplicates\n",
    "df2 = pd.concat([concat_df, concat_df.loc[:, 'first_middle'].apply(strip_first_middle)], axis=1)\n",
    "# consolidate firstname columns\n",
    "df2.loc[~pd.isnull(df2.first_middle), 'firstname'] = df2.loc[~pd.isnull(df2.first_middle), 'firstname2']\n",
    "df2.loc[pd.isnull(df2.middlename), 'middlename'] = df2.loc[pd.isnull(df2.middlename), 'middlename2']"
   ]
  },
  {
   "cell_type": "code",
   "execution_count": 12,
   "metadata": {
    "collapsed": false
   },
   "outputs": [],
   "source": [
    "df3 = df2.drop(['first_middle', 'firstname2', 'middlename2'], axis=1)"
   ]
  },
  {
   "cell_type": "code",
   "execution_count": 13,
   "metadata": {
    "collapsed": false
   },
   "outputs": [],
   "source": [
    "# dropnow where both first and last name are missing\n",
    "df3 = df3.dropna(subset=['firstname', 'lastname'], how='all')"
   ]
  },
  {
   "cell_type": "code",
   "execution_count": 14,
   "metadata": {
    "collapsed": false
   },
   "outputs": [
    {
     "data": {
      "text/plain": [
       "array(['1964-1973 associates.XLS', 'Associates alpha by institute.XLS',\n",
       "       'Associates data.XLS', 'NIMH Associates Complete.XLS',\n",
       "       'NINDB Associates alpha by year.xls'], dtype=object)"
      ]
     },
     "execution_count": 14,
     "metadata": {},
     "output_type": "execute_result"
    }
   ],
   "source": [
    "# df3.dropna(subset=['firstname', 'lastname'], how='all').loc[:, ['firstname', 'lastname', 'dno', 'data_source']]\n",
    "df3.dropna(subset=['firstname', 'lastname'], how='all').loc[:, 'data_source'].unique()\n"
   ]
  },
  {
   "cell_type": "code",
   "execution_count": 15,
   "metadata": {
    "collapsed": true
   },
   "outputs": [],
   "source": [
    "df3_sorted = df3.sort_values(by=['dno'])"
   ]
  },
  {
   "cell_type": "code",
   "execution_count": 16,
   "metadata": {
    "collapsed": true
   },
   "outputs": [],
   "source": [
    "df3_unique = df3.drop_duplicates('dno')"
   ]
  },
  {
   "cell_type": "code",
   "execution_count": 17,
   "metadata": {
    "collapsed": false
   },
   "outputs": [
    {
     "name": "stderr",
     "output_type": "stream",
     "text": [
      "/home/lraymond/MIT/Azoulay_2016/yellow_berets/yb/local/lib/python2.7/site-packages/pandas/core/indexing.py:288: SettingWithCopyWarning: \n",
      "A value is trying to be set on a copy of a slice from a DataFrame.\n",
      "Try using .loc[row_indexer,col_indexer] = value instead\n",
      "\n",
      "See the caveats in the documentation: http://pandas.pydata.org/pandas-docs/stable/indexing.html#indexing-view-versus-copy\n",
      "  self.obj[key] = _infer_fill_value(value)\n",
      "/home/lraymond/MIT/Azoulay_2016/yellow_berets/yb/local/lib/python2.7/site-packages/pandas/core/indexing.py:465: SettingWithCopyWarning: \n",
      "A value is trying to be set on a copy of a slice from a DataFrame.\n",
      "Try using .loc[row_indexer,col_indexer] = value instead\n",
      "\n",
      "See the caveats in the documentation: http://pandas.pydata.org/pandas-docs/stable/indexing.html#indexing-view-versus-copy\n",
      "  self.obj[item] = s\n"
     ]
    }
   ],
   "source": [
    "df3_unique.loc[:, 'clean_firstname'] = df3_unique['firstname'].apply(clean_names)\n",
    "df3_unique.loc[:, 'clean_middlename'] = df3_unique['middlename'].apply(clean_names)\n",
    "df3_unique.loc[:, 'clean_lastname'] = df3_unique['lastname'].apply(clean_names)"
   ]
  },
  {
   "cell_type": "code",
   "execution_count": 18,
   "metadata": {
    "collapsed": false
   },
   "outputs": [],
   "source": [
    "# it seems that dno does refer to unique person, so drop dups based on that \n",
    "# save this unique to pick\n",
    "df3_unique.to_pickle(os.path.join(ASSOC_DATA_DIR, 'unique_attendees.p'))"
   ]
  },
  {
   "cell_type": "code",
   "execution_count": 19,
   "metadata": {
    "collapsed": true
   },
   "outputs": [],
   "source": [
    "# to csv\n",
    "df3_unique.to_csv(os.path.join(ASSOC_DATA_DIR, 'unique_attendees.csv'))"
   ]
  },
  {
   "cell_type": "code",
   "execution_count": 20,
   "metadata": {
    "collapsed": true
   },
   "outputs": [],
   "source": [
    "# import applicants file and try to merge with attendees\n",
    "# interested to see how many applicants were NOT accepted\n",
    "apps = pd.read_pickle(os.path.join(CARD_DATA_DIR, 'unique_applicants.p'))"
   ]
  },
  {
   "cell_type": "code",
   "execution_count": 21,
   "metadata": {
    "collapsed": true
   },
   "outputs": [],
   "source": [
    "# rename columns in df3 to match\n",
    "# change residency and internship dates to be YYYY-YYYY instead of YYYY-YY\n",
    "def long_form_date(dt_str):\n",
    "    if pd.isnull(dt_str):\n",
    "        return dt_str\n",
    "    m = re.match(r'(\\d{4})-(\\d{2})', dt_str)\n",
    "    if m:\n",
    "        g = m.groups()\n",
    "        return '{0}-19{1}'.format(g[0], g[1])\n",
    "    m = re.match(r'(\\d{4})', dt_str)\n",
    "    if m:\n",
    "        return dt_str\n",
    "    print dt_str\n",
    "    return np.nan\n",
    "    "
   ]
  },
  {
   "cell_type": "code",
   "execution_count": 22,
   "metadata": {
    "collapsed": false
   },
   "outputs": [
    {
     "name": "stdout",
     "output_type": "stream",
     "text": [
      "\"Open\"\n"
     ]
    }
   ],
   "source": [
    "apps['res_dates'] = apps['residency_year(s)'].apply(long_form_date)"
   ]
  },
  {
   "cell_type": "code",
   "execution_count": 23,
   "metadata": {
    "collapsed": false
   },
   "outputs": [
    {
     "name": "stdout",
     "output_type": "stream",
     "text": [
      "Str. Medicine\n",
      "Medicine\n"
     ]
    }
   ],
   "source": [
    "apps['intern_dates'] = apps['internship_year(s)'].apply(long_form_date)"
   ]
  },
  {
   "cell_type": "code",
   "execution_count": 24,
   "metadata": {
    "collapsed": false
   },
   "outputs": [
    {
     "name": "stderr",
     "output_type": "stream",
     "text": [
      "/home/lraymond/MIT/Azoulay_2016/yellow_berets/yb/local/lib/python2.7/site-packages/pandas/core/frame.py:2754: SettingWithCopyWarning: \n",
      "A value is trying to be set on a copy of a slice from a DataFrame\n",
      "\n",
      "See the caveats in the documentation: http://pandas.pydata.org/pandas-docs/stable/indexing.html#indexing-view-versus-copy\n",
      "  **kwargs)\n"
     ]
    }
   ],
   "source": [
    "df3_unique.rename(columns={'res_dtes': 'res_dates', 'intern_dte': 'intern_dates', 'res_hosp': 'residency_hospital', \n",
    "                          'intern_hos': 'internship_hospital', 'clean_middlename': 'clean_middle_name', \n",
    "                          'clean_firstname': 'clean_first_name', 'clean_lastname': 'clean_last_name', \n",
    "                          'med_school': 'medical_school'}, inplace=True)"
   ]
  },
  {
   "cell_type": "code",
   "execution_count": 31,
   "metadata": {
    "collapsed": true
   },
   "outputs": [],
   "source": [
    "apps.rename(columns={'residency_type': 'residency', 'internship_hospital_1': 'internship_hospital'}, inplace=True)"
   ]
  },
  {
   "cell_type": "code",
   "execution_count": 32,
   "metadata": {
    "collapsed": false,
    "scrolled": true
   },
   "outputs": [],
   "source": [
    "NAME_COLS = ['clean_middle_name', 'clean_last_name', 'clean_first_name']"
   ]
  },
  {
   "cell_type": "code",
   "execution_count": 33,
   "metadata": {
    "collapsed": true
   },
   "outputs": [],
   "source": [
    "MED_TRAINING_COLS = ['res_dates', 'intern_dates', 'residency_hospital', 'internship_hospital', 'medical_school', 'residency']"
   ]
  },
  {
   "cell_type": "code",
   "execution_count": 34,
   "metadata": {
    "collapsed": true
   },
   "outputs": [],
   "source": [
    "# apply string cleaning to each of the medical training info cols\n",
    "for c in ['medical_school', 'residency_hospital', 'internship_hospital', 'residency', 'institute']:\n",
    "    df3_unique.loc[:, c] = df3_unique[c].apply(clean_names)"
   ]
  },
  {
   "cell_type": "code",
   "execution_count": 37,
   "metadata": {
    "collapsed": false
   },
   "outputs": [],
   "source": [
    "# apply string cleaning to each of the medical training info cols\n",
    "for c in ['medical_school', 'residency_hospital', 'internship_hospital', 'residency']:\n",
    "    apps.loc[:, c] = apps[c].apply(clean_names)"
   ]
  },
  {
   "cell_type": "code",
   "execution_count": 68,
   "metadata": {
    "collapsed": false
   },
   "outputs": [],
   "source": [
    "# create counter objects for each data set that count the number of times the last name occurs in either data set\n",
    "attendees_counter = Counter(df3_unique.clean_last_name)"
   ]
  },
  {
   "cell_type": "code",
   "execution_count": 71,
   "metadata": {
    "collapsed": true
   },
   "outputs": [],
   "source": [
    "apps_counter = Counter(apps.clean_last_name)"
   ]
  },
  {
   "cell_type": "code",
   "execution_count": 72,
   "metadata": {
    "collapsed": false
   },
   "outputs": [
    {
     "data": {
      "text/plain": [
       "23"
      ]
     },
     "execution_count": 72,
     "metadata": {},
     "output_type": "execute_result"
    }
   ],
   "source": [
    "apps_counter['BROWN']"
   ]
  },
  {
   "cell_type": "code",
   "execution_count": 183,
   "metadata": {
    "collapsed": true
   },
   "outputs": [],
   "source": [
    "def clean_med_school(raw_med_school):\n",
    "    # cleanup med school string so we can do useful string comparison on it\n",
    "    # if contains COLUMBIA, return COLUMBIA\n",
    "    # remove\n",
    "    if pd.isnull(raw_med_school):\n",
    "        return raw_med_school\n",
    "    \n",
    "    # after replacing the mispellings and removing and/at, remove everything after college/university\n",
    "    if 'BOSTON UNIVERSITY' in raw_med_school:\n",
    "        # then this string is BC or BU, so just return string\n",
    "        return 'BOSTON UNIVERSITY'\n",
    "    \n",
    "    to_remove = [\n",
    "        ' AND ', ' AT ', 'THE ', 'STATE UNIVERSITY OF NEW YORK',\n",
    "        'STATE UNIVERSITY OF NEW YORK AT BUFFALO',  \n",
    "        'STATE UNIVERSITY OF N Y', 'N Y UNIVERSITY', 'WASH ', 'MICH ', 'FO ',\n",
    "        ' COLLGE', 'UNIVERISTY', 'UNIVERWSITY', 'BERKLEY',  'NEW YORK UNIVERSITY UNIV', \n",
    "        'STATE UNIVERSITY OF NEW YORK AT BUFFALO', 'UCSF', 'UCD', 'UNIVERSITY OF CALIFORNIA SF', 'NYU', \n",
    "        ' UNIVERSITY SCHOOL OF MEDICINE', ' UNIVERSITY SCHOOL OF MED', \n",
    "        ' UNIVERSITY OF MEDICINE', ' COLLEGE OF MEDICINE', ' SCHOOL OF MEDICINE', 'MEDICAL COLLEGE OF ', \n",
    "      ' MEDICAL SCHOOL', ' HEALTH SCIENCES CENTER', ' PRITZKER', ' MEDICAL']\n",
    "        \n",
    "    to_replace = [\n",
    "        ' ', ' ', ' ', 'SUNY', \n",
    "        'SUNY BUFFALO', 'SUNY','NEW YORK UNIVERSITY',\n",
    "        'WASHINGTON ', 'MICHIGAN ', 'OF ',\n",
    "        ' COLLEGE', 'UNIVERSITY', 'UNIVERSITY', 'UNIVERSITY OF CALIFORNIA BERKELEY',\n",
    "        'NEW YORK UNIVERSITY', 'SUNY BUFFALO', 'UNIVERSITY OF CALIFORNIA SAN FRANCISCO', \n",
    "        'UNIVERSITY OF CALIFORNIA DAVIS', 'UNIVERSITY OF CALIFORNIA SAN FRANCISCO', 'NEW YORK UNIVERSITY',\n",
    "        ' ', ' ', ' ', ' ', ' ', ' ', ' ', ' ', ' ', ' ']\n",
    "    word_pairs = zip(to_remove, to_replace)\n",
    "    # list of words to replace\n",
    "    words_in_str = filter(lambda (x, y): x in raw_med_school, word_pairs)\n",
    "    trans_word = raw_med_school\n",
    "    for to_remove_wrd, to_replace_wrd in words_in_str:\n",
    "        trans_word = trans_word.replace(to_remove_wrd, to_replace_wrd)\n",
    "    if 'COLUMBIA' in trans_word or ('PHYSICIANS' in trans_word and 'SURGEONS' in trans_word) or 'P S ' in trans_word:\n",
    "        return 'COLUMBIA'\n",
    "    if 'CORNELL ' in trans_word:\n",
    "        return 'CORNELL'\n",
    "    if 'ALBERT EINSTEIN' in trans_word:\n",
    "        return 'ALBERT EINSTEIN'\n",
    "    if 'THOMAS JEFFERSON' in trans_word:\n",
    "        return 'THOMAS JEFFERSON'\n",
    "    # search for various SUNY\n",
    "    # search for various UC schools\n",
    "    if trans_word.find(' ') == 0:\n",
    "        return trans_word\n",
    "    split_wrd = ' UNIVERSITY'\n",
    "    if 'COLLEGE' in trans_word:\n",
    "        split_wrd = ' COLLEGE'\n",
    "    base_word = trans_word.split(split_wrd)[0]\n",
    "    return standardize_whitespace(base_word)\n",
    "    \n",
    "        "
   ]
  },
  {
   "cell_type": "code",
   "execution_count": 184,
   "metadata": {
    "collapsed": false
   },
   "outputs": [],
   "source": [
    "apps.loc[:, 'clean_medical_school'] = apps.medical_school.apply(clean_med_school)\n",
    "df3_unique.loc[:, 'clean_medical_school'] = df3_unique.medical_school.apply(clean_med_school)"
   ]
  },
  {
   "cell_type": "code",
   "execution_count": 185,
   "metadata": {
    "collapsed": false
   },
   "outputs": [],
   "source": [
    "exact_name_matches = pd.merge(left=df3_unique, right=apps, left_on=['clean_first_name', 'clean_middle_name', 'clean_last_name'], right_on=[\n",
    "        'clean_first_name', 'clean_middle_name', 'clean_last_name'], how='inner')"
   ]
  },
  {
   "cell_type": "code",
   "execution_count": 186,
   "metadata": {
    "collapsed": false
   },
   "outputs": [],
   "source": [
    "not_matched_apps = apps.loc[~apps.uuid.isin(exact_name_matches.uuid), :]\n",
    "not_matched_attendees = df3_unique.loc[~df3_unique.dno.isin(exact_name_matches.dno), :]\n",
    "\n",
    "first_last_matches = pd.merge(left=not_matched_attendees, right=not_matched_apps, left_on=['clean_first_name', 'clean_last_name'], right_on=[\n",
    "        'clean_first_name', 'clean_last_name'], how='inner')"
   ]
  },
  {
   "cell_type": "code",
   "execution_count": 187,
   "metadata": {
    "collapsed": true
   },
   "outputs": [],
   "source": [
    "# for the first and last matches, where the last name only occurs 1x in each data set, set confidence flag to 1\n",
    "first_last_matches.loc[:, 'last_name_counts'] = first_last_matches.clean_last_name.apply(\n",
    "    lambda x: apps_counter[x] + attendees_counter[x])"
   ]
  },
  {
   "cell_type": "code",
   "execution_count": 192,
   "metadata": {
    "collapsed": true
   },
   "outputs": [],
   "source": [
    "def define_med_school_junk(seq_elem):\n",
    "    # difflib sequence matcher first element can take a fnc that inputs a\n",
    "    # sequence element and returns True if it should be considered Junk\n",
    "    return seq_elem in ['MEDICAL', 'SCHOOL', 'UNIVERSITY', 'COLLEGE', 'OF', 'THE', 'MEDICINE', 'CENTER', 'DENTISTRY']"
   ]
  },
  {
   "cell_type": "code",
   "execution_count": 193,
   "metadata": {
    "collapsed": true
   },
   "outputs": [],
   "source": [
    "def str_sim_fnc(row, index1, index2, junk_fnc=None):\n",
    "    has_null = any(map(lambda x: pd.isnull(x), row.values))\n",
    "    if has_null:\n",
    "        return np.nan\n",
    "    return difflib.SequenceMatcher(\n",
    "        junk_fnc, row[index1], row['clean_medical_school_y']).ratio()"
   ]
  },
  {
   "cell_type": "code",
   "execution_count": 194,
   "metadata": {
    "collapsed": true,
    "scrolled": true
   },
   "outputs": [],
   "source": [
    "get_str_sim = funcy.rpartial(str_sim_fnc, 'clean_medical_school_x', 'clean_medical_school_y', define_med_school_junk)\n"
   ]
  },
  {
   "cell_type": "code",
   "execution_count": 195,
   "metadata": {
    "collapsed": false
   },
   "outputs": [],
   "source": [
    "first_last_matches.loc[:, 'med_school_sim'] = first_last_matches[[\n",
    "        'clean_medical_school_x', 'clean_medical_school_y']].apply(get_str_sim, axis=1)"
   ]
  },
  {
   "cell_type": "code",
   "execution_count": 216,
   "metadata": {
    "collapsed": true
   },
   "outputs": [],
   "source": [
    "def get_years(dt_str):\n",
    "    # return int date strings\n",
    "    try:\n",
    "        single_year = (dt_str.find('-') == -1)\n",
    "        if single_year:\n",
    "            return [dt_str]\n",
    "        return dt_str.split('-')\n",
    "    except ValueError as e:\n",
    "        print dt_str\n",
    "        return np.nan\n",
    "\n",
    "def get_dts_sim(row, name_str):\n",
    "    has_null = any(map(lambda x: pd.isnull(x), row.values))\n",
    "    if has_null:\n",
    "        return np.nan\n",
    "    dt1 = row['{}_x'.format(name_str)]\n",
    "    dt2 = row['{}_y'.format(name_str)]\n",
    "    dates_tup1 = get_years(dt1)\n",
    "    dates_tup2 = get_years(dt2)\n",
    "    # if dates match exactly, return 1\n",
    "    unique_dts = set(funcy.concat(dates_tup1, dates_tup2))\n",
    "    return (len(unique_dts) < (len(dates_tup1) + len(dates_tup2)))\n",
    "    "
   ]
  },
  {
   "cell_type": "code",
   "execution_count": 217,
   "metadata": {
    "collapsed": true
   },
   "outputs": [],
   "source": [
    "get_intern_dts_sim = funcy.rpartial(get_dts_sim, 'intern_dates')"
   ]
  },
  {
   "cell_type": "code",
   "execution_count": 218,
   "metadata": {
    "collapsed": false
   },
   "outputs": [],
   "source": [
    "first_last_matches.loc[:, 'internship_sim'] = first_last_matches[[\n",
    "        'intern_dates_x', 'intern_dates_y']].apply(get_intern_dts_sim, axis=1)"
   ]
  },
  {
   "cell_type": "code",
   "execution_count": 233,
   "metadata": {
    "collapsed": false
   },
   "outputs": [],
   "source": [
    "# drop all first and last name matches where the med school sim < .6 \n",
    "first_last_matches.loc[(first_last_matches['last_name_counts'] < 2), 'match_score'] = 1\n",
    "first_last_matches.loc[((first_last_matches['last_name_counts'] > 1) & (\n",
    "            first_last_matches['med_school_sim'] > .6) & (first_last_matches['internship_sim']==True)), 'match_score'] = 1\n",
    "first_last_matches.loc[((first_last_matches['last_name_counts'] > 1) & (\n",
    "            first_last_matches['med_school_sim'] > .6) & (pd.isnull(first_last_matches['internship_sim']))), 'match_score'] = 1"
   ]
  },
  {
   "cell_type": "code",
   "execution_count": 234,
   "metadata": {
    "collapsed": false
   },
   "outputs": [],
   "source": [
    "first_last_matches.loc[pd.isnull(first_last_matches.match_score), 'match_score'] = 0"
   ]
  },
  {
   "cell_type": "code",
   "execution_count": 219,
   "metadata": {
    "collapsed": true
   },
   "outputs": [],
   "source": [
    "# drop all people without a good match score\n"
   ]
  },
  {
   "cell_type": "code",
   "execution_count": 220,
   "metadata": {
    "collapsed": false
   },
   "outputs": [
    {
     "data": {
      "text/html": [
       "<div>\n",
       "<table border=\"1\" class=\"dataframe\">\n",
       "  <thead>\n",
       "    <tr style=\"text-align: right;\">\n",
       "      <th></th>\n",
       "      <th>medical_school_x</th>\n",
       "      <th>medical_school_y</th>\n",
       "    </tr>\n",
       "  </thead>\n",
       "  <tbody>\n",
       "    <tr>\n",
       "      <th>59</th>\n",
       "      <td>STATE UNIVERSITY OF NEW YORK AT BUFFALO SCHOOL...</td>\n",
       "      <td>SUNY BUFFALO SCHOOL OF MEDICINE BIOMEDICAL SCI...</td>\n",
       "    </tr>\n",
       "  </tbody>\n",
       "</table>\n",
       "</div>"
      ],
      "text/plain": [
       "                                     medical_school_x  \\\n",
       "59  STATE UNIVERSITY OF NEW YORK AT BUFFALO SCHOOL...   \n",
       "\n",
       "                                     medical_school_y  \n",
       "59  SUNY BUFFALO SCHOOL OF MEDICINE BIOMEDICAL SCI...  "
      ]
     },
     "execution_count": 220,
     "metadata": {},
     "output_type": "execute_result"
    }
   ],
   "source": [
    "first_last_matches.loc[first_last_matches['clean_last_name']=='LARSON', ['medical_school_x', 'medical_school_y']]"
   ]
  },
  {
   "cell_type": "code",
   "execution_count": 221,
   "metadata": {
    "collapsed": false
   },
   "outputs": [
    {
     "data": {
      "text/html": [
       "<div>\n",
       "<table border=\"1\" class=\"dataframe\">\n",
       "  <thead>\n",
       "    <tr style=\"text-align: right;\">\n",
       "      <th></th>\n",
       "      <th>clean_first_name</th>\n",
       "      <th>clean_last_name</th>\n",
       "      <th>clean_middle_name_x</th>\n",
       "      <th>clean_middle_name_y</th>\n",
       "      <th>clean_medical_school_x</th>\n",
       "      <th>clean_medical_school_y</th>\n",
       "      <th>med_school_sim</th>\n",
       "      <th>intern_dates_x</th>\n",
       "      <th>intern_dates_y</th>\n",
       "      <th>internship_sim</th>\n",
       "    </tr>\n",
       "  </thead>\n",
       "  <tbody>\n",
       "    <tr>\n",
       "      <th>12</th>\n",
       "      <td>JAMES</td>\n",
       "      <td>BROWN</td>\n",
       "      <td>EDWARD</td>\n",
       "      <td>KINGSBURY</td>\n",
       "      <td>YALE</td>\n",
       "      <td>UNIVERSITY OF ROCHESTER DENTISTRY</td>\n",
       "      <td>0.108108</td>\n",
       "      <td>1966-1967</td>\n",
       "      <td>1967-1968</td>\n",
       "      <td>True</td>\n",
       "    </tr>\n",
       "    <tr>\n",
       "      <th>18</th>\n",
       "      <td>JOHN</td>\n",
       "      <td>DAVIS</td>\n",
       "      <td>NaN</td>\n",
       "      <td>LUCIAN</td>\n",
       "      <td>YALE</td>\n",
       "      <td>VANDERBILT</td>\n",
       "      <td>0.285714</td>\n",
       "      <td>1960-1961</td>\n",
       "      <td>1960-1961</td>\n",
       "      <td>True</td>\n",
       "    </tr>\n",
       "    <tr>\n",
       "      <th>28</th>\n",
       "      <td>TERRANCE</td>\n",
       "      <td>FISHER</td>\n",
       "      <td>N</td>\n",
       "      <td>NaN</td>\n",
       "      <td>MARQUETTE</td>\n",
       "      <td>OTHER</td>\n",
       "      <td>0.142857</td>\n",
       "      <td>1962-1963</td>\n",
       "      <td>1962-1963</td>\n",
       "      <td>True</td>\n",
       "    </tr>\n",
       "    <tr>\n",
       "      <th>32</th>\n",
       "      <td>ROBERT</td>\n",
       "      <td>GORDON</td>\n",
       "      <td>NaN</td>\n",
       "      <td>DANA</td>\n",
       "      <td>YALE</td>\n",
       "      <td>CORNELL</td>\n",
       "      <td>0.181818</td>\n",
       "      <td>1969-1970</td>\n",
       "      <td>1971-1972</td>\n",
       "      <td>False</td>\n",
       "    </tr>\n",
       "    <tr>\n",
       "      <th>47</th>\n",
       "      <td>JOHN</td>\n",
       "      <td>JOHNSON</td>\n",
       "      <td>DAVID</td>\n",
       "      <td>WILCOX</td>\n",
       "      <td>STANFORD</td>\n",
       "      <td>UNIVERSITY OF TENNESSEE HEALTH SCIENCE CENTER</td>\n",
       "      <td>0.188679</td>\n",
       "      <td>1965-1966</td>\n",
       "      <td>1965-1966</td>\n",
       "      <td>True</td>\n",
       "    </tr>\n",
       "    <tr>\n",
       "      <th>48</th>\n",
       "      <td>JOHN</td>\n",
       "      <td>JOHNSON</td>\n",
       "      <td>S</td>\n",
       "      <td>WILCOX</td>\n",
       "      <td>VANDERBILT</td>\n",
       "      <td>UNIVERSITY OF TENNESSEE HEALTH SCIENCE CENTER</td>\n",
       "      <td>0.218182</td>\n",
       "      <td>1961-1962</td>\n",
       "      <td>1965-1966</td>\n",
       "      <td>False</td>\n",
       "    </tr>\n",
       "    <tr>\n",
       "      <th>55</th>\n",
       "      <td>ROBERT</td>\n",
       "      <td>KRAMER</td>\n",
       "      <td>JEFFERY</td>\n",
       "      <td>JEFFREY</td>\n",
       "      <td>HARVARD</td>\n",
       "      <td>UNIVERSITY OF WISCONSIN</td>\n",
       "      <td>0.066667</td>\n",
       "      <td>NaN</td>\n",
       "      <td>1971</td>\n",
       "      <td>NaN</td>\n",
       "    </tr>\n",
       "    <tr>\n",
       "      <th>59</th>\n",
       "      <td>HAROLD</td>\n",
       "      <td>LARSON</td>\n",
       "      <td>ELLIOTT</td>\n",
       "      <td>ELLIOT</td>\n",
       "      <td>SUNY BUFFALO</td>\n",
       "      <td>SUNY BUFFALO BIOMEDICAL SCIENCES</td>\n",
       "      <td>0.545455</td>\n",
       "      <td>1965-1966</td>\n",
       "      <td>1965-1966</td>\n",
       "      <td>True</td>\n",
       "    </tr>\n",
       "    <tr>\n",
       "      <th>64</th>\n",
       "      <td>ROBERT</td>\n",
       "      <td>MARCUS</td>\n",
       "      <td>ALAN</td>\n",
       "      <td>MORTON</td>\n",
       "      <td>STANFORD</td>\n",
       "      <td>UNIVERSITY OF CINCINNATI</td>\n",
       "      <td>0.187500</td>\n",
       "      <td>1966-1967</td>\n",
       "      <td>1966-1967</td>\n",
       "      <td>True</td>\n",
       "    </tr>\n",
       "    <tr>\n",
       "      <th>65</th>\n",
       "      <td>DAVID</td>\n",
       "      <td>MARTIN</td>\n",
       "      <td>HUBERT</td>\n",
       "      <td>WILLIAM</td>\n",
       "      <td>HARVARD</td>\n",
       "      <td>DUKE</td>\n",
       "      <td>0.181818</td>\n",
       "      <td>1969-1970</td>\n",
       "      <td>1969-1970</td>\n",
       "      <td>True</td>\n",
       "    </tr>\n",
       "    <tr>\n",
       "      <th>86</th>\n",
       "      <td>LEONARD</td>\n",
       "      <td>SCHWARTZMAN</td>\n",
       "      <td>NaN</td>\n",
       "      <td>JAY</td>\n",
       "      <td>UNIVERSITY OF CALIFORNIA LOS ANGELES</td>\n",
       "      <td>UNIVERSITY OF PENNSYLVANIA</td>\n",
       "      <td>0.580645</td>\n",
       "      <td>1962-1963</td>\n",
       "      <td>1962-1963</td>\n",
       "      <td>True</td>\n",
       "    </tr>\n",
       "    <tr>\n",
       "      <th>89</th>\n",
       "      <td>ANDREW</td>\n",
       "      <td>SILVERMAN</td>\n",
       "      <td>YECKES</td>\n",
       "      <td>YEKES</td>\n",
       "      <td>SUNY BUFFALO</td>\n",
       "      <td>SUNY BUFFALO BIOMEDICAL SCIENCES</td>\n",
       "      <td>0.545455</td>\n",
       "      <td>1972-1973</td>\n",
       "      <td>1972-1973</td>\n",
       "      <td>True</td>\n",
       "    </tr>\n",
       "    <tr>\n",
       "      <th>96</th>\n",
       "      <td>PETER</td>\n",
       "      <td>SULLIVAN</td>\n",
       "      <td>WM</td>\n",
       "      <td>W</td>\n",
       "      <td>U C M C</td>\n",
       "      <td>UNIVERSITY OF CALIFORNIA SAN FRANCISCO</td>\n",
       "      <td>0.266667</td>\n",
       "      <td>1971-1972</td>\n",
       "      <td>1971-1972</td>\n",
       "      <td>True</td>\n",
       "    </tr>\n",
       "    <tr>\n",
       "      <th>105</th>\n",
       "      <td>ROBERT</td>\n",
       "      <td>YOUNG</td>\n",
       "      <td>KONG</td>\n",
       "      <td>SAI KONG</td>\n",
       "      <td>YALE</td>\n",
       "      <td>CORNELL</td>\n",
       "      <td>0.181818</td>\n",
       "      <td>1970-1971</td>\n",
       "      <td>1970-1971</td>\n",
       "      <td>True</td>\n",
       "    </tr>\n",
       "    <tr>\n",
       "      <th>112</th>\n",
       "      <td>STEVEN</td>\n",
       "      <td>COLLINS</td>\n",
       "      <td>JAMES</td>\n",
       "      <td>CHAPLIN</td>\n",
       "      <td>COLUMBIA</td>\n",
       "      <td>CORNELL</td>\n",
       "      <td>0.400000</td>\n",
       "      <td>1973-1974</td>\n",
       "      <td>1973-1974</td>\n",
       "      <td>True</td>\n",
       "    </tr>\n",
       "    <tr>\n",
       "      <th>119</th>\n",
       "      <td>MICHAEL</td>\n",
       "      <td>KLEIN</td>\n",
       "      <td>E</td>\n",
       "      <td>DAVID</td>\n",
       "      <td>YALE</td>\n",
       "      <td>CASE WESTERN RESERVE</td>\n",
       "      <td>0.166667</td>\n",
       "      <td>NaN</td>\n",
       "      <td>1971-1972</td>\n",
       "      <td>NaN</td>\n",
       "    </tr>\n",
       "    <tr>\n",
       "      <th>122</th>\n",
       "      <td>ROBERT</td>\n",
       "      <td>SMITH</td>\n",
       "      <td>JOHN</td>\n",
       "      <td>CHARLES</td>\n",
       "      <td>DARTMOUTH</td>\n",
       "      <td>STANFORD</td>\n",
       "      <td>0.117647</td>\n",
       "      <td>NaN</td>\n",
       "      <td>1970</td>\n",
       "      <td>NaN</td>\n",
       "    </tr>\n",
       "    <tr>\n",
       "      <th>130</th>\n",
       "      <td>ROBERT</td>\n",
       "      <td>LEVY</td>\n",
       "      <td>NaN</td>\n",
       "      <td>JULES</td>\n",
       "      <td>YALE</td>\n",
       "      <td>JOHNS HOPKINS</td>\n",
       "      <td>0.000000</td>\n",
       "      <td>1961-1962</td>\n",
       "      <td>1961-1962</td>\n",
       "      <td>True</td>\n",
       "    </tr>\n",
       "    <tr>\n",
       "      <th>131</th>\n",
       "      <td>DAVID</td>\n",
       "      <td>SMITH</td>\n",
       "      <td>ALLEN</td>\n",
       "      <td>STUART</td>\n",
       "      <td>UNIVERSITY OF WASHINGTON SEATTLE WASHINGTON</td>\n",
       "      <td>YALE</td>\n",
       "      <td>0.170213</td>\n",
       "      <td>1987-1988</td>\n",
       "      <td>1960-1961</td>\n",
       "      <td>False</td>\n",
       "    </tr>\n",
       "    <tr>\n",
       "      <th>133</th>\n",
       "      <td>FRANK</td>\n",
       "      <td>BROWN</td>\n",
       "      <td>LOGAN</td>\n",
       "      <td>R</td>\n",
       "      <td>YALE</td>\n",
       "      <td>WASHINGTON</td>\n",
       "      <td>0.142857</td>\n",
       "      <td>1975-1976</td>\n",
       "      <td>1975-1976</td>\n",
       "      <td>True</td>\n",
       "    </tr>\n",
       "    <tr>\n",
       "      <th>136</th>\n",
       "      <td>ALAN</td>\n",
       "      <td>WEINSTEIN</td>\n",
       "      <td>MARK</td>\n",
       "      <td>STANLEY</td>\n",
       "      <td>HARVARD</td>\n",
       "      <td>UNIVERSITY OF PENNSYLVANIA</td>\n",
       "      <td>0.181818</td>\n",
       "      <td>1975-1976</td>\n",
       "      <td>1975-1976</td>\n",
       "      <td>True</td>\n",
       "    </tr>\n",
       "    <tr>\n",
       "      <th>137</th>\n",
       "      <td>ROBERT</td>\n",
       "      <td>WEISS</td>\n",
       "      <td>GEORGE</td>\n",
       "      <td>ALLEN</td>\n",
       "      <td>PENNSYLVANIA STATE UNIVERSITY</td>\n",
       "      <td>GEORGETOWN</td>\n",
       "      <td>0.100000</td>\n",
       "      <td>1983 to present</td>\n",
       "      <td>1971-1972</td>\n",
       "      <td>False</td>\n",
       "    </tr>\n",
       "    <tr>\n",
       "      <th>144</th>\n",
       "      <td>JAMES</td>\n",
       "      <td>SMITH</td>\n",
       "      <td>W</td>\n",
       "      <td>GOURTLANXL</td>\n",
       "      <td>UNIVERSITY OF LOUISVILLE</td>\n",
       "      <td>UNIVERSITY OF MINNESOTA TWIN CITIES</td>\n",
       "      <td>0.576271</td>\n",
       "      <td>1960-1961</td>\n",
       "      <td>1971-1972</td>\n",
       "      <td>False</td>\n",
       "    </tr>\n",
       "    <tr>\n",
       "      <th>158</th>\n",
       "      <td>ROBERT</td>\n",
       "      <td>COHEN</td>\n",
       "      <td>MARTIN</td>\n",
       "      <td>HOWARD</td>\n",
       "      <td>WASHINGTON</td>\n",
       "      <td>NEW YORK</td>\n",
       "      <td>0.222222</td>\n",
       "      <td>NaN</td>\n",
       "      <td>1969-1970</td>\n",
       "      <td>NaN</td>\n",
       "    </tr>\n",
       "    <tr>\n",
       "      <th>163</th>\n",
       "      <td>MICHAEL</td>\n",
       "      <td>SILVER</td>\n",
       "      <td>ALAN</td>\n",
       "      <td>A</td>\n",
       "      <td>SUNY DOWNSTATE</td>\n",
       "      <td>UNIVERSITY OF PENNSYLVANIA</td>\n",
       "      <td>0.400000</td>\n",
       "      <td>1984-1985</td>\n",
       "      <td>1971-1972</td>\n",
       "      <td>False</td>\n",
       "    </tr>\n",
       "  </tbody>\n",
       "</table>\n",
       "</div>"
      ],
      "text/plain": [
       "    clean_first_name clean_last_name clean_middle_name_x clean_middle_name_y  \\\n",
       "12             JAMES           BROWN              EDWARD           KINGSBURY   \n",
       "18              JOHN           DAVIS                 NaN              LUCIAN   \n",
       "28          TERRANCE          FISHER                   N                 NaN   \n",
       "32            ROBERT          GORDON                 NaN                DANA   \n",
       "47              JOHN         JOHNSON               DAVID              WILCOX   \n",
       "48              JOHN         JOHNSON                   S              WILCOX   \n",
       "55            ROBERT          KRAMER             JEFFERY             JEFFREY   \n",
       "59            HAROLD          LARSON             ELLIOTT              ELLIOT   \n",
       "64            ROBERT          MARCUS                ALAN              MORTON   \n",
       "65             DAVID          MARTIN              HUBERT             WILLIAM   \n",
       "86           LEONARD     SCHWARTZMAN                 NaN                 JAY   \n",
       "89            ANDREW       SILVERMAN              YECKES               YEKES   \n",
       "96             PETER        SULLIVAN                  WM                   W   \n",
       "105           ROBERT           YOUNG                KONG            SAI KONG   \n",
       "112           STEVEN         COLLINS               JAMES             CHAPLIN   \n",
       "119          MICHAEL           KLEIN                   E               DAVID   \n",
       "122           ROBERT           SMITH                JOHN             CHARLES   \n",
       "130           ROBERT            LEVY                 NaN               JULES   \n",
       "131            DAVID           SMITH               ALLEN              STUART   \n",
       "133            FRANK           BROWN               LOGAN                   R   \n",
       "136             ALAN       WEINSTEIN                MARK             STANLEY   \n",
       "137           ROBERT           WEISS              GEORGE               ALLEN   \n",
       "144            JAMES           SMITH                   W          GOURTLANXL   \n",
       "158           ROBERT           COHEN              MARTIN              HOWARD   \n",
       "163          MICHAEL          SILVER                ALAN                   A   \n",
       "\n",
       "                          clean_medical_school_x  \\\n",
       "12                                          YALE   \n",
       "18                                          YALE   \n",
       "28                                     MARQUETTE   \n",
       "32                                          YALE   \n",
       "47                                      STANFORD   \n",
       "48                                    VANDERBILT   \n",
       "55                                       HARVARD   \n",
       "59                                  SUNY BUFFALO   \n",
       "64                                      STANFORD   \n",
       "65                                       HARVARD   \n",
       "86          UNIVERSITY OF CALIFORNIA LOS ANGELES   \n",
       "89                                  SUNY BUFFALO   \n",
       "96                                       U C M C   \n",
       "105                                         YALE   \n",
       "112                                     COLUMBIA   \n",
       "119                                         YALE   \n",
       "122                                    DARTMOUTH   \n",
       "130                                         YALE   \n",
       "131  UNIVERSITY OF WASHINGTON SEATTLE WASHINGTON   \n",
       "133                                         YALE   \n",
       "136                                      HARVARD   \n",
       "137                PENNSYLVANIA STATE UNIVERSITY   \n",
       "144                     UNIVERSITY OF LOUISVILLE   \n",
       "158                                   WASHINGTON   \n",
       "163                               SUNY DOWNSTATE   \n",
       "\n",
       "                            clean_medical_school_y  med_school_sim  \\\n",
       "12               UNIVERSITY OF ROCHESTER DENTISTRY        0.108108   \n",
       "18                                      VANDERBILT        0.285714   \n",
       "28                                           OTHER        0.142857   \n",
       "32                                         CORNELL        0.181818   \n",
       "47   UNIVERSITY OF TENNESSEE HEALTH SCIENCE CENTER        0.188679   \n",
       "48   UNIVERSITY OF TENNESSEE HEALTH SCIENCE CENTER        0.218182   \n",
       "55                         UNIVERSITY OF WISCONSIN        0.066667   \n",
       "59                SUNY BUFFALO BIOMEDICAL SCIENCES        0.545455   \n",
       "64                        UNIVERSITY OF CINCINNATI        0.187500   \n",
       "65                                            DUKE        0.181818   \n",
       "86                      UNIVERSITY OF PENNSYLVANIA        0.580645   \n",
       "89                SUNY BUFFALO BIOMEDICAL SCIENCES        0.545455   \n",
       "96          UNIVERSITY OF CALIFORNIA SAN FRANCISCO        0.266667   \n",
       "105                                        CORNELL        0.181818   \n",
       "112                                        CORNELL        0.400000   \n",
       "119                           CASE WESTERN RESERVE        0.166667   \n",
       "122                                       STANFORD        0.117647   \n",
       "130                                  JOHNS HOPKINS        0.000000   \n",
       "131                                           YALE        0.170213   \n",
       "133                                     WASHINGTON        0.142857   \n",
       "136                     UNIVERSITY OF PENNSYLVANIA        0.181818   \n",
       "137                                     GEORGETOWN        0.100000   \n",
       "144            UNIVERSITY OF MINNESOTA TWIN CITIES        0.576271   \n",
       "158                                       NEW YORK        0.222222   \n",
       "163                     UNIVERSITY OF PENNSYLVANIA        0.400000   \n",
       "\n",
       "      intern_dates_x intern_dates_y internship_sim  \n",
       "12         1966-1967      1967-1968           True  \n",
       "18         1960-1961      1960-1961           True  \n",
       "28         1962-1963      1962-1963           True  \n",
       "32         1969-1970      1971-1972          False  \n",
       "47         1965-1966      1965-1966           True  \n",
       "48         1961-1962      1965-1966          False  \n",
       "55               NaN           1971            NaN  \n",
       "59         1965-1966      1965-1966           True  \n",
       "64         1966-1967      1966-1967           True  \n",
       "65         1969-1970      1969-1970           True  \n",
       "86         1962-1963      1962-1963           True  \n",
       "89         1972-1973      1972-1973           True  \n",
       "96         1971-1972      1971-1972           True  \n",
       "105        1970-1971      1970-1971           True  \n",
       "112        1973-1974      1973-1974           True  \n",
       "119              NaN      1971-1972            NaN  \n",
       "122              NaN           1970            NaN  \n",
       "130        1961-1962      1961-1962           True  \n",
       "131        1987-1988      1960-1961          False  \n",
       "133        1975-1976      1975-1976           True  \n",
       "136        1975-1976      1975-1976           True  \n",
       "137  1983 to present      1971-1972          False  \n",
       "144        1960-1961      1971-1972          False  \n",
       "158              NaN      1969-1970            NaN  \n",
       "163        1984-1985      1971-1972          False  "
      ]
     },
     "execution_count": 221,
     "metadata": {},
     "output_type": "execute_result"
    }
   ],
   "source": [
    "first_last_matches.loc[(first_last_matches['last_name_counts'] > 2) & (first_last_matches['med_school_sim'] < .6), [\n",
    "        'clean_first_name', 'clean_last_name', 'clean_middle_name_x', 'clean_middle_name_y', \n",
    "        'clean_medical_school_x', 'clean_medical_school_y', 'med_school_sim', \n",
    "        'intern_dates_x', 'intern_dates_y', 'internship_sim']]"
   ]
  },
  {
   "cell_type": "code",
   "execution_count": 167,
   "metadata": {
    "collapsed": false
   },
   "outputs": [
    {
     "name": "stdout",
     "output_type": "stream",
     "text": [
      "['clean_middle_name', 'clean_last_name', 'clean_first_name', 'res_dates', 'intern_dates', 'residency_hospital', 'internship_hospital', 'medical_school', 'residency']\n"
     ]
    },
    {
     "data": {
      "text/html": [
       "<div>\n",
       "<table border=\"1\" class=\"dataframe\">\n",
       "  <thead>\n",
       "    <tr style=\"text-align: right;\">\n",
       "      <th></th>\n",
       "      <th>clean_first_name</th>\n",
       "      <th>clean_last_name</th>\n",
       "    </tr>\n",
       "  </thead>\n",
       "  <tbody>\n",
       "    <tr>\n",
       "      <th>0</th>\n",
       "      <td>ROBERT</td>\n",
       "      <td>ASHMAN</td>\n",
       "    </tr>\n",
       "    <tr>\n",
       "      <th>1</th>\n",
       "      <td>FLOYD</td>\n",
       "      <td>ATKINS</td>\n",
       "    </tr>\n",
       "    <tr>\n",
       "      <th>2</th>\n",
       "      <td>RICHARD</td>\n",
       "      <td>BENDER</td>\n",
       "    </tr>\n",
       "    <tr>\n",
       "      <th>3</th>\n",
       "      <td>JOHN</td>\n",
       "      <td>BILEZIKIAN</td>\n",
       "    </tr>\n",
       "    <tr>\n",
       "      <th>4</th>\n",
       "      <td>THOMAS</td>\n",
       "      <td>BLANCK</td>\n",
       "    </tr>\n",
       "    <tr>\n",
       "      <th>5</th>\n",
       "      <td>SAMUEL</td>\n",
       "      <td>BOBROW</td>\n",
       "    </tr>\n",
       "    <tr>\n",
       "      <th>6</th>\n",
       "      <td>WILLIAM</td>\n",
       "      <td>BRADEN</td>\n",
       "    </tr>\n",
       "    <tr>\n",
       "      <th>7</th>\n",
       "      <td>JOHN</td>\n",
       "      <td>BREITNER</td>\n",
       "    </tr>\n",
       "    <tr>\n",
       "      <th>8</th>\n",
       "      <td>JOHN</td>\n",
       "      <td>BREITNER</td>\n",
       "    </tr>\n",
       "    <tr>\n",
       "      <th>9</th>\n",
       "      <td>JOHN</td>\n",
       "      <td>ALEXANDER</td>\n",
       "    </tr>\n",
       "    <tr>\n",
       "      <th>10</th>\n",
       "      <td>HARLOW</td>\n",
       "      <td>BRODIE</td>\n",
       "    </tr>\n",
       "    <tr>\n",
       "      <th>11</th>\n",
       "      <td>JAMES</td>\n",
       "      <td>BROWN</td>\n",
       "    </tr>\n",
       "    <tr>\n",
       "      <th>12</th>\n",
       "      <td>JAMES</td>\n",
       "      <td>BROWN</td>\n",
       "    </tr>\n",
       "    <tr>\n",
       "      <th>13</th>\n",
       "      <td>PAUL</td>\n",
       "      <td>BROWN</td>\n",
       "    </tr>\n",
       "    <tr>\n",
       "      <th>14</th>\n",
       "      <td>BERNADINE</td>\n",
       "      <td>BULKLEY</td>\n",
       "    </tr>\n",
       "    <tr>\n",
       "      <th>15</th>\n",
       "      <td>WAYNE</td>\n",
       "      <td>CANNON</td>\n",
       "    </tr>\n",
       "    <tr>\n",
       "      <th>16</th>\n",
       "      <td>MICHAEL</td>\n",
       "      <td>COLVIN</td>\n",
       "    </tr>\n",
       "    <tr>\n",
       "      <th>17</th>\n",
       "      <td>CLYDE</td>\n",
       "      <td>CRUMPACKER</td>\n",
       "    </tr>\n",
       "    <tr>\n",
       "      <th>18</th>\n",
       "      <td>JOHN</td>\n",
       "      <td>DAVIS</td>\n",
       "    </tr>\n",
       "    <tr>\n",
       "      <th>19</th>\n",
       "      <td>CHARLES</td>\n",
       "      <td>DINARELLO</td>\n",
       "    </tr>\n",
       "    <tr>\n",
       "      <th>20</th>\n",
       "      <td>ARTHUR</td>\n",
       "      <td>DORF</td>\n",
       "    </tr>\n",
       "    <tr>\n",
       "      <th>21</th>\n",
       "      <td>ROBERT</td>\n",
       "      <td>DUPONT</td>\n",
       "    </tr>\n",
       "    <tr>\n",
       "      <th>22</th>\n",
       "      <td>EDWARD</td>\n",
       "      <td>BARKER</td>\n",
       "    </tr>\n",
       "    <tr>\n",
       "      <th>23</th>\n",
       "      <td>MORRIS</td>\n",
       "      <td>GLASSMAN</td>\n",
       "    </tr>\n",
       "    <tr>\n",
       "      <th>24</th>\n",
       "      <td>HENRY</td>\n",
       "      <td>EPSTEIN</td>\n",
       "    </tr>\n",
       "    <tr>\n",
       "      <th>25</th>\n",
       "      <td>JEROME</td>\n",
       "      <td>ENGEL</td>\n",
       "    </tr>\n",
       "    <tr>\n",
       "      <th>26</th>\n",
       "      <td>ROBERT</td>\n",
       "      <td>ERICKSON</td>\n",
       "    </tr>\n",
       "    <tr>\n",
       "      <th>27</th>\n",
       "      <td>GARY</td>\n",
       "      <td>FARNHAM</td>\n",
       "    </tr>\n",
       "    <tr>\n",
       "      <th>28</th>\n",
       "      <td>TERRANCE</td>\n",
       "      <td>FISHER</td>\n",
       "    </tr>\n",
       "    <tr>\n",
       "      <th>29</th>\n",
       "      <td>JAMES</td>\n",
       "      <td>FUCHS</td>\n",
       "    </tr>\n",
       "    <tr>\n",
       "      <th>...</th>\n",
       "      <td>...</td>\n",
       "      <td>...</td>\n",
       "    </tr>\n",
       "    <tr>\n",
       "      <th>140</th>\n",
       "      <td>RICHARD</td>\n",
       "      <td>BERG</td>\n",
       "    </tr>\n",
       "    <tr>\n",
       "      <th>141</th>\n",
       "      <td>WILLIAM</td>\n",
       "      <td>FLEET</td>\n",
       "    </tr>\n",
       "    <tr>\n",
       "      <th>142</th>\n",
       "      <td>MARK</td>\n",
       "      <td>KLEMPNER</td>\n",
       "    </tr>\n",
       "    <tr>\n",
       "      <th>143</th>\n",
       "      <td>JOHN</td>\n",
       "      <td>O SHEA</td>\n",
       "    </tr>\n",
       "    <tr>\n",
       "      <th>144</th>\n",
       "      <td>JAMES</td>\n",
       "      <td>SMITH</td>\n",
       "    </tr>\n",
       "    <tr>\n",
       "      <th>145</th>\n",
       "      <td>THEODORE</td>\n",
       "      <td>WERBLIN</td>\n",
       "    </tr>\n",
       "    <tr>\n",
       "      <th>146</th>\n",
       "      <td>RICHARD</td>\n",
       "      <td>EASTMAN</td>\n",
       "    </tr>\n",
       "    <tr>\n",
       "      <th>147</th>\n",
       "      <td>GEORGE</td>\n",
       "      <td>JACOBY</td>\n",
       "    </tr>\n",
       "    <tr>\n",
       "      <th>148</th>\n",
       "      <td>HENRY</td>\n",
       "      <td>METZGER</td>\n",
       "    </tr>\n",
       "    <tr>\n",
       "      <th>149</th>\n",
       "      <td>HIBBARD</td>\n",
       "      <td>WILLIAMS</td>\n",
       "    </tr>\n",
       "    <tr>\n",
       "      <th>150</th>\n",
       "      <td>DAVID</td>\n",
       "      <td>GARDNER</td>\n",
       "    </tr>\n",
       "    <tr>\n",
       "      <th>151</th>\n",
       "      <td>KENNETH</td>\n",
       "      <td>HUFF</td>\n",
       "    </tr>\n",
       "    <tr>\n",
       "      <th>152</th>\n",
       "      <td>FRED</td>\n",
       "      <td>POLSKY</td>\n",
       "    </tr>\n",
       "    <tr>\n",
       "      <th>153</th>\n",
       "      <td>STEPHEN</td>\n",
       "      <td>SPIELBERG</td>\n",
       "    </tr>\n",
       "    <tr>\n",
       "      <th>154</th>\n",
       "      <td>FRANK</td>\n",
       "      <td>YIN</td>\n",
       "    </tr>\n",
       "    <tr>\n",
       "      <th>155</th>\n",
       "      <td>HOWELL</td>\n",
       "      <td>ARCHARD</td>\n",
       "    </tr>\n",
       "    <tr>\n",
       "      <th>156</th>\n",
       "      <td>STUART</td>\n",
       "      <td>KASSAN</td>\n",
       "    </tr>\n",
       "    <tr>\n",
       "      <th>157</th>\n",
       "      <td>WILLIAM</td>\n",
       "      <td>BUNNEY</td>\n",
       "    </tr>\n",
       "    <tr>\n",
       "      <th>158</th>\n",
       "      <td>ROBERT</td>\n",
       "      <td>COHEN</td>\n",
       "    </tr>\n",
       "    <tr>\n",
       "      <th>159</th>\n",
       "      <td>MYRON</td>\n",
       "      <td>HOFER</td>\n",
       "    </tr>\n",
       "    <tr>\n",
       "      <th>160</th>\n",
       "      <td>ROBERT</td>\n",
       "      <td>MICHELS</td>\n",
       "    </tr>\n",
       "    <tr>\n",
       "      <th>161</th>\n",
       "      <td>RICHARD</td>\n",
       "      <td>RADNA</td>\n",
       "    </tr>\n",
       "    <tr>\n",
       "      <th>162</th>\n",
       "      <td>DAVID</td>\n",
       "      <td>REISS</td>\n",
       "    </tr>\n",
       "    <tr>\n",
       "      <th>163</th>\n",
       "      <td>MICHAEL</td>\n",
       "      <td>SILVER</td>\n",
       "    </tr>\n",
       "    <tr>\n",
       "      <th>164</th>\n",
       "      <td>MICHAEL</td>\n",
       "      <td>NEWMARK</td>\n",
       "    </tr>\n",
       "    <tr>\n",
       "      <th>165</th>\n",
       "      <td>ERNEST</td>\n",
       "      <td>FOKES</td>\n",
       "    </tr>\n",
       "    <tr>\n",
       "      <th>166</th>\n",
       "      <td>SPENCER</td>\n",
       "      <td>GORDON</td>\n",
       "    </tr>\n",
       "    <tr>\n",
       "      <th>167</th>\n",
       "      <td>LEE</td>\n",
       "      <td>MCLAIN</td>\n",
       "    </tr>\n",
       "    <tr>\n",
       "      <th>168</th>\n",
       "      <td>JOHN</td>\n",
       "      <td>RICHARDSON</td>\n",
       "    </tr>\n",
       "    <tr>\n",
       "      <th>169</th>\n",
       "      <td>LAWRENCE</td>\n",
       "      <td>REINER</td>\n",
       "    </tr>\n",
       "  </tbody>\n",
       "</table>\n",
       "<p>170 rows × 2 columns</p>\n",
       "</div>"
      ],
      "text/plain": [
       "    clean_first_name clean_last_name\n",
       "0             ROBERT          ASHMAN\n",
       "1              FLOYD          ATKINS\n",
       "2            RICHARD          BENDER\n",
       "3               JOHN      BILEZIKIAN\n",
       "4             THOMAS          BLANCK\n",
       "5             SAMUEL          BOBROW\n",
       "6            WILLIAM          BRADEN\n",
       "7               JOHN        BREITNER\n",
       "8               JOHN        BREITNER\n",
       "9               JOHN       ALEXANDER\n",
       "10            HARLOW          BRODIE\n",
       "11             JAMES           BROWN\n",
       "12             JAMES           BROWN\n",
       "13              PAUL           BROWN\n",
       "14         BERNADINE         BULKLEY\n",
       "15             WAYNE          CANNON\n",
       "16           MICHAEL          COLVIN\n",
       "17             CLYDE      CRUMPACKER\n",
       "18              JOHN           DAVIS\n",
       "19           CHARLES       DINARELLO\n",
       "20            ARTHUR            DORF\n",
       "21            ROBERT          DUPONT\n",
       "22            EDWARD          BARKER\n",
       "23            MORRIS        GLASSMAN\n",
       "24             HENRY         EPSTEIN\n",
       "25            JEROME           ENGEL\n",
       "26            ROBERT        ERICKSON\n",
       "27              GARY         FARNHAM\n",
       "28          TERRANCE          FISHER\n",
       "29             JAMES           FUCHS\n",
       "..               ...             ...\n",
       "140          RICHARD            BERG\n",
       "141          WILLIAM           FLEET\n",
       "142             MARK        KLEMPNER\n",
       "143             JOHN          O SHEA\n",
       "144            JAMES           SMITH\n",
       "145         THEODORE         WERBLIN\n",
       "146          RICHARD         EASTMAN\n",
       "147           GEORGE          JACOBY\n",
       "148            HENRY         METZGER\n",
       "149          HIBBARD        WILLIAMS\n",
       "150            DAVID         GARDNER\n",
       "151          KENNETH            HUFF\n",
       "152             FRED          POLSKY\n",
       "153          STEPHEN       SPIELBERG\n",
       "154            FRANK             YIN\n",
       "155           HOWELL         ARCHARD\n",
       "156           STUART          KASSAN\n",
       "157          WILLIAM          BUNNEY\n",
       "158           ROBERT           COHEN\n",
       "159            MYRON           HOFER\n",
       "160           ROBERT         MICHELS\n",
       "161          RICHARD           RADNA\n",
       "162            DAVID           REISS\n",
       "163          MICHAEL          SILVER\n",
       "164          MICHAEL         NEWMARK\n",
       "165           ERNEST           FOKES\n",
       "166          SPENCER          GORDON\n",
       "167              LEE          MCLAIN\n",
       "168             JOHN      RICHARDSON\n",
       "169         LAWRENCE          REINER\n",
       "\n",
       "[170 rows x 2 columns]"
      ]
     },
     "execution_count": 167,
     "metadata": {},
     "output_type": "execute_result"
    }
   ],
   "source": [
    "IMP_COLS = list(NAME_COLS+MED_TRAINING_COLS)\n",
    "print IMP_COLS\n",
    "first_last_matches[['clean_first_name', 'clean_last_name']]"
   ]
  },
  {
   "cell_type": "code",
   "execution_count": 58,
   "metadata": {
    "collapsed": false
   },
   "outputs": [],
   "source": [
    "# for the columns in common, consolidate information\n",
    "def consolidate_info(x, y):\n",
    "    # take the non missing value\n",
    "    # if both not missing, take the longest value, if string\n",
    "    # not consolidating non string columns, so shouldn't hit other cases\n",
    "    non_nan_vals = funcy.remove(lambda v: pd.isnull(v), [x, y])\n",
    "    if not non_nan_vals:\n",
    "        return np.nan\n",
    "    if len(non_nan_vals) == 1:\n",
    "        return non_nan_vals[0]\n",
    "    # if both exist sort by len\n",
    "    return sorted(non_nan_vals, key=lambda x: len(x), reverse=True)[0]"
   ]
  },
  {
   "cell_type": "code",
   "execution_count": 45,
   "metadata": {
    "collapsed": false
   },
   "outputs": [],
   "source": [
    "cols_to_consolidate = sorted(filter(lambda x: x.endswith('_y') or x.endswith('_x'), exact_name_matches.columns))"
   ]
  },
  {
   "cell_type": "code",
   "execution_count": 46,
   "metadata": {
    "collapsed": false
   },
   "outputs": [
    {
     "data": {
      "text/plain": [
       "[u'citizenship_x',\n",
       " 'citizenship_y',\n",
       " 'intern_dates_x',\n",
       " 'intern_dates_y',\n",
       " 'internship_hospital_x',\n",
       " 'internship_hospital_y',\n",
       " 'medical_school_x',\n",
       " 'medical_school_y',\n",
       " 'res_dates_x',\n",
       " 'res_dates_y',\n",
       " 'residency_hospital_x',\n",
       " 'residency_hospital_y',\n",
       " 'residency_x',\n",
       " 'residency_y']"
      ]
     },
     "execution_count": 46,
     "metadata": {},
     "output_type": "execute_result"
    }
   ],
   "source": [
    "exact_name_matches"
   ]
  },
  {
   "cell_type": "code",
   "execution_count": 50,
   "metadata": {
    "collapsed": false
   },
   "outputs": [
    {
     "data": {
      "text/plain": [
       "[[u'citizenship_x', 'citizenship_y'],\n",
       " ['intern_dates_x', 'intern_dates_y'],\n",
       " ['internship_hospital_x', 'internship_hospital_y'],\n",
       " ['medical_school_x', 'medical_school_y'],\n",
       " ['res_dates_x', 'res_dates_y'],\n",
       " ['residency_hospital_x', 'residency_hospital_y'],\n",
       " ['residency_x', 'residency_y']]"
      ]
     },
     "execution_count": 50,
     "metadata": {},
     "output_type": "execute_result"
    }
   ],
   "source": [
    "funcy.partition(2, cols_to_consolidate)"
   ]
  },
  {
   "cell_type": "code",
   "execution_count": null,
   "metadata": {
    "collapsed": true
   },
   "outputs": [],
   "source": []
  },
  {
   "cell_type": "code",
   "execution_count": null,
   "metadata": {
    "collapsed": true
   },
   "outputs": [],
   "source": []
  },
  {
   "cell_type": "code",
   "execution_count": null,
   "metadata": {
    "collapsed": false
   },
   "outputs": [],
   "source": [
    "list(first_last_matches.columns)\n"
   ]
  },
  {
   "cell_type": "code",
   "execution_count": null,
   "metadata": {
    "collapsed": true
   },
   "outputs": [],
   "source": [
    "med_cols = ['intern_hos', 'intern_dte_x', 'intern_dte_y', 'residency', 'res_hosp', 'res_dtes_x', 'res_dtes_y', 'residency_hospital',\n",
    "'medical_school', 'med_school', 'clean_med_school', 'clean_college_trans']\n",
    "\n",
    "\n",
    "name_cols = ['clean_middlename', 'clean_middle_name', 'clean_first_name', 'clean_firstname', 'clean_last_name', 'clean_lastname']"
   ]
  },
  {
   "cell_type": "code",
   "execution_count": null,
   "metadata": {
    "collapsed": false
   },
   "outputs": [],
   "source": [
    "first_last_matches[name_cols + df3_cols].head()"
   ]
  },
  {
   "cell_type": "code",
   "execution_count": null,
   "metadata": {
    "collapsed": false
   },
   "outputs": [],
   "source": [
    "# drop matches where middle names totally different or colleges totally different\n",
    "first_last_matches[['res_dtes_x', 'res_dtes_yintern_dte_x', 'intern_dte_y' 'clean_middlename']]"
   ]
  },
  {
   "cell_type": "code",
   "execution_count": null,
   "metadata": {
    "collapsed": false
   },
   "outputs": [],
   "source": [
    "first_last_matches.shape"
   ]
  },
  {
   "cell_type": "code",
   "execution_count": null,
   "metadata": {
    "collapsed": true
   },
   "outputs": [],
   "source": [
    "fuzzy = pd.merge(left)"
   ]
  },
  {
   "cell_type": "code",
   "execution_count": null,
   "metadata": {
    "collapsed": true
   },
   "outputs": [],
   "source": []
  },
  {
   "cell_type": "code",
   "execution_count": null,
   "metadata": {
    "collapsed": false
   },
   "outputs": [],
   "source": [
    "test2.loc[test2.clean_lastname=='ANDERSON', :]"
   ]
  },
  {
   "cell_type": "code",
   "execution_count": null,
   "metadata": {
    "collapsed": false
   },
   "outputs": [],
   "source": [
    "# for med school, strip school of med and then check string sim\n",
    "test2.loc[:, ['clean_firstname', 'dno', 'clean_middlename', 'uuid', 'clean_lastname']]\n",
    "test2.loc[test2.duplicated(['uuid'], keep=False), ['medical_school', 'med_school', 'clean_firstname', 'dno', 'clean_middlename', 'clean_middle_name', 'uuid', 'clean_lastname']]"
   ]
  },
  {
   "cell_type": "code",
   "execution_count": null,
   "metadata": {
    "collapsed": false
   },
   "outputs": [],
   "source": [
    "not_matched_apps2 = not_matched_apps.loc[~not_matched_apps.uuid.isin(test2.uuid), :]\n",
    "not_matched_attendees2 = not_matched_attendees.loc[~not_matched_attendees.dno.isin(test2.dno), :]"
   ]
  },
  {
   "cell_type": "code",
   "execution_count": null,
   "metadata": {
    "collapsed": false
   },
   "outputs": [],
   "source": [
    "# not_matched_apps2.loc[:, ['clean_last_name', 'clean_first_name', 'medical_school']]\n",
    "not_matched_apps2.loc[not_matched_apps2.clean_first_name=='LOUIS', ['clean_last_name', 'clean_first_name', 'medical_school']]"
   ]
  },
  {
   "cell_type": "code",
   "execution_count": null,
   "metadata": {
    "collapsed": false
   },
   "outputs": [],
   "source": [
    "not_matched_attendees2.loc[:, ['clean_lastname', 'clean_firstname', 'med_school']]"
   ]
  },
  {
   "cell_type": "code",
   "execution_count": null,
   "metadata": {
    "collapsed": false
   },
   "outputs": [],
   "source": [
    "not_matched_attendees.sort_values(['clean_lastname', 'clean_firstname']).loc[:, ['clean_lastname', 'clean_firstname', 'clean_middlename', 'med_school']]"
   ]
  },
  {
   "cell_type": "code",
   "execution_count": null,
   "metadata": {
    "collapsed": false
   },
   "outputs": [],
   "source": [
    "not_matched_apps.sort_values(['clean_last_name', 'clean_first_name']).loc[:, ['clean_last_name', 'clean_middle_name', 'clean_first_name', 'medical_school']]"
   ]
  },
  {
   "cell_type": "code",
   "execution_count": null,
   "metadata": {
    "collapsed": true
   },
   "outputs": [],
   "source": []
  }
 ],
 "metadata": {
  "kernelspec": {
   "display_name": "Python 2",
   "language": "python",
   "name": "python2"
  },
  "language_info": {
   "codemirror_mode": {
    "name": "ipython",
    "version": 2
   },
   "file_extension": ".py",
   "mimetype": "text/x-python",
   "name": "python",
   "nbconvert_exporter": "python",
   "pygments_lexer": "ipython2",
   "version": "2.7.12"
  }
 },
 "nbformat": 4,
 "nbformat_minor": 1
}
