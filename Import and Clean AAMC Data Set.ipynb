{
 "cells": [
  {
   "cell_type": "code",
   "execution_count": 1,
   "metadata": {
    "collapsed": true
   },
   "outputs": [],
   "source": [
    "# import and clean AAMC data set\n",
    "\n",
    "import funcy\n",
    "import numpy as np \n",
    "import pandas as pd \n",
    "import os\n",
    "\n",
    "# load autoreload extension\n",
    "%load_ext autoreload\n",
    "%autoreload 2"
   ]
  },
  {
   "cell_type": "code",
   "execution_count": 2,
   "metadata": {
    "collapsed": true
   },
   "outputs": [],
   "source": [
    "from data_cleaning_functions import clean_names"
   ]
  },
  {
   "cell_type": "code",
   "execution_count": 3,
   "metadata": {
    "collapsed": true
   },
   "outputs": [],
   "source": [
    "# set directories\n",
    "from dev import (\n",
    "    SUFFIXES, FEMALE_FIRST_NAMES, FEMALE_MIDDLE_NAMES, NAME_COLS, APP_DATA_DIR, ATT_DATA_DIR, PICKLE_DIR, \n",
    "        CORRECTIONS_DIR, SUM_STAT_DIR, AAMC_DATA_DIR)\n"
   ]
  },
  {
   "cell_type": "code",
   "execution_count": 4,
   "metadata": {
    "collapsed": true
   },
   "outputs": [],
   "source": [
    "aamc_raw = pd.read_stata(os.path.join(AAMC_DATA_DIR, 'aamc_match.dta'))"
   ]
  },
  {
   "cell_type": "code",
   "execution_count": 5,
   "metadata": {
    "collapsed": false
   },
   "outputs": [],
   "source": [
    "aamc_raw[['clean_first_name', 'clean_middle_name', 'clean_last_name']] = aamc_raw[\n",
    "    ['fname', 'mname', 'lname']].applymap(clean_names)"
   ]
  },
  {
   "cell_type": "code",
   "execution_count": 6,
   "metadata": {
    "collapsed": false
   },
   "outputs": [],
   "source": [
    "string_cols = [\n",
    "    'suffix_cd', 'birth_country_cd', 'birth_country_desc', 'birth_state_cd', 'ident_cat_desc',\n",
    "    'degree_inst_1_desc', 'degree_country_1']\n",
    "aamc_raw[string_cols] = aamc_raw[string_cols].applymap(clean_names)"
   ]
  },
  {
   "cell_type": "code",
   "execution_count": 7,
   "metadata": {
    "collapsed": false
   },
   "outputs": [],
   "source": [
    "# aamc_raw.loc[pd.isnull(aamc_raw.clean_middle_initial), :]"
   ]
  },
  {
   "cell_type": "code",
   "execution_count": 8,
   "metadata": {
    "collapsed": true
   },
   "outputs": [],
   "source": [
    "def get_middle_initial(raw_str):\n",
    "    if pd.isnull(raw_str) or raw_str is None:\n",
    "        return np.nan\n",
    "    try:\n",
    "        return raw_str[0]\n",
    "    except IndexError:\n",
    "        # this happens because of the annoying blanks in the .dta file\n",
    "        return np.nan"
   ]
  },
  {
   "cell_type": "code",
   "execution_count": 9,
   "metadata": {
    "collapsed": false
   },
   "outputs": [],
   "source": [
    "aamc_raw.loc[:, 'clean_middle_initial'] = aamc_raw.clean_middle_name.apply(get_middle_initial)"
   ]
  },
  {
   "cell_type": "code",
   "execution_count": 10,
   "metadata": {
    "collapsed": false
   },
   "outputs": [],
   "source": [
    "aamc_df = aamc_raw.sort_values(['clean_last_name', 'clean_first_name', 'clean_middle_initial', 'yobb'])"
   ]
  },
  {
   "cell_type": "code",
   "execution_count": 11,
   "metadata": {
    "collapsed": false
   },
   "outputs": [],
   "source": [
    "# there are about 93 rows that seem to be duplicates on \n",
    "# take first duplicate and them merge with second duplicate on first name, middle initial, last name, birth_dt\n",
    "dups = aamc_df.loc[aamc_df.duplicated(['clean_last_name', 'clean_first_name', 'clean_middle_initial', 'birth_dt'], keep=False), :]"
   ]
  },
  {
   "cell_type": "code",
   "execution_count": 12,
   "metadata": {
    "collapsed": false
   },
   "outputs": [],
   "source": [
    "# consolidate ppl from duplicates\n",
    "first_dups = aamc_df.loc[\n",
    "    aamc_df.duplicated(['clean_first_name', 'clean_middle_initial', 'clean_last_name', 'birth_dt'], keep='first'), :]\n",
    "second_dups = aamc_df.loc[\n",
    "    aamc_df.duplicated(['clean_first_name', 'clean_middle_initial', 'clean_last_name', 'birth_dt'], keep='last'), :]"
   ]
  },
  {
   "cell_type": "code",
   "execution_count": 13,
   "metadata": {
    "collapsed": false
   },
   "outputs": [
    {
     "name": "stdout",
     "output_type": "stream",
     "text": [
      "(30, 19)\n",
      "(30, 19)\n",
      "(30, 34)\n"
     ]
    }
   ],
   "source": [
    "fixed_dups = pd.merge(\n",
    "    left=first_dups, right=second_dups, on=['clean_first_name', 'clean_middle_initial', 'clean_last_name', 'birth_dt'], \n",
    "    suffixes=['_x', '_y'], how='inner')\n",
    "print first_dups.shape\n",
    "print second_dups.shape\n",
    "print fixed_dups.shape"
   ]
  },
  {
   "cell_type": "code",
   "execution_count": 14,
   "metadata": {
    "collapsed": true
   },
   "outputs": [],
   "source": [
    "fixed_dups.rename(columns={'aamc_id_x': 'aamc_id', 'aamc_id_y': 'aamc_id_2'}, inplace=True)"
   ]
  },
  {
   "cell_type": "code",
   "execution_count": 15,
   "metadata": {
    "collapsed": true
   },
   "outputs": [],
   "source": [
    "paired_cols = [c.split('_x')[0] for c in fixed_dups if c.endswith('_x')]"
   ]
  },
  {
   "cell_type": "code",
   "execution_count": 16,
   "metadata": {
    "collapsed": false
   },
   "outputs": [],
   "source": [
    "def consolidate_col(row):\n",
    "    # each row comes in as a series\n",
    "    NULL_STRINGS = ['UNKNOWN', 'OTHER']\n",
    "    row[row.isin(NULL_STRINGS)]=np.nan\n",
    "    non_nulls = row[~pd.isnull(row)].values\n",
    "    if len(non_nulls) == 0:\n",
    "        return np.nan\n",
    "    # sort values by string len\n",
    "    if isinstance(non_nulls[0], str):\n",
    "        return sorted(non_nulls, key=len)[0]\n",
    "    # if not a string, just return first value\n",
    "    return non_nulls[0]"
   ]
  },
  {
   "cell_type": "code",
   "execution_count": 17,
   "metadata": {
    "collapsed": false
   },
   "outputs": [],
   "source": [
    "to_replace_cols = {\n",
    "    colname:\n",
    "        fixed_dups[\n",
    "            ['{}{}'.format(colname, suff) for suff in ['_x', '_y']]].apply(\n",
    "                consolidate_col, axis=1) for colname in paired_cols\n",
    "    }"
   ]
  },
  {
   "cell_type": "code",
   "execution_count": 18,
   "metadata": {
    "collapsed": false
   },
   "outputs": [],
   "source": [
    "fixed_dfs2 = pd.concat([fixed_dups, pd.DataFrame(to_replace_cols)], axis=1).drop(funcy.flatten(\n",
    "        ('{}_x'.format(c), '{}_y'.format(c)) for c in paired_cols), axis=1)"
   ]
  },
  {
   "cell_type": "code",
   "execution_count": 19,
   "metadata": {
    "collapsed": false
   },
   "outputs": [
    {
     "data": {
      "text/html": [
       "<div>\n",
       "<table border=\"1\" class=\"dataframe\">\n",
       "  <thead>\n",
       "    <tr style=\"text-align: right;\">\n",
       "      <th></th>\n",
       "      <th>aamc_id</th>\n",
       "      <th>birth_dt</th>\n",
       "      <th>clean_first_name</th>\n",
       "      <th>clean_last_name</th>\n",
       "      <th>clean_middle_initial</th>\n",
       "      <th>aamc_id_2</th>\n",
       "      <th>birth_country_cd</th>\n",
       "      <th>birth_country_desc</th>\n",
       "      <th>birth_state_cd</th>\n",
       "      <th>clean_middle_name</th>\n",
       "      <th>degree_country_1</th>\n",
       "      <th>degree_inst_1_desc</th>\n",
       "      <th>degree_type</th>\n",
       "      <th>degree_year_1</th>\n",
       "      <th>fname</th>\n",
       "      <th>ident_cat_desc</th>\n",
       "      <th>lname</th>\n",
       "      <th>mname</th>\n",
       "      <th>suffix_cd</th>\n",
       "      <th>yobb</th>\n",
       "    </tr>\n",
       "  </thead>\n",
       "  <tbody>\n",
       "    <tr>\n",
       "      <th>0</th>\n",
       "      <td>13758974</td>\n",
       "      <td></td>\n",
       "      <td>KEITH</td>\n",
       "      <td>BALDWIN</td>\n",
       "      <td>NaN</td>\n",
       "      <td>13707332</td>\n",
       "      <td>NaN</td>\n",
       "      <td>NaN</td>\n",
       "      <td>NaN</td>\n",
       "      <td>NaN</td>\n",
       "      <td>NaN</td>\n",
       "      <td>NaN</td>\n",
       "      <td>MD</td>\n",
       "      <td>NaN</td>\n",
       "      <td>Keith</td>\n",
       "      <td>WHITE</td>\n",
       "      <td>Baldwin</td>\n",
       "      <td></td>\n",
       "      <td>NaN</td>\n",
       "      <td>NaN</td>\n",
       "    </tr>\n",
       "    <tr>\n",
       "      <th>1</th>\n",
       "      <td>12416381</td>\n",
       "      <td>10/19/1946</td>\n",
       "      <td>MARK</td>\n",
       "      <td>BROWN</td>\n",
       "      <td>S</td>\n",
       "      <td>10967027</td>\n",
       "      <td>NaN</td>\n",
       "      <td>NaN</td>\n",
       "      <td>NaN</td>\n",
       "      <td>S</td>\n",
       "      <td>NaN</td>\n",
       "      <td>NaN</td>\n",
       "      <td>MD</td>\n",
       "      <td>NaN</td>\n",
       "      <td>Mark</td>\n",
       "      <td>NaN</td>\n",
       "      <td>Brown</td>\n",
       "      <td>S</td>\n",
       "      <td>NaN</td>\n",
       "      <td>1946.0</td>\n",
       "    </tr>\n",
       "    <tr>\n",
       "      <th>2</th>\n",
       "      <td>12222187</td>\n",
       "      <td></td>\n",
       "      <td>JAMES</td>\n",
       "      <td>COLLINS</td>\n",
       "      <td>NaN</td>\n",
       "      <td>12154436</td>\n",
       "      <td>NaN</td>\n",
       "      <td>NaN</td>\n",
       "      <td>NaN</td>\n",
       "      <td>NaN</td>\n",
       "      <td>NaN</td>\n",
       "      <td>NaN</td>\n",
       "      <td>MD</td>\n",
       "      <td>1965.0</td>\n",
       "      <td>James</td>\n",
       "      <td>BLACK</td>\n",
       "      <td>Collins</td>\n",
       "      <td></td>\n",
       "      <td>NaN</td>\n",
       "      <td>NaN</td>\n",
       "    </tr>\n",
       "    <tr>\n",
       "      <th>3</th>\n",
       "      <td>13217221</td>\n",
       "      <td></td>\n",
       "      <td>EDWARD</td>\n",
       "      <td>COOPER</td>\n",
       "      <td>C</td>\n",
       "      <td>12603243</td>\n",
       "      <td>NaN</td>\n",
       "      <td>NaN</td>\n",
       "      <td>NaN</td>\n",
       "      <td>C</td>\n",
       "      <td>NaN</td>\n",
       "      <td>NaN</td>\n",
       "      <td>MD</td>\n",
       "      <td>NaN</td>\n",
       "      <td>Edward</td>\n",
       "      <td>WHITE</td>\n",
       "      <td>Cooper</td>\n",
       "      <td>C</td>\n",
       "      <td>NaN</td>\n",
       "      <td>NaN</td>\n",
       "    </tr>\n",
       "    <tr>\n",
       "      <th>4</th>\n",
       "      <td>12881504</td>\n",
       "      <td></td>\n",
       "      <td>RUDOLPH</td>\n",
       "      <td>CUMBERBATCH</td>\n",
       "      <td>NaN</td>\n",
       "      <td>10967675</td>\n",
       "      <td>NaN</td>\n",
       "      <td>NaN</td>\n",
       "      <td>NaN</td>\n",
       "      <td>NaN</td>\n",
       "      <td>USA</td>\n",
       "      <td>HOWARD UNIVERSITY COLLEGE OF MEDICINE</td>\n",
       "      <td>MD</td>\n",
       "      <td>1959.0</td>\n",
       "      <td>Rudolph</td>\n",
       "      <td>BLACK</td>\n",
       "      <td>Cumberbatch</td>\n",
       "      <td></td>\n",
       "      <td>NaN</td>\n",
       "      <td>NaN</td>\n",
       "    </tr>\n",
       "  </tbody>\n",
       "</table>\n",
       "</div>"
      ],
      "text/plain": [
       "    aamc_id    birth_dt clean_first_name clean_last_name clean_middle_initial  \\\n",
       "0  13758974                        KEITH         BALDWIN                  NaN   \n",
       "1  12416381  10/19/1946             MARK           BROWN                    S   \n",
       "2  12222187                        JAMES         COLLINS                  NaN   \n",
       "3  13217221                       EDWARD          COOPER                    C   \n",
       "4  12881504                      RUDOLPH     CUMBERBATCH                  NaN   \n",
       "\n",
       "   aamc_id_2 birth_country_cd birth_country_desc birth_state_cd  \\\n",
       "0   13707332              NaN                NaN            NaN   \n",
       "1   10967027              NaN                NaN            NaN   \n",
       "2   12154436              NaN                NaN            NaN   \n",
       "3   12603243              NaN                NaN            NaN   \n",
       "4   10967675              NaN                NaN            NaN   \n",
       "\n",
       "  clean_middle_name degree_country_1                     degree_inst_1_desc  \\\n",
       "0               NaN              NaN                                    NaN   \n",
       "1                 S              NaN                                    NaN   \n",
       "2               NaN              NaN                                    NaN   \n",
       "3                 C              NaN                                    NaN   \n",
       "4               NaN              USA  HOWARD UNIVERSITY COLLEGE OF MEDICINE   \n",
       "\n",
       "  degree_type  degree_year_1    fname ident_cat_desc        lname mname  \\\n",
       "0          MD            NaN    Keith          WHITE      Baldwin         \n",
       "1          MD            NaN     Mark            NaN        Brown     S   \n",
       "2          MD         1965.0    James          BLACK      Collins         \n",
       "3          MD            NaN   Edward          WHITE       Cooper     C   \n",
       "4          MD         1959.0  Rudolph          BLACK  Cumberbatch         \n",
       "\n",
       "   suffix_cd    yobb  \n",
       "0        NaN     NaN  \n",
       "1        NaN  1946.0  \n",
       "2        NaN     NaN  \n",
       "3        NaN     NaN  \n",
       "4        NaN     NaN  "
      ]
     },
     "execution_count": 19,
     "metadata": {},
     "output_type": "execute_result"
    }
   ],
   "source": [
    "fixed_dfs2.head()"
   ]
  },
  {
   "cell_type": "code",
   "execution_count": 20,
   "metadata": {
    "collapsed": false
   },
   "outputs": [
    {
     "name": "stdout",
     "output_type": "stream",
     "text": [
      "(40744, 19)\n",
      "(40714, 20)\n",
      "(30, 20)\n"
     ]
    }
   ],
   "source": [
    "# append fixed dups to non duplicates and export data set\n",
    "aamc_fixed = pd.concat([fixed_dfs2, aamc_df.loc[\n",
    "    ~aamc_df.duplicated(['clean_first_name', 'clean_middle_initial', 'clean_last_name', 'birth_dt'], keep=False), :]])\n",
    "print aamc_df.shape\n",
    "print aamc_fixed.shape\n",
    "print fixed_dfs2.shape"
   ]
  },
  {
   "cell_type": "code",
   "execution_count": 21,
   "metadata": {
    "collapsed": true
   },
   "outputs": [],
   "source": [
    "aamc_fixed.to_csv(os.path.join(AAMC_DATA_DIR, 'aamc_deduped_raw.csv'))"
   ]
  },
  {
   "cell_type": "code",
   "execution_count": null,
   "metadata": {
    "collapsed": true
   },
   "outputs": [],
   "source": []
  },
  {
   "cell_type": "code",
   "execution_count": null,
   "metadata": {
    "collapsed": true
   },
   "outputs": [],
   "source": []
  }
 ],
 "metadata": {
  "kernelspec": {
   "display_name": "Python 2",
   "language": "python",
   "name": "python2"
  },
  "language_info": {
   "codemirror_mode": {
    "name": "ipython",
    "version": 2
   },
   "file_extension": ".py",
   "mimetype": "text/x-python",
   "name": "python",
   "nbconvert_exporter": "python",
   "pygments_lexer": "ipython2",
   "version": "2.7.12"
  }
 },
 "nbformat": 4,
 "nbformat_minor": 1
}
