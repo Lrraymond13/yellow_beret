{
 "cells": [
  {
   "cell_type": "code",
   "execution_count": null,
   "metadata": {
    "collapsed": false,
    "scrolled": true
   },
   "outputs": [],
   "source": [
    "import difflib\n",
    "from fuzzywuzzy import fuzz\n",
    "import itertools\n",
    "import pandas as pd\n",
    "from collections import Counter\n",
    "import numpy as np\n",
    "import string\n",
    "import funcy\n",
    "import re\n",
    "import os\n",
    "import uuid\n",
    "import math\n",
    "\n",
    "%load_ext autoreload\n",
    "\n",
    "%autoreload 2\n",
    "\n",
    "from data_cleaning_functions import (trans_remov_punc, standardize_whitespace, remove_punc, remove_suffix_from_last_name,\n",
    "                                     clean_names, has_award, has_suffix, get_suffix, replace_last_name, \n",
    "                                     is_year_range, str_sim, clean_med_school, clean_std_college_name)\n",
    "\n",
    "from dev import (\n",
    "    APP_DATA_DIR, SUM_STAT_DIR, CARD_DATA_DIR, CORRECTIONS_DIR, AWARDS_KEYWORDS, NAME_COLS, RAW_NAME_COLS, \n",
    "    RAW_CARD_ID, RAW_INDEX_IDS, PERSON_APPLICATION_ID, PERSON_ID, NIH_ID, FEMALE_FIRST_NAMES, FEMALE_MIDDLE_NAMES, \n",
    "    PICKLE_DIR)\n",
    "\n",
    "from merging_functions import *\n",
    "\n",
    "OUTPUT_CSV = True \n",
    "RAW_APPLICANT_DATA_FILENAME = 'raw_applicant_card_data.csv'\n",
    "MISSING_APPDATE_FILENAME = 'index_cards_no_application_date.csv'\n",
    "APP_SPELLING_CORRECTIONS = 'index_card_manual_corrections.xlsx'\n",
    "\n",
    "\n",
    "PERSONAL_INFO = [\n",
    "    'clean_first_name', 'clean_last_name', 'clean_middle_name',\n",
    "    'date_of_birth', 'medical_school', 'clean_college_trans']\n"
   ]
  },
  {
   "cell_type": "code",
   "execution_count": 2,
   "metadata": {
    "collapsed": false,
    "scrolled": true
   },
   "outputs": [
    {
     "name": "stderr",
     "output_type": "stream",
     "text": [
      "/home/lraymond/MIT/Azoulay_2016/yellow_berets/yb/local/lib/python2.7/site-packages/pandas/core/indexing.py:465: SettingWithCopyWarning: \n",
      "A value is trying to be set on a copy of a slice from a DataFrame.\n",
      "Try using .loc[row_indexer,col_indexer] = value instead\n",
      "\n",
      "See the caveats in the documentation: http://pandas.pydata.org/pandas-docs/stable/indexing.html#indexing-view-versus-copy\n",
      "  self.obj[item] = s\n",
      "/home/lraymond/MIT/Azoulay_2016/yellow_berets/yb/local/lib/python2.7/site-packages/pandas/core/frame.py:2378: SettingWithCopyWarning: \n",
      "A value is trying to be set on a copy of a slice from a DataFrame.\n",
      "Try using .loc[row_indexer,col_indexer] = value instead\n",
      "\n",
      "See the caveats in the documentation: http://pandas.pydata.org/pandas-docs/stable/indexing.html#indexing-view-versus-copy\n",
      "  self[k1] = value[k2]\n"
     ]
    }
   ],
   "source": [
    "all_appcards2 = pd.read_csv(os.path.join(CARD_DATA_DIR, RAW_APPLICANT_DATA_FILENAME))\n",
    "\n",
    "# drop all rows with first, last name NA\n",
    "all_app3 = all_appcards2.dropna(subset=['application_date'], how='all')\n",
    "\n",
    "\n",
    "def id_poorlyfmtdates(str_date):\n",
    "    try:\n",
    "        dt = pd.to_datetime(str_date, format='%m/%d/%Y')\n",
    "        return True\n",
    "    except (ValueError, AssertionError):\n",
    "        return False\n",
    "\n",
    "mask = all_app3.application_date.apply(id_poorlyfmtdates)\n",
    "# all_app3.loc[~mask, :]\n",
    "\n",
    "# change '3/31971 to 3/3/1971\n",
    "# change 41/8/1966 to 4/8/1966 \n",
    "all_app3.loc[all_app3.application_date=='3/31971', 'application_date'] = '3/3/1971'\n",
    "all_app3.loc[all_app3.application_date=='41/8/1966', 'application_date'] = '4/8/1966'\n",
    "\n",
    "# convert application date to date object\n",
    "all_app3.loc[:, 'application_date'] = all_app3['application_date'].apply(lambda x: pd.to_datetime(x))\n",
    "\n",
    "# do the same date check for birth date columns\n",
    "bdate_mask = all_app3.date_of_birth.apply(id_poorlyfmtdates)\n",
    "all_app3.loc[~bdate_mask, ['first_name', 'last_name', 'date_of_birth']]\n",
    "all_app3.loc[(\n",
    "        all_app3.last_name=='Cook') & \n",
    "                  (all_app3.middle_name=='James') & \n",
    "                  (all_app3.first_name.isnull()), 'date_of_birth'] = '1/27/1940'\n",
    "\n",
    "all_app3[NAME_COLS] = all_app3[RAW_NAME_COLS].applymap(clean_names)"
   ]
  },
  {
   "cell_type": "code",
   "execution_count": 3,
   "metadata": {
    "collapsed": false,
    "scrolled": true
   },
   "outputs": [],
   "source": [
    "all_app3.loc[(all_app3.clean_last_name=='RUBENSTEIN') & (all_app3.clean_middle_name=='ALLAN'), 'application_date'] = pd.to_datetime('1/21/1973')\n",
    "\n",
    "all_app3.loc[(\n",
    "        all_app3.clean_last_name=='ROOT') & \n",
    "                  (all_app3.clean_first_name=='RICHARD'), 'application_date'] = pd.to_datetime('5/23/1963')\n",
    "\n",
    "all_app3.loc[(\n",
    "        all_app3.clean_last_name=='FREIDMAN') & (all_app3.clean_first_name=='STANFORD'), 'application_date'] = pd.to_datetime('01/01/1960')\n"
   ]
  },
  {
   "cell_type": "code",
   "execution_count": 4,
   "metadata": {
    "collapsed": false,
    "scrolled": true
   },
   "outputs": [
    {
     "name": "stderr",
     "output_type": "stream",
     "text": [
      "/home/lraymond/MIT/Azoulay_2016/yellow_berets/yb/local/lib/python2.7/site-packages/pandas/core/frame.py:2754: SettingWithCopyWarning: \n",
      "A value is trying to be set on a copy of a slice from a DataFrame\n",
      "\n",
      "See the caveats in the documentation: http://pandas.pydata.org/pandas-docs/stable/indexing.html#indexing-view-versus-copy\n",
      "  **kwargs)\n"
     ]
    }
   ],
   "source": [
    "all_app3.rename(columns={'medical_school':'original_medical_school'}, inplace=True)"
   ]
  },
  {
   "cell_type": "code",
   "execution_count": 5,
   "metadata": {
    "collapsed": false,
    "scrolled": true
   },
   "outputs": [
    {
     "name": "stderr",
     "output_type": "stream",
     "text": [
      "/home/lraymond/MIT/Azoulay_2016/yellow_berets/yb/local/lib/python2.7/site-packages/pandas/core/indexing.py:288: SettingWithCopyWarning: \n",
      "A value is trying to be set on a copy of a slice from a DataFrame.\n",
      "Try using .loc[row_indexer,col_indexer] = value instead\n",
      "\n",
      "See the caveats in the documentation: http://pandas.pydata.org/pandas-docs/stable/indexing.html#indexing-view-versus-copy\n",
      "  self.obj[key] = _infer_fill_value(value)\n"
     ]
    },
    {
     "name": "stdout",
     "output_type": "stream",
     "text": [
      "['honor_societies_first', 'honor_societies_fourth', 'honor_societies_second', 'honor_societies_third']\n"
     ]
    }
   ],
   "source": [
    "# deal with suffixes and honors\n",
    "suffix_mask = all_app3.clean_last_name.apply(has_suffix)\n",
    "# all_app_short.loc[suffix_mask, ['clean_last_name', 'clean_first_name', 'clean_middle_name']]\n",
    "\n",
    "# for those last names that seem to have a suffix, pull into seperate column and keep everything last word of last name\n",
    "all_app3.loc[suffix_mask, 'clean_suffix'] = all_app3.loc[suffix_mask, 'clean_last_name'].apply(get_suffix)\n",
    "all_app3.loc[suffix_mask, 'clean_last_name'] = all_app3.loc[suffix_mask, 'clean_last_name'].apply(remove_suffix_from_last_name)\n",
    "\n",
    "# some first names also contain some honors such as 'Pfizer Award' or 'Honor Society'\n",
    "# these should be pulled into the honors and awards columns\n",
    "has_award_fnc = funcy.rpartial(has_award, AWARDS_KEYWORDS)\n",
    "\n",
    "\n",
    "# get a list of all the med school honors columns\n",
    "honors_columns = [c for c in all_app3.columns if 'honor' in c]\n",
    "print honors_columns\n",
    "\n",
    "has_award_mask = all_app3['clean_first_name'].apply(has_award_fnc)\n",
    "\n",
    "all_app3.loc[has_award_mask, 'extra_honor'] = all_app3.loc[has_award_mask, 'clean_first_name']\n",
    "\n",
    "# create column mask for each row where one of the honors columns is blank\n",
    "for hc in honors_columns:\n",
    "    hc_mask = (has_award_mask) & (pd.isnull(all_app3[hc]))\n",
    "    all_app3.loc[hc_mask, hc] = all_app3.loc[hc_mask, 'extra_honor']\n",
    "# check for any columns that already have full honors and cant be filled\n",
    "all_app3.loc[hc_mask, honors_columns].dropna(how='any')\n",
    "\n",
    "# drop extra honor columns\n",
    "all_app4 = all_app3.drop('extra_honor', axis=1)\n",
    "\n",
    "# replace those honors first names with np.nan\n",
    "all_app4.loc[has_award_mask, 'clean_first_name'] = np.nan\n",
    "\n",
    "# for those columns where med school is equal to last name or med_school is a year range, delete\n",
    "med_school_str_sim = funcy.rpartial(str_sim, 'medical_school', 'clean_last_name')\n",
    "all_app4.loc[:, 'school_name_sim'] = all_app4.loc[:, ['clean_last_name', 'medical_school']].apply(med_school_str_sim, axis=1)\n",
    "\n",
    "all_app4.loc[all_app4.school_name_sim > .6, :]\n",
    "\n",
    "all_app4.loc[:, 'clean_college'] = all_app4.undergraduate_school.apply(clean_names)\n",
    "\n",
    "to_remove_college = [\n",
    "    ' AND ', ' AT ', 'THE ', ' COLLGE', 'UNIVERISTY', 'UNIVERWSITY', 'MASSACHUSSETTS', 'JOHN ', 'DE PAUW', 'ASBURY', \n",
    "'DREXEL INSTITUTE OF TECHNOLOGY', 'A B BROWN UNIVERSITY', 'DARTMOUTH MEDICAL SCHOOL', 'RENSSELAER UNIVERSITY', \n",
    "'RENSSELAER POLYTECHNICAL INSTITUTE', ' STE', 'COLLEGE OF HOLY CROSS', 'HOLLY CROSS', 'JOHNSS ',  'BERKLEY',\n",
    "'UC ', 'PITTSBURRGH', 'WESLYN', 'WILLAMS', 'GEORGIA TECH', 'NEW YORK UNIVERSITY UNIV', \n",
    "'UNIVERSITY OF MICHIGAN IS A', 'OHIO', 'STATE UNIVERSITY OF NEW YORK AT BUFFALO']\n",
    "to_replace_college = [\n",
    "    ' ', ' ', ' ', ' COLLEGE', 'UNIVERSITY', 'UNIVERSITY', 'MASSACHUSETTS', 'JOHNS ', 'DEPAUW', 'ASHBURY',\n",
    "    'DREXEL UNIVERSITY', 'BROWN UNIVERSITY', 'DARTMOUTH', 'RENSSELAER POLYTECHNIC INSTITUTE', \n",
    "    'RENSSELAER POLYTECHNIC INSTITUTE', ' STATE', 'HOLY CROSS', 'HOLY CROSS', 'JOHNS ', \n",
    "    ' BERKELEY', 'UNIVERSITY OF CALIFORNIA ', 'PITTSBURGH', 'WESLEYAN', 'WILLIAMS', \n",
    "    'GEORGIA INSTITUTE OF TECHNOLOGY', 'NEW YORK', 'UNIVERSITY OF MICHIGAN', 'OHIO STATE', 'SUNY BUFFALO']\n",
    "\n",
    "clean_college_fnc = funcy.rpartial(clean_std_college_name, to_remove_college, to_replace_college)\n",
    "\n",
    "# make college mispelling and different reference translation table\n",
    "all_app4.loc[:, 'clean_college_trans'] = all_app4.clean_college.apply(clean_college_fnc)\n",
    "\n",
    "all_app4.drop(['clean_college', 'school_name_sim'], axis=1, inplace=True)"
   ]
  },
  {
   "cell_type": "code",
   "execution_count": 9,
   "metadata": {
    "collapsed": false,
    "scrolled": true
   },
   "outputs": [
    {
     "name": "stdout",
     "output_type": "stream",
     "text": [
      "OTHER\n",
      "OTHER\n",
      "OTHER\n",
      "OTHER\n",
      "OTHER\n",
      "OTHER\n",
      "OTHER\n",
      "OTHER\n",
      "OTHER\n",
      "OTHER\n",
      "OTHER\n",
      "OTHER\n",
      "OTHER\n",
      "OTHER\n",
      "OTHER\n",
      "OTHER\n",
      "OTHER\n",
      "OTHER\n",
      "OTHER\n",
      "OTHER\n",
      "OTHER\n",
      "OTHER\n",
      "OTHER\n",
      "OTHER\n",
      "OTHER\n",
      "OTHER\n",
      "OTHER\n",
      "OTHER\n",
      "OTHER\n",
      "OTHER\n",
      "OTHER\n",
      "OTHER\n",
      "OTHER\n",
      "OTHER\n",
      "OTHER\n",
      "OTHER\n",
      "OTHER\n",
      "OTHER\n",
      "OTHER\n",
      "OTHER\n",
      "OTHER\n",
      "OTHER\n",
      "OTHER\n",
      "OTHER\n",
      "OTHER\n",
      "OTHER\n",
      "OTHER\n",
      "OTHER\n",
      "OTHER\n",
      "OTHER\n",
      "OTHER\n",
      "OTHER\n",
      "OTHER\n",
      "OTHER\n",
      "OTHER\n",
      "OTHER\n",
      "OTHER\n",
      "OTHER\n",
      "OTHER\n",
      "OTHER\n",
      "OTHER\n",
      "OTHER\n",
      "OTHER\n",
      "OTHER\n",
      "OTHER\n",
      "OTHER\n",
      "OTHER\n",
      "OTHER\n",
      "OTHER\n",
      "OTHER\n",
      "OTHER\n",
      "OTHER\n",
      "OTHER\n",
      "OTHER\n",
      "OTHER\n",
      "OTHER\n",
      "OTHER\n",
      "OTHER\n",
      "OTHER\n",
      "OTHER\n",
      "OTHER\n",
      "OTHER\n"
     ]
    }
   ],
   "source": [
    "all_app4.loc[:, 'medical_school'] = all_app4.original_medical_school.apply(clean_med_school)"
   ]
  },
  {
   "cell_type": "code",
   "execution_count": 10,
   "metadata": {
    "collapsed": false,
    "scrolled": true
   },
   "outputs": [
    {
     "data": {
      "text/plain": [
       "array(['ALBANY MEDICAL COLLEGE',\n",
       "       'ALBERT EINSTEIN COLLEGE OF MEDICINE OF YESHIVA UNIVERSITY',\n",
       "       'BAYLOR COLLEGE OF MEDICINE',\n",
       "       'BOSTON UNIVERSITY SCHOOL OF MEDICINE',\n",
       "       'CASE WESTERN RESERVE UNIVERSITY SCHOOL OF MEDICINE',\n",
       "       'COLUMBIA UNIVERSITY COLLEGE OF PHYSICIANS AND SURGEONS',\n",
       "       'DARTMOUTH MEDICAL SCHOOL', 'DUKE MEDICAL SCHOOL',\n",
       "       'EMORY UNIVERSITY SCHOOL OF MEDICINE',\n",
       "       'GEORGE WASHINGTON UNIVERSITY SCHOOL OF MEDICINE',\n",
       "       'GEORGETOWN UNIVERSITY SCHOOL OF MEDICINE',\n",
       "       'HAHNEMANN SCHOOL OF MEDICINE', 'HARVARD MEDICAL SCHOOL',\n",
       "       'HOWARD UNIVERSITY COLLEGE OF MEDICINE',\n",
       "       'INDIANA UNIVERSITY SCHOOL OF MEDICINE',\n",
       "       'JEFFERSON MEDICAL COLLEGE OF THOMAS JEFFERSON UNIVERSITY',\n",
       "       'JOAN & SANFORD I. WEILL MEDICAL COLLEGE CORNELL UNIVERSITY',\n",
       "       'JOHNS HOPKINS UNIVERSITY SCHOOL OF MEDICINE',\n",
       "       'LOMA LINDA UNIVERSITY SCHOOL OF MEDICINE',\n",
       "       'LOUISIANA STATE UNIVERSITY SCHOOL OF MEDICINE IN NEW ORLEANS',\n",
       "       'LOUISIANA STATE UNIVERSITY SCHOOL OF MEDICINE IN SHREVEPORT',\n",
       "       'LOYOLA UNIVERSITY CHICAGO STRITCH SCHOOL OF MEDICINE',\n",
       "       'MEDICAL COLLEGE OF GEORGIA SCHOOL OF MEDICINE',\n",
       "       'MEDICAL COLLEGE OF OHIO', 'MEDICAL COLLEGE OF VIRGINIA',\n",
       "       'MEDICAL COLLEGE OF WISCONSIN', 'MEHARRY MEDICAL COLLEGE',\n",
       "       'MICHIGAN STATE UNIVERSITY COLLEGE OF HUMAN MEDICINE',\n",
       "       'MOUNT SINAI SCHOOL OF MEDICINE OF NEW YORK UNIVERSITY',\n",
       "       'NEW YORK MEDICAL COLLEGE',\n",
       "       'NEW YORK UNIVERSITY COLLEGE OF MEDICINE',\n",
       "       'NORTHWESTERN UNIVERSITY MEDICAL SCHOOL',\n",
       "       'OHIO STATE UNIVERSITY COLLEGE OF MEDICINE AND PUBLIC HEALTH',\n",
       "       'OREGON HEALTH SCIENCES UNIVERSITY SCHOOL OF MEDICINE', 'OTHER',\n",
       "       'PENNSYLVANIA STATE UNIVERSITY COLLEGE OF MEDICINE',\n",
       "       'SAINT LOUIS UNIVERSITY SCHOOL OF MEDICINE', 'STANFORD UNIVERSITY',\n",
       "       'SUNY BUFFALO SCHOOL OF MEDICINE & BIOMEDICAL SCIENCES',\n",
       "       'SUNY DOWNSTATE MEDICAL CENTER COLLEGE OF MEDICINE',\n",
       "       'SUNY UPSTATE MEDICAL UNIVERSITY AT SYRACUSE',\n",
       "       'TEMPLE UNIVERSITY SCHOOL OF MEDICINE',\n",
       "       'TUFTS UNIVERSITY SCHOOL OF MEDICINE',\n",
       "       'TULANE UNIVERSITY SCHOOL OF MEDICINE', 'UC BERKELEY',\n",
       "       'UC DAVIS SCHOOL OF MEDICINE', 'UC IRVINE COLLEGE OF MEDICINE',\n",
       "       'UCLA SCHOOL OF MEDICINE', 'UCSD SCHOOL OF MEDICINE',\n",
       "       'UCSF SCHOOL OF MEDICINE', 'UMDNJ-NEW JERSEY MEDICAL SCHOOL',\n",
       "       'UNIVERSITY OF ALABAMA SCHOOL OF MEDICINE',\n",
       "       'UNIVERSITY OF ARIZONA COLLEGE OF MEDICINE',\n",
       "       'UNIVERSITY OF ARKANSAS SCHOOL OF MEDICINE',\n",
       "       'UNIVERSITY OF CHICAGO',\n",
       "       'UNIVERSITY OF CINCINNATI COLLEGE OF MEDICINE',\n",
       "       'UNIVERSITY OF COLORADO HEALTH SCIENCES CENTER SCHOOL OF MEDICINE - DENVER',\n",
       "       'UNIVERSITY OF CONNECTICUT SCHOOL OF MEDICINE',\n",
       "       'UNIVERSITY OF FLORIDA COLLEGE OF MEDICINE',\n",
       "       'UNIVERSITY OF ILLINOIS COLLEGE OF MEDICINE',\n",
       "       'UNIVERSITY OF IOWA COLLEGE OF MEDICINE',\n",
       "       'UNIVERSITY OF KANSAS SCHOOL OF MEDICINE',\n",
       "       'UNIVERSITY OF KENTUCKY COLLEGE OF MEDICINE',\n",
       "       'UNIVERSITY OF LOUISVILLE SCHOOL OF MEDICINE',\n",
       "       'UNIVERSITY OF MARYLAND SCHOOL OF MEDICINE',\n",
       "       'UNIVERSITY OF MIAMI SCHOOL OF MEDICINE',\n",
       "       'UNIVERSITY OF MICHIGAN MEDICAL SCHOOL',\n",
       "       'UNIVERSITY OF MINNESOTA MEDICAL SCHOOL - DULUTH',\n",
       "       'UNIVERSITY OF MINNESOTA MEDICAL SCHOOL - TWIN CITIES',\n",
       "       'UNIVERSITY OF MISSISSIPPI SCHOOL OF MEDICINE',\n",
       "       'UNIVERSITY OF NEBRASKA COLLEGE OF MEDICINE',\n",
       "       'UNIVERSITY OF NEW MEXICO SCHOOL OF MEDICINE',\n",
       "       'UNIVERSITY OF NORTH CAROLINA AT CHAPEL HILL SCHOOL OF MEDICINE',\n",
       "       'UNIVERSITY OF NORTH DAKOTA SCHOOL OF MEDICINE AND HEALTH SCIENCES',\n",
       "       'UNIVERSITY OF OKLAHOMA COLLEGE OF MEDICINE',\n",
       "       'UNIVERSITY OF PENNSYLVANIA SCHOOL OF MEDICINE',\n",
       "       'UNIVERSITY OF PITTSBURGH SCHOOL OF MEDICINE',\n",
       "       'UNIVERSITY OF ROCHESTER SCHOOL OF MEDICINE',\n",
       "       'UNIVERSITY OF SOUTH CAROLINA SCHOOL OF MEDICINE',\n",
       "       'UNIVERSITY OF TENNESSEE HEALTH SCIENCE CENTER COLLEGE OF MEDICINE',\n",
       "       'UNIVERSITY OF TEXAS HEALTH SCIENCES CENTER AT HOUSTON',\n",
       "       'UNIVERSITY OF UTAH SCHOOL OF MEDICINE',\n",
       "       'UNIVERSITY OF VERMONT COLLEGE OF MEDICINE',\n",
       "       'UNIVERSITY OF VIRGINIA SCHOOL OF MEDICINE',\n",
       "       'UNIVERSITY OF WASHINGTON SCHOOL OF MEDICINE',\n",
       "       'USC KECK SCHOOL OF MEDICINE',\n",
       "       'VANDERBILT UNIVERSITY SCHOOL OF MEDICINE',\n",
       "       'WAKE FOREST UNIVERSITY SCHOOL OF MEDICINE',\n",
       "       'WASHINGTON UNIVERSITY SCHOOL OF MEDICINE',\n",
       "       'WAYNE STATE UNIVERSITY SCHOOL OF MEDICINE',\n",
       "       'WEST VIRGINIA UNIVERSITY SCHOOL OF MEDICINE',\n",
       "       'YALE UNIVERSITY SCHOOL OF MEDICINE', nan], dtype=object)"
      ]
     },
     "execution_count": 10,
     "metadata": {},
     "output_type": "execute_result"
    }
   ],
   "source": [
    "all_app4.medical_school.sort_values().unique()"
   ]
  },
  {
   "cell_type": "code",
   "execution_count": 12,
   "metadata": {
    "collapsed": false
   },
   "outputs": [],
   "source": [
    "all_app4.medical_school.sort_values().unique()\n",
    "# set 'other' values to null\n",
    "all_app4.loc[all_app4.medical_school=='OTHER', 'medical_school'] = np.nan"
   ]
  },
  {
   "cell_type": "code",
   "execution_count": 13,
   "metadata": {
    "collapsed": false,
    "scrolled": true
   },
   "outputs": [],
   "source": [
    "# need to convert undergrad_year_grad and med_school_grad to numbers to maintain consistency\n",
    "all_app4.loc[:, ['undergrad_year_grad', 'medschool_year_grad']] = all_app4.loc[:, ['undergrad_year_grad', 'medschool_year_grad']].apply(\n",
    "    lambda x: pd.to_numeric(x, errors='coerce'))\n",
    "\n",
    "# now, sort by names, med school, undergrad school, \n",
    "all_app5 = all_app4.sort_values(by=PERSONAL_INFO)\n",
    "\n",
    "# LAST_NAME_MISSPELLINGS = {\n",
    "#         'HOMCY': 'HOMEY', 'DROBIS': 'DROBIN', 'DEFRONZO':'DEFRENZO', \n",
    "#         'BRADEN 3R': 'BRADEN', 'BORKER': 'BORER', 'CASTLES': 'CASTLE',\n",
    "#         'CUONO': 'CUOMO', 'CYRULNIK': 'CYRULINK', 'EISENBATH': 'EISENBARTH', \n",
    "#         'ELLIOTT': 'ELIOT', 'FINKLESTEIN': 'FINKELSTEIN', 'HEINRICK': 'HEINRICH', \n",
    "#         'HERLIKY': 'HERLIHY', 'HIMMELHOCK': 'HIMMELHOCH', 'JANOWSKY': 'JANKOWSKY', \n",
    "#         'KLINENBERG': 'KLINEBERG', 'KORNFELD': 'KORNFIELD', 'NEIDORF': 'NEIDOFT',\n",
    "#         'OLEINICK': 'OLENICK', 'ROSKES': 'ROSKE'\n",
    "# }\n",
    "# removed CUONO, DROBIS, \n",
    "\n",
    "\n",
    "LAST_NAME_MISSPELLINGS = {\n",
    "        'HOMCY': 'HOMEY', \n",
    "        'BRADEN 3R': 'BRADEN', 'BORKER': 'BORER', 'CASTLES': 'CASTLE',\n",
    "        'CYRULNIK': 'CYRULINK', 'EISENBATH': 'EISENBARTH', \n",
    "        'HEINRICK': 'HEINRICH', \n",
    "        'HERLIKY': 'HERLIHY', 'HIMMELHOCK': 'HIMMELHOCH', 'JANOWSKY': 'JANKOWSKY', \n",
    "        'KLINENBERG': 'KLINEBERG', 'KORNFELD': 'KORNFIELD', 'NEIDORF': 'NEIDOFT',\n",
    "        'OLEINICK': 'OLENICK', 'ROSKES': 'ROSKE'\n",
    "}\n",
    "\n",
    "replace_last_name_fnc = funcy.rpartial(replace_last_name, LAST_NAME_MISSPELLINGS)\n",
    "\n",
    "# correct last name mispellings\n",
    "all_app5.loc[:, 'clean_last_name'] = all_app5.loc[:, 'clean_last_name'].apply(replace_last_name_fnc)\n",
    "all_app5.loc[all_app5.clean_last_name=='MORTON', 'clean_first_name'] = 'JOHN'\n",
    "\n",
    "# convert ca column to float62\n",
    "all_app5.loc[:, 'ca'] = all_app5.loc[:, 'ca'].apply(lambda x: pd.to_numeric(x, errors='coerce'))"
   ]
  },
  {
   "cell_type": "code",
   "execution_count": 14,
   "metadata": {
    "collapsed": true,
    "scrolled": true
   },
   "outputs": [],
   "source": [
    "female_mask = (\n",
    "    (all_app5['clean_first_name'].isin(FEMALE_FIRST_NAMES)))\n",
    "#     | (\n",
    "#         all_app5['clean_middle_name'].isin(FEMALE_MIDDLE_NAMES)))\n",
    "all_app5['is_female'] = 0\n",
    "all_app5.loc[female_mask & ~pd.isnull(all_app5['clean_first_name']), 'is_female'] = 1"
   ]
  },
  {
   "cell_type": "code",
   "execution_count": 15,
   "metadata": {
    "collapsed": true,
    "scrolled": true
   },
   "outputs": [],
   "source": [
    "all_app5 = all_app5[all_app5.is_female==0]"
   ]
  },
  {
   "cell_type": "code",
   "execution_count": 16,
   "metadata": {
    "collapsed": true,
    "scrolled": true
   },
   "outputs": [],
   "source": [
    "def get_first_letter(str_var):\n",
    "    if pd.isnull(str_var) or str_var=='':\n",
    "        return np.nan\n",
    "    return str_var[0]"
   ]
  },
  {
   "cell_type": "code",
   "execution_count": 17,
   "metadata": {
    "collapsed": false,
    "scrolled": true
   },
   "outputs": [
    {
     "data": {
      "text/html": [
       "<div>\n",
       "<table border=\"1\" class=\"dataframe\">\n",
       "  <thead>\n",
       "    <tr style=\"text-align: right;\">\n",
       "      <th></th>\n",
       "      <th>clean_first_name</th>\n",
       "      <th>clean_middle_name</th>\n",
       "      <th>clean_last_name</th>\n",
       "      <th>medical_school</th>\n",
       "      <th>medschool_grad_year</th>\n",
       "    </tr>\n",
       "  </thead>\n",
       "  <tbody>\n",
       "    <tr>\n",
       "      <th>3224</th>\n",
       "      <td>NaN</td>\n",
       "      <td>C</td>\n",
       "      <td>RIPLEY</td>\n",
       "      <td>GEORGE WASHINGTON UNIVERSITY SCHOOL OF MEDICINE</td>\n",
       "      <td>NaN</td>\n",
       "    </tr>\n",
       "  </tbody>\n",
       "</table>\n",
       "</div>"
      ],
      "text/plain": [
       "     clean_first_name clean_middle_name clean_last_name  \\\n",
       "3224              NaN                 C          RIPLEY   \n",
       "\n",
       "                                       medical_school  medschool_grad_year  \n",
       "3224  GEORGE WASHINGTON UNIVERSITY SCHOOL OF MEDICINE                  NaN  "
      ]
     },
     "execution_count": 17,
     "metadata": {},
     "output_type": "execute_result"
    }
   ],
   "source": [
    "last_names = 'RIPLEY'\n",
    "\n",
    "all_app5.loc[all_app5.clean_last_name==last_names, NAME_COLS +['medical_school', 'medschool_grad_year']]"
   ]
  },
  {
   "cell_type": "code",
   "execution_count": 18,
   "metadata": {
    "collapsed": false,
    "scrolled": true
   },
   "outputs": [],
   "source": [
    "# merge in manual corrections excel sheet\n",
    "manual_fixes = pd.read_excel(os.path.join(CORRECTIONS_DIR, 'index_card_manual_corrections.xlsx')).rename(\n",
    "    columns={\n",
    "        'clean_medical_school': 'medical_school', \n",
    "        'to_fix_clean_medical_school': 'to_fix_medical_school'}).drop('Unnamed: 9', axis=1)"
   ]
  },
  {
   "cell_type": "code",
   "execution_count": 19,
   "metadata": {
    "collapsed": false,
    "scrolled": true
   },
   "outputs": [],
   "source": [
    "c = filter(lambda x: '_year' not in x, manual_fixes.columns)\n",
    "manual_fixes.loc[:, c] = manual_fixes[c].applymap(clean_names)"
   ]
  },
  {
   "cell_type": "code",
   "execution_count": 20,
   "metadata": {
    "collapsed": false,
    "scrolled": true
   },
   "outputs": [],
   "source": [
    "# manual_fixes\n",
    "# manual_fixes[manual_fixes.clean_last_name=='ARON']"
   ]
  },
  {
   "cell_type": "code",
   "execution_count": 21,
   "metadata": {
    "collapsed": false,
    "scrolled": true
   },
   "outputs": [
    {
     "name": "stdout",
     "output_type": "stream",
     "text": [
      "(576, 9)\n",
      "(121, 78)\n"
     ]
    }
   ],
   "source": [
    "# for the people who match, consolidate the columns\n",
    "\n",
    "missing_names = pd.merge(\n",
    "    left=all_app5, right=manual_fixes, on=['clean_first_name', 'clean_middle_name', 'clean_last_name', 'medical_school'], how='inner')\n",
    "\n",
    "print manual_fixes.shape\n",
    "print missing_names.shape\n",
    "# consolidate columns\n",
    "for x in ['medical_school', 'clean_first_name', 'clean_middle_name', 'medschool_year_grad']:\n",
    "    mask = ~pd.isnull(missing_names['to_fix_{}'.format(x)])\n",
    "    missing_names.loc[mask, x] = missing_names.loc[mask, 'to_fix_{}'.format(x)]\n",
    "    \n",
    "    \n",
    "# drop extra columns\n",
    "missing_names2 = missing_names.drop(\n",
    "    (c for c in missing_names.columns if c not in all_app5.columns), axis=1).drop_duplicates([RAW_CARD_ID])\n",
    "\n",
    "all_app6  = pd.concat(\n",
    "    [all_app5.loc[~all_app5[RAW_CARD_ID].isin(missing_names2[RAW_CARD_ID]), :], missing_names2], axis=0)"
   ]
  },
  {
   "cell_type": "code",
   "execution_count": 22,
   "metadata": {
    "collapsed": false,
    "scrolled": true
   },
   "outputs": [
    {
     "data": {
      "text/html": [
       "<div>\n",
       "<table border=\"1\" class=\"dataframe\">\n",
       "  <thead>\n",
       "    <tr style=\"text-align: right;\">\n",
       "      <th></th>\n",
       "      <th>clean_first_name</th>\n",
       "      <th>clean_middle_name</th>\n",
       "      <th>clean_last_name</th>\n",
       "      <th>medical_school</th>\n",
       "      <th>to_fix_clean_first_name</th>\n",
       "      <th>to_fix_clean_middle_name</th>\n",
       "      <th>to_fix_clean_last_name</th>\n",
       "      <th>to_fix_medical_school</th>\n",
       "      <th>to_fix_medschool_year_grad</th>\n",
       "    </tr>\n",
       "  </thead>\n",
       "  <tbody>\n",
       "    <tr>\n",
       "      <th>140</th>\n",
       "      <td>NaN</td>\n",
       "      <td>NaN</td>\n",
       "      <td>DANFORTH</td>\n",
       "      <td>NaN</td>\n",
       "      <td>DAVID</td>\n",
       "      <td>NaN</td>\n",
       "      <td>DANFORTH</td>\n",
       "      <td>NORTHWESTERN</td>\n",
       "      <td>NaN</td>\n",
       "    </tr>\n",
       "    <tr>\n",
       "      <th>141</th>\n",
       "      <td>NaN</td>\n",
       "      <td>BOWES</td>\n",
       "      <td>DAVIS</td>\n",
       "      <td>DUKE</td>\n",
       "      <td>NaN</td>\n",
       "      <td>BOWES</td>\n",
       "      <td>DAVIS</td>\n",
       "      <td>DUKE</td>\n",
       "      <td>NaN</td>\n",
       "    </tr>\n",
       "    <tr>\n",
       "      <th>142</th>\n",
       "      <td>NaN</td>\n",
       "      <td>C</td>\n",
       "      <td>DAVIE</td>\n",
       "      <td>NaN</td>\n",
       "      <td>JAMES</td>\n",
       "      <td>C</td>\n",
       "      <td>DAVIE</td>\n",
       "      <td>UNIVERSITY OF ALABAMA</td>\n",
       "      <td>NaN</td>\n",
       "    </tr>\n",
       "    <tr>\n",
       "      <th>143</th>\n",
       "      <td>NaN</td>\n",
       "      <td>JOHN A</td>\n",
       "      <td>DAVIES</td>\n",
       "      <td>MIAMI</td>\n",
       "      <td>PETER</td>\n",
       "      <td>JOHN</td>\n",
       "      <td>DAVIES</td>\n",
       "      <td>MIAMI</td>\n",
       "      <td>NaN</td>\n",
       "    </tr>\n",
       "    <tr>\n",
       "      <th>144</th>\n",
       "      <td>NaN</td>\n",
       "      <td>NaN</td>\n",
       "      <td>DAVISON</td>\n",
       "      <td>NYU</td>\n",
       "      <td>NaN</td>\n",
       "      <td>NaN</td>\n",
       "      <td>DAVISON</td>\n",
       "      <td>NYU</td>\n",
       "      <td>NaN</td>\n",
       "    </tr>\n",
       "    <tr>\n",
       "      <th>145</th>\n",
       "      <td>NaN</td>\n",
       "      <td>NaN</td>\n",
       "      <td>DEMETER</td>\n",
       "      <td>NYU</td>\n",
       "      <td>NaN</td>\n",
       "      <td>NaN</td>\n",
       "      <td>DEMETER</td>\n",
       "      <td>NYU</td>\n",
       "      <td>NaN</td>\n",
       "    </tr>\n",
       "    <tr>\n",
       "      <th>146</th>\n",
       "      <td>NaN</td>\n",
       "      <td>BAYHI</td>\n",
       "      <td>DE KERNION</td>\n",
       "      <td>LOUISIANA STATE</td>\n",
       "      <td>JEAN</td>\n",
       "      <td>BAYHI</td>\n",
       "      <td>DE KERNION</td>\n",
       "      <td>LOUISIANA STATE</td>\n",
       "      <td>NaN</td>\n",
       "    </tr>\n",
       "    <tr>\n",
       "      <th>147</th>\n",
       "      <td>PETER</td>\n",
       "      <td>RONALD</td>\n",
       "      <td>DEAL</td>\n",
       "      <td>EMORY</td>\n",
       "      <td>DAVEY</td>\n",
       "      <td>RONALD</td>\n",
       "      <td>DEAL</td>\n",
       "      <td>ARKANSAS</td>\n",
       "      <td>NaN</td>\n",
       "    </tr>\n",
       "    <tr>\n",
       "      <th>148</th>\n",
       "      <td>NaN</td>\n",
       "      <td>A</td>\n",
       "      <td>DEFRONZO</td>\n",
       "      <td>HARVARD</td>\n",
       "      <td>RALPH</td>\n",
       "      <td>A</td>\n",
       "      <td>DEFRENZO</td>\n",
       "      <td>HARVARD</td>\n",
       "      <td>NaN</td>\n",
       "    </tr>\n",
       "    <tr>\n",
       "      <th>149</th>\n",
       "      <td>NaN</td>\n",
       "      <td>ROBERT</td>\n",
       "      <td>DELONG</td>\n",
       "      <td>HARVARD</td>\n",
       "      <td>GEORGE</td>\n",
       "      <td>ROBERT</td>\n",
       "      <td>DELONG</td>\n",
       "      <td>HARVARD</td>\n",
       "      <td>NaN</td>\n",
       "    </tr>\n",
       "    <tr>\n",
       "      <th>150</th>\n",
       "      <td>G</td>\n",
       "      <td>ROBERT</td>\n",
       "      <td>DELONG</td>\n",
       "      <td>HARVARD</td>\n",
       "      <td>GEORGE</td>\n",
       "      <td>ROBERT</td>\n",
       "      <td>DELONG</td>\n",
       "      <td>HARVARD</td>\n",
       "      <td>NaN</td>\n",
       "    </tr>\n",
       "    <tr>\n",
       "      <th>151</th>\n",
       "      <td>NaN</td>\n",
       "      <td>R</td>\n",
       "      <td>DELONG</td>\n",
       "      <td>HARVARD</td>\n",
       "      <td>MAHLON</td>\n",
       "      <td>R</td>\n",
       "      <td>DELONG</td>\n",
       "      <td>HARVARD</td>\n",
       "      <td>NaN</td>\n",
       "    </tr>\n",
       "    <tr>\n",
       "      <th>152</th>\n",
       "      <td>NaN</td>\n",
       "      <td>NaN</td>\n",
       "      <td>DEPPERMAN</td>\n",
       "      <td>PENNSLYVANIA</td>\n",
       "      <td>STEPHEN</td>\n",
       "      <td>ROLFE</td>\n",
       "      <td>DEPPERMAN</td>\n",
       "      <td>PENNSLYVANIA</td>\n",
       "      <td>NaN</td>\n",
       "    </tr>\n",
       "    <tr>\n",
       "      <th>153</th>\n",
       "      <td>NaN</td>\n",
       "      <td>ROLFE</td>\n",
       "      <td>DEPPERMAN</td>\n",
       "      <td>PENNSLYVANIA</td>\n",
       "      <td>STEPHEN</td>\n",
       "      <td>ROLFE</td>\n",
       "      <td>DEPPERMAN</td>\n",
       "      <td>PENNSLYVANIA</td>\n",
       "      <td>NaN</td>\n",
       "    </tr>\n",
       "    <tr>\n",
       "      <th>154</th>\n",
       "      <td>NaN</td>\n",
       "      <td>LEONARD</td>\n",
       "      <td>DIENSTAG</td>\n",
       "      <td>COLUMBIA</td>\n",
       "      <td>JULES</td>\n",
       "      <td>LEONARD</td>\n",
       "      <td>DIENSTAG</td>\n",
       "      <td>COLUMBIA UNIVERSITY COLLEGE OF PHYSICIANS AND ...</td>\n",
       "      <td>NaN</td>\n",
       "    </tr>\n",
       "    <tr>\n",
       "      <th>155</th>\n",
       "      <td>NaN</td>\n",
       "      <td>E</td>\n",
       "      <td>DIETZMAN</td>\n",
       "      <td>BAYLOR</td>\n",
       "      <td>DALE</td>\n",
       "      <td>E</td>\n",
       "      <td>DIETZMAN</td>\n",
       "      <td>VERMONT MEDICAL CENTER</td>\n",
       "      <td>NaN</td>\n",
       "    </tr>\n",
       "    <tr>\n",
       "      <th>156</th>\n",
       "      <td>NaN</td>\n",
       "      <td>E</td>\n",
       "      <td>DIEZMAN</td>\n",
       "      <td>NaN</td>\n",
       "      <td>DALE</td>\n",
       "      <td>E</td>\n",
       "      <td>DIETZMAN</td>\n",
       "      <td>VERMONT MEDICAL CENTER</td>\n",
       "      <td>NaN</td>\n",
       "    </tr>\n",
       "    <tr>\n",
       "      <th>157</th>\n",
       "      <td></td>\n",
       "      <td>J</td>\n",
       "      <td>DILIBERTO</td>\n",
       "      <td>NaN</td>\n",
       "      <td>EMANUEL</td>\n",
       "      <td>J</td>\n",
       "      <td>DILIBERTO</td>\n",
       "      <td>ROCHESTER</td>\n",
       "      <td>NaN</td>\n",
       "    </tr>\n",
       "    <tr>\n",
       "      <th>159</th>\n",
       "      <td>NaN</td>\n",
       "      <td>NaN</td>\n",
       "      <td>DREWS</td>\n",
       "      <td>COLORADO HEALTH SCIENCES CENTER</td>\n",
       "      <td>GENEVIVE</td>\n",
       "      <td>NaN</td>\n",
       "      <td>DREWS</td>\n",
       "      <td>COLORADO HEALTH SCIENCES CENTER</td>\n",
       "      <td>NaN</td>\n",
       "    </tr>\n",
       "    <tr>\n",
       "      <th>160</th>\n",
       "      <td>DALE</td>\n",
       "      <td>DON</td>\n",
       "      <td>DROBIS</td>\n",
       "      <td>PENNSLYVANIA</td>\n",
       "      <td>JEFFREY</td>\n",
       "      <td>DONALD</td>\n",
       "      <td>DROBIN</td>\n",
       "      <td>PENNSLYVANIA</td>\n",
       "      <td>NaN</td>\n",
       "    </tr>\n",
       "  </tbody>\n",
       "</table>\n",
       "</div>"
      ],
      "text/plain": [
       "    clean_first_name clean_middle_name clean_last_name  \\\n",
       "140              NaN               NaN        DANFORTH   \n",
       "141              NaN             BOWES           DAVIS   \n",
       "142              NaN                 C           DAVIE   \n",
       "143              NaN            JOHN A          DAVIES   \n",
       "144              NaN               NaN         DAVISON   \n",
       "145              NaN               NaN         DEMETER   \n",
       "146              NaN             BAYHI      DE KERNION   \n",
       "147            PETER            RONALD            DEAL   \n",
       "148              NaN                 A        DEFRONZO   \n",
       "149              NaN            ROBERT          DELONG   \n",
       "150                G            ROBERT          DELONG   \n",
       "151              NaN                 R          DELONG   \n",
       "152              NaN               NaN       DEPPERMAN   \n",
       "153              NaN             ROLFE       DEPPERMAN   \n",
       "154              NaN           LEONARD        DIENSTAG   \n",
       "155              NaN                 E        DIETZMAN   \n",
       "156              NaN                 E         DIEZMAN   \n",
       "157                                  J       DILIBERTO   \n",
       "159              NaN               NaN           DREWS   \n",
       "160             DALE               DON          DROBIS   \n",
       "\n",
       "                      medical_school to_fix_clean_first_name  \\\n",
       "140                              NaN                   DAVID   \n",
       "141                             DUKE                     NaN   \n",
       "142                              NaN                   JAMES   \n",
       "143                            MIAMI                   PETER   \n",
       "144                              NYU                     NaN   \n",
       "145                              NYU                     NaN   \n",
       "146                  LOUISIANA STATE                    JEAN   \n",
       "147                            EMORY                   DAVEY   \n",
       "148                          HARVARD                   RALPH   \n",
       "149                          HARVARD                  GEORGE   \n",
       "150                          HARVARD                  GEORGE   \n",
       "151                          HARVARD                  MAHLON   \n",
       "152                     PENNSLYVANIA                 STEPHEN   \n",
       "153                     PENNSLYVANIA                 STEPHEN   \n",
       "154                         COLUMBIA                   JULES   \n",
       "155                           BAYLOR                    DALE   \n",
       "156                              NaN                    DALE   \n",
       "157                              NaN                 EMANUEL   \n",
       "159  COLORADO HEALTH SCIENCES CENTER                GENEVIVE   \n",
       "160                     PENNSLYVANIA                 JEFFREY   \n",
       "\n",
       "    to_fix_clean_middle_name to_fix_clean_last_name  \\\n",
       "140                      NaN               DANFORTH   \n",
       "141                    BOWES                  DAVIS   \n",
       "142                        C                  DAVIE   \n",
       "143                     JOHN                 DAVIES   \n",
       "144                      NaN                DAVISON   \n",
       "145                      NaN                DEMETER   \n",
       "146                    BAYHI             DE KERNION   \n",
       "147                   RONALD                   DEAL   \n",
       "148                        A               DEFRENZO   \n",
       "149                   ROBERT                 DELONG   \n",
       "150                   ROBERT                 DELONG   \n",
       "151                        R                 DELONG   \n",
       "152                    ROLFE              DEPPERMAN   \n",
       "153                    ROLFE              DEPPERMAN   \n",
       "154                  LEONARD               DIENSTAG   \n",
       "155                        E               DIETZMAN   \n",
       "156                        E               DIETZMAN   \n",
       "157                        J              DILIBERTO   \n",
       "159                      NaN                  DREWS   \n",
       "160                   DONALD                 DROBIN   \n",
       "\n",
       "                                 to_fix_medical_school  \\\n",
       "140                                       NORTHWESTERN   \n",
       "141                                               DUKE   \n",
       "142                              UNIVERSITY OF ALABAMA   \n",
       "143                                              MIAMI   \n",
       "144                                                NYU   \n",
       "145                                                NYU   \n",
       "146                                    LOUISIANA STATE   \n",
       "147                                           ARKANSAS   \n",
       "148                                            HARVARD   \n",
       "149                                            HARVARD   \n",
       "150                                            HARVARD   \n",
       "151                                            HARVARD   \n",
       "152                                       PENNSLYVANIA   \n",
       "153                                       PENNSLYVANIA   \n",
       "154  COLUMBIA UNIVERSITY COLLEGE OF PHYSICIANS AND ...   \n",
       "155                             VERMONT MEDICAL CENTER   \n",
       "156                             VERMONT MEDICAL CENTER   \n",
       "157                                          ROCHESTER   \n",
       "159                    COLORADO HEALTH SCIENCES CENTER   \n",
       "160                                       PENNSLYVANIA   \n",
       "\n",
       "     to_fix_medschool_year_grad  \n",
       "140                         NaN  \n",
       "141                         NaN  \n",
       "142                         NaN  \n",
       "143                         NaN  \n",
       "144                         NaN  \n",
       "145                         NaN  \n",
       "146                         NaN  \n",
       "147                         NaN  \n",
       "148                         NaN  \n",
       "149                         NaN  \n",
       "150                         NaN  \n",
       "151                         NaN  \n",
       "152                         NaN  \n",
       "153                         NaN  \n",
       "154                         NaN  \n",
       "155                         NaN  \n",
       "156                         NaN  \n",
       "157                         NaN  \n",
       "159                         NaN  \n",
       "160                         NaN  "
      ]
     },
     "execution_count": 22,
     "metadata": {},
     "output_type": "execute_result"
    }
   ],
   "source": [
    "manual_fixes.loc[manual_fixes['clean_last_name'].apply(lambda x: False if pd.isnull(x) else x.startswith('D')), :]"
   ]
  },
  {
   "cell_type": "code",
   "execution_count": 23,
   "metadata": {
    "collapsed": false,
    "scrolled": true
   },
   "outputs": [
    {
     "data": {
      "text/html": [
       "<div>\n",
       "<table border=\"1\" class=\"dataframe\">\n",
       "  <thead>\n",
       "    <tr style=\"text-align: right;\">\n",
       "      <th></th>\n",
       "      <th>clean_first_name</th>\n",
       "      <th>clean_middle_name</th>\n",
       "      <th>clean_last_name</th>\n",
       "      <th>medical_school</th>\n",
       "      <th>residency_hospital</th>\n",
       "      <th>internship_hospital_1</th>\n",
       "    </tr>\n",
       "  </thead>\n",
       "  <tbody>\n",
       "    <tr>\n",
       "      <th>7068</th>\n",
       "      <td>ANDREW</td>\n",
       "      <td>NaN</td>\n",
       "      <td>SCHWARTZ</td>\n",
       "      <td>YALE UNIVERSITY SCHOOL OF MEDICINE</td>\n",
       "      <td>NaN</td>\n",
       "      <td>YALE-NEW HAVEN HOSPITAL</td>\n",
       "    </tr>\n",
       "    <tr>\n",
       "      <th>7124</th>\n",
       "      <td>AUGUSTIN</td>\n",
       "      <td>JOSEPH</td>\n",
       "      <td>SCHWARTZ</td>\n",
       "      <td>JEFFERSON MEDICAL COLLEGE OF THOMAS JEFFERSON ...</td>\n",
       "      <td>DUKE UNIVERSITY</td>\n",
       "      <td>DUKE UNIVERSITY</td>\n",
       "    </tr>\n",
       "    <tr>\n",
       "      <th>7180</th>\n",
       "      <td>BENJAMIN</td>\n",
       "      <td>D</td>\n",
       "      <td>SCHWARTZ</td>\n",
       "      <td>ALBERT EINSTEIN COLLEGE OF MEDICINE OF YESHIVA...</td>\n",
       "      <td>ALBERT EINSTEIN COL OF MED YESHIVA UNIV</td>\n",
       "      <td>NaN</td>\n",
       "    </tr>\n",
       "    <tr>\n",
       "      <th>7046</th>\n",
       "      <td>DONALD</td>\n",
       "      <td>BUTCHER</td>\n",
       "      <td>SCHWARTZ</td>\n",
       "      <td>USC KECK SCHOOL OF MEDICINE</td>\n",
       "      <td>CHILDREN'S HOSPITAL LOS ANGELES</td>\n",
       "      <td>CHILDREN'S HOSPITAL LOS ANGELES</td>\n",
       "    </tr>\n",
       "    <tr>\n",
       "      <th>7086</th>\n",
       "      <td>JAMES</td>\n",
       "      <td>RUBIN</td>\n",
       "      <td>SCHWARTZ</td>\n",
       "      <td>JOHNS HOPKINS UNIVERSITY SCHOOL OF MEDICINE</td>\n",
       "      <td>NaN</td>\n",
       "      <td>NaN</td>\n",
       "    </tr>\n",
       "    <tr>\n",
       "      <th>7263</th>\n",
       "      <td>JEFFREY</td>\n",
       "      <td>S</td>\n",
       "      <td>SCHWARTZ</td>\n",
       "      <td>ALBERT EINSTEIN COLLEGE OF MEDICINE OF YESHIVA...</td>\n",
       "      <td>NaN</td>\n",
       "      <td>ALBERT EINSTEIN COL OF MED YESHIVA UNIV</td>\n",
       "    </tr>\n",
       "    <tr>\n",
       "      <th>7125</th>\n",
       "      <td>JOEL</td>\n",
       "      <td>HOWARD</td>\n",
       "      <td>SCHWARTZ</td>\n",
       "      <td>HARVARD MEDICAL SCHOOL</td>\n",
       "      <td>BETH ISRAEL DEACONESS MEDICAL CENTER</td>\n",
       "      <td>BETH ISRAEL DEACONESS MEDICAL CENTER</td>\n",
       "    </tr>\n",
       "    <tr>\n",
       "      <th>7069</th>\n",
       "      <td>MICHAEL</td>\n",
       "      <td>ALAN</td>\n",
       "      <td>SCHWARTZ</td>\n",
       "      <td>JOAN &amp; SANFORD I. WEILL MEDICAL COLLEGE CORNEL...</td>\n",
       "      <td>NaN</td>\n",
       "      <td>NEW YORK HOSPITAL</td>\n",
       "    </tr>\n",
       "    <tr>\n",
       "      <th>6908</th>\n",
       "      <td>ROBERT</td>\n",
       "      <td>H</td>\n",
       "      <td>SCHWARTZ</td>\n",
       "      <td>UNIVERSITY OF ROCHESTER SCHOOL OF MEDICINE</td>\n",
       "      <td>UNIVERSITY OF ROCHESTER</td>\n",
       "      <td>UNIVERSITY OF ROCHESTER</td>\n",
       "    </tr>\n",
       "    <tr>\n",
       "      <th>7181</th>\n",
       "      <td>STANLEY</td>\n",
       "      <td>ALLEN</td>\n",
       "      <td>SCHWARTZ</td>\n",
       "      <td>ALBERT EINSTEIN COLLEGE OF MEDICINE OF YESHIVA...</td>\n",
       "      <td>NaN</td>\n",
       "      <td>ALBERT EINSTEIN COL OF MED YESHIVA UNIV</td>\n",
       "    </tr>\n",
       "    <tr>\n",
       "      <th>7237</th>\n",
       "      <td>WILLIAM</td>\n",
       "      <td>JOSEPH</td>\n",
       "      <td>SCHWARTZ</td>\n",
       "      <td>UCSF SCHOOL OF MEDICINE</td>\n",
       "      <td>NaN</td>\n",
       "      <td>HERBERT C. MOFFITT HOSPITAL</td>\n",
       "    </tr>\n",
       "    <tr>\n",
       "      <th>3591</th>\n",
       "      <td>NaN</td>\n",
       "      <td>ALLEN</td>\n",
       "      <td>SCHWARTZ</td>\n",
       "      <td>ALBERT EINSTEIN COLLEGE OF MEDICINE OF YESHIVA...</td>\n",
       "      <td>NaN</td>\n",
       "      <td>ALBERT EINSTEIN COL OF MED YESHIVA UNIV</td>\n",
       "    </tr>\n",
       "    <tr>\n",
       "      <th>3454</th>\n",
       "      <td>NaN</td>\n",
       "      <td>BUTCHER</td>\n",
       "      <td>SCHWARTZ</td>\n",
       "      <td>USC KECK SCHOOL OF MEDICINE</td>\n",
       "      <td>CHILDREN'S HOSPITAL LOS ANGELES</td>\n",
       "      <td>CHILDREN'S HOSPITAL LOS ANGELES</td>\n",
       "    </tr>\n",
       "    <tr>\n",
       "      <th>3590</th>\n",
       "      <td>NaN</td>\n",
       "      <td>D</td>\n",
       "      <td>SCHWARTZ</td>\n",
       "      <td>ALBERT EINSTEIN COLLEGE OF MEDICINE OF YESHIVA...</td>\n",
       "      <td>ALBERT EINSTEIN COL OF MED YESHIVA UNIV</td>\n",
       "      <td>NaN</td>\n",
       "    </tr>\n",
       "    <tr>\n",
       "      <th>3316</th>\n",
       "      <td>NaN</td>\n",
       "      <td>H</td>\n",
       "      <td>SCHWARTZ</td>\n",
       "      <td>UNIVERSITY OF ROCHESTER SCHOOL OF MEDICINE</td>\n",
       "      <td>UNIVERSITY OF ROCHESTER</td>\n",
       "      <td>UNIVERSITY OF ROCHESTER</td>\n",
       "    </tr>\n",
       "    <tr>\n",
       "      <th>3536</th>\n",
       "      <td>NaN</td>\n",
       "      <td>HARRY</td>\n",
       "      <td>SCHWARTZ</td>\n",
       "      <td>UNIVERSITY OF PENNSYLVANIA SCHOOL OF MEDICINE</td>\n",
       "      <td>NaN</td>\n",
       "      <td>UPSTATE MEDICAL UNIVERSITY</td>\n",
       "    </tr>\n",
       "    <tr>\n",
       "      <th>3535</th>\n",
       "      <td>NaN</td>\n",
       "      <td>HOWARD</td>\n",
       "      <td>SCHWARTZ</td>\n",
       "      <td>HARVARD MEDICAL SCHOOL</td>\n",
       "      <td>BETH ISRAEL DEACONESS MEDICAL CENTER</td>\n",
       "      <td>BETH ISRAEL DEACONESS MEDICAL CENTER</td>\n",
       "    </tr>\n",
       "    <tr>\n",
       "      <th>3534</th>\n",
       "      <td>NaN</td>\n",
       "      <td>JOSEPH</td>\n",
       "      <td>SCHWARTZ</td>\n",
       "      <td>JEFFERSON MEDICAL COLLEGE OF THOMAS JEFFERSON ...</td>\n",
       "      <td>DUKE UNIVERSITY</td>\n",
       "      <td>DUKE UNIVERSITY</td>\n",
       "    </tr>\n",
       "    <tr>\n",
       "      <th>3646</th>\n",
       "      <td>NaN</td>\n",
       "      <td>JOSEPH</td>\n",
       "      <td>SCHWARTZ</td>\n",
       "      <td>UCSF SCHOOL OF MEDICINE</td>\n",
       "      <td>NaN</td>\n",
       "      <td>HERBERT C. MOFFITT HOSPITAL</td>\n",
       "    </tr>\n",
       "    <tr>\n",
       "      <th>3495</th>\n",
       "      <td>NaN</td>\n",
       "      <td>RUBIN</td>\n",
       "      <td>SCHWARTZ</td>\n",
       "      <td>JOHNS HOPKINS UNIVERSITY SCHOOL OF MEDICINE</td>\n",
       "      <td>NaN</td>\n",
       "      <td>NaN</td>\n",
       "    </tr>\n",
       "    <tr>\n",
       "      <th>3455</th>\n",
       "      <td>NaN</td>\n",
       "      <td>S</td>\n",
       "      <td>SCHWARTZ</td>\n",
       "      <td>ALBERT EINSTEIN COLLEGE OF MEDICINE OF YESHIVA...</td>\n",
       "      <td>NaN</td>\n",
       "      <td>ALBERT EINSTEIN COL OF MED YESHIVA UNIV</td>\n",
       "    </tr>\n",
       "    <tr>\n",
       "      <th>3477</th>\n",
       "      <td>NaN</td>\n",
       "      <td>NaN</td>\n",
       "      <td>SCHWARTZ</td>\n",
       "      <td>YALE UNIVERSITY SCHOOL OF MEDICINE</td>\n",
       "      <td>NaN</td>\n",
       "      <td>YALE-NEW HAVEN HOSPITAL</td>\n",
       "    </tr>\n",
       "  </tbody>\n",
       "</table>\n",
       "</div>"
      ],
      "text/plain": [
       "     clean_first_name clean_middle_name clean_last_name  \\\n",
       "7068           ANDREW               NaN        SCHWARTZ   \n",
       "7124         AUGUSTIN            JOSEPH        SCHWARTZ   \n",
       "7180         BENJAMIN                 D        SCHWARTZ   \n",
       "7046           DONALD           BUTCHER        SCHWARTZ   \n",
       "7086            JAMES             RUBIN        SCHWARTZ   \n",
       "7263          JEFFREY                 S        SCHWARTZ   \n",
       "7125             JOEL            HOWARD        SCHWARTZ   \n",
       "7069          MICHAEL              ALAN        SCHWARTZ   \n",
       "6908           ROBERT                 H        SCHWARTZ   \n",
       "7181          STANLEY             ALLEN        SCHWARTZ   \n",
       "7237          WILLIAM            JOSEPH        SCHWARTZ   \n",
       "3591              NaN             ALLEN        SCHWARTZ   \n",
       "3454              NaN           BUTCHER        SCHWARTZ   \n",
       "3590              NaN                 D        SCHWARTZ   \n",
       "3316              NaN                 H        SCHWARTZ   \n",
       "3536              NaN             HARRY        SCHWARTZ   \n",
       "3535              NaN            HOWARD        SCHWARTZ   \n",
       "3534              NaN            JOSEPH        SCHWARTZ   \n",
       "3646              NaN            JOSEPH        SCHWARTZ   \n",
       "3495              NaN             RUBIN        SCHWARTZ   \n",
       "3455              NaN                 S        SCHWARTZ   \n",
       "3477              NaN               NaN        SCHWARTZ   \n",
       "\n",
       "                                         medical_school  \\\n",
       "7068                 YALE UNIVERSITY SCHOOL OF MEDICINE   \n",
       "7124  JEFFERSON MEDICAL COLLEGE OF THOMAS JEFFERSON ...   \n",
       "7180  ALBERT EINSTEIN COLLEGE OF MEDICINE OF YESHIVA...   \n",
       "7046                        USC KECK SCHOOL OF MEDICINE   \n",
       "7086        JOHNS HOPKINS UNIVERSITY SCHOOL OF MEDICINE   \n",
       "7263  ALBERT EINSTEIN COLLEGE OF MEDICINE OF YESHIVA...   \n",
       "7125                             HARVARD MEDICAL SCHOOL   \n",
       "7069  JOAN & SANFORD I. WEILL MEDICAL COLLEGE CORNEL...   \n",
       "6908         UNIVERSITY OF ROCHESTER SCHOOL OF MEDICINE   \n",
       "7181  ALBERT EINSTEIN COLLEGE OF MEDICINE OF YESHIVA...   \n",
       "7237                            UCSF SCHOOL OF MEDICINE   \n",
       "3591  ALBERT EINSTEIN COLLEGE OF MEDICINE OF YESHIVA...   \n",
       "3454                        USC KECK SCHOOL OF MEDICINE   \n",
       "3590  ALBERT EINSTEIN COLLEGE OF MEDICINE OF YESHIVA...   \n",
       "3316         UNIVERSITY OF ROCHESTER SCHOOL OF MEDICINE   \n",
       "3536      UNIVERSITY OF PENNSYLVANIA SCHOOL OF MEDICINE   \n",
       "3535                             HARVARD MEDICAL SCHOOL   \n",
       "3534  JEFFERSON MEDICAL COLLEGE OF THOMAS JEFFERSON ...   \n",
       "3646                            UCSF SCHOOL OF MEDICINE   \n",
       "3495        JOHNS HOPKINS UNIVERSITY SCHOOL OF MEDICINE   \n",
       "3455  ALBERT EINSTEIN COLLEGE OF MEDICINE OF YESHIVA...   \n",
       "3477                 YALE UNIVERSITY SCHOOL OF MEDICINE   \n",
       "\n",
       "                           residency_hospital  \\\n",
       "7068                                      NaN   \n",
       "7124                          DUKE UNIVERSITY   \n",
       "7180  ALBERT EINSTEIN COL OF MED YESHIVA UNIV   \n",
       "7046          CHILDREN'S HOSPITAL LOS ANGELES   \n",
       "7086                                      NaN   \n",
       "7263                                      NaN   \n",
       "7125     BETH ISRAEL DEACONESS MEDICAL CENTER   \n",
       "7069                                      NaN   \n",
       "6908                  UNIVERSITY OF ROCHESTER   \n",
       "7181                                      NaN   \n",
       "7237                                      NaN   \n",
       "3591                                      NaN   \n",
       "3454          CHILDREN'S HOSPITAL LOS ANGELES   \n",
       "3590  ALBERT EINSTEIN COL OF MED YESHIVA UNIV   \n",
       "3316                  UNIVERSITY OF ROCHESTER   \n",
       "3536                                      NaN   \n",
       "3535     BETH ISRAEL DEACONESS MEDICAL CENTER   \n",
       "3534                          DUKE UNIVERSITY   \n",
       "3646                                      NaN   \n",
       "3495                                      NaN   \n",
       "3455                                      NaN   \n",
       "3477                                      NaN   \n",
       "\n",
       "                        internship_hospital_1  \n",
       "7068                  YALE-NEW HAVEN HOSPITAL  \n",
       "7124                          DUKE UNIVERSITY  \n",
       "7180                                      NaN  \n",
       "7046          CHILDREN'S HOSPITAL LOS ANGELES  \n",
       "7086                                      NaN  \n",
       "7263  ALBERT EINSTEIN COL OF MED YESHIVA UNIV  \n",
       "7125     BETH ISRAEL DEACONESS MEDICAL CENTER  \n",
       "7069                        NEW YORK HOSPITAL  \n",
       "6908                  UNIVERSITY OF ROCHESTER  \n",
       "7181  ALBERT EINSTEIN COL OF MED YESHIVA UNIV  \n",
       "7237              HERBERT C. MOFFITT HOSPITAL  \n",
       "3591  ALBERT EINSTEIN COL OF MED YESHIVA UNIV  \n",
       "3454          CHILDREN'S HOSPITAL LOS ANGELES  \n",
       "3590                                      NaN  \n",
       "3316                  UNIVERSITY OF ROCHESTER  \n",
       "3536               UPSTATE MEDICAL UNIVERSITY  \n",
       "3535     BETH ISRAEL DEACONESS MEDICAL CENTER  \n",
       "3534                          DUKE UNIVERSITY  \n",
       "3646              HERBERT C. MOFFITT HOSPITAL  \n",
       "3495                                      NaN  \n",
       "3455  ALBERT EINSTEIN COL OF MED YESHIVA UNIV  \n",
       "3477                  YALE-NEW HAVEN HOSPITAL  "
      ]
     },
     "execution_count": 23,
     "metadata": {},
     "output_type": "execute_result"
    }
   ],
   "source": [
    "last_name = 'SCHWARTZ'\n",
    "\n",
    "# f_name = 'ADAM'\n",
    "# m_name = 'NORMAN'\n",
    "# all_app5.loc[(\n",
    "#         all_app5.clean_first_name==f_name) & (all_app5.clean_middle_name==m_name), NAME_COLS+['medical_school', 'residency_hospital', 'internship_hospital_1']]\n",
    "all_app5.loc[all_app5.clean_last_name==last_name, NAME_COLS+['medical_school', 'residency_hospital', 'internship_hospital_1']]\n",
    "# missing_names.loc[missing_names.clean_last_name==last_name, NAME_COLS+['medical_school']]\n",
    "# manual_fixes.loc[manual_fixes.clean_first_name=='LAWRENCE',  NAME_COLS+['medical_school']]\n",
    "# manual_fixes.loc[manual_fixes.clean_last_name==last_name,  NAME_COLS+['medical_school']]\n",
    "# all_app6.loc[all_app6.clean_last_name==last_name,  NAME_COLS+['medical_school', 'medschool_year_grad']]"
   ]
  },
  {
   "cell_type": "code",
   "execution_count": 24,
   "metadata": {
    "collapsed": false,
    "scrolled": true
   },
   "outputs": [],
   "source": [
    "all_app6['clean_first_initial'] = all_app6.clean_first_name.apply(get_first_letter)\n",
    "all_app6['clean_middle_initial'] = all_app6.clean_middle_name.apply(get_first_letter)\n",
    "all_app6['application_year'] = all_app6.application_date.apply(lambda x: pd.to_datetime(x).year)\n"
   ]
  },
  {
   "cell_type": "code",
   "execution_count": 25,
   "metadata": {
    "collapsed": true,
    "scrolled": true
   },
   "outputs": [],
   "source": [
    "all_app6.loc[(all_app6['application_year'] > 1990) | (all_app6['application_year'] < 1950), 'application_year'] = np.nan"
   ]
  },
  {
   "cell_type": "code",
   "execution_count": 26,
   "metadata": {
    "collapsed": false,
    "scrolled": true
   },
   "outputs": [],
   "source": [
    "# drop people with female names and two columns\n",
    "is_female_mask = ((all_app6.clean_first_name.isin(FEMALE_FIRST_NAMES)) | (\n",
    "        all_app6.clean_middle_name.isin(FEMALE_MIDDLE_NAMES)))\n",
    "# RENAME INTERNSHIP HOSPITAL COL\n",
    "all_app7 = all_app6.loc[~is_female_mask, :].drop(['Unnamed: 0',\"daniel's_comments\"], axis=1).rename(\n",
    "    columns={'internship_hospital_1': 'internship_hospital'})"
   ]
  },
  {
   "cell_type": "code",
   "execution_count": 29,
   "metadata": {
    "collapsed": false,
    "scrolled": true
   },
   "outputs": [
    {
     "data": {
      "text/html": [
       "<div>\n",
       "<table border=\"1\" class=\"dataframe\">\n",
       "  <thead>\n",
       "    <tr style=\"text-align: right;\">\n",
       "      <th></th>\n",
       "      <th>clean_first_name</th>\n",
       "      <th>clean_middle_name</th>\n",
       "      <th>clean_last_name</th>\n",
       "    </tr>\n",
       "  </thead>\n",
       "  <tbody>\n",
       "    <tr>\n",
       "      <th>4867</th>\n",
       "      <td>ARTHUR</td>\n",
       "      <td>NaN</td>\n",
       "      <td>GOTTLIEB</td>\n",
       "    </tr>\n",
       "    <tr>\n",
       "      <th>4868</th>\n",
       "      <td>FREDERICK</td>\n",
       "      <td>NaN</td>\n",
       "      <td>GOTTLIEB</td>\n",
       "    </tr>\n",
       "    <tr>\n",
       "      <th>4938</th>\n",
       "      <td>JEFFREY</td>\n",
       "      <td>ARNOLD</td>\n",
       "      <td>GOTTLIEB</td>\n",
       "    </tr>\n",
       "    <tr>\n",
       "      <th>4952</th>\n",
       "      <td>KENNETH</td>\n",
       "      <td>I</td>\n",
       "      <td>GOTTLIEB</td>\n",
       "    </tr>\n",
       "    <tr>\n",
       "      <th>4990</th>\n",
       "      <td>RICHARD</td>\n",
       "      <td>MATTHEW</td>\n",
       "      <td>GOTTLIEB</td>\n",
       "    </tr>\n",
       "    <tr>\n",
       "      <th>5077</th>\n",
       "      <td>SHELDON</td>\n",
       "      <td>H</td>\n",
       "      <td>GOTTLIEB</td>\n",
       "    </tr>\n",
       "    <tr>\n",
       "      <th>4939</th>\n",
       "      <td>SHELDON</td>\n",
       "      <td>KENNETH</td>\n",
       "      <td>GOTTLIEB</td>\n",
       "    </tr>\n",
       "    <tr>\n",
       "      <th>1273</th>\n",
       "      <td>NaN</td>\n",
       "      <td>ARNOLD</td>\n",
       "      <td>GOTTLIEB</td>\n",
       "    </tr>\n",
       "    <tr>\n",
       "      <th>1415</th>\n",
       "      <td>NaN</td>\n",
       "      <td>H</td>\n",
       "      <td>GOTTLIEB</td>\n",
       "    </tr>\n",
       "    <tr>\n",
       "      <th>1286</th>\n",
       "      <td>NaN</td>\n",
       "      <td>I</td>\n",
       "      <td>GOTTLIEB</td>\n",
       "    </tr>\n",
       "    <tr>\n",
       "      <th>1274</th>\n",
       "      <td>NaN</td>\n",
       "      <td>KENNETH</td>\n",
       "      <td>GOTTLIEB</td>\n",
       "    </tr>\n",
       "    <tr>\n",
       "      <th>1326</th>\n",
       "      <td>NaN</td>\n",
       "      <td>MATTHEW</td>\n",
       "      <td>GOTTLIEB</td>\n",
       "    </tr>\n",
       "    <tr>\n",
       "      <th>1204</th>\n",
       "      <td>NaN</td>\n",
       "      <td>NaN</td>\n",
       "      <td>GOTTLIEB</td>\n",
       "    </tr>\n",
       "    <tr>\n",
       "      <th>1205</th>\n",
       "      <td>NaN</td>\n",
       "      <td>NaN</td>\n",
       "      <td>GOTTLIEB</td>\n",
       "    </tr>\n",
       "  </tbody>\n",
       "</table>\n",
       "</div>"
      ],
      "text/plain": [
       "     clean_first_name clean_middle_name clean_last_name\n",
       "4867           ARTHUR               NaN        GOTTLIEB\n",
       "4868        FREDERICK               NaN        GOTTLIEB\n",
       "4938          JEFFREY            ARNOLD        GOTTLIEB\n",
       "4952          KENNETH                 I        GOTTLIEB\n",
       "4990          RICHARD           MATTHEW        GOTTLIEB\n",
       "5077          SHELDON                 H        GOTTLIEB\n",
       "4939          SHELDON           KENNETH        GOTTLIEB\n",
       "1273              NaN            ARNOLD        GOTTLIEB\n",
       "1415              NaN                 H        GOTTLIEB\n",
       "1286              NaN                 I        GOTTLIEB\n",
       "1274              NaN           KENNETH        GOTTLIEB\n",
       "1326              NaN           MATTHEW        GOTTLIEB\n",
       "1204              NaN               NaN        GOTTLIEB\n",
       "1205              NaN               NaN        GOTTLIEB"
      ]
     },
     "execution_count": 29,
     "metadata": {},
     "output_type": "execute_result"
    }
   ],
   "source": [
    "# check for any remaining females, check to make sure fuzzy matches worked properly\n",
    "all_app7.loc[all_app7.clean_last_name=='GOTTLIEB', NAME_COLS]"
   ]
  },
  {
   "cell_type": "code",
   "execution_count": 30,
   "metadata": {
    "collapsed": false,
    "scrolled": true
   },
   "outputs": [
    {
     "data": {
      "text/html": [
       "<div>\n",
       "<table border=\"1\" class=\"dataframe\">\n",
       "  <thead>\n",
       "    <tr style=\"text-align: right;\">\n",
       "      <th></th>\n",
       "      <th>clean_first_name</th>\n",
       "      <th>clean_middle_name</th>\n",
       "      <th>clean_last_name</th>\n",
       "      <th>reviewer</th>\n",
       "    </tr>\n",
       "  </thead>\n",
       "  <tbody>\n",
       "    <tr>\n",
       "      <th>5953</th>\n",
       "      <td>ALAN</td>\n",
       "      <td>MARC</td>\n",
       "      <td>LEVINE</td>\n",
       "      <td>2</td>\n",
       "    </tr>\n",
       "    <tr>\n",
       "      <th>5815</th>\n",
       "      <td>ARTHUR</td>\n",
       "      <td>SAMUEL</td>\n",
       "      <td>LEVINE</td>\n",
       "      <td>2</td>\n",
       "    </tr>\n",
       "    <tr>\n",
       "      <th>5838</th>\n",
       "      <td>DAVID</td>\n",
       "      <td>NORMAN</td>\n",
       "      <td>LEVINE</td>\n",
       "      <td>2</td>\n",
       "    </tr>\n",
       "    <tr>\n",
       "      <th>5851</th>\n",
       "      <td>FREDERICK</td>\n",
       "      <td>HUGH</td>\n",
       "      <td>LEVINE</td>\n",
       "      <td>2</td>\n",
       "    </tr>\n",
       "    <tr>\n",
       "      <th>5861</th>\n",
       "      <td>JOEL</td>\n",
       "      <td>B</td>\n",
       "      <td>LEVINE</td>\n",
       "      <td>2</td>\n",
       "    </tr>\n",
       "    <tr>\n",
       "      <th>5871</th>\n",
       "      <td>MARSHALL</td>\n",
       "      <td>ANDREW</td>\n",
       "      <td>LEVINE</td>\n",
       "      <td>2</td>\n",
       "    </tr>\n",
       "    <tr>\n",
       "      <th>5872</th>\n",
       "      <td>ROBERT</td>\n",
       "      <td>AARON</td>\n",
       "      <td>LEVINE</td>\n",
       "      <td>2</td>\n",
       "    </tr>\n",
       "    <tr>\n",
       "      <th>5753</th>\n",
       "      <td>ROBERT</td>\n",
       "      <td>J</td>\n",
       "      <td>LEVINE</td>\n",
       "      <td>2</td>\n",
       "    </tr>\n",
       "    <tr>\n",
       "      <th>5933</th>\n",
       "      <td>RODNEY</td>\n",
       "      <td>LEE</td>\n",
       "      <td>LEVINE</td>\n",
       "      <td>2</td>\n",
       "    </tr>\n",
       "    <tr>\n",
       "      <th>2241</th>\n",
       "      <td>NaN</td>\n",
       "      <td>AARON</td>\n",
       "      <td>LEVINE</td>\n",
       "      <td>1</td>\n",
       "    </tr>\n",
       "    <tr>\n",
       "      <th>2240</th>\n",
       "      <td>NaN</td>\n",
       "      <td>ANDREW</td>\n",
       "      <td>LEVINE</td>\n",
       "      <td>1</td>\n",
       "    </tr>\n",
       "    <tr>\n",
       "      <th>2227</th>\n",
       "      <td>NaN</td>\n",
       "      <td>B</td>\n",
       "      <td>LEVINE</td>\n",
       "      <td>1</td>\n",
       "    </tr>\n",
       "    <tr>\n",
       "      <th>2214</th>\n",
       "      <td>NaN</td>\n",
       "      <td>HUGH</td>\n",
       "      <td>LEVINE</td>\n",
       "      <td>1</td>\n",
       "    </tr>\n",
       "    <tr>\n",
       "      <th>2114</th>\n",
       "      <td>NaN</td>\n",
       "      <td>J</td>\n",
       "      <td>LEVINE</td>\n",
       "      <td>1</td>\n",
       "    </tr>\n",
       "    <tr>\n",
       "      <th>2302</th>\n",
       "      <td>NaN</td>\n",
       "      <td>LEE</td>\n",
       "      <td>LEVINE</td>\n",
       "      <td>1</td>\n",
       "    </tr>\n",
       "    <tr>\n",
       "      <th>2322</th>\n",
       "      <td>NaN</td>\n",
       "      <td>MARC</td>\n",
       "      <td>LEVINE</td>\n",
       "      <td>1</td>\n",
       "    </tr>\n",
       "    <tr>\n",
       "      <th>2202</th>\n",
       "      <td>NaN</td>\n",
       "      <td>NORMAN</td>\n",
       "      <td>LEVINE</td>\n",
       "      <td>1</td>\n",
       "    </tr>\n",
       "    <tr>\n",
       "      <th>2181</th>\n",
       "      <td>NaN</td>\n",
       "      <td>SAMUEL</td>\n",
       "      <td>LEVINE</td>\n",
       "      <td>1</td>\n",
       "    </tr>\n",
       "  </tbody>\n",
       "</table>\n",
       "</div>"
      ],
      "text/plain": [
       "     clean_first_name clean_middle_name clean_last_name  reviewer\n",
       "5953             ALAN              MARC          LEVINE         2\n",
       "5815           ARTHUR            SAMUEL          LEVINE         2\n",
       "5838            DAVID            NORMAN          LEVINE         2\n",
       "5851        FREDERICK              HUGH          LEVINE         2\n",
       "5861             JOEL                 B          LEVINE         2\n",
       "5871         MARSHALL            ANDREW          LEVINE         2\n",
       "5872           ROBERT             AARON          LEVINE         2\n",
       "5753           ROBERT                 J          LEVINE         2\n",
       "5933           RODNEY               LEE          LEVINE         2\n",
       "2241              NaN             AARON          LEVINE         1\n",
       "2240              NaN            ANDREW          LEVINE         1\n",
       "2227              NaN                 B          LEVINE         1\n",
       "2214              NaN              HUGH          LEVINE         1\n",
       "2114              NaN                 J          LEVINE         1\n",
       "2302              NaN               LEE          LEVINE         1\n",
       "2322              NaN              MARC          LEVINE         1\n",
       "2202              NaN            NORMAN          LEVINE         1\n",
       "2181              NaN            SAMUEL          LEVINE         1"
      ]
     },
     "execution_count": 30,
     "metadata": {},
     "output_type": "execute_result"
    }
   ],
   "source": [
    "all_app7.loc[all_app7.clean_last_name=='LEVINE', NAME_COLS+['reviewer']]"
   ]
  },
  {
   "cell_type": "code",
   "execution_count": null,
   "metadata": {
    "collapsed": false,
    "scrolled": true
   },
   "outputs": [],
   "source": [
    "# split into reviewer 1 and 2, and try to match\n",
    "all_app7['fuzzy_merge_col'] = all_app7[\n",
    "    ['clean_first_name', 'clean_middle_name', 'clean_last_name']].apply(create_str_merge, axis=1)\n",
    "rev2 = df_get_closest_matches(all_app7[all_app7.reviewer==2], all_app7[all_app7.reviewer==1], 'fuzzy_merge_col') \n",
    "\n",
    "\n",
    "feature_dict = {\n",
    "    'clean_first_name': get_name_str_sim,\n",
    "    'clean_middle_name': get_name_str_sim,\n",
    "    'clean_last_name': get_name_str_sim,\n",
    "    'medical_school': get_name_str_sim,\n",
    "    'application_year': get_dt_sim,\n",
    "    'address': get_name_str_sim\n",
    "}\n",
    "\n",
    "rev3 = add_similarity_features(rev2, feature_dict, check_match)\n",
    "\n",
    "rev1_counter = Counter(all_app7[all_app7.reviewer==1].clean_last_name.values)\n",
    "rev2_counter = Counter(all_app7[all_app7.reviewer==2].clean_last_name.values)\n",
    "rev3['last_name_counts_1'] = rev3.clean_last_name_1.apply(lambda x: rev1_counter[x])\n",
    "rev3['last_name_counts_2'] = rev3.clean_last_name_2.apply(lambda x: rev2_counter[x])\n",
    "\n",
    "# now, sort by is_match, similarity scores and only keep 1 uuid from each data set\n",
    "last_name_unique_mask = (\n",
    "    (rev3.last_name_counts_1==1) & (rev3.last_name_counts_2==1) & (\n",
    "        rev3.application_year_sim<4) & (rev3.medical_school_sim > .8))\n",
    "rev3.loc[last_name_unique_mask, 'is_match'] = 1"
   ]
  },
  {
   "cell_type": "code",
   "execution_count": null,
   "metadata": {
    "collapsed": false,
    "scrolled": true
   },
   "outputs": [],
   "source": [
    "rev3.is_match.describe()"
   ]
  },
  {
   "cell_type": "code",
   "execution_count": null,
   "metadata": {
    "collapsed": false,
    "scrolled": true
   },
   "outputs": [],
   "source": [
    "sims_cols = ['medical_school_sim', 'address_sim', 'clean_middle_name_sim', 'clean_first_name_sim']\n",
    "\n",
    "rev4 = rev3.loc[~pd.isnull(rev3.index), :].sort_values([\n",
    "        'raw_uuid_2', 'raw_uuid_1', 'is_match']+sims_cols, ascending=False)\n",
    "print rev3.shape\n",
    "print rev4.shape\n",
    "rev5 = filter_one_match_per_group(rev4, 'raw_uuid_1', {'raw_uuid_2': 'raw_uuid_3'}, sims_cols)\n",
    "print rev5.shape\n",
    "rev6 = filter_one_match_per_group(rev5, 'raw_uuid_2', {'raw_uuid_1': 'raw_uuid_4'}, sims_cols)\n",
    "print rev6.shape"
   ]
  },
  {
   "cell_type": "code",
   "execution_count": null,
   "metadata": {
    "collapsed": false,
    "scrolled": true
   },
   "outputs": [],
   "source": [
    "# del rev6['raw_uuid_4']\n",
    "rev6.loc[rev6.clean_last_name_1=='LEVINE', 'clean_first_name_1']"
   ]
  },
  {
   "cell_type": "code",
   "execution_count": null,
   "metadata": {
    "collapsed": false,
    "scrolled": true
   },
   "outputs": [],
   "source": [
    "matched_ids = np.concatenate([\n",
    "        rev6.raw_uuid_1.dropna().unique(), rev6.raw_uuid_2.dropna().unique(), rev6.raw_uuid_3.dropna().unique()], \n",
    "                        axis=0)\n",
    "print matched_ids.shape"
   ]
  },
  {
   "cell_type": "code",
   "execution_count": null,
   "metadata": {
    "collapsed": false,
    "scrolled": true
   },
   "outputs": [],
   "source": [
    "# try to merge on middle initial and clean last name\n",
    "\n",
    "unmatched_r1 = get_nonmatched(all_app7[all_app7.reviewer==1], matched_ids, 'raw_uuid')\n",
    "unmatched_r2 = get_nonmatched(all_app7[all_app7.reviewer==2], matched_ids, 'raw_uuid')\n",
    "\n",
    "unmatched_r1['fuzzy_merge_col'] = unmatched_r1[\n",
    "    ['clean_middle_initial', 'clean_last_name']].apply(create_str_merge, axis=1)\n",
    "unmatched_r2['fuzzy_merge_col'] = unmatched_r2[\n",
    "    ['clean_middle_initial', 'clean_last_name']].apply(create_str_merge, axis=1)"
   ]
  },
  {
   "cell_type": "code",
   "execution_count": null,
   "metadata": {
    "collapsed": false,
    "scrolled": true
   },
   "outputs": [],
   "source": [
    "rev2_counter = Counter(unmatched_r2.clean_last_name.values)\n",
    "rev1_counter = Counter(unmatched_r1.clean_last_name.values)\n",
    "\n",
    "match_round2 = df_get_closest_matches(unmatched_r2, unmatched_r1, 'fuzzy_merge_col')"
   ]
  },
  {
   "cell_type": "code",
   "execution_count": null,
   "metadata": {
    "collapsed": false,
    "scrolled": true
   },
   "outputs": [],
   "source": [
    "middle_last3 = add_similarity_features(match_round2, feature_dict, check_match)\n",
    "\n",
    "middle_last3['last_name_counts_1'] = middle_last3.clean_last_name_1.apply(lambda x: rev1_counter[x])\n",
    "middle_last3['last_name_counts_2'] = middle_last3.clean_last_name_2.apply(lambda x: rev2_counter[x])"
   ]
  },
  {
   "cell_type": "code",
   "execution_count": null,
   "metadata": {
    "collapsed": true,
    "scrolled": true
   },
   "outputs": [],
   "source": [
    "# now, sort by is_match, similarity scores and only keep 1 uuid from each data set\n",
    "last_name_unique_mask = (\n",
    "    (middle_last3.last_name_counts_1==1) & (middle_last3.last_name_counts_2==1) & (\n",
    "        middle_last3.application_year_sim<2) & (middle_last3.medical_school_sim > .8))\n",
    "middle_last3.loc[last_name_unique_mask, 'is_match'] = 1"
   ]
  },
  {
   "cell_type": "code",
   "execution_count": null,
   "metadata": {
    "collapsed": false,
    "scrolled": true
   },
   "outputs": [],
   "source": [
    "middle_last4 = middle_last3.loc[~pd.isnull(middle_last3.index), :].sort_values([\n",
    "        'raw_uuid_2', 'raw_uuid_1', 'is_match']+sims_cols, ascending=False)\n",
    "print middle_last3.shape\n",
    "print middle_last4.shape\n",
    "middle_last5 = filter_one_match_per_group(middle_last4, 'raw_uuid_1', {'raw_uuid_2': 'raw_uuid_3'}, sims_cols)\n",
    "print middle_last5.shape\n",
    "middle_last6 = filter_one_match_per_group(middle_last5, 'raw_uuid_2', {'raw_uuid_1': 'raw_uuid_4'}, sims_cols)\n",
    "print middle_last6.shape"
   ]
  },
  {
   "cell_type": "code",
   "execution_count": null,
   "metadata": {
    "collapsed": false,
    "scrolled": true
   },
   "outputs": [],
   "source": [
    "middle_last6.loc[~pd.isnull(middle_last6.raw_uuid_4),['raw_uuid_1', 'raw_uuid_2', 'raw_uuid_3']]"
   ]
  },
  {
   "cell_type": "code",
   "execution_count": null,
   "metadata": {
    "collapsed": false,
    "scrolled": false
   },
   "outputs": [],
   "source": [
    "middle_last6.loc[middle_last6.clean_last_name_1=='LEVINE', sims_cols +[\n",
    " 'clean_first_name_1', 'clean_middle_name_1','clean_middle_name_2', 'clean_first_name_2']]\n",
    "# matches.loc[matches.clean_last_name=='LEVINE', 'clean_first_name']"
   ]
  },
  {
   "cell_type": "code",
   "execution_count": null,
   "metadata": {
    "collapsed": false,
    "scrolled": true
   },
   "outputs": [],
   "source": [
    "matched_ids = np.concatenate([\n",
    "        rev6.raw_uuid_1.dropna().unique(), rev6.raw_uuid_2.dropna().unique(), rev6.raw_uuid_3.dropna().unique(), \n",
    "        middle_last6.raw_uuid_1.dropna().unique(), middle_last6.raw_uuid_2.dropna().unique(), middle_last6.raw_uuid_3.dropna().unique()], \n",
    "                        axis=0)\n",
    "print matched_ids.shape"
   ]
  },
  {
   "cell_type": "code",
   "execution_count": null,
   "metadata": {
    "collapsed": false,
    "scrolled": true
   },
   "outputs": [],
   "source": [
    "# people who don't match on first or last\n",
    "all_app7a = all_app7.drop('fuzzy_merge_col', axis=1)\n",
    "unmatched = get_nonmatched(all_app7a, matched_ids, 'raw_uuid')"
   ]
  },
  {
   "cell_type": "code",
   "execution_count": null,
   "metadata": {
    "collapsed": false,
    "scrolled": true
   },
   "outputs": [],
   "source": [
    "matches = pd.concat([rev6, middle_last6], axis=0).drop(['raw_uuid_1_duplicate', 'raw_uuid_2_duplicate'], axis=1)\n",
    "matches1 = consolidate_merge_cols(matches, ['_1', '_2'], ['application_year', 'raw_uuid'])"
   ]
  },
  {
   "cell_type": "code",
   "execution_count": null,
   "metadata": {
    "collapsed": false,
    "scrolled": true
   },
   "outputs": [],
   "source": [
    "# append people by reviewer 3 and people not matched but reviewed by reviewer 1 or 2\n",
    "full_matches = pd.concat([matches1, unmatched],\n",
    "                      axis=0, ignore_index=True).sort_values(\n",
    "                            ['clean_last_name', 'clean_middle_name', 'clean_first_name']).reset_index(drop=True)"
   ]
  },
  {
   "cell_type": "code",
   "execution_count": null,
   "metadata": {
    "collapsed": true,
    "scrolled": true
   },
   "outputs": [],
   "source": [
    "full_matches1 = full_matches.drop([c for c in full_matches.columns if c.endswith('_sim') or '_counts' in c or c.endswith('_duplicate')], axis=1)"
   ]
  },
  {
   "cell_type": "code",
   "execution_count": null,
   "metadata": {
    "collapsed": false,
    "scrolled": true
   },
   "outputs": [],
   "source": [
    "full_matches[~pd.isnull(full_matches.raw_uuid_4)]"
   ]
  },
  {
   "cell_type": "code",
   "execution_count": null,
   "metadata": {
    "collapsed": false,
    "scrolled": true
   },
   "outputs": [],
   "source": [
    "# remove duplicate data from application year\n",
    "full_matches1.loc[pd.isnull(full_matches1.application_year), 'application_year'] = full_matches1.loc[\n",
    "    pd.isnull(full_matches1.application_year), 'application_year_2'] \n",
    "full_matches1.loc[pd.isnull(full_matches1.application_year), 'application_year'] = full_matches1.loc[\n",
    "    pd.isnull(full_matches1.application_year), 'application_year_1'] \n",
    "\n",
    "full_matches1.loc[pd.isnull(full_matches1.application_year_1), 'application_year_1'] = full_matches1.loc[\n",
    "    pd.isnull(full_matches1.application_year_1), 'application_year_2'] \n",
    "\n",
    "full_matches1.loc[full_matches1.application_year_1==full_matches1.application_year_2, ]\n",
    "full_matches1.loc[~pd.isnull(full_matches1.application_year_2), ]\n",
    "\n",
    "dup_app_year_mask= full_matches1.application_year==full_matches1.application_year_2\n",
    "full_matches1.loc[dup_app_year_mask, 'application_year_2'] = np.nan\n",
    "\n",
    "dup_app_year_mask= full_matches1.application_year_1==full_matches1.application_year_2\n",
    "full_matches1.loc[dup_app_year_mask, 'application_year_2'] = np.nan\n",
    "\n",
    "dup_app_year_mask= full_matches1.application_year==full_matches1.application_year_1\n",
    "full_matches1.loc[dup_app_year_mask, 'application_year_1'] = np.nan\n",
    "\n",
    "\n",
    "\n",
    "full_matches1.loc[~pd.isnull(full_matches1.application_year_2), ['application_year', 'application_year_1', 'application_year_2']]"
   ]
  },
  {
   "cell_type": "code",
   "execution_count": null,
   "metadata": {
    "collapsed": false,
    "scrolled": true
   },
   "outputs": [],
   "source": [
    "# remove uuid dups\n",
    "\n",
    "full_matches1.loc[pd.isnull(full_matches1.raw_uuid), 'raw_uuid'] = full_matches1.loc[\n",
    "    pd.isnull(full_matches1.raw_uuid), 'raw_uuid_2'] \n",
    "full_matches1.loc[pd.isnull(full_matches1.raw_uuid), 'raw_uuid'] = full_matches1.loc[\n",
    "    pd.isnull(full_matches1.raw_uuid), 'raw_uuid_1'] \n",
    "\n",
    "full_matches1.loc[pd.isnull(full_matches1.raw_uuid_1), 'raw_uuid_1'] = full_matches1.loc[\n",
    "    pd.isnull(full_matches1.raw_uuid_1), 'raw_uuid_2'] \n",
    "\n",
    "dup_uuid_mask= full_matches1.raw_uuid==full_matches1.raw_uuid_2\n",
    "full_matches1.loc[dup_uuid_mask, 'raw_uuid_2'] = np.nan\n",
    "\n",
    "dup_uuid_mask= full_matches1.raw_uuid_1==full_matches1.raw_uuid_2\n",
    "full_matches1.loc[dup_uuid_mask, 'raw_uuid_2'] = np.nan\n",
    "\n",
    "dup_uuid_mask= full_matches1.raw_uuid==full_matches1.raw_uuid_1\n",
    "full_matches1.loc[dup_uuid_mask, 'raw_uuid_1'] = np.nan\n",
    "\n",
    "dup_uuid_mask= full_matches1.raw_uuid==full_matches1.raw_uuid_3\n",
    "full_matches1.loc[dup_uuid_mask, 'raw_uuid_3'] = np.nan\n",
    "# full_matches1.loc[full_matches1.raw_uuid_1==full_matches1.raw_uuid_2, ['raw_uuid_1', 'raw_uuid_2']]\n",
    "full_matches1.loc[~pd.isnull(full_matches1.raw_uuid_3), ['raw_uuid', 'raw_uuid_1', 'raw_uuid_2', 'raw_uuid_3']]"
   ]
  },
  {
   "cell_type": "code",
   "execution_count": null,
   "metadata": {
    "collapsed": false,
    "scrolled": true
   },
   "outputs": [],
   "source": [
    "full_matches2 = full_matches1.drop(['raw_uuid_2', 'raw_uuid_3', 'application_year_2', 'raw_uuid_4'], axis=1)"
   ]
  },
  {
   "cell_type": "code",
   "execution_count": null,
   "metadata": {
    "collapsed": false,
    "scrolled": true
   },
   "outputs": [],
   "source": [
    "full_matches2.loc[full_matches2.clean_last_name=='PRZYBYLA']"
   ]
  },
  {
   "cell_type": "code",
   "execution_count": null,
   "metadata": {
    "collapsed": true,
    "scrolled": true
   },
   "outputs": [],
   "source": [
    "# del all_app3, all_appcards2, all_app4, all_app5, all_app6, all_app7a"
   ]
  },
  {
   "cell_type": "code",
   "execution_count": null,
   "metadata": {
    "collapsed": false,
    "scrolled": true
   },
   "outputs": [],
   "source": [
    "full_matches2['fuzzy_merge_col'] = full_matches2[\n",
    "    ['clean_middle_initial', 'clean_last_name', 'medical_school']].apply(create_str_merge, axis=1)\n",
    "\n",
    "last_name_counter = Counter(full_matches2.clean_last_name)\n",
    "full_matches2.loc[:, 'last_name_counts'] = full_matches2.apply(\n",
    "    lambda x: last_name_counter[x['clean_last_name']], axis=1)\n",
    "\n",
    "possible_dups = full_matches2[full_matches2['last_name_counts']>1].sort_values(\n",
    "    ['clean_last_name', 'clean_middle_name', 'medical_school', 'city', 'application_year'])\n",
    "\n",
    "people_match = df_get_closest_matches(possible_dups, possible_dups, 'fuzzy_merge_col', suffixes=['_x', '_y'])"
   ]
  },
  {
   "cell_type": "code",
   "execution_count": null,
   "metadata": {
    "collapsed": false,
    "scrolled": true
   },
   "outputs": [],
   "source": [
    "# for people with the same information, drop from the data set\n",
    "same_person_mask = (\n",
    "        (people_match.raw_uuid_x==people_match.raw_uuid_y) & (people_match.raw_uuid_1_x==people_match.raw_uuid_1_y))\n",
    "\n",
    "# need to add a second mask for people who have only 1 uuid\n",
    "same_person_mask2 = (\n",
    "        (people_match.raw_uuid_x==people_match.raw_uuid_y) & (pd.isnull(people_match.raw_uuid_1_x)) &\n",
    "            (pd.isnull(people_match.raw_uuid_1_y)))\n",
    "\n",
    "people_match2 = people_match[~(same_person_mask | same_person_mask2)]\n",
    "print people_match2.shape"
   ]
  },
  {
   "cell_type": "code",
   "execution_count": null,
   "metadata": {
    "collapsed": true,
    "scrolled": true
   },
   "outputs": [],
   "source": [
    "# NOW, need to redo the merging process, but merge in based on same people, not just same application year\n",
    "def check_similar(row):\n",
    "        # address and application year match\n",
    "    if row['application_year_sim'] > 3:\n",
    "        return 0\n",
    "    if row['medical_school_sim'] > 80 and row['clean_middle_name_sim'] > 60:\n",
    "        return 1\n",
    "    if row['medical_school_sim'] > 80 and row['clean_first_name_sim'] > 60:\n",
    "        return 1\n",
    "    if row['address_sim'] > 60 and row['medical_school_sim'] > 80 and (\n",
    "            pd.isnull(row['clean_first_name_sim']) or row['clean_first_name_sim'] > 80) :\n",
    "        return 1\n",
    "    return 0\n",
    "\n"
   ]
  },
  {
   "cell_type": "code",
   "execution_count": null,
   "metadata": {
    "collapsed": false,
    "scrolled": true
   },
   "outputs": [],
   "source": [
    "people_match3 = add_similarity_features(people_match2, feature_dict, check_similar, suffixes=['_x', '_y'])"
   ]
  },
  {
   "cell_type": "code",
   "execution_count": null,
   "metadata": {
    "collapsed": false,
    "scrolled": true
   },
   "outputs": [],
   "source": [
    "people_match3.loc[people_match3.clean_last_name_x.isin(['ALEXANDER', 'ALPERT']), \n",
    "                  ['is_match', 'clean_first_name_sim', \n",
    "                   'clean_middle_initial_x', 'clean_first_name_x','clean_first_name_y', 'medical_school_sim', 'clean_middle_name_x', 'clean_middle_name_y']]"
   ]
  },
  {
   "cell_type": "code",
   "execution_count": null,
   "metadata": {
    "collapsed": false,
    "scrolled": true
   },
   "outputs": [],
   "source": [
    "people_match4 = people_match3[people_match3['is_match']==1].reset_index().drop_duplicates(subset='index',keep='first')\n",
    "people_match4.shape"
   ]
  },
  {
   "cell_type": "code",
   "execution_count": null,
   "metadata": {
    "collapsed": false,
    "scrolled": true
   },
   "outputs": [],
   "source": [
    "people_match5 = consolidate_merge_cols(people_match4, ['_x', '_y'], ['application_year', 'application_year_1', 'raw_uuid', 'raw_uuid_1'])\n",
    "people_match6 = people_match5.drop([c for c in full_matches.columns if c.endswith('_sim') or '_counts' in c or c.endswith('_duplicate')], axis=1)"
   ]
  },
  {
   "cell_type": "code",
   "execution_count": null,
   "metadata": {
    "collapsed": false,
    "scrolled": true
   },
   "outputs": [],
   "source": [
    "# consolidate uuid columns\n",
    "people_match6['raw_uuid'] = people_match6['raw_uuid_x']\n",
    "people_match6['raw_uuid_1'] = people_match6['raw_uuid_1_x']\n",
    "people_match6['raw_uuid_2'] = np.nan\n",
    "people_match6['raw_uuid_3'] = np.nan\n",
    "\n",
    "fill_in_y = (\n",
    "    (people_match6.raw_uuid_y!=people_match6.raw_uuid_x) & (people_match6.raw_uuid_y!=people_match6.raw_uuid_1))\n",
    "\n",
    "people_match6.loc[fill_in_y, 'raw_uuid_2'] = people_match6.loc[fill_in_y, 'raw_uuid_y']\n",
    "\n",
    "fill_in_y_1 = (\n",
    "    (people_match6.raw_uuid_1_y!=people_match6.raw_uuid) & (people_match6.raw_uuid_1_y!=people_match6.raw_uuid_1) &\n",
    "        (people_match6.raw_uuid_1_y!=people_match6.raw_uuid_2))\n",
    "\n",
    "people_match6.loc[fill_in_y_1, 'raw_uuid_3'] = people_match6.loc[fill_in_y_1, 'raw_uuid_1_y']\n",
    "\n",
    "people_match6.loc[pd.isnull(people_match6.raw_uuid_1), 'raw_uuid_1'] = people_match6.loc[pd.isnull(people_match6.raw_uuid_1), 'raw_uuid_3']\n",
    "people_match6.loc[pd.isnull(people_match6.raw_uuid_1), 'raw_uuid_1'] = people_match6.loc[pd.isnull(people_match6.raw_uuid_1), 'raw_uuid_2']\n",
    "\n",
    "people_match6.loc[people_match6.raw_uuid_1==people_match6.raw_uuid_3, 'raw_uuid_3'] = np.nan\n",
    "\n",
    "# drop all uuidds except for i, 2, 2\n",
    "UUID_COLS = ['raw_uuid', 'raw_uuid_1', 'raw_uuid_2', 'raw_uuid_3']\n",
    "\n",
    "people_match7 = people_match6.drop(['raw_uuid_x', 'raw_uuid_y', 'raw_uuid_1_x', 'raw_uuid_1_y'], axis=1)"
   ]
  },
  {
   "cell_type": "code",
   "execution_count": null,
   "metadata": {
    "collapsed": true,
    "scrolled": true
   },
   "outputs": [],
   "source": [
    "# consolidate_app_year columns\n",
    "# consolidate uuid columns\n",
    "people_match7['application_year'] = people_match7['application_year_x']\n",
    "people_match7['application_year_1'] = people_match7['application_year_1_x']\n",
    "people_match7['application_year_2'] = np.nan\n",
    "people_match7['application_year_3'] = np.nan\n",
    "\n",
    "fill_in_y = (\n",
    "    (people_match7.application_year_y!=people_match7.application_year_x) & (people_match7.application_year_y!=people_match7.application_year_1))\n",
    "\n",
    "people_match7.loc[fill_in_y, 'application_year_2'] = people_match7.loc[fill_in_y, 'application_year_y']\n",
    "\n",
    "fill_in_y_1 = (\n",
    "    (people_match7.application_year_1_y!=people_match7.application_year) & (people_match7.application_year_1_y!=people_match7.application_year_1) &\n",
    "        (people_match7.application_year_1_y!=people_match7.application_year_2))\n",
    "\n",
    "people_match7.loc[fill_in_y_1, 'application_year_3'] = people_match7.loc[fill_in_y_1, 'application_year_1_y']\n",
    "\n",
    "people_match7.loc[pd.isnull(people_match7.application_year_1), 'application_year_1'] = people_match7.loc[pd.isnull(people_match7.application_year_1), 'application_year_3']\n",
    "people_match7.loc[pd.isnull(people_match7.application_year_1), 'application_year_1'] = people_match7.loc[pd.isnull(people_match7.application_year_1), 'application_year_2']\n",
    "\n",
    "people_match7.loc[people_match7.application_year_1==people_match7.application_year_3, 'application_year_3'] = np.nan\n",
    "people_match7.loc[people_match7.application_year_2==people_match7.application_year_3, 'application_year_3'] = np.nan\n",
    "people_match7.loc[people_match7.application_year_1==people_match7.application_year_2, 'application_year_2'] = np.nan\n",
    "\n",
    "# drop all uuidds except for i, 2, 2\n",
    "APPLICATION_YEAR_COLS = ['application_year', 'application_year_1']\n",
    "\n",
    "people_match8 = people_match7.drop(['application_year_2', 'application_year_3', 'application_year_x', 'application_year_y', 'application_year_1_x', 'application_year_1_y'], axis=1)"
   ]
  },
  {
   "cell_type": "code",
   "execution_count": null,
   "metadata": {
    "collapsed": false,
    "scrolled": true
   },
   "outputs": [],
   "source": [
    "people_match4.loc[people_match6.clean_last_name.isin(['ALEXANDER', 'ALPERT']), [\n",
    "        'application_year_x', 'application_year_1_x', 'application_year_y', 'application_year_1_y', 'clean_last_name_x']]"
   ]
  },
  {
   "cell_type": "code",
   "execution_count": null,
   "metadata": {
    "collapsed": false,
    "scrolled": true
   },
   "outputs": [],
   "source": [
    "people_match8.loc[people_match8.clean_last_name.isin(['ALEXANDER', 'ALPERT'])]"
   ]
  },
  {
   "cell_type": "code",
   "execution_count": null,
   "metadata": {
    "collapsed": false,
    "scrolled": true
   },
   "outputs": [],
   "source": [
    "# add back to main data set\n",
    "multi_apps_ids = np.concatenate([\n",
    "        people_match8.raw_uuid.dropna().unique(), people_match8.raw_uuid_1.dropna().unique(), \n",
    "        people_match8.raw_uuid_2.dropna().unique(), people_match8.raw_uuid_3.dropna().unique()], \n",
    "                        axis=0)"
   ]
  },
  {
   "cell_type": "code",
   "execution_count": null,
   "metadata": {
    "collapsed": false,
    "scrolled": true
   },
   "outputs": [],
   "source": [
    "one_app = get_nonmatched(full_matches2, multi_apps_ids, 'raw_uuid')"
   ]
  },
  {
   "cell_type": "code",
   "execution_count": null,
   "metadata": {
    "collapsed": false,
    "scrolled": true
   },
   "outputs": [],
   "source": [
    "full_apps = pd.concat([one_app, people_match8], axis=0).sort_values(NAME_COLS+UUID_COLS)\n",
    "print full_apps.shape"
   ]
  },
  {
   "cell_type": "code",
   "execution_count": null,
   "metadata": {
    "collapsed": false,
    "scrolled": true
   },
   "outputs": [],
   "source": [
    "dups1 = full_apps[full_apps.duplicated(['clean_last_name', 'clean_first_initial', 'clean_middle_initial', 'medical_school'], keep='first')].sort_values('clean_last_name')\n",
    "dups2 = full_apps[full_apps.duplicated(['clean_last_name', 'clean_first_initial', 'clean_middle_initial', 'medical_school'], keep='last')].sort_values('clean_last_name')\n",
    "dups2 = dups2[['clean_last_name', 'clean_first_name', 'clean_first_initial', 'medical_school', 'raw_uuid', 'raw_uuid_1', 'raw_uuid_2', 'raw_uuid_3', 'application_year', 'application_year_1']]"
   ]
  },
  {
   "cell_type": "code",
   "execution_count": null,
   "metadata": {
    "collapsed": false,
    "scrolled": true
   },
   "outputs": [],
   "source": [
    "dups3 = dups2.rename(columns={'raw_uuid': 'raw_uuid_4', 'raw_uuid_1': 'raw_uuid_5', 'raw_uuid_2': 'raw_uuid_6',\n",
    "                             'raw_uuid_3': 'raw_uuid_7', 'application_year': 'application_year_2', \n",
    "                              'application_year_1': 'application_year_3'})"
   ]
  },
  {
   "cell_type": "code",
   "execution_count": null,
   "metadata": {
    "collapsed": false,
    "scrolled": true
   },
   "outputs": [],
   "source": [
    "dups4 = pd.merge(left=dups1, right=dups3, on=['clean_last_name', 'clean_first_initial', 'medical_school'], how='inner')\n",
    "dups4.loc[:, ['raw_uuid', 'raw_uuid_4', 'raw_uuid_1', 'raw_uuid_5', 'raw_uuid_2', 'raw_uuid_6',\n",
    "                             'raw_uuid_3', 'raw_uuid_7', 'application_year', 'application_year_2', \n",
    "                              'application_year_1', 'application_year_3']]\n",
    "dups4.loc[pd.isnull(dups4.application_year_1), 'application_year_1'] =  dups4.loc[\n",
    "    pd.isnull(dups4.application_year_1), 'application_year_3'] \n",
    "dups4.loc[pd.isnull(dups4.application_year_1), 'application_year_1'] =  dups4.loc[\n",
    "    pd.isnull(dups4.application_year_1), 'application_year_2']\n",
    "dup_years = dups4.application_year_1==dups4.application_year_2\n",
    "dups4.loc[dup_years, 'application_year_2'] = np.nan\n"
   ]
  },
  {
   "cell_type": "code",
   "execution_count": null,
   "metadata": {
    "collapsed": false,
    "scrolled": true
   },
   "outputs": [],
   "source": [
    "dups5 = dups4.join(dups4[['raw_uuid', 'raw_uuid_4', 'raw_uuid_1', 'raw_uuid_5', 'raw_uuid_2', 'raw_uuid_6',\n",
    "                             'raw_uuid_3', 'raw_uuid_7']].apply(get_unique_vals, axis=1))"
   ]
  },
  {
   "cell_type": "code",
   "execution_count": null,
   "metadata": {
    "collapsed": false,
    "scrolled": true
   },
   "outputs": [],
   "source": [
    "dups6 = dups5.rename(columns=dict(zip(range(6), ['raw_uuid', 'raw_uuid_1', 'raw_uuid_2', 'raw_uuid_3', 'raw_uuid_4',\n",
    "                             'raw_uuid_5'])))\n",
    "sorted(dups6.columns)\n",
    "dups6 = dups5[['raw_uuid', 'raw_uuid_1', 'raw_uuid_2', 'raw_uuid_3', 'raw_uuid_4',\n",
    "                'raw_uuid_5', 'clean_last_name', 'clean_first_initial', 'medical_school', \n",
    "                   'application_year', 'application_year_2', \n",
    "                              'application_year_1',  'application_year_3']]"
   ]
  },
  {
   "cell_type": "code",
   "execution_count": null,
   "metadata": {
    "collapsed": true,
    "scrolled": true
   },
   "outputs": [],
   "source": [
    "not_dups = full_apps[\n",
    "    ~full_apps.duplicated(\n",
    "        ['clean_last_name', 'clean_first_initial', 'clean_middle_initial', 'medical_school'], keep=False)]"
   ]
  },
  {
   "cell_type": "code",
   "execution_count": null,
   "metadata": {
    "collapsed": false,
    "scrolled": true
   },
   "outputs": [],
   "source": [
    "full_apps1 = pd.concat([not_dups, dups6], axis=0).reset_index(drop=True)"
   ]
  },
  {
   "cell_type": "code",
   "execution_count": null,
   "metadata": {
    "collapsed": false,
    "scrolled": true
   },
   "outputs": [],
   "source": [
    "full_apps1.index.name = PERSON_ID\n",
    "print PERSON_ID in full_apps1.columns\n",
    "full_apps2 = full_apps1.reset_index(drop=False)\n",
    "# .rename(columns={'index': PERSON_ID})\n",
    "# sorted(full_apps2.columns)"
   ]
  },
  {
   "cell_type": "code",
   "execution_count": null,
   "metadata": {
    "collapsed": false,
    "scrolled": true
   },
   "outputs": [],
   "source": [
    "last_name='AXELROD'\n",
    "last_name='LEVINE'\n",
    "full_apps.loc[full_apps.clean_last_name==last_name, NAME_COLS+[PERSON_ID, 'medical_school']]\n",
    "unmatched.loc[unmatched.clean_last_name==last_name, NAME_COLS+[PERSON_ID, 'medical_school']]\n",
    "# one_app.loc[one_app.clean_last_name==last_name, NAME_COLS+[PERSON_ID, 'medical_school']]"
   ]
  },
  {
   "cell_type": "code",
   "execution_count": null,
   "metadata": {
    "collapsed": false,
    "scrolled": true
   },
   "outputs": [],
   "source": [
    "manual_fixes.loc[manual_fixes.clean_last_name==last_name]"
   ]
  },
  {
   "cell_type": "code",
   "execution_count": null,
   "metadata": {
    "collapsed": false,
    "scrolled": true
   },
   "outputs": [],
   "source": [
    "full_apps1.loc[full_apps1.clean_last_name=='ARON', NAME_COLS+['medical_school']]"
   ]
  },
  {
   "cell_type": "code",
   "execution_count": null,
   "metadata": {
    "collapsed": true,
    "scrolled": true
   },
   "outputs": [],
   "source": [
    "# write to csv\n",
    "full_apps2.to_csv(os.path.join(APP_DATA_DIR, 'index_cards_deduped_fuzzy.csv'), index=False)\n",
    "full_apps2.to_pickle(os.path.join(PICKLE_DIR, 'index_cards_deduped_fuzzy.p'))\n"
   ]
  },
  {
   "cell_type": "code",
   "execution_count": null,
   "metadata": {
    "collapsed": false,
    "scrolled": true
   },
   "outputs": [],
   "source": [
    "# also write out original raw index card (pre merge data set)\n",
    "all_app7.to_csv(os.path.join(APP_DATA_DIR, 'index_cards_raw.csv'), idnex=False)\n",
    "all_app7.to_pickle(os.path.join(PICKLE_DIR, 'index_cards_raw.p'))"
   ]
  },
  {
   "cell_type": "code",
   "execution_count": null,
   "metadata": {
    "collapsed": false,
    "scrolled": true
   },
   "outputs": [],
   "source": [
    "last_name='CHISARI'\n",
    "\n",
    "full_apps2.loc[full_apps2.clean_last_name==last_name, NAME_COLS+[PERSON_ID, 'medical_school']]"
   ]
  },
  {
   "cell_type": "code",
   "execution_count": null,
   "metadata": {
    "collapsed": false,
    "scrolled": true
   },
   "outputs": [],
   "source": [
    "# do some sanity checks on the data\n",
    "all_last_names = set(all_app7.clean_last_name.values)\n",
    "merged_last_names = set(full_apps.clean_last_name.values)\n",
    "diff_names = all_last_names - merged_last_names\n",
    "\n"
   ]
  },
  {
   "cell_type": "code",
   "execution_count": null,
   "metadata": {
    "collapsed": false,
    "scrolled": true
   },
   "outputs": [],
   "source": [
    "print diff_names"
   ]
  },
  {
   "cell_type": "code",
   "execution_count": null,
   "metadata": {
    "collapsed": false,
    "scrolled": true
   },
   "outputs": [],
   "source": [
    "print UUID_COLS, APPLICATION_YEAR_COLS"
   ]
  },
  {
   "cell_type": "code",
   "execution_count": null,
   "metadata": {
    "collapsed": false,
    "scrolled": true
   },
   "outputs": [],
   "source": [
    "missing_ppl = all_app7.loc[all_app7.clean_last_name.isin(diff_names), NAME_COLS+['raw_uuid', 'application_year']]"
   ]
  },
  {
   "cell_type": "code",
   "execution_count": null,
   "metadata": {
    "collapsed": false,
    "scrolled": true
   },
   "outputs": [],
   "source": [
    "full_apps.loc[full_apps.raw_uuid.isin(missing_ppl.raw_uuid) | full_apps.raw_uuid_1.isin(missing_ppl.raw_uuid), NAME_COLS]"
   ]
  },
  {
   "cell_type": "code",
   "execution_count": null,
   "metadata": {
    "collapsed": false,
    "scrolled": true
   },
   "outputs": [],
   "source": [
    "all_app7.loc[all_app7.clean_last_name=='CHISARI']"
   ]
  },
  {
   "cell_type": "code",
   "execution_count": null,
   "metadata": {
    "collapsed": true,
    "scrolled": true
   },
   "outputs": [],
   "source": []
  }
 ],
 "metadata": {
  "kernelspec": {
   "display_name": "Python 2",
   "language": "python",
   "name": "python2"
  },
  "language_info": {
   "codemirror_mode": {
    "name": "ipython",
    "version": 2
   },
   "file_extension": ".py",
   "mimetype": "text/x-python",
   "name": "python",
   "nbconvert_exporter": "python",
   "pygments_lexer": "ipython2",
   "version": "2.7.12"
  }
 },
 "nbformat": 4,
 "nbformat_minor": 1
}
