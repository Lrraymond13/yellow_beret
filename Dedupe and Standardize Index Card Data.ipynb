{
 "cells": [
  {
   "cell_type": "code",
   "execution_count": 1,
   "metadata": {
    "collapsed": false,
    "scrolled": true
   },
   "outputs": [],
   "source": [
    "import difflib\n",
    "from fuzzywuzzy import fuzz\n",
    "import itertools\n",
    "import pandas as pd\n",
    "from collections import Counter\n",
    "import numpy as np\n",
    "import string\n",
    "import funcy\n",
    "import re\n",
    "import os\n",
    "import uuid\n",
    "import math\n",
    "\n",
    "%load_ext autoreload\n",
    "\n",
    "%autoreload 2\n",
    "\n",
    "from data_cleaning_functions import (trans_remov_punc, standardize_whitespace, remove_punc, remove_suffix_from_last_name,\n",
    "                                     clean_names, has_award, has_suffix, get_suffix, replace_last_name, \n",
    "                                     is_year_range, str_sim, clean_med_school, clean_std_college_name)\n",
    "\n",
    "from dev import (\n",
    "    APP_DATA_DIR, SUM_STAT_DIR, CARD_DATA_DIR, CORRECTIONS_DIR, AWARDS_KEYWORDS, NAME_COLS, RAW_NAME_COLS, \n",
    "    RAW_CARD_ID, RAW_INDEX_IDS, PERSON_APPLICATION_ID, PERSON_ID, NIH_ID, FEMALE_FIRST_NAMES,\n",
    "    PICKLE_DIR)\n",
    "\n",
    "from merging_functions import *\n",
    "\n",
    "OUTPUT_CSV = True \n",
    "RAW_APPLICANT_DATA_FILENAME = 'raw_applicant_card_data.csv'\n",
    "MISSING_APPDATE_FILENAME = 'index_cards_no_application_date.csv'\n",
    "APP_SPELLING_CORRECTIONS = 'index_card_manual_corrections.xlsx'\n",
    "\n",
    "\n",
    "PERSONAL_INFO = [\n",
    "    'clean_first_name', 'clean_last_name', 'clean_middle_name',\n",
    "    'date_of_birth', 'medical_school', 'clean_college_trans']\n"
   ]
  },
  {
   "cell_type": "code",
   "execution_count": 2,
   "metadata": {
    "collapsed": false,
    "scrolled": true
   },
   "outputs": [
    {
     "name": "stderr",
     "output_type": "stream",
     "text": [
      "/home/lraymond/MIT/Azoulay_2016/yellow_berets/yb/local/lib/python2.7/site-packages/pandas/core/indexing.py:465: SettingWithCopyWarning: \n",
      "A value is trying to be set on a copy of a slice from a DataFrame.\n",
      "Try using .loc[row_indexer,col_indexer] = value instead\n",
      "\n",
      "See the caveats in the documentation: http://pandas.pydata.org/pandas-docs/stable/indexing.html#indexing-view-versus-copy\n",
      "  self.obj[item] = s\n",
      "/home/lraymond/MIT/Azoulay_2016/yellow_berets/yb/local/lib/python2.7/site-packages/pandas/core/frame.py:2378: SettingWithCopyWarning: \n",
      "A value is trying to be set on a copy of a slice from a DataFrame.\n",
      "Try using .loc[row_indexer,col_indexer] = value instead\n",
      "\n",
      "See the caveats in the documentation: http://pandas.pydata.org/pandas-docs/stable/indexing.html#indexing-view-versus-copy\n",
      "  self[k1] = value[k2]\n"
     ]
    }
   ],
   "source": [
    "all_appcards2 = pd.read_csv(os.path.join(CARD_DATA_DIR, RAW_APPLICANT_DATA_FILENAME))\n",
    "\n",
    "# drop all rows with first, last name NA\n",
    "all_app3 = all_appcards2.dropna(subset=['application_date'], how='all')\n",
    "\n",
    "\n",
    "def id_poorlyfmtdates(str_date):\n",
    "    try:\n",
    "        dt = pd.to_datetime(str_date, format='%m/%d/%Y')\n",
    "        return True\n",
    "    except (ValueError, AssertionError):\n",
    "        return False\n",
    "\n",
    "mask = all_app3.application_date.apply(id_poorlyfmtdates)\n",
    "# all_app3.loc[~mask, :]\n",
    "\n",
    "# change '3/31971 to 3/3/1971\n",
    "# change 41/8/1966 to 4/8/1966 \n",
    "all_app3.loc[all_app3.application_date=='3/31971', 'application_date'] = '3/3/1971'\n",
    "all_app3.loc[all_app3.application_date=='41/8/1966', 'application_date'] = '4/8/1966'\n",
    "\n",
    "# convert application date to date object\n",
    "all_app3.loc[:, 'application_date'] = all_app3['application_date'].apply(lambda x: pd.to_datetime(x))\n",
    "\n",
    "# do the same date check for birth date columns\n",
    "bdate_mask = all_app3.date_of_birth.apply(id_poorlyfmtdates)\n",
    "all_app3.loc[~bdate_mask, ['first_name', 'last_name', 'date_of_birth']]\n",
    "all_app3.loc[(\n",
    "        all_app3.last_name=='Cook') & \n",
    "                  (all_app3.middle_name=='James') & \n",
    "                  (all_app3.first_name.isnull()), 'date_of_birth'] = '1/27/1940'\n",
    "\n",
    "all_app3[NAME_COLS] = all_app3[RAW_NAME_COLS].applymap(clean_names)"
   ]
  },
  {
   "cell_type": "code",
   "execution_count": 3,
   "metadata": {
    "collapsed": false,
    "scrolled": true
   },
   "outputs": [],
   "source": [
    "all_app3.loc[(all_app3.clean_last_name=='RUBENSTEIN') & (all_app3.clean_middle_name=='ALLAN'), 'application_date'] = pd.to_datetime('1/21/1973')\n",
    "\n",
    "all_app3.loc[(\n",
    "        all_app3.clean_last_name=='ROOT') & \n",
    "                  (all_app3.clean_first_name=='RICHARD'), 'application_date'] = pd.to_datetime('5/23/1963')\n",
    "\n",
    "all_app3.loc[(\n",
    "        all_app3.clean_last_name=='FREIDMAN') & (all_app3.clean_first_name=='STANFORD'), 'application_date'] = pd.to_datetime('01/01/1960')\n"
   ]
  },
  {
   "cell_type": "code",
   "execution_count": 4,
   "metadata": {
    "collapsed": false,
    "scrolled": true
   },
   "outputs": [
    {
     "name": "stderr",
     "output_type": "stream",
     "text": [
      "/home/lraymond/MIT/Azoulay_2016/yellow_berets/yb/local/lib/python2.7/site-packages/pandas/core/frame.py:2754: SettingWithCopyWarning: \n",
      "A value is trying to be set on a copy of a slice from a DataFrame\n",
      "\n",
      "See the caveats in the documentation: http://pandas.pydata.org/pandas-docs/stable/indexing.html#indexing-view-versus-copy\n",
      "  **kwargs)\n"
     ]
    }
   ],
   "source": [
    "all_app3.rename(columns={'medical_school':'original_medical_school'}, inplace=True)"
   ]
  },
  {
   "cell_type": "code",
   "execution_count": 5,
   "metadata": {
    "collapsed": false,
    "scrolled": true
   },
   "outputs": [
    {
     "name": "stderr",
     "output_type": "stream",
     "text": [
      "/home/lraymond/MIT/Azoulay_2016/yellow_berets/yb/local/lib/python2.7/site-packages/pandas/core/indexing.py:288: SettingWithCopyWarning: \n",
      "A value is trying to be set on a copy of a slice from a DataFrame.\n",
      "Try using .loc[row_indexer,col_indexer] = value instead\n",
      "\n",
      "See the caveats in the documentation: http://pandas.pydata.org/pandas-docs/stable/indexing.html#indexing-view-versus-copy\n",
      "  self.obj[key] = _infer_fill_value(value)\n"
     ]
    },
    {
     "name": "stdout",
     "output_type": "stream",
     "text": [
      "['honor_societies_first', 'honor_societies_fourth', 'honor_societies_second', 'honor_societies_third']\n"
     ]
    }
   ],
   "source": [
    "# deal with suffixes and honors\n",
    "suffix_mask = all_app3.clean_last_name.apply(has_suffix)\n",
    "# all_app_short.loc[suffix_mask, ['clean_last_name', 'clean_first_name', 'clean_middle_name']]\n",
    "\n",
    "# for those last names that seem to have a suffix, pull into seperate column and keep everything last word of last name\n",
    "all_app3.loc[suffix_mask, 'clean_suffix'] = all_app3.loc[suffix_mask, 'clean_last_name'].apply(get_suffix)\n",
    "all_app3.loc[suffix_mask, 'clean_last_name'] = all_app3.loc[suffix_mask, 'clean_last_name'].apply(remove_suffix_from_last_name)\n",
    "\n",
    "# some first names also contain some honors such as 'Pfizer Award' or 'Honor Society'\n",
    "# these should be pulled into the honors and awards columns\n",
    "has_award_fnc = funcy.rpartial(has_award, AWARDS_KEYWORDS)\n",
    "\n",
    "\n",
    "# get a list of all the med school honors columns\n",
    "honors_columns = [c for c in all_app3.columns if 'honor' in c]\n",
    "print honors_columns\n",
    "\n",
    "has_award_mask = all_app3['clean_first_name'].apply(has_award_fnc)\n",
    "\n",
    "all_app3.loc[has_award_mask, 'extra_honor'] = all_app3.loc[has_award_mask, 'clean_first_name']\n",
    "\n",
    "# create column mask for each row where one of the honors columns is blank\n",
    "for hc in honors_columns:\n",
    "    hc_mask = (has_award_mask) & (pd.isnull(all_app3[hc]))\n",
    "    all_app3.loc[hc_mask, hc] = all_app3.loc[hc_mask, 'extra_honor']\n",
    "# check for any columns that already have full honors and cant be filled\n",
    "all_app3.loc[hc_mask, honors_columns].dropna(how='any')\n",
    "\n",
    "# drop extra honor columns\n",
    "all_app4 = all_app3.drop('extra_honor', axis=1)\n",
    "\n",
    "# replace those honors first names with np.nan\n",
    "all_app4.loc[has_award_mask, 'clean_first_name'] = np.nan\n",
    "\n",
    "# for those columns where med school is equal to last name or med_school is a year range, delete\n",
    "med_school_str_sim = funcy.rpartial(str_sim, 'medical_school', 'clean_last_name')\n",
    "all_app4.loc[:, 'school_name_sim'] = all_app4.loc[:, ['clean_last_name', 'medical_school']].apply(med_school_str_sim, axis=1)\n",
    "\n",
    "all_app4.loc[all_app4.school_name_sim > .6, :]\n",
    "\n",
    "all_app4.loc[:, 'clean_college'] = all_app4.undergraduate_school.apply(clean_names)\n",
    "\n",
    "to_remove_college = [\n",
    "    ' AND ', ' AT ', 'THE ', ' COLLGE', 'UNIVERISTY', 'UNIVERWSITY', 'MASSACHUSSETTS', 'JOHN ', 'DE PAUW', 'ASBURY', \n",
    "'DREXEL INSTITUTE OF TECHNOLOGY', 'A B BROWN UNIVERSITY', 'DARTMOUTH MEDICAL SCHOOL', 'RENSSELAER UNIVERSITY', \n",
    "'RENSSELAER POLYTECHNICAL INSTITUTE', ' STE', 'COLLEGE OF HOLY CROSS', 'HOLLY CROSS', 'JOHNSS ',  'BERKLEY',\n",
    "'UC ', 'PITTSBURRGH', 'WESLYN', 'WILLAMS', 'GEORGIA TECH', 'NEW YORK UNIVERSITY UNIV', \n",
    "'UNIVERSITY OF MICHIGAN IS A', 'OHIO', 'STATE UNIVERSITY OF NEW YORK AT BUFFALO']\n",
    "to_replace_college = [\n",
    "    ' ', ' ', ' ', ' COLLEGE', 'UNIVERSITY', 'UNIVERSITY', 'MASSACHUSETTS', 'JOHNS ', 'DEPAUW', 'ASHBURY',\n",
    "    'DREXEL UNIVERSITY', 'BROWN UNIVERSITY', 'DARTMOUTH', 'RENSSELAER POLYTECHNIC INSTITUTE', \n",
    "    'RENSSELAER POLYTECHNIC INSTITUTE', ' STATE', 'HOLY CROSS', 'HOLY CROSS', 'JOHNS ', \n",
    "    ' BERKELEY', 'UNIVERSITY OF CALIFORNIA ', 'PITTSBURGH', 'WESLEYAN', 'WILLIAMS', \n",
    "    'GEORGIA INSTITUTE OF TECHNOLOGY', 'NEW YORK', 'UNIVERSITY OF MICHIGAN', 'OHIO STATE', 'SUNY BUFFALO']\n",
    "\n",
    "clean_college_fnc = funcy.rpartial(clean_std_college_name, to_remove_college, to_replace_college)\n",
    "\n",
    "# make college mispelling and different reference translation table\n",
    "all_app4.loc[:, 'clean_college_trans'] = all_app4.clean_college.apply(clean_college_fnc)\n",
    "\n",
    "all_app4.drop(['clean_college', 'school_name_sim'], axis=1, inplace=True)"
   ]
  },
  {
   "cell_type": "code",
   "execution_count": 6,
   "metadata": {
    "collapsed": false,
    "scrolled": true
   },
   "outputs": [],
   "source": [
    "all_app4.loc[:, 'medical_school'] = all_app4.original_medical_school.apply(clean_med_school)"
   ]
  },
  {
   "cell_type": "code",
   "execution_count": 7,
   "metadata": {
    "collapsed": false
   },
   "outputs": [],
   "source": [
    "# set 'other' values to null\n",
    "all_app4.loc[all_app4.medical_school=='OTHER', 'medical_school'] = np.nan"
   ]
  },
  {
   "cell_type": "code",
   "execution_count": 8,
   "metadata": {
    "collapsed": false,
    "scrolled": true
   },
   "outputs": [],
   "source": [
    "# need to convert undergrad_year_grad and med_school_grad to numbers to maintain consistency\n",
    "all_app4.loc[:, ['undergrad_year_grad', 'medschool_year_grad']] = all_app4.loc[:, ['undergrad_year_grad', 'medschool_year_grad']].apply(\n",
    "    lambda x: pd.to_numeric(x, errors='coerce'))\n",
    "\n",
    "# now, sort by names, med school, undergrad school, \n",
    "all_app5 = all_app4.sort_values(by=PERSONAL_INFO)\n",
    "\n",
    "# LAST_NAME_MISSPELLINGS = {\n",
    "#         'HOMCY': 'HOMEY', 'DROBIS': 'DROBIN', 'DEFRONZO':'DEFRENZO', \n",
    "#         'BRADEN 3R': 'BRADEN', 'BORKER': 'BORER', 'CASTLES': 'CASTLE',\n",
    "#         'CUONO': 'CUOMO', 'CYRULNIK': 'CYRULINK', 'EISENBATH': 'EISENBARTH', \n",
    "#         'ELLIOTT': 'ELIOT', 'FINKLESTEIN': 'FINKELSTEIN', 'HEINRICK': 'HEINRICH', \n",
    "#         'HERLIKY': 'HERLIHY', 'HIMMELHOCK': 'HIMMELHOCH', 'JANOWSKY': 'JANKOWSKY', \n",
    "#         'KLINENBERG': 'KLINEBERG', 'KORNFELD': 'KORNFIELD', 'NEIDORF': 'NEIDOFT',\n",
    "#         'OLEINICK': 'OLENICK', 'ROSKES': 'ROSKE'\n",
    "# }\n",
    "# removed CUONO, DROBIS, \n",
    "\n",
    "\n",
    "LAST_NAME_MISSPELLINGS = {\n",
    "        'HOMCY': 'HOMEY', \n",
    "        'BRADEN 3R': 'BRADEN', 'BORKER': 'BORER', 'CASTLES': 'CASTLE',\n",
    "        'CYRULNIK': 'CYRULINK', 'EISENBATH': 'EISENBARTH', \n",
    "        'HEINRICK': 'HEINRICH', \n",
    "        'HERLIKY': 'HERLIHY', 'HIMMELHOCK': 'HIMMELHOCH', 'JANOWSKY': 'JANKOWSKY', \n",
    "        'KLINENBERG': 'KLINEBERG', 'KORNFELD': 'KORNFIELD', 'NEIDORF': 'NEIDOFT',\n",
    "        'OLEINICK': 'OLENICK', 'ROSKES': 'ROSKE'\n",
    "}\n",
    "\n",
    "replace_last_name_fnc = funcy.rpartial(replace_last_name, LAST_NAME_MISSPELLINGS)\n",
    "\n",
    "# correct last name mispellings\n",
    "all_app5.loc[:, 'clean_last_name'] = all_app5.loc[:, 'clean_last_name'].apply(replace_last_name_fnc)\n",
    "all_app5.loc[all_app5.clean_last_name=='MORTON', 'clean_first_name'] = 'JOHN'\n",
    "\n",
    "# convert ca column to float62\n",
    "all_app5.loc[:, 'ca'] = all_app5.loc[:, 'ca'].apply(lambda x: pd.to_numeric(x, errors='coerce'))"
   ]
  },
  {
   "cell_type": "code",
   "execution_count": 9,
   "metadata": {
    "collapsed": true,
    "scrolled": true
   },
   "outputs": [],
   "source": [
    "female_mask = (\n",
    "    (all_app5['clean_first_name'].isin(FEMALE_FIRST_NAMES)))\n",
    "#     | (\n",
    "#         all_app5['clean_middle_name'].isin(FEMALE_MIDDLE_NAMES)))\n",
    "all_app5['is_female'] = 0\n",
    "all_app5.loc[female_mask & ~pd.isnull(all_app5['clean_first_name']), 'is_female'] = 1"
   ]
  },
  {
   "cell_type": "code",
   "execution_count": 10,
   "metadata": {
    "collapsed": true,
    "scrolled": true
   },
   "outputs": [],
   "source": [
    "def get_first_letter(str_var):\n",
    "    if pd.isnull(str_var) or str_var=='':\n",
    "        return np.nan\n",
    "    return str_var[0]"
   ]
  },
  {
   "cell_type": "code",
   "execution_count": 11,
   "metadata": {
    "collapsed": false,
    "scrolled": true
   },
   "outputs": [
    {
     "data": {
      "text/html": [
       "<div>\n",
       "<table border=\"1\" class=\"dataframe\">\n",
       "  <thead>\n",
       "    <tr style=\"text-align: right;\">\n",
       "      <th></th>\n",
       "      <th>clean_first_name</th>\n",
       "      <th>clean_middle_name</th>\n",
       "      <th>clean_last_name</th>\n",
       "      <th>medical_school</th>\n",
       "      <th>medschool_grad_year</th>\n",
       "    </tr>\n",
       "  </thead>\n",
       "  <tbody>\n",
       "    <tr>\n",
       "      <th>4309</th>\n",
       "      <td>BRUCE</td>\n",
       "      <td>WILCOX</td>\n",
       "      <td>CHESEBRE</td>\n",
       "      <td>HARVARD MEDICAL SCHOOL</td>\n",
       "      <td>NaN</td>\n",
       "    </tr>\n",
       "    <tr>\n",
       "      <th>4502</th>\n",
       "      <td>DALE</td>\n",
       "      <td>E</td>\n",
       "      <td>DIEZMAN</td>\n",
       "      <td>NaN</td>\n",
       "      <td>NaN</td>\n",
       "    </tr>\n",
       "    <tr>\n",
       "      <th>4076</th>\n",
       "      <td>GREGORY</td>\n",
       "      <td>BARTLETT</td>\n",
       "      <td>BULKEY</td>\n",
       "      <td>HARVARD MEDICAL SCHOOL</td>\n",
       "      <td>NaN</td>\n",
       "    </tr>\n",
       "    <tr>\n",
       "      <th>5156</th>\n",
       "      <td>HUGH</td>\n",
       "      <td>R</td>\n",
       "      <td>HAYWOOD</td>\n",
       "      <td>UNIVERSITY OF ROCHESTER SCHOOL OF MEDICINE</td>\n",
       "      <td>NaN</td>\n",
       "    </tr>\n",
       "    <tr>\n",
       "      <th>6424</th>\n",
       "      <td>JOSEPH</td>\n",
       "      <td>GEORGE</td>\n",
       "      <td>PERPICH</td>\n",
       "      <td>UNIVERSITY OF MINNESOTA MEDICAL SCHOOL - DULUTH</td>\n",
       "      <td>NaN</td>\n",
       "    </tr>\n",
       "    <tr>\n",
       "      <th>4041</th>\n",
       "      <td>WILLIAM</td>\n",
       "      <td>NaN</td>\n",
       "      <td>BRADEN R</td>\n",
       "      <td>HARVARD MEDICAL SCHOOL</td>\n",
       "      <td>NaN</td>\n",
       "    </tr>\n",
       "    <tr>\n",
       "      <th>342</th>\n",
       "      <td>NaN</td>\n",
       "      <td>NaN</td>\n",
       "      <td>BRADEN</td>\n",
       "      <td>HARVARD MEDICAL SCHOOL</td>\n",
       "      <td>NaN</td>\n",
       "    </tr>\n",
       "    <tr>\n",
       "      <th>1500</th>\n",
       "      <td>NaN</td>\n",
       "      <td>NaN</td>\n",
       "      <td>HAYWARD</td>\n",
       "      <td>UNIVERSITY OF ROCHESTER SCHOOL OF MEDICINE</td>\n",
       "      <td>NaN</td>\n",
       "    </tr>\n",
       "    <tr>\n",
       "      <th>2850</th>\n",
       "      <td>NaN</td>\n",
       "      <td>GEORGE</td>\n",
       "      <td>PERPICH</td>\n",
       "      <td>UNIVERSITY OF MINNESOTA MEDICAL SCHOOL - TWIN ...</td>\n",
       "      <td>NaN</td>\n",
       "    </tr>\n",
       "    <tr>\n",
       "      <th>3224</th>\n",
       "      <td>NaN</td>\n",
       "      <td>C</td>\n",
       "      <td>RIPLEY</td>\n",
       "      <td>GEORGE WASHINGTON UNIVERSITY SCHOOL OF MEDICINE</td>\n",
       "      <td>NaN</td>\n",
       "    </tr>\n",
       "  </tbody>\n",
       "</table>\n",
       "</div>"
      ],
      "text/plain": [
       "     clean_first_name clean_middle_name clean_last_name  \\\n",
       "4309            BRUCE            WILCOX        CHESEBRE   \n",
       "4502             DALE                 E         DIEZMAN   \n",
       "4076          GREGORY          BARTLETT          BULKEY   \n",
       "5156             HUGH                 R         HAYWOOD   \n",
       "6424           JOSEPH            GEORGE         PERPICH   \n",
       "4041          WILLIAM               NaN        BRADEN R   \n",
       "342               NaN               NaN          BRADEN   \n",
       "1500              NaN               NaN         HAYWARD   \n",
       "2850              NaN            GEORGE         PERPICH   \n",
       "3224              NaN                 C          RIPLEY   \n",
       "\n",
       "                                         medical_school  medschool_grad_year  \n",
       "4309                             HARVARD MEDICAL SCHOOL                  NaN  \n",
       "4502                                                NaN                  NaN  \n",
       "4076                             HARVARD MEDICAL SCHOOL                  NaN  \n",
       "5156         UNIVERSITY OF ROCHESTER SCHOOL OF MEDICINE                  NaN  \n",
       "6424    UNIVERSITY OF MINNESOTA MEDICAL SCHOOL - DULUTH                  NaN  \n",
       "4041                             HARVARD MEDICAL SCHOOL                  NaN  \n",
       "342                              HARVARD MEDICAL SCHOOL                  NaN  \n",
       "1500         UNIVERSITY OF ROCHESTER SCHOOL OF MEDICINE                  NaN  \n",
       "2850  UNIVERSITY OF MINNESOTA MEDICAL SCHOOL - TWIN ...                  NaN  \n",
       "3224    GEORGE WASHINGTON UNIVERSITY SCHOOL OF MEDICINE                  NaN  "
      ]
     },
     "execution_count": 11,
     "metadata": {},
     "output_type": "execute_result"
    }
   ],
   "source": [
    "last_names = ['RIPLEY', 'HAYWOOD', 'HAYWARD', 'PERPICH', 'BRADEN', 'BRADEN R', 'BULKEY', 'CHESEBRE', 'DIEZMAN']\n",
    "\n",
    "all_app5.loc[all_app5.clean_last_name.isin(last_names), NAME_COLS +['medical_school', 'medschool_grad_year']]"
   ]
  },
  {
   "cell_type": "code",
   "execution_count": 12,
   "metadata": {
    "collapsed": false,
    "scrolled": true
   },
   "outputs": [],
   "source": [
    "# merge in manual corrections excel sheet\n",
    "manual_fixes = pd.read_excel(os.path.join(CORRECTIONS_DIR, 'index_card_manual_corrections.xlsx')).rename(\n",
    "    columns={\n",
    "        'clean_medical_school': 'medical_school', \n",
    "        'to_fix_clean_medical_school': 'to_fix_medical_school'}).drop('Unnamed: 9', axis=1)"
   ]
  },
  {
   "cell_type": "code",
   "execution_count": 13,
   "metadata": {
    "collapsed": false,
    "scrolled": true
   },
   "outputs": [],
   "source": [
    "c = filter(lambda x: '_year' not in x, manual_fixes.columns)\n",
    "manual_fixes.loc[:, c] = manual_fixes[c].applymap(clean_names)"
   ]
  },
  {
   "cell_type": "code",
   "execution_count": 14,
   "metadata": {
    "collapsed": true
   },
   "outputs": [],
   "source": [
    "manual_fixes.loc[manual_fixes.medical_school=='CHICAGO', 'medical_school'] = 'UNIVERSITY OF CHICAGO'"
   ]
  },
  {
   "cell_type": "code",
   "execution_count": 15,
   "metadata": {
    "collapsed": false,
    "scrolled": true
   },
   "outputs": [],
   "source": [
    "manual_fixes.loc[manual_fixes.clean_first_name==' ', 'clean_first_name'] = np.nan\n",
    "manual_fixes.loc[manual_fixes.clean_middle_name==' ', 'clean_middle_name'] = np.nan"
   ]
  },
  {
   "cell_type": "code",
   "execution_count": 16,
   "metadata": {
    "collapsed": false
   },
   "outputs": [],
   "source": [
    "missing_names = pd.merge(\n",
    "    left=all_app5, right=manual_fixes, on=[\n",
    "        'clean_first_name', 'clean_middle_name', 'clean_last_name'], how='inner', suffixes=['_1', '_2'])\n",
    "missing_names['med_sim'] = missing_names[['medical_school_1', 'medical_school_2']].apply(\n",
    "    lambda x: get_name_str_sim(x), axis=1)"
   ]
  },
  {
   "cell_type": "code",
   "execution_count": 17,
   "metadata": {
    "collapsed": true
   },
   "outputs": [],
   "source": [
    "missing_names1 = missing_names.sort_values(\n",
    "    'med_sim', ascending=False).drop_duplicates(NAME_COLS).drop(['medical_school_2', 'med_sim'], axis=1)\n",
    "missing_names1 = missing_names1.rename(columns={'medical_school_1': 'medical_school'})"
   ]
  },
  {
   "cell_type": "code",
   "execution_count": 18,
   "metadata": {
    "collapsed": false
   },
   "outputs": [
    {
     "data": {
      "text/html": [
       "<div>\n",
       "<table border=\"1\" class=\"dataframe\">\n",
       "  <thead>\n",
       "    <tr style=\"text-align: right;\">\n",
       "      <th></th>\n",
       "      <th>Unnamed: 0</th>\n",
       "      <th>raw_uuid</th>\n",
       "      <th>address</th>\n",
       "      <th>age</th>\n",
       "      <th>application_date</th>\n",
       "      <th>associate_program_entered</th>\n",
       "      <th>bob</th>\n",
       "      <th>ca</th>\n",
       "      <th>cc</th>\n",
       "      <th>cord</th>\n",
       "      <th>...</th>\n",
       "      <th>clean_college_trans</th>\n",
       "      <th>medical_school_1</th>\n",
       "      <th>is_female</th>\n",
       "      <th>medical_school_2</th>\n",
       "      <th>to_fix_clean_first_name</th>\n",
       "      <th>to_fix_clean_middle_name</th>\n",
       "      <th>to_fix_clean_last_name</th>\n",
       "      <th>to_fix_medical_school</th>\n",
       "      <th>to_fix_medschool_year_grad</th>\n",
       "      <th>med_sim</th>\n",
       "    </tr>\n",
       "  </thead>\n",
       "  <tbody>\n",
       "  </tbody>\n",
       "</table>\n",
       "<p>0 rows × 80 columns</p>\n",
       "</div>"
      ],
      "text/plain": [
       "Empty DataFrame\n",
       "Columns: [Unnamed: 0, raw_uuid, address, age, application_date, associate_program_entered, bob, ca, cc, cord, citizenship, city, clinical, dbs, daniel's_comments, date_of_birth, fifth, ic, original_medical_school, nci, nei, nhi, nhli, niaid, niamd, niamdd, nichd, nichhd, nidr, niehs, nigms, nimh, nindb, ninds, oir, other, pi, pharm_ra, ra, rejected, rejection_date, research, residency_hospital, residency_type, residency_year(s), sa, sixth, state, teaching, undergraduate_school, withdrawal, year_accepted, zip_code, first_name, honor_societies_first, honor_societies_fourth, honor_societies_second, honor_societies_third, internship_hospital_1, internship_year(s), last_name, medschool_year_grad, middle_name, reviewer, undergrad_year_grad, application_year, clean_first_name, clean_middle_name, clean_last_name, clean_suffix, clean_college_trans, medical_school_1, is_female, medical_school_2, to_fix_clean_first_name, to_fix_clean_middle_name, to_fix_clean_last_name, to_fix_medical_school, to_fix_medschool_year_grad, med_sim]\n",
       "Index: []\n",
       "\n",
       "[0 rows x 80 columns]"
      ]
     },
     "execution_count": 18,
     "metadata": {},
     "output_type": "execute_result"
    }
   ],
   "source": [
    "missing_names.loc[missing_names.clean_last_name=='BULKEY']"
   ]
  },
  {
   "cell_type": "code",
   "execution_count": 19,
   "metadata": {
    "collapsed": false
   },
   "outputs": [
    {
     "name": "stdout",
     "output_type": "stream",
     "text": [
      "(632, 9)\n",
      "(541, 78)\n"
     ]
    }
   ],
   "source": [
    "# for the people who match, consolidate the columns\n",
    "\n",
    "# missing_names = pd.merge(\n",
    "#     left=all_app5, right=manual_fixes, on=['clean_first_name', 'clean_middle_name', 'clean_last_name', 'medical_school'], how='inner')\n",
    "\n",
    "print manual_fixes.shape\n",
    "print missing_names1.shape\n",
    "\n",
    "missing_names1A = missing_names1.rename(columns={\n",
    "            'clean_first_name': 'old_first',\n",
    "            'clean_middle_name': 'old_middle',\n",
    "            'clean_last_name': 'old_last'}) \n",
    "missing_names1B = missing_names1A.rename(columns={\n",
    "            'to_fix_clean_first_name': 'clean_first_name', \n",
    "            'to_fix_clean_middle_name': 'clean_middle_name', \n",
    "            'to_fix_clean_last_name': 'clean_last_name'}) "
   ]
  },
  {
   "cell_type": "code",
   "execution_count": 20,
   "metadata": {
    "collapsed": false
   },
   "outputs": [
    {
     "data": {
      "text/html": [
       "<div>\n",
       "<table border=\"1\" class=\"dataframe\">\n",
       "  <thead>\n",
       "    <tr style=\"text-align: right;\">\n",
       "      <th></th>\n",
       "      <th>clean_first_name</th>\n",
       "      <th>clean_middle_name</th>\n",
       "      <th>clean_last_name</th>\n",
       "    </tr>\n",
       "  </thead>\n",
       "  <tbody>\n",
       "    <tr>\n",
       "      <th>15</th>\n",
       "      <td>DONALD</td>\n",
       "      <td>MARTIN</td>\n",
       "      <td>EILER</td>\n",
       "    </tr>\n",
       "    <tr>\n",
       "      <th>282</th>\n",
       "      <td>DONALD</td>\n",
       "      <td>MARTIN</td>\n",
       "      <td>EILER</td>\n",
       "    </tr>\n",
       "  </tbody>\n",
       "</table>\n",
       "</div>"
      ],
      "text/plain": [
       "    clean_first_name clean_middle_name clean_last_name\n",
       "15            DONALD            MARTIN           EILER\n",
       "282           DONALD            MARTIN           EILER"
      ]
     },
     "execution_count": 20,
     "metadata": {},
     "output_type": "execute_result"
    }
   ],
   "source": [
    "missing_names1B.loc[missing_names1B.clean_last_name.isin(['ELLER', 'EILER']), NAME_COLS]\n",
    "# missing_names.loc[missing_names.clean_last_name.isin(['ELLER', 'EILER']), NAME_COLS+['to_fix_clean_last_name']]"
   ]
  },
  {
   "cell_type": "code",
   "execution_count": 21,
   "metadata": {
    "collapsed": false,
    "scrolled": true
   },
   "outputs": [],
   "source": [
    "# drop extra columns\n",
    "missing_names2 = missing_names1B.drop(\n",
    "    (c for c in missing_names1B.columns if c not in all_app5.columns), axis=1).drop_duplicates([RAW_CARD_ID])\n",
    "\n",
    "all_app6  = pd.concat(\n",
    "    [all_app5.loc[~all_app5[RAW_CARD_ID].isin(missing_names2[RAW_CARD_ID]), :], missing_names2], axis=0)"
   ]
  },
  {
   "cell_type": "code",
   "execution_count": 22,
   "metadata": {
    "collapsed": false
   },
   "outputs": [
    {
     "data": {
      "text/html": [
       "<div>\n",
       "<table border=\"1\" class=\"dataframe\">\n",
       "  <thead>\n",
       "    <tr style=\"text-align: right;\">\n",
       "      <th></th>\n",
       "      <th>Unnamed: 0</th>\n",
       "      <th>raw_uuid</th>\n",
       "      <th>address</th>\n",
       "      <th>age</th>\n",
       "      <th>application_date</th>\n",
       "      <th>associate_program_entered</th>\n",
       "      <th>bob</th>\n",
       "      <th>ca</th>\n",
       "      <th>cc</th>\n",
       "      <th>cord</th>\n",
       "      <th>...</th>\n",
       "      <th>reviewer</th>\n",
       "      <th>undergrad_year_grad</th>\n",
       "      <th>application_year</th>\n",
       "      <th>clean_suffix</th>\n",
       "      <th>clean_college_trans</th>\n",
       "      <th>medical_school</th>\n",
       "      <th>is_female</th>\n",
       "      <th>clean_first_name</th>\n",
       "      <th>clean_middle_name</th>\n",
       "      <th>clean_last_name</th>\n",
       "    </tr>\n",
       "  </thead>\n",
       "  <tbody>\n",
       "    <tr>\n",
       "      <th>15</th>\n",
       "      <td>4597</td>\n",
       "      <td>4597</td>\n",
       "      <td>506 W. Edgar</td>\n",
       "      <td>NaN</td>\n",
       "      <td>1964-10-28</td>\n",
       "      <td>CA</td>\n",
       "      <td>0.0</td>\n",
       "      <td>1.0</td>\n",
       "      <td>1.0</td>\n",
       "      <td>1.0</td>\n",
       "      <td>...</td>\n",
       "      <td>2</td>\n",
       "      <td>NaN</td>\n",
       "      <td>1964.0</td>\n",
       "      <td>NaN</td>\n",
       "      <td>NaN</td>\n",
       "      <td>WASHINGTON UNIVERSITY SCHOOL OF MEDICINE</td>\n",
       "      <td>0</td>\n",
       "      <td>DONALD</td>\n",
       "      <td>MARTIN</td>\n",
       "      <td>EILER</td>\n",
       "    </tr>\n",
       "    <tr>\n",
       "      <th>282</th>\n",
       "      <td>922</td>\n",
       "      <td>922</td>\n",
       "      <td>506 West Edgar</td>\n",
       "      <td>NaN</td>\n",
       "      <td>1964-10-28</td>\n",
       "      <td>NaN</td>\n",
       "      <td>0.0</td>\n",
       "      <td>1.0</td>\n",
       "      <td>1.0</td>\n",
       "      <td>1.0</td>\n",
       "      <td>...</td>\n",
       "      <td>1</td>\n",
       "      <td>NaN</td>\n",
       "      <td>1964.0</td>\n",
       "      <td>NaN</td>\n",
       "      <td>NaN</td>\n",
       "      <td>WASHINGTON UNIVERSITY SCHOOL OF MEDICINE</td>\n",
       "      <td>0</td>\n",
       "      <td>DONALD</td>\n",
       "      <td>MARTIN</td>\n",
       "      <td>EILER</td>\n",
       "    </tr>\n",
       "  </tbody>\n",
       "</table>\n",
       "<p>2 rows × 73 columns</p>\n",
       "</div>"
      ],
      "text/plain": [
       "     Unnamed: 0  raw_uuid         address  age application_date  \\\n",
       "15         4597      4597    506 W. Edgar  NaN       1964-10-28   \n",
       "282         922       922  506 West Edgar  NaN       1964-10-28   \n",
       "\n",
       "    associate_program_entered  bob   ca   cc  cord       ...        reviewer  \\\n",
       "15                         CA  0.0  1.0  1.0   1.0       ...               2   \n",
       "282                       NaN  0.0  1.0  1.0   1.0       ...               1   \n",
       "\n",
       "    undergrad_year_grad  application_year  clean_suffix clean_college_trans  \\\n",
       "15                  NaN            1964.0           NaN                 NaN   \n",
       "282                 NaN            1964.0           NaN                 NaN   \n",
       "\n",
       "                               medical_school  is_female clean_first_name  \\\n",
       "15   WASHINGTON UNIVERSITY SCHOOL OF MEDICINE          0           DONALD   \n",
       "282  WASHINGTON UNIVERSITY SCHOOL OF MEDICINE          0           DONALD   \n",
       "\n",
       "    clean_middle_name  clean_last_name  \n",
       "15             MARTIN            EILER  \n",
       "282            MARTIN            EILER  \n",
       "\n",
       "[2 rows x 73 columns]"
      ]
     },
     "execution_count": 22,
     "metadata": {},
     "output_type": "execute_result"
    }
   ],
   "source": [
    "missing_names2.loc[missing_names2.clean_last_name=='EILER']"
   ]
  },
  {
   "cell_type": "code",
   "execution_count": 23,
   "metadata": {
    "collapsed": false
   },
   "outputs": [
    {
     "data": {
      "text/html": [
       "<div>\n",
       "<table border=\"1\" class=\"dataframe\">\n",
       "  <thead>\n",
       "    <tr style=\"text-align: right;\">\n",
       "      <th></th>\n",
       "      <th>clean_first_name</th>\n",
       "      <th>clean_middle_name</th>\n",
       "      <th>clean_last_name</th>\n",
       "      <th>medical_school</th>\n",
       "    </tr>\n",
       "  </thead>\n",
       "  <tbody>\n",
       "    <tr>\n",
       "      <th>1500</th>\n",
       "      <td>NaN</td>\n",
       "      <td>NaN</td>\n",
       "      <td>HAYWARD</td>\n",
       "      <td>UNIVERSITY OF ROCHESTER SCHOOL OF MEDICINE</td>\n",
       "    </tr>\n",
       "  </tbody>\n",
       "</table>\n",
       "</div>"
      ],
      "text/plain": [
       "     clean_first_name clean_middle_name clean_last_name  \\\n",
       "1500              NaN               NaN         HAYWARD   \n",
       "\n",
       "                                  medical_school  \n",
       "1500  UNIVERSITY OF ROCHESTER SCHOOL OF MEDICINE  "
      ]
     },
     "execution_count": 23,
     "metadata": {},
     "output_type": "execute_result"
    }
   ],
   "source": [
    "# all_app5.loc[(\n",
    "#         all_app5.clean_last_name.isin(mf.clean_last_name)) & (\n",
    "#         all_app5.clean_middle_name.isin(mf.clean_middle_name)), NAME_COLS+['medical_school']].to_csv('test.csv')\n",
    "all_app5.loc[(\n",
    "        all_app5.clean_last_name == 'HAYWARD'), NAME_COLS+['medical_school']]"
   ]
  },
  {
   "cell_type": "code",
   "execution_count": 24,
   "metadata": {
    "collapsed": false,
    "scrolled": true
   },
   "outputs": [],
   "source": [
    "mf = manual_fixes.loc[~manual_fixes.to_fix_clean_last_name.isin(missing_names2.clean_last_name), NAME_COLS+['medical_school']]"
   ]
  },
  {
   "cell_type": "code",
   "execution_count": 25,
   "metadata": {
    "collapsed": false
   },
   "outputs": [
    {
     "name": "stdout",
     "output_type": "stream",
     "text": [
      "(0, 4)\n"
     ]
    }
   ],
   "source": [
    "print mf.shape"
   ]
  },
  {
   "cell_type": "code",
   "execution_count": 26,
   "metadata": {
    "collapsed": false,
    "scrolled": true
   },
   "outputs": [
    {
     "data": {
      "text/html": [
       "<div>\n",
       "<table border=\"1\" class=\"dataframe\">\n",
       "  <thead>\n",
       "    <tr style=\"text-align: right;\">\n",
       "      <th></th>\n",
       "      <th>clean_first_name</th>\n",
       "      <th>clean_middle_name</th>\n",
       "      <th>clean_last_name</th>\n",
       "      <th>medical_school</th>\n",
       "      <th>residency_hospital</th>\n",
       "      <th>internship_hospital_1</th>\n",
       "    </tr>\n",
       "  </thead>\n",
       "  <tbody>\n",
       "  </tbody>\n",
       "</table>\n",
       "</div>"
      ],
      "text/plain": [
       "Empty DataFrame\n",
       "Columns: [clean_first_name, clean_middle_name, clean_last_name, medical_school, residency_hospital, internship_hospital_1]\n",
       "Index: []"
      ]
     },
     "execution_count": 26,
     "metadata": {},
     "output_type": "execute_result"
    }
   ],
   "source": [
    "last_name = 'ELLER'\n",
    "\n",
    "# f_name = 'ADAM'\n",
    "# m_name = 'NORMAN'\n",
    "# all_app5.loc[(\n",
    "#         all_app5.clean_first_name==f_name) & (all_app5.clean_middle_name==m_name), NAME_COLS+['medical_school', 'residency_hospital', 'internship_hospital_1']]\n",
    "all_app5.loc[all_app5.clean_last_name==last_name, NAME_COLS+['medical_school', 'residency_hospital', 'internship_hospital_1']]\n",
    "all_app6.loc[all_app6.clean_last_name==last_name, NAME_COLS+['medical_school', 'residency_hospital', 'internship_hospital_1']]\n",
    "# missing_names.loc[missing_names.clean_last_name==last_name, NAME_COLS+['medical_school']]\n",
    "# manual_fixes.loc[manual_fixes.clean_first_name=='LAWRENCE',  NAME_COLS+['medical_school']]\n",
    "# manual_fixes.loc[manual_fixes.clean_last_name==last_name,  NAME_COLS+['medical_school']]\n",
    "# all_app6.loc[all_app6.clean_last_name==last_name,  NAME_COLS+['medical_school', 'medschool_year_grad']]"
   ]
  },
  {
   "cell_type": "code",
   "execution_count": 27,
   "metadata": {
    "collapsed": false,
    "scrolled": true
   },
   "outputs": [],
   "source": [
    "all_app6['clean_first_initial'] = all_app6.clean_first_name.apply(get_first_letter)\n",
    "all_app6['clean_middle_initial'] = all_app6.clean_middle_name.apply(get_first_letter)\n",
    "all_app6['application_year'] = all_app6.application_date.apply(lambda x: pd.to_datetime(x).year)\n"
   ]
  },
  {
   "cell_type": "code",
   "execution_count": 28,
   "metadata": {
    "collapsed": true,
    "scrolled": true
   },
   "outputs": [],
   "source": [
    "all_app6.loc[(all_app6['application_year'] > 1990) | (all_app6['application_year'] < 1950), 'application_year'] = np.nan"
   ]
  },
  {
   "cell_type": "code",
   "execution_count": 29,
   "metadata": {
    "collapsed": false,
    "scrolled": true
   },
   "outputs": [],
   "source": [
    "# drop people with female names and two columns\n",
    "is_female_mask = (all_app6.clean_first_name.isin(FEMALE_FIRST_NAMES))\n",
    "all_app6['is_female'] = 0\n",
    "all_app6.loc[is_female_mask, 'is_female'] = 1\n",
    "# RENAME INTERNSHIP HOSPITAL COL\n",
    "all_app7 = all_app6.drop(['Unnamed: 0',\"daniel's_comments\"], axis=1).rename(\n",
    "    columns={'internship_hospital_1': 'internship_hospital'})"
   ]
  },
  {
   "cell_type": "code",
   "execution_count": 30,
   "metadata": {
    "collapsed": false,
    "scrolled": true
   },
   "outputs": [
    {
     "data": {
      "text/html": [
       "<div>\n",
       "<table border=\"1\" class=\"dataframe\">\n",
       "  <thead>\n",
       "    <tr style=\"text-align: right;\">\n",
       "      <th></th>\n",
       "      <th>clean_first_name</th>\n",
       "      <th>clean_middle_name</th>\n",
       "      <th>clean_last_name</th>\n",
       "    </tr>\n",
       "  </thead>\n",
       "  <tbody>\n",
       "    <tr>\n",
       "      <th>15</th>\n",
       "      <td>DONALD</td>\n",
       "      <td>MARTIN</td>\n",
       "      <td>EILER</td>\n",
       "    </tr>\n",
       "    <tr>\n",
       "      <th>282</th>\n",
       "      <td>DONALD</td>\n",
       "      <td>MARTIN</td>\n",
       "      <td>EILER</td>\n",
       "    </tr>\n",
       "  </tbody>\n",
       "</table>\n",
       "</div>"
      ],
      "text/plain": [
       "    clean_first_name clean_middle_name clean_last_name\n",
       "15            DONALD            MARTIN           EILER\n",
       "282           DONALD            MARTIN           EILER"
      ]
     },
     "execution_count": 30,
     "metadata": {},
     "output_type": "execute_result"
    }
   ],
   "source": [
    "# check for any remaining females, check to make sure fuzzy matches worked properly\n",
    "all_app7.loc[all_app7.clean_last_name=='EILER', NAME_COLS]"
   ]
  },
  {
   "cell_type": "code",
   "execution_count": 31,
   "metadata": {
    "collapsed": false,
    "scrolled": true
   },
   "outputs": [
    {
     "data": {
      "text/html": [
       "<div>\n",
       "<table border=\"1\" class=\"dataframe\">\n",
       "  <thead>\n",
       "    <tr style=\"text-align: right;\">\n",
       "      <th></th>\n",
       "      <th>clean_first_name</th>\n",
       "      <th>clean_middle_name</th>\n",
       "      <th>clean_last_name</th>\n",
       "      <th>reviewer</th>\n",
       "    </tr>\n",
       "  </thead>\n",
       "  <tbody>\n",
       "    <tr>\n",
       "      <th>5953</th>\n",
       "      <td>ALAN</td>\n",
       "      <td>MARC</td>\n",
       "      <td>LEVINE</td>\n",
       "      <td>2</td>\n",
       "    </tr>\n",
       "    <tr>\n",
       "      <th>5815</th>\n",
       "      <td>ARTHUR</td>\n",
       "      <td>SAMUEL</td>\n",
       "      <td>LEVINE</td>\n",
       "      <td>2</td>\n",
       "    </tr>\n",
       "    <tr>\n",
       "      <th>5838</th>\n",
       "      <td>DAVID</td>\n",
       "      <td>NORMAN</td>\n",
       "      <td>LEVINE</td>\n",
       "      <td>2</td>\n",
       "    </tr>\n",
       "    <tr>\n",
       "      <th>5851</th>\n",
       "      <td>FREDERICK</td>\n",
       "      <td>HUGH</td>\n",
       "      <td>LEVINE</td>\n",
       "      <td>2</td>\n",
       "    </tr>\n",
       "    <tr>\n",
       "      <th>5861</th>\n",
       "      <td>JOEL</td>\n",
       "      <td>B</td>\n",
       "      <td>LEVINE</td>\n",
       "      <td>2</td>\n",
       "    </tr>\n",
       "    <tr>\n",
       "      <th>5871</th>\n",
       "      <td>MARSHALL</td>\n",
       "      <td>ANDREW</td>\n",
       "      <td>LEVINE</td>\n",
       "      <td>2</td>\n",
       "    </tr>\n",
       "    <tr>\n",
       "      <th>5872</th>\n",
       "      <td>ROBERT</td>\n",
       "      <td>AARON</td>\n",
       "      <td>LEVINE</td>\n",
       "      <td>2</td>\n",
       "    </tr>\n",
       "    <tr>\n",
       "      <th>5753</th>\n",
       "      <td>ROBERT</td>\n",
       "      <td>J</td>\n",
       "      <td>LEVINE</td>\n",
       "      <td>2</td>\n",
       "    </tr>\n",
       "    <tr>\n",
       "      <th>5933</th>\n",
       "      <td>RODNEY</td>\n",
       "      <td>LEE</td>\n",
       "      <td>LEVINE</td>\n",
       "      <td>2</td>\n",
       "    </tr>\n",
       "    <tr>\n",
       "      <th>2240</th>\n",
       "      <td>NaN</td>\n",
       "      <td>ANDREW</td>\n",
       "      <td>LEVINE</td>\n",
       "      <td>1</td>\n",
       "    </tr>\n",
       "    <tr>\n",
       "      <th>2227</th>\n",
       "      <td>NaN</td>\n",
       "      <td>B</td>\n",
       "      <td>LEVINE</td>\n",
       "      <td>1</td>\n",
       "    </tr>\n",
       "    <tr>\n",
       "      <th>2214</th>\n",
       "      <td>NaN</td>\n",
       "      <td>HUGH</td>\n",
       "      <td>LEVINE</td>\n",
       "      <td>1</td>\n",
       "    </tr>\n",
       "    <tr>\n",
       "      <th>2114</th>\n",
       "      <td>NaN</td>\n",
       "      <td>J</td>\n",
       "      <td>LEVINE</td>\n",
       "      <td>1</td>\n",
       "    </tr>\n",
       "    <tr>\n",
       "      <th>2302</th>\n",
       "      <td>NaN</td>\n",
       "      <td>LEE</td>\n",
       "      <td>LEVINE</td>\n",
       "      <td>1</td>\n",
       "    </tr>\n",
       "    <tr>\n",
       "      <th>2202</th>\n",
       "      <td>NaN</td>\n",
       "      <td>NORMAN</td>\n",
       "      <td>LEVINE</td>\n",
       "      <td>1</td>\n",
       "    </tr>\n",
       "    <tr>\n",
       "      <th>2181</th>\n",
       "      <td>NaN</td>\n",
       "      <td>SAMUEL</td>\n",
       "      <td>LEVINE</td>\n",
       "      <td>1</td>\n",
       "    </tr>\n",
       "    <tr>\n",
       "      <th>468</th>\n",
       "      <td>ALAN</td>\n",
       "      <td>MARC</td>\n",
       "      <td>LEVINE</td>\n",
       "      <td>1</td>\n",
       "    </tr>\n",
       "    <tr>\n",
       "      <th>467</th>\n",
       "      <td>ROBERT</td>\n",
       "      <td>AARON</td>\n",
       "      <td>LEVINE</td>\n",
       "      <td>1</td>\n",
       "    </tr>\n",
       "  </tbody>\n",
       "</table>\n",
       "</div>"
      ],
      "text/plain": [
       "     clean_first_name clean_middle_name clean_last_name  reviewer\n",
       "5953             ALAN              MARC          LEVINE         2\n",
       "5815           ARTHUR            SAMUEL          LEVINE         2\n",
       "5838            DAVID            NORMAN          LEVINE         2\n",
       "5851        FREDERICK              HUGH          LEVINE         2\n",
       "5861             JOEL                 B          LEVINE         2\n",
       "5871         MARSHALL            ANDREW          LEVINE         2\n",
       "5872           ROBERT             AARON          LEVINE         2\n",
       "5753           ROBERT                 J          LEVINE         2\n",
       "5933           RODNEY               LEE          LEVINE         2\n",
       "2240              NaN            ANDREW          LEVINE         1\n",
       "2227              NaN                 B          LEVINE         1\n",
       "2214              NaN              HUGH          LEVINE         1\n",
       "2114              NaN                 J          LEVINE         1\n",
       "2302              NaN               LEE          LEVINE         1\n",
       "2202              NaN            NORMAN          LEVINE         1\n",
       "2181              NaN            SAMUEL          LEVINE         1\n",
       "468              ALAN              MARC          LEVINE         1\n",
       "467            ROBERT             AARON          LEVINE         1"
      ]
     },
     "execution_count": 31,
     "metadata": {},
     "output_type": "execute_result"
    }
   ],
   "source": [
    "all_app7.loc[all_app7.clean_last_name=='LEVINE', NAME_COLS+['reviewer']]"
   ]
  },
  {
   "cell_type": "code",
   "execution_count": 32,
   "metadata": {
    "collapsed": false,
    "scrolled": true
   },
   "outputs": [],
   "source": [
    "# split into reviewer 1 and 2, and try to match\n",
    "all_app7['fuzzy_merge_col'] = all_app7[\n",
    "    ['clean_first_name', 'clean_middle_name', 'clean_last_name']].apply(create_str_merge, axis=1)\n",
    "rev2 = df_get_closest_matches(all_app7[all_app7.reviewer==2], all_app7[all_app7.reviewer==1], 'fuzzy_merge_col') \n",
    "\n",
    "\n",
    "feature_dict = {\n",
    "    'clean_first_name': get_name_str_sim,\n",
    "    'clean_middle_name': get_name_str_sim,\n",
    "    'clean_last_name': get_name_str_sim,\n",
    "    'medical_school': get_name_str_sim,\n",
    "    'application_year': get_dt_sim,\n",
    "    'address': get_name_str_sim\n",
    "}\n",
    "\n",
    "rev3 = add_similarity_features(rev2, feature_dict, check_match)\n",
    "\n",
    "rev1_counter = Counter(all_app7[all_app7.reviewer==1].clean_last_name.values)\n",
    "rev2_counter = Counter(all_app7[all_app7.reviewer==2].clean_last_name.values)\n",
    "rev3['last_name_counts_1'] = rev3.clean_last_name_1.apply(lambda x: rev1_counter[x])\n",
    "rev3['last_name_counts_2'] = rev3.clean_last_name_2.apply(lambda x: rev2_counter[x])\n",
    "\n",
    "# now, sort by is_match, similarity scores and only keep 1 uuid from each data set\n",
    "last_name_unique_mask = (\n",
    "    (rev3.last_name_counts_1==1) & (rev3.last_name_counts_2==1) & (\n",
    "        rev3.application_year_sim<4) & (rev3.medical_school_sim > .8))\n",
    "rev3.loc[last_name_unique_mask, 'is_match'] = 1"
   ]
  },
  {
   "cell_type": "code",
   "execution_count": 33,
   "metadata": {
    "collapsed": false,
    "scrolled": true
   },
   "outputs": [
    {
     "data": {
      "text/plain": [
       "count    3759.000000\n",
       "mean        0.795956\n",
       "std         0.403055\n",
       "min         0.000000\n",
       "25%         1.000000\n",
       "50%         1.000000\n",
       "75%         1.000000\n",
       "max         1.000000\n",
       "Name: is_match, dtype: float64"
      ]
     },
     "execution_count": 33,
     "metadata": {},
     "output_type": "execute_result"
    }
   ],
   "source": [
    "rev3.is_match.describe()"
   ]
  },
  {
   "cell_type": "code",
   "execution_count": 34,
   "metadata": {
    "collapsed": false,
    "scrolled": true
   },
   "outputs": [
    {
     "name": "stdout",
     "output_type": "stream",
     "text": [
      "(3759, 155)\n",
      "(3636, 155)\n",
      "                      raw_uuid_1  raw_uuid_3\n",
      "JAMES L SCHERER           7084.0        3493\n",
      "JOHN STONER               7078.0        3487\n",
      "JOHN PATRICK O GRADY      6406.0        2790\n",
      "STEPHEN KARAS             5617.0        1971\n",
      "OLIVER WILLIAM JONES      5449.0        1797\n",
      "PAUL HINKES               5308.0        1656\n",
      "MARC A FRADER             4801.0        1134\n",
      "(2965, 157)\n",
      "Empty DataFrame\n",
      "Columns: [raw_uuid_2, raw_uuid_4]\n",
      "Index: []\n",
      "(2961, 159)\n"
     ]
    }
   ],
   "source": [
    "sims_cols = ['medical_school_sim', 'address_sim', 'clean_middle_name_sim', 'clean_first_name_sim']\n",
    "\n",
    "rev4 = rev3.loc[~pd.isnull(rev3.index), :].sort_values([\n",
    "        'raw_uuid_2', 'raw_uuid_1', 'is_match']+sims_cols, ascending=False)\n",
    "print rev3.shape\n",
    "print rev4.shape\n",
    "rev5 = filter_one_match_per_group(rev4, 'raw_uuid_1', {'raw_uuid_2': 'raw_uuid_3'}, sims_cols)\n",
    "print rev5.shape\n",
    "rev6 = filter_one_match_per_group(rev5, 'raw_uuid_2', {'raw_uuid_1': 'raw_uuid_4'}, sims_cols)\n",
    "print rev6.shape"
   ]
  },
  {
   "cell_type": "code",
   "execution_count": 35,
   "metadata": {
    "collapsed": false,
    "scrolled": true
   },
   "outputs": [
    {
     "data": {
      "text/plain": [
       "1119        ALAN\n",
       "1138      RODNEY\n",
       "1192      ROBERT\n",
       "1193    MARSHALL\n",
       "1204        JOEL\n",
       "1220       DAVID\n",
       "1238      ARTHUR\n",
       "Name: clean_first_name_1, dtype: object"
      ]
     },
     "execution_count": 35,
     "metadata": {},
     "output_type": "execute_result"
    }
   ],
   "source": [
    "# del rev6['raw_uuid_4']\n",
    "rev6.loc[rev6.clean_last_name_1=='LEVINE', 'clean_first_name_1']"
   ]
  },
  {
   "cell_type": "code",
   "execution_count": 36,
   "metadata": {
    "collapsed": false,
    "scrolled": true
   },
   "outputs": [
    {
     "name": "stdout",
     "output_type": "stream",
     "text": [
      "(5929,)\n"
     ]
    }
   ],
   "source": [
    "matched_ids = np.concatenate([\n",
    "        rev6.raw_uuid_1.dropna().unique(), rev6.raw_uuid_2.dropna().unique(), rev6.raw_uuid_3.dropna().unique()], \n",
    "                        axis=0)\n",
    "print matched_ids.shape"
   ]
  },
  {
   "cell_type": "code",
   "execution_count": 37,
   "metadata": {
    "collapsed": false,
    "scrolled": true
   },
   "outputs": [
    {
     "name": "stdout",
     "output_type": "stream",
     "text": [
      "(743, 74)\n",
      "(622, 74)\n"
     ]
    }
   ],
   "source": [
    "# try to merge on middle initial and clean last name\n",
    "\n",
    "unmatched_r1 = get_nonmatched(all_app7[all_app7.reviewer==1], matched_ids, 'raw_uuid')\n",
    "unmatched_r2 = get_nonmatched(all_app7[all_app7.reviewer==2], matched_ids, 'raw_uuid')\n",
    "\n",
    "unmatched_r1['fuzzy_merge_col'] = unmatched_r1[\n",
    "    ['clean_middle_initial', 'clean_last_name']].apply(create_str_merge, axis=1)\n",
    "unmatched_r2['fuzzy_merge_col'] = unmatched_r2[\n",
    "    ['clean_middle_initial', 'clean_last_name']].apply(create_str_merge, axis=1)"
   ]
  },
  {
   "cell_type": "code",
   "execution_count": 38,
   "metadata": {
    "collapsed": false,
    "scrolled": true
   },
   "outputs": [],
   "source": [
    "rev2_counter = Counter(unmatched_r2.clean_last_name.values)\n",
    "rev1_counter = Counter(unmatched_r1.clean_last_name.values)\n",
    "\n",
    "match_round2 = df_get_closest_matches(unmatched_r2, unmatched_r1, 'fuzzy_merge_col')"
   ]
  },
  {
   "cell_type": "code",
   "execution_count": 39,
   "metadata": {
    "collapsed": false,
    "scrolled": true
   },
   "outputs": [],
   "source": [
    "middle_last3 = add_similarity_features(match_round2, feature_dict, check_match)\n",
    "\n",
    "middle_last3['last_name_counts_1'] = middle_last3.clean_last_name_1.apply(lambda x: rev1_counter[x])\n",
    "middle_last3['last_name_counts_2'] = middle_last3.clean_last_name_2.apply(lambda x: rev2_counter[x])"
   ]
  },
  {
   "cell_type": "code",
   "execution_count": 40,
   "metadata": {
    "collapsed": true,
    "scrolled": true
   },
   "outputs": [],
   "source": [
    "# now, sort by is_match, similarity scores and only keep 1 uuid from each data set\n",
    "last_name_unique_mask = (\n",
    "    (middle_last3.last_name_counts_1==1) & (middle_last3.last_name_counts_2==1) & (\n",
    "        middle_last3.application_year_sim<2) & (middle_last3.medical_school_sim > .8))\n",
    "middle_last3.loc[last_name_unique_mask, 'is_match'] = 1"
   ]
  },
  {
   "cell_type": "code",
   "execution_count": 41,
   "metadata": {
    "collapsed": false,
    "scrolled": true
   },
   "outputs": [
    {
     "name": "stdout",
     "output_type": "stream",
     "text": [
      "(847, 155)\n",
      "(824, 155)\n",
      "Empty DataFrame\n",
      "Columns: [raw_uuid_1, raw_uuid_3]\n",
      "Index: []\n",
      "(536, 157)\n",
      "Empty DataFrame\n",
      "Columns: [raw_uuid_2, raw_uuid_4]\n",
      "Index: []\n",
      "(536, 159)\n"
     ]
    }
   ],
   "source": [
    "middle_last4 = middle_last3.loc[~pd.isnull(middle_last3.index), :].sort_values([\n",
    "        'raw_uuid_2', 'raw_uuid_1', 'is_match']+sims_cols, ascending=False)\n",
    "print middle_last3.shape\n",
    "print middle_last4.shape\n",
    "middle_last5 = filter_one_match_per_group(middle_last4, 'raw_uuid_1', {'raw_uuid_2': 'raw_uuid_3'}, sims_cols)\n",
    "print middle_last5.shape\n",
    "middle_last6 = filter_one_match_per_group(middle_last5, 'raw_uuid_2', {'raw_uuid_1': 'raw_uuid_4'}, sims_cols)\n",
    "print middle_last6.shape"
   ]
  },
  {
   "cell_type": "code",
   "execution_count": 42,
   "metadata": {
    "collapsed": false,
    "scrolled": true
   },
   "outputs": [
    {
     "data": {
      "text/html": [
       "<div>\n",
       "<table border=\"1\" class=\"dataframe\">\n",
       "  <thead>\n",
       "    <tr style=\"text-align: right;\">\n",
       "      <th></th>\n",
       "      <th>raw_uuid_1</th>\n",
       "      <th>raw_uuid_2</th>\n",
       "      <th>raw_uuid_3</th>\n",
       "    </tr>\n",
       "  </thead>\n",
       "  <tbody>\n",
       "  </tbody>\n",
       "</table>\n",
       "</div>"
      ],
      "text/plain": [
       "Empty DataFrame\n",
       "Columns: [raw_uuid_1, raw_uuid_2, raw_uuid_3]\n",
       "Index: []"
      ]
     },
     "execution_count": 42,
     "metadata": {},
     "output_type": "execute_result"
    }
   ],
   "source": [
    "middle_last6.loc[~pd.isnull(middle_last6.raw_uuid_4),['raw_uuid_1', 'raw_uuid_2', 'raw_uuid_3']]"
   ]
  },
  {
   "cell_type": "code",
   "execution_count": 43,
   "metadata": {
    "collapsed": false,
    "scrolled": false
   },
   "outputs": [
    {
     "data": {
      "text/html": [
       "<div>\n",
       "<table border=\"1\" class=\"dataframe\">\n",
       "  <thead>\n",
       "    <tr style=\"text-align: right;\">\n",
       "      <th></th>\n",
       "      <th>medical_school_sim</th>\n",
       "      <th>address_sim</th>\n",
       "      <th>clean_middle_name_sim</th>\n",
       "      <th>clean_first_name_sim</th>\n",
       "      <th>clean_first_name_1</th>\n",
       "      <th>clean_middle_name_1</th>\n",
       "      <th>clean_middle_name_2</th>\n",
       "      <th>clean_first_name_2</th>\n",
       "    </tr>\n",
       "  </thead>\n",
       "  <tbody>\n",
       "    <tr>\n",
       "      <th>205</th>\n",
       "      <td>100.0</td>\n",
       "      <td>92.0</td>\n",
       "      <td>100.0</td>\n",
       "      <td>NaN</td>\n",
       "      <td>FREDERICK</td>\n",
       "      <td>HUGH</td>\n",
       "      <td>HUGH</td>\n",
       "      <td>NaN</td>\n",
       "    </tr>\n",
       "    <tr>\n",
       "      <th>225</th>\n",
       "      <td>100.0</td>\n",
       "      <td>86.0</td>\n",
       "      <td>100.0</td>\n",
       "      <td>NaN</td>\n",
       "      <td>ROBERT</td>\n",
       "      <td>J</td>\n",
       "      <td>J</td>\n",
       "      <td>NaN</td>\n",
       "    </tr>\n",
       "  </tbody>\n",
       "</table>\n",
       "</div>"
      ],
      "text/plain": [
       "     medical_school_sim  address_sim  clean_middle_name_sim  \\\n",
       "205               100.0         92.0                  100.0   \n",
       "225               100.0         86.0                  100.0   \n",
       "\n",
       "     clean_first_name_sim clean_first_name_1 clean_middle_name_1  \\\n",
       "205                   NaN          FREDERICK                HUGH   \n",
       "225                   NaN             ROBERT                   J   \n",
       "\n",
       "    clean_middle_name_2 clean_first_name_2  \n",
       "205                HUGH                NaN  \n",
       "225                   J                NaN  "
      ]
     },
     "execution_count": 43,
     "metadata": {},
     "output_type": "execute_result"
    }
   ],
   "source": [
    "middle_last6.loc[middle_last6.clean_last_name_1=='LEVINE', sims_cols +[\n",
    " 'clean_first_name_1', 'clean_middle_name_1','clean_middle_name_2', 'clean_first_name_2']]\n",
    "# matches.loc[matches.clean_last_name=='LEVINE', 'clean_first_name']"
   ]
  },
  {
   "cell_type": "code",
   "execution_count": 44,
   "metadata": {
    "collapsed": false,
    "scrolled": true
   },
   "outputs": [
    {
     "name": "stdout",
     "output_type": "stream",
     "text": [
      "(7001,)\n"
     ]
    }
   ],
   "source": [
    "matched_ids = np.concatenate([\n",
    "        rev6.raw_uuid_1.dropna().unique(), rev6.raw_uuid_2.dropna().unique(), rev6.raw_uuid_3.dropna().unique(), \n",
    "        middle_last6.raw_uuid_1.dropna().unique(), middle_last6.raw_uuid_2.dropna().unique(), middle_last6.raw_uuid_3.dropna().unique()], \n",
    "                        axis=0)\n",
    "print matched_ids.shape"
   ]
  },
  {
   "cell_type": "code",
   "execution_count": 45,
   "metadata": {
    "collapsed": false,
    "scrolled": true
   },
   "outputs": [
    {
     "name": "stdout",
     "output_type": "stream",
     "text": [
      "(777, 73)\n"
     ]
    }
   ],
   "source": [
    "# people who don't match on first or last\n",
    "all_app7a = all_app7.drop('fuzzy_merge_col', axis=1)\n",
    "unmatched = get_nonmatched(all_app7a, matched_ids, 'raw_uuid')"
   ]
  },
  {
   "cell_type": "code",
   "execution_count": 46,
   "metadata": {
    "collapsed": false,
    "scrolled": true
   },
   "outputs": [
    {
     "name": "stdout",
     "output_type": "stream",
     "text": [
      "['address', 'age', 'application_date', 'associate_program_entered', 'bob', 'ca', 'cc', 'citizenship', 'city', 'clean_college_trans', 'clean_first_name', 'clean_last_name', 'clean_middle_name', 'clean_suffix', 'clinical', 'cord', 'date_of_birth', 'dbs', 'fifth', 'first_name', 'honor_societies_first', 'honor_societies_fourth', 'honor_societies_second', 'honor_societies_third', 'ic', 'internship_hospital', 'internship_year(s)', 'is_female', 'last_name', 'medical_school', 'medschool_year_grad', 'middle_name', 'nci', 'nei', 'nhi', 'nhli', 'niaid', 'niamd', 'niamdd', 'nichd', 'nichhd', 'nidr', 'niehs', 'nigms', 'nimh', 'nindb', 'ninds', 'oir', 'original_medical_school', 'other', 'pharm_ra', 'pi', 'ra', 'rejected', 'rejection_date', 'research', 'residency_hospital', 'residency_type', 'residency_year(s)', 'reviewer', 'sa', 'sixth', 'state', 'teaching', 'undergrad_year_grad', 'undergraduate_school', 'withdrawal', 'year_accepted', 'zip_code', 'clean_first_initial', 'clean_middle_initial', 'last_name_counts']\n"
     ]
    }
   ],
   "source": [
    "matches = pd.concat([rev6, middle_last6], axis=0).drop(['raw_uuid_1_duplicate', 'raw_uuid_2_duplicate'], axis=1)\n",
    "matches1 = consolidate_merge_cols(matches, ['_1', '_2'], ['application_year', 'raw_uuid'])"
   ]
  },
  {
   "cell_type": "code",
   "execution_count": 47,
   "metadata": {
    "collapsed": false,
    "scrolled": true
   },
   "outputs": [],
   "source": [
    "# append people by reviewer 3 and people not matched but reviewed by reviewer 1 or 2\n",
    "full_matches = pd.concat([matches1, unmatched],\n",
    "                      axis=0, ignore_index=True).sort_values(\n",
    "                            ['clean_last_name', 'clean_middle_name', 'clean_first_name']).reset_index(drop=True)"
   ]
  },
  {
   "cell_type": "code",
   "execution_count": 48,
   "metadata": {
    "collapsed": true,
    "scrolled": true
   },
   "outputs": [],
   "source": [
    "full_matches1 = full_matches.drop([c for c in full_matches.columns if c.endswith('_sim') or '_counts' in c or c.endswith('_duplicate')], axis=1)"
   ]
  },
  {
   "cell_type": "code",
   "execution_count": 49,
   "metadata": {
    "collapsed": false,
    "scrolled": true
   },
   "outputs": [
    {
     "data": {
      "text/html": [
       "<div>\n",
       "<table border=\"1\" class=\"dataframe\">\n",
       "  <thead>\n",
       "    <tr style=\"text-align: right;\">\n",
       "      <th></th>\n",
       "      <th>address</th>\n",
       "      <th>address_sim</th>\n",
       "      <th>age</th>\n",
       "      <th>application_date</th>\n",
       "      <th>application_year</th>\n",
       "      <th>application_year_1</th>\n",
       "      <th>application_year_2</th>\n",
       "      <th>application_year_sim</th>\n",
       "      <th>associate_program_entered</th>\n",
       "      <th>bob</th>\n",
       "      <th>...</th>\n",
       "      <th>reviewer</th>\n",
       "      <th>sa</th>\n",
       "      <th>sixth</th>\n",
       "      <th>state</th>\n",
       "      <th>teaching</th>\n",
       "      <th>undergrad_year_grad</th>\n",
       "      <th>undergraduate_school</th>\n",
       "      <th>withdrawal</th>\n",
       "      <th>year_accepted</th>\n",
       "      <th>zip_code</th>\n",
       "    </tr>\n",
       "  </thead>\n",
       "  <tbody>\n",
       "  </tbody>\n",
       "</table>\n",
       "<p>0 rows × 87 columns</p>\n",
       "</div>"
      ],
      "text/plain": [
       "Empty DataFrame\n",
       "Columns: [address, address_sim, age, application_date, application_year, application_year_1, application_year_2, application_year_sim, associate_program_entered, bob, ca, cc, citizenship, city, clean_college_trans, clean_first_initial, clean_first_name, clean_first_name_sim, clean_last_name, clean_last_name_sim, clean_middle_initial, clean_middle_name, clean_middle_name_sim, clean_suffix, clinical, cord, date_of_birth, dbs, fifth, first_name, honor_societies_first, honor_societies_fourth, honor_societies_second, honor_societies_third, ic, internship_hospital, internship_year(s), is_female, is_match, last_name, last_name_counts, medical_school, medical_school_sim, medschool_year_grad, middle_name, nci, nei, nhi, nhli, niaid, niamd, niamdd, nichd, nichhd, nidr, niehs, nigms, nimh, nindb, ninds, oir, original_medical_school, other, pharm_ra, pi, ra, raw_uuid, raw_uuid_1, raw_uuid_2, raw_uuid_3, raw_uuid_4, rejected, rejection_date, research, residency_hospital, residency_type, residency_year(s), reviewer, sa, sixth, state, teaching, undergrad_year_grad, undergraduate_school, withdrawal, year_accepted, zip_code]\n",
       "Index: []\n",
       "\n",
       "[0 rows x 87 columns]"
      ]
     },
     "execution_count": 49,
     "metadata": {},
     "output_type": "execute_result"
    }
   ],
   "source": [
    "full_matches[~pd.isnull(full_matches.raw_uuid_4)]"
   ]
  },
  {
   "cell_type": "code",
   "execution_count": 50,
   "metadata": {
    "collapsed": false,
    "scrolled": true
   },
   "outputs": [
    {
     "data": {
      "text/html": [
       "<div>\n",
       "<table border=\"1\" class=\"dataframe\">\n",
       "  <thead>\n",
       "    <tr style=\"text-align: right;\">\n",
       "      <th></th>\n",
       "      <th>application_year</th>\n",
       "      <th>application_year_1</th>\n",
       "      <th>application_year_2</th>\n",
       "    </tr>\n",
       "  </thead>\n",
       "  <tbody>\n",
       "  </tbody>\n",
       "</table>\n",
       "</div>"
      ],
      "text/plain": [
       "Empty DataFrame\n",
       "Columns: [application_year, application_year_1, application_year_2]\n",
       "Index: []"
      ]
     },
     "execution_count": 50,
     "metadata": {},
     "output_type": "execute_result"
    }
   ],
   "source": [
    "# remove duplicate data from application year\n",
    "full_matches1.loc[pd.isnull(full_matches1.application_year), 'application_year'] = full_matches1.loc[\n",
    "    pd.isnull(full_matches1.application_year), 'application_year_2'] \n",
    "full_matches1.loc[pd.isnull(full_matches1.application_year), 'application_year'] = full_matches1.loc[\n",
    "    pd.isnull(full_matches1.application_year), 'application_year_1'] \n",
    "\n",
    "full_matches1.loc[pd.isnull(full_matches1.application_year_1), 'application_year_1'] = full_matches1.loc[\n",
    "    pd.isnull(full_matches1.application_year_1), 'application_year_2'] \n",
    "\n",
    "full_matches1.loc[full_matches1.application_year_1==full_matches1.application_year_2, ]\n",
    "full_matches1.loc[~pd.isnull(full_matches1.application_year_2), ]\n",
    "\n",
    "dup_app_year_mask= full_matches1.application_year==full_matches1.application_year_2\n",
    "full_matches1.loc[dup_app_year_mask, 'application_year_2'] = np.nan\n",
    "\n",
    "dup_app_year_mask= full_matches1.application_year_1==full_matches1.application_year_2\n",
    "full_matches1.loc[dup_app_year_mask, 'application_year_2'] = np.nan\n",
    "\n",
    "dup_app_year_mask= full_matches1.application_year==full_matches1.application_year_1\n",
    "full_matches1.loc[dup_app_year_mask, 'application_year_1'] = np.nan\n",
    "\n",
    "\n",
    "\n",
    "full_matches1.loc[~pd.isnull(full_matches1.application_year_2), ['application_year', 'application_year_1', 'application_year_2']]"
   ]
  },
  {
   "cell_type": "code",
   "execution_count": 51,
   "metadata": {
    "collapsed": false,
    "scrolled": true
   },
   "outputs": [
    {
     "data": {
      "text/html": [
       "<div>\n",
       "<table border=\"1\" class=\"dataframe\">\n",
       "  <thead>\n",
       "    <tr style=\"text-align: right;\">\n",
       "      <th></th>\n",
       "      <th>raw_uuid</th>\n",
       "      <th>raw_uuid_1</th>\n",
       "      <th>raw_uuid_2</th>\n",
       "      <th>raw_uuid_3</th>\n",
       "    </tr>\n",
       "  </thead>\n",
       "  <tbody>\n",
       "  </tbody>\n",
       "</table>\n",
       "</div>"
      ],
      "text/plain": [
       "Empty DataFrame\n",
       "Columns: [raw_uuid, raw_uuid_1, raw_uuid_2, raw_uuid_3]\n",
       "Index: []"
      ]
     },
     "execution_count": 51,
     "metadata": {},
     "output_type": "execute_result"
    }
   ],
   "source": [
    "# remove uuid dups\n",
    "\n",
    "full_matches1.loc[pd.isnull(full_matches1.raw_uuid), 'raw_uuid'] = full_matches1.loc[\n",
    "    pd.isnull(full_matches1.raw_uuid), 'raw_uuid_2'] \n",
    "full_matches1.loc[pd.isnull(full_matches1.raw_uuid), 'raw_uuid'] = full_matches1.loc[\n",
    "    pd.isnull(full_matches1.raw_uuid), 'raw_uuid_1'] \n",
    "\n",
    "full_matches1.loc[pd.isnull(full_matches1.raw_uuid_1), 'raw_uuid_1'] = full_matches1.loc[\n",
    "    pd.isnull(full_matches1.raw_uuid_1), 'raw_uuid_2'] \n",
    "\n",
    "dup_uuid_mask= full_matches1.raw_uuid==full_matches1.raw_uuid_2\n",
    "full_matches1.loc[dup_uuid_mask, 'raw_uuid_2'] = np.nan\n",
    "\n",
    "dup_uuid_mask= full_matches1.raw_uuid_1==full_matches1.raw_uuid_2\n",
    "full_matches1.loc[dup_uuid_mask, 'raw_uuid_2'] = np.nan\n",
    "\n",
    "dup_uuid_mask= full_matches1.raw_uuid==full_matches1.raw_uuid_1\n",
    "full_matches1.loc[dup_uuid_mask, 'raw_uuid_1'] = np.nan\n",
    "\n",
    "dup_uuid_mask= full_matches1.raw_uuid==full_matches1.raw_uuid_3\n",
    "full_matches1.loc[dup_uuid_mask, 'raw_uuid_3'] = np.nan\n",
    "# full_matches1.loc[full_matches1.raw_uuid_1==full_matches1.raw_uuid_2, ['raw_uuid_1', 'raw_uuid_2']]\n",
    "full_matches1.loc[~pd.isnull(full_matches1.raw_uuid_3), ['raw_uuid', 'raw_uuid_1', 'raw_uuid_2', 'raw_uuid_3']]"
   ]
  },
  {
   "cell_type": "code",
   "execution_count": 52,
   "metadata": {
    "collapsed": false,
    "scrolled": true
   },
   "outputs": [],
   "source": [
    "full_matches2 = full_matches1.drop(['raw_uuid_2', 'raw_uuid_3', 'application_year_2', 'raw_uuid_4'], axis=1)"
   ]
  },
  {
   "cell_type": "code",
   "execution_count": 53,
   "metadata": {
    "collapsed": false
   },
   "outputs": [],
   "source": [
    "problem_names = ['PRZYBYLA', 'EILER', 'ELLER', 'BUCKLEY', 'BUKLEY', 'PERPICH', 'DIEZMAN', 'DIETZMAN', 'BRADEN R', \n",
    "                'GLASSBROTH', 'CHESEBRE', 'CHESEBRO', 'COLLIN', 'COLLINS', 'KETOVER', 'KENTOVER', 'BRADEN R', \n",
    "                'KNOWLER', 'SARAI', 'SARAL', 'COLDBERG', 'GOLDBERG']"
   ]
  },
  {
   "cell_type": "code",
   "execution_count": 54,
   "metadata": {
    "collapsed": false,
    "scrolled": true
   },
   "outputs": [
    {
     "data": {
      "text/html": [
       "<div>\n",
       "<table border=\"1\" class=\"dataframe\">\n",
       "  <thead>\n",
       "    <tr style=\"text-align: right;\">\n",
       "      <th></th>\n",
       "      <th>clean_first_name</th>\n",
       "      <th>clean_middle_name</th>\n",
       "      <th>clean_last_name</th>\n",
       "    </tr>\n",
       "  </thead>\n",
       "  <tbody>\n",
       "    <tr>\n",
       "      <th>495</th>\n",
       "      <td>MORTIMER</td>\n",
       "      <td>NaN</td>\n",
       "      <td>BUCKLEY</td>\n",
       "    </tr>\n",
       "    <tr>\n",
       "      <th>615</th>\n",
       "      <td>BRUCE</td>\n",
       "      <td>WILCOX</td>\n",
       "      <td>CHESEBRO</td>\n",
       "    </tr>\n",
       "    <tr>\n",
       "      <th>692</th>\n",
       "      <td>JAMES</td>\n",
       "      <td>E</td>\n",
       "      <td>COLDBERG</td>\n",
       "    </tr>\n",
       "    <tr>\n",
       "      <th>701</th>\n",
       "      <td>ROBERT</td>\n",
       "      <td>CHAPLIN</td>\n",
       "      <td>COLLINS</td>\n",
       "    </tr>\n",
       "    <tr>\n",
       "      <th>702</th>\n",
       "      <td>STEVEN</td>\n",
       "      <td>HAMES</td>\n",
       "      <td>COLLINS</td>\n",
       "    </tr>\n",
       "    <tr>\n",
       "      <th>867</th>\n",
       "      <td>DALE</td>\n",
       "      <td>E</td>\n",
       "      <td>DIETZMAN</td>\n",
       "    </tr>\n",
       "    <tr>\n",
       "      <th>952</th>\n",
       "      <td>DONALD</td>\n",
       "      <td>MARTIN</td>\n",
       "      <td>EILER</td>\n",
       "    </tr>\n",
       "    <tr>\n",
       "      <th>1341</th>\n",
       "      <td>MICHAEL</td>\n",
       "      <td>ELLIS</td>\n",
       "      <td>GOLDBERG</td>\n",
       "    </tr>\n",
       "    <tr>\n",
       "      <th>1342</th>\n",
       "      <td>ALAN</td>\n",
       "      <td>H</td>\n",
       "      <td>GOLDBERG</td>\n",
       "    </tr>\n",
       "    <tr>\n",
       "      <th>1343</th>\n",
       "      <td>NELSON</td>\n",
       "      <td>HOWARD</td>\n",
       "      <td>GOLDBERG</td>\n",
       "    </tr>\n",
       "    <tr>\n",
       "      <th>1344</th>\n",
       "      <td>ARTHUR</td>\n",
       "      <td>I</td>\n",
       "      <td>GOLDBERG</td>\n",
       "    </tr>\n",
       "    <tr>\n",
       "      <th>1345</th>\n",
       "      <td>SETH</td>\n",
       "      <td>IAN</td>\n",
       "      <td>GOLDBERG</td>\n",
       "    </tr>\n",
       "    <tr>\n",
       "      <th>1346</th>\n",
       "      <td>MARK</td>\n",
       "      <td>J</td>\n",
       "      <td>GOLDBERG</td>\n",
       "    </tr>\n",
       "    <tr>\n",
       "      <th>1347</th>\n",
       "      <td>IVAN</td>\n",
       "      <td>K</td>\n",
       "      <td>GOLDBERG</td>\n",
       "    </tr>\n",
       "    <tr>\n",
       "      <th>1348</th>\n",
       "      <td>IVAN</td>\n",
       "      <td>K</td>\n",
       "      <td>GOLDBERG</td>\n",
       "    </tr>\n",
       "    <tr>\n",
       "      <th>1349</th>\n",
       "      <td>LESLIE</td>\n",
       "      <td>PHILIP</td>\n",
       "      <td>GOLDBERG</td>\n",
       "    </tr>\n",
       "    <tr>\n",
       "      <th>1350</th>\n",
       "      <td>LESTER</td>\n",
       "      <td>ROY</td>\n",
       "      <td>GOLDBERG</td>\n",
       "    </tr>\n",
       "    <tr>\n",
       "      <th>1351</th>\n",
       "      <td>SHELDON</td>\n",
       "      <td>NaN</td>\n",
       "      <td>GOLDBERG</td>\n",
       "    </tr>\n",
       "    <tr>\n",
       "      <th>1352</th>\n",
       "      <td>NaN</td>\n",
       "      <td>NaN</td>\n",
       "      <td>GOLDBERG</td>\n",
       "    </tr>\n",
       "    <tr>\n",
       "      <th>2002</th>\n",
       "      <td>BART</td>\n",
       "      <td>PETER</td>\n",
       "      <td>KENTOVER</td>\n",
       "    </tr>\n",
       "    <tr>\n",
       "      <th>2070</th>\n",
       "      <td>WILLIAM</td>\n",
       "      <td>CLAYTON</td>\n",
       "      <td>KNOWLER</td>\n",
       "    </tr>\n",
       "    <tr>\n",
       "      <th>2071</th>\n",
       "      <td>JAN</td>\n",
       "      <td>O</td>\n",
       "      <td>KNOWLER</td>\n",
       "    </tr>\n",
       "    <tr>\n",
       "      <th>2956</th>\n",
       "      <td>JOSEPH</td>\n",
       "      <td>GEORGE</td>\n",
       "      <td>PERPICH</td>\n",
       "    </tr>\n",
       "    <tr>\n",
       "      <th>2957</th>\n",
       "      <td>JOSEPH</td>\n",
       "      <td>GEORGE</td>\n",
       "      <td>PERPICH</td>\n",
       "    </tr>\n",
       "    <tr>\n",
       "      <th>3066</th>\n",
       "      <td>ANDREW</td>\n",
       "      <td>CASPER</td>\n",
       "      <td>PRZYBYLA</td>\n",
       "    </tr>\n",
       "    <tr>\n",
       "      <th>3385</th>\n",
       "      <td>REIN</td>\n",
       "      <td>NaN</td>\n",
       "      <td>SARAL</td>\n",
       "    </tr>\n",
       "  </tbody>\n",
       "</table>\n",
       "</div>"
      ],
      "text/plain": [
       "     clean_first_name clean_middle_name clean_last_name\n",
       "495          MORTIMER               NaN         BUCKLEY\n",
       "615             BRUCE            WILCOX        CHESEBRO\n",
       "692             JAMES                 E        COLDBERG\n",
       "701            ROBERT           CHAPLIN         COLLINS\n",
       "702            STEVEN             HAMES         COLLINS\n",
       "867              DALE                 E        DIETZMAN\n",
       "952            DONALD            MARTIN           EILER\n",
       "1341          MICHAEL             ELLIS        GOLDBERG\n",
       "1342             ALAN                 H        GOLDBERG\n",
       "1343           NELSON            HOWARD        GOLDBERG\n",
       "1344           ARTHUR                 I        GOLDBERG\n",
       "1345             SETH               IAN        GOLDBERG\n",
       "1346             MARK                 J        GOLDBERG\n",
       "1347             IVAN                 K        GOLDBERG\n",
       "1348             IVAN                 K        GOLDBERG\n",
       "1349           LESLIE            PHILIP        GOLDBERG\n",
       "1350           LESTER               ROY        GOLDBERG\n",
       "1351          SHELDON               NaN        GOLDBERG\n",
       "1352              NaN               NaN        GOLDBERG\n",
       "2002             BART             PETER        KENTOVER\n",
       "2070          WILLIAM           CLAYTON         KNOWLER\n",
       "2071              JAN                 O         KNOWLER\n",
       "2956           JOSEPH            GEORGE         PERPICH\n",
       "2957           JOSEPH            GEORGE         PERPICH\n",
       "3066           ANDREW            CASPER        PRZYBYLA\n",
       "3385             REIN               NaN           SARAL"
      ]
     },
     "execution_count": 54,
     "metadata": {},
     "output_type": "execute_result"
    }
   ],
   "source": [
    "full_matches2.loc[full_matches2.clean_last_name.isin(problem_names), NAME_COLS]"
   ]
  },
  {
   "cell_type": "code",
   "execution_count": 55,
   "metadata": {
    "collapsed": true,
    "scrolled": true
   },
   "outputs": [],
   "source": [
    "# del all_app3, all_appcards2, all_app4, all_app5, all_app6, all_app7a"
   ]
  },
  {
   "cell_type": "code",
   "execution_count": 56,
   "metadata": {
    "collapsed": false,
    "scrolled": true
   },
   "outputs": [],
   "source": [
    "full_matches2['fuzzy_merge_col'] = full_matches2[\n",
    "    ['clean_middle_initial', 'clean_last_name', 'medical_school']].apply(create_str_merge, axis=1)\n",
    "\n",
    "last_name_counter = Counter(full_matches2.clean_last_name)\n",
    "full_matches2.loc[:, 'last_name_counts'] = full_matches2.apply(\n",
    "    lambda x: last_name_counter[x['clean_last_name']], axis=1)\n",
    "\n",
    "possible_dups = full_matches2[full_matches2['last_name_counts']>1].sort_values(\n",
    "    ['clean_last_name', 'clean_middle_name', 'medical_school', 'city', 'application_year'])\n",
    "\n",
    "people_match = df_get_closest_matches(possible_dups, possible_dups, 'fuzzy_merge_col', suffixes=['_x', '_y'])"
   ]
  },
  {
   "cell_type": "code",
   "execution_count": 57,
   "metadata": {
    "collapsed": false,
    "scrolled": true
   },
   "outputs": [
    {
     "name": "stdout",
     "output_type": "stream",
     "text": [
      "(298, 154)\n"
     ]
    }
   ],
   "source": [
    "# for people with the same information, drop from the data set\n",
    "same_person_mask = (\n",
    "        (people_match.raw_uuid_x==people_match.raw_uuid_y) & (people_match.raw_uuid_1_x==people_match.raw_uuid_1_y))\n",
    "\n",
    "# need to add a second mask for people who have only 1 uuid\n",
    "same_person_mask2 = (\n",
    "        (people_match.raw_uuid_x==people_match.raw_uuid_y) & (pd.isnull(people_match.raw_uuid_1_x)) &\n",
    "            (pd.isnull(people_match.raw_uuid_1_y)))\n",
    "\n",
    "people_match2 = people_match[~(same_person_mask | same_person_mask2)]\n",
    "print people_match2.shape"
   ]
  },
  {
   "cell_type": "code",
   "execution_count": 58,
   "metadata": {
    "collapsed": true,
    "scrolled": true
   },
   "outputs": [],
   "source": [
    "# NOW, need to redo the merging process, but merge in based on same people, not just same application year\n",
    "def check_similar(row):\n",
    "        # address and application year match\n",
    "    if row['application_year_sim'] > 3:\n",
    "        return 0\n",
    "    if row['medical_school_sim'] > 80 and row['clean_middle_name_sim'] > 60:\n",
    "        return 1\n",
    "    if row['medical_school_sim'] > 80 and row['clean_first_name_sim'] > 60:\n",
    "        return 1\n",
    "    if row['address_sim'] > 60 and row['medical_school_sim'] > 80 and (\n",
    "            pd.isnull(row['clean_first_name_sim']) or row['clean_first_name_sim'] > 80) :\n",
    "        return 1\n",
    "    return 0\n",
    "\n"
   ]
  },
  {
   "cell_type": "code",
   "execution_count": 59,
   "metadata": {
    "collapsed": false,
    "scrolled": true
   },
   "outputs": [
    {
     "name": "stderr",
     "output_type": "stream",
     "text": [
      "merging_functions.py:93: SettingWithCopyWarning: \n",
      "A value is trying to be set on a copy of a slice from a DataFrame.\n",
      "Try using .loc[row_indexer,col_indexer] = value instead\n",
      "\n",
      "See the caveats in the documentation: http://pandas.pydata.org/pandas-docs/stable/indexing.html#indexing-view-versus-copy\n",
      "  df[sim_colname] = df[[col1, col2]].apply(fnc_val, axis=1)\n",
      "merging_functions.py:94: SettingWithCopyWarning: \n",
      "A value is trying to be set on a copy of a slice from a DataFrame.\n",
      "Try using .loc[row_indexer,col_indexer] = value instead\n",
      "\n",
      "See the caveats in the documentation: http://pandas.pydata.org/pandas-docs/stable/indexing.html#indexing-view-versus-copy\n",
      "  df['is_match'] = 0\n"
     ]
    }
   ],
   "source": [
    "people_match3 = add_similarity_features(people_match2, feature_dict, check_similar, suffixes=['_x', '_y'])"
   ]
  },
  {
   "cell_type": "code",
   "execution_count": 60,
   "metadata": {
    "collapsed": false,
    "scrolled": true
   },
   "outputs": [
    {
     "data": {
      "text/html": [
       "<div>\n",
       "<table border=\"1\" class=\"dataframe\">\n",
       "  <thead>\n",
       "    <tr style=\"text-align: right;\">\n",
       "      <th></th>\n",
       "      <th>is_match</th>\n",
       "      <th>clean_first_name_sim</th>\n",
       "      <th>clean_middle_initial_x</th>\n",
       "      <th>clean_first_name_x</th>\n",
       "      <th>clean_first_name_y</th>\n",
       "      <th>medical_school_sim</th>\n",
       "      <th>clean_middle_name_x</th>\n",
       "      <th>clean_middle_name_y</th>\n",
       "    </tr>\n",
       "  </thead>\n",
       "  <tbody>\n",
       "    <tr>\n",
       "      <th>C ALEXANDER DUKE MEDICAL SCHOOL</th>\n",
       "      <td>1</td>\n",
       "      <td>100.0</td>\n",
       "      <td>C</td>\n",
       "      <td>JOHN</td>\n",
       "      <td>JOHN</td>\n",
       "      <td>100.0</td>\n",
       "      <td>CHARLES</td>\n",
       "      <td>CHARLES</td>\n",
       "    </tr>\n",
       "    <tr>\n",
       "      <th>C ALEXANDER DUKE MEDICAL SCHOOL</th>\n",
       "      <td>1</td>\n",
       "      <td>100.0</td>\n",
       "      <td>C</td>\n",
       "      <td>JOHN</td>\n",
       "      <td>JOHN</td>\n",
       "      <td>100.0</td>\n",
       "      <td>CHARLES</td>\n",
       "      <td>CHARLES</td>\n",
       "    </tr>\n",
       "    <tr>\n",
       "      <th>S ALPERT HARVARD MEDICAL SCHOOL</th>\n",
       "      <td>1</td>\n",
       "      <td>100.0</td>\n",
       "      <td>S</td>\n",
       "      <td>JOSEPH</td>\n",
       "      <td>JOSEPH</td>\n",
       "      <td>100.0</td>\n",
       "      <td>STEPHEN</td>\n",
       "      <td>STEPHEN</td>\n",
       "    </tr>\n",
       "    <tr>\n",
       "      <th>S ALPERT HARVARD MEDICAL SCHOOL</th>\n",
       "      <td>1</td>\n",
       "      <td>100.0</td>\n",
       "      <td>S</td>\n",
       "      <td>JOSEPH</td>\n",
       "      <td>JOSEPH</td>\n",
       "      <td>100.0</td>\n",
       "      <td>STEPHEN</td>\n",
       "      <td>STEPHEN</td>\n",
       "    </tr>\n",
       "  </tbody>\n",
       "</table>\n",
       "</div>"
      ],
      "text/plain": [
       "                                 is_match  clean_first_name_sim  \\\n",
       "C ALEXANDER DUKE MEDICAL SCHOOL         1                 100.0   \n",
       "C ALEXANDER DUKE MEDICAL SCHOOL         1                 100.0   \n",
       "S ALPERT HARVARD MEDICAL SCHOOL         1                 100.0   \n",
       "S ALPERT HARVARD MEDICAL SCHOOL         1                 100.0   \n",
       "\n",
       "                                clean_middle_initial_x clean_first_name_x  \\\n",
       "C ALEXANDER DUKE MEDICAL SCHOOL                      C               JOHN   \n",
       "C ALEXANDER DUKE MEDICAL SCHOOL                      C               JOHN   \n",
       "S ALPERT HARVARD MEDICAL SCHOOL                      S             JOSEPH   \n",
       "S ALPERT HARVARD MEDICAL SCHOOL                      S             JOSEPH   \n",
       "\n",
       "                                clean_first_name_y  medical_school_sim  \\\n",
       "C ALEXANDER DUKE MEDICAL SCHOOL               JOHN               100.0   \n",
       "C ALEXANDER DUKE MEDICAL SCHOOL               JOHN               100.0   \n",
       "S ALPERT HARVARD MEDICAL SCHOOL             JOSEPH               100.0   \n",
       "S ALPERT HARVARD MEDICAL SCHOOL             JOSEPH               100.0   \n",
       "\n",
       "                                clean_middle_name_x clean_middle_name_y  \n",
       "C ALEXANDER DUKE MEDICAL SCHOOL             CHARLES             CHARLES  \n",
       "C ALEXANDER DUKE MEDICAL SCHOOL             CHARLES             CHARLES  \n",
       "S ALPERT HARVARD MEDICAL SCHOOL             STEPHEN             STEPHEN  \n",
       "S ALPERT HARVARD MEDICAL SCHOOL             STEPHEN             STEPHEN  "
      ]
     },
     "execution_count": 60,
     "metadata": {},
     "output_type": "execute_result"
    }
   ],
   "source": [
    "people_match3.loc[people_match3.clean_last_name_x.isin(['ALEXANDER', 'ALPERT']), \n",
    "                  ['is_match', 'clean_first_name_sim', \n",
    "                   'clean_middle_initial_x', 'clean_first_name_x','clean_first_name_y', 'medical_school_sim', 'clean_middle_name_x', 'clean_middle_name_y']]"
   ]
  },
  {
   "cell_type": "code",
   "execution_count": 61,
   "metadata": {
    "collapsed": false,
    "scrolled": true
   },
   "outputs": [
    {
     "data": {
      "text/plain": [
       "(119, 162)"
      ]
     },
     "execution_count": 61,
     "metadata": {},
     "output_type": "execute_result"
    }
   ],
   "source": [
    "people_match4 = people_match3[people_match3['is_match']==1].reset_index().drop_duplicates(subset='index',keep='first')\n",
    "people_match4.shape"
   ]
  },
  {
   "cell_type": "code",
   "execution_count": 62,
   "metadata": {
    "collapsed": false,
    "scrolled": true
   },
   "outputs": [
    {
     "name": "stdout",
     "output_type": "stream",
     "text": [
      "['address', 'age', 'application_date', 'associate_program_entered', 'bob', 'ca', 'cc', 'citizenship', 'city', 'clean_college_trans', 'clean_first_initial', 'clean_first_name', 'clean_last_name', 'clean_middle_initial', 'clean_middle_name', 'clean_suffix', 'clinical', 'cord', 'date_of_birth', 'dbs', 'fifth', 'first_name', 'honor_societies_first', 'honor_societies_fourth', 'honor_societies_second', 'honor_societies_third', 'ic', 'internship_hospital', 'internship_year(s)', 'is_female', 'is_match', 'last_name', 'medical_school', 'medschool_year_grad', 'middle_name', 'nci', 'nei', 'nhi', 'nhli', 'niaid', 'niamd', 'niamdd', 'nichd', 'nichhd', 'nidr', 'niehs', 'nigms', 'nimh', 'nindb', 'ninds', 'oir', 'original_medical_school', 'other', 'pharm_ra', 'pi', 'ra', 'rejected', 'rejection_date', 'research', 'residency_hospital', 'residency_type', 'residency_year(s)', 'reviewer', 'sa', 'sixth', 'state', 'teaching', 'undergrad_year_grad', 'undergraduate_school', 'withdrawal', 'year_accepted', 'zip_code', 'last_name_counts']\n"
     ]
    }
   ],
   "source": [
    "people_match5 = consolidate_merge_cols(people_match4, ['_x', '_y'], ['application_year', 'application_year_1', 'raw_uuid', 'raw_uuid_1'])\n",
    "people_match6 = people_match5.drop([c for c in full_matches.columns if c.endswith('_sim') or '_counts' in c or c.endswith('_duplicate')], axis=1)"
   ]
  },
  {
   "cell_type": "code",
   "execution_count": 63,
   "metadata": {
    "collapsed": false,
    "scrolled": true
   },
   "outputs": [],
   "source": [
    "# consolidate uuid columns\n",
    "people_match6['raw_uuid'] = people_match6['raw_uuid_x']\n",
    "people_match6['raw_uuid_1'] = people_match6['raw_uuid_1_x']\n",
    "people_match6['raw_uuid_2'] = np.nan\n",
    "people_match6['raw_uuid_3'] = np.nan\n",
    "\n",
    "fill_in_y = (\n",
    "    (people_match6.raw_uuid_y!=people_match6.raw_uuid_x) & (people_match6.raw_uuid_y!=people_match6.raw_uuid_1))\n",
    "\n",
    "people_match6.loc[fill_in_y, 'raw_uuid_2'] = people_match6.loc[fill_in_y, 'raw_uuid_y']\n",
    "\n",
    "fill_in_y_1 = (\n",
    "    (people_match6.raw_uuid_1_y!=people_match6.raw_uuid) & (people_match6.raw_uuid_1_y!=people_match6.raw_uuid_1) &\n",
    "        (people_match6.raw_uuid_1_y!=people_match6.raw_uuid_2))\n",
    "\n",
    "people_match6.loc[fill_in_y_1, 'raw_uuid_3'] = people_match6.loc[fill_in_y_1, 'raw_uuid_1_y']\n",
    "\n",
    "people_match6.loc[pd.isnull(people_match6.raw_uuid_1), 'raw_uuid_1'] = people_match6.loc[pd.isnull(people_match6.raw_uuid_1), 'raw_uuid_3']\n",
    "people_match6.loc[pd.isnull(people_match6.raw_uuid_1), 'raw_uuid_1'] = people_match6.loc[pd.isnull(people_match6.raw_uuid_1), 'raw_uuid_2']\n",
    "\n",
    "people_match6.loc[people_match6.raw_uuid_1==people_match6.raw_uuid_3, 'raw_uuid_3'] = np.nan\n",
    "\n",
    "# drop all uuidds except for i, 2, 2\n",
    "UUID_COLS = ['raw_uuid', 'raw_uuid_1', 'raw_uuid_2', 'raw_uuid_3']\n",
    "\n",
    "people_match7 = people_match6.drop(['raw_uuid_x', 'raw_uuid_y', 'raw_uuid_1_x', 'raw_uuid_1_y'], axis=1)"
   ]
  },
  {
   "cell_type": "code",
   "execution_count": 64,
   "metadata": {
    "collapsed": true,
    "scrolled": true
   },
   "outputs": [],
   "source": [
    "# consolidate_app_year columns\n",
    "# consolidate uuid columns\n",
    "people_match7['application_year'] = people_match7['application_year_x']\n",
    "people_match7['application_year_1'] = people_match7['application_year_1_x']\n",
    "people_match7['application_year_2'] = np.nan\n",
    "people_match7['application_year_3'] = np.nan\n",
    "\n",
    "fill_in_y = (\n",
    "    (people_match7.application_year_y!=people_match7.application_year_x) & (people_match7.application_year_y!=people_match7.application_year_1))\n",
    "\n",
    "people_match7.loc[fill_in_y, 'application_year_2'] = people_match7.loc[fill_in_y, 'application_year_y']\n",
    "\n",
    "fill_in_y_1 = (\n",
    "    (people_match7.application_year_1_y!=people_match7.application_year) & (people_match7.application_year_1_y!=people_match7.application_year_1) &\n",
    "        (people_match7.application_year_1_y!=people_match7.application_year_2))\n",
    "\n",
    "people_match7.loc[fill_in_y_1, 'application_year_3'] = people_match7.loc[fill_in_y_1, 'application_year_1_y']\n",
    "\n",
    "people_match7.loc[pd.isnull(people_match7.application_year_1), 'application_year_1'] = people_match7.loc[pd.isnull(people_match7.application_year_1), 'application_year_3']\n",
    "people_match7.loc[pd.isnull(people_match7.application_year_1), 'application_year_1'] = people_match7.loc[pd.isnull(people_match7.application_year_1), 'application_year_2']\n",
    "\n",
    "people_match7.loc[people_match7.application_year_1==people_match7.application_year_3, 'application_year_3'] = np.nan\n",
    "people_match7.loc[people_match7.application_year_2==people_match7.application_year_3, 'application_year_3'] = np.nan\n",
    "people_match7.loc[people_match7.application_year_1==people_match7.application_year_2, 'application_year_2'] = np.nan\n",
    "\n",
    "# drop all uuidds except for i, 2, 2\n",
    "APPLICATION_YEAR_COLS = ['application_year', 'application_year_1']\n",
    "\n",
    "people_match8 = people_match7.drop(['application_year_2', 'application_year_3', 'application_year_x', 'application_year_y', 'application_year_1_x', 'application_year_1_y'], axis=1)"
   ]
  },
  {
   "cell_type": "code",
   "execution_count": 65,
   "metadata": {
    "collapsed": false,
    "scrolled": true
   },
   "outputs": [
    {
     "data": {
      "text/html": [
       "<div>\n",
       "<table border=\"1\" class=\"dataframe\">\n",
       "  <thead>\n",
       "    <tr style=\"text-align: right;\">\n",
       "      <th></th>\n",
       "      <th>application_year_x</th>\n",
       "      <th>application_year_1_x</th>\n",
       "      <th>application_year_y</th>\n",
       "      <th>application_year_1_y</th>\n",
       "      <th>clean_last_name_x</th>\n",
       "    </tr>\n",
       "  </thead>\n",
       "  <tbody>\n",
       "    <tr>\n",
       "      <th>42</th>\n",
       "      <td>1971.0</td>\n",
       "      <td>NaN</td>\n",
       "      <td>1971.0</td>\n",
       "      <td>NaN</td>\n",
       "      <td>ALEXANDER</td>\n",
       "    </tr>\n",
       "    <tr>\n",
       "      <th>184</th>\n",
       "      <td>1969.0</td>\n",
       "      <td>NaN</td>\n",
       "      <td>1968.0</td>\n",
       "      <td>NaN</td>\n",
       "      <td>ALPERT</td>\n",
       "    </tr>\n",
       "  </tbody>\n",
       "</table>\n",
       "</div>"
      ],
      "text/plain": [
       "     application_year_x  application_year_1_x  application_year_y  \\\n",
       "42               1971.0                   NaN              1971.0   \n",
       "184              1969.0                   NaN              1968.0   \n",
       "\n",
       "     application_year_1_y clean_last_name_x  \n",
       "42                    NaN         ALEXANDER  \n",
       "184                   NaN            ALPERT  "
      ]
     },
     "execution_count": 65,
     "metadata": {},
     "output_type": "execute_result"
    }
   ],
   "source": [
    "people_match4.loc[people_match6.clean_last_name.isin(['ALEXANDER', 'ALPERT']), [\n",
    "        'application_year_x', 'application_year_1_x', 'application_year_y', 'application_year_1_y', 'clean_last_name_x']]"
   ]
  },
  {
   "cell_type": "code",
   "execution_count": 66,
   "metadata": {
    "collapsed": false,
    "scrolled": true
   },
   "outputs": [
    {
     "data": {
      "text/html": [
       "<div>\n",
       "<table border=\"1\" class=\"dataframe\">\n",
       "  <thead>\n",
       "    <tr style=\"text-align: right;\">\n",
       "      <th></th>\n",
       "      <th>clean_first_name</th>\n",
       "      <th>clean_middle_name</th>\n",
       "      <th>clean_last_name</th>\n",
       "    </tr>\n",
       "  </thead>\n",
       "  <tbody>\n",
       "    <tr>\n",
       "      <th>184</th>\n",
       "      <td>JOSEPH</td>\n",
       "      <td>STEPHEN</td>\n",
       "      <td>ALPERT</td>\n",
       "    </tr>\n",
       "  </tbody>\n",
       "</table>\n",
       "</div>"
      ],
      "text/plain": [
       "    clean_first_name clean_middle_name clean_last_name\n",
       "184           JOSEPH           STEPHEN          ALPERT"
      ]
     },
     "execution_count": 66,
     "metadata": {},
     "output_type": "execute_result"
    }
   ],
   "source": [
    "people_match8.loc[people_match8.clean_last_name.isin(['HERSH', 'ALPERT']), NAME_COLS]"
   ]
  },
  {
   "cell_type": "code",
   "execution_count": 67,
   "metadata": {
    "collapsed": false,
    "scrolled": true
   },
   "outputs": [],
   "source": [
    "# add back to main data set\n",
    "multi_apps_ids = np.concatenate([\n",
    "        people_match8.raw_uuid.dropna().unique(), people_match8.raw_uuid_1.dropna().unique(), \n",
    "        people_match8.raw_uuid_2.dropna().unique(), people_match8.raw_uuid_3.dropna().unique()], \n",
    "                        axis=0)"
   ]
  },
  {
   "cell_type": "code",
   "execution_count": 68,
   "metadata": {
    "collapsed": false,
    "scrolled": true
   },
   "outputs": [
    {
     "name": "stdout",
     "output_type": "stream",
     "text": [
      "(4036, 78)\n"
     ]
    }
   ],
   "source": [
    "one_app = get_nonmatched(full_matches2, multi_apps_ids, 'raw_uuid')"
   ]
  },
  {
   "cell_type": "code",
   "execution_count": 69,
   "metadata": {
    "collapsed": false,
    "scrolled": true
   },
   "outputs": [
    {
     "name": "stdout",
     "output_type": "stream",
     "text": [
      "(4155, 81)\n"
     ]
    }
   ],
   "source": [
    "full_apps = pd.concat([one_app, people_match8], axis=0).sort_values(NAME_COLS+UUID_COLS)\n",
    "print full_apps.shape"
   ]
  },
  {
   "cell_type": "code",
   "execution_count": 70,
   "metadata": {
    "collapsed": false,
    "scrolled": true
   },
   "outputs": [],
   "source": [
    "dups1 = full_apps[full_apps.duplicated(['clean_last_name', 'clean_first_initial', 'clean_middle_initial', 'medical_school'], keep='first')].sort_values('clean_last_name')\n",
    "dups2 = full_apps[full_apps.duplicated(['clean_last_name', 'clean_first_initial', 'clean_middle_initial', 'medical_school'], keep='last')].sort_values('clean_last_name')\n",
    "dups2 = dups2[['clean_last_name', 'clean_first_name', 'clean_first_initial', 'medical_school', 'raw_uuid', 'raw_uuid_1', 'raw_uuid_2', 'raw_uuid_3', 'application_year', 'application_year_1']]"
   ]
  },
  {
   "cell_type": "code",
   "execution_count": 71,
   "metadata": {
    "collapsed": false,
    "scrolled": true
   },
   "outputs": [],
   "source": [
    "dups3 = dups2.rename(columns={'raw_uuid': 'raw_uuid_4', 'raw_uuid_1': 'raw_uuid_5', 'raw_uuid_2': 'raw_uuid_6',\n",
    "                             'raw_uuid_3': 'raw_uuid_7', 'application_year': 'application_year_2', \n",
    "                              'application_year_1': 'application_year_3'})"
   ]
  },
  {
   "cell_type": "code",
   "execution_count": 72,
   "metadata": {
    "collapsed": false,
    "scrolled": true
   },
   "outputs": [],
   "source": [
    "dups4 = pd.merge(left=dups1, right=dups3, on=['clean_last_name', 'clean_first_initial', 'medical_school'], how='inner')\n",
    "dups4.loc[:, ['raw_uuid', 'raw_uuid_4', 'raw_uuid_1', 'raw_uuid_5', 'raw_uuid_2', 'raw_uuid_6',\n",
    "                             'raw_uuid_3', 'raw_uuid_7', 'application_year', 'application_year_2', \n",
    "                              'application_year_1', 'application_year_3']]\n",
    "dups4.loc[pd.isnull(dups4.application_year_1), 'application_year_1'] =  dups4.loc[\n",
    "    pd.isnull(dups4.application_year_1), 'application_year_3'] \n",
    "dups4.loc[pd.isnull(dups4.application_year_1), 'application_year_1'] =  dups4.loc[\n",
    "    pd.isnull(dups4.application_year_1), 'application_year_2']\n",
    "dup_years = dups4.application_year_1==dups4.application_year_2\n",
    "dups4.loc[dup_years, 'application_year_2'] = np.nan\n"
   ]
  },
  {
   "cell_type": "code",
   "execution_count": 73,
   "metadata": {
    "collapsed": false,
    "scrolled": true
   },
   "outputs": [],
   "source": [
    "dups5 = dups4.join(dups4[['raw_uuid', 'raw_uuid_4', 'raw_uuid_1', 'raw_uuid_5', 'raw_uuid_2', 'raw_uuid_6',\n",
    "                             'raw_uuid_3', 'raw_uuid_7']].apply(get_unique_vals, axis=1))"
   ]
  },
  {
   "cell_type": "code",
   "execution_count": 74,
   "metadata": {
    "collapsed": false,
    "scrolled": true
   },
   "outputs": [],
   "source": [
    "dups6 = dups5.rename(columns=dict(zip(range(6), ['raw_uuid', 'raw_uuid_1', 'raw_uuid_2', 'raw_uuid_3', 'raw_uuid_4',\n",
    "                             'raw_uuid_5'])))\n",
    "sorted(dups6.columns)\n",
    "dups6 = dups5[['raw_uuid', 'raw_uuid_1', 'raw_uuid_2', 'raw_uuid_3', 'raw_uuid_4',\n",
    "                'raw_uuid_5', 'clean_last_name', 'clean_first_initial', 'medical_school', \n",
    "                   'application_year', 'application_year_2', \n",
    "                              'application_year_1',  'application_year_3']]"
   ]
  },
  {
   "cell_type": "code",
   "execution_count": 75,
   "metadata": {
    "collapsed": true,
    "scrolled": true
   },
   "outputs": [],
   "source": [
    "not_dups = full_apps[\n",
    "    ~full_apps.duplicated(\n",
    "        ['clean_last_name', 'clean_first_initial', 'clean_middle_initial', 'medical_school'], keep=False)]"
   ]
  },
  {
   "cell_type": "code",
   "execution_count": 76,
   "metadata": {
    "collapsed": false,
    "scrolled": true
   },
   "outputs": [],
   "source": [
    "full_apps1 = pd.concat([not_dups, dups6], axis=0).reset_index(drop=True)"
   ]
  },
  {
   "cell_type": "code",
   "execution_count": 77,
   "metadata": {
    "collapsed": false
   },
   "outputs": [
    {
     "name": "stdout",
     "output_type": "stream",
     "text": [
      "(4274, 87)\n"
     ]
    }
   ],
   "source": [
    "print full_matches.shape"
   ]
  },
  {
   "cell_type": "code",
   "execution_count": 78,
   "metadata": {
    "collapsed": false
   },
   "outputs": [
    {
     "name": "stdout",
     "output_type": "stream",
     "text": [
      "set(['HUNT', 'COLLIN', 'BULL', 'LIST', 'GARFIN', 'FINKLESTEIN', 'HERSH', 'ROBINS'])\n"
     ]
    }
   ],
   "source": [
    "all_last_names = set(all_app7.clean_last_name.values)\n",
    "merged_last_names = set(full_apps.clean_last_name.values)\n",
    "diff_names = all_last_names - merged_last_names\n",
    "print diff_names"
   ]
  },
  {
   "cell_type": "code",
   "execution_count": 79,
   "metadata": {
    "collapsed": false
   },
   "outputs": [
    {
     "data": {
      "text/plain": [
       "{'application_year_1',\n",
       " 'application_year_2',\n",
       " 'application_year_3',\n",
       " 'fuzzy_merge_col',\n",
       " 'index',\n",
       " 'is_match',\n",
       " 'last_name_counts',\n",
       " 'raw_uuid_1',\n",
       " 'raw_uuid_2',\n",
       " 'raw_uuid_3',\n",
       " 'raw_uuid_4',\n",
       " 'raw_uuid_5'}"
      ]
     },
     "execution_count": 79,
     "metadata": {},
     "output_type": "execute_result"
    }
   ],
   "source": [
    "set(full_apps1.columns) - set(all_app7a.columns)"
   ]
  },
  {
   "cell_type": "code",
   "execution_count": 80,
   "metadata": {
    "collapsed": true
   },
   "outputs": [],
   "source": [
    "# need to add back in people who were dropped after renaming columns to match full_apps1\n",
    "missing_ppl = all_app7a.loc[(\n",
    "        all_app7a.clean_last_name.isin(diff_names)) & (~pd.isnull(all_app7a.clean_first_name))]"
   ]
  },
  {
   "cell_type": "code",
   "execution_count": 81,
   "metadata": {
    "collapsed": false
   },
   "outputs": [],
   "source": [
    "full_apps1A = pd.concat([\n",
    "        full_apps1, missing_ppl], axis=0).reset_index(drop=True).drop(['index', 'is_match', 'last_name_counts', \n",
    "                                                           'fuzzy_merge_col'], axis=1)"
   ]
  },
  {
   "cell_type": "code",
   "execution_count": 82,
   "metadata": {
    "collapsed": false
   },
   "outputs": [],
   "source": [
    "full_apps1A['medical_school'] = full_apps1A.medical_school.apply(clean_med_school)"
   ]
  },
  {
   "cell_type": "code",
   "execution_count": 83,
   "metadata": {
    "collapsed": false,
    "scrolled": true
   },
   "outputs": [
    {
     "name": "stdout",
     "output_type": "stream",
     "text": [
      "False\n"
     ]
    }
   ],
   "source": [
    "full_apps1A.index.name = PERSON_ID\n",
    "print PERSON_ID in full_apps1A.columns\n",
    "full_apps2 = full_apps1A.reset_index(drop=False).sort_values(NAME_COLS+['medical_school']).drop_duplicates(NAME_COLS)\n",
    "# .rename(columns={'index': PERSON_ID})\n",
    "# sorted(full_apps2.columns)"
   ]
  },
  {
   "cell_type": "code",
   "execution_count": 84,
   "metadata": {
    "collapsed": false
   },
   "outputs": [
    {
     "data": {
      "text/html": [
       "<div>\n",
       "<table border=\"1\" class=\"dataframe\">\n",
       "  <thead>\n",
       "    <tr style=\"text-align: right;\">\n",
       "      <th></th>\n",
       "      <th>medical_school</th>\n",
       "      <th>original_medical_school</th>\n",
       "    </tr>\n",
       "  </thead>\n",
       "  <tbody>\n",
       "  </tbody>\n",
       "</table>\n",
       "</div>"
      ],
      "text/plain": [
       "Empty DataFrame\n",
       "Columns: [medical_school, original_medical_school]\n",
       "Index: []"
      ]
     },
     "execution_count": 84,
     "metadata": {},
     "output_type": "execute_result"
    }
   ],
   "source": [
    "full_apps2.loc[full_apps2.medical_school=='VIRGINIA', ['medical_school', 'original_medical_school']]"
   ]
  },
  {
   "cell_type": "code",
   "execution_count": 85,
   "metadata": {
    "collapsed": false
   },
   "outputs": [],
   "source": [
    "possible_drops = full_apps2.loc[(pd.isnull(full_apps2.clean_first_name)&pd.isnull(full_apps2.clean_middle_name))].clean_last_name.values \n",
    "\n",
    "# full_apps2.loc[full_apps2.duplicated(NAME_COLS, keep=False), NAME_COLS+['medical_school']].clean_last_name.values"
   ]
  },
  {
   "cell_type": "code",
   "execution_count": 86,
   "metadata": {
    "collapsed": true
   },
   "outputs": [],
   "source": [
    "to_drop = ['BURNBAUM', 'DEPPERMAN', 'DEPPERMANN', 'LIST', 'STEWART', 'STEVENS', 'PERPICH', 'BUCKLEY', 'COLLIN']"
   ]
  },
  {
   "cell_type": "code",
   "execution_count": 87,
   "metadata": {
    "collapsed": false
   },
   "outputs": [
    {
     "data": {
      "text/html": [
       "<div>\n",
       "<table border=\"1\" class=\"dataframe\">\n",
       "  <thead>\n",
       "    <tr style=\"text-align: right;\">\n",
       "      <th></th>\n",
       "      <th>clean_first_name</th>\n",
       "      <th>clean_middle_name</th>\n",
       "      <th>clean_last_name</th>\n",
       "      <th>medical_school</th>\n",
       "    </tr>\n",
       "  </thead>\n",
       "  <tbody>\n",
       "    <tr>\n",
       "      <th>601</th>\n",
       "      <td>DAVID</td>\n",
       "      <td>ALEC</td>\n",
       "      <td>STEVENS</td>\n",
       "      <td>UNIVERSITY OF ROCHESTER SCHOOL OF MEDICINE</td>\n",
       "    </tr>\n",
       "    <tr>\n",
       "      <th>2004</th>\n",
       "      <td>JOSEPH</td>\n",
       "      <td>GEORGE</td>\n",
       "      <td>PERPICH</td>\n",
       "      <td>UNIVERSITY OF MINNESOTA MEDICAL SCHOOL - DULUTH</td>\n",
       "    </tr>\n",
       "    <tr>\n",
       "      <th>2565</th>\n",
       "      <td>MICHAEL</td>\n",
       "      <td>M</td>\n",
       "      <td>STEWART</td>\n",
       "      <td>NaN</td>\n",
       "    </tr>\n",
       "    <tr>\n",
       "      <th>2629</th>\n",
       "      <td>MITCHELL</td>\n",
       "      <td>DAVID</td>\n",
       "      <td>BURNBAUM</td>\n",
       "      <td>MEDICAL COLLEGE OF VIRGINIA</td>\n",
       "    </tr>\n",
       "    <tr>\n",
       "      <th>2644</th>\n",
       "      <td>MORTIMER</td>\n",
       "      <td>NaN</td>\n",
       "      <td>BUCKLEY</td>\n",
       "      <td>NaN</td>\n",
       "    </tr>\n",
       "    <tr>\n",
       "      <th>4150</th>\n",
       "      <td>NOEL</td>\n",
       "      <td>DAVID</td>\n",
       "      <td>LIST</td>\n",
       "      <td>SUNY DOWNSTATE MEDICAL CENTER COLLEGE OF MEDICINE</td>\n",
       "    </tr>\n",
       "    <tr>\n",
       "      <th>4149</th>\n",
       "      <td>ROBERT</td>\n",
       "      <td>CHAPLIN</td>\n",
       "      <td>COLLIN</td>\n",
       "      <td>JOAN &amp; SANFORD I. WEILL MEDICAL COLLEGE CORNEL...</td>\n",
       "    </tr>\n",
       "    <tr>\n",
       "      <th>3532</th>\n",
       "      <td>SCOTT</td>\n",
       "      <td>NaN</td>\n",
       "      <td>STEWART</td>\n",
       "      <td>CASE WESTERN RESERVE UNIVERSITY SCHOOL OF MEDI...</td>\n",
       "    </tr>\n",
       "    <tr>\n",
       "      <th>3664</th>\n",
       "      <td>STEPHEN</td>\n",
       "      <td>ROLFE</td>\n",
       "      <td>DEPPERMAN</td>\n",
       "      <td>UNIVERSITY OF PENNSYLVANIA SCHOOL OF MEDICINE</td>\n",
       "    </tr>\n",
       "    <tr>\n",
       "      <th>3665</th>\n",
       "      <td>STEPHEN</td>\n",
       "      <td>ROLFE</td>\n",
       "      <td>DEPPERMANN</td>\n",
       "      <td>UNIVERSITY OF PENNSYLVANIA SCHOOL OF MEDICINE</td>\n",
       "    </tr>\n",
       "    <tr>\n",
       "      <th>4096</th>\n",
       "      <td>NaN</td>\n",
       "      <td>DAVID</td>\n",
       "      <td>BURNBAUM</td>\n",
       "      <td>NaN</td>\n",
       "    </tr>\n",
       "    <tr>\n",
       "      <th>4110</th>\n",
       "      <td>NaN</td>\n",
       "      <td>M</td>\n",
       "      <td>STEWART</td>\n",
       "      <td>NaN</td>\n",
       "    </tr>\n",
       "  </tbody>\n",
       "</table>\n",
       "</div>"
      ],
      "text/plain": [
       "     clean_first_name clean_middle_name clean_last_name  \\\n",
       "601             DAVID              ALEC         STEVENS   \n",
       "2004           JOSEPH            GEORGE         PERPICH   \n",
       "2565          MICHAEL                 M         STEWART   \n",
       "2629         MITCHELL             DAVID        BURNBAUM   \n",
       "2644         MORTIMER               NaN         BUCKLEY   \n",
       "4150             NOEL             DAVID            LIST   \n",
       "4149           ROBERT           CHAPLIN          COLLIN   \n",
       "3532            SCOTT               NaN         STEWART   \n",
       "3664          STEPHEN             ROLFE       DEPPERMAN   \n",
       "3665          STEPHEN             ROLFE      DEPPERMANN   \n",
       "4096              NaN             DAVID        BURNBAUM   \n",
       "4110              NaN                 M         STEWART   \n",
       "\n",
       "                                         medical_school  \n",
       "601          UNIVERSITY OF ROCHESTER SCHOOL OF MEDICINE  \n",
       "2004    UNIVERSITY OF MINNESOTA MEDICAL SCHOOL - DULUTH  \n",
       "2565                                                NaN  \n",
       "2629                        MEDICAL COLLEGE OF VIRGINIA  \n",
       "2644                                                NaN  \n",
       "4150  SUNY DOWNSTATE MEDICAL CENTER COLLEGE OF MEDICINE  \n",
       "4149  JOAN & SANFORD I. WEILL MEDICAL COLLEGE CORNEL...  \n",
       "3532  CASE WESTERN RESERVE UNIVERSITY SCHOOL OF MEDI...  \n",
       "3664      UNIVERSITY OF PENNSYLVANIA SCHOOL OF MEDICINE  \n",
       "3665      UNIVERSITY OF PENNSYLVANIA SCHOOL OF MEDICINE  \n",
       "4096                                                NaN  \n",
       "4110                                                NaN  "
      ]
     },
     "execution_count": 87,
     "metadata": {},
     "output_type": "execute_result"
    }
   ],
   "source": [
    "lname= 'LIST'\n",
    "not_dups.loc[not_dups.clean_last_name==lname, NAME_COLS+['medical_school']]\n",
    "one_app.loc[one_app.clean_last_name==lname, NAME_COLS+['medical_school']]\n",
    "full_matches2.loc[full_matches2.clean_last_name==lname, NAME_COLS+['medical_school']]\n",
    "full_apps1.loc[full_apps1.clean_last_name==lname, NAME_COLS+['medical_school']]\n",
    "full_apps2.loc[full_apps2.clean_last_name.isin(to_drop), NAME_COLS+['medical_school']]"
   ]
  },
  {
   "cell_type": "code",
   "execution_count": 88,
   "metadata": {
    "collapsed": false
   },
   "outputs": [],
   "source": [
    "\n",
    "full_apps2['to_drop'] = 0\n",
    "full_apps2.loc[:, 'to_drop'] = full_apps2[['clean_first_name', 'clean_last_name']].apply(lambda x: pd.isnull(x[0])\n",
    "                                                                                           and x[1] in(to_drop), axis=1)"
   ]
  },
  {
   "cell_type": "code",
   "execution_count": 89,
   "metadata": {
    "collapsed": true
   },
   "outputs": [],
   "source": [
    "c = Counter(full_apps2.clean_last_name)"
   ]
  },
  {
   "cell_type": "code",
   "execution_count": 90,
   "metadata": {
    "collapsed": true
   },
   "outputs": [],
   "source": [
    "full_apps2.loc[full_apps2.clean_last_name=='DEPPERMAN', 'to_drop'] = 1 "
   ]
  },
  {
   "cell_type": "code",
   "execution_count": 91,
   "metadata": {
    "collapsed": true
   },
   "outputs": [],
   "source": [
    "full_apps2['counts'] = full_apps2.clean_last_name.apply(lambda x: c[x])"
   ]
  },
  {
   "cell_type": "code",
   "execution_count": 92,
   "metadata": {
    "collapsed": false
   },
   "outputs": [],
   "source": [
    "possible_drops = full_apps2.loc[\n",
    "    (pd.isnull(full_apps2.clean_first_name)&pd.isnull(full_apps2.clean_middle_name) & (full_apps2.counts > 1)), 'person_uuid']"
   ]
  },
  {
   "cell_type": "code",
   "execution_count": 93,
   "metadata": {
    "collapsed": true
   },
   "outputs": [],
   "source": [
    "full_apps2.loc[full_apps2.person_uuid.isin(possible_drops), 'to_drop'] = 1 "
   ]
  },
  {
   "cell_type": "code",
   "execution_count": 94,
   "metadata": {
    "collapsed": false
   },
   "outputs": [
    {
     "data": {
      "text/html": [
       "<div>\n",
       "<table border=\"1\" class=\"dataframe\">\n",
       "  <thead>\n",
       "    <tr style=\"text-align: right;\">\n",
       "      <th></th>\n",
       "      <th>clean_first_name</th>\n",
       "      <th>clean_middle_name</th>\n",
       "      <th>clean_last_name</th>\n",
       "      <th>application_year</th>\n",
       "    </tr>\n",
       "  </thead>\n",
       "  <tbody>\n",
       "    <tr>\n",
       "      <th>2629</th>\n",
       "      <td>MITCHELL</td>\n",
       "      <td>DAVID</td>\n",
       "      <td>BURNBAUM</td>\n",
       "      <td>1972.0</td>\n",
       "    </tr>\n",
       "    <tr>\n",
       "      <th>4096</th>\n",
       "      <td>NaN</td>\n",
       "      <td>DAVID</td>\n",
       "      <td>BURNBAUM</td>\n",
       "      <td>1972.0</td>\n",
       "    </tr>\n",
       "  </tbody>\n",
       "</table>\n",
       "</div>"
      ],
      "text/plain": [
       "     clean_first_name clean_middle_name clean_last_name  application_year\n",
       "2629         MITCHELL             DAVID        BURNBAUM            1972.0\n",
       "4096              NaN             DAVID        BURNBAUM            1972.0"
      ]
     },
     "execution_count": 94,
     "metadata": {},
     "output_type": "execute_result"
    }
   ],
   "source": [
    "full_apps2.loc[full_apps2.clean_last_name=='BURNBAUM', NAME_COLS+['application_year']]"
   ]
  },
  {
   "cell_type": "code",
   "execution_count": 95,
   "metadata": {
    "collapsed": false
   },
   "outputs": [
    {
     "data": {
      "text/html": [
       "<div>\n",
       "<table border=\"1\" class=\"dataframe\">\n",
       "  <thead>\n",
       "    <tr style=\"text-align: right;\">\n",
       "      <th></th>\n",
       "      <th>clean_first_name</th>\n",
       "      <th>clean_middle_name</th>\n",
       "      <th>clean_last_name</th>\n",
       "      <th>application_year</th>\n",
       "    </tr>\n",
       "  </thead>\n",
       "  <tbody>\n",
       "    <tr>\n",
       "      <th>3664</th>\n",
       "      <td>STEPHEN</td>\n",
       "      <td>ROLFE</td>\n",
       "      <td>DEPPERMAN</td>\n",
       "      <td>1970.0</td>\n",
       "    </tr>\n",
       "    <tr>\n",
       "      <th>4096</th>\n",
       "      <td>NaN</td>\n",
       "      <td>DAVID</td>\n",
       "      <td>BURNBAUM</td>\n",
       "      <td>1972.0</td>\n",
       "    </tr>\n",
       "    <tr>\n",
       "      <th>4110</th>\n",
       "      <td>NaN</td>\n",
       "      <td>M</td>\n",
       "      <td>STEWART</td>\n",
       "      <td>1965.0</td>\n",
       "    </tr>\n",
       "    <tr>\n",
       "      <th>4126</th>\n",
       "      <td>NaN</td>\n",
       "      <td>NaN</td>\n",
       "      <td>ALMOND</td>\n",
       "      <td>1962.0</td>\n",
       "    </tr>\n",
       "    <tr>\n",
       "      <th>4127</th>\n",
       "      <td>NaN</td>\n",
       "      <td>NaN</td>\n",
       "      <td>ANDERSON</td>\n",
       "      <td>1961.0</td>\n",
       "    </tr>\n",
       "    <tr>\n",
       "      <th>4129</th>\n",
       "      <td>NaN</td>\n",
       "      <td>NaN</td>\n",
       "      <td>BORNSTEIN</td>\n",
       "      <td>1960.0</td>\n",
       "    </tr>\n",
       "    <tr>\n",
       "      <th>4130</th>\n",
       "      <td>NaN</td>\n",
       "      <td>NaN</td>\n",
       "      <td>BROWN</td>\n",
       "      <td>1961.0</td>\n",
       "    </tr>\n",
       "    <tr>\n",
       "      <th>4132</th>\n",
       "      <td>NaN</td>\n",
       "      <td>NaN</td>\n",
       "      <td>GAY</td>\n",
       "      <td>1963.0</td>\n",
       "    </tr>\n",
       "    <tr>\n",
       "      <th>4133</th>\n",
       "      <td>NaN</td>\n",
       "      <td>NaN</td>\n",
       "      <td>GOLDBERG</td>\n",
       "      <td>1963.0</td>\n",
       "    </tr>\n",
       "    <tr>\n",
       "      <th>4134</th>\n",
       "      <td>NaN</td>\n",
       "      <td>NaN</td>\n",
       "      <td>GROSSMAN</td>\n",
       "      <td>1960.0</td>\n",
       "    </tr>\n",
       "    <tr>\n",
       "      <th>4135</th>\n",
       "      <td>NaN</td>\n",
       "      <td>NaN</td>\n",
       "      <td>HANNAH</td>\n",
       "      <td>1963.0</td>\n",
       "    </tr>\n",
       "    <tr>\n",
       "      <th>4136</th>\n",
       "      <td>NaN</td>\n",
       "      <td>NaN</td>\n",
       "      <td>HOLLANDER</td>\n",
       "      <td>1959.0</td>\n",
       "    </tr>\n",
       "    <tr>\n",
       "      <th>4137</th>\n",
       "      <td>NaN</td>\n",
       "      <td>NaN</td>\n",
       "      <td>LANG</td>\n",
       "      <td>1958.0</td>\n",
       "    </tr>\n",
       "    <tr>\n",
       "      <th>4138</th>\n",
       "      <td>NaN</td>\n",
       "      <td>NaN</td>\n",
       "      <td>PUGATCH</td>\n",
       "      <td>1959.0</td>\n",
       "    </tr>\n",
       "    <tr>\n",
       "      <th>4139</th>\n",
       "      <td>NaN</td>\n",
       "      <td>NaN</td>\n",
       "      <td>REIS</td>\n",
       "      <td>1959.0</td>\n",
       "    </tr>\n",
       "    <tr>\n",
       "      <th>4144</th>\n",
       "      <td>NaN</td>\n",
       "      <td>NaN</td>\n",
       "      <td>ROBINSON</td>\n",
       "      <td>1970.0</td>\n",
       "    </tr>\n",
       "    <tr>\n",
       "      <th>4146</th>\n",
       "      <td>NaN</td>\n",
       "      <td>NaN</td>\n",
       "      <td>ROSEN</td>\n",
       "      <td>1972.0</td>\n",
       "    </tr>\n",
       "    <tr>\n",
       "      <th>4140</th>\n",
       "      <td>NaN</td>\n",
       "      <td>NaN</td>\n",
       "      <td>ROSENBLUM</td>\n",
       "      <td>1961.0</td>\n",
       "    </tr>\n",
       "    <tr>\n",
       "      <th>4147</th>\n",
       "      <td>NaN</td>\n",
       "      <td>NaN</td>\n",
       "      <td>SAVAGE</td>\n",
       "      <td>1969.0</td>\n",
       "    </tr>\n",
       "  </tbody>\n",
       "</table>\n",
       "</div>"
      ],
      "text/plain": [
       "     clean_first_name clean_middle_name clean_last_name  application_year\n",
       "3664          STEPHEN             ROLFE       DEPPERMAN            1970.0\n",
       "4096              NaN             DAVID        BURNBAUM            1972.0\n",
       "4110              NaN                 M         STEWART            1965.0\n",
       "4126              NaN               NaN          ALMOND            1962.0\n",
       "4127              NaN               NaN        ANDERSON            1961.0\n",
       "4129              NaN               NaN       BORNSTEIN            1960.0\n",
       "4130              NaN               NaN           BROWN            1961.0\n",
       "4132              NaN               NaN             GAY            1963.0\n",
       "4133              NaN               NaN        GOLDBERG            1963.0\n",
       "4134              NaN               NaN        GROSSMAN            1960.0\n",
       "4135              NaN               NaN          HANNAH            1963.0\n",
       "4136              NaN               NaN       HOLLANDER            1959.0\n",
       "4137              NaN               NaN            LANG            1958.0\n",
       "4138              NaN               NaN         PUGATCH            1959.0\n",
       "4139              NaN               NaN            REIS            1959.0\n",
       "4144              NaN               NaN        ROBINSON            1970.0\n",
       "4146              NaN               NaN           ROSEN            1972.0\n",
       "4140              NaN               NaN       ROSENBLUM            1961.0\n",
       "4147              NaN               NaN          SAVAGE            1969.0"
      ]
     },
     "execution_count": 95,
     "metadata": {},
     "output_type": "execute_result"
    }
   ],
   "source": [
    "full_apps2.loc[full_apps2.to_drop==1,  NAME_COLS+['application_year']]"
   ]
  },
  {
   "cell_type": "code",
   "execution_count": 96,
   "metadata": {
    "collapsed": true
   },
   "outputs": [],
   "source": [
    "full_apps3 = full_apps2.loc[full_apps2.to_drop==0]"
   ]
  },
  {
   "cell_type": "code",
   "execution_count": 97,
   "metadata": {
    "collapsed": true,
    "scrolled": true
   },
   "outputs": [],
   "source": [
    "# write to csv\n",
    "full_apps3.to_csv(os.path.join(APP_DATA_DIR, 'index_cards_deduped_fuzzy.csv'), index=False)\n",
    "full_apps3.to_pickle(os.path.join(PICKLE_DIR, 'index_cards_deduped_fuzzy.p'))\n"
   ]
  },
  {
   "cell_type": "code",
   "execution_count": 98,
   "metadata": {
    "collapsed": false,
    "scrolled": true
   },
   "outputs": [],
   "source": [
    "# also write out original raw index card (pre merge data set)\n",
    "all_app7.to_csv(os.path.join(APP_DATA_DIR, 'index_cards_raw.csv'), index=False)\n",
    "all_app7.to_pickle(os.path.join(PICKLE_DIR, 'index_cards_raw.p'))"
   ]
  },
  {
   "cell_type": "code",
   "execution_count": 99,
   "metadata": {
    "collapsed": false,
    "scrolled": true
   },
   "outputs": [
    {
     "data": {
      "text/html": [
       "<div>\n",
       "<table border=\"1\" class=\"dataframe\">\n",
       "  <thead>\n",
       "    <tr style=\"text-align: right;\">\n",
       "      <th></th>\n",
       "      <th>clean_first_name</th>\n",
       "      <th>clean_middle_name</th>\n",
       "      <th>clean_last_name</th>\n",
       "      <th>person_uuid</th>\n",
       "      <th>medical_school</th>\n",
       "    </tr>\n",
       "  </thead>\n",
       "  <tbody>\n",
       "    <tr>\n",
       "      <th>4148</th>\n",
       "      <td>EVAN</td>\n",
       "      <td>M</td>\n",
       "      <td>HERSH</td>\n",
       "      <td>4148</td>\n",
       "      <td>COLUMBIA UNIVERSITY COLLEGE OF PHYSICIANS AND ...</td>\n",
       "    </tr>\n",
       "  </tbody>\n",
       "</table>\n",
       "</div>"
      ],
      "text/plain": [
       "     clean_first_name clean_middle_name clean_last_name  person_uuid  \\\n",
       "4148             EVAN                 M           HERSH         4148   \n",
       "\n",
       "                                         medical_school  \n",
       "4148  COLUMBIA UNIVERSITY COLLEGE OF PHYSICIANS AND ...  "
      ]
     },
     "execution_count": 99,
     "metadata": {},
     "output_type": "execute_result"
    }
   ],
   "source": [
    "last_name='HERSH'\n",
    "\n",
    "full_apps2.loc[full_apps2.clean_last_name==last_name, NAME_COLS+[PERSON_ID, 'medical_school']]"
   ]
  },
  {
   "cell_type": "code",
   "execution_count": 100,
   "metadata": {
    "collapsed": false,
    "scrolled": true
   },
   "outputs": [
    {
     "name": "stdout",
     "output_type": "stream",
     "text": [
      "set(['FINKLESTEIN', 'HUNT', 'ROBINS'])\n"
     ]
    }
   ],
   "source": [
    "# do some sanity checks on the data\n",
    "all_last_names = set(all_app7.clean_last_name.values)\n",
    "merged_last_names = set(full_apps2.clean_last_name.values)\n",
    "diff_names = all_last_names - merged_last_names\n",
    "print diff_names"
   ]
  },
  {
   "cell_type": "code",
   "execution_count": 101,
   "metadata": {
    "collapsed": false,
    "scrolled": true
   },
   "outputs": [
    {
     "name": "stdout",
     "output_type": "stream",
     "text": [
      "['raw_uuid', 'raw_uuid_1', 'raw_uuid_2', 'raw_uuid_3'] ['application_year', 'application_year_1']\n"
     ]
    }
   ],
   "source": [
    "print UUID_COLS, APPLICATION_YEAR_COLS"
   ]
  },
  {
   "cell_type": "code",
   "execution_count": 102,
   "metadata": {
    "collapsed": false,
    "scrolled": true
   },
   "outputs": [],
   "source": [
    "missing_ppl = all_app7.loc[all_app7.clean_last_name.isin(diff_names), NAME_COLS+['raw_uuid', 'application_year']]"
   ]
  },
  {
   "cell_type": "code",
   "execution_count": 103,
   "metadata": {
    "collapsed": false,
    "scrolled": true
   },
   "outputs": [
    {
     "data": {
      "text/html": [
       "<div>\n",
       "<table border=\"1\" class=\"dataframe\">\n",
       "  <thead>\n",
       "    <tr style=\"text-align: right;\">\n",
       "      <th></th>\n",
       "      <th>clean_first_name</th>\n",
       "      <th>clean_middle_name</th>\n",
       "      <th>clean_last_name</th>\n",
       "    </tr>\n",
       "  </thead>\n",
       "  <tbody>\n",
       "    <tr>\n",
       "      <th>1090</th>\n",
       "      <td>JAMES</td>\n",
       "      <td>NaN</td>\n",
       "      <td>FINKELSTEIN</td>\n",
       "    </tr>\n",
       "    <tr>\n",
       "      <th>1804</th>\n",
       "      <td>ROBERT</td>\n",
       "      <td>D</td>\n",
       "      <td>HUNTER</td>\n",
       "    </tr>\n",
       "    <tr>\n",
       "      <th>3207</th>\n",
       "      <td>SANDER</td>\n",
       "      <td>NaN</td>\n",
       "      <td>ROBINSON</td>\n",
       "    </tr>\n",
       "  </tbody>\n",
       "</table>\n",
       "</div>"
      ],
      "text/plain": [
       "     clean_first_name clean_middle_name clean_last_name\n",
       "1090            JAMES               NaN     FINKELSTEIN\n",
       "1804           ROBERT                 D          HUNTER\n",
       "3207           SANDER               NaN        ROBINSON"
      ]
     },
     "execution_count": 103,
     "metadata": {},
     "output_type": "execute_result"
    }
   ],
   "source": [
    "full_apps.loc[full_apps.raw_uuid.isin(missing_ppl.raw_uuid) | full_apps.raw_uuid_1.isin(missing_ppl.raw_uuid), NAME_COLS]"
   ]
  },
  {
   "cell_type": "code",
   "execution_count": 104,
   "metadata": {
    "collapsed": false,
    "scrolled": true
   },
   "outputs": [
    {
     "data": {
      "text/html": [
       "<div>\n",
       "<table border=\"1\" class=\"dataframe\">\n",
       "  <thead>\n",
       "    <tr style=\"text-align: right;\">\n",
       "      <th></th>\n",
       "      <th>address</th>\n",
       "      <th>age</th>\n",
       "      <th>application_date</th>\n",
       "      <th>application_year</th>\n",
       "      <th>associate_program_entered</th>\n",
       "      <th>bob</th>\n",
       "      <th>ca</th>\n",
       "      <th>cc</th>\n",
       "      <th>citizenship</th>\n",
       "      <th>city</th>\n",
       "      <th>...</th>\n",
       "      <th>state</th>\n",
       "      <th>teaching</th>\n",
       "      <th>undergrad_year_grad</th>\n",
       "      <th>undergraduate_school</th>\n",
       "      <th>withdrawal</th>\n",
       "      <th>year_accepted</th>\n",
       "      <th>zip_code</th>\n",
       "      <th>clean_first_initial</th>\n",
       "      <th>clean_middle_initial</th>\n",
       "      <th>fuzzy_merge_col</th>\n",
       "    </tr>\n",
       "  </thead>\n",
       "  <tbody>\n",
       "    <tr>\n",
       "      <th>4311</th>\n",
       "      <td>445 E. 69th St.</td>\n",
       "      <td>NaN</td>\n",
       "      <td>1968-01-01</td>\n",
       "      <td>1968.0</td>\n",
       "      <td>NaN</td>\n",
       "      <td>0.0</td>\n",
       "      <td>1.0</td>\n",
       "      <td>1.0</td>\n",
       "      <td>NaN</td>\n",
       "      <td>New York</td>\n",
       "      <td>...</td>\n",
       "      <td>New York</td>\n",
       "      <td>1.0</td>\n",
       "      <td>NaN</td>\n",
       "      <td>NaN</td>\n",
       "      <td>-9.0</td>\n",
       "      <td>1970</td>\n",
       "      <td>10021.0</td>\n",
       "      <td>F</td>\n",
       "      <td>V</td>\n",
       "      <td>FRANCIS VINCENT CHISARI</td>\n",
       "    </tr>\n",
       "    <tr>\n",
       "      <th>233</th>\n",
       "      <td>445 East 69th Street</td>\n",
       "      <td>NaN</td>\n",
       "      <td>1968-01-01</td>\n",
       "      <td>1968.0</td>\n",
       "      <td>NaN</td>\n",
       "      <td>0.0</td>\n",
       "      <td>1.0</td>\n",
       "      <td>0.0</td>\n",
       "      <td>NaN</td>\n",
       "      <td>New York</td>\n",
       "      <td>...</td>\n",
       "      <td>New York</td>\n",
       "      <td>1.0</td>\n",
       "      <td>NaN</td>\n",
       "      <td>NaN</td>\n",
       "      <td>-9.0</td>\n",
       "      <td>1970.0</td>\n",
       "      <td>10021</td>\n",
       "      <td>F</td>\n",
       "      <td>V</td>\n",
       "      <td>FRANCIS VINCENT CHISARI</td>\n",
       "    </tr>\n",
       "  </tbody>\n",
       "</table>\n",
       "<p>2 rows × 74 columns</p>\n",
       "</div>"
      ],
      "text/plain": [
       "                   address  age application_date  application_year  \\\n",
       "4311       445 E. 69th St.  NaN       1968-01-01            1968.0   \n",
       "233   445 East 69th Street  NaN       1968-01-01            1968.0   \n",
       "\n",
       "     associate_program_entered  bob   ca   cc citizenship      city  \\\n",
       "4311                       NaN  0.0  1.0  1.0         NaN  New York   \n",
       "233                        NaN  0.0  1.0  0.0         NaN  New York   \n",
       "\n",
       "               ...                state teaching undergrad_year_grad  \\\n",
       "4311           ...             New York      1.0                 NaN   \n",
       "233            ...             New York      1.0                 NaN   \n",
       "\n",
       "     undergraduate_school withdrawal  year_accepted  zip_code  \\\n",
       "4311                  NaN       -9.0           1970   10021.0   \n",
       "233                   NaN       -9.0         1970.0     10021   \n",
       "\n",
       "     clean_first_initial  clean_middle_initial          fuzzy_merge_col  \n",
       "4311                   F                     V  FRANCIS VINCENT CHISARI  \n",
       "233                    F                     V  FRANCIS VINCENT CHISARI  \n",
       "\n",
       "[2 rows x 74 columns]"
      ]
     },
     "execution_count": 104,
     "metadata": {},
     "output_type": "execute_result"
    }
   ],
   "source": [
    "all_app7.loc[all_app7.clean_last_name=='CHISARI']"
   ]
  },
  {
   "cell_type": "code",
   "execution_count": null,
   "metadata": {
    "collapsed": true,
    "scrolled": true
   },
   "outputs": [],
   "source": []
  }
 ],
 "metadata": {
  "kernelspec": {
   "display_name": "Python 2",
   "language": "python",
   "name": "python2"
  },
  "language_info": {
   "codemirror_mode": {
    "name": "ipython",
    "version": 2
   },
   "file_extension": ".py",
   "mimetype": "text/x-python",
   "name": "python",
   "nbconvert_exporter": "python",
   "pygments_lexer": "ipython2",
   "version": "2.7.12"
  }
 },
 "nbformat": 4,
 "nbformat_minor": 1
}
