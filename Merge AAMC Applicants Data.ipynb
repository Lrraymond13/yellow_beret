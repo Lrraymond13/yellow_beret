{
 "cells": [
  {
   "cell_type": "code",
   "execution_count": 1,
   "metadata": {
    "collapsed": false
   },
   "outputs": [],
   "source": [
    "# import and merge NIH applicants with AAMC data to get AAMC unique id and use info to fill in name information\n",
    "from collections import Counter\n",
    "import funcy\n",
    "from fuzzywuzzy import fuzz\n",
    "import numpy as np \n",
    "import pandas as pd \n",
    "import os\n",
    "\n",
    "from data_cleaning_functions import (trans_remov_punc, standardize_whitespace, remove_punc, remove_suffix_from_last_name,\n",
    "                                     clean_names, has_award, has_suffix, get_suffix, replace_last_name, \n",
    "                                     is_year_range, str_sim, clean_med_school, clean_std_college_name, long_form_date, \n",
    "                                    correct_mispellings)\n",
    "\n",
    "from dev import (\n",
    "    APP_DATA_DIR, SUM_STAT_DIR, ATT_DATA_DIR, CARD_DATA_DIR, CORRECTIONS_DIR, AWARDS_KEYWORDS, NAME_COLS, RAW_NAME_COLS, \n",
    "    RAW_CARD_ID, RAW_INDEX_IDS, PERSON_APPLICATION_ID, PERSON_ID, NIH_ID, FEMALE_FIRST_NAMES,\n",
    "    PICKLE_DIR, AAMC_DATA_DIR)\n",
    "\n",
    "from merging_functions import *\n",
    "\n",
    "OUTPUT_CSV = False \n",
    "\n",
    "PERSONAL_INFO = [\n",
    "    'clean_first_name', 'clean_last_name', 'clean_middle_name',\n",
    "    'date_of_birth', 'medical_school', 'clean_college_trans']\n",
    "\n",
    "\n",
    "# load autoreload extension\n",
    "%load_ext autoreload\n",
    "%autoreload 2"
   ]
  },
  {
   "cell_type": "code",
   "execution_count": 2,
   "metadata": {
    "collapsed": true
   },
   "outputs": [],
   "source": [
    "IMPORTANT_COLS = [NIH_ID, PERSON_ID, 'aamc_id', 'application_year_min', 'application_year_max', 'eod_year',\n",
    "                  'clean_first_name', 'clean_middle_name', \n",
    "                 'clean_last_name', 'control_flag', 'time_period_flag', 'year_accepted',\n",
    "                  'rejected', 'rejection_date', 'clean_college', 'medical_school',\n",
    "                'residency_dates', 'residency_dates_NIH', 'internship_dates', 'internship_dates_NIH',\n",
    "                  'medschool_year_grad', 'yobb',\n",
    "                  'is_female', 'is_foreign', 'number_applications', \n",
    "                 'NIH_first_name', 'NIH_middle_name', 'NIH_last_name', 'NIH_medical_school']"
   ]
  },
  {
   "cell_type": "code",
   "execution_count": 3,
   "metadata": {
    "collapsed": false
   },
   "outputs": [
    {
     "name": "stdout",
     "output_type": "stream",
     "text": [
      "~/Dropbox (MIT)/yellowberets/lindsey/intermediate_data/aamc_data\n"
     ]
    }
   ],
   "source": [
    "print AAMC_DATA_DIR"
   ]
  },
  {
   "cell_type": "code",
   "execution_count": 4,
   "metadata": {
    "collapsed": false
   },
   "outputs": [],
   "source": [
    "# import aamc data file\n",
    "aamc = pd.read_csv(os.path.join(AAMC_DATA_DIR, 'aamc_deduped_raw.csv'))\n",
    "\n",
    "ln = 'LAWLEY'\n",
    "\n",
    "aamc.loc[aamc.clean_last_name==ln]"
   ]
  },
  {
   "cell_type": "code",
   "execution_count": 5,
   "metadata": {
    "collapsed": false
   },
   "outputs": [
    {
     "data": {
      "text/html": [
       "<div>\n",
       "<table border=\"1\" class=\"dataframe\">\n",
       "  <thead>\n",
       "    <tr style=\"text-align: right;\">\n",
       "      <th></th>\n",
       "      <th>Unnamed: 0</th>\n",
       "      <th>aamc_id</th>\n",
       "      <th>aamc_id_2</th>\n",
       "      <th>birth_country_cd</th>\n",
       "      <th>birth_country_desc</th>\n",
       "      <th>birth_dt</th>\n",
       "      <th>birth_state_cd</th>\n",
       "      <th>clean_first_name</th>\n",
       "      <th>clean_last_name</th>\n",
       "      <th>clean_middle_initial</th>\n",
       "      <th>...</th>\n",
       "      <th>degree_country_1</th>\n",
       "      <th>degree_inst_1_desc</th>\n",
       "      <th>degree_type</th>\n",
       "      <th>degree_year_1</th>\n",
       "      <th>fname</th>\n",
       "      <th>ident_cat_desc</th>\n",
       "      <th>lname</th>\n",
       "      <th>mname</th>\n",
       "      <th>suffix_cd</th>\n",
       "      <th>yobb</th>\n",
       "    </tr>\n",
       "  </thead>\n",
       "  <tbody>\n",
       "    <tr>\n",
       "      <th>0</th>\n",
       "      <td>0</td>\n",
       "      <td>13758974</td>\n",
       "      <td>13707332.0</td>\n",
       "      <td>NaN</td>\n",
       "      <td>NaN</td>\n",
       "      <td>NaN</td>\n",
       "      <td>NaN</td>\n",
       "      <td>KEITH</td>\n",
       "      <td>BALDWIN</td>\n",
       "      <td>NaN</td>\n",
       "      <td>...</td>\n",
       "      <td>NaN</td>\n",
       "      <td>NaN</td>\n",
       "      <td>MD</td>\n",
       "      <td>NaN</td>\n",
       "      <td>Keith</td>\n",
       "      <td>WHITE</td>\n",
       "      <td>Baldwin</td>\n",
       "      <td>NaN</td>\n",
       "      <td>NaN</td>\n",
       "      <td>NaN</td>\n",
       "    </tr>\n",
       "    <tr>\n",
       "      <th>1</th>\n",
       "      <td>1</td>\n",
       "      <td>12416381</td>\n",
       "      <td>10967027.0</td>\n",
       "      <td>NaN</td>\n",
       "      <td>NaN</td>\n",
       "      <td>10/19/1946</td>\n",
       "      <td>NaN</td>\n",
       "      <td>MARK</td>\n",
       "      <td>BROWN</td>\n",
       "      <td>S</td>\n",
       "      <td>...</td>\n",
       "      <td>NaN</td>\n",
       "      <td>NaN</td>\n",
       "      <td>MD</td>\n",
       "      <td>NaN</td>\n",
       "      <td>Mark</td>\n",
       "      <td>NaN</td>\n",
       "      <td>Brown</td>\n",
       "      <td>S</td>\n",
       "      <td>NaN</td>\n",
       "      <td>1946.0</td>\n",
       "    </tr>\n",
       "    <tr>\n",
       "      <th>2</th>\n",
       "      <td>2</td>\n",
       "      <td>12222187</td>\n",
       "      <td>12154436.0</td>\n",
       "      <td>NaN</td>\n",
       "      <td>NaN</td>\n",
       "      <td>NaN</td>\n",
       "      <td>NaN</td>\n",
       "      <td>JAMES</td>\n",
       "      <td>COLLINS</td>\n",
       "      <td>NaN</td>\n",
       "      <td>...</td>\n",
       "      <td>NaN</td>\n",
       "      <td>NaN</td>\n",
       "      <td>MD</td>\n",
       "      <td>1965.0</td>\n",
       "      <td>James</td>\n",
       "      <td>BLACK</td>\n",
       "      <td>Collins</td>\n",
       "      <td>NaN</td>\n",
       "      <td>NaN</td>\n",
       "      <td>NaN</td>\n",
       "    </tr>\n",
       "    <tr>\n",
       "      <th>3</th>\n",
       "      <td>3</td>\n",
       "      <td>13217221</td>\n",
       "      <td>12603243.0</td>\n",
       "      <td>NaN</td>\n",
       "      <td>NaN</td>\n",
       "      <td>NaN</td>\n",
       "      <td>NaN</td>\n",
       "      <td>EDWARD</td>\n",
       "      <td>COOPER</td>\n",
       "      <td>C</td>\n",
       "      <td>...</td>\n",
       "      <td>NaN</td>\n",
       "      <td>NaN</td>\n",
       "      <td>MD</td>\n",
       "      <td>NaN</td>\n",
       "      <td>Edward</td>\n",
       "      <td>WHITE</td>\n",
       "      <td>Cooper</td>\n",
       "      <td>C</td>\n",
       "      <td>NaN</td>\n",
       "      <td>NaN</td>\n",
       "    </tr>\n",
       "    <tr>\n",
       "      <th>4</th>\n",
       "      <td>4</td>\n",
       "      <td>12881504</td>\n",
       "      <td>10967675.0</td>\n",
       "      <td>NaN</td>\n",
       "      <td>NaN</td>\n",
       "      <td>NaN</td>\n",
       "      <td>NaN</td>\n",
       "      <td>RUDOLPH</td>\n",
       "      <td>CUMBERBATCH</td>\n",
       "      <td>NaN</td>\n",
       "      <td>...</td>\n",
       "      <td>USA</td>\n",
       "      <td>HOWARD UNIVERSITY COLLEGE OF MEDICINE</td>\n",
       "      <td>MD</td>\n",
       "      <td>1959.0</td>\n",
       "      <td>Rudolph</td>\n",
       "      <td>BLACK</td>\n",
       "      <td>Cumberbatch</td>\n",
       "      <td>NaN</td>\n",
       "      <td>NaN</td>\n",
       "      <td>NaN</td>\n",
       "    </tr>\n",
       "  </tbody>\n",
       "</table>\n",
       "<p>5 rows × 21 columns</p>\n",
       "</div>"
      ],
      "text/plain": [
       "   Unnamed: 0   aamc_id   aamc_id_2 birth_country_cd birth_country_desc  \\\n",
       "0           0  13758974  13707332.0              NaN                NaN   \n",
       "1           1  12416381  10967027.0              NaN                NaN   \n",
       "2           2  12222187  12154436.0              NaN                NaN   \n",
       "3           3  13217221  12603243.0              NaN                NaN   \n",
       "4           4  12881504  10967675.0              NaN                NaN   \n",
       "\n",
       "     birth_dt birth_state_cd clean_first_name clean_last_name  \\\n",
       "0         NaN            NaN            KEITH         BALDWIN   \n",
       "1  10/19/1946            NaN             MARK           BROWN   \n",
       "2         NaN            NaN            JAMES         COLLINS   \n",
       "3         NaN            NaN           EDWARD          COOPER   \n",
       "4         NaN            NaN          RUDOLPH     CUMBERBATCH   \n",
       "\n",
       "  clean_middle_initial   ...   degree_country_1  \\\n",
       "0                  NaN   ...                NaN   \n",
       "1                    S   ...                NaN   \n",
       "2                  NaN   ...                NaN   \n",
       "3                    C   ...                NaN   \n",
       "4                  NaN   ...                USA   \n",
       "\n",
       "                      degree_inst_1_desc degree_type degree_year_1    fname  \\\n",
       "0                                    NaN          MD           NaN    Keith   \n",
       "1                                    NaN          MD           NaN     Mark   \n",
       "2                                    NaN          MD        1965.0    James   \n",
       "3                                    NaN          MD           NaN   Edward   \n",
       "4  HOWARD UNIVERSITY COLLEGE OF MEDICINE          MD        1959.0  Rudolph   \n",
       "\n",
       "  ident_cat_desc        lname mname suffix_cd    yobb  \n",
       "0          WHITE      Baldwin   NaN       NaN     NaN  \n",
       "1            NaN        Brown     S       NaN  1946.0  \n",
       "2          BLACK      Collins   NaN       NaN     NaN  \n",
       "3          WHITE       Cooper     C       NaN     NaN  \n",
       "4          BLACK  Cumberbatch   NaN       NaN     NaN  \n",
       "\n",
       "[5 rows x 21 columns]"
      ]
     },
     "execution_count": 5,
     "metadata": {},
     "output_type": "execute_result"
    }
   ],
   "source": [
    "aamc.head()"
   ]
  },
  {
   "cell_type": "code",
   "execution_count": 6,
   "metadata": {
    "collapsed": false
   },
   "outputs": [],
   "source": [
    "# read in applicant/nih merged data set\n",
    "apps = pd.read_csv(os.path.join(APP_DATA_DIR, 'fuzzy_all_apps_plus_NIH_info.csv' ))"
   ]
  },
  {
   "cell_type": "code",
   "execution_count": 7,
   "metadata": {
    "collapsed": false
   },
   "outputs": [],
   "source": [
    "apps.loc[(apps.clean_last_name=='FALCHUK')&(apps.clean_first_name=='MYRON'), 'clean_first_name'] = 'Z'\n",
    "apps.loc[(apps.clean_last_name=='BLAYLOCK')&(apps.clean_first_name=='KENNETH'), 'clean_first_name'] = 'W'"
   ]
  },
  {
   "cell_type": "code",
   "execution_count": 8,
   "metadata": {
    "collapsed": false
   },
   "outputs": [],
   "source": [
    "# add middle_initial column"
   ]
  },
  {
   "cell_type": "code",
   "execution_count": 9,
   "metadata": {
    "collapsed": false,
    "scrolled": true
   },
   "outputs": [
    {
     "name": "stderr",
     "output_type": "stream",
     "text": [
      "/home/lraymond/MIT/Azoulay_2016/yellow_berets/yb/local/lib/python2.7/site-packages/pandas/core/ops.py:683: UnicodeWarning: Unicode equal comparison failed to convert both arguments to Unicode - interpreting them as being unequal\n",
      "  result = lib.scalar_compare(x, y, op)\n"
     ]
    },
    {
     "name": "stdout",
     "output_type": "stream",
     "text": [
      "ISTANBUL ÜNIVERSITESI ISTANBUL TIP FAKüLTESI\n",
      "TEHRAN UNIVERSITY OF MEDICAL SCIENCES SCHOOL OF MEDICINE\n",
      "ISTANBUL ÜNIVERSITESI ISTANBUL TIP FAKüLTESI\n",
      "THE UNIVERSITY OF TOLEDO COLLEGE OF MEDICINE\n",
      "THE UNIVERSITY OF TOLEDO COLLEGE OF MEDICINE\n"
     ]
    },
    {
     "name": "stderr",
     "output_type": "stream",
     "text": [
      "/home/lraymond/MIT/Azoulay_2016/yellow_berets/yb/local/lib/python2.7/site-packages/pandas/indexes/base.py:1237: UnicodeWarning: Unicode equal comparison failed to convert both arguments to Unicode - interpreting them as being unequal\n",
      "  return key in self._engine\n"
     ]
    },
    {
     "name": "stdout",
     "output_type": "stream",
     "text": [
      "UNIVERSITà DEGLI STUDI DI BOLOGNA SCUOLA DI MEDICINA E CHIRURGIA\n",
      "UNIVERSIDAD NACIONAL AUTóNOMA DE MéXICO FACULTAD DE MEDICINA\n",
      "THE UNIVERSITY OF TOLEDO COLLEGE OF MEDICINE\n",
      "INDIA FREE STANDING INST\n",
      "NORTHEAST OHIO MEDICAL UNIVERSITY\n",
      "PUSAN NATIONAL UNIVERSITY COLLEGE OF MEDICINE\n",
      "THE UNIVERSITY OF TOLEDO COLLEGE OF MEDICINE\n",
      "SIRIRAJ HOSPITAL FACULTY OF MEDICINE\n",
      "THE UNIVERSITY OF TOLEDO COLLEGE OF MEDICINE\n",
      "THE UNIVERSITY OF TOLEDO COLLEGE OF MEDICINE\n",
      "THE UNIVERSITY OF TOLEDO COLLEGE OF MEDICINE\n",
      "UNIVERSITY OF MEDICINE AND PHARMACY OF HO CHI MINH CITY\n",
      "THE UNIVERSITY OF TOLEDO COLLEGE OF MEDICINE\n",
      "THE UNIVERSITY OF TOLEDO COLLEGE OF MEDICINE\n",
      "THE UNIVERSITY OF TOLEDO COLLEGE OF MEDICINE\n",
      "THE UNIVERSITY OF TOLEDO COLLEGE OF MEDICINE\n",
      "THE UNIVERSITY OF TOLEDO COLLEGE OF MEDICINE\n",
      "KING EDWARD MEDICAL UNIVERSITY\n",
      "UNIVERSITà DI PISA FACOLTà DI MEDICINA E CHIRURGIA\n",
      "THE UNIVERSITY OF TOLEDO COLLEGE OF MEDICINE\n",
      "TEHRAN UNIVERSITY OF MEDICAL SCIENCES SCHOOL OF MEDICINE\n",
      "UNIVERSIDADE FEDERAL DE MINAS GERAIS UFMG FACULDADE DE MEDICINA\n",
      "UNIVERSIDAD NACIONAL DE COLOMBIA FACULTAD DE MEDICINA\n",
      "THE UNIVERSITY OF TOLEDO COLLEGE OF MEDICINE\n",
      "UNIVERSITY OF BAGHDAD COLLEGE OF MEDICINE\n",
      "THE UNIVERSITY OF TOLEDO COLLEGE OF MEDICINE\n",
      "UNIVERSIDAD DE ANTIOQUIA FACULTAD DE MEDICINA\n",
      "SEOUL NATIONAL UNIVERSITY COLLEGE OF MEDICINE\n",
      "THE UNIVERSITY OF TOLEDO COLLEGE OF MEDICINE\n",
      "THE UNIVERSITY OF TOLEDO COLLEGE OF MEDICINE\n",
      "TEHRAN UNIVERSITY OF MEDICAL SCIENCES SCHOOL OF MEDICINE\n",
      "TRINITY COLLEGE DUBLIN SCHOOL OF MEDICINE\n",
      "THE UNIVERSITY OF TOLEDO COLLEGE OF MEDICINE\n",
      "THE UNIVERSITY OF TOLEDO COLLEGE OF MEDICINE\n",
      "SAN JUAN CITY HOSPITAL PROGRAM\n",
      "UNIVERSITAT DE BARCELONA FACULTAT DE MEDICINA\n",
      "LIAQUAT UNIVERSITY OF MEDICAL HEALTH SCIENCES JAMSHORO\n",
      "PUSAN NATIONAL UNIVERSITY COLLEGE OF MEDICINE\n",
      "FACULTé DE MéDECINE MONTPELLIER NîMES\n",
      "UNIVERSITà DEGLI STUDI DI BOLOGNA SCUOLA DI MEDICINA E CHIRURGIA\n",
      "UNIVERSITY OF THE WITWATERSRAND FACULTY OF HEALTH SCIENCES\n",
      "THE UNIVERSITY OF TOLEDO COLLEGE OF MEDICINE\n",
      "THE UNIVERSITY OF TOLEDO COLLEGE OF MEDICINE\n",
      "THE UNIVERSITY OF TOLEDO COLLEGE OF MEDICINE\n",
      "FIRST MOSCOW STATE MEDICAL UNIVERSITY NAMED AFTER I M SECHENOV\n",
      "THE UNIVERSITY OF TOLEDO COLLEGE OF MEDICINE\n",
      "SEOUL NATIONAL UNIVERSITY COLLEGE OF MEDICINE\n",
      "WRIGHT STATE UNIVERSITY BOONSHOFT SCHOOL OF MEDICINE\n",
      "UPPSALA UNIVERSITET MEDICINSKA FAKULTETEN\n",
      "UNIVERSITY COLLEGE DUBLIN SCHOOL OF MEDICINE AND MEDICAL SCIENCE\n",
      "THE UNIVERSITY OF TOLEDO COLLEGE OF MEDICINE\n",
      "UNIVERSITY OF THE WITWATERSRAND FACULTY OF HEALTH SCIENCES\n",
      "THE UNIVERSITY OF TOLEDO COLLEGE OF MEDICINE\n",
      "THE UNIVERSITY OF TOLEDO COLLEGE OF MEDICINE\n",
      "TEXAS A M HEALTH SCIENCE CENTER COLLEGE OF MEDICINE\n",
      "UNIVERSITY OF CAIRO FACULTY OF MEDICINE\n",
      "LI KA SHING FACULTY OF MEDICINE UNIVERSITY OF HONG KONG\n",
      "UNIVERSITY OF SANTO TOMAS FACULTY OF MEDICINE AND SURGERY\n",
      "THE UNIVERSITY OF TOLEDO COLLEGE OF MEDICINE\n",
      "TEXAS A M HEALTH SCIENCE CENTER COLLEGE OF MEDICINE\n",
      "THE UNIVERSITY OF TOLEDO COLLEGE OF MEDICINE\n",
      "THE UNIVERSITY OF TOLEDO COLLEGE OF MEDICINE\n",
      "THE UNIVERSITY OF TOLEDO COLLEGE OF MEDICINE\n",
      "THE UNIVERSITY OF TOLEDO COLLEGE OF MEDICINE\n",
      "THE UNIVERSITY OF TOLEDO COLLEGE OF MEDICINE\n",
      "TEHRAN UNIVERSITY OF MEDICAL SCIENCES SCHOOL OF MEDICINE\n",
      "NATIONAL TAIWAN UNIVERSITY COLLEGE OF MEDICINE\n",
      "TAIPEI MEDICAL UNIVERSITY COLLEGE OF MEDICINE\n",
      "UNIVERSIDADE ESTADUAL DE CAMPINAS UNICAMP FACULDADE DE CIêNCIAS MéDICAS\n",
      "NATIONAL TAIWAN UNIVERSITY COLLEGE OF MEDICINE\n",
      "THE UNIVERSITY OF TOLEDO COLLEGE OF MEDICINE\n",
      "NATIONAL TAIWAN UNIVERSITY COLLEGE OF MEDICINE\n",
      "THE UNIVERSITY OF TOLEDO COLLEGE OF MEDICINE\n",
      "UNIVERSITé CATHOLIQUE DE LOUVAIN FACULTé DE MéDECINE ET DE MéDECINE DENTAIRE\n",
      "THE UNIVERSITY OF TOLEDO COLLEGE OF MEDICINE\n",
      "THE UNIVERSITY OF TOLEDO COLLEGE OF MEDICINE\n",
      "THE UNIVERSITY OF TOLEDO COLLEGE OF MEDICINE\n",
      "HADASSAH MEDICAL SCHOOL\n"
     ]
    }
   ],
   "source": [
    "# try to merge on first, middle initial and last name\n",
    "apps2 = apps.sort_values(['clean_first_name', 'clean_middle_initial', 'clean_last_name', 'medschool_year_grad'])\n",
    "\n",
    "aamc2 = aamc.sort_values(['clean_first_name', 'clean_middle_initial', 'clean_last_name', 'degree_year_1'])\n",
    "aamc2.loc[:, 'medical_school'] = aamc2.degree_inst_1_desc.apply(clean_med_school)"
   ]
  },
  {
   "cell_type": "code",
   "execution_count": 10,
   "metadata": {
    "collapsed": false
   },
   "outputs": [],
   "source": [
    "aamc_counter = Counter(aamc2.clean_last_name.values)\n",
    "apps_counter = Counter(apps2.clean_last_name.values)\n",
    "apps2['last_name_counts'] = apps2.clean_last_name.apply(lambda x: apps_counter[x])\n",
    "aamc2['last_name_counts'] = aamc2.clean_last_name.apply(lambda x: apps_counter[x])"
   ]
  },
  {
   "cell_type": "code",
   "execution_count": 11,
   "metadata": {
    "collapsed": false
   },
   "outputs": [],
   "source": [
    "aamc3 = aamc2[aamc2.last_name_counts>0]"
   ]
  },
  {
   "cell_type": "code",
   "execution_count": 12,
   "metadata": {
    "collapsed": false
   },
   "outputs": [
    {
     "name": "stderr",
     "output_type": "stream",
     "text": [
      "/home/lraymond/MIT/Azoulay_2016/yellow_berets/yb/lib/python2.7/site-packages/ipykernel/__main__.py:2: SettingWithCopyWarning: \n",
      "A value is trying to be set on a copy of a slice from a DataFrame.\n",
      "Try using .loc[row_indexer,col_indexer] = value instead\n",
      "\n",
      "See the caveats in the documentation: http://pandas.pydata.org/pandas-docs/stable/indexing.html#indexing-view-versus-copy\n",
      "  from ipykernel import kernelapp as app\n"
     ]
    }
   ],
   "source": [
    "aamc3['fuzzy_merge_col'] = aamc3[\n",
    "    ['clean_first_name', 'clean_middle_initial', 'clean_last_name']].apply(create_str_merge, axis=1)\n",
    "apps2['fuzzy_merge_col'] = apps2[\n",
    "    ['clean_first_name', 'clean_middle_initial', 'clean_last_name']].apply(create_str_merge, axis=1)\n",
    "# match1 = df_get_closest_matches(apps2, aamc2.iloc[:500,:], 'fuzzy_merge_col', suffixes=['_x', '_y']) "
   ]
  },
  {
   "cell_type": "code",
   "execution_count": 13,
   "metadata": {
    "collapsed": false
   },
   "outputs": [
    {
     "name": "stderr",
     "output_type": "stream",
     "text": [
      "/home/lraymond/MIT/Azoulay_2016/yellow_berets/yb/lib/python2.7/site-packages/ipykernel/__main__.py:1: SettingWithCopyWarning: \n",
      "A value is trying to be set on a copy of a slice from a DataFrame.\n",
      "Try using .loc[row_indexer,col_indexer] = value instead\n",
      "\n",
      "See the caveats in the documentation: http://pandas.pydata.org/pandas-docs/stable/indexing.html#indexing-view-versus-copy\n",
      "  if __name__ == '__main__':\n"
     ]
    }
   ],
   "source": [
    "aamc3['clean_first_initial'] = aamc3.clean_first_name.apply(lambda x: np.nan if pd.isnull(x) else x[0])"
   ]
  },
  {
   "cell_type": "code",
   "execution_count": 14,
   "metadata": {
    "collapsed": false
   },
   "outputs": [],
   "source": [
    "match1 = pd.merge(left=apps2, right=aamc3, on='fuzzy_merge_col', how='inner')"
   ]
  },
  {
   "cell_type": "code",
   "execution_count": 15,
   "metadata": {
    "collapsed": false
   },
   "outputs": [],
   "source": [
    "def check_match(row):\n",
    "    if row['dob_app_diff'] < 20 or row['dob_app_diff'] > 30:\n",
    "        return 0\n",
    "    if not pd.isnull(\n",
    "        row['medschool_year_grad']) and not pd.isnull(\n",
    "            row['degree_year_1']) and row['medschool_year_grad'] != row['degree_year_1']:\n",
    "        return 0\n",
    "    if row['medical_school_sim'] < 90:\n",
    "        return 0\n",
    "    if row['clean_first_initial_x'] == row['clean_first_initial_y']:\n",
    "        if row['clean_middle_name_x'] and row['clean_middle_name_y'] and row['clean_middle_name_sim'] > 70:\n",
    "            return 1\n",
    "    if row['clean_first_name_sim'] < 70:\n",
    "        return 0\n",
    "    if pd.isnull(\n",
    "        row['medical_school_x']) or pd.isnull(row['medical_school_y']):\n",
    "        if row['clean_middle_name_sim'] > 70 and row['clean_first_initial_x'] == row['clean_first_initial_y']:\n",
    "            return 1\n",
    "        else:\n",
    "            return 0\n",
    "    return 1"
   ]
  },
  {
   "cell_type": "code",
   "execution_count": 16,
   "metadata": {
    "collapsed": false
   },
   "outputs": [],
   "source": [
    "def get_dob_app_diff(row):\n",
    "    return row['application_year'] - row['yobb']"
   ]
  },
  {
   "cell_type": "code",
   "execution_count": 17,
   "metadata": {
    "collapsed": false
   },
   "outputs": [],
   "source": [
    "match1['dob_app_diff'] = match1.apply(get_dob_app_diff, axis=1)\n",
    "\n",
    "feature_dict = {\n",
    "    'clean_first_name': get_name_str_sim,\n",
    "    'clean_middle_name': get_name_str_sim,\n",
    "    'clean_last_name': get_name_str_sim,\n",
    "    'medical_school': get_name_str_sim,\n",
    "}\n",
    "\n",
    "match2 = add_similarity_features(match1, feature_dict, check_match, suffixes=['_x', '_y'])\n",
    "\n",
    "def filter_one_match_per_group(df, dedupe_col, sim_cols):\n",
    "    # to merge cols should be a dict the names of the extra cols to merge in\n",
    "    # values should be col names to rename\n",
    "    # sim cols should be name of the columns to use as features\n",
    "    # sim mask should be mask that accounts as actual mask\n",
    "    # dedupe col is name of col to dedupe on\n",
    "\n",
    "    def count_matches(id_list_arr):\n",
    "        # for each id, make sure matched on 1x in data set\n",
    "        # should be applied with rolling apply so takes in a dataframe and must return single value\n",
    "        # unpack already matched ids from string\n",
    "        current_id1 = id_list_arr[-1]\n",
    "        other_matches = id_list_arr[:-1]\n",
    "        is_dup = np.any(other_matches[:] == current_id1)\n",
    "        if is_dup:\n",
    "            return True\n",
    "        return False\n",
    "\n",
    "    # for each uuid, check for duplicates and choose best match based on sim cols\n",
    "    # order of the sim cols should be with most important first\n",
    "    dup_flag = '{}_duplicate'.format(dedupe_col)\n",
    "    df[dup_flag] = 0\n",
    "    df.loc[:, dup_flag] = df[\n",
    "        dedupe_col].expanding(center=False, min_periods=0).apply(func=count_matches)\n",
    "\n",
    "    df_matches = df[df['is_match'] == 1].sort_values([dedupe_col] + sim_cols, ascending=False)\n",
    "    return df_matches.drop_duplicates([dedupe_col], keep='first')"
   ]
  },
  {
   "cell_type": "code",
   "execution_count": 18,
   "metadata": {
    "collapsed": false
   },
   "outputs": [
    {
     "data": {
      "text/plain": [
       "(1747, 142)"
      ]
     },
     "execution_count": 18,
     "metadata": {},
     "output_type": "execute_result"
    }
   ],
   "source": [
    "match3 = filter_one_match_per_group(match2, PERSON_ID, sim_cols=['clean_first_name_sim', 'clean_last_name_sim', 'medical_school_sim'])\n",
    "match4 = filter_one_match_per_group(match3, 'aamc_id', sim_cols=['clean_first_name_sim', 'clean_last_name_sim', 'medical_school_sim'])\n",
    "match4.shape"
   ]
  },
  {
   "cell_type": "code",
   "execution_count": 19,
   "metadata": {
    "collapsed": false
   },
   "outputs": [
    {
     "name": "stdout",
     "output_type": "stream",
     "text": [
      "(12911, 25)\n",
      "(2359, 110)\n"
     ]
    }
   ],
   "source": [
    "nm_aamc = get_nonmatched(df=aamc3, id_colname='aamc_id', matched_ids=match4.aamc_id.values)\n",
    "\n",
    "nm_apps = get_nonmatched(df=apps2, id_colname=PERSON_ID, matched_ids=match4[PERSON_ID].values)"
   ]
  },
  {
   "cell_type": "code",
   "execution_count": 20,
   "metadata": {
    "collapsed": false
   },
   "outputs": [
    {
     "name": "stdout",
     "output_type": "stream",
     "text": [
      "(2365, 134)\n"
     ]
    }
   ],
   "source": [
    "first_last_matches = pd.merge(\n",
    "    left=nm_apps,\n",
    "    right = nm_aamc,\n",
    "    left_on=['clean_last_name', 'medschool_year_grad'],\n",
    "    right_on=['clean_last_name', 'degree_year_1'],\n",
    "    how='inner'\n",
    ")\n",
    "print first_last_matches.shape"
   ]
  },
  {
   "cell_type": "code",
   "execution_count": 21,
   "metadata": {
    "collapsed": false
   },
   "outputs": [],
   "source": [
    "first_last_matches['dob_app_diff'] = first_last_matches.apply(get_dob_app_diff, axis=1)\n",
    "\n",
    "feature_dict = {\n",
    "    'clean_first_name': get_name_str_sim,\n",
    "    'clean_middle_name': get_name_str_sim,\n",
    "    'medical_school': get_name_str_sim,\n",
    "}\n",
    "\n",
    "first_last_matches2 = add_similarity_features(first_last_matches, feature_dict, check_match, suffixes=['_x', '_y'])\n",
    "fm2 = first_last_matches2[first_last_matches2.is_match==1]"
   ]
  },
  {
   "cell_type": "code",
   "execution_count": 41,
   "metadata": {
    "collapsed": false
   },
   "outputs": [],
   "source": [
    "# mark GREGORY WALSH and WILLIAM WILLIAMS as NOT matches\n",
    "fm2.loc[\n",
    "    (fm2.clean_first_name_x.isin(['GREGORY', 'WILLIAM'])) & (fm2.clean_last_name.isin(['WILLIAMS', 'WALSH'])), 'is_match'] = 0"
   ]
  },
  {
   "cell_type": "code",
   "execution_count": 42,
   "metadata": {
    "collapsed": false
   },
   "outputs": [
    {
     "name": "stderr",
     "output_type": "stream",
     "text": [
      "/home/lraymond/MIT/Azoulay_2016/yellow_berets/yb/lib/python2.7/site-packages/ipykernel/__main__.py:33: SettingWithCopyWarning: \n",
      "A value is trying to be set on a copy of a slice from a DataFrame.\n",
      "Try using .loc[row_indexer,col_indexer] = value instead\n",
      "\n",
      "See the caveats in the documentation: http://pandas.pydata.org/pandas-docs/stable/indexing.html#indexing-view-versus-copy\n"
     ]
    }
   ],
   "source": [
    "fm3 = filter_one_match_per_group(fm2, PERSON_ID, sim_cols=['clean_first_name_sim', 'medical_school_sim'])\n",
    "fm4 = filter_one_match_per_group(fm3, 'aamc_id', sim_cols=['clean_first_name_sim', 'medical_school_sim'])"
   ]
  },
  {
   "cell_type": "code",
   "execution_count": 43,
   "metadata": {
    "collapsed": false
   },
   "outputs": [
    {
     "data": {
      "text/plain": [
       "(331, 141)"
      ]
     },
     "execution_count": 43,
     "metadata": {},
     "output_type": "execute_result"
    }
   ],
   "source": [
    "fm4.shape"
   ]
  },
  {
   "cell_type": "code",
   "execution_count": 44,
   "metadata": {
    "collapsed": false
   },
   "outputs": [
    {
     "name": "stdout",
     "output_type": "stream",
     "text": [
      "['fuzzy_merge_col_x', 'fuzzy_merge_col_y']\n",
      "['clean_last_name_sim', 'clean_last_name_x', 'clean_last_name_y', 'fuzzy_merge_col']\n"
     ]
    }
   ],
   "source": [
    "print sorted(set(fm4.columns) - set(match4.columns))\n",
    "print sorted(set(match4.columns) - set(fm4.columns))"
   ]
  },
  {
   "cell_type": "code",
   "execution_count": 45,
   "metadata": {
    "collapsed": false
   },
   "outputs": [],
   "source": [
    "def consolidate_cols(row):\n",
    "    # each row comes in as a series\n",
    "    NULL_STRINGS = ['UNKNOWN', 'OTHER']\n",
    "    row[row.isin(NULL_STRINGS)]=np.nan\n",
    "    non_nulls = row[~pd.isnull(row)].values\n",
    "    if len(non_nulls) == 0:\n",
    "        return np.nan\n",
    "    # sort values by string len\n",
    "    if isinstance(non_nulls[0], str):\n",
    "        # sort in reverse so longest string returns\n",
    "        return sorted(non_nulls, key=len, reverse=True)[0]\n",
    "    # if not a string, just return first value\n",
    "    return non_nulls[0]"
   ]
  },
  {
   "cell_type": "code",
   "execution_count": 46,
   "metadata": {
    "collapsed": false
   },
   "outputs": [],
   "source": [
    "match4.loc[:, 'clean_last_name'] = match4[[\n",
    "        'clean_last_name_x', 'clean_last_name_y']].apply(consolidate_cols, axis=1)"
   ]
  },
  {
   "cell_type": "code",
   "execution_count": 47,
   "metadata": {
    "collapsed": false
   },
   "outputs": [],
   "source": [
    "match5 = match4.drop(['fuzzy_merge_col', 'clean_last_name_sim', 'clean_last_name_x', 'clean_last_name_y'], axis=1)\n",
    "fm5 = fm4.drop(['fuzzy_merge_col_x', 'fuzzy_merge_col_y'], axis=1)"
   ]
  },
  {
   "cell_type": "code",
   "execution_count": 48,
   "metadata": {
    "collapsed": false
   },
   "outputs": [],
   "source": [
    "all_matches = pd.concat([match5, fm5], axis=0)"
   ]
  },
  {
   "cell_type": "code",
   "execution_count": 49,
   "metadata": {
    "collapsed": false
   },
   "outputs": [],
   "source": [
    "all_matches['medical_school'] = all_matches['medical_school_x']\n",
    "mask = pd.isnull(all_matches['medical_school'])\n",
    "all_matches.loc[mask, 'medical_school'] = all_matches.loc[mask, 'degree_inst_1_desc']\n",
    "# mask = pd.isnull(all_matches['degree_inst_1_desc']) & pd.isnull(all_matches['medical_school'])\n",
    "# all_matches.loc[mask, 'medical_school'] = all_matches.loc[mask, 'medical_school_x']\n",
    "mask = pd.isnull(all_matches['medical_school'])"
   ]
  },
  {
   "cell_type": "code",
   "execution_count": 50,
   "metadata": {
    "collapsed": false
   },
   "outputs": [],
   "source": [
    "all_matches2 = all_matches.drop(['medical_school_x', 'medical_school_y', 'medical_school_sim'], axis=1)"
   ]
  },
  {
   "cell_type": "code",
   "execution_count": 51,
   "metadata": {
    "collapsed": false
   },
   "outputs": [
    {
     "name": "stdout",
     "output_type": "stream",
     "text": [
      "['clean_first_initial', 'clean_first_name', 'clean_middle_initial', 'clean_middle_name', 'last_name_counts']\n"
     ]
    }
   ],
   "source": [
    "all_matches3 = consolidate_merge_cols(all_matches2, ['_x', '_y'], [])"
   ]
  },
  {
   "cell_type": "code",
   "execution_count": 52,
   "metadata": {
    "collapsed": false
   },
   "outputs": [],
   "source": [
    "# for the full matches, replace med school grad year with degree_\n",
    "missing_degree_year = pd.isnull(all_matches3.degree_year_1)\n",
    "all_matches3.loc[~missing_degree_year, 'medschool_year_grad'] = all_matches3[~missing_degree_year]['degree_year_1']\n",
    "\n"
   ]
  },
  {
   "cell_type": "code",
   "execution_count": 53,
   "metadata": {
    "collapsed": false
   },
   "outputs": [
    {
     "name": "stdout",
     "output_type": "stream",
     "text": [
      "(2028, 110)\n"
     ]
    }
   ],
   "source": [
    "unmatched_apps3 = get_nonmatched(apps2, all_matches3[PERSON_ID], id_colname=PERSON_ID)"
   ]
  },
  {
   "cell_type": "code",
   "execution_count": 54,
   "metadata": {
    "collapsed": false
   },
   "outputs": [],
   "source": [
    "all_matches4 = pd.concat([all_matches3, unmatched_apps3], axis=0).drop(['aamc_id_duplicate', 'Unnamed: 0', \n",
    "                                                                       'clean_first_name_sim', 'clean_middle_name_sim', \n",
    "                                                                       'fuzzy_merge_col', 'lab_brch', 'person_uuid_duplicate', 'other'], axis=1)\n"
   ]
  },
  {
   "cell_type": "code",
   "execution_count": 55,
   "metadata": {
    "collapsed": false
   },
   "outputs": [
    {
     "data": {
      "text/html": [
       "<div>\n",
       "<table border=\"1\" class=\"dataframe\">\n",
       "  <thead>\n",
       "    <tr style=\"text-align: right;\">\n",
       "      <th></th>\n",
       "      <th>clean_first_name</th>\n",
       "      <th>clean_middle_name</th>\n",
       "      <th>clean_last_name</th>\n",
       "      <th>person_uuid</th>\n",
       "    </tr>\n",
       "  </thead>\n",
       "  <tbody>\n",
       "  </tbody>\n",
       "</table>\n",
       "</div>"
      ],
      "text/plain": [
       "Empty DataFrame\n",
       "Columns: [clean_first_name, clean_middle_name, clean_last_name, person_uuid]\n",
       "Index: []"
      ]
     },
     "execution_count": 55,
     "metadata": {},
     "output_type": "execute_result"
    }
   ],
   "source": [
    "all_matches4.loc[all_matches4.duplicated(PERSON_ID, keep=False), NAME_COLS+['person_uuid']]"
   ]
  },
  {
   "cell_type": "code",
   "execution_count": 56,
   "metadata": {
    "collapsed": true
   },
   "outputs": [],
   "source": [
    "# rename aamc original cols\n",
    "all_matches4.rename(columns={\n",
    "        'fname': 'aamc_first_name', 'mname': 'aamc_middle_name', 'lname': 'aamc_last_name', \n",
    "        'degree_inst_1_desc': 'aamc_medical_school', 'degree_year_1': 'aamc_medschool_year_grad' }, inplace=True)\n",
    "\n",
    "other_cols = sorted([i for i in all_matches4.columns if i not in IMPORTANT_COLS])\n",
    "\n",
    "# order columns so important ones are \n",
    "all_matches5 = all_matches4[IMPORTANT_COLS+other_cols].sort_values(\n",
    "    ['clean_last_name', 'clean_first_name', 'application_year_max']).drop(\n",
    "        ['is_match', 'last_name_counts', 'counts', 'to_drop'], axis=1)\n"
   ]
  },
  {
   "cell_type": "code",
   "execution_count": 60,
   "metadata": {
    "collapsed": false
   },
   "outputs": [],
   "source": [
    "all_matches5.to_csv(os.path.join(APP_DATA_DIR, 'aamc_apps_nih.csv'), index=False)\n",
    "all_matches5.to_pickle(os.path.join(PICKLE_DIR, 'aaamc_apps_nih.p'))"
   ]
  },
  {
   "cell_type": "code",
   "execution_count": 59,
   "metadata": {
    "collapsed": false
   },
   "outputs": [
    {
     "data": {
      "text/html": [
       "<div>\n",
       "<table border=\"1\" class=\"dataframe\">\n",
       "  <thead>\n",
       "    <tr style=\"text-align: right;\">\n",
       "      <th></th>\n",
       "      <th>clean_first_name</th>\n",
       "      <th>clean_middle_name</th>\n",
       "      <th>clean_last_name</th>\n",
       "      <th>aamc_id</th>\n",
       "    </tr>\n",
       "  </thead>\n",
       "  <tbody>\n",
       "    <tr>\n",
       "      <th>3825</th>\n",
       "      <td>GREGORY</td>\n",
       "      <td>O</td>\n",
       "      <td>WALSH</td>\n",
       "      <td>NaN</td>\n",
       "    </tr>\n",
       "    <tr>\n",
       "      <th>1356</th>\n",
       "      <td>JOHN</td>\n",
       "      <td>VINCENT</td>\n",
       "      <td>WALSH</td>\n",
       "      <td>10823147.0</td>\n",
       "    </tr>\n",
       "    <tr>\n",
       "      <th>494</th>\n",
       "      <td>GARY</td>\n",
       "      <td>MURRAY</td>\n",
       "      <td>WILLIAMS</td>\n",
       "      <td>10854755.0</td>\n",
       "    </tr>\n",
       "    <tr>\n",
       "      <th>858</th>\n",
       "      <td>GEORGE</td>\n",
       "      <td>WM</td>\n",
       "      <td>WILLIAMS</td>\n",
       "      <td>12194106.0</td>\n",
       "    </tr>\n",
       "    <tr>\n",
       "      <th>3964</th>\n",
       "      <td>HIBBARD</td>\n",
       "      <td>DR</td>\n",
       "      <td>WILLIAMS</td>\n",
       "      <td>NaN</td>\n",
       "    </tr>\n",
       "    <tr>\n",
       "      <th>3965</th>\n",
       "      <td>JONATHAN</td>\n",
       "      <td>R</td>\n",
       "      <td>WILLIAMS</td>\n",
       "      <td>NaN</td>\n",
       "    </tr>\n",
       "    <tr>\n",
       "      <th>1076</th>\n",
       "      <td>LYSLE</td>\n",
       "      <td>WESTLEY</td>\n",
       "      <td>WILLIAMS</td>\n",
       "      <td>10864236.0</td>\n",
       "    </tr>\n",
       "    <tr>\n",
       "      <th>1375</th>\n",
       "      <td>REDFORD</td>\n",
       "      <td>BROWN</td>\n",
       "      <td>WILLIAMS</td>\n",
       "      <td>10870680.0</td>\n",
       "    </tr>\n",
       "    <tr>\n",
       "      <th>3968</th>\n",
       "      <td>ROGER</td>\n",
       "      <td>RICHARDS</td>\n",
       "      <td>WILLIAMS</td>\n",
       "      <td>NaN</td>\n",
       "    </tr>\n",
       "    <tr>\n",
       "      <th>3969</th>\n",
       "      <td>TEMPLE</td>\n",
       "      <td>W</td>\n",
       "      <td>WILLIAMS</td>\n",
       "      <td>NaN</td>\n",
       "    </tr>\n",
       "    <tr>\n",
       "      <th>3970</th>\n",
       "      <td>WILLIAM</td>\n",
       "      <td>HOWARD</td>\n",
       "      <td>WILLIAMS</td>\n",
       "      <td>NaN</td>\n",
       "    </tr>\n",
       "  </tbody>\n",
       "</table>\n",
       "</div>"
      ],
      "text/plain": [
       "     clean_first_name clean_middle_name clean_last_name     aamc_id\n",
       "3825          GREGORY                 O           WALSH         NaN\n",
       "1356             JOHN           VINCENT           WALSH  10823147.0\n",
       "494              GARY            MURRAY        WILLIAMS  10854755.0\n",
       "858            GEORGE                WM        WILLIAMS  12194106.0\n",
       "3964          HIBBARD                DR        WILLIAMS         NaN\n",
       "3965         JONATHAN                 R        WILLIAMS         NaN\n",
       "1076            LYSLE           WESTLEY        WILLIAMS  10864236.0\n",
       "1375          REDFORD             BROWN        WILLIAMS  10870680.0\n",
       "3968            ROGER          RICHARDS        WILLIAMS         NaN\n",
       "3969           TEMPLE                 W        WILLIAMS         NaN\n",
       "3970          WILLIAM            HOWARD        WILLIAMS         NaN"
      ]
     },
     "execution_count": 59,
     "metadata": {},
     "output_type": "execute_result"
    }
   ],
   "source": [
    "all_matches5.loc[all_matches5.clean_last_name.isin(['WALSH', 'WILLIAMS']), NAME_COLS+['aamc_id']]"
   ]
  },
  {
   "cell_type": "code",
   "execution_count": null,
   "metadata": {
    "collapsed": true
   },
   "outputs": [],
   "source": []
  }
 ],
 "metadata": {
  "kernelspec": {
   "display_name": "Python 2",
   "language": "python",
   "name": "python2"
  },
  "language_info": {
   "codemirror_mode": {
    "name": "ipython",
    "version": 2
   },
   "file_extension": ".py",
   "mimetype": "text/x-python",
   "name": "python",
   "nbconvert_exporter": "python",
   "pygments_lexer": "ipython2",
   "version": "2.7.12"
  }
 },
 "nbformat": 4,
 "nbformat_minor": 1
}
