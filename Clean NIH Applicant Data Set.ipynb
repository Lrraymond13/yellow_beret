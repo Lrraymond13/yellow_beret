{
 "cells": [
  {
   "cell_type": "code",
   "execution_count": 19,
   "metadata": {
    "collapsed": true
   },
   "outputs": [],
   "source": [
    "# read in known applicant files, clean and try to dedupe\n",
    "from collections import Counter\n",
    "import difflib\n",
    "import uuid\n",
    "import itertools\n",
    "import pandas as pd\n",
    "import numpy as np\n",
    "import string\n",
    "import funcy\n",
    "import re\n",
    "import os\n",
    "\n",
    "APP_DATA_DIR = os.path.abspath('Data/applicant_data')\n",
    "ATT_DATA_DIR = os.path.abspath('Data/attendees_data')\n",
    "CARD_DATA_DIR = os.path.abspath('Data/applicant_data/raw_card_data')\n",
    "\n",
    "from data_cleaning_functions import correct_mispellings, long_form_date, clean_names, clean_med_school"
   ]
  },
  {
   "cell_type": "code",
   "execution_count": 2,
   "metadata": {
    "collapsed": true
   },
   "outputs": [],
   "source": [
    "# id column that links back to raw applicant data file\n",
    "RAW_CARD_ID = 'raw_uuid'\n",
    "\n",
    "# column where the raw id information is stored\n",
    "RAW_INDEX_IDS = 'raw_card_ids'\n",
    "\n",
    "# try to get one id per unique applicant in the dataset\n",
    "PERSON_ID = 'person_uuid'\n",
    "# id per deduped application-person - if someone applied multiple times, they will have multiple ids\n",
    "PERSON_APPLICATION_ID = 'person_app_uuid' \n",
    "NIH_ID = 'dno'\n",
    "\n",
    "APPLICANT_SUFFIX = '_ap'\n",
    "ATTENDEE_SUFFIX = '_at'\n",
    "\n",
    "%load_ext autoreload\n",
    "%autoreload 2\n",
    "\n",
    "%reload_ext autoreload"
   ]
  },
  {
   "cell_type": "code",
   "execution_count": 11,
   "metadata": {
    "collapsed": true
   },
   "outputs": [],
   "source": [
    "NAME_COLS = ['clean_middle_name', 'clean_last_name', 'clean_first_name']\n",
    "MED_TRAINING_COLS = ['res_dates', 'intern_dates', 'residency_hospital', \n",
    "                     'internship_hospital', 'medical_school', 'residency']"
   ]
  },
  {
   "cell_type": "code",
   "execution_count": 3,
   "metadata": {
    "collapsed": true
   },
   "outputs": [],
   "source": [
    "# read _csv\n",
    "df3_unique = pd.read_csv(os.path.join(ATT_DATA_DIR, 'unique_attendees.csv'))"
   ]
  },
  {
   "cell_type": "code",
   "execution_count": 49,
   "metadata": {
    "collapsed": false
   },
   "outputs": [
    {
     "name": "stdout",
     "output_type": "stream",
     "text": [
      "present\n",
      "not known\n",
      "Starting July 1,1962\n",
      "present\n",
      "1 Year\n",
      "present\n"
     ]
    }
   ],
   "source": [
    "df3_unique.loc[:, 'res_dates'] = df3_unique.res_dtes.apply(long_form_date)\n",
    "df3_unique.loc[:, 'intern_dates'] = df3_unique.intern_dte.apply(long_form_date)"
   ]
  },
  {
   "cell_type": "code",
   "execution_count": 50,
   "metadata": {
    "collapsed": true
   },
   "outputs": [],
   "source": [
    "df4_unique = df3_unique.drop(['res_dtes', 'intern_dte'], axis=1).rename(columns={\n",
    "        'res_hosp': 'residency_hospital', 'intern_hos': 'internship_hospital', \n",
    "        'clean_middlename': 'clean_middle_name', 'clean_firstname': 'clean_first_name',\n",
    "        'clean_lastname': 'clean_last_name',  'med_school': 'medical_school'})"
   ]
  },
  {
   "cell_type": "code",
   "execution_count": 51,
   "metadata": {
    "collapsed": false
   },
   "outputs": [],
   "source": [
    "string_med_cols = ['medical_school', 'residency_hospital', 'internship_hospital', 'residency', 'institute']\n",
    "\n",
    "# apply string cleaning function to each of the string medical info columns\n",
    "df4_unique.loc[:, string_med_cols] = df4_unique[string_med_cols].applymap(clean_names)"
   ]
  },
  {
   "cell_type": "code",
   "execution_count": 52,
   "metadata": {
    "collapsed": false
   },
   "outputs": [],
   "source": [
    "%%capture\n",
    "df4_unique.loc[:, 'clean_medical_school'] = df4_unique.medical_school.apply(clean_med_school);"
   ]
  },
  {
   "cell_type": "code",
   "execution_count": 53,
   "metadata": {
    "collapsed": false
   },
   "outputs": [],
   "source": [
    "to_remove = ['TERRECE', 'FRED', 'LAURENCE',\n",
    "             'CUONO', 'DEFRENZE', 'JEFFERY', 'FINKLEMAN', 'SHERRAD', 'ANSCHNETZ', 'MARC', 'JENSON', 'KASTI', \n",
    "            'ADELBERT', 'RITCHARD', 'MANSFORD', 'DEFRENZO', 'DROBIN', 'HAMES', 'KREUZ', 'JERROLD', 'MANEUSI',\n",
    "            'UNGARO']\n",
    "to_replace = ['TERRENCE', 'FREDERICK', 'LAWRENCE',\n",
    "              'CUOMO', 'DEFRONZO', 'JEFFREY', 'FINKELMAN', 'SHERRARD', 'ANSCHUETZ', 'MARCUS', 'JENSEN', 'KASTL',\n",
    "              'ALBERT', 'RITCHARD', 'MANIFORD', 'DEFRONZO', 'DROBIS', 'JAMES', 'KRUEZ', 'JERROD', 'MANCUSI',\n",
    "              'UNGARO']\n",
    "\n",
    "correct_name_mispellings_fnc = funcy.rpartial(correct_mispellings, to_remove, to_replace)\n",
    "\n",
    "df4_unique.loc[:, 'clean_last_name'] = df4_unique.clean_last_name.apply(correct_name_mispellings_fnc)\n",
    "df4_unique.loc[:, 'clean_first_name'] = df4_unique.clean_first_name.apply(correct_name_mispellings_fnc)"
   ]
  },
  {
   "cell_type": "code",
   "execution_count": 54,
   "metadata": {
    "collapsed": true
   },
   "outputs": [],
   "source": [
    "# function to go in and correct some of the name mispellings in both data sets\n",
    "# MUTATING FUNCTION\n",
    "def change_names(df, selection_type, selection_value, to_change_type, to_change_values):\n",
    "    for t, v in zip(to_change_type, to_change_values):\n",
    "        print t, v\n",
    "        df.loc[df[selection_type]==selection_value, t] = v"
   ]
  },
  {
   "cell_type": "code",
   "execution_count": 55,
   "metadata": {
    "collapsed": false
   },
   "outputs": [
    {
     "name": "stdout",
     "output_type": "stream",
     "text": [
      "clean_first_name BRUCE\n",
      "clean_middle_name WILCOX\n",
      "clean_first_name MARC\n",
      "clean_middle_name I\n",
      "clean_first_name SIDNEY\n",
      "clean_middle_name CHARLES\n",
      "clean_medical_school WAKE_FOREST\n",
      "clean_first_name DONALD\n",
      "clean_middle_name MARTIN\n",
      "clean_first_name DONALD\n",
      "clean_middle_name MARTIN\n"
     ]
    }
   ],
   "source": [
    "change_names(\n",
    "    df4_unique, 'clean_last_name', 'CHESEBRO', ['clean_first_name', 'clean_middle_name'], ['BRUCE', 'WILCOX'])\n",
    "change_names(df4_unique, 'clean_last_name', 'GALANTER', ['clean_first_name', 'clean_middle_name'], ['MARC', 'I'])\n",
    "change_names(\n",
    "    df4_unique, 'clean_last_name', 'BEAN', ['clean_first_name', 'clean_middle_name', 'clean_medical_school'], ['SIDNEY', 'CHARLES', 'WAKE_FOREST'])\n",
    "change_names(\n",
    "    df4_unique, 'clean_last_name', 'EILER', ['clean_first_name', 'clean_middle_name'], ['DONALD', 'MARTIN'])\n",
    "change_names(\n",
    "    df4_unique, 'clean_last_name', 'FALCHUK', ['clean_first_name', 'clean_middle_name'], ['DONALD', 'MARTIN'])\n"
   ]
  },
  {
   "cell_type": "code",
   "execution_count": 56,
   "metadata": {
    "collapsed": true
   },
   "outputs": [],
   "source": [
    "# now, check for people with duplicate first and last name, but different dno numbers, output them to a seperate dataset\n",
    "df5 = df4_unique.sort_values(['clean_last_name', 'dno', 'clean_first_name', 'medical_school'])"
   ]
  },
  {
   "cell_type": "code",
   "execution_count": 61,
   "metadata": {
    "collapsed": false
   },
   "outputs": [],
   "source": [
    "NIH_dups = df5.loc[df5.duplicated(['clean_last_name', 'clean_first_name', 'medical_school'], keep=False), \n",
    "                   NAME_COLS+MED_TRAINING_COLS+['eod_year', 'clean_medical_school', 'dno']]"
   ]
  },
  {
   "cell_type": "code",
   "execution_count": 69,
   "metadata": {
    "collapsed": false
   },
   "outputs": [],
   "source": [
    "missing_eod_year = df5.loc[pd.isnull(df5.eod_year), :].sort_values('clean_last_name')\n",
    "\n",
    "missing_eod_year[NAME_COLS+MED_TRAINING_COLS+['dno']].to_csv(os.path.join(APP_DATA_DIR, 'missing_eod_year.csv'), index=False)"
   ]
  },
  {
   "cell_type": "code",
   "execution_count": 68,
   "metadata": {
    "collapsed": false
   },
   "outputs": [],
   "source": [
    "NIH_dups[NAME_COLS+MED_TRAINING_COLS+['dno']].sort_values('clean_last_name').to_csv(\n",
    "    os.path.join(ATT_DATA_DIR, 'duplicate_attendees.csv'), index=False)"
   ]
  },
  {
   "cell_type": "code",
   "execution_count": 64,
   "metadata": {
    "collapsed": true
   },
   "outputs": [],
   "source": [
    "df6 = df5.drop_duplicates(['clean_last_name', 'clean_first_name', 'medical_school'])"
   ]
  },
  {
   "cell_type": "code",
   "execution_count": 65,
   "metadata": {
    "collapsed": false
   },
   "outputs": [
    {
     "name": "stdout",
     "output_type": "stream",
     "text": [
      "(4112, 29)\n",
      "(4075, 29)\n"
     ]
    }
   ],
   "source": [
    "print df5.shape\n",
    "print df6.shape"
   ]
  },
  {
   "cell_type": "code",
   "execution_count": 67,
   "metadata": {
    "collapsed": true
   },
   "outputs": [],
   "source": [
    "df6.to_csv(os.path.join(ATT_DATA_DIR, 'NIH_attendee_deduped_raw.csv'), index=False)"
   ]
  },
  {
   "cell_type": "code",
   "execution_count": 70,
   "metadata": {
    "collapsed": false
   },
   "outputs": [],
   "source": []
  },
  {
   "cell_type": "code",
   "execution_count": null,
   "metadata": {
    "collapsed": true
   },
   "outputs": [],
   "source": []
  }
 ],
 "metadata": {
  "kernelspec": {
   "display_name": "Python 2",
   "language": "python",
   "name": "python2"
  },
  "language_info": {
   "codemirror_mode": {
    "name": "ipython",
    "version": 2
   },
   "file_extension": ".py",
   "mimetype": "text/x-python",
   "name": "python",
   "nbconvert_exporter": "python",
   "pygments_lexer": "ipython2",
   "version": "2.7.12"
  }
 },
 "nbformat": 4,
 "nbformat_minor": 1
}
