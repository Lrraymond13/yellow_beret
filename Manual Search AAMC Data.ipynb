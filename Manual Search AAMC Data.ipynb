{
 "cells": [
  {
   "cell_type": "code",
   "execution_count": null,
   "metadata": {
    "collapsed": false
   },
   "outputs": [],
   "source": [
    "import pandas as pd\n",
    "import numpy as np\n",
    "import funcy\n",
    "import os"
   ]
  },
  {
   "cell_type": "code",
   "execution_count": null,
   "metadata": {
    "collapsed": false
   },
   "outputs": [],
   "source": [
    "root = '/Users/lrraymond13/MIT/Azoulay_RA_2016/Data/'\n",
    "aamc1 = 'full_aamc_with_names.csv'\n",
    "aamc2 = 'aamc_appointment.xls'\n",
    "aamc3 = 'aamc_person_degree.csv'"
   ]
  },
  {
   "cell_type": "code",
   "execution_count": null,
   "metadata": {
    "collapsed": false
   },
   "outputs": [],
   "source": [
    "aamc1_df = pd.read_csv(os.path.join(root, aamc1)).sort_values(['lname', 'fname', 'mname'])\n",
    "aamc2_df = pd.read_excel(os.path.join(root, aamc2))\n",
    "aamc3_df = pd.read_csv(os.path.join(root, aamc3)) "
   ]
  },
  {
   "cell_type": "code",
   "execution_count": null,
   "metadata": {
    "collapsed": false
   },
   "outputs": [],
   "source": [
    "aamc4 = pd.merge(left=aamc3_df, right=aamc2_df, how='outer').sort_values(['lname', 'fname', 'mname'])"
   ]
  },
  {
   "cell_type": "code",
   "execution_count": null,
   "metadata": {
    "collapsed": false
   },
   "outputs": [],
   "source": [
    "aamc2_df.head()\n",
    "sorted(aamc3_df.columns)"
   ]
  },
  {
   "cell_type": "code",
   "execution_count": null,
   "metadata": {
    "collapsed": false
   },
   "outputs": [],
   "source": [
    "aamc4.head()"
   ]
  },
  {
   "cell_type": "code",
   "execution_count": null,
   "metadata": {
    "collapsed": false
   },
   "outputs": [],
   "source": [
    "fname = 'Robert'\n",
    "lname = 'Baumhefner'"
   ]
  },
  {
   "cell_type": "code",
   "execution_count": null,
   "metadata": {
    "collapsed": false
   },
   "outputs": [],
   "source": [
    "aamc_id = 10958522"
   ]
  },
  {
   "cell_type": "code",
   "execution_count": null,
   "metadata": {
    "collapsed": false
   },
   "outputs": [],
   "source": [
    "# aamc1_df.loc[(aamc1_df.fname==fname) & (aamc1_df.lname==lname), [\n",
    "aamc1_df.loc[(aamc1_df.lname.str.startswith('B')), [\n",
    "# aamc1_df.loc[aamc_id, [\n",
    "        'degree_inst_1_desc', 'aaamc_id', 'degree_year_1', 'degree_type', 'APPT_START_DT', 'APPT_END_DT', 'APPT_INST_NAME_120']]"
   ]
  },
  {
   "cell_type": "code",
   "execution_count": null,
   "metadata": {
    "collapsed": false
   },
   "outputs": [],
   "source": [
    "aamc_v_cols = [\n",
    "    'degree_inst_1_desc', 'aamc_id', 'degree_year_1', 'degree_type', 'APPT_START_DT', 'APPT_END_DT',\n",
    "    'APPT_INST_NAME_120', 'fname', 'mname', 'lname']\n",
    "# aamc1_df.loc[(aamc1_df.fname==fname) & (aamc1_df.lname==lname), [\n",
    "# aamc4.loc[(aamc4.lname.str.startswith('B')), \n",
    "aamc4.loc[(aamc4.lname=='Murphy') & (aamc4.fname=='Thomas'), aamc_v_cols]"
   ]
  },
  {
   "cell_type": "code",
   "execution_count": null,
   "metadata": {
    "collapsed": false
   },
   "outputs": [],
   "source": [
    "aamc1_df.lname.unique()"
   ]
  },
  {
   "cell_type": "code",
   "execution_count": null,
   "metadata": {
    "collapsed": false
   },
   "outputs": [],
   "source": [
    "aamc1_df.head()"
   ]
  },
  {
   "cell_type": "code",
   "execution_count": null,
   "metadata": {
    "collapsed": false
   },
   "outputs": [],
   "source": []
  }
 ],
 "metadata": {
  "kernelspec": {
   "display_name": "Python 2",
   "language": "python",
   "name": "python2"
  },
  "language_info": {
   "codemirror_mode": {
    "name": "ipython",
    "version": 2
   },
   "file_extension": ".py",
   "mimetype": "text/x-python",
   "name": "python",
   "nbconvert_exporter": "python",
   "pygments_lexer": "ipython2",
   "version": "2.7.10"
  }
 },
 "nbformat": 4,
 "nbformat_minor": 0
}
