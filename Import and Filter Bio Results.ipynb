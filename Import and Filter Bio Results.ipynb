{
 "cells": [
  {
   "cell_type": "code",
   "execution_count": 3,
   "metadata": {
    "collapsed": false
   },
   "outputs": [],
   "source": [
    "import numpy as np\n",
    "import pandas as pd\n",
    "import os\n",
    "import cPickle as pickle\n",
    "import funcy\n",
    "\n",
    "%load_ext autoreload\n",
    "%autoreload 2"
   ]
  },
  {
   "cell_type": "code",
   "execution_count": 4,
   "metadata": {
    "collapsed": false
   },
   "outputs": [],
   "source": [
    "from dev import BIOGRAPHY_DATA_DIR "
   ]
  },
  {
   "cell_type": "code",
   "execution_count": 5,
   "metadata": {
    "collapsed": true
   },
   "outputs": [],
   "source": [
    "name_uuid_filename = 'biography_data/search_name_person_uuid.xlsx'\n"
   ]
  },
  {
   "cell_type": "code",
   "execution_count": 6,
   "metadata": {
    "collapsed": false
   },
   "outputs": [],
   "source": [
    "names_uuid = pd.read_excel(os.path.join(BIOGRAPHY_DATA_DIR, name_uuid_filename))"
   ]
  },
  {
   "cell_type": "code",
   "execution_count": 7,
   "metadata": {
    "collapsed": true
   },
   "outputs": [],
   "source": [
    "# d is a dictionary of bio results, \n",
    "# the key is the uuid of the name search\n",
    "# the value is a tuple with (num_results, search string, list of scraped results)\n",
    "# the list of results is a list of dicts with {'biography': ..., 'full_text':...} sections\n",
    "\n",
    "d = pickle.load(open('raw_bio_scrape.p'))"
   ]
  },
  {
   "cell_type": "code",
   "execution_count": 8,
   "metadata": {
    "collapsed": false
   },
   "outputs": [],
   "source": [
    "possible_errors = funcy.select_values(lambda x: x is None, d)"
   ]
  },
  {
   "cell_type": "code",
   "execution_count": 9,
   "metadata": {
    "collapsed": true
   },
   "outputs": [],
   "source": [
    "no_errors_d = funcy.select_values(lambda x: x is not None, d)"
   ]
  },
  {
   "cell_type": "code",
   "execution_count": 10,
   "metadata": {
    "collapsed": false
   },
   "outputs": [],
   "source": [
    "# first, collect the names with no results\n",
    "no_results = funcy.select_values(lambda x: x[0] is None or x[0]==0, no_errors_d)"
   ]
  },
  {
   "cell_type": "code",
   "execution_count": 11,
   "metadata": {
    "collapsed": false
   },
   "outputs": [],
   "source": [
    "possible_errors_df = names_uuid.loc[names_uuid.person_uuid.isin(possible_errors.keys())] "
   ]
  },
  {
   "cell_type": "code",
   "execution_count": 12,
   "metadata": {
    "collapsed": false
   },
   "outputs": [
    {
     "data": {
      "text/html": [
       "<div>\n",
       "<table border=\"1\" class=\"dataframe\">\n",
       "  <thead>\n",
       "    <tr style=\"text-align: right;\">\n",
       "      <th></th>\n",
       "      <th>person_uuid</th>\n",
       "      <th>aamc_id</th>\n",
       "      <th>newsetnb</th>\n",
       "      <th>dno</th>\n",
       "      <th>clean_first_name</th>\n",
       "      <th>clean_middle_name</th>\n",
       "      <th>clean_last_name</th>\n",
       "      <th>bio_results</th>\n",
       "      <th>gale_id</th>\n",
       "      <th>clean_suffix</th>\n",
       "      <th>control_flag</th>\n",
       "      <th>application_year_min</th>\n",
       "      <th>application_year_max</th>\n",
       "      <th>eod_year</th>\n",
       "      <th>medical_school</th>\n",
       "      <th>birth_year</th>\n",
       "    </tr>\n",
       "  </thead>\n",
       "  <tbody>\n",
       "    <tr>\n",
       "      <th>2045</th>\n",
       "      <td>175</td>\n",
       "      <td>NaN</td>\n",
       "      <td>NaN</td>\n",
       "      <td>NaN</td>\n",
       "      <td>ANTHONY</td>\n",
       "      <td>NaN</td>\n",
       "      <td>LOMONACO</td>\n",
       "      <td>NaN</td>\n",
       "      <td>NaN</td>\n",
       "      <td>NaN</td>\n",
       "      <td>1</td>\n",
       "      <td>1971</td>\n",
       "      <td>1971</td>\n",
       "      <td>NaN</td>\n",
       "      <td>SUNY</td>\n",
       "      <td>NaN</td>\n",
       "    </tr>\n",
       "  </tbody>\n",
       "</table>\n",
       "</div>"
      ],
      "text/plain": [
       "      person_uuid  aamc_id newsetnb  dno clean_first_name clean_middle_name  \\\n",
       "2045          175      NaN      NaN  NaN          ANTHONY               NaN   \n",
       "\n",
       "     clean_last_name  bio_results gale_id clean_suffix  control_flag  \\\n",
       "2045        LOMONACO          NaN     NaN          NaN             1   \n",
       "\n",
       "      application_year_min  application_year_max  eod_year medical_school  \\\n",
       "2045                  1971                  1971       NaN           SUNY   \n",
       "\n",
       "      birth_year  \n",
       "2045         NaN  "
      ]
     },
     "execution_count": 12,
     "metadata": {},
     "output_type": "execute_result"
    }
   ],
   "source": [
    "names_uuid.loc[names_uuid.person_uuid==175.0]"
   ]
  },
  {
   "cell_type": "code",
   "execution_count": 13,
   "metadata": {
    "collapsed": true
   },
   "outputs": [],
   "source": [
    "def get_search_string(person_uuid, res_dict):\n",
    "    if person_uuid in res_dict:\n",
    "        return res_dict[person_uuid][1]\n",
    "    return np.nan\n",
    "\n",
    "def get_number_results(person_uuid, res_dict):\n",
    "    if person_uuid in res_dict:\n",
    "        return res_dict[person_uuid][0]\n",
    "    return np.nan"
   ]
  },
  {
   "cell_type": "code",
   "execution_count": 14,
   "metadata": {
    "collapsed": false
   },
   "outputs": [
    {
     "data": {
      "text/plain": [
       "(1,\n",
       " 'Miller, Frances',\n",
       " [{'biography': u'Born: October 15, 1937 in New York, New York, United States\\nNationality: American',\n",
       "   'full_text': u'Nationality: American. Born: New York City, 15 October 1937. Education: Wellesley College, Wellesley, Massachusetts, B.A. 1959; California State University, Hayward, Teaching Credential, 1976; graduate study at San Jose State University, California. Family: Married John David Miller; two daughters and two sons. Career: Reading tutor and volunteer worker at public schools in Oakland and San Ramon, California, 1966-75; reading and English teacher at middle school in Hayward, California, 1976-77; member of executive board, Adult Literacy Program, Sydney, Australia, 1979-83; writer and public speaker, since 1983. Coordinator of \"Aussie Books for Kids\" exhibit, 1984-88. Awards: ALA Best Book for Young Adults, California Young Reader Medal, both 1985, both for The Truth Trap..'}])"
      ]
     },
     "execution_count": 14,
     "metadata": {},
     "output_type": "execute_result"
    }
   ],
   "source": [
    "no_errors_d[1]"
   ]
  },
  {
   "cell_type": "code",
   "execution_count": 15,
   "metadata": {
    "collapsed": true
   },
   "outputs": [],
   "source": [
    "def parse_occupation(raw_bio_dict):\n",
    "     # check for occupation\n",
    "    if raw_bio_dict is None:\n",
    "        return None \n",
    "    lst = raw_bio_dict['biography'].split('\\nOccupation: ')\n",
    "    if len(lst) > 1:\n",
    "        return lst[-1]\n",
    "    return None"
   ]
  },
  {
   "cell_type": "code",
   "execution_count": 16,
   "metadata": {
    "collapsed": true
   },
   "outputs": [],
   "source": [
    "def _wrapper(person_id, fnc, res_dict):\n",
    "    if person_id not in res_dict:\n",
    "        return np.nan\n",
    "    bios = res_dict[person_id][2]\n",
    "    if bios is None or len(bios)==0:\n",
    "        return 0\n",
    "    # list could be a list with 1 item a dict\n",
    "    bios = filter(None, bios)\n",
    "    if len(bios) == 1 and isinstance(bios[0], dict):\n",
    "        return fnc(bios[0])\n",
    "    # otherwise, list is a list of tuples of two items\n",
    "    # first is string matched and second is bio dict\n",
    "    bios_text = filter(None, map(funcy.second, bios))\n",
    "    if bios_text:\n",
    "        res = filter(None, map(fnc, bios_text))\n",
    "        return ' | '.join(res)\n",
    "    return np.nan"
   ]
  },
  {
   "cell_type": "code",
   "execution_count": 17,
   "metadata": {
    "collapsed": false
   },
   "outputs": [],
   "source": [
    "parse_occupation(no_errors_d[1][2][0])"
   ]
  },
  {
   "cell_type": "code",
   "execution_count": 18,
   "metadata": {
    "collapsed": false
   },
   "outputs": [],
   "source": [
    "names_uuid['number_search_results'] = 0\n",
    "names_uuid['search_string'] = np.nan\n",
    "names_uuid.loc[:, 'search_string'] = names_uuid['person_uuid'].apply(funcy.rpartial(get_search_string, no_errors_d))\n",
    "names_uuid.loc[:, 'number_search_results'] = names_uuid['person_uuid'].apply(funcy.rpartial(get_number_results, no_errors_d))"
   ]
  },
  {
   "cell_type": "code",
   "execution_count": 19,
   "metadata": {
    "collapsed": false
   },
   "outputs": [],
   "source": [
    "names_uuid['occupations'] = np.nan\n",
    "names_uuid.loc[:, 'occupations'] = names_uuid.person_uuid.apply(funcy.rpartial(_wrapper, parse_occupation, no_errors_d))"
   ]
  },
  {
   "cell_type": "code",
   "execution_count": 21,
   "metadata": {
    "collapsed": false
   },
   "outputs": [],
   "source": [
    "names_uuid.to_csv(os.path.join(BIOGRAPHY_DATA_DIR, 'biographies_data_summary.csv'), index=False)"
   ]
  },
  {
   "cell_type": "code",
   "execution_count": null,
   "metadata": {
    "collapsed": true
   },
   "outputs": [],
   "source": [
    "f1 = no_errors_d[1461]\n",
    "# f1 = no_errors_d[632]"
   ]
  },
  {
   "cell_type": "code",
   "execution_count": null,
   "metadata": {
    "collapsed": false
   },
   "outputs": [],
   "source": [
    "def write_bio_dict(filename, bio_name, bio_dict):\n",
    "    with open(filename, 'w') as f:\n",
    "        f.write(bio_name+'\\n')\n",
    "        for key, val in bio_dict.iteritems():\n",
    "            try:\n",
    "                f.write(str(key)+'\\n')\n",
    "                f.write(str(val)+'\\n')\n",
    "            except (UnicodeDecodeError, UnicodeEncodeError) as e:\n",
    "                continue\n",
    "    "
   ]
  },
  {
   "cell_type": "code",
   "execution_count": null,
   "metadata": {
    "collapsed": true
   },
   "outputs": [],
   "source": [
    "def write_bio_tuple(filename, bio_tups):\n",
    "    with open(filename, 'w') as f:\n",
    "        for res_name, res_dict in bio_tups:\n",
    "                f.write(res_name+'\\n')\n",
    "                f.write('\\n')\n",
    "                if res_dict is not None:\n",
    "                    for key, val in res_dict.iteritems():\n",
    "                        try:\n",
    "                            f.write(str(key)+'\\n')\n",
    "                            f.write(str(val)+'\\n')\n",
    "                        except (UnicodeDecodeError, UnicodeEncodeError) as e:\n",
    "                            continue\n",
    "                \n",
    "                    "
   ]
  },
  {
   "cell_type": "code",
   "execution_count": null,
   "metadata": {
    "collapsed": false
   },
   "outputs": [],
   "source": [
    "def write_bios(bios_dict):\n",
    "    bad_names = []\n",
    "    for person_id, res_tup in bios_dict.iteritems():\n",
    "        if res_tup is None or res_tup[0] is None:\n",
    "            continue\n",
    "        else:\n",
    "            filename = '_'.join(res_tup[1].split(', '))\n",
    "            filename2 = os.path.join(BIOGRAPHY_DATA_DIR, 'txt_files/{}.txt'.format(filename))\n",
    "            results = []\n",
    "            if res_tup[2] is not None:\n",
    "                results = filter(None, res_tup[2])\n",
    "            if not results:\n",
    "                print res_tup\n",
    "                bad_names.append((person_id, res_tup))\n",
    "            else:\n",
    "                if isinstance(results[0], dict):\n",
    "                    write_bio_dict(filename2, res_tup[1], results[0])\n",
    "                else:\n",
    "                    # check if all results non\n",
    "                    res = filter(None, map(funcy.second, results))\n",
    "                    if res is not None:\n",
    "                        write_bio_tuple(filename2, results)\n",
    "                    else:\n",
    "                        print res_tup\n",
    "                        bad_names.append((person_id, res_tup))"
   ]
  },
  {
   "cell_type": "code",
   "execution_count": null,
   "metadata": {
    "collapsed": false
   },
   "outputs": [],
   "source": [
    "write_bios(no_errors_d)"
   ]
  },
  {
   "cell_type": "code",
   "execution_count": null,
   "metadata": {
    "collapsed": false
   },
   "outputs": [],
   "source": [
    "# for all bios in the data set, write to txt file\n",
    "filename = '_'.join(f1[1].split(', '))\n",
    "filename2 = os.path.join(BIOGRAPHY_DATA_DIR, 'txt_files/{}.txt'.format(filename))\n",
    "results = f1[2]\n",
    "print results\n",
    "if isinstance(results[0], dict):\n",
    "    write_bio_dict(filename2, f1[1], results[0])\n",
    "else:\n",
    "    write_bio_tuple(filename2, results)"
   ]
  },
  {
   "cell_type": "code",
   "execution_count": null,
   "metadata": {
    "collapsed": false
   },
   "outputs": [],
   "source": [
    "# names_uuid.loc[pd.isnull(names_uuid.search_string)]\n",
    "names_uuid.loc[((names_uuid.number_search_results>0) & (pd.isnull(names_uuid.occupations))), :]\n",
    "# names_uuid.loc[~pd.isnull(names_uuid.occupations) & (names_uuid.occupations != 0), 'occupations']"
   ]
  },
  {
   "cell_type": "code",
   "execution_count": null,
   "metadata": {
    "collapsed": false
   },
   "outputs": [],
   "source": [
    "no_errors_d[632]"
   ]
  },
  {
   "cell_type": "code",
   "execution_count": null,
   "metadata": {
    "collapsed": true
   },
   "outputs": [],
   "source": []
  }
 ],
 "metadata": {
  "kernelspec": {
   "display_name": "Python 2",
   "language": "python",
   "name": "python2"
  }
 },
 "nbformat": 4,
 "nbformat_minor": 1
}
