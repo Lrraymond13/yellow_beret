{
 "cells": [
  {
   "cell_type": "code",
   "execution_count": null,
   "metadata": {
    "collapsed": false
   },
   "outputs": [],
   "source": [
    "# import aamc data, merge all times together and look at unique npi numbers\n",
    "# match to NIH applicants data set and check matches\n",
    "import funcy\n",
    "import numpy as np\n",
    "import pandas as pd\n",
    "import os\n",
    "\n",
    "from dev import AMA_DIR, APP_DATA_DIR\n",
    "NAMES = ['clean_first_name', 'clean_middle_name', 'clean_last_name']"
   ]
  },
  {
   "cell_type": "code",
   "execution_count": null,
   "metadata": {
    "collapsed": false
   },
   "outputs": [],
   "source": [
    "AMA_DATA_DIR = os.path.join(AMA_DIR, 'data')\n",
    "AMA_DATA_DICT_DIR =  os.path.join(AMA_DIR, 'data_dictionary')\n",
    "med_schools_fname = 'dbo_LU_AMA_Schools.txt'\n",
    "res_fname = 'dbo_res_train.txt'\n",
    "top_codes = 'PRIMARY TOP.xls' \n",
    "mpa_codes = 'Major Professional Activity.txt'\n",
    "pe_codes = 'PRESEMP.txt'"
   ]
  },
  {
   "cell_type": "code",
   "execution_count": null,
   "metadata": {
    "collapsed": false
   },
   "outputs": [],
   "source": [
    "# should have 5 text files for 1978, 1985, 1995, 2005, 2015\n",
    "ama_data_files = [\n",
    "    file_name for file_name in os.listdir(AMA_DATA_DIR) if file_name.startswith(\n",
    "                'QUO-161256-FS8YTU-')] "
   ]
  },
  {
   "cell_type": "code",
   "execution_count": null,
   "metadata": {
    "collapsed": false
   },
   "outputs": [],
   "source": [
    "nih_df = pd.read_csv(os.path.join(APP_DATA_DIR, 'NIH_AAMC_index_cards_grant_standardized.csv'))"
   ]
  },
  {
   "cell_type": "code",
   "execution_count": null,
   "metadata": {
    "collapsed": false
   },
   "outputs": [],
   "source": [
    "print nih_df.loc[(nih_df.control_flag==0) & (pd.isnull(nih_df.eod_year))].shape[0]\n",
    "print nih_df.loc[nih_df.control_flag==0].shape[0]"
   ]
  },
  {
   "cell_type": "code",
   "execution_count": null,
   "metadata": {
    "collapsed": false
   },
   "outputs": [],
   "source": [
    "nih_df.loc[nih_df.person_uuid==501]"
   ]
  },
  {
   "cell_type": "code",
   "execution_count": null,
   "metadata": {
    "collapsed": false
   },
   "outputs": [],
   "source": [
    "ama_data_files[0].split('.txt')[0][-4:]"
   ]
  },
  {
   "cell_type": "code",
   "execution_count": null,
   "metadata": {
    "collapsed": false
   },
   "outputs": [],
   "source": [
    "# defined na values in codes\n",
    "na_values = {'MPA': ['NCL'], 'TOP': [100, 'X', '100'], 'PE': [110], 'STSCHGRAD': [0, 0.0], 'MEDTRINST': [0, 0.0]}"
   ]
  },
  {
   "cell_type": "code",
   "execution_count": null,
   "metadata": {
    "collapsed": false
   },
   "outputs": [],
   "source": [
    "file_list = []\n",
    "for f_name in ama_data_files:\n",
    "    new_f = pd.read_csv(os.path.join(AMA_DATA_DIR, f_name), na_values=na_values)\n",
    "    new_f['observation_year'] = int(f_name.split('.txt')[0][-4:])\n",
    "    file_list.append(new_f.copy())\n",
    "    \n",
    "ama_dfs = pd.concat(file_list, axis=0)"
   ]
  },
  {
   "cell_type": "code",
   "execution_count": null,
   "metadata": {
    "collapsed": false
   },
   "outputs": [],
   "source": [
    "# variable definitions\n",
    "# LIC_year = license year\n",
    "# locum tenes = short term/flexible staffing position\n",
    "# MPA = major professional activity\n",
    "            # OFF=Office-based\n",
    "            # HPI=interns(discontinued in 1992)\n",
    "            # HPR=hospital based-all other years resident\n",
    "            # HPP=hospital based physician\n",
    "            # MTC=medical teacher\n",
    "            # ADM=administration physician\n",
    "            # RES=research physician\n",
    "            # OTH=other physician\n",
    "            # INA=inactive physician\n",
    "            # NCL=Not classified\n",
    "            # UNA=address unknown physician\n",
    "            # TFG=temporary foreign physician\n",
    "            # CUT=cut physician\n",
    "            # LOC=locum tenes (began in 1996)\n",
    "# dead = deceased indicator\n",
    "# TOP = type of practice \n",
    "#             Code\tDescription\n",
    "#             012\tResident\n",
    "#             020\tDirect Patient Care\n",
    "#             030\tAdministration\n",
    "#             040\tMedical Teaching\n",
    "#             050\tMedical Research\n",
    "#             062\tNon-Patient Care\n",
    "#             071\tRetired\n",
    "#             072\tSemi-Retired\n",
    "#             074\tTemporarily not in Practice\n",
    "#             075\tNot active for other reasons\n",
    "#             100\tNo classification\n",
    "# PE = present employment\n",
    "#             \"010\",\"SELF EMPLOYED\"\n",
    "#             \"011\",\"SELF EMPLOYED SOLO PRACTICE\"\n",
    "#             \"013\",\"TWO PHYSICIAN PRACTICE - OWNER\"\n",
    "#             \"014\",\"TWO PHYSICIAN PRACTICE - EMPL.\"\n",
    "#             \"021\",\"OTHER PATIENT CARE\"\n",
    "#             \"022\",\"Locum Tenens\"\n",
    "#             \"030\",\"GROUP PRACTICE\"\n",
    "#             \"035\",\"HMO\"\n",
    "#             \"040\",\"MEDICAL SCHOOL\"\n",
    "#             \"050\",\"NON-GOVERNMENT HOSPITAL\"\n",
    "#             \"060\",\"-CITY/COUNTY/STATE GOVERNMENT-\"\n",
    "#             \"063\",\"CITY/COUNTY/STATE GOVT HOSP\"\n",
    "#             \"064\",\"CITY/COUNTY/STATE GOVT OTHER\"\n",
    "#             \"080\",\"-FEDERAL GOVERNMENT HOSPITAL-\"\n",
    "#             \"081\",\"FEDERAL GOVT HOSP ARMY\"\n",
    "#             \"082\",\"FEDERAL GOVT HOSP NAVY\"\n",
    "#             \"083\",\"FEDERAL GOVT HOSP AIR FORCE\"\n",
    "#             \"084\",\"FEDERAL GOVT HOSP U.S.P.H.S.\"\n",
    "#             \"085\",\"FEDERAL GOVT HOSP VET ADMIN\"\n",
    "#             \"086\",\"FEDERAL GOVT HOSP OTHER\"\n",
    "#             \"090\",\"-FEDERAL GOVERNMENT NON-HOSP-\"\n",
    "#             \"091\",\"FEDERAL GOVT N-H ARMY\"\n",
    "#             \"092\",\"FEDERAL GOVT N-H NAVY\"\n",
    "#             \"093\",\"FEDERAL GOVT N-H AIR FORCE\"\n",
    "#             \"094\",\"FEDERAL GOVT N-H U.S.P.H.S.\"\n",
    "#             \"095\",\"FEDERAL GOVT N-H VET ADMIN\"\n",
    "#             \"096\",\"FEDERAL GOVT N-H OTHER\"\n",
    "#             \"101\",\"OTHER NON-PATIENT CARE\"\n",
    "#             \"110\",\"NO CLASSIFICATION\"\n",
    "\n",
    "# MED_TRFROM = date of medical training start/end. The date the physician entered \n",
    "        # the current graduate medical training program and the anticipated completion date.\n",
    "        # 000000000000 is the same as 00  0000  00. All 0’s = not reported.\n",
    "        # For years 1978, 1985, 1995, the date is formatted MMYYYYMMYYYY, no spaces. \n",
    "        # For 2005, the date is formatted M YYYYM YYYY for single digit months and MMYYYYMMYYYY for\n",
    "        # double digit months. 2015 is just a year. It’s not clear whether it is the start year or \n",
    "        # the completion year.\n",
    "\n",
    "# MEDTRINST = Medical Training Institution Code - dbo_res_train.txt file contains codes \n",
    "# STSCHGRAD = school of graduation; corresponds to Dbo_LU_AMA_Schools.txt\n",
    "# ECFMG = Education Commision for Foreign Medical Graduates. A unique identifying number \n",
    "#     assigned by the Education Commission for Foreign Medical Graduates to foreign medical \n",
    "#     graduates applying for ECFMG certification. 000000 = no ECFMG # reported.\n",
    "# GRAD_YR = med school graduation year (range from 1955-1975)\n",
    "# FED_CODE = federal code, 1 = federal physician, 0 = non federal physician\n",
    "# B_DATE = birth_date\n",
    "# spec1 = specialty 1\n",
    "# spec2 = specialty 2\n",
    "# B_PLACE = birth place"
   ]
  },
  {
   "cell_type": "code",
   "execution_count": null,
   "metadata": {
    "collapsed": false
   },
   "outputs": [],
   "source": [
    "# import and merge TOP codes, mpa, pe codes\n",
    "# top codes should be integers with no leading 0s, MPA should be a string\n",
    "# pe codes must be floats since column contains missing values\n",
    "\n",
    "top_df = pd.read_excel(os.path.join(AMA_DATA_DICT_DIR, top_codes))\n",
    "top_df.columns = ['TOP', 'TOP_description']\n",
    "top_df['TOP'] = top_df['TOP'].astype(int)\n",
    "mpa_df = pd.read_csv(os.path.join(AMA_DATA_DICT_DIR, mpa_codes))\n",
    "mpa_df.columns = ['MPA', 'MPA_description']\n",
    "pe_df = pd.read_csv(os.path.join(AMA_DATA_DICT_DIR, pe_codes))\n",
    "pe_df.columns = ['PE', 'PE_description']\n",
    "pe_df['PE'] = pe_df['PE'].astype(float)"
   ]
  },
  {
   "cell_type": "code",
   "execution_count": null,
   "metadata": {
    "collapsed": false
   },
   "outputs": [],
   "source": [
    "#need to strip leading 0 from top code coding\n",
    "def strip_leading_zero(raw_str):\n",
    "    raw_str1 = str(raw_str)\n",
    "    if raw_str1.startswith('0'):\n",
    "        return int(raw_str[1:])\n",
    "    return int(raw_str)\n",
    "    \n",
    "def avoid_null_wrapper(x, fnc):\n",
    "    if pd.isnull(x):\n",
    "        return np.nan\n",
    "    return fnc(x)\n",
    "\n",
    "zero_fnc = funcy.rpartial(avoid_null_wrapper, strip_leading_zero)\n",
    "float_fnc = funcy.rpartial(avoid_null_wrapper, int)\n",
    "\n",
    "ama_dfs['TOP'] = ama_dfs['TOP'].apply(zero_fnc)\n",
    "ama_dfs['PE'] = ama_dfs['PE'].apply(float_fnc)"
   ]
  },
  {
   "cell_type": "code",
   "execution_count": null,
   "metadata": {
    "collapsed": false
   },
   "outputs": [],
   "source": [
    "ama1 = pd.merge(left=ama_dfs, right=top_df, on=['TOP'], how='left')\n",
    "ama2 = pd.merge(left=ama1, right=mpa_df, on=['MPA'], how='left')\n",
    "ama3 = pd.merge(left=ama2, right=pe_df, on=['PE'], how='left')\n",
    "\n",
    "# print ama3['TOP_description'].unique()\n",
    "# print ama3['MPA_description'].unique()\n",
    "# print ama3['PE_description'].unique()"
   ]
  },
  {
   "cell_type": "code",
   "execution_count": null,
   "metadata": {
    "collapsed": false
   },
   "outputs": [],
   "source": [
    "# check for places in the data set that have a top, mpa or pe code and don't merge correctly\n",
    "missing_top = (~pd.isnull(ama3['TOP'])) & (pd.isnull(ama3['TOP_description']))\n",
    "missing_mpa = (~pd.isnull(ama3['MPA'])) & (pd.isnull(ama3['MPA_description']))\n",
    "missing_pe = (~pd.isnull(ama3['PE'])) & (pd.isnull(ama3['PE_description']))"
   ]
  },
  {
   "cell_type": "code",
   "execution_count": null,
   "metadata": {
    "collapsed": false
   },
   "outputs": [],
   "source": [
    "print ama3.loc[(missing_mpa)].MPA.unique()\n",
    "print ama3.loc[(missing_top)].TOP.unique()\n",
    "print ama3.loc[(missing_pe)].PE.unique()"
   ]
  },
  {
   "cell_type": "code",
   "execution_count": null,
   "metadata": {
    "collapsed": false
   },
   "outputs": [],
   "source": [
    "# set 0 values to np.nan\n",
    "ama3.loc[ama3.MEDTRINST==0, 'MEDTRINST'] = np.nan\n",
    "ama3.loc[ama3.STSCHGRAD==0, 'STSCHGRAD'] = np.nan"
   ]
  },
  {
   "cell_type": "code",
   "execution_count": null,
   "metadata": {
    "collapsed": false
   },
   "outputs": [],
   "source": [
    "# import med school and med training institution strings\n",
    "med_school_df = pd.read_csv(os.path.join(AMA_DATA_DICT_DIR, med_schools_fname))\n",
    "med_school_df.columns = ['STSCHGRAD', 'MED_SCHOOL', 'MED_SCHOOL_STATE']\n",
    "train_school_df = pd.read_csv(os.path.join(AMA_DATA_DICT_DIR, res_fname))\n",
    "train_school_df.columns = [\n",
    "    'MEDTRINST', 'MEDTRINST_NAME',\n",
    "    'MEDTRINST_ADD1', 'MEDTRINST_ADD2', \n",
    "    'MEDTRINST_CITY', 'MEDTRINST_ST', \n",
    "    'MEDTRINST_ZIP']\n",
    "train_school_df.MEDTRINST = train_school_df.MEDTRINST.astype(float)\n",
    "med_school_df.STSCHGRAD = med_school_df.STSCHGRAD.astype(float)"
   ]
  },
  {
   "cell_type": "code",
   "execution_count": null,
   "metadata": {
    "collapsed": false
   },
   "outputs": [],
   "source": [
    "ama3.STSCHGRAD = ama3.STSCHGRAD.astype(float)\n",
    "ama3.MEDTRINST = ama3.MEDTRINST.astype(float)"
   ]
  },
  {
   "cell_type": "code",
   "execution_count": null,
   "metadata": {
    "collapsed": false
   },
   "outputs": [],
   "source": [
    "# merge in medical school and train inst and check for data values not in the dictionary\n",
    "ama4 = pd.merge(left=ama3, right=med_school_df, how='left')\n",
    "ama5 = pd.merge(left=ama4, right=train_school_df, how='left')"
   ]
  },
  {
   "cell_type": "code",
   "execution_count": null,
   "metadata": {
    "collapsed": false
   },
   "outputs": [],
   "source": [
    "# find codes not in corresponding data dictionaries\n",
    "missing_med_schools = (~pd.isnull(ama5.STSCHGRAD) & pd.isnull(ama5.MED_SCHOOL))\n",
    "missing_tr_schools = (~pd.isnull(ama5.MEDTRINST) & pd.isnull(ama5.MEDTRINST_NAME))\n",
    "print missing_med_schools.sum()\n",
    "print missing_tr_schools.sum()"
   ]
  },
  {
   "cell_type": "code",
   "execution_count": null,
   "metadata": {
    "collapsed": false
   },
   "outputs": [],
   "source": [
    "# print missing school and training codes\n",
    "ama5[missing_med_schools]['STSCHGRAD'].sort_values().unique()\n",
    "ama5[missing_tr_schools]['MEDTRINST'].sort_values().unique()"
   ]
  },
  {
   "cell_type": "code",
   "execution_count": null,
   "metadata": {
    "collapsed": false
   },
   "outputs": [],
   "source": [
    "# check fill rates on variables\n",
    "# try to match med school name to our medical school name\n",
    "# merge in first and last name plus ID file"
   ]
  },
  {
   "cell_type": "code",
   "execution_count": null,
   "metadata": {
    "collapsed": false
   },
   "outputs": [],
   "source": [
    "ama5.loc[missing_tr_schools, ['STSCHGRAD', 'MED_SCHOOL', 'MEDTRINST', 'MEDTRINST_NAME']]"
   ]
  },
  {
   "cell_type": "code",
   "execution_count": null,
   "metadata": {
    "collapsed": false
   },
   "outputs": [],
   "source": [
    "ama5.loc[~pd.isnull(ama5['MEDTRINST_NAME'])]"
   ]
  },
  {
   "cell_type": "code",
   "execution_count": null,
   "metadata": {
    "collapsed": false,
    "scrolled": false
   },
   "outputs": [],
   "source": [
    "ama3['MEDTRINST'].unique()"
   ]
  },
  {
   "cell_type": "code",
   "execution_count": null,
   "metadata": {
    "collapsed": false
   },
   "outputs": [],
   "source": [
    "id_years = ama_dfs.sort_values(['RESEARCH ID', 'observation_year']).drop_duplicates(\n",
    "    ['RESEARCH ID', 'observation_year']).groupby(['RESEARCH ID']).size()\n"
   ]
  },
  {
   "cell_type": "code",
   "execution_count": null,
   "metadata": {
    "collapsed": false
   },
   "outputs": [],
   "source": [
    "id_years.value_counts()\n"
   ]
  },
  {
   "cell_type": "code",
   "execution_count": null,
   "metadata": {
    "collapsed": false
   },
   "outputs": [],
   "source": [
    "ama_dfs['PE'].unique()"
   ]
  },
  {
   "cell_type": "code",
   "execution_count": null,
   "metadata": {
    "collapsed": false
   },
   "outputs": [],
   "source": [
    "#rename ama_dfs columns\n",
    "ama_dfs['birth_year'] = ama_dfs['B_DATE'].apply(lambda x: int(str(x)[-4:]))\n",
    "ama_merge_df = ama_dfs.drop(['first_initial', 'clean_last_name', 'hash_id', 'match_id', 'dno'], axis=1)\n",
    "ama_merge_df.columns = ['person_uuid']+['AMA_{}'.format(x.lower()) for x in ama_merge_df.columns if x != 'person_uuid']\n",
    "ama_merge_df.rename(columns={'AMA_research id': 'AMA_research_id'}, inplace=True)"
   ]
  },
  {
   "cell_type": "code",
   "execution_count": null,
   "metadata": {
    "collapsed": false
   },
   "outputs": [],
   "source": [
    "full_df = pd.merge(left=nih_df, right=ama_merge_df, on=['person_uuid'], how='left')"
   ]
  },
  {
   "cell_type": "code",
   "execution_count": null,
   "metadata": {
    "collapsed": false
   },
   "outputs": [],
   "source": [
    "full_df['grad_diff'] = full_df['medschool_year_grad']-full_df['AMA_grad_yr']\n",
    "full_df['abs_grad_diff'] = full_df['grad_diff'].abs()\n",
    "full_df['birth_diff'] = full_df['birth_year']-full_df['AMA_birth_year']\n",
    "full_df['abs_birth_diff'] = full_df['birth_diff'].abs()"
   ]
  },
  {
   "cell_type": "code",
   "execution_count": null,
   "metadata": {
    "collapsed": false
   },
   "outputs": [],
   "source": [
    "id_combos = full_df.sort_values(['person_uuid', 'abs_grad_diff', 'abs_birth_diff']).drop_duplicates(['person_uuid', 'AMA_research_id'])"
   ]
  },
  {
   "cell_type": "code",
   "execution_count": null,
   "metadata": {
    "collapsed": false
   },
   "outputs": [],
   "source": [
    "no_matches = id_combos.loc[pd.isnull(id_combos['AMA_research_id']), [c for c in id_combos.columns if not c.startswith('AMA_')]]\n",
    "print no_matches.shape"
   ]
  },
  {
   "cell_type": "code",
   "execution_count": null,
   "metadata": {
    "collapsed": false
   },
   "outputs": [],
   "source": [
    "id_combos2 = id_combos.loc[~pd.isnull(id_combos['AMA_research_id'])]"
   ]
  },
  {
   "cell_type": "code",
   "execution_count": null,
   "metadata": {
    "collapsed": false
   },
   "outputs": [],
   "source": [
    "exact_matches = id_combos2.loc[\n",
    "    (id_combos2['birth_diff']==0) & (id_combos2['grad_diff']==0), NAMES+['person_uuid', 'AMA_research_id']]\n",
    "counts = exact_matches.groupby(['person_uuid']).size()"
   ]
  },
  {
   "cell_type": "code",
   "execution_count": null,
   "metadata": {
    "collapsed": false
   },
   "outputs": [],
   "source": [
    "counts2 = counts.reset_index()"
   ]
  },
  {
   "cell_type": "code",
   "execution_count": null,
   "metadata": {
    "collapsed": false
   },
   "outputs": [],
   "source": [
    "exact_matches2 = pd.merge(left=exact_matches, right=counts2)\n",
    "exact_matches3 = exact_matches2.loc[exact_matches2[0]==1]"
   ]
  },
  {
   "cell_type": "code",
   "execution_count": null,
   "metadata": {
    "collapsed": false
   },
   "outputs": [],
   "source": [
    "exact_matches3.shape"
   ]
  },
  {
   "cell_type": "code",
   "execution_count": null,
   "metadata": {
    "collapsed": false
   },
   "outputs": [],
   "source": [
    "matches = pd.merge(left=nih_df, right=exact_matches3[['person_uuid', 'AMA_research_id']], how='inner')"
   ]
  },
  {
   "cell_type": "code",
   "execution_count": null,
   "metadata": {
    "collapsed": false
   },
   "outputs": [],
   "source": [
    "matches2 = pd.concat([matches, no_matches], axis=0)"
   ]
  },
  {
   "cell_type": "code",
   "execution_count": null,
   "metadata": {
    "collapsed": false
   },
   "outputs": [],
   "source": [
    "matches.shape"
   ]
  },
  {
   "cell_type": "code",
   "execution_count": null,
   "metadata": {
    "collapsed": false
   },
   "outputs": [],
   "source": [
    "matches2.shape"
   ]
  },
  {
   "cell_type": "code",
   "execution_count": null,
   "metadata": {
    "collapsed": false
   },
   "outputs": [],
   "source": [
    "no_matches.shape"
   ]
  },
  {
   "cell_type": "code",
   "execution_count": null,
   "metadata": {
    "collapsed": false
   },
   "outputs": [],
   "source": [
    "nih_df.shape"
   ]
  },
  {
   "cell_type": "code",
   "execution_count": null,
   "metadata": {
    "collapsed": false
   },
   "outputs": [],
   "source": [
    "matched_nih_ids = list(matches.person_uuid.values)\n",
    "matched_ama_ids = list(matches.AMA_research_id.values)"
   ]
  },
  {
   "cell_type": "code",
   "execution_count": null,
   "metadata": {
    "collapsed": false
   },
   "outputs": [],
   "source": [
    "matched_nih_ids[0]"
   ]
  },
  {
   "cell_type": "code",
   "execution_count": null,
   "metadata": {
    "collapsed": false
   },
   "outputs": [],
   "source": [
    "id_combos2 = id_combos.loc[(\n",
    "        ~id_combos['person_uuid'].isin(matched_nih_ids)) & (~id_combos['AMA_research_id'].isin(matched_ama_ids))]\n",
    "id_combos2.shape"
   ]
  },
  {
   "cell_type": "code",
   "execution_count": null,
   "metadata": {
    "collapsed": false
   },
   "outputs": [],
   "source": []
  },
  {
   "cell_type": "code",
   "execution_count": null,
   "metadata": {
    "collapsed": false
   },
   "outputs": [],
   "source": [
    "id_combos2[NAMES+['medschool_year_grad', 'AMA_grad_yr', 'AMA_research_id', 'person_uuid', 'AMA_observation_year', 'birth_year', 'AMA_birth_year']]"
   ]
  },
  {
   "cell_type": "code",
   "execution_count": null,
   "metadata": {
    "collapsed": false
   },
   "outputs": [],
   "source": [
    "full_df.shape"
   ]
  },
  {
   "cell_type": "code",
   "execution_count": null,
   "metadata": {
    "collapsed": false
   },
   "outputs": [],
   "source": [
    "full_df.loc[full_df['RESEARCH ID']==3403630117, ['GRAD_YR', 'medschool_year_grad']]"
   ]
  },
  {
   "cell_type": "code",
   "execution_count": null,
   "metadata": {
    "collapsed": false
   },
   "outputs": [],
   "source": [
    "ama_dfs.loc[ama_dfs['RESEARCH ID']==]"
   ]
  },
  {
   "cell_type": "code",
   "execution_count": null,
   "metadata": {
    "collapsed": false
   },
   "outputs": [],
   "source": [
    "ama_dfs['RESEARCH ID'].value_counts()"
   ]
  },
  {
   "cell_type": "code",
   "execution_count": null,
   "metadata": {
    "collapsed": false
   },
   "outputs": [],
   "source": [
    "df1.head()"
   ]
  },
  {
   "cell_type": "code",
   "execution_count": null,
   "metadata": {
    "collapsed": false
   },
   "outputs": [],
   "source": [
    "\n",
    "ama_data_files"
   ]
  },
  {
   "cell_type": "code",
   "execution_count": null,
   "metadata": {
    "collapsed": false
   },
   "outputs": [],
   "source": []
  }
 ],
 "metadata": {
  "kernelspec": {
   "display_name": "Python 2",
   "language": "python",
   "name": "python2"
  },
  "language_info": {
   "codemirror_mode": {
    "name": "ipython",
    "version": 2
   },
   "file_extension": ".py",
   "mimetype": "text/x-python",
   "name": "python",
   "nbconvert_exporter": "python",
   "pygments_lexer": "ipython2",
   "version": "2.7.10"
  }
 },
 "nbformat": 4,
 "nbformat_minor": 0
}
