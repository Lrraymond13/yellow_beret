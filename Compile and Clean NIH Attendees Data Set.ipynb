{
 "cells": [
  {
   "cell_type": "code",
   "execution_count": 1,
   "metadata": {
    "collapsed": false,
    "scrolled": true
   },
   "outputs": [],
   "source": [
    "# read in known applicant files, clean and try to dedupe\n",
    "from collections import Counter\n",
    "import difflib\n",
    "from fuzzywuzzy import fuzz\n",
    "import uuid\n",
    "import itertools\n",
    "import pandas as pd\n",
    "import numpy as np\n",
    "import string\n",
    "import funcy\n",
    "import re\n",
    "import os\n",
    "\n",
    "\n",
    "from data_cleaning_functions import correct_mispellings, long_form_date, clean_names, clean_med_school\n",
    "from dev import (\n",
    "    SUFFIXES, FEMALE_FIRST_NAMES, NAME_COLS, RAW_ATT_DATA_DIR, ATT_DATA_DIR, PICKLE_DIR, \n",
    "        CORRECTIONS_DIR, SUM_STAT_DIR)\n",
    "\n",
    "\n",
    "%load_ext autoreload\n",
    "%autoreload 2\n",
    "\n",
    "%reload_ext autoreload"
   ]
  },
  {
   "cell_type": "code",
   "execution_count": 2,
   "metadata": {
    "collapsed": false,
    "scrolled": true
   },
   "outputs": [],
   "source": [
    "r1_file = '1964-1973 associates.XLS'\n",
    "r2_file = 'Associates alpha by institute.XLS'\n",
    "r3_file = 'Associates data.XLS'\n",
    "r4_file = 'NIMH Associates Complete.XLS'\n",
    "r5_file = 'NINDB Associates alpha by year.xls'\n",
    "filenames = [r1_file, r2_file, r3_file, r4_file, r5_file]"
   ]
  },
  {
   "cell_type": "code",
   "execution_count": 3,
   "metadata": {
    "collapsed": false,
    "scrolled": true
   },
   "outputs": [
    {
     "name": "stdout",
     "output_type": "stream",
     "text": [
      "WARNING *** OLE2 inconsistency: SSCS size is 0 but SSAT size is non-zero\n",
      "WARNING *** OLE2 inconsistency: SSCS size is 0 but SSAT size is non-zero\n",
      "True\n"
     ]
    }
   ],
   "source": [
    "file_df = map(lambda x: pd.read_excel(os.path.join(RAW_ATT_DATA_DIR, x)), filenames)\n",
    "\n",
    "file_4_columns = [\n",
    "    'dno', 'source', 'unknown', 'lastname', 'first_middle', 'institute', 'lab_brch', \n",
    "    'program', 'supervisor', 'eod_year', 'med_school', 'year_grad', 'intern_hos', 'intern_dte',\n",
    "       'res_hosp', 'residency', 'res_dtes'\n",
    "]\n",
    "\n",
    "file_df[2].rename(columns={'lname':'lastname', 'fname': 'first_middle'}, inplace=True)\n",
    "file_df[1].rename(columns={'lname':'lastname', 'fname': 'first_middle'}, inplace=True)\n",
    "\n",
    "file_df[4].columns = file_4_columns\n",
    "# for each files in the list, add a column to track source\n",
    "for name, f in zip(filenames, file_df):\n",
    "    f.loc[:, 'data_source'] = name\n",
    "concat_df = pd.concat(file_df).reset_index(drop=True)\n",
    "\n",
    "print sum(map(lambda x: x.shape[0], file_df)) == concat_df.shape[0]"
   ]
  },
  {
   "cell_type": "code",
   "execution_count": 4,
   "metadata": {
    "collapsed": false,
    "scrolled": true
   },
   "outputs": [],
   "source": [
    "def has_suffix(lst_strs):\n",
    "    # check for any existing suffix\n",
    "    existing_suffixes = filter(None, filter(lambda x: x in lst_strs, SUFFIXES))\n",
    "    # if suffix is I or V, only return suffix if len of lst_string > 2 (otherwise middle name)\n",
    "    if ('I' in existing_suffixes or 'V' in existing_suffixes) and len(lst_strs) > 2:\n",
    "        return existing_suffixes\n",
    "    return funcy.remove(lambda x: x in ['I', 'V', 'DR'], existing_suffixes)"
   ]
  },
  {
   "cell_type": "code",
   "execution_count": 5,
   "metadata": {
    "collapsed": false,
    "scrolled": true
   },
   "outputs": [],
   "source": [
    "def strip_first_middle(raw_str):\n",
    "    # seperate first_middle column string (Thomas, Bruce) into THOMAS BRUCE\n",
    "    # suffix also appears to be in column THOMAS BRUCE JR\n",
    "    names = filter(None, raw_str.split(' '))\n",
    "    cleaned_vals = map(clean_names, names)\n",
    "    suff = has_suffix(cleaned_vals)\n",
    "    # suffix is actually a list\n",
    "    if suff:\n",
    "        root = funcy.remove(lambda x: x==suff[-1], cleaned_vals)\n",
    "        return pd.Series(\n",
    "            {'clean_first_name': root[0],\n",
    "                 'clean_middle_name': ' '.join(root[1:]),\n",
    "                    'clean_suffix': suff[-1]})\n",
    "    return pd.Series(\n",
    "        {'clean_first_name': cleaned_vals[0],\n",
    "             'clean_middle_name': np.nan if len(cleaned_vals)==1 else ' '.join(cleaned_vals[1:]),\n",
    "                'clean_suffix': np.nan})"
   ]
  },
  {
   "cell_type": "code",
   "execution_count": 6,
   "metadata": {
    "collapsed": false,
    "scrolled": true
   },
   "outputs": [],
   "source": [
    "cleaned_suffix_df = pd.DataFrame(concat_df.loc[~pd.isnull(concat_df.first_middle), 'first_middle'].apply(strip_first_middle))"
   ]
  },
  {
   "cell_type": "code",
   "execution_count": 7,
   "metadata": {
    "collapsed": true,
    "scrolled": true
   },
   "outputs": [],
   "source": [
    "def get_suffix(raw_str):\n",
    "    # wrapper around get suffix\n",
    "    if pd.isnull(raw_str) or len(raw_str.split(' ')) < 2:\n",
    "        return np.nan\n",
    "    str_list = raw_str.split(' ')\n",
    "    suff = has_suffix(str_list)\n",
    "    if suff:\n",
    "        return suff[-1]\n",
    "    return np.nan"
   ]
  },
  {
   "cell_type": "code",
   "execution_count": 8,
   "metadata": {
    "collapsed": true,
    "scrolled": true
   },
   "outputs": [],
   "source": [
    "# now we have all the associates, sep first middle into first and middle name, then sort and check \n",
    "# to see if we have any duplicates\n",
    "df2 = pd.concat([concat_df, cleaned_suffix_df], axis=1)\n",
    "df2.loc[:, 'clean_last_name'] = df2.lastname.apply(clean_names)"
   ]
  },
  {
   "cell_type": "code",
   "execution_count": 57,
   "metadata": {
    "collapsed": false
   },
   "outputs": [
    {
     "data": {
      "text/html": [
       "<div>\n",
       "<table border=\"1\" class=\"dataframe\">\n",
       "  <thead>\n",
       "    <tr style=\"text-align: right;\">\n",
       "      <th></th>\n",
       "      <th>citizenship</th>\n",
       "      <th>data_source</th>\n",
       "      <th>dno</th>\n",
       "      <th>dob</th>\n",
       "      <th>eod_year</th>\n",
       "      <th>first_middle</th>\n",
       "      <th>firstname</th>\n",
       "      <th>generation</th>\n",
       "      <th>institute</th>\n",
       "      <th>intern_dte</th>\n",
       "      <th>...</th>\n",
       "      <th>source</th>\n",
       "      <th>ssn</th>\n",
       "      <th>supervisor</th>\n",
       "      <th>unknown</th>\n",
       "      <th>year_grad</th>\n",
       "      <th>clean_first_name</th>\n",
       "      <th>clean_middle_name</th>\n",
       "      <th>clean_suffix</th>\n",
       "      <th>clean_last_name</th>\n",
       "      <th>len_middle</th>\n",
       "    </tr>\n",
       "  </thead>\n",
       "  <tbody>\n",
       "    <tr>\n",
       "      <th>0</th>\n",
       "      <td>NaN</td>\n",
       "      <td>1964-1973 associates.XLS</td>\n",
       "      <td>117</td>\n",
       "      <td>NaN</td>\n",
       "      <td>1968.0</td>\n",
       "      <td>NaN</td>\n",
       "      <td>Robert</td>\n",
       "      <td>NaN</td>\n",
       "      <td>NIAMD</td>\n",
       "      <td>1966-1967</td>\n",
       "      <td>...</td>\n",
       "      <td>NIH EDUCATION</td>\n",
       "      <td>NaN</td>\n",
       "      <td>NaN</td>\n",
       "      <td>NaN</td>\n",
       "      <td>1966.0</td>\n",
       "      <td>NaN</td>\n",
       "      <td>NaN</td>\n",
       "      <td>NaN</td>\n",
       "      <td>ASHMAN</td>\n",
       "      <td>NaN</td>\n",
       "    </tr>\n",
       "    <tr>\n",
       "      <th>1</th>\n",
       "      <td>NaN</td>\n",
       "      <td>1964-1973 associates.XLS</td>\n",
       "      <td>119</td>\n",
       "      <td>NaN</td>\n",
       "      <td>1967.0</td>\n",
       "      <td>NaN</td>\n",
       "      <td>Philip</td>\n",
       "      <td>NaN</td>\n",
       "      <td>NIAMD</td>\n",
       "      <td>1965-1966</td>\n",
       "      <td>...</td>\n",
       "      <td>NIH EDUCATION</td>\n",
       "      <td>NaN</td>\n",
       "      <td>Decker</td>\n",
       "      <td>NaN</td>\n",
       "      <td>1965.0</td>\n",
       "      <td>NaN</td>\n",
       "      <td>NaN</td>\n",
       "      <td>NaN</td>\n",
       "      <td>ASKENASE</td>\n",
       "      <td>NaN</td>\n",
       "    </tr>\n",
       "    <tr>\n",
       "      <th>2</th>\n",
       "      <td>NaN</td>\n",
       "      <td>1964-1973 associates.XLS</td>\n",
       "      <td>120</td>\n",
       "      <td>NaN</td>\n",
       "      <td>1971.0</td>\n",
       "      <td>NaN</td>\n",
       "      <td>Floyd</td>\n",
       "      <td>NaN</td>\n",
       "      <td>NIGMS</td>\n",
       "      <td>1969-1970</td>\n",
       "      <td>...</td>\n",
       "      <td>NIH EDUCATION</td>\n",
       "      <td>NaN</td>\n",
       "      <td>Sjoerdsma</td>\n",
       "      <td>NaN</td>\n",
       "      <td>1969.0</td>\n",
       "      <td>NaN</td>\n",
       "      <td>NaN</td>\n",
       "      <td>NaN</td>\n",
       "      <td>ATKINS</td>\n",
       "      <td>NaN</td>\n",
       "    </tr>\n",
       "    <tr>\n",
       "      <th>3</th>\n",
       "      <td>NaN</td>\n",
       "      <td>1964-1973 associates.XLS</td>\n",
       "      <td>121</td>\n",
       "      <td>NaN</td>\n",
       "      <td>1965.0</td>\n",
       "      <td>NaN</td>\n",
       "      <td>Arthur</td>\n",
       "      <td>NaN</td>\n",
       "      <td>NIAID</td>\n",
       "      <td>1963-1964</td>\n",
       "      <td>...</td>\n",
       "      <td>NIH EDUCATION</td>\n",
       "      <td>NaN</td>\n",
       "      <td>NaN</td>\n",
       "      <td>NaN</td>\n",
       "      <td>1963.0</td>\n",
       "      <td>NaN</td>\n",
       "      <td>NaN</td>\n",
       "      <td>NaN</td>\n",
       "      <td>ATKINSON</td>\n",
       "      <td>NaN</td>\n",
       "    </tr>\n",
       "    <tr>\n",
       "      <th>4</th>\n",
       "      <td>NaN</td>\n",
       "      <td>1964-1973 associates.XLS</td>\n",
       "      <td>122</td>\n",
       "      <td>NaN</td>\n",
       "      <td>1971.0</td>\n",
       "      <td>NaN</td>\n",
       "      <td>John</td>\n",
       "      <td>NaN</td>\n",
       "      <td>NIAID</td>\n",
       "      <td>NaN</td>\n",
       "      <td>...</td>\n",
       "      <td>NIH EDUCATION</td>\n",
       "      <td>NaN</td>\n",
       "      <td>NaN</td>\n",
       "      <td>NaN</td>\n",
       "      <td>1969.0</td>\n",
       "      <td>NaN</td>\n",
       "      <td>NaN</td>\n",
       "      <td>NaN</td>\n",
       "      <td>ATKINSON</td>\n",
       "      <td>NaN</td>\n",
       "    </tr>\n",
       "  </tbody>\n",
       "</table>\n",
       "<p>5 rows × 29 columns</p>\n",
       "</div>"
      ],
      "text/plain": [
       "  citizenship               data_source  dno  dob  eod_year first_middle  \\\n",
       "0         NaN  1964-1973 associates.XLS  117  NaN    1968.0          NaN   \n",
       "1         NaN  1964-1973 associates.XLS  119  NaN    1967.0          NaN   \n",
       "2         NaN  1964-1973 associates.XLS  120  NaN    1971.0          NaN   \n",
       "3         NaN  1964-1973 associates.XLS  121  NaN    1965.0          NaN   \n",
       "4         NaN  1964-1973 associates.XLS  122  NaN    1971.0          NaN   \n",
       "\n",
       "  firstname generation institute intern_dte    ...             source ssn  \\\n",
       "0    Robert        NaN     NIAMD  1966-1967    ...      NIH EDUCATION NaN   \n",
       "1    Philip        NaN     NIAMD  1965-1966    ...      NIH EDUCATION NaN   \n",
       "2     Floyd        NaN     NIGMS  1969-1970    ...      NIH EDUCATION NaN   \n",
       "3    Arthur        NaN     NIAID  1963-1964    ...      NIH EDUCATION NaN   \n",
       "4      John        NaN     NIAID        NaN    ...      NIH EDUCATION NaN   \n",
       "\n",
       "  supervisor unknown year_grad clean_first_name clean_middle_name  \\\n",
       "0        NaN     NaN    1966.0              NaN               NaN   \n",
       "1     Decker     NaN    1965.0              NaN               NaN   \n",
       "2  Sjoerdsma     NaN    1969.0              NaN               NaN   \n",
       "3        NaN     NaN    1963.0              NaN               NaN   \n",
       "4        NaN     NaN    1969.0              NaN               NaN   \n",
       "\n",
       "  clean_suffix clean_last_name len_middle  \n",
       "0          NaN          ASHMAN        NaN  \n",
       "1          NaN        ASKENASE        NaN  \n",
       "2          NaN          ATKINS        NaN  \n",
       "3          NaN        ATKINSON        NaN  \n",
       "4          NaN        ATKINSON        NaN  \n",
       "\n",
       "[5 rows x 29 columns]"
      ]
     },
     "execution_count": 57,
     "metadata": {},
     "output_type": "execute_result"
    }
   ],
   "source": [
    "df2.head()"
   ]
  },
  {
   "cell_type": "code",
   "execution_count": 58,
   "metadata": {
    "collapsed": false,
    "scrolled": true
   },
   "outputs": [
    {
     "name": "stdout",
     "output_type": "stream",
     "text": [
      "(10729, 24)\n",
      "(10723, 24)\n"
     ]
    }
   ],
   "source": [
    "# consolidate firstname columns\n",
    "missing_first_middle = pd.isnull(df2.first_middle)\n",
    "df2.loc[missing_first_middle, ['clean_first_name', 'clean_middle_name']] = df2.loc[missing_first_middle, ['firstname', 'middlename']].applymap(clean_names)\n",
    "df2.loc[:, 'len_middle'] = df2.clean_middle_name.apply(lambda x: np.nan if pd.isnull(x) else len(x.split(' ')))\n",
    "\n",
    "# clean suffix out from any other columns\n",
    "may_have_suffix_mask = df2.len_middle > 1\n",
    "df2.loc[may_have_suffix_mask, 'clean_suffix'] = df2[may_have_suffix_mask]['clean_middle_name'].apply(get_suffix)\n",
    "\n",
    "df3 = df2.drop(['first_middle', 'firstname', 'middlename', 'lastname', 'len_middle'], axis=1)\n",
    "# df3 = df2\n",
    "# # dropnow where both first and last name are missing\n",
    "df4 = df3.dropna(subset=['clean_first_name', 'clean_last_name'], how='all')\n",
    "print df3.shape\n",
    "print df4.shape"
   ]
  },
  {
   "cell_type": "code",
   "execution_count": 59,
   "metadata": {
    "collapsed": false,
    "scrolled": true
   },
   "outputs": [
    {
     "name": "stdout",
     "output_type": "stream",
     "text": [
      "UNIVERSITY OF ATHENS MEDICAL SCHOOL IN ATHENS GREECE\n",
      "UNIVERSITY OF ATHENS MEDICAL SCHOOL IN ATHENS GREECE\n",
      "UNIVERSITY OF SAINT ANTOINE SCHOOL OF MEDICINE PARIS FRANCE\n",
      "UNIVERSITY OF SAINT ANTOINE SCHOOL OF MEDICINE PARIS FRANCE\n"
     ]
    }
   ],
   "source": [
    "# # remove all females\n",
    "# female_mask = np.logical_or(\n",
    "#     df4.clean_first_name.isin(FEMALE_FIRST_NAMES), df4.clean_middle_name.isin(FEMALE_MIDDLE_NAMES))\n",
    "\n",
    "# df5 = df4.loc[~female_mask, :].sort_values(NAME_COLS)\n",
    "df5 = df4.sort_values(NAME_COLS)\n",
    "\n",
    "df5.loc[:, 'clean_middle_initial'] = df5.clean_middle_name.apply(lambda x: np.nan if pd.isnull(x) or x=='' else x[0])\n",
    "df5.loc[:, 'clean_first_initial'] = df5.clean_first_name.apply(lambda x: np.nan if pd.isnull(x) or x=='' else x[0])\n",
    "df5.loc[:, 'clean_medical_school'] = df5.med_school.apply(clean_med_school)"
   ]
  },
  {
   "cell_type": "code",
   "execution_count": 60,
   "metadata": {
    "collapsed": false
   },
   "outputs": [
    {
     "data": {
      "text/html": [
       "<div>\n",
       "<table border=\"1\" class=\"dataframe\">\n",
       "  <thead>\n",
       "    <tr style=\"text-align: right;\">\n",
       "      <th></th>\n",
       "      <th>citizenship</th>\n",
       "      <th>data_source</th>\n",
       "      <th>dno</th>\n",
       "      <th>dob</th>\n",
       "      <th>eod_year</th>\n",
       "      <th>generation</th>\n",
       "      <th>institute</th>\n",
       "      <th>intern_dte</th>\n",
       "      <th>intern_hos</th>\n",
       "      <th>lab_brch</th>\n",
       "      <th>...</th>\n",
       "      <th>supervisor</th>\n",
       "      <th>unknown</th>\n",
       "      <th>year_grad</th>\n",
       "      <th>clean_first_name</th>\n",
       "      <th>clean_middle_name</th>\n",
       "      <th>clean_suffix</th>\n",
       "      <th>clean_last_name</th>\n",
       "      <th>clean_middle_initial</th>\n",
       "      <th>clean_first_initial</th>\n",
       "      <th>clean_medical_school</th>\n",
       "    </tr>\n",
       "  </thead>\n",
       "  <tbody>\n",
       "    <tr>\n",
       "      <th>2774</th>\n",
       "      <td>NaN</td>\n",
       "      <td>Associates alpha by institute.XLS</td>\n",
       "      <td>2623</td>\n",
       "      <td>NaN</td>\n",
       "      <td>1986.0</td>\n",
       "      <td>NaN</td>\n",
       "      <td>NCI</td>\n",
       "      <td>1980-1981</td>\n",
       "      <td>Creteil Hospital; France and St. Germain-en-La...</td>\n",
       "      <td>Pediatric</td>\n",
       "      <td>...</td>\n",
       "      <td>Pizzo</td>\n",
       "      <td>NaN</td>\n",
       "      <td>1980.0</td>\n",
       "      <td>MARY</td>\n",
       "      <td>NMI</td>\n",
       "      <td>NaN</td>\n",
       "      <td>MOUTOT</td>\n",
       "      <td>N</td>\n",
       "      <td>M</td>\n",
       "      <td>UNIVERSITY OF SAINT ANTOINE SCHOOL OF MEDICINE...</td>\n",
       "    </tr>\n",
       "    <tr>\n",
       "      <th>8590</th>\n",
       "      <td>NaN</td>\n",
       "      <td>Associates data.XLS</td>\n",
       "      <td>2623</td>\n",
       "      <td>NaN</td>\n",
       "      <td>1986.0</td>\n",
       "      <td>NaN</td>\n",
       "      <td>NCI</td>\n",
       "      <td>1980-1981</td>\n",
       "      <td>Creteil Hospital; France and St. Germain-en-La...</td>\n",
       "      <td>Pediatric</td>\n",
       "      <td>...</td>\n",
       "      <td>Pizzo</td>\n",
       "      <td>NaN</td>\n",
       "      <td>1980.0</td>\n",
       "      <td>MARY</td>\n",
       "      <td>NMI</td>\n",
       "      <td>NaN</td>\n",
       "      <td>MOUTOT</td>\n",
       "      <td>N</td>\n",
       "      <td>M</td>\n",
       "      <td>UNIVERSITY OF SAINT ANTOINE SCHOOL OF MEDICINE...</td>\n",
       "    </tr>\n",
       "    <tr>\n",
       "      <th>3842</th>\n",
       "      <td>NaN</td>\n",
       "      <td>Associates alpha by institute.XLS</td>\n",
       "      <td>240</td>\n",
       "      <td>NaN</td>\n",
       "      <td>1983.0</td>\n",
       "      <td>NaN</td>\n",
       "      <td>NIAID</td>\n",
       "      <td>1980-1981</td>\n",
       "      <td>University of Massachusetts</td>\n",
       "      <td>NaN</td>\n",
       "      <td>...</td>\n",
       "      <td>Rowe</td>\n",
       "      <td>NaN</td>\n",
       "      <td>1980.0</td>\n",
       "      <td>STEVEN</td>\n",
       "      <td>IRA</td>\n",
       "      <td>NaN</td>\n",
       "      <td>BENN</td>\n",
       "      <td>I</td>\n",
       "      <td>S</td>\n",
       "      <td>LA FACULTE DE MEDECINE D ANGERS FRANCE</td>\n",
       "    </tr>\n",
       "    <tr>\n",
       "      <th>6239</th>\n",
       "      <td>NaN</td>\n",
       "      <td>Associates data.XLS</td>\n",
       "      <td>240</td>\n",
       "      <td>NaN</td>\n",
       "      <td>1983.0</td>\n",
       "      <td>NaN</td>\n",
       "      <td>NIAID</td>\n",
       "      <td>1980-1981</td>\n",
       "      <td>University of Massachusetts</td>\n",
       "      <td>NaN</td>\n",
       "      <td>...</td>\n",
       "      <td>Rowe</td>\n",
       "      <td>NaN</td>\n",
       "      <td>1980.0</td>\n",
       "      <td>STEVEN</td>\n",
       "      <td>IRA</td>\n",
       "      <td>NaN</td>\n",
       "      <td>BENN</td>\n",
       "      <td>I</td>\n",
       "      <td>S</td>\n",
       "      <td>LA FACULTE DE MEDECINE D ANGERS FRANCE</td>\n",
       "    </tr>\n",
       "  </tbody>\n",
       "</table>\n",
       "<p>4 rows × 27 columns</p>\n",
       "</div>"
      ],
      "text/plain": [
       "     citizenship                        data_source   dno  dob  eod_year  \\\n",
       "2774         NaN  Associates alpha by institute.XLS  2623  NaN    1986.0   \n",
       "8590         NaN                Associates data.XLS  2623  NaN    1986.0   \n",
       "3842         NaN  Associates alpha by institute.XLS   240  NaN    1983.0   \n",
       "6239         NaN                Associates data.XLS   240  NaN    1983.0   \n",
       "\n",
       "     generation institute intern_dte  \\\n",
       "2774        NaN       NCI  1980-1981   \n",
       "8590        NaN       NCI  1980-1981   \n",
       "3842        NaN     NIAID  1980-1981   \n",
       "6239        NaN     NIAID  1980-1981   \n",
       "\n",
       "                                             intern_hos   lab_brch  \\\n",
       "2774  Creteil Hospital; France and St. Germain-en-La...  Pediatric   \n",
       "8590  Creteil Hospital; France and St. Germain-en-La...  Pediatric   \n",
       "3842                        University of Massachusetts        NaN   \n",
       "6239                        University of Massachusetts        NaN   \n",
       "\n",
       "                            ...                         supervisor unknown  \\\n",
       "2774                        ...                              Pizzo     NaN   \n",
       "8590                        ...                              Pizzo     NaN   \n",
       "3842                        ...                               Rowe     NaN   \n",
       "6239                        ...                               Rowe     NaN   \n",
       "\n",
       "     year_grad clean_first_name clean_middle_name clean_suffix  \\\n",
       "2774    1980.0             MARY               NMI          NaN   \n",
       "8590    1980.0             MARY               NMI          NaN   \n",
       "3842    1980.0           STEVEN               IRA          NaN   \n",
       "6239    1980.0           STEVEN               IRA          NaN   \n",
       "\n",
       "      clean_last_name clean_middle_initial clean_first_initial  \\\n",
       "2774           MOUTOT                    N                   M   \n",
       "8590           MOUTOT                    N                   M   \n",
       "3842             BENN                    I                   S   \n",
       "6239             BENN                    I                   S   \n",
       "\n",
       "                                   clean_medical_school  \n",
       "2774  UNIVERSITY OF SAINT ANTOINE SCHOOL OF MEDICINE...  \n",
       "8590  UNIVERSITY OF SAINT ANTOINE SCHOOL OF MEDICINE...  \n",
       "3842             LA FACULTE DE MEDECINE D ANGERS FRANCE  \n",
       "6239             LA FACULTE DE MEDECINE D ANGERS FRANCE  \n",
       "\n",
       "[4 rows x 27 columns]"
      ]
     },
     "execution_count": 60,
     "metadata": {},
     "output_type": "execute_result"
    }
   ],
   "source": [
    "df5.loc[df5.med_school.apply(lambda x: False if pd.isnull(x) else 'France' in x)]"
   ]
  },
  {
   "cell_type": "code",
   "execution_count": 61,
   "metadata": {
    "collapsed": true,
    "scrolled": true
   },
   "outputs": [],
   "source": [
    "def count_missing(row):\n",
    "    # count the number of entries that are null\n",
    "    return row[pd.isnull(row)].size\n",
    "\n",
    "df5.loc[:, 'count_missing'] = df5[\n",
    "    NAME_COLS+['clean_medical_school', 'eod_year', 'res_dtes', 'res_hosp', 'year_grad']].apply(count_missing, axis=1)"
   ]
  },
  {
   "cell_type": "code",
   "execution_count": 62,
   "metadata": {
    "collapsed": false,
    "scrolled": false
   },
   "outputs": [
    {
     "name": "stdout",
     "output_type": "stream",
     "text": [
      "(10723, 28)\n",
      "(4112, 28)\n"
     ]
    }
   ],
   "source": [
    "# drop duplicates by dno\n",
    "df6 = df5.drop_duplicates('dno').sort_values(\n",
    "    ['clean_last_name', 'clean_first_initial', 'clean_middle_name', 'count_missing'], axis=0)\n",
    "print df5.shape\n",
    "print df6.shape"
   ]
  },
  {
   "cell_type": "code",
   "execution_count": 63,
   "metadata": {
    "collapsed": false,
    "scrolled": true
   },
   "outputs": [],
   "source": [
    "man_raw = pd.read_excel(os.path.join(CORRECTIONS_DIR, 'manual_dno_matches.xlsx'), index=False).rename(columns={'medical_school': 'dno_medical_school'})\n",
    "man_raw['medical_school'] = man_raw.dno_medical_school.apply(clean_med_school)\n",
    "man = man_raw.drop(['application_year_max', 'application_year_min', 'dno_medical_school'], axis=1)\n"
   ]
  },
  {
   "cell_type": "code",
   "execution_count": 64,
   "metadata": {
    "collapsed": false,
    "scrolled": true
   },
   "outputs": [],
   "source": [
    "df_merge = df6.drop(NAME_COLS, axis=1)"
   ]
  },
  {
   "cell_type": "code",
   "execution_count": 65,
   "metadata": {
    "collapsed": false,
    "scrolled": true
   },
   "outputs": [
    {
     "name": "stdout",
     "output_type": "stream",
     "text": [
      "(104, 29)\n",
      "(104, 5)\n"
     ]
    }
   ],
   "source": [
    "df_  = pd.merge(left=df_merge, right=man, on=['dno'], how='inner')\n",
    "print df_.shape\n",
    "print man.shape\n",
    "# all missing are femal\n",
    "# overwrite medical school\n",
    "df_['clean_medical_school'] = df_['medical_school']\n"
   ]
  },
  {
   "cell_type": "code",
   "execution_count": 66,
   "metadata": {
    "collapsed": false
   },
   "outputs": [
    {
     "data": {
      "text/html": [
       "<div>\n",
       "<table border=\"1\" class=\"dataframe\">\n",
       "  <thead>\n",
       "    <tr style=\"text-align: right;\">\n",
       "      <th></th>\n",
       "      <th>clean_first_name</th>\n",
       "      <th>clean_middle_name</th>\n",
       "      <th>clean_last_name</th>\n",
       "      <th>clean_medical_school</th>\n",
       "      <th>medical_school</th>\n",
       "    </tr>\n",
       "  </thead>\n",
       "  <tbody>\n",
       "    <tr>\n",
       "      <th>38</th>\n",
       "      <td>RICHARD</td>\n",
       "      <td>A</td>\n",
       "      <td>JOHNSON</td>\n",
       "      <td>NaN</td>\n",
       "      <td>NaN</td>\n",
       "    </tr>\n",
       "    <tr>\n",
       "      <th>62</th>\n",
       "      <td>WILLIAM</td>\n",
       "      <td>M</td>\n",
       "      <td>MOORE</td>\n",
       "      <td>NaN</td>\n",
       "      <td>NaN</td>\n",
       "    </tr>\n",
       "  </tbody>\n",
       "</table>\n",
       "</div>"
      ],
      "text/plain": [
       "   clean_first_name clean_middle_name clean_last_name clean_medical_school  \\\n",
       "38          RICHARD                 A         JOHNSON                  NaN   \n",
       "62          WILLIAM                 M           MOORE                  NaN   \n",
       "\n",
       "   medical_school  \n",
       "38            NaN  \n",
       "62            NaN  "
      ]
     },
     "execution_count": 66,
     "metadata": {},
     "output_type": "execute_result"
    }
   ],
   "source": [
    "df_.loc[df_.clean_medical_school!=df_.medical_school, NAME_COLS+['clean_medical_school', 'medical_school']]"
   ]
  },
  {
   "cell_type": "code",
   "execution_count": 67,
   "metadata": {
    "collapsed": false,
    "scrolled": true
   },
   "outputs": [
    {
     "name": "stdout",
     "output_type": "stream",
     "text": [
      "(104, 29)\n",
      "(4112, 28)\n",
      "(4216, 29)\n"
     ]
    }
   ],
   "source": [
    "df6_ = df_.combine_first(df6)\n",
    "print df_.shape\n",
    "print df6.shape\n",
    "print df6_.shape"
   ]
  },
  {
   "cell_type": "code",
   "execution_count": 68,
   "metadata": {
    "collapsed": true,
    "scrolled": true
   },
   "outputs": [],
   "source": [
    "# reassign name of df6 and continue with merge\n",
    "df6 = df6_\n",
    "\n",
    "# need to fill in missing first, middle and last names"
   ]
  },
  {
   "cell_type": "code",
   "execution_count": 69,
   "metadata": {
    "collapsed": false,
    "scrolled": true
   },
   "outputs": [],
   "source": [
    "def get_year_diff(x):\n",
    "    # get reference value\n",
    "    ref_year = x.iloc[0]\n",
    "    return pd.Series(x - ref_year)\n",
    "\n",
    "def is_duplicate(grouped_df):\n",
    "    # return true if grouped df should be counted as one duplicate, returns filter mask\n",
    "    # check if med schools match/are missing\n",
    "    # check if eod years match/are missing\n",
    "    # first group_id\n",
    "    if grouped_df.shape[0] == 1:\n",
    "        return pd.Series([np.nan])\n",
    "    eod_years = grouped_df['eod_year'].dropna().unique()\n",
    "    if eod_years.shape[0] > 0:\n",
    "        if max(eod_years) - min(eod_years) > 5:\n",
    "            return pd.Series([np.nan]*grouped_df.shape[0])\n",
    "    med_schools = grouped_df['clean_medical_school'].dropna().unique()\n",
    "    # if only <= 1 unique med school, mark as duplicate\n",
    "    ref_dno = grouped_df['dno'].values[0]\n",
    "    if len(med_schools) < 2:\n",
    "        return pd.Series([ref_dno]*grouped_df.shape[0])\n",
    "    ms1 = med_schools[0]\n",
    "    # otherwise, check the string similarity of the med school\n",
    "    med_school_sims = [\n",
    "        np.nan if pd.isnull(ms) else fuzz.partial_token_sort_ratio(\n",
    "                ms1, ms) for ms in grouped_df.clean_medical_school.values]\n",
    "    # for med schools with high string sim, count as dups, otherwise not \n",
    "    is_dups = [ref_dno if pd.isnull(sim) or sim > .8 else False for sim in med_school_sims]\n",
    "    return pd.Series(is_dups)\n",
    "    "
   ]
  },
  {
   "cell_type": "code",
   "execution_count": 70,
   "metadata": {
    "collapsed": false,
    "scrolled": true
   },
   "outputs": [
    {
     "data": {
      "text/html": [
       "<div>\n",
       "<table border=\"1\" class=\"dataframe\">\n",
       "  <thead>\n",
       "    <tr style=\"text-align: right;\">\n",
       "      <th></th>\n",
       "      <th>citizenship</th>\n",
       "      <th>data_source</th>\n",
       "      <th>dno</th>\n",
       "      <th>dob</th>\n",
       "      <th>eod_year</th>\n",
       "      <th>generation</th>\n",
       "      <th>institute</th>\n",
       "      <th>intern_dte</th>\n",
       "      <th>intern_hos</th>\n",
       "      <th>lab_brch</th>\n",
       "      <th>...</th>\n",
       "      <th>residency</th>\n",
       "      <th>source</th>\n",
       "      <th>ssn</th>\n",
       "      <th>supervisor</th>\n",
       "      <th>unknown</th>\n",
       "      <th>year_grad</th>\n",
       "      <th>clean_first_name</th>\n",
       "      <th>clean_middle_name</th>\n",
       "      <th>clean_suffix</th>\n",
       "      <th>clean_last_name</th>\n",
       "    </tr>\n",
       "  </thead>\n",
       "  <tbody>\n",
       "    <tr>\n",
       "      <th>319</th>\n",
       "      <td>NaN</td>\n",
       "      <td>1964-1973 associates.XLS</td>\n",
       "      <td>728</td>\n",
       "      <td>NaN</td>\n",
       "      <td>1973.0</td>\n",
       "      <td>NaN</td>\n",
       "      <td>NIEHS</td>\n",
       "      <td>1972-1973</td>\n",
       "      <td>Duke</td>\n",
       "      <td>NaN</td>\n",
       "      <td>...</td>\n",
       "      <td>NaN</td>\n",
       "      <td>NIH EDUCATION</td>\n",
       "      <td>NaN</td>\n",
       "      <td>NaN</td>\n",
       "      <td>NaN</td>\n",
       "      <td>1972.0</td>\n",
       "      <td>NaN</td>\n",
       "      <td>NaN</td>\n",
       "      <td>NaN</td>\n",
       "      <td>COPELAND</td>\n",
       "    </tr>\n",
       "    <tr>\n",
       "      <th>320</th>\n",
       "      <td>NaN</td>\n",
       "      <td>1964-1973 associates.XLS</td>\n",
       "      <td>729</td>\n",
       "      <td>NaN</td>\n",
       "      <td>1971.0</td>\n",
       "      <td>NaN</td>\n",
       "      <td>NHI</td>\n",
       "      <td>1969-1970</td>\n",
       "      <td>University Hospital of San Diego</td>\n",
       "      <td>NaN</td>\n",
       "      <td>...</td>\n",
       "      <td>Surgery</td>\n",
       "      <td>NIH EDUCATION</td>\n",
       "      <td>NaN</td>\n",
       "      <td>Morrow</td>\n",
       "      <td>NaN</td>\n",
       "      <td>1969.0</td>\n",
       "      <td>NaN</td>\n",
       "      <td>NaN</td>\n",
       "      <td>NaN</td>\n",
       "      <td>COPELAND</td>\n",
       "    </tr>\n",
       "    <tr>\n",
       "      <th>3280</th>\n",
       "      <td>NaN</td>\n",
       "      <td>Associates alpha by institute.XLS</td>\n",
       "      <td>729</td>\n",
       "      <td>NaN</td>\n",
       "      <td>1971.0</td>\n",
       "      <td>NaN</td>\n",
       "      <td>NHI</td>\n",
       "      <td>1969-1970</td>\n",
       "      <td>University Hospital of San Diego</td>\n",
       "      <td>NaN</td>\n",
       "      <td>...</td>\n",
       "      <td>Surgery</td>\n",
       "      <td>NIH EDUCATION</td>\n",
       "      <td>NaN</td>\n",
       "      <td>Morrow</td>\n",
       "      <td>NaN</td>\n",
       "      <td>1969.0</td>\n",
       "      <td>JACK</td>\n",
       "      <td>G</td>\n",
       "      <td>NaN</td>\n",
       "      <td>COPELAND</td>\n",
       "    </tr>\n",
       "    <tr>\n",
       "      <th>5046</th>\n",
       "      <td>NaN</td>\n",
       "      <td>Associates alpha by institute.XLS</td>\n",
       "      <td>728</td>\n",
       "      <td>NaN</td>\n",
       "      <td>1973.0</td>\n",
       "      <td>NaN</td>\n",
       "      <td>NIEHS</td>\n",
       "      <td>1972-1973</td>\n",
       "      <td>Duke</td>\n",
       "      <td>NaN</td>\n",
       "      <td>...</td>\n",
       "      <td>NaN</td>\n",
       "      <td>NIH EDUCATION</td>\n",
       "      <td>NaN</td>\n",
       "      <td>NaN</td>\n",
       "      <td>NaN</td>\n",
       "      <td>1972.0</td>\n",
       "      <td>DANA</td>\n",
       "      <td>DERWARD</td>\n",
       "      <td>NaN</td>\n",
       "      <td>COPELAND</td>\n",
       "    </tr>\n",
       "    <tr>\n",
       "      <th>6727</th>\n",
       "      <td>NaN</td>\n",
       "      <td>Associates data.XLS</td>\n",
       "      <td>728</td>\n",
       "      <td>NaN</td>\n",
       "      <td>1973.0</td>\n",
       "      <td>NaN</td>\n",
       "      <td>NIEHS</td>\n",
       "      <td>1972-1973</td>\n",
       "      <td>Duke</td>\n",
       "      <td>NaN</td>\n",
       "      <td>...</td>\n",
       "      <td>NaN</td>\n",
       "      <td>NIH EDUCATION</td>\n",
       "      <td>NaN</td>\n",
       "      <td>NaN</td>\n",
       "      <td>NaN</td>\n",
       "      <td>1972.0</td>\n",
       "      <td>DANA</td>\n",
       "      <td>DERWARD</td>\n",
       "      <td>NaN</td>\n",
       "      <td>COPELAND</td>\n",
       "    </tr>\n",
       "    <tr>\n",
       "      <th>6728</th>\n",
       "      <td>NaN</td>\n",
       "      <td>Associates data.XLS</td>\n",
       "      <td>729</td>\n",
       "      <td>NaN</td>\n",
       "      <td>1971.0</td>\n",
       "      <td>NaN</td>\n",
       "      <td>NHI</td>\n",
       "      <td>1969-1970</td>\n",
       "      <td>University Hospital of San Diego</td>\n",
       "      <td>NaN</td>\n",
       "      <td>...</td>\n",
       "      <td>Surgery</td>\n",
       "      <td>NIH EDUCATION</td>\n",
       "      <td>NaN</td>\n",
       "      <td>Morrow</td>\n",
       "      <td>NaN</td>\n",
       "      <td>1969.0</td>\n",
       "      <td>JACK</td>\n",
       "      <td>G</td>\n",
       "      <td>NaN</td>\n",
       "      <td>COPELAND</td>\n",
       "    </tr>\n",
       "  </tbody>\n",
       "</table>\n",
       "<p>6 rows × 24 columns</p>\n",
       "</div>"
      ],
      "text/plain": [
       "     citizenship                        data_source  dno  dob  eod_year  \\\n",
       "319          NaN           1964-1973 associates.XLS  728  NaN    1973.0   \n",
       "320          NaN           1964-1973 associates.XLS  729  NaN    1971.0   \n",
       "3280         NaN  Associates alpha by institute.XLS  729  NaN    1971.0   \n",
       "5046         NaN  Associates alpha by institute.XLS  728  NaN    1973.0   \n",
       "6727         NaN                Associates data.XLS  728  NaN    1973.0   \n",
       "6728         NaN                Associates data.XLS  729  NaN    1971.0   \n",
       "\n",
       "     generation institute intern_dte                        intern_hos  \\\n",
       "319         NaN     NIEHS  1972-1973                              Duke   \n",
       "320         NaN       NHI  1969-1970  University Hospital of San Diego   \n",
       "3280        NaN       NHI  1969-1970  University Hospital of San Diego   \n",
       "5046        NaN     NIEHS  1972-1973                              Duke   \n",
       "6727        NaN     NIEHS  1972-1973                              Duke   \n",
       "6728        NaN       NHI  1969-1970  University Hospital of San Diego   \n",
       "\n",
       "     lab_brch       ...        residency         source ssn supervisor  \\\n",
       "319       NaN       ...              NaN  NIH EDUCATION NaN        NaN   \n",
       "320       NaN       ...          Surgery  NIH EDUCATION NaN     Morrow   \n",
       "3280      NaN       ...          Surgery  NIH EDUCATION NaN     Morrow   \n",
       "5046      NaN       ...              NaN  NIH EDUCATION NaN        NaN   \n",
       "6727      NaN       ...              NaN  NIH EDUCATION NaN        NaN   \n",
       "6728      NaN       ...          Surgery  NIH EDUCATION NaN     Morrow   \n",
       "\n",
       "     unknown year_grad  clean_first_name clean_middle_name clean_suffix  \\\n",
       "319      NaN    1972.0               NaN               NaN          NaN   \n",
       "320      NaN    1969.0               NaN               NaN          NaN   \n",
       "3280     NaN    1969.0              JACK                 G          NaN   \n",
       "5046     NaN    1972.0              DANA           DERWARD          NaN   \n",
       "6727     NaN    1972.0              DANA           DERWARD          NaN   \n",
       "6728     NaN    1969.0              JACK                 G          NaN   \n",
       "\n",
       "      clean_last_name  \n",
       "319          COPELAND  \n",
       "320          COPELAND  \n",
       "3280         COPELAND  \n",
       "5046         COPELAND  \n",
       "6727         COPELAND  \n",
       "6728         COPELAND  \n",
       "\n",
       "[6 rows x 24 columns]"
      ]
     },
     "execution_count": 70,
     "metadata": {},
     "output_type": "execute_result"
    }
   ],
   "source": [
    "df6.loc[df6.dno==4130, :]\n",
    "df6.loc[df6.clean_last_name=='ZIVIN', :]\n",
    "df4.loc[df4.clean_last_name=='COPELAND', :]"
   ]
  },
  {
   "cell_type": "code",
   "execution_count": 71,
   "metadata": {
    "collapsed": false,
    "scrolled": true
   },
   "outputs": [],
   "source": [
    "df6_grouped = df6.groupby(['clean_last_name', 'clean_first_initial'])\n",
    "df6['eod_year_diff'] = df6_grouped.eod_year.apply(get_year_diff)\n",
    "# df6['is_dup_index'] = df6_grouped.apply(is_duplicate)\n",
    "new_col = df6_grouped.apply(is_duplicate)\n",
    "# reset so no longer grouped as a multi index, then merge in via clean first, last_name\n",
    "\n",
    "# dups = df6_grouped.filter(lambda x: is_duplicate(x)) "
   ]
  },
  {
   "cell_type": "code",
   "execution_count": 72,
   "metadata": {
    "collapsed": false,
    "scrolled": true
   },
   "outputs": [
    {
     "name": "stdout",
     "output_type": "stream",
     "text": [
      "(4208,)\n",
      "(4208, 3)\n"
     ]
    }
   ],
   "source": [
    "new_col2 = new_col.reset_index()\n",
    "new_col2.drop('level_2', axis=1, inplace=True)\n",
    "print new_col.shape\n",
    "print new_col2.shape\n"
   ]
  },
  {
   "cell_type": "code",
   "execution_count": 73,
   "metadata": {
    "collapsed": false,
    "scrolled": true
   },
   "outputs": [],
   "source": [
    "new_col2.columns = ['clean_last_name', 'clean_first_initial', 'duplicate_dno']\n",
    "new_col3 = new_col2.drop_duplicates(['clean_last_name', 'clean_first_initial', 'duplicate_dno'])"
   ]
  },
  {
   "cell_type": "code",
   "execution_count": 74,
   "metadata": {
    "collapsed": false,
    "scrolled": true
   },
   "outputs": [
    {
     "data": {
      "text/html": [
       "<div>\n",
       "<table border=\"1\" class=\"dataframe\">\n",
       "  <thead>\n",
       "    <tr style=\"text-align: right;\">\n",
       "      <th></th>\n",
       "      <th>clean_last_name</th>\n",
       "      <th>clean_first_initial</th>\n",
       "      <th>duplicate_dno</th>\n",
       "    </tr>\n",
       "  </thead>\n",
       "  <tbody>\n",
       "    <tr>\n",
       "      <th>0</th>\n",
       "      <td>AARON</td>\n",
       "      <td>R</td>\n",
       "      <td>NaN</td>\n",
       "    </tr>\n",
       "  </tbody>\n",
       "</table>\n",
       "</div>"
      ],
      "text/plain": [
       "  clean_last_name clean_first_initial  duplicate_dno\n",
       "0           AARON                   R            NaN"
      ]
     },
     "execution_count": 74,
     "metadata": {},
     "output_type": "execute_result"
    }
   ],
   "source": [
    "new_col4 = new_col3[new_col3['duplicate_dno']!=False]\n",
    "new_col4[new_col4['clean_last_name']=='AARON']"
   ]
  },
  {
   "cell_type": "code",
   "execution_count": 75,
   "metadata": {
    "collapsed": false,
    "scrolled": true
   },
   "outputs": [],
   "source": [
    "df7 = pd.merge(left=df6, right=new_col4, on=['clean_last_name', 'clean_first_initial'], how='inner')"
   ]
  },
  {
   "cell_type": "code",
   "execution_count": 76,
   "metadata": {
    "collapsed": false,
    "scrolled": true
   },
   "outputs": [
    {
     "data": {
      "text/html": [
       "<div>\n",
       "<table border=\"1\" class=\"dataframe\">\n",
       "  <thead>\n",
       "    <tr style=\"text-align: right;\">\n",
       "      <th></th>\n",
       "      <th>citizenship</th>\n",
       "      <th>clean_first_initial</th>\n",
       "      <th>clean_first_name</th>\n",
       "      <th>clean_last_name</th>\n",
       "      <th>clean_medical_school</th>\n",
       "      <th>clean_middle_initial</th>\n",
       "      <th>clean_middle_name</th>\n",
       "      <th>clean_suffix</th>\n",
       "      <th>count_missing</th>\n",
       "      <th>data_source</th>\n",
       "      <th>...</th>\n",
       "      <th>res_dtes</th>\n",
       "      <th>res_hosp</th>\n",
       "      <th>residency</th>\n",
       "      <th>source</th>\n",
       "      <th>ssn</th>\n",
       "      <th>supervisor</th>\n",
       "      <th>unknown</th>\n",
       "      <th>year_grad</th>\n",
       "      <th>eod_year_diff</th>\n",
       "      <th>duplicate_dno</th>\n",
       "    </tr>\n",
       "  </thead>\n",
       "  <tbody>\n",
       "  </tbody>\n",
       "</table>\n",
       "<p>0 rows × 31 columns</p>\n",
       "</div>"
      ],
      "text/plain": [
       "Empty DataFrame\n",
       "Columns: [citizenship, clean_first_initial, clean_first_name, clean_last_name, clean_medical_school, clean_middle_initial, clean_middle_name, clean_suffix, count_missing, data_source, dno, dob, eod_year, generation, institute, intern_dte, intern_hos, lab_brch, med_school, medical_school, program, res_dtes, res_hosp, residency, source, ssn, supervisor, unknown, year_grad, eod_year_diff, duplicate_dno]\n",
       "Index: []\n",
       "\n",
       "[0 rows x 31 columns]"
      ]
     },
     "execution_count": 76,
     "metadata": {},
     "output_type": "execute_result"
    }
   ],
   "source": [
    "df7.loc[df7.clean_last_name=='FRAM']"
   ]
  },
  {
   "cell_type": "code",
   "execution_count": 77,
   "metadata": {
    "collapsed": false,
    "scrolled": true
   },
   "outputs": [],
   "source": [
    "NONDUP_DNO = (187,  224,  244,  246,  256,  257,  345,  350,  349,  458,  461,\n",
    "        474,  623,  643,  645,  665,  667,  673,  719,  807,  873,  996,\n",
    "       1099, 1153, 1163, 1176, 1229, 1237, 1356, 1393, 1541, 1648, 1794,\n",
    "       1798, 1801, 1882, 1913, 2032, 2058, 2105, 2173, 2183, 2189, 2207,\n",
    "       2210, 2228, 2258, 2355, 2371, 2400, 2463, 2474, 2542, 2548, 2554,\n",
    "       2559, 2596, 2653, 2655, 2672, 2866, 3021, 3138, 3140, 3172, 3207,\n",
    "       3313, 3317, 3320, 3333, 3334, 3373, 3402, 3429, 3453, 3472, 3482,\n",
    "       3484, 3485, 3490, 3497, 3498, 3510, 3600, 3644, 3646, 3710, 3721,\n",
    "       3985, 3990, 3993, 4031, 4058, 4090, 4092, 4095)\n",
    "\n",
    "df7.loc[:, 'eod_year_diff'] = df7.eod_year_diff.abs()\n",
    "df7.loc[(df7.eod_year_diff>2) , 'duplicate_dno'] = np.nan\n",
    "df7.loc[df7.dno.isin(NONDUP_DNO) , 'duplicate_dno'] = 0 \n",
    "df7.loc[df7.duplicate_dno==df7.dno , 'duplicate_dno'] = np.nan"
   ]
  },
  {
   "cell_type": "code",
   "execution_count": 78,
   "metadata": {
    "collapsed": false,
    "scrolled": true
   },
   "outputs": [],
   "source": [
    "df7.loc[:, 'dup_flag'] = 0\n",
    "dup_mask = df7.dno.isin(df7.duplicate_dno.dropna())\n",
    "df7.loc[dup_mask, 'dup_flag'] = 1"
   ]
  },
  {
   "cell_type": "code",
   "execution_count": 79,
   "metadata": {
    "collapsed": false
   },
   "outputs": [],
   "source": [
    "# df7.loc[df7.clean_last_name.isin(['STEWART', \"STEPHEN\", 'BROWN']), NAME_COLS+['dno', 'dup_flag']]"
   ]
  },
  {
   "cell_type": "code",
   "execution_count": 80,
   "metadata": {
    "collapsed": false,
    "scrolled": true
   },
   "outputs": [],
   "source": [
    "missing_flags = ['missing_{}'.format(f) for f in df7.columns]\n",
    "\n",
    "def count_missing(x):\n",
    "    # returns 1 for missing value\n",
    "    if x is None or x in ['None', '', ' ']:\n",
    "        return 1\n",
    "    return 1 if pd.isnull(x) else 0\n",
    "\n",
    "# calculate missing info stats\n",
    "df7[missing_flags] = df7.applymap(count_missing)\n",
    "\n",
    "# calculate missing stats for people in the data set\n",
    "df7[missing_flags].describe().to_csv(os.path.join(SUM_STAT_DIR, 'NIH_attendees_data_fill_rates.csv'))\n",
    "df8 = df7.drop(missing_flags, axis=1)"
   ]
  },
  {
   "cell_type": "code",
   "execution_count": 81,
   "metadata": {
    "collapsed": false,
    "scrolled": true
   },
   "outputs": [],
   "source": [
    "def consolidate_row(series):\n",
    "    nonnulls = series.dropna().unique()\n",
    "    if nonnulls.shape[0] == 0:\n",
    "        return pd.Series([np.nan]*series.shape[0])\n",
    "    if isinstance(nonnulls[0], str):\n",
    "        val = sorted(nonnulls, key=len, reverse=True)[0]\n",
    "        return pd.Series([val]*series.shape[0])\n",
    "    val = sorted(nonnulls, reverse=True)[0]\n",
    "    return pd.Series([val]*series.shape[0])\n"
   ]
  },
  {
   "cell_type": "code",
   "execution_count": 82,
   "metadata": {
    "collapsed": false,
    "scrolled": true
   },
   "outputs": [],
   "source": [
    "grouped_dups = df8.loc[\n",
    "    df8.duplicated(['clean_last_name', 'clean_first_initial'], keep=False), :].groupby(\n",
    "        ['clean_last_name', 'clean_first_initial'], as_index=False)\n",
    "new_df = []\n",
    "for g, df in grouped_dups:\n",
    "    consol_df = df.apply(consolidate_row, axis=0)\n",
    "    consol_df['duplicate_dno'] = [df.dno.values]*df.shape[0]\n",
    "    new_df.append(consol_df)\n",
    "    "
   ]
  },
  {
   "cell_type": "code",
   "execution_count": 83,
   "metadata": {
    "collapsed": false,
    "scrolled": true
   },
   "outputs": [],
   "source": [
    "new_df2 = pd.concat(new_df, axis=0)\n",
    "new_df3 = new_df2.drop_duplicates(['clean_first_name', 'clean_last_name', 'eod_year'])"
   ]
  },
  {
   "cell_type": "code",
   "execution_count": 84,
   "metadata": {
    "collapsed": false,
    "scrolled": true
   },
   "outputs": [
    {
     "name": "stdout",
     "output_type": "stream",
     "text": [
      "(5, 30)\n"
     ]
    }
   ],
   "source": [
    "missing = df6.loc[~df6.dno.isin(df8.dno),:].sort_values(['clean_last_name', 'clean_medical_school']).drop_duplicates(['clean_last_name', 'clean_medical_school'])\n",
    "print missing.shape"
   ]
  },
  {
   "cell_type": "code",
   "execution_count": 85,
   "metadata": {
    "collapsed": false
   },
   "outputs": [
    {
     "data": {
      "text/html": [
       "<div>\n",
       "<table border=\"1\" class=\"dataframe\">\n",
       "  <thead>\n",
       "    <tr style=\"text-align: right;\">\n",
       "      <th></th>\n",
       "      <th>clean_first_name</th>\n",
       "      <th>clean_middle_name</th>\n",
       "      <th>clean_last_name</th>\n",
       "      <th>clean_medical_school</th>\n",
       "      <th>medical_school</th>\n",
       "      <th>eod_year</th>\n",
       "    </tr>\n",
       "  </thead>\n",
       "  <tbody>\n",
       "    <tr>\n",
       "      <th>25</th>\n",
       "      <td>DAVID</td>\n",
       "      <td>H</td>\n",
       "      <td>FRAM</td>\n",
       "      <td>YALE UNIVERSITY SCHOOL OF MEDICINE</td>\n",
       "      <td>YALE UNIVERSITY SCHOOL OF MEDICINE</td>\n",
       "      <td>1968.0</td>\n",
       "    </tr>\n",
       "    <tr>\n",
       "      <th>10548</th>\n",
       "      <td>NaN</td>\n",
       "      <td>NaN</td>\n",
       "      <td>FRANK</td>\n",
       "      <td>HARVARD MEDICAL SCHOOL</td>\n",
       "      <td>NaN</td>\n",
       "      <td>1962.0</td>\n",
       "    </tr>\n",
       "    <tr>\n",
       "      <th>26</th>\n",
       "      <td>BERNARD</td>\n",
       "      <td>LEONARD</td>\n",
       "      <td>FRANKEL</td>\n",
       "      <td>ALBERT EINSTEIN COLLEGE OF MEDICINE OF YESHIVA...</td>\n",
       "      <td>ALBERT EINSTEIN COLLEGE OF MEDICINE OF YESHIVA...</td>\n",
       "      <td>1970.0</td>\n",
       "    </tr>\n",
       "    <tr>\n",
       "      <th>27</th>\n",
       "      <td>ROBERT</td>\n",
       "      <td>NaN</td>\n",
       "      <td>FREEDMAN</td>\n",
       "      <td>HARVARD MEDICAL SCHOOL</td>\n",
       "      <td>HARVARD MEDICAL SCHOOL</td>\n",
       "      <td>1973.0</td>\n",
       "    </tr>\n",
       "    <tr>\n",
       "      <th>10551</th>\n",
       "      <td>NaN</td>\n",
       "      <td>NaN</td>\n",
       "      <td>FREIDMAN</td>\n",
       "      <td>NaN</td>\n",
       "      <td>NaN</td>\n",
       "      <td>1960.0</td>\n",
       "    </tr>\n",
       "  </tbody>\n",
       "</table>\n",
       "</div>"
      ],
      "text/plain": [
       "      clean_first_name clean_middle_name clean_last_name  \\\n",
       "25               DAVID                 H            FRAM   \n",
       "10548              NaN               NaN           FRANK   \n",
       "26             BERNARD           LEONARD         FRANKEL   \n",
       "27              ROBERT               NaN        FREEDMAN   \n",
       "10551              NaN               NaN        FREIDMAN   \n",
       "\n",
       "                                    clean_medical_school  \\\n",
       "25                    YALE UNIVERSITY SCHOOL OF MEDICINE   \n",
       "10548                             HARVARD MEDICAL SCHOOL   \n",
       "26     ALBERT EINSTEIN COLLEGE OF MEDICINE OF YESHIVA...   \n",
       "27                                HARVARD MEDICAL SCHOOL   \n",
       "10551                                                NaN   \n",
       "\n",
       "                                          medical_school  eod_year  \n",
       "25                    YALE UNIVERSITY SCHOOL OF MEDICINE    1968.0  \n",
       "10548                                                NaN    1962.0  \n",
       "26     ALBERT EINSTEIN COLLEGE OF MEDICINE OF YESHIVA...    1970.0  \n",
       "27                                HARVARD MEDICAL SCHOOL    1973.0  \n",
       "10551                                                NaN    1960.0  "
      ]
     },
     "execution_count": 85,
     "metadata": {},
     "output_type": "execute_result"
    }
   ],
   "source": [
    "missing[NAME_COLS+['clean_medical_school', 'medical_school', 'eod_year']]"
   ]
  },
  {
   "cell_type": "code",
   "execution_count": 86,
   "metadata": {
    "collapsed": true,
    "scrolled": true
   },
   "outputs": [],
   "source": [
    "df8.loc[df8.duplicate_dno==0, 'duplicate_dno'] = np.nan"
   ]
  },
  {
   "cell_type": "code",
   "execution_count": 87,
   "metadata": {
    "collapsed": false,
    "scrolled": false
   },
   "outputs": [],
   "source": [
    "#now, merge in manual corrections to add any more duplicate dnos\n",
    "# finally consolidate people merged into the same row\n",
    "df9 = pd.concat([df8.loc[pd.isnull(df8.duplicate_dno), :], new_df3, missing], axis=0)\n",
    "\n",
    "\n",
    "# df7.loc[df7.duplicated(['clean_last_name', 'clean_medical_school'], keep=False), NAME_COLS+['clean_medical_school', 'eod_year', 'dno', 'duplicate_dno']]"
   ]
  },
  {
   "cell_type": "code",
   "execution_count": 88,
   "metadata": {
    "collapsed": false
   },
   "outputs": [],
   "source": [
    "# df9.loc[df9.clean_last_name.isin(['STEWART', 'BROWN']), NAME_COLS]"
   ]
  },
  {
   "cell_type": "code",
   "execution_count": 89,
   "metadata": {
    "collapsed": false,
    "scrolled": true
   },
   "outputs": [
    {
     "data": {
      "text/html": [
       "<div>\n",
       "<table border=\"1\" class=\"dataframe\">\n",
       "  <thead>\n",
       "    <tr style=\"text-align: right;\">\n",
       "      <th></th>\n",
       "      <th>clean_first_name</th>\n",
       "      <th>clean_middle_name</th>\n",
       "      <th>clean_last_name</th>\n",
       "      <th>dup_flag</th>\n",
       "      <th>duplicate_dno</th>\n",
       "      <th>dno</th>\n",
       "    </tr>\n",
       "  </thead>\n",
       "  <tbody>\n",
       "    <tr>\n",
       "      <th>25</th>\n",
       "      <td>DAVID</td>\n",
       "      <td>H</td>\n",
       "      <td>FRAM</td>\n",
       "      <td>NaN</td>\n",
       "      <td>NaN</td>\n",
       "      <td>1153.0</td>\n",
       "    </tr>\n",
       "  </tbody>\n",
       "</table>\n",
       "</div>"
      ],
      "text/plain": [
       "   clean_first_name clean_middle_name clean_last_name  dup_flag duplicate_dno  \\\n",
       "25            DAVID                 H            FRAM       NaN           NaN   \n",
       "\n",
       "       dno  \n",
       "25  1153.0  "
      ]
     },
     "execution_count": 89,
     "metadata": {},
     "output_type": "execute_result"
    }
   ],
   "source": [
    "df9.loc[df9.clean_last_name=='TEW', NAME_COLS+['dup_flag', 'duplicate_dno', 'dno']]\n",
    "df8.loc[df8.dno==3699, NAME_COLS+['dup_flag', 'duplicate_dno', 'dno']]\n",
    "df8.loc[df8.dno.isin([3700, 3699]), NAME_COLS+['dup_flag', 'duplicate_dno', 'dno']]\n",
    "df8.loc[df8.dno.isin([3700, 3699]), NAME_COLS+['dup_flag', 'duplicate_dno', 'dno']]\n",
    "\n",
    "\n",
    "# df9.loc[df9.duplicated('dno', keep=False), NAME_COLS+['dno', 'dup_flag', 'duplicate_dno']]\n",
    "\n",
    "df9.loc[df9.clean_last_name=='FRAM', NAME_COLS+['dup_flag', 'duplicate_dno', 'dno']]"
   ]
  },
  {
   "cell_type": "code",
   "execution_count": 90,
   "metadata": {
    "collapsed": false,
    "scrolled": true
   },
   "outputs": [],
   "source": [
    "to_remove = ['TERRECE', 'FRED', 'LAURENCE',\n",
    "             'CUONO', 'DEFRENZE', 'JEFFERY', 'FINKLEMAN', 'SHERRAD', 'ANSCHNETZ', 'MARC', 'JENSON', 'KASTI', \n",
    "            'ADELBERT', 'RITCHARD', 'MANSFORD', 'DEFRENZO', 'DROBIN', 'HAMES', 'KREUZ', 'JERROLD', 'MANEUSI',\n",
    "            'UNGARO']\n",
    "to_replace = ['TERRENCE', 'FREDERICK', 'LAWRENCE',\n",
    "              'CUOMO', 'DEFRONZO', 'JEFFREY', 'FINKELMAN', 'SHERRARD', 'ANSCHUETZ', 'MARCUS', 'JENSEN', 'KASTL',\n",
    "              'ALBERT', 'RITCHARD', 'MANIFORD', 'DEFRONZO', 'DROBIS', 'JAMES', 'KRUEZ', 'JERROD', 'MANCUSI',\n",
    "              'UNGARO']\n",
    "\n",
    "correct_name_mispellings_fnc = funcy.rpartial(correct_mispellings, to_remove, to_replace)\n",
    "\n",
    "df9.loc[:, 'clean_last_name'] = df9.clean_last_name.apply(correct_name_mispellings_fnc)\n",
    "df9.loc[:, 'clean_first_name'] = df9.clean_first_name.apply(correct_name_mispellings_fnc)"
   ]
  },
  {
   "cell_type": "code",
   "execution_count": 91,
   "metadata": {
    "collapsed": true,
    "scrolled": true
   },
   "outputs": [],
   "source": [
    "# function to go in and correct some of the name mispellings in both data sets\n",
    "# MUTATING FUNCTION\n",
    "def change_names(df, selection_type, selection_value, to_change_type, to_change_values):\n",
    "    for t, v in zip(to_change_type, to_change_values):\n",
    "        print t, v\n",
    "        df.loc[df[selection_type]==selection_value, t] = v"
   ]
  },
  {
   "cell_type": "code",
   "execution_count": 92,
   "metadata": {
    "collapsed": false,
    "scrolled": true
   },
   "outputs": [
    {
     "name": "stdout",
     "output_type": "stream",
     "text": [
      "clean_first_name BRUCE\n",
      "clean_middle_name WILCOX\n",
      "clean_first_name MARC\n",
      "clean_middle_name I\n",
      "clean_first_name SIDNEY\n",
      "clean_middle_name CHARLES\n",
      "clean_medical_school WAKE_FOREST\n",
      "clean_first_name DONALD\n",
      "clean_middle_name MARTIN\n",
      "clean_first_name DONALD\n",
      "clean_middle_name MARTIN\n"
     ]
    }
   ],
   "source": [
    "change_names(\n",
    "    df9, 'clean_last_name', 'CHESEBRO', ['clean_first_name', 'clean_middle_name'], ['BRUCE', 'WILCOX'])\n",
    "change_names(df9, 'clean_last_name', 'GALANTER', ['clean_first_name', 'clean_middle_name'], ['MARC', 'I'])\n",
    "change_names(\n",
    "    df9, 'clean_last_name', 'BEAN', ['clean_first_name', 'clean_middle_name', 'clean_medical_school'], ['SIDNEY', 'CHARLES', 'WAKE_FOREST'])\n",
    "change_names(\n",
    "    df9, 'clean_last_name', 'EILER', ['clean_first_name', 'clean_middle_name'], ['DONALD', 'MARTIN'])\n",
    "change_names(\n",
    "    df9, 'clean_last_name', 'FALCHUK', ['clean_first_name', 'clean_middle_name'], ['DONALD', 'MARTIN'])\n"
   ]
  },
  {
   "cell_type": "code",
   "execution_count": 93,
   "metadata": {
    "collapsed": false,
    "scrolled": true
   },
   "outputs": [],
   "source": [
    "# fill in missing eod year\n",
    "# manual corrections\n",
    "df9.loc[(df9.clean_last_name=='BEELS') & pd.isnull(df9.eod_year), 'eod_year'] = 1967\n",
    "df9.loc[(df9.clean_last_name=='KRAUSE') & pd.isnull(df9.eod_year), 'eod_year'] = 1965\n",
    "df9.loc[(df9.clean_last_name=='MELLMAN') & pd.isnull(df9.eod_year), 'eod_year'] = 1986\n",
    "# df9.loc[pd.isnull(df9.eod_year), :]"
   ]
  },
  {
   "cell_type": "code",
   "execution_count": 94,
   "metadata": {
    "collapsed": false,
    "scrolled": true
   },
   "outputs": [],
   "source": [
    "# import manual eod year fixes\n",
    "manual_eod_fixes = pd.read_excel(os.path.join(CORRECTIONS_DIR, 'manual_eod_fixes.xlsx'))\n",
    "manual_eod_fixes.head()\n",
    "manual_eod_df = manual_eod_fixes[['clean_last_name'] + [c for c in manual_eod_fixes.columns if c.startswith('to_fix')]]\n",
    "\n",
    "missing_eod = pd.merge(\n",
    "    left=df9.loc[pd.isnull(df9.eod_year), :], right=manual_eod_df, on='clean_last_name', how='inner')\n",
    "\n",
    "for x in ['clean_medical_school', 'clean_first_name', 'clean_middle_name', 'eod_year']:\n",
    "    mask = ~pd.isnull(missing_eod['to_fix_{}'.format(x)])\n",
    "    missing_eod.loc[mask, x] = missing_eod.loc[mask, 'to_fix_{}'.format(x)]\n"
   ]
  },
  {
   "cell_type": "code",
   "execution_count": 95,
   "metadata": {
    "collapsed": false,
    "scrolled": true
   },
   "outputs": [],
   "source": [
    "missing_eod2 = missing_eod.drop(\n",
    "    (c for c in missing_eod.columns if c not in df9.columns), axis=1).drop_duplicates(['clean_last_name'])"
   ]
  },
  {
   "cell_type": "code",
   "execution_count": 96,
   "metadata": {
    "collapsed": false,
    "scrolled": true
   },
   "outputs": [],
   "source": [
    "df10 = pd.concat([df9.loc[~pd.isnull(df9.eod_year), :], missing_eod2], axis=0).sort_values(NAME_COLS, axis=0)\n",
    "# drop duplicates on dno"
   ]
  },
  {
   "cell_type": "code",
   "execution_count": 97,
   "metadata": {
    "collapsed": true,
    "scrolled": true
   },
   "outputs": [],
   "source": [
    "df10A = df10.drop_duplicates('dno', keep='first')"
   ]
  },
  {
   "cell_type": "code",
   "execution_count": 98,
   "metadata": {
    "collapsed": false,
    "scrolled": true
   },
   "outputs": [
    {
     "name": "stderr",
     "output_type": "stream",
     "text": [
      "/home/lraymond/MIT/Azoulay_2016/yellow_berets/yb/lib/python2.7/site-packages/ipykernel/__main__.py:2: SettingWithCopyWarning: \n",
      "A value is trying to be set on a copy of a slice from a DataFrame.\n",
      "Try using .loc[row_indexer,col_indexer] = value instead\n",
      "\n",
      "See the caveats in the documentation: http://pandas.pydata.org/pandas-docs/stable/indexing.html#indexing-view-versus-copy\n",
      "  from ipykernel import kernelapp as app\n"
     ]
    }
   ],
   "source": [
    "dups = df10A.loc[df10A.duplicated(NAME_COLS+['clean_medical_school'], keep=False),:]\n",
    "dups['keep'] = 1\n",
    "dups.loc[pd.isnull(dups.duplicate_dno),'keep'] = 0\n",
    "# NAME_COLS+['eod_year', 'dno', 'duplicate_dno']]\n",
    "# df10A.loc[df10A.duplicated(NAME_COLS, keep=False), NAME_COLS+['duplicate_dno', 'dno']]"
   ]
  },
  {
   "cell_type": "code",
   "execution_count": 99,
   "metadata": {
    "collapsed": false,
    "scrolled": true
   },
   "outputs": [],
   "source": [
    "non_dups = dups.sort_values(NAME_COLS+['eod_year', 'keep'], ascending=False).drop(['keep'], axis=1)\n",
    "non_dups = non_dups.drop_duplicates(NAME_COLS+['eod_year'])"
   ]
  },
  {
   "cell_type": "code",
   "execution_count": 100,
   "metadata": {
    "collapsed": false
   },
   "outputs": [
    {
     "name": "stdout",
     "output_type": "stream",
     "text": [
      "(4063, 32)\n",
      "(4046, 32)\n"
     ]
    }
   ],
   "source": [
    "uniques = pd.concat([df10A.loc[~df10A.dno.isin(dups.dno)], non_dups]).drop_duplicates('dno')\n",
    "print df10A.shape\n",
    "print uniques.shape"
   ]
  },
  {
   "cell_type": "code",
   "execution_count": 102,
   "metadata": {
    "collapsed": false,
    "scrolled": true
   },
   "outputs": [],
   "source": [
    "lname = 'NAKASOTO'\n",
    "# df10.loc[~pd.isnull(df10.duplicate_dno), NAME_COLS+['dno', 'duplicate_dno']]\n",
    "# df10.loc[df10.clean_last_name.isin(['STEWART', 'BROWN', 'SHERWIN', 'YOUNGER']), NAME_COLS+['eod_year', 'dno', 'duplicate_dno', 'clean_medical_school']]\n",
    "# uniques.loc[uniques.clean_last_name.isin(['STEWART', 'BROWN', 'SHERWIN', 'YOUNGER']), NAME_COLS+['eod_year', 'dno', 'duplicate_dno', 'clean_medical_school']]"
   ]
  },
  {
   "cell_type": "code",
   "execution_count": 103,
   "metadata": {
    "collapsed": true
   },
   "outputs": [],
   "source": [
    "# add columns keeping old names so we can check them\n",
    "uniques['NIH_first_name'] = uniques.clean_first_name\n",
    "uniques['NIH_middle_name'] = uniques.clean_middle_name\n",
    "uniques['NIH_last_name'] = uniques.clean_last_name"
   ]
  },
  {
   "cell_type": "code",
   "execution_count": 104,
   "metadata": {
    "collapsed": false,
    "scrolled": true
   },
   "outputs": [],
   "source": [
    "# it seems that dno does refer to unique person, so drop dups based on that \n",
    "# save this unique to pick\n",
    "uniques.to_pickle(os.path.join(PICKLE_DIR, 'unique_attendees.p'))\n",
    "\n",
    "# to csv\n",
    "uniques.to_csv(os.path.join(ATT_DATA_DIR, 'unique_attendees.csv'))"
   ]
  },
  {
   "cell_type": "code",
   "execution_count": 105,
   "metadata": {
    "collapsed": false,
    "scrolled": true
   },
   "outputs": [],
   "source": [
    "missing_eod_year = df10.loc[pd.isnull(df10.eod_year), :].sort_values('clean_last_name')\n",
    "\n",
    "missing_eod_year[NAME_COLS+['clean_medical_school', 'dno']].to_csv(os.path.join(ATT_DATA_DIR, 'missing_eod_year.csv'), index=False)"
   ]
  },
  {
   "cell_type": "code",
   "execution_count": null,
   "metadata": {
    "collapsed": true,
    "scrolled": true
   },
   "outputs": [],
   "source": []
  }
 ],
 "metadata": {
  "kernelspec": {
   "display_name": "Python 2",
   "language": "python",
   "name": "python2"
  },
  "language_info": {
   "codemirror_mode": {
    "name": "ipython",
    "version": 2
   },
   "file_extension": ".py",
   "mimetype": "text/x-python",
   "name": "python",
   "nbconvert_exporter": "python",
   "pygments_lexer": "ipython2",
   "version": "2.7.12"
  }
 },
 "nbformat": 4,
 "nbformat_minor": 1
}
