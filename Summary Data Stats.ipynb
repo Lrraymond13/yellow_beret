{
 "cells": [
  {
   "cell_type": "code",
   "execution_count": 1,
   "metadata": {
    "collapsed": false
   },
   "outputs": [],
   "source": [
    "from collections import Counter\n",
    "import funcy\n",
    "from fuzzywuzzy import fuzz\n",
    "import numpy as np \n",
    "import pandas as pd \n",
    "import os\n",
    "\n",
    "from data_cleaning_functions import (trans_remov_punc, standardize_whitespace, remove_punc, remove_suffix_from_last_name,\n",
    "                                     clean_names, has_award, has_suffix, get_suffix, replace_last_name, \n",
    "                                     is_year_range, str_sim, clean_med_school, clean_std_college_name, long_form_date, \n",
    "                                    correct_mispellings)\n",
    "\n",
    "from dev import (\n",
    "    APP_DATA_DIR, SUM_STAT_DIR, ATT_DATA_DIR, CARD_DATA_DIR, CORRECTIONS_DIR, AWARDS_KEYWORDS, NAME_COLS, RAW_NAME_COLS, \n",
    "    RAW_CARD_ID, RAW_INDEX_IDS, PERSON_APPLICATION_ID, PERSON_ID, NIH_ID, FEMALE_FIRST_NAMES, FEMALE_MIDDLE_NAMES, \n",
    "    PICKLE_DIR, AAMC_DATA_DIR, GRANT_ID)\n",
    "\n",
    "from merging_functions import *\n",
    "\n",
    "OUTPUT_CSV = False \n",
    "\n",
    "PERSONAL_INFO = [\n",
    "    'clean_first_name', 'clean_last_name', 'clean_middle_name',\n",
    "    'date_of_birth', 'medical_school', 'clean_college_trans']\n",
    "\n",
    "\n",
    "# load autoreload extension\n",
    "%load_ext autoreload\n",
    "%autoreload 2"
   ]
  },
  {
   "cell_type": "code",
   "execution_count": 2,
   "metadata": {
    "collapsed": true
   },
   "outputs": [],
   "source": [
    "apps = pd.read_csv(os.path.join(APP_DATA_DIR, 'NIH_AAMC_index_cards_grant_standardized.csv')).drop('Unnamed: 0', axis=1)"
   ]
  },
  {
   "cell_type": "code",
   "execution_count": 3,
   "metadata": {
    "collapsed": true
   },
   "outputs": [],
   "source": [
    "apps = apps.rename(columns={'inst': 'medical_school_std', 'department': 'residency_department', \n",
    "                           'birth_country_cd': 'birth_country', 'institute': 'NIH_institution', \n",
    "                           'sub_department':'residency_sub_dep'})"
   ]
  },
  {
   "cell_type": "code",
   "execution_count": 4,
   "metadata": {
    "collapsed": true
   },
   "outputs": [],
   "source": [
    "apps['multiple_applications_flag'] = apps[['application_year_min', 'application_year_max']].apply(\n",
    "    lambda x: 1 if x[0] != x[1] else 0, axis=1)"
   ]
  },
  {
   "cell_type": "code",
   "execution_count": 5,
   "metadata": {
    "collapsed": true
   },
   "outputs": [],
   "source": [
    "def get_percent_df(df_raw, group_col_1, value_col):\n",
    "    if not isinstance(group_col_1, str):\n",
    "        grouping_1 = list(group_col_1)\n",
    "        grouping_2 = grouping_1 + [value_col]\n",
    "    else:\n",
    "        grouping_1 = [group_col_1]\n",
    "        grouping_2 = [group_col_1, value_col]\n",
    "    c = df_raw.groupby(grouping_1)[PERSON_ID].apply(lambda x: len(x))\n",
    "    d2_raw = pd.DataFrame(df_raw.groupby(grouping_2)[PERSON_ID].apply(lambda x: len(x.unique())))\n",
    "    vals = []\n",
    "    for v in c.index.values:\n",
    "        try:\n",
    "            d2_0 = d2_raw.xs(v, level=group_col_1, drop_level=False).apply(lambda x: x/c[v])\n",
    "            vals.append(d2_0)\n",
    "        except KeyError as e:\n",
    "            # if no grouped values in the index, continue loop\n",
    "            print e\n",
    "    concat_df = pd.concat(vals, axis=0)\n",
    "    return concat_df"
   ]
  },
  {
   "cell_type": "code",
   "execution_count": 6,
   "metadata": {
    "collapsed": true
   },
   "outputs": [],
   "source": [
    "def calc_sum_stats(df, excel_writer, col_name, combos=None):\n",
    "    # to basic grouping \n",
    "    d1_size = df.shape[0]\n",
    "    d1 = pd.DataFrame(df[col_name].value_counts(dropna=False)/d1_size)\n",
    "    d1.to_excel(excel_writer, col_name)\n",
    "    if not combos:\n",
    "        combos = [('control_flag', '{}_control_flag'), ('application_year_min', '{}_app_year'), \n",
    "                     (('control_flag', 'application_year_min'), '{}_app_year_control')]\n",
    "    for grouping_combo, sheet_name in combos:\n",
    "        formatted_sheetname = sheet_name.format(col_name)[:30]\n",
    "        d2 = get_percent_df(df, grouping_combo, col_name)\n",
    "        d2.to_excel(excel_writer, formatted_sheetname)\n",
    "#     d3 = get_percent_df(df, 'application_year_min', col_name)\n",
    "#     d3.to_excel(excel_writer, '{}_app_year'.format(col_name)[:30])\n",
    "#     d4 = get_percent_df(df, ('control_flag', 'application_year_min'), col_name)\n",
    "#     d4.to_excel(excel_writer, '{}_app_year_control'.format(col_name)[:30])\n",
    "    excel_writer.save()\n",
    "    # write each to excel"
   ]
  },
  {
   "cell_type": "code",
   "execution_count": 7,
   "metadata": {
    "collapsed": false,
    "scrolled": true
   },
   "outputs": [],
   "source": [
    "writer = pd.ExcelWriter(os.path.join(PICKLE_DIR, 'sample_summary_stats.xlsx'), engine='openpyxl')"
   ]
  },
  {
   "cell_type": "code",
   "execution_count": 8,
   "metadata": {
    "collapsed": false
   },
   "outputs": [],
   "source": [
    "calc_sum_stats(apps, writer, 'medical_school_std', None)"
   ]
  },
  {
   "cell_type": "code",
   "execution_count": 9,
   "metadata": {
    "collapsed": false
   },
   "outputs": [
    {
     "name": "stdout",
     "output_type": "stream",
     "text": [
      "1L\n",
      "1L\n",
      "1L\n",
      "1L\n",
      "1L\n",
      "1L\n",
      "1L\n",
      "1L\n",
      "1L\n",
      "1L\n",
      "1L\n",
      "1L\n",
      "1L\n",
      "1L\n",
      "1L\n"
     ]
    }
   ],
   "source": [
    "calc_sum_stats(apps, writer, 'residency_department', None)\n",
    "calc_sum_stats(apps, writer, 'residency_hospital_std', None)\n",
    "calc_sum_stats(apps, writer, 'internship_hospital_std', None)\n",
    "calc_sum_stats(apps, writer, 'eod_year', None)\n",
    "calc_sum_stats(apps, writer, 'application_year_min', [('control_flag', '{}_control_flag')])"
   ]
  },
  {
   "cell_type": "code",
   "execution_count": 10,
   "metadata": {
    "collapsed": false
   },
   "outputs": [
    {
     "name": "stdout",
     "output_type": "stream",
     "text": [
      "1959.0\n",
      "1960.0\n",
      "1959.0\n",
      "1960.0\n",
      "1959.0\n",
      "1959.0\n"
     ]
    }
   ],
   "source": [
    "calc_sum_stats(apps, writer, 'birth_country')\n",
    "calc_sum_stats(apps, writer, 'birth_year')\n",
    "calc_sum_stats(apps, writer, 'multiple_applications_flag')"
   ]
  },
  {
   "cell_type": "code",
   "execution_count": 11,
   "metadata": {
    "collapsed": true
   },
   "outputs": [],
   "source": [
    "def count_missing_values(df, col_name, NULL_VALS=None):\n",
    "    if not NULL_VALS:\n",
    "        NULL_VALS = ['NONE', 'OTHER', '', 'None', 'NA']\n",
    "    df.loc[df[col_name].isin(NULL_VALS), col_name] = np.nan\n",
    "    missing_mask = pd.isnull(df[col_name])\n",
    "    missing_colname = '{}_missing'.format(col_name)\n",
    "    df[missing_colname] = 0\n",
    "    df.loc[missing_mask, missing_colname] = 1\n",
    "    miss_series = df[missing_colname].value_counts()/df.shape[0]\n",
    "    return miss_series"
   ]
  },
  {
   "cell_type": "code",
   "execution_count": 12,
   "metadata": {
    "collapsed": false
   },
   "outputs": [],
   "source": [
    "res = map(lambda x: count_missing_values(apps, x), \n",
    "          ['clean_first_name', 'clean_middle_name', 'clean_last_name', \n",
    "            'birth_country', 'birth_year', 'medical_school_std', 'residency_department',\n",
    "             'residency_hospital', 'internship_hospital', 'undergrad_year_grad', 'race', \n",
    "            'clean_college', 'medschool_year_grad', 'internship_start', 'internship_end',\n",
    "            'residency_start', 'residency_end', 'address', 'city', 'state', 'aamc_id', \n",
    "           'eod_year',  'application_year_min'])"
   ]
  },
  {
   "cell_type": "code",
   "execution_count": 13,
   "metadata": {
    "collapsed": false
   },
   "outputs": [],
   "source": [
    "missing_series = pd.concat(res, axis=1)\n",
    "missing_series.to_csv(os.path.join(SUM_STAT_DIR, 'missing_data_summary_stats.csv'))"
   ]
  },
  {
   "cell_type": "code",
   "execution_count": 14,
   "metadata": {
    "collapsed": false
   },
   "outputs": [
    {
     "data": {
      "text/html": [
       "<div>\n",
       "<table border=\"1\" class=\"dataframe\">\n",
       "  <thead>\n",
       "    <tr style=\"text-align: right;\">\n",
       "      <th></th>\n",
       "      <th>clean_first_name</th>\n",
       "      <th>clean_middle_name</th>\n",
       "      <th>clean_last_name</th>\n",
       "      <th>application_year_min</th>\n",
       "      <th>application_year_max</th>\n",
       "      <th>application_year</th>\n",
       "    </tr>\n",
       "  </thead>\n",
       "  <tbody>\n",
       "    <tr>\n",
       "      <th>628</th>\n",
       "      <td>JOSEPH</td>\n",
       "      <td>DANIEL</td>\n",
       "      <td>NaN</td>\n",
       "      <td>1959.0</td>\n",
       "      <td>1970.0</td>\n",
       "      <td>1970.0</td>\n",
       "    </tr>\n",
       "    <tr>\n",
       "      <th>3110</th>\n",
       "      <td>DONALD</td>\n",
       "      <td>NaN</td>\n",
       "      <td>PUGATCH</td>\n",
       "      <td>1959.0</td>\n",
       "      <td>1961.0</td>\n",
       "      <td>1961.0</td>\n",
       "    </tr>\n",
       "  </tbody>\n",
       "</table>\n",
       "</div>"
      ],
      "text/plain": [
       "     clean_first_name clean_middle_name clean_last_name  application_year_min  \\\n",
       "628            JOSEPH            DANIEL             NaN                1959.0   \n",
       "3110           DONALD               NaN         PUGATCH                1959.0   \n",
       "\n",
       "      application_year_max  application_year  \n",
       "628                 1970.0            1970.0  \n",
       "3110                1961.0            1961.0  "
      ]
     },
     "execution_count": 14,
     "metadata": {},
     "output_type": "execute_result"
    }
   ],
   "source": [
    "apps.loc[apps.application_year_min==1959, NAME_COLS+['application_year_min', 'application_year_max', 'application_year']]"
   ]
  },
  {
   "cell_type": "code",
   "execution_count": 15,
   "metadata": {
    "collapsed": false
   },
   "outputs": [
    {
     "data": {
      "text/plain": [
       "0    202\n",
       "1     16\n",
       "Name: control_flag, dtype: int64"
      ]
     },
     "execution_count": 15,
     "metadata": {},
     "output_type": "execute_result"
    }
   ],
   "source": [
    "apps.loc[apps.application_year_min==1968, 'control_flag'].value_counts()"
   ]
  },
  {
   "cell_type": "code",
   "execution_count": 16,
   "metadata": {
    "collapsed": false
   },
   "outputs": [
    {
     "data": {
      "text/plain": [
       "1971.0    679\n",
       "1970.0    460\n",
       "1972.0    428\n",
       "1967.0    223\n",
       "1969.0    220\n",
       "1968.0    218\n",
       "1973.0    214\n",
       "1963.0    200\n",
       "1966.0    184\n",
       "1965.0    180\n",
       "1964.0    164\n",
       "1962.0    152\n",
       "1961.0    140\n",
       "1975.0    136\n",
       "1974.0    129\n",
       "1960.0      6\n",
       "1959.0      2\n",
       "Name: application_year_min, dtype: int64"
      ]
     },
     "execution_count": 16,
     "metadata": {},
     "output_type": "execute_result"
    }
   ],
   "source": [
    "apps.application_year_min.value_counts()"
   ]
  },
  {
   "cell_type": "code",
   "execution_count": 17,
   "metadata": {
    "collapsed": false
   },
   "outputs": [
    {
     "data": {
      "text/plain": [
       "1971.0    318\n",
       "1970.0    256\n",
       "1972.0    240\n",
       "1967.0    211\n",
       "1968.0    202\n",
       "1963.0    198\n",
       "1969.0    197\n",
       "1966.0    180\n",
       "1965.0    173\n",
       "1964.0    164\n",
       "1962.0    151\n",
       "1973.0    139\n",
       "1961.0    138\n",
       "1975.0     93\n",
       "1974.0     90\n",
       "1960.0      6\n",
       "1959.0      2\n",
       "Name: application_year_min, dtype: int64"
      ]
     },
     "execution_count": 17,
     "metadata": {},
     "output_type": "execute_result"
    }
   ],
   "source": [
    "apps.loc[apps.control_flag==0, :].application_year_min.value_counts()"
   ]
  },
  {
   "cell_type": "code",
   "execution_count": 14,
   "metadata": {
    "collapsed": true
   },
   "outputs": [],
   "source": [
    "# change all numerical values to percents\n",
    "# remove grant data"
   ]
  },
  {
   "cell_type": "code",
   "execution_count": 29,
   "metadata": {
    "collapsed": true
   },
   "outputs": [],
   "source": []
  },
  {
   "cell_type": "code",
   "execution_count": 34,
   "metadata": {
    "collapsed": false
   },
   "outputs": [
    {
     "data": {
      "text/plain": [
       "Index([u'Unnamed: 0', u'citizenship', u'data_source', u'dno', u'dob',\n",
       "       u'eod_year', u'firstname', u'generation', u'institute',\n",
       "       u'internship_hospital', u'lab_brch', u'lastname', u'medical_school',\n",
       "       u'middlename', u'program', u'residency_hospital', u'residency',\n",
       "       u'source', u'ssn', u'supervisor', u'unknown', u'year_grad', u'suffix',\n",
       "       u'clean_first_name', u'clean_middle_name', u'clean_last_name',\n",
       "       u'res_dates', u'intern_dates', u'clean_medical_school'],\n",
       "      dtype='object')"
      ]
     },
     "execution_count": 34,
     "metadata": {},
     "output_type": "execute_result"
    }
   ],
   "source": [
    "nih.columns"
   ]
  },
  {
   "cell_type": "code",
   "execution_count": 27,
   "metadata": {
    "collapsed": false
   },
   "outputs": [
    {
     "data": {
      "text/html": [
       "<div>\n",
       "<table border=\"1\" class=\"dataframe\">\n",
       "  <thead>\n",
       "    <tr style=\"text-align: right;\">\n",
       "      <th></th>\n",
       "      <th>clean_first_name</th>\n",
       "      <th>clean_middle_name</th>\n",
       "      <th>clean_last_name</th>\n",
       "      <th>control_flag</th>\n",
       "      <th>medical_school</th>\n",
       "    </tr>\n",
       "  </thead>\n",
       "  <tbody>\n",
       "    <tr>\n",
       "      <th>629</th>\n",
       "      <td>NaN</td>\n",
       "      <td>NaN</td>\n",
       "      <td>DEPPERMAN</td>\n",
       "      <td>1</td>\n",
       "      <td>PENNSLYVANIA</td>\n",
       "    </tr>\n",
       "    <tr>\n",
       "      <th>630</th>\n",
       "      <td>NaN</td>\n",
       "      <td>NaN</td>\n",
       "      <td>NEIDENGARD</td>\n",
       "      <td>1</td>\n",
       "      <td>JOHNS HOPKINS</td>\n",
       "    </tr>\n",
       "    <tr>\n",
       "      <th>631</th>\n",
       "      <td>NaN</td>\n",
       "      <td>NaN</td>\n",
       "      <td>MESIEFIELD</td>\n",
       "      <td>0</td>\n",
       "      <td>HARVARD</td>\n",
       "    </tr>\n",
       "    <tr>\n",
       "      <th>632</th>\n",
       "      <td>NaN</td>\n",
       "      <td>NaN</td>\n",
       "      <td>LUCKY</td>\n",
       "      <td>0</td>\n",
       "      <td>YALE</td>\n",
       "    </tr>\n",
       "    <tr>\n",
       "      <th>633</th>\n",
       "      <td>NaN</td>\n",
       "      <td>NaN</td>\n",
       "      <td>LICHTER</td>\n",
       "      <td>0</td>\n",
       "      <td>NaN</td>\n",
       "    </tr>\n",
       "    <tr>\n",
       "      <th>635</th>\n",
       "      <td>NaN</td>\n",
       "      <td>NaN</td>\n",
       "      <td>LAURENO</td>\n",
       "      <td>1</td>\n",
       "      <td>CORNELL</td>\n",
       "    </tr>\n",
       "    <tr>\n",
       "      <th>638</th>\n",
       "      <td>NaN</td>\n",
       "      <td>NaN</td>\n",
       "      <td>DREWS</td>\n",
       "      <td>0</td>\n",
       "      <td>COLORADO HEALTH SCIENCES CENTER</td>\n",
       "    </tr>\n",
       "    <tr>\n",
       "      <th>643</th>\n",
       "      <td>NaN</td>\n",
       "      <td>WILLIAM</td>\n",
       "      <td>MCLAIN</td>\n",
       "      <td>0</td>\n",
       "      <td>DUKE</td>\n",
       "    </tr>\n",
       "    <tr>\n",
       "      <th>647</th>\n",
       "      <td>NaN</td>\n",
       "      <td>VIRGIL</td>\n",
       "      <td>FAMIGLIETTI</td>\n",
       "      <td>1</td>\n",
       "      <td>YALE</td>\n",
       "    </tr>\n",
       "    <tr>\n",
       "      <th>648</th>\n",
       "      <td>NaN</td>\n",
       "      <td>VINCENT</td>\n",
       "      <td>CHISARI</td>\n",
       "      <td>0</td>\n",
       "      <td>CORNELL</td>\n",
       "    </tr>\n",
       "    <tr>\n",
       "      <th>652</th>\n",
       "      <td>NaN</td>\n",
       "      <td>SAMUEL</td>\n",
       "      <td>KORPELL</td>\n",
       "      <td>1</td>\n",
       "      <td>SUNY</td>\n",
       "    </tr>\n",
       "    <tr>\n",
       "      <th>653</th>\n",
       "      <td>NaN</td>\n",
       "      <td>S</td>\n",
       "      <td>FEIT</td>\n",
       "      <td>1</td>\n",
       "      <td>ALBERT EINSTEIN COLLEGE OF MEDICINE OF YESHIVA</td>\n",
       "    </tr>\n",
       "    <tr>\n",
       "      <th>654</th>\n",
       "      <td>NaN</td>\n",
       "      <td>ROY</td>\n",
       "      <td>LODISH</td>\n",
       "      <td>0</td>\n",
       "      <td>CASE WESTERN</td>\n",
       "    </tr>\n",
       "    <tr>\n",
       "      <th>663</th>\n",
       "      <td>NaN</td>\n",
       "      <td>OWEN</td>\n",
       "      <td>LYMAN</td>\n",
       "      <td>1</td>\n",
       "      <td>YALE</td>\n",
       "    </tr>\n",
       "    <tr>\n",
       "      <th>664</th>\n",
       "      <td>NaN</td>\n",
       "      <td>O</td>\n",
       "      <td>KOEHLER</td>\n",
       "      <td>0</td>\n",
       "      <td>PENNSYLVANIA STATE</td>\n",
       "    </tr>\n",
       "    <tr>\n",
       "      <th>667</th>\n",
       "      <td>NaN</td>\n",
       "      <td>MOSS</td>\n",
       "      <td>LICHTENFELD</td>\n",
       "      <td>0</td>\n",
       "      <td>JEFFERSON MEDICAL</td>\n",
       "    </tr>\n",
       "    <tr>\n",
       "      <th>676</th>\n",
       "      <td>NaN</td>\n",
       "      <td>M</td>\n",
       "      <td>PARHAD</td>\n",
       "      <td>1</td>\n",
       "      <td>NaN</td>\n",
       "    </tr>\n",
       "    <tr>\n",
       "      <th>684</th>\n",
       "      <td>NaN</td>\n",
       "      <td>JOHN</td>\n",
       "      <td>MOLINARI</td>\n",
       "      <td>1</td>\n",
       "      <td>JEFFERSON MEDICAL</td>\n",
       "    </tr>\n",
       "    <tr>\n",
       "      <th>687</th>\n",
       "      <td>NaN</td>\n",
       "      <td>JAY</td>\n",
       "      <td>FARBER</td>\n",
       "      <td>1</td>\n",
       "      <td>SUNY</td>\n",
       "    </tr>\n",
       "    <tr>\n",
       "      <th>688</th>\n",
       "      <td>NaN</td>\n",
       "      <td>JACOBSEN</td>\n",
       "      <td>BENNION</td>\n",
       "      <td>0</td>\n",
       "      <td>HARVARD</td>\n",
       "    </tr>\n",
       "    <tr>\n",
       "      <th>689</th>\n",
       "      <td>NaN</td>\n",
       "      <td>JACOBIUS</td>\n",
       "      <td>GUIDO</td>\n",
       "      <td>1</td>\n",
       "      <td>COLUMBIA</td>\n",
       "    </tr>\n",
       "    <tr>\n",
       "      <th>692</th>\n",
       "      <td>NaN</td>\n",
       "      <td>I</td>\n",
       "      <td>LIPSCHUTZ</td>\n",
       "      <td>1</td>\n",
       "      <td>PENNSLYVANIA</td>\n",
       "    </tr>\n",
       "    <tr>\n",
       "      <th>696</th>\n",
       "      <td>NaN</td>\n",
       "      <td>GODDARD</td>\n",
       "      <td>REHN</td>\n",
       "      <td>0</td>\n",
       "      <td>JOHNS HOPKINS</td>\n",
       "    </tr>\n",
       "    <tr>\n",
       "      <th>698</th>\n",
       "      <td>NaN</td>\n",
       "      <td>G</td>\n",
       "      <td>GRAYSON</td>\n",
       "      <td>0</td>\n",
       "      <td>HARVARD</td>\n",
       "    </tr>\n",
       "    <tr>\n",
       "      <th>701</th>\n",
       "      <td>NaN</td>\n",
       "      <td>FELIX</td>\n",
       "      <td>FRESHWATER</td>\n",
       "      <td>1</td>\n",
       "      <td>YALE</td>\n",
       "    </tr>\n",
       "    <tr>\n",
       "      <th>702</th>\n",
       "      <td>NaN</td>\n",
       "      <td>F</td>\n",
       "      <td>LECKMAN</td>\n",
       "      <td>1</td>\n",
       "      <td>NaN</td>\n",
       "    </tr>\n",
       "    <tr>\n",
       "      <th>707</th>\n",
       "      <td>NaN</td>\n",
       "      <td>E</td>\n",
       "      <td>CLEMENTS</td>\n",
       "      <td>0</td>\n",
       "      <td>MARYLAND</td>\n",
       "    </tr>\n",
       "    <tr>\n",
       "      <th>708</th>\n",
       "      <td>NaN</td>\n",
       "      <td>DAVID</td>\n",
       "      <td>NEUMASTER</td>\n",
       "      <td>0</td>\n",
       "      <td>MIAMI</td>\n",
       "    </tr>\n",
       "    <tr>\n",
       "      <th>711</th>\n",
       "      <td>NaN</td>\n",
       "      <td>DARYLL</td>\n",
       "      <td>CAHAN</td>\n",
       "      <td>0</td>\n",
       "      <td>UCLA</td>\n",
       "    </tr>\n",
       "    <tr>\n",
       "      <th>712</th>\n",
       "      <td>NaN</td>\n",
       "      <td>DANIEL</td>\n",
       "      <td>LESERMAN</td>\n",
       "      <td>0</td>\n",
       "      <td>UNIVERSITY OF CHICAGO</td>\n",
       "    </tr>\n",
       "    <tr>\n",
       "      <th>714</th>\n",
       "      <td>NaN</td>\n",
       "      <td>CASPER</td>\n",
       "      <td>PRZYBYLA</td>\n",
       "      <td>1</td>\n",
       "      <td>COLUMBIA</td>\n",
       "    </tr>\n",
       "    <tr>\n",
       "      <th>716</th>\n",
       "      <td>NaN</td>\n",
       "      <td>C</td>\n",
       "      <td>RIPLEY</td>\n",
       "      <td>1</td>\n",
       "      <td>GEORGE WASHINGTON</td>\n",
       "    </tr>\n",
       "    <tr>\n",
       "      <th>717</th>\n",
       "      <td>NaN</td>\n",
       "      <td>BORDEN</td>\n",
       "      <td>MCDANIEL</td>\n",
       "      <td>1</td>\n",
       "      <td>MISSISSIPPI</td>\n",
       "    </tr>\n",
       "    <tr>\n",
       "      <th>718</th>\n",
       "      <td>NaN</td>\n",
       "      <td>BLANCO</td>\n",
       "      <td>KENNEDY</td>\n",
       "      <td>1</td>\n",
       "      <td>TENNESSEE HEALTH SCIENCE CENTER</td>\n",
       "    </tr>\n",
       "    <tr>\n",
       "      <th>719</th>\n",
       "      <td>NaN</td>\n",
       "      <td>BEN</td>\n",
       "      <td>POSEY</td>\n",
       "      <td>1</td>\n",
       "      <td>BAYLOR</td>\n",
       "    </tr>\n",
       "    <tr>\n",
       "      <th>725</th>\n",
       "      <td>NaN</td>\n",
       "      <td>ALAN</td>\n",
       "      <td>MINTZER</td>\n",
       "      <td>1</td>\n",
       "      <td>LOUISVILLE</td>\n",
       "    </tr>\n",
       "    <tr>\n",
       "      <th>727</th>\n",
       "      <td>NaN</td>\n",
       "      <td>ALAN</td>\n",
       "      <td>FOON</td>\n",
       "      <td>1</td>\n",
       "      <td>WAYNE STATE</td>\n",
       "    </tr>\n",
       "  </tbody>\n",
       "</table>\n",
       "</div>"
      ],
      "text/plain": [
       "    clean_first_name clean_middle_name clean_last_name  control_flag  \\\n",
       "629              NaN               NaN       DEPPERMAN             1   \n",
       "630              NaN               NaN      NEIDENGARD             1   \n",
       "631              NaN               NaN      MESIEFIELD             0   \n",
       "632              NaN               NaN           LUCKY             0   \n",
       "633              NaN               NaN         LICHTER             0   \n",
       "635              NaN               NaN         LAURENO             1   \n",
       "638              NaN               NaN           DREWS             0   \n",
       "643              NaN           WILLIAM          MCLAIN             0   \n",
       "647              NaN            VIRGIL     FAMIGLIETTI             1   \n",
       "648              NaN           VINCENT         CHISARI             0   \n",
       "652              NaN            SAMUEL         KORPELL             1   \n",
       "653              NaN                 S            FEIT             1   \n",
       "654              NaN               ROY          LODISH             0   \n",
       "663              NaN              OWEN           LYMAN             1   \n",
       "664              NaN                 O         KOEHLER             0   \n",
       "667              NaN              MOSS     LICHTENFELD             0   \n",
       "676              NaN                 M          PARHAD             1   \n",
       "684              NaN              JOHN        MOLINARI             1   \n",
       "687              NaN               JAY          FARBER             1   \n",
       "688              NaN          JACOBSEN         BENNION             0   \n",
       "689              NaN          JACOBIUS           GUIDO             1   \n",
       "692              NaN                 I       LIPSCHUTZ             1   \n",
       "696              NaN           GODDARD            REHN             0   \n",
       "698              NaN                 G         GRAYSON             0   \n",
       "701              NaN             FELIX      FRESHWATER             1   \n",
       "702              NaN                 F         LECKMAN             1   \n",
       "707              NaN                 E        CLEMENTS             0   \n",
       "708              NaN             DAVID       NEUMASTER             0   \n",
       "711              NaN            DARYLL           CAHAN             0   \n",
       "712              NaN            DANIEL        LESERMAN             0   \n",
       "714              NaN            CASPER        PRZYBYLA             1   \n",
       "716              NaN                 C          RIPLEY             1   \n",
       "717              NaN            BORDEN        MCDANIEL             1   \n",
       "718              NaN            BLANCO         KENNEDY             1   \n",
       "719              NaN               BEN           POSEY             1   \n",
       "725              NaN              ALAN         MINTZER             1   \n",
       "727              NaN              ALAN            FOON             1   \n",
       "\n",
       "                                     medical_school  \n",
       "629                                    PENNSLYVANIA  \n",
       "630                                   JOHNS HOPKINS  \n",
       "631                                         HARVARD  \n",
       "632                                            YALE  \n",
       "633                                             NaN  \n",
       "635                                         CORNELL  \n",
       "638                 COLORADO HEALTH SCIENCES CENTER  \n",
       "643                                            DUKE  \n",
       "647                                            YALE  \n",
       "648                                         CORNELL  \n",
       "652                                            SUNY  \n",
       "653  ALBERT EINSTEIN COLLEGE OF MEDICINE OF YESHIVA  \n",
       "654                                    CASE WESTERN  \n",
       "663                                            YALE  \n",
       "664                              PENNSYLVANIA STATE  \n",
       "667                               JEFFERSON MEDICAL  \n",
       "676                                             NaN  \n",
       "684                               JEFFERSON MEDICAL  \n",
       "687                                            SUNY  \n",
       "688                                         HARVARD  \n",
       "689                                        COLUMBIA  \n",
       "692                                    PENNSLYVANIA  \n",
       "696                                   JOHNS HOPKINS  \n",
       "698                                         HARVARD  \n",
       "701                                            YALE  \n",
       "702                                             NaN  \n",
       "707                                        MARYLAND  \n",
       "708                                           MIAMI  \n",
       "711                                            UCLA  \n",
       "712                           UNIVERSITY OF CHICAGO  \n",
       "714                                        COLUMBIA  \n",
       "716                               GEORGE WASHINGTON  \n",
       "717                                     MISSISSIPPI  \n",
       "718                 TENNESSEE HEALTH SCIENCE CENTER  \n",
       "719                                          BAYLOR  \n",
       "725                                      LOUISVILLE  \n",
       "727                                     WAYNE STATE  "
      ]
     },
     "execution_count": 27,
     "metadata": {},
     "output_type": "execute_result"
    }
   ],
   "source": [
    "# check for any suffixes or incorrect names\n",
    "# check for people with missing first/last names\n",
    "# find people with year accepted but not matched to NIH data set\n",
    "# add last name counts\n",
    "apps.loc[pd.isnull(apps.clean_first_name), NAME_COLS+['control_flag', 'medical_school']]"
   ]
  },
  {
   "cell_type": "code",
   "execution_count": null,
   "metadata": {
    "collapsed": true
   },
   "outputs": [],
   "source": []
  }
 ],
 "metadata": {
  "kernelspec": {
   "display_name": "Python 2",
   "language": "python",
   "name": "python2"
  },
  "language_info": {
   "codemirror_mode": {
    "name": "ipython",
    "version": 2
   },
   "file_extension": ".py",
   "mimetype": "text/x-python",
   "name": "python",
   "nbconvert_exporter": "python",
   "pygments_lexer": "ipython2",
   "version": "2.7.12"
  }
 },
 "nbformat": 4,
 "nbformat_minor": 1
}
