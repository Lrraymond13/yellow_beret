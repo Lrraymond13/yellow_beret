{
 "cells": [
  {
   "cell_type": "code",
   "execution_count": 1,
   "metadata": {
    "collapsed": false
   },
   "outputs": [],
   "source": [
    "from collections import Counter\n",
    "import funcy\n",
    "from fuzzywuzzy import fuzz\n",
    "import numpy as np \n",
    "import pandas as pd \n",
    "import os\n",
    "\n",
    "from data_cleaning_functions import (trans_remov_punc, standardize_whitespace, remove_punc, remove_suffix_from_last_name,\n",
    "                                     clean_names, has_award, has_suffix, get_suffix, replace_last_name, \n",
    "                                     is_year_range, str_sim, clean_med_school, clean_std_college_name, long_form_date, \n",
    "                                    correct_mispellings)\n",
    "\n",
    "from dev import (\n",
    "    APP_DATA_DIR, GRANT_DATA_DIR,  NAME_COLS, RAW_NAME_COLS, FEMALE_FIRST_NAMES, FEMALE_MIDDLE_NAMES,\n",
    "    RAW_CARD_ID, RAW_INDEX_IDS, PERSON_APPLICATION_ID, PERSON_ID, NIH_ID, PICKLE_DIR, STD_DIR, ATT_DATA_DIR)\n",
    "\n",
    "from merging_functions import *\n",
    "\n",
    "OUTPUT_CSV = False \n",
    "\n",
    "PERSONAL_INFO = [\n",
    "    'clean_first_name', 'clean_last_name', 'clean_middle_name',\n",
    "    'date_of_birth', 'medical_school', 'clean_college_trans']\n",
    "\n",
    "\n",
    "# load autoreload extension\n",
    "%load_ext autoreload\n",
    "%autoreload 2"
   ]
  },
  {
   "cell_type": "code",
   "execution_count": 2,
   "metadata": {
    "collapsed": true
   },
   "outputs": [],
   "source": [
    "apps = pd.read_csv(os.path.join(APP_DATA_DIR, 'NIH_AAMC_index_cards_standardized.csv')).drop('Unnamed: 0', axis=1)"
   ]
  },
  {
   "cell_type": "code",
   "execution_count": 3,
   "metadata": {
    "collapsed": false
   },
   "outputs": [],
   "source": [
    "grant_data = pd.read_stata(os.path.join(GRANT_DATA_DIR, 'grant_data.dta'))"
   ]
  },
  {
   "cell_type": "code",
   "execution_count": 4,
   "metadata": {
    "collapsed": true
   },
   "outputs": [],
   "source": [
    "stars_data = pd.read_stata(os.path.join(GRANT_DATA_DIR, 'stars_data.dta'))"
   ]
  },
  {
   "cell_type": "code",
   "execution_count": 5,
   "metadata": {
    "collapsed": true
   },
   "outputs": [],
   "source": [
    "grant_data.columns = map(lambda x: x.lower(), grant_data.columns)"
   ]
  },
  {
   "cell_type": "code",
   "execution_count": 6,
   "metadata": {
    "collapsed": true
   },
   "outputs": [],
   "source": [
    "stars_data.columns = map(lambda x: x.lower(), stars_data.columns)"
   ]
  },
  {
   "cell_type": "code",
   "execution_count": 7,
   "metadata": {
    "collapsed": true
   },
   "outputs": [],
   "source": [
    "stars_data['is_star'] = 1"
   ]
  },
  {
   "cell_type": "code",
   "execution_count": 8,
   "metadata": {
    "collapsed": false
   },
   "outputs": [],
   "source": [
    "unique_grants = grant_data.sort_values('year').drop_duplicates(\n",
    "    ['newsetnb'], keep='first')[\n",
    "        ['first', 'middle', 'last', 'suffix', 'newsetnb', 'mdyear', 'phdyear', 'year']].rename(columns={'year': 'first_grant_year'})"
   ]
  },
  {
   "cell_type": "code",
   "execution_count": 9,
   "metadata": {
    "collapsed": true
   },
   "outputs": [],
   "source": [
    "unique_grants2 = pd.concat([stars_data.drop(['fullname'], axis=1), unique_grants], axis=0)"
   ]
  },
  {
   "cell_type": "code",
   "execution_count": 10,
   "metadata": {
    "collapsed": false
   },
   "outputs": [],
   "source": [
    "unique_grants2['clean_first_name'] = unique_grants2['first'].apply(clean_names)\n",
    "unique_grants2['clean_middle_name'] = unique_grants2['middle'].apply(clean_names)\n",
    "\n",
    "unique_grants2['clean_last_name'] = unique_grants2['last'].apply(clean_names)"
   ]
  },
  {
   "cell_type": "code",
   "execution_count": 11,
   "metadata": {
    "collapsed": false
   },
   "outputs": [],
   "source": [
    "female_mask = (\n",
    "    (unique_grants2['clean_first_name'].isin(FEMALE_FIRST_NAMES))| (\n",
    "        unique_grants2['clean_middle_name'].isin(FEMALE_MIDDLE_NAMES)))\n",
    "unique_grants2['is_female'] = 0\n",
    "unique_grants2.loc[female_mask, 'is_female'] = 1"
   ]
  },
  {
   "cell_type": "code",
   "execution_count": 12,
   "metadata": {
    "collapsed": false
   },
   "outputs": [],
   "source": [
    "def get_initial(raw_str):\n",
    "    if pd.isnull(raw_str):\n",
    "        return np.nan\n",
    "    if len(raw_str) == 1:\n",
    "        return raw_str\n",
    "    return raw_str[0]\n",
    "\n",
    "unique_grants2['clean_middle_initial'] = unique_grants2.clean_middle_name.apply(get_initial)\n",
    "unique_grants2['clean_first_initial'] = unique_grants2.clean_first_name.apply(get_initial)"
   ]
  },
  {
   "cell_type": "code",
   "execution_count": 13,
   "metadata": {
    "collapsed": true
   },
   "outputs": [],
   "source": [
    "unique_grants3 = unique_grants2[unique_grants2.is_female==0].sort_values(['newsetnb', 'is_star'], ascending=False).drop_duplicates(['newsetnb'], keep='first')"
   ]
  },
  {
   "cell_type": "code",
   "execution_count": 14,
   "metadata": {
    "collapsed": false
   },
   "outputs": [],
   "source": [
    "apps_counter = Counter(apps.clean_last_name.values)\n",
    "unique_grants3['last_name_counts'] = unique_grants3.clean_last_name.apply(lambda x: apps_counter[x])\n",
    "unique_grants4 = unique_grants3[\n",
    "    ((unique_grants3.last_name_counts>1) & pd.isnull(unique_grants3.mdyear)) | \n",
    "    ((unique_grants3.last_name_counts>1) & (unique_grants3.mdyear<1975) & (unique_grants3.mdyear>1960))]"
   ]
  },
  {
   "cell_type": "code",
   "execution_count": 15,
   "metadata": {
    "collapsed": true
   },
   "outputs": [],
   "source": [
    "unique_grants4 = unique_grants4.rename(columns={'mdyear': 'medschool_year_grad', 'phdyear': 'phd_year_grad', \n",
    "                                               'star_yob':'birth_year', 'star_yod': 'death_year'})"
   ]
  },
  {
   "cell_type": "code",
   "execution_count": 16,
   "metadata": {
    "collapsed": false
   },
   "outputs": [
    {
     "data": {
      "text/plain": [
       "(24037, 21)"
      ]
     },
     "execution_count": 16,
     "metadata": {},
     "output_type": "execute_result"
    }
   ],
   "source": [
    "unique_grants4.shape"
   ]
  },
  {
   "cell_type": "code",
   "execution_count": 17,
   "metadata": {
    "collapsed": true
   },
   "outputs": [],
   "source": [
    "del unique_grants2, unique_grants"
   ]
  },
  {
   "cell_type": "code",
   "execution_count": 18,
   "metadata": {
    "collapsed": false
   },
   "outputs": [
    {
     "data": {
      "text/plain": [
       "(2718, 134)"
      ]
     },
     "execution_count": 18,
     "metadata": {},
     "output_type": "execute_result"
    }
   ],
   "source": [
    "exact = pd.merge(\n",
    "    left=apps, right=unique_grants4, on=['clean_first_name', 'clean_last_name'], how='inner', suffixes=['_x', '_y'])\n",
    "exact.shape"
   ]
  },
  {
   "cell_type": "code",
   "execution_count": 19,
   "metadata": {
    "collapsed": false
   },
   "outputs": [
    {
     "name": "stdout",
     "output_type": "stream",
     "text": [
      "(3612, 115)\n"
     ]
    }
   ],
   "source": [
    "print apps.shape"
   ]
  },
  {
   "cell_type": "code",
   "execution_count": 20,
   "metadata": {
    "collapsed": false
   },
   "outputs": [
    {
     "name": "stdout",
     "output_type": "stream",
     "text": [
      "386.0\n",
      "145.0\n",
      "175.0\n"
     ]
    }
   ],
   "source": [
    "exact['grad_sim'] = exact.apply(lambda x: abs(x['medschool_year_grad_x'] - x['medschool_year_grad_y']), axis=1)\n",
    "exact['activity_year_sim'] = exact.apply(lambda x: x['first_grant_year'] - x['medschool_year_grad_x'], axis=1)\n",
    "\n",
    "def check_match(row):\n",
    "    if row['grad_sim'] > 5:\n",
    "        return 0\n",
    "    # first grant shouldn't be given prior to med school graduation\n",
    "    if row['activity_year_sim'] < 0:\n",
    "        return 0\n",
    "    if not pd.isnull(row['clean_middle_initial_sim']) and row['clean_middle_initial_sim'] < 40:\n",
    "        return 0\n",
    "    if row['last_name_counts'] == 1:\n",
    "        return 1\n",
    "    return 1\n",
    "\n",
    "feature_dict = {\n",
    "    'clean_middle_name': get_name_str_sim,\n",
    "    'clean_middle_initial': get_name_str_sim,\n",
    "} \n",
    "\n",
    "exact2 = add_similarity_features(exact, feature_dict, check_match, suffixes=['_x', '_y'])\n",
    "\n",
    "print unique_grants4.is_star.sum()\n",
    "print exact2[exact2['is_match']==1].is_star.sum()\n",
    "print exact2.is_star.sum()"
   ]
  },
  {
   "cell_type": "code",
   "execution_count": 21,
   "metadata": {
    "collapsed": true
   },
   "outputs": [],
   "source": [
    "# change raw sim columns to 100- so can be sorted with small values first\n",
    "exact2.loc[:, 'clean_middle_name_sim'] = 100 - exact2['clean_middle_name_sim']\n",
    "exact2.loc[:, 'clean_middle_initial_sim'] = 100 - exact2['clean_middle_initial_sim']"
   ]
  },
  {
   "cell_type": "code",
   "execution_count": 22,
   "metadata": {
    "collapsed": false
   },
   "outputs": [
    {
     "name": "stderr",
     "output_type": "stream",
     "text": [
      "merging_functions.py:125: SettingWithCopyWarning: \n",
      "A value is trying to be set on a copy of a slice from a DataFrame.\n",
      "Try using .loc[row_indexer,col_indexer] = value instead\n",
      "\n",
      "See the caveats in the documentation: http://pandas.pydata.org/pandas-docs/stable/indexing.html#indexing-view-versus-copy\n",
      "  df[dup_flag] = 0\n",
      "/home/lraymond/MIT/Azoulay_2016/yellow_berets/yb/local/lib/python2.7/site-packages/pandas/core/indexing.py:465: SettingWithCopyWarning: \n",
      "A value is trying to be set on a copy of a slice from a DataFrame.\n",
      "Try using .loc[row_indexer,col_indexer] = value instead\n",
      "\n",
      "See the caveats in the documentation: http://pandas.pydata.org/pandas-docs/stable/indexing.html#indexing-view-versus-copy\n",
      "  self.obj[item] = s\n"
     ]
    }
   ],
   "source": [
    "# do sort in ascending, because grad year sim and activity sim should be as small as possible\n",
    "sim_cols =  ['grad_sim', 'activity_year_sim', 'clean_middle_name_sim', 'clean_middle_initial_sim']\n",
    "exact3 = filter_one_match_per_group_simple(exact2[exact2['is_match']==1], PERSON_ID, sim_cols, True)\n",
    "exact4 = filter_one_match_per_group_simple(exact3, 'newsetnb', sim_cols, True)\n"
   ]
  },
  {
   "cell_type": "code",
   "execution_count": 23,
   "metadata": {
    "collapsed": false
   },
   "outputs": [
    {
     "name": "stdout",
     "output_type": "stream",
     "text": [
      "['clean_first_initial', 'clean_middle_initial', 'clean_middle_name', 'is_female', 'medschool_year_grad', 'birth_year']\n"
     ]
    }
   ],
   "source": [
    "exact5 = consolidate_merge_cols(exact4, ['_x', '_y'], [])"
   ]
  },
  {
   "cell_type": "code",
   "execution_count": 24,
   "metadata": {
    "collapsed": false
   },
   "outputs": [
    {
     "name": "stdout",
     "output_type": "stream",
     "text": [
      "(3074, 115)\n",
      "(23499, 21)\n"
     ]
    }
   ],
   "source": [
    "nm_apps = get_nonmatched(apps, exact4[PERSON_ID].values, PERSON_ID)\n",
    "nm_grant = get_nonmatched(unique_grants4, exact4['newsetnb'].values, 'newsetnb')"
   ]
  },
  {
   "cell_type": "code",
   "execution_count": 25,
   "metadata": {
    "collapsed": false
   },
   "outputs": [
    {
     "name": "stderr",
     "output_type": "stream",
     "text": [
      "/home/lraymond/MIT/Azoulay_2016/yellow_berets/yb/local/lib/python2.7/site-packages/pandas/core/indexing.py:288: SettingWithCopyWarning: \n",
      "A value is trying to be set on a copy of a slice from a DataFrame.\n",
      "Try using .loc[row_indexer,col_indexer] = value instead\n",
      "\n",
      "See the caveats in the documentation: http://pandas.pydata.org/pandas-docs/stable/indexing.html#indexing-view-versus-copy\n",
      "  self.obj[key] = _infer_fill_value(value)\n"
     ]
    }
   ],
   "source": [
    "nm_apps_c = Counter(nm_apps.clean_last_name.values)\n",
    "nm_grants_c = Counter(nm_grant.clean_last_name.values)\n",
    "nm_apps.loc[:, 'last_name_counts'] = nm_apps.clean_last_name.apply(lambda x: nm_apps_c[x])\n",
    "\n",
    "nm_grant.loc[:, 'last_name_counts'] = nm_grant.clean_last_name.apply(lambda x: nm_grants_c[x])"
   ]
  },
  {
   "cell_type": "code",
   "execution_count": 26,
   "metadata": {
    "collapsed": false
   },
   "outputs": [
    {
     "data": {
      "text/plain": [
       "(71013, 136)"
      ]
     },
     "execution_count": 26,
     "metadata": {},
     "output_type": "execute_result"
    }
   ],
   "source": [
    "last_merge = pd.merge(left=nm_apps, right=nm_grant, how='inner', on=['clean_last_name'], suffixes=['_x', '_y'])\n",
    "last_merge.shape"
   ]
  },
  {
   "cell_type": "code",
   "execution_count": 27,
   "metadata": {
    "collapsed": false
   },
   "outputs": [
    {
     "name": "stdout",
     "output_type": "stream",
     "text": [
      "386.0\n",
      "6.0\n",
      "761.0\n"
     ]
    }
   ],
   "source": [
    "last_merge['grad_sim'] = last_merge.apply(lambda x: abs(x['medschool_year_grad_x'] - x['medschool_year_grad_y']), axis=1)\n",
    "last_merge['activity_year_sim'] = last_merge.apply(lambda x: x['first_grant_year'] - x['medschool_year_grad_x'], axis=1)\n",
    "\n",
    "def check_match(row):\n",
    "    if row['grad_sim'] > 5:\n",
    "        return 0\n",
    "    # first grant shouldn't be given prior to med school graduation\n",
    "    if row['activity_year_sim'] < 0 or row['activity_year_sim'] < 3:\n",
    "        return 0\n",
    "    if row['clean_first_initial_sim'] < 100:\n",
    "        return 0\n",
    "    if row['clean_middle_initial_sim'] < 100:\n",
    "        return 0\n",
    "    if row['clean_first_name_sim'] < 80:\n",
    "        return 0\n",
    "    if row['clean_middle_name_sim'] < 80:\n",
    "        return 0\n",
    "    return 1\n",
    "\n",
    "feature_dict = {\n",
    "    'clean_middle_name': get_name_str_sim,\n",
    "    'clean_middle_initial': get_name_str_sim,\n",
    "    'clean_first_name': get_name_str_sim,\n",
    "    'clean_first_initial': get_name_str_sim,\n",
    "} \n",
    "\n",
    "last_merge2 = add_similarity_features(last_merge, feature_dict, check_match, suffixes=['_x', '_y'])\n",
    "print unique_grants4.is_star.sum()\n",
    "print last_merge2[last_merge2['is_match']==1].is_star.sum()\n",
    "print last_merge2.is_star.sum()"
   ]
  },
  {
   "cell_type": "code",
   "execution_count": 28,
   "metadata": {
    "collapsed": false
   },
   "outputs": [],
   "source": [
    "#filter to one match per id\n",
    "last_merge2.loc[:, 'clean_first_name_sim'] = 100 - last_merge2['clean_first_name_sim']\n",
    "last_merge2.loc[:, 'clean_middle_name_sim'] = 100 - last_merge2['clean_middle_name_sim']\n",
    "last_merge2.loc[:, 'clean_middle_initial_sim'] = 100 - last_merge2['clean_middle_initial_sim']\n",
    "last_merge2.loc[:, 'clean_first_initial_sim'] = 100 - last_merge2['clean_first_initial_sim']"
   ]
  },
  {
   "cell_type": "code",
   "execution_count": 29,
   "metadata": {
    "collapsed": true
   },
   "outputs": [],
   "source": [
    "sim_cols =  ['grad_sim', 'activity_year_sim', 'clean_first_name_sim', 'clean_first_initial_sim', 'clean_middle_name_sim', 'clean_middle_initial_sim']\n",
    "last_merge3 = filter_one_match_per_group_simple(last_merge2[last_merge2['is_match']==1], PERSON_ID, sim_cols, True)\n",
    "last_merge4 = filter_one_match_per_group_simple(last_merge3, 'newsetnb', sim_cols, True)"
   ]
  },
  {
   "cell_type": "code",
   "execution_count": 30,
   "metadata": {
    "collapsed": false
   },
   "outputs": [
    {
     "data": {
      "text/plain": [
       "(54, 145)"
      ]
     },
     "execution_count": 30,
     "metadata": {},
     "output_type": "execute_result"
    }
   ],
   "source": [
    "last_merge4.shape"
   ]
  },
  {
   "cell_type": "code",
   "execution_count": 31,
   "metadata": {
    "collapsed": false
   },
   "outputs": [
    {
     "name": "stdout",
     "output_type": "stream",
     "text": [
      "['clean_first_initial', 'clean_first_name', 'clean_middle_initial', 'clean_middle_name', 'is_female', 'medschool_year_grad', 'birth_year', 'last_name_counts']\n"
     ]
    }
   ],
   "source": [
    "last_merge5 = consolidate_merge_cols(last_merge4, ['_x', '_y'], [])"
   ]
  },
  {
   "cell_type": "code",
   "execution_count": 32,
   "metadata": {
    "collapsed": true
   },
   "outputs": [],
   "source": [
    "all_matches = pd.concat([last_merge5, exact5], axis=0)"
   ]
  },
  {
   "cell_type": "code",
   "execution_count": 33,
   "metadata": {
    "collapsed": false
   },
   "outputs": [
    {
     "name": "stdout",
     "output_type": "stream",
     "text": [
      "(3020, 115)\n"
     ]
    }
   ],
   "source": [
    "nm_apps = get_nonmatched(apps, all_matches[PERSON_ID], PERSON_ID)"
   ]
  },
  {
   "cell_type": "code",
   "execution_count": 34,
   "metadata": {
    "collapsed": true
   },
   "outputs": [],
   "source": [
    "apps2 = pd.concat([all_matches, nm_apps], axis=0)"
   ]
  },
  {
   "cell_type": "code",
   "execution_count": 35,
   "metadata": {
    "collapsed": false
   },
   "outputs": [
    {
     "name": "stdout",
     "output_type": "stream",
     "text": [
      "['activity_year_sim', 'clean_first_initial_sim', 'clean_first_name_sim', 'clean_middle_initial_sim', 'clean_middle_name_sim', 'grad_sim', 'last_name_counts', 'newsetnb_duplicate', 'person_uuid_duplicate']\n"
     ]
    }
   ],
   "source": [
    "to_drop_cols = [c for c in apps2.columns if c.endswith('_missing') or c.endswith('_duplicate') or '_counts' in c\n",
    "               or c.endswith('_sim')]\n",
    "print to_drop_cols"
   ]
  },
  {
   "cell_type": "code",
   "execution_count": 36,
   "metadata": {
    "collapsed": true
   },
   "outputs": [],
   "source": [
    "apps3 = apps2.drop(to_drop_cols+['is_match', 'first', 'last', 'middle', 'is_female', 'suffix'], axis=1)"
   ]
  },
  {
   "cell_type": "code",
   "execution_count": 37,
   "metadata": {
    "collapsed": false,
    "scrolled": true
   },
   "outputs": [
    {
     "data": {
      "text/html": [
       "<div>\n",
       "<table border=\"1\" class=\"dataframe\">\n",
       "  <thead>\n",
       "    <tr style=\"text-align: right;\">\n",
       "      <th></th>\n",
       "      <th>clean_first_name</th>\n",
       "      <th>clean_middle_name</th>\n",
       "      <th>clean_last_name</th>\n",
       "      <th>grant_id</th>\n",
       "      <th>person_uuid</th>\n",
       "      <th>application_year</th>\n",
       "      <th>medical_school</th>\n",
       "    </tr>\n",
       "  </thead>\n",
       "  <tbody>\n",
       "  </tbody>\n",
       "</table>\n",
       "</div>"
      ],
      "text/plain": [
       "Empty DataFrame\n",
       "Columns: [clean_first_name, clean_middle_name, clean_last_name, grant_id, person_uuid, application_year, medical_school]\n",
       "Index: []"
      ]
     },
     "execution_count": 37,
     "metadata": {},
     "output_type": "execute_result"
    }
   ],
   "source": [
    "apps3.loc[apps3.duplicated(NAME_COLS, keep=False), NAME_COLS+['grant_id', PERSON_ID, 'application_year', 'medical_school']]"
   ]
  },
  {
   "cell_type": "code",
   "execution_count": 38,
   "metadata": {
    "collapsed": false
   },
   "outputs": [],
   "source": [
    "has_birth_dt = ~pd.isnull(apps3.date_of_birth)\n",
    "apps3.loc[has_birth_dt, 'birth_dt'] =  apps3.loc[has_birth_dt, 'date_of_birth']\n",
    "apps3.loc[has_birth_dt, 'birth_year'] =  apps3.loc[has_birth_dt, 'date_of_birth'].apply(lambda x: pd.to_datetime(x).year)\n",
    "apps4 = apps3.drop('date_of_birth', axis=1).rename(columns={'birth_dt': 'birth_date'})\n"
   ]
  },
  {
   "cell_type": "code",
   "execution_count": 39,
   "metadata": {
    "collapsed": true
   },
   "outputs": [],
   "source": [
    "def improper_formatting(raw_last_name):\n",
    "    # a boolean fnc to identify which rows may have a suffix\n",
    "    if pd.isnull(raw_last_name):\n",
    "        return False\n",
    "    last_lst = raw_last_name.split(' ')\n",
    "    if len(last_lst) == 1:\n",
    "        # if no white spaces in last name, only 1 word, so no suffix\n",
    "        return False\n",
    "    return True\n"
   ]
  },
  {
   "cell_type": "code",
   "execution_count": 42,
   "metadata": {
    "collapsed": false
   },
   "outputs": [],
   "source": [
    "# check for improperly formatted last names\n",
    "\n",
    "bad_lastnames = ['E ROSS HARVARD','MCCLURE MCCHURE', 'S COHEN NYU']\n",
    "to_fix_lastnames = ['ROSS', 'MCCLURE', 'COHEN']\n",
    "# apps4.loc[apps4.clean_last_name.isin(bad_lastnames), 'clean_last_name'] = to_fix_lastnames\n",
    "apps4.loc[apps4.clean_last_name=='MCCLURE MCCHURE', 'clean_last_name'] = 'MCCLURE'\n"
   ]
  },
  {
   "cell_type": "code",
   "execution_count": 43,
   "metadata": {
    "collapsed": false
   },
   "outputs": [],
   "source": [
    "# check for improper first names\n",
    "# apps4.loc[apps4.clean_first_name.apply(improper_formatting), NAME_COLS]\n",
    "bad_firstnames = ['ANNE FRANCES',  \n",
    "                  'PHILIP R', 'J HAROLD', 'HENRY N', 'H BENFER', 'G JAMES', 'G DAVID', 'A LELAND', 'W STEVES']\n",
    "to_fix_firstnames = ['FRANCES',  'PHILIP', 'J', 'HENRY', 'H', 'G', 'G', 'A', 'W']\n",
    "apps4.loc[apps4.clean_first_name.isin(bad_firstnames), 'clean_first_name'] = to_fix_firstnames"
   ]
  },
  {
   "cell_type": "code",
   "execution_count": 44,
   "metadata": {
    "collapsed": false
   },
   "outputs": [],
   "source": [
    "# check for improper middle names\n",
    "bad_middlenames = ['ANNE FRANCES',  'PHILIP R', 'J HAROLD', 'HENRY N', 'H BENFER', 'G JAMES', 'G DAVID', 'A LELAND', 'W STEVES']\n",
    "to_fix_middlenames = ['FRANCES',  'PHILIP', 'J', 'HENRY', 'H', 'G', 'G', 'A', 'W']\n",
    "\n",
    "has_suff = apps4.clean_middle_name.apply(has_suffix)\n",
    "apps4.loc[has_suff, 'clean_suffix'] = apps4.loc[has_suff, 'clean_middle_name'].apply(get_suffix)\n",
    "apps4.loc[has_suff, 'clean_middle_name'] = apps4.loc[has_suff, 'clean_middle_name'].apply(remove_suffix_from_last_name)"
   ]
  },
  {
   "cell_type": "code",
   "execution_count": 45,
   "metadata": {
    "collapsed": false
   },
   "outputs": [],
   "source": [
    "has_suff = apps4.clean_last_name.apply(has_suffix)\n",
    "apps4.loc[has_suff, 'clean_suffix'] = apps4.loc[has_suff, 'clean_last_name'].apply(get_suffix)\n",
    "apps4.loc[has_suff, 'clean_last_name'] = apps4.loc[has_suff, 'clean_last_name'].apply(remove_suffix_from_last_name)"
   ]
  },
  {
   "cell_type": "code",
   "execution_count": 46,
   "metadata": {
    "collapsed": true
   },
   "outputs": [],
   "source": [
    "def remove_dr_from_first_name(raw_str):\n",
    "    if pd.isnull(raw_str):\n",
    "        return np.nan\n",
    "    raw_str2 = raw_str.split(' DR')\n",
    "    return raw_str2[0]"
   ]
  },
  {
   "cell_type": "code",
   "execution_count": 47,
   "metadata": {
    "collapsed": false
   },
   "outputs": [],
   "source": [
    "mask = apps4.clean_middle_name.apply(improper_formatting)\n",
    "apps4.loc[mask, 'clean_middle_name'] = apps4.loc[mask, 'clean_middle_name'].apply(remove_dr_from_first_name)"
   ]
  },
  {
   "cell_type": "code",
   "execution_count": 48,
   "metadata": {
    "collapsed": false
   },
   "outputs": [],
   "source": [
    "# sorted(apps4.columns)"
   ]
  },
  {
   "cell_type": "code",
   "execution_count": 49,
   "metadata": {
    "collapsed": true
   },
   "outputs": [],
   "source": [
    "def same_name(row):\n",
    "    # check if first and last name are the same\n",
    "    if row[0] == row[1]:\n",
    "        print row\n",
    "        return True\n",
    "    return False\n",
    "\n",
    "def is_weird_name(raw_str):\n",
    "    rs = raw_str.split(' ')\n",
    "    if len(rs) == 1:\n",
    "        return False\n",
    "    return True"
   ]
  },
  {
   "cell_type": "code",
   "execution_count": 50,
   "metadata": {
    "collapsed": false
   },
   "outputs": [],
   "source": [
    "apps4.loc[\n",
    "    apps4[['clean_first_name', 'clean_last_name']].apply(same_name, axis=1), 'clean_first_name'] = 'JOHN'\n",
    "#     NAME_COLS+['medical_school', 'first_name', 'middle_name', 'last_name']]"
   ]
  },
  {
   "cell_type": "code",
   "execution_count": 51,
   "metadata": {
    "collapsed": false
   },
   "outputs": [
    {
     "name": "stdout",
     "output_type": "stream",
     "text": [
      "clean_first_name     STANLEY\n",
      "clean_middle_name    STANLEY\n",
      "Name: 655, dtype: object\n",
      "clean_first_name     RICHARD\n",
      "clean_middle_name    RICHARD\n",
      "Name: 886, dtype: object\n",
      "clean_first_name     WILLIAM\n",
      "clean_middle_name    WILLIAM\n",
      "Name: 1105, dtype: object\n",
      "clean_first_name     MYRON\n",
      "clean_middle_name    MYRON\n",
      "Name: 1281, dtype: object\n",
      "clean_first_name     LAWRENCE\n",
      "clean_middle_name    LAWRENCE\n",
      "Name: 1661, dtype: object\n",
      "clean_first_name     KENNETH\n",
      "clean_middle_name    KENNETH\n",
      "Name: 1757, dtype: object\n",
      "clean_first_name     FREDERIC\n",
      "clean_middle_name    FREDERIC\n",
      "Name: 1837, dtype: object\n",
      "clean_first_name     HOWARD\n",
      "clean_middle_name    HOWARD\n",
      "Name: 2393, dtype: object\n",
      "clean_first_name     HERBERT\n",
      "clean_middle_name    HERBERT\n",
      "Name: 2418, dtype: object\n",
      "clean_first_name     FREDERICK\n",
      "clean_middle_name    FREDERICK\n",
      "Name: 2665, dtype: object\n",
      "clean_first_name     DOUGLAS\n",
      "clean_middle_name    DOUGLAS\n",
      "Name: 2856, dtype: object\n",
      "clean_first_name     DANIEL\n",
      "clean_middle_name    DANIEL\n",
      "Name: 3144, dtype: object\n",
      "clean_first_name     ALLAN\n",
      "clean_middle_name    ALLAN\n",
      "Name: 3513, dtype: object\n"
     ]
    }
   ],
   "source": [
    "apps4.loc[\n",
    "    apps4[['clean_first_name', 'clean_middle_name']].apply(same_name, axis=1), 'clean_middle_name'] = np.nan"
   ]
  },
  {
   "cell_type": "code",
   "execution_count": 52,
   "metadata": {
    "collapsed": false
   },
   "outputs": [
    {
     "data": {
      "text/html": [
       "<div>\n",
       "<table border=\"1\" class=\"dataframe\">\n",
       "  <thead>\n",
       "    <tr style=\"text-align: right;\">\n",
       "      <th></th>\n",
       "      <th>clean_first_name</th>\n",
       "      <th>clean_middle_name</th>\n",
       "      <th>clean_last_name</th>\n",
       "    </tr>\n",
       "  </thead>\n",
       "  <tbody>\n",
       "  </tbody>\n",
       "</table>\n",
       "</div>"
      ],
      "text/plain": [
       "Empty DataFrame\n",
       "Columns: [clean_first_name, clean_middle_name, clean_last_name]\n",
       "Index: []"
      ]
     },
     "execution_count": 52,
     "metadata": {},
     "output_type": "execute_result"
    }
   ],
   "source": [
    "apps4.loc[\n",
    "    apps4[['clean_middle_name', 'clean_last_name']].apply(same_name, axis=1), NAME_COLS]"
   ]
  },
  {
   "cell_type": "code",
   "execution_count": 53,
   "metadata": {
    "collapsed": false
   },
   "outputs": [],
   "source": [
    "# ADD LAST NAME COUNTS\n",
    "nih = pd.read_csv(os.path.join(ATT_DATA_DIR, 'NIH_attendee_deduped_raw.csv'))"
   ]
  },
  {
   "cell_type": "code",
   "execution_count": 54,
   "metadata": {
    "collapsed": false
   },
   "outputs": [],
   "source": [
    "last_name_counts = Counter(nih.clean_last_name.values)"
   ]
  },
  {
   "cell_type": "code",
   "execution_count": 55,
   "metadata": {
    "collapsed": true
   },
   "outputs": [],
   "source": [
    "apps4['nih_last_name_counts'] = apps4.clean_last_name.apply(lambda x: last_name_counts[x])"
   ]
  },
  {
   "cell_type": "code",
   "execution_count": 56,
   "metadata": {
    "collapsed": true
   },
   "outputs": [],
   "source": [
    "def total_number_applications(app_years):\n",
    "    unique_apps_years = app_years.dropna().unique()\n",
    "    return unique_apps_years.shape[0]\n",
    "\n",
    "apps4['number_applications'] = apps4[\n",
    "    ['application_year', 'application_year_1', 'application_year_2', 'application_year_3']].apply(\n",
    "        total_number_applications, axis=1)"
   ]
  },
  {
   "cell_type": "code",
   "execution_count": 59,
   "metadata": {
    "collapsed": true
   },
   "outputs": [],
   "source": [
    "to_drop = ['clean_first_initial', 'clean_middle_initial', 'degree_country_1', 'degree_inst_1_desc', 'exit', \n",
    "          'first_name', 'middle_name', 'last_name',  'dob_app_diff', 'duplicate_dno', 'inst',\n",
    "          'main_dept', 'sim']"
   ]
  },
  {
   "cell_type": "code",
   "execution_count": 60,
   "metadata": {
    "collapsed": false
   },
   "outputs": [],
   "source": [
    "\n",
    "apps5 = apps4.sort_values(['clean_last_name', 'clean_first_name']).drop(to_drop, axis=1)\n",
    "\n",
    "IMP_COLS = [\n",
    "    PERSON_ID, 'aamc_id', 'newsetnb', 'dno', 'clean_first_name', 'clean_middle_name', 'clean_last_name',\n",
    "    'clean_suffix','control_flag', 'application_year_min', 'application_year_max', 'eod_year',\n",
    "    'medical_school', 'birth_year', \n",
    "    'nih_last_name_counts', 'number_applications', 'internship_start', 'internship_end',\n",
    "    'internship_hospital', 'residency_start', 'residency_end', 'residency_hospital', \n",
    "    'undergrad_year_grad', 'year_accepted', 'rejected', 'rejection_date',\n",
    "    'address', 'city', 'state', 'zip_code']\n",
    "\n",
    "RESEARCH_COLS = ['bob', 'ca', 'cc', 'clinical', 'cord', 'dbs', 'fifth', 'generation', 'honor_societies_first',\n",
    "                 'honor_societies_fourth', 'honor_societies_second', 'honor_societies_third', 'ic', 'institute',\n",
    "                  'is_star', 'nci', 'nei', 'nhi', 'nhli', 'niaid', 'niamd', 'niamdd', 'nichd', 'nichhd',\n",
    "                 'nidr', 'niehs', 'nigms', 'nimh', 'nindb', 'ninds', 'oir', \n",
    "                  'pharm_ra', 'phd_year_grad', 'pi', 'program', 'ra',  'research', 'sa', 'sixth',\n",
    "                 'supervisor', 'teaching', 'withdrawal']"
   ]
  },
  {
   "cell_type": "code",
   "execution_count": 61,
   "metadata": {
    "collapsed": false
   },
   "outputs": [
    {
     "name": "stdout",
     "output_type": "stream",
     "text": [
      "['aamc_id_2', 'application_date', 'application_year', 'application_year_1', 'application_year_2', 'application_year_3', 'associate_program_entered', 'birth_country_cd', 'birth_date', 'birth_state_cd', 'citizenship', 'clean_college', 'death_year', 'deg', 'degree_type', 'department', 'first_grant_year', 'institution_aamc_id', 'internship_hospital_ipfcode', 'internship_hospital_std', 'is_foreign', 'med_school', 'medschool_year_grad', 'original_medical_school', 'race', 'raw_uuid', 'raw_uuid_1', 'raw_uuid_2', 'raw_uuid_3', 'raw_uuid_4', 'raw_uuid_5', 'residency', 'residency_hospital_ipfcode', 'residency_hospital_std', 'sub_department', 'time_period_flag', 'to_drop']\n"
     ]
    }
   ],
   "source": [
    "col_ordered =  funcy.remove(lambda x: x in IMP_COLS or x in RESEARCH_COLS, apps5.columns)\n",
    "print col_ordered"
   ]
  },
  {
   "cell_type": "code",
   "execution_count": 62,
   "metadata": {
    "collapsed": false
   },
   "outputs": [],
   "source": [
    "apps6 = apps5[IMP_COLS + col_ordered + RESEARCH_COLS]"
   ]
  },
  {
   "cell_type": "code",
   "execution_count": 63,
   "metadata": {
    "collapsed": false
   },
   "outputs": [],
   "source": [
    "apps7 = apps6[~pd.isnull(apps6.clean_last_name)]"
   ]
  },
  {
   "cell_type": "code",
   "execution_count": 64,
   "metadata": {
    "collapsed": true
   },
   "outputs": [],
   "source": [
    "# remove LICHTER, "
   ]
  },
  {
   "cell_type": "code",
   "execution_count": 65,
   "metadata": {
    "collapsed": false
   },
   "outputs": [],
   "source": [
    "apps7.to_csv(os.path.join(APP_DATA_DIR, 'NIH_AAMC_index_cards_grant_standardized.csv'), index=False)"
   ]
  },
  {
   "cell_type": "code",
   "execution_count": null,
   "metadata": {
    "collapsed": true
   },
   "outputs": [],
   "source": []
  }
 ],
 "metadata": {
  "kernelspec": {
   "display_name": "Python 2",
   "language": "python",
   "name": "python2"
  },
  "language_info": {
   "codemirror_mode": {
    "name": "ipython",
    "version": 2
   },
   "file_extension": ".py",
   "mimetype": "text/x-python",
   "name": "python",
   "nbconvert_exporter": "python",
   "pygments_lexer": "ipython2",
   "version": "2.7.12"
  }
 },
 "nbformat": 4,
 "nbformat_minor": 1
}
