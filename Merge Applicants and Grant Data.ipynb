{
 "cells": [
  {
   "cell_type": "code",
   "execution_count": 122,
   "metadata": {
    "collapsed": false
   },
   "outputs": [
    {
     "name": "stdout",
     "output_type": "stream",
     "text": [
      "The autoreload extension is already loaded. To reload it, use:\n",
      "  %reload_ext autoreload\n"
     ]
    }
   ],
   "source": [
    "from collections import Counter\n",
    "import funcy\n",
    "from fuzzywuzzy import fuzz\n",
    "import numpy as np \n",
    "import pandas as pd \n",
    "import os\n",
    "\n",
    "from data_cleaning_functions import (trans_remov_punc, standardize_whitespace, remove_punc, remove_suffix_from_last_name,\n",
    "                                     clean_names, has_award, has_suffix, get_suffix, replace_last_name, \n",
    "                                     is_year_range, str_sim, clean_med_school, clean_std_college_name, long_form_date, \n",
    "                                    correct_mispellings)\n",
    "\n",
    "from dev import (\n",
    "    APP_DATA_DIR, GRANT_DATA_DIR,  NAME_COLS, RAW_NAME_COLS, FEMALE_FIRST_NAMES, FEMALE_MIDDLE_NAMES,\n",
    "    RAW_CARD_ID, RAW_INDEX_IDS, PERSON_APPLICATION_ID, PERSON_ID, NIH_ID, PICKLE_DIR, STD_DIR, ATT_DATA_DIR)\n",
    "\n",
    "from merging_functions import *\n",
    "\n",
    "OUTPUT_CSV = False \n",
    "\n",
    "PERSONAL_INFO = [\n",
    "    'clean_first_name', 'clean_last_name', 'clean_middle_name',\n",
    "    'date_of_birth', 'medical_school', 'clean_college_trans']\n",
    "\n",
    "\n",
    "# load autoreload extension\n",
    "%load_ext autoreload\n",
    "%autoreload 2"
   ]
  },
  {
   "cell_type": "code",
   "execution_count": 50,
   "metadata": {
    "collapsed": true
   },
   "outputs": [],
   "source": [
    "apps = pd.read_csv(os.path.join(APP_DATA_DIR, 'NIH_AAMC_index_cards_standardized.csv')).drop('Unnamed: 0', axis=1)"
   ]
  },
  {
   "cell_type": "code",
   "execution_count": 51,
   "metadata": {
    "collapsed": false
   },
   "outputs": [],
   "source": [
    "grant_data = pd.read_stata(os.path.join(GRANT_DATA_DIR, 'grant_data.dta'))"
   ]
  },
  {
   "cell_type": "code",
   "execution_count": 52,
   "metadata": {
    "collapsed": true
   },
   "outputs": [],
   "source": [
    "stars_data = pd.read_stata(os.path.join(GRANT_DATA_DIR, 'stars_data.dta'))"
   ]
  },
  {
   "cell_type": "code",
   "execution_count": 53,
   "metadata": {
    "collapsed": true
   },
   "outputs": [],
   "source": [
    "grant_data.columns = map(lambda x: x.lower(), grant_data.columns)"
   ]
  },
  {
   "cell_type": "code",
   "execution_count": 54,
   "metadata": {
    "collapsed": true
   },
   "outputs": [],
   "source": [
    "stars_data.columns = map(lambda x: x.lower(), stars_data.columns)"
   ]
  },
  {
   "cell_type": "code",
   "execution_count": 55,
   "metadata": {
    "collapsed": true
   },
   "outputs": [],
   "source": [
    "stars_data['is_star'] = 1"
   ]
  },
  {
   "cell_type": "code",
   "execution_count": 57,
   "metadata": {
    "collapsed": false
   },
   "outputs": [],
   "source": [
    "unique_grants = grant_data.sort_values('year').drop_duplicates(\n",
    "    ['newsetnb'], keep='first')[\n",
    "        ['first', 'middle', 'last', 'suffix', 'newsetnb', 'mdyear', 'phdyear', 'year']].rename(columns={'year': 'first_grant_year'})"
   ]
  },
  {
   "cell_type": "code",
   "execution_count": 58,
   "metadata": {
    "collapsed": true
   },
   "outputs": [],
   "source": [
    "unique_grants2 = pd.concat([stars_data.drop(['fullname'], axis=1), unique_grants], axis=0)"
   ]
  },
  {
   "cell_type": "code",
   "execution_count": 59,
   "metadata": {
    "collapsed": false
   },
   "outputs": [],
   "source": [
    "unique_grants2['clean_first_name'] = unique_grants2['first'].apply(clean_names)\n",
    "unique_grants2['clean_middle_name'] = unique_grants2['middle'].apply(clean_names)\n",
    "\n",
    "unique_grants2['clean_last_name'] = unique_grants2['last'].apply(clean_names)"
   ]
  },
  {
   "cell_type": "code",
   "execution_count": 60,
   "metadata": {
    "collapsed": false
   },
   "outputs": [],
   "source": [
    "female_mask = (\n",
    "    (unique_grants2['clean_first_name'].isin(FEMALE_FIRST_NAMES))| (\n",
    "        unique_grants2['clean_middle_name'].isin(FEMALE_MIDDLE_NAMES)))\n",
    "unique_grants2['is_female'] = 0\n",
    "unique_grants2.loc[female_mask, 'is_female'] = 1"
   ]
  },
  {
   "cell_type": "code",
   "execution_count": 61,
   "metadata": {
    "collapsed": false
   },
   "outputs": [],
   "source": [
    "def get_initial(raw_str):\n",
    "    if pd.isnull(raw_str):\n",
    "        return np.nan\n",
    "    if len(raw_str) == 1:\n",
    "        return raw_str\n",
    "    return raw_str[0]\n",
    "\n",
    "unique_grants2['clean_middle_initial'] = unique_grants2.clean_middle_name.apply(get_initial)\n",
    "unique_grants2['clean_first_initial'] = unique_grants2.clean_first_name.apply(get_initial)"
   ]
  },
  {
   "cell_type": "code",
   "execution_count": 62,
   "metadata": {
    "collapsed": true
   },
   "outputs": [],
   "source": [
    "unique_grants3 = unique_grants2[unique_grants2.is_female==0].sort_values(['newsetnb', 'is_star'], ascending=False).drop_duplicates(['newsetnb'], keep='first')"
   ]
  },
  {
   "cell_type": "code",
   "execution_count": 63,
   "metadata": {
    "collapsed": false
   },
   "outputs": [],
   "source": [
    "apps_counter = Counter(apps.clean_last_name.values)\n",
    "unique_grants3['last_name_counts'] = unique_grants3.clean_last_name.apply(lambda x: apps_counter[x])\n",
    "unique_grants4 = unique_grants3[\n",
    "    ((unique_grants3.last_name_counts>1) & pd.isnull(unique_grants3.mdyear)) | \n",
    "    ((unique_grants3.last_name_counts>1) & (unique_grants3.mdyear<1975) & (unique_grants3.mdyear>1960))]"
   ]
  },
  {
   "cell_type": "code",
   "execution_count": 64,
   "metadata": {
    "collapsed": true
   },
   "outputs": [],
   "source": [
    "unique_grants4 = unique_grants4.rename(columns={'mdyear': 'medschool_year_grad', 'phdyear': 'phd_year_grad', \n",
    "                                               'star_yob':'birth_year', 'star_yod': 'death_year'})"
   ]
  },
  {
   "cell_type": "code",
   "execution_count": 65,
   "metadata": {
    "collapsed": false
   },
   "outputs": [
    {
     "data": {
      "text/plain": [
       "(24590, 21)"
      ]
     },
     "execution_count": 65,
     "metadata": {},
     "output_type": "execute_result"
    }
   ],
   "source": [
    "unique_grants4.shape"
   ]
  },
  {
   "cell_type": "code",
   "execution_count": 66,
   "metadata": {
    "collapsed": true
   },
   "outputs": [],
   "source": [
    "del unique_grants2, unique_grants"
   ]
  },
  {
   "cell_type": "code",
   "execution_count": 67,
   "metadata": {
    "collapsed": false
   },
   "outputs": [
    {
     "data": {
      "text/plain": [
       "(2680, 132)"
      ]
     },
     "execution_count": 67,
     "metadata": {},
     "output_type": "execute_result"
    }
   ],
   "source": [
    "exact = pd.merge(\n",
    "    left=apps, right=unique_grants4, on=['clean_first_name', 'clean_last_name'], how='inner', suffixes=['_x', '_y'])\n",
    "exact.shape"
   ]
  },
  {
   "cell_type": "code",
   "execution_count": 68,
   "metadata": {
    "collapsed": false
   },
   "outputs": [
    {
     "name": "stdout",
     "output_type": "stream",
     "text": [
      "(3729, 113)\n"
     ]
    }
   ],
   "source": [
    "print apps.shape"
   ]
  },
  {
   "cell_type": "code",
   "execution_count": 69,
   "metadata": {
    "collapsed": false
   },
   "outputs": [
    {
     "name": "stdout",
     "output_type": "stream",
     "text": [
      "404.0\n",
      "166.0\n",
      "192.0\n"
     ]
    }
   ],
   "source": [
    "exact['grad_sim'] = exact.apply(lambda x: abs(x['medschool_year_grad_x'] - x['medschool_year_grad_y']), axis=1)\n",
    "exact['activity_year_sim'] = exact.apply(lambda x: x['first_grant_year'] - x['medschool_year_grad_x'], axis=1)\n",
    "\n",
    "def check_match(row):\n",
    "    if row['grad_sim'] > 5:\n",
    "        return 0\n",
    "    # first grant shouldn't be given prior to med school graduation\n",
    "    if row['activity_year_sim'] < 0:\n",
    "        return 0\n",
    "    if not pd.isnull(row['clean_middle_initial_sim']) and row['clean_middle_initial_sim'] < 40:\n",
    "        return 0\n",
    "    if row['last_name_counts'] == 1:\n",
    "        return 1\n",
    "    return 1\n",
    "\n",
    "feature_dict = {\n",
    "    'clean_middle_name': get_name_str_sim,\n",
    "    'clean_middle_initial': get_name_str_sim,\n",
    "} \n",
    "\n",
    "exact2 = add_similarity_features(exact, feature_dict, check_match, suffixes=['_x', '_y'])\n",
    "\n",
    "print unique_grants4.is_star.sum()\n",
    "print exact2[exact2['is_match']==1].is_star.sum()\n",
    "print exact2.is_star.sum()"
   ]
  },
  {
   "cell_type": "code",
   "execution_count": 70,
   "metadata": {
    "collapsed": true
   },
   "outputs": [],
   "source": [
    "# change raw sim columns to 100- so can be sorted with small values first\n",
    "exact2.loc[:, 'clean_middle_name_sim'] = 100 - exact2['clean_middle_name_sim']\n",
    "exact2.loc[:, 'clean_middle_initial_sim'] = 100 - exact2['clean_middle_initial_sim']"
   ]
  },
  {
   "cell_type": "code",
   "execution_count": 71,
   "metadata": {
    "collapsed": false
   },
   "outputs": [],
   "source": [
    "# do sort in ascending, because grad year sim and activity sim should be as small as possible\n",
    "sim_cols =  ['grad_sim', 'activity_year_sim', 'clean_middle_name_sim', 'clean_middle_initial_sim']\n",
    "exact3 = filter_one_match_per_group_simple(exact2[exact2['is_match']==1], PERSON_ID, sim_cols, True)\n",
    "exact4 = filter_one_match_per_group_simple(exact3, 'newsetnb', sim_cols, True)\n"
   ]
  },
  {
   "cell_type": "code",
   "execution_count": 72,
   "metadata": {
    "collapsed": false
   },
   "outputs": [
    {
     "name": "stdout",
     "output_type": "stream",
     "text": [
      "['clean_first_initial', 'clean_middle_initial', 'clean_middle_name', 'is_female', 'medschool_year_grad', 'birth_year']\n"
     ]
    }
   ],
   "source": [
    "exact5 = consolidate_merge_cols(exact4, ['_x', '_y'], [])"
   ]
  },
  {
   "cell_type": "code",
   "execution_count": 73,
   "metadata": {
    "collapsed": false
   },
   "outputs": [
    {
     "name": "stdout",
     "output_type": "stream",
     "text": [
      "(3139, 113)\n",
      "(24000, 21)\n"
     ]
    }
   ],
   "source": [
    "nm_apps = get_nonmatched(apps, exact4[PERSON_ID].values, PERSON_ID)\n",
    "nm_grant = get_nonmatched(unique_grants4, exact4['newsetnb'].values, 'newsetnb')"
   ]
  },
  {
   "cell_type": "code",
   "execution_count": 74,
   "metadata": {
    "collapsed": false
   },
   "outputs": [],
   "source": [
    "nm_apps_c = Counter(nm_apps.clean_last_name.values)\n",
    "nm_grants_c = Counter(nm_grant.clean_last_name.values)\n",
    "nm_apps.loc[:, 'last_name_counts'] = nm_apps.clean_last_name.apply(lambda x: nm_apps_c[x])\n",
    "\n",
    "nm_grant.loc[:, 'last_name_counts'] = nm_grant.clean_last_name.apply(lambda x: nm_grants_c[x])"
   ]
  },
  {
   "cell_type": "code",
   "execution_count": 75,
   "metadata": {
    "collapsed": false
   },
   "outputs": [
    {
     "data": {
      "text/plain": [
       "(66842, 134)"
      ]
     },
     "execution_count": 75,
     "metadata": {},
     "output_type": "execute_result"
    }
   ],
   "source": [
    "last_merge = pd.merge(left=nm_apps, right=nm_grant, how='inner', on=['clean_last_name'], suffixes=['_x', '_y'])\n",
    "last_merge.shape"
   ]
  },
  {
   "cell_type": "code",
   "execution_count": 76,
   "metadata": {
    "collapsed": false
   },
   "outputs": [
    {
     "name": "stdout",
     "output_type": "stream",
     "text": [
      "404.0\n",
      "7.0\n",
      "710.0\n"
     ]
    }
   ],
   "source": [
    "last_merge['grad_sim'] = last_merge.apply(lambda x: abs(x['medschool_year_grad_x'] - x['medschool_year_grad_y']), axis=1)\n",
    "last_merge['activity_year_sim'] = last_merge.apply(lambda x: x['first_grant_year'] - x['medschool_year_grad_x'], axis=1)\n",
    "\n",
    "def check_match(row):\n",
    "    if row['grad_sim'] > 5:\n",
    "        return 0\n",
    "    # first grant shouldn't be given prior to med school graduation\n",
    "    if row['activity_year_sim'] < 0 or row['activity_year_sim'] < 3:\n",
    "        return 0\n",
    "    if row['clean_first_initial_sim'] < 100:\n",
    "        return 0\n",
    "    if row['clean_middle_initial_sim'] < 100:\n",
    "        return 0\n",
    "    if row['clean_first_name_sim'] < 80:\n",
    "        return 0\n",
    "    if row['clean_middle_name_sim'] < 80:\n",
    "        return 0\n",
    "    return 1\n",
    "\n",
    "feature_dict = {\n",
    "    'clean_middle_name': get_name_str_sim,\n",
    "    'clean_middle_initial': get_name_str_sim,\n",
    "    'clean_first_name': get_name_str_sim,\n",
    "    'clean_first_initial': get_name_str_sim,\n",
    "} \n",
    "\n",
    "last_merge2 = add_similarity_features(last_merge, feature_dict, check_match, suffixes=['_x', '_y'])\n",
    "print unique_grants4.is_star.sum()\n",
    "print last_merge2[last_merge2['is_match']==1].is_star.sum()\n",
    "print last_merge2.is_star.sum()"
   ]
  },
  {
   "cell_type": "code",
   "execution_count": 77,
   "metadata": {
    "collapsed": false
   },
   "outputs": [],
   "source": [
    "#filter to one match per id\n",
    "last_merge2.loc[:, 'clean_first_name_sim'] = 100 - last_merge2['clean_first_name_sim']\n",
    "last_merge2.loc[:, 'clean_middle_name_sim'] = 100 - last_merge2['clean_middle_name_sim']\n",
    "last_merge2.loc[:, 'clean_middle_initial_sim'] = 100 - last_merge2['clean_middle_initial_sim']\n",
    "last_merge2.loc[:, 'clean_first_initial_sim'] = 100 - last_merge2['clean_first_initial_sim']"
   ]
  },
  {
   "cell_type": "code",
   "execution_count": 78,
   "metadata": {
    "collapsed": true
   },
   "outputs": [],
   "source": [
    "sim_cols =  ['grad_sim', 'activity_year_sim', 'clean_first_name_sim', 'clean_first_initial_sim', 'clean_middle_name_sim', 'clean_middle_initial_sim']\n",
    "last_merge3 = filter_one_match_per_group_simple(last_merge2[last_merge2['is_match']==1], PERSON_ID, sim_cols, True)\n",
    "last_merge4 = filter_one_match_per_group_simple(last_merge3, 'newsetnb', sim_cols, True)"
   ]
  },
  {
   "cell_type": "code",
   "execution_count": 79,
   "metadata": {
    "collapsed": false
   },
   "outputs": [
    {
     "data": {
      "text/plain": [
       "(49, 143)"
      ]
     },
     "execution_count": 79,
     "metadata": {},
     "output_type": "execute_result"
    }
   ],
   "source": [
    "last_merge4.shape"
   ]
  },
  {
   "cell_type": "code",
   "execution_count": 80,
   "metadata": {
    "collapsed": false
   },
   "outputs": [
    {
     "name": "stdout",
     "output_type": "stream",
     "text": [
      "['clean_first_initial', 'clean_first_name', 'clean_middle_initial', 'clean_middle_name', 'is_female', 'medschool_year_grad', 'birth_year', 'last_name_counts']\n"
     ]
    }
   ],
   "source": [
    "last_merge5 = consolidate_merge_cols(last_merge4, ['_x', '_y'], [])"
   ]
  },
  {
   "cell_type": "code",
   "execution_count": 81,
   "metadata": {
    "collapsed": true
   },
   "outputs": [],
   "source": [
    "all_matches = pd.concat([last_merge5, exact5], axis=0)"
   ]
  },
  {
   "cell_type": "code",
   "execution_count": 82,
   "metadata": {
    "collapsed": false
   },
   "outputs": [
    {
     "name": "stdout",
     "output_type": "stream",
     "text": [
      "(3090, 113)\n"
     ]
    }
   ],
   "source": [
    "nm_apps = get_nonmatched(apps, all_matches[PERSON_ID], PERSON_ID)"
   ]
  },
  {
   "cell_type": "code",
   "execution_count": 83,
   "metadata": {
    "collapsed": true
   },
   "outputs": [],
   "source": [
    "apps2 = pd.concat([all_matches, nm_apps], axis=0)"
   ]
  },
  {
   "cell_type": "code",
   "execution_count": 84,
   "metadata": {
    "collapsed": false
   },
   "outputs": [
    {
     "name": "stdout",
     "output_type": "stream",
     "text": [
      "['activity_year_sim', 'clean_first_initial_sim', 'clean_first_name_sim', 'clean_middle_initial_sim', 'clean_middle_name_sim', 'grad_sim', 'last_name_counts', 'newsetnb_duplicate', 'person_uuid_duplicate']\n"
     ]
    }
   ],
   "source": [
    "to_drop_cols = [c for c in apps2.columns if c.endswith('_missing') or c.endswith('_duplicate') or '_counts' in c\n",
    "               or c.endswith('_sim')]\n",
    "print to_drop_cols"
   ]
  },
  {
   "cell_type": "code",
   "execution_count": 85,
   "metadata": {
    "collapsed": true
   },
   "outputs": [],
   "source": [
    "apps3 = apps2.drop(to_drop_cols+['is_match', 'first', 'last', 'middle', 'is_female', 'suffix'], axis=1)"
   ]
  },
  {
   "cell_type": "code",
   "execution_count": 86,
   "metadata": {
    "collapsed": false,
    "scrolled": true
   },
   "outputs": [
    {
     "data": {
      "text/html": [
       "<div>\n",
       "<table border=\"1\" class=\"dataframe\">\n",
       "  <thead>\n",
       "    <tr style=\"text-align: right;\">\n",
       "      <th></th>\n",
       "      <th>clean_first_name</th>\n",
       "      <th>clean_middle_name</th>\n",
       "      <th>clean_last_name</th>\n",
       "      <th>grant_id</th>\n",
       "      <th>person_uuid</th>\n",
       "      <th>application_year</th>\n",
       "      <th>medical_school</th>\n",
       "    </tr>\n",
       "  </thead>\n",
       "  <tbody>\n",
       "    <tr>\n",
       "      <th>1954</th>\n",
       "      <td>JAMES</td>\n",
       "      <td>EDWARD</td>\n",
       "      <td>BROWN</td>\n",
       "      <td>NaN</td>\n",
       "      <td>1433.0</td>\n",
       "      <td>1966.0</td>\n",
       "      <td>YALE SCHOOL OF MEDICINE</td>\n",
       "    </tr>\n",
       "    <tr>\n",
       "      <th>1963</th>\n",
       "      <td>JAMES</td>\n",
       "      <td>EDWARD</td>\n",
       "      <td>BROWN</td>\n",
       "      <td>NaN</td>\n",
       "      <td>1409.0</td>\n",
       "      <td>1967.0</td>\n",
       "      <td>ROCHESTER</td>\n",
       "    </tr>\n",
       "    <tr>\n",
       "      <th>1387</th>\n",
       "      <td>DONALD</td>\n",
       "      <td>MARTIN</td>\n",
       "      <td>FALCHUK</td>\n",
       "      <td>NaN</td>\n",
       "      <td>2497.0</td>\n",
       "      <td>1967.0</td>\n",
       "      <td>HARVARD</td>\n",
       "    </tr>\n",
       "    <tr>\n",
       "      <th>1878</th>\n",
       "      <td>DONALD</td>\n",
       "      <td>MARTIN</td>\n",
       "      <td>FALCHUK</td>\n",
       "      <td>NaN</td>\n",
       "      <td>1974.0</td>\n",
       "      <td>1966.0</td>\n",
       "      <td>HARVARD</td>\n",
       "    </tr>\n",
       "    <tr>\n",
       "      <th>3198</th>\n",
       "      <td>DANIEL</td>\n",
       "      <td>MARTIN</td>\n",
       "      <td>BERKOWITZ</td>\n",
       "      <td>NaN</td>\n",
       "      <td>564.0</td>\n",
       "      <td>1969.0</td>\n",
       "      <td>YALE</td>\n",
       "    </tr>\n",
       "    <tr>\n",
       "      <th>3230</th>\n",
       "      <td>DANIEL</td>\n",
       "      <td>MARTIN</td>\n",
       "      <td>BERKOWITZ</td>\n",
       "      <td>NaN</td>\n",
       "      <td>529.0</td>\n",
       "      <td>1967.0</td>\n",
       "      <td>NEW YORK UNIVERSITY SCHOOL OF MEDICINE</td>\n",
       "    </tr>\n",
       "  </tbody>\n",
       "</table>\n",
       "</div>"
      ],
      "text/plain": [
       "     clean_first_name clean_middle_name clean_last_name  grant_id  \\\n",
       "1954            JAMES            EDWARD           BROWN       NaN   \n",
       "1963            JAMES            EDWARD           BROWN       NaN   \n",
       "1387           DONALD            MARTIN         FALCHUK       NaN   \n",
       "1878           DONALD            MARTIN         FALCHUK       NaN   \n",
       "3198           DANIEL            MARTIN       BERKOWITZ       NaN   \n",
       "3230           DANIEL            MARTIN       BERKOWITZ       NaN   \n",
       "\n",
       "      person_uuid  application_year                          medical_school  \n",
       "1954       1433.0            1966.0                 YALE SCHOOL OF MEDICINE  \n",
       "1963       1409.0            1967.0                               ROCHESTER  \n",
       "1387       2497.0            1967.0                                 HARVARD  \n",
       "1878       1974.0            1966.0                                 HARVARD  \n",
       "3198        564.0            1969.0                                    YALE  \n",
       "3230        529.0            1967.0  NEW YORK UNIVERSITY SCHOOL OF MEDICINE  "
      ]
     },
     "execution_count": 86,
     "metadata": {},
     "output_type": "execute_result"
    }
   ],
   "source": [
    "apps3.loc[apps3.duplicated(NAME_COLS, keep=False), NAME_COLS+['grant_id', PERSON_ID, 'application_year', 'medical_school']]"
   ]
  },
  {
   "cell_type": "code",
   "execution_count": 92,
   "metadata": {
    "collapsed": false
   },
   "outputs": [],
   "source": [
    "has_birth_dt = ~pd.isnull(apps3.date_of_birth)\n",
    "apps3.loc[has_birth_dt, 'birth_dt'] =  apps3.loc[has_birth_dt, 'date_of_birth']\n",
    "apps3.loc[has_birth_dt, 'birth_year'] =  apps3.loc[has_birth_dt, 'date_of_birth'].apply(lambda x: pd.to_datetime(x).year)\n",
    "apps4 = apps3.drop('date_of_birth', axis=1).rename(columns={'birth_dt': 'birth_date'})\n"
   ]
  },
  {
   "cell_type": "code",
   "execution_count": 93,
   "metadata": {
    "collapsed": true
   },
   "outputs": [],
   "source": [
    "def improper_formatting(raw_last_name):\n",
    "    # a boolean fnc to identify which rows may have a suffix\n",
    "    if pd.isnull(raw_last_name):\n",
    "        return False\n",
    "    last_lst = raw_last_name.split(' ')\n",
    "    if len(last_lst) == 1:\n",
    "        # if no white spaces in last name, only 1 word, so no suffix\n",
    "        return False\n",
    "    return True\n"
   ]
  },
  {
   "cell_type": "code",
   "execution_count": 94,
   "metadata": {
    "collapsed": false
   },
   "outputs": [],
   "source": [
    "# check for improperly formatted last names\n",
    "\n",
    "bad_lastnames = ['E ROSS HARVARD','MCCLURE MCCHURE', 'S COHEN NYU']\n",
    "to_fix_lastnames = ['ROSS', 'MCCLURE', 'COHEN']\n",
    "apps4.loc[apps4.clean_last_name.isin(bad_lastnames), 'clean_last_name'] = to_fix_lastnames\n"
   ]
  },
  {
   "cell_type": "code",
   "execution_count": 95,
   "metadata": {
    "collapsed": false
   },
   "outputs": [],
   "source": [
    "# check for improper first names\n",
    "# apps4.loc[apps4.clean_first_name.apply(improper_formatting), NAME_COLS]\n",
    "bad_firstnames = ['ANNE FRANCES',  \n",
    "                  'PHILIP R', 'J HAROLD', 'HENRY N', 'H BENFER', 'G JAMES', 'G DAVID', 'A LELAND', 'W STEVES']\n",
    "to_fix_firstnames = ['FRANCES',  'PHILIP', 'J', 'HENRY', 'H', 'G', 'G', 'A', 'W']\n",
    "apps4.loc[apps4.clean_first_name.isin(bad_firstnames), 'clean_first_name'] = to_fix_firstnames"
   ]
  },
  {
   "cell_type": "code",
   "execution_count": 96,
   "metadata": {
    "collapsed": false
   },
   "outputs": [],
   "source": [
    "# check for improper middle names\n",
    "bad_middlenames = ['ANNE FRANCES',  'PHILIP R', 'J HAROLD', 'HENRY N', 'H BENFER', 'G JAMES', 'G DAVID', 'A LELAND', 'W STEVES']\n",
    "to_fix_middlenames = ['FRANCES',  'PHILIP', 'J', 'HENRY', 'H', 'G', 'G', 'A', 'W']\n",
    "\n",
    "has_suff = apps4.clean_middle_name.apply(has_suffix)\n",
    "apps4.loc[has_suff, 'clean_suffix'] = apps4.loc[has_suff, 'clean_middle_name'].apply(get_suffix)\n",
    "apps4.loc[has_suff, 'clean_middle_name'] = apps4.loc[has_suff, 'clean_middle_name'].apply(remove_suffix_from_last_name)"
   ]
  },
  {
   "cell_type": "code",
   "execution_count": 117,
   "metadata": {
    "collapsed": false
   },
   "outputs": [],
   "source": [
    "has_suff = apps4.clean_last_name.apply(has_suffix)\n",
    "apps4.loc[has_suff, 'clean_suffix'] = apps4.loc[has_suff, 'clean_last_name'].apply(get_suffix)\n",
    "apps4.loc[has_suff, 'clean_last_name'] = apps4.loc[has_suff, 'clean_last_name'].apply(remove_suffix_from_last_name)"
   ]
  },
  {
   "cell_type": "code",
   "execution_count": 97,
   "metadata": {
    "collapsed": true
   },
   "outputs": [],
   "source": [
    "def remove_dr_from_first_name(raw_str):\n",
    "    if pd.isnull(raw_str):\n",
    "        return np.nan\n",
    "    raw_str2 = raw_str.split(' DR')\n",
    "    return raw_str2[0]"
   ]
  },
  {
   "cell_type": "code",
   "execution_count": 98,
   "metadata": {
    "collapsed": false
   },
   "outputs": [],
   "source": [
    "mask = apps4.clean_middle_name.apply(improper_formatting)\n",
    "apps4.loc[mask, 'clean_middle_name'] = apps4.loc[mask, 'clean_middle_name'].apply(remove_dr_from_first_name)"
   ]
  },
  {
   "cell_type": "code",
   "execution_count": 101,
   "metadata": {
    "collapsed": false
   },
   "outputs": [],
   "source": [
    "# sorted(apps4.columns)"
   ]
  },
  {
   "cell_type": "code",
   "execution_count": 102,
   "metadata": {
    "collapsed": true
   },
   "outputs": [],
   "source": [
    "def same_name(row):\n",
    "    # check if first and last name are the same\n",
    "    if row[0] == row[1]:\n",
    "        print row\n",
    "        return True\n",
    "    return False\n",
    "\n",
    "def is_weird_name(raw_str):\n",
    "    rs = raw_str.split(' ')\n",
    "    if len(rs) == 1:\n",
    "        return False\n",
    "    return True"
   ]
  },
  {
   "cell_type": "code",
   "execution_count": 114,
   "metadata": {
    "collapsed": false
   },
   "outputs": [
    {
     "name": "stdout",
     "output_type": "stream",
     "text": [
      "clean_first_name    NICHOLAS\n",
      "clean_last_name     NICHOLAS\n",
      "Name: 1348, dtype: object\n"
     ]
    }
   ],
   "source": [
    "apps4.loc[\n",
    "    apps4[['clean_first_name', 'clean_last_name']].apply(same_name, axis=1), 'clean_first_name'] = 'JOHN'\n",
    "#     NAME_COLS+['medical_school', 'first_name', 'middle_name', 'last_name']]"
   ]
  },
  {
   "cell_type": "code",
   "execution_count": 119,
   "metadata": {
    "collapsed": false
   },
   "outputs": [
    {
     "name": "stdout",
     "output_type": "stream",
     "text": [
      "clean_first_name     LAWRENCE\n",
      "clean_middle_name    LAWRENCE\n",
      "Name: 1782, dtype: object\n",
      "clean_first_name     FREDERIC\n",
      "clean_middle_name    FREDERIC\n",
      "Name: 1950, dtype: object\n",
      "clean_first_name     EDMOND\n",
      "clean_middle_name    EDMOND\n",
      "Name: 2952, dtype: object\n"
     ]
    }
   ],
   "source": [
    "apps4.loc[\n",
    "    apps4[['clean_first_name', 'clean_middle_name']].apply(same_name, axis=1), 'clean_middle_name'] = np.nan"
   ]
  },
  {
   "cell_type": "code",
   "execution_count": 120,
   "metadata": {
    "collapsed": false
   },
   "outputs": [
    {
     "data": {
      "text/html": [
       "<div>\n",
       "<table border=\"1\" class=\"dataframe\">\n",
       "  <thead>\n",
       "    <tr style=\"text-align: right;\">\n",
       "      <th></th>\n",
       "      <th>clean_first_name</th>\n",
       "      <th>clean_middle_name</th>\n",
       "      <th>clean_last_name</th>\n",
       "    </tr>\n",
       "  </thead>\n",
       "  <tbody>\n",
       "  </tbody>\n",
       "</table>\n",
       "</div>"
      ],
      "text/plain": [
       "Empty DataFrame\n",
       "Columns: [clean_first_name, clean_middle_name, clean_last_name]\n",
       "Index: []"
      ]
     },
     "execution_count": 120,
     "metadata": {},
     "output_type": "execute_result"
    }
   ],
   "source": [
    "apps4.loc[\n",
    "    apps4[['clean_middle_name', 'clean_last_name']].apply(same_name, axis=1), NAME_COLS]"
   ]
  },
  {
   "cell_type": "code",
   "execution_count": 123,
   "metadata": {
    "collapsed": false
   },
   "outputs": [],
   "source": [
    "# ADD LAST NAME COUNTS\n",
    "nih = pd.read_csv(os.path.join(ATT_DATA_DIR, 'NIH_attendee_deduped_raw.csv'))"
   ]
  },
  {
   "cell_type": "code",
   "execution_count": 124,
   "metadata": {
    "collapsed": false
   },
   "outputs": [],
   "source": [
    "last_name_counts = Counter(nih.clean_last_name.values)"
   ]
  },
  {
   "cell_type": "code",
   "execution_count": 125,
   "metadata": {
    "collapsed": true
   },
   "outputs": [],
   "source": [
    "apps4['nih_last_name_counts'] = apps4.clean_last_name.apply(lambda x: last_name_counts[x])"
   ]
  },
  {
   "cell_type": "code",
   "execution_count": 129,
   "metadata": {
    "collapsed": true
   },
   "outputs": [],
   "source": [
    "def total_number_applications(app_years):\n",
    "    unique_apps_years = app_years.dropna().unique()\n",
    "    return unique_apps_years.shape[0]"
   ]
  },
  {
   "cell_type": "code",
   "execution_count": 131,
   "metadata": {
    "collapsed": false
   },
   "outputs": [],
   "source": [
    "apps4['number_applications'] = apps4[\n",
    "    ['application_year', 'application_year_1', 'application_year_2', 'application_year_3']].apply(\n",
    "        total_number_applications, axis=1)"
   ]
  },
  {
   "cell_type": "code",
   "execution_count": 141,
   "metadata": {
    "collapsed": true
   },
   "outputs": [],
   "source": [
    "to_drop = ['clean_first_initial', 'clean_middle_initial', 'degree_country_1', 'degree_inst_1_desc', 'exit', \n",
    "          'first_name', 'middle_name', 'last_name', 'level_0', 'dob_app_diff', 'duplicate_dno', 'index', 'inst',\n",
    "          'main_dept', 'sim']"
   ]
  },
  {
   "cell_type": "code",
   "execution_count": 157,
   "metadata": {
    "collapsed": true
   },
   "outputs": [],
   "source": [
    "\n",
    "apps5 = apps4.sort_values(['clean_last_name', 'clean_first_name']).drop(to_drop, axis=1)\n",
    "\n",
    "IMP_COLS = [\n",
    "    PERSON_ID, 'aamc_id', 'newsetnb', 'dno', 'clean_first_name', 'clean_middle_name', 'clean_last_name',\n",
    "    'clean_suffix','control_flag', 'application_year_min', 'application_year_max', 'eod_year',\n",
    "    'medical_school', 'birth_year', \n",
    "    'nih_last_name_counts', 'number_applications', 'internship_start', 'internship_end',\n",
    "    'internship_hospital', 'residency_start', 'residency_end', 'residency_hospital', \n",
    "    'undergrad_year_grad', 'year_accepted', 'rejected', 'rejection_date',\n",
    "    'address', 'city', 'state', 'zip_code']\n",
    "\n",
    "RESEARCH_COLS = ['bob', 'ca', 'cc', 'clinical', 'cord', 'dbs', 'fifth', 'generation', 'honor_societies_first',\n",
    "                 'honor_societies_fourth', 'honor_societies_second', 'honor_societies_third', 'ic', 'institute',\n",
    "                  'is_star', 'nci', 'nei', 'nhi', 'nhli', 'niaid', 'niamd', 'niamdd', 'nichd', 'nichhd',\n",
    "                 'nidr', 'niehs', 'nigms', 'nimh', 'nindb', 'ninds', 'oir', \n",
    "                  'pharm_ra', 'phd_year_grad', 'pi', 'program', 'ra',  'research', 'sa', 'sixth',\n",
    "                 'supervisor', 'teaching', 'withdrawal']"
   ]
  },
  {
   "cell_type": "code",
   "execution_count": 163,
   "metadata": {
    "collapsed": false
   },
   "outputs": [
    {
     "name": "stdout",
     "output_type": "stream",
     "text": [
      "['aamc_id_2', 'application_date', 'application_year', 'application_year_1', 'application_year_2', 'application_year_3', 'associate_program_entered', 'birth_country_cd', 'birth_date', 'birth_state_cd', 'citizenship', 'clean_college', 'death_year', 'deg', 'degree_type', 'department', 'first_grant_year', 'institution_aamc_id', 'internship_hospital_ipfcode', 'internship_hospital_std', 'med_school', 'medschool_year_grad', 'original_medical_school', 'race', 'raw_uuid', 'raw_uuid_1', 'raw_uuid_2', 'raw_uuid_3', 'raw_uuid_4', 'raw_uuid_5', 'residency', 'residency_hospital_ipfcode', 'residency_hospital_std', 'sub_department']\n"
     ]
    }
   ],
   "source": [
    "col_ordered =  funcy.remove(lambda x: x in IMP_COLS or x in RESEARCH_COLS, apps5.columns)\n",
    "print col_ordered"
   ]
  },
  {
   "cell_type": "code",
   "execution_count": 164,
   "metadata": {
    "collapsed": false
   },
   "outputs": [],
   "source": [
    "apps6 = apps5[IMP_COLS + col_ordered + RESEARCH_COLS]"
   ]
  },
  {
   "cell_type": "code",
   "execution_count": 168,
   "metadata": {
    "collapsed": false
   },
   "outputs": [],
   "source": [
    "apps7 = apps6[~pd.isnull(apps6.clean_last_name)]"
   ]
  },
  {
   "cell_type": "code",
   "execution_count": null,
   "metadata": {
    "collapsed": true
   },
   "outputs": [],
   "source": [
    "# remove LICHTER, "
   ]
  },
  {
   "cell_type": "code",
   "execution_count": 169,
   "metadata": {
    "collapsed": false
   },
   "outputs": [],
   "source": [
    "apps7.to_csv(os.path.join(APP_DATA_DIR, 'NIH_AAMC_index_cards_grant_standardized.csv'), index=False)"
   ]
  },
  {
   "cell_type": "code",
   "execution_count": null,
   "metadata": {
    "collapsed": true
   },
   "outputs": [],
   "source": [
    "apps7.apps7.cl"
   ]
  }
 ],
 "metadata": {
  "kernelspec": {
   "display_name": "Python 2",
   "language": "python",
   "name": "python2"
  },
  "language_info": {
   "codemirror_mode": {
    "name": "ipython",
    "version": 2
   },
   "file_extension": ".py",
   "mimetype": "text/x-python",
   "name": "python",
   "nbconvert_exporter": "python",
   "pygments_lexer": "ipython2",
   "version": "2.7.12"
  }
 },
 "nbformat": 4,
 "nbformat_minor": 1
}
