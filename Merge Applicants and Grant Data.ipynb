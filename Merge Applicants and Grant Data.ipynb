{
 "cells": [
  {
   "cell_type": "code",
   "execution_count": 42,
   "metadata": {
    "collapsed": false
   },
   "outputs": [
    {
     "name": "stdout",
     "output_type": "stream",
     "text": [
      "The autoreload extension is already loaded. To reload it, use:\n",
      "  %reload_ext autoreload\n"
     ]
    }
   ],
   "source": [
    "from collections import Counter\n",
    "import funcy\n",
    "from fuzzywuzzy import fuzz\n",
    "import numpy as np \n",
    "import pandas as pd \n",
    "import os\n",
    "\n",
    "from data_cleaning_functions import (trans_remov_punc, standardize_whitespace, remove_punc, remove_suffix_from_last_name,\n",
    "                                     clean_names, has_award, has_suffix, get_suffix, replace_last_name, \n",
    "                                     is_year_range, str_sim, clean_med_school, clean_std_college_name, long_form_date, \n",
    "                                    correct_mispellings)\n",
    "\n",
    "from dev import (\n",
    "    APP_DATA_DIR, GRANT_DATA_DIR,  NAME_COLS, RAW_NAME_COLS, FEMALE_FIRST_NAMES, FEMALE_MIDDLE_NAMES,\n",
    "    RAW_CARD_ID, RAW_INDEX_IDS, PERSON_APPLICATION_ID, PERSON_ID, NIH_ID, PICKLE_DIR, STD_DIR)\n",
    "\n",
    "from merging_functions import *\n",
    "\n",
    "OUTPUT_CSV = False \n",
    "\n",
    "PERSONAL_INFO = [\n",
    "    'clean_first_name', 'clean_last_name', 'clean_middle_name',\n",
    "    'date_of_birth', 'medical_school', 'clean_college_trans']\n",
    "\n",
    "\n",
    "# load autoreload extension\n",
    "%load_ext autoreload\n",
    "%autoreload 2"
   ]
  },
  {
   "cell_type": "code",
   "execution_count": 43,
   "metadata": {
    "collapsed": true
   },
   "outputs": [],
   "source": [
    "apps = pd.read_csv(os.path.join(APP_DATA_DIR, 'NIH_AAMC_index_cards_standardized.csv')).drop('Unnamed: 0', axis=1)"
   ]
  },
  {
   "cell_type": "code",
   "execution_count": 44,
   "metadata": {
    "collapsed": false
   },
   "outputs": [],
   "source": [
    "grant_data = pd.read_stata(os.path.join(GRANT_DATA_DIR, 'grant_data.dta'))"
   ]
  },
  {
   "cell_type": "code",
   "execution_count": 45,
   "metadata": {
    "collapsed": true
   },
   "outputs": [],
   "source": [
    "stars_data = pd.read_stata(os.path.join(GRANT_DATA_DIR, 'stars_data.dta'))"
   ]
  },
  {
   "cell_type": "code",
   "execution_count": 46,
   "metadata": {
    "collapsed": true
   },
   "outputs": [],
   "source": [
    "grant_data.columns = map(lambda x: x.lower(), grant_data.columns)"
   ]
  },
  {
   "cell_type": "code",
   "execution_count": 47,
   "metadata": {
    "collapsed": true
   },
   "outputs": [],
   "source": [
    "stars_data.columns = map(lambda x: x.lower(), stars_data.columns)"
   ]
  },
  {
   "cell_type": "code",
   "execution_count": 48,
   "metadata": {
    "collapsed": true
   },
   "outputs": [],
   "source": [
    "stars_data['is_star'] = 1"
   ]
  },
  {
   "cell_type": "code",
   "execution_count": 49,
   "metadata": {
    "collapsed": false
   },
   "outputs": [
    {
     "data": {
      "text/html": [
       "<div>\n",
       "<table border=\"1\" class=\"dataframe\">\n",
       "  <thead>\n",
       "    <tr style=\"text-align: right;\">\n",
       "      <th></th>\n",
       "      <th>newsetnb</th>\n",
       "      <th>fullname</th>\n",
       "      <th>first</th>\n",
       "      <th>middle</th>\n",
       "      <th>last</th>\n",
       "      <th>suffix</th>\n",
       "      <th>star_yob</th>\n",
       "      <th>star_yod</th>\n",
       "      <th>deg</th>\n",
       "      <th>mdyear</th>\n",
       "      <th>phdyear</th>\n",
       "      <th>exit</th>\n",
       "      <th>main_dept</th>\n",
       "      <th>is_star</th>\n",
       "    </tr>\n",
       "  </thead>\n",
       "  <tbody>\n",
       "    <tr>\n",
       "      <th>0</th>\n",
       "      <td>S2700910</td>\n",
       "      <td>Philip Leder</td>\n",
       "      <td>Philip</td>\n",
       "      <td></td>\n",
       "      <td>Leder</td>\n",
       "      <td></td>\n",
       "      <td>1934.0</td>\n",
       "      <td>NaN</td>\n",
       "      <td>MD</td>\n",
       "      <td>1960</td>\n",
       "      <td>NaN</td>\n",
       "      <td>0</td>\n",
       "      <td>Genetics</td>\n",
       "      <td>1</td>\n",
       "    </tr>\n",
       "    <tr>\n",
       "      <th>1</th>\n",
       "      <td>A4700231</td>\n",
       "      <td>Robert P. Hebbel</td>\n",
       "      <td>Robert</td>\n",
       "      <td>P.</td>\n",
       "      <td>Hebbel</td>\n",
       "      <td></td>\n",
       "      <td>1947.0</td>\n",
       "      <td>NaN</td>\n",
       "      <td>MD</td>\n",
       "      <td>1973</td>\n",
       "      <td>NaN</td>\n",
       "      <td>0</td>\n",
       "      <td>Internal Medicine</td>\n",
       "      <td>1</td>\n",
       "    </tr>\n",
       "    <tr>\n",
       "      <th>2</th>\n",
       "      <td>A6701706</td>\n",
       "      <td>Alfred G. Gilman</td>\n",
       "      <td>Alfred</td>\n",
       "      <td>G.</td>\n",
       "      <td>Gilman</td>\n",
       "      <td></td>\n",
       "      <td>1941.0</td>\n",
       "      <td>2015.0</td>\n",
       "      <td>MD/PhD</td>\n",
       "      <td>1969</td>\n",
       "      <td>1969.0</td>\n",
       "      <td>1</td>\n",
       "      <td>Pharmacology</td>\n",
       "      <td>1</td>\n",
       "    </tr>\n",
       "    <tr>\n",
       "      <th>3</th>\n",
       "      <td>A4800150</td>\n",
       "      <td>Paul A. Bunn, Jr.</td>\n",
       "      <td>Paul</td>\n",
       "      <td>A.</td>\n",
       "      <td>Bunn</td>\n",
       "      <td>Jr.</td>\n",
       "      <td>1945.0</td>\n",
       "      <td>NaN</td>\n",
       "      <td>MD</td>\n",
       "      <td>1971</td>\n",
       "      <td>NaN</td>\n",
       "      <td>0</td>\n",
       "      <td>Internal Medicine</td>\n",
       "      <td>1</td>\n",
       "    </tr>\n",
       "    <tr>\n",
       "      <th>4</th>\n",
       "      <td>A9001316</td>\n",
       "      <td>Vincent T. DeVita, Jr.</td>\n",
       "      <td>Vincent</td>\n",
       "      <td>T.</td>\n",
       "      <td>DeVita</td>\n",
       "      <td>Jr.</td>\n",
       "      <td>1935.0</td>\n",
       "      <td>NaN</td>\n",
       "      <td>MD</td>\n",
       "      <td>1961</td>\n",
       "      <td>NaN</td>\n",
       "      <td>0</td>\n",
       "      <td>Internal Medicine</td>\n",
       "      <td>1</td>\n",
       "    </tr>\n",
       "  </tbody>\n",
       "</table>\n",
       "</div>"
      ],
      "text/plain": [
       "   newsetnb                fullname    first middle    last suffix  star_yob  \\\n",
       "0  S2700910            Philip Leder   Philip          Leder           1934.0   \n",
       "1  A4700231        Robert P. Hebbel   Robert     P.  Hebbel           1947.0   \n",
       "2  A6701706        Alfred G. Gilman   Alfred     G.  Gilman           1941.0   \n",
       "3  A4800150       Paul A. Bunn, Jr.     Paul     A.    Bunn    Jr.    1945.0   \n",
       "4  A9001316  Vincent T. DeVita, Jr.  Vincent     T.  DeVita    Jr.    1935.0   \n",
       "\n",
       "   star_yod     deg  mdyear  phdyear  exit          main_dept  is_star  \n",
       "0       NaN      MD    1960      NaN     0           Genetics        1  \n",
       "1       NaN      MD    1973      NaN     0  Internal Medicine        1  \n",
       "2    2015.0  MD/PhD    1969   1969.0     1       Pharmacology        1  \n",
       "3       NaN      MD    1971      NaN     0  Internal Medicine        1  \n",
       "4       NaN      MD    1961      NaN     0  Internal Medicine        1  "
      ]
     },
     "execution_count": 49,
     "metadata": {},
     "output_type": "execute_result"
    }
   ],
   "source": [
    "stars_data.head()"
   ]
  },
  {
   "cell_type": "code",
   "execution_count": 50,
   "metadata": {
    "collapsed": false
   },
   "outputs": [],
   "source": [
    "unique_grants = grant_data.sort_values('year').drop_duplicates(\n",
    "    ['newsetnb'], keep='first')[\n",
    "        ['first', 'middle', 'last', 'suffix', 'newsetnb', 'mdyear', 'phdyear', 'year']].rename(columns={'year': 'first_grant_year'})"
   ]
  },
  {
   "cell_type": "code",
   "execution_count": 51,
   "metadata": {
    "collapsed": true
   },
   "outputs": [],
   "source": [
    "unique_grants2 = pd.concat([stars_data.drop(['fullname'], axis=1), unique_grants], axis=0)"
   ]
  },
  {
   "cell_type": "code",
   "execution_count": 52,
   "metadata": {
    "collapsed": false
   },
   "outputs": [],
   "source": [
    "unique_grants2['clean_first_name'] = unique_grants2['first'].apply(clean_names)\n",
    "unique_grants2['clean_middle_name'] = unique_grants2['middle'].apply(clean_names)\n",
    "\n",
    "unique_grants2['clean_last_name'] = unique_grants2['last'].apply(clean_names)"
   ]
  },
  {
   "cell_type": "code",
   "execution_count": 53,
   "metadata": {
    "collapsed": false
   },
   "outputs": [],
   "source": [
    "female_mask = (\n",
    "    (unique_grants2['clean_first_name'].isin(FEMALE_FIRST_NAMES))| (\n",
    "        unique_grants2['clean_middle_name'].isin(FEMALE_MIDDLE_NAMES)))\n",
    "unique_grants2['is_female'] = 0\n",
    "unique_grants2.loc[female_mask, 'is_female'] = 1"
   ]
  },
  {
   "cell_type": "code",
   "execution_count": 54,
   "metadata": {
    "collapsed": false
   },
   "outputs": [],
   "source": [
    "def get_initial(raw_str):\n",
    "    if pd.isnull(raw_str):\n",
    "        return np.nan\n",
    "    if len(raw_str) == 1:\n",
    "        return raw_str\n",
    "    return raw_str[0]\n",
    "\n",
    "unique_grants2['clean_middle_initial'] = unique_grants2.clean_middle_name.apply(get_initial)\n",
    "unique_grants2['clean_first_initial'] = unique_grants2.clean_first_name.apply(get_initial)"
   ]
  },
  {
   "cell_type": "code",
   "execution_count": 55,
   "metadata": {
    "collapsed": true
   },
   "outputs": [],
   "source": [
    "unique_grants3 = unique_grants2[unique_grants2.is_female==0].sort_values(['newsetnb', 'is_star'], ascending=False).drop_duplicates(['newsetnb'], keep='first')"
   ]
  },
  {
   "cell_type": "code",
   "execution_count": 56,
   "metadata": {
    "collapsed": false
   },
   "outputs": [],
   "source": [
    "apps_counter = Counter(apps.clean_last_name.values)\n",
    "unique_grants3['last_name_counts'] = unique_grants3.clean_last_name.apply(lambda x: apps_counter[x])\n",
    "unique_grants4 = unique_grants3[\n",
    "    ((unique_grants3.last_name_counts>1) & pd.isnull(unique_grants3.mdyear)) | \n",
    "    ((unique_grants3.last_name_counts>1) & (unique_grants3.mdyear<1975) & (unique_grants3.mdyear>1960))]"
   ]
  },
  {
   "cell_type": "code",
   "execution_count": 57,
   "metadata": {
    "collapsed": true
   },
   "outputs": [],
   "source": [
    "unique_grants4 = unique_grants4.rename(columns={'mdyear': 'medschool_year_grad', 'phdyear': 'phd_year_grad', \n",
    "                                               'star_yob':'birth_year', 'star_yod': 'death_year'})"
   ]
  },
  {
   "cell_type": "code",
   "execution_count": 59,
   "metadata": {
    "collapsed": false
   },
   "outputs": [
    {
     "data": {
      "text/plain": [
       "(24609, 21)"
      ]
     },
     "execution_count": 59,
     "metadata": {},
     "output_type": "execute_result"
    }
   ],
   "source": [
    "unique_grants4.shape"
   ]
  },
  {
   "cell_type": "code",
   "execution_count": 60,
   "metadata": {
    "collapsed": false
   },
   "outputs": [
    {
     "data": {
      "text/plain": [
       "(2682, 128)"
      ]
     },
     "execution_count": 60,
     "metadata": {},
     "output_type": "execute_result"
    }
   ],
   "source": [
    "exact = pd.merge(\n",
    "    left=apps, right=unique_grants4, on=['clean_first_name', 'clean_last_name'], how='inner', suffixes=['_x', '_y'])\n",
    "exact.shape"
   ]
  },
  {
   "cell_type": "code",
   "execution_count": 61,
   "metadata": {
    "collapsed": false
   },
   "outputs": [
    {
     "name": "stdout",
     "output_type": "stream",
     "text": [
      "(3743, 109)\n"
     ]
    }
   ],
   "source": [
    "print apps.shape"
   ]
  },
  {
   "cell_type": "code",
   "execution_count": 62,
   "metadata": {
    "collapsed": false
   },
   "outputs": [
    {
     "name": "stdout",
     "output_type": "stream",
     "text": [
      "405.0\n",
      "167.0\n",
      "193.0\n"
     ]
    }
   ],
   "source": [
    "exact['grad_sim'] = exact.apply(lambda x: abs(x['medschool_year_grad_x'] - x['medschool_year_grad_y']), axis=1)\n",
    "exact['activity_year_sim'] = exact.apply(lambda x: x['first_grant_year'] - x['medschool_year_grad_x'], axis=1)\n",
    "\n",
    "def check_match(row):\n",
    "    if row['grad_sim'] > 5:\n",
    "        return 0\n",
    "    # first grant shouldn't be given prior to med school graduation\n",
    "    if row['activity_year_sim'] < 0:\n",
    "        return 0\n",
    "    if not pd.isnull(row['clean_middle_initial_sim']) and row['clean_middle_initial_sim'] < 40:\n",
    "        return 0\n",
    "    if row['last_name_counts'] == 1:\n",
    "        return 1\n",
    "    return 1\n",
    "\n",
    "feature_dict = {\n",
    "    'clean_middle_name': get_name_str_sim,\n",
    "    'clean_middle_initial': get_name_str_sim,\n",
    "} \n",
    "\n",
    "exact2 = add_similarity_features(exact, feature_dict, check_match, suffixes=['_x', '_y'])\n",
    "\n",
    "print unique_grants4.is_star.sum()\n",
    "print exact2[exact2['is_match']==1].is_star.sum()\n",
    "print exact2.is_star.sum()"
   ]
  },
  {
   "cell_type": "code",
   "execution_count": 63,
   "metadata": {
    "collapsed": true
   },
   "outputs": [],
   "source": [
    "# change raw sim columns to 100- so can be sorted with small values first\n",
    "exact2.loc[:, 'clean_middle_name_sim'] = 100 - exact2['clean_middle_name_sim']\n",
    "exact2.loc[:, 'clean_middle_initial_sim'] = 100 - exact2['clean_middle_initial_sim']"
   ]
  },
  {
   "cell_type": "code",
   "execution_count": 64,
   "metadata": {
    "collapsed": false
   },
   "outputs": [],
   "source": [
    "# do sort in ascending, because grad year sim and activity sim should be as small as possible\n",
    "sim_cols =  ['grad_sim', 'activity_year_sim', 'clean_middle_name_sim', 'clean_middle_initial_sim']\n",
    "exact3 = filter_one_match_per_group_simple(exact2[exact2['is_match']==1], PERSON_ID, sim_cols, True)\n",
    "exact4 = filter_one_match_per_group_simple(exact3, 'newsetnb', sim_cols, True)\n"
   ]
  },
  {
   "cell_type": "code",
   "execution_count": 65,
   "metadata": {
    "collapsed": false
   },
   "outputs": [
    {
     "name": "stdout",
     "output_type": "stream",
     "text": [
      "['clean_first_initial', 'clean_middle_initial', 'clean_middle_name', 'is_female', 'medschool_year_grad', 'birth_year']\n"
     ]
    }
   ],
   "source": [
    "exact5 = consolidate_merge_cols(exact4, ['_x', '_y'], [])"
   ]
  },
  {
   "cell_type": "code",
   "execution_count": 66,
   "metadata": {
    "collapsed": false
   },
   "outputs": [
    {
     "name": "stdout",
     "output_type": "stream",
     "text": [
      "(3150, 109)\n",
      "(24016, 21)\n"
     ]
    }
   ],
   "source": [
    "nm_apps = get_nonmatched(apps, exact4[PERSON_ID].values, PERSON_ID)\n",
    "nm_grant = get_nonmatched(unique_grants4, exact4['newsetnb'].values, 'newsetnb')"
   ]
  },
  {
   "cell_type": "code",
   "execution_count": 67,
   "metadata": {
    "collapsed": false
   },
   "outputs": [],
   "source": [
    "nm_apps_c = Counter(nm_apps.clean_last_name.values)\n",
    "nm_grants_c = Counter(nm_grant.clean_last_name.values)\n",
    "nm_apps.loc[:, 'last_name_counts'] = nm_apps.clean_last_name.apply(lambda x: nm_apps_c[x])\n",
    "\n",
    "nm_grant.loc[:, 'last_name_counts'] = nm_grant.clean_last_name.apply(lambda x: nm_grants_c[x])"
   ]
  },
  {
   "cell_type": "code",
   "execution_count": 68,
   "metadata": {
    "collapsed": false
   },
   "outputs": [
    {
     "data": {
      "text/plain": [
       "(67896, 130)"
      ]
     },
     "execution_count": 68,
     "metadata": {},
     "output_type": "execute_result"
    }
   ],
   "source": [
    "last_merge = pd.merge(left=nm_apps, right=nm_grant, how='inner', on=['clean_last_name'], suffixes=['_x', '_y'])\n",
    "last_merge.shape"
   ]
  },
  {
   "cell_type": "code",
   "execution_count": 69,
   "metadata": {
    "collapsed": false
   },
   "outputs": [
    {
     "name": "stdout",
     "output_type": "stream",
     "text": [
      "405.0\n",
      "7.0\n",
      "716.0\n"
     ]
    }
   ],
   "source": [
    "last_merge['grad_sim'] = last_merge.apply(lambda x: abs(x['medschool_year_grad_x'] - x['medschool_year_grad_y']), axis=1)\n",
    "last_merge['activity_year_sim'] = last_merge.apply(lambda x: x['first_grant_year'] - x['medschool_year_grad_x'], axis=1)\n",
    "\n",
    "def check_match(row):\n",
    "    if row['grad_sim'] > 5:\n",
    "        return 0\n",
    "    # first grant shouldn't be given prior to med school graduation\n",
    "    if row['activity_year_sim'] < 0 or row['activity_year_sim'] < 3:\n",
    "        return 0\n",
    "    if row['clean_first_initial_sim'] < 100:\n",
    "        return 0\n",
    "    if row['clean_middle_initial_sim'] < 100:\n",
    "        return 0\n",
    "    if row['clean_first_name_sim'] < 80:\n",
    "        return 0\n",
    "    if row['clean_middle_name_sim'] < 80:\n",
    "        return 0\n",
    "    return 1\n",
    "\n",
    "feature_dict = {\n",
    "    'clean_middle_name': get_name_str_sim,\n",
    "    'clean_middle_initial': get_name_str_sim,\n",
    "    'clean_first_name': get_name_str_sim,\n",
    "    'clean_first_initial': get_name_str_sim,\n",
    "} \n",
    "\n",
    "last_merge2 = add_similarity_features(last_merge, feature_dict, check_match, suffixes=['_x', '_y'])\n",
    "print unique_grants4.is_star.sum()\n",
    "print last_merge2[last_merge2['is_match']==1].is_star.sum()\n",
    "print last_merge2.is_star.sum()"
   ]
  },
  {
   "cell_type": "code",
   "execution_count": 70,
   "metadata": {
    "collapsed": false
   },
   "outputs": [],
   "source": [
    "#filter to one match per id\n",
    "last_merge2.loc[:, 'clean_first_name_sim'] = 100 - last_merge2['clean_first_name_sim']\n",
    "last_merge2.loc[:, 'clean_middle_name_sim'] = 100 - last_merge2['clean_middle_name_sim']\n",
    "last_merge2.loc[:, 'clean_middle_initial_sim'] = 100 - last_merge2['clean_middle_initial_sim']\n",
    "last_merge2.loc[:, 'clean_first_initial_sim'] = 100 - last_merge2['clean_first_initial_sim']"
   ]
  },
  {
   "cell_type": "code",
   "execution_count": 71,
   "metadata": {
    "collapsed": true
   },
   "outputs": [],
   "source": [
    "sim_cols =  ['grad_sim', 'activity_year_sim', 'clean_first_name_sim', 'clean_first_initial_sim', 'clean_middle_name_sim', 'clean_middle_initial_sim']\n",
    "last_merge3 = filter_one_match_per_group_simple(last_merge2[last_merge2['is_match']==1], PERSON_ID, sim_cols, True)\n",
    "last_merge4 = filter_one_match_per_group_simple(last_merge3, 'newsetnb', sim_cols, True)"
   ]
  },
  {
   "cell_type": "code",
   "execution_count": 72,
   "metadata": {
    "collapsed": false
   },
   "outputs": [
    {
     "data": {
      "text/plain": [
       "(50, 139)"
      ]
     },
     "execution_count": 72,
     "metadata": {},
     "output_type": "execute_result"
    }
   ],
   "source": [
    "last_merge4.shape"
   ]
  },
  {
   "cell_type": "code",
   "execution_count": 73,
   "metadata": {
    "collapsed": false
   },
   "outputs": [
    {
     "name": "stdout",
     "output_type": "stream",
     "text": [
      "['clean_first_initial', 'clean_first_name', 'clean_middle_initial', 'clean_middle_name', 'is_female', 'medschool_year_grad', 'birth_year', 'last_name_counts']\n"
     ]
    }
   ],
   "source": [
    "last_merge5 = consolidate_merge_cols(last_merge4, ['_x', '_y'], [])"
   ]
  },
  {
   "cell_type": "code",
   "execution_count": 74,
   "metadata": {
    "collapsed": true
   },
   "outputs": [],
   "source": [
    "all_matches = pd.concat([last_merge5, exact5], axis=0)"
   ]
  },
  {
   "cell_type": "code",
   "execution_count": 75,
   "metadata": {
    "collapsed": false
   },
   "outputs": [
    {
     "name": "stdout",
     "output_type": "stream",
     "text": [
      "(3100, 109)\n"
     ]
    }
   ],
   "source": [
    "nm_apps = get_nonmatched(apps, all_matches[PERSON_ID], PERSON_ID)"
   ]
  },
  {
   "cell_type": "code",
   "execution_count": 76,
   "metadata": {
    "collapsed": true
   },
   "outputs": [],
   "source": [
    "apps2 = pd.concat([all_matches, nm_apps], axis=0)"
   ]
  },
  {
   "cell_type": "code",
   "execution_count": 77,
   "metadata": {
    "collapsed": false
   },
   "outputs": [
    {
     "name": "stdout",
     "output_type": "stream",
     "text": [
      "['activity_year_sim', 'clean_first_initial_sim', 'clean_first_name_sim', 'clean_middle_initial_sim', 'clean_middle_name_sim', 'grad_sim', 'last_name_counts', 'newsetnb_duplicate', 'person_uuid_duplicate']\n"
     ]
    }
   ],
   "source": [
    "to_drop_cols = [c for c in apps2.columns if c.endswith('_missing') or c.endswith('_duplicate') or '_counts' in c\n",
    "               or c.endswith('_sim')]\n",
    "print to_drop_cols"
   ]
  },
  {
   "cell_type": "code",
   "execution_count": 78,
   "metadata": {
    "collapsed": true
   },
   "outputs": [],
   "source": [
    "apps3 = apps2.drop(to_drop_cols+['is_match', 'first', 'last', 'middle', 'is_female', 'suffix'], axis=1)"
   ]
  },
  {
   "cell_type": "code",
   "execution_count": 82,
   "metadata": {
    "collapsed": false
   },
   "outputs": [
    {
     "data": {
      "text/html": [
       "<div>\n",
       "<table border=\"1\" class=\"dataframe\">\n",
       "  <thead>\n",
       "    <tr style=\"text-align: right;\">\n",
       "      <th></th>\n",
       "      <th>clean_first_name</th>\n",
       "      <th>clean_middle_name</th>\n",
       "      <th>clean_last_name</th>\n",
       "      <th>grant_id</th>\n",
       "      <th>person_uuid</th>\n",
       "      <th>application_year</th>\n",
       "      <th>medical_school</th>\n",
       "    </tr>\n",
       "  </thead>\n",
       "  <tbody>\n",
       "    <tr>\n",
       "      <th>1951</th>\n",
       "      <td>JAMES</td>\n",
       "      <td>EDWARD</td>\n",
       "      <td>BROWN</td>\n",
       "      <td>NaN</td>\n",
       "      <td>1431.0</td>\n",
       "      <td>1966.0</td>\n",
       "      <td>YALE SCHOOL OF MEDICINE</td>\n",
       "    </tr>\n",
       "    <tr>\n",
       "      <th>1960</th>\n",
       "      <td>JAMES</td>\n",
       "      <td>EDWARD</td>\n",
       "      <td>BROWN</td>\n",
       "      <td>NaN</td>\n",
       "      <td>1407.0</td>\n",
       "      <td>1967.0</td>\n",
       "      <td>UNIVERSITY OF ROCHESTER SCHOOL OF MEDICINE AND...</td>\n",
       "    </tr>\n",
       "    <tr>\n",
       "      <th>1624</th>\n",
       "      <td>MARTIN</td>\n",
       "      <td>G</td>\n",
       "      <td>ALLEN</td>\n",
       "      <td>NaN</td>\n",
       "      <td>2263.0</td>\n",
       "      <td>1965.0</td>\n",
       "      <td>NaN</td>\n",
       "    </tr>\n",
       "    <tr>\n",
       "      <th>1625</th>\n",
       "      <td>MARTIN</td>\n",
       "      <td>G</td>\n",
       "      <td>ALLEN</td>\n",
       "      <td>NaN</td>\n",
       "      <td>2262.0</td>\n",
       "      <td>1965.0</td>\n",
       "      <td>NEW YORK UNIVERSITY SCHOOL OF MEDICINE</td>\n",
       "    </tr>\n",
       "    <tr>\n",
       "      <th>3213</th>\n",
       "      <td>DANIEL</td>\n",
       "      <td>MARTIN</td>\n",
       "      <td>BERKOWITZ</td>\n",
       "      <td>NaN</td>\n",
       "      <td>564.0</td>\n",
       "      <td>1969.0</td>\n",
       "      <td>YALE SCHOOL OF MEDICINE</td>\n",
       "    </tr>\n",
       "    <tr>\n",
       "      <th>3245</th>\n",
       "      <td>DANIEL</td>\n",
       "      <td>MARTIN</td>\n",
       "      <td>BERKOWITZ</td>\n",
       "      <td>NaN</td>\n",
       "      <td>529.0</td>\n",
       "      <td>1967.0</td>\n",
       "      <td>NEW YORK UNIVERSITY SCHOOL OF MEDICINE</td>\n",
       "    </tr>\n",
       "  </tbody>\n",
       "</table>\n",
       "</div>"
      ],
      "text/plain": [
       "     clean_first_name clean_middle_name clean_last_name  grant_id  \\\n",
       "1951            JAMES            EDWARD           BROWN       NaN   \n",
       "1960            JAMES            EDWARD           BROWN       NaN   \n",
       "1624           MARTIN                 G           ALLEN       NaN   \n",
       "1625           MARTIN                 G           ALLEN       NaN   \n",
       "3213           DANIEL            MARTIN       BERKOWITZ       NaN   \n",
       "3245           DANIEL            MARTIN       BERKOWITZ       NaN   \n",
       "\n",
       "      person_uuid  application_year  \\\n",
       "1951       1431.0            1966.0   \n",
       "1960       1407.0            1967.0   \n",
       "1624       2263.0            1965.0   \n",
       "1625       2262.0            1965.0   \n",
       "3213        564.0            1969.0   \n",
       "3245        529.0            1967.0   \n",
       "\n",
       "                                         medical_school  \n",
       "1951                            YALE SCHOOL OF MEDICINE  \n",
       "1960  UNIVERSITY OF ROCHESTER SCHOOL OF MEDICINE AND...  \n",
       "1624                                                NaN  \n",
       "1625             NEW YORK UNIVERSITY SCHOOL OF MEDICINE  \n",
       "3213                            YALE SCHOOL OF MEDICINE  \n",
       "3245             NEW YORK UNIVERSITY SCHOOL OF MEDICINE  "
      ]
     },
     "execution_count": 82,
     "metadata": {},
     "output_type": "execute_result"
    }
   ],
   "source": [
    "apps3.loc[apps3.duplicated(NAME_COLS, keep=False), NAME_COLS+['grant_id', PERSON_ID, 'application_year', 'medical_school']]"
   ]
  },
  {
   "cell_type": "code",
   "execution_count": 83,
   "metadata": {
    "collapsed": false
   },
   "outputs": [],
   "source": [
    "has_birth_dt = ~pd.isnull(apps3.date_of_birth)\n",
    "apps3.loc[has_birth_dt, 'birth_dt'] =  apps3.loc[has_birth_dt, 'date_of_birth']\n",
    "apps3.loc[has_birth_dt, 'birth_year'] =  apps3.loc[has_birth_dt, 'date_of_birth'].apply(lambda x: pd.to_datetime(x).year)\n",
    "apps4 = apps3.drop('date_of_birth', axis=1).rename(columns={'birth_dt': 'birth_date'})\n"
   ]
  },
  {
   "cell_type": "code",
   "execution_count": 84,
   "metadata": {
    "collapsed": false
   },
   "outputs": [],
   "source": [
    "apps4.to_csv(os.path.join(APP_DATA_DIR, 'NIH_AAMC_index_cards_grant_standardized.csv'))"
   ]
  },
  {
   "cell_type": "code",
   "execution_count": null,
   "metadata": {
    "collapsed": true
   },
   "outputs": [],
   "source": []
  }
 ],
 "metadata": {
  "kernelspec": {
   "display_name": "Python 2",
   "language": "python",
   "name": "python2"
  },
  "language_info": {
   "codemirror_mode": {
    "name": "ipython",
    "version": 2
   },
   "file_extension": ".py",
   "mimetype": "text/x-python",
   "name": "python",
   "nbconvert_exporter": "python",
   "pygments_lexer": "ipython2",
   "version": "2.7.12"
  }
 },
 "nbformat": 4,
 "nbformat_minor": 1
}
