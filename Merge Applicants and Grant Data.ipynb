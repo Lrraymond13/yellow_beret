{
 "cells": [
  {
   "cell_type": "code",
   "execution_count": 1,
   "metadata": {
    "collapsed": false
   },
   "outputs": [],
   "source": [
    "from collections import Counter\n",
    "import funcy\n",
    "from fuzzywuzzy import fuzz\n",
    "import numpy as np \n",
    "import pandas as pd \n",
    "import os\n",
    "\n",
    "from data_cleaning_functions import (trans_remov_punc, standardize_whitespace, remove_punc, remove_suffix_from_last_name,\n",
    "                                     clean_names, has_award, has_suffix, get_suffix, replace_last_name, \n",
    "                                     is_year_range, str_sim, clean_med_school, clean_std_college_name, long_form_date, \n",
    "                                    correct_mispellings)\n",
    "\n",
    "from dev import (\n",
    "    APP_DATA_DIR, GRANT_DATA_DIR, CORRECTIONS_DIR,  NAME_COLS, RAW_NAME_COLS, FEMALE_FIRST_NAMES,\n",
    "    RAW_CARD_ID, RAW_INDEX_IDS, PERSON_APPLICATION_ID, PERSON_ID, NIH_ID, PICKLE_DIR, STD_DIR, ATT_DATA_DIR)\n",
    "\n",
    "from merging_functions import *\n",
    "\n",
    "OUTPUT_CSV = False \n",
    "\n",
    "PERSONAL_INFO = [\n",
    "    'clean_first_name', 'clean_last_name', 'clean_middle_name',\n",
    "    'date_of_birth', 'medical_school', 'clean_college_trans']\n",
    "\n",
    "manual_corrections_filename = 'NIH_grant_merge_manual_corrections.xlsx'\n",
    "\n",
    "# load autoreload extension\n",
    "%load_ext autoreload\n",
    "%autoreload 2"
   ]
  },
  {
   "cell_type": "code",
   "execution_count": 2,
   "metadata": {
    "collapsed": false
   },
   "outputs": [
    {
     "name": "stderr",
     "output_type": "stream",
     "text": [
      "/home/lraymond/MIT/Azoulay_2016/yellow_berets/yb/local/lib/python2.7/site-packages/IPython/core/interactiveshell.py:2717: DtypeWarning: Columns (11,13,43,44,46,63,68,70,113,120,127) have mixed types. Specify dtype option on import or set low_memory=False.\n",
      "  interactivity=interactivity, compiler=compiler, result=result)\n"
     ]
    }
   ],
   "source": [
    "apps = pd.read_csv(os.path.join(APP_DATA_DIR, 'NIH_AAMC_index_cards_standardized.csv'))"
   ]
  },
  {
   "cell_type": "code",
   "execution_count": 2,
   "metadata": {
    "collapsed": false
   },
   "outputs": [],
   "source": [
    "grant_data = pd.read_stata(os.path.join(GRANT_DATA_DIR, 'grant_data.dta'))\n",
    "\n",
    "stars_data = pd.read_stata(os.path.join(GRANT_DATA_DIR, 'stars_data.dta'))\n",
    "\n",
    "grant_data.columns = map(lambda x: x.lower(), grant_data.columns)\n",
    "\n",
    "stars_data.columns = map(lambda x: x.lower(), stars_data.columns)"
   ]
  },
  {
   "cell_type": "code",
   "execution_count": 11,
   "metadata": {
    "collapsed": true
   },
   "outputs": [],
   "source": [
    "stars_data['is_star'] = 1"
   ]
  },
  {
   "cell_type": "code",
   "execution_count": 23,
   "metadata": {
    "collapsed": false
   },
   "outputs": [],
   "source": [
    "unique_grants = grant_data.sort_values('year').drop_duplicates(\n",
    "    ['newsetnb'], keep='first')[\n",
    "        ['first', 'middle', 'last', 'suffix', 'newsetnb', 'mdyear', 'phdyear', 'year', 'hphdyear', 'deg_cgaf']].rename(columns={'year': 'first_grant_year'})"
   ]
  },
  {
   "cell_type": "code",
   "execution_count": 24,
   "metadata": {
    "collapsed": true
   },
   "outputs": [],
   "source": [
    "unique_grants2 = pd.concat([stars_data.drop(['fullname'], axis=1), unique_grants], axis=0)"
   ]
  },
  {
   "cell_type": "code",
   "execution_count": 25,
   "metadata": {
    "collapsed": false
   },
   "outputs": [],
   "source": [
    "unique_grants2['clean_first_name'] = unique_grants2['first'].apply(clean_names)\n",
    "unique_grants2['clean_middle_name'] = unique_grants2['middle'].apply(clean_names)\n",
    "\n",
    "unique_grants2['clean_last_name'] = unique_grants2['last'].apply(clean_names)"
   ]
  },
  {
   "cell_type": "code",
   "execution_count": 26,
   "metadata": {
    "collapsed": false
   },
   "outputs": [],
   "source": [
    "female_mask = (unique_grants2['clean_first_name'].isin(FEMALE_FIRST_NAMES))\n",
    "unique_grants2['is_female'] = 0\n",
    "unique_grants2.loc[female_mask, 'is_female'] = 1"
   ]
  },
  {
   "cell_type": "code",
   "execution_count": 27,
   "metadata": {
    "collapsed": false
   },
   "outputs": [],
   "source": [
    "def get_initial(raw_str):\n",
    "    if pd.isnull(raw_str):\n",
    "        return np.nan\n",
    "    if len(raw_str) == 1:\n",
    "        return raw_str\n",
    "    return raw_str[0]\n",
    "\n",
    "unique_grants2['clean_middle_initial'] = unique_grants2.clean_middle_name.apply(get_initial)\n",
    "unique_grants2['clean_first_initial'] = unique_grants2.clean_first_name.apply(get_initial)"
   ]
  },
  {
   "cell_type": "code",
   "execution_count": 28,
   "metadata": {
    "collapsed": false
   },
   "outputs": [],
   "source": [
    "# drop females and people with masters degrees\n",
    "unique_grants_2a = unique_grants2.loc[unique_grants2.is_female==0, :]\n",
    "unique_grants_2b = unique_grants_2a.loc[unique_grants_2a['deg_cgaf']!='Masters', :]"
   ]
  },
  {
   "cell_type": "code",
   "execution_count": 30,
   "metadata": {
    "collapsed": false
   },
   "outputs": [],
   "source": [
    "unique_grants3 = unique_grants_2b[\n",
    "    unique_grants_2b.is_female==0].sort_values(['newsetnb', 'is_star'], ascending=False).drop_duplicates(['newsetnb'], keep='first')"
   ]
  },
  {
   "cell_type": "code",
   "execution_count": 31,
   "metadata": {
    "collapsed": false
   },
   "outputs": [],
   "source": [
    "apps_counter = Counter(apps.clean_last_name.values)\n",
    "unique_grants3['last_name_counts'] = unique_grants3.clean_last_name.apply(lambda x: apps_counter[x])\n",
    "unique_grants4 = unique_grants3[((\n",
    "        (unique_grants3.last_name_counts>0) & (unique_grants3.mdyear < 1975)) |\n",
    "        (unique_grants3.last_name_counts>0) & (pd.isnull(unique_grants3.mdyear)))]\n",
    "#     ((unique_grants3.last_name_counts>1) & (unique_grants3.mdyear<1975) & (unique_grants3.mdyear>1960))]"
   ]
  },
  {
   "cell_type": "code",
   "execution_count": 32,
   "metadata": {
    "collapsed": false
   },
   "outputs": [],
   "source": [
    "unique_grants4 = unique_grants4.rename(columns={\n",
    "            'mdyear': 'medschool_year_grad', 'phdyear': 'phd_year_grad', \n",
    "            'star_yob':'birth_year', 'star_yod': 'death_year', 'first': 'grant_first_name', \n",
    "            'middle': 'grant_middle_name', 'last': 'grant_last_name', 'hphdyear': 'grant_hphd_year_grad'})"
   ]
  },
  {
   "cell_type": "code",
   "execution_count": 35,
   "metadata": {
    "collapsed": false
   },
   "outputs": [],
   "source": [
    "unique_grants4[\n",
    "    ['grant_medschool_year_grad', 'grant_phd_year_grad', 'grant_birth_year', 'grant_degree_type']] = unique_grants4[\n",
    "        ['medschool_year_grad', 'phd_year_grad', 'birth_year', 'deg_cgaf']]"
   ]
  },
  {
   "cell_type": "code",
   "execution_count": 36,
   "metadata": {
    "collapsed": false
   },
   "outputs": [
    {
     "data": {
      "text/html": [
       "<div>\n",
       "<table border=\"1\" class=\"dataframe\">\n",
       "  <thead>\n",
       "    <tr style=\"text-align: right;\">\n",
       "      <th></th>\n",
       "      <th>deg</th>\n",
       "      <th>deg_cgaf</th>\n",
       "      <th>exit</th>\n",
       "      <th>grant_first_name</th>\n",
       "      <th>first_grant_year</th>\n",
       "      <th>grant_hphd_year_grad</th>\n",
       "      <th>is_star</th>\n",
       "      <th>grant_last_name</th>\n",
       "      <th>main_dept</th>\n",
       "      <th>medschool_year_grad</th>\n",
       "      <th>...</th>\n",
       "      <th>clean_middle_name</th>\n",
       "      <th>clean_last_name</th>\n",
       "      <th>is_female</th>\n",
       "      <th>clean_middle_initial</th>\n",
       "      <th>clean_first_initial</th>\n",
       "      <th>last_name_counts</th>\n",
       "      <th>grant_medschool_year_grad</th>\n",
       "      <th>grant_phd_year_grad</th>\n",
       "      <th>grant_birth_year</th>\n",
       "      <th>grant_degree_type</th>\n",
       "    </tr>\n",
       "  </thead>\n",
       "  <tbody>\n",
       "    <tr>\n",
       "      <th>1867084</th>\n",
       "      <td>NaN</td>\n",
       "      <td>MD/PhD</td>\n",
       "      <td>NaN</td>\n",
       "      <td>Eric</td>\n",
       "      <td>1998.0</td>\n",
       "      <td>NaN</td>\n",
       "      <td>NaN</td>\n",
       "      <td>Rubin</td>\n",
       "      <td>NaN</td>\n",
       "      <td>NaN</td>\n",
       "      <td>...</td>\n",
       "      <td>NaN</td>\n",
       "      <td>RUBIN</td>\n",
       "      <td>0</td>\n",
       "      <td>NaN</td>\n",
       "      <td>E</td>\n",
       "      <td>5</td>\n",
       "      <td>NaN</td>\n",
       "      <td>NaN</td>\n",
       "      <td>NaN</td>\n",
       "      <td>MD/PhD</td>\n",
       "    </tr>\n",
       "    <tr>\n",
       "      <th>1867083</th>\n",
       "      <td>NaN</td>\n",
       "      <td>PhD</td>\n",
       "      <td>NaN</td>\n",
       "      <td>William</td>\n",
       "      <td>2000.0</td>\n",
       "      <td>NaN</td>\n",
       "      <td>NaN</td>\n",
       "      <td>Randall</td>\n",
       "      <td>NaN</td>\n",
       "      <td>NaN</td>\n",
       "      <td>...</td>\n",
       "      <td>C</td>\n",
       "      <td>RANDALL</td>\n",
       "      <td>0</td>\n",
       "      <td>C</td>\n",
       "      <td>W</td>\n",
       "      <td>1</td>\n",
       "      <td>NaN</td>\n",
       "      <td>1983.0</td>\n",
       "      <td>NaN</td>\n",
       "      <td>PhD</td>\n",
       "    </tr>\n",
       "    <tr>\n",
       "      <th>1867070</th>\n",
       "      <td>NaN</td>\n",
       "      <td>PhD</td>\n",
       "      <td>NaN</td>\n",
       "      <td>Michael</td>\n",
       "      <td>1987.0</td>\n",
       "      <td>NaN</td>\n",
       "      <td>NaN</td>\n",
       "      <td>Smith</td>\n",
       "      <td>NaN</td>\n",
       "      <td>NaN</td>\n",
       "      <td>...</td>\n",
       "      <td>E</td>\n",
       "      <td>SMITH</td>\n",
       "      <td>0</td>\n",
       "      <td>E</td>\n",
       "      <td>M</td>\n",
       "      <td>23</td>\n",
       "      <td>NaN</td>\n",
       "      <td>1987.0</td>\n",
       "      <td>NaN</td>\n",
       "      <td>PhD</td>\n",
       "    </tr>\n",
       "    <tr>\n",
       "      <th>1867068</th>\n",
       "      <td>NaN</td>\n",
       "      <td>PhD</td>\n",
       "      <td>NaN</td>\n",
       "      <td>Suzanne</td>\n",
       "      <td>2000.0</td>\n",
       "      <td>NaN</td>\n",
       "      <td>NaN</td>\n",
       "      <td>Bradshaw</td>\n",
       "      <td>NaN</td>\n",
       "      <td>NaN</td>\n",
       "      <td>...</td>\n",
       "      <td>F</td>\n",
       "      <td>BRADSHAW</td>\n",
       "      <td>0</td>\n",
       "      <td>F</td>\n",
       "      <td>S</td>\n",
       "      <td>2</td>\n",
       "      <td>NaN</td>\n",
       "      <td>1991.0</td>\n",
       "      <td>NaN</td>\n",
       "      <td>PhD</td>\n",
       "    </tr>\n",
       "    <tr>\n",
       "      <th>1867050</th>\n",
       "      <td>NaN</td>\n",
       "      <td>PhD/OhD</td>\n",
       "      <td>NaN</td>\n",
       "      <td>Fred</td>\n",
       "      <td>1981.0</td>\n",
       "      <td>NaN</td>\n",
       "      <td>NaN</td>\n",
       "      <td>Bryan</td>\n",
       "      <td>NaN</td>\n",
       "      <td>NaN</td>\n",
       "      <td>...</td>\n",
       "      <td>A</td>\n",
       "      <td>BRYAN</td>\n",
       "      <td>0</td>\n",
       "      <td>A</td>\n",
       "      <td>F</td>\n",
       "      <td>1</td>\n",
       "      <td>NaN</td>\n",
       "      <td>NaN</td>\n",
       "      <td>NaN</td>\n",
       "      <td>PhD/OhD</td>\n",
       "    </tr>\n",
       "  </tbody>\n",
       "</table>\n",
       "<p>5 rows × 27 columns</p>\n",
       "</div>"
      ],
      "text/plain": [
       "         deg deg_cgaf  exit grant_first_name  first_grant_year  \\\n",
       "1867084  NaN   MD/PhD   NaN             Eric            1998.0   \n",
       "1867083  NaN      PhD   NaN          William            2000.0   \n",
       "1867070  NaN      PhD   NaN          Michael            1987.0   \n",
       "1867068  NaN      PhD   NaN          Suzanne            2000.0   \n",
       "1867050  NaN  PhD/OhD   NaN             Fred            1981.0   \n",
       "\n",
       "         grant_hphd_year_grad  is_star grant_last_name main_dept  \\\n",
       "1867084                   NaN      NaN           Rubin       NaN   \n",
       "1867083                   NaN      NaN         Randall       NaN   \n",
       "1867070                   NaN      NaN           Smith       NaN   \n",
       "1867068                   NaN      NaN        Bradshaw       NaN   \n",
       "1867050                   NaN      NaN           Bryan       NaN   \n",
       "\n",
       "         medschool_year_grad        ...         clean_middle_name  \\\n",
       "1867084                  NaN        ...                       NaN   \n",
       "1867083                  NaN        ...                         C   \n",
       "1867070                  NaN        ...                         E   \n",
       "1867068                  NaN        ...                         F   \n",
       "1867050                  NaN        ...                         A   \n",
       "\n",
       "        clean_last_name  is_female  clean_middle_initial  clean_first_initial  \\\n",
       "1867084           RUBIN          0                   NaN                    E   \n",
       "1867083         RANDALL          0                     C                    W   \n",
       "1867070           SMITH          0                     E                    M   \n",
       "1867068        BRADSHAW          0                     F                    S   \n",
       "1867050           BRYAN          0                     A                    F   \n",
       "\n",
       "        last_name_counts grant_medschool_year_grad grant_phd_year_grad  \\\n",
       "1867084                5                       NaN                 NaN   \n",
       "1867083                1                       NaN              1983.0   \n",
       "1867070               23                       NaN              1987.0   \n",
       "1867068                2                       NaN              1991.0   \n",
       "1867050                1                       NaN                 NaN   \n",
       "\n",
       "        grant_birth_year  grant_degree_type  \n",
       "1867084              NaN             MD/PhD  \n",
       "1867083              NaN                PhD  \n",
       "1867070              NaN                PhD  \n",
       "1867068              NaN                PhD  \n",
       "1867050              NaN            PhD/OhD  \n",
       "\n",
       "[5 rows x 27 columns]"
      ]
     },
     "execution_count": 36,
     "metadata": {},
     "output_type": "execute_result"
    }
   ],
   "source": [
    "unique_grants4.head()"
   ]
  },
  {
   "cell_type": "code",
   "execution_count": 37,
   "metadata": {
    "collapsed": false
   },
   "outputs": [
    {
     "data": {
      "text/plain": [
       "(174957, 23)"
      ]
     },
     "execution_count": 37,
     "metadata": {},
     "output_type": "execute_result"
    }
   ],
   "source": [
    "unique_grants3.shape"
   ]
  },
  {
   "cell_type": "code",
   "execution_count": 38,
   "metadata": {
    "collapsed": false
   },
   "outputs": [],
   "source": [
    "del unique_grants2, unique_grants, unique_grants3, grant_data, stars_data"
   ]
  },
  {
   "cell_type": "code",
   "execution_count": 39,
   "metadata": {
    "collapsed": false
   },
   "outputs": [
    {
     "data": {
      "text/plain": [
       "(4277, 161)"
      ]
     },
     "execution_count": 39,
     "metadata": {},
     "output_type": "execute_result"
    }
   ],
   "source": [
    "exact = pd.merge(\n",
    "    left=apps, right=unique_grants4, on=['clean_first_name', 'clean_last_name'], how='inner', suffixes=['_x', '_y'])\n",
    "exact.shape"
   ]
  },
  {
   "cell_type": "code",
   "execution_count": 40,
   "metadata": {
    "collapsed": false
   },
   "outputs": [
    {
     "name": "stdout",
     "output_type": "stream",
     "text": [
      "(4106, 136)\n"
     ]
    }
   ],
   "source": [
    "print apps.shape"
   ]
  },
  {
   "cell_type": "code",
   "execution_count": 41,
   "metadata": {
    "collapsed": false
   },
   "outputs": [
    {
     "name": "stdout",
     "output_type": "stream",
     "text": [
      "1131.0\n",
      "12.0\n",
      "589.0\n",
      "47\n"
     ]
    }
   ],
   "source": [
    "exact['grad_sim'] = exact.apply(lambda x: abs(x['medschool_year_grad_x'] - x['medschool_year_grad_y']), axis=1)\n",
    "missing_phd_mask = pd.isnull(exact['medschool_year_grad_y'])\n",
    "exact.loc[missing_phd_mask, 'grad_sim'] = exact[\n",
    "    missing_phd_mask].apply(lambda x: abs(x['medschool_year_grad_x'] - x['grant_phd_year_grad']), axis=1)\n",
    "exact['hphd_grad_sim'] = exact.apply(lambda x: abs(x['medschool_year_grad_x'] - x['grant_hphd_year_grad']), axis=1)\n",
    "exact['activity_year_sim'] = exact.apply(lambda x: x['first_grant_year'] - x['medschool_year_grad_x'], axis=1)\n",
    "\n",
    "def check_match(row):\n",
    "    grad_diffs = funcy.remove(lambda x: pd.isnull(x), [row['grad_sim'], row['hphd_grad_sim']])\n",
    "    grad_sim = 0\n",
    "    if len(grad_diffs) > 0:\n",
    "        grad_sim = np.min(grad_diffs)\n",
    "    if grad_sim > 5:\n",
    "        return 0\n",
    "    # first grant shouldn't be given prior to med school graduation\n",
    "    if row['activity_year_sim'] < 0:\n",
    "        return 0\n",
    "    if ~pd.isnull(row['grant_phd_year_grad']) and row['grant_phd_year_grad'] != row['medschool_year_grad_x']:\n",
    "        return 0\n",
    "    if not pd.isnull(row['clean_middle_initial_sim']) and row['clean_middle_initial_sim'] < 80:\n",
    "        return 0\n",
    "    if row['last_name_counts'] == 1:\n",
    "        return 1\n",
    "    return 1\n",
    "\n",
    "feature_dict = {\n",
    "    'clean_middle_name': get_name_str_sim,\n",
    "    'clean_middle_initial': get_name_str_sim,\n",
    "} \n",
    "\n",
    "exact2 = add_similarity_features(exact, feature_dict, check_match, suffixes=['_x', '_y'])\n",
    "\n",
    "print unique_grants4.is_star.sum()\n",
    "print exact2[exact2['is_match']==1].is_star.sum()\n",
    "print exact2.is_star.sum()\n",
    "print exact2['is_match'].sum()"
   ]
  },
  {
   "cell_type": "code",
   "execution_count": 42,
   "metadata": {
    "collapsed": false
   },
   "outputs": [],
   "source": [
    "# exact2.loc[exact2['is_match']==1,NAME_COLS+['grant_first_name', 'grant_middle_name', 'grant_last_name', 'medschool_year_grad_x', 'medschool_year_grad_y', 'birth_year_x', 'birth_year_y']]"
   ]
  },
  {
   "cell_type": "code",
   "execution_count": 43,
   "metadata": {
    "collapsed": true
   },
   "outputs": [],
   "source": [
    "# change raw sim columns to 100- so can be sorted with small values first\n",
    "\n",
    "exact2.loc[:, 'clean_middle_name_sim'] = 100 - exact2['clean_middle_name_sim']\n",
    "exact2.loc[:, 'clean_middle_initial_sim'] = 100 - exact2['clean_middle_initial_sim']"
   ]
  },
  {
   "cell_type": "code",
   "execution_count": 44,
   "metadata": {
    "collapsed": false
   },
   "outputs": [
    {
     "name": "stderr",
     "output_type": "stream",
     "text": [
      "merging_functions.py:125: SettingWithCopyWarning: \n",
      "A value is trying to be set on a copy of a slice from a DataFrame.\n",
      "Try using .loc[row_indexer,col_indexer] = value instead\n",
      "\n",
      "See the caveats in the documentation: http://pandas.pydata.org/pandas-docs/stable/indexing.html#indexing-view-versus-copy\n",
      "  df[dup_flag] = 0\n",
      "/home/lraymond/MIT/Azoulay_2016/yellow_berets/yb/local/lib/python2.7/site-packages/pandas/core/indexing.py:465: SettingWithCopyWarning: \n",
      "A value is trying to be set on a copy of a slice from a DataFrame.\n",
      "Try using .loc[row_indexer,col_indexer] = value instead\n",
      "\n",
      "See the caveats in the documentation: http://pandas.pydata.org/pandas-docs/stable/indexing.html#indexing-view-versus-copy\n",
      "  self.obj[item] = s\n"
     ]
    }
   ],
   "source": [
    "# do sort in ascending, because grad year sim and activity sim should be as small as possible\n",
    "sim_cols =  ['grad_sim', 'activity_year_sim', 'clean_middle_name_sim', 'clean_middle_initial_sim']\n",
    "exact3 = filter_one_match_per_group_simple(exact2[exact2['is_match']==1], PERSON_ID, sim_cols, True)\n",
    "exact4 = filter_one_match_per_group_simple(exact3, 'newsetnb', sim_cols, True)\n"
   ]
  },
  {
   "cell_type": "code",
   "execution_count": 45,
   "metadata": {
    "collapsed": false
   },
   "outputs": [
    {
     "name": "stdout",
     "output_type": "stream",
     "text": [
      "['clean_middle_name', 'medschool_year_grad', 'birth_year', 'is_female', 'clean_first_initial', 'clean_middle_initial']\n"
     ]
    }
   ],
   "source": [
    "exact5 = consolidate_merge_cols(exact4, ['_x', '_y'], [])"
   ]
  },
  {
   "cell_type": "code",
   "execution_count": 46,
   "metadata": {
    "collapsed": false
   },
   "outputs": [
    {
     "name": "stdout",
     "output_type": "stream",
     "text": [
      "(4059, 136)\n",
      "(46535, 27)\n"
     ]
    }
   ],
   "source": [
    "nm_apps = get_nonmatched(apps, exact4[PERSON_ID].values, PERSON_ID)\n",
    "nm_grant = get_nonmatched(unique_grants4, exact4['newsetnb'].values, 'newsetnb')"
   ]
  },
  {
   "cell_type": "code",
   "execution_count": 47,
   "metadata": {
    "collapsed": false
   },
   "outputs": [
    {
     "name": "stderr",
     "output_type": "stream",
     "text": [
      "/home/lraymond/MIT/Azoulay_2016/yellow_berets/yb/local/lib/python2.7/site-packages/pandas/core/indexing.py:288: SettingWithCopyWarning: \n",
      "A value is trying to be set on a copy of a slice from a DataFrame.\n",
      "Try using .loc[row_indexer,col_indexer] = value instead\n",
      "\n",
      "See the caveats in the documentation: http://pandas.pydata.org/pandas-docs/stable/indexing.html#indexing-view-versus-copy\n",
      "  self.obj[key] = _infer_fill_value(value)\n"
     ]
    }
   ],
   "source": [
    "nm_apps_c = Counter(nm_apps.clean_last_name.values)\n",
    "nm_grants_c = Counter(nm_grant.clean_last_name.values)\n",
    "nm_apps.loc[:, 'last_name_counts'] = nm_apps.clean_last_name.apply(lambda x: nm_apps_c[x])\n",
    "\n",
    "nm_grant.loc[:, 'last_name_counts'] = nm_grant.clean_last_name.apply(lambda x: nm_grants_c[x])"
   ]
  },
  {
   "cell_type": "code",
   "execution_count": 48,
   "metadata": {
    "collapsed": false
   },
   "outputs": [
    {
     "data": {
      "text/plain": [
       "(198341, 163)"
      ]
     },
     "execution_count": 48,
     "metadata": {},
     "output_type": "execute_result"
    }
   ],
   "source": [
    "last_merge = pd.merge(left=nm_apps, right=nm_grant, how='inner', on=['clean_last_name'], suffixes=['_x', '_y'])\n",
    "last_merge.shape"
   ]
  },
  {
   "cell_type": "code",
   "execution_count": 49,
   "metadata": {
    "collapsed": true
   },
   "outputs": [],
   "source": [
    "del exact, exact2, exact3, exact4"
   ]
  },
  {
   "cell_type": "code",
   "execution_count": 50,
   "metadata": {
    "collapsed": false
   },
   "outputs": [
    {
     "name": "stdout",
     "output_type": "stream",
     "text": [
      "553.0\n",
      "3712.0\n",
      "2034\n"
     ]
    }
   ],
   "source": [
    "last_merge['grad_sim'] = last_merge.apply(lambda x: abs(x['medschool_year_grad_x'] - x['medschool_year_grad_y']), axis=1)\n",
    "# missing_phd_mask = pd.isnull(last_merge['medschool_year_grad_y'])\n",
    "# last_merge.loc[missing_phd_mask, 'grad_sim'] = last_merge[\n",
    "#     missing_phd_mask].apply(lambda x: abs(x['medschool_year_grad_x'] - x['grant_phd_year_grad']), axis=1)\n",
    "last_merge['hphd_grad_sim'] = last_merge.apply(\n",
    "    lambda x: abs(x['medschool_year_grad_x'] - x['grant_hphd_year_grad']), axis=1)\n",
    "last_merge['activity_year_sim'] = last_merge.apply(\n",
    "    lambda x: x['first_grant_year'] - x['medschool_year_grad_x'], axis=1)\n",
    "\n",
    "\n",
    "def check_match(row):\n",
    "    grad_diffs = funcy.remove(lambda x: pd.isnull(x), [row['grad_sim'], row['hphd_grad_sim']])\n",
    "    grad_sim = 0\n",
    "    if len(grad_diffs) > 0:\n",
    "        grad_sim = np.min(grad_diffs)\n",
    "    if grad_sim > 5:\n",
    "        return 0\n",
    "    # first grant shouldn't be given prior to med school graduation\n",
    "    if row['activity_year_sim'] < 0:\n",
    "        return 0\n",
    "    if row['clean_first_initial_sim'] < 95:\n",
    "        return 0\n",
    "    if row['clean_middle_initial_sim'] < 95:\n",
    "        return 0\n",
    "    if row['clean_first_name_sim'] < 80:\n",
    "        return 0\n",
    "    if row['clean_middle_name_sim'] < 80:\n",
    "        return 0\n",
    "    if ~pd.isnull(row['grant_phd_year_grad']) and row['grant_phd_year_grad'] > 1975: \n",
    "        return 0\n",
    "    if ~pd.isnull(row['birth_year_y']) and row['birth_year_y'] > 1955:\n",
    "        return 0\n",
    "    return 1\n",
    "\n",
    "feature_dict = {\n",
    "    'clean_middle_name': get_name_str_sim,\n",
    "    'clean_middle_initial': get_name_str_sim,\n",
    "    'clean_first_name': get_name_str_sim,\n",
    "    'clean_first_initial': get_name_str_sim,\n",
    "} \n",
    "\n",
    "last_merge2 = add_similarity_features(last_merge, feature_dict, check_match, suffixes=['_x', '_y'])\n",
    "# print unique_grants4.is_star.sum()\n",
    "print last_merge2[last_merge2['is_match']==1].is_star.sum()\n",
    "print last_merge2.is_star.sum()\n",
    "print last_merge2['is_match'].sum()"
   ]
  },
  {
   "cell_type": "code",
   "execution_count": 51,
   "metadata": {
    "collapsed": false
   },
   "outputs": [],
   "source": [
    "# last_merge2.loc[(\n",
    "#         ~pd.isnull(last_merge2['grant_phd_year_grad']) & (last_merge2['is_match']==1)), NAME_COLS+['clean_first_name_x', 'clean_first_name_y', 'grant_first_name', 'grant_middle_name', 'grant_last_name', 'medschool_year_grad_x', 'medschool_year_grad_y', 'birth_year_x', 'birth_year_y', 'grant_phd_year_grad']]"
   ]
  },
  {
   "cell_type": "code",
   "execution_count": 52,
   "metadata": {
    "collapsed": false
   },
   "outputs": [],
   "source": [
    "#filter to one match per id\n",
    "last_merge2.loc[:, 'clean_first_name_sim'] = 100 - last_merge2['clean_first_name_sim']\n",
    "last_merge2.loc[:, 'clean_middle_name_sim'] = 100 - last_merge2['clean_middle_name_sim']\n",
    "last_merge2.loc[:, 'clean_middle_initial_sim'] = 100 - last_merge2['clean_middle_initial_sim']\n",
    "last_merge2.loc[:, 'clean_first_initial_sim'] = 100 - last_merge2['clean_first_initial_sim']"
   ]
  },
  {
   "cell_type": "code",
   "execution_count": 53,
   "metadata": {
    "collapsed": true
   },
   "outputs": [],
   "source": [
    "sim_cols =  ['grad_sim', 'activity_year_sim', 'clean_first_name_sim', 'clean_first_initial_sim', 'clean_middle_name_sim', 'clean_middle_initial_sim']\n",
    "last_merge3 = filter_one_match_per_group_simple(last_merge2[last_merge2['is_match']==1], PERSON_ID, sim_cols, True)\n",
    "last_merge4 = filter_one_match_per_group_simple(last_merge3, 'newsetnb', sim_cols, True)"
   ]
  },
  {
   "cell_type": "code",
   "execution_count": 54,
   "metadata": {
    "collapsed": false
   },
   "outputs": [
    {
     "data": {
      "text/plain": [
       "(1737, 173)"
      ]
     },
     "execution_count": 54,
     "metadata": {},
     "output_type": "execute_result"
    }
   ],
   "source": [
    "last_merge4.shape"
   ]
  },
  {
   "cell_type": "code",
   "execution_count": 55,
   "metadata": {
    "collapsed": false
   },
   "outputs": [
    {
     "name": "stdout",
     "output_type": "stream",
     "text": [
      "['clean_first_name', 'clean_middle_name', 'medschool_year_grad', 'birth_year', 'is_female', 'clean_first_initial', 'clean_middle_initial', 'last_name_counts']\n"
     ]
    }
   ],
   "source": [
    "last_merge5 = consolidate_merge_cols(last_merge4, ['_x', '_y'], [])"
   ]
  },
  {
   "cell_type": "code",
   "execution_count": 56,
   "metadata": {
    "collapsed": true
   },
   "outputs": [],
   "source": [
    "all_matches = pd.concat([last_merge5, exact5], axis=0)"
   ]
  },
  {
   "cell_type": "code",
   "execution_count": 57,
   "metadata": {
    "collapsed": false
   },
   "outputs": [
    {
     "name": "stdout",
     "output_type": "stream",
     "text": [
      "(2322, 136)\n"
     ]
    }
   ],
   "source": [
    "nm_apps = get_nonmatched(apps, all_matches[PERSON_ID], PERSON_ID)"
   ]
  },
  {
   "cell_type": "code",
   "execution_count": 58,
   "metadata": {
    "collapsed": false
   },
   "outputs": [],
   "source": [
    "apps2 = pd.concat([all_matches, nm_apps], axis=0)"
   ]
  },
  {
   "cell_type": "code",
   "execution_count": 80,
   "metadata": {
    "collapsed": true
   },
   "outputs": [],
   "source": [
    "# merge in manual corrections\n",
    "manual_corrections_df = pd.read_excel(os.path.join(CORRECTIONS_DIR, manual_corrections_filename))"
   ]
  },
  {
   "cell_type": "code",
   "execution_count": 81,
   "metadata": {
    "collapsed": true
   },
   "outputs": [],
   "source": [
    "apps2[PERSON_ID] = apps2[PERSON_ID].apply(lambda x: int(x))"
   ]
  },
  {
   "cell_type": "code",
   "execution_count": 87,
   "metadata": {
    "collapsed": false
   },
   "outputs": [
    {
     "name": "stdout",
     "output_type": "stream",
     "text": [
      "(88,)\n",
      "(4106,)\n"
     ]
    }
   ],
   "source": [
    "manual_merges = pd.merge(\n",
    "    left=apps2, right=manual_corrections_df[[\n",
    "        PERSON_ID, 'correct_match_flag', 'flag_manual_review', 'correct_newsetnb', 'old_newsetnb']], \n",
    "                on=[PERSON_ID], how='left')\n",
    "print manual_corrections_df['person_uuid'].unique().shape\n",
    "print manual_merges['person_uuid'].unique().shape"
   ]
  },
  {
   "cell_type": "code",
   "execution_count": 91,
   "metadata": {
    "collapsed": false
   },
   "outputs": [],
   "source": [
    "manual_review_mask = manual_merges.flag_manual_review==1\n",
    "manual_merges.loc[manual_review_mask, 'newsetnb'] = manual_merges.loc[manual_review_mask, 'correct_newsetnb']"
   ]
  },
  {
   "cell_type": "code",
   "execution_count": 95,
   "metadata": {
    "collapsed": false
   },
   "outputs": [
    {
     "name": "stdout",
     "output_type": "stream",
     "text": [
      "['activity_year_sim', 'clean_first_initial_sim', 'clean_first_name_sim', 'clean_middle_initial_sim', 'clean_middle_name_sim', 'grad_sim', 'hphd_grad_sim', 'last_name_counts', 'newsetnb_duplicate', 'person_uuid_duplicate']\n"
     ]
    }
   ],
   "source": [
    "to_drop_cols = [c for c in apps2.columns if c.endswith('_missing') or c.endswith('_duplicate') or '_counts' in c\n",
    "               or c.endswith('_sim')]\n",
    "print to_drop_cols"
   ]
  },
  {
   "cell_type": "code",
   "execution_count": 97,
   "metadata": {
    "collapsed": false
   },
   "outputs": [],
   "source": [
    "apps3 = manual_merges.drop(to_drop_cols+['correct_newsetnb', 'old_newsetnb'], axis=1)"
   ]
  },
  {
   "cell_type": "code",
   "execution_count": 98,
   "metadata": {
    "collapsed": false,
    "scrolled": true
   },
   "outputs": [
    {
     "data": {
      "text/html": [
       "<div>\n",
       "<table border=\"1\" class=\"dataframe\">\n",
       "  <thead>\n",
       "    <tr style=\"text-align: right;\">\n",
       "      <th></th>\n",
       "      <th>clean_first_name</th>\n",
       "      <th>clean_middle_name</th>\n",
       "      <th>clean_last_name</th>\n",
       "      <th>grant_id</th>\n",
       "      <th>person_uuid</th>\n",
       "      <th>application_year</th>\n",
       "      <th>medical_school</th>\n",
       "    </tr>\n",
       "  </thead>\n",
       "  <tbody>\n",
       "    <tr>\n",
       "      <th>105</th>\n",
       "      <td>ARNOLD</td>\n",
       "      <td>L</td>\n",
       "      <td>SMITH</td>\n",
       "      <td>NaN</td>\n",
       "      <td>4749</td>\n",
       "      <td>1964.0</td>\n",
       "      <td>UNIVERSITY OF PENNSYLVANIA SCHOOL OF MEDICINE</td>\n",
       "    </tr>\n",
       "    <tr>\n",
       "      <th>3996</th>\n",
       "      <td>ARNOLD</td>\n",
       "      <td>L</td>\n",
       "      <td>SMITH</td>\n",
       "      <td>NaN</td>\n",
       "      <td>192</td>\n",
       "      <td>1963.0</td>\n",
       "      <td>COLUMBIA UNIVERSITY COLLEGE OF PHYSICIANS AND ...</td>\n",
       "    </tr>\n",
       "  </tbody>\n",
       "</table>\n",
       "</div>"
      ],
      "text/plain": [
       "     clean_first_name clean_middle_name clean_last_name  grant_id  \\\n",
       "105            ARNOLD                 L           SMITH       NaN   \n",
       "3996           ARNOLD                 L           SMITH       NaN   \n",
       "\n",
       "      person_uuid  application_year  \\\n",
       "105          4749            1964.0   \n",
       "3996          192            1963.0   \n",
       "\n",
       "                                         medical_school  \n",
       "105       UNIVERSITY OF PENNSYLVANIA SCHOOL OF MEDICINE  \n",
       "3996  COLUMBIA UNIVERSITY COLLEGE OF PHYSICIANS AND ...  "
      ]
     },
     "execution_count": 98,
     "metadata": {},
     "output_type": "execute_result"
    }
   ],
   "source": [
    "apps3.loc[apps3.duplicated(NAME_COLS, keep=False), NAME_COLS+['grant_id', PERSON_ID, 'application_year', 'medical_school']]"
   ]
  },
  {
   "cell_type": "code",
   "execution_count": 99,
   "metadata": {
    "collapsed": false
   },
   "outputs": [],
   "source": [
    "has_birth_dt = ~pd.isnull(apps3.date_of_birth)\n",
    "apps3.loc[has_birth_dt, 'birth_dt'] =  apps3.loc[has_birth_dt, 'date_of_birth']\n",
    "apps3.loc[has_birth_dt, 'birth_year'] =  apps3.loc[has_birth_dt, 'date_of_birth'].apply(lambda x: pd.to_datetime(x).year)\n",
    "apps4 = apps3.drop('date_of_birth', axis=1).rename(columns={'birth_dt': 'birth_date'})\n"
   ]
  },
  {
   "cell_type": "code",
   "execution_count": 100,
   "metadata": {
    "collapsed": true
   },
   "outputs": [],
   "source": [
    "def improper_formatting(raw_last_name):\n",
    "    # a boolean fnc to identify which rows may have a suffix\n",
    "    if pd.isnull(raw_last_name):\n",
    "        return False\n",
    "    last_lst = raw_last_name.split(' ')\n",
    "    if len(last_lst) == 1:\n",
    "        # if no white spaces in last name, only 1 word, so no suffix\n",
    "        return False\n",
    "    return True\n"
   ]
  },
  {
   "cell_type": "code",
   "execution_count": 101,
   "metadata": {
    "collapsed": false
   },
   "outputs": [],
   "source": [
    "# check for improperly formatted last names\n",
    "\n",
    "bad_lastnames = ['E ROSS HARVARD','MCCLURE MCCHURE', 'S COHEN NYU']\n",
    "to_fix_lastnames = ['ROSS', 'MCCLURE', 'COHEN']\n",
    "# apps4.loc[apps4.clean_last_name.isin(bad_lastnames), 'clean_last_name'] = to_fix_lastnames\n",
    "apps4.loc[apps4.clean_last_name=='MCCLURE MCCHURE', 'clean_last_name'] = 'MCCLURE'\n"
   ]
  },
  {
   "cell_type": "code",
   "execution_count": 102,
   "metadata": {
    "collapsed": false
   },
   "outputs": [],
   "source": [
    "# check for improper first names\n",
    "# apps4.loc[apps4.clean_first_name.apply(improper_formatting), NAME_COLS]\n",
    "bad_firstnames = ['ANNE FRANCES',  \n",
    "                  'PHILIP R', 'J HAROLD', 'HENRY N', 'H BENFER', 'G JAMES', 'G DAVID', 'A LELAND', 'W STEVES']\n",
    "to_fix_firstnames = ['FRANCES',  'PHILIP', 'J', 'HENRY', 'H', 'G', 'G', 'A', 'W']\n",
    "apps4.loc[apps4.clean_first_name.isin(bad_firstnames), 'clean_first_name'] = ['W',  'HENRY', 'G']\n",
    "# apps4.loc[apps4.clean_first_name.isin(bad_firstnames), 'clean_first_name'] "
   ]
  },
  {
   "cell_type": "code",
   "execution_count": 103,
   "metadata": {
    "collapsed": false
   },
   "outputs": [],
   "source": [
    "# check for improper middle names\n",
    "bad_middlenames = ['ANNE FRANCES',  'PHILIP R', 'J HAROLD', 'HENRY N', 'H BENFER', 'G JAMES', 'G DAVID', 'A LELAND', 'W STEVES']\n",
    "to_fix_middlenames = ['FRANCES',  'PHILIP', 'J', 'HENRY', 'H', 'G', 'G', 'A', 'W']\n",
    "\n",
    "has_suff = apps4.clean_middle_name.apply(has_suffix)\n",
    "apps4.loc[has_suff, 'clean_suffix'] = apps4.loc[has_suff, 'clean_middle_name'].apply(get_suffix)\n",
    "apps4.loc[has_suff, 'clean_middle_name'] = apps4.loc[has_suff, 'clean_middle_name'].apply(remove_suffix_from_last_name)"
   ]
  },
  {
   "cell_type": "code",
   "execution_count": 104,
   "metadata": {
    "collapsed": false
   },
   "outputs": [],
   "source": [
    "has_suff = apps4.clean_last_name.apply(has_suffix)\n",
    "apps4.loc[has_suff, 'clean_suffix'] = apps4.loc[has_suff, 'clean_last_name'].apply(get_suffix)\n",
    "apps4.loc[has_suff, 'clean_last_name'] = apps4.loc[has_suff, 'clean_last_name'].apply(remove_suffix_from_last_name)"
   ]
  },
  {
   "cell_type": "code",
   "execution_count": 105,
   "metadata": {
    "collapsed": true
   },
   "outputs": [],
   "source": [
    "def remove_dr_from_first_name(raw_str):\n",
    "    if pd.isnull(raw_str):\n",
    "        return np.nan\n",
    "    raw_str2 = raw_str.split(' DR')\n",
    "    return raw_str2[0]"
   ]
  },
  {
   "cell_type": "code",
   "execution_count": 106,
   "metadata": {
    "collapsed": false
   },
   "outputs": [],
   "source": [
    "apps4.loc[(pd.isnull(apps4.clean_suffix) & (~pd.isnull(apps4.suffix))), 'clean_suffix'] =  apps4.loc[\n",
    "    (pd.isnull(apps4.clean_suffix) & (~pd.isnull(apps4.suffix))), 'suffix']\n"
   ]
  },
  {
   "cell_type": "code",
   "execution_count": 107,
   "metadata": {
    "collapsed": true
   },
   "outputs": [],
   "source": [
    "apps4.loc[:, 'clean_suffix'] = apps4.clean_suffix.apply(clean_names)"
   ]
  },
  {
   "cell_type": "code",
   "execution_count": 108,
   "metadata": {
    "collapsed": false
   },
   "outputs": [],
   "source": [
    "apps4.loc[pd.isnull(apps4.clean_suffix), 'clean_suffix'] = np.nan"
   ]
  },
  {
   "cell_type": "code",
   "execution_count": 109,
   "metadata": {
    "collapsed": false
   },
   "outputs": [],
   "source": [
    "mask = apps4.clean_middle_name.apply(improper_formatting)\n",
    "apps4.loc[mask, 'clean_middle_name'] = apps4.loc[mask, 'clean_middle_name'].apply(remove_dr_from_first_name)"
   ]
  },
  {
   "cell_type": "code",
   "execution_count": 110,
   "metadata": {
    "collapsed": true
   },
   "outputs": [],
   "source": [
    "def same_name(row):\n",
    "    # check if first and last name are the same\n",
    "    if row[0] == row[1]:\n",
    "        print row\n",
    "        return True\n",
    "    return False\n",
    "\n",
    "def is_weird_name(raw_str):\n",
    "    rs = raw_str.split(' ')\n",
    "    if len(rs) == 1:\n",
    "        return False\n",
    "    return True"
   ]
  },
  {
   "cell_type": "code",
   "execution_count": 111,
   "metadata": {
    "collapsed": false
   },
   "outputs": [],
   "source": [
    "apps4.loc[\n",
    "    apps4[['clean_first_name', 'clean_last_name']].apply(same_name, axis=1), 'clean_first_name'] = 'JOHN'\n",
    "#     NAME_COLS+['medical_school', 'first_name', 'middle_name', 'last_name']]"
   ]
  },
  {
   "cell_type": "code",
   "execution_count": 112,
   "metadata": {
    "collapsed": false
   },
   "outputs": [
    {
     "data": {
      "text/html": [
       "<div>\n",
       "<table border=\"1\" class=\"dataframe\">\n",
       "  <thead>\n",
       "    <tr style=\"text-align: right;\">\n",
       "      <th></th>\n",
       "      <th>clean_first_name</th>\n",
       "      <th>clean_middle_name</th>\n",
       "      <th>clean_last_name</th>\n",
       "      <th>grant_first_name</th>\n",
       "      <th>grant_middle_name</th>\n",
       "      <th>NIH_first_name</th>\n",
       "      <th>NIH_middle_name</th>\n",
       "      <th>first_name</th>\n",
       "      <th>middle_name</th>\n",
       "    </tr>\n",
       "  </thead>\n",
       "  <tbody>\n",
       "    <tr>\n",
       "      <th>446</th>\n",
       "      <td>ARTHUR</td>\n",
       "      <td>ARTHUR</td>\n",
       "      <td>GOTTLIEB</td>\n",
       "      <td>A.</td>\n",
       "      <td>Arthur</td>\n",
       "      <td>ARTHUR</td>\n",
       "      <td>NaN</td>\n",
       "      <td>Arthur</td>\n",
       "      <td>NaN</td>\n",
       "    </tr>\n",
       "    <tr>\n",
       "      <th>4044</th>\n",
       "      <td>ALLAN</td>\n",
       "      <td>ALLAN</td>\n",
       "      <td>HOBSON</td>\n",
       "      <td>NaN</td>\n",
       "      <td>NaN</td>\n",
       "      <td>NaN</td>\n",
       "      <td>NaN</td>\n",
       "      <td>Allan</td>\n",
       "      <td>Allan</td>\n",
       "    </tr>\n",
       "  </tbody>\n",
       "</table>\n",
       "</div>"
      ],
      "text/plain": [
       "     clean_first_name clean_middle_name clean_last_name grant_first_name  \\\n",
       "446            ARTHUR            ARTHUR        GOTTLIEB               A.   \n",
       "4044            ALLAN             ALLAN          HOBSON              NaN   \n",
       "\n",
       "     grant_middle_name NIH_first_name NIH_middle_name first_name middle_name  \n",
       "446             Arthur         ARTHUR             NaN     Arthur         NaN  \n",
       "4044               NaN            NaN             NaN      Allan       Allan  "
      ]
     },
     "execution_count": 112,
     "metadata": {},
     "output_type": "execute_result"
    }
   ],
   "source": [
    "apps4.loc[apps4.clean_first_name==apps4.clean_middle_name, NAME_COLS+['grant_first_name', 'grant_middle_name',\n",
    "        'NIH_first_name', 'NIH_middle_name', 'first_name', 'middle_name']]"
   ]
  },
  {
   "cell_type": "code",
   "execution_count": 113,
   "metadata": {
    "collapsed": false
   },
   "outputs": [
    {
     "name": "stdout",
     "output_type": "stream",
     "text": [
      "clean_first_name     ARTHUR\n",
      "clean_middle_name    ARTHUR\n",
      "Name: 446, dtype: object\n",
      "clean_first_name     ALLAN\n",
      "clean_middle_name    ALLAN\n",
      "Name: 4044, dtype: object\n"
     ]
    }
   ],
   "source": [
    "apps4.loc[\n",
    "    apps4[['clean_first_name', 'clean_middle_name']].apply(same_name, axis=1), 'clean_middle_name'] = np.nan"
   ]
  },
  {
   "cell_type": "code",
   "execution_count": 114,
   "metadata": {
    "collapsed": false
   },
   "outputs": [
    {
     "data": {
      "text/html": [
       "<div>\n",
       "<table border=\"1\" class=\"dataframe\">\n",
       "  <thead>\n",
       "    <tr style=\"text-align: right;\">\n",
       "      <th></th>\n",
       "      <th>clean_first_name</th>\n",
       "      <th>clean_middle_name</th>\n",
       "      <th>clean_last_name</th>\n",
       "    </tr>\n",
       "  </thead>\n",
       "  <tbody>\n",
       "  </tbody>\n",
       "</table>\n",
       "</div>"
      ],
      "text/plain": [
       "Empty DataFrame\n",
       "Columns: [clean_first_name, clean_middle_name, clean_last_name]\n",
       "Index: []"
      ]
     },
     "execution_count": 114,
     "metadata": {},
     "output_type": "execute_result"
    }
   ],
   "source": [
    "apps4.loc[\n",
    "    apps4[['clean_middle_name', 'clean_last_name']].apply(same_name, axis=1), NAME_COLS]"
   ]
  },
  {
   "cell_type": "code",
   "execution_count": 115,
   "metadata": {
    "collapsed": false
   },
   "outputs": [],
   "source": [
    "# ADD LAST NAME COUNTS\n",
    "nih = pd.read_csv(os.path.join(ATT_DATA_DIR, 'NIH_attendee_deduped_raw.csv'))"
   ]
  },
  {
   "cell_type": "code",
   "execution_count": 116,
   "metadata": {
    "collapsed": false
   },
   "outputs": [],
   "source": [
    "last_name_counts = Counter(nih.clean_last_name.values)"
   ]
  },
  {
   "cell_type": "code",
   "execution_count": 117,
   "metadata": {
    "collapsed": true
   },
   "outputs": [],
   "source": [
    "apps4['nih_last_name_counts'] = apps4.clean_last_name.apply(lambda x: last_name_counts[x])"
   ]
  },
  {
   "cell_type": "code",
   "execution_count": 118,
   "metadata": {
    "collapsed": true
   },
   "outputs": [],
   "source": [
    "def total_number_applications(app_years):\n",
    "    unique_apps_years = app_years.dropna().unique()\n",
    "    return unique_apps_years.shape[0]\n",
    "\n",
    "apps4['number_applications'] = apps4[\n",
    "    ['application_year', 'application_year_1', 'application_year_2', 'application_year_3']].apply(\n",
    "        total_number_applications, axis=1)"
   ]
  },
  {
   "cell_type": "code",
   "execution_count": 119,
   "metadata": {
    "collapsed": true
   },
   "outputs": [],
   "source": [
    "to_drop = ['clean_first_initial', 'clean_middle_initial',  'exit', 'dob_app_diff', 'duplicate_dno', 'inst',\n",
    "          'main_dept', 'sim', 'nih_last_name_counts']"
   ]
  },
  {
   "cell_type": "code",
   "execution_count": 120,
   "metadata": {
    "collapsed": false
   },
   "outputs": [],
   "source": [
    "\n",
    "apps5 = apps4.sort_values(['clean_last_name', 'clean_first_name']).drop(to_drop, axis=1)\n",
    "\n",
    "IMP_COLS = [\n",
    "    PERSON_ID, 'aamc_id', 'newsetnb', 'dno', 'clean_first_name', 'clean_middle_name', 'clean_last_name',\n",
    "    'clean_suffix','control_flag', 'application_year_min', 'application_year_max', 'eod_year',\n",
    "    'medical_school', 'birth_year', 'is_star',\n",
    "    'residency_dates', 'residency_dates_NIH', 'internship_dates', 'internship_dates_NIH',\n",
    "    'medschool_year_grad', 'birth_year', \n",
    "    'is_female', 'is_foreign', 'number_applications', 'NIH_first_name', \n",
    "    'NIH_middle_name', 'NIH_last_name', 'NIH_medical_school',\n",
    "    'grant_first_name', 'grant_middle_name', 'grant_last_name',\n",
    "    'grant_medschool_year_grad', 'grant_phd_year_grad', 'grant_hphd_year_grad',\n",
    "    'aamc_first_name', 'aamc_middle_name', 'aamc_last_name',\n",
    "    'year_accepted', 'rejected', 'rejection_date',\n",
    "    'internship_start', 'internship_end', \n",
    "    'internship_hospital', 'residency_start', 'residency_end', 'residency_hospital', \n",
    "    'undergrad_year_grad', \n",
    "    'address', 'city', 'state', 'zip_code']\n",
    "\n",
    "IMPORTANT_COLS = [NIH_ID, PERSON_ID, 'application_year_min', 'application_year_max', 'eod_year',\n",
    "                  'clean_first_name', 'clean_middle_name', \n",
    "                 'clean_last_name', 'control_flag', 'time_period_flag', 'year_accepted', 'rejected',\n",
    "                  'rejection_date', 'clean_college', 'medical_school',\n",
    "                'residency_dates', 'internship_dates', 'is_female', 'is_foreign', 'number_applications']\n",
    "\n",
    "RESEARCH_COLS = ['bob', 'ca', 'cc', 'clinical', 'cord', 'dbs', 'fifth', 'generation', 'honor_societies_first',\n",
    "                 'honor_societies_fourth', 'honor_societies_second', 'honor_societies_third', 'ic', 'institute',\n",
    "                  'nci', 'nei', 'nhi', 'nhli', 'niaid', 'niamd', 'niamdd', 'nichd', 'nichhd',\n",
    "                 'nidr', 'niehs', 'nigms', 'nimh', 'nindb', 'ninds', 'oir', \n",
    "                  'pharm_ra', 'phd_year_grad', 'pi', 'program', 'ra',  'research', 'sa', 'sixth',\n",
    "                 'supervisor', 'teaching', 'withdrawal']"
   ]
  },
  {
   "cell_type": "code",
   "execution_count": 121,
   "metadata": {
    "collapsed": false
   },
   "outputs": [
    {
     "name": "stdout",
     "output_type": "stream",
     "text": [
      "['aamc_id_2', 'aamc_medical_school', 'aamc_medschool_year_grad', 'age', 'application_date', 'application_year', 'application_year_1', 'application_year_2', 'application_year_3', 'associate_program_entered', 'birth_country_cd', 'birth_country_desc', 'birth_date', 'birth_state_cd', 'citizenship', 'clean_college', 'data_source', 'death_year', 'deg', 'deg_cgaf', 'degree_country_1', 'degree_type', 'department', 'first_grant_year', 'first_name', 'grant_birth_year', 'grant_degree_type', 'institution_aamc_id', 'internship_1', 'internship_hospital_ipfcode', 'internship_hospital_std', 'is_match', 'last_name', 'middle_name', 'original_medical_school', 'race', 'raw_uuid', 'raw_uuid_1', 'raw_uuid_2', 'raw_uuid_3', 'raw_uuid_4', 'raw_uuid_5', 'residency', 'residency_1', 'residency_hospital_ipfcode', 'residency_hospital_std', 'reviewer', 'source', 'ssn', 'sub_department', 'suffix', 'suffix_cd', 'time_period_flag', 'undergraduate_school', 'year_grad', u'correct_match_flag', u'flag_manual_review']\n"
     ]
    }
   ],
   "source": [
    "col_ordered =  funcy.remove(lambda x: x in IMP_COLS or x in RESEARCH_COLS, apps5.columns)\n",
    "print col_ordered"
   ]
  },
  {
   "cell_type": "code",
   "execution_count": 122,
   "metadata": {
    "collapsed": false
   },
   "outputs": [],
   "source": [
    "apps5.loc[pd.isnull(apps5.is_star), 'is_star'] = 0"
   ]
  },
  {
   "cell_type": "code",
   "execution_count": 123,
   "metadata": {
    "collapsed": false
   },
   "outputs": [],
   "source": [
    "apps6 = apps5[IMP_COLS + col_ordered + RESEARCH_COLS]"
   ]
  },
  {
   "cell_type": "code",
   "execution_count": 124,
   "metadata": {
    "collapsed": false
   },
   "outputs": [],
   "source": [
    "apps7 = apps6[~pd.isnull(apps6.clean_last_name)]"
   ]
  },
  {
   "cell_type": "code",
   "execution_count": 126,
   "metadata": {
    "collapsed": false
   },
   "outputs": [],
   "source": [
    "apps7.to_csv(os.path.join(APP_DATA_DIR, 'NIH_AAMC_index_cards_grant_standardized.csv'), index=False)"
   ]
  },
  {
   "cell_type": "code",
   "execution_count": null,
   "metadata": {
    "collapsed": true
   },
   "outputs": [],
   "source": []
  }
 ],
 "metadata": {
  "kernelspec": {
   "display_name": "Python 2",
   "language": "python",
   "name": "python2"
  },
  "language_info": {
   "codemirror_mode": {
    "name": "ipython",
    "version": 2
   },
   "file_extension": ".py",
   "mimetype": "text/x-python",
   "name": "python",
   "nbconvert_exporter": "python",
   "pygments_lexer": "ipython2",
   "version": "2.7.12"
  }
 },
 "nbformat": 4,
 "nbformat_minor": 1
}
