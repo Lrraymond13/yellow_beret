{
 "cells": [
  {
   "cell_type": "code",
   "execution_count": 1,
   "metadata": {
    "collapsed": false
   },
   "outputs": [
    {
     "name": "stdout",
     "output_type": "stream",
     "text": [
      "~/Dropbox (MIT)/yellowberets/lindsey/intermediate_data/applicants_data/raw_card_data\n",
      "Extra r1 columns\n",
      "set([u'Sixth', u'Internship Hospital 1', u'Fifth', u'Internship Year(s)'])\n",
      "Extra r2 columns\n",
      "set([u'Intership Year(s)', u'Intership Hospital 1'])\n",
      "True\n",
      "[('last_name', 1), (u'citizenship', 1), (u'pharm_ra', 1), (u'teaching', 1), (u'cc', 1), (u'ca', 1), (u'nhi', 1), ('honor_societies_fourth', 1), (u'niamdd', 1), ('reviewer', 1), (u'dbs', 1), (u'research', 1), (u'ic', 1), (u'fifth', 1), (u'nimh', 1), (u'city', 1), ('first_name', 1), (u'nigms', 1), ('honor_societies_third', 1), (u'nei', 1), (u'state', 1), (u'oir', 1), (u'niaid', 1), (u'date_of_birth', 1), (u'ra', 1), (u'clinical', 1), (u'rejection_date', 1), (u'pi', 1), (u'nichhd', 1), (u'niamd', 1), (u'zip_code', 1), (u'cord', 1), (u'nichd', 1), ('undergrad_year_grad', 1), (u'sixth', 1), ('medschool_year_grad', 1), (u'rejected', 1), (u'nci', 1), (u'niehs', 1), (u'residency_hospital', 1), (u'address', 1), ('middle_name', 1), (u'application_date', 1), (u'ninds', 1), (u\"daniel's_comments\", 1), (u'nidr', 1), (u'sa', 1), (u'undergraduate_school', 1), (u'age', 1), (u'residency_type', 1), ('honor_societies_first', 1), (u'medical_school', 1), (u'nhli', 1), (u'nindb', 1), (u'associate_program_entered', 1), (u'withdrawal', 1), ('internship_year(s)', 1), (u'residency_year(s)', 1), (u'bob', 1), (u'year_accepted', 1), (u'other', 1), ('internship_hospital_1', 1), ('honor_societies_second', 1)]\n",
      "3/31971\n",
      "41/8/1966\n",
      "WARNING *** OLE2 inconsistency: SSCS size is 0 but SSAT size is non-zero\n",
      "WARNING *** OLE2 inconsistency: SSCS size is 0 but SSAT size is non-zero\n",
      "True\n",
      "(10729, 24)\n",
      "(10723, 24)\n",
      "(10050, 28)\n",
      "(3872, 28)\n",
      "(3773,)\n",
      "(3773, 3)\n",
      "clean_first_name BRUCE\n",
      "clean_middle_name WILCOX\n",
      "clean_first_name MARC\n",
      "clean_middle_name I\n",
      "clean_first_name SIDNEY\n",
      "clean_middle_name CHARLES\n",
      "clean_medical_school WAKE_FOREST\n",
      "clean_first_name DONALD\n",
      "clean_middle_name MARTIN\n",
      "clean_first_name DONALD\n",
      "clean_middle_name MARTIN\n",
      "The autoreload extension is already loaded. To reload it, use:\n",
      "  %reload_ext autoreload\n"
     ]
    },
    {
     "name": "stderr",
     "output_type": "stream",
     "text": [
      "/home/lraymond/MIT/Azoulay_2016/yellow_berets/yb/local/lib/python2.7/site-packages/pandas/core/indexing.py:465: SettingWithCopyWarning: \n",
      "A value is trying to be set on a copy of a slice from a DataFrame.\n",
      "Try using .loc[row_indexer,col_indexer] = value instead\n",
      "\n",
      "See the caveats in the documentation: http://pandas.pydata.org/pandas-docs/stable/indexing.html#indexing-view-versus-copy\n",
      "  self.obj[item] = s\n",
      "/home/lraymond/MIT/Azoulay_2016/yellow_berets/yb/local/lib/python2.7/site-packages/pandas/core/frame.py:2378: SettingWithCopyWarning: \n",
      "A value is trying to be set on a copy of a slice from a DataFrame.\n",
      "Try using .loc[row_indexer,col_indexer] = value instead\n",
      "\n",
      "See the caveats in the documentation: http://pandas.pydata.org/pandas-docs/stable/indexing.html#indexing-view-versus-copy\n",
      "  self[k1] = value[k2]\n",
      "/home/lraymond/MIT/Azoulay_2016/yellow_berets/yb/local/lib/python2.7/site-packages/pandas/core/frame.py:2754: SettingWithCopyWarning: \n",
      "A value is trying to be set on a copy of a slice from a DataFrame\n",
      "\n",
      "See the caveats in the documentation: http://pandas.pydata.org/pandas-docs/stable/indexing.html#indexing-view-versus-copy\n",
      "  **kwargs)\n",
      "/home/lraymond/MIT/Azoulay_2016/yellow_berets/yb/local/lib/python2.7/site-packages/pandas/core/indexing.py:288: SettingWithCopyWarning: \n",
      "A value is trying to be set on a copy of a slice from a DataFrame.\n",
      "Try using .loc[row_indexer,col_indexer] = value instead\n",
      "\n",
      "See the caveats in the documentation: http://pandas.pydata.org/pandas-docs/stable/indexing.html#indexing-view-versus-copy\n",
      "  self.obj[key] = _infer_fill_value(value)\n"
     ]
    },
    {
     "name": "stdout",
     "output_type": "stream",
     "text": [
      "['honor_societies_first', 'honor_societies_fourth', 'honor_societies_second', 'honor_societies_third']\n",
      "(373, 9)\n",
      "(328, 78)\n",
      "(3673, 155)\n",
      "(3526, 155)\n",
      "                      raw_uuid_1  raw_uuid_3\n",
      "JAMES L SCHERER           7084.0        3493\n",
      "JOHN STONER               7078.0        3487\n",
      "STEPHEN KARAS             5617.0        1971\n",
      "OLIVER WILLIAM JONES      5449.0        1797\n",
      "ALLAN J HANCE             5326.0        1675\n",
      "PAUL HINKES               5308.0        1656\n",
      "MARC A FRADER             4801.0        1134\n",
      "(2832, 157)\n",
      "Empty DataFrame\n",
      "Columns: [raw_uuid_2, raw_uuid_4]\n",
      "Index: []\n",
      "(2830, 159)\n",
      "(5667,)\n",
      "(790, 74)\n",
      "(630, 74)\n",
      "(904, 155)\n",
      "(875, 155)\n",
      "Empty DataFrame\n",
      "Columns: [raw_uuid_1, raw_uuid_3]\n",
      "Index: []\n",
      "(561, 157)\n",
      "Empty DataFrame\n",
      "Columns: [raw_uuid_2, raw_uuid_4]\n",
      "Index: []\n",
      "(561, 159)\n",
      "(6789,)\n",
      "(758, 73)\n",
      "['address', 'age', 'application_date', 'associate_program_entered', 'bob', 'ca', 'cc', 'citizenship', 'city', 'clean_college_trans', 'clean_first_initial', 'clean_first_name', 'clean_last_name', 'clean_middle_initial', 'clean_middle_name', 'clean_suffix', 'clinical', 'cord', 'date_of_birth', 'dbs', 'fifth', 'first_name', 'honor_societies_first', 'honor_societies_fourth', 'honor_societies_second', 'honor_societies_third', 'ic', 'internship_hospital', 'internship_year(s)', 'is_female', 'last_name', 'last_name_counts', 'medical_school', 'medschool_year_grad', 'middle_name', 'nci', 'nei', 'nhi', 'nhli', 'niaid', 'niamd', 'niamdd', 'nichd', 'nichhd', 'nidr', 'niehs', 'nigms', 'nimh', 'nindb', 'ninds', 'oir', 'original_medical_school', 'other', 'pharm_ra', 'pi', 'ra', 'rejected', 'rejection_date', 'research', 'residency_hospital', 'residency_type', 'residency_year(s)', 'reviewer', 'sa', 'sixth', 'state', 'teaching', 'undergrad_year_grad', 'undergraduate_school', 'withdrawal', 'year_accepted', 'zip_code']\n",
      "(338, 154)\n"
     ]
    },
    {
     "name": "stderr",
     "output_type": "stream",
     "text": [
      "/home/lraymond/MIT/Azoulay_2016/yellow_berets/yellow_beret/merging_functions.py:93: SettingWithCopyWarning: \n",
      "A value is trying to be set on a copy of a slice from a DataFrame.\n",
      "Try using .loc[row_indexer,col_indexer] = value instead\n",
      "\n",
      "See the caveats in the documentation: http://pandas.pydata.org/pandas-docs/stable/indexing.html#indexing-view-versus-copy\n",
      "  df[sim_colname] = df[[col1, col2]].apply(fnc_val, axis=1)\n",
      "/home/lraymond/MIT/Azoulay_2016/yellow_berets/yellow_beret/merging_functions.py:94: SettingWithCopyWarning: \n",
      "A value is trying to be set on a copy of a slice from a DataFrame.\n",
      "Try using .loc[row_indexer,col_indexer] = value instead\n",
      "\n",
      "See the caveats in the documentation: http://pandas.pydata.org/pandas-docs/stable/indexing.html#indexing-view-versus-copy\n",
      "  df['is_match'] = 0\n"
     ]
    },
    {
     "name": "stdout",
     "output_type": "stream",
     "text": [
      "['address', 'age', 'application_date', 'associate_program_entered', 'bob', 'ca', 'cc', 'citizenship', 'city', 'clean_college_trans', 'clean_first_initial', 'clean_first_name', 'clean_last_name', 'clean_middle_initial', 'clean_middle_name', 'clean_suffix', 'clinical', 'cord', 'date_of_birth', 'dbs', 'fifth', 'first_name', 'honor_societies_first', 'honor_societies_fourth', 'honor_societies_second', 'honor_societies_third', 'ic', 'internship_hospital', 'internship_year(s)', 'is_female', 'is_match', 'last_name', 'medical_school', 'medschool_year_grad', 'middle_name', 'nci', 'nei', 'nhi', 'nhli', 'niaid', 'niamd', 'niamdd', 'nichd', 'nichhd', 'nidr', 'niehs', 'nigms', 'nimh', 'nindb', 'ninds', 'oir', 'original_medical_school', 'other', 'pharm_ra', 'pi', 'ra', 'rejected', 'rejection_date', 'research', 'residency_hospital', 'residency_type', 'residency_year(s)', 'reviewer', 'sa', 'sixth', 'state', 'teaching', 'undergrad_year_grad', 'undergraduate_school', 'withdrawal', 'year_accepted', 'zip_code', 'last_name_counts']\n",
      "(3887, 78)\n",
      "(4018, 81)\n",
      "False\n"
     ]
    },
    {
     "name": "stderr",
     "output_type": "stream",
     "text": [
      "ERROR:root:Line magic function `%install_ext` not found.\n"
     ]
    },
    {
     "name": "stdout",
     "output_type": "stream",
     "text": [
      "set(['DEFRONZO', 'MACLOWRY', 'STABENAU', 'HARRIN', 'GARFIN', 'PENDERGAST', 'BULL', 'ROBINS', 'COLBERG', 'CHESEBRO', 'MOND', 'COLLIN', 'GLASSROTH', 'COSTANTIN', 'FRIEDLANDER', 'SCHUTZ', 'DAVISON', 'SARAL', 'KEISER', 'FINKLESTEIN', 'EILER', 'EISCH', 'DIEZMAN', 'KINNEY', 'KETOVER', 'FREY', 'HEIBY', 'BEAK', 'HERSH', 'LURIA', 'BRADEN', 'KEBIAN', 'CUONO', 'STEVENS', 'ARNSON', 'GREELEY', 'HUNT', 'LIST', 'DROBIS', 'STAMPER', 'BULKEY', 'BENETT'])\n",
      "['raw_uuid', 'raw_uuid_1', 'raw_uuid_2', 'raw_uuid_3'] ['application_year', 'application_year_1']\n",
      "The autoreload extension is already loaded. To reload it, use:\n",
      "  %reload_ext autoreload\n",
      "\"Open\"\n",
      "Str. Medicine\n",
      "Medicine\n",
      "(3982, 88)\n",
      "(3988, 88)\n",
      "['address', 'age', 'application_date', 'application_year', 'application_year_1', 'application_year_2', 'application_year_3', 'associate_program_entered', 'bob', 'ca', 'cc', 'citizenship', 'city', 'clean_college_trans', 'clean_first_initial', 'clean_first_name', 'clean_last_name', 'clean_middle_initial', 'clean_middle_name', 'clean_suffix', 'clinical', 'cord', 'date_of_birth', 'dbs', 'fifth', 'first_name', 'fuzzy_merge_col', 'honor_societies_first', 'honor_societies_fourth', 'honor_societies_second', 'honor_societies_third', 'ic', 'index', 'intern_dates', 'internship_hospital', 'internship_year(s)', 'is_female', 'is_match', 'last_name', 'last_name_counts', 'medical_school', 'medschool_year_grad', 'middle_name', 'nci', 'nei', 'nhi', 'nhli', 'niaid', 'niamd', 'niamdd', 'nichd', 'nichhd', 'nidr', 'niehs', 'nigms', 'nimh', 'nindb', 'ninds', 'oir', 'original_medical_school', 'other', 'person_uuid', 'pharm_ra', 'pi', 'ra', 'raw_uuid', 'raw_uuid_1', 'raw_uuid_2', 'raw_uuid_3', 'raw_uuid_4', 'raw_uuid_5', 'rejected', 'rejection_date', 'res_dates', 'research', 'residency', 'residency_hospital', 'residency_year(s)', 'reviewer', 'sa', 'sixth', 'state', 'teaching', 'undergrad_year_grad', 'undergraduate_school', 'withdrawal', 'year_accepted', 'zip_code']\n",
      "['Unnamed: 0', 'citizenship', 'clean_first_initial', 'clean_first_name', 'clean_last_name', 'clean_middle_initial', 'clean_middle_name', 'clean_suffix', 'count_missing', 'data_source', 'dno', 'dob', 'dup_flag', 'duplicate_dno', 'eod_year', 'eod_year_diff', 'generation', 'institute', 'intern_dates', 'internship_hospital', 'lab_brch', 'med_school', 'medical_school', 'program', 'res_dates', 'residency', 'residency_hospital', 'source', 'ssn', 'supervisor', 'unknown', 'year_grad']\n",
      "(2874, 32)\n",
      "(3981, 88)\n",
      "(2877, 119)\n",
      "(2606, 125)\n",
      "(2576, 126)\n",
      "(2569, 127)\n",
      "(1412, 88)\n",
      "(273, 33)\n",
      "(495, 119)\n",
      "(1379, 88)\n",
      "(240, 33)\n",
      "['citizenship', 'clean_first_initial', 'clean_first_name', 'clean_middle_initial', 'clean_middle_name', 'clean_suffix', 'intern_dates', 'internship_hospital', 'medical_school', 'res_dates', 'residency_hospital', 'residency']\n",
      "['address', 'age', 'application_date', 'application_year', 'application_year_1', 'application_year_2', 'application_year_3', 'associate_program_entered', 'bob', 'ca', 'cc', 'citizenship', 'city', 'clean_college_trans', 'clean_first_initial', 'clean_first_name', 'clean_last_name', 'clean_middle_initial', 'clean_middle_name', 'clean_suffix', 'clinical', 'cord', 'data_source', 'date_of_birth', 'dbs', 'dno', 'dob', 'duplicate_dno', 'eod_year', 'fifth', 'first_name', 'fuzzy_merge_col', 'generation', 'honor_societies_first', 'honor_societies_fourth', 'honor_societies_second', 'honor_societies_third', 'ic', 'index', 'institute', 'intern_dates', 'internship_hospital', 'internship_year(s)', 'is_female', 'is_match', 'lab_brch', 'last_name', 'last_name_counts', 'level_0', 'med_school', 'medical_school', 'medschool_year_grad', 'middle_name', 'nci', 'nei', 'nhi', 'nhli', 'niaid', 'niamd', 'niamdd', 'nichd', 'nichhd', 'nidr', 'niehs', 'nigms', 'nimh', 'nindb', 'ninds', 'oir', 'original_medical_school', 'other', 'person_uuid', 'pharm_ra', 'pi', 'program', 'ra', 'raw_uuid', 'raw_uuid_1', 'raw_uuid_2', 'raw_uuid_3', 'raw_uuid_4', 'raw_uuid_5', 'rejected', 'rejection_date', 'res_dates', 'research', 'residency', 'residency_hospital', 'residency_year(s)', 'reviewer', 'sa', 'sixth', 'source', 'ssn', 'state', 'supervisor', 'teaching', 'undergrad_year_grad', 'undergraduate_school', 'withdrawal', 'year_accepted', 'year_grad', 'zip_code']\n",
      "(3981, 103)\n",
      "['address', 'age', 'application_date', 'application_year', 'application_year_1', 'application_year_2', 'application_year_3', 'associate_program_entered', 'bob', 'ca', 'cc', 'citizenship', 'city', 'clean_college_trans', 'clean_first_initial', 'clean_first_name', 'clean_last_name', 'clean_middle_initial', 'clean_middle_name', 'clean_suffix', 'clinical', 'cord', 'data_source', 'date_of_birth', 'dbs', 'dno', 'duplicate_dno', 'eod_year', 'fifth', 'first_name', 'fuzzy_merge_col', 'generation', 'honor_societies_first', 'honor_societies_fourth', 'honor_societies_second', 'honor_societies_third', 'ic', 'index', 'institute', 'intern_dates', 'internship_hospital', 'internship_year(s)', 'is_female', 'is_match', 'lab_brch', 'last_name', 'last_name_counts', 'level_0', 'med_school', 'medical_school', 'medschool_year_grad', 'middle_name', 'nci', 'nei', 'nhi', 'nhli', 'niaid', 'niamd', 'niamdd', 'nichd', 'nichhd', 'nidr', 'niehs', 'nigms', 'nimh', 'nindb', 'ninds', 'oir', 'original_medical_school', 'other', 'person_uuid', 'pharm_ra', 'pi', 'program', 'ra', 'raw_uuid', 'raw_uuid_1', 'raw_uuid_2', 'raw_uuid_3', 'raw_uuid_4', 'raw_uuid_5', 'rejected', 'rejection_date', 'res_dates', 'research', 'residency', 'residency_hospital', 'residency_year(s)', 'reviewer', 'sa', 'sixth', 'source', 'ssn', 'state', 'supervisor', 'teaching', 'undergrad_year_grad', 'undergraduate_school', 'withdrawal', 'year_accepted', 'year_grad', 'zip_code']\n",
      "(3981, 102)\n",
      "The autoreload extension is already loaded. To reload it, use:\n",
      "  %reload_ext autoreload\n",
      "(30, 19)\n",
      "(30, 19)\n",
      "(30, 34)\n",
      "(40744, 19)\n",
      "(40714, 20)\n",
      "(30, 20)\n",
      "The autoreload extension is already loaded. To reload it, use:\n",
      "  %reload_ext autoreload\n",
      "~/Dropbox (MIT)/yellowberets/lindsey/intermediate_data/aamc_data\n"
     ]
    },
    {
     "name": "stderr",
     "output_type": "stream",
     "text": [
      "/home/lraymond/MIT/Azoulay_2016/yellow_berets/yb/lib/python2.7/site-packages/ipykernel/__main__.py:2: SettingWithCopyWarning: \n",
      "A value is trying to be set on a copy of a slice from a DataFrame.\n",
      "Try using .loc[row_indexer,col_indexer] = value instead\n",
      "\n",
      "See the caveats in the documentation: http://pandas.pydata.org/pandas-docs/stable/indexing.html#indexing-view-versus-copy\n",
      "  from ipykernel import kernelapp as app\n",
      "/home/lraymond/MIT/Azoulay_2016/yellow_berets/yb/lib/python2.7/site-packages/ipykernel/__main__.py:1: SettingWithCopyWarning: \n",
      "A value is trying to be set on a copy of a slice from a DataFrame.\n",
      "Try using .loc[row_indexer,col_indexer] = value instead\n",
      "\n",
      "See the caveats in the documentation: http://pandas.pydata.org/pandas-docs/stable/indexing.html#indexing-view-versus-copy\n",
      "  if __name__ == '__main__':\n"
     ]
    },
    {
     "name": "stdout",
     "output_type": "stream",
     "text": [
      "(12536, 25)\n",
      "(2032, 103)\n",
      "(2036, 127)\n"
     ]
    },
    {
     "name": "stderr",
     "output_type": "stream",
     "text": [
      "/home/lraymond/MIT/Azoulay_2016/yellow_berets/yb/lib/python2.7/site-packages/ipykernel/__main__.py:33: SettingWithCopyWarning: \n",
      "A value is trying to be set on a copy of a slice from a DataFrame.\n",
      "Try using .loc[row_indexer,col_indexer] = value instead\n",
      "\n",
      "See the caveats in the documentation: http://pandas.pydata.org/pandas-docs/stable/indexing.html#indexing-view-versus-copy\n"
     ]
    },
    {
     "name": "stdout",
     "output_type": "stream",
     "text": [
      "['clean_last_name', 'fuzzy_merge_col_x', 'fuzzy_merge_col_y']\n",
      "['clean_last_name_sim', 'clean_last_name_x', 'clean_last_name_y', 'fuzzy_merge_col']\n",
      "['clean_first_initial', 'clean_first_name', 'clean_middle_initial', 'clean_middle_name', 'last_name_counts']\n",
      "(1616, 103)\n",
      "The autoreload extension is already loaded. To reload it, use:\n",
      "  %reload_ext autoreload\n",
      "(3729, 118)\n",
      "(3729, 119)\n",
      "(3729, 120)\n",
      "(3729, 119)\n",
      "(3729, 118)\n",
      "(3988, 88)\n"
     ]
    },
    {
     "name": "stderr",
     "output_type": "stream",
     "text": [
      "/home/lraymond/MIT/Azoulay_2016/yellow_berets/yb/lib/python2.7/site-packages/ipykernel/__main__.py:5: SettingWithCopyWarning: \n",
      "A value is trying to be set on a copy of a slice from a DataFrame.\n",
      "Try using .loc[row_indexer,col_indexer] = value instead\n",
      "\n",
      "See the caveats in the documentation: http://pandas.pydata.org/pandas-docs/stable/indexing.html#indexing-view-versus-copy\n"
     ]
    },
    {
     "name": "stdout",
     "output_type": "stream",
     "text": [
      "(269, 5)\n"
     ]
    },
    {
     "name": "stderr",
     "output_type": "stream",
     "text": [
      "/home/lraymond/MIT/Azoulay_2016/yellow_berets/yb/lib/python2.7/site-packages/ipykernel/__main__.py:1: SettingWithCopyWarning: \n",
      "A value is trying to be set on a copy of a slice from a DataFrame.\n",
      "Try using .loc[row_indexer,col_indexer] = value instead\n",
      "\n",
      "See the caveats in the documentation: http://pandas.pydata.org/pandas-docs/stable/indexing.html#indexing-view-versus-copy\n",
      "  if __name__ == '__main__':\n"
     ]
    },
    {
     "name": "stdout",
     "output_type": "stream",
     "text": [
      "(2919200, 6)\n",
      "(3896, 107)\n",
      "(3729, 105)\n",
      "(3729, 108)\n",
      "(3729, 110)\n",
      "time: 12min 39s\n"
     ]
    }
   ],
   "source": [
    "# first, run the compile index card data set\n",
    "%run 'Compile Index Card-Applicant Data Set.ipynb'\n",
    "\n",
    "# compile NIH program attendees data set\n",
    "# %run 'Compile Attendees Data Set.ipynb' - this is an old version\n",
    "%run 'Compile and Clean NIH Applicant Data Set.ipynb'\n",
    "\n",
    "# merge NIH and applicant data set\n",
    "%run 'Dedupe and Standardize Index Card Data.ipynb'\n",
    "%run 'Clean and Merge NIH Associates and Applicants.ipynb'\n",
    "\n",
    "# Now merge this file to the AAMC data\n",
    "%run 'Import and Clean AAMC Data Set.ipynb'\n",
    "%run 'Merge AAMC Applicants Data.ipynb'\n",
    "\n",
    "%run 'Standardize Institutions.ipynb'\n",
    "# %run 'Merge Applicants and Grant Data.ipynb'\n",
    "\n",
    "# generate summary stats\n",
    "# %run 'Summary Data Stats.ipynb'"
   ]
  },
  {
   "cell_type": "code",
   "execution_count": null,
   "metadata": {
    "collapsed": true
   },
   "outputs": [],
   "source": []
  }
 ],
 "metadata": {
  "kernelspec": {
   "display_name": "Python 2",
   "language": "python",
   "name": "python2"
  },
  "language_info": {
   "codemirror_mode": {
    "name": "ipython",
    "version": 2
   },
   "file_extension": ".py",
   "mimetype": "text/x-python",
   "name": "python",
   "nbconvert_exporter": "python",
   "pygments_lexer": "ipython2",
   "version": "2.7.12"
  }
 },
 "nbformat": 4,
 "nbformat_minor": 1
}
