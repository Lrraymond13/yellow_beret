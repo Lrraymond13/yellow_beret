{
 "cells": [
  {
   "cell_type": "code",
   "execution_count": 1,
   "metadata": {
    "collapsed": false,
    "scrolled": true
   },
   "outputs": [
    {
     "name": "stdout",
     "output_type": "stream",
     "text": [
      "~/Dropbox (MIT)/yellowberets/lindsey/intermediate_data/aamc_data\n"
     ]
    },
    {
     "name": "stderr",
     "output_type": "stream",
     "text": [
      "/home/lraymond/MIT/Azoulay_2016/yellow_berets/yb/local/lib/python2.7/site-packages/pandas/core/ops.py:683: UnicodeWarning: Unicode equal comparison failed to convert both arguments to Unicode - interpreting them as being unequal\n",
      "  result = lib.scalar_compare(x, y, op)\n"
     ]
    },
    {
     "name": "stdout",
     "output_type": "stream",
     "text": [
      "ISTANBUL ÜNIVERSITESI ISTANBUL TIP FAKüLTESI\n",
      "TEHRAN UNIVERSITY OF MEDICAL SCIENCES SCHOOL OF MEDICINE\n",
      "ISTANBUL ÜNIVERSITESI ISTANBUL TIP FAKüLTESI\n",
      "THE UNIVERSITY OF TOLEDO COLLEGE OF MEDICINE\n",
      "DREXEL UNIVERSITY COLLEGE OF MEDICINE\n",
      "THE UNIVERSITY OF TOLEDO COLLEGE OF MEDICINE\n",
      "UNIVERSITà DEGLI STUDI DI BOLOGNA SCUOLA DI MEDICINA E CHIRURGIA\n"
     ]
    },
    {
     "name": "stderr",
     "output_type": "stream",
     "text": [
      "/home/lraymond/MIT/Azoulay_2016/yellow_berets/yb/local/lib/python2.7/site-packages/pandas/indexes/base.py:1237: UnicodeWarning: Unicode equal comparison failed to convert both arguments to Unicode - interpreting them as being unequal\n",
      "  return key in self._engine\n"
     ]
    },
    {
     "name": "stdout",
     "output_type": "stream",
     "text": [
      "DREXEL UNIVERSITY COLLEGE OF MEDICINE\n",
      "UNIVERSIDAD NACIONAL AUTóNOMA DE MéXICO FACULTAD DE MEDICINA\n",
      "UNIVERSITY OF SOUTH DAKOTA SANFORD SCHOOL OF MEDICINE\n",
      "TEXAS TECH UNIVERSITY HEALTH SCIENCES CENTER SCHOOL OF MEDICINE\n",
      "THE UNIVERSITY OF TOLEDO COLLEGE OF MEDICINE\n",
      "INDIA FREE STANDING INST\n",
      "UNIVERSITY OF SOUTH DAKOTA SANFORD SCHOOL OF MEDICINE\n",
      "NORTHEAST OHIO MEDICAL UNIVERSITY\n",
      "PUSAN NATIONAL UNIVERSITY COLLEGE OF MEDICINE\n",
      "THE UNIVERSITY OF TOLEDO COLLEGE OF MEDICINE\n",
      "SIRIRAJ HOSPITAL FACULTY OF MEDICINE\n",
      "THE UNIVERSITY OF TOLEDO COLLEGE OF MEDICINE\n",
      "THE UNIVERSITY OF TOLEDO COLLEGE OF MEDICINE\n",
      "THE UNIVERSITY OF TOLEDO COLLEGE OF MEDICINE\n",
      "UNIVERSITY OF MEDICINE AND PHARMACY OF HO CHI MINH CITY\n",
      "TEXAS TECH UNIVERSITY HEALTH SCIENCES CENTER SCHOOL OF MEDICINE\n",
      "TEXAS TECH UNIVERSITY HEALTH SCIENCES CENTER SCHOOL OF MEDICINE\n",
      "THE UNIVERSITY OF TOLEDO COLLEGE OF MEDICINE\n",
      "THE UNIVERSITY OF TOLEDO COLLEGE OF MEDICINE\n",
      "DREXEL UNIVERSITY COLLEGE OF MEDICINE\n",
      "DREXEL UNIVERSITY COLLEGE OF MEDICINE\n",
      "THE UNIVERSITY OF TOLEDO COLLEGE OF MEDICINE\n",
      "THE UNIVERSITY OF TOLEDO COLLEGE OF MEDICINE\n",
      "THE UNIVERSITY OF TOLEDO COLLEGE OF MEDICINE\n",
      "KING EDWARD MEDICAL UNIVERSITY\n",
      "UNIVERSITà DI PISA FACOLTà DI MEDICINA E CHIRURGIA\n",
      "THE UNIVERSITY OF TOLEDO COLLEGE OF MEDICINE\n",
      "UNIVERSITY OF SOUTH DAKOTA SANFORD SCHOOL OF MEDICINE\n",
      "TEXAS TECH UNIVERSITY HEALTH SCIENCES CENTER SCHOOL OF MEDICINE\n",
      "TEHRAN UNIVERSITY OF MEDICAL SCIENCES SCHOOL OF MEDICINE\n",
      "UNIVERSIDADE FEDERAL DE MINAS GERAIS UFMG FACULDADE DE MEDICINA\n",
      "DREXEL UNIVERSITY COLLEGE OF MEDICINE\n",
      "UNIVERSIDAD NACIONAL DE COLOMBIA FACULTAD DE MEDICINA\n",
      "TEXAS TECH UNIVERSITY HEALTH SCIENCES CENTER SCHOOL OF MEDICINE\n",
      "THE UNIVERSITY OF TOLEDO COLLEGE OF MEDICINE\n",
      "UNIVERSITY OF SOUTH DAKOTA SANFORD SCHOOL OF MEDICINE\n",
      "TEXAS TECH UNIVERSITY HEALTH SCIENCES CENTER SCHOOL OF MEDICINE\n",
      "UNIVERSITY OF BAGHDAD COLLEGE OF MEDICINE\n",
      "TEXAS TECH UNIVERSITY HEALTH SCIENCES CENTER SCHOOL OF MEDICINE\n",
      "TEXAS TECH UNIVERSITY HEALTH SCIENCES CENTER SCHOOL OF MEDICINE\n",
      "THE UNIVERSITY OF TOLEDO COLLEGE OF MEDICINE\n",
      "UNIVERSIDAD DE ANTIOQUIA FACULTAD DE MEDICINA\n",
      "SEOUL NATIONAL UNIVERSITY COLLEGE OF MEDICINE\n",
      "TEXAS TECH UNIVERSITY HEALTH SCIENCES CENTER SCHOOL OF MEDICINE\n",
      "THE UNIVERSITY OF TOLEDO COLLEGE OF MEDICINE\n",
      "THE UNIVERSITY OF TOLEDO COLLEGE OF MEDICINE\n",
      "UNIVERSITY OF SOUTH DAKOTA SANFORD SCHOOL OF MEDICINE\n",
      "TEHRAN UNIVERSITY OF MEDICAL SCIENCES SCHOOL OF MEDICINE\n",
      "TEXAS TECH UNIVERSITY HEALTH SCIENCES CENTER SCHOOL OF MEDICINE\n",
      "TRINITY COLLEGE DUBLIN SCHOOL OF MEDICINE\n",
      "THE UNIVERSITY OF TOLEDO COLLEGE OF MEDICINE\n",
      "THE UNIVERSITY OF TOLEDO COLLEGE OF MEDICINE\n",
      "UNIVERSITY OF SOUTH DAKOTA SANFORD SCHOOL OF MEDICINE\n",
      "SAN JUAN CITY HOSPITAL PROGRAM\n",
      "UNIVERSITAT DE BARCELONA FACULTAT DE MEDICINA\n",
      "LIAQUAT UNIVERSITY OF MEDICAL HEALTH SCIENCES JAMSHORO\n",
      "PUSAN NATIONAL UNIVERSITY COLLEGE OF MEDICINE\n",
      "FACULTé DE MéDECINE MONTPELLIER NîMES\n",
      "UNIVERSITY OF SOUTH DAKOTA SANFORD SCHOOL OF MEDICINE\n",
      "UNIVERSITà DEGLI STUDI DI BOLOGNA SCUOLA DI MEDICINA E CHIRURGIA\n",
      "UNIVERSITY OF THE WITWATERSRAND FACULTY OF HEALTH SCIENCES\n",
      "THE UNIVERSITY OF TOLEDO COLLEGE OF MEDICINE\n",
      "DREXEL UNIVERSITY COLLEGE OF MEDICINE\n",
      "THE UNIVERSITY OF TOLEDO COLLEGE OF MEDICINE\n",
      "THE UNIVERSITY OF TOLEDO COLLEGE OF MEDICINE\n",
      "TEXAS TECH UNIVERSITY HEALTH SCIENCES CENTER SCHOOL OF MEDICINE\n",
      "TEXAS TECH UNIVERSITY HEALTH SCIENCES CENTER SCHOOL OF MEDICINE\n",
      "FIRST MOSCOW STATE MEDICAL UNIVERSITY NAMED AFTER I M SECHENOV\n",
      "THE UNIVERSITY OF TOLEDO COLLEGE OF MEDICINE\n",
      "SEOUL NATIONAL UNIVERSITY COLLEGE OF MEDICINE\n",
      "WRIGHT STATE UNIVERSITY BOONSHOFT SCHOOL OF MEDICINE\n",
      "UPPSALA UNIVERSITET MEDICINSKA FAKULTETEN\n",
      "UNIVERSITY OF SOUTH DAKOTA SANFORD SCHOOL OF MEDICINE\n",
      "UNIVERSITY COLLEGE DUBLIN SCHOOL OF MEDICINE AND MEDICAL SCIENCE\n",
      "THE UNIVERSITY OF TOLEDO COLLEGE OF MEDICINE\n",
      "UNIVERSITY OF THE WITWATERSRAND FACULTY OF HEALTH SCIENCES\n",
      "THE UNIVERSITY OF TOLEDO COLLEGE OF MEDICINE\n",
      "TEXAS TECH UNIVERSITY HEALTH SCIENCES CENTER SCHOOL OF MEDICINE\n",
      "THE UNIVERSITY OF TOLEDO COLLEGE OF MEDICINE\n",
      "TEXAS A M HEALTH SCIENCE CENTER COLLEGE OF MEDICINE\n",
      "UNIVERSITY OF CAIRO FACULTY OF MEDICINE\n",
      "LI KA SHING FACULTY OF MEDICINE UNIVERSITY OF HONG KONG\n",
      "UNIVERSITY OF SANTO TOMAS FACULTY OF MEDICINE AND SURGERY\n",
      "THE UNIVERSITY OF TOLEDO COLLEGE OF MEDICINE\n",
      "TEXAS A M HEALTH SCIENCE CENTER COLLEGE OF MEDICINE\n",
      "THE UNIVERSITY OF TOLEDO COLLEGE OF MEDICINE\n",
      "UNIVERSITY OF SOUTH DAKOTA SANFORD SCHOOL OF MEDICINE\n",
      "THE UNIVERSITY OF TOLEDO COLLEGE OF MEDICINE\n",
      "THE UNIVERSITY OF TOLEDO COLLEGE OF MEDICINE\n",
      "THE UNIVERSITY OF TOLEDO COLLEGE OF MEDICINE\n",
      "THE UNIVERSITY OF TOLEDO COLLEGE OF MEDICINE\n",
      "TEHRAN UNIVERSITY OF MEDICAL SCIENCES SCHOOL OF MEDICINE\n",
      "DREXEL UNIVERSITY COLLEGE OF MEDICINE\n",
      "NATIONAL TAIWAN UNIVERSITY COLLEGE OF MEDICINE\n",
      "TAIPEI MEDICAL UNIVERSITY COLLEGE OF MEDICINE\n",
      "UNIVERSIDADE ESTADUAL DE CAMPINAS UNICAMP FACULDADE DE CIêNCIAS MéDICAS\n",
      "NATIONAL TAIWAN UNIVERSITY COLLEGE OF MEDICINE\n",
      "DREXEL UNIVERSITY COLLEGE OF MEDICINE\n",
      "THE UNIVERSITY OF TOLEDO COLLEGE OF MEDICINE\n",
      "NATIONAL TAIWAN UNIVERSITY COLLEGE OF MEDICINE\n",
      "THE UNIVERSITY OF TOLEDO COLLEGE OF MEDICINE\n",
      "UNIVERSITY OF SOUTH DAKOTA SANFORD SCHOOL OF MEDICINE\n",
      "DREXEL UNIVERSITY COLLEGE OF MEDICINE\n",
      "UNIVERSITé CATHOLIQUE DE LOUVAIN FACULTé DE MéDECINE ET DE MéDECINE DENTAIRE\n",
      "THE UNIVERSITY OF TOLEDO COLLEGE OF MEDICINE\n",
      "THE UNIVERSITY OF TOLEDO COLLEGE OF MEDICINE\n",
      "THE UNIVERSITY OF TOLEDO COLLEGE OF MEDICINE\n",
      "UNIVERSITY OF SOUTH DAKOTA SANFORD SCHOOL OF MEDICINE\n",
      "UNIVERSITY OF SOUTH DAKOTA SANFORD SCHOOL OF MEDICINE\n",
      "HADASSAH MEDICAL SCHOOL\n"
     ]
    },
    {
     "name": "stderr",
     "output_type": "stream",
     "text": [
      "/home/lraymond/MIT/Azoulay_2016/yellow_berets/yb/lib/python2.7/site-packages/ipykernel/__main__.py:2: SettingWithCopyWarning: \n",
      "A value is trying to be set on a copy of a slice from a DataFrame.\n",
      "Try using .loc[row_indexer,col_indexer] = value instead\n",
      "\n",
      "See the caveats in the documentation: http://pandas.pydata.org/pandas-docs/stable/indexing.html#indexing-view-versus-copy\n",
      "  from ipykernel import kernelapp as app\n",
      "/home/lraymond/MIT/Azoulay_2016/yellow_berets/yb/lib/python2.7/site-packages/ipykernel/__main__.py:1: SettingWithCopyWarning: \n",
      "A value is trying to be set on a copy of a slice from a DataFrame.\n",
      "Try using .loc[row_indexer,col_indexer] = value instead\n",
      "\n",
      "See the caveats in the documentation: http://pandas.pydata.org/pandas-docs/stable/indexing.html#indexing-view-versus-copy\n",
      "  if __name__ == '__main__':\n"
     ]
    },
    {
     "name": "stdout",
     "output_type": "stream",
     "text": [
      "(12813, 25)\n",
      "(2259, 107)\n",
      "(2184, 131)\n"
     ]
    },
    {
     "name": "stderr",
     "output_type": "stream",
     "text": [
      "/home/lraymond/MIT/Azoulay_2016/yellow_berets/yb/lib/python2.7/site-packages/ipykernel/__main__.py:33: SettingWithCopyWarning: \n",
      "A value is trying to be set on a copy of a slice from a DataFrame.\n",
      "Try using .loc[row_indexer,col_indexer] = value instead\n",
      "\n",
      "See the caveats in the documentation: http://pandas.pydata.org/pandas-docs/stable/indexing.html#indexing-view-versus-copy\n",
      "/home/lraymond/MIT/Azoulay_2016/yellow_berets/yb/local/lib/python2.7/site-packages/pandas/core/indexing.py:465: SettingWithCopyWarning: \n",
      "A value is trying to be set on a copy of a slice from a DataFrame.\n",
      "Try using .loc[row_indexer,col_indexer] = value instead\n",
      "\n",
      "See the caveats in the documentation: http://pandas.pydata.org/pandas-docs/stable/indexing.html#indexing-view-versus-copy\n",
      "  self.obj[item] = s\n"
     ]
    },
    {
     "name": "stdout",
     "output_type": "stream",
     "text": [
      "['clean_last_name', 'fuzzy_merge_col_x', 'fuzzy_merge_col_y']\n",
      "['clean_last_name_sim', 'clean_last_name_x', 'clean_last_name_y', 'fuzzy_merge_col']\n",
      "['clean_first_initial', 'clean_first_name', 'clean_middle_initial', 'clean_middle_name', 'last_name_counts']\n",
      "(1809, 107)\n",
      "The autoreload extension is already loaded. To reload it, use:\n",
      "  %reload_ext autoreload\n",
      "CALIFORNIA INSTITUTE OF TECHNOLOGY\n",
      "CITY OF HOPE BECKMAN RESEARCH INSTITUTE\n",
      "CLEVELAND CLINIC\n",
      "COLD SPRING HARBOR LABORATORY\n",
      "FOX CHASE CANCER CENTER\n",
      "HENRY FORD HEALTH SCIENCE CENTER\n",
      "MAYO MEDICAL SCHOOL\n",
      "MOREHOUSE SCHOOL OF MEDICINE\n",
      "NIH\n",
      "PRINCETON UNIVERSITY\n",
      "ROCKEFELLER UNIVERSITY\n",
      "SALK INSTITUTE FOR BIOLOGICAL STUDIES\n",
      "SCRIPPS RESEARCH INSTITUTE\n",
      "TEXAS A M UNIVERSITY HEALTH SCIENCE CENTER COLLEGE OF MEDICINE\n",
      "TEXAS TECH UNIVERSITY HEALTH SCIENCES CENTER SCHOOL OF MEDICINE\n",
      "UNIFORMED SERVICES UNIVERSITY OF THE HEALTH SCIENCES\n",
      "UNIVERSITY OF SOUTH DAKOTA SCHOOL OF MEDICINE\n",
      "nan\n",
      "(4109, 123)\n",
      "(4106, 124)\n",
      "(4106, 125)\n",
      "(4106, 124)\n",
      "(4109, 123)\n"
     ]
    },
    {
     "name": "stderr",
     "output_type": "stream",
     "text": [
      "/home/lraymond/MIT/Azoulay_2016/yellow_berets/yb/lib/python2.7/site-packages/ipykernel/__main__.py:5: SettingWithCopyWarning: \n",
      "A value is trying to be set on a copy of a slice from a DataFrame.\n",
      "Try using .loc[row_indexer,col_indexer] = value instead\n",
      "\n",
      "See the caveats in the documentation: http://pandas.pydata.org/pandas-docs/stable/indexing.html#indexing-view-versus-copy\n"
     ]
    },
    {
     "name": "stdout",
     "output_type": "stream",
     "text": [
      "(284, 5)\n"
     ]
    },
    {
     "name": "stderr",
     "output_type": "stream",
     "text": [
      "/home/lraymond/MIT/Azoulay_2016/yellow_berets/yb/lib/python2.7/site-packages/ipykernel/__main__.py:1: SettingWithCopyWarning: \n",
      "A value is trying to be set on a copy of a slice from a DataFrame.\n",
      "Try using .loc[row_indexer,col_indexer] = value instead\n",
      "\n",
      "See the caveats in the documentation: http://pandas.pydata.org/pandas-docs/stable/indexing.html#indexing-view-versus-copy\n",
      "  if __name__ == '__main__':\n"
     ]
    },
    {
     "name": "stdout",
     "output_type": "stream",
     "text": [
      "(3175520, 6)\n",
      "(4298, 113)\n",
      "(4106, 111)\n",
      "(4106, 114)\n",
      "(4106, 116)\n",
      "The autoreload extension is already loaded. To reload it, use:\n",
      "  %reload_ext autoreload\n",
      "(4106, 116)\n",
      "434.0\n",
      "174.0\n",
      "206.0\n",
      "['clean_first_initial', 'clean_middle_initial', 'clean_middle_name', 'is_female', 'medschool_year_grad', 'birth_year']\n"
     ]
    },
    {
     "name": "stderr",
     "output_type": "stream",
     "text": [
      "/home/lraymond/MIT/Azoulay_2016/yellow_berets/yellow_beret/merging_functions.py:125: SettingWithCopyWarning: \n",
      "A value is trying to be set on a copy of a slice from a DataFrame.\n",
      "Try using .loc[row_indexer,col_indexer] = value instead\n",
      "\n",
      "See the caveats in the documentation: http://pandas.pydata.org/pandas-docs/stable/indexing.html#indexing-view-versus-copy\n",
      "  df[dup_flag] = 0\n"
     ]
    },
    {
     "name": "stdout",
     "output_type": "stream",
     "text": [
      "(3445, 116)\n",
      "(31055, 21)\n"
     ]
    },
    {
     "name": "stderr",
     "output_type": "stream",
     "text": [
      "/home/lraymond/MIT/Azoulay_2016/yellow_berets/yb/local/lib/python2.7/site-packages/pandas/core/indexing.py:288: SettingWithCopyWarning: \n",
      "A value is trying to be set on a copy of a slice from a DataFrame.\n",
      "Try using .loc[row_indexer,col_indexer] = value instead\n",
      "\n",
      "See the caveats in the documentation: http://pandas.pydata.org/pandas-docs/stable/indexing.html#indexing-view-versus-copy\n",
      "  self.obj[key] = _infer_fill_value(value)\n"
     ]
    },
    {
     "name": "stdout",
     "output_type": "stream",
     "text": [
      "434.0\n",
      "9.0\n",
      "837.0\n",
      "['clean_first_initial', 'clean_first_name', 'clean_middle_initial', 'clean_middle_name', 'is_female', 'medschool_year_grad', 'birth_year', 'last_name_counts']\n",
      "(3385, 116)\n",
      "['activity_year_sim', 'clean_first_initial_sim', 'clean_first_name_sim', 'clean_middle_initial_sim', 'clean_middle_name_sim', 'grad_sim', 'last_name_counts', 'newsetnb_duplicate', 'person_uuid_duplicate']\n",
      "clean_first_name     STANLEY\n",
      "clean_middle_name    STANLEY\n",
      "Name: 778, dtype: object\n",
      "clean_first_name     RICHARD\n",
      "clean_middle_name    RICHARD\n",
      "Name: 1016, dtype: object\n",
      "clean_first_name     KENNETH\n",
      "clean_middle_name    KENNETH\n",
      "Name: 2021, dtype: object\n",
      "clean_first_name     FREDERIC\n",
      "clean_middle_name    FREDERIC\n",
      "Name: 2114, dtype: object\n",
      "clean_first_name     HERBERT\n",
      "clean_middle_name    HERBERT\n",
      "Name: 2750, dtype: object\n",
      "clean_first_name     FREDERICK\n",
      "clean_middle_name    FREDERICK\n",
      "Name: 3039, dtype: object\n",
      "clean_first_name     DOUGLAS\n",
      "clean_middle_name    DOUGLAS\n",
      "Name: 3255, dtype: object\n",
      "clean_first_name     DANIEL\n",
      "clean_middle_name    DANIEL\n",
      "Name: 3568, dtype: object\n",
      "clean_first_name     ALLAN\n",
      "clean_middle_name    ALLAN\n",
      "Name: 3993, dtype: object\n",
      "['aamc_id_2', 'application_date', 'application_year', 'application_year_1', 'application_year_2', 'application_year_3', 'associate_program_entered', 'birth_country_cd', 'birth_date', 'birth_state_cd', 'citizenship', 'clean_college', 'counts', 'death_year', 'deg', 'degree_type', 'department', 'first_grant_year', 'institution_aamc_id', 'internship_hospital_ipfcode', 'internship_hospital_std', 'med_school', 'original_medical_school', 'race', 'raw_uuid', 'raw_uuid_1', 'raw_uuid_2', 'raw_uuid_3', 'raw_uuid_4', 'raw_uuid_5', 'residency', 'residency_hospital_ipfcode', 'residency_hospital_std', 'sub_department', 'suffix', 'time_period_flag', 'to_drop']\n"
     ]
    }
   ],
   "source": [
    "# first, run the compile index card data set\n",
    "# %run 'Compile Index Card-Applicant Data Set.ipynb'\n",
    "\n",
    "# compile NIH program attendees data set\n",
    "# %run 'Compile Attendees Data Set.ipynb' - this is an old version\n",
    "# %run 'Compile and Clean NIH Applicant Data Set.ipynb'\n",
    "\n",
    "# # merge NIH and applicant data set\n",
    "# %run 'Dedupe and Standardize Index Card Data.ipynb'\n",
    "# %run 'Clean and Merge NIH Associates and Applicants.ipynb'\n",
    "\n",
    "# Now merge this file to the AAMC data\n",
    "# %run 'Import and Clean AAMC Data Set.ipynb'\n",
    "%run 'Merge AAMC Applicants Data.ipynb'\n",
    "\n",
    "%run 'Standardize Institutions.ipynb'\n",
    "%run 'Merge Applicants and Grant Data.ipynb'\n",
    "\n",
    "# generate summary stats\n",
    "# %run 'Summary Data Stats.ipynb'"
   ]
  },
  {
   "cell_type": "code",
   "execution_count": null,
   "metadata": {
    "collapsed": true,
    "scrolled": true
   },
   "outputs": [],
   "source": []
  }
 ],
 "metadata": {
  "kernelspec": {
   "display_name": "Python 2",
   "language": "python",
   "name": "python2"
  },
  "language_info": {
   "codemirror_mode": {
    "name": "ipython",
    "version": 2
   },
   "file_extension": ".py",
   "mimetype": "text/x-python",
   "name": "python",
   "nbconvert_exporter": "python",
   "pygments_lexer": "ipython2",
   "version": "2.7.12"
  }
 },
 "nbformat": 4,
 "nbformat_minor": 1
}
