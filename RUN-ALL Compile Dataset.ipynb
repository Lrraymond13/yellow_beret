{
 "cells": [
  {
   "cell_type": "code",
   "execution_count": null,
   "metadata": {
    "collapsed": false
   },
   "outputs": [
    {
     "name": "stdout",
     "output_type": "stream",
     "text": [
      "The autoreload extension is already loaded. To reload it, use:\n",
      "  %reload_ext autoreload\n",
      "(3735, 118)\n",
      "(3735, 119)\n",
      "(3735, 120)\n",
      "(3735, 119)\n",
      "(3735, 118)\n",
      "(3735, 117)\n"
     ]
    },
    {
     "name": "stderr",
     "output_type": "stream",
     "text": [
      "/home/lraymond/MIT/Azoulay_2016/yellow_berets/yb/lib/python2.7/site-packages/ipykernel/__main__.py:5: SettingWithCopyWarning: \n",
      "A value is trying to be set on a copy of a slice from a DataFrame.\n",
      "Try using .loc[row_indexer,col_indexer] = value instead\n",
      "\n",
      "See the caveats in the documentation: http://pandas.pydata.org/pandas-docs/stable/indexing.html#indexing-view-versus-copy\n"
     ]
    }
   ],
   "source": [
    "# first, run the compile index card data set\n",
    "%run 'Compile Index Card-Applicant Data Set.ipynb'\n",
    "\n",
    "# compile NIH program attendees data set\n",
    "# %run 'Compile Attendees Data Set.ipynb' - this is an old version\n",
    "%run 'Compile and Clean NIH Applicant Data Set.ipynb'\n",
    "\n",
    "# merge NIH and applicant data set\n",
    "%run 'Dedupe and Standardize Index Card Data.ipynb'\n",
    "%run 'Clean and Merge NIH Associates and Applicants.ipynb'\n",
    "\n",
    "# Now merge this file to the AAMC data\n",
    "%run 'Import and Clean AAMC Data Set.ipynb'\n",
    "%run 'Merge AAMC Applicants Data.ipynb'\n",
    "\n",
    "%run 'Standardize Institutions.ipynb'\n",
    "%run 'Merge Applicants and Grant Data.ipynb'\n",
    "\n",
    "#generate summary stats\n",
    "%run 'Summary Data Stats.ipynb'"
   ]
  },
  {
   "cell_type": "code",
   "execution_count": null,
   "metadata": {
    "collapsed": true
   },
   "outputs": [],
   "source": []
  }
 ],
 "metadata": {
  "kernelspec": {
   "display_name": "Python 2",
   "language": "python",
   "name": "python2"
  },
  "language_info": {
   "codemirror_mode": {
    "name": "ipython",
    "version": 2
   },
   "file_extension": ".py",
   "mimetype": "text/x-python",
   "name": "python",
   "nbconvert_exporter": "python",
   "pygments_lexer": "ipython2",
   "version": "2.7.12"
  }
 },
 "nbformat": 4,
 "nbformat_minor": 1
}
